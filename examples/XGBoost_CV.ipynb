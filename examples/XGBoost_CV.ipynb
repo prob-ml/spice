{
 "cells": [
  {
   "cell_type": "markdown",
   "id": "8f80a146",
   "metadata": {},
   "source": [
    "# NOTE: The notebook MAE might not accurately reflect the updated indexes for the nonresponse genes with blank genes removed."
   ]
  },
  {
   "cell_type": "code",
   "execution_count": 1,
   "id": "b61daa2c",
   "metadata": {},
   "outputs": [],
   "source": [
    "from spatial.merfish_dataset import FilteredMerfishDataset, MerfishDataset\n",
    "from spatial.models.monet_ae import MonetAutoencoder2D, TrivialAutoencoder\n",
    "from spatial.train import train\n",
    "from spatial.predict import test\n",
    "\n",
    "import time\n",
    "import numpy as np\n",
    "\n",
    "import torch\n",
    "\n",
    "from sklearn.model_selection import cross_val_score\n",
    "from sklearn.model_selection import RepeatedKFold\n",
    "from sklearn.preprocessing import StandardScaler\n",
    "\n",
    "import xgboost as xgb"
   ]
  },
  {
   "cell_type": "code",
   "execution_count": 2,
   "id": "705a432b",
   "metadata": {
    "scrolled": false
   },
   "outputs": [
    {
     "name": "stderr",
     "output_type": "stream",
     "text": [
      "/home/roko/.cache/pypoetry/virtualenvs/spatial-G_n0JvVf-py3.8/lib/python3.8/site-packages/openpyxl/worksheet/_reader.py:312: UserWarning: Unknown extension is not supported and will be removed\n",
      "  warn(msg)\n"
     ]
    },
    {
     "name": "stdout",
     "output_type": "stream",
     "text": [
      "['Cbln1', 'Cxcl14', 'Crhbp', 'Gabra1', 'Cbln2', 'Gpr165', 'Glra3', 'Gabrg1', 'Adora2a', 'Vgf', 'Scg2', 'Cartpt', 'Tac2', 'Bdnf', 'Bmp7', 'Cyr61', 'Fn1', 'Fst', 'Gad1', 'Ntng1', 'Pnoc', 'Selplg', 'Sema3c', 'Sema4d', 'Serpine1', 'Adcyap1', 'Cck', 'Crh', 'Gal', 'Gnrh1', 'Nts', 'Oxt', 'Penk', 'Sst', 'Tac1', 'Trh', 'Ucn3', 'Avpr1a', 'Avpr2', 'Brs3', 'Calcr', 'Cckar', 'Cckbr', 'Crhr1', 'Crhr2', 'Galr1', 'Galr2', 'Grpr', 'Htr2c', 'Igf1r', 'Igf2r', 'Kiss1r', 'Lepr', 'Lpar1', 'Mc4r', 'Npy1r', 'Npy2r', 'Ntsr1', 'Oprd1', 'Oprk1', 'Oprl1', 'Oxtr', 'Pdgfra', 'Prlr', 'Ramp3', 'Rxfp1', 'Slc17a7', 'Slc18a2', 'Tacr1', 'Tacr3', 'Trhr']\n",
      "There are 71 genes recognized as either ligands or receptors (including new ones).\n",
      "There are 0 blank genes.\n",
      "There are 84 genes that are treated as response variables.\n",
      "There are 31 ligands.\n",
      "There are 40 receptors.\n"
     ]
    }
   ],
   "source": [
    "# read in merfish dataset and get columns names\n",
    "import pandas as pd\n",
    "\n",
    "# get relevant data stuff\n",
    "df_file = pd.ExcelFile(\"~/spatial/data/messi.xlsx\")\n",
    "messi_df = pd.read_excel(df_file, \"All.Pairs\")\n",
    "merfish_df = pd.read_csv(\"~/spatial/data/raw/merfish.csv\")\n",
    "merfish_df = merfish_df.drop(['Blank_1', 'Blank_2', 'Blank_3', 'Blank_4', 'Blank_5', 'Fos'], axis=1)\n",
    "\n",
    "# these are the 13 ligands or receptors found in MESSI\n",
    "non_response_genes = ['Cbln1', 'Cxcl14', 'Crhbp', 'Gabra1', 'Cbln2', 'Gpr165', \n",
    "                      'Glra3', 'Gabrg1', 'Adora2a', 'Vgf', 'Scg2', 'Cartpt',\n",
    "                      'Tac2']\n",
    "# this list stores the control genes aka \"Blank_{int}\"\n",
    "blank_genes = []\n",
    "\n",
    "# we will populate all of the non-response genes as being in one or the other\n",
    "# the ones already filled in come from the existing 13 L/R genes above\n",
    "ligands = [\"Cbln1\", \"Cxcl14\", \"Cbln2\", \"Vgf\", \"Scg2\", \"Cartpt\", \"Tac2\"]\n",
    "receptors = [\"Crhbp\", \"Gabra1\", \"Gpr165\", \"Glra3\", \"Gabrg1\", \"Adora2a\"]\n",
    "\n",
    "# ligands and receptor indexes in MERFISH\n",
    "non_response_indeces = [list(merfish_df.columns).index(gene)-9 for gene in non_response_genes]\n",
    "ligand_indeces = [list(merfish_df.columns).index(gene)-9 for gene in ligands]\n",
    "receptor_indeces = [list(merfish_df.columns).index(gene)-9 for gene in receptors]\n",
    "all_pairs_columns = [\n",
    "    \"Ligand.ApprovedSymbol\",\n",
    "    \"Receptor.ApprovedSymbol\",\n",
    "]\n",
    "\n",
    "\n",
    "# for column name in the column names above\n",
    "for column in all_pairs_columns:\n",
    "    for gene in merfish_df.columns:\n",
    "        if (\n",
    "            gene.upper() in list(messi_df[column])\n",
    "            and gene.upper() not in non_response_genes\n",
    "        ):\n",
    "            non_response_genes.append(gene)\n",
    "            non_response_indeces.append(list(merfish_df.columns).index(gene)-9)\n",
    "            if column[0] == \"L\":\n",
    "                ligands.append(gene)\n",
    "                ligand_indeces.append(list(merfish_df.columns).index(gene)-9)\n",
    "            else:\n",
    "                receptors.append(gene)\n",
    "                receptor_indeces.append(list(merfish_df.columns).index(gene)-9)\n",
    "        if gene[:5] == \"Blank\" and gene not in blank_genes:\n",
    "            blank_genes.append(gene)\n",
    "            # non_response_indeces.append(list(merfish_df.columns).index(gene)-9)\n",
    "\n",
    "print(non_response_genes)\n",
    "print(\n",
    "    \"There are \"\n",
    "    + str(len(non_response_genes))\n",
    "    + \" genes recognized as either ligands or receptors (including new ones).\"\n",
    ")\n",
    "\n",
    "print(\n",
    "    \"There are \"\n",
    "    + str(len(blank_genes))\n",
    "    + \" blank genes.\"\n",
    ")\n",
    "\n",
    "print(\n",
    "    \"There are \"\n",
    "    + str(155 - len(blank_genes) - len(non_response_genes))\n",
    "    + \" genes that are treated as response variables.\"\n",
    ")\n",
    "\n",
    "print(\n",
    "    \"There are \"\n",
    "    + str(len(ligands))\n",
    "    + \" ligands.\"\n",
    ")\n",
    "\n",
    "print(\n",
    "    \"There are \"\n",
    "    + str(len(receptors))\n",
    "    + \" receptors.\"\n",
    ")\n",
    "\n",
    "response_indeces = list(set(range(155)) - set(non_response_indeces))"
   ]
  },
  {
   "cell_type": "code",
   "execution_count": 10,
   "id": "14496653",
   "metadata": {},
   "outputs": [],
   "source": [
    "response_indeces, ligand_indeces, receptor_indeces\n",
    "assert set(response_indeces) & set(ligand_indeces) == set()\n",
    "assert set(response_indeces) & set(receptor_indeces) == set()\n",
    "assert set(ligand_indeces) & set(receptor_indeces) == set()"
   ]
  },
  {
   "cell_type": "code",
   "execution_count": 16,
   "id": "b97e6175",
   "metadata": {},
   "outputs": [],
   "source": [
    "with open('../spatial/non_response_blank_removed.txt', \"r\", encoding=\"utf8\") as genes_file:\n",
    "    features = [int(x) for x in genes_file.read().split(\",\")]\n",
    "    genes_file.close()"
   ]
  },
  {
   "cell_type": "code",
   "execution_count": 23,
   "id": "70aa063a",
   "metadata": {},
   "outputs": [],
   "source": [
    "assert set(features) == set(ligand_indeces) | set(receptor_indeces)"
   ]
  },
  {
   "cell_type": "code",
   "execution_count": 24,
   "id": "9d090329",
   "metadata": {},
   "outputs": [
    {
     "data": {
      "text/plain": [
       "[15,\n",
       " 33,\n",
       " 16,\n",
       " 154,\n",
       " 146,\n",
       " 136,\n",
       " 150,\n",
       " 11,\n",
       " 12,\n",
       " 36,\n",
       " 45,\n",
       " 46,\n",
       " 49,\n",
       " 83,\n",
       " 98,\n",
       " 107,\n",
       " 108,\n",
       " 109,\n",
       " 111,\n",
       " 135,\n",
       " 137,\n",
       " 138,\n",
       " 139,\n",
       " 140,\n",
       " 143,\n",
       " 144,\n",
       " 145,\n",
       " 148,\n",
       " 149,\n",
       " 152,\n",
       " 153]"
      ]
     },
     "execution_count": 24,
     "metadata": {},
     "output_type": "execute_result"
    }
   ],
   "source": [
    "ligand_indeces"
   ]
  },
  {
   "cell_type": "code",
   "execution_count": 3,
   "id": "ce8c2bdb",
   "metadata": {},
   "outputs": [
    {
     "data": {
      "text/plain": [
       "['Cbln1',\n",
       " 'Cxcl14',\n",
       " 'Cbln2',\n",
       " 'Vgf',\n",
       " 'Scg2',\n",
       " 'Cartpt',\n",
       " 'Tac2',\n",
       " 'Bdnf',\n",
       " 'Bmp7',\n",
       " 'Cyr61',\n",
       " 'Fn1',\n",
       " 'Fst',\n",
       " 'Gad1',\n",
       " 'Ntng1',\n",
       " 'Pnoc',\n",
       " 'Selplg',\n",
       " 'Sema3c',\n",
       " 'Sema4d',\n",
       " 'Serpine1',\n",
       " 'Adcyap1',\n",
       " 'Cck',\n",
       " 'Crh',\n",
       " 'Gal',\n",
       " 'Gnrh1',\n",
       " 'Nts',\n",
       " 'Oxt',\n",
       " 'Penk',\n",
       " 'Sst',\n",
       " 'Tac1',\n",
       " 'Trh',\n",
       " 'Ucn3']"
      ]
     },
     "execution_count": 3,
     "metadata": {},
     "output_type": "execute_result"
    }
   ],
   "source": [
    "ligands"
   ]
  },
  {
   "cell_type": "code",
   "execution_count": 4,
   "id": "b63cfbf2",
   "metadata": {
    "scrolled": true
   },
   "outputs": [
    {
     "data": {
      "text/plain": [
       "['Crhbp',\n",
       " 'Gabra1',\n",
       " 'Gpr165',\n",
       " 'Glra3',\n",
       " 'Gabrg1',\n",
       " 'Adora2a',\n",
       " 'Avpr1a',\n",
       " 'Avpr2',\n",
       " 'Brs3',\n",
       " 'Calcr',\n",
       " 'Cckar',\n",
       " 'Cckbr',\n",
       " 'Crhr1',\n",
       " 'Crhr2',\n",
       " 'Galr1',\n",
       " 'Galr2',\n",
       " 'Grpr',\n",
       " 'Htr2c',\n",
       " 'Igf1r',\n",
       " 'Igf2r',\n",
       " 'Kiss1r',\n",
       " 'Lepr',\n",
       " 'Lpar1',\n",
       " 'Mc4r',\n",
       " 'Npy1r',\n",
       " 'Npy2r',\n",
       " 'Ntsr1',\n",
       " 'Oprd1',\n",
       " 'Oprk1',\n",
       " 'Oprl1',\n",
       " 'Oxtr',\n",
       " 'Pdgfra',\n",
       " 'Prlr',\n",
       " 'Ramp3',\n",
       " 'Rxfp1',\n",
       " 'Slc17a7',\n",
       " 'Slc18a2',\n",
       " 'Tacr1',\n",
       " 'Tacr3',\n",
       " 'Trhr']"
      ]
     },
     "execution_count": 4,
     "metadata": {},
     "output_type": "execute_result"
    }
   ],
   "source": [
    "receptors"
   ]
  },
  {
   "cell_type": "code",
   "execution_count": 5,
   "id": "2881db9b",
   "metadata": {},
   "outputs": [
    {
     "data": {
      "text/plain": [
       "Index(['Ace2', 'Adora2a', 'Aldh1l1', 'Amigo2', 'Ano3', 'Aqp4', 'Ar',\n",
       "       'Arhgap36', 'Avpr1a', 'Avpr2',\n",
       "       ...\n",
       "       'Penk', 'Scg2', 'Sln', 'Sst', 'Tac1', 'Tac2', 'Th', 'Trh', 'Ucn3',\n",
       "       'Vgf'],\n",
       "      dtype='object', length=155)"
      ]
     },
     "execution_count": 5,
     "metadata": {},
     "output_type": "execute_result"
    }
   ],
   "source": [
    "merfish_df.columns[9:]"
   ]
  },
  {
   "cell_type": "code",
   "execution_count": 6,
   "id": "1c3a2ce6",
   "metadata": {},
   "outputs": [
    {
     "data": {
      "text/plain": [
       "Index(['Cbln1', 'Cxcl14', 'Crhbp', 'Gabra1', 'Cbln2', 'Gpr165', 'Glra3',\n",
       "       'Gabrg1', 'Adora2a', 'Vgf', 'Scg2', 'Cartpt', 'Tac2', 'Bdnf', 'Bmp7',\n",
       "       'Cyr61', 'Fn1', 'Fst', 'Gad1', 'Ntng1', 'Pnoc', 'Selplg', 'Sema3c',\n",
       "       'Sema4d', 'Serpine1', 'Adcyap1', 'Cck', 'Crh', 'Gal', 'Gnrh1', 'Nts',\n",
       "       'Oxt', 'Penk', 'Sst', 'Tac1', 'Trh', 'Ucn3', 'Avpr1a', 'Avpr2', 'Brs3',\n",
       "       'Calcr', 'Cckar', 'Cckbr', 'Crhr1', 'Crhr2', 'Galr1', 'Galr2', 'Grpr',\n",
       "       'Htr2c', 'Igf1r', 'Igf2r', 'Kiss1r', 'Lepr', 'Lpar1', 'Mc4r', 'Npy1r',\n",
       "       'Npy2r', 'Ntsr1', 'Oprd1', 'Oprk1', 'Oprl1', 'Oxtr', 'Pdgfra', 'Prlr',\n",
       "       'Ramp3', 'Rxfp1', 'Slc17a7', 'Slc18a2', 'Tacr1', 'Tacr3', 'Trhr'],\n",
       "      dtype='object')"
      ]
     },
     "execution_count": 6,
     "metadata": {},
     "output_type": "execute_result"
    }
   ],
   "source": [
    "merfish_df.columns[9:][non_response_indeces]"
   ]
  },
  {
   "cell_type": "code",
   "execution_count": 7,
   "id": "5788566a",
   "metadata": {},
   "outputs": [],
   "source": [
    "def get_neighbors(batch_obj):\n",
    "    return [batch_obj.edge_index[:, batch_obj.edge_index[0] == i][1] for i in range(batch_obj.x.shape[0])]"
   ]
  },
  {
   "cell_type": "code",
   "execution_count": 8,
   "id": "d33c8e57",
   "metadata": {},
   "outputs": [],
   "source": [
    "def get_ligand_sum(data, neighbors_tensor, ligand_indeces):\n",
    "    return torch.tensor([np.array(data.index_select(0, neighbors).index_select(1, torch.tensor(ligand_indeces))) for neighbors in neighbors_tensor]).sum(axis=1)"
   ]
  },
  {
   "cell_type": "code",
   "execution_count": 9,
   "id": "b3249f80",
   "metadata": {},
   "outputs": [],
   "source": [
    "import torch.nn.functional as F\n",
    "\n",
    "def get_celltypes(cell_behavior_tensor, neighbors_tensor):\n",
    "    print(f\"There are {(num_classes := cell_behavior_tensor.max() + 1)} different cell types.\")\n",
    "    return [F.one_hot(cell_behavior_tensor.index_select(0, neighbors), num_classes=num_classes) for neighbors in neighbors_tensor] "
   ]
  },
  {
   "cell_type": "code",
   "execution_count": 10,
   "id": "85a20d4f",
   "metadata": {},
   "outputs": [],
   "source": [
    "def get_celltype_simplex(cell_behavior_tensor, neighbors_tensor):\n",
    "    print(f\"There are {(num_classes := cell_behavior_tensor.max() + 1)} different cell types.\")\n",
    "    return torch.cat([(torch.mean(1.0*F.one_hot(cell_behavior_tensor.index_select(0, neighbors), num_classes=num_classes), dim=0)).unsqueeze(0) for neighbors in neighbors_tensor], dim=0)"
   ]
  },
  {
   "cell_type": "code",
   "execution_count": 17,
   "id": "e16b9047",
   "metadata": {},
   "outputs": [
    {
     "name": "stdout",
     "output_type": "stream",
     "text": [
      "Original Data (1027848, 170)\n",
      "Filtered Data (205348, 170)\n",
      "data/raw/merfish_messi.hdf5\n"
     ]
    }
   ],
   "source": [
    "trial_run = FilteredMerfishDataset('data', sexes=[\"Female\"], behaviors=[\"Naive\"])"
   ]
  },
  {
   "cell_type": "code",
   "execution_count": 18,
   "id": "4303d869",
   "metadata": {},
   "outputs": [
    {
     "name": "stdout",
     "output_type": "stream",
     "text": [
      "data/raw/merfish_messi.hdf5\n"
     ]
    }
   ],
   "source": [
    "datalist = trial_run.construct_graphs(3, True)"
   ]
  },
  {
   "cell_type": "code",
   "execution_count": 19,
   "id": "ddc6c09b",
   "metadata": {
    "scrolled": true
   },
   "outputs": [
    {
     "name": "stdout",
     "output_type": "stream",
     "text": [
      "There are 16 different cell types.\n",
      "Batch: 1/23\n",
      "There are 16 different cell types.\n",
      "Batch: 2/23\n",
      "There are 16 different cell types.\n",
      "Batch: 3/23\n",
      "There are 16 different cell types.\n",
      "Batch: 4/23\n",
      "There are 16 different cell types.\n",
      "Batch: 5/23\n",
      "There are 16 different cell types.\n",
      "Batch: 6/23\n",
      "There are 16 different cell types.\n",
      "Batch: 7/23\n",
      "There are 16 different cell types.\n",
      "Batch: 8/23\n",
      "There are 16 different cell types.\n",
      "Batch: 9/23\n",
      "There are 16 different cell types.\n",
      "Batch: 10/23\n",
      "There are 16 different cell types.\n",
      "Batch: 11/23\n",
      "There are 16 different cell types.\n",
      "Batch: 12/23\n",
      "There are 16 different cell types.\n",
      "Batch: 13/23\n",
      "There are 16 different cell types.\n",
      "Batch: 14/23\n",
      "There are 16 different cell types.\n",
      "Batch: 15/23\n",
      "There are 16 different cell types.\n",
      "Batch: 16/23\n",
      "There are 16 different cell types.\n",
      "Batch: 17/23\n",
      "There are 16 different cell types.\n",
      "Batch: 18/23\n",
      "There are 16 different cell types.\n",
      "Batch: 19/23\n",
      "There are 16 different cell types.\n",
      "Batch: 20/23\n",
      "There are 16 different cell types.\n",
      "Batch: 21/23\n",
      "There are 16 different cell types.\n",
      "Batch: 22/23\n",
      "There are 16 different cell types.\n",
      "Batch: 23/23\n"
     ]
    }
   ],
   "source": [
    "import time\n",
    "\n",
    "from sklearn.model_selection import cross_val_score\n",
    "from sklearn.model_selection import RepeatedKFold\n",
    "from sklearn.preprocessing import StandardScaler\n",
    "\n",
    "scores_list = []\n",
    "\n",
    "start = time.time()\n",
    "\n",
    "train_dataset = None\n",
    "\n",
    "for batch in datalist:\n",
    "    # gene expressions of cell i\n",
    "    x = batch.x\n",
    "    # position coordinate of gene i\n",
    "    pos = batch.pos\n",
    "    bregma = torch.tensor([batch.bregma]*pos.shape[0]).reshape(-1,1)\n",
    "    \n",
    "    # behavior and cell_type\n",
    "    behavior_and_cell_type = batch.y\n",
    "    \n",
    "    # get the neighbors of the current batch\n",
    "    neighbors = get_neighbors(batch)\n",
    "    \n",
    "    # get the sum of the ligand expressions for each cell in the current batch\n",
    "    total_ligands = get_ligand_sum(x, neighbors, ligand_indeces)\n",
    "    \n",
    "    # get the proportion of celltypes as one-hot encoded vectors\n",
    "    celltype_proportions = get_celltype_simplex(behavior_and_cell_type[:, 1], neighbors)\n",
    "    \n",
    "    # combine all the data\n",
    "    X = torch.cat((torch.log1p(x[:, non_response_indeces]), total_ligands, pos, bregma, celltype_proportions), dim=1)\n",
    "    scaler = StandardScaler().fit(X)\n",
    "    X = torch.tensor(scaler.transform(X))\n",
    "    \n",
    "    if train_dataset is None:\n",
    "        train_dataset = X\n",
    "        train_Y = torch.log1p(x[:, response_indeces])\n",
    "    else:\n",
    "        train_dataset = torch.cat((train_dataset, X), dim=0)\n",
    "        train_Y = torch.cat((train_Y, torch.log1p(x[:, response_indeces])), dim=0)\n",
    "        \n",
    "    print(f\"Batch: {datalist.index(batch)+1}/{len(datalist)}\")"
   ]
  },
  {
   "cell_type": "code",
   "execution_count": 20,
   "id": "4b0278de",
   "metadata": {},
   "outputs": [],
   "source": [
    "assert train_dataset.shape[0] == train_Y.shape[0]"
   ]
  },
  {
   "cell_type": "code",
   "execution_count": 21,
   "id": "bf342061",
   "metadata": {},
   "outputs": [
    {
     "name": "stdout",
     "output_type": "stream",
     "text": [
      "data/raw/merfish_messi.hdf5\n"
     ]
    }
   ],
   "source": [
    "test_datalist = trial_run.construct_graphs(3, False)"
   ]
  },
  {
   "cell_type": "code",
   "execution_count": 22,
   "id": "ce51187e",
   "metadata": {
    "scrolled": true
   },
   "outputs": [
    {
     "name": "stdout",
     "output_type": "stream",
     "text": [
      "There are 16 different cell types.\n",
      "6509 6509\n",
      "Batch: 1/12\n",
      "There are 16 different cell types.\n",
      "Batch: 2/12\n",
      "There are 16 different cell types.\n",
      "Batch: 3/12\n",
      "There are 16 different cell types.\n",
      "Batch: 4/12\n",
      "There are 16 different cell types.\n",
      "Batch: 5/12\n",
      "There are 16 different cell types.\n",
      "Batch: 6/12\n",
      "There are 16 different cell types.\n",
      "Batch: 7/12\n",
      "There are 16 different cell types.\n",
      "Batch: 8/12\n",
      "There are 16 different cell types.\n",
      "Batch: 9/12\n",
      "There are 16 different cell types.\n",
      "Batch: 10/12\n",
      "There are 16 different cell types.\n",
      "Batch: 11/12\n",
      "There are 16 different cell types.\n",
      "Batch: 12/12\n"
     ]
    }
   ],
   "source": [
    "scores_list = []\n",
    "\n",
    "test_dataset = None\n",
    "\n",
    "for batch in test_datalist:\n",
    "    # gene expressions of cell i\n",
    "    x = batch.x\n",
    "    # position coordinate of gene i\n",
    "    pos = batch.pos\n",
    "    bregma = torch.tensor([batch.bregma]*pos.shape[0]).reshape(-1,1)\n",
    "    \n",
    "    # behavior and cell_type\n",
    "    behavior_and_cell_type = batch.y\n",
    "    \n",
    "    # get the neighbors of the current batch\n",
    "    neighbors = get_neighbors(batch)\n",
    "    \n",
    "    # get the sum of the ligand expressions for each cell in the current batch\n",
    "    total_ligands = get_ligand_sum(x, neighbors, ligand_indeces)\n",
    "    \n",
    "    # get the proportion of celltypes as one-hot encoded vectors\n",
    "    celltype_proportions = get_celltype_simplex(behavior_and_cell_type[:, 1], neighbors)\n",
    "    \n",
    "    # combine all the data\n",
    "    test_X = torch.cat((torch.log1p(x[:, non_response_indeces]), total_ligands, pos, bregma, celltype_proportions), dim=1)\n",
    "    \n",
    "    # standardize the data using TRAINING mean and sd.\n",
    "    test_X = torch.index_select(test_X, 0, excitatory_cells)\n",
    "    test_X = torch.tensor(scaler.transform(test_X))\n",
    "    \n",
    "    if test_dataset is None:\n",
    "        test_dataset = test_X\n",
    "        test_Y = torch.log1p(x[:, response_indeces])\n",
    "        print(test_dataset.shape[0], test_Y.shape[0])\n",
    "    else:\n",
    "        test_dataset = torch.cat((test_dataset, test_X), dim=0)\n",
    "        test_Y = torch.cat((test_Y, torch.log1p(x[:, response_indeces])), dim=0)\n",
    "        \n",
    "    print(f\"Batch: {test_datalist.index(batch)+1}/{len(test_datalist)}\")"
   ]
  },
  {
   "cell_type": "code",
   "execution_count": 23,
   "id": "608c9246",
   "metadata": {
    "scrolled": true
   },
   "outputs": [],
   "source": [
    "assert test_dataset.shape[0] == test_Y.shape[0]"
   ]
  },
  {
   "cell_type": "code",
   "execution_count": 28,
   "id": "0ce0c347",
   "metadata": {},
   "outputs": [
    {
     "name": "stdout",
     "output_type": "stream",
     "text": [
      "tensor(0.2220)\n",
      "Response Gene: 1/1\n",
      "216.47389388084412\n"
     ]
    }
   ],
   "source": [
    "model_list = []\n",
    "MAE_list = []\n",
    "\n",
    "# for each response gene in our response matrix....\n",
    "for i in range(train_Y.shape[1]):\n",
    "    \n",
    "    # create response gene variables\n",
    "    y_i_train = train_Y[:, i]\n",
    "    y_i_test = test_Y[:, i]\n",
    "    \n",
    "    # create XGBoost Regression Model\n",
    "    model = xgb.XGBRegressor(tree_method=\"approx\", nthread=1)\n",
    "\n",
    "    # fit the regression model and add it to model list\n",
    "    # print(train_dataset.shape, y_i_train.shape)\n",
    "    model.fit(np.array(train_dataset), np.array(y_i_train))\n",
    "    model_list.append((f\"Gene {i}\", model_list))\n",
    "\n",
    "    # run the testing data through the model\n",
    "    test_output = torch.tensor(model.predict(np.array(test_dataset)))\n",
    "    \n",
    "    # collect its MAE\n",
    "    MAE_list.append(F.l1_loss(test_output, y_i_test))\n",
    "    print(MAE_list[-1])\n",
    "    \n",
    "    print(f\"Response Gene: {i+1}/{train_Y.shape[1]}\")\n",
    "\n",
    "end = time.time()\n",
    "print(end-start)"
   ]
  },
  {
   "cell_type": "code",
   "execution_count": 46,
   "id": "bd627087",
   "metadata": {},
   "outputs": [
    {
     "data": {
      "text/plain": [
       "torch.Size([131693, 121])"
      ]
     },
     "execution_count": 46,
     "metadata": {},
     "output_type": "execute_result"
    }
   ],
   "source": [
    "train_dataset.shape"
   ]
  },
  {
   "cell_type": "code",
   "execution_count": 47,
   "id": "9a7e54f6",
   "metadata": {},
   "outputs": [
    {
     "data": {
      "text/plain": [
       "torch.Size([73655, 121])"
      ]
     },
     "execution_count": 47,
     "metadata": {},
     "output_type": "execute_result"
    }
   ],
   "source": [
    "test_dataset.shape"
   ]
  },
  {
   "cell_type": "code",
   "execution_count": 52,
   "id": "8f9b5aad",
   "metadata": {},
   "outputs": [
    {
     "data": {
      "text/plain": [
       "0.23543492"
      ]
     },
     "execution_count": 52,
     "metadata": {},
     "output_type": "execute_result"
    }
   ],
   "source": [
    "np.array(MAE_list).mean()"
   ]
  },
  {
   "cell_type": "code",
   "execution_count": 67,
   "id": "4af907d5",
   "metadata": {
    "scrolled": false
   },
   "outputs": [
    {
     "data": {
      "image/png": "[encoded data removed]",
      "text/plain": [
       "<Figure size 432x288 with 1 Axes>"
      ]
     },
     "metadata": {
      "needs_background": "light"
     },
     "output_type": "display_data"
    }
   ],
   "source": [
    "import seaborn as sns\n",
    "\n",
    "ax = sns.boxplot(data=np.array(MAE_list).reshape(1,-1))"
   ]
  },
  {
   "cell_type": "markdown",
   "id": "ae03e13a",
   "metadata": {},
   "source": [
    "# XGBoost on Excitatory Cells Only"
   ]
  },
  {
   "cell_type": "code",
   "execution_count": 65,
   "id": "1f552476",
   "metadata": {},
   "outputs": [],
   "source": [
    "assert list(merfish_df.columns[9:]).index(\"Ace2\") == 0"
   ]
  },
  {
   "cell_type": "code",
   "execution_count": 66,
   "id": "bec59b14",
   "metadata": {},
   "outputs": [
    {
     "name": "stdout",
     "output_type": "stream",
     "text": [
      "Original Data (1027848, 170)\n",
      "Filtered Data (205348, 170)\n",
      "data/raw/merfish_messi.hdf5\n"
     ]
    }
   ],
   "source": [
    "trial_run = FilteredMerfishDataset('data', sexes=[\"Female\"], behaviors=[\"Naive\"])"
   ]
  },
  {
   "cell_type": "code",
   "execution_count": 67,
   "id": "0196c557",
   "metadata": {},
   "outputs": [
    {
     "name": "stdout",
     "output_type": "stream",
     "text": [
      "data/raw/merfish_messi.hdf5\n"
     ]
    }
   ],
   "source": [
    "datalist = trial_run.construct_graphs(3, True)"
   ]
  },
  {
   "cell_type": "code",
   "execution_count": 68,
   "id": "367e2cec",
   "metadata": {
    "scrolled": true
   },
   "outputs": [
    {
     "name": "stdout",
     "output_type": "stream",
     "text": [
      "There are 16 different cell types.\n",
      "Batch: 1/23\n",
      "There are 16 different cell types.\n",
      "Batch: 2/23\n",
      "There are 16 different cell types.\n",
      "Batch: 3/23\n",
      "There are 16 different cell types.\n",
      "Batch: 4/23\n",
      "There are 16 different cell types.\n",
      "Batch: 5/23\n",
      "There are 16 different cell types.\n",
      "Batch: 6/23\n",
      "There are 16 different cell types.\n",
      "Batch: 7/23\n",
      "There are 16 different cell types.\n",
      "Batch: 8/23\n",
      "There are 16 different cell types.\n",
      "Batch: 9/23\n",
      "There are 16 different cell types.\n",
      "Batch: 10/23\n",
      "There are 16 different cell types.\n",
      "Batch: 11/23\n",
      "There are 16 different cell types.\n",
      "Batch: 12/23\n",
      "There are 16 different cell types.\n",
      "Batch: 13/23\n",
      "There are 16 different cell types.\n",
      "Batch: 14/23\n",
      "There are 16 different cell types.\n",
      "Batch: 15/23\n",
      "There are 16 different cell types.\n",
      "Batch: 16/23\n",
      "There are 16 different cell types.\n",
      "Batch: 17/23\n",
      "There are 16 different cell types.\n",
      "Batch: 18/23\n",
      "There are 16 different cell types.\n",
      "Batch: 19/23\n",
      "There are 16 different cell types.\n",
      "Batch: 20/23\n",
      "There are 16 different cell types.\n",
      "Batch: 21/23\n",
      "There are 16 different cell types.\n",
      "Batch: 22/23\n",
      "There are 16 different cell types.\n",
      "Batch: 23/23\n"
     ]
    }
   ],
   "source": [
    "import time\n",
    "\n",
    "from sklearn.model_selection import cross_val_score\n",
    "from sklearn.model_selection import RepeatedKFold\n",
    "from sklearn.preprocessing import StandardScaler\n",
    "\n",
    "scores_list = []\n",
    "\n",
    "start = time.time()\n",
    "\n",
    "train_dataset = None\n",
    "\n",
    "for batch in datalist:\n",
    "    # gene expressions of cell i\n",
    "    x = batch.x\n",
    "    # position coordinate of gene i\n",
    "    pos = batch.pos\n",
    "    bregma = torch.tensor([batch.bregma]*pos.shape[0]).reshape(-1,1)\n",
    "    \n",
    "    # behavior and cell_type\n",
    "    behavior_and_cell_type = batch.y\n",
    "    \n",
    "    # get the neighbors of the current batch\n",
    "    neighbors = get_neighbors(batch)\n",
    "    \n",
    "    # get the sum of the ligand expressions for each cell in the current batch\n",
    "    total_ligands = get_ligand_sum(x, neighbors, ligand_indeces)\n",
    "    \n",
    "    # get the proportion of celltypes as one-hot encoded vectors\n",
    "    celltype_proportions = get_celltype_simplex(behavior_and_cell_type[:, 1], neighbors)\n",
    "    \n",
    "    # combine all the data\n",
    "    X = torch.cat((torch.log1p(x[:, non_response_indeces]), total_ligands, pos, bregma, celltype_proportions), dim=1)\n",
    "    excitatory_cells = (behavior_and_cell_type[:, 1] == 6).nonzero(as_tuple=True)[0]\n",
    "    X = torch.index_select(X, 0, excitatory_cells)\n",
    "    scaler = StandardScaler().fit(X)\n",
    "    X = torch.tensor(scaler.transform(X))\n",
    "    \n",
    "    if train_dataset is None:\n",
    "        train_dataset = X\n",
    "        train_Y = torch.index_select(torch.log1p(x[:, 0]), 0, excitatory_cells)\n",
    "    else:\n",
    "        train_dataset = torch.cat((train_dataset, X), dim=0)\n",
    "        train_Y = torch.cat((train_Y, torch.index_select(torch.log1p(x[:, 0]), 0, excitatory_cells)), dim=0)\n",
    "        \n",
    "    print(f\"Batch: {datalist.index(batch)+1}/{len(datalist)}\")"
   ]
  },
  {
   "cell_type": "code",
   "execution_count": 69,
   "id": "94c3dde6",
   "metadata": {},
   "outputs": [],
   "source": [
    "assert train_dataset.shape[0] == train_Y.shape[0]"
   ]
  },
  {
   "cell_type": "code",
   "execution_count": 70,
   "id": "4950576b",
   "metadata": {},
   "outputs": [
    {
     "name": "stdout",
     "output_type": "stream",
     "text": [
      "data/raw/merfish_messi.hdf5\n"
     ]
    }
   ],
   "source": [
    "test_datalist = trial_run.construct_graphs(3, False)"
   ]
  },
  {
   "cell_type": "code",
   "execution_count": 83,
   "id": "d2a95ca0",
   "metadata": {
    "scrolled": true
   },
   "outputs": [
    {
     "name": "stdout",
     "output_type": "stream",
     "text": [
      "There are 16 different cell types.\n",
      "1319 1319\n",
      "Batch: 1/12\n",
      "There are 16 different cell types.\n",
      "Batch: 2/12\n",
      "There are 16 different cell types.\n",
      "Batch: 3/12\n",
      "There are 16 different cell types.\n",
      "Batch: 4/12\n",
      "There are 16 different cell types.\n",
      "Batch: 5/12\n",
      "There are 16 different cell types.\n",
      "Batch: 6/12\n",
      "There are 16 different cell types.\n",
      "Batch: 7/12\n",
      "There are 16 different cell types.\n",
      "Batch: 8/12\n",
      "There are 16 different cell types.\n",
      "Batch: 9/12\n",
      "There are 16 different cell types.\n",
      "Batch: 10/12\n",
      "There are 16 different cell types.\n",
      "Batch: 11/12\n",
      "There are 16 different cell types.\n",
      "Batch: 12/12\n",
      "tensor(0.0770)\n"
     ]
    }
   ],
   "source": [
    "scores_list = []\n",
    "\n",
    "test_dataset = None\n",
    "\n",
    "for batch in test_datalist:\n",
    "    # gene expressions of cell i\n",
    "    x = batch.x\n",
    "    # position coordinate of gene i\n",
    "    pos = batch.pos\n",
    "    bregma = torch.tensor([batch.bregma]*pos.shape[0]).reshape(-1,1)\n",
    "    \n",
    "    # behavior and cell_type\n",
    "    behavior_and_cell_type = batch.y\n",
    "    \n",
    "    # get the neighbors of the current batch\n",
    "    neighbors = get_neighbors(batch)\n",
    "    \n",
    "    # get the sum of the ligand expressions for each cell in the current batch\n",
    "    total_ligands = get_ligand_sum(x, neighbors, ligand_indeces)\n",
    "    \n",
    "    # get the proportion of celltypes as one-hot encoded vectors\n",
    "    celltype_proportions = get_celltype_simplex(behavior_and_cell_type[:, 1], neighbors)\n",
    "    \n",
    "    # combine all the data\n",
    "    test_X = torch.cat((torch.log1p(x[:, non_response_indeces]), total_ligands, pos, bregma, celltype_proportions), dim=1)\n",
    "    \n",
    "    # standardize the data using TRAINING mean and sd.\n",
    "    excitatory_cells = (behavior_and_cell_type[:, 1] == 6).nonzero(as_tuple=True)[0]\n",
    "    test_X = torch.index_select(test_X, 0, excitatory_cells)\n",
    "    test_X = torch.tensor(scaler.transform(test_X))\n",
    "    \n",
    "    if test_dataset is None:\n",
    "        test_dataset = test_X\n",
    "        test_Y = torch.index_select(torch.log1p(x[:, 0]), 0, excitatory_cells)\n",
    "        print(test_dataset.shape[0], test_Y.shape[0])\n",
    "    else:\n",
    "        test_dataset = torch.cat((test_dataset, test_X), dim=0)\n",
    "        test_Y = torch.cat((test_Y, torch.index_select(torch.log1p(x[:, 0]), 0, excitatory_cells)), dim=0)\n",
    "        \n",
    "    print(f\"Batch: {test_datalist.index(batch)+1}/{len(test_datalist)}\")"
   ]
  },
  {
   "cell_type": "code",
   "execution_count": 72,
   "id": "f8105eb5",
   "metadata": {},
   "outputs": [],
   "source": [
    "train_Y = train_Y.reshape(-1,1)\n",
    "test_Y = test_Y.reshape(-1,1)"
   ]
  },
  {
   "cell_type": "code",
   "execution_count": 73,
   "id": "b871bee7",
   "metadata": {
    "scrolled": true
   },
   "outputs": [],
   "source": [
    "assert test_dataset.shape[0] == test_Y.shape[0]"
   ]
  },
  {
   "cell_type": "code",
   "execution_count": 74,
   "id": "ec3d35b7",
   "metadata": {},
   "outputs": [
    {
     "name": "stdout",
     "output_type": "stream",
     "text": [
      "tensor(0.1569)\n",
      "Response Gene: 1/1\n",
      "36.7490291595459\n"
     ]
    }
   ],
   "source": [
    "model_list = []\n",
    "MAE_list = []\n",
    "\n",
    "# for each response gene in our response matrix....\n",
    "for i in range(train_Y.shape[1]):\n",
    "    \n",
    "    # create response gene variables\n",
    "    y_i_train = train_Y[:, i]\n",
    "    y_i_test = test_Y[:, i]\n",
    "    \n",
    "    # create XGBoost Regression Model\n",
    "    model = xgb.XGBRegressor(tree_method=\"approx\", nthread=1)\n",
    "\n",
    "    # fit the regression model and add it to model list\n",
    "    # print(train_dataset.shape, y_i_train.shape)\n",
    "    model.fit(np.array(train_dataset), np.array(y_i_train))\n",
    "    model_list.append((f\"Gene {i}\", model_list))\n",
    "\n",
    "    # run the testing data through the model\n",
    "    test_output = torch.tensor(model.predict(np.array(test_dataset)))\n",
    "    \n",
    "    # collect its MAE\n",
    "    MAE_list.append(F.l1_loss(test_output, y_i_test))\n",
    "    print(MAE_list[-1])\n",
    "    \n",
    "    print(f\"Response Gene: {i+1}/{train_Y.shape[1]}\")\n",
    "\n",
    "end = time.time()\n",
    "print(end-start)"
   ]
  },
  {
   "cell_type": "code",
   "execution_count": 75,
   "id": "59da7967",
   "metadata": {},
   "outputs": [
    {
     "data": {
      "text/plain": [
       "torch.Size([19855, 121])"
      ]
     },
     "execution_count": 75,
     "metadata": {},
     "output_type": "execute_result"
    }
   ],
   "source": [
    "train_dataset.shape"
   ]
  },
  {
   "cell_type": "code",
   "execution_count": 76,
   "id": "4f9e7cf8",
   "metadata": {},
   "outputs": [
    {
     "data": {
      "text/plain": [
       "torch.Size([11757, 121])"
      ]
     },
     "execution_count": 76,
     "metadata": {},
     "output_type": "execute_result"
    }
   ],
   "source": [
    "test_dataset.shape"
   ]
  },
  {
   "cell_type": "code",
   "execution_count": 77,
   "id": "403d89f5",
   "metadata": {},
   "outputs": [
    {
     "data": {
      "text/plain": [
       "0.15692881"
      ]
     },
     "execution_count": 77,
     "metadata": {},
     "output_type": "execute_result"
    }
   ],
   "source": [
    "np.array(MAE_list).mean()"
   ]
  },
  {
   "cell_type": "code",
   "execution_count": 78,
   "id": "a0078119",
   "metadata": {},
   "outputs": [
    {
     "data": {
      "text/plain": [
       "(tensor(0.0770), tensor(0.1839))"
      ]
     },
     "execution_count": 78,
     "metadata": {},
     "output_type": "execute_result"
    }
   ],
   "source": [
    "torch.mean(y_i_test), torch.std(y_i_test)"
   ]
  },
  {
   "cell_type": "code",
   "execution_count": 79,
   "id": "4836cf99",
   "metadata": {},
   "outputs": [
    {
     "data": {
      "text/plain": [
       "(tensor(0.0842), tensor(0.1862))"
      ]
     },
     "execution_count": 79,
     "metadata": {},
     "output_type": "execute_result"
    }
   ],
   "source": [
    "torch.mean(y_i_train), torch.std(y_i_train)"
   ]
  },
  {
   "cell_type": "code",
   "execution_count": 60,
   "id": "53e34c5d",
   "metadata": {},
   "outputs": [
    {
     "data": {
      "text/plain": [
       "torch.Size([19855])"
      ]
     },
     "execution_count": 60,
     "metadata": {},
     "output_type": "execute_result"
    }
   ],
   "source": [
    "y_i_train.shape"
   ]
  },
  {
   "cell_type": "code",
   "execution_count": 61,
   "id": "8fff3895",
   "metadata": {},
   "outputs": [
    {
     "data": {
      "text/plain": [
       "torch.Size([11757])"
      ]
     },
     "execution_count": 61,
     "metadata": {},
     "output_type": "execute_result"
    }
   ],
   "source": [
    "y_i_test.shape"
   ]
  },
  {
   "cell_type": "code",
   "execution_count": 64,
   "id": "67707d4f",
   "metadata": {
    "scrolled": true
   },
   "outputs": [
    {
     "data": {
      "text/plain": [
       "[0,\n",
       " 2,\n",
       " 3,\n",
       " 4,\n",
       " 5,\n",
       " 6,\n",
       " 7,\n",
       " 10,\n",
       " 19,\n",
       " 20,\n",
       " 21,\n",
       " 22,\n",
       " 23,\n",
       " 24,\n",
       " 25,\n",
       " 26,\n",
       " 27,\n",
       " 28,\n",
       " 32,\n",
       " 34,\n",
       " 35,\n",
       " 37,\n",
       " 38,\n",
       " 39,\n",
       " 40,\n",
       " 41,\n",
       " 42,\n",
       " 43,\n",
       " 44,\n",
       " 52,\n",
       " 53,\n",
       " 54,\n",
       " 55,\n",
       " 58,\n",
       " 63,\n",
       " 64,\n",
       " 66,\n",
       " 67,\n",
       " 69,\n",
       " 71,\n",
       " 73,\n",
       " 74,\n",
       " 75,\n",
       " 76,\n",
       " 77,\n",
       " 78,\n",
       " 79,\n",
       " 80,\n",
       " 85,\n",
       " 86,\n",
       " 87,\n",
       " 88,\n",
       " 93,\n",
       " 94,\n",
       " 96,\n",
       " 97,\n",
       " 99,\n",
       " 102,\n",
       " 103,\n",
       " 104,\n",
       " 106,\n",
       " 110,\n",
       " 112,\n",
       " 113,\n",
       " 114,\n",
       " 116,\n",
       " 118,\n",
       " 119,\n",
       " 120,\n",
       " 121,\n",
       " 122,\n",
       " 123,\n",
       " 124,\n",
       " 125,\n",
       " 126,\n",
       " 129,\n",
       " 130,\n",
       " 131,\n",
       " 133,\n",
       " 134,\n",
       " 141,\n",
       " 142,\n",
       " 147,\n",
       " 151]"
      ]
     },
     "execution_count": 64,
     "metadata": {},
     "output_type": "execute_result"
    }
   ],
   "source": [
    "response_indeces"
   ]
  },
  {
   "cell_type": "markdown",
   "id": "b600ba0e",
   "metadata": {},
   "source": [
    "# NOTE: The notebook MAE might not accurately reflect the updated indexes for the nonresponse genes with blank genes removed."
   ]
  },
  {
   "cell_type": "code",
   "execution_count": 1,
   "id": "9a0596e3",
   "metadata": {},
   "outputs": [],
   "source": [
    "from spatial.merfish_dataset import FilteredMerfishDataset, MerfishDataset\n",
    "from spatial.models.monet_ae import MonetAutoencoder2D, TrivialAutoencoder\n",
    "from spatial.train import train\n",
    "from spatial.predict import test\n",
    "\n",
    "import time\n",
    "import numpy as np\n",
    "\n",
    "import torch\n",
    "\n",
    "from sklearn.model_selection import cross_val_score\n",
    "from sklearn.model_selection import RepeatedKFold\n",
    "from sklearn.preprocessing import StandardScaler\n",
    "\n",
    "import xgboost as xgb"
   ]
  },
  {
   "cell_type": "code",
   "execution_count": 63,
   "id": "2ea44254",
   "metadata": {
    "scrolled": false
   },
   "outputs": [
    {
     "name": "stderr",
     "output_type": "stream",
     "text": [
      "/home/roko/.cache/pypoetry/virtualenvs/spatial-G_n0JvVf-py3.8/lib/python3.8/site-packages/openpyxl/worksheet/_reader.py:312: UserWarning: Unknown extension is not supported and will be removed\n",
      "  warn(msg)\n"
     ]
    },
    {
     "name": "stdout",
     "output_type": "stream",
     "text": [
      "['Cbln1', 'Cxcl14', 'Crhbp', 'Gabra1', 'Cbln2', 'Gpr165', 'Glra3', 'Gabrg1', 'Adora2a', 'Vgf', 'Scg2', 'Cartpt', 'Tac2', 'Bdnf', 'Bmp7', 'Cyr61', 'Fn1', 'Fst', 'Gad1', 'Ntng1', 'Pnoc', 'Selplg', 'Sema3c', 'Sema4d', 'Serpine1', 'Adcyap1', 'Cck', 'Crh', 'Gal', 'Gnrh1', 'Nts', 'Oxt', 'Penk', 'Sst', 'Tac1', 'Trh', 'Ucn3', 'Avpr1a', 'Avpr2', 'Brs3', 'Calcr', 'Cckar', 'Cckbr', 'Crhr1', 'Crhr2', 'Galr1', 'Galr2', 'Grpr', 'Htr2c', 'Igf1r', 'Igf2r', 'Kiss1r', 'Lepr', 'Lpar1', 'Mc4r', 'Npy1r', 'Npy2r', 'Ntsr1', 'Oprd1', 'Oprk1', 'Oprl1', 'Oxtr', 'Pdgfra', 'Prlr', 'Ramp3', 'Rxfp1', 'Slc17a7', 'Slc18a2', 'Tacr1', 'Tacr3', 'Trhr']\n",
      "There are 71 genes recognized as either ligands or receptors (including new ones).\n",
      "There are 0 blank genes.\n",
      "There are 84 genes that are treated as response variables.\n",
      "There are 31 ligands.\n",
      "There are 40 receptors.\n"
     ]
    }
   ],
   "source": [
    "# read in merfish dataset and get columns names\n",
    "import pandas as pd\n",
    "\n",
    "# get relevant data stuff\n",
    "df_file = pd.ExcelFile(\"~/spatial/data/messi.xlsx\")\n",
    "messi_df = pd.read_excel(df_file, \"All.Pairs\")\n",
    "merfish_df = pd.read_csv(\"~/spatial/data/raw/merfish.csv\")\n",
    "merfish_df = merfish_df.drop(['Blank_1', 'Blank_2', 'Blank_3', 'Blank_4', 'Blank_5', 'Fos'], axis=1)\n",
    "\n",
    "# these are the 13 ligands or receptors found in MESSI\n",
    "non_response_genes = ['Cbln1', 'Cxcl14', 'Crhbp', 'Gabra1', 'Cbln2', 'Gpr165', \n",
    "                      'Glra3', 'Gabrg1', 'Adora2a', 'Vgf', 'Scg2', 'Cartpt',\n",
    "                      'Tac2']\n",
    "# this list stores the control genes aka \"Blank_{int}\"\n",
    "blank_genes = []\n",
    "\n",
    "# we will populate all of the non-response genes as being in one or the other\n",
    "# the ones already filled in come from the existing 13 L/R genes above\n",
    "ligands = [\"Cbln1\", \"Cxcl14\", \"Cbln2\", \"Vgf\", \"Scg2\", \"Cartpt\", \"Tac2\"]\n",
    "receptors = [\"Crhbp\", \"Gabra1\", \"Gpr165\", \"Glra3\", \"Gabrg1\", \"Adora2a\"]\n",
    "\n",
    "# ligands and receptor indexes in MERFISH\n",
    "non_response_indeces = [list(merfish_df.columns).index(gene)-9 for gene in non_response_genes]\n",
    "ligand_indeces = [list(merfish_df.columns).index(gene)-9 for gene in ligands]\n",
    "receptor_indeces = [list(merfish_df.columns).index(gene)-9 for gene in receptors]\n",
    "all_pairs_columns = [\n",
    "    \"Ligand.ApprovedSymbol\",\n",
    "    \"Receptor.ApprovedSymbol\",\n",
    "]\n",
    "\n",
    "\n",
    "# for column name in the column names above\n",
    "for column in all_pairs_columns:\n",
    "    for gene in merfish_df.columns:\n",
    "        if (\n",
    "            gene.upper() in list(messi_df[column])\n",
    "            and gene.upper() not in non_response_genes\n",
    "        ):\n",
    "            non_response_genes.append(gene)\n",
    "            non_response_indeces.append(list(merfish_df.columns).index(gene)-9)\n",
    "            if column[0] == \"L\":\n",
    "                ligands.append(gene)\n",
    "                ligand_indeces.append(list(merfish_df.columns).index(gene)-9)\n",
    "            else:\n",
    "                receptors.append(gene)\n",
    "                receptor_indeces.append(list(merfish_df.columns).index(gene)-9)\n",
    "        if gene[:5] == \"Blank\" and gene not in blank_genes:\n",
    "            blank_genes.append(gene)\n",
    "            # non_response_indeces.append(list(merfish_df.columns).index(gene)-9)\n",
    "\n",
    "print(non_response_genes)\n",
    "print(\n",
    "    \"There are \"\n",
    "    + str(len(non_response_genes))\n",
    "    + \" genes recognized as either ligands or receptors (including new ones).\"\n",
    ")\n",
    "\n",
    "print(\n",
    "    \"There are \"\n",
    "    + str(len(blank_genes))\n",
    "    + \" blank genes.\"\n",
    ")\n",
    "\n",
    "print(\n",
    "    \"There are \"\n",
    "    + str(155 - len(blank_genes) - len(non_response_genes))\n",
    "    + \" genes that are treated as response variables.\"\n",
    ")\n",
    "\n",
    "print(\n",
    "    \"There are \"\n",
    "    + str(len(ligands))\n",
    "    + \" ligands.\"\n",
    ")\n",
    "\n",
    "print(\n",
    "    \"There are \"\n",
    "    + str(len(receptors))\n",
    "    + \" receptors.\"\n",
    ")\n",
    "\n",
    "response_indeces = list(set(range(155)) - set(non_response_indeces))"
   ]
  },
  {
   "cell_type": "code",
   "execution_count": 3,
   "id": "4cdc5a5d",
   "metadata": {},
   "outputs": [
    {
     "data": {
      "text/plain": [
       "['Cbln1',\n",
       " 'Cxcl14',\n",
       " 'Cbln2',\n",
       " 'Vgf',\n",
       " 'Scg2',\n",
       " 'Cartpt',\n",
       " 'Tac2',\n",
       " 'Bdnf',\n",
       " 'Bmp7',\n",
       " 'Cyr61',\n",
       " 'Fn1',\n",
       " 'Fst',\n",
       " 'Gad1',\n",
       " 'Ntng1',\n",
       " 'Pnoc',\n",
       " 'Selplg',\n",
       " 'Sema3c',\n",
       " 'Sema4d',\n",
       " 'Serpine1',\n",
       " 'Adcyap1',\n",
       " 'Cck',\n",
       " 'Crh',\n",
       " 'Gal',\n",
       " 'Gnrh1',\n",
       " 'Nts',\n",
       " 'Oxt',\n",
       " 'Penk',\n",
       " 'Sst',\n",
       " 'Tac1',\n",
       " 'Trh',\n",
       " 'Ucn3']"
      ]
     },
     "execution_count": 3,
     "metadata": {},
     "output_type": "execute_result"
    }
   ],
   "source": [
    "ligands"
   ]
  },
  {
   "cell_type": "code",
   "execution_count": 4,
   "id": "52c0bf35",
   "metadata": {
    "scrolled": true
   },
   "outputs": [
    {
     "data": {
      "text/plain": [
       "['Crhbp',\n",
       " 'Gabra1',\n",
       " 'Gpr165',\n",
       " 'Glra3',\n",
       " 'Gabrg1',\n",
       " 'Adora2a',\n",
       " 'Avpr1a',\n",
       " 'Avpr2',\n",
       " 'Brs3',\n",
       " 'Calcr',\n",
       " 'Cckar',\n",
       " 'Cckbr',\n",
       " 'Crhr1',\n",
       " 'Crhr2',\n",
       " 'Galr1',\n",
       " 'Galr2',\n",
       " 'Grpr',\n",
       " 'Htr2c',\n",
       " 'Igf1r',\n",
       " 'Igf2r',\n",
       " 'Kiss1r',\n",
       " 'Lepr',\n",
       " 'Lpar1',\n",
       " 'Mc4r',\n",
       " 'Npy1r',\n",
       " 'Npy2r',\n",
       " 'Ntsr1',\n",
       " 'Oprd1',\n",
       " 'Oprk1',\n",
       " 'Oprl1',\n",
       " 'Oxtr',\n",
       " 'Pdgfra',\n",
       " 'Prlr',\n",
       " 'Ramp3',\n",
       " 'Rxfp1',\n",
       " 'Slc17a7',\n",
       " 'Slc18a2',\n",
       " 'Tacr1',\n",
       " 'Tacr3',\n",
       " 'Trhr']"
      ]
     },
     "execution_count": 4,
     "metadata": {},
     "output_type": "execute_result"
    }
   ],
   "source": [
    "receptors"
   ]
  },
  {
   "cell_type": "code",
   "execution_count": 5,
   "id": "1d86fd2b",
   "metadata": {},
   "outputs": [
    {
     "data": {
      "text/plain": [
       "Index(['Ace2', 'Adora2a', 'Aldh1l1', 'Amigo2', 'Ano3', 'Aqp4', 'Ar',\n",
       "       'Arhgap36', 'Avpr1a', 'Avpr2',\n",
       "       ...\n",
       "       'Penk', 'Scg2', 'Sln', 'Sst', 'Tac1', 'Tac2', 'Th', 'Trh', 'Ucn3',\n",
       "       'Vgf'],\n",
       "      dtype='object', length=155)"
      ]
     },
     "execution_count": 5,
     "metadata": {},
     "output_type": "execute_result"
    }
   ],
   "source": [
    "merfish_df.columns[9:]"
   ]
  },
  {
   "cell_type": "code",
   "execution_count": 6,
   "id": "e7c8994f",
   "metadata": {},
   "outputs": [
    {
     "data": {
      "text/plain": [
       "Index(['Cbln1', 'Cxcl14', 'Crhbp', 'Gabra1', 'Cbln2', 'Gpr165', 'Glra3',\n",
       "       'Gabrg1', 'Adora2a', 'Vgf', 'Scg2', 'Cartpt', 'Tac2', 'Bdnf', 'Bmp7',\n",
       "       'Cyr61', 'Fn1', 'Fst', 'Gad1', 'Ntng1', 'Pnoc', 'Selplg', 'Sema3c',\n",
       "       'Sema4d', 'Serpine1', 'Adcyap1', 'Cck', 'Crh', 'Gal', 'Gnrh1', 'Nts',\n",
       "       'Oxt', 'Penk', 'Sst', 'Tac1', 'Trh', 'Ucn3', 'Avpr1a', 'Avpr2', 'Brs3',\n",
       "       'Calcr', 'Cckar', 'Cckbr', 'Crhr1', 'Crhr2', 'Galr1', 'Galr2', 'Grpr',\n",
       "       'Htr2c', 'Igf1r', 'Igf2r', 'Kiss1r', 'Lepr', 'Lpar1', 'Mc4r', 'Npy1r',\n",
       "       'Npy2r', 'Ntsr1', 'Oprd1', 'Oprk1', 'Oprl1', 'Oxtr', 'Pdgfra', 'Prlr',\n",
       "       'Ramp3', 'Rxfp1', 'Slc17a7', 'Slc18a2', 'Tacr1', 'Tacr3', 'Trhr'],\n",
       "      dtype='object')"
      ]
     },
     "execution_count": 6,
     "metadata": {},
     "output_type": "execute_result"
    }
   ],
   "source": [
    "merfish_df.columns[9:][non_response_indeces]"
   ]
  },
  {
   "cell_type": "code",
   "execution_count": 7,
   "id": "dadd64c0",
   "metadata": {},
   "outputs": [],
   "source": [
    "def get_neighbors(batch_obj):\n",
    "    return [batch_obj.edge_index[:, batch_obj.edge_index[0] == i][1] for i in range(batch_obj.x.shape[0])]"
   ]
  },
  {
   "cell_type": "code",
   "execution_count": 8,
   "id": "8e3245af",
   "metadata": {},
   "outputs": [],
   "source": [
    "def get_ligand_sum(data, neighbors_tensor, ligand_indeces):\n",
    "    return torch.tensor([np.array(data.index_select(0, neighbors).index_select(1, torch.tensor(ligand_indeces))) for neighbors in neighbors_tensor]).sum(axis=1)"
   ]
  },
  {
   "cell_type": "code",
   "execution_count": 9,
   "id": "74dd8d6e",
   "metadata": {},
   "outputs": [],
   "source": [
    "import torch.nn.functional as F\n",
    "\n",
    "def get_celltypes(cell_behavior_tensor, neighbors_tensor):\n",
    "    print(f\"There are {(num_classes := cell_behavior_tensor.max() + 1)} different cell types.\")\n",
    "    return [F.one_hot(cell_behavior_tensor.index_select(0, neighbors), num_classes=num_classes) for neighbors in neighbors_tensor] "
   ]
  },
  {
   "cell_type": "code",
   "execution_count": 10,
   "id": "d835ed24",
   "metadata": {},
   "outputs": [],
   "source": [
    "def get_celltype_simplex(cell_behavior_tensor, neighbors_tensor):\n",
    "    print(f\"There are {(num_classes := cell_behavior_tensor.max() + 1)} different cell types.\")\n",
    "    return torch.cat([(torch.mean(1.0*F.one_hot(cell_behavior_tensor.index_select(0, neighbors), num_classes=num_classes), dim=0)).unsqueeze(0) for neighbors in neighbors_tensor], dim=0)"
   ]
  },
  {
   "cell_type": "code",
   "execution_count": 17,
   "id": "a0020381",
   "metadata": {},
   "outputs": [
    {
     "name": "stdout",
     "output_type": "stream",
     "text": [
      "Original Data (1027848, 170)\n",
      "Filtered Data (205348, 170)\n",
      "data/raw/merfish_messi.hdf5\n"
     ]
    }
   ],
   "source": [
    "trial_run = FilteredMerfishDataset('data', sexes=[\"Female\"], behaviors=[\"Naive\"])"
   ]
  },
  {
   "cell_type": "code",
   "execution_count": 18,
   "id": "9c9e4eaf",
   "metadata": {},
   "outputs": [
    {
     "name": "stdout",
     "output_type": "stream",
     "text": [
      "data/raw/merfish_messi.hdf5\n"
     ]
    }
   ],
   "source": [
    "datalist = trial_run.construct_graphs(3, True)"
   ]
  },
  {
   "cell_type": "code",
   "execution_count": 19,
   "id": "0bd67e68",
   "metadata": {
    "scrolled": true
   },
   "outputs": [
    {
     "name": "stdout",
     "output_type": "stream",
     "text": [
      "There are 16 different cell types.\n",
      "Batch: 1/23\n",
      "There are 16 different cell types.\n",
      "Batch: 2/23\n",
      "There are 16 different cell types.\n",
      "Batch: 3/23\n",
      "There are 16 different cell types.\n",
      "Batch: 4/23\n",
      "There are 16 different cell types.\n",
      "Batch: 5/23\n",
      "There are 16 different cell types.\n",
      "Batch: 6/23\n",
      "There are 16 different cell types.\n",
      "Batch: 7/23\n",
      "There are 16 different cell types.\n",
      "Batch: 8/23\n",
      "There are 16 different cell types.\n",
      "Batch: 9/23\n",
      "There are 16 different cell types.\n",
      "Batch: 10/23\n",
      "There are 16 different cell types.\n",
      "Batch: 11/23\n",
      "There are 16 different cell types.\n",
      "Batch: 12/23\n",
      "There are 16 different cell types.\n",
      "Batch: 13/23\n",
      "There are 16 different cell types.\n",
      "Batch: 14/23\n",
      "There are 16 different cell types.\n",
      "Batch: 15/23\n",
      "There are 16 different cell types.\n",
      "Batch: 16/23\n",
      "There are 16 different cell types.\n",
      "Batch: 17/23\n",
      "There are 16 different cell types.\n",
      "Batch: 18/23\n",
      "There are 16 different cell types.\n",
      "Batch: 19/23\n",
      "There are 16 different cell types.\n",
      "Batch: 20/23\n",
      "There are 16 different cell types.\n",
      "Batch: 21/23\n",
      "There are 16 different cell types.\n",
      "Batch: 22/23\n",
      "There are 16 different cell types.\n",
      "Batch: 23/23\n"
     ]
    }
   ],
   "source": [
    "import time\n",
    "\n",
    "from sklearn.model_selection import cross_val_score\n",
    "from sklearn.model_selection import RepeatedKFold\n",
    "from sklearn.preprocessing import StandardScaler\n",
    "\n",
    "scores_list = []\n",
    "\n",
    "start = time.time()\n",
    "\n",
    "train_dataset = None\n",
    "\n",
    "for batch in datalist:\n",
    "    # gene expressions of cell i\n",
    "    x = batch.x\n",
    "    # position coordinate of gene i\n",
    "    pos = batch.pos\n",
    "    bregma = torch.tensor([batch.bregma]*pos.shape[0]).reshape(-1,1)\n",
    "    \n",
    "    # behavior and cell_type\n",
    "    behavior_and_cell_type = batch.y\n",
    "    \n",
    "    # get the neighbors of the current batch\n",
    "    neighbors = get_neighbors(batch)\n",
    "    \n",
    "    # get the sum of the ligand expressions for each cell in the current batch\n",
    "    total_ligands = get_ligand_sum(x, neighbors, ligand_indeces)\n",
    "    \n",
    "    # get the proportion of celltypes as one-hot encoded vectors\n",
    "    celltype_proportions = get_celltype_simplex(behavior_and_cell_type[:, 1], neighbors)\n",
    "    \n",
    "    # combine all the data\n",
    "    X = torch.cat((torch.log1p(x[:, non_response_indeces]), total_ligands, pos, bregma, celltype_proportions), dim=1)\n",
    "    scaler = StandardScaler().fit(X)\n",
    "    X = torch.tensor(scaler.transform(X))\n",
    "    \n",
    "    if train_dataset is None:\n",
    "        train_dataset = X\n",
    "        train_Y = torch.log1p(x[:, response_indeces])\n",
    "    else:\n",
    "        train_dataset = torch.cat((train_dataset, X), dim=0)\n",
    "        train_Y = torch.cat((train_Y, torch.log1p(x[:, response_indeces])), dim=0)\n",
    "        \n",
    "    print(f\"Batch: {datalist.index(batch)+1}/{len(datalist)}\")"
   ]
  },
  {
   "cell_type": "code",
   "execution_count": 20,
   "id": "e480db3c",
   "metadata": {},
   "outputs": [],
   "source": [
    "assert train_dataset.shape[0] == train_Y.shape[0]"
   ]
  },
  {
   "cell_type": "code",
   "execution_count": 21,
   "id": "40bc6699",
   "metadata": {},
   "outputs": [
    {
     "name": "stdout",
     "output_type": "stream",
     "text": [
      "data/raw/merfish_messi.hdf5\n"
     ]
    }
   ],
   "source": [
    "test_datalist = trial_run.construct_graphs(3, False)"
   ]
  },
  {
   "cell_type": "code",
   "execution_count": 22,
   "id": "c9f3604d",
   "metadata": {
    "scrolled": true
   },
   "outputs": [
    {
     "name": "stdout",
     "output_type": "stream",
     "text": [
      "There are 16 different cell types.\n",
      "6509 6509\n",
      "Batch: 1/12\n",
      "There are 16 different cell types.\n",
      "Batch: 2/12\n",
      "There are 16 different cell types.\n",
      "Batch: 3/12\n",
      "There are 16 different cell types.\n",
      "Batch: 4/12\n",
      "There are 16 different cell types.\n",
      "Batch: 5/12\n",
      "There are 16 different cell types.\n",
      "Batch: 6/12\n",
      "There are 16 different cell types.\n",
      "Batch: 7/12\n",
      "There are 16 different cell types.\n",
      "Batch: 8/12\n",
      "There are 16 different cell types.\n",
      "Batch: 9/12\n",
      "There are 16 different cell types.\n",
      "Batch: 10/12\n",
      "There are 16 different cell types.\n",
      "Batch: 11/12\n",
      "There are 16 different cell types.\n",
      "Batch: 12/12\n"
     ]
    }
   ],
   "source": [
    "scores_list = []\n",
    "\n",
    "test_dataset = None\n",
    "\n",
    "for batch in test_datalist:\n",
    "    # gene expressions of cell i\n",
    "    x = batch.x\n",
    "    # position coordinate of gene i\n",
    "    pos = batch.pos\n",
    "    bregma = torch.tensor([batch.bregma]*pos.shape[0]).reshape(-1,1)\n",
    "    \n",
    "    # behavior and cell_type\n",
    "    behavior_and_cell_type = batch.y\n",
    "    \n",
    "    # get the neighbors of the current batch\n",
    "    neighbors = get_neighbors(batch)\n",
    "    \n",
    "    # get the sum of the ligand expressions for each cell in the current batch\n",
    "    total_ligands = get_ligand_sum(x, neighbors, ligand_indeces)\n",
    "    \n",
    "    # get the proportion of celltypes as one-hot encoded vectors\n",
    "    celltype_proportions = get_celltype_simplex(behavior_and_cell_type[:, 1], neighbors)\n",
    "    \n",
    "    # combine all the data\n",
    "    test_X = torch.cat((torch.log1p(x[:, non_response_indeces]), total_ligands, pos, bregma, celltype_proportions), dim=1)\n",
    "    \n",
    "    # standardize the data using TRAINING mean and sd.\n",
    "    test_X = torch.index_select(test_X, 0, excitatory_cells)\n",
    "    test_X = torch.tensor(scaler.transform(test_X))\n",
    "    \n",
    "    if test_dataset is None:\n",
    "        test_dataset = test_X\n",
    "        test_Y = torch.log1p(x[:, response_indeces])\n",
    "        print(test_dataset.shape[0], test_Y.shape[0])\n",
    "    else:\n",
    "        test_dataset = torch.cat((test_dataset, test_X), dim=0)\n",
    "        test_Y = torch.cat((test_Y, torch.log1p(x[:, response_indeces])), dim=0)\n",
    "        \n",
    "    print(f\"Batch: {test_datalist.index(batch)+1}/{len(test_datalist)}\")"
   ]
  },
  {
   "cell_type": "code",
   "execution_count": 23,
   "id": "052bcb67",
   "metadata": {
    "scrolled": true
   },
   "outputs": [],
   "source": [
    "assert test_dataset.shape[0] == test_Y.shape[0]"
   ]
  },
  {
   "cell_type": "code",
   "execution_count": 28,
   "id": "0b236ef2",
   "metadata": {},
   "outputs": [
    {
     "name": "stdout",
     "output_type": "stream",
     "text": [
      "tensor(0.2220)\n",
      "Response Gene: 1/1\n",
      "216.47389388084412\n"
     ]
    }
   ],
   "source": [
    "model_list = []\n",
    "MAE_list = []\n",
    "\n",
    "# for each response gene in our response matrix....\n",
    "for i in range(train_Y.shape[1]):\n",
    "    \n",
    "    # create response gene variables\n",
    "    y_i_train = train_Y[:, i]\n",
    "    y_i_test = test_Y[:, i]\n",
    "    \n",
    "    # create XGBoost Regression Model\n",
    "    model = xgb.XGBRegressor(tree_method=\"approx\", nthread=1)\n",
    "\n",
    "    # fit the regression model and add it to model list\n",
    "    # print(train_dataset.shape, y_i_train.shape)\n",
    "    model.fit(np.array(train_dataset), np.array(y_i_train))\n",
    "    model_list.append((f\"Gene {i}\", model_list))\n",
    "\n",
    "    # run the testing data through the model\n",
    "    test_output = torch.tensor(model.predict(np.array(test_dataset)))\n",
    "    \n",
    "    # collect its MAE\n",
    "    MAE_list.append(F.l1_loss(test_output, y_i_test))\n",
    "    print(MAE_list[-1])\n",
    "    \n",
    "    print(f\"Response Gene: {i+1}/{train_Y.shape[1]}\")\n",
    "\n",
    "end = time.time()\n",
    "print(end-start)"
   ]
  },
  {
   "cell_type": "code",
   "execution_count": 46,
   "id": "a00fde36",
   "metadata": {},
   "outputs": [
    {
     "data": {
      "text/plain": [
       "torch.Size([131693, 121])"
      ]
     },
     "execution_count": 46,
     "metadata": {},
     "output_type": "execute_result"
    }
   ],
   "source": [
    "train_dataset.shape"
   ]
  },
  {
   "cell_type": "code",
   "execution_count": 47,
   "id": "812aefe9",
   "metadata": {},
   "outputs": [
    {
     "data": {
      "text/plain": [
       "torch.Size([73655, 121])"
      ]
     },
     "execution_count": 47,
     "metadata": {},
     "output_type": "execute_result"
    }
   ],
   "source": [
    "test_dataset.shape"
   ]
  },
  {
   "cell_type": "code",
   "execution_count": 52,
   "id": "ba755bca",
   "metadata": {},
   "outputs": [
    {
     "data": {
      "text/plain": [
       "0.23543492"
      ]
     },
     "execution_count": 52,
     "metadata": {},
     "output_type": "execute_result"
    }
   ],
   "source": [
    "np.array(MAE_list).mean()"
   ]
  },
  {
   "cell_type": "code",
   "execution_count": 67,
   "id": "8d589398",
   "metadata": {
    "scrolled": false
   },
   "outputs": [
    {
     "data": {
      "image/png": "[encoded data removed]",
      "text/plain": [
       "<Figure size 432x288 with 1 Axes>"
      ]
     },
     "metadata": {
      "needs_background": "light"
     },
     "output_type": "display_data"
    }
   ],
   "source": [
    "import seaborn as sns\n",
    "\n",
    "ax = sns.boxplot(data=np.array(MAE_list).reshape(1,-1))"
   ]
  },
  {
   "cell_type": "markdown",
   "id": "07f8c510",
   "metadata": {},
   "source": [
    "# XGBoost on Excitatory Cells Only"
   ]
  },
  {
   "cell_type": "code",
   "execution_count": 65,
   "id": "0f03dbc3",
   "metadata": {},
   "outputs": [],
   "source": [
    "assert list(merfish_df.columns[9:]).index(\"Ace2\") == 0"
   ]
  },
  {
   "cell_type": "code",
   "execution_count": 66,
   "id": "a59d09ae",
   "metadata": {},
   "outputs": [
    {
     "name": "stdout",
     "output_type": "stream",
     "text": [
      "Original Data (1027848, 170)\n",
      "Filtered Data (205348, 170)\n",
      "data/raw/merfish_messi.hdf5\n"
     ]
    }
   ],
   "source": [
    "trial_run = FilteredMerfishDataset('data', sexes=[\"Female\"], behaviors=[\"Naive\"])"
   ]
  },
  {
   "cell_type": "code",
   "execution_count": 67,
   "id": "c6fea9cf",
   "metadata": {},
   "outputs": [
    {
     "name": "stdout",
     "output_type": "stream",
     "text": [
      "data/raw/merfish_messi.hdf5\n"
     ]
    }
   ],
   "source": [
    "datalist = trial_run.construct_graphs(3, True)"
   ]
  },
  {
   "cell_type": "code",
   "execution_count": 68,
   "id": "72a04002",
   "metadata": {
    "scrolled": true
   },
   "outputs": [
    {
     "name": "stdout",
     "output_type": "stream",
     "text": [
      "There are 16 different cell types.\n",
      "Batch: 1/23\n",
      "There are 16 different cell types.\n",
      "Batch: 2/23\n",
      "There are 16 different cell types.\n",
      "Batch: 3/23\n",
      "There are 16 different cell types.\n",
      "Batch: 4/23\n",
      "There are 16 different cell types.\n",
      "Batch: 5/23\n",
      "There are 16 different cell types.\n",
      "Batch: 6/23\n",
      "There are 16 different cell types.\n",
      "Batch: 7/23\n",
      "There are 16 different cell types.\n",
      "Batch: 8/23\n",
      "There are 16 different cell types.\n",
      "Batch: 9/23\n",
      "There are 16 different cell types.\n",
      "Batch: 10/23\n",
      "There are 16 different cell types.\n",
      "Batch: 11/23\n",
      "There are 16 different cell types.\n",
      "Batch: 12/23\n",
      "There are 16 different cell types.\n",
      "Batch: 13/23\n",
      "There are 16 different cell types.\n",
      "Batch: 14/23\n",
      "There are 16 different cell types.\n",
      "Batch: 15/23\n",
      "There are 16 different cell types.\n",
      "Batch: 16/23\n",
      "There are 16 different cell types.\n",
      "Batch: 17/23\n",
      "There are 16 different cell types.\n",
      "Batch: 18/23\n",
      "There are 16 different cell types.\n",
      "Batch: 19/23\n",
      "There are 16 different cell types.\n",
      "Batch: 20/23\n",
      "There are 16 different cell types.\n",
      "Batch: 21/23\n",
      "There are 16 different cell types.\n",
      "Batch: 22/23\n",
      "There are 16 different cell types.\n",
      "Batch: 23/23\n"
     ]
    }
   ],
   "source": [
    "import time\n",
    "\n",
    "from sklearn.model_selection import cross_val_score\n",
    "from sklearn.model_selection import RepeatedKFold\n",
    "from sklearn.preprocessing import StandardScaler\n",
    "\n",
    "scores_list = []\n",
    "\n",
    "start = time.time()\n",
    "\n",
    "train_dataset = None\n",
    "\n",
    "for batch in datalist:\n",
    "    # gene expressions of cell i\n",
    "    x = batch.x\n",
    "    # position coordinate of gene i\n",
    "    pos = batch.pos\n",
    "    bregma = torch.tensor([batch.bregma]*pos.shape[0]).reshape(-1,1)\n",
    "    \n",
    "    # behavior and cell_type\n",
    "    behavior_and_cell_type = batch.y\n",
    "    \n",
    "    # get the neighbors of the current batch\n",
    "    neighbors = get_neighbors(batch)\n",
    "    \n",
    "    # get the sum of the ligand expressions for each cell in the current batch\n",
    "    total_ligands = get_ligand_sum(x, neighbors, ligand_indeces)\n",
    "    \n",
    "    # get the proportion of celltypes as one-hot encoded vectors\n",
    "    celltype_proportions = get_celltype_simplex(behavior_and_cell_type[:, 1], neighbors)\n",
    "    \n",
    "    # combine all the data\n",
    "    X = torch.cat((torch.log1p(x[:, non_response_indeces]), total_ligands, pos, bregma, celltype_proportions), dim=1)\n",
    "    excitatory_cells = (behavior_and_cell_type[:, 1] == 6).nonzero(as_tuple=True)[0]\n",
    "    X = torch.index_select(X, 0, excitatory_cells)\n",
    "    scaler = StandardScaler().fit(X)\n",
    "    X = torch.tensor(scaler.transform(X))\n",
    "    \n",
    "    if train_dataset is None:\n",
    "        train_dataset = X\n",
    "        train_Y = torch.index_select(torch.log1p(x[:, 0]), 0, excitatory_cells)\n",
    "    else:\n",
    "        train_dataset = torch.cat((train_dataset, X), dim=0)\n",
    "        train_Y = torch.cat((train_Y, torch.index_select(torch.log1p(x[:, 0]), 0, excitatory_cells)), dim=0)\n",
    "        \n",
    "    print(f\"Batch: {datalist.index(batch)+1}/{len(datalist)}\")"
   ]
  },
  {
   "cell_type": "code",
   "execution_count": 69,
   "id": "4e125628",
   "metadata": {},
   "outputs": [],
   "source": [
    "assert train_dataset.shape[0] == train_Y.shape[0]"
   ]
  },
  {
   "cell_type": "code",
   "execution_count": 70,
   "id": "baf37fc1",
   "metadata": {},
   "outputs": [
    {
     "name": "stdout",
     "output_type": "stream",
     "text": [
      "data/raw/merfish_messi.hdf5\n"
     ]
    }
   ],
   "source": [
    "test_datalist = trial_run.construct_graphs(3, False)"
   ]
  },
  {
   "cell_type": "code",
   "execution_count": 83,
   "id": "34ee30da",
   "metadata": {
    "scrolled": true
   },
   "outputs": [
    {
     "name": "stdout",
     "output_type": "stream",
     "text": [
      "There are 16 different cell types.\n",
      "1319 1319\n",
      "Batch: 1/12\n",
      "There are 16 different cell types.\n",
      "Batch: 2/12\n",
      "There are 16 different cell types.\n",
      "Batch: 3/12\n",
      "There are 16 different cell types.\n",
      "Batch: 4/12\n",
      "There are 16 different cell types.\n",
      "Batch: 5/12\n",
      "There are 16 different cell types.\n",
      "Batch: 6/12\n",
      "There are 16 different cell types.\n",
      "Batch: 7/12\n",
      "There are 16 different cell types.\n",
      "Batch: 8/12\n",
      "There are 16 different cell types.\n",
      "Batch: 9/12\n",
      "There are 16 different cell types.\n",
      "Batch: 10/12\n",
      "There are 16 different cell types.\n",
      "Batch: 11/12\n",
      "There are 16 different cell types.\n",
      "Batch: 12/12\n",
      "tensor(0.0770)\n"
     ]
    }
   ],
   "source": [
    "scores_list = []\n",
    "\n",
    "test_dataset = None\n",
    "\n",
    "for batch in test_datalist:\n",
    "    # gene expressions of cell i\n",
    "    x = batch.x\n",
    "    # position coordinate of gene i\n",
    "    pos = batch.pos\n",
    "    bregma = torch.tensor([batch.bregma]*pos.shape[0]).reshape(-1,1)\n",
    "    \n",
    "    # behavior and cell_type\n",
    "    behavior_and_cell_type = batch.y\n",
    "    \n",
    "    # get the neighbors of the current batch\n",
    "    neighbors = get_neighbors(batch)\n",
    "    \n",
    "    # get the sum of the ligand expressions for each cell in the current batch\n",
    "    total_ligands = get_ligand_sum(x, neighbors, ligand_indeces)\n",
    "    \n",
    "    # get the proportion of celltypes as one-hot encoded vectors\n",
    "    celltype_proportions = get_celltype_simplex(behavior_and_cell_type[:, 1], neighbors)\n",
    "    \n",
    "    # combine all the data\n",
    "    test_X = torch.cat((torch.log1p(x[:, non_response_indeces]), total_ligands, pos, bregma, celltype_proportions), dim=1)\n",
    "    \n",
    "    # standardize the data using TRAINING mean and sd.\n",
    "    excitatory_cells = (behavior_and_cell_type[:, 1] == 6).nonzero(as_tuple=True)[0]\n",
    "    test_X = torch.index_select(test_X, 0, excitatory_cells)\n",
    "    test_X = torch.tensor(scaler.transform(test_X))\n",
    "    \n",
    "    if test_dataset is None:\n",
    "        test_dataset = test_X\n",
    "        test_Y = torch.index_select(torch.log1p(x[:, 0]), 0, excitatory_cells)\n",
    "        print(test_dataset.shape[0], test_Y.shape[0])\n",
    "    else:\n",
    "        test_dataset = torch.cat((test_dataset, test_X), dim=0)\n",
    "        test_Y = torch.cat((test_Y, torch.index_select(torch.log1p(x[:, 0]), 0, excitatory_cells)), dim=0)\n",
    "        \n",
    "    print(f\"Batch: {test_datalist.index(batch)+1}/{len(test_datalist)}\")"
   ]
  },
  {
   "cell_type": "code",
   "execution_count": 72,
   "id": "67831d2f",
   "metadata": {},
   "outputs": [],
   "source": [
    "train_Y = train_Y.reshape(-1,1)\n",
    "test_Y = test_Y.reshape(-1,1)"
   ]
  },
  {
   "cell_type": "code",
   "execution_count": 73,
   "id": "415ae06f",
   "metadata": {
    "scrolled": true
   },
   "outputs": [],
   "source": [
    "assert test_dataset.shape[0] == test_Y.shape[0]"
   ]
  },
  {
   "cell_type": "code",
   "execution_count": 74,
   "id": "860e9e68",
   "metadata": {},
   "outputs": [
    {
     "name": "stdout",
     "output_type": "stream",
     "text": [
      "tensor(0.1569)\n",
      "Response Gene: 1/1\n",
      "36.7490291595459\n"
     ]
    }
   ],
   "source": [
    "model_list = []\n",
    "MAE_list = []\n",
    "\n",
    "# for each response gene in our response matrix....\n",
    "for i in range(train_Y.shape[1]):\n",
    "    \n",
    "    # create response gene variables\n",
    "    y_i_train = train_Y[:, i]\n",
    "    y_i_test = test_Y[:, i]\n",
    "    \n",
    "    # create XGBoost Regression Model\n",
    "    model = xgb.XGBRegressor(tree_method=\"approx\", nthread=1)\n",
    "\n",
    "    # fit the regression model and add it to model list\n",
    "    # print(train_dataset.shape, y_i_train.shape)\n",
    "    model.fit(np.array(train_dataset), np.array(y_i_train))\n",
    "    model_list.append((f\"Gene {i}\", model_list))\n",
    "\n",
    "    # run the testing data through the model\n",
    "    test_output = torch.tensor(model.predict(np.array(test_dataset)))\n",
    "    \n",
    "    # collect its MAE\n",
    "    MAE_list.append(F.l1_loss(test_output, y_i_test))\n",
    "    print(MAE_list[-1])\n",
    "    \n",
    "    print(f\"Response Gene: {i+1}/{train_Y.shape[1]}\")\n",
    "\n",
    "end = time.time()\n",
    "print(end-start)"
   ]
  },
  {
   "cell_type": "code",
   "execution_count": 75,
   "id": "2bc9cd99",
   "metadata": {},
   "outputs": [
    {
     "data": {
      "text/plain": [
       "torch.Size([19855, 121])"
      ]
     },
     "execution_count": 75,
     "metadata": {},
     "output_type": "execute_result"
    }
   ],
   "source": [
    "train_dataset.shape"
   ]
  },
  {
   "cell_type": "code",
   "execution_count": 76,
   "id": "1f536490",
   "metadata": {},
   "outputs": [
    {
     "data": {
      "text/plain": [
       "torch.Size([11757, 121])"
      ]
     },
     "execution_count": 76,
     "metadata": {},
     "output_type": "execute_result"
    }
   ],
   "source": [
    "test_dataset.shape"
   ]
  },
  {
   "cell_type": "code",
   "execution_count": 77,
   "id": "46c4fbc1",
   "metadata": {},
   "outputs": [
    {
     "data": {
      "text/plain": [
       "0.15692881"
      ]
     },
     "execution_count": 77,
     "metadata": {},
     "output_type": "execute_result"
    }
   ],
   "source": [
    "np.array(MAE_list).mean()"
   ]
  },
  {
   "cell_type": "code",
   "execution_count": 78,
   "id": "45941847",
   "metadata": {},
   "outputs": [
    {
     "data": {
      "text/plain": [
       "(tensor(0.0770), tensor(0.1839))"
      ]
     },
     "execution_count": 78,
     "metadata": {},
     "output_type": "execute_result"
    }
   ],
   "source": [
    "torch.mean(y_i_test), torch.std(y_i_test)"
   ]
  },
  {
   "cell_type": "code",
   "execution_count": 79,
   "id": "75717fed",
   "metadata": {},
   "outputs": [
    {
     "data": {
      "text/plain": [
       "(tensor(0.0842), tensor(0.1862))"
      ]
     },
     "execution_count": 79,
     "metadata": {},
     "output_type": "execute_result"
    }
   ],
   "source": [
    "torch.mean(y_i_train), torch.std(y_i_train)"
   ]
  },
  {
   "cell_type": "code",
   "execution_count": 60,
   "id": "c8eda078",
   "metadata": {},
   "outputs": [
    {
     "data": {
      "text/plain": [
       "torch.Size([19855])"
      ]
     },
     "execution_count": 60,
     "metadata": {},
     "output_type": "execute_result"
    }
   ],
   "source": [
    "y_i_train.shape"
   ]
  },
  {
   "cell_type": "code",
   "execution_count": 61,
   "id": "8bec65f2",
   "metadata": {},
   "outputs": [
    {
     "data": {
      "text/plain": [
       "torch.Size([11757])"
      ]
     },
     "execution_count": 61,
     "metadata": {},
     "output_type": "execute_result"
    }
   ],
   "source": [
    "y_i_test.shape"
   ]
  },
  {
   "cell_type": "code",
   "execution_count": 64,
   "id": "bc465588",
   "metadata": {
    "scrolled": true
   },
   "outputs": [
    {
     "data": {
      "text/plain": [
       "[0,\n",
       " 2,\n",
       " 3,\n",
       " 4,\n",
       " 5,\n",
       " 6,\n",
       " 7,\n",
       " 10,\n",
       " 19,\n",
       " 20,\n",
       " 21,\n",
       " 22,\n",
       " 23,\n",
       " 24,\n",
       " 25,\n",
       " 26,\n",
       " 27,\n",
       " 28,\n",
       " 32,\n",
       " 34,\n",
       " 35,\n",
       " 37,\n",
       " 38,\n",
       " 39,\n",
       " 40,\n",
       " 41,\n",
       " 42,\n",
       " 43,\n",
       " 44,\n",
       " 52,\n",
       " 53,\n",
       " 54,\n",
       " 55,\n",
       " 58,\n",
       " 63,\n",
       " 64,\n",
       " 66,\n",
       " 67,\n",
       " 69,\n",
       " 71,\n",
       " 73,\n",
       " 74,\n",
       " 75,\n",
       " 76,\n",
       " 77,\n",
       " 78,\n",
       " 79,\n",
       " 80,\n",
       " 85,\n",
       " 86,\n",
       " 87,\n",
       " 88,\n",
       " 93,\n",
       " 94,\n",
       " 96,\n",
       " 97,\n",
       " 99,\n",
       " 102,\n",
       " 103,\n",
       " 104,\n",
       " 106,\n",
       " 110,\n",
       " 112,\n",
       " 113,\n",
       " 114,\n",
       " 116,\n",
       " 118,\n",
       " 119,\n",
       " 120,\n",
       " 121,\n",
       " 122,\n",
       " 123,\n",
       " 124,\n",
       " 125,\n",
       " 126,\n",
       " 129,\n",
       " 130,\n",
       " 131,\n",
       " 133,\n",
       " 134,\n",
       " 141,\n",
       " 142,\n",
       " 147,\n",
       " 151]"
      ]
     },
     "execution_count": 64,
     "metadata": {},
     "output_type": "execute_result"
    }
   ],
   "source": [
    "response_indeces"
   ]
  }
 ],
 "metadata": {
  "kernelspec": {
   "display_name": "Python 3 (ipykernel)",
   "language": "python",
   "name": "python3"
  },
  "language_info": {
   "codemirror_mode": {
    "name": "ipython",
    "version": 3
   },
   "file_extension": ".py",
   "mimetype": "text/x-python",
   "name": "python",
   "nbconvert_exporter": "python",
   "pygments_lexer": "ipython3",
   "version": "3.8.10"
  }
 },
 "nbformat": 4,
 "nbformat_minor": 5
}
