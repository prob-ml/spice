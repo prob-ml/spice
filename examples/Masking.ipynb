{
 "cells": [
  {
   "cell_type": "markdown",
   "id": "complimentary-lunch",
   "metadata": {},
   "source": [
    "# Masking Demonstration"
   ]
  },
  {
   "cell_type": "markdown",
   "id": "278b0156",
   "metadata": {},
   "source": [
    "Here we aim to demonstrate how the masking procedure works. We can apply a mask across cells, across genes, or at random. Any combination of these masks can be applied and we want to showcase how this happens.\n",
    "\n",
    "**Despite there being different notations for this, we assume that a value of 0 denotes a mask is being applied for that element and a value of 1 means NO mask is applied. The reasoning for this choice will be clear later.**"
   ]
  },
  {
   "cell_type": "markdown",
   "id": "0bd39f7c",
   "metadata": {},
   "source": [
    "### Example Data"
   ]
  },
  {
   "cell_type": "code",
   "execution_count": 117,
   "id": "lasting-footage",
   "metadata": {},
   "outputs": [],
   "source": [
    "import torch"
   ]
  },
  {
   "cell_type": "code",
   "execution_count": 118,
   "id": "nutritional-ecuador",
   "metadata": {},
   "outputs": [
    {
     "data": {
      "text/plain": [
       "tensor([[1, 2, 3, 4],\n",
       "        [1, 2, 3, 4],\n",
       "        [1, 2, 3, 4],\n",
       "        [1, 2, 3, 4]])"
      ]
     },
     "execution_count": 118,
     "metadata": {},
     "output_type": "execute_result"
    }
   ],
   "source": [
    "test = torch.tensor([[1,2,3,4],[1,2,3,4],[1,2,3,4],[1,2,3,4]])\n",
    "test"
   ]
  },
  {
   "cell_type": "markdown",
   "id": "2e113071",
   "metadata": {},
   "source": [
    "### Masking Cells (mask_cells_prop = 0.25)"
   ]
  },
  {
   "cell_type": "code",
   "execution_count": 119,
   "id": "senior-adobe",
   "metadata": {
    "scrolled": true
   },
   "outputs": [
    {
     "data": {
      "text/plain": [
       "tensor([[1, 2, 3, 4],\n",
       "        [1, 2, 3, 4],\n",
       "        [1, 2, 3, 4],\n",
       "        [1, 2, 3, 4]])"
      ]
     },
     "execution_count": 119,
     "metadata": {},
     "output_type": "execute_result"
    }
   ],
   "source": [
    "new_test = test\n",
    "new_test"
   ]
  },
  {
   "cell_type": "code",
   "execution_count": 120,
   "id": "appropriate-shepherd",
   "metadata": {},
   "outputs": [
    {
     "data": {
      "text/plain": [
       "tensor([[1.],\n",
       "        [1.],\n",
       "        [1.],\n",
       "        [1.]], dtype=torch.float64)"
      ]
     },
     "execution_count": 120,
     "metadata": {},
     "output_type": "execute_result"
    }
   ],
   "source": [
    "masked = ~(torch.rand((4,1)) < 0.25)\n",
    "masked.type('torch.DoubleTensor')"
   ]
  },
  {
   "cell_type": "code",
   "execution_count": 121,
   "id": "champion-aging",
   "metadata": {},
   "outputs": [
    {
     "data": {
      "text/plain": [
       "tensor([[1, 2, 3, 4],\n",
       "        [1, 2, 3, 4],\n",
       "        [1, 2, 3, 4],\n",
       "        [1, 2, 3, 4]])"
      ]
     },
     "execution_count": 121,
     "metadata": {},
     "output_type": "execute_result"
    }
   ],
   "source": [
    "masked = masked.type_as(new_test)\n",
    "\n",
    "new_test *= masked\n",
    "new_test"
   ]
  },
  {
   "cell_type": "markdown",
   "id": "35876dae",
   "metadata": {},
   "source": [
    "### Masking Genes (mask_genes_prop = 0.25)"
   ]
  },
  {
   "cell_type": "code",
   "execution_count": 122,
   "id": "c1decc44",
   "metadata": {},
   "outputs": [
    {
     "data": {
      "text/plain": [
       "tensor([[1, 2, 3, 4],\n",
       "        [1, 2, 3, 4],\n",
       "        [1, 2, 3, 4],\n",
       "        [1, 2, 3, 4]])"
      ]
     },
     "execution_count": 122,
     "metadata": {},
     "output_type": "execute_result"
    }
   ],
   "source": [
    "test = torch.tensor([[1,2,3,4],[1,2,3,4],[1,2,3,4],[1,2,3,4]])\n",
    "new_test = test\n",
    "new_test"
   ]
  },
  {
   "cell_type": "code",
   "execution_count": 123,
   "id": "257b9aaa",
   "metadata": {},
   "outputs": [
    {
     "data": {
      "text/plain": [
       "tensor([[1., 0., 1., 1.]], dtype=torch.float64)"
      ]
     },
     "execution_count": 123,
     "metadata": {},
     "output_type": "execute_result"
    }
   ],
   "source": [
    "masked = ~(torch.rand((1,4)) < 0.25)\n",
    "masked.type('torch.DoubleTensor')"
   ]
  },
  {
   "cell_type": "code",
   "execution_count": 124,
   "id": "db953c36",
   "metadata": {},
   "outputs": [
    {
     "data": {
      "text/plain": [
       "tensor([[1, 0, 3, 4],\n",
       "        [1, 0, 3, 4],\n",
       "        [1, 0, 3, 4],\n",
       "        [1, 0, 3, 4]])"
      ]
     },
     "execution_count": 124,
     "metadata": {},
     "output_type": "execute_result"
    }
   ],
   "source": [
    "masked = masked.type_as(new_test)\n",
    "\n",
    "new_test *= masked\n",
    "new_test"
   ]
  },
  {
   "cell_type": "markdown",
   "id": "125ab097",
   "metadata": {},
   "source": [
    "### Random Masking (mask_random_prop = 0.25)"
   ]
  },
  {
   "cell_type": "code",
   "execution_count": 125,
   "id": "aa9e4581",
   "metadata": {},
   "outputs": [
    {
     "data": {
      "text/plain": [
       "tensor([[1, 2, 3, 4],\n",
       "        [1, 2, 3, 4],\n",
       "        [1, 2, 3, 4],\n",
       "        [1, 2, 3, 4]])"
      ]
     },
     "execution_count": 125,
     "metadata": {},
     "output_type": "execute_result"
    }
   ],
   "source": [
    "test = torch.tensor([[1,2,3,4],[1,2,3,4],[1,2,3,4],[1,2,3,4]])\n",
    "new_test = test\n",
    "new_test"
   ]
  },
  {
   "cell_type": "code",
   "execution_count": 126,
   "id": "d1b3d701",
   "metadata": {},
   "outputs": [
    {
     "data": {
      "text/plain": [
       "tensor([[1., 1., 0., 1.],\n",
       "        [0., 1., 1., 0.],\n",
       "        [1., 1., 1., 0.],\n",
       "        [1., 1., 0., 0.]], dtype=torch.float64)"
      ]
     },
     "execution_count": 126,
     "metadata": {},
     "output_type": "execute_result"
    }
   ],
   "source": [
    "masked = ~(torch.rand((4,4)) < 0.25)\n",
    "masked.type('torch.DoubleTensor')"
   ]
  },
  {
   "cell_type": "code",
   "execution_count": 127,
   "id": "3673d942",
   "metadata": {},
   "outputs": [
    {
     "data": {
      "text/plain": [
       "tensor([[1, 2, 0, 4],\n",
       "        [0, 2, 3, 0],\n",
       "        [1, 2, 3, 0],\n",
       "        [1, 2, 0, 0]])"
      ]
     },
     "execution_count": 127,
     "metadata": {},
     "output_type": "execute_result"
    }
   ],
   "source": [
    "masked = masked.type_as(new_test)\n",
    "\n",
    "new_test *= masked\n",
    "new_test"
   ]
  },
  {
   "cell_type": "markdown",
   "id": "019f3f72",
   "metadata": {},
   "source": [
    "### Puttting it all Together"
   ]
  },
  {
   "cell_type": "markdown",
   "id": "8660356e",
   "metadata": {},
   "source": [
    "When we want to applies multiple masks at once, we need to ensure that any of the masks are applied at loss calculation time. By allowing a 0 to represent a mask being applied, element wise multiplication across all the various masks ensures that if an element has a mask in any setting, it will have the mask at loss calculatiion time."
   ]
  },
  {
   "cell_type": "code",
   "execution_count": 128,
   "id": "5fe5aede",
   "metadata": {},
   "outputs": [
    {
     "data": {
      "text/plain": [
       "tensor([[1, 2, 3, 4],\n",
       "        [1, 2, 3, 4],\n",
       "        [1, 2, 3, 4],\n",
       "        [1, 2, 3, 4]])"
      ]
     },
     "execution_count": 128,
     "metadata": {},
     "output_type": "execute_result"
    }
   ],
   "source": [
    "test = torch.tensor([[1,2,3,4],[1,2,3,4],[1,2,3,4],[1,2,3,4]])\n",
    "new_test = test\n",
    "new_test"
   ]
  },
  {
   "cell_type": "code",
   "execution_count": 129,
   "id": "b12d2519",
   "metadata": {},
   "outputs": [
    {
     "data": {
      "text/plain": [
       "tensor([[1.],\n",
       "        [0.],\n",
       "        [0.],\n",
       "        [1.]], dtype=torch.float64)"
      ]
     },
     "execution_count": 129,
     "metadata": {},
     "output_type": "execute_result"
    }
   ],
   "source": [
    "masked_cells = ~(torch.rand((4,1)) < 0.25)\n",
    "masked_cells.type('torch.DoubleTensor')"
   ]
  },
  {
   "cell_type": "code",
   "execution_count": 130,
   "id": "01ff098c",
   "metadata": {},
   "outputs": [
    {
     "data": {
      "text/plain": [
       "tensor([[1., 0., 1., 1.]], dtype=torch.float64)"
      ]
     },
     "execution_count": 130,
     "metadata": {},
     "output_type": "execute_result"
    }
   ],
   "source": [
    "masked_genes = ~(torch.rand((1,4)) < 0.25)\n",
    "masked_genes.type('torch.DoubleTensor')"
   ]
  },
  {
   "cell_type": "code",
   "execution_count": 131,
   "id": "04404d4d",
   "metadata": {},
   "outputs": [
    {
     "data": {
      "text/plain": [
       "tensor([[1., 1., 0., 1.],\n",
       "        [1., 1., 1., 1.],\n",
       "        [0., 0., 1., 0.],\n",
       "        [0., 1., 1., 1.]], dtype=torch.float64)"
      ]
     },
     "execution_count": 131,
     "metadata": {},
     "output_type": "execute_result"
    }
   ],
   "source": [
    "masked_at_random = ~(torch.rand((4,4)) < 0.25)\n",
    "masked_at_random.type('torch.DoubleTensor')"
   ]
  },
  {
   "cell_type": "code",
   "execution_count": 132,
   "id": "3649640d",
   "metadata": {},
   "outputs": [
    {
     "data": {
      "text/plain": [
       "tensor([[1, 0, 0, 4],\n",
       "        [0, 0, 0, 0],\n",
       "        [0, 0, 0, 0],\n",
       "        [0, 0, 3, 4]])"
      ]
     },
     "execution_count": 132,
     "metadata": {},
     "output_type": "execute_result"
    }
   ],
   "source": [
    "new_test *= (masked_at_random * masked_genes * masked_cells)\n",
    "new_test"
   ]
  },
  {
   "cell_type": "markdown",
   "id": "dabe263e",
   "metadata": {},
   "source": [
    "Note that broadcasting takes care of the fact that masked_cells and masked_genes are masks for entire rows and columns respectively."
   ]
  },
  {
   "cell_type": "markdown",
   "id": "15aa4196",
   "metadata": {},
   "source": [
    "### Calculating Losses with Masks"
   ]
  },
  {
   "cell_type": "markdown",
   "id": "e3e9b31d",
   "metadata": {},
   "source": [
    "Suppose the true tensor was the test example from above.\n",
    "\n",
    "$$\\begin{bmatrix} 1 & 2 & 3 & 4\\\\ 1 & 2 & 3 & 4 \\\\ 1 & 2 & 3 & 4 \\\\ 1 & 2 & 3 & 4\\end{bmatrix}$$"
   ]
  },
  {
   "cell_type": "code",
   "execution_count": 133,
   "id": "21bac8b5",
   "metadata": {},
   "outputs": [],
   "source": [
    "import torch.nn.functional as F"
   ]
  },
  {
   "cell_type": "code",
   "execution_count": 134,
   "id": "cb05f486",
   "metadata": {},
   "outputs": [],
   "source": [
    "test = torch.tensor([[1.,2.,3.,4.],[1.,2.,3.,4.],[1.,2.,3.,4.],[1.,2.,3.,4.]])"
   ]
  },
  {
   "cell_type": "markdown",
   "id": "caef0453",
   "metadata": {},
   "source": [
    "The tensor `new_test` represents our original tensor after all previous masks have been applied."
   ]
  },
  {
   "cell_type": "code",
   "execution_count": 135,
   "id": "607bc8d9",
   "metadata": {},
   "outputs": [
    {
     "data": {
      "text/plain": [
       "tensor([[1, 0, 0, 4],\n",
       "        [0, 0, 0, 0],\n",
       "        [0, 0, 0, 0],\n",
       "        [0, 0, 3, 4]])"
      ]
     },
     "execution_count": 135,
     "metadata": {},
     "output_type": "execute_result"
    }
   ],
   "source": [
    "new_test"
   ]
  },
  {
   "cell_type": "code",
   "execution_count": 136,
   "id": "4e4c1b03",
   "metadata": {},
   "outputs": [
    {
     "data": {
      "text/plain": [
       "tensor(1.7500)"
      ]
     },
     "execution_count": 136,
     "metadata": {},
     "output_type": "execute_result"
    }
   ],
   "source": [
    "F.l1_loss(test, new_test, reduction=\"mean\")"
   ]
  },
  {
   "cell_type": "markdown",
   "id": "eeebb46e",
   "metadata": {},
   "source": [
    "^ The above loss includes comparing the values that weren't masked, which shrinks the loss towards 0. We want to compare the masked values only."
   ]
  },
  {
   "cell_type": "code",
   "execution_count": 147,
   "id": "0d8645c5",
   "metadata": {},
   "outputs": [
    {
     "data": {
      "text/plain": [
       "tensor([[1., 0., 0., 1.],\n",
       "        [0., 0., 0., 0.],\n",
       "        [0., 0., 0., 0.],\n",
       "        [0., 0., 1., 1.]], dtype=torch.float64)"
      ]
     },
     "execution_count": 147,
     "metadata": {},
     "output_type": "execute_result"
    }
   ],
   "source": [
    "masking_tensor = masked_at_random * masked_cells * masked_genes\n",
    "masking_tensor.type('torch.DoubleTensor')"
   ]
  },
  {
   "cell_type": "code",
   "execution_count": 148,
   "id": "dc1d756a",
   "metadata": {},
   "outputs": [
    {
     "data": {
      "text/plain": [
       "tensor(2.3333)"
      ]
     },
     "execution_count": 148,
     "metadata": {},
     "output_type": "execute_result"
    }
   ],
   "source": [
    "F.l1_loss(test[~masking_tensor], new_test[~masking_tensor])"
   ]
  },
  {
   "cell_type": "code",
   "execution_count": 149,
   "id": "4842afd6",
   "metadata": {},
   "outputs": [
    {
     "data": {
      "text/plain": [
       "(tensor([2., 3., 1., 2., 3., 4., 1., 2., 3., 4., 1., 2.]),\n",
       " tensor([0, 0, 0, 0, 0, 0, 0, 0, 0, 0, 0, 0]))"
      ]
     },
     "execution_count": 149,
     "metadata": {},
     "output_type": "execute_result"
    }
   ],
   "source": [
    "test[~masking_tensor], new_test[~masking_tensor]"
   ]
  },
  {
   "cell_type": "markdown",
   "id": "1410d9d2",
   "metadata": {},
   "source": [
    "^ Notice that when taking the logical inverse of the masking tensor, we only keep the indeces that were masked. This achieves the desired loss calculation."
   ]
  },
  {
   "cell_type": "code",
   "execution_count": null,
   "id": "2f7b1821",
   "metadata": {},
   "outputs": [],
   "source": []
  }
 ],
 "metadata": {
  "kernelspec": {
   "display_name": "Python 3 (ipykernel)",
   "language": "python",
   "name": "python3"
  },
  "language_info": {
   "codemirror_mode": {
    "name": "ipython",
    "version": 3
   },
   "file_extension": ".py",
   "mimetype": "text/x-python",
   "name": "python",
   "nbconvert_exporter": "python",
   "pygments_lexer": "ipython3",
   "version": "3.8.10"
  }
 },
 "nbformat": 4,
 "nbformat_minor": 5
}
