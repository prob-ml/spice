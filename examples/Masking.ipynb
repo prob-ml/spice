{
 "cells": [
  {
   "cell_type": "markdown",
   "id": "complimentary-lunch",
   "metadata": {},
   "source": [
    "# Masking Demonstration"
   ]
  },
  {
   "cell_type": "code",
   "execution_count": 9,
   "id": "lasting-footage",
   "metadata": {},
   "outputs": [],
   "source": [
    "import torch"
   ]
  },
  {
   "cell_type": "code",
   "execution_count": 20,
   "id": "nutritional-ecuador",
   "metadata": {},
   "outputs": [
    {
     "data": {
      "text/plain": [
       "tensor([[1, 2, 3, 4],\n",
       "        [1, 2, 3, 4],\n",
       "        [1, 2, 3, 4],\n",
       "        [1, 2, 3, 4]])"
      ]
     },
     "execution_count": 20,
     "metadata": {},
     "output_type": "execute_result"
    }
   ],
   "source": [
    "test = torch.tensor([[1,2,3,4],[1,2,3,4],[1,2,3,4],[1,2,3,4]])\n",
    "test"
   ]
  },
  {
   "cell_type": "code",
   "execution_count": 21,
   "id": "senior-adobe",
   "metadata": {},
   "outputs": [
    {
     "data": {
      "text/plain": [
       "tensor([[1, 2, 3, 4],\n",
       "        [1, 2, 3, 4],\n",
       "        [1, 2, 3, 4],\n",
       "        [1, 2, 3, 4]])"
      ]
     },
     "execution_count": 21,
     "metadata": {},
     "output_type": "execute_result"
    }
   ],
   "source": [
    "new_test = test\n",
    "new_test"
   ]
  },
  {
   "cell_type": "code",
   "execution_count": 22,
   "id": "appropriate-shepherd",
   "metadata": {},
   "outputs": [
    {
     "data": {
      "text/plain": [
       "tensor([[1.],\n",
       "        [1.],\n",
       "        [0.],\n",
       "        [0.]], dtype=torch.float64)"
      ]
     },
     "execution_count": 22,
     "metadata": {},
     "output_type": "execute_result"
    }
   ],
   "source": [
    "masked = torch.rand((4,1)) < 0.5 # we use mask_prop of 0.5\n",
    "masked.type('torch.DoubleTensor')"
   ]
  },
  {
   "cell_type": "code",
   "execution_count": 23,
   "id": "champion-aging",
   "metadata": {},
   "outputs": [
    {
     "data": {
      "text/plain": [
       "tensor([[1, 2, 3, 4],\n",
       "        [1, 2, 3, 4],\n",
       "        [1, 2, 0, 0],\n",
       "        [1, 2, 0, 0]])"
      ]
     },
     "execution_count": 23,
     "metadata": {},
     "output_type": "execute_result"
    }
   ],
   "source": [
    "new_test[:, torch.tensor([2,3])] *=  masked\n",
    "new_test"
   ]
  },
  {
   "cell_type": "markdown",
   "id": "disturbed-astrology",
   "metadata": {},
   "source": [
    "Note that in this case, in column indexes 2 and 3 (our sample response genes for the exercise) we get 0s in the rows where the row value in _masked_ is 0. In this case in particular, rows 3 and 4 were randomly selected to be masked, so rows 3 and 4 have values of 0 for the re"
   ]
  },
  {
   "cell_type": "code",
   "execution_count": null,
   "id": "polyphonic-scout",
   "metadata": {},
   "outputs": [],
   "source": []
  }
 ],
 "metadata": {
  "kernelspec": {
   "display_name": "Python 3",
   "language": "python",
   "name": "python3"
  },
  "language_info": {
   "codemirror_mode": {
    "name": "ipython",
    "version": 3
   },
   "file_extension": ".py",
   "mimetype": "text/x-python",
   "name": "python",
   "nbconvert_exporter": "python",
   "pygments_lexer": "ipython3",
   "version": "3.8.10"
  }
 },
 "nbformat": 4,
 "nbformat_minor": 5
}
