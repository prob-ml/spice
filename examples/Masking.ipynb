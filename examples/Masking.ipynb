{
 "cells": [
  {
   "cell_type": "markdown",
   "id": "complimentary-lunch",
   "metadata": {},
   "source": [
    "# Masking Demonstration"
   ]
  },
  {
   "cell_type": "code",
   "execution_count": 5,
   "id": "lasting-footage",
   "metadata": {},
   "outputs": [],
   "source": [
    "import torch"
   ]
  },
  {
   "cell_type": "code",
   "execution_count": 6,
   "id": "nutritional-ecuador",
   "metadata": {},
   "outputs": [
    {
     "data": {
      "text/plain": [
       "tensor([[1, 2, 3, 4],\n",
       "        [1, 2, 3, 4],\n",
       "        [1, 2, 3, 4],\n",
       "        [1, 2, 3, 4]])"
      ]
     },
     "execution_count": 6,
     "metadata": {},
     "output_type": "execute_result"
    }
   ],
   "source": [
    "test = torch.tensor([[1,2,3,4],[1,2,3,4],[1,2,3,4],[1,2,3,4]])\n",
    "test"
   ]
  },
  {
   "cell_type": "code",
   "execution_count": 7,
   "id": "senior-adobe",
   "metadata": {},
   "outputs": [
    {
     "data": {
      "text/plain": [
       "tensor([[1, 2, 3, 4],\n",
       "        [1, 2, 3, 4],\n",
       "        [1, 2, 3, 4],\n",
       "        [1, 2, 3, 4]])"
      ]
     },
     "execution_count": 7,
     "metadata": {},
     "output_type": "execute_result"
    }
   ],
   "source": [
    "new_test = test\n",
    "new_test"
   ]
  },
  {
   "cell_type": "code",
   "execution_count": 8,
   "id": "appropriate-shepherd",
   "metadata": {},
   "outputs": [
    {
     "data": {
      "text/plain": [
       "tensor([[0.],\n",
       "        [1.],\n",
       "        [0.],\n",
       "        [1.]], dtype=torch.float64)"
      ]
     },
     "execution_count": 8,
     "metadata": {},
     "output_type": "execute_result"
    }
   ],
   "source": [
    "masked = torch.rand((4,1)) < 0.75 # we use mask_prop of 0.75 to showcase majority masked\n",
    "masked.type('torch.DoubleTensor')"
   ]
  },
  {
   "cell_type": "code",
   "execution_count": 9,
   "id": "champion-aging",
   "metadata": {},
   "outputs": [
    {
     "data": {
      "text/plain": [
       "tensor([[1, 2, 3, 4],\n",
       "        [1, 2, 0, 0],\n",
       "        [1, 2, 3, 4],\n",
       "        [1, 2, 0, 0]])"
      ]
     },
     "execution_count": 9,
     "metadata": {},
     "output_type": "execute_result"
    }
   ],
   "source": [
    "masked = masked.type_as(new_test)\n",
    "\n",
    "new_test[:, torch.tensor([2,3])] *= (1-masked)\n",
    "new_test"
   ]
  },
  {
   "cell_type": "markdown",
   "id": "disturbed-astrology",
   "metadata": {},
   "source": [
    "Note that in this case, in column indexes 2 and 3 (our sample response genes for the exercise) we get 0s in the row indexes where the row value in _masked_ is 1. In this case in particular, row indexes 0, 1, and 2 were randomly selected to be masked, so rows 0, 1, and 2 have values of 0 for the response genes."
   ]
  },
  {
   "cell_type": "code",
   "execution_count": 10,
   "id": "8516b455",
   "metadata": {},
   "outputs": [],
   "source": [
    "test = torch.rand(100,100)"
   ]
  },
  {
   "cell_type": "code",
   "execution_count": 16,
   "id": "1f52485d",
   "metadata": {},
   "outputs": [],
   "source": [
    "masked = torch.rand(1,100) < 0.5"
   ]
  },
  {
   "cell_type": "code",
   "execution_count": 17,
   "id": "a1027901",
   "metadata": {},
   "outputs": [],
   "source": [
    "masked = masked.type_as(test)"
   ]
  },
  {
   "cell_type": "code",
   "execution_count": 18,
   "id": "4eef6a8b",
   "metadata": {},
   "outputs": [],
   "source": [
    "newtest = test * (1-masked)"
   ]
  },
  {
   "cell_type": "code",
   "execution_count": 19,
   "id": "7a1e700c",
   "metadata": {},
   "outputs": [
    {
     "data": {
      "text/plain": [
       "tensor([[0.4574, 0.8422, 0.7351,  ..., 0.0088, 0.0880, 0.1698],\n",
       "        [0.3491, 0.7894, 0.5229,  ..., 0.0920, 0.7091, 0.0861],\n",
       "        [0.4738, 0.2191, 0.8153,  ..., 0.9786, 0.5021, 0.3793],\n",
       "        ...,\n",
       "        [0.7611, 0.3610, 0.3346,  ..., 0.0709, 0.4123, 0.9567],\n",
       "        [0.5006, 0.6794, 0.2416,  ..., 0.1410, 0.6593, 0.5007],\n",
       "        [0.3832, 0.1256, 0.2213,  ..., 0.6657, 0.1721, 0.1937]])"
      ]
     },
     "execution_count": 19,
     "metadata": {},
     "output_type": "execute_result"
    }
   ],
   "source": [
    "test"
   ]
  },
  {
   "cell_type": "code",
   "execution_count": 20,
   "id": "0c216ed1",
   "metadata": {},
   "outputs": [
    {
     "data": {
      "text/plain": [
       "tensor([[0.0000, 0.8422, 0.0000,  ..., 0.0088, 0.0000, 0.1698],\n",
       "        [0.0000, 0.7894, 0.0000,  ..., 0.0920, 0.0000, 0.0861],\n",
       "        [0.0000, 0.2191, 0.0000,  ..., 0.9786, 0.0000, 0.3793],\n",
       "        ...,\n",
       "        [0.0000, 0.3610, 0.0000,  ..., 0.0709, 0.0000, 0.9567],\n",
       "        [0.0000, 0.6794, 0.0000,  ..., 0.1410, 0.0000, 0.5007],\n",
       "        [0.0000, 0.1256, 0.0000,  ..., 0.6657, 0.0000, 0.1937]])"
      ]
     },
     "execution_count": 20,
     "metadata": {},
     "output_type": "execute_result"
    }
   ],
   "source": [
    "newtest"
   ]
  },
  {
   "cell_type": "code",
   "execution_count": null,
   "id": "dd8657d9",
   "metadata": {},
   "outputs": [],
   "source": []
  }
 ],
 "metadata": {
  "kernelspec": {
   "display_name": "Python 3 (ipykernel)",
   "language": "python",
   "name": "python3"
  },
  "language_info": {
   "codemirror_mode": {
    "name": "ipython",
    "version": 3
   },
   "file_extension": ".py",
   "mimetype": "text/x-python",
   "name": "python",
   "nbconvert_exporter": "python",
   "pygments_lexer": "ipython3",
   "version": "3.8.10"
  }
 },
 "nbformat": 4,
 "nbformat_minor": 5
}
