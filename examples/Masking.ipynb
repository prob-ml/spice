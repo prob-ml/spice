{
 "cells": [
  {
   "cell_type": "markdown",
   "id": "complimentary-lunch",
   "metadata": {},
   "source": [
    "# Masking Demonstration"
   ]
  },
  {
   "cell_type": "code",
   "execution_count": 1,
   "id": "lasting-footage",
   "metadata": {},
   "outputs": [],
   "source": [
    "import torch"
   ]
  },
  {
   "cell_type": "code",
   "execution_count": 2,
   "id": "nutritional-ecuador",
   "metadata": {},
   "outputs": [
    {
     "data": {
      "text/plain": [
       "tensor([[1, 2, 3, 4],\n",
       "        [1, 2, 3, 4],\n",
       "        [1, 2, 3, 4],\n",
       "        [1, 2, 3, 4]])"
      ]
     },
     "execution_count": 2,
     "metadata": {},
     "output_type": "execute_result"
    }
   ],
   "source": [
    "test = torch.tensor([[1,2,3,4],[1,2,3,4],[1,2,3,4],[1,2,3,4]])\n",
    "test"
   ]
  },
  {
   "cell_type": "code",
   "execution_count": 3,
   "id": "senior-adobe",
   "metadata": {},
   "outputs": [
    {
     "data": {
      "text/plain": [
       "tensor([[1, 2, 3, 4],\n",
       "        [1, 2, 3, 4],\n",
       "        [1, 2, 3, 4],\n",
       "        [1, 2, 3, 4]])"
      ]
     },
     "execution_count": 3,
     "metadata": {},
     "output_type": "execute_result"
    }
   ],
   "source": [
    "new_test = test\n",
    "new_test"
   ]
  },
  {
   "cell_type": "code",
   "execution_count": 4,
   "id": "appropriate-shepherd",
   "metadata": {},
   "outputs": [
    {
     "data": {
      "text/plain": [
       "tensor([[1.],\n",
       "        [1.],\n",
       "        [1.],\n",
       "        [1.]], dtype=torch.float64)"
      ]
     },
     "execution_count": 4,
     "metadata": {},
     "output_type": "execute_result"
    }
   ],
   "source": [
    "masked = torch.rand((4,1)) < 0.75 # we use mask_prop of 0.75 to showcase majority masked\n",
    "masked.type('torch.DoubleTensor')"
   ]
  },
  {
   "cell_type": "code",
   "execution_count": 5,
   "id": "champion-aging",
   "metadata": {},
   "outputs": [
    {
     "data": {
      "text/plain": [
       "tensor([[1, 2, 0, 0],\n",
       "        [1, 2, 0, 0],\n",
       "        [1, 2, 0, 0],\n",
       "        [1, 2, 0, 0]])"
      ]
     },
     "execution_count": 5,
     "metadata": {},
     "output_type": "execute_result"
    }
   ],
   "source": [
    "masked = masked.type_as(new_test)\n",
    "\n",
    "new_test[:, torch.tensor([2,3])] *= (1-masked)\n",
    "new_test"
   ]
  },
  {
   "cell_type": "markdown",
   "id": "disturbed-astrology",
   "metadata": {},
   "source": [
    "Note that in this case, in column indexes 2 and 3 (our sample response genes for the exercise) we get 0s in the row indexes where the row value in _masked_ is 1. In this case in particular, row indexes 0, 1, and 2 were randomly selected to be masked, so rows 0, 1, and 2 have values of 0 for the response genes."
   ]
  }
 ],
 "metadata": {
  "kernelspec": {
   "display_name": "Python 3 (ipykernel)",
   "language": "python",
   "name": "python3"
  },
  "language_info": {
   "codemirror_mode": {
    "name": "ipython",
    "version": 3
   },
   "file_extension": ".py",
   "mimetype": "text/x-python",
   "name": "python",
   "nbconvert_exporter": "python",
   "pygments_lexer": "ipython3",
   "version": "3.8.10"
  }
 },
 "nbformat": 4,
 "nbformat_minor": 5
}
