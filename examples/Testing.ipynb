{
 "cells": [
  {
   "cell_type": "code",
   "execution_count": 4,
   "id": "agreed-interaction",
   "metadata": {},
   "outputs": [],
   "source": [
    "import os\n",
    "import torch\n",
    "import json\n",
    "\n",
    "os.environ[\"MKL_NUM_THREADS\"]=\"1\"\n",
    "os.environ[\"NUMEXPR_NUM_THREADS\"]=\"1\"\n",
    "os.environ[\"OMP_NUM_THREADS\"]=\"1\"\n",
    "os.environ[\"CUDA_VISIBLE_DEVICES\"] = \"5,6,7\"\n",
    "\n",
    "import sys\n",
    "\n",
    "import pytorch_lightning as pl\n",
    "from omegaconf import DictConfig, OmegaConf\n",
    "from pytorch_lightning.callbacks import ModelCheckpoint\n",
    "from pytorch_lightning.loggers import TensorBoardLogger\n",
    "from torch.utils.data import random_split\n",
    "from torch_geometric.data import DataLoader\n",
    "\n",
    "from spatial.merfish_dataset import FilteredMerfishDataset, MerfishDataset, SyntheticNonlinear, SyntheticDataset0, SyntheticDataset1, SyntheticDataset2, SyntheticDataset3\n",
    "from spatial.models.monet_ae import MonetAutoencoder2D, TrivialAutoencoder, MonetDense\n",
    "from spatial.train import train\n",
    "from spatial.predict import test\n",
    "\n",
    "import warnings\n",
    "warnings.filterwarnings(\"ignore\")"
   ]
  },
  {
   "cell_type": "code",
   "execution_count": 5,
   "id": "0e2682d2",
   "metadata": {},
   "outputs": [
    {
     "data": {
      "text/plain": [
       "['MonetDense__[128, 128, 128, 128, 128, 128]__30__table2OH_FULL_skip__Adam.ckpt',\n",
       " 'MonetDense__[256, 256, 256, 256, 256, 256]__0__table2OH_FULL_skip__Adam.ckpt',\n",
       " 'MonetDense__[256, 256, 256, 256, 256, 256]__40__table2_FULL_no_celltypes__Adam.ckpt',\n",
       " 'MonetDense__[512, 512, 512, 512, 512, 512]__10__table2OH_FULL_skip__Adam.ckpt',\n",
       " 'MonetDense__[256, 256, 256, 256, 256, 256]__15__table2_FULL_no_celltypes__Adam.ckpt',\n",
       " 'MonetDense__[512, 512, 512, 512, 512, 512]__5__table2_FULL_no_celltypes__Adam.ckpt',\n",
       " 'MonetDense__[128, 128, 128, 128, 128, 128]__25__table2OH_FULL_skip__Adam.ckpt',\n",
       " 'MonetDense__[256, 256, 256, 256, 256, 256]__30__table2OH_FULL_skip__Adam.ckpt',\n",
       " 'MonetDense__[128, 128, 128, 128, 128, 128]__5__table2OH_FULL_skip__Adam.ckpt',\n",
       " 'MonetDense__[128, 128, 128, 128, 128, 128]__10__table2OH_FULL_skip__Adam.ckpt',\n",
       " 'MonetDense__[512, 512, 512, 512, 512, 512]__25__table2_FULL_no_celltypes__Adam.ckpt',\n",
       " 'MonetDense__[256, 256, 256, 256, 256, 256]__30__table2_FULL_no_celltypes__Adam.ckpt',\n",
       " 'MonetDense__[512, 512, 512, 512, 512, 512]__15__table2OH_FULL_skip__Adam.ckpt',\n",
       " 'MonetDense__[128, 128, 128, 128, 128, 128]__0__table2OH_FULL_skip__Adam.ckpt',\n",
       " 'MonetDense__[512, 512, 512, 512, 512, 512]__0__table2_FULL_no_celltypes__Adam.ckpt',\n",
       " 'MonetDense__[256, 256, 256, 256, 256, 256]__5__table2_FULL_no_celltypes__Adam.ckpt',\n",
       " 'MonetDense__[256, 256, 256, 256, 256, 256]__35__table2_FULL_no_celltypes__Adam.ckpt',\n",
       " 'MonetDense__[256, 256, 256, 256, 256, 256]__40__table2OH_FULL_skip__Adam.ckpt',\n",
       " 'MonetDense__[256, 256, 256, 256, 256, 256]__25__table2OH_FULL_skip__Adam.ckpt',\n",
       " 'MonetDense__[256, 256, 256, 256, 256, 256]__5__table2OH_FULL_skip__Adam.ckpt',\n",
       " 'MonetDense__[128, 128, 128, 128, 128, 128]__55__table2OH_FULL_skip__Adam.ckpt',\n",
       " 'MonetDense__[128, 128, 128, 128, 128, 128]__15__table2OH_FULL_skip__Adam.ckpt',\n",
       " 'MonetDense__[128, 128, 128, 128, 128, 128]__35__table2OH_FULL_skip__Adam.ckpt',\n",
       " 'MonetDense__[256, 256, 256, 256, 256, 256]__10__table2_FULL_no_celltypes__Adam.ckpt',\n",
       " 'MonetDense__[128, 128, 128, 128, 128, 128]__50__table2OH_FULL_skip__Adam.ckpt',\n",
       " 'MonetDense__[512, 512, 512, 512, 512, 512]__0__table2OH_FULL_skip__Adam.ckpt',\n",
       " 'MonetDense__[256, 256, 256, 256, 256, 256]__0__table2_FULL_no_celltypes__Adam.ckpt',\n",
       " 'MonetDense__[128, 128, 128, 128, 128, 128]__20__table2OH_FULL_skip__Adam.ckpt',\n",
       " 'MonetDense__[512, 512, 512, 512, 512, 512]__20__table2OH_FULL_skip__Adam.ckpt',\n",
       " 'MonetDense__[256, 256, 256, 256, 256, 256]__10__table2OH_FULL_skip__Adam.ckpt',\n",
       " 'MonetDense__[256, 256, 256, 256, 256, 256]__20__table2_FULL_no_celltypes__Adam.ckpt',\n",
       " 'MonetDense__[512, 512, 512, 512, 512, 512]__10__table2_FULL_no_celltypes__Adam.ckpt',\n",
       " 'MonetDense__[256, 256, 256, 256, 256, 256]__20__table2OH_FULL_skip__Adam.ckpt',\n",
       " 'MonetDense__[512, 512, 512, 512, 512, 512]__5__table2OH_FULL_skip__Adam.ckpt',\n",
       " 'MonetDense__[512, 512, 512, 512, 512, 512]__20__table2_FULL_no_celltypes__Adam.ckpt',\n",
       " 'MonetDense__[128, 128, 128, 128, 128, 128]__40__table2OH_FULL_skip__Adam.ckpt',\n",
       " 'MonetDense__[256, 256, 256, 256, 256, 256]__15__table2OH_FULL_skip__Adam.ckpt',\n",
       " 'MonetDense__[256, 256, 256, 256, 256, 256]__25__table2_FULL_no_celltypes__Adam.ckpt',\n",
       " 'MonetDense__[256, 256, 256, 256, 256, 256]__35__table2OH_FULL_skip__Adam.ckpt',\n",
       " 'MonetDense__[512, 512, 512, 512, 512, 512]__25__table2OH_FULL_skip__Adam.ckpt',\n",
       " 'MonetDense__[128, 128, 128, 128, 128, 128]__45__table2OH_FULL_skip__Adam.ckpt',\n",
       " 'MonetDense__[512, 512, 512, 512, 512, 512]__15__table2_FULL_no_celltypes__Adam.ckpt']"
      ]
     },
     "execution_count": 5,
     "metadata": {},
     "output_type": "execute_result"
    }
   ],
   "source": [
    "os.listdir('../output/lightning_logs/checkpoints/MonetDense/.')"
   ]
  },
  {
   "cell_type": "code",
   "execution_count": 31,
   "id": "95415882",
   "metadata": {},
   "outputs": [
    {
     "name": "stderr",
     "output_type": "stream",
     "text": [
      "100%|████████████████████████████████████████████████████████████████████████| 157/157 [02:01<00:00,  1.30it/s]\n"
     ]
    }
   ],
   "source": [
    "test = MerfishDataset(\"../data\", radius=5)"
   ]
  },
  {
   "cell_type": "code",
   "execution_count": 34,
   "id": "ca36b733",
   "metadata": {},
   "outputs": [],
   "source": [
    "new_test = [sample for sample in test if sample.anid != 30]"
   ]
  },
  {
   "cell_type": "code",
   "execution_count": 36,
   "id": "3de00d99",
   "metadata": {},
   "outputs": [
    {
     "data": {
      "text/plain": [
       "[Data(x=[6509, 155], edge_index=[2, 6603], y=[6509, 2], pos=[6509, 2], bregma=[1], anid=[1]),\n",
       " Data(x=[6412, 155], edge_index=[2, 6484], y=[6412, 2], pos=[6412, 2], bregma=[1], anid=[1]),\n",
       " Data(x=[6507, 155], edge_index=[2, 6581], y=[6507, 2], pos=[6507, 2], bregma=[1], anid=[1]),\n",
       " Data(x=[6605, 155], edge_index=[2, 6669], y=[6605, 2], pos=[6605, 2], bregma=[1], anid=[1]),\n",
       " Data(x=[6185, 155], edge_index=[2, 6255], y=[6185, 2], pos=[6185, 2], bregma=[1], anid=[1]),\n",
       " Data(x=[6154, 155], edge_index=[2, 6216], y=[6154, 2], pos=[6154, 2], bregma=[1], anid=[1]),\n",
       " Data(x=[6111, 155], edge_index=[2, 6181], y=[6111, 2], pos=[6111, 2], bregma=[1], anid=[1]),\n",
       " Data(x=[6144, 155], edge_index=[2, 6220], y=[6144, 2], pos=[6144, 2], bregma=[1], anid=[1]),\n",
       " Data(x=[5799, 155], edge_index=[2, 5843], y=[5799, 2], pos=[5799, 2], bregma=[1], anid=[1]),\n",
       " Data(x=[6067, 155], edge_index=[2, 6141], y=[6067, 2], pos=[6067, 2], bregma=[1], anid=[1]),\n",
       " Data(x=[5578, 155], edge_index=[2, 5630], y=[5578, 2], pos=[5578, 2], bregma=[1], anid=[1]),\n",
       " Data(x=[5584, 155], edge_index=[2, 5614], y=[5584, 2], pos=[5584, 2], bregma=[1], anid=[1]),\n",
       " Data(x=[6091, 155], edge_index=[2, 6195], y=[6091, 2], pos=[6091, 2], bregma=[1], anid=[1]),\n",
       " Data(x=[6263, 155], edge_index=[2, 6345], y=[6263, 2], pos=[6263, 2], bregma=[1], anid=[1]),\n",
       " Data(x=[6328, 155], edge_index=[2, 6408], y=[6328, 2], pos=[6328, 2], bregma=[1], anid=[1]),\n",
       " Data(x=[6135, 155], edge_index=[2, 6209], y=[6135, 2], pos=[6135, 2], bregma=[1], anid=[1]),\n",
       " Data(x=[5819, 155], edge_index=[2, 5907], y=[5819, 2], pos=[5819, 2], bregma=[1], anid=[1]),\n",
       " Data(x=[5693, 155], edge_index=[2, 5731], y=[5693, 2], pos=[5693, 2], bregma=[1], anid=[1]),\n",
       " Data(x=[5677, 155], edge_index=[2, 5727], y=[5677, 2], pos=[5677, 2], bregma=[1], anid=[1]),\n",
       " Data(x=[5381, 155], edge_index=[2, 5439], y=[5381, 2], pos=[5381, 2], bregma=[1], anid=[1]),\n",
       " Data(x=[5727, 155], edge_index=[2, 5807], y=[5727, 2], pos=[5727, 2], bregma=[1], anid=[1]),\n",
       " Data(x=[5284, 155], edge_index=[2, 5334], y=[5284, 2], pos=[5284, 2], bregma=[1], anid=[1]),\n",
       " Data(x=[5361, 155], edge_index=[2, 5431], y=[5361, 2], pos=[5361, 2], bregma=[1], anid=[1]),\n",
       " Data(x=[5280, 155], edge_index=[2, 5336], y=[5280, 2], pos=[5280, 2], bregma=[1], anid=[1]),\n",
       " Data(x=[5824, 155], edge_index=[2, 5908], y=[5824, 2], pos=[5824, 2], bregma=[1], anid=[1]),\n",
       " Data(x=[6058, 155], edge_index=[2, 6136], y=[6058, 2], pos=[6058, 2], bregma=[1], anid=[1]),\n",
       " Data(x=[5889, 155], edge_index=[2, 5941], y=[5889, 2], pos=[5889, 2], bregma=[1], anid=[1]),\n",
       " Data(x=[5736, 155], edge_index=[2, 5818], y=[5736, 2], pos=[5736, 2], bregma=[1], anid=[1]),\n",
       " Data(x=[5451, 155], edge_index=[2, 5513], y=[5451, 2], pos=[5451, 2], bregma=[1], anid=[1]),\n",
       " Data(x=[5331, 155], edge_index=[2, 5383], y=[5331, 2], pos=[5331, 2], bregma=[1], anid=[1]),\n",
       " Data(x=[6236, 155], edge_index=[2, 6298], y=[6236, 2], pos=[6236, 2], bregma=[1], anid=[1]),\n",
       " Data(x=[5694, 155], edge_index=[2, 5768], y=[5694, 2], pos=[5694, 2], bregma=[1], anid=[1]),\n",
       " Data(x=[6036, 155], edge_index=[2, 6090], y=[6036, 2], pos=[6036, 2], bregma=[1], anid=[1]),\n",
       " Data(x=[4689, 155], edge_index=[2, 4753], y=[4689, 2], pos=[4689, 2], bregma=[1], anid=[1]),\n",
       " Data(x=[5710, 155], edge_index=[2, 5758], y=[5710, 2], pos=[5710, 2], bregma=[1], anid=[1]),\n",
       " Data(x=[5951, 155], edge_index=[2, 6029], y=[5951, 2], pos=[5951, 2], bregma=[1], anid=[1]),\n",
       " Data(x=[5329, 155], edge_index=[2, 5377], y=[5329, 2], pos=[5329, 2], bregma=[1], anid=[1]),\n",
       " Data(x=[5765, 155], edge_index=[2, 5849], y=[5765, 2], pos=[5765, 2], bregma=[1], anid=[1]),\n",
       " Data(x=[5839, 155], edge_index=[2, 5897], y=[5839, 2], pos=[5839, 2], bregma=[1], anid=[1]),\n",
       " Data(x=[5228, 155], edge_index=[2, 5270], y=[5228, 2], pos=[5228, 2], bregma=[1], anid=[1]),\n",
       " Data(x=[5457, 155], edge_index=[2, 5513], y=[5457, 2], pos=[5457, 2], bregma=[1], anid=[1]),\n",
       " Data(x=[5555, 155], edge_index=[2, 5611], y=[5555, 2], pos=[5555, 2], bregma=[1], anid=[1]),\n",
       " Data(x=[5491, 155], edge_index=[2, 5541], y=[5491, 2], pos=[5491, 2], bregma=[1], anid=[1]),\n",
       " Data(x=[5429, 155], edge_index=[2, 5465], y=[5429, 2], pos=[5429, 2], bregma=[1], anid=[1]),\n",
       " Data(x=[5143, 155], edge_index=[2, 5183], y=[5143, 2], pos=[5143, 2], bregma=[1], anid=[1]),\n",
       " Data(x=[5285, 155], edge_index=[2, 5319], y=[5285, 2], pos=[5285, 2], bregma=[1], anid=[1]),\n",
       " Data(x=[4661, 155], edge_index=[2, 4679], y=[4661, 2], pos=[4661, 2], bregma=[1], anid=[1]),\n",
       " Data(x=[5912, 155], edge_index=[2, 5980], y=[5912, 2], pos=[5912, 2], bregma=[1], anid=[1]),\n",
       " Data(x=[5986, 155], edge_index=[2, 6038], y=[5986, 2], pos=[5986, 2], bregma=[1], anid=[1]),\n",
       " Data(x=[5881, 155], edge_index=[2, 5951], y=[5881, 2], pos=[5881, 2], bregma=[1], anid=[1]),\n",
       " Data(x=[5939, 155], edge_index=[2, 5981], y=[5939, 2], pos=[5939, 2], bregma=[1], anid=[1]),\n",
       " Data(x=[5954, 155], edge_index=[2, 6046], y=[5954, 2], pos=[5954, 2], bregma=[1], anid=[1]),\n",
       " Data(x=[5994, 155], edge_index=[2, 6060], y=[5994, 2], pos=[5994, 2], bregma=[1], anid=[1]),\n",
       " Data(x=[5862, 155], edge_index=[2, 5930], y=[5862, 2], pos=[5862, 2], bregma=[1], anid=[1]),\n",
       " Data(x=[5423, 155], edge_index=[2, 5485], y=[5423, 2], pos=[5423, 2], bregma=[1], anid=[1]),\n",
       " Data(x=[6000, 155], edge_index=[2, 6066], y=[6000, 2], pos=[6000, 2], bregma=[1], anid=[1]),\n",
       " Data(x=[5780, 155], edge_index=[2, 5850], y=[5780, 2], pos=[5780, 2], bregma=[1], anid=[1]),\n",
       " Data(x=[5862, 155], edge_index=[2, 5922], y=[5862, 2], pos=[5862, 2], bregma=[1], anid=[1]),\n",
       " Data(x=[5905, 155], edge_index=[2, 5963], y=[5905, 2], pos=[5905, 2], bregma=[1], anid=[1]),\n",
       " Data(x=[5452, 155], edge_index=[2, 5520], y=[5452, 2], pos=[5452, 2], bregma=[1], anid=[1]),\n",
       " Data(x=[5983, 155], edge_index=[2, 6021], y=[5983, 2], pos=[5983, 2], bregma=[1], anid=[1]),\n",
       " Data(x=[6011, 155], edge_index=[2, 6101], y=[6011, 2], pos=[6011, 2], bregma=[1], anid=[1]),\n",
       " Data(x=[5970, 155], edge_index=[2, 6036], y=[5970, 2], pos=[5970, 2], bregma=[1], anid=[1]),\n",
       " Data(x=[6417, 155], edge_index=[2, 6489], y=[6417, 2], pos=[6417, 2], bregma=[1], anid=[1]),\n",
       " Data(x=[6483, 155], edge_index=[2, 6555], y=[6483, 2], pos=[6483, 2], bregma=[1], anid=[1]),\n",
       " Data(x=[6342, 155], edge_index=[2, 6434], y=[6342, 2], pos=[6342, 2], bregma=[1], anid=[1]),\n",
       " Data(x=[6398, 155], edge_index=[2, 6474], y=[6398, 2], pos=[6398, 2], bregma=[1], anid=[1]),\n",
       " Data(x=[6231, 155], edge_index=[2, 6313], y=[6231, 2], pos=[6231, 2], bregma=[1], anid=[1]),\n",
       " Data(x=[6215, 155], edge_index=[2, 6263], y=[6215, 2], pos=[6215, 2], bregma=[1], anid=[1]),\n",
       " Data(x=[6200, 155], edge_index=[2, 6254], y=[6200, 2], pos=[6200, 2], bregma=[1], anid=[1]),\n",
       " Data(x=[6105, 155], edge_index=[2, 6189], y=[6105, 2], pos=[6105, 2], bregma=[1], anid=[1]),\n",
       " Data(x=[5381, 155], edge_index=[2, 5457], y=[5381, 2], pos=[5381, 2], bregma=[1], anid=[1]),\n",
       " Data(x=[6176, 155], edge_index=[2, 6240], y=[6176, 2], pos=[6176, 2], bregma=[1], anid=[1]),\n",
       " Data(x=[5775, 155], edge_index=[2, 5827], y=[5775, 2], pos=[5775, 2], bregma=[1], anid=[1]),\n",
       " Data(x=[5769, 155], edge_index=[2, 5851], y=[5769, 2], pos=[5769, 2], bregma=[1], anid=[1]),\n",
       " Data(x=[6051, 155], edge_index=[2, 6139], y=[6051, 2], pos=[6051, 2], bregma=[1], anid=[1]),\n",
       " Data(x=[6026, 155], edge_index=[2, 6112], y=[6026, 2], pos=[6026, 2], bregma=[1], anid=[1]),\n",
       " Data(x=[5779, 155], edge_index=[2, 5845], y=[5779, 2], pos=[5779, 2], bregma=[1], anid=[1]),\n",
       " Data(x=[5811, 155], edge_index=[2, 5885], y=[5811, 2], pos=[5811, 2], bregma=[1], anid=[1]),\n",
       " Data(x=[5722, 155], edge_index=[2, 5772], y=[5722, 2], pos=[5722, 2], bregma=[1], anid=[1]),\n",
       " Data(x=[6105, 155], edge_index=[2, 6185], y=[6105, 2], pos=[6105, 2], bregma=[1], anid=[1]),\n",
       " Data(x=[6101, 155], edge_index=[2, 6175], y=[6101, 2], pos=[6101, 2], bregma=[1], anid=[1]),\n",
       " Data(x=[6175, 155], edge_index=[2, 6235], y=[6175, 2], pos=[6175, 2], bregma=[1], anid=[1]),\n",
       " Data(x=[5653, 155], edge_index=[2, 5715], y=[5653, 2], pos=[5653, 2], bregma=[1], anid=[1]),\n",
       " Data(x=[5848, 155], edge_index=[2, 5908], y=[5848, 2], pos=[5848, 2], bregma=[1], anid=[1]),\n",
       " Data(x=[5410, 155], edge_index=[2, 5448], y=[5410, 2], pos=[5410, 2], bregma=[1], anid=[1]),\n",
       " Data(x=[5787, 155], edge_index=[2, 5849], y=[5787, 2], pos=[5787, 2], bregma=[1], anid=[1]),\n",
       " Data(x=[5556, 155], edge_index=[2, 5616], y=[5556, 2], pos=[5556, 2], bregma=[1], anid=[1]),\n",
       " Data(x=[4905, 155], edge_index=[2, 4963], y=[4905, 2], pos=[4905, 2], bregma=[1], anid=[1]),\n",
       " Data(x=[5403, 155], edge_index=[2, 5489], y=[5403, 2], pos=[5403, 2], bregma=[1], anid=[1]),\n",
       " Data(x=[5726, 155], edge_index=[2, 5806], y=[5726, 2], pos=[5726, 2], bregma=[1], anid=[1]),\n",
       " Data(x=[5790, 155], edge_index=[2, 5858], y=[5790, 2], pos=[5790, 2], bregma=[1], anid=[1]),\n",
       " Data(x=[5563, 155], edge_index=[2, 5619], y=[5563, 2], pos=[5563, 2], bregma=[1], anid=[1]),\n",
       " Data(x=[5652, 155], edge_index=[2, 5724], y=[5652, 2], pos=[5652, 2], bregma=[1], anid=[1]),\n",
       " Data(x=[5434, 155], edge_index=[2, 5490], y=[5434, 2], pos=[5434, 2], bregma=[1], anid=[1]),\n",
       " Data(x=[5880, 155], edge_index=[2, 5936], y=[5880, 2], pos=[5880, 2], bregma=[1], anid=[1]),\n",
       " Data(x=[5619, 155], edge_index=[2, 5673], y=[5619, 2], pos=[5619, 2], bregma=[1], anid=[1]),\n",
       " Data(x=[5669, 155], edge_index=[2, 5741], y=[5669, 2], pos=[5669, 2], bregma=[1], anid=[1]),\n",
       " Data(x=[5206, 155], edge_index=[2, 5274], y=[5206, 2], pos=[5206, 2], bregma=[1], anid=[1]),\n",
       " Data(x=[5711, 155], edge_index=[2, 5773], y=[5711, 2], pos=[5711, 2], bregma=[1], anid=[1]),\n",
       " Data(x=[5504, 155], edge_index=[2, 5546], y=[5504, 2], pos=[5504, 2], bregma=[1], anid=[1]),\n",
       " Data(x=[5391, 155], edge_index=[2, 5439], y=[5391, 2], pos=[5391, 2], bregma=[1], anid=[1]),\n",
       " Data(x=[5323, 155], edge_index=[2, 5371], y=[5323, 2], pos=[5323, 2], bregma=[1], anid=[1]),\n",
       " Data(x=[5417, 155], edge_index=[2, 5483], y=[5417, 2], pos=[5417, 2], bregma=[1], anid=[1]),\n",
       " Data(x=[5361, 155], edge_index=[2, 5439], y=[5361, 2], pos=[5361, 2], bregma=[1], anid=[1]),\n",
       " Data(x=[5373, 155], edge_index=[2, 5435], y=[5373, 2], pos=[5373, 2], bregma=[1], anid=[1]),\n",
       " Data(x=[4828, 155], edge_index=[2, 4888], y=[4828, 2], pos=[4828, 2], bregma=[1], anid=[1]),\n",
       " Data(x=[5665, 155], edge_index=[2, 5733], y=[5665, 2], pos=[5665, 2], bregma=[1], anid=[1]),\n",
       " Data(x=[5967, 155], edge_index=[2, 6027], y=[5967, 2], pos=[5967, 2], bregma=[1], anid=[1]),\n",
       " Data(x=[5881, 155], edge_index=[2, 5949], y=[5881, 2], pos=[5881, 2], bregma=[1], anid=[1]),\n",
       " Data(x=[5555, 155], edge_index=[2, 5605], y=[5555, 2], pos=[5555, 2], bregma=[1], anid=[1]),\n",
       " Data(x=[5533, 155], edge_index=[2, 5579], y=[5533, 2], pos=[5533, 2], bregma=[1], anid=[1]),\n",
       " Data(x=[5392, 155], edge_index=[2, 5434], y=[5392, 2], pos=[5392, 2], bregma=[1], anid=[1]),\n",
       " Data(x=[5194, 155], edge_index=[2, 5260], y=[5194, 2], pos=[5194, 2], bregma=[1], anid=[1]),\n",
       " Data(x=[4807, 155], edge_index=[2, 4867], y=[4807, 2], pos=[4807, 2], bregma=[1], anid=[1]),\n",
       " Data(x=[5283, 155], edge_index=[2, 5341], y=[5283, 2], pos=[5283, 2], bregma=[1], anid=[1]),\n",
       " Data(x=[5620, 155], edge_index=[2, 5706], y=[5620, 2], pos=[5620, 2], bregma=[1], anid=[1]),\n",
       " Data(x=[5394, 155], edge_index=[2, 5456], y=[5394, 2], pos=[5394, 2], bregma=[1], anid=[1]),\n",
       " Data(x=[5696, 155], edge_index=[2, 5758], y=[5696, 2], pos=[5696, 2], bregma=[1], anid=[1]),\n",
       " Data(x=[4877, 155], edge_index=[2, 4929], y=[4877, 2], pos=[4877, 2], bregma=[1], anid=[1]),\n",
       " Data(x=[5129, 155], edge_index=[2, 5195], y=[5129, 2], pos=[5129, 2], bregma=[1], anid=[1]),\n",
       " Data(x=[5434, 155], edge_index=[2, 5502], y=[5434, 2], pos=[5434, 2], bregma=[1], anid=[1]),\n",
       " Data(x=[5770, 155], edge_index=[2, 5826], y=[5770, 2], pos=[5770, 2], bregma=[1], anid=[1]),\n",
       " Data(x=[5624, 155], edge_index=[2, 5684], y=[5624, 2], pos=[5624, 2], bregma=[1], anid=[1]),\n",
       " Data(x=[5212, 155], edge_index=[2, 5248], y=[5212, 2], pos=[5212, 2], bregma=[1], anid=[1]),\n",
       " Data(x=[5492, 155], edge_index=[2, 5554], y=[5492, 2], pos=[5492, 2], bregma=[1], anid=[1]),\n",
       " Data(x=[5956, 155], edge_index=[2, 6030], y=[5956, 2], pos=[5956, 2], bregma=[1], anid=[1]),\n",
       " Data(x=[5857, 155], edge_index=[2, 5933], y=[5857, 2], pos=[5857, 2], bregma=[1], anid=[1]),\n",
       " Data(x=[5449, 155], edge_index=[2, 5483], y=[5449, 2], pos=[5449, 2], bregma=[1], anid=[1]),\n",
       " Data(x=[5603, 155], edge_index=[2, 5643], y=[5603, 2], pos=[5603, 2], bregma=[1], anid=[1]),\n",
       " Data(x=[5384, 155], edge_index=[2, 5426], y=[5384, 2], pos=[5384, 2], bregma=[1], anid=[1]),\n",
       " Data(x=[5606, 155], edge_index=[2, 5664], y=[5606, 2], pos=[5606, 2], bregma=[1], anid=[1]),\n",
       " Data(x=[5368, 155], edge_index=[2, 5434], y=[5368, 2], pos=[5368, 2], bregma=[1], anid=[1]),\n",
       " Data(x=[5334, 155], edge_index=[2, 5380], y=[5334, 2], pos=[5334, 2], bregma=[1], anid=[1]),\n",
       " Data(x=[5017, 155], edge_index=[2, 5063], y=[5017, 2], pos=[5017, 2], bregma=[1], anid=[1]),\n",
       " Data(x=[5939, 155], edge_index=[2, 6019], y=[5939, 2], pos=[5939, 2], bregma=[1], anid=[1]),\n",
       " Data(x=[5961, 155], edge_index=[2, 6021], y=[5961, 2], pos=[5961, 2], bregma=[1], anid=[1]),\n",
       " Data(x=[5223, 155], edge_index=[2, 5267], y=[5223, 2], pos=[5223, 2], bregma=[1], anid=[1]),\n",
       " Data(x=[5261, 155], edge_index=[2, 5303], y=[5261, 2], pos=[5261, 2], bregma=[1], anid=[1]),\n",
       " Data(x=[5844, 155], edge_index=[2, 5896], y=[5844, 2], pos=[5844, 2], bregma=[1], anid=[1]),\n",
       " Data(x=[5887, 155], edge_index=[2, 5937], y=[5887, 2], pos=[5887, 2], bregma=[1], anid=[1]),\n",
       " Data(x=[5882, 155], edge_index=[2, 5956], y=[5882, 2], pos=[5882, 2], bregma=[1], anid=[1]),\n",
       " Data(x=[5468, 155], edge_index=[2, 5520], y=[5468, 2], pos=[5468, 2], bregma=[1], anid=[1]),\n",
       " Data(x=[5150, 155], edge_index=[2, 5196], y=[5150, 2], pos=[5150, 2], bregma=[1], anid=[1]),\n",
       " Data(x=[5141, 155], edge_index=[2, 5163], y=[5141, 2], pos=[5141, 2], bregma=[1], anid=[1]),\n",
       " Data(x=[5676, 155], edge_index=[2, 5742], y=[5676, 2], pos=[5676, 2], bregma=[1], anid=[1]),\n",
       " Data(x=[5599, 155], edge_index=[2, 5657], y=[5599, 2], pos=[5599, 2], bregma=[1], anid=[1]),\n",
       " Data(x=[5190, 155], edge_index=[2, 5234], y=[5190, 2], pos=[5190, 2], bregma=[1], anid=[1]),\n",
       " Data(x=[5476, 155], edge_index=[2, 5520], y=[5476, 2], pos=[5476, 2], bregma=[1], anid=[1]),\n",
       " Data(x=[5877, 155], edge_index=[2, 5959], y=[5877, 2], pos=[5877, 2], bregma=[1], anid=[1]),\n",
       " Data(x=[5815, 155], edge_index=[2, 5887], y=[5815, 2], pos=[5815, 2], bregma=[1], anid=[1]),\n",
       " Data(x=[5444, 155], edge_index=[2, 5502], y=[5444, 2], pos=[5444, 2], bregma=[1], anid=[1]),\n",
       " Data(x=[5511, 155], edge_index=[2, 5589], y=[5511, 2], pos=[5511, 2], bregma=[1], anid=[1])]"
      ]
     },
     "execution_count": 36,
     "metadata": {},
     "output_type": "execute_result"
    }
   ],
   "source": [
    "new_test"
   ]
  },
  {
   "cell_type": "markdown",
   "id": "equipped-press",
   "metadata": {},
   "source": [
    "# Testing Any Model"
   ]
  },
  {
   "cell_type": "code",
   "execution_count": 2,
   "id": "1b0cbdb5",
   "metadata": {},
   "outputs": [
    {
     "name": "stdout",
     "output_type": "stream",
     "text": [
      "Requirement already satisfied: openpyxl in /home/roko/.cache/pypoetry/virtualenvs/spatial-G_n0JvVf-py3.10/lib/python3.10/site-packages (3.1.1)\n",
      "Requirement already satisfied: et-xmlfile in /home/roko/.cache/pypoetry/virtualenvs/spatial-G_n0JvVf-py3.10/lib/python3.10/site-packages (from openpyxl) (1.1.0)\n",
      "\n",
      "\u001b[1m[\u001b[0m\u001b[34;49mnotice\u001b[0m\u001b[1;39;49m]\u001b[0m\u001b[39;49m A new release of pip available: \u001b[0m\u001b[31;49m22.3.1\u001b[0m\u001b[39;49m -> \u001b[0m\u001b[32;49m23.1.2\u001b[0m\n",
      "\u001b[1m[\u001b[0m\u001b[34;49mnotice\u001b[0m\u001b[1;39;49m]\u001b[0m\u001b[39;49m To update, run: \u001b[0m\u001b[32;49mpip install --upgrade pip\u001b[0m\n"
     ]
    }
   ],
   "source": [
    "!pip install openpyxl"
   ]
  },
  {
   "cell_type": "code",
   "execution_count": null,
   "id": "7aa3c96e",
   "metadata": {},
   "outputs": [
    {
     "name": "stderr",
     "output_type": "stream",
     "text": [
      "/home/roko/.cache/pypoetry/virtualenvs/spatial-G_n0JvVf-py3.10/lib/python3.10/site-packages/openpyxl/worksheet/_reader.py:329: UserWarning: Unknown extension is not supported and will be removed\n",
      "  warn(msg)\n"
     ]
    },
    {
     "name": "stdout",
     "output_type": "stream",
     "text": [
      "['Cbln1', 'Cxcl14', 'Crhbp', 'Gabra1', 'Cbln2', 'Gpr165', 'Glra3', 'Gabrg1', 'Adora2a', 'Vgf', 'Scg2', 'Cartpt', 'Tac2', 'Bdnf', 'Bmp7', 'Cyr61', 'Fn1', 'Fst', 'Gad1', 'Ntng1', 'Pnoc', 'Selplg', 'Sema3c', 'Sema4d', 'Serpine1', 'Adcyap1', 'Cck', 'Crh', 'Gal', 'Gnrh1', 'Nts', 'Oxt', 'Penk', 'Sst', 'Tac1', 'Trh', 'Ucn3', 'Avpr1a', 'Avpr2', 'Brs3', 'Calcr', 'Cckar', 'Cckbr', 'Crhr1', 'Crhr2', 'Galr1', 'Galr2', 'Grpr', 'Htr2c', 'Igf1r', 'Igf2r', 'Kiss1r', 'Lepr', 'Lpar1', 'Mc4r', 'Npy1r', 'Npy2r', 'Ntsr1', 'Oprd1', 'Oprk1', 'Oprl1', 'Oxtr', 'Pdgfra', 'Prlr', 'Ramp3', 'Rxfp1', 'Slc17a7', 'Slc18a2', 'Tacr1', 'Tacr3', 'Trhr']\n",
      "There are 71 genes recognized as either ligands or receptors (including new ones).\n",
      "There are 0 blank genes.\n",
      "There are 84 genes that are treated as response variables.\n",
      "There are 31 ligands.\n",
      "There are 40 receptors.\n"
     ]
    }
   ],
   "source": [
    "# read in merfish dataset and get columns names\n",
    "import pandas as pd\n",
    "\n",
    "# get relevant data stuff\n",
    "df_file = pd.ExcelFile(\"~/spatial/data/messi.xlsx\")\n",
    "messi_df = pd.read_excel(df_file, \"All.Pairs\")\n",
    "merfish_df = pd.read_csv(\"~/spatial/data/raw/merfish.csv\")\n",
    "merfish_df = merfish_df.drop(['Blank_1', 'Blank_2', 'Blank_3', 'Blank_4', 'Blank_5', 'Fos'], axis=1)\n",
    "\n",
    "# these are the 13 ligands or receptors found in MESSI\n",
    "non_response_genes = ['Cbln1', 'Cxcl14', 'Crhbp', 'Gabra1', 'Cbln2', 'Gpr165', \n",
    "                      'Glra3', 'Gabrg1', 'Adora2a', 'Vgf', 'Scg2', 'Cartpt',\n",
    "                      'Tac2']\n",
    "# this list stores the control genes aka \"Blank_{int}\"\n",
    "blank_genes = []\n",
    "\n",
    "# we will populate all of the non-response genes as being in one or the other\n",
    "# the ones already filled in come from the existing 13 L/R genes above\n",
    "ligands = [\"Cbln1\", \"Cxcl14\", \"Cbln2\", \"Vgf\", \"Scg2\", \"Cartpt\", \"Tac2\"]\n",
    "receptors = [\"Crhbp\", \"Gabra1\", \"Gpr165\", \"Glra3\", \"Gabrg1\", \"Adora2a\"]\n",
    "\n",
    "# ligands and receptor indexes in MERFISH\n",
    "non_response_indeces = [list(merfish_df.columns).index(gene)-9 for gene in non_response_genes]\n",
    "ligand_indeces = [list(merfish_df.columns).index(gene)-9 for gene in ligands]\n",
    "receptor_indeces = [list(merfish_df.columns).index(gene)-9 for gene in receptors]\n",
    "all_pairs_columns = [\n",
    "    \"Ligand.ApprovedSymbol\",\n",
    "    \"Receptor.ApprovedSymbol\",\n",
    "]\n",
    "\n",
    "\n",
    "# for column name in the column names above\n",
    "for column in all_pairs_columns:\n",
    "    for gene in merfish_df.columns:\n",
    "        if (\n",
    "            gene.upper() in list(messi_df[column])\n",
    "            and gene.upper() not in non_response_genes\n",
    "        ):\n",
    "            non_response_genes.append(gene)\n",
    "            non_response_indeces.append(list(merfish_df.columns).index(gene)-9)\n",
    "            if column[0] == \"L\":\n",
    "                ligands.append(gene)\n",
    "                ligand_indeces.append(list(merfish_df.columns).index(gene)-9)\n",
    "            else:\n",
    "                receptors.append(gene)\n",
    "                receptor_indeces.append(list(merfish_df.columns).index(gene)-9)\n",
    "        if gene[:5] == \"Blank\" and gene not in blank_genes:\n",
    "            blank_genes.append(gene)\n",
    "            # non_response_indeces.append(list(merfish_df.columns).index(gene)-9)\n",
    "\n",
    "print(non_response_genes)\n",
    "print(\n",
    "    \"There are \"\n",
    "    + str(len(non_response_genes))\n",
    "    + \" genes recognized as either ligands or receptors (including new ones).\"\n",
    ")\n",
    "\n",
    "print(\n",
    "    \"There are \"\n",
    "    + str(len(blank_genes))\n",
    "    + \" blank genes.\"\n",
    ")\n",
    "\n",
    "print(\n",
    "    \"There are \"\n",
    "    + str(155 - len(blank_genes) - len(non_response_genes))\n",
    "    + \" genes that are treated as response variables.\"\n",
    ")\n",
    "\n",
    "print(\n",
    "    \"There are \"\n",
    "    + str(len(ligands))\n",
    "    + \" ligands.\"\n",
    ")\n",
    "\n",
    "print(\n",
    "    \"There are \"\n",
    "    + str(len(receptors))\n",
    "    + \" receptors.\"\n",
    ")\n",
    "\n",
    "response_indeces = list(set(range(155)) - set(non_response_indeces))"
   ]
  },
  {
   "cell_type": "code",
   "execution_count": 7,
   "id": "cdb16277",
   "metadata": {},
   "outputs": [
    {
     "name": "stdout",
     "output_type": "stream",
     "text": [
      "MonetDense__[512, 512, 512, 512, 512, 512]__0__table2_FULL_no_celltypes__Adam\n"
     ]
    },
    {
     "name": "stderr",
     "output_type": "stream",
     "text": [
      "\n",
      "  0%|                                                                                         | 0/24 [00:00<?, ?it/s]\u001b[A\n",
      "  4%|███▍                                                                             | 1/24 [00:00<00:19,  1.17it/s]\u001b[A\n",
      "  8%|██████▊                                                                          | 2/24 [00:01<00:19,  1.15it/s]\u001b[A\n",
      " 12%|██████████▏                                                                      | 3/24 [00:02<00:18,  1.16it/s]\u001b[A\n",
      " 17%|█████████████▌                                                                   | 4/24 [00:03<00:16,  1.19it/s]\u001b[A\n",
      " 21%|████████████████▉                                                                | 5/24 [00:04<00:16,  1.17it/s]\u001b[A\n",
      " 25%|████████████████████▎                                                            | 6/24 [00:05<00:15,  1.15it/s]\u001b[A\n",
      " 29%|███████████████████████▋                                                         | 7/24 [00:06<00:15,  1.13it/s]\u001b[A\n",
      " 33%|███████████████████████████                                                      | 8/24 [00:06<00:14,  1.14it/s]\u001b[A\n",
      " 38%|██████████████████████████████▍                                                  | 9/24 [00:07<00:13,  1.13it/s]\u001b[A\n",
      " 42%|█████████████████████████████████▎                                              | 10/24 [00:08<00:12,  1.12it/s]\u001b[A\n",
      " 46%|████████████████████████████████████▋                                           | 11/24 [00:09<00:11,  1.16it/s]\u001b[A\n",
      " 50%|████████████████████████████████████████                                        | 12/24 [00:10<00:10,  1.19it/s]\u001b[A\n",
      " 54%|███████████████████████████████████████████▎                                    | 13/24 [00:11<00:09,  1.20it/s]\u001b[A\n",
      " 58%|██████████████████████████████████████████████▋                                 | 14/24 [00:11<00:08,  1.24it/s]\u001b[A\n",
      " 62%|██████████████████████████████████████████████████                              | 15/24 [00:12<00:07,  1.24it/s]\u001b[A\n",
      " 67%|█████████████████████████████████████████████████████▎                          | 16/24 [00:13<00:06,  1.25it/s]\u001b[A\n",
      " 71%|████████████████████████████████████████████████████████▋                       | 17/24 [00:14<00:05,  1.24it/s]\u001b[A\n",
      " 75%|████████████████████████████████████████████████████████████                    | 18/24 [00:15<00:04,  1.21it/s]\u001b[A\n",
      " 79%|███████████████████████████████████████████████████████████████▎                | 19/24 [00:16<00:04,  1.20it/s]\u001b[A\n",
      " 83%|██████████████████████████████████████████████████████████████████▋             | 20/24 [00:16<00:03,  1.21it/s]\u001b[A\n",
      " 88%|██████████████████████████████████████████████████████████████████████          | 21/24 [00:17<00:02,  1.21it/s]\u001b[A\n",
      " 92%|█████████████████████████████████████████████████████████████████████████▎      | 22/24 [00:18<00:01,  1.20it/s]\u001b[A\n",
      " 96%|████████████████████████████████████████████████████████████████████████████▋   | 23/24 [00:19<00:00,  1.21it/s]\u001b[A\n",
      "100%|████████████████████████████████████████████████████████████████████████████████| 24/24 [00:20<00:00,  1.19it/s]\u001b[A\n",
      "GPU available: True (cuda), used: True\n",
      "TPU available: False, using: 0 TPU cores\n",
      "IPU available: False, using: 0 IPUs\n",
      "HPU available: False, using: 0 HPUs\n",
      "`Trainer(limit_train_batches=1.0)` was configured so 100% of the batches per epoch will be used..\n",
      "`Trainer(limit_val_batches=1.0)` was configured so 100% of the batches will be used..\n",
      "LOCAL_RANK: 0 - CUDA_VISIBLE_DEVICES: [5,6,7]\n"
     ]
    },
    {
     "data": {
      "application/vnd.jupyter.widget-view+json": {
       "model_id": "b32023080cd945098bb1862457d72456",
       "version_major": 2,
       "version_minor": 0
      },
      "text/plain": [
       "Testing: 0it [00:00, ?it/s]"
      ]
     },
     "metadata": {},
     "output_type": "display_data"
    },
    {
     "name": "stdout",
     "output_type": "stream",
     "text": [
      "────────────────────────────────────────────────────────────────────────────────────────────────────────────────────────\n",
      "       Test metric             DataLoader 0\n",
      "────────────────────────────────────────────────────────────────────────────────────────────────────────────────────────\n",
      "        test_loss           0.34988829493522644\n",
      "      test_loss_mse         0.34988829493522644\n",
      "────────────────────────────────────────────────────────────────────────────────────────────────────────────────────────\n"
     ]
    },
    {
     "name": "stderr",
     "output_type": "stream",
     "text": [
      "TEST Profiler Report\n",
      "\n",
      "----------------------------------------------------------------------------------------------------------------------------------------------------------------------------------------------------------------------------------------------------------------------------------------------------------\n",
      "|  Action                                                                                                                                                                                          \t|  Mean duration (s)\t|  Num calls      \t|  Total time (s) \t|  Percentage %   \t|\n",
      "----------------------------------------------------------------------------------------------------------------------------------------------------------------------------------------------------------------------------------------------------------------------------------------------------------\n",
      "|  Total                                                                                                                                                                                           \t|  -              \t|  471            \t|  24.431         \t|  100 %          \t|\n",
      "----------------------------------------------------------------------------------------------------------------------------------------------------------------------------------------------------------------------------------------------------------------------------------------------------------\n",
      "|  run_test_evaluation                                                                                                                                                                             \t|  24.119         \t|  1              \t|  24.119         \t|  98.723         \t|\n",
      "|  [Strategy]SingleDeviceStrategy.test_step                                                                                                                                                        \t|  0.7601         \t|  24             \t|  18.242         \t|  74.671         \t|\n",
      "|  [EvaluationEpochLoop].test_dataloader_idx_0_next                                                                                                                                                \t|  0.18711        \t|  24             \t|  4.4907         \t|  18.382         \t|\n",
      "|  [Callback]TQDMProgressBar.on_test_batch_end                                                                                                                                                     \t|  0.023857       \t|  24             \t|  0.57256        \t|  2.3436         \t|\n",
      "|  [Strategy]SingleDeviceStrategy.batch_to_device                                                                                                                                                  \t|  0.0077593      \t|  24             \t|  0.18622        \t|  0.76225        \t|\n",
      "|  [LightningModule]MonetDense.transfer_batch_to_device                                                                                                                                            \t|  0.007613       \t|  24             \t|  0.18271        \t|  0.74789        \t|\n",
      "|  [Callback]TQDMProgressBar.on_test_start                                                                                                                                                         \t|  0.011708       \t|  1              \t|  0.011708       \t|  0.047922       \t|\n",
      "|  [Callback]TQDMProgressBar.on_test_batch_start                                                                                                                                                   \t|  0.00014623     \t|  24             \t|  0.0035094      \t|  0.014365       \t|\n",
      "|  [Callback]TQDMProgressBar.on_test_end                                                                                                                                                           \t|  0.0021932      \t|  1              \t|  0.0021932      \t|  0.0089773      \t|\n",
      "|  [LightningModule]MonetDense.on_test_model_train                                                                                                                                                 \t|  0.00059144     \t|  1              \t|  0.00059144     \t|  0.0024209      \t|\n",
      "|  [Callback]ModelSummary.on_test_batch_end                                                                                                                                                        \t|  1.4555e-05     \t|  24             \t|  0.00034932     \t|  0.0014299      \t|\n",
      "|  [LightningModule]MonetDense.on_test_model_eval                                                                                                                                                  \t|  0.00018531     \t|  1              \t|  0.00018531     \t|  0.00075851     \t|\n",
      "|  [LightningModule]MonetDense.on_before_batch_transfer                                                                                                                                            \t|  6.9259e-06     \t|  24             \t|  0.00016622     \t|  0.00068038     \t|\n",
      "|  [LightningModule]MonetDense.test_step_end                                                                                                                                                       \t|  5.8985e-06     \t|  24             \t|  0.00014156     \t|  0.00057946     \t|\n",
      "|  [Callback]ModelSummary.on_test_batch_start                                                                                                                                                      \t|  5.4908e-06     \t|  24             \t|  0.00013178     \t|  0.0005394      \t|\n",
      "|  [Callback]GradientAccumulationScheduler.on_test_batch_start                                                                                                                                     \t|  4.4851e-06     \t|  24             \t|  0.00010764     \t|  0.0004406      \t|\n",
      "|  [Callback]ModelCheckpoint{'monitor': 'val_loss', 'mode': 'min', 'every_n_train_steps': 0, 'every_n_epochs': 1, 'train_time_interval': None, 'save_on_train_epoch_end': True}.on_test_batch_end  \t|  4.4137e-06     \t|  24             \t|  0.00010593     \t|  0.00043359     \t|\n",
      "|  [Callback]GradientAccumulationScheduler.on_test_batch_end                                                                                                                                       \t|  4.1228e-06     \t|  24             \t|  9.8948e-05     \t|  0.00040502     \t|\n",
      "|  [LightningModule]MonetDense.on_test_batch_end                                                                                                                                                   \t|  3.8196e-06     \t|  24             \t|  9.1671e-05     \t|  0.00037523     \t|\n",
      "|  [LightningModule]MonetDense.on_after_batch_transfer                                                                                                                                             \t|  3.6646e-06     \t|  24             \t|  8.795e-05      \t|  0.00036        \t|\n",
      "|  [Callback]ModelCheckpoint{'monitor': 'val_loss', 'mode': 'min', 'every_n_train_steps': 0, 'every_n_epochs': 1, 'train_time_interval': None, 'save_on_train_epoch_end': True}.on_test_batch_start\t|  3.5706e-06     \t|  24             \t|  8.5694e-05     \t|  0.00035077     \t|\n",
      "|  [Strategy]SingleDeviceStrategy.test_step_end                                                                                                                                                    \t|  3.4075e-06     \t|  24             \t|  8.178e-05      \t|  0.00033475     \t|\n",
      "|  [LightningModule]MonetDense.on_test_batch_start                                                                                                                                                 \t|  2.9679e-06     \t|  24             \t|  7.1229e-05     \t|  0.00029156     \t|\n",
      "|  [Callback]ModelSummary.on_test_end                                                                                                                                                              \t|  1.8774e-05     \t|  1              \t|  1.8774e-05     \t|  7.6846e-05     \t|\n",
      "|  [Callback]ModelCheckpoint{'monitor': 'val_loss', 'mode': 'min', 'every_n_train_steps': 0, 'every_n_epochs': 1, 'train_time_interval': None, 'save_on_train_epoch_end': None}.setup              \t|  1.4724e-05     \t|  1              \t|  1.4724e-05     \t|  6.0269e-05     \t|\n",
      "|  [LightningModule]MonetDense.configure_callbacks                                                                                                                                                 \t|  8.207e-06      \t|  1              \t|  8.207e-06      \t|  3.3593e-05     \t|\n",
      "|  [Callback]TQDMProgressBar.teardown                                                                                                                                                              \t|  7.8499e-06     \t|  1              \t|  7.8499e-06     \t|  3.2131e-05     \t|\n",
      "|  [Callback]TQDMProgressBar.setup                                                                                                                                                                 \t|  7.5749e-06     \t|  1              \t|  7.5749e-06     \t|  3.1006e-05     \t|\n",
      "|  [LightningModule]MonetDense.test_epoch_end                                                                                                                                                      \t|  7.0001e-06     \t|  1              \t|  7.0001e-06     \t|  2.8653e-05     \t|\n",
      "|  [Callback]ModelSummary.on_test_start                                                                                                                                                            \t|  6.7339e-06     \t|  1              \t|  6.7339e-06     \t|  2.7564e-05     \t|\n",
      "|  [Callback]TQDMProgressBar.on_test_epoch_end                                                                                                                                                     \t|  5.78e-06       \t|  1              \t|  5.78e-06       \t|  2.3659e-05     \t|\n",
      "|  [Callback]GradientAccumulationScheduler.on_test_end                                                                                                                                             \t|  4.5251e-06     \t|  1              \t|  4.5251e-06     \t|  1.8522e-05     \t|\n",
      "|  [Callback]ModelSummary.on_test_epoch_end                                                                                                                                                        \t|  3.8999e-06     \t|  1              \t|  3.8999e-06     \t|  1.5963e-05     \t|\n",
      "|  [Callback]ModelCheckpoint{'monitor': 'val_loss', 'mode': 'min', 'every_n_train_steps': 0, 'every_n_epochs': 1, 'train_time_interval': None, 'save_on_train_epoch_end': True}.on_test_end        \t|  3.7621e-06     \t|  1              \t|  3.7621e-06     \t|  1.5399e-05     \t|\n",
      "|  [LightningModule]MonetDense.prepare_data                                                                                                                                                        \t|  3.4461e-06     \t|  1              \t|  3.4461e-06     \t|  1.4106e-05     \t|\n",
      "|  [Callback]GradientAccumulationScheduler.on_test_epoch_end                                                                                                                                       \t|  3.3909e-06     \t|  1              \t|  3.3909e-06     \t|  1.388e-05      \t|\n",
      "|  [Callback]ModelCheckpoint{'monitor': 'val_loss', 'mode': 'min', 'every_n_train_steps': 0, 'every_n_epochs': 1, 'train_time_interval': None, 'save_on_train_epoch_end': True}.on_test_epoch_end  \t|  3.3369e-06     \t|  1              \t|  3.3369e-06     \t|  1.3659e-05     \t|\n",
      "|  [Callback]ModelSummary.teardown                                                                                                                                                                 \t|  3.166e-06      \t|  1              \t|  3.166e-06      \t|  1.2959e-05     \t|\n",
      "|  [Callback]TQDMProgressBar.on_test_epoch_start                                                                                                                                                   \t|  3.15e-06       \t|  1              \t|  3.15e-06       \t|  1.2894e-05     \t|\n",
      "|  [LightningModule]MonetDense.on_test_end                                                                                                                                                         \t|  3.0161e-06     \t|  1              \t|  3.0161e-06     \t|  1.2346e-05     \t|\n",
      "|  [Callback]ModelCheckpoint{'monitor': 'val_loss', 'mode': 'min', 'every_n_train_steps': 0, 'every_n_epochs': 1, 'train_time_interval': None, 'save_on_train_epoch_end': True}.teardown           \t|  2.7949e-06     \t|  1              \t|  2.7949e-06     \t|  1.144e-05      \t|\n",
      "|  [LightningModule]MonetDense.on_test_epoch_end                                                                                                                                                   \t|  2.793e-06      \t|  1              \t|  2.793e-06      \t|  1.1433e-05     \t|\n",
      "|  [LightningModule]MonetDense.on_test_epoch_start                                                                                                                                                 \t|  2.6631e-06     \t|  1              \t|  2.6631e-06     \t|  1.0901e-05     \t|\n",
      "|  [Callback]GradientAccumulationScheduler.teardown                                                                                                                                                \t|  2.662e-06      \t|  1              \t|  2.662e-06      \t|  1.0896e-05     \t|\n",
      "|  [LightningModule]MonetDense.teardown                                                                                                                                                            \t|  2.593e-06      \t|  1              \t|  2.593e-06      \t|  1.0614e-05     \t|\n",
      "|  [Strategy]SingleDeviceStrategy.on_test_end                                                                                                                                                      \t|  2.567e-06      \t|  1              \t|  2.567e-06      \t|  1.0507e-05     \t|\n",
      "|  [Callback]ModelSummary.setup                                                                                                                                                                    \t|  2.031e-06      \t|  1              \t|  2.031e-06      \t|  8.3133e-06     \t|\n",
      "|  [LightningModule]MonetDense.setup                                                                                                                                                               \t|  1.4121e-06     \t|  1              \t|  1.4121e-06     \t|  5.7801e-06     \t|\n",
      "|  [Callback]GradientAccumulationScheduler.on_test_start                                                                                                                                           \t|  1.3302e-06     \t|  1              \t|  1.3302e-06     \t|  5.4447e-06     \t|\n",
      "|  [Callback]GradientAccumulationScheduler.setup                                                                                                                                                   \t|  1.3208e-06     \t|  1              \t|  1.3208e-06     \t|  5.4065e-06     \t|\n",
      "|  [Callback]ModelCheckpoint{'monitor': 'val_loss', 'mode': 'min', 'every_n_train_steps': 0, 'every_n_epochs': 1, 'train_time_interval': None, 'save_on_train_epoch_end': True}.on_test_start      \t|  1.288e-06      \t|  1              \t|  1.288e-06      \t|  5.2722e-06     \t|\n",
      "|  [LightningModule]MonetDense.on_test_start                                                                                                                                                       \t|  1.231e-06      \t|  1              \t|  1.231e-06      \t|  5.0387e-06     \t|\n",
      "|  [Callback]ModelCheckpoint{'monitor': 'val_loss', 'mode': 'min', 'every_n_train_steps': 0, 'every_n_epochs': 1, 'train_time_interval': None, 'save_on_train_epoch_end': True}.on_test_epoch_start\t|  1.156e-06      \t|  1              \t|  1.156e-06      \t|  4.7318e-06     \t|\n",
      "|  [Callback]ModelSummary.on_test_epoch_start                                                                                                                                                      \t|  1.0498e-06     \t|  1              \t|  1.0498e-06     \t|  4.2972e-06     \t|\n",
      "|  [Callback]GradientAccumulationScheduler.on_test_epoch_start                                                                                                                                     \t|  1.0401e-06     \t|  1              \t|  1.0401e-06     \t|  4.2572e-06     \t|\n",
      "|  [Strategy]SingleDeviceStrategy.on_test_start                                                                                                                                                    \t|  9.9605e-07     \t|  1              \t|  9.9605e-07     \t|  4.0771e-06     \t|\n",
      "|  [LightningModule]MonetDense.configure_sharded_model                                                                                                                                             \t|  9.8092e-07     \t|  1              \t|  9.8092e-07     \t|  4.0151e-06     \t|\n",
      "----------------------------------------------------------------------------------------------------------------------------------------------------------------------------------------------------------------------------------------------------------------------------------------------------------\n",
      "\n"
     ]
    },
    {
     "name": "stdout",
     "output_type": "stream",
     "text": [
      "MonetDense__[512, 512, 512, 512, 512, 512]__5__table2_FULL_no_celltypes__Adam\n"
     ]
    },
    {
     "name": "stderr",
     "output_type": "stream",
     "text": [
      "\n",
      "  0%|                                                                                         | 0/24 [00:00<?, ?it/s]\u001b[A\n",
      "  4%|███▍                                                                             | 1/24 [00:00<00:20,  1.13it/s]\u001b[A\n",
      "  8%|██████▊                                                                          | 2/24 [00:01<00:19,  1.12it/s]\u001b[A\n",
      " 12%|██████████▏                                                                      | 3/24 [00:02<00:18,  1.16it/s]\u001b[A\n",
      " 17%|█████████████▌                                                                   | 4/24 [00:03<00:16,  1.22it/s]\u001b[A\n",
      " 21%|████████████████▉                                                                | 5/24 [00:04<00:15,  1.19it/s]\u001b[A\n",
      " 25%|████████████████████▎                                                            | 6/24 [00:05<00:15,  1.18it/s]\u001b[A\n",
      " 29%|███████████████████████▋                                                         | 7/24 [00:05<00:14,  1.17it/s]\u001b[A\n",
      " 33%|███████████████████████████                                                      | 8/24 [00:06<00:13,  1.20it/s]\u001b[A\n",
      " 38%|██████████████████████████████▍                                                  | 9/24 [00:07<00:12,  1.21it/s]\u001b[A\n",
      " 42%|█████████████████████████████████▎                                              | 10/24 [00:08<00:11,  1.21it/s]\u001b[A\n",
      " 46%|████████████████████████████████████▋                                           | 11/24 [00:09<00:10,  1.25it/s]\u001b[A\n",
      " 50%|████████████████████████████████████████                                        | 12/24 [00:09<00:09,  1.29it/s]\u001b[A\n",
      " 54%|███████████████████████████████████████████▎                                    | 13/24 [00:10<00:08,  1.27it/s]\u001b[A\n",
      " 58%|██████████████████████████████████████████████▋                                 | 14/24 [00:11<00:07,  1.32it/s]\u001b[A\n",
      " 62%|██████████████████████████████████████████████████                              | 15/24 [00:12<00:06,  1.29it/s]\u001b[A\n",
      " 67%|█████████████████████████████████████████████████████▎                          | 16/24 [00:12<00:06,  1.30it/s]\u001b[A\n",
      " 71%|████████████████████████████████████████████████████████▋                       | 17/24 [00:13<00:05,  1.28it/s]\u001b[A\n",
      " 75%|████████████████████████████████████████████████████████████                    | 18/24 [00:14<00:04,  1.23it/s]\u001b[A\n",
      " 79%|███████████████████████████████████████████████████████████████▎                | 19/24 [00:15<00:04,  1.22it/s]\u001b[A\n",
      " 83%|██████████████████████████████████████████████████████████████████▋             | 20/24 [00:16<00:03,  1.23it/s]\u001b[A\n",
      " 88%|██████████████████████████████████████████████████████████████████████          | 21/24 [00:17<00:02,  1.22it/s]\u001b[A\n",
      " 92%|█████████████████████████████████████████████████████████████████████████▎      | 22/24 [00:17<00:01,  1.21it/s]\u001b[A\n",
      " 96%|████████████████████████████████████████████████████████████████████████████▋   | 23/24 [00:18<00:00,  1.18it/s]\u001b[A\n",
      "100%|████████████████████████████████████████████████████████████████████████████████| 24/24 [00:19<00:00,  1.22it/s]\u001b[A\n",
      "GPU available: True (cuda), used: True\n",
      "TPU available: False, using: 0 TPU cores\n",
      "IPU available: False, using: 0 IPUs\n",
      "HPU available: False, using: 0 HPUs\n",
      "`Trainer(limit_train_batches=1.0)` was configured so 100% of the batches per epoch will be used..\n",
      "`Trainer(limit_val_batches=1.0)` was configured so 100% of the batches will be used..\n",
      "LOCAL_RANK: 0 - CUDA_VISIBLE_DEVICES: [5,6,7]\n"
     ]
    },
    {
     "data": {
      "application/vnd.jupyter.widget-view+json": {
       "model_id": "b0427f2c96bd437f8780511d9de0fb8b",
       "version_major": 2,
       "version_minor": 0
      },
      "text/plain": [
       "Testing: 0it [00:00, ?it/s]"
      ]
     },
     "metadata": {},
     "output_type": "display_data"
    },
    {
     "name": "stdout",
     "output_type": "stream",
     "text": [
      "────────────────────────────────────────────────────────────────────────────────────────────────────────────────────────\n",
      "       Test metric             DataLoader 0\n",
      "────────────────────────────────────────────────────────────────────────────────────────────────────────────────────────\n",
      "        test_loss           0.3494284152984619\n",
      "      test_loss_mse         0.3494284152984619\n",
      "────────────────────────────────────────────────────────────────────────────────────────────────────────────────────────\n"
     ]
    },
    {
     "name": "stderr",
     "output_type": "stream",
     "text": [
      "TEST Profiler Report\n",
      "\n",
      "----------------------------------------------------------------------------------------------------------------------------------------------------------------------------------------------------------------------------------------------------------------------------------------------------------\n",
      "|  Action                                                                                                                                                                                          \t|  Mean duration (s)\t|  Num calls      \t|  Total time (s) \t|  Percentage %   \t|\n",
      "----------------------------------------------------------------------------------------------------------------------------------------------------------------------------------------------------------------------------------------------------------------------------------------------------------\n",
      "|  Total                                                                                                                                                                                           \t|  -              \t|  471            \t|  24.734         \t|  100 %          \t|\n",
      "----------------------------------------------------------------------------------------------------------------------------------------------------------------------------------------------------------------------------------------------------------------------------------------------------------\n",
      "|  run_test_evaluation                                                                                                                                                                             \t|  24.24          \t|  1              \t|  24.24          \t|  98.001         \t|\n",
      "|  [Strategy]SingleDeviceStrategy.test_step                                                                                                                                                        \t|  0.75389        \t|  24             \t|  18.093         \t|  73.151         \t|\n",
      "|  [EvaluationEpochLoop].test_dataloader_idx_0_next                                                                                                                                                \t|  0.19841        \t|  24             \t|  4.7618         \t|  19.252         \t|\n",
      "|  [Callback]TQDMProgressBar.on_test_batch_end                                                                                                                                                     \t|  0.028794       \t|  24             \t|  0.69107        \t|  2.794          \t|\n",
      "|  [Strategy]SingleDeviceStrategy.batch_to_device                                                                                                                                                  \t|  0.0079544      \t|  24             \t|  0.19091        \t|  0.77184        \t|\n",
      "|  [LightningModule]MonetDense.transfer_batch_to_device                                                                                                                                            \t|  0.007805       \t|  24             \t|  0.18732        \t|  0.75734        \t|\n",
      "|  [Callback]TQDMProgressBar.on_test_start                                                                                                                                                         \t|  0.01025        \t|  1              \t|  0.01025        \t|  0.041442       \t|\n",
      "|  [Callback]TQDMProgressBar.on_test_end                                                                                                                                                           \t|  0.0019664      \t|  1              \t|  0.0019664      \t|  0.0079502      \t|\n",
      "|  [Callback]TQDMProgressBar.on_test_batch_start                                                                                                                                                   \t|  5.906e-05      \t|  24             \t|  0.0014174      \t|  0.0057307      \t|\n",
      "|  [LightningModule]MonetDense.on_test_model_train                                                                                                                                                 \t|  0.00045502     \t|  1              \t|  0.00045502     \t|  0.0018397      \t|\n",
      "|  [Callback]ModelSummary.on_test_batch_end                                                                                                                                                        \t|  1.3099e-05     \t|  24             \t|  0.00031439     \t|  0.0012711      \t|\n",
      "|  [LightningModule]MonetDense.on_test_model_eval                                                                                                                                                  \t|  0.00016951     \t|  1              \t|  0.00016951     \t|  0.00068532     \t|\n",
      "|  [LightningModule]MonetDense.on_before_batch_transfer                                                                                                                                            \t|  6.6969e-06     \t|  24             \t|  0.00016073     \t|  0.00064982     \t|\n",
      "|  [LightningModule]MonetDense.test_step_end                                                                                                                                                       \t|  6.114e-06      \t|  24             \t|  0.00014674     \t|  0.00059326     \t|\n",
      "|  [Callback]ModelSummary.on_test_batch_start                                                                                                                                                      \t|  4.8863e-06     \t|  24             \t|  0.00011727     \t|  0.00047413     \t|\n",
      "|  [Callback]GradientAccumulationScheduler.on_test_batch_start                                                                                                                                     \t|  4.5279e-06     \t|  24             \t|  0.00010867     \t|  0.00043936     \t|\n",
      "|  [Callback]ModelCheckpoint{'monitor': 'val_loss', 'mode': 'min', 'every_n_train_steps': 0, 'every_n_epochs': 1, 'train_time_interval': None, 'save_on_train_epoch_end': True}.on_test_batch_end  \t|  4.442e-06      \t|  24             \t|  0.00010661     \t|  0.00043101     \t|\n",
      "|  [Callback]GradientAccumulationScheduler.on_test_batch_end                                                                                                                                       \t|  4.3894e-06     \t|  24             \t|  0.00010535     \t|  0.00042591     \t|\n",
      "|  [LightningModule]MonetDense.on_after_batch_transfer                                                                                                                                             \t|  3.6668e-06     \t|  24             \t|  8.8003e-05     \t|  0.0003558      \t|\n",
      "|  [LightningModule]MonetDense.on_test_batch_start                                                                                                                                                 \t|  3.5871e-06     \t|  24             \t|  8.6091e-05     \t|  0.00034807     \t|\n",
      "|  [Callback]ModelCheckpoint{'monitor': 'val_loss', 'mode': 'min', 'every_n_train_steps': 0, 'every_n_epochs': 1, 'train_time_interval': None, 'save_on_train_epoch_end': True}.on_test_batch_start\t|  3.3938e-06     \t|  24             \t|  8.1451e-05     \t|  0.00032931     \t|\n",
      "|  [Strategy]SingleDeviceStrategy.test_step_end                                                                                                                                                    \t|  3.1718e-06     \t|  24             \t|  7.6122e-05     \t|  0.00030776     \t|\n",
      "|  [LightningModule]MonetDense.on_test_batch_end                                                                                                                                                   \t|  3.1477e-06     \t|  24             \t|  7.5544e-05     \t|  0.00030543     \t|\n",
      "|  [Callback]ModelSummary.on_test_end                                                                                                                                                              \t|  2.6482e-05     \t|  1              \t|  2.6482e-05     \t|  0.00010707     \t|\n",
      "|  [Callback]ModelCheckpoint{'monitor': 'val_loss', 'mode': 'min', 'every_n_train_steps': 0, 'every_n_epochs': 1, 'train_time_interval': None, 'save_on_train_epoch_end': None}.setup              \t|  1.4214e-05     \t|  1              \t|  1.4214e-05     \t|  5.7467e-05     \t|\n",
      "|  [Callback]TQDMProgressBar.teardown                                                                                                                                                              \t|  9.2171e-06     \t|  1              \t|  9.2171e-06     \t|  3.7265e-05     \t|\n",
      "|  [Callback]ModelSummary.on_test_start                                                                                                                                                            \t|  8.333e-06      \t|  1              \t|  8.333e-06      \t|  3.3691e-05     \t|\n",
      "|  [Callback]TQDMProgressBar.setup                                                                                                                                                                 \t|  7.0119e-06     \t|  1              \t|  7.0119e-06     \t|  2.8349e-05     \t|\n",
      "|  [LightningModule]MonetDense.configure_callbacks                                                                                                                                                 \t|  6.956e-06      \t|  1              \t|  6.956e-06      \t|  2.8123e-05     \t|\n",
      "|  [LightningModule]MonetDense.test_epoch_end                                                                                                                                                      \t|  6.3661e-06     \t|  1              \t|  6.3661e-06     \t|  2.5738e-05     \t|\n",
      "|  [Callback]TQDMProgressBar.on_test_epoch_end                                                                                                                                                     \t|  5.6061e-06     \t|  1              \t|  5.6061e-06     \t|  2.2666e-05     \t|\n",
      "|  [Callback]GradientAccumulationScheduler.on_test_end                                                                                                                                             \t|  4.5961e-06     \t|  1              \t|  4.5961e-06     \t|  1.8582e-05     \t|\n",
      "|  [Callback]ModelSummary.on_test_epoch_end                                                                                                                                                        \t|  3.7961e-06     \t|  1              \t|  3.7961e-06     \t|  1.5348e-05     \t|\n",
      "|  [Callback]ModelCheckpoint{'monitor': 'val_loss', 'mode': 'min', 'every_n_train_steps': 0, 'every_n_epochs': 1, 'train_time_interval': None, 'save_on_train_epoch_end': True}.on_test_end        \t|  3.7369e-06     \t|  1              \t|  3.7369e-06     \t|  1.5109e-05     \t|\n",
      "|  [Callback]ModelCheckpoint{'monitor': 'val_loss', 'mode': 'min', 'every_n_train_steps': 0, 'every_n_epochs': 1, 'train_time_interval': None, 'save_on_train_epoch_end': True}.on_test_epoch_end  \t|  3.5511e-06     \t|  1              \t|  3.5511e-06     \t|  1.4357e-05     \t|\n",
      "|  [Callback]TQDMProgressBar.on_test_epoch_start                                                                                                                                                   \t|  3.5269e-06     \t|  1              \t|  3.5269e-06     \t|  1.4259e-05     \t|\n",
      "|  [Callback]GradientAccumulationScheduler.on_test_epoch_end                                                                                                                                       \t|  3.258e-06      \t|  1              \t|  3.258e-06      \t|  1.3172e-05     \t|\n",
      "|  [LightningModule]MonetDense.on_test_epoch_start                                                                                                                                                 \t|  3.2019e-06     \t|  1              \t|  3.2019e-06     \t|  1.2945e-05     \t|\n",
      "|  [LightningModule]MonetDense.prepare_data                                                                                                                                                        \t|  2.8841e-06     \t|  1              \t|  2.8841e-06     \t|  1.166e-05      \t|\n",
      "|  [LightningModule]MonetDense.on_test_end                                                                                                                                                         \t|  2.662e-06      \t|  1              \t|  2.662e-06      \t|  1.0762e-05     \t|\n",
      "|  [LightningModule]MonetDense.on_test_epoch_end                                                                                                                                                   \t|  2.611e-06      \t|  1              \t|  2.611e-06      \t|  1.0556e-05     \t|\n",
      "|  [Strategy]SingleDeviceStrategy.on_test_end                                                                                                                                                      \t|  2.594e-06      \t|  1              \t|  2.594e-06      \t|  1.0487e-05     \t|\n",
      "|  [Callback]ModelSummary.teardown                                                                                                                                                                 \t|  2.3048e-06     \t|  1              \t|  2.3048e-06     \t|  9.3183e-06     \t|\n",
      "|  [Callback]ModelCheckpoint{'monitor': 'val_loss', 'mode': 'min', 'every_n_train_steps': 0, 'every_n_epochs': 1, 'train_time_interval': None, 'save_on_train_epoch_end': True}.teardown           \t|  2.1178e-06     \t|  1              \t|  2.1178e-06     \t|  8.5624e-06     \t|\n",
      "|  [Callback]GradientAccumulationScheduler.teardown                                                                                                                                                \t|  2.0231e-06     \t|  1              \t|  2.0231e-06     \t|  8.1793e-06     \t|\n",
      "|  [LightningModule]MonetDense.teardown                                                                                                                                                            \t|  1.9751e-06     \t|  1              \t|  1.9751e-06     \t|  7.9854e-06     \t|\n",
      "|  [Callback]ModelSummary.setup                                                                                                                                                                    \t|  1.7909e-06     \t|  1              \t|  1.7909e-06     \t|  7.2408e-06     \t|\n",
      "|  [Callback]GradientAccumulationScheduler.on_test_start                                                                                                                                           \t|  1.6431e-06     \t|  1              \t|  1.6431e-06     \t|  6.643e-06      \t|\n",
      "|  [Callback]ModelCheckpoint{'monitor': 'val_loss', 'mode': 'min', 'every_n_train_steps': 0, 'every_n_epochs': 1, 'train_time_interval': None, 'save_on_train_epoch_end': True}.on_test_epoch_start\t|  1.447e-06      \t|  1              \t|  1.447e-06      \t|  5.8504e-06     \t|\n",
      "|  [Callback]ModelCheckpoint{'monitor': 'val_loss', 'mode': 'min', 'every_n_train_steps': 0, 'every_n_epochs': 1, 'train_time_interval': None, 'save_on_train_epoch_end': True}.on_test_start      \t|  1.404e-06      \t|  1              \t|  1.404e-06      \t|  5.6763e-06     \t|\n",
      "|  [LightningModule]MonetDense.on_test_start                                                                                                                                                       \t|  1.3621e-06     \t|  1              \t|  1.3621e-06     \t|  5.5068e-06     \t|\n",
      "|  [Callback]ModelSummary.on_test_epoch_start                                                                                                                                                      \t|  1.3481e-06     \t|  1              \t|  1.3481e-06     \t|  5.4504e-06     \t|\n",
      "|  [LightningModule]MonetDense.setup                                                                                                                                                               \t|  1.265e-06      \t|  1              \t|  1.265e-06      \t|  5.1143e-06     \t|\n",
      "|  [Callback]GradientAccumulationScheduler.on_test_epoch_start                                                                                                                                     \t|  1.247e-06      \t|  1              \t|  1.247e-06      \t|  5.0418e-06     \t|\n",
      "|  [Callback]GradientAccumulationScheduler.setup                                                                                                                                                   \t|  1.1611e-06     \t|  1              \t|  1.1611e-06     \t|  4.6945e-06     \t|\n",
      "|  [Strategy]SingleDeviceStrategy.on_test_start                                                                                                                                                    \t|  1.1302e-06     \t|  1              \t|  1.1302e-06     \t|  4.5693e-06     \t|\n",
      "|  [LightningModule]MonetDense.configure_sharded_model                                                                                                                                             \t|  1.044e-06      \t|  1              \t|  1.044e-06      \t|  4.221e-06      \t|\n",
      "----------------------------------------------------------------------------------------------------------------------------------------------------------------------------------------------------------------------------------------------------------------------------------------------------------\n",
      "\n"
     ]
    },
    {
     "name": "stdout",
     "output_type": "stream",
     "text": [
      "MonetDense__[512, 512, 512, 512, 512, 512]__10__table2_FULL_no_celltypes__Adam\n"
     ]
    },
    {
     "name": "stderr",
     "output_type": "stream",
     "text": [
      "100%|████████████████████████████████████████████████████████████████████████████████| 24/24 [00:19<00:00,  1.22it/s]\n",
      "GPU available: True (cuda), used: True\n",
      "TPU available: False, using: 0 TPU cores\n",
      "IPU available: False, using: 0 IPUs\n",
      "HPU available: False, using: 0 HPUs\n",
      "`Trainer(limit_train_batches=1.0)` was configured so 100% of the batches per epoch will be used..\n",
      "`Trainer(limit_val_batches=1.0)` was configured so 100% of the batches will be used..\n",
      "LOCAL_RANK: 0 - CUDA_VISIBLE_DEVICES: [5,6,7]\n"
     ]
    },
    {
     "data": {
      "application/vnd.jupyter.widget-view+json": {
       "model_id": "c1e9f02c99174015be4b12f929ab524f",
       "version_major": 2,
       "version_minor": 0
      },
      "text/plain": [
       "Testing: 0it [00:00, ?it/s]"
      ]
     },
     "metadata": {},
     "output_type": "display_data"
    },
    {
     "name": "stdout",
     "output_type": "stream",
     "text": [
      "────────────────────────────────────────────────────────────────────────────────────────────────────────────────────────\n",
      "       Test metric             DataLoader 0\n",
      "────────────────────────────────────────────────────────────────────────────────────────────────────────────────────────\n",
      "        test_loss           0.3461569845676422\n",
      "      test_loss_mse         0.3461569845676422\n",
      "────────────────────────────────────────────────────────────────────────────────────────────────────────────────────────\n"
     ]
    },
    {
     "name": "stderr",
     "output_type": "stream",
     "text": [
      "TEST Profiler Report\n",
      "\n",
      "----------------------------------------------------------------------------------------------------------------------------------------------------------------------------------------------------------------------------------------------------------------------------------------------------------\n",
      "|  Action                                                                                                                                                                                          \t|  Mean duration (s)\t|  Num calls      \t|  Total time (s) \t|  Percentage %   \t|\n",
      "----------------------------------------------------------------------------------------------------------------------------------------------------------------------------------------------------------------------------------------------------------------------------------------------------------\n",
      "|  Total                                                                                                                                                                                           \t|  -              \t|  471            \t|  23.129         \t|  100 %          \t|\n",
      "----------------------------------------------------------------------------------------------------------------------------------------------------------------------------------------------------------------------------------------------------------------------------------------------------------\n",
      "|  run_test_evaluation                                                                                                                                                                             \t|  22.834         \t|  1              \t|  22.834         \t|  98.723         \t|\n",
      "|  [Strategy]SingleDeviceStrategy.test_step                                                                                                                                                        \t|  0.73873        \t|  24             \t|  17.73          \t|  76.655         \t|\n",
      "|  [EvaluationEpochLoop].test_dataloader_idx_0_next                                                                                                                                                \t|  0.15605        \t|  24             \t|  3.7451         \t|  16.192         \t|\n",
      "|  [Callback]TQDMProgressBar.on_test_batch_end                                                                                                                                                     \t|  0.025889       \t|  24             \t|  0.62133        \t|  2.6864         \t|\n",
      "|  [Strategy]SingleDeviceStrategy.batch_to_device                                                                                                                                                  \t|  0.0084401      \t|  24             \t|  0.20256        \t|  0.87579        \t|\n",
      "|  [LightningModule]MonetDense.transfer_batch_to_device                                                                                                                                            \t|  0.0082939      \t|  24             \t|  0.19905        \t|  0.86062        \t|\n",
      "|  [Callback]TQDMProgressBar.on_test_start                                                                                                                                                         \t|  0.0088706      \t|  1              \t|  0.0088706      \t|  0.038353       \t|\n",
      "|  [Callback]TQDMProgressBar.on_test_batch_start                                                                                                                                                   \t|  0.00013062     \t|  24             \t|  0.0031348      \t|  0.013553       \t|\n",
      "|  [Callback]TQDMProgressBar.on_test_end                                                                                                                                                           \t|  0.0017966      \t|  1              \t|  0.0017966      \t|  0.0077676      \t|\n",
      "|  [LightningModule]MonetDense.on_test_model_train                                                                                                                                                 \t|  0.0006216      \t|  1              \t|  0.0006216      \t|  0.0026875      \t|\n",
      "|  [Callback]ModelSummary.on_test_batch_end                                                                                                                                                        \t|  1.3649e-05     \t|  24             \t|  0.00032758     \t|  0.0014163      \t|\n",
      "|  [LightningModule]MonetDense.on_test_model_eval                                                                                                                                                  \t|  0.00016689     \t|  1              \t|  0.00016689     \t|  0.00072158     \t|\n",
      "|  [LightningModule]MonetDense.on_before_batch_transfer                                                                                                                                            \t|  6.3954e-06     \t|  24             \t|  0.00015349     \t|  0.00066362     \t|\n",
      "|  [LightningModule]MonetDense.test_step_end                                                                                                                                                       \t|  5.9611e-06     \t|  24             \t|  0.00014307     \t|  0.00061856     \t|\n",
      "|  [Callback]ModelSummary.on_test_batch_start                                                                                                                                                      \t|  5.1417e-06     \t|  24             \t|  0.0001234      \t|  0.00053354     \t|\n",
      "|  [Callback]GradientAccumulationScheduler.on_test_batch_end                                                                                                                                       \t|  4.7614e-06     \t|  24             \t|  0.00011427     \t|  0.00049407     \t|\n",
      "|  [Callback]GradientAccumulationScheduler.on_test_batch_start                                                                                                                                     \t|  4.5832e-06     \t|  24             \t|  0.00011        \t|  0.00047558     \t|\n",
      "|  [Callback]ModelCheckpoint{'monitor': 'val_loss', 'mode': 'min', 'every_n_train_steps': 0, 'every_n_epochs': 1, 'train_time_interval': None, 'save_on_train_epoch_end': True}.on_test_batch_end  \t|  4.4586e-06     \t|  24             \t|  0.00010701     \t|  0.00046265     \t|\n",
      "|  [LightningModule]MonetDense.on_after_batch_transfer                                                                                                                                             \t|  3.7868e-06     \t|  24             \t|  9.0884e-05     \t|  0.00039294     \t|\n",
      "|  [Callback]ModelCheckpoint{'monitor': 'val_loss', 'mode': 'min', 'every_n_train_steps': 0, 'every_n_epochs': 1, 'train_time_interval': None, 'save_on_train_epoch_end': True}.on_test_batch_start\t|  3.7487e-06     \t|  24             \t|  8.9969e-05     \t|  0.00038899     \t|\n",
      "|  [LightningModule]MonetDense.on_test_batch_end                                                                                                                                                   \t|  3.4338e-06     \t|  24             \t|  8.2412e-05     \t|  0.00035631     \t|\n",
      "|  [Strategy]SingleDeviceStrategy.test_step_end                                                                                                                                                    \t|  3.3974e-06     \t|  24             \t|  8.1538e-05     \t|  0.00035254     \t|\n",
      "|  [LightningModule]MonetDense.on_test_batch_start                                                                                                                                                 \t|  2.8803e-06     \t|  24             \t|  6.9127e-05     \t|  0.00029888     \t|\n",
      "|  [Callback]ModelSummary.on_test_end                                                                                                                                                              \t|  2.2837e-05     \t|  1              \t|  2.2837e-05     \t|  9.8737e-05     \t|\n",
      "|  [Callback]ModelCheckpoint{'monitor': 'val_loss', 'mode': 'min', 'every_n_train_steps': 0, 'every_n_epochs': 1, 'train_time_interval': None, 'save_on_train_epoch_end': None}.setup              \t|  1.3058e-05     \t|  1              \t|  1.3058e-05     \t|  5.6457e-05     \t|\n",
      "|  [LightningModule]MonetDense.test_epoch_end                                                                                                                                                      \t|  6.6659e-06     \t|  1              \t|  6.6659e-06     \t|  2.8821e-05     \t|\n",
      "|  [Callback]TQDMProgressBar.teardown                                                                                                                                                              \t|  6.5351e-06     \t|  1              \t|  6.5351e-06     \t|  2.8255e-05     \t|\n",
      "|  [Callback]TQDMProgressBar.on_test_epoch_end                                                                                                                                                     \t|  5.74e-06       \t|  1              \t|  5.74e-06       \t|  2.4817e-05     \t|\n",
      "|  [Callback]GradientAccumulationScheduler.on_test_end                                                                                                                                             \t|  4.367e-06      \t|  1              \t|  4.367e-06      \t|  1.8881e-05     \t|\n",
      "|  [Callback]ModelSummary.on_test_start                                                                                                                                                            \t|  4.17e-06       \t|  1              \t|  4.17e-06       \t|  1.8029e-05     \t|\n",
      "|  [Callback]TQDMProgressBar.setup                                                                                                                                                                 \t|  3.9749e-06     \t|  1              \t|  3.9749e-06     \t|  1.7186e-05     \t|\n",
      "|  [Callback]ModelCheckpoint{'monitor': 'val_loss', 'mode': 'min', 'every_n_train_steps': 0, 'every_n_epochs': 1, 'train_time_interval': None, 'save_on_train_epoch_end': True}.on_test_end        \t|  3.709e-06      \t|  1              \t|  3.709e-06      \t|  1.6036e-05     \t|\n",
      "|  [Callback]ModelSummary.on_test_epoch_end                                                                                                                                                        \t|  3.5861e-06     \t|  1              \t|  3.5861e-06     \t|  1.5505e-05     \t|\n",
      "|  [Callback]ModelCheckpoint{'monitor': 'val_loss', 'mode': 'min', 'every_n_train_steps': 0, 'every_n_epochs': 1, 'train_time_interval': None, 'save_on_train_epoch_end': True}.on_test_epoch_end  \t|  3.418e-06      \t|  1              \t|  3.418e-06      \t|  1.4778e-05     \t|\n",
      "|  [Callback]GradientAccumulationScheduler.on_test_epoch_end                                                                                                                                       \t|  3.2599e-06     \t|  1              \t|  3.2599e-06     \t|  1.4094e-05     \t|\n",
      "|  [LightningModule]MonetDense.configure_callbacks                                                                                                                                                 \t|  2.973e-06      \t|  1              \t|  2.973e-06      \t|  1.2854e-05     \t|\n",
      "|  [LightningModule]MonetDense.on_test_end                                                                                                                                                         \t|  2.929e-06      \t|  1              \t|  2.929e-06      \t|  1.2664e-05     \t|\n",
      "|  [Strategy]SingleDeviceStrategy.on_test_end                                                                                                                                                      \t|  2.498e-06      \t|  1              \t|  2.498e-06      \t|  1.08e-05       \t|\n",
      "|  [LightningModule]MonetDense.on_test_epoch_end                                                                                                                                                   \t|  2.4331e-06     \t|  1              \t|  2.4331e-06     \t|  1.052e-05      \t|\n",
      "|  [Callback]ModelSummary.teardown                                                                                                                                                                 \t|  2.302e-06      \t|  1              \t|  2.302e-06      \t|  9.9529e-06     \t|\n",
      "|  [Callback]ModelCheckpoint{'monitor': 'val_loss', 'mode': 'min', 'every_n_train_steps': 0, 'every_n_epochs': 1, 'train_time_interval': None, 'save_on_train_epoch_end': True}.teardown           \t|  2.2459e-06     \t|  1              \t|  2.2459e-06     \t|  9.7103e-06     \t|\n",
      "|  [LightningModule]MonetDense.teardown                                                                                                                                                            \t|  2.034e-06      \t|  1              \t|  2.034e-06      \t|  8.7942e-06     \t|\n",
      "|  [Callback]GradientAccumulationScheduler.teardown                                                                                                                                                \t|  1.7809e-06     \t|  1              \t|  1.7809e-06     \t|  7.7e-06        \t|\n",
      "|  [Callback]ModelSummary.setup                                                                                                                                                                    \t|  1.692e-06      \t|  1              \t|  1.692e-06      \t|  7.3154e-06     \t|\n",
      "|  [LightningModule]MonetDense.setup                                                                                                                                                               \t|  1.5271e-06     \t|  1              \t|  1.5271e-06     \t|  6.6027e-06     \t|\n",
      "|  [LightningModule]MonetDense.prepare_data                                                                                                                                                        \t|  1.4189e-06     \t|  1              \t|  1.4189e-06     \t|  6.1346e-06     \t|\n",
      "|  [Callback]TQDMProgressBar.on_test_epoch_start                                                                                                                                                   \t|  1.3271e-06     \t|  1              \t|  1.3271e-06     \t|  5.738e-06      \t|\n",
      "|  [Callback]GradientAccumulationScheduler.on_test_start                                                                                                                                           \t|  1.2531e-06     \t|  1              \t|  1.2531e-06     \t|  5.4179e-06     \t|\n",
      "|  [Callback]GradientAccumulationScheduler.setup                                                                                                                                                   \t|  1.217e-06      \t|  1              \t|  1.217e-06      \t|  5.2618e-06     \t|\n",
      "|  [Callback]ModelCheckpoint{'monitor': 'val_loss', 'mode': 'min', 'every_n_train_steps': 0, 'every_n_epochs': 1, 'train_time_interval': None, 'save_on_train_epoch_end': True}.on_test_start      \t|  1.129e-06      \t|  1              \t|  1.129e-06      \t|  4.8813e-06     \t|\n",
      "|  [Callback]ModelCheckpoint{'monitor': 'val_loss', 'mode': 'min', 'every_n_train_steps': 0, 'every_n_epochs': 1, 'train_time_interval': None, 'save_on_train_epoch_end': True}.on_test_epoch_start\t|  1.0619e-06     \t|  1              \t|  1.0619e-06     \t|  4.5914e-06     \t|\n",
      "|  [LightningModule]MonetDense.on_test_epoch_start                                                                                                                                                 \t|  1.044e-06      \t|  1              \t|  1.044e-06      \t|  4.5139e-06     \t|\n",
      "|  [LightningModule]MonetDense.configure_sharded_model                                                                                                                                             \t|  1.0019e-06     \t|  1              \t|  1.0019e-06     \t|  4.3317e-06     \t|\n",
      "|  [Strategy]SingleDeviceStrategy.on_test_start                                                                                                                                                    \t|  9.8697e-07     \t|  1              \t|  9.8697e-07     \t|  4.2672e-06     \t|\n",
      "|  [LightningModule]MonetDense.on_test_start                                                                                                                                                       \t|  9.6392e-07     \t|  1              \t|  9.6392e-07     \t|  4.1676e-06     \t|\n",
      "|  [Callback]ModelSummary.on_test_epoch_start                                                                                                                                                      \t|  9.3714e-07     \t|  1              \t|  9.3714e-07     \t|  4.0518e-06     \t|\n",
      "|  [Callback]GradientAccumulationScheduler.on_test_epoch_start                                                                                                                                     \t|  8.8685e-07     \t|  1              \t|  8.8685e-07     \t|  3.8344e-06     \t|\n",
      "----------------------------------------------------------------------------------------------------------------------------------------------------------------------------------------------------------------------------------------------------------------------------------------------------------\n",
      "\n"
     ]
    },
    {
     "name": "stdout",
     "output_type": "stream",
     "text": [
      "MonetDense__[512, 512, 512, 512, 512, 512]__15__table2_FULL_no_celltypes__Adam\n"
     ]
    },
    {
     "name": "stderr",
     "output_type": "stream",
     "text": [
      "100%|████████████████████████████████████████████████████████████████████████████████| 24/24 [00:19<00:00,  1.23it/s]\n",
      "GPU available: True (cuda), used: True\n",
      "TPU available: False, using: 0 TPU cores\n",
      "IPU available: False, using: 0 IPUs\n",
      "HPU available: False, using: 0 HPUs\n",
      "`Trainer(limit_train_batches=1.0)` was configured so 100% of the batches per epoch will be used..\n",
      "`Trainer(limit_val_batches=1.0)` was configured so 100% of the batches will be used..\n",
      "LOCAL_RANK: 0 - CUDA_VISIBLE_DEVICES: [5,6,7]\n"
     ]
    },
    {
     "data": {
      "application/vnd.jupyter.widget-view+json": {
       "model_id": "969dc3ddd60c43c5b406db53c792c19e",
       "version_major": 2,
       "version_minor": 0
      },
      "text/plain": [
       "Testing: 0it [00:00, ?it/s]"
      ]
     },
     "metadata": {},
     "output_type": "display_data"
    },
    {
     "name": "stdout",
     "output_type": "stream",
     "text": [
      "────────────────────────────────────────────────────────────────────────────────────────────────────────────────────────\n",
      "       Test metric             DataLoader 0\n",
      "────────────────────────────────────────────────────────────────────────────────────────────────────────────────────────\n",
      "        test_loss           0.33938685059547424\n",
      "      test_loss_mse         0.33938685059547424\n",
      "────────────────────────────────────────────────────────────────────────────────────────────────────────────────────────\n"
     ]
    },
    {
     "name": "stderr",
     "output_type": "stream",
     "text": [
      "TEST Profiler Report\n",
      "\n",
      "----------------------------------------------------------------------------------------------------------------------------------------------------------------------------------------------------------------------------------------------------------------------------------------------------------\n",
      "|  Action                                                                                                                                                                                          \t|  Mean duration (s)\t|  Num calls      \t|  Total time (s) \t|  Percentage %   \t|\n",
      "----------------------------------------------------------------------------------------------------------------------------------------------------------------------------------------------------------------------------------------------------------------------------------------------------------\n",
      "|  Total                                                                                                                                                                                           \t|  -              \t|  471            \t|  24.125         \t|  100 %          \t|\n",
      "----------------------------------------------------------------------------------------------------------------------------------------------------------------------------------------------------------------------------------------------------------------------------------------------------------\n",
      "|  run_test_evaluation                                                                                                                                                                             \t|  23.698         \t|  1              \t|  23.698         \t|  98.23          \t|\n",
      "|  [Strategy]SingleDeviceStrategy.test_step                                                                                                                                                        \t|  0.7638         \t|  24             \t|  18.331         \t|  75.984         \t|\n",
      "|  [EvaluationEpochLoop].test_dataloader_idx_0_next                                                                                                                                                \t|  0.15853        \t|  24             \t|  3.8047         \t|  15.771         \t|\n",
      "|  [Callback]TQDMProgressBar.on_test_batch_end                                                                                                                                                     \t|  0.024548       \t|  24             \t|  0.58915        \t|  2.442          \t|\n",
      "|  [Strategy]SingleDeviceStrategy.batch_to_device                                                                                                                                                  \t|  0.012378       \t|  24             \t|  0.29708        \t|  1.2314         \t|\n",
      "|  [LightningModule]MonetDense.transfer_batch_to_device                                                                                                                                            \t|  0.012217       \t|  24             \t|  0.29322        \t|  1.2154         \t|\n",
      "|  [Callback]TQDMProgressBar.on_test_start                                                                                                                                                         \t|  0.019922       \t|  1              \t|  0.019922       \t|  0.082579       \t|\n",
      "|  [Callback]TQDMProgressBar.on_test_batch_start                                                                                                                                                   \t|  0.00018225     \t|  24             \t|  0.0043739      \t|  0.01813        \t|\n",
      "|  [Callback]TQDMProgressBar.on_test_end                                                                                                                                                           \t|  0.0018852      \t|  1              \t|  0.0018852      \t|  0.0078142      \t|\n",
      "|  [LightningModule]MonetDense.on_test_model_train                                                                                                                                                 \t|  0.00058837     \t|  1              \t|  0.00058837     \t|  0.0024388      \t|\n",
      "|  [LightningModule]MonetDense.on_test_model_eval                                                                                                                                                  \t|  0.00053001     \t|  1              \t|  0.00053001     \t|  0.0021969      \t|\n",
      "|  [Callback]ModelSummary.on_test_batch_end                                                                                                                                                        \t|  1.4646e-05     \t|  24             \t|  0.00035151     \t|  0.0014571      \t|\n",
      "|  [LightningModule]MonetDense.on_before_batch_transfer                                                                                                                                            \t|  8.1467e-06     \t|  24             \t|  0.00019552     \t|  0.00081044     \t|\n",
      "|  [LightningModule]MonetDense.test_step_end                                                                                                                                                       \t|  5.7655e-06     \t|  24             \t|  0.00013837     \t|  0.00057356     \t|\n",
      "|  [Callback]ModelSummary.on_test_batch_start                                                                                                                                                      \t|  5.1732e-06     \t|  24             \t|  0.00012416     \t|  0.00051464     \t|\n",
      "|  [LightningModule]MonetDense.on_test_batch_end                                                                                                                                                   \t|  4.6861e-06     \t|  24             \t|  0.00011247     \t|  0.00046618     \t|\n",
      "|  [Callback]GradientAccumulationScheduler.on_test_batch_start                                                                                                                                     \t|  4.4357e-06     \t|  24             \t|  0.00010646     \t|  0.00044127     \t|\n",
      "|  [Callback]ModelCheckpoint{'monitor': 'val_loss', 'mode': 'min', 'every_n_train_steps': 0, 'every_n_epochs': 1, 'train_time_interval': None, 'save_on_train_epoch_end': True}.on_test_batch_end  \t|  4.2583e-06     \t|  24             \t|  0.0001022      \t|  0.00042363     \t|\n",
      "|  [Callback]GradientAccumulationScheduler.on_test_batch_end                                                                                                                                       \t|  3.962e-06      \t|  24             \t|  9.5088e-05     \t|  0.00039415     \t|\n",
      "|  [LightningModule]MonetDense.on_after_batch_transfer                                                                                                                                             \t|  3.8699e-06     \t|  24             \t|  9.2878e-05     \t|  0.00038498     \t|\n",
      "|  [Callback]ModelCheckpoint{'monitor': 'val_loss', 'mode': 'min', 'every_n_train_steps': 0, 'every_n_epochs': 1, 'train_time_interval': None, 'save_on_train_epoch_end': True}.on_test_batch_start\t|  3.7253e-06     \t|  24             \t|  8.9407e-05     \t|  0.0003706      \t|\n",
      "|  [LightningModule]MonetDense.on_test_batch_start                                                                                                                                                 \t|  3.6865e-06     \t|  24             \t|  8.8476e-05     \t|  0.00036674     \t|\n",
      "|  [Strategy]SingleDeviceStrategy.test_step_end                                                                                                                                                    \t|  3.4198e-06     \t|  24             \t|  8.2075e-05     \t|  0.00034021     \t|\n",
      "|  [Callback]ModelSummary.on_test_end                                                                                                                                                              \t|  2.0121e-05     \t|  1              \t|  2.0121e-05     \t|  8.3403e-05     \t|\n",
      "|  [Callback]TQDMProgressBar.teardown                                                                                                                                                              \t|  1.9464e-05     \t|  1              \t|  1.9464e-05     \t|  8.0679e-05     \t|\n",
      "|  [Callback]ModelCheckpoint{'monitor': 'val_loss', 'mode': 'min', 'every_n_train_steps': 0, 'every_n_epochs': 1, 'train_time_interval': None, 'save_on_train_epoch_end': None}.setup              \t|  1.9394e-05     \t|  1              \t|  1.9394e-05     \t|  8.039e-05      \t|\n",
      "|  [Callback]TQDMProgressBar.setup                                                                                                                                                                 \t|  9.693e-06      \t|  1              \t|  9.693e-06      \t|  4.0178e-05     \t|\n",
      "|  [Callback]ModelSummary.on_test_start                                                                                                                                                            \t|  7.0939e-06     \t|  1              \t|  7.0939e-06     \t|  2.9405e-05     \t|\n",
      "|  [LightningModule]MonetDense.configure_callbacks                                                                                                                                                 \t|  6.201e-06      \t|  1              \t|  6.201e-06      \t|  2.5703e-05     \t|\n",
      "|  [Callback]ModelSummary.setup                                                                                                                                                                    \t|  5.065e-06      \t|  1              \t|  5.065e-06      \t|  2.0995e-05     \t|\n",
      "|  [LightningModule]MonetDense.setup                                                                                                                                                               \t|  4.4932e-06     \t|  1              \t|  4.4932e-06     \t|  1.8624e-05     \t|\n",
      "|  [Callback]GradientAccumulationScheduler.setup                                                                                                                                                   \t|  4.2978e-06     \t|  1              \t|  4.2978e-06     \t|  1.7815e-05     \t|\n",
      "|  [LightningModule]MonetDense.test_epoch_end                                                                                                                                                      \t|  4.163e-06      \t|  1              \t|  4.163e-06      \t|  1.7256e-05     \t|\n",
      "|  [Callback]GradientAccumulationScheduler.on_test_end                                                                                                                                             \t|  3.949e-06      \t|  1              \t|  3.949e-06      \t|  1.6369e-05     \t|\n",
      "|  [LightningModule]MonetDense.prepare_data                                                                                                                                                        \t|  3.492e-06      \t|  1              \t|  3.492e-06      \t|  1.4475e-05     \t|\n",
      "|  [Callback]ModelCheckpoint{'monitor': 'val_loss', 'mode': 'min', 'every_n_train_steps': 0, 'every_n_epochs': 1, 'train_time_interval': None, 'save_on_train_epoch_end': True}.on_test_end        \t|  3.451e-06      \t|  1              \t|  3.451e-06      \t|  1.4305e-05     \t|\n",
      "|  [LightningModule]MonetDense.configure_sharded_model                                                                                                                                             \t|  3.1209e-06     \t|  1              \t|  3.1209e-06     \t|  1.2936e-05     \t|\n",
      "|  [LightningModule]MonetDense.on_test_end                                                                                                                                                         \t|  3.037e-06      \t|  1              \t|  3.037e-06      \t|  1.2589e-05     \t|\n",
      "|  [Callback]TQDMProgressBar.on_test_epoch_end                                                                                                                                                     \t|  2.8131e-06     \t|  1              \t|  2.8131e-06     \t|  1.166e-05      \t|\n",
      "|  [Callback]TQDMProgressBar.on_test_epoch_start                                                                                                                                                   \t|  2.689e-06      \t|  1              \t|  2.689e-06      \t|  1.1146e-05     \t|\n",
      "|  [Callback]ModelSummary.teardown                                                                                                                                                                 \t|  2.661e-06      \t|  1              \t|  2.661e-06      \t|  1.103e-05      \t|\n",
      "|  [Strategy]SingleDeviceStrategy.on_test_end                                                                                                                                                      \t|  2.6301e-06     \t|  1              \t|  2.6301e-06     \t|  1.0902e-05     \t|\n",
      "|  [Callback]ModelCheckpoint{'monitor': 'val_loss', 'mode': 'min', 'every_n_train_steps': 0, 'every_n_epochs': 1, 'train_time_interval': None, 'save_on_train_epoch_end': True}.on_test_epoch_start\t|  2.566e-06      \t|  1              \t|  2.566e-06      \t|  1.0636e-05     \t|\n",
      "|  [Callback]ModelCheckpoint{'monitor': 'val_loss', 'mode': 'min', 'every_n_train_steps': 0, 'every_n_epochs': 1, 'train_time_interval': None, 'save_on_train_epoch_end': True}.on_test_start      \t|  2.3991e-06     \t|  1              \t|  2.3991e-06     \t|  9.9444e-06     \t|\n",
      "|  [Callback]GradientAccumulationScheduler.on_test_epoch_start                                                                                                                                     \t|  2.3642e-06     \t|  1              \t|  2.3642e-06     \t|  9.7996e-06     \t|\n",
      "|  [Callback]ModelSummary.on_test_epoch_start                                                                                                                                                      \t|  2.329e-06      \t|  1              \t|  2.329e-06      \t|  9.6539e-06     \t|\n",
      "|  [Callback]GradientAccumulationScheduler.on_test_start                                                                                                                                           \t|  2.2971e-06     \t|  1              \t|  2.2971e-06     \t|  9.5217e-06     \t|\n",
      "|  [Callback]ModelCheckpoint{'monitor': 'val_loss', 'mode': 'min', 'every_n_train_steps': 0, 'every_n_epochs': 1, 'train_time_interval': None, 'save_on_train_epoch_end': True}.teardown           \t|  2.1239e-06     \t|  1              \t|  2.1239e-06     \t|  8.8036e-06     \t|\n",
      "|  [LightningModule]MonetDense.on_test_start                                                                                                                                                       \t|  2.0901e-06     \t|  1              \t|  2.0901e-06     \t|  8.6637e-06     \t|\n",
      "|  [LightningModule]MonetDense.teardown                                                                                                                                                            \t|  2.034e-06      \t|  1              \t|  2.034e-06      \t|  8.4311e-06     \t|\n",
      "|  [Callback]GradientAccumulationScheduler.teardown                                                                                                                                                \t|  1.99e-06       \t|  1              \t|  1.99e-06       \t|  8.2487e-06     \t|\n",
      "|  [LightningModule]MonetDense.on_test_epoch_start                                                                                                                                                 \t|  1.7791e-06     \t|  1              \t|  1.7791e-06     \t|  7.3743e-06     \t|\n",
      "|  [Strategy]SingleDeviceStrategy.on_test_start                                                                                                                                                    \t|  1.7551e-06     \t|  1              \t|  1.7551e-06     \t|  7.2749e-06     \t|\n",
      "|  [Callback]ModelSummary.on_test_epoch_end                                                                                                                                                        \t|  1.6831e-06     \t|  1              \t|  1.6831e-06     \t|  6.9767e-06     \t|\n",
      "|  [Callback]GradientAccumulationScheduler.on_test_epoch_end                                                                                                                                       \t|  1.552e-06      \t|  1              \t|  1.552e-06      \t|  6.4334e-06     \t|\n",
      "|  [Callback]ModelCheckpoint{'monitor': 'val_loss', 'mode': 'min', 'every_n_train_steps': 0, 'every_n_epochs': 1, 'train_time_interval': None, 'save_on_train_epoch_end': True}.on_test_epoch_end  \t|  1.4741e-06     \t|  1              \t|  1.4741e-06     \t|  6.11e-06       \t|\n",
      "|  [LightningModule]MonetDense.on_test_epoch_end                                                                                                                                                   \t|  1.2422e-06     \t|  1              \t|  1.2422e-06     \t|  5.1488e-06     \t|\n",
      "----------------------------------------------------------------------------------------------------------------------------------------------------------------------------------------------------------------------------------------------------------------------------------------------------------\n",
      "\n"
     ]
    },
    {
     "name": "stdout",
     "output_type": "stream",
     "text": [
      "MonetDense__[512, 512, 512, 512, 512, 512]__20__table2_FULL_no_celltypes__Adam\n"
     ]
    },
    {
     "name": "stderr",
     "output_type": "stream",
     "text": [
      "100%|████████████████████████████████████████████████████████████████████████████████| 24/24 [00:19<00:00,  1.21it/s]\n",
      "GPU available: True (cuda), used: True\n",
      "TPU available: False, using: 0 TPU cores\n",
      "IPU available: False, using: 0 IPUs\n",
      "HPU available: False, using: 0 HPUs\n",
      "`Trainer(limit_train_batches=1.0)` was configured so 100% of the batches per epoch will be used..\n",
      "`Trainer(limit_val_batches=1.0)` was configured so 100% of the batches will be used..\n",
      "LOCAL_RANK: 0 - CUDA_VISIBLE_DEVICES: [5,6,7]\n"
     ]
    },
    {
     "data": {
      "application/vnd.jupyter.widget-view+json": {
       "model_id": "51e2f50150904fdfbd937e9e754b5973",
       "version_major": 2,
       "version_minor": 0
      },
      "text/plain": [
       "Testing: 0it [00:00, ?it/s]"
      ]
     },
     "metadata": {},
     "output_type": "display_data"
    },
    {
     "name": "stdout",
     "output_type": "stream",
     "text": [
      "────────────────────────────────────────────────────────────────────────────────────────────────────────────────────────\n",
      "       Test metric             DataLoader 0\n",
      "────────────────────────────────────────────────────────────────────────────────────────────────────────────────────────\n",
      "        test_loss           0.3366208076477051\n",
      "      test_loss_mse         0.3366208076477051\n",
      "────────────────────────────────────────────────────────────────────────────────────────────────────────────────────────\n"
     ]
    },
    {
     "name": "stderr",
     "output_type": "stream",
     "text": [
      "TEST Profiler Report\n",
      "\n",
      "----------------------------------------------------------------------------------------------------------------------------------------------------------------------------------------------------------------------------------------------------------------------------------------------------------\n",
      "|  Action                                                                                                                                                                                          \t|  Mean duration (s)\t|  Num calls      \t|  Total time (s) \t|  Percentage %   \t|\n",
      "----------------------------------------------------------------------------------------------------------------------------------------------------------------------------------------------------------------------------------------------------------------------------------------------------------\n",
      "|  Total                                                                                                                                                                                           \t|  -              \t|  471            \t|  23.643         \t|  100 %          \t|\n",
      "----------------------------------------------------------------------------------------------------------------------------------------------------------------------------------------------------------------------------------------------------------------------------------------------------------\n",
      "|  run_test_evaluation                                                                                                                                                                             \t|  23.315         \t|  1              \t|  23.315         \t|  98.613         \t|\n",
      "|  [Strategy]SingleDeviceStrategy.test_step                                                                                                                                                        \t|  0.73836        \t|  24             \t|  17.721         \t|  74.952         \t|\n",
      "|  [EvaluationEpochLoop].test_dataloader_idx_0_next                                                                                                                                                \t|  0.1764         \t|  24             \t|  4.2335         \t|  17.906         \t|\n",
      "|  [Callback]TQDMProgressBar.on_test_batch_end                                                                                                                                                     \t|  0.022043       \t|  24             \t|  0.52904        \t|  2.2377         \t|\n",
      "|  [Strategy]SingleDeviceStrategy.batch_to_device                                                                                                                                                  \t|  0.012412       \t|  24             \t|  0.29789        \t|  1.26           \t|\n",
      "|  [LightningModule]MonetDense.transfer_batch_to_device                                                                                                                                            \t|  0.012265       \t|  24             \t|  0.29436        \t|  1.2451         \t|\n",
      "|  [Callback]TQDMProgressBar.on_test_start                                                                                                                                                         \t|  0.010875       \t|  1              \t|  0.010875       \t|  0.045999       \t|\n",
      "|  [Callback]TQDMProgressBar.on_test_batch_start                                                                                                                                                   \t|  0.00014865     \t|  24             \t|  0.0035676      \t|  0.01509        \t|\n",
      "|  [Callback]TQDMProgressBar.on_test_end                                                                                                                                                           \t|  0.0019122      \t|  1              \t|  0.0019122      \t|  0.0080879      \t|\n",
      "|  [LightningModule]MonetDense.on_test_model_train                                                                                                                                                 \t|  0.00052954     \t|  1              \t|  0.00052954     \t|  0.0022398      \t|\n",
      "|  [Callback]ModelSummary.on_test_batch_end                                                                                                                                                        \t|  1.3889e-05     \t|  24             \t|  0.00033334     \t|  0.0014099      \t|\n",
      "|  [LightningModule]MonetDense.on_before_batch_transfer                                                                                                                                            \t|  6.9741e-06     \t|  24             \t|  0.00016738     \t|  0.00070796     \t|\n",
      "|  [LightningModule]MonetDense.on_test_model_eval                                                                                                                                                  \t|  0.0001638      \t|  1              \t|  0.0001638      \t|  0.00069281     \t|\n",
      "|  [LightningModule]MonetDense.test_step_end                                                                                                                                                       \t|  5.5981e-06     \t|  24             \t|  0.00013435     \t|  0.00056827     \t|\n",
      "|  [Callback]ModelSummary.on_test_batch_start                                                                                                                                                      \t|  4.8216e-06     \t|  24             \t|  0.00011572     \t|  0.00048945     \t|\n",
      "|  [Callback]ModelCheckpoint{'monitor': 'val_loss', 'mode': 'min', 'every_n_train_steps': 0, 'every_n_epochs': 1, 'train_time_interval': None, 'save_on_train_epoch_end': True}.on_test_batch_end  \t|  4.51e-06       \t|  24             \t|  0.00010824     \t|  0.00045782     \t|\n",
      "|  [Callback]GradientAccumulationScheduler.on_test_batch_end                                                                                                                                       \t|  4.4479e-06     \t|  24             \t|  0.00010675     \t|  0.00045152     \t|\n",
      "|  [Callback]GradientAccumulationScheduler.on_test_batch_start                                                                                                                                     \t|  4.387e-06      \t|  24             \t|  0.00010529     \t|  0.00044533     \t|\n",
      "|  [LightningModule]MonetDense.on_after_batch_transfer                                                                                                                                             \t|  3.5891e-06     \t|  24             \t|  8.6138e-05     \t|  0.00036434     \t|\n",
      "|  [Strategy]SingleDeviceStrategy.test_step_end                                                                                                                                                    \t|  3.3556e-06     \t|  24             \t|  8.0535e-05     \t|  0.00034064     \t|\n",
      "|  [Callback]ModelCheckpoint{'monitor': 'val_loss', 'mode': 'min', 'every_n_train_steps': 0, 'every_n_epochs': 1, 'train_time_interval': None, 'save_on_train_epoch_end': True}.on_test_batch_start\t|  3.2837e-06     \t|  24             \t|  7.881e-05      \t|  0.00033334     \t|\n",
      "|  [LightningModule]MonetDense.on_test_batch_start                                                                                                                                                 \t|  3.2087e-06     \t|  24             \t|  7.701e-05      \t|  0.00032573     \t|\n",
      "|  [LightningModule]MonetDense.on_test_batch_end                                                                                                                                                   \t|  2.9506e-06     \t|  24             \t|  7.0813e-05     \t|  0.00029952     \t|\n",
      "|  [Callback]ModelSummary.on_test_end                                                                                                                                                              \t|  2.9019e-05     \t|  1              \t|  2.9019e-05     \t|  0.00012274     \t|\n",
      "|  [Callback]ModelCheckpoint{'monitor': 'val_loss', 'mode': 'min', 'every_n_train_steps': 0, 'every_n_epochs': 1, 'train_time_interval': None, 'save_on_train_epoch_end': None}.setup              \t|  1.434e-05      \t|  1              \t|  1.434e-05      \t|  6.0654e-05     \t|\n",
      "|  [LightningModule]MonetDense.configure_callbacks                                                                                                                                                 \t|  8.024e-06      \t|  1              \t|  8.024e-06      \t|  3.3939e-05     \t|\n",
      "|  [Callback]TQDMProgressBar.setup                                                                                                                                                                 \t|  7.811e-06      \t|  1              \t|  7.811e-06      \t|  3.3038e-05     \t|\n",
      "|  [Callback]TQDMProgressBar.teardown                                                                                                                                                              \t|  7.0201e-06     \t|  1              \t|  7.0201e-06     \t|  2.9693e-05     \t|\n",
      "|  [Callback]ModelSummary.on_test_start                                                                                                                                                            \t|  6.5039e-06     \t|  1              \t|  6.5039e-06     \t|  2.7509e-05     \t|\n",
      "|  [LightningModule]MonetDense.test_epoch_end                                                                                                                                                      \t|  6.442e-06      \t|  1              \t|  6.442e-06      \t|  2.7247e-05     \t|\n",
      "|  [Callback]TQDMProgressBar.on_test_epoch_end                                                                                                                                                     \t|  6.0261e-06     \t|  1              \t|  6.0261e-06     \t|  2.5489e-05     \t|\n",
      "|  [Callback]GradientAccumulationScheduler.on_test_end                                                                                                                                             \t|  4.5509e-06     \t|  1              \t|  4.5509e-06     \t|  1.9249e-05     \t|\n",
      "|  [Callback]ModelSummary.on_test_epoch_end                                                                                                                                                        \t|  3.9299e-06     \t|  1              \t|  3.9299e-06     \t|  1.6622e-05     \t|\n",
      "|  [Callback]ModelCheckpoint{'monitor': 'val_loss', 'mode': 'min', 'every_n_train_steps': 0, 'every_n_epochs': 1, 'train_time_interval': None, 'save_on_train_epoch_end': True}.on_test_end        \t|  3.465e-06      \t|  1              \t|  3.465e-06      \t|  1.4656e-05     \t|\n",
      "|  [Callback]ModelCheckpoint{'monitor': 'val_loss', 'mode': 'min', 'every_n_train_steps': 0, 'every_n_epochs': 1, 'train_time_interval': None, 'save_on_train_epoch_end': True}.on_test_epoch_end  \t|  3.462e-06      \t|  1              \t|  3.462e-06      \t|  1.4643e-05     \t|\n",
      "|  [Callback]GradientAccumulationScheduler.on_test_epoch_end                                                                                                                                       \t|  3.4182e-06     \t|  1              \t|  3.4182e-06     \t|  1.4458e-05     \t|\n",
      "|  [Callback]TQDMProgressBar.on_test_epoch_start                                                                                                                                                   \t|  3.228e-06      \t|  1              \t|  3.228e-06      \t|  1.3653e-05     \t|\n",
      "|  [LightningModule]MonetDense.prepare_data                                                                                                                                                        \t|  3.1521e-06     \t|  1              \t|  3.1521e-06     \t|  1.3332e-05     \t|\n",
      "|  [LightningModule]MonetDense.on_test_epoch_start                                                                                                                                                 \t|  2.8231e-06     \t|  1              \t|  2.8231e-06     \t|  1.1941e-05     \t|\n",
      "|  [LightningModule]MonetDense.on_test_end                                                                                                                                                         \t|  2.7982e-06     \t|  1              \t|  2.7982e-06     \t|  1.1835e-05     \t|\n",
      "|  [LightningModule]MonetDense.on_test_epoch_end                                                                                                                                                   \t|  2.77e-06       \t|  1              \t|  2.77e-06       \t|  1.1716e-05     \t|\n",
      "|  [Callback]ModelSummary.teardown                                                                                                                                                                 \t|  2.5721e-06     \t|  1              \t|  2.5721e-06     \t|  1.0879e-05     \t|\n",
      "|  [Callback]ModelCheckpoint{'monitor': 'val_loss', 'mode': 'min', 'every_n_train_steps': 0, 'every_n_epochs': 1, 'train_time_interval': None, 'save_on_train_epoch_end': True}.teardown           \t|  2.367e-06      \t|  1              \t|  2.367e-06      \t|  1.0011e-05     \t|\n",
      "|  [Strategy]SingleDeviceStrategy.on_test_end                                                                                                                                                      \t|  2.3551e-06     \t|  1              \t|  2.3551e-06     \t|  9.9612e-06     \t|\n",
      "|  [LightningModule]MonetDense.teardown                                                                                                                                                            \t|  1.9821e-06     \t|  1              \t|  1.9821e-06     \t|  8.3836e-06     \t|\n",
      "|  [Callback]GradientAccumulationScheduler.teardown                                                                                                                                                \t|  1.9639e-06     \t|  1              \t|  1.9639e-06     \t|  8.3068e-06     \t|\n",
      "|  [Callback]ModelSummary.setup                                                                                                                                                                    \t|  1.895e-06      \t|  1              \t|  1.895e-06      \t|  8.0153e-06     \t|\n",
      "|  [Callback]GradientAccumulationScheduler.on_test_start                                                                                                                                           \t|  1.4431e-06     \t|  1              \t|  1.4431e-06     \t|  6.1038e-06     \t|\n",
      "|  [LightningModule]MonetDense.setup                                                                                                                                                               \t|  1.3448e-06     \t|  1              \t|  1.3448e-06     \t|  5.6882e-06     \t|\n",
      "|  [Callback]GradientAccumulationScheduler.setup                                                                                                                                                   \t|  1.2999e-06     \t|  1              \t|  1.2999e-06     \t|  5.4981e-06     \t|\n",
      "|  [Callback]ModelCheckpoint{'monitor': 'val_loss', 'mode': 'min', 'every_n_train_steps': 0, 'every_n_epochs': 1, 'train_time_interval': None, 'save_on_train_epoch_end': True}.on_test_epoch_start\t|  1.291e-06      \t|  1              \t|  1.291e-06      \t|  5.4607e-06     \t|\n",
      "|  [Callback]ModelCheckpoint{'monitor': 'val_loss', 'mode': 'min', 'every_n_train_steps': 0, 'every_n_epochs': 1, 'train_time_interval': None, 'save_on_train_epoch_end': True}.on_test_start      \t|  1.217e-06      \t|  1              \t|  1.217e-06      \t|  5.1475e-06     \t|\n",
      "|  [LightningModule]MonetDense.on_test_start                                                                                                                                                       \t|  1.1371e-06     \t|  1              \t|  1.1371e-06     \t|  4.8097e-06     \t|\n",
      "|  [Callback]ModelSummary.on_test_epoch_start                                                                                                                                                      \t|  1.1132e-06     \t|  1              \t|  1.1132e-06     \t|  4.7083e-06     \t|\n",
      "|  [Callback]GradientAccumulationScheduler.on_test_epoch_start                                                                                                                                     \t|  1.0962e-06     \t|  1              \t|  1.0962e-06     \t|  4.6364e-06     \t|\n",
      "|  [Strategy]SingleDeviceStrategy.on_test_start                                                                                                                                                    \t|  9.6299e-07     \t|  1              \t|  9.6299e-07     \t|  4.0731e-06     \t|\n",
      "|  [LightningModule]MonetDense.configure_sharded_model                                                                                                                                             \t|  9.5298e-07     \t|  1              \t|  9.5298e-07     \t|  4.0308e-06     \t|\n",
      "----------------------------------------------------------------------------------------------------------------------------------------------------------------------------------------------------------------------------------------------------------------------------------------------------------\n",
      "\n"
     ]
    },
    {
     "name": "stdout",
     "output_type": "stream",
     "text": [
      "MonetDense__[512, 512, 512, 512, 512, 512]__25__table2_FULL_no_celltypes__Adam\n"
     ]
    },
    {
     "name": "stderr",
     "output_type": "stream",
     "text": [
      "100%|████████████████████████████████████████████████████████████████████████████████| 24/24 [00:19<00:00,  1.22it/s]\n",
      "GPU available: True (cuda), used: True\n",
      "TPU available: False, using: 0 TPU cores\n",
      "IPU available: False, using: 0 IPUs\n",
      "HPU available: False, using: 0 HPUs\n",
      "`Trainer(limit_train_batches=1.0)` was configured so 100% of the batches per epoch will be used..\n",
      "`Trainer(limit_val_batches=1.0)` was configured so 100% of the batches will be used..\n",
      "LOCAL_RANK: 0 - CUDA_VISIBLE_DEVICES: [5,6,7]\n"
     ]
    },
    {
     "data": {
      "application/vnd.jupyter.widget-view+json": {
       "model_id": "0b2d091ecd1146788a1b999c1d85ff9c",
       "version_major": 2,
       "version_minor": 0
      },
      "text/plain": [
       "Testing: 0it [00:00, ?it/s]"
      ]
     },
     "metadata": {},
     "output_type": "display_data"
    },
    {
     "name": "stdout",
     "output_type": "stream",
     "text": [
      "────────────────────────────────────────────────────────────────────────────────────────────────────────────────────────\n",
      "       Test metric             DataLoader 0\n",
      "────────────────────────────────────────────────────────────────────────────────────────────────────────────────────────\n",
      "        test_loss           0.33311593532562256\n",
      "      test_loss_mse         0.33311593532562256\n",
      "────────────────────────────────────────────────────────────────────────────────────────────────────────────────────────\n"
     ]
    },
    {
     "name": "stderr",
     "output_type": "stream",
     "text": [
      "TEST Profiler Report\n",
      "\n",
      "----------------------------------------------------------------------------------------------------------------------------------------------------------------------------------------------------------------------------------------------------------------------------------------------------------\n",
      "|  Action                                                                                                                                                                                          \t|  Mean duration (s)\t|  Num calls      \t|  Total time (s) \t|  Percentage %   \t|\n",
      "----------------------------------------------------------------------------------------------------------------------------------------------------------------------------------------------------------------------------------------------------------------------------------------------------------\n",
      "|  Total                                                                                                                                                                                           \t|  -              \t|  471            \t|  24.648         \t|  100 %          \t|\n",
      "----------------------------------------------------------------------------------------------------------------------------------------------------------------------------------------------------------------------------------------------------------------------------------------------------------\n",
      "|  run_test_evaluation                                                                                                                                                                             \t|  24.299         \t|  1              \t|  24.299         \t|  98.585         \t|\n",
      "|  [Strategy]SingleDeviceStrategy.test_step                                                                                                                                                        \t|  0.76394        \t|  24             \t|  18.335         \t|  74.385         \t|\n",
      "|  [EvaluationEpochLoop].test_dataloader_idx_0_next                                                                                                                                                \t|  0.18917        \t|  24             \t|  4.54           \t|  18.419         \t|\n",
      "|  [Callback]TQDMProgressBar.on_test_batch_end                                                                                                                                                     \t|  0.026217       \t|  24             \t|  0.6292         \t|  2.5527         \t|\n",
      "|  [Strategy]SingleDeviceStrategy.batch_to_device                                                                                                                                                  \t|  0.012188       \t|  24             \t|  0.29252        \t|  1.1868         \t|\n",
      "|  [LightningModule]MonetDense.transfer_batch_to_device                                                                                                                                            \t|  0.012031       \t|  24             \t|  0.28875        \t|  1.1715         \t|\n",
      "|  [Callback]TQDMProgressBar.on_test_start                                                                                                                                                         \t|  0.010511       \t|  1              \t|  0.010511       \t|  0.042645       \t|\n",
      "|  [Callback]TQDMProgressBar.on_test_batch_start                                                                                                                                                   \t|  0.00023737     \t|  24             \t|  0.0056969      \t|  0.023113       \t|\n",
      "|  [Callback]TQDMProgressBar.on_test_end                                                                                                                                                           \t|  0.0011543      \t|  1              \t|  0.0011543      \t|  0.004683       \t|\n",
      "|  [Callback]ModelSummary.on_test_batch_end                                                                                                                                                        \t|  1.4671e-05     \t|  24             \t|  0.00035211     \t|  0.0014285      \t|\n",
      "|  [LightningModule]MonetDense.on_test_model_train                                                                                                                                                 \t|  0.0003143      \t|  1              \t|  0.0003143      \t|  0.0012751      \t|\n",
      "|  [LightningModule]MonetDense.on_before_batch_transfer                                                                                                                                            \t|  9.0523e-06     \t|  24             \t|  0.00021726     \t|  0.00088142     \t|\n",
      "|  [LightningModule]MonetDense.on_test_model_eval                                                                                                                                                  \t|  0.00018949     \t|  1              \t|  0.00018949     \t|  0.00076877     \t|\n",
      "|  [LightningModule]MonetDense.test_step_end                                                                                                                                                       \t|  5.4356e-06     \t|  24             \t|  0.00013045     \t|  0.00052926     \t|\n",
      "|  [Callback]ModelSummary.on_test_batch_start                                                                                                                                                      \t|  5.2734e-06     \t|  24             \t|  0.00012656     \t|  0.00051347     \t|\n",
      "|  [LightningModule]MonetDense.on_test_batch_end                                                                                                                                                   \t|  4.8455e-06     \t|  24             \t|  0.00011629     \t|  0.00047181     \t|\n",
      "|  [Callback]GradientAccumulationScheduler.on_test_batch_start                                                                                                                                     \t|  4.4653e-06     \t|  24             \t|  0.00010717     \t|  0.00043479     \t|\n",
      "|  [Callback]GradientAccumulationScheduler.on_test_batch_end                                                                                                                                       \t|  4.1372e-06     \t|  24             \t|  9.9294e-05     \t|  0.00040284     \t|\n",
      "|  [Callback]ModelCheckpoint{'monitor': 'val_loss', 'mode': 'min', 'every_n_train_steps': 0, 'every_n_epochs': 1, 'train_time_interval': None, 'save_on_train_epoch_end': True}.on_test_batch_end  \t|  3.9798e-06     \t|  24             \t|  9.5515e-05     \t|  0.00038751     \t|\n",
      "|  [LightningModule]MonetDense.on_after_batch_transfer                                                                                                                                             \t|  3.9257e-06     \t|  24             \t|  9.4216e-05     \t|  0.00038224     \t|\n",
      "|  [Callback]ModelCheckpoint{'monitor': 'val_loss', 'mode': 'min', 'every_n_train_steps': 0, 'every_n_epochs': 1, 'train_time_interval': None, 'save_on_train_epoch_end': True}.on_test_batch_start\t|  3.8059e-06     \t|  24             \t|  9.1341e-05     \t|  0.00037058     \t|\n",
      "|  [Strategy]SingleDeviceStrategy.test_step_end                                                                                                                                                    \t|  3.2624e-06     \t|  24             \t|  7.8297e-05     \t|  0.00031766     \t|\n",
      "|  [LightningModule]MonetDense.on_test_batch_start                                                                                                                                                 \t|  3.1796e-06     \t|  24             \t|  7.6311e-05     \t|  0.0003096      \t|\n",
      "|  [Callback]ModelSummary.on_test_end                                                                                                                                                              \t|  1.4054e-05     \t|  1              \t|  1.4054e-05     \t|  5.7019e-05     \t|\n",
      "|  [Callback]ModelCheckpoint{'monitor': 'val_loss', 'mode': 'min', 'every_n_train_steps': 0, 'every_n_epochs': 1, 'train_time_interval': None, 'save_on_train_epoch_end': None}.setup              \t|  7.75e-06       \t|  1              \t|  7.75e-06       \t|  3.1442e-05     \t|\n",
      "|  [LightningModule]MonetDense.test_epoch_end                                                                                                                                                      \t|  6.8541e-06     \t|  1              \t|  6.8541e-06     \t|  2.7807e-05     \t|\n",
      "|  [Callback]TQDMProgressBar.teardown                                                                                                                                                              \t|  6.2182e-06     \t|  1              \t|  6.2182e-06     \t|  2.5228e-05     \t|\n",
      "|  [Callback]TQDMProgressBar.on_test_epoch_end                                                                                                                                                     \t|  5.8948e-06     \t|  1              \t|  5.8948e-06     \t|  2.3916e-05     \t|\n",
      "|  [Callback]ModelSummary.on_test_start                                                                                                                                                            \t|  4.58e-06       \t|  1              \t|  4.58e-06       \t|  1.8581e-05     \t|\n",
      "|  [Callback]TQDMProgressBar.setup                                                                                                                                                                 \t|  4.113e-06      \t|  1              \t|  4.113e-06      \t|  1.6687e-05     \t|\n",
      "|  [Callback]ModelSummary.on_test_epoch_end                                                                                                                                                        \t|  3.8692e-06     \t|  1              \t|  3.8692e-06     \t|  1.5698e-05     \t|\n",
      "|  [Callback]GradientAccumulationScheduler.on_test_epoch_end                                                                                                                                       \t|  3.6238e-06     \t|  1              \t|  3.6238e-06     \t|  1.4702e-05     \t|\n",
      "|  [Callback]ModelCheckpoint{'monitor': 'val_loss', 'mode': 'min', 'every_n_train_steps': 0, 'every_n_epochs': 1, 'train_time_interval': None, 'save_on_train_epoch_end': True}.on_test_epoch_end  \t|  3.207e-06      \t|  1              \t|  3.207e-06      \t|  1.3011e-05     \t|\n",
      "|  [LightningModule]MonetDense.configure_callbacks                                                                                                                                                 \t|  3.092e-06      \t|  1              \t|  3.092e-06      \t|  1.2544e-05     \t|\n",
      "|  [LightningModule]MonetDense.on_test_epoch_end                                                                                                                                                   \t|  2.621e-06      \t|  1              \t|  2.621e-06      \t|  1.0634e-05     \t|\n",
      "|  [LightningModule]MonetDense.teardown                                                                                                                                                            \t|  2.427e-06      \t|  1              \t|  2.427e-06      \t|  9.8466e-06     \t|\n",
      "|  [Callback]ModelSummary.teardown                                                                                                                                                                 \t|  2.3751e-06     \t|  1              \t|  2.3751e-06     \t|  9.636e-06      \t|\n",
      "|  [Callback]ModelCheckpoint{'monitor': 'val_loss', 'mode': 'min', 'every_n_train_steps': 0, 'every_n_epochs': 1, 'train_time_interval': None, 'save_on_train_epoch_end': True}.teardown           \t|  2.1921e-06     \t|  1              \t|  2.1921e-06     \t|  8.8935e-06     \t|\n",
      "|  [Callback]GradientAccumulationScheduler.on_test_end                                                                                                                                             \t|  2.0859e-06     \t|  1              \t|  2.0859e-06     \t|  8.4628e-06     \t|\n",
      "|  [Callback]GradientAccumulationScheduler.teardown                                                                                                                                                \t|  1.9821e-06     \t|  1              \t|  1.9821e-06     \t|  8.0415e-06     \t|\n",
      "|  [Callback]ModelCheckpoint{'monitor': 'val_loss', 'mode': 'min', 'every_n_train_steps': 0, 'every_n_epochs': 1, 'train_time_interval': None, 'save_on_train_epoch_end': True}.on_test_end        \t|  1.8801e-06     \t|  1              \t|  1.8801e-06     \t|  7.6277e-06     \t|\n",
      "|  [Callback]ModelSummary.setup                                                                                                                                                                    \t|  1.6131e-06     \t|  1              \t|  1.6131e-06     \t|  6.5443e-06     \t|\n",
      "|  [LightningModule]MonetDense.prepare_data                                                                                                                                                        \t|  1.5111e-06     \t|  1              \t|  1.5111e-06     \t|  6.1305e-06     \t|\n",
      "|  [Strategy]SingleDeviceStrategy.on_test_end                                                                                                                                                      \t|  1.491e-06      \t|  1              \t|  1.491e-06      \t|  6.0493e-06     \t|\n",
      "|  [Callback]TQDMProgressBar.on_test_epoch_start                                                                                                                                                   \t|  1.464e-06      \t|  1              \t|  1.464e-06      \t|  5.9397e-06     \t|\n",
      "|  [LightningModule]MonetDense.on_test_end                                                                                                                                                         \t|  1.4598e-06     \t|  1              \t|  1.4598e-06     \t|  5.9227e-06     \t|\n",
      "|  [Strategy]SingleDeviceStrategy.on_test_start                                                                                                                                                    \t|  1.356e-06      \t|  1              \t|  1.356e-06      \t|  5.5014e-06     \t|\n",
      "|  [Callback]GradientAccumulationScheduler.on_test_start                                                                                                                                           \t|  1.342e-06      \t|  1              \t|  1.342e-06      \t|  5.4447e-06     \t|\n",
      "|  [LightningModule]MonetDense.on_test_start                                                                                                                                                       \t|  1.3378e-06     \t|  1              \t|  1.3378e-06     \t|  5.4277e-06     \t|\n",
      "|  [Callback]ModelCheckpoint{'monitor': 'val_loss', 'mode': 'min', 'every_n_train_steps': 0, 'every_n_epochs': 1, 'train_time_interval': None, 'save_on_train_epoch_end': True}.on_test_start      \t|  1.2941e-06     \t|  1              \t|  1.2941e-06     \t|  5.2502e-06     \t|\n",
      "|  [LightningModule]MonetDense.on_test_epoch_start                                                                                                                                                 \t|  1.2082e-06     \t|  1              \t|  1.2082e-06     \t|  4.9016e-06     \t|\n",
      "|  [LightningModule]MonetDense.setup                                                                                                                                                               \t|  1.204e-06      \t|  1              \t|  1.204e-06      \t|  4.8846e-06     \t|\n",
      "|  [Callback]ModelCheckpoint{'monitor': 'val_loss', 'mode': 'min', 'every_n_train_steps': 0, 'every_n_epochs': 1, 'train_time_interval': None, 'save_on_train_epoch_end': True}.on_test_epoch_start\t|  1.2019e-06     \t|  1              \t|  1.2019e-06     \t|  4.8761e-06     \t|\n",
      "|  [Callback]GradientAccumulationScheduler.setup                                                                                                                                                   \t|  1.054e-06      \t|  1              \t|  1.054e-06      \t|  4.2763e-06     \t|\n",
      "|  [Callback]GradientAccumulationScheduler.on_test_epoch_start                                                                                                                                     \t|  1.041e-06      \t|  1              \t|  1.041e-06      \t|  4.2234e-06     \t|\n",
      "|  [Callback]ModelSummary.on_test_epoch_start                                                                                                                                                      \t|  1.027e-06      \t|  1              \t|  1.027e-06      \t|  4.1667e-06     \t|\n",
      "|  [LightningModule]MonetDense.configure_sharded_model                                                                                                                                             \t|  8.51e-07       \t|  1              \t|  8.51e-07       \t|  3.4526e-06     \t|\n",
      "----------------------------------------------------------------------------------------------------------------------------------------------------------------------------------------------------------------------------------------------------------------------------------------------------------\n",
      "\n"
     ]
    },
    {
     "name": "stdout",
     "output_type": "stream",
     "text": [
      "MonetDense__[512, 512, 512, 512, 512, 512]__30__table2_FULL_no_celltypes__Adam\n"
     ]
    },
    {
     "name": "stderr",
     "output_type": "stream",
     "text": [
      "100%|████████████████████████████████████████████████████████████████████████████████| 24/24 [00:20<00:00,  1.19it/s]\n"
     ]
    },
    {
     "name": "stdout",
     "output_type": "stream",
     "text": [
      "MonetDense__[256, 256, 256, 256, 256, 256]__30__table2_FULL_no_celltypes__Adam\n"
     ]
    },
    {
     "name": "stderr",
     "output_type": "stream",
     "text": [
      "100%|████████████████████████████████████████████████████████████████████████████████| 24/24 [00:19<00:00,  1.25it/s]\n",
      "GPU available: True (cuda), used: True\n",
      "TPU available: False, using: 0 TPU cores\n",
      "IPU available: False, using: 0 IPUs\n",
      "HPU available: False, using: 0 HPUs\n",
      "`Trainer(limit_train_batches=1.0)` was configured so 100% of the batches per epoch will be used..\n",
      "`Trainer(limit_val_batches=1.0)` was configured so 100% of the batches will be used..\n",
      "LOCAL_RANK: 0 - CUDA_VISIBLE_DEVICES: [5,6,7]\n"
     ]
    },
    {
     "data": {
      "application/vnd.jupyter.widget-view+json": {
       "model_id": "26754876aed740239ffdfb701f993705",
       "version_major": 2,
       "version_minor": 0
      },
      "text/plain": [
       "Testing: 0it [00:00, ?it/s]"
      ]
     },
     "metadata": {},
     "output_type": "display_data"
    },
    {
     "name": "stdout",
     "output_type": "stream",
     "text": [
      "────────────────────────────────────────────────────────────────────────────────────────────────────────────────────────\n",
      "       Test metric             DataLoader 0\n",
      "────────────────────────────────────────────────────────────────────────────────────────────────────────────────────────\n",
      "        test_loss           0.3348855972290039\n",
      "      test_loss_mse         0.3348855972290039\n",
      "────────────────────────────────────────────────────────────────────────────────────────────────────────────────────────\n"
     ]
    },
    {
     "name": "stderr",
     "output_type": "stream",
     "text": [
      "TEST Profiler Report\n",
      "\n",
      "----------------------------------------------------------------------------------------------------------------------------------------------------------------------------------------------------------------------------------------------------------------------------------------------------------\n",
      "|  Action                                                                                                                                                                                          \t|  Mean duration (s)\t|  Num calls      \t|  Total time (s) \t|  Percentage %   \t|\n",
      "----------------------------------------------------------------------------------------------------------------------------------------------------------------------------------------------------------------------------------------------------------------------------------------------------------\n",
      "|  Total                                                                                                                                                                                           \t|  -              \t|  471            \t|  24.264         \t|  100 %          \t|\n",
      "----------------------------------------------------------------------------------------------------------------------------------------------------------------------------------------------------------------------------------------------------------------------------------------------------------\n",
      "|  run_test_evaluation                                                                                                                                                                             \t|  23.945         \t|  1              \t|  23.945         \t|  98.688         \t|\n",
      "|  [Strategy]SingleDeviceStrategy.test_step                                                                                                                                                        \t|  0.77426        \t|  24             \t|  18.582         \t|  76.585         \t|\n",
      "|  [EvaluationEpochLoop].test_dataloader_idx_0_next                                                                                                                                                \t|  0.16164        \t|  24             \t|  3.8793         \t|  15.988         \t|\n",
      "|  [Callback]TQDMProgressBar.on_test_batch_end                                                                                                                                                     \t|  0.023883       \t|  24             \t|  0.57319        \t|  2.3624         \t|\n",
      "|  [Strategy]SingleDeviceStrategy.batch_to_device                                                                                                                                                  \t|  0.011944       \t|  24             \t|  0.28666        \t|  1.1815         \t|\n",
      "|  [LightningModule]MonetDense.transfer_batch_to_device                                                                                                                                            \t|  0.011795       \t|  24             \t|  0.28308        \t|  1.1667         \t|\n",
      "|  [Callback]TQDMProgressBar.on_test_start                                                                                                                                                         \t|  0.011137       \t|  1              \t|  0.011137       \t|  0.045899       \t|\n",
      "|  [Callback]TQDMProgressBar.on_test_batch_start                                                                                                                                                   \t|  0.00013162     \t|  24             \t|  0.003159       \t|  0.013019       \t|\n",
      "|  [Callback]TQDMProgressBar.on_test_end                                                                                                                                                           \t|  0.002279       \t|  1              \t|  0.002279       \t|  0.0093926      \t|\n",
      "|  [LightningModule]MonetDense.on_test_model_train                                                                                                                                                 \t|  0.00074185     \t|  1              \t|  0.00074185     \t|  0.0030575      \t|\n",
      "|  [Callback]ModelSummary.on_test_batch_end                                                                                                                                                        \t|  1.4247e-05     \t|  24             \t|  0.00034193     \t|  0.0014092      \t|\n",
      "|  [LightningModule]MonetDense.on_before_batch_transfer                                                                                                                                            \t|  7.9532e-06     \t|  24             \t|  0.00019088     \t|  0.00078668     \t|\n",
      "|  [LightningModule]MonetDense.on_test_model_eval                                                                                                                                                  \t|  0.00017018     \t|  1              \t|  0.00017018     \t|  0.00070136     \t|\n",
      "|  [LightningModule]MonetDense.test_step_end                                                                                                                                                       \t|  6.387e-06      \t|  24             \t|  0.00015329     \t|  0.00063176     \t|\n",
      "|  [Callback]ModelSummary.on_test_batch_start                                                                                                                                                      \t|  4.6302e-06     \t|  24             \t|  0.00011113     \t|  0.00045799     \t|\n",
      "|  [LightningModule]MonetDense.on_test_batch_end                                                                                                                                                   \t|  4.3713e-06     \t|  24             \t|  0.00010491     \t|  0.00043239     \t|\n",
      "|  [Callback]GradientAccumulationScheduler.on_test_batch_end                                                                                                                                       \t|  4.0638e-06     \t|  24             \t|  9.7532e-05     \t|  0.00040197     \t|\n",
      "|  [Callback]GradientAccumulationScheduler.on_test_batch_start                                                                                                                                     \t|  4.05e-06       \t|  24             \t|  9.7199e-05     \t|  0.0004006      \t|\n",
      "|  [Callback]ModelCheckpoint{'monitor': 'val_loss', 'mode': 'min', 'every_n_train_steps': 0, 'every_n_epochs': 1, 'train_time_interval': None, 'save_on_train_epoch_end': True}.on_test_batch_end  \t|  4.0048e-06     \t|  24             \t|  9.6115e-05     \t|  0.00039613     \t|\n",
      "|  [LightningModule]MonetDense.on_after_batch_transfer                                                                                                                                             \t|  3.6894e-06     \t|  24             \t|  8.8545e-05     \t|  0.00036493     \t|\n",
      "|  [Strategy]SingleDeviceStrategy.test_step_end                                                                                                                                                    \t|  3.5683e-06     \t|  24             \t|  8.564e-05      \t|  0.00035296     \t|\n",
      "|  [Callback]ModelCheckpoint{'monitor': 'val_loss', 'mode': 'min', 'every_n_train_steps': 0, 'every_n_epochs': 1, 'train_time_interval': None, 'save_on_train_epoch_end': True}.on_test_batch_start\t|  3.3214e-06     \t|  24             \t|  7.9713e-05     \t|  0.00032853     \t|\n",
      "|  [LightningModule]MonetDense.on_test_batch_start                                                                                                                                                 \t|  2.9446e-06     \t|  24             \t|  7.0672e-05     \t|  0.00029127     \t|\n",
      "|  [Callback]ModelSummary.on_test_end                                                                                                                                                              \t|  2.185e-05      \t|  1              \t|  2.185e-05      \t|  9.0052e-05     \t|\n",
      "|  [Callback]ModelSummary.on_test_start                                                                                                                                                            \t|  8.367e-06      \t|  1              \t|  8.367e-06      \t|  3.4484e-05     \t|\n",
      "|  [Callback]ModelCheckpoint{'monitor': 'val_loss', 'mode': 'min', 'every_n_train_steps': 0, 'every_n_epochs': 1, 'train_time_interval': None, 'save_on_train_epoch_end': None}.setup              \t|  8.3481e-06     \t|  1              \t|  8.3481e-06     \t|  3.4406e-05     \t|\n",
      "|  [LightningModule]MonetDense.test_epoch_end                                                                                                                                                      \t|  6.4129e-06     \t|  1              \t|  6.4129e-06     \t|  2.643e-05      \t|\n",
      "|  [Callback]TQDMProgressBar.teardown                                                                                                                                                              \t|  6.2971e-06     \t|  1              \t|  6.2971e-06     \t|  2.5953e-05     \t|\n",
      "|  [Callback]TQDMProgressBar.on_test_epoch_end                                                                                                                                                     \t|  5.5919e-06     \t|  1              \t|  5.5919e-06     \t|  2.3046e-05     \t|\n",
      "|  [Callback]GradientAccumulationScheduler.on_test_end                                                                                                                                             \t|  4.5579e-06     \t|  1              \t|  4.5579e-06     \t|  1.8785e-05     \t|\n",
      "|  [Callback]TQDMProgressBar.setup                                                                                                                                                                 \t|  4.387e-06      \t|  1              \t|  4.387e-06      \t|  1.8081e-05     \t|\n",
      "|  [Callback]ModelSummary.on_test_epoch_end                                                                                                                                                        \t|  3.756e-06      \t|  1              \t|  3.756e-06      \t|  1.548e-05      \t|\n",
      "|  [Callback]ModelCheckpoint{'monitor': 'val_loss', 'mode': 'min', 'every_n_train_steps': 0, 'every_n_epochs': 1, 'train_time_interval': None, 'save_on_train_epoch_end': True}.on_test_end        \t|  3.6769e-06     \t|  1              \t|  3.6769e-06     \t|  1.5154e-05     \t|\n",
      "|  [Callback]GradientAccumulationScheduler.on_test_epoch_end                                                                                                                                       \t|  3.58e-06       \t|  1              \t|  3.58e-06       \t|  1.4755e-05     \t|\n",
      "|  [LightningModule]MonetDense.prepare_data                                                                                                                                                        \t|  3.5539e-06     \t|  1              \t|  3.5539e-06     \t|  1.4647e-05     \t|\n",
      "|  [Callback]ModelCheckpoint{'monitor': 'val_loss', 'mode': 'min', 'every_n_train_steps': 0, 'every_n_epochs': 1, 'train_time_interval': None, 'save_on_train_epoch_end': True}.on_test_epoch_end  \t|  3.41e-06       \t|  1              \t|  3.41e-06       \t|  1.4054e-05     \t|\n",
      "|  [Strategy]SingleDeviceStrategy.on_test_end                                                                                                                                                      \t|  3.1369e-06     \t|  1              \t|  3.1369e-06     \t|  1.2929e-05     \t|\n",
      "|  [LightningModule]MonetDense.on_test_epoch_start                                                                                                                                                 \t|  3.0641e-06     \t|  1              \t|  3.0641e-06     \t|  1.2628e-05     \t|\n",
      "|  [LightningModule]MonetDense.configure_callbacks                                                                                                                                                 \t|  3.048e-06      \t|  1              \t|  3.048e-06      \t|  1.2562e-05     \t|\n",
      "|  [LightningModule]MonetDense.on_test_end                                                                                                                                                         \t|  3e-06          \t|  1              \t|  3e-06          \t|  1.2364e-05     \t|\n",
      "|  [LightningModule]MonetDense.on_test_epoch_end                                                                                                                                                   \t|  2.7081e-06     \t|  1              \t|  2.7081e-06     \t|  1.1161e-05     \t|\n",
      "|  [Callback]ModelSummary.setup                                                                                                                                                                    \t|  1.8871e-06     \t|  1              \t|  1.8871e-06     \t|  7.7775e-06     \t|\n",
      "|  [Callback]ModelSummary.teardown                                                                                                                                                                 \t|  1.7111e-06     \t|  1              \t|  1.7111e-06     \t|  7.052e-06      \t|\n",
      "|  [Callback]TQDMProgressBar.on_test_epoch_start                                                                                                                                                   \t|  1.7071e-06     \t|  1              \t|  1.7071e-06     \t|  7.0357e-06     \t|\n",
      "|  [Callback]ModelCheckpoint{'monitor': 'val_loss', 'mode': 'min', 'every_n_train_steps': 0, 'every_n_epochs': 1, 'train_time_interval': None, 'save_on_train_epoch_end': True}.teardown           \t|  1.5791e-06     \t|  1              \t|  1.5791e-06     \t|  6.5079e-06     \t|\n",
      "|  [LightningModule]MonetDense.teardown                                                                                                                                                            \t|  1.522e-06      \t|  1              \t|  1.522e-06      \t|  6.2728e-06     \t|\n",
      "|  [Callback]GradientAccumulationScheduler.teardown                                                                                                                                                \t|  1.377e-06      \t|  1              \t|  1.377e-06      \t|  5.675e-06      \t|\n",
      "|  [Callback]GradientAccumulationScheduler.on_test_start                                                                                                                                           \t|  1.376e-06      \t|  1              \t|  1.376e-06      \t|  5.6712e-06     \t|\n",
      "|  [Callback]ModelCheckpoint{'monitor': 'val_loss', 'mode': 'min', 'every_n_train_steps': 0, 'every_n_epochs': 1, 'train_time_interval': None, 'save_on_train_epoch_end': True}.on_test_start      \t|  1.275e-06      \t|  1              \t|  1.275e-06      \t|  5.2547e-06     \t|\n",
      "|  [LightningModule]MonetDense.on_test_start                                                                                                                                                       \t|  1.2449e-06     \t|  1              \t|  1.2449e-06     \t|  5.1309e-06     \t|\n",
      "|  [Callback]GradientAccumulationScheduler.setup                                                                                                                                                   \t|  1.2179e-06     \t|  1              \t|  1.2179e-06     \t|  5.0196e-06     \t|\n",
      "|  [LightningModule]MonetDense.setup                                                                                                                                                               \t|  1.2149e-06     \t|  1              \t|  1.2149e-06     \t|  5.0071e-06     \t|\n",
      "|  [Callback]ModelCheckpoint{'monitor': 'val_loss', 'mode': 'min', 'every_n_train_steps': 0, 'every_n_epochs': 1, 'train_time_interval': None, 'save_on_train_epoch_end': True}.on_test_epoch_start\t|  1.1341e-06     \t|  1              \t|  1.1341e-06     \t|  4.6741e-06     \t|\n",
      "|  [LightningModule]MonetDense.configure_sharded_model                                                                                                                                             \t|  1.1101e-06     \t|  1              \t|  1.1101e-06     \t|  4.5753e-06     \t|\n",
      "|  [Callback]GradientAccumulationScheduler.on_test_epoch_start                                                                                                                                     \t|  1.085e-06      \t|  1              \t|  1.085e-06      \t|  4.4717e-06     \t|\n",
      "|  [Callback]ModelSummary.on_test_epoch_start                                                                                                                                                      \t|  1.0659e-06     \t|  1              \t|  1.0659e-06     \t|  4.393e-06      \t|\n",
      "|  [Strategy]SingleDeviceStrategy.on_test_start                                                                                                                                                    \t|  9.7696e-07     \t|  1              \t|  9.7696e-07     \t|  4.0264e-06     \t|\n",
      "----------------------------------------------------------------------------------------------------------------------------------------------------------------------------------------------------------------------------------------------------------------------------------------------------------\n",
      "\n"
     ]
    },
    {
     "name": "stdout",
     "output_type": "stream",
     "text": [
      "MonetDense__[512, 512, 512, 512, 512, 512]__35__table2_FULL_no_celltypes__Adam\n"
     ]
    },
    {
     "name": "stderr",
     "output_type": "stream",
     "text": [
      "100%|████████████████████████████████████████████████████████████████████████████████| 24/24 [00:20<00:00,  1.19it/s]\n"
     ]
    },
    {
     "name": "stdout",
     "output_type": "stream",
     "text": [
      "MonetDense__[256, 256, 256, 256, 256, 256]__35__table2_FULL_no_celltypes__Adam\n"
     ]
    },
    {
     "name": "stderr",
     "output_type": "stream",
     "text": [
      "100%|████████████████████████████████████████████████████████████████████████████████| 24/24 [00:19<00:00,  1.21it/s]\n",
      "GPU available: True (cuda), used: True\n",
      "TPU available: False, using: 0 TPU cores\n",
      "IPU available: False, using: 0 IPUs\n",
      "HPU available: False, using: 0 HPUs\n",
      "`Trainer(limit_train_batches=1.0)` was configured so 100% of the batches per epoch will be used..\n",
      "`Trainer(limit_val_batches=1.0)` was configured so 100% of the batches will be used..\n",
      "LOCAL_RANK: 0 - CUDA_VISIBLE_DEVICES: [5,6,7]\n"
     ]
    },
    {
     "data": {
      "application/vnd.jupyter.widget-view+json": {
       "model_id": "998a268241aa4ae1b5e271f808e7b853",
       "version_major": 2,
       "version_minor": 0
      },
      "text/plain": [
       "Testing: 0it [00:00, ?it/s]"
      ]
     },
     "metadata": {},
     "output_type": "display_data"
    },
    {
     "name": "stdout",
     "output_type": "stream",
     "text": [
      "────────────────────────────────────────────────────────────────────────────────────────────────────────────────────────\n",
      "       Test metric             DataLoader 0\n",
      "────────────────────────────────────────────────────────────────────────────────────────────────────────────────────────\n",
      "        test_loss           0.3332056701183319\n",
      "      test_loss_mse         0.3332056701183319\n",
      "────────────────────────────────────────────────────────────────────────────────────────────────────────────────────────\n"
     ]
    },
    {
     "name": "stderr",
     "output_type": "stream",
     "text": [
      "TEST Profiler Report\n",
      "\n",
      "----------------------------------------------------------------------------------------------------------------------------------------------------------------------------------------------------------------------------------------------------------------------------------------------------------\n",
      "|  Action                                                                                                                                                                                          \t|  Mean duration (s)\t|  Num calls      \t|  Total time (s) \t|  Percentage %   \t|\n",
      "----------------------------------------------------------------------------------------------------------------------------------------------------------------------------------------------------------------------------------------------------------------------------------------------------------\n",
      "|  Total                                                                                                                                                                                           \t|  -              \t|  471            \t|  22.922         \t|  100 %          \t|\n",
      "----------------------------------------------------------------------------------------------------------------------------------------------------------------------------------------------------------------------------------------------------------------------------------------------------------\n",
      "|  run_test_evaluation                                                                                                                                                                             \t|  22.598         \t|  1              \t|  22.598         \t|  98.59          \t|\n",
      "|  [Strategy]SingleDeviceStrategy.test_step                                                                                                                                                        \t|  0.75496        \t|  24             \t|  18.119         \t|  79.048         \t|\n",
      "|  [EvaluationEpochLoop].test_dataloader_idx_0_next                                                                                                                                                \t|  0.1302         \t|  24             \t|  3.1249         \t|  13.633         \t|\n",
      "|  [Callback]TQDMProgressBar.on_test_batch_end                                                                                                                                                     \t|  0.026579       \t|  24             \t|  0.6379         \t|  2.783          \t|\n",
      "|  [Strategy]SingleDeviceStrategy.batch_to_device                                                                                                                                                  \t|  0.01229        \t|  24             \t|  0.29496        \t|  1.2868         \t|\n",
      "|  [LightningModule]MonetDense.transfer_batch_to_device                                                                                                                                            \t|  0.012137       \t|  24             \t|  0.29128        \t|  1.2708         \t|\n",
      "|  [Callback]TQDMProgressBar.on_test_start                                                                                                                                                         \t|  0.0094475      \t|  1              \t|  0.0094475      \t|  0.041217       \t|\n",
      "|  [Callback]TQDMProgressBar.on_test_batch_start                                                                                                                                                   \t|  0.00016362     \t|  24             \t|  0.0039269      \t|  0.017132       \t|\n",
      "|  [Callback]TQDMProgressBar.on_test_end                                                                                                                                                           \t|  0.0020637      \t|  1              \t|  0.0020637      \t|  0.0090035      \t|\n",
      "|  [LightningModule]MonetDense.on_test_model_train                                                                                                                                                 \t|  0.00062965     \t|  1              \t|  0.00062965     \t|  0.002747       \t|\n",
      "|  [Callback]ModelSummary.on_test_batch_end                                                                                                                                                        \t|  1.4148e-05     \t|  24             \t|  0.00033955     \t|  0.0014813      \t|\n",
      "|  [LightningModule]MonetDense.on_test_model_eval                                                                                                                                                  \t|  0.00018853     \t|  1              \t|  0.00018853     \t|  0.00082248     \t|\n",
      "|  [LightningModule]MonetDense.on_before_batch_transfer                                                                                                                                            \t|  7.7821e-06     \t|  24             \t|  0.00018677     \t|  0.00081482     \t|\n",
      "|  [LightningModule]MonetDense.test_step_end                                                                                                                                                       \t|  5.9137e-06     \t|  24             \t|  0.00014193     \t|  0.0006192      \t|\n",
      "|  [Callback]ModelSummary.on_test_batch_start                                                                                                                                                      \t|  5.4994e-06     \t|  24             \t|  0.00013199     \t|  0.00057581     \t|\n",
      "|  [Callback]GradientAccumulationScheduler.on_test_batch_start                                                                                                                                     \t|  4.8719e-06     \t|  24             \t|  0.00011692     \t|  0.00051011     \t|\n",
      "|  [Callback]ModelCheckpoint{'monitor': 'val_loss', 'mode': 'min', 'every_n_train_steps': 0, 'every_n_epochs': 1, 'train_time_interval': None, 'save_on_train_epoch_end': True}.on_test_batch_end  \t|  4.4577e-06     \t|  24             \t|  0.00010699     \t|  0.00046675     \t|\n",
      "|  [LightningModule]MonetDense.on_test_batch_end                                                                                                                                                   \t|  4.297e-06      \t|  24             \t|  0.00010313     \t|  0.00044991     \t|\n",
      "|  [Callback]GradientAccumulationScheduler.on_test_batch_end                                                                                                                                       \t|  4.2709e-06     \t|  24             \t|  0.0001025      \t|  0.00044718     \t|\n",
      "|  [Callback]ModelCheckpoint{'monitor': 'val_loss', 'mode': 'min', 'every_n_train_steps': 0, 'every_n_epochs': 1, 'train_time_interval': None, 'save_on_train_epoch_end': True}.on_test_batch_start\t|  4.2592e-06     \t|  24             \t|  0.00010222     \t|  0.00044596     \t|\n",
      "|  [LightningModule]MonetDense.on_after_batch_transfer                                                                                                                                             \t|  4.0099e-06     \t|  24             \t|  9.6238e-05     \t|  0.00041986     \t|\n",
      "|  [Strategy]SingleDeviceStrategy.test_step_end                                                                                                                                                    \t|  3.676e-06      \t|  24             \t|  8.8223e-05     \t|  0.00038489     \t|\n",
      "|  [LightningModule]MonetDense.on_test_batch_start                                                                                                                                                 \t|  3.427e-06      \t|  24             \t|  8.2248e-05     \t|  0.00035882     \t|\n",
      "|  [Callback]ModelSummary.on_test_end                                                                                                                                                              \t|  3.1577e-05     \t|  1              \t|  3.1577e-05     \t|  0.00013776     \t|\n",
      "|  [Callback]ModelSummary.on_test_start                                                                                                                                                            \t|  8.367e-06      \t|  1              \t|  8.367e-06      \t|  3.6503e-05     \t|\n",
      "|  [Callback]ModelCheckpoint{'monitor': 'val_loss', 'mode': 'min', 'every_n_train_steps': 0, 'every_n_epochs': 1, 'train_time_interval': None, 'save_on_train_epoch_end': None}.setup              \t|  7.774e-06      \t|  1              \t|  7.774e-06      \t|  3.3916e-05     \t|\n",
      "|  [Callback]TQDMProgressBar.teardown                                                                                                                                                              \t|  7.123e-06      \t|  1              \t|  7.123e-06      \t|  3.1076e-05     \t|\n",
      "|  [Callback]GradientAccumulationScheduler.on_test_end                                                                                                                                             \t|  7.034e-06      \t|  1              \t|  7.034e-06      \t|  3.0688e-05     \t|\n",
      "|  [LightningModule]MonetDense.test_epoch_end                                                                                                                                                      \t|  6.835e-06      \t|  1              \t|  6.835e-06      \t|  2.9819e-05     \t|\n",
      "|  [Callback]ModelCheckpoint{'monitor': 'val_loss', 'mode': 'min', 'every_n_train_steps': 0, 'every_n_epochs': 1, 'train_time_interval': None, 'save_on_train_epoch_end': True}.on_test_end        \t|  6.4e-06        \t|  1              \t|  6.4e-06        \t|  2.7922e-05     \t|\n",
      "|  [Callback]TQDMProgressBar.on_test_epoch_end                                                                                                                                                     \t|  5.6669e-06     \t|  1              \t|  5.6669e-06     \t|  2.4723e-05     \t|\n",
      "|  [Callback]TQDMProgressBar.setup                                                                                                                                                                 \t|  4.8261e-06     \t|  1              \t|  4.8261e-06     \t|  2.1055e-05     \t|\n",
      "|  [Strategy]SingleDeviceStrategy.on_test_end                                                                                                                                                      \t|  4.4e-06        \t|  1              \t|  4.4e-06        \t|  1.9196e-05     \t|\n",
      "|  [LightningModule]MonetDense.on_test_end                                                                                                                                                         \t|  4.2799e-06     \t|  1              \t|  4.2799e-06     \t|  1.8672e-05     \t|\n",
      "|  [Callback]ModelCheckpoint{'monitor': 'val_loss', 'mode': 'min', 'every_n_train_steps': 0, 'every_n_epochs': 1, 'train_time_interval': None, 'save_on_train_epoch_end': True}.on_test_epoch_end  \t|  3.6731e-06     \t|  1              \t|  3.6731e-06     \t|  1.6025e-05     \t|\n",
      "|  [Callback]ModelSummary.on_test_epoch_end                                                                                                                                                        \t|  3.6601e-06     \t|  1              \t|  3.6601e-06     \t|  1.5968e-05     \t|\n",
      "|  [Callback]GradientAccumulationScheduler.on_test_epoch_end                                                                                                                                       \t|  3.397e-06      \t|  1              \t|  3.397e-06      \t|  1.482e-05      \t|\n",
      "|  [LightningModule]MonetDense.configure_callbacks                                                                                                                                                 \t|  3.2419e-06     \t|  1              \t|  3.2419e-06     \t|  1.4144e-05     \t|\n",
      "|  [LightningModule]MonetDense.prepare_data                                                                                                                                                        \t|  3.1069e-06     \t|  1              \t|  3.1069e-06     \t|  1.3554e-05     \t|\n",
      "|  [LightningModule]MonetDense.on_test_epoch_end                                                                                                                                                   \t|  3.0051e-06     \t|  1              \t|  3.0051e-06     \t|  1.3111e-05     \t|\n",
      "|  [LightningModule]MonetDense.on_test_epoch_start                                                                                                                                                 \t|  2.977e-06      \t|  1              \t|  2.977e-06      \t|  1.2988e-05     \t|\n",
      "|  [Callback]ModelSummary.teardown                                                                                                                                                                 \t|  2.8079e-06     \t|  1              \t|  2.8079e-06     \t|  1.225e-05      \t|\n",
      "|  [Callback]ModelCheckpoint{'monitor': 'val_loss', 'mode': 'min', 'every_n_train_steps': 0, 'every_n_epochs': 1, 'train_time_interval': None, 'save_on_train_epoch_end': True}.teardown           \t|  2.177e-06      \t|  1              \t|  2.177e-06      \t|  9.4975e-06     \t|\n",
      "|  [Callback]GradientAccumulationScheduler.teardown                                                                                                                                                \t|  2.1518e-06     \t|  1              \t|  2.1518e-06     \t|  9.3878e-06     \t|\n",
      "|  [LightningModule]MonetDense.teardown                                                                                                                                                            \t|  1.9849e-06     \t|  1              \t|  1.9849e-06     \t|  8.6595e-06     \t|\n",
      "|  [Callback]ModelSummary.setup                                                                                                                                                                    \t|  1.905e-06      \t|  1              \t|  1.905e-06      \t|  8.3111e-06     \t|\n",
      "|  [Callback]TQDMProgressBar.on_test_epoch_start                                                                                                                                                   \t|  1.4382e-06     \t|  1              \t|  1.4382e-06     \t|  6.2744e-06     \t|\n",
      "|  [LightningModule]MonetDense.setup                                                                                                                                                               \t|  1.4361e-06     \t|  1              \t|  1.4361e-06     \t|  6.2653e-06     \t|\n",
      "|  [Callback]GradientAccumulationScheduler.on_test_start                                                                                                                                           \t|  1.349e-06      \t|  1              \t|  1.349e-06      \t|  5.8854e-06     \t|\n",
      "|  [Callback]ModelCheckpoint{'monitor': 'val_loss', 'mode': 'min', 'every_n_train_steps': 0, 'every_n_epochs': 1, 'train_time_interval': None, 'save_on_train_epoch_end': True}.on_test_epoch_start\t|  1.2838e-06     \t|  1              \t|  1.2838e-06     \t|  5.601e-06      \t|\n",
      "|  [Callback]ModelCheckpoint{'monitor': 'val_loss', 'mode': 'min', 'every_n_train_steps': 0, 'every_n_epochs': 1, 'train_time_interval': None, 'save_on_train_epoch_end': True}.on_test_start      \t|  1.2659e-06     \t|  1              \t|  1.2659e-06     \t|  5.5228e-06     \t|\n",
      "|  [LightningModule]MonetDense.on_test_start                                                                                                                                                       \t|  1.2401e-06     \t|  1              \t|  1.2401e-06     \t|  5.41e-06       \t|\n",
      "|  [Callback]GradientAccumulationScheduler.setup                                                                                                                                                   \t|  1.227e-06      \t|  1              \t|  1.227e-06      \t|  5.3531e-06     \t|\n",
      "|  [Callback]GradientAccumulationScheduler.on_test_epoch_start                                                                                                                                     \t|  1.1739e-06     \t|  1              \t|  1.1739e-06     \t|  5.1215e-06     \t|\n",
      "|  [Callback]ModelSummary.on_test_epoch_start                                                                                                                                                      \t|  1.16e-06       \t|  1              \t|  1.16e-06       \t|  5.0606e-06     \t|\n",
      "|  [Strategy]SingleDeviceStrategy.on_test_start                                                                                                                                                    \t|  1.1481e-06     \t|  1              \t|  1.1481e-06     \t|  5.0088e-06     \t|\n",
      "|  [LightningModule]MonetDense.configure_sharded_model                                                                                                                                             \t|  1.0729e-06     \t|  1              \t|  1.0729e-06     \t|  4.6807e-06     \t|\n",
      "----------------------------------------------------------------------------------------------------------------------------------------------------------------------------------------------------------------------------------------------------------------------------------------------------------\n",
      "\n"
     ]
    },
    {
     "name": "stdout",
     "output_type": "stream",
     "text": [
      "MonetDense__[512, 512, 512, 512, 512, 512]__40__table2_FULL_no_celltypes__Adam\n"
     ]
    },
    {
     "name": "stderr",
     "output_type": "stream",
     "text": [
      "100%|████████████████████████████████████████████████████████████████████████████████| 24/24 [00:20<00:00,  1.16it/s]\n"
     ]
    },
    {
     "name": "stdout",
     "output_type": "stream",
     "text": [
      "MonetDense__[256, 256, 256, 256, 256, 256]__40__table2_FULL_no_celltypes__Adam\n"
     ]
    },
    {
     "name": "stderr",
     "output_type": "stream",
     "text": [
      "100%|████████████████████████████████████████████████████████████████████████████████| 24/24 [00:20<00:00,  1.14it/s]\n",
      "GPU available: True (cuda), used: True\n",
      "TPU available: False, using: 0 TPU cores\n",
      "IPU available: False, using: 0 IPUs\n",
      "HPU available: False, using: 0 HPUs\n",
      "`Trainer(limit_train_batches=1.0)` was configured so 100% of the batches per epoch will be used..\n",
      "`Trainer(limit_val_batches=1.0)` was configured so 100% of the batches will be used..\n",
      "LOCAL_RANK: 0 - CUDA_VISIBLE_DEVICES: [5,6,7]\n"
     ]
    },
    {
     "data": {
      "application/vnd.jupyter.widget-view+json": {
       "model_id": "0b341c7758084cd59c63aa3bc1510de7",
       "version_major": 2,
       "version_minor": 0
      },
      "text/plain": [
       "Testing: 0it [00:00, ?it/s]"
      ]
     },
     "metadata": {},
     "output_type": "display_data"
    },
    {
     "name": "stdout",
     "output_type": "stream",
     "text": [
      "────────────────────────────────────────────────────────────────────────────────────────────────────────────────────────\n",
      "       Test metric             DataLoader 0\n",
      "────────────────────────────────────────────────────────────────────────────────────────────────────────────────────────\n",
      "        test_loss           0.3343038260936737\n",
      "      test_loss_mse         0.3343038260936737\n",
      "────────────────────────────────────────────────────────────────────────────────────────────────────────────────────────\n"
     ]
    },
    {
     "name": "stderr",
     "output_type": "stream",
     "text": [
      "TEST Profiler Report\n",
      "\n",
      "----------------------------------------------------------------------------------------------------------------------------------------------------------------------------------------------------------------------------------------------------------------------------------------------------------\n",
      "|  Action                                                                                                                                                                                          \t|  Mean duration (s)\t|  Num calls      \t|  Total time (s) \t|  Percentage %   \t|\n",
      "----------------------------------------------------------------------------------------------------------------------------------------------------------------------------------------------------------------------------------------------------------------------------------------------------------\n",
      "|  Total                                                                                                                                                                                           \t|  -              \t|  471            \t|  23.431         \t|  100 %          \t|\n",
      "----------------------------------------------------------------------------------------------------------------------------------------------------------------------------------------------------------------------------------------------------------------------------------------------------------\n",
      "|  run_test_evaluation                                                                                                                                                                             \t|  23.099         \t|  1              \t|  23.099         \t|  98.582         \t|\n",
      "|  [Strategy]SingleDeviceStrategy.test_step                                                                                                                                                        \t|  0.75095        \t|  24             \t|  18.023         \t|  76.918         \t|\n",
      "|  [EvaluationEpochLoop].test_dataloader_idx_0_next                                                                                                                                                \t|  0.15472        \t|  24             \t|  3.7133         \t|  15.848         \t|\n",
      "|  [Callback]TQDMProgressBar.on_test_batch_end                                                                                                                                                     \t|  0.021409       \t|  24             \t|  0.51381        \t|  2.1928         \t|\n",
      "|  [Strategy]SingleDeviceStrategy.batch_to_device                                                                                                                                                  \t|  0.012682       \t|  24             \t|  0.30436        \t|  1.299          \t|\n",
      "|  [LightningModule]MonetDense.transfer_batch_to_device                                                                                                                                            \t|  0.012517       \t|  24             \t|  0.30042        \t|  1.2821         \t|\n",
      "|  [Callback]TQDMProgressBar.on_test_start                                                                                                                                                         \t|  0.012297       \t|  1              \t|  0.012297       \t|  0.052481       \t|\n",
      "|  [Callback]TQDMProgressBar.on_test_batch_start                                                                                                                                                   \t|  0.00020458     \t|  24             \t|  0.00491        \t|  0.020955       \t|\n",
      "|  [Callback]TQDMProgressBar.on_test_end                                                                                                                                                           \t|  0.002051       \t|  1              \t|  0.002051       \t|  0.0087535      \t|\n",
      "|  [LightningModule]MonetDense.on_test_model_train                                                                                                                                                 \t|  0.0005753      \t|  1              \t|  0.0005753      \t|  0.0024553      \t|\n",
      "|  [Callback]ModelSummary.on_test_batch_end                                                                                                                                                        \t|  1.364e-05      \t|  24             \t|  0.00032737     \t|  0.0013972      \t|\n",
      "|  [LightningModule]MonetDense.on_test_model_eval                                                                                                                                                  \t|  0.00029862     \t|  1              \t|  0.00029862     \t|  0.0012745      \t|\n",
      "|  [LightningModule]MonetDense.on_before_batch_transfer                                                                                                                                            \t|  9.4495e-06     \t|  24             \t|  0.00022679     \t|  0.00096789     \t|\n",
      "|  [LightningModule]MonetDense.test_step_end                                                                                                                                                       \t|  6.39e-06       \t|  24             \t|  0.00015336     \t|  0.00065452     \t|\n",
      "|  [Callback]ModelSummary.on_test_batch_start                                                                                                                                                      \t|  5.0111e-06     \t|  24             \t|  0.00012027     \t|  0.00051327     \t|\n",
      "|  [Callback]GradientAccumulationScheduler.on_test_batch_start                                                                                                                                     \t|  4.5293e-06     \t|  24             \t|  0.0001087      \t|  0.00046392     \t|\n",
      "|  [LightningModule]MonetDense.on_test_batch_end                                                                                                                                                   \t|  4.4322e-06     \t|  24             \t|  0.00010637     \t|  0.00045398     \t|\n",
      "|  [Strategy]SingleDeviceStrategy.test_step_end                                                                                                                                                    \t|  4.2045e-06     \t|  24             \t|  0.00010091     \t|  0.00043066     \t|\n",
      "|  [LightningModule]MonetDense.on_test_batch_start                                                                                                                                                 \t|  3.8519e-06     \t|  24             \t|  9.2445e-05     \t|  0.00039454     \t|\n",
      "|  [LightningModule]MonetDense.on_after_batch_transfer                                                                                                                                             \t|  3.8373e-06     \t|  24             \t|  9.2096e-05     \t|  0.00039305     \t|\n",
      "|  [Callback]GradientAccumulationScheduler.on_test_batch_end                                                                                                                                       \t|  3.6628e-06     \t|  24             \t|  8.7907e-05     \t|  0.00037517     \t|\n",
      "|  [Callback]ModelCheckpoint{'monitor': 'val_loss', 'mode': 'min', 'every_n_train_steps': 0, 'every_n_epochs': 1, 'train_time_interval': None, 'save_on_train_epoch_end': True}.on_test_batch_end  \t|  3.6312e-06     \t|  24             \t|  8.7148e-05     \t|  0.00037193     \t|\n",
      "|  [Callback]ModelCheckpoint{'monitor': 'val_loss', 'mode': 'min', 'every_n_train_steps': 0, 'every_n_epochs': 1, 'train_time_interval': None, 'save_on_train_epoch_end': True}.on_test_batch_start\t|  3.4913e-06     \t|  24             \t|  8.3792e-05     \t|  0.00035761     \t|\n",
      "|  [Callback]ModelSummary.on_test_end                                                                                                                                                              \t|  2.7375e-05     \t|  1              \t|  2.7375e-05     \t|  0.00011683     \t|\n",
      "|  [Callback]ModelCheckpoint{'monitor': 'val_loss', 'mode': 'min', 'every_n_train_steps': 0, 'every_n_epochs': 1, 'train_time_interval': None, 'save_on_train_epoch_end': None}.setup              \t|  9.8699e-06     \t|  1              \t|  9.8699e-06     \t|  4.2123e-05     \t|\n",
      "|  [Callback]ModelSummary.on_test_start                                                                                                                                                            \t|  6.8219e-06     \t|  1              \t|  6.8219e-06     \t|  2.9115e-05     \t|\n",
      "|  [LightningModule]MonetDense.test_epoch_end                                                                                                                                                      \t|  6.628e-06      \t|  1              \t|  6.628e-06      \t|  2.8287e-05     \t|\n",
      "|  [Callback]TQDMProgressBar.teardown                                                                                                                                                              \t|  6.539e-06      \t|  1              \t|  6.539e-06      \t|  2.7907e-05     \t|\n",
      "|  [Callback]TQDMProgressBar.on_test_epoch_end                                                                                                                                                     \t|  5.9251e-06     \t|  1              \t|  5.9251e-06     \t|  2.5287e-05     \t|\n",
      "|  [Callback]TQDMProgressBar.setup                                                                                                                                                                 \t|  5.7202e-06     \t|  1              \t|  5.7202e-06     \t|  2.4413e-05     \t|\n",
      "|  [LightningModule]MonetDense.prepare_data                                                                                                                                                        \t|  5.278e-06      \t|  1              \t|  5.278e-06      \t|  2.2526e-05     \t|\n",
      "|  [Callback]GradientAccumulationScheduler.on_test_end                                                                                                                                             \t|  4.285e-06      \t|  1              \t|  4.285e-06      \t|  1.8288e-05     \t|\n",
      "|  [Callback]ModelSummary.on_test_epoch_end                                                                                                                                                        \t|  3.8869e-06     \t|  1              \t|  3.8869e-06     \t|  1.6588e-05     \t|\n",
      "|  [Callback]GradientAccumulationScheduler.on_test_epoch_end                                                                                                                                       \t|  3.7889e-06     \t|  1              \t|  3.7889e-06     \t|  1.617e-05      \t|\n",
      "|  [Callback]ModelCheckpoint{'monitor': 'val_loss', 'mode': 'min', 'every_n_train_steps': 0, 'every_n_epochs': 1, 'train_time_interval': None, 'save_on_train_epoch_end': True}.on_test_end        \t|  3.4799e-06     \t|  1              \t|  3.4799e-06     \t|  1.4852e-05     \t|\n",
      "|  [Callback]ModelCheckpoint{'monitor': 'val_loss', 'mode': 'min', 'every_n_train_steps': 0, 'every_n_epochs': 1, 'train_time_interval': None, 'save_on_train_epoch_end': True}.on_test_epoch_end  \t|  3.3048e-06     \t|  1              \t|  3.3048e-06     \t|  1.4104e-05     \t|\n",
      "|  [LightningModule]MonetDense.configure_callbacks                                                                                                                                                 \t|  3.217e-06      \t|  1              \t|  3.217e-06      \t|  1.373e-05      \t|\n",
      "|  [Strategy]SingleDeviceStrategy.on_test_end                                                                                                                                                      \t|  2.946e-06      \t|  1              \t|  2.946e-06      \t|  1.2573e-05     \t|\n",
      "|  [LightningModule]MonetDense.on_test_epoch_end                                                                                                                                                   \t|  2.8249e-06     \t|  1              \t|  2.8249e-06     \t|  1.2056e-05     \t|\n",
      "|  [LightningModule]MonetDense.on_test_end                                                                                                                                                         \t|  2.7849e-06     \t|  1              \t|  2.7849e-06     \t|  1.1885e-05     \t|\n",
      "|  [LightningModule]MonetDense.on_test_epoch_start                                                                                                                                                 \t|  2.7379e-06     \t|  1              \t|  2.7379e-06     \t|  1.1685e-05     \t|\n",
      "|  [Callback]ModelSummary.teardown                                                                                                                                                                 \t|  2.292e-06      \t|  1              \t|  2.292e-06      \t|  9.7818e-06     \t|\n",
      "|  [Callback]GradientAccumulationScheduler.teardown                                                                                                                                                \t|  2.1181e-06     \t|  1              \t|  2.1181e-06     \t|  9.0395e-06     \t|\n",
      "|  [Callback]ModelCheckpoint{'monitor': 'val_loss', 'mode': 'min', 'every_n_train_steps': 0, 'every_n_epochs': 1, 'train_time_interval': None, 'save_on_train_epoch_end': True}.teardown           \t|  2.0789e-06     \t|  1              \t|  2.0789e-06     \t|  8.8726e-06     \t|\n",
      "|  [Callback]ModelSummary.setup                                                                                                                                                                    \t|  2.003e-06      \t|  1              \t|  2.003e-06      \t|  8.5486e-06     \t|\n",
      "|  [LightningModule]MonetDense.teardown                                                                                                                                                            \t|  1.9919e-06     \t|  1              \t|  1.9919e-06     \t|  8.5009e-06     \t|\n",
      "|  [LightningModule]MonetDense.setup                                                                                                                                                               \t|  1.6559e-06     \t|  1              \t|  1.6559e-06     \t|  7.067e-06      \t|\n",
      "|  [Callback]GradientAccumulationScheduler.setup                                                                                                                                                   \t|  1.5961e-06     \t|  1              \t|  1.5961e-06     \t|  6.8117e-06     \t|\n",
      "|  [Callback]TQDMProgressBar.on_test_epoch_start                                                                                                                                                   \t|  1.3441e-06     \t|  1              \t|  1.3441e-06     \t|  5.7365e-06     \t|\n",
      "|  [Callback]GradientAccumulationScheduler.on_test_start                                                                                                                                           \t|  1.319e-06      \t|  1              \t|  1.319e-06      \t|  5.6292e-06     \t|\n",
      "|  [Callback]ModelCheckpoint{'monitor': 'val_loss', 'mode': 'min', 'every_n_train_steps': 0, 'every_n_epochs': 1, 'train_time_interval': None, 'save_on_train_epoch_end': True}.on_test_epoch_start\t|  1.272e-06      \t|  1              \t|  1.272e-06      \t|  5.4285e-06     \t|\n",
      "|  [Callback]ModelCheckpoint{'monitor': 'val_loss', 'mode': 'min', 'every_n_train_steps': 0, 'every_n_epochs': 1, 'train_time_interval': None, 'save_on_train_epoch_end': True}.on_test_start      \t|  1.265e-06      \t|  1              \t|  1.265e-06      \t|  5.3987e-06     \t|\n",
      "|  [LightningModule]MonetDense.configure_sharded_model                                                                                                                                             \t|  1.1141e-06     \t|  1              \t|  1.1141e-06     \t|  4.7548e-06     \t|\n",
      "|  [Callback]GradientAccumulationScheduler.on_test_epoch_start                                                                                                                                     \t|  1.0598e-06     \t|  1              \t|  1.0598e-06     \t|  4.5232e-06     \t|\n",
      "|  [Callback]ModelSummary.on_test_epoch_start                                                                                                                                                      \t|  1.0561e-06     \t|  1              \t|  1.0561e-06     \t|  4.5073e-06     \t|\n",
      "|  [LightningModule]MonetDense.on_test_start                                                                                                                                                       \t|  1.0391e-06     \t|  1              \t|  1.0391e-06     \t|  4.4348e-06     \t|\n",
      "|  [Strategy]SingleDeviceStrategy.on_test_start                                                                                                                                                    \t|  9.5414e-07     \t|  1              \t|  9.5414e-07     \t|  4.0721e-06     \t|\n",
      "----------------------------------------------------------------------------------------------------------------------------------------------------------------------------------------------------------------------------------------------------------------------------------------------------------\n",
      "\n"
     ]
    },
    {
     "name": "stdout",
     "output_type": "stream",
     "text": [
      "MonetDense__[512, 512, 512, 512, 512, 512]__45__table2_FULL_no_celltypes__Adam\n"
     ]
    },
    {
     "name": "stderr",
     "output_type": "stream",
     "text": [
      "100%|████████████████████████████████████████████████████████████████████████████████| 24/24 [00:19<00:00,  1.26it/s]\n"
     ]
    },
    {
     "name": "stdout",
     "output_type": "stream",
     "text": [
      "MonetDense__[256, 256, 256, 256, 256, 256]__45__table2_FULL_no_celltypes__Adam\n"
     ]
    },
    {
     "name": "stderr",
     "output_type": "stream",
     "text": [
      "100%|████████████████████████████████████████████████████████████████████████████████| 24/24 [00:20<00:00,  1.17it/s]\n"
     ]
    },
    {
     "name": "stdout",
     "output_type": "stream",
     "text": [
      "Model with radius of 45 micrometers doesn't exist :(\n",
      "MonetDense__[512, 512, 512, 512, 512, 512]__50__table2_FULL_no_celltypes__Adam\n"
     ]
    },
    {
     "name": "stderr",
     "output_type": "stream",
     "text": [
      "100%|████████████████████████████████████████████████████████████████████████████████| 24/24 [00:20<00:00,  1.19it/s]\n"
     ]
    },
    {
     "name": "stdout",
     "output_type": "stream",
     "text": [
      "MonetDense__[256, 256, 256, 256, 256, 256]__50__table2_FULL_no_celltypes__Adam\n"
     ]
    },
    {
     "name": "stderr",
     "output_type": "stream",
     "text": [
      "100%|████████████████████████████████████████████████████████████████████████████████| 24/24 [00:20<00:00,  1.18it/s]\n"
     ]
    },
    {
     "name": "stdout",
     "output_type": "stream",
     "text": [
      "Model with radius of 50 micrometers doesn't exist :(\n",
      "MonetDense__[512, 512, 512, 512, 512, 512]__55__table2_FULL_no_celltypes__Adam\n"
     ]
    },
    {
     "name": "stderr",
     "output_type": "stream",
     "text": [
      "100%|████████████████████████████████████████████████████████████████████████████████| 24/24 [00:20<00:00,  1.17it/s]\n"
     ]
    },
    {
     "name": "stdout",
     "output_type": "stream",
     "text": [
      "MonetDense__[256, 256, 256, 256, 256, 256]__55__table2_FULL_no_celltypes__Adam\n"
     ]
    },
    {
     "name": "stderr",
     "output_type": "stream",
     "text": [
      "100%|████████████████████████████████████████████████████████████████████████████████| 24/24 [00:20<00:00,  1.16it/s]\n"
     ]
    },
    {
     "name": "stdout",
     "output_type": "stream",
     "text": [
      "Model with radius of 55 micrometers doesn't exist :(\n",
      "MonetDense__[512, 512, 512, 512, 512, 512]__60__table2_FULL_no_celltypes__Adam\n"
     ]
    },
    {
     "name": "stderr",
     "output_type": "stream",
     "text": [
      "100%|████████████████████████████████████████████████████████████████████████████████| 24/24 [00:21<00:00,  1.14it/s]\n"
     ]
    },
    {
     "name": "stdout",
     "output_type": "stream",
     "text": [
      "MonetDense__[256, 256, 256, 256, 256, 256]__60__table2_FULL_no_celltypes__Adam\n"
     ]
    },
    {
     "name": "stderr",
     "output_type": "stream",
     "text": [
      "100%|████████████████████████████████████████████████████████████████████████████████| 24/24 [00:21<00:00,  1.11it/s]"
     ]
    },
    {
     "name": "stdout",
     "output_type": "stream",
     "text": [
      "Model with radius of 60 micrometers doesn't exist :(\n"
     ]
    },
    {
     "name": "stderr",
     "output_type": "stream",
     "text": [
      "\n"
     ]
    }
   ],
   "source": [
    "import hydra\n",
    "from hydra.experimental import compose, initialize\n",
    "\n",
    "test_loss_rad_dict = {}\n",
    "\n",
    "for rad in range(0,65,5):\n",
    "    with initialize(config_path=\"../config\"):\n",
    "        try:\n",
    "            cfg_from_terminal = compose(config_name=\"config\")\n",
    "            OmegaConf.update(cfg_from_terminal, \"model.kwargs.observables_dimension\", 71)\n",
    "            OmegaConf.update(cfg_from_terminal, \"model.kwargs.hidden_dimensions\", [512, 512, 512, 512, 512, 512])\n",
    "            OmegaConf.update(cfg_from_terminal, \"model.kwargs.output_dimension\", 84)\n",
    "            OmegaConf.update(cfg_from_terminal, \"optimizer.name\", \"Adam\")\n",
    "            OmegaConf.update(cfg_from_terminal, \"training.logger_name\", \"table2_FULL_no_celltypes\")\n",
    "            OmegaConf.update(cfg_from_terminal, \"datasets.dataset.include_celltypes\", False)\n",
    "            OmegaConf.update(cfg_from_terminal, \"model.kwargs.include_skip_connections\", True)\n",
    "            OmegaConf.update(cfg_from_terminal, \"radius\", rad)\n",
    "            OmegaConf.update(cfg_from_terminal, \"gpus\", [2])\n",
    "            print(cfg_from_terminal.training.filepath)\n",
    "            output = test(cfg_from_terminal)\n",
    "            trainer, l1_losses, inputs, gene_expressions, celltypes, test_results = output\n",
    "            test_loss_rad_dict[rad] = test_results[0]['test_loss']\n",
    "        except:\n",
    "            try:\n",
    "                OmegaConf.update(cfg_from_terminal, \"model.kwargs.hidden_dimensions\", [256, 256, 256, 256, 256, 256])\n",
    "                print(cfg_from_terminal.training.filepath)\n",
    "                output = test(cfg_from_terminal)\n",
    "                trainer, l1_losses, inputs, gene_expressions, celltypes, test_results = output\n",
    "                test_loss_rad_dict[rad] = test_results[0]['test_loss']\n",
    "            except:\n",
    "                print(f\"Model with radius of {rad} micrometers doesn't exist :(\")"
   ]
  },
  {
   "cell_type": "code",
   "execution_count": 7,
   "id": "b58626bc",
   "metadata": {
    "scrolled": true
   },
   "outputs": [
    {
     "data": {
      "text/plain": [
       "{0: 0.33008134365081787,\n",
       " 5: 0.330562025308609,\n",
       " 10: 0.3282979428768158,\n",
       " 15: 0.3260890543460846,\n",
       " 20: 0.324729859828949,\n",
       " 25: 0.32196560502052307}"
      ]
     },
     "execution_count": 7,
     "metadata": {},
     "output_type": "execute_result"
    }
   ],
   "source": [
    "test_loss_rad_dict #train only"
   ]
  },
  {
   "cell_type": "code",
   "execution_count": 8,
   "id": "343f6d0e",
   "metadata": {},
   "outputs": [
    {
     "data": {
      "text/plain": [
       "{0: 0.34988829493522644,\n",
       " 5: 0.3494284152984619,\n",
       " 10: 0.3461569845676422,\n",
       " 15: 0.33938685059547424,\n",
       " 20: 0.3366208076477051,\n",
       " 25: 0.33311593532562256,\n",
       " 30: 0.3348855972290039,\n",
       " 35: 0.3332056701183319,\n",
       " 40: 0.3343038260936737}"
      ]
     },
     "execution_count": 8,
     "metadata": {},
     "output_type": "execute_result"
    }
   ],
   "source": [
    "test_loss_rad_dict # 512 (animal 30 for this and runs below)"
   ]
  },
  {
   "cell_type": "code",
   "execution_count": null,
   "id": "86f85db7",
   "metadata": {},
   "outputs": [],
   "source": [
    "test_loss_rad_dict # 256"
   ]
  },
  {
   "cell_type": "code",
   "execution_count": 62,
   "id": "ae91b316",
   "metadata": {},
   "outputs": [
    {
     "data": {
      "text/plain": [
       "{0: 0.332673043012619,\n",
       " 5: 0.33101674914360046,\n",
       " 10: 0.3289061188697815,\n",
       " 15: 0.3274388313293457,\n",
       " 20: 0.3297003209590912,\n",
       " 25: 0.3224516212940216,\n",
       " 30: 0.3204915523529053,\n",
       " 35: 0.32182925939559937,\n",
       " 40: 0.32207295298576355,\n",
       " 45: 0.3215629756450653}"
      ]
     },
     "execution_count": 62,
     "metadata": {},
     "output_type": "execute_result"
    }
   ],
   "source": [
    "test_loss_rad_dict # 128"
   ]
  },
  {
   "cell_type": "code",
   "execution_count": 9,
   "id": "c708d77d",
   "metadata": {},
   "outputs": [],
   "source": [
    "with open(\"deepST_results_no_celltypes.json\", \"w\") as deepST:\n",
    "    json.dump(test_loss_rad_dict, deepST)"
   ]
  },
  {
   "cell_type": "code",
   "execution_count": null,
   "id": "6f3561fd",
   "metadata": {},
   "outputs": [],
   "source": [
    "import hydra\n",
    "from hydra.experimental import compose, initialize\n",
    "\n",
    "test_loss_rad_dict = {}\n",
    "\n",
    "for rad in range(0,50,5):\n",
    "    for synthetic_exp in range(4):\n",
    "        with initialize(config_path=\"../config\"):\n",
    "            cfg_from_terminal = compose(config_name=\"config\")\n",
    "            OmegaConf.update(cfg_from_terminal, \"model.kwargs.hidden_dimensions\", [128, 128])\n",
    "            OmegaConf.update(cfg_from_terminal, \"training.logger_name\", f\"synthetic{synthetic_exp}\")\n",
    "            OmegaConf.update(cfg_from_terminal, \"radius\", rad)\n",
    "            OmegaConf.update(cfg_from_terminal, \"model.kwargs.response_genes\", [0])\n",
    "            OmegaConf.update(cfg_from_terminal, \"datasets.dataset\", [MerfishDataset])\n",
    "            output = test(cfg_from_terminal)\n",
    "            trainer, l1_losses, inputs, gene_expressions, celltypes, test_results = output\n",
    "            test_loss_rad_dict[rad] = test_results[0]['test_loss']"
   ]
  },
  {
   "cell_type": "code",
   "execution_count": null,
   "id": "7fdc197c",
   "metadata": {},
   "outputs": [],
   "source": [
    "test_loss_rad_dict"
   ]
  },
  {
   "cell_type": "code",
   "execution_count": 7,
   "id": "18817f1a",
   "metadata": {},
   "outputs": [
    {
     "name": "stderr",
     "output_type": "stream",
     "text": [
      " 33%|███████████████████████████████████                                                                      | 8/24 [00:06<00:12,  1.26it/s]\n",
      "\n",
      "KeyboardInterrupt\n",
      "\n"
     ]
    }
   ],
   "source": [
    "import hydra\n",
    "from hydra.experimental import compose, initialize\n",
    "\n",
    "test_loss_rad_dict_response = {}\n",
    "\n",
    "for rad in range(30,31,1):\n",
    "    with initialize(config_path=\"../config\"):\n",
    "        cfg_from_terminal = compose(config_name=\"config\")\n",
    "#         OmegaConf.update(cfg_from_terminal, \"model.kwargs.observables_dimension\", 71)\n",
    "        OmegaConf.update(cfg_from_terminal, \"model.kwargs.hidden_dimensions\", [128, 128, 128, 128, 128, 128])\n",
    "#         OmegaConf.update(cfg_from_terminal, \"model.kwargs.output_dimension\", 84)\n",
    "        OmegaConf.update(cfg_from_terminal, \"training.logger_name\", \"table2\")\n",
    "        OmegaConf.update(cfg_from_terminal, \"radius\", rad)\n",
    "        OmegaConf.update(cfg_from_terminal, \"gpus\", [1])\n",
    "        OmegaConf.update(cfg_from_terminal, \"model.kwargs.response_genes\", [0])\n",
    "        OmegaConf.update(cfg_from_terminal, \"datasets.dataset\", [MerfishDataset])\n",
    "        output = test(cfg_from_terminal)\n",
    "        trainer, l1_losses, inputs, gene_expressions, celltypes, test_results = output\n",
    "        test_loss_rad_dict_response[rad] = test_results[0]['test_loss']"
   ]
  },
  {
   "cell_type": "code",
   "execution_count": null,
   "id": "d76bd04c",
   "metadata": {},
   "outputs": [],
   "source": [
    "torch.mean(torch.abs(inputs[:, 93] - gene_expressions[:, 93]))"
   ]
  },
  {
   "cell_type": "code",
   "execution_count": 10,
   "id": "3fb0d04e",
   "metadata": {},
   "outputs": [
    {
     "data": {
      "text/plain": [
       "{0: 0.35909464955329895,\n",
       " 5: 0.35904601216316223,\n",
       " 10: 0.3585062026977539,\n",
       " 15: 0.35465207695961,\n",
       " 20: 0.35176217555999756,\n",
       " 25: 0.3485024571418762,\n",
       " 30: 0.3471652865409851,\n",
       " 35: 0.34563148021698,\n",
       " 40: 0.34320735931396484,\n",
       " 45: 0.3435050845146179,\n",
       " 50: 0.3449954688549042,\n",
       " 55: 0.34212666749954224,\n",
       " 60: 0.3430047631263733}"
      ]
     },
     "execution_count": 10,
     "metadata": {},
     "output_type": "execute_result"
    }
   ],
   "source": [
    "test_loss_rad_dict_response"
   ]
  },
  {
   "cell_type": "markdown",
   "id": "5993f1ca",
   "metadata": {},
   "source": [
    "# Save Top K Testing"
   ]
  },
  {
   "cell_type": "code",
   "execution_count": 15,
   "id": "3bd742ea",
   "metadata": {},
   "outputs": [
    {
     "name": "stderr",
     "output_type": "stream",
     "text": [
      " 29%|███████████████████████████████▌                                                                            | 7/24 [00:05<00:13,  1.22it/s]\n",
      "\n",
      "KeyboardInterrupt\n",
      "\n"
     ]
    }
   ],
   "source": [
    "import hydra\n",
    "from hydra.experimental import compose, initialize\n",
    "\n",
    "test_loss_rad_dict_response = {}\n",
    "\n",
    "for rad in range(0,65,5):\n",
    "    for v_number in [\"\"] + [\"-v\" + str(i) for i in range(1,10)]:\n",
    "        with initialize(config_path=\"../config\"):\n",
    "            cfg_from_terminal = compose(config_name=\"config\")\n",
    "            OmegaConf.update(cfg_from_terminal, \"model.kwargs.observables_dimension\", 71)\n",
    "            OmegaConf.update(cfg_from_terminal, \"model.kwargs.hidden_dimensions\", [128, 128, 128, 128, 128, 128])\n",
    "            OmegaConf.update(cfg_from_terminal, \"model.kwargs.output_dimension\", 84)\n",
    "            OmegaConf.update(cfg_from_terminal, \"model.kwargs.dim\", 2)\n",
    "            OmegaConf.update(cfg_from_terminal, \"training.logger_name\", \"new_psuedo_table2\")\n",
    "            OmegaConf.update(cfg_from_terminal, \"optimizer.name\", \"Adam\")\n",
    "            OmegaConf.update(cfg_from_terminal, \"radius\", rad)\n",
    "            OmegaConf.update(cfg_from_terminal, \"gpus\", [1])\n",
    "            OmegaConf.update(cfg_from_terminal, \"training.filepath\", cfg_from_terminal.training.filepath + v_number)\n",
    "#             OmegaConf.update(cfg_from_terminal, \"model.kwargs.response_genes\", [0])\n",
    "            output = test(cfg_from_terminal)\n",
    "            trainer, l1_losses, inputs, gene_expressions, celltypes, test_results = output\n",
    "            if (rad not in test_loss_rad_dict_response) or (test_results[0]['test_loss'] < test_loss_rad_dict_response[rad]):\n",
    "                test_loss_rad_dict_response[rad] = test_results[0]['test_loss']"
   ]
  },
  {
   "cell_type": "markdown",
   "id": "4edf0e49",
   "metadata": {},
   "source": [
    "General deepST for Individual Gene Predictions"
   ]
  },
  {
   "cell_type": "code",
   "execution_count": null,
   "id": "698f7fe2",
   "metadata": {},
   "outputs": [],
   "source": [
    "import hydra\n",
    "from hydra.experimental import compose, initialize\n",
    "\n",
    "test_loss_rad_dict_response = {}\n",
    "test_loss_rad_dict_93 = {}\n",
    "test_loss_rad_dict_151 = {}\n",
    "\n",
    "for rad in range(0,80,10):\n",
    "    with initialize(config_path=\"../config\"):\n",
    "        cfg_from_terminal = compose(config_name=\"config\")\n",
    "        OmegaConf.update(cfg_from_terminal, \"model.kwargs.hidden_dimensions\", [128, 128, 128, 128, 128, 128])\n",
    "        OmegaConf.update(cfg_from_terminal, \"radius\", rad)\n",
    "        trainer, l1_losses, inputs, gene_expressions, celltypes, test_results = output\n",
    "        test_loss_rad_dict_response[rad] = test_results[0]['test_loss']"
   ]
  },
  {
   "cell_type": "code",
   "execution_count": null,
   "id": "f3ad0dc6",
   "metadata": {},
   "outputs": [],
   "source": [
    "test_loss_rad_dict_93, test_loss_rad_dict_151"
   ]
  },
  {
   "cell_type": "code",
   "execution_count": null,
   "id": "ebec781b",
   "metadata": {
    "scrolled": true
   },
   "outputs": [],
   "source": [
    "# equivalent to spatial\n",
    "\n",
    "import hydra\n",
    "from hydra.experimental import compose, initialize\n",
    "\n",
    "with initialize(config_path=\"../config\"):\n",
    "    cfg_from_terminal = compose(config_name=\"config\")\n",
    "    OmegaConf.update(cfg_from_terminal, \"model.kwargs.hidden_dimensions\", [256, 256])\n",
    "    OmegaConf.update(cfg_from_terminal, \"training.logger_name\", \"neighbors_large\")\n",
    "    OmegaConf.update(cfg_from_terminal, \"radius\", 0)\n",
    "    output = test(cfg_from_terminal)\n",
    "    trainer, l1_losses, inputs, gene_expressions, celltypes, test_results = output\n",
    "    excitatory_cells = (celltypes == 6).nonzero(as_tuple=True)[0]\n",
    "    MAE_excitatory = torch.abs(torch.index_select((gene_expressions-inputs)[excitatory_cells], 1, torch.tensor(response_indeces))).mean().item()"
   ]
  },
  {
   "cell_type": "code",
   "execution_count": null,
   "id": "3f7d889e",
   "metadata": {},
   "outputs": [],
   "source": [
    "MAE_excitatory"
   ]
  },
  {
   "cell_type": "code",
   "execution_count": null,
   "id": "b3980c72",
   "metadata": {},
   "outputs": [],
   "source": [
    "trainer, l1_losses, inputs, gene_expressions, celltypes, test_results = output"
   ]
  },
  {
   "cell_type": "code",
   "execution_count": null,
   "id": "1e8279cb",
   "metadata": {},
   "outputs": [],
   "source": [
    "test_results[0]['test_loss: mae_response']"
   ]
  },
  {
   "cell_type": "code",
   "execution_count": null,
   "id": "64905249",
   "metadata": {},
   "outputs": [],
   "source": [
    "# equivalent to spatial\n",
    "\n",
    "import hydra\n",
    "from hydra.experimental import compose, initialize\n",
    "\n",
    "with initialize(config_path=\"../config\"):\n",
    "    cfg_from_terminal = compose(config_name=\"config\")\n",
    "    output = test(cfg_from_terminal)"
   ]
  },
  {
   "cell_type": "markdown",
   "id": "8d50ae0d",
   "metadata": {},
   "source": [
    "# Testing Models with Updates"
   ]
  },
  {
   "cell_type": "code",
   "execution_count": null,
   "id": "piano-crisis",
   "metadata": {
    "scrolled": true
   },
   "outputs": [],
   "source": [
    "# equivalent to spatial\n",
    "\n",
    "import hydra\n",
    "from hydra.experimental import compose, initialize\n",
    "\n",
    "with initialize(config_path=\"../config\"):\n",
    "    cfg_from_terminal = compose(config_name=\"config\")\n",
    "    # update the behavior to get the model of interest\n",
    "    OmegaConf.update(cfg_from_terminal, \"datasets.dataset.behaviors\", [\"Parenting\"])\n",
    "    output = test(cfg_from_terminal)"
   ]
  },
  {
   "cell_type": "code",
   "execution_count": null,
   "id": "opening-james",
   "metadata": {},
   "outputs": [],
   "source": [
    "trainer, l1_losses, inputs, gene_expressions, celltypes, test_results = output"
   ]
  },
  {
   "cell_type": "code",
   "execution_count": null,
   "id": "joint-catalyst",
   "metadata": {},
   "outputs": [],
   "source": [
    "with open('../spatial/non_response.txt', \"r\") as genes_file:\n",
    "    features = [int(x) for x in genes_file.read().split(\",\")]\n",
    "    response_indeces = torch.tensor(list(set(range(160)) - set(features)))\n",
    "    genes_file.close()"
   ]
  },
  {
   "cell_type": "code",
   "execution_count": null,
   "id": "critical-minority",
   "metadata": {},
   "outputs": [],
   "source": [
    "excitatory_cells = (celltypes == 6).nonzero(as_tuple=True)[0]"
   ]
  },
  {
   "cell_type": "code",
   "execution_count": null,
   "id": "blessed-voluntary",
   "metadata": {},
   "outputs": [],
   "source": [
    "import torch\n",
    "\n",
    "loss = torch.nn.L1Loss()\n",
    "loss(torch.index_select(inputs[excitatory_cells], 1, response_indeces), torch.index_select(gene_expressions[excitatory_cells], 1, response_indeces))"
   ]
  },
  {
   "cell_type": "code",
   "execution_count": null,
   "id": "destroyed-volunteer",
   "metadata": {},
   "outputs": [],
   "source": [
    "# equivalent to spatial\n",
    "\n",
    "import hydra\n",
    "from hydra.experimental import compose, initialize\n",
    "\n",
    "with initialize(config_path=\"../config\"):\n",
    "    cfg_from_terminal = compose(config_name=\"config\")\n",
    "    # update the behavior to get the model of interest\n",
    "    OmegaConf.update(cfg_from_terminal, \"datasets.dataset.behaviors\", [\"Virgin Parenting\"])\n",
    "    output = test(cfg_from_terminal)"
   ]
  },
  {
   "cell_type": "code",
   "execution_count": null,
   "id": "becoming-audit",
   "metadata": {},
   "outputs": [],
   "source": [
    "trainer, l1_losses, inputs, gene_expressions, celltypes, test_results = output"
   ]
  },
  {
   "cell_type": "code",
   "execution_count": null,
   "id": "eleven-guarantee",
   "metadata": {},
   "outputs": [],
   "source": [
    "excitatory_cells = (celltypes == 6).nonzero(as_tuple=True)[0]"
   ]
  },
  {
   "cell_type": "code",
   "execution_count": null,
   "id": "welsh-michael",
   "metadata": {},
   "outputs": [],
   "source": [
    "import torch\n",
    "\n",
    "loss = torch.nn.L1Loss()\n",
    "loss(torch.index_select(inputs[excitatory_cells], 1, response_indeces), torch.index_select(gene_expressions[excitatory_cells], 1, response_indeces))"
   ]
  },
  {
   "cell_type": "code",
   "execution_count": null,
   "id": "intensive-berlin",
   "metadata": {},
   "outputs": [],
   "source": [
    "# equivalent to spatial\n",
    "\n",
    "import hydra\n",
    "from hydra.experimental import compose, initialize\n",
    "\n",
    "with initialize(config_path=\"../config\"):\n",
    "    cfg_from_terminal = compose(config_name=\"config\")\n",
    "    # update the behavior to get the model of interest\n",
    "    OmegaConf.update(cfg_from_terminal, \"datasets.dataset.behaviors\", [\"Naive\"])\n",
    "    output = test(cfg_from_terminal)"
   ]
  },
  {
   "cell_type": "code",
   "execution_count": null,
   "id": "manual-filter",
   "metadata": {},
   "outputs": [],
   "source": [
    "trainer, l1_losses, inputs, gene_expressions, celltypes, test_results = output"
   ]
  },
  {
   "cell_type": "code",
   "execution_count": null,
   "id": "gorgeous-atlantic",
   "metadata": {},
   "outputs": [],
   "source": [
    "excitatory_cells = (celltypes == 6).nonzero(as_tuple=True)[0]"
   ]
  },
  {
   "cell_type": "code",
   "execution_count": null,
   "id": "choice-dispute",
   "metadata": {},
   "outputs": [],
   "source": [
    "import torch\n",
    "\n",
    "loss = torch.nn.L1Loss()\n",
    "loss(torch.index_select(inputs[excitatory_cells], 1, response_indeces), torch.index_select(gene_expressions[excitatory_cells], 1, response_indeces))"
   ]
  }
 ],
 "metadata": {
  "kernelspec": {
   "display_name": "Python 3 (ipykernel)",
   "language": "python",
   "name": "python3"
  },
  "language_info": {
   "codemirror_mode": {
    "name": "ipython",
    "version": 3
   },
   "file_extension": ".py",
   "mimetype": "text/x-python",
   "name": "python",
   "nbconvert_exporter": "python",
   "pygments_lexer": "ipython3",
   "version": "3.10.6"
  }
 },
 "nbformat": 4,
 "nbformat_minor": 5
}
