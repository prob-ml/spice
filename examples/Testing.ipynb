{
 "cells": [
  {
   "cell_type": "code",
   "execution_count": 1,
   "id": "agreed-interaction",
   "metadata": {},
   "outputs": [],
   "source": [
    "import os\n",
    "import torch\n",
    "\n",
    "os.environ[\"MKL_NUM_THREADS\"]=\"1\"\n",
    "os.environ[\"NUMEXPR_NUM_THREADS\"]=\"1\"\n",
    "os.environ[\"OMP_NUM_THREADS\"]=\"1\"\n",
    "\n",
    "import sys\n",
    "\n",
    "import pytorch_lightning as pl\n",
    "from omegaconf import DictConfig, OmegaConf\n",
    "from pytorch_lightning.callbacks import ModelCheckpoint\n",
    "from pytorch_lightning.loggers import TensorBoardLogger\n",
    "from torch.utils.data import random_split\n",
    "from torch_geometric.data import DataLoader\n",
    "\n",
    "from spatial.merfish_dataset import FilteredMerfishDataset, MerfishDataset\n",
    "from spatial.models.monet_ae import MonetAutoencoder2D, TrivialAutoencoder, MonetDense\n",
    "from spatial.train import train\n",
    "from spatial.predict import test"
   ]
  },
  {
   "cell_type": "markdown",
   "id": "equipped-press",
   "metadata": {},
   "source": [
    "# Testing Any Model"
   ]
  },
  {
   "cell_type": "code",
   "execution_count": 2,
   "id": "7aa3c96e",
   "metadata": {},
   "outputs": [
    {
     "name": "stderr",
     "output_type": "stream",
     "text": [
      "/home/roko/.cache/pypoetry/virtualenvs/spatial-G_n0JvVf-py3.8/lib/python3.8/site-packages/openpyxl/worksheet/_reader.py:312: UserWarning: Unknown extension is not supported and will be removed\n",
      "  warn(msg)\n"
     ]
    },
    {
     "name": "stdout",
     "output_type": "stream",
     "text": [
      "['Cbln1', 'Cxcl14', 'Crhbp', 'Gabra1', 'Cbln2', 'Gpr165', 'Glra3', 'Gabrg1', 'Adora2a', 'Vgf', 'Scg2', 'Cartpt', 'Tac2', 'Bdnf', 'Bmp7', 'Cyr61', 'Fn1', 'Fst', 'Gad1', 'Ntng1', 'Pnoc', 'Selplg', 'Sema3c', 'Sema4d', 'Serpine1', 'Adcyap1', 'Cck', 'Crh', 'Gal', 'Gnrh1', 'Nts', 'Oxt', 'Penk', 'Sst', 'Tac1', 'Trh', 'Ucn3', 'Avpr1a', 'Avpr2', 'Brs3', 'Calcr', 'Cckar', 'Cckbr', 'Crhr1', 'Crhr2', 'Galr1', 'Galr2', 'Grpr', 'Htr2c', 'Igf1r', 'Igf2r', 'Kiss1r', 'Lepr', 'Lpar1', 'Mc4r', 'Npy1r', 'Npy2r', 'Ntsr1', 'Oprd1', 'Oprk1', 'Oprl1', 'Oxtr', 'Pdgfra', 'Prlr', 'Ramp3', 'Rxfp1', 'Slc17a7', 'Slc18a2', 'Tacr1', 'Tacr3', 'Trhr']\n",
      "There are 71 genes recognized as either ligands or receptors (including new ones).\n",
      "There are 0 blank genes.\n",
      "There are 84 genes that are treated as response variables.\n",
      "There are 31 ligands.\n",
      "There are 40 receptors.\n"
     ]
    }
   ],
   "source": [
    "# read in merfish dataset and get columns names\n",
    "import pandas as pd\n",
    "\n",
    "# get relevant data stuff\n",
    "df_file = pd.ExcelFile(\"~/spatial/data/messi.xlsx\")\n",
    "messi_df = pd.read_excel(df_file, \"All.Pairs\")\n",
    "merfish_df = pd.read_csv(\"~/spatial/data/raw/merfish.csv\")\n",
    "merfish_df = merfish_df.drop(['Blank_1', 'Blank_2', 'Blank_3', 'Blank_4', 'Blank_5', 'Fos'], axis=1)\n",
    "\n",
    "# these are the 13 ligands or receptors found in MESSI\n",
    "non_response_genes = ['Cbln1', 'Cxcl14', 'Crhbp', 'Gabra1', 'Cbln2', 'Gpr165', \n",
    "                      'Glra3', 'Gabrg1', 'Adora2a', 'Vgf', 'Scg2', 'Cartpt',\n",
    "                      'Tac2']\n",
    "# this list stores the control genes aka \"Blank_{int}\"\n",
    "blank_genes = []\n",
    "\n",
    "# we will populate all of the non-response genes as being in one or the other\n",
    "# the ones already filled in come from the existing 13 L/R genes above\n",
    "ligands = [\"Cbln1\", \"Cxcl14\", \"Cbln2\", \"Vgf\", \"Scg2\", \"Cartpt\", \"Tac2\"]\n",
    "receptors = [\"Crhbp\", \"Gabra1\", \"Gpr165\", \"Glra3\", \"Gabrg1\", \"Adora2a\"]\n",
    "\n",
    "# ligands and receptor indexes in MERFISH\n",
    "non_response_indeces = [list(merfish_df.columns).index(gene)-9 for gene in non_response_genes]\n",
    "ligand_indeces = [list(merfish_df.columns).index(gene)-9 for gene in ligands]\n",
    "receptor_indeces = [list(merfish_df.columns).index(gene)-9 for gene in receptors]\n",
    "all_pairs_columns = [\n",
    "    \"Ligand.ApprovedSymbol\",\n",
    "    \"Receptor.ApprovedSymbol\",\n",
    "]\n",
    "\n",
    "\n",
    "# for column name in the column names above\n",
    "for column in all_pairs_columns:\n",
    "    for gene in merfish_df.columns:\n",
    "        if (\n",
    "            gene.upper() in list(messi_df[column])\n",
    "            and gene.upper() not in non_response_genes\n",
    "        ):\n",
    "            non_response_genes.append(gene)\n",
    "            non_response_indeces.append(list(merfish_df.columns).index(gene)-9)\n",
    "            if column[0] == \"L\":\n",
    "                ligands.append(gene)\n",
    "                ligand_indeces.append(list(merfish_df.columns).index(gene)-9)\n",
    "            else:\n",
    "                receptors.append(gene)\n",
    "                receptor_indeces.append(list(merfish_df.columns).index(gene)-9)\n",
    "        if gene[:5] == \"Blank\" and gene not in blank_genes:\n",
    "            blank_genes.append(gene)\n",
    "            # non_response_indeces.append(list(merfish_df.columns).index(gene)-9)\n",
    "\n",
    "print(non_response_genes)\n",
    "print(\n",
    "    \"There are \"\n",
    "    + str(len(non_response_genes))\n",
    "    + \" genes recognized as either ligands or receptors (including new ones).\"\n",
    ")\n",
    "\n",
    "print(\n",
    "    \"There are \"\n",
    "    + str(len(blank_genes))\n",
    "    + \" blank genes.\"\n",
    ")\n",
    "\n",
    "print(\n",
    "    \"There are \"\n",
    "    + str(155 - len(blank_genes) - len(non_response_genes))\n",
    "    + \" genes that are treated as response variables.\"\n",
    ")\n",
    "\n",
    "print(\n",
    "    \"There are \"\n",
    "    + str(len(ligands))\n",
    "    + \" ligands.\"\n",
    ")\n",
    "\n",
    "print(\n",
    "    \"There are \"\n",
    "    + str(len(receptors))\n",
    "    + \" receptors.\"\n",
    ")\n",
    "\n",
    "response_indeces = list(set(range(155)) - set(non_response_indeces))"
   ]
  },
  {
   "cell_type": "code",
   "execution_count": 3,
   "id": "6f3561fd",
   "metadata": {},
   "outputs": [
    {
     "name": "stderr",
     "output_type": "stream",
     "text": [
      "/home/roko/.cache/pypoetry/virtualenvs/spatial-G_n0JvVf-py3.8/lib/python3.8/site-packages/hydra/experimental/initialize.py:35: UserWarning: hydra.experimental.initialize() is no longer experimental. Use hydra.initialize()\n",
      "  deprecation_warning(\n",
      "/home/roko/.cache/pypoetry/virtualenvs/spatial-G_n0JvVf-py3.8/lib/python3.8/site-packages/hydra/experimental/compose.py:18: UserWarning: hydra.experimental.compose() is no longer experimental. Use hydra.compose()\n",
      "  deprecation_warning(\n",
      "GPU available: True, used: True\n",
      "TPU available: False, using: 0 TPU cores\n",
      "IPU available: False, using: 0 IPUs\n",
      "LOCAL_RANK: 0 - CUDA_VISIBLE_DEVICES: [0,1,2,3,4,5,6,7]\n",
      "/home/roko/.cache/pypoetry/virtualenvs/spatial-G_n0JvVf-py3.8/lib/python3.8/site-packages/pytorch_lightning/trainer/data_loading.py:132: UserWarning: The dataloader, test_dataloader 0, does not have many workers which may be a bottleneck. Consider increasing the value of the `num_workers` argument` (try 64 which is the number of cpus on this machine) in the `DataLoader` init to improve performance.\n",
      "  rank_zero_warn(\n"
     ]
    },
    {
     "data": {
      "application/vnd.jupyter.widget-view+json": {
       "model_id": "67f2e54610ce4b8c91dccd2bb75895d4",
       "version_major": 2,
       "version_minor": 0
      },
      "text/plain": [
       "Testing: 0it [00:00, ?it/s]"
      ]
     },
     "metadata": {},
     "output_type": "display_data"
    },
    {
     "name": "stderr",
     "output_type": "stream",
     "text": [
      "/home/roko/.cache/pypoetry/virtualenvs/spatial-G_n0JvVf-py3.8/lib/python3.8/site-packages/pytorch_lightning/utilities/data.py:59: UserWarning: Trying to infer the `batch_size` from an ambiguous collection. The batch size we found is 5. To avoid any miscalculations, use `self.log(..., batch_size=batch_size)`.\n",
      "  warning_cache.warn(\n",
      "TEST Profiler Report\n",
      "\n",
      "Action                             \t|  Mean duration (s)\t|Num calls      \t|  Total time (s) \t|  Percentage %   \t|\n",
      "---------------------------------------------------------------------------------------------------------------------------------------\n",
      "Total                              \t|  -              \t|_              \t|  45.483         \t|  100 %          \t|\n",
      "---------------------------------------------------------------------------------------------------------------------------------------\n",
      "run_test_evaluation                \t|  42.092         \t|1              \t|  42.092         \t|  92.545         \t|\n",
      "evaluation_step_and_end            \t|  0.28361        \t|124            \t|  35.167         \t|  77.32          \t|\n",
      "test_step                          \t|  0.28349        \t|124            \t|  35.153         \t|  77.288         \t|\n",
      "get_test_batch                     \t|  0.038018       \t|125            \t|  4.7522         \t|  10.448         \t|\n",
      "fetch_next_test_batch              \t|  0.037984       \t|125            \t|  4.748          \t|  10.439         \t|\n",
      "on_test_batch_end                  \t|  0.013292       \t|124            \t|  1.6482         \t|  3.6237         \t|\n",
      "evaluation_batch_to_device         \t|  0.0022408      \t|124            \t|  0.27786        \t|  0.61092        \t|\n",
      "on_test_start                      \t|  0.017984       \t|1              \t|  0.017984       \t|  0.039541       \t|\n",
      "on_test_batch_start                \t|  2.5334e-05     \t|124            \t|  0.0031414      \t|  0.0069068      \t|\n",
      "test_step_end                      \t|  1.2475e-05     \t|124            \t|  0.0015469      \t|  0.0034011      \t|\n",
      "on_test_end                        \t|  0.00067836     \t|1              \t|  0.00067836     \t|  0.0014915      \t|\n",
      "on_test_model_eval                 \t|  7.0011e-05     \t|1              \t|  7.0011e-05     \t|  0.00015393     \t|\n",
      "on_test_epoch_end                  \t|  4.0255e-05     \t|1              \t|  4.0255e-05     \t|  8.8507e-05     \t|\n",
      "teardown                           \t|  3.1246e-05     \t|1              \t|  3.1246e-05     \t|  6.8698e-05     \t|\n",
      "on_epoch_end                       \t|  1.828e-05      \t|1              \t|  1.828e-05      \t|  4.0191e-05     \t|\n",
      "setup                              \t|  1.6754e-05     \t|1              \t|  1.6754e-05     \t|  3.6837e-05     \t|\n",
      "on_configure_sharded_model         \t|  1.5277e-05     \t|1              \t|  1.5277e-05     \t|  3.3589e-05     \t|\n",
      "on_before_accelerator_backend_setup\t|  1.1981e-05     \t|1              \t|  1.1981e-05     \t|  2.6341e-05     \t|\n",
      "on_epoch_start                     \t|  1.0828e-05     \t|1              \t|  1.0828e-05     \t|  2.3806e-05     \t|\n",
      "on_test_epoch_start                \t|  9.3784e-06     \t|1              \t|  9.3784e-06     \t|  2.062e-05      \t|\n",
      "on_test_dataloader                 \t|  7.5586e-06     \t|1              \t|  7.5586e-06     \t|  1.6619e-05     \t|\n",
      "configure_sharded_model            \t|  5.9213e-06     \t|1              \t|  5.9213e-06     \t|  1.3019e-05     \t|\n",
      "configure_callbacks                \t|  5.547e-06      \t|1              \t|  5.547e-06      \t|  1.2196e-05     \t|\n",
      "prepare_data                       \t|  4.1258e-06     \t|1              \t|  4.1258e-06     \t|  9.071e-06      \t|\n",
      "\n"
     ]
    },
    {
     "name": "stdout",
     "output_type": "stream",
     "text": [
      "--------------------------------------------------------------------------------\n",
      "DATALOADER:0 TEST RESULTS\n",
      "{'test_loss': 0.5447613000869751, 'test_loss: mse': 0.5552924275398254}\n",
      "--------------------------------------------------------------------------------\n"
     ]
    },
    {
     "name": "stderr",
     "output_type": "stream",
     "text": [
      "/home/roko/.cache/pypoetry/virtualenvs/spatial-G_n0JvVf-py3.8/lib/python3.8/site-packages/hydra/experimental/initialize.py:35: UserWarning: hydra.experimental.initialize() is no longer experimental. Use hydra.initialize()\n",
      "  deprecation_warning(\n",
      "GPU available: True, used: True\n",
      "TPU available: False, using: 0 TPU cores\n",
      "IPU available: False, using: 0 IPUs\n",
      "LOCAL_RANK: 0 - CUDA_VISIBLE_DEVICES: [0,1,2,3,4,5,6,7]\n"
     ]
    },
    {
     "data": {
      "application/vnd.jupyter.widget-view+json": {
       "model_id": "42ca387725a44a768b1a57fdb8f94596",
       "version_major": 2,
       "version_minor": 0
      },
      "text/plain": [
       "Testing: 0it [00:00, ?it/s]"
      ]
     },
     "metadata": {},
     "output_type": "display_data"
    },
    {
     "name": "stderr",
     "output_type": "stream",
     "text": [
      "TEST Profiler Report\n",
      "\n",
      "Action                             \t|  Mean duration (s)\t|Num calls      \t|  Total time (s) \t|  Percentage %   \t|\n",
      "---------------------------------------------------------------------------------------------------------------------------------------\n",
      "Total                              \t|  -              \t|_              \t|  43.335         \t|  100 %          \t|\n",
      "---------------------------------------------------------------------------------------------------------------------------------------\n",
      "run_test_evaluation                \t|  43.302         \t|1              \t|  43.302         \t|  99.925         \t|\n",
      "evaluation_step_and_end            \t|  0.28773        \t|124            \t|  35.678         \t|  82.332         \t|\n",
      "test_step                          \t|  0.28761        \t|124            \t|  35.663         \t|  82.297         \t|\n",
      "get_test_batch                     \t|  0.041969       \t|125            \t|  5.2462         \t|  12.106         \t|\n",
      "fetch_next_test_batch              \t|  0.041933       \t|125            \t|  5.2416         \t|  12.096         \t|\n",
      "on_test_batch_end                  \t|  0.015249       \t|124            \t|  1.8909         \t|  4.3634         \t|\n",
      "evaluation_batch_to_device         \t|  0.0017138      \t|124            \t|  0.21251        \t|  0.49039        \t|\n",
      "on_test_start                      \t|  0.017712       \t|1              \t|  0.017712       \t|  0.040872       \t|\n",
      "on_test_batch_start                \t|  2.591e-05      \t|124            \t|  0.0032129      \t|  0.0074141      \t|\n",
      "test_step_end                      \t|  1.3198e-05     \t|124            \t|  0.0016366      \t|  0.0037767      \t|\n",
      "on_test_end                        \t|  0.0006532      \t|1              \t|  0.0006532      \t|  0.0015073      \t|\n",
      "on_test_model_eval                 \t|  5.5989e-05     \t|1              \t|  5.5989e-05     \t|  0.0001292      \t|\n",
      "on_test_epoch_end                  \t|  2.729e-05      \t|1              \t|  2.729e-05      \t|  6.2974e-05     \t|\n",
      "teardown                           \t|  2.3546e-05     \t|1              \t|  2.3546e-05     \t|  5.4335e-05     \t|\n",
      "on_configure_sharded_model         \t|  1.6687e-05     \t|1              \t|  1.6687e-05     \t|  3.8508e-05     \t|\n",
      "on_before_accelerator_backend_setup\t|  1.3042e-05     \t|1              \t|  1.3042e-05     \t|  3.0097e-05     \t|\n",
      "configure_callbacks                \t|  1.1887e-05     \t|1              \t|  1.1887e-05     \t|  2.7432e-05     \t|\n",
      "on_epoch_start                     \t|  1.1623e-05     \t|1              \t|  1.1623e-05     \t|  2.6821e-05     \t|\n",
      "setup                              \t|  1.1243e-05     \t|1              \t|  1.1243e-05     \t|  2.5944e-05     \t|\n",
      "on_test_epoch_start                \t|  9.3412e-06     \t|1              \t|  9.3412e-06     \t|  2.1556e-05     \t|\n",
      "on_epoch_end                       \t|  8.5961e-06     \t|1              \t|  8.5961e-06     \t|  1.9837e-05     \t|\n",
      "configure_sharded_model            \t|  8.0522e-06     \t|1              \t|  8.0522e-06     \t|  1.8581e-05     \t|\n",
      "on_test_dataloader                 \t|  5.8487e-06     \t|1              \t|  5.8487e-06     \t|  1.3497e-05     \t|\n",
      "prepare_data                       \t|  4.0792e-06     \t|1              \t|  4.0792e-06     \t|  9.4132e-06     \t|\n",
      "\n"
     ]
    },
    {
     "name": "stdout",
     "output_type": "stream",
     "text": [
      "--------------------------------------------------------------------------------\n",
      "DATALOADER:0 TEST RESULTS\n",
      "{'test_loss': 0.5476641654968262, 'test_loss: mse': 0.5555672645568848}\n",
      "--------------------------------------------------------------------------------\n"
     ]
    },
    {
     "name": "stderr",
     "output_type": "stream",
     "text": [
      "GPU available: True, used: True\n",
      "TPU available: False, using: 0 TPU cores\n",
      "IPU available: False, using: 0 IPUs\n",
      "LOCAL_RANK: 0 - CUDA_VISIBLE_DEVICES: [0,1,2,3,4,5,6,7]\n"
     ]
    },
    {
     "data": {
      "application/vnd.jupyter.widget-view+json": {
       "model_id": "f02b7bc828324cdda0929709b9ebcd71",
       "version_major": 2,
       "version_minor": 0
      },
      "text/plain": [
       "Testing: 0it [00:00, ?it/s]"
      ]
     },
     "metadata": {},
     "output_type": "display_data"
    },
    {
     "name": "stderr",
     "output_type": "stream",
     "text": [
      "TEST Profiler Report\n",
      "\n",
      "Action                             \t|  Mean duration (s)\t|Num calls      \t|  Total time (s) \t|  Percentage %   \t|\n",
      "---------------------------------------------------------------------------------------------------------------------------------------\n",
      "Total                              \t|  -              \t|_              \t|  45.465         \t|  100 %          \t|\n",
      "---------------------------------------------------------------------------------------------------------------------------------------\n",
      "run_test_evaluation                \t|  45.428         \t|1              \t|  45.428         \t|  99.92          \t|\n",
      "evaluation_step_and_end            \t|  0.29089        \t|124            \t|  36.071         \t|  79.338         \t|\n",
      "test_step                          \t|  0.29065        \t|124            \t|  36.041         \t|  79.272         \t|\n",
      "get_test_batch                     \t|  0.053179       \t|125            \t|  6.6474         \t|  14.621         \t|\n",
      "fetch_next_test_batch              \t|  0.05313        \t|125            \t|  6.6413         \t|  14.608         \t|\n",
      "on_test_batch_end                  \t|  0.017193       \t|124            \t|  2.1319         \t|  4.6892         \t|\n",
      "evaluation_batch_to_device         \t|  0.0024757      \t|124            \t|  0.30699        \t|  0.67522        \t|\n",
      "on_test_start                      \t|  0.018988       \t|1              \t|  0.018988       \t|  0.041764       \t|\n",
      "on_test_batch_start                \t|  2.8366e-05     \t|124            \t|  0.0035174      \t|  0.0077366      \t|\n",
      "test_step_end                      \t|  1.3903e-05     \t|124            \t|  0.001724       \t|  0.0037919      \t|\n",
      "on_test_end                        \t|  0.00052263     \t|1              \t|  0.00052263     \t|  0.0011495      \t|\n",
      "on_test_model_eval                 \t|  5.9135e-05     \t|1              \t|  5.9135e-05     \t|  0.00013007     \t|\n",
      "on_test_epoch_end                  \t|  4.5324e-05     \t|1              \t|  4.5324e-05     \t|  9.969e-05      \t|\n",
      "on_configure_sharded_model         \t|  2.9571e-05     \t|1              \t|  2.9571e-05     \t|  6.5043e-05     \t|\n",
      "teardown                           \t|  2.3624e-05     \t|1              \t|  2.3624e-05     \t|  5.1961e-05     \t|\n",
      "on_before_accelerator_backend_setup\t|  1.6384e-05     \t|1              \t|  1.6384e-05     \t|  3.6036e-05     \t|\n",
      "configure_callbacks                \t|  1.3705e-05     \t|1              \t|  1.3705e-05     \t|  3.0145e-05     \t|\n",
      "on_epoch_start                     \t|  1.3674e-05     \t|1              \t|  1.3674e-05     \t|  3.0075e-05     \t|\n",
      "setup                              \t|  1.3195e-05     \t|1              \t|  1.3195e-05     \t|  2.9023e-05     \t|\n",
      "on_epoch_end                       \t|  1.2411e-05     \t|1              \t|  1.2411e-05     \t|  2.7298e-05     \t|\n",
      "on_test_epoch_start                \t|  1.0047e-05     \t|1              \t|  1.0047e-05     \t|  2.2099e-05     \t|\n",
      "configure_sharded_model            \t|  8.1547e-06     \t|1              \t|  8.1547e-06     \t|  1.7936e-05     \t|\n",
      "on_test_dataloader                 \t|  6.1858e-06     \t|1              \t|  6.1858e-06     \t|  1.3606e-05     \t|\n",
      "prepare_data                       \t|  4.5728e-06     \t|1              \t|  4.5728e-06     \t|  1.0058e-05     \t|\n",
      "\n"
     ]
    },
    {
     "name": "stdout",
     "output_type": "stream",
     "text": [
      "--------------------------------------------------------------------------------\n",
      "DATALOADER:0 TEST RESULTS\n",
      "{'test_loss': 0.5515235662460327, 'test_loss: mse': 0.5987637639045715}\n",
      "--------------------------------------------------------------------------------\n"
     ]
    },
    {
     "ename": "FileNotFoundError",
     "evalue": "[Errno 2] No such file or directory: '/home/roko/spatial//output/lightning_logs/checkpoints/MonetDense/MonetDense__[256, 256]__30__False__gene93.ckpt'",
     "output_type": "error",
     "traceback": [
      "\u001b[0;31m---------------------------------------------------------------------------\u001b[0m",
      "\u001b[0;31mFileNotFoundError\u001b[0m                         Traceback (most recent call last)",
      "Input \u001b[0;32mIn [3]\u001b[0m, in \u001b[0;36m<cell line: 6>\u001b[0;34m()\u001b[0m\n\u001b[1;32m     11\u001b[0m OmegaConf\u001b[38;5;241m.\u001b[39mupdate(cfg_from_terminal, \u001b[38;5;124m\"\u001b[39m\u001b[38;5;124mradius\u001b[39m\u001b[38;5;124m\"\u001b[39m, rad)\n\u001b[1;32m     12\u001b[0m OmegaConf\u001b[38;5;241m.\u001b[39mupdate(cfg_from_terminal, \u001b[38;5;124m\"\u001b[39m\u001b[38;5;124mmodel.kwargs.response_genes\u001b[39m\u001b[38;5;124m\"\u001b[39m, [\u001b[38;5;241m93\u001b[39m])\n\u001b[0;32m---> 13\u001b[0m output \u001b[38;5;241m=\u001b[39m \u001b[43mtest\u001b[49m\u001b[43m(\u001b[49m\u001b[43mcfg_from_terminal\u001b[49m\u001b[43m)\u001b[49m\n\u001b[1;32m     14\u001b[0m trainer, l1_losses, inputs, gene_expressions, celltypes, test_results \u001b[38;5;241m=\u001b[39m output\n\u001b[1;32m     15\u001b[0m test_loss_rad_dict[rad] \u001b[38;5;241m=\u001b[39m test_results[\u001b[38;5;241m0\u001b[39m][\u001b[38;5;124m'\u001b[39m\u001b[38;5;124mtest_loss\u001b[39m\u001b[38;5;124m'\u001b[39m]\n",
      "File \u001b[0;32m~/spatial/spatial/predict.py:50\u001b[0m, in \u001b[0;36mtest\u001b[0;34m(cfg, data)\u001b[0m\n\u001b[1;32m     48\u001b[0m \u001b[38;5;66;03m# Load the best model.\u001b[39;00m\n\u001b[1;32m     49\u001b[0m \u001b[38;5;28;01mif\u001b[39;00m cfg\u001b[38;5;241m.\u001b[39mmodel\u001b[38;5;241m.\u001b[39mname \u001b[38;5;241m==\u001b[39m \u001b[38;5;124m\"\u001b[39m\u001b[38;5;124mMonetDense\u001b[39m\u001b[38;5;124m\"\u001b[39m:\n\u001b[0;32m---> 50\u001b[0m     model \u001b[38;5;241m=\u001b[39m \u001b[43mMonetDense\u001b[49m\u001b[38;5;241;43m.\u001b[39;49m\u001b[43mload_from_checkpoint\u001b[49m\u001b[43m(\u001b[49m\n\u001b[1;32m     51\u001b[0m \u001b[43m        \u001b[49m\u001b[43mcheckpoint_path\u001b[49m\u001b[38;5;241;43m=\u001b[39;49m\u001b[43mcheckpoint_path\u001b[49m\u001b[43m,\u001b[49m\n\u001b[1;32m     52\u001b[0m \u001b[43m        \u001b[49m\u001b[38;5;241;43m*\u001b[39;49m\u001b[38;5;241;43m*\u001b[39;49m\u001b[43mcfg\u001b[49m\u001b[38;5;241;43m.\u001b[39;49m\u001b[43mmodel\u001b[49m\u001b[38;5;241;43m.\u001b[39;49m\u001b[43mkwargs\u001b[49m\u001b[43m,\u001b[49m\n\u001b[1;32m     53\u001b[0m \u001b[43m    \u001b[49m\u001b[43m)\u001b[49m\n\u001b[1;32m     54\u001b[0m \u001b[38;5;28;01mif\u001b[39;00m cfg\u001b[38;5;241m.\u001b[39mmodel\u001b[38;5;241m.\u001b[39mname \u001b[38;5;241m==\u001b[39m \u001b[38;5;124m\"\u001b[39m\u001b[38;5;124mTrivialAutoencoder\u001b[39m\u001b[38;5;124m\"\u001b[39m:\n\u001b[1;32m     55\u001b[0m     model \u001b[38;5;241m=\u001b[39m TrivialAutoencoder\u001b[38;5;241m.\u001b[39mload_from_checkpoint(\n\u001b[1;32m     56\u001b[0m         checkpoint_path\u001b[38;5;241m=\u001b[39mcheckpoint_path,\n\u001b[1;32m     57\u001b[0m         \u001b[38;5;241m*\u001b[39m\u001b[38;5;241m*\u001b[39mcfg\u001b[38;5;241m.\u001b[39mmodel\u001b[38;5;241m.\u001b[39mkwargs,\n\u001b[1;32m     58\u001b[0m     )\n",
      "File \u001b[0;32m~/.cache/pypoetry/virtualenvs/spatial-G_n0JvVf-py3.8/lib/python3.8/site-packages/pytorch_lightning/core/saving.py:134\u001b[0m, in \u001b[0;36mModelIO.load_from_checkpoint\u001b[0;34m(cls, checkpoint_path, map_location, hparams_file, strict, **kwargs)\u001b[0m\n\u001b[1;32m    132\u001b[0m         checkpoint \u001b[38;5;241m=\u001b[39m pl_load(checkpoint_path, map_location\u001b[38;5;241m=\u001b[39mmap_location)\n\u001b[1;32m    133\u001b[0m     \u001b[38;5;28;01melse\u001b[39;00m:\n\u001b[0;32m--> 134\u001b[0m         checkpoint \u001b[38;5;241m=\u001b[39m \u001b[43mpl_load\u001b[49m\u001b[43m(\u001b[49m\u001b[43mcheckpoint_path\u001b[49m\u001b[43m,\u001b[49m\u001b[43m \u001b[49m\u001b[43mmap_location\u001b[49m\u001b[38;5;241;43m=\u001b[39;49m\u001b[38;5;28;43;01mlambda\u001b[39;49;00m\u001b[43m \u001b[49m\u001b[43mstorage\u001b[49m\u001b[43m,\u001b[49m\u001b[43m \u001b[49m\u001b[43mloc\u001b[49m\u001b[43m:\u001b[49m\u001b[43m \u001b[49m\u001b[43mstorage\u001b[49m\u001b[43m)\u001b[49m\n\u001b[1;32m    136\u001b[0m \u001b[38;5;28;01mif\u001b[39;00m hparams_file \u001b[38;5;129;01mis\u001b[39;00m \u001b[38;5;129;01mnot\u001b[39;00m \u001b[38;5;28;01mNone\u001b[39;00m:\n\u001b[1;32m    137\u001b[0m     extension \u001b[38;5;241m=\u001b[39m hparams_file\u001b[38;5;241m.\u001b[39msplit(\u001b[38;5;124m\"\u001b[39m\u001b[38;5;124m.\u001b[39m\u001b[38;5;124m\"\u001b[39m)[\u001b[38;5;241m-\u001b[39m\u001b[38;5;241m1\u001b[39m]\n",
      "File \u001b[0;32m~/.cache/pypoetry/virtualenvs/spatial-G_n0JvVf-py3.8/lib/python3.8/site-packages/pytorch_lightning/utilities/cloud_io.py:37\u001b[0m, in \u001b[0;36mload\u001b[0;34m(path_or_url, map_location)\u001b[0m\n\u001b[1;32m     35\u001b[0m     \u001b[38;5;28;01mreturn\u001b[39;00m torch\u001b[38;5;241m.\u001b[39mhub\u001b[38;5;241m.\u001b[39mload_state_dict_from_url(\u001b[38;5;28mstr\u001b[39m(path_or_url), map_location\u001b[38;5;241m=\u001b[39mmap_location)\n\u001b[1;32m     36\u001b[0m fs \u001b[38;5;241m=\u001b[39m get_filesystem(path_or_url)\n\u001b[0;32m---> 37\u001b[0m \u001b[38;5;28;01mwith\u001b[39;00m \u001b[43mfs\u001b[49m\u001b[38;5;241;43m.\u001b[39;49m\u001b[43mopen\u001b[49m\u001b[43m(\u001b[49m\u001b[43mpath_or_url\u001b[49m\u001b[43m,\u001b[49m\u001b[43m \u001b[49m\u001b[38;5;124;43m\"\u001b[39;49m\u001b[38;5;124;43mrb\u001b[39;49m\u001b[38;5;124;43m\"\u001b[39;49m\u001b[43m)\u001b[49m \u001b[38;5;28;01mas\u001b[39;00m f:\n\u001b[1;32m     38\u001b[0m     \u001b[38;5;28;01mreturn\u001b[39;00m torch\u001b[38;5;241m.\u001b[39mload(f, map_location\u001b[38;5;241m=\u001b[39mmap_location)\n",
      "File \u001b[0;32m~/.cache/pypoetry/virtualenvs/spatial-G_n0JvVf-py3.8/lib/python3.8/site-packages/fsspec/spec.py:1009\u001b[0m, in \u001b[0;36mAbstractFileSystem.open\u001b[0;34m(self, path, mode, block_size, cache_options, compression, **kwargs)\u001b[0m\n\u001b[1;32m   1007\u001b[0m \u001b[38;5;28;01melse\u001b[39;00m:\n\u001b[1;32m   1008\u001b[0m     ac \u001b[38;5;241m=\u001b[39m kwargs\u001b[38;5;241m.\u001b[39mpop(\u001b[38;5;124m\"\u001b[39m\u001b[38;5;124mautocommit\u001b[39m\u001b[38;5;124m\"\u001b[39m, \u001b[38;5;129;01mnot\u001b[39;00m \u001b[38;5;28mself\u001b[39m\u001b[38;5;241m.\u001b[39m_intrans)\n\u001b[0;32m-> 1009\u001b[0m     f \u001b[38;5;241m=\u001b[39m \u001b[38;5;28;43mself\u001b[39;49m\u001b[38;5;241;43m.\u001b[39;49m\u001b[43m_open\u001b[49m\u001b[43m(\u001b[49m\n\u001b[1;32m   1010\u001b[0m \u001b[43m        \u001b[49m\u001b[43mpath\u001b[49m\u001b[43m,\u001b[49m\n\u001b[1;32m   1011\u001b[0m \u001b[43m        \u001b[49m\u001b[43mmode\u001b[49m\u001b[38;5;241;43m=\u001b[39;49m\u001b[43mmode\u001b[49m\u001b[43m,\u001b[49m\n\u001b[1;32m   1012\u001b[0m \u001b[43m        \u001b[49m\u001b[43mblock_size\u001b[49m\u001b[38;5;241;43m=\u001b[39;49m\u001b[43mblock_size\u001b[49m\u001b[43m,\u001b[49m\n\u001b[1;32m   1013\u001b[0m \u001b[43m        \u001b[49m\u001b[43mautocommit\u001b[49m\u001b[38;5;241;43m=\u001b[39;49m\u001b[43mac\u001b[49m\u001b[43m,\u001b[49m\n\u001b[1;32m   1014\u001b[0m \u001b[43m        \u001b[49m\u001b[43mcache_options\u001b[49m\u001b[38;5;241;43m=\u001b[39;49m\u001b[43mcache_options\u001b[49m\u001b[43m,\u001b[49m\n\u001b[1;32m   1015\u001b[0m \u001b[43m        \u001b[49m\u001b[38;5;241;43m*\u001b[39;49m\u001b[38;5;241;43m*\u001b[39;49m\u001b[43mkwargs\u001b[49m\u001b[43m,\u001b[49m\n\u001b[1;32m   1016\u001b[0m \u001b[43m    \u001b[49m\u001b[43m)\u001b[49m\n\u001b[1;32m   1017\u001b[0m     \u001b[38;5;28;01mif\u001b[39;00m compression \u001b[38;5;129;01mis\u001b[39;00m \u001b[38;5;129;01mnot\u001b[39;00m \u001b[38;5;28;01mNone\u001b[39;00m:\n\u001b[1;32m   1018\u001b[0m         \u001b[38;5;28;01mfrom\u001b[39;00m \u001b[38;5;21;01mfsspec\u001b[39;00m\u001b[38;5;21;01m.\u001b[39;00m\u001b[38;5;21;01mcompression\u001b[39;00m \u001b[38;5;28;01mimport\u001b[39;00m compr\n",
      "File \u001b[0;32m~/.cache/pypoetry/virtualenvs/spatial-G_n0JvVf-py3.8/lib/python3.8/site-packages/fsspec/implementations/local.py:155\u001b[0m, in \u001b[0;36mLocalFileSystem._open\u001b[0;34m(self, path, mode, block_size, **kwargs)\u001b[0m\n\u001b[1;32m    153\u001b[0m \u001b[38;5;28;01mif\u001b[39;00m \u001b[38;5;28mself\u001b[39m\u001b[38;5;241m.\u001b[39mauto_mkdir \u001b[38;5;129;01mand\u001b[39;00m \u001b[38;5;124m\"\u001b[39m\u001b[38;5;124mw\u001b[39m\u001b[38;5;124m\"\u001b[39m \u001b[38;5;129;01min\u001b[39;00m mode:\n\u001b[1;32m    154\u001b[0m     \u001b[38;5;28mself\u001b[39m\u001b[38;5;241m.\u001b[39mmakedirs(\u001b[38;5;28mself\u001b[39m\u001b[38;5;241m.\u001b[39m_parent(path), exist_ok\u001b[38;5;241m=\u001b[39m\u001b[38;5;28;01mTrue\u001b[39;00m)\n\u001b[0;32m--> 155\u001b[0m \u001b[38;5;28;01mreturn\u001b[39;00m \u001b[43mLocalFileOpener\u001b[49m\u001b[43m(\u001b[49m\u001b[43mpath\u001b[49m\u001b[43m,\u001b[49m\u001b[43m \u001b[49m\u001b[43mmode\u001b[49m\u001b[43m,\u001b[49m\u001b[43m \u001b[49m\u001b[43mfs\u001b[49m\u001b[38;5;241;43m=\u001b[39;49m\u001b[38;5;28;43mself\u001b[39;49m\u001b[43m,\u001b[49m\u001b[43m \u001b[49m\u001b[38;5;241;43m*\u001b[39;49m\u001b[38;5;241;43m*\u001b[39;49m\u001b[43mkwargs\u001b[49m\u001b[43m)\u001b[49m\n",
      "File \u001b[0;32m~/.cache/pypoetry/virtualenvs/spatial-G_n0JvVf-py3.8/lib/python3.8/site-packages/fsspec/implementations/local.py:250\u001b[0m, in \u001b[0;36mLocalFileOpener.__init__\u001b[0;34m(self, path, mode, autocommit, fs, compression, **kwargs)\u001b[0m\n\u001b[1;32m    248\u001b[0m \u001b[38;5;28mself\u001b[39m\u001b[38;5;241m.\u001b[39mcompression \u001b[38;5;241m=\u001b[39m get_compression(path, compression)\n\u001b[1;32m    249\u001b[0m \u001b[38;5;28mself\u001b[39m\u001b[38;5;241m.\u001b[39mblocksize \u001b[38;5;241m=\u001b[39m io\u001b[38;5;241m.\u001b[39mDEFAULT_BUFFER_SIZE\n\u001b[0;32m--> 250\u001b[0m \u001b[38;5;28;43mself\u001b[39;49m\u001b[38;5;241;43m.\u001b[39;49m\u001b[43m_open\u001b[49m\u001b[43m(\u001b[49m\u001b[43m)\u001b[49m\n",
      "File \u001b[0;32m~/.cache/pypoetry/virtualenvs/spatial-G_n0JvVf-py3.8/lib/python3.8/site-packages/fsspec/implementations/local.py:255\u001b[0m, in \u001b[0;36mLocalFileOpener._open\u001b[0;34m(self)\u001b[0m\n\u001b[1;32m    253\u001b[0m \u001b[38;5;28;01mif\u001b[39;00m \u001b[38;5;28mself\u001b[39m\u001b[38;5;241m.\u001b[39mf \u001b[38;5;129;01mis\u001b[39;00m \u001b[38;5;28;01mNone\u001b[39;00m \u001b[38;5;129;01mor\u001b[39;00m \u001b[38;5;28mself\u001b[39m\u001b[38;5;241m.\u001b[39mf\u001b[38;5;241m.\u001b[39mclosed:\n\u001b[1;32m    254\u001b[0m     \u001b[38;5;28;01mif\u001b[39;00m \u001b[38;5;28mself\u001b[39m\u001b[38;5;241m.\u001b[39mautocommit \u001b[38;5;129;01mor\u001b[39;00m \u001b[38;5;124m\"\u001b[39m\u001b[38;5;124mw\u001b[39m\u001b[38;5;124m\"\u001b[39m \u001b[38;5;129;01mnot\u001b[39;00m \u001b[38;5;129;01min\u001b[39;00m \u001b[38;5;28mself\u001b[39m\u001b[38;5;241m.\u001b[39mmode:\n\u001b[0;32m--> 255\u001b[0m         \u001b[38;5;28mself\u001b[39m\u001b[38;5;241m.\u001b[39mf \u001b[38;5;241m=\u001b[39m \u001b[38;5;28;43mopen\u001b[39;49m\u001b[43m(\u001b[49m\u001b[38;5;28;43mself\u001b[39;49m\u001b[38;5;241;43m.\u001b[39;49m\u001b[43mpath\u001b[49m\u001b[43m,\u001b[49m\u001b[43m \u001b[49m\u001b[43mmode\u001b[49m\u001b[38;5;241;43m=\u001b[39;49m\u001b[38;5;28;43mself\u001b[39;49m\u001b[38;5;241;43m.\u001b[39;49m\u001b[43mmode\u001b[49m\u001b[43m)\u001b[49m\n\u001b[1;32m    256\u001b[0m         \u001b[38;5;28;01mif\u001b[39;00m \u001b[38;5;28mself\u001b[39m\u001b[38;5;241m.\u001b[39mcompression:\n\u001b[1;32m    257\u001b[0m             compress \u001b[38;5;241m=\u001b[39m compr[\u001b[38;5;28mself\u001b[39m\u001b[38;5;241m.\u001b[39mcompression]\n",
      "\u001b[0;31mFileNotFoundError\u001b[0m: [Errno 2] No such file or directory: '/home/roko/spatial//output/lightning_logs/checkpoints/MonetDense/MonetDense__[256, 256]__30__False__gene93.ckpt'"
     ]
    }
   ],
   "source": [
    "import hydra\n",
    "from hydra.experimental import compose, initialize\n",
    "\n",
    "test_loss_rad_dict = {}\n",
    "\n",
    "for rad in range(0,90,10):\n",
    "    with initialize(config_path=\"../config\"):\n",
    "        cfg_from_terminal = compose(config_name=\"config\")\n",
    "        OmegaConf.update(cfg_from_terminal, \"model.kwargs.hidden_dimensions\", [256, 256])\n",
    "        OmegaConf.update(cfg_from_terminal, \"training.logger_name\", \"gene93\")\n",
    "        OmegaConf.update(cfg_from_terminal, \"radius\", rad)\n",
    "        OmegaConf.update(cfg_from_terminal, \"model.kwargs.response_genes\", [93])\n",
    "        output = test(cfg_from_terminal)\n",
    "        trainer, l1_losses, inputs, gene_expressions, celltypes, test_results = output\n",
    "        test_loss_rad_dict[rad] = test_results[0]['test_loss']"
   ]
  },
  {
   "cell_type": "code",
   "execution_count": 4,
   "id": "7fdc197c",
   "metadata": {},
   "outputs": [
    {
     "data": {
      "text/plain": [
       "{0: 0.5447613000869751, 10: 0.5476641654968262, 20: 0.5515235662460327}"
      ]
     },
     "execution_count": 4,
     "metadata": {},
     "output_type": "execute_result"
    }
   ],
   "source": [
    "test_loss_rad_dict"
   ]
  },
  {
   "cell_type": "code",
   "execution_count": 5,
   "id": "18817f1a",
   "metadata": {},
   "outputs": [
    {
     "name": "stderr",
     "output_type": "stream",
     "text": [
      "GPU available: True, used: True\n",
      "TPU available: False, using: 0 TPU cores\n",
      "IPU available: False, using: 0 IPUs\n",
      "LOCAL_RANK: 0 - CUDA_VISIBLE_DEVICES: [0,1,2,3,4,5,6,7]\n"
     ]
    },
    {
     "data": {
      "application/vnd.jupyter.widget-view+json": {
       "model_id": "16bc5fd156314e53b3fc02b7c16fee88",
       "version_major": 2,
       "version_minor": 0
      },
      "text/plain": [
       "Testing: 0it [00:00, ?it/s]"
      ]
     },
     "metadata": {},
     "output_type": "display_data"
    },
    {
     "name": "stderr",
     "output_type": "stream",
     "text": [
      "TEST Profiler Report\n",
      "\n",
      "Action                             \t|  Mean duration (s)\t|Num calls      \t|  Total time (s) \t|  Percentage %   \t|\n",
      "---------------------------------------------------------------------------------------------------------------------------------------\n",
      "Total                              \t|  -              \t|_              \t|  43.392         \t|  100 %          \t|\n",
      "---------------------------------------------------------------------------------------------------------------------------------------\n",
      "run_test_evaluation                \t|  43.344         \t|1              \t|  43.344         \t|  99.89          \t|\n",
      "evaluation_step_and_end            \t|  0.28239        \t|124            \t|  35.016         \t|  80.698         \t|\n",
      "test_step                          \t|  0.28226        \t|124            \t|  35.001         \t|  80.663         \t|\n",
      "get_test_batch                     \t|  0.045125       \t|125            \t|  5.6406         \t|  12.999         \t|\n",
      "fetch_next_test_batch              \t|  0.045086       \t|125            \t|  5.6358         \t|  12.988         \t|\n",
      "on_test_batch_end                  \t|  0.017159       \t|124            \t|  2.1277         \t|  4.9035         \t|\n",
      "evaluation_batch_to_device         \t|  0.0023773      \t|124            \t|  0.29478        \t|  0.67935        \t|\n",
      "on_test_start                      \t|  0.016951       \t|1              \t|  0.016951       \t|  0.039065       \t|\n",
      "on_test_batch_start                \t|  2.6676e-05     \t|124            \t|  0.0033078      \t|  0.0076231      \t|\n",
      "test_step_end                      \t|  1.2182e-05     \t|124            \t|  0.0015106      \t|  0.0034813      \t|\n",
      "on_test_end                        \t|  0.00078863     \t|1              \t|  0.00078863     \t|  0.0018175      \t|\n",
      "on_test_model_eval                 \t|  5.1072e-05     \t|1              \t|  5.1072e-05     \t|  0.0001177      \t|\n",
      "on_test_epoch_end                  \t|  3.8361e-05     \t|1              \t|  3.8361e-05     \t|  8.8407e-05     \t|\n",
      "teardown                           \t|  2.4371e-05     \t|1              \t|  2.4371e-05     \t|  5.6165e-05     \t|\n",
      "on_configure_sharded_model         \t|  1.5257e-05     \t|1              \t|  1.5257e-05     \t|  3.5161e-05     \t|\n",
      "on_before_accelerator_backend_setup\t|  1.381e-05      \t|1              \t|  1.381e-05      \t|  3.1826e-05     \t|\n",
      "on_epoch_end                       \t|  1.1384e-05     \t|1              \t|  1.1384e-05     \t|  2.6237e-05     \t|\n",
      "on_epoch_start                     \t|  9.4753e-06     \t|1              \t|  9.4753e-06     \t|  2.1837e-05     \t|\n",
      "setup                              \t|  9.0208e-06     \t|1              \t|  9.0208e-06     \t|  2.0789e-05     \t|\n",
      "on_test_epoch_start                \t|  8.6967e-06     \t|1              \t|  8.6967e-06     \t|  2.0042e-05     \t|\n",
      "configure_callbacks                \t|  8.544e-06      \t|1              \t|  8.544e-06      \t|  1.969e-05      \t|\n",
      "configure_sharded_model            \t|  6.9235e-06     \t|1              \t|  6.9235e-06     \t|  1.5956e-05     \t|\n",
      "on_test_dataloader                 \t|  5.0738e-06     \t|1              \t|  5.0738e-06     \t|  1.1693e-05     \t|\n",
      "prepare_data                       \t|  4.5188e-06     \t|1              \t|  4.5188e-06     \t|  1.0414e-05     \t|\n",
      "\n"
     ]
    },
    {
     "name": "stdout",
     "output_type": "stream",
     "text": [
      "--------------------------------------------------------------------------------\n",
      "DATALOADER:0 TEST RESULTS\n",
      "{'test_loss': 0.048507098108530045, 'test_loss: mse': 0.02348780818283558}\n",
      "--------------------------------------------------------------------------------\n"
     ]
    },
    {
     "name": "stderr",
     "output_type": "stream",
     "text": [
      "GPU available: True, used: True\n",
      "TPU available: False, using: 0 TPU cores\n",
      "IPU available: False, using: 0 IPUs\n",
      "LOCAL_RANK: 0 - CUDA_VISIBLE_DEVICES: [0,1,2,3,4,5,6,7]\n"
     ]
    },
    {
     "data": {
      "application/vnd.jupyter.widget-view+json": {
       "model_id": "49b796a99a1a4c3198ec87dada9dcddf",
       "version_major": 2,
       "version_minor": 0
      },
      "text/plain": [
       "Testing: 0it [00:00, ?it/s]"
      ]
     },
     "metadata": {},
     "output_type": "display_data"
    },
    {
     "name": "stderr",
     "output_type": "stream",
     "text": [
      "TEST Profiler Report\n",
      "\n",
      "Action                             \t|  Mean duration (s)\t|Num calls      \t|  Total time (s) \t|  Percentage %   \t|\n",
      "---------------------------------------------------------------------------------------------------------------------------------------\n",
      "Total                              \t|  -              \t|_              \t|  39.11          \t|  100 %          \t|\n",
      "---------------------------------------------------------------------------------------------------------------------------------------\n",
      "run_test_evaluation                \t|  39.084         \t|1              \t|  39.084         \t|  99.934         \t|\n",
      "evaluation_step_and_end            \t|  0.26096        \t|124            \t|  32.359         \t|  82.739         \t|\n",
      "test_step                          \t|  0.26085        \t|124            \t|  32.346         \t|  82.705         \t|\n",
      "get_test_batch                     \t|  0.036478       \t|125            \t|  4.5598         \t|  11.659         \t|\n",
      "fetch_next_test_batch              \t|  0.036436       \t|125            \t|  4.5544         \t|  11.645         \t|\n",
      "on_test_batch_end                  \t|  0.013311       \t|124            \t|  1.6505         \t|  4.2203         \t|\n",
      "evaluation_batch_to_device         \t|  0.0018373      \t|124            \t|  0.22783        \t|  0.58253        \t|\n",
      "on_test_start                      \t|  0.016777       \t|1              \t|  0.016777       \t|  0.042897       \t|\n",
      "on_test_batch_start                \t|  2.1277e-05     \t|124            \t|  0.0026384      \t|  0.0067461      \t|\n",
      "test_step_end                      \t|  1.0977e-05     \t|124            \t|  0.0013612      \t|  0.0034805      \t|\n",
      "on_test_end                        \t|  0.00061322     \t|1              \t|  0.00061322     \t|  0.0015679      \t|\n",
      "on_test_model_eval                 \t|  5.3763e-05     \t|1              \t|  5.3763e-05     \t|  0.00013747     \t|\n",
      "on_test_epoch_end                  \t|  4.6663e-05     \t|1              \t|  4.6663e-05     \t|  0.00011931     \t|\n",
      "teardown                           \t|  3.0464e-05     \t|1              \t|  3.0464e-05     \t|  7.7893e-05     \t|\n",
      "on_configure_sharded_model         \t|  1.5417e-05     \t|1              \t|  1.5417e-05     \t|  3.942e-05      \t|\n",
      "configure_callbacks                \t|  1.5112e-05     \t|1              \t|  1.5112e-05     \t|  3.8639e-05     \t|\n",
      "on_before_accelerator_backend_setup\t|  1.4123e-05     \t|1              \t|  1.4123e-05     \t|  3.611e-05      \t|\n",
      "on_epoch_end                       \t|  1.1409e-05     \t|1              \t|  1.1409e-05     \t|  2.9171e-05     \t|\n",
      "setup                              \t|  1.09e-05       \t|1              \t|  1.09e-05       \t|  2.7871e-05     \t|\n",
      "on_epoch_start                     \t|  1.0809e-05     \t|1              \t|  1.0809e-05     \t|  2.7637e-05     \t|\n",
      "on_test_epoch_start                \t|  8.2385e-06     \t|1              \t|  8.2385e-06     \t|  2.1065e-05     \t|\n",
      "configure_sharded_model            \t|  7.2792e-06     \t|1              \t|  7.2792e-06     \t|  1.8612e-05     \t|\n",
      "on_test_dataloader                 \t|  5.5898e-06     \t|1              \t|  5.5898e-06     \t|  1.4293e-05     \t|\n",
      "prepare_data                       \t|  3.675e-06      \t|1              \t|  3.675e-06      \t|  9.3966e-06     \t|\n",
      "\n"
     ]
    },
    {
     "name": "stdout",
     "output_type": "stream",
     "text": [
      "--------------------------------------------------------------------------------\n",
      "DATALOADER:0 TEST RESULTS\n",
      "{'test_loss': 0.048644304275512695, 'test_loss: mse': 0.03043651022017002}\n",
      "--------------------------------------------------------------------------------\n"
     ]
    },
    {
     "name": "stderr",
     "output_type": "stream",
     "text": [
      "GPU available: True, used: True\n",
      "TPU available: False, using: 0 TPU cores\n",
      "IPU available: False, using: 0 IPUs\n",
      "LOCAL_RANK: 0 - CUDA_VISIBLE_DEVICES: [0,1,2,3,4,5,6,7]\n"
     ]
    },
    {
     "data": {
      "application/vnd.jupyter.widget-view+json": {
       "model_id": "9b3c3db074d74a25b122494e043f1696",
       "version_major": 2,
       "version_minor": 0
      },
      "text/plain": [
       "Testing: 0it [00:00, ?it/s]"
      ]
     },
     "metadata": {},
     "output_type": "display_data"
    },
    {
     "name": "stderr",
     "output_type": "stream",
     "text": [
      "TEST Profiler Report\n",
      "\n",
      "Action                             \t|  Mean duration (s)\t|Num calls      \t|  Total time (s) \t|  Percentage %   \t|\n",
      "---------------------------------------------------------------------------------------------------------------------------------------\n",
      "Total                              \t|  -              \t|_              \t|  43.045         \t|  100 %          \t|\n",
      "---------------------------------------------------------------------------------------------------------------------------------------\n",
      "run_test_evaluation                \t|  43.007         \t|1              \t|  43.007         \t|  99.91          \t|\n",
      "evaluation_step_and_end            \t|  0.2874         \t|124            \t|  35.638         \t|  82.792         \t|\n",
      "test_step                          \t|  0.28728        \t|124            \t|  35.623         \t|  82.757         \t|\n",
      "get_test_batch                     \t|  0.039178       \t|125            \t|  4.8972         \t|  11.377         \t|\n",
      "fetch_next_test_batch              \t|  0.039136       \t|125            \t|  4.892          \t|  11.365         \t|\n",
      "on_test_batch_end                  \t|  0.015121       \t|124            \t|  1.875          \t|  4.3558         \t|\n",
      "evaluation_batch_to_device         \t|  0.0023401      \t|124            \t|  0.29017        \t|  0.67411        \t|\n",
      "on_test_start                      \t|  0.016488       \t|1              \t|  0.016488       \t|  0.038305       \t|\n",
      "on_test_batch_start                \t|  2.5236e-05     \t|124            \t|  0.0031292      \t|  0.0072697      \t|\n",
      "test_step_end                      \t|  1.2281e-05     \t|124            \t|  0.0015229      \t|  0.0035378      \t|\n",
      "on_test_end                        \t|  0.00087889     \t|1              \t|  0.00087889     \t|  0.0020418      \t|\n",
      "on_test_model_eval                 \t|  6.5047e-05     \t|1              \t|  6.5047e-05     \t|  0.00015111     \t|\n",
      "on_test_epoch_end                  \t|  3.6135e-05     \t|1              \t|  3.6135e-05     \t|  8.3947e-05     \t|\n",
      "teardown                           \t|  2.3976e-05     \t|1              \t|  2.3976e-05     \t|  5.5699e-05     \t|\n",
      "on_epoch_end                       \t|  1.5972e-05     \t|1              \t|  1.5972e-05     \t|  3.7106e-05     \t|\n",
      "on_configure_sharded_model         \t|  1.4501e-05     \t|1              \t|  1.4501e-05     \t|  3.3687e-05     \t|\n",
      "on_before_accelerator_backend_setup\t|  1.2249e-05     \t|1              \t|  1.2249e-05     \t|  2.8456e-05     \t|\n",
      "on_epoch_start                     \t|  1.1157e-05     \t|1              \t|  1.1157e-05     \t|  2.592e-05      \t|\n",
      "on_test_epoch_start                \t|  9.533e-06      \t|1              \t|  9.533e-06      \t|  2.2146e-05     \t|\n",
      "setup                              \t|  9.0338e-06     \t|1              \t|  9.0338e-06     \t|  2.0987e-05     \t|\n",
      "configure_callbacks                \t|  6.2808e-06     \t|1              \t|  6.2808e-06     \t|  1.4591e-05     \t|\n",
      "configure_sharded_model            \t|  5.3924e-06     \t|1              \t|  5.3924e-06     \t|  1.2527e-05     \t|\n",
      "on_test_dataloader                 \t|  4.9677e-06     \t|1              \t|  4.9677e-06     \t|  1.1541e-05     \t|\n",
      "prepare_data                       \t|  3.7253e-06     \t|1              \t|  3.7253e-06     \t|  8.6544e-06     \t|\n",
      "\n"
     ]
    },
    {
     "name": "stdout",
     "output_type": "stream",
     "text": [
      "--------------------------------------------------------------------------------\n",
      "DATALOADER:0 TEST RESULTS\n",
      "{'test_loss': 0.04809991642832756, 'test_loss: mse': 0.023766854777932167}\n",
      "--------------------------------------------------------------------------------\n"
     ]
    },
    {
     "ename": "FileNotFoundError",
     "evalue": "[Errno 2] No such file or directory: '/home/roko/spatial//output/lightning_logs/checkpoints/MonetDense/MonetDense__[256, 256]__30__False__gene151.ckpt'",
     "output_type": "error",
     "traceback": [
      "\u001b[0;31m---------------------------------------------------------------------------\u001b[0m",
      "\u001b[0;31mFileNotFoundError\u001b[0m                         Traceback (most recent call last)",
      "Input \u001b[0;32mIn [5]\u001b[0m, in \u001b[0;36m<cell line: 6>\u001b[0;34m()\u001b[0m\n\u001b[1;32m     11\u001b[0m OmegaConf\u001b[38;5;241m.\u001b[39mupdate(cfg_from_terminal, \u001b[38;5;124m\"\u001b[39m\u001b[38;5;124mradius\u001b[39m\u001b[38;5;124m\"\u001b[39m, rad)\n\u001b[1;32m     12\u001b[0m OmegaConf\u001b[38;5;241m.\u001b[39mupdate(cfg_from_terminal, \u001b[38;5;124m\"\u001b[39m\u001b[38;5;124mmodel.kwargs.response_genes\u001b[39m\u001b[38;5;124m\"\u001b[39m, [\u001b[38;5;241m151\u001b[39m])\n\u001b[0;32m---> 13\u001b[0m output \u001b[38;5;241m=\u001b[39m \u001b[43mtest\u001b[49m\u001b[43m(\u001b[49m\u001b[43mcfg_from_terminal\u001b[49m\u001b[43m)\u001b[49m\n\u001b[1;32m     14\u001b[0m trainer, l1_losses, inputs, gene_expressions, celltypes, test_results \u001b[38;5;241m=\u001b[39m output\n\u001b[1;32m     15\u001b[0m test_loss_rad_dict_response[rad] \u001b[38;5;241m=\u001b[39m test_results[\u001b[38;5;241m0\u001b[39m][\u001b[38;5;124m'\u001b[39m\u001b[38;5;124mtest_loss\u001b[39m\u001b[38;5;124m'\u001b[39m]\n",
      "File \u001b[0;32m~/spatial/spatial/predict.py:50\u001b[0m, in \u001b[0;36mtest\u001b[0;34m(cfg, data)\u001b[0m\n\u001b[1;32m     48\u001b[0m \u001b[38;5;66;03m# Load the best model.\u001b[39;00m\n\u001b[1;32m     49\u001b[0m \u001b[38;5;28;01mif\u001b[39;00m cfg\u001b[38;5;241m.\u001b[39mmodel\u001b[38;5;241m.\u001b[39mname \u001b[38;5;241m==\u001b[39m \u001b[38;5;124m\"\u001b[39m\u001b[38;5;124mMonetDense\u001b[39m\u001b[38;5;124m\"\u001b[39m:\n\u001b[0;32m---> 50\u001b[0m     model \u001b[38;5;241m=\u001b[39m \u001b[43mMonetDense\u001b[49m\u001b[38;5;241;43m.\u001b[39;49m\u001b[43mload_from_checkpoint\u001b[49m\u001b[43m(\u001b[49m\n\u001b[1;32m     51\u001b[0m \u001b[43m        \u001b[49m\u001b[43mcheckpoint_path\u001b[49m\u001b[38;5;241;43m=\u001b[39;49m\u001b[43mcheckpoint_path\u001b[49m\u001b[43m,\u001b[49m\n\u001b[1;32m     52\u001b[0m \u001b[43m        \u001b[49m\u001b[38;5;241;43m*\u001b[39;49m\u001b[38;5;241;43m*\u001b[39;49m\u001b[43mcfg\u001b[49m\u001b[38;5;241;43m.\u001b[39;49m\u001b[43mmodel\u001b[49m\u001b[38;5;241;43m.\u001b[39;49m\u001b[43mkwargs\u001b[49m\u001b[43m,\u001b[49m\n\u001b[1;32m     53\u001b[0m \u001b[43m    \u001b[49m\u001b[43m)\u001b[49m\n\u001b[1;32m     54\u001b[0m \u001b[38;5;28;01mif\u001b[39;00m cfg\u001b[38;5;241m.\u001b[39mmodel\u001b[38;5;241m.\u001b[39mname \u001b[38;5;241m==\u001b[39m \u001b[38;5;124m\"\u001b[39m\u001b[38;5;124mTrivialAutoencoder\u001b[39m\u001b[38;5;124m\"\u001b[39m:\n\u001b[1;32m     55\u001b[0m     model \u001b[38;5;241m=\u001b[39m TrivialAutoencoder\u001b[38;5;241m.\u001b[39mload_from_checkpoint(\n\u001b[1;32m     56\u001b[0m         checkpoint_path\u001b[38;5;241m=\u001b[39mcheckpoint_path,\n\u001b[1;32m     57\u001b[0m         \u001b[38;5;241m*\u001b[39m\u001b[38;5;241m*\u001b[39mcfg\u001b[38;5;241m.\u001b[39mmodel\u001b[38;5;241m.\u001b[39mkwargs,\n\u001b[1;32m     58\u001b[0m     )\n",
      "File \u001b[0;32m~/.cache/pypoetry/virtualenvs/spatial-G_n0JvVf-py3.8/lib/python3.8/site-packages/pytorch_lightning/core/saving.py:134\u001b[0m, in \u001b[0;36mModelIO.load_from_checkpoint\u001b[0;34m(cls, checkpoint_path, map_location, hparams_file, strict, **kwargs)\u001b[0m\n\u001b[1;32m    132\u001b[0m         checkpoint \u001b[38;5;241m=\u001b[39m pl_load(checkpoint_path, map_location\u001b[38;5;241m=\u001b[39mmap_location)\n\u001b[1;32m    133\u001b[0m     \u001b[38;5;28;01melse\u001b[39;00m:\n\u001b[0;32m--> 134\u001b[0m         checkpoint \u001b[38;5;241m=\u001b[39m \u001b[43mpl_load\u001b[49m\u001b[43m(\u001b[49m\u001b[43mcheckpoint_path\u001b[49m\u001b[43m,\u001b[49m\u001b[43m \u001b[49m\u001b[43mmap_location\u001b[49m\u001b[38;5;241;43m=\u001b[39;49m\u001b[38;5;28;43;01mlambda\u001b[39;49;00m\u001b[43m \u001b[49m\u001b[43mstorage\u001b[49m\u001b[43m,\u001b[49m\u001b[43m \u001b[49m\u001b[43mloc\u001b[49m\u001b[43m:\u001b[49m\u001b[43m \u001b[49m\u001b[43mstorage\u001b[49m\u001b[43m)\u001b[49m\n\u001b[1;32m    136\u001b[0m \u001b[38;5;28;01mif\u001b[39;00m hparams_file \u001b[38;5;129;01mis\u001b[39;00m \u001b[38;5;129;01mnot\u001b[39;00m \u001b[38;5;28;01mNone\u001b[39;00m:\n\u001b[1;32m    137\u001b[0m     extension \u001b[38;5;241m=\u001b[39m hparams_file\u001b[38;5;241m.\u001b[39msplit(\u001b[38;5;124m\"\u001b[39m\u001b[38;5;124m.\u001b[39m\u001b[38;5;124m\"\u001b[39m)[\u001b[38;5;241m-\u001b[39m\u001b[38;5;241m1\u001b[39m]\n",
      "File \u001b[0;32m~/.cache/pypoetry/virtualenvs/spatial-G_n0JvVf-py3.8/lib/python3.8/site-packages/pytorch_lightning/utilities/cloud_io.py:37\u001b[0m, in \u001b[0;36mload\u001b[0;34m(path_or_url, map_location)\u001b[0m\n\u001b[1;32m     35\u001b[0m     \u001b[38;5;28;01mreturn\u001b[39;00m torch\u001b[38;5;241m.\u001b[39mhub\u001b[38;5;241m.\u001b[39mload_state_dict_from_url(\u001b[38;5;28mstr\u001b[39m(path_or_url), map_location\u001b[38;5;241m=\u001b[39mmap_location)\n\u001b[1;32m     36\u001b[0m fs \u001b[38;5;241m=\u001b[39m get_filesystem(path_or_url)\n\u001b[0;32m---> 37\u001b[0m \u001b[38;5;28;01mwith\u001b[39;00m \u001b[43mfs\u001b[49m\u001b[38;5;241;43m.\u001b[39;49m\u001b[43mopen\u001b[49m\u001b[43m(\u001b[49m\u001b[43mpath_or_url\u001b[49m\u001b[43m,\u001b[49m\u001b[43m \u001b[49m\u001b[38;5;124;43m\"\u001b[39;49m\u001b[38;5;124;43mrb\u001b[39;49m\u001b[38;5;124;43m\"\u001b[39;49m\u001b[43m)\u001b[49m \u001b[38;5;28;01mas\u001b[39;00m f:\n\u001b[1;32m     38\u001b[0m     \u001b[38;5;28;01mreturn\u001b[39;00m torch\u001b[38;5;241m.\u001b[39mload(f, map_location\u001b[38;5;241m=\u001b[39mmap_location)\n",
      "File \u001b[0;32m~/.cache/pypoetry/virtualenvs/spatial-G_n0JvVf-py3.8/lib/python3.8/site-packages/fsspec/spec.py:1009\u001b[0m, in \u001b[0;36mAbstractFileSystem.open\u001b[0;34m(self, path, mode, block_size, cache_options, compression, **kwargs)\u001b[0m\n\u001b[1;32m   1007\u001b[0m \u001b[38;5;28;01melse\u001b[39;00m:\n\u001b[1;32m   1008\u001b[0m     ac \u001b[38;5;241m=\u001b[39m kwargs\u001b[38;5;241m.\u001b[39mpop(\u001b[38;5;124m\"\u001b[39m\u001b[38;5;124mautocommit\u001b[39m\u001b[38;5;124m\"\u001b[39m, \u001b[38;5;129;01mnot\u001b[39;00m \u001b[38;5;28mself\u001b[39m\u001b[38;5;241m.\u001b[39m_intrans)\n\u001b[0;32m-> 1009\u001b[0m     f \u001b[38;5;241m=\u001b[39m \u001b[38;5;28;43mself\u001b[39;49m\u001b[38;5;241;43m.\u001b[39;49m\u001b[43m_open\u001b[49m\u001b[43m(\u001b[49m\n\u001b[1;32m   1010\u001b[0m \u001b[43m        \u001b[49m\u001b[43mpath\u001b[49m\u001b[43m,\u001b[49m\n\u001b[1;32m   1011\u001b[0m \u001b[43m        \u001b[49m\u001b[43mmode\u001b[49m\u001b[38;5;241;43m=\u001b[39;49m\u001b[43mmode\u001b[49m\u001b[43m,\u001b[49m\n\u001b[1;32m   1012\u001b[0m \u001b[43m        \u001b[49m\u001b[43mblock_size\u001b[49m\u001b[38;5;241;43m=\u001b[39;49m\u001b[43mblock_size\u001b[49m\u001b[43m,\u001b[49m\n\u001b[1;32m   1013\u001b[0m \u001b[43m        \u001b[49m\u001b[43mautocommit\u001b[49m\u001b[38;5;241;43m=\u001b[39;49m\u001b[43mac\u001b[49m\u001b[43m,\u001b[49m\n\u001b[1;32m   1014\u001b[0m \u001b[43m        \u001b[49m\u001b[43mcache_options\u001b[49m\u001b[38;5;241;43m=\u001b[39;49m\u001b[43mcache_options\u001b[49m\u001b[43m,\u001b[49m\n\u001b[1;32m   1015\u001b[0m \u001b[43m        \u001b[49m\u001b[38;5;241;43m*\u001b[39;49m\u001b[38;5;241;43m*\u001b[39;49m\u001b[43mkwargs\u001b[49m\u001b[43m,\u001b[49m\n\u001b[1;32m   1016\u001b[0m \u001b[43m    \u001b[49m\u001b[43m)\u001b[49m\n\u001b[1;32m   1017\u001b[0m     \u001b[38;5;28;01mif\u001b[39;00m compression \u001b[38;5;129;01mis\u001b[39;00m \u001b[38;5;129;01mnot\u001b[39;00m \u001b[38;5;28;01mNone\u001b[39;00m:\n\u001b[1;32m   1018\u001b[0m         \u001b[38;5;28;01mfrom\u001b[39;00m \u001b[38;5;21;01mfsspec\u001b[39;00m\u001b[38;5;21;01m.\u001b[39;00m\u001b[38;5;21;01mcompression\u001b[39;00m \u001b[38;5;28;01mimport\u001b[39;00m compr\n",
      "File \u001b[0;32m~/.cache/pypoetry/virtualenvs/spatial-G_n0JvVf-py3.8/lib/python3.8/site-packages/fsspec/implementations/local.py:155\u001b[0m, in \u001b[0;36mLocalFileSystem._open\u001b[0;34m(self, path, mode, block_size, **kwargs)\u001b[0m\n\u001b[1;32m    153\u001b[0m \u001b[38;5;28;01mif\u001b[39;00m \u001b[38;5;28mself\u001b[39m\u001b[38;5;241m.\u001b[39mauto_mkdir \u001b[38;5;129;01mand\u001b[39;00m \u001b[38;5;124m\"\u001b[39m\u001b[38;5;124mw\u001b[39m\u001b[38;5;124m\"\u001b[39m \u001b[38;5;129;01min\u001b[39;00m mode:\n\u001b[1;32m    154\u001b[0m     \u001b[38;5;28mself\u001b[39m\u001b[38;5;241m.\u001b[39mmakedirs(\u001b[38;5;28mself\u001b[39m\u001b[38;5;241m.\u001b[39m_parent(path), exist_ok\u001b[38;5;241m=\u001b[39m\u001b[38;5;28;01mTrue\u001b[39;00m)\n\u001b[0;32m--> 155\u001b[0m \u001b[38;5;28;01mreturn\u001b[39;00m \u001b[43mLocalFileOpener\u001b[49m\u001b[43m(\u001b[49m\u001b[43mpath\u001b[49m\u001b[43m,\u001b[49m\u001b[43m \u001b[49m\u001b[43mmode\u001b[49m\u001b[43m,\u001b[49m\u001b[43m \u001b[49m\u001b[43mfs\u001b[49m\u001b[38;5;241;43m=\u001b[39;49m\u001b[38;5;28;43mself\u001b[39;49m\u001b[43m,\u001b[49m\u001b[43m \u001b[49m\u001b[38;5;241;43m*\u001b[39;49m\u001b[38;5;241;43m*\u001b[39;49m\u001b[43mkwargs\u001b[49m\u001b[43m)\u001b[49m\n",
      "File \u001b[0;32m~/.cache/pypoetry/virtualenvs/spatial-G_n0JvVf-py3.8/lib/python3.8/site-packages/fsspec/implementations/local.py:250\u001b[0m, in \u001b[0;36mLocalFileOpener.__init__\u001b[0;34m(self, path, mode, autocommit, fs, compression, **kwargs)\u001b[0m\n\u001b[1;32m    248\u001b[0m \u001b[38;5;28mself\u001b[39m\u001b[38;5;241m.\u001b[39mcompression \u001b[38;5;241m=\u001b[39m get_compression(path, compression)\n\u001b[1;32m    249\u001b[0m \u001b[38;5;28mself\u001b[39m\u001b[38;5;241m.\u001b[39mblocksize \u001b[38;5;241m=\u001b[39m io\u001b[38;5;241m.\u001b[39mDEFAULT_BUFFER_SIZE\n\u001b[0;32m--> 250\u001b[0m \u001b[38;5;28;43mself\u001b[39;49m\u001b[38;5;241;43m.\u001b[39;49m\u001b[43m_open\u001b[49m\u001b[43m(\u001b[49m\u001b[43m)\u001b[49m\n",
      "File \u001b[0;32m~/.cache/pypoetry/virtualenvs/spatial-G_n0JvVf-py3.8/lib/python3.8/site-packages/fsspec/implementations/local.py:255\u001b[0m, in \u001b[0;36mLocalFileOpener._open\u001b[0;34m(self)\u001b[0m\n\u001b[1;32m    253\u001b[0m \u001b[38;5;28;01mif\u001b[39;00m \u001b[38;5;28mself\u001b[39m\u001b[38;5;241m.\u001b[39mf \u001b[38;5;129;01mis\u001b[39;00m \u001b[38;5;28;01mNone\u001b[39;00m \u001b[38;5;129;01mor\u001b[39;00m \u001b[38;5;28mself\u001b[39m\u001b[38;5;241m.\u001b[39mf\u001b[38;5;241m.\u001b[39mclosed:\n\u001b[1;32m    254\u001b[0m     \u001b[38;5;28;01mif\u001b[39;00m \u001b[38;5;28mself\u001b[39m\u001b[38;5;241m.\u001b[39mautocommit \u001b[38;5;129;01mor\u001b[39;00m \u001b[38;5;124m\"\u001b[39m\u001b[38;5;124mw\u001b[39m\u001b[38;5;124m\"\u001b[39m \u001b[38;5;129;01mnot\u001b[39;00m \u001b[38;5;129;01min\u001b[39;00m \u001b[38;5;28mself\u001b[39m\u001b[38;5;241m.\u001b[39mmode:\n\u001b[0;32m--> 255\u001b[0m         \u001b[38;5;28mself\u001b[39m\u001b[38;5;241m.\u001b[39mf \u001b[38;5;241m=\u001b[39m \u001b[38;5;28;43mopen\u001b[39;49m\u001b[43m(\u001b[49m\u001b[38;5;28;43mself\u001b[39;49m\u001b[38;5;241;43m.\u001b[39;49m\u001b[43mpath\u001b[49m\u001b[43m,\u001b[49m\u001b[43m \u001b[49m\u001b[43mmode\u001b[49m\u001b[38;5;241;43m=\u001b[39;49m\u001b[38;5;28;43mself\u001b[39;49m\u001b[38;5;241;43m.\u001b[39;49m\u001b[43mmode\u001b[49m\u001b[43m)\u001b[49m\n\u001b[1;32m    256\u001b[0m         \u001b[38;5;28;01mif\u001b[39;00m \u001b[38;5;28mself\u001b[39m\u001b[38;5;241m.\u001b[39mcompression:\n\u001b[1;32m    257\u001b[0m             compress \u001b[38;5;241m=\u001b[39m compr[\u001b[38;5;28mself\u001b[39m\u001b[38;5;241m.\u001b[39mcompression]\n",
      "\u001b[0;31mFileNotFoundError\u001b[0m: [Errno 2] No such file or directory: '/home/roko/spatial//output/lightning_logs/checkpoints/MonetDense/MonetDense__[256, 256]__30__False__gene151.ckpt'"
     ]
    }
   ],
   "source": [
    "import hydra\n",
    "from hydra.experimental import compose, initialize\n",
    "\n",
    "test_loss_rad_dict_response = {}\n",
    "\n",
    "for rad in range(0,90,10):\n",
    "    with initialize(config_path=\"../config\"):\n",
    "        cfg_from_terminal = compose(config_name=\"config\")\n",
    "        OmegaConf.update(cfg_from_terminal, \"model.kwargs.hidden_dimensions\", [256, 256])\n",
    "        OmegaConf.update(cfg_from_terminal, \"training.logger_name\", \"gene151\")\n",
    "        OmegaConf.update(cfg_from_terminal, \"radius\", rad)\n",
    "        OmegaConf.update(cfg_from_terminal, \"model.kwargs.response_genes\", [151])\n",
    "        output = test(cfg_from_terminal)\n",
    "        trainer, l1_losses, inputs, gene_expressions, celltypes, test_results = output\n",
    "        test_loss_rad_dict_response[rad] = test_results[0]['test_loss']"
   ]
  },
  {
   "cell_type": "code",
   "execution_count": 6,
   "id": "3fb0d04e",
   "metadata": {},
   "outputs": [
    {
     "data": {
      "text/plain": [
       "{0: 0.048507098108530045, 10: 0.048644304275512695, 20: 0.04809991642832756}"
      ]
     },
     "execution_count": 6,
     "metadata": {},
     "output_type": "execute_result"
    }
   ],
   "source": [
    "test_loss_rad_dict_response"
   ]
  },
  {
   "cell_type": "code",
   "execution_count": 8,
   "id": "ebec781b",
   "metadata": {
    "scrolled": true
   },
   "outputs": [
    {
     "name": "stderr",
     "output_type": "stream",
     "text": [
      "GPU available: True, used: True\n",
      "TPU available: False, using: 0 TPU cores\n",
      "IPU available: False, using: 0 IPUs\n",
      "LOCAL_RANK: 0 - CUDA_VISIBLE_DEVICES: [0,1,2,3,4,5,6,7]\n"
     ]
    },
    {
     "data": {
      "application/vnd.jupyter.widget-view+json": {
       "model_id": "901a315c13d746b1985da5d90d595931",
       "version_major": 2,
       "version_minor": 0
      },
      "text/plain": [
       "Testing: 0it [00:00, ?it/s]"
      ]
     },
     "metadata": {},
     "output_type": "display_data"
    },
    {
     "name": "stderr",
     "output_type": "stream",
     "text": [
      "TEST Profiler Report\n",
      "\n",
      "Action                             \t|  Mean duration (s)\t|Num calls      \t|  Total time (s) \t|  Percentage %   \t|\n",
      "---------------------------------------------------------------------------------------------------------------------------------------\n",
      "Total                              \t|  -              \t|_              \t|  21.973         \t|  100 %          \t|\n",
      "---------------------------------------------------------------------------------------------------------------------------------------\n",
      "run_test_evaluation                \t|  21.839         \t|1              \t|  21.839         \t|  99.39          \t|\n",
      "evaluation_step_and_end            \t|  0.56187        \t|31             \t|  17.418         \t|  79.27          \t|\n",
      "test_step                          \t|  0.56175        \t|31             \t|  17.414         \t|  79.253         \t|\n",
      "get_test_batch                     \t|  0.10323        \t|32             \t|  3.3033         \t|  15.034         \t|\n",
      "fetch_next_test_batch              \t|  0.10319        \t|32             \t|  3.3021         \t|  15.028         \t|\n",
      "on_test_batch_end                  \t|  0.020551       \t|31             \t|  0.63709        \t|  2.8994         \t|\n",
      "evaluation_batch_to_device         \t|  0.0064557      \t|31             \t|  0.20013        \t|  0.91077        \t|\n",
      "on_test_start                      \t|  0.015436       \t|1              \t|  0.015436       \t|  0.070248       \t|\n",
      "on_test_end                        \t|  0.0025013      \t|1              \t|  0.0025013      \t|  0.011383       \t|\n",
      "on_test_batch_start                \t|  2.7494e-05     \t|31             \t|  0.00085233     \t|  0.003879       \t|\n",
      "test_step_end                      \t|  1.2807e-05     \t|31             \t|  0.00039703     \t|  0.0018069      \t|\n",
      "on_test_model_eval                 \t|  9.0407e-05     \t|1              \t|  9.0407e-05     \t|  0.00041145     \t|\n",
      "on_test_epoch_end                  \t|  4.4288e-05     \t|1              \t|  4.4288e-05     \t|  0.00020156     \t|\n",
      "on_epoch_end                       \t|  2.6979e-05     \t|1              \t|  2.6979e-05     \t|  0.00012278     \t|\n",
      "teardown                           \t|  1.9794e-05     \t|1              \t|  1.9794e-05     \t|  9.0084e-05     \t|\n",
      "on_configure_sharded_model         \t|  1.4564e-05     \t|1              \t|  1.4564e-05     \t|  6.6281e-05     \t|\n",
      "on_before_accelerator_backend_setup\t|  1.3052e-05     \t|1              \t|  1.3052e-05     \t|  5.9398e-05     \t|\n",
      "on_epoch_start                     \t|  9.1232e-06     \t|1              \t|  9.1232e-06     \t|  4.152e-05      \t|\n",
      "setup                              \t|  8.9649e-06     \t|1              \t|  8.9649e-06     \t|  4.08e-05       \t|\n",
      "on_test_epoch_start                \t|  8.028e-06      \t|1              \t|  8.028e-06      \t|  3.6536e-05     \t|\n",
      "configure_callbacks                \t|  5.9474e-06     \t|1              \t|  5.9474e-06     \t|  2.7067e-05     \t|\n",
      "on_test_dataloader                 \t|  5.6755e-06     \t|1              \t|  5.6755e-06     \t|  2.5829e-05     \t|\n",
      "configure_sharded_model            \t|  4.8634e-06     \t|1              \t|  4.8634e-06     \t|  2.2133e-05     \t|\n",
      "prepare_data                       \t|  3.9898e-06     \t|1              \t|  3.9898e-06     \t|  1.8158e-05     \t|\n",
      "\n"
     ]
    },
    {
     "name": "stdout",
     "output_type": "stream",
     "text": [
      "--------------------------------------------------------------------------------\n",
      "DATALOADER:0 TEST RESULTS\n",
      "{'test_loss': 0.08934661746025085,\n",
      " 'test_loss: mae_response': 0.12857602536678314,\n",
      " 'test_loss: mse': 3.003896951675415}\n",
      "--------------------------------------------------------------------------------\n"
     ]
    }
   ],
   "source": [
    "# equivalent to spatial\n",
    "\n",
    "import hydra\n",
    "from hydra.experimental import compose, initialize\n",
    "\n",
    "with initialize(config_path=\"../config\"):\n",
    "    cfg_from_terminal = compose(config_name=\"config\")\n",
    "    OmegaConf.update(cfg_from_terminal, \"model.kwargs.hidden_dimensions\", [256, 256])\n",
    "    OmegaConf.update(cfg_from_terminal, \"training.logger_name\", \"neighbors_large\")\n",
    "    OmegaConf.update(cfg_from_terminal, \"radius\", 0)\n",
    "    output = test(cfg_from_terminal)\n",
    "    trainer, l1_losses, inputs, gene_expressions, celltypes, test_results = output\n",
    "    excitatory_cells = (celltypes == 6).nonzero(as_tuple=True)[0]\n",
    "    MAE_excitatory = torch.abs(torch.index_select((gene_expressions-inputs)[excitatory_cells], 1, torch.tensor(response_indeces))).mean().item()"
   ]
  },
  {
   "cell_type": "code",
   "execution_count": 4,
   "id": "3f7d889e",
   "metadata": {},
   "outputs": [
    {
     "data": {
      "text/plain": [
       "0.15488235652446747"
      ]
     },
     "execution_count": 4,
     "metadata": {},
     "output_type": "execute_result"
    }
   ],
   "source": [
    "MAE_excitatory"
   ]
  },
  {
   "cell_type": "code",
   "execution_count": 3,
   "id": "b3980c72",
   "metadata": {},
   "outputs": [],
   "source": [
    "trainer, l1_losses, inputs, gene_expressions, celltypes, test_results = output"
   ]
  },
  {
   "cell_type": "code",
   "execution_count": 4,
   "id": "1e8279cb",
   "metadata": {},
   "outputs": [
    {
     "data": {
      "text/plain": [
       "0.33515501022338867"
      ]
     },
     "execution_count": 4,
     "metadata": {},
     "output_type": "execute_result"
    }
   ],
   "source": [
    "test_results[0]['test_loss: mae_response']"
   ]
  },
  {
   "cell_type": "code",
   "execution_count": 3,
   "id": "64905249",
   "metadata": {},
   "outputs": [
    {
     "name": "stderr",
     "output_type": "stream",
     "text": [
      "/home/roko/.cache/pypoetry/virtualenvs/spatial-G_n0JvVf-py3.8/lib/python3.8/site-packages/hydra/experimental/initialize.py:35: UserWarning: hydra.experimental.initialize() is no longer experimental. Use hydra.initialize()\n",
      "  deprecation_warning(\n",
      "/home/roko/.cache/pypoetry/virtualenvs/spatial-G_n0JvVf-py3.8/lib/python3.8/site-packages/hydra/experimental/compose.py:18: UserWarning: hydra.experimental.compose() is no longer experimental. Use hydra.compose()\n",
      "  deprecation_warning(\n",
      "/home/roko/.cache/pypoetry/virtualenvs/spatial-G_n0JvVf-py3.8/lib/python3.8/site-packages/hydra/_internal/defaults_list.py:251: UserWarning: In 'config': Defaults list is missing `_self_`. See https://hydra.cc/docs/upgrades/1.0_to_1.1/default_composition_order for more information\n",
      "  warnings.warn(msg, UserWarning)\n",
      "/home/roko/.cache/pypoetry/virtualenvs/spatial-G_n0JvVf-py3.8/lib/python3.8/site-packages/hydra/core/default_element.py:122: UserWarning: In 'predict/default': Usage of deprecated keyword in package header '# @package _group_'.\n",
      "See https://hydra.cc/docs/next/upgrades/1.0_to_1.1/changes_to_package_header for more information\n",
      "  deprecation_warning(\n",
      "/home/roko/.cache/pypoetry/virtualenvs/spatial-G_n0JvVf-py3.8/lib/python3.8/site-packages/hydra/core/default_element.py:122: UserWarning: In 'training/default': Usage of deprecated keyword in package header '# @package _group_'.\n",
      "See https://hydra.cc/docs/next/upgrades/1.0_to_1.1/changes_to_package_header for more information\n",
      "  deprecation_warning(\n",
      "/home/roko/.cache/pypoetry/virtualenvs/spatial-G_n0JvVf-py3.8/lib/python3.8/site-packages/hydra/core/default_element.py:122: UserWarning: In 'model/MonetAutoencoder2D': Usage of deprecated keyword in package header '# @package _group_'.\n",
      "See https://hydra.cc/docs/next/upgrades/1.0_to_1.1/changes_to_package_header for more information\n",
      "  deprecation_warning(\n",
      "/home/roko/.cache/pypoetry/virtualenvs/spatial-G_n0JvVf-py3.8/lib/python3.8/site-packages/hydra/core/default_element.py:122: UserWarning: In 'datasets/FilteredMerfishDataset': Usage of deprecated keyword in package header '# @package _group_'.\n",
      "See https://hydra.cc/docs/next/upgrades/1.0_to_1.1/changes_to_package_header for more information\n",
      "  deprecation_warning(\n",
      "/home/roko/.cache/pypoetry/virtualenvs/spatial-G_n0JvVf-py3.8/lib/python3.8/site-packages/hydra/core/default_element.py:122: UserWarning: In 'optimizer/sgd': Usage of deprecated keyword in package header '# @package _group_'.\n",
      "See https://hydra.cc/docs/next/upgrades/1.0_to_1.1/changes_to_package_header for more information\n",
      "  deprecation_warning(\n"
     ]
    },
    {
     "name": "stdout",
     "output_type": "stream",
     "text": [
      "Original Data (1027848, 170)\n",
      "Filtered Data (205348, 170)\n",
      "/home/roko/spatial/data/raw/merfish_messi.hdf5\n"
     ]
    },
    {
     "name": "stderr",
     "output_type": "stream",
     "text": [
      "/home/roko/.cache/pypoetry/virtualenvs/spatial-G_n0JvVf-py3.8/lib/python3.8/site-packages/pytorch_lightning/trainer/connectors/accelerator_connector.py:286: LightningDeprecationWarning: Passing `Trainer(accelerator='dp')` has been deprecated in v1.5 and will be removed in v1.7. Use `Trainer(strategy='dp')` instead.\n",
      "  rank_zero_deprecation(\n",
      "/home/roko/.cache/pypoetry/virtualenvs/spatial-G_n0JvVf-py3.8/lib/python3.8/site-packages/pytorch_lightning/trainer/connectors/callback_connector.py:147: LightningDeprecationWarning: Setting `Trainer(checkpoint_callback=True)` is deprecated in v1.5 and will be removed in v1.7. Please consider using `Trainer(enable_checkpointing=True)`.\n",
      "  rank_zero_deprecation(\n",
      "GPU available: True, used: True\n",
      "TPU available: False, using: 0 TPU cores\n",
      "IPU available: False, using: 0 IPUs\n",
      "LOCAL_RANK: 0 - CUDA_VISIBLE_DEVICES: [0,1,2,3,4,5,6,7]\n",
      "/home/roko/.cache/pypoetry/virtualenvs/spatial-G_n0JvVf-py3.8/lib/python3.8/site-packages/pytorch_lightning/trainer/data_loading.py:132: UserWarning: The dataloader, test_dataloader 0, does not have many workers which may be a bottleneck. Consider increasing the value of the `num_workers` argument` (try 64 which is the number of cpus on this machine) in the `DataLoader` init to improve performance.\n",
      "  rank_zero_warn(\n"
     ]
    },
    {
     "data": {
      "application/vnd.jupyter.widget-view+json": {
       "model_id": "131e583f31c246b2ac657427f45d1538",
       "version_major": 2,
       "version_minor": 0
      },
      "text/plain": [
       "Testing: 0it [00:00, ?it/s]"
      ]
     },
     "metadata": {},
     "output_type": "display_data"
    },
    {
     "name": "stderr",
     "output_type": "stream",
     "text": [
      "/home/roko/.cache/pypoetry/virtualenvs/spatial-G_n0JvVf-py3.8/lib/python3.8/site-packages/pytorch_lightning/overrides/data_parallel.py:97: UserWarning: Could not determine on which device the inputs are. When using DataParallel (strategy='dp'), be aware that in case you are using self.device in your code, it will reference only the root device.\n",
      "  rank_zero_warn(\n",
      "TEST Profiler Report\n",
      "\n",
      "Action                             \t|  Mean duration (s)\t|Num calls      \t|  Total time (s) \t|  Percentage %   \t|\n",
      "---------------------------------------------------------------------------------------------------------------------------------------\n",
      "Total                              \t|  -              \t|_              \t|  8.7991         \t|  100 %          \t|\n",
      "---------------------------------------------------------------------------------------------------------------------------------------\n",
      "run_test_evaluation                \t|  8.7592         \t|1              \t|  8.7592         \t|  99.547         \t|\n",
      "evaluation_step_and_end            \t|  0.57904        \t|12             \t|  6.9484         \t|  78.968         \t|\n",
      "test_step                          \t|  0.56331        \t|12             \t|  6.7597         \t|  76.823         \t|\n",
      "get_test_batch                     \t|  0.093008       \t|13             \t|  1.2091         \t|  13.741         \t|\n",
      "fetch_next_test_batch              \t|  0.092963       \t|13             \t|  1.2085         \t|  13.735         \t|\n",
      "on_test_batch_end                  \t|  0.020088       \t|12             \t|  0.24106        \t|  2.7396         \t|\n",
      "test_step_end                      \t|  0.015555       \t|12             \t|  0.18666        \t|  2.1214         \t|\n",
      "evaluation_batch_to_device         \t|  0.010506       \t|12             \t|  0.12608        \t|  1.4328         \t|\n",
      "on_test_start                      \t|  0.016413       \t|1              \t|  0.016413       \t|  0.18653        \t|\n",
      "on_test_end                        \t|  0.0013561      \t|1              \t|  0.0013561      \t|  0.015412       \t|\n",
      "on_test_batch_start                \t|  4.6637e-05     \t|12             \t|  0.00055964     \t|  0.0063602      \t|\n",
      "on_test_epoch_end                  \t|  0.00010749     \t|1              \t|  0.00010749     \t|  0.0012216      \t|\n",
      "on_test_model_eval                 \t|  9.4815e-05     \t|1              \t|  9.4815e-05     \t|  0.0010776      \t|\n",
      "on_before_accelerator_backend_setup\t|  4.8686e-05     \t|1              \t|  4.8686e-05     \t|  0.00055331     \t|\n",
      "on_epoch_end                       \t|  4.6168e-05     \t|1              \t|  4.6168e-05     \t|  0.00052469     \t|\n",
      "teardown                           \t|  2.8301e-05     \t|1              \t|  2.8301e-05     \t|  0.00032164     \t|\n",
      "on_epoch_start                     \t|  2.0557e-05     \t|1              \t|  2.0557e-05     \t|  0.00023363     \t|\n",
      "on_configure_sharded_model         \t|  1.7663e-05     \t|1              \t|  1.7663e-05     \t|  0.00020074     \t|\n",
      "on_test_epoch_start                \t|  1.6086e-05     \t|1              \t|  1.6086e-05     \t|  0.00018281     \t|\n",
      "setup                              \t|  1.0656e-05     \t|1              \t|  1.0656e-05     \t|  0.0001211      \t|\n",
      "configure_callbacks                \t|  9.3089e-06     \t|1              \t|  9.3089e-06     \t|  0.00010579     \t|\n",
      "configure_sharded_model            \t|  5.277e-06      \t|1              \t|  5.277e-06      \t|  5.9972e-05     \t|\n",
      "on_test_dataloader                 \t|  4.8451e-06     \t|1              \t|  4.8451e-06     \t|  5.5064e-05     \t|\n",
      "prepare_data                       \t|  3.785e-06      \t|1              \t|  3.785e-06      \t|  4.3016e-05     \t|\n",
      "\n"
     ]
    },
    {
     "name": "stdout",
     "output_type": "stream",
     "text": [
      "--------------------------------------------------------------------------------\n",
      "DATALOADER:0 TEST RESULTS\n",
      "{'test_loss': 0.19637224078178406,\n",
      " 'test_loss: mae_response': 0.29283836483955383,\n",
      " 'test_loss: mse': 0.1893213391304016}\n",
      "--------------------------------------------------------------------------------\n"
     ]
    }
   ],
   "source": [
    "# equivalent to spatial\n",
    "\n",
    "import hydra\n",
    "from hydra.experimental import compose, initialize\n",
    "\n",
    "with initialize(config_path=\"../config\"):\n",
    "    cfg_from_terminal = compose(config_name=\"config\")\n",
    "    output = test(cfg_from_terminal)"
   ]
  },
  {
   "cell_type": "markdown",
   "id": "8d50ae0d",
   "metadata": {},
   "source": [
    "# Testing Models with Updates"
   ]
  },
  {
   "cell_type": "code",
   "execution_count": 55,
   "id": "piano-crisis",
   "metadata": {
    "scrolled": true
   },
   "outputs": [
    {
     "name": "stderr",
     "output_type": "stream",
     "text": [
      "/home/roko/.cache/pypoetry/virtualenvs/spatial-G_n0JvVf-py3.8/lib/python3.8/site-packages/hydra/experimental/initialize.py:35: UserWarning: hydra.experimental.initialize() is no longer experimental. Use hydra.initialize()\n",
      "  deprecation_warning(\n",
      "/home/roko/.cache/pypoetry/virtualenvs/spatial-G_n0JvVf-py3.8/lib/python3.8/site-packages/hydra/experimental/compose.py:18: UserWarning: hydra.experimental.compose() is no longer experimental. Use hydra.compose()\n",
      "  deprecation_warning(\n",
      "/home/roko/.cache/pypoetry/virtualenvs/spatial-G_n0JvVf-py3.8/lib/python3.8/site-packages/hydra/_internal/defaults_list.py:251: UserWarning: In 'config': Defaults list is missing `_self_`. See https://hydra.cc/docs/upgrades/1.0_to_1.1/default_composition_order for more information\n",
      "  warnings.warn(msg, UserWarning)\n",
      "/home/roko/.cache/pypoetry/virtualenvs/spatial-G_n0JvVf-py3.8/lib/python3.8/site-packages/hydra/core/default_element.py:122: UserWarning: In 'predict/default': Usage of deprecated keyword in package header '# @package _group_'.\n",
      "See https://hydra.cc/docs/next/upgrades/1.0_to_1.1/changes_to_package_header for more information\n",
      "  deprecation_warning(\n",
      "/home/roko/.cache/pypoetry/virtualenvs/spatial-G_n0JvVf-py3.8/lib/python3.8/site-packages/hydra/core/default_element.py:122: UserWarning: In 'training/default': Usage of deprecated keyword in package header '# @package _group_'.\n",
      "See https://hydra.cc/docs/next/upgrades/1.0_to_1.1/changes_to_package_header for more information\n",
      "  deprecation_warning(\n",
      "/home/roko/.cache/pypoetry/virtualenvs/spatial-G_n0JvVf-py3.8/lib/python3.8/site-packages/hydra/core/default_element.py:122: UserWarning: In 'model/MonetAutoencoder2D': Usage of deprecated keyword in package header '# @package _group_'.\n",
      "See https://hydra.cc/docs/next/upgrades/1.0_to_1.1/changes_to_package_header for more information\n",
      "  deprecation_warning(\n",
      "/home/roko/.cache/pypoetry/virtualenvs/spatial-G_n0JvVf-py3.8/lib/python3.8/site-packages/hydra/core/default_element.py:122: UserWarning: In 'datasets/FilteredMerfishDataset': Usage of deprecated keyword in package header '# @package _group_'.\n",
      "See https://hydra.cc/docs/next/upgrades/1.0_to_1.1/changes_to_package_header for more information\n",
      "  deprecation_warning(\n",
      "/home/roko/.cache/pypoetry/virtualenvs/spatial-G_n0JvVf-py3.8/lib/python3.8/site-packages/hydra/core/default_element.py:122: UserWarning: In 'optimizer/sgd': Usage of deprecated keyword in package header '# @package _group_'.\n",
      "See https://hydra.cc/docs/next/upgrades/1.0_to_1.1/changes_to_package_header for more information\n",
      "  deprecation_warning(\n"
     ]
    },
    {
     "name": "stdout",
     "output_type": "stream",
     "text": [
      "Original Data (1027848, 170)\n",
      "Filtered Data (86902, 170)\n",
      "/home/roko/spatial/data/raw/merfish_messi.hdf5\n"
     ]
    },
    {
     "name": "stderr",
     "output_type": "stream",
     "text": [
      "/home/roko/.cache/pypoetry/virtualenvs/spatial-G_n0JvVf-py3.8/lib/python3.8/site-packages/pytorch_lightning/utilities/distributed.py:50: UserWarning: Checkpoint directory /home/roko/spatial//output/lightning_logs/checkpoints/MonetAutoencoder2D exists and is not empty.\n",
      "  warnings.warn(*args, **kwargs)\n",
      "GPU available: True, used: True\n",
      "TPU available: None, using: 0 TPU cores\n",
      "/home/roko/.cache/pypoetry/virtualenvs/spatial-G_n0JvVf-py3.8/lib/python3.8/site-packages/pytorch_lightning/utilities/distributed.py:50: UserWarning: The dataloader, test dataloader 0, does not have many workers which may be a bottleneck. Consider increasing the value of the `num_workers` argument` (try 64 which is the number of cpus on this machine) in the `DataLoader` init to improve performance.\n",
      "  warnings.warn(*args, **kwargs)\n"
     ]
    },
    {
     "data": {
      "application/vnd.jupyter.widget-view+json": {
       "model_id": "e88bdf83649e427d802471c91563528f",
       "version_major": 2,
       "version_minor": 0
      },
      "text/plain": [
       "Testing: 0it [00:00, ?it/s]"
      ]
     },
     "metadata": {},
     "output_type": "display_data"
    },
    {
     "name": "stdout",
     "output_type": "stream",
     "text": [
      "--------------------------------------------------------------------------------\n",
      "DATALOADER:0 TEST RESULTS\n",
      "{'test_loss': 0.2307247370481491,\n",
      " 'test_loss: mae_response': 0.36967429518699646,\n",
      " 'test_loss: mse': 0.2517955005168915}\n",
      "--------------------------------------------------------------------------------\n"
     ]
    }
   ],
   "source": [
    "# equivalent to spatial\n",
    "\n",
    "import hydra\n",
    "from hydra.experimental import compose, initialize\n",
    "\n",
    "with initialize(config_path=\"../config\"):\n",
    "    cfg_from_terminal = compose(config_name=\"config\")\n",
    "    # update the behavior to get the model of interest\n",
    "    OmegaConf.update(cfg_from_terminal, \"datasets.dataset.behaviors\", [\"Parenting\"])\n",
    "    output = test(cfg_from_terminal)"
   ]
  },
  {
   "cell_type": "code",
   "execution_count": 56,
   "id": "opening-james",
   "metadata": {},
   "outputs": [],
   "source": [
    "trainer, l1_losses, inputs, gene_expressions, celltypes, test_results = output"
   ]
  },
  {
   "cell_type": "code",
   "execution_count": 57,
   "id": "joint-catalyst",
   "metadata": {},
   "outputs": [],
   "source": [
    "with open('../spatial/non_response.txt', \"r\") as genes_file:\n",
    "    features = [int(x) for x in genes_file.read().split(\",\")]\n",
    "    response_indeces = torch.tensor(list(set(range(160)) - set(features)))\n",
    "    genes_file.close()"
   ]
  },
  {
   "cell_type": "code",
   "execution_count": 58,
   "id": "critical-minority",
   "metadata": {},
   "outputs": [],
   "source": [
    "excitatory_cells = (celltypes == 6).nonzero(as_tuple=True)[0]"
   ]
  },
  {
   "cell_type": "code",
   "execution_count": 59,
   "id": "blessed-voluntary",
   "metadata": {},
   "outputs": [
    {
     "data": {
      "text/plain": [
       "tensor(0.4182)"
      ]
     },
     "execution_count": 59,
     "metadata": {},
     "output_type": "execute_result"
    }
   ],
   "source": [
    "import torch\n",
    "\n",
    "loss = torch.nn.L1Loss()\n",
    "loss(torch.index_select(inputs[excitatory_cells], 1, response_indeces), torch.index_select(gene_expressions[excitatory_cells], 1, response_indeces))"
   ]
  },
  {
   "cell_type": "code",
   "execution_count": 60,
   "id": "destroyed-volunteer",
   "metadata": {},
   "outputs": [
    {
     "name": "stderr",
     "output_type": "stream",
     "text": [
      "/home/roko/.cache/pypoetry/virtualenvs/spatial-G_n0JvVf-py3.8/lib/python3.8/site-packages/hydra/experimental/initialize.py:35: UserWarning: hydra.experimental.initialize() is no longer experimental. Use hydra.initialize()\n",
      "  deprecation_warning(\n",
      "/home/roko/.cache/pypoetry/virtualenvs/spatial-G_n0JvVf-py3.8/lib/python3.8/site-packages/hydra/experimental/compose.py:18: UserWarning: hydra.experimental.compose() is no longer experimental. Use hydra.compose()\n",
      "  deprecation_warning(\n",
      "/home/roko/.cache/pypoetry/virtualenvs/spatial-G_n0JvVf-py3.8/lib/python3.8/site-packages/hydra/_internal/defaults_list.py:251: UserWarning: In 'config': Defaults list is missing `_self_`. See https://hydra.cc/docs/upgrades/1.0_to_1.1/default_composition_order for more information\n",
      "  warnings.warn(msg, UserWarning)\n",
      "/home/roko/.cache/pypoetry/virtualenvs/spatial-G_n0JvVf-py3.8/lib/python3.8/site-packages/hydra/core/default_element.py:122: UserWarning: In 'predict/default': Usage of deprecated keyword in package header '# @package _group_'.\n",
      "See https://hydra.cc/docs/next/upgrades/1.0_to_1.1/changes_to_package_header for more information\n",
      "  deprecation_warning(\n",
      "/home/roko/.cache/pypoetry/virtualenvs/spatial-G_n0JvVf-py3.8/lib/python3.8/site-packages/hydra/core/default_element.py:122: UserWarning: In 'training/default': Usage of deprecated keyword in package header '# @package _group_'.\n",
      "See https://hydra.cc/docs/next/upgrades/1.0_to_1.1/changes_to_package_header for more information\n",
      "  deprecation_warning(\n",
      "/home/roko/.cache/pypoetry/virtualenvs/spatial-G_n0JvVf-py3.8/lib/python3.8/site-packages/hydra/core/default_element.py:122: UserWarning: In 'model/MonetAutoencoder2D': Usage of deprecated keyword in package header '# @package _group_'.\n",
      "See https://hydra.cc/docs/next/upgrades/1.0_to_1.1/changes_to_package_header for more information\n",
      "  deprecation_warning(\n",
      "/home/roko/.cache/pypoetry/virtualenvs/spatial-G_n0JvVf-py3.8/lib/python3.8/site-packages/hydra/core/default_element.py:122: UserWarning: In 'datasets/FilteredMerfishDataset': Usage of deprecated keyword in package header '# @package _group_'.\n",
      "See https://hydra.cc/docs/next/upgrades/1.0_to_1.1/changes_to_package_header for more information\n",
      "  deprecation_warning(\n",
      "/home/roko/.cache/pypoetry/virtualenvs/spatial-G_n0JvVf-py3.8/lib/python3.8/site-packages/hydra/core/default_element.py:122: UserWarning: In 'optimizer/sgd': Usage of deprecated keyword in package header '# @package _group_'.\n",
      "See https://hydra.cc/docs/next/upgrades/1.0_to_1.1/changes_to_package_header for more information\n",
      "  deprecation_warning(\n"
     ]
    },
    {
     "name": "stdout",
     "output_type": "stream",
     "text": [
      "Original Data (1027848, 170)\n",
      "Filtered Data (109105, 170)\n",
      "/home/roko/spatial/data/raw/merfish_messi.hdf5\n"
     ]
    },
    {
     "name": "stderr",
     "output_type": "stream",
     "text": [
      "/home/roko/.cache/pypoetry/virtualenvs/spatial-G_n0JvVf-py3.8/lib/python3.8/site-packages/pytorch_lightning/utilities/distributed.py:50: UserWarning: Checkpoint directory /home/roko/spatial//output/lightning_logs/checkpoints/MonetAutoencoder2D exists and is not empty.\n",
      "  warnings.warn(*args, **kwargs)\n",
      "GPU available: True, used: True\n",
      "TPU available: None, using: 0 TPU cores\n",
      "/home/roko/.cache/pypoetry/virtualenvs/spatial-G_n0JvVf-py3.8/lib/python3.8/site-packages/pytorch_lightning/utilities/distributed.py:50: UserWarning: The dataloader, test dataloader 0, does not have many workers which may be a bottleneck. Consider increasing the value of the `num_workers` argument` (try 64 which is the number of cpus on this machine) in the `DataLoader` init to improve performance.\n",
      "  warnings.warn(*args, **kwargs)\n"
     ]
    },
    {
     "data": {
      "application/vnd.jupyter.widget-view+json": {
       "model_id": "1c5fc1a68a614f20859a82d0b9721172",
       "version_major": 2,
       "version_minor": 0
      },
      "text/plain": [
       "Testing: 0it [00:00, ?it/s]"
      ]
     },
     "metadata": {},
     "output_type": "display_data"
    },
    {
     "name": "stdout",
     "output_type": "stream",
     "text": [
      "--------------------------------------------------------------------------------\n",
      "DATALOADER:0 TEST RESULTS\n",
      "{'test_loss': 0.22909943759441376,\n",
      " 'test_loss: mae_response': 0.3661682903766632,\n",
      " 'test_loss: mse': 0.23969760537147522}\n",
      "--------------------------------------------------------------------------------\n"
     ]
    }
   ],
   "source": [
    "# equivalent to spatial\n",
    "\n",
    "import hydra\n",
    "from hydra.experimental import compose, initialize\n",
    "\n",
    "with initialize(config_path=\"../config\"):\n",
    "    cfg_from_terminal = compose(config_name=\"config\")\n",
    "    # update the behavior to get the model of interest\n",
    "    OmegaConf.update(cfg_from_terminal, \"datasets.dataset.behaviors\", [\"Virgin Parenting\"])\n",
    "    output = test(cfg_from_terminal)"
   ]
  },
  {
   "cell_type": "code",
   "execution_count": 61,
   "id": "becoming-audit",
   "metadata": {},
   "outputs": [],
   "source": [
    "trainer, l1_losses, inputs, gene_expressions, celltypes, test_results = output"
   ]
  },
  {
   "cell_type": "code",
   "execution_count": 62,
   "id": "eleven-guarantee",
   "metadata": {},
   "outputs": [],
   "source": [
    "excitatory_cells = (celltypes == 6).nonzero(as_tuple=True)[0]"
   ]
  },
  {
   "cell_type": "code",
   "execution_count": 63,
   "id": "welsh-michael",
   "metadata": {},
   "outputs": [
    {
     "data": {
      "text/plain": [
       "tensor(0.4185)"
      ]
     },
     "execution_count": 63,
     "metadata": {},
     "output_type": "execute_result"
    }
   ],
   "source": [
    "import torch\n",
    "\n",
    "loss = torch.nn.L1Loss()\n",
    "loss(torch.index_select(inputs[excitatory_cells], 1, response_indeces), torch.index_select(gene_expressions[excitatory_cells], 1, response_indeces))"
   ]
  },
  {
   "cell_type": "code",
   "execution_count": 64,
   "id": "intensive-berlin",
   "metadata": {},
   "outputs": [
    {
     "name": "stderr",
     "output_type": "stream",
     "text": [
      "/home/roko/.cache/pypoetry/virtualenvs/spatial-G_n0JvVf-py3.8/lib/python3.8/site-packages/hydra/experimental/initialize.py:35: UserWarning: hydra.experimental.initialize() is no longer experimental. Use hydra.initialize()\n",
      "  deprecation_warning(\n",
      "/home/roko/.cache/pypoetry/virtualenvs/spatial-G_n0JvVf-py3.8/lib/python3.8/site-packages/hydra/experimental/compose.py:18: UserWarning: hydra.experimental.compose() is no longer experimental. Use hydra.compose()\n",
      "  deprecation_warning(\n",
      "/home/roko/.cache/pypoetry/virtualenvs/spatial-G_n0JvVf-py3.8/lib/python3.8/site-packages/hydra/_internal/defaults_list.py:251: UserWarning: In 'config': Defaults list is missing `_self_`. See https://hydra.cc/docs/upgrades/1.0_to_1.1/default_composition_order for more information\n",
      "  warnings.warn(msg, UserWarning)\n",
      "/home/roko/.cache/pypoetry/virtualenvs/spatial-G_n0JvVf-py3.8/lib/python3.8/site-packages/hydra/core/default_element.py:122: UserWarning: In 'predict/default': Usage of deprecated keyword in package header '# @package _group_'.\n",
      "See https://hydra.cc/docs/next/upgrades/1.0_to_1.1/changes_to_package_header for more information\n",
      "  deprecation_warning(\n",
      "/home/roko/.cache/pypoetry/virtualenvs/spatial-G_n0JvVf-py3.8/lib/python3.8/site-packages/hydra/core/default_element.py:122: UserWarning: In 'training/default': Usage of deprecated keyword in package header '# @package _group_'.\n",
      "See https://hydra.cc/docs/next/upgrades/1.0_to_1.1/changes_to_package_header for more information\n",
      "  deprecation_warning(\n",
      "/home/roko/.cache/pypoetry/virtualenvs/spatial-G_n0JvVf-py3.8/lib/python3.8/site-packages/hydra/core/default_element.py:122: UserWarning: In 'model/MonetAutoencoder2D': Usage of deprecated keyword in package header '# @package _group_'.\n",
      "See https://hydra.cc/docs/next/upgrades/1.0_to_1.1/changes_to_package_header for more information\n",
      "  deprecation_warning(\n",
      "/home/roko/.cache/pypoetry/virtualenvs/spatial-G_n0JvVf-py3.8/lib/python3.8/site-packages/hydra/core/default_element.py:122: UserWarning: In 'datasets/FilteredMerfishDataset': Usage of deprecated keyword in package header '# @package _group_'.\n",
      "See https://hydra.cc/docs/next/upgrades/1.0_to_1.1/changes_to_package_header for more information\n",
      "  deprecation_warning(\n",
      "/home/roko/.cache/pypoetry/virtualenvs/spatial-G_n0JvVf-py3.8/lib/python3.8/site-packages/hydra/core/default_element.py:122: UserWarning: In 'optimizer/sgd': Usage of deprecated keyword in package header '# @package _group_'.\n",
      "See https://hydra.cc/docs/next/upgrades/1.0_to_1.1/changes_to_package_header for more information\n",
      "  deprecation_warning(\n"
     ]
    },
    {
     "name": "stdout",
     "output_type": "stream",
     "text": [
      "Original Data (1027848, 170)\n",
      "Filtered Data (205348, 170)\n",
      "/home/roko/spatial/data/raw/merfish_messi.hdf5\n"
     ]
    },
    {
     "name": "stderr",
     "output_type": "stream",
     "text": [
      "/home/roko/.cache/pypoetry/virtualenvs/spatial-G_n0JvVf-py3.8/lib/python3.8/site-packages/pytorch_lightning/utilities/distributed.py:50: UserWarning: Checkpoint directory /home/roko/spatial//output/lightning_logs/checkpoints/MonetAutoencoder2D exists and is not empty.\n",
      "  warnings.warn(*args, **kwargs)\n",
      "GPU available: True, used: True\n",
      "TPU available: None, using: 0 TPU cores\n",
      "/home/roko/.cache/pypoetry/virtualenvs/spatial-G_n0JvVf-py3.8/lib/python3.8/site-packages/pytorch_lightning/utilities/distributed.py:50: UserWarning: The dataloader, test dataloader 0, does not have many workers which may be a bottleneck. Consider increasing the value of the `num_workers` argument` (try 64 which is the number of cpus on this machine) in the `DataLoader` init to improve performance.\n",
      "  warnings.warn(*args, **kwargs)\n"
     ]
    },
    {
     "data": {
      "application/vnd.jupyter.widget-view+json": {
       "model_id": "823a64c61a3c4f2292450a37fd872090",
       "version_major": 2,
       "version_minor": 0
      },
      "text/plain": [
       "Testing: 0it [00:00, ?it/s]"
      ]
     },
     "metadata": {},
     "output_type": "display_data"
    },
    {
     "name": "stdout",
     "output_type": "stream",
     "text": [
      "--------------------------------------------------------------------------------\n",
      "DATALOADER:0 TEST RESULTS\n",
      "{'test_loss': 0.19866959750652313,\n",
      " 'test_loss: mae_response': 0.3151684105396271,\n",
      " 'test_loss: mse': 0.18607354164123535}\n",
      "--------------------------------------------------------------------------------\n"
     ]
    }
   ],
   "source": [
    "# equivalent to spatial\n",
    "\n",
    "import hydra\n",
    "from hydra.experimental import compose, initialize\n",
    "\n",
    "with initialize(config_path=\"../config\"):\n",
    "    cfg_from_terminal = compose(config_name=\"config\")\n",
    "    # update the behavior to get the model of interest\n",
    "    OmegaConf.update(cfg_from_terminal, \"datasets.dataset.behaviors\", [\"Naive\"])\n",
    "    output = test(cfg_from_terminal)"
   ]
  },
  {
   "cell_type": "code",
   "execution_count": 65,
   "id": "manual-filter",
   "metadata": {},
   "outputs": [],
   "source": [
    "trainer, l1_losses, inputs, gene_expressions, celltypes, test_results = output"
   ]
  },
  {
   "cell_type": "code",
   "execution_count": 66,
   "id": "gorgeous-atlantic",
   "metadata": {},
   "outputs": [],
   "source": [
    "excitatory_cells = (celltypes == 6).nonzero(as_tuple=True)[0]"
   ]
  },
  {
   "cell_type": "code",
   "execution_count": 67,
   "id": "choice-dispute",
   "metadata": {},
   "outputs": [
    {
     "data": {
      "text/plain": [
       "tensor(0.3570)"
      ]
     },
     "execution_count": 67,
     "metadata": {},
     "output_type": "execute_result"
    }
   ],
   "source": [
    "import torch\n",
    "\n",
    "loss = torch.nn.L1Loss()\n",
    "loss(torch.index_select(inputs[excitatory_cells], 1, response_indeces), torch.index_select(gene_expressions[excitatory_cells], 1, response_indeces))"
   ]
  }
 ],
 "metadata": {
  "kernelspec": {
   "display_name": "Python 3 (ipykernel)",
   "language": "python",
   "name": "python3"
  },
  "language_info": {
   "codemirror_mode": {
    "name": "ipython",
    "version": 3
   },
   "file_extension": ".py",
   "mimetype": "text/x-python",
   "name": "python",
   "nbconvert_exporter": "python",
   "pygments_lexer": "ipython3",
   "version": "3.8.10"
  }
 },
 "nbformat": 4,
 "nbformat_minor": 5
}
