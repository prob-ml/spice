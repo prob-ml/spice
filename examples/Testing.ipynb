{
 "cells": [
  {
   "cell_type": "code",
   "execution_count": 1,
   "id": "agreed-interaction",
   "metadata": {},
   "outputs": [],
   "source": [
    "import os\n",
    "import torch\n",
    "\n",
    "os.environ[\"MKL_NUM_THREADS\"]=\"1\"\n",
    "os.environ[\"NUMEXPR_NUM_THREADS\"]=\"1\"\n",
    "os.environ[\"OMP_NUM_THREADS\"]=\"1\"\n",
    "\n",
    "import sys\n",
    "\n",
    "import pytorch_lightning as pl\n",
    "from omegaconf import DictConfig, OmegaConf\n",
    "from pytorch_lightning.callbacks import ModelCheckpoint\n",
    "from pytorch_lightning.loggers import TensorBoardLogger\n",
    "from torch.utils.data import random_split\n",
    "from torch_geometric.data import DataLoader\n",
    "\n",
    "from spatial.merfish_dataset import FilteredMerfishDataset, MerfishDataset\n",
    "from spatial.models.monet_ae import MonetAutoencoder2D, TrivialAutoencoder, MonetDense\n",
    "from spatial.train import train\n",
    "from spatial.predict import test"
   ]
  },
  {
   "cell_type": "markdown",
   "id": "equipped-press",
   "metadata": {},
   "source": [
    "# Testing Any Model"
   ]
  },
  {
   "cell_type": "code",
   "execution_count": 2,
   "id": "7aa3c96e",
   "metadata": {},
   "outputs": [
    {
     "name": "stderr",
     "output_type": "stream",
     "text": [
      "/home/roko/.cache/pypoetry/virtualenvs/spatial-G_n0JvVf-py3.8/lib/python3.8/site-packages/openpyxl/worksheet/_reader.py:312: UserWarning: Unknown extension is not supported and will be removed\n",
      "  warn(msg)\n"
     ]
    },
    {
     "name": "stdout",
     "output_type": "stream",
     "text": [
      "['Cbln1', 'Cxcl14', 'Crhbp', 'Gabra1', 'Cbln2', 'Gpr165', 'Glra3', 'Gabrg1', 'Adora2a', 'Vgf', 'Scg2', 'Cartpt', 'Tac2', 'Bdnf', 'Bmp7', 'Cyr61', 'Fn1', 'Fst', 'Gad1', 'Ntng1', 'Pnoc', 'Selplg', 'Sema3c', 'Sema4d', 'Serpine1', 'Adcyap1', 'Cck', 'Crh', 'Gal', 'Gnrh1', 'Nts', 'Oxt', 'Penk', 'Sst', 'Tac1', 'Trh', 'Ucn3', 'Avpr1a', 'Avpr2', 'Brs3', 'Calcr', 'Cckar', 'Cckbr', 'Crhr1', 'Crhr2', 'Galr1', 'Galr2', 'Grpr', 'Htr2c', 'Igf1r', 'Igf2r', 'Kiss1r', 'Lepr', 'Lpar1', 'Mc4r', 'Npy1r', 'Npy2r', 'Ntsr1', 'Oprd1', 'Oprk1', 'Oprl1', 'Oxtr', 'Pdgfra', 'Prlr', 'Ramp3', 'Rxfp1', 'Slc17a7', 'Slc18a2', 'Tacr1', 'Tacr3', 'Trhr']\n",
      "There are 71 genes recognized as either ligands or receptors (including new ones).\n",
      "There are 0 blank genes.\n",
      "There are 84 genes that are treated as response variables.\n",
      "There are 31 ligands.\n",
      "There are 40 receptors.\n"
     ]
    }
   ],
   "source": [
    "# read in merfish dataset and get columns names\n",
    "import pandas as pd\n",
    "\n",
    "# get relevant data stuff\n",
    "df_file = pd.ExcelFile(\"~/spatial/data/messi.xlsx\")\n",
    "messi_df = pd.read_excel(df_file, \"All.Pairs\")\n",
    "merfish_df = pd.read_csv(\"~/spatial/data/raw/merfish.csv\")\n",
    "merfish_df = merfish_df.drop(['Blank_1', 'Blank_2', 'Blank_3', 'Blank_4', 'Blank_5', 'Fos'], axis=1)\n",
    "\n",
    "# these are the 13 ligands or receptors found in MESSI\n",
    "non_response_genes = ['Cbln1', 'Cxcl14', 'Crhbp', 'Gabra1', 'Cbln2', 'Gpr165', \n",
    "                      'Glra3', 'Gabrg1', 'Adora2a', 'Vgf', 'Scg2', 'Cartpt',\n",
    "                      'Tac2']\n",
    "# this list stores the control genes aka \"Blank_{int}\"\n",
    "blank_genes = []\n",
    "\n",
    "# we will populate all of the non-response genes as being in one or the other\n",
    "# the ones already filled in come from the existing 13 L/R genes above\n",
    "ligands = [\"Cbln1\", \"Cxcl14\", \"Cbln2\", \"Vgf\", \"Scg2\", \"Cartpt\", \"Tac2\"]\n",
    "receptors = [\"Crhbp\", \"Gabra1\", \"Gpr165\", \"Glra3\", \"Gabrg1\", \"Adora2a\"]\n",
    "\n",
    "# ligands and receptor indexes in MERFISH\n",
    "non_response_indeces = [list(merfish_df.columns).index(gene)-9 for gene in non_response_genes]\n",
    "ligand_indeces = [list(merfish_df.columns).index(gene)-9 for gene in ligands]\n",
    "receptor_indeces = [list(merfish_df.columns).index(gene)-9 for gene in receptors]\n",
    "all_pairs_columns = [\n",
    "    \"Ligand.ApprovedSymbol\",\n",
    "    \"Receptor.ApprovedSymbol\",\n",
    "]\n",
    "\n",
    "\n",
    "# for column name in the column names above\n",
    "for column in all_pairs_columns:\n",
    "    for gene in merfish_df.columns:\n",
    "        if (\n",
    "            gene.upper() in list(messi_df[column])\n",
    "            and gene.upper() not in non_response_genes\n",
    "        ):\n",
    "            non_response_genes.append(gene)\n",
    "            non_response_indeces.append(list(merfish_df.columns).index(gene)-9)\n",
    "            if column[0] == \"L\":\n",
    "                ligands.append(gene)\n",
    "                ligand_indeces.append(list(merfish_df.columns).index(gene)-9)\n",
    "            else:\n",
    "                receptors.append(gene)\n",
    "                receptor_indeces.append(list(merfish_df.columns).index(gene)-9)\n",
    "        if gene[:5] == \"Blank\" and gene not in blank_genes:\n",
    "            blank_genes.append(gene)\n",
    "            # non_response_indeces.append(list(merfish_df.columns).index(gene)-9)\n",
    "\n",
    "print(non_response_genes)\n",
    "print(\n",
    "    \"There are \"\n",
    "    + str(len(non_response_genes))\n",
    "    + \" genes recognized as either ligands or receptors (including new ones).\"\n",
    ")\n",
    "\n",
    "print(\n",
    "    \"There are \"\n",
    "    + str(len(blank_genes))\n",
    "    + \" blank genes.\"\n",
    ")\n",
    "\n",
    "print(\n",
    "    \"There are \"\n",
    "    + str(155 - len(blank_genes) - len(non_response_genes))\n",
    "    + \" genes that are treated as response variables.\"\n",
    ")\n",
    "\n",
    "print(\n",
    "    \"There are \"\n",
    "    + str(len(ligands))\n",
    "    + \" ligands.\"\n",
    ")\n",
    "\n",
    "print(\n",
    "    \"There are \"\n",
    "    + str(len(receptors))\n",
    "    + \" receptors.\"\n",
    ")\n",
    "\n",
    "response_indeces = list(set(range(155)) - set(non_response_indeces))"
   ]
  },
  {
   "cell_type": "code",
   "execution_count": 8,
   "id": "cdb16277",
   "metadata": {},
   "outputs": [
    {
     "name": "stderr",
     "output_type": "stream",
     "text": [
      "/home/roko/.cache/pypoetry/virtualenvs/spatial-G_n0JvVf-py3.8/lib/python3.8/site-packages/hydra/experimental/initialize.py:35: UserWarning: hydra.experimental.initialize() is no longer experimental. Use hydra.initialize()\n",
      "  deprecation_warning(\n",
      "/home/roko/.cache/pypoetry/virtualenvs/spatial-G_n0JvVf-py3.8/lib/python3.8/site-packages/hydra/experimental/compose.py:18: UserWarning: hydra.experimental.compose() is no longer experimental. Use hydra.compose()\n",
      "  deprecation_warning(\n"
     ]
    },
    {
     "name": "stdout",
     "output_type": "stream",
     "text": [
      "Filtered Data (205348, 170)\n",
      "/home/roko/spatial/data/raw/merfish_messi.hdf5\n"
     ]
    },
    {
     "name": "stderr",
     "output_type": "stream",
     "text": [
      "GPU available: True, used: True\n",
      "TPU available: False, using: 0 TPU cores\n",
      "IPU available: False, using: 0 IPUs\n",
      "LOCAL_RANK: 0 - CUDA_VISIBLE_DEVICES: [0,1,2,3,4,5,6,7]\n",
      "/home/roko/.cache/pypoetry/virtualenvs/spatial-G_n0JvVf-py3.8/lib/python3.8/site-packages/pytorch_lightning/trainer/data_loading.py:132: UserWarning: The dataloader, test_dataloader 0, does not have many workers which may be a bottleneck. Consider increasing the value of the `num_workers` argument` (try 64 which is the number of cpus on this machine) in the `DataLoader` init to improve performance.\n",
      "  rank_zero_warn(\n"
     ]
    },
    {
     "data": {
      "application/vnd.jupyter.widget-view+json": {
       "model_id": "9581fa2b4ba74b649ceec37e4b4274c0",
       "version_major": 2,
       "version_minor": 0
      },
      "text/plain": [
       "Testing: 0it [00:00, ?it/s]"
      ]
     },
     "metadata": {},
     "output_type": "display_data"
    },
    {
     "name": "stderr",
     "output_type": "stream",
     "text": [
      "TEST Profiler Report\n",
      "\n",
      "Action                             \t|  Mean duration (s)\t|Num calls      \t|  Total time (s) \t|  Percentage %   \t|\n",
      "---------------------------------------------------------------------------------------------------------------------------------------\n",
      "Total                              \t|  -              \t|_              \t|  15.058         \t|  100 %          \t|\n",
      "---------------------------------------------------------------------------------------------------------------------------------------\n",
      "run_test_evaluation                \t|  15.015         \t|1              \t|  15.015         \t|  99.718         \t|\n",
      "evaluation_step_and_end            \t|  0.25053        \t|48             \t|  12.026         \t|  79.864         \t|\n",
      "test_step                          \t|  0.25039        \t|48             \t|  12.019         \t|  79.818         \t|\n",
      "get_test_batch                     \t|  0.034004       \t|49             \t|  1.6662         \t|  11.065         \t|\n",
      "fetch_next_test_batch              \t|  0.033959       \t|49             \t|  1.664          \t|  11.051         \t|\n",
      "on_test_batch_end                  \t|  0.018001       \t|48             \t|  0.86406        \t|  5.7383         \t|\n",
      "evaluation_batch_to_device         \t|  0.0034381      \t|48             \t|  0.16503        \t|  1.096          \t|\n",
      "on_test_start                      \t|  0.016897       \t|1              \t|  0.016897       \t|  0.11222        \t|\n",
      "on_test_end                        \t|  0.0018618      \t|1              \t|  0.0018618      \t|  0.012365       \t|\n",
      "on_test_batch_start                \t|  3.066e-05      \t|48             \t|  0.0014717      \t|  0.0097736      \t|\n",
      "test_step_end                      \t|  1.3801e-05     \t|48             \t|  0.00066245     \t|  0.0043994      \t|\n",
      "on_test_epoch_end                  \t|  8.0967e-05     \t|1              \t|  8.0967e-05     \t|  0.00053772     \t|\n",
      "on_test_model_eval                 \t|  4.7227e-05     \t|1              \t|  4.7227e-05     \t|  0.00031364     \t|\n",
      "teardown                           \t|  2.6634e-05     \t|1              \t|  2.6634e-05     \t|  0.00017688     \t|\n",
      "on_epoch_end                       \t|  2.2877e-05     \t|1              \t|  2.2877e-05     \t|  0.00015193     \t|\n",
      "on_configure_sharded_model         \t|  1.5207e-05     \t|1              \t|  1.5207e-05     \t|  0.00010099     \t|\n",
      "on_epoch_start                     \t|  1.2513e-05     \t|1              \t|  1.2513e-05     \t|  8.3103e-05     \t|\n",
      "on_before_accelerator_backend_setup\t|  1.182e-05      \t|1              \t|  1.182e-05      \t|  7.8501e-05     \t|\n",
      "on_test_epoch_start                \t|  9.615e-06      \t|1              \t|  9.615e-06      \t|  6.3855e-05     \t|\n",
      "setup                              \t|  9.3561e-06     \t|1              \t|  9.3561e-06     \t|  6.2135e-05     \t|\n",
      "configure_callbacks                \t|  8.963e-06      \t|1              \t|  8.963e-06      \t|  5.9525e-05     \t|\n",
      "on_test_dataloader                 \t|  5.5768e-06     \t|1              \t|  5.5768e-06     \t|  3.7036e-05     \t|\n",
      "configure_sharded_model            \t|  4.4126e-06     \t|1              \t|  4.4126e-06     \t|  2.9305e-05     \t|\n",
      "prepare_data                       \t|  3.6489e-06     \t|1              \t|  3.6489e-06     \t|  2.4233e-05     \t|\n",
      "\n"
     ]
    },
    {
     "name": "stdout",
     "output_type": "stream",
     "text": [
      "--------------------------------------------------------------------------------\n",
      "DATALOADER:0 TEST RESULTS\n",
      "{'test_loss': 0.33348438143730164, 'test_loss: mse': 0.3517409563064575}\n",
      "--------------------------------------------------------------------------------\n"
     ]
    },
    {
     "name": "stderr",
     "output_type": "stream",
     "text": [
      "/home/roko/.cache/pypoetry/virtualenvs/spatial-G_n0JvVf-py3.8/lib/python3.8/site-packages/hydra/experimental/initialize.py:35: UserWarning: hydra.experimental.initialize() is no longer experimental. Use hydra.initialize()\n",
      "  deprecation_warning(\n",
      "/home/roko/.cache/pypoetry/virtualenvs/spatial-G_n0JvVf-py3.8/lib/python3.8/site-packages/hydra/experimental/compose.py:18: UserWarning: hydra.experimental.compose() is no longer experimental. Use hydra.compose()\n",
      "  deprecation_warning(\n"
     ]
    },
    {
     "name": "stdout",
     "output_type": "stream",
     "text": [
      "Filtered Data (205348, 170)\n",
      "/home/roko/spatial/data/raw/merfish_messi.hdf5\n"
     ]
    },
    {
     "name": "stderr",
     "output_type": "stream",
     "text": [
      "GPU available: True, used: True\n",
      "TPU available: False, using: 0 TPU cores\n",
      "IPU available: False, using: 0 IPUs\n",
      "LOCAL_RANK: 0 - CUDA_VISIBLE_DEVICES: [0,1,2,3,4,5,6,7]\n",
      "/home/roko/.cache/pypoetry/virtualenvs/spatial-G_n0JvVf-py3.8/lib/python3.8/site-packages/pytorch_lightning/trainer/data_loading.py:132: UserWarning: The dataloader, test_dataloader 0, does not have many workers which may be a bottleneck. Consider increasing the value of the `num_workers` argument` (try 64 which is the number of cpus on this machine) in the `DataLoader` init to improve performance.\n",
      "  rank_zero_warn(\n"
     ]
    },
    {
     "data": {
      "application/vnd.jupyter.widget-view+json": {
       "model_id": "82e8beb6647c49cab32473fd3701dcec",
       "version_major": 2,
       "version_minor": 0
      },
      "text/plain": [
       "Testing: 0it [00:00, ?it/s]"
      ]
     },
     "metadata": {},
     "output_type": "display_data"
    },
    {
     "name": "stderr",
     "output_type": "stream",
     "text": [
      "TEST Profiler Report\n",
      "\n",
      "Action                             \t|  Mean duration (s)\t|Num calls      \t|  Total time (s) \t|  Percentage %   \t|\n",
      "---------------------------------------------------------------------------------------------------------------------------------------\n",
      "Total                              \t|  -              \t|_              \t|  15.054         \t|  100 %          \t|\n",
      "---------------------------------------------------------------------------------------------------------------------------------------\n",
      "run_test_evaluation                \t|  15.014         \t|1              \t|  15.014         \t|  99.734         \t|\n",
      "evaluation_step_and_end            \t|  0.25065        \t|48             \t|  12.031         \t|  79.916         \t|\n",
      "test_step                          \t|  0.2505         \t|48             \t|  12.024         \t|  79.87          \t|\n",
      "get_test_batch                     \t|  0.03269        \t|49             \t|  1.6018         \t|  10.64          \t|\n",
      "fetch_next_test_batch              \t|  0.032647       \t|49             \t|  1.5997         \t|  10.626         \t|\n",
      "on_test_batch_end                  \t|  0.019261       \t|48             \t|  0.92453        \t|  6.1413         \t|\n",
      "evaluation_batch_to_device         \t|  0.0033102      \t|48             \t|  0.15889        \t|  1.0554         \t|\n",
      "on_test_start                      \t|  0.017026       \t|1              \t|  0.017026       \t|  0.1131         \t|\n",
      "on_test_end                        \t|  0.0018981      \t|1              \t|  0.0018981      \t|  0.012608       \t|\n",
      "on_test_batch_start                \t|  3.0096e-05     \t|48             \t|  0.0014446      \t|  0.009596       \t|\n",
      "test_step_end                      \t|  1.4484e-05     \t|48             \t|  0.00069523     \t|  0.0046181      \t|\n",
      "on_test_model_eval                 \t|  4.7969e-05     \t|1              \t|  4.7969e-05     \t|  0.00031863     \t|\n",
      "on_test_epoch_end                  \t|  4.7287e-05     \t|1              \t|  4.7287e-05     \t|  0.00031411     \t|\n",
      "teardown                           \t|  2.593e-05      \t|1              \t|  2.593e-05      \t|  0.00017224     \t|\n",
      "on_epoch_start                     \t|  2.4736e-05     \t|1              \t|  2.4736e-05     \t|  0.00016431     \t|\n",
      "on_epoch_end                       \t|  2.2592e-05     \t|1              \t|  2.2592e-05     \t|  0.00015007     \t|\n",
      "on_configure_sharded_model         \t|  1.6788e-05     \t|1              \t|  1.6788e-05     \t|  0.00011152     \t|\n",
      "on_before_accelerator_backend_setup\t|  1.1839e-05     \t|1              \t|  1.1839e-05     \t|  7.8641e-05     \t|\n",
      "setup                              \t|  9.33e-06       \t|1              \t|  9.33e-06       \t|  6.1975e-05     \t|\n",
      "configure_callbacks                \t|  8.8848e-06     \t|1              \t|  8.8848e-06     \t|  5.9018e-05     \t|\n",
      "on_test_epoch_start                \t|  7.391e-06      \t|1              \t|  7.391e-06      \t|  4.9095e-05     \t|\n",
      "on_test_dataloader                 \t|  6.143e-06      \t|1              \t|  6.143e-06      \t|  4.0805e-05     \t|\n",
      "configure_sharded_model            \t|  5.3756e-06     \t|1              \t|  5.3756e-06     \t|  3.5708e-05     \t|\n",
      "prepare_data                       \t|  3.634e-06      \t|1              \t|  3.634e-06      \t|  2.4139e-05     \t|\n",
      "\n"
     ]
    },
    {
     "name": "stdout",
     "output_type": "stream",
     "text": [
      "--------------------------------------------------------------------------------\n",
      "DATALOADER:0 TEST RESULTS\n",
      "{'test_loss': 0.32344749569892883, 'test_loss: mse': 0.3351779878139496}\n",
      "--------------------------------------------------------------------------------\n"
     ]
    },
    {
     "name": "stderr",
     "output_type": "stream",
     "text": [
      "/home/roko/.cache/pypoetry/virtualenvs/spatial-G_n0JvVf-py3.8/lib/python3.8/site-packages/hydra/experimental/initialize.py:35: UserWarning: hydra.experimental.initialize() is no longer experimental. Use hydra.initialize()\n",
      "  deprecation_warning(\n",
      "/home/roko/.cache/pypoetry/virtualenvs/spatial-G_n0JvVf-py3.8/lib/python3.8/site-packages/hydra/experimental/compose.py:18: UserWarning: hydra.experimental.compose() is no longer experimental. Use hydra.compose()\n",
      "  deprecation_warning(\n"
     ]
    },
    {
     "name": "stdout",
     "output_type": "stream",
     "text": [
      "Filtered Data (205348, 170)\n",
      "/home/roko/spatial/data/raw/merfish_messi.hdf5\n"
     ]
    },
    {
     "name": "stderr",
     "output_type": "stream",
     "text": [
      "GPU available: True, used: True\n",
      "TPU available: False, using: 0 TPU cores\n",
      "IPU available: False, using: 0 IPUs\n",
      "LOCAL_RANK: 0 - CUDA_VISIBLE_DEVICES: [0,1,2,3,4,5,6,7]\n",
      "/home/roko/.cache/pypoetry/virtualenvs/spatial-G_n0JvVf-py3.8/lib/python3.8/site-packages/pytorch_lightning/trainer/data_loading.py:132: UserWarning: The dataloader, test_dataloader 0, does not have many workers which may be a bottleneck. Consider increasing the value of the `num_workers` argument` (try 64 which is the number of cpus on this machine) in the `DataLoader` init to improve performance.\n",
      "  rank_zero_warn(\n"
     ]
    },
    {
     "data": {
      "application/vnd.jupyter.widget-view+json": {
       "model_id": "ddf75f3f16d1443eaba01a6764346c7c",
       "version_major": 2,
       "version_minor": 0
      },
      "text/plain": [
       "Testing: 0it [00:00, ?it/s]"
      ]
     },
     "metadata": {},
     "output_type": "display_data"
    },
    {
     "name": "stderr",
     "output_type": "stream",
     "text": [
      "TEST Profiler Report\n",
      "\n",
      "Action                             \t|  Mean duration (s)\t|Num calls      \t|  Total time (s) \t|  Percentage %   \t|\n",
      "---------------------------------------------------------------------------------------------------------------------------------------\n",
      "Total                              \t|  -              \t|_              \t|  7.3018         \t|  100 %          \t|\n",
      "---------------------------------------------------------------------------------------------------------------------------------------\n",
      "run_test_evaluation                \t|  7.2615         \t|1              \t|  7.2615         \t|  99.448         \t|\n",
      "evaluation_step_and_end            \t|  0.23202        \t|24             \t|  5.5684         \t|  76.26          \t|\n",
      "test_step                          \t|  0.23186        \t|24             \t|  5.5646         \t|  76.208         \t|\n",
      "get_test_batch                     \t|  0.034404       \t|25             \t|  0.86009        \t|  11.779         \t|\n",
      "fetch_next_test_batch              \t|  0.03436        \t|25             \t|  0.859          \t|  11.764         \t|\n",
      "on_test_batch_end                  \t|  0.018381       \t|24             \t|  0.44114        \t|  6.0415         \t|\n",
      "evaluation_batch_to_device         \t|  0.0046692      \t|24             \t|  0.11206        \t|  1.5347         \t|\n",
      "on_test_start                      \t|  0.016919       \t|1              \t|  0.016919       \t|  0.23171        \t|\n",
      "on_test_end                        \t|  0.00097042     \t|1              \t|  0.00097042     \t|  0.01329        \t|\n",
      "on_test_batch_start                \t|  3.4483e-05     \t|24             \t|  0.00082758     \t|  0.011334       \t|\n",
      "test_step_end                      \t|  1.5293e-05     \t|24             \t|  0.00036704     \t|  0.0050267      \t|\n",
      "on_test_model_eval                 \t|  5.8636e-05     \t|1              \t|  5.8636e-05     \t|  0.00080303     \t|\n",
      "on_test_epoch_end                  \t|  5.7152e-05     \t|1              \t|  5.7152e-05     \t|  0.0007827      \t|\n",
      "teardown                           \t|  3.8872e-05     \t|1              \t|  3.8872e-05     \t|  0.00053235     \t|\n",
      "on_epoch_end                       \t|  2.1692e-05     \t|1              \t|  2.1692e-05     \t|  0.00029708     \t|\n",
      "on_configure_sharded_model         \t|  1.5669e-05     \t|1              \t|  1.5669e-05     \t|  0.00021458     \t|\n",
      "on_epoch_start                     \t|  1.3625e-05     \t|1              \t|  1.3625e-05     \t|  0.0001866      \t|\n",
      "on_before_accelerator_backend_setup\t|  1.2284e-05     \t|1              \t|  1.2284e-05     \t|  0.00016823     \t|\n",
      "setup                              \t|  9.2853e-06     \t|1              \t|  9.2853e-06     \t|  0.00012716     \t|\n",
      "configure_callbacks                \t|  9.1847e-06     \t|1              \t|  9.1847e-06     \t|  0.00012579     \t|\n",
      "on_test_epoch_start                \t|  8.1956e-06     \t|1              \t|  8.1956e-06     \t|  0.00011224     \t|\n",
      "on_test_dataloader                 \t|  5.9288e-06     \t|1              \t|  5.9288e-06     \t|  8.1196e-05     \t|\n",
      "configure_sharded_model            \t|  5.56e-06       \t|1              \t|  5.56e-06       \t|  7.6145e-05     \t|\n",
      "prepare_data                       \t|  4.3605e-06     \t|1              \t|  4.3605e-06     \t|  5.9717e-05     \t|\n",
      "\n"
     ]
    },
    {
     "name": "stdout",
     "output_type": "stream",
     "text": [
      "--------------------------------------------------------------------------------\n",
      "DATALOADER:0 TEST RESULTS\n",
      "{'test_loss': 0.3152901828289032, 'test_loss: mse': 0.32258933782577515}\n",
      "--------------------------------------------------------------------------------\n"
     ]
    },
    {
     "name": "stderr",
     "output_type": "stream",
     "text": [
      "/home/roko/.cache/pypoetry/virtualenvs/spatial-G_n0JvVf-py3.8/lib/python3.8/site-packages/hydra/experimental/initialize.py:35: UserWarning: hydra.experimental.initialize() is no longer experimental. Use hydra.initialize()\n",
      "  deprecation_warning(\n",
      "/home/roko/.cache/pypoetry/virtualenvs/spatial-G_n0JvVf-py3.8/lib/python3.8/site-packages/hydra/experimental/compose.py:18: UserWarning: hydra.experimental.compose() is no longer experimental. Use hydra.compose()\n",
      "  deprecation_warning(\n"
     ]
    },
    {
     "name": "stdout",
     "output_type": "stream",
     "text": [
      "Filtered Data (205348, 170)\n",
      "/home/roko/spatial/data/raw/merfish_messi.hdf5\n"
     ]
    },
    {
     "name": "stderr",
     "output_type": "stream",
     "text": [
      "GPU available: True, used: True\n",
      "TPU available: False, using: 0 TPU cores\n",
      "IPU available: False, using: 0 IPUs\n",
      "LOCAL_RANK: 0 - CUDA_VISIBLE_DEVICES: [0,1,2,3,4,5,6,7]\n",
      "/home/roko/.cache/pypoetry/virtualenvs/spatial-G_n0JvVf-py3.8/lib/python3.8/site-packages/pytorch_lightning/trainer/data_loading.py:132: UserWarning: The dataloader, test_dataloader 0, does not have many workers which may be a bottleneck. Consider increasing the value of the `num_workers` argument` (try 64 which is the number of cpus on this machine) in the `DataLoader` init to improve performance.\n",
      "  rank_zero_warn(\n"
     ]
    },
    {
     "data": {
      "application/vnd.jupyter.widget-view+json": {
       "model_id": "26573015a38841b697ac79c3c4deb5b7",
       "version_major": 2,
       "version_minor": 0
      },
      "text/plain": [
       "Testing: 0it [00:00, ?it/s]"
      ]
     },
     "metadata": {},
     "output_type": "display_data"
    },
    {
     "name": "stderr",
     "output_type": "stream",
     "text": [
      "TEST Profiler Report\n",
      "\n",
      "Action                             \t|  Mean duration (s)\t|Num calls      \t|  Total time (s) \t|  Percentage %   \t|\n",
      "---------------------------------------------------------------------------------------------------------------------------------------\n",
      "Total                              \t|  -              \t|_              \t|  6.4882         \t|  100 %          \t|\n",
      "---------------------------------------------------------------------------------------------------------------------------------------\n",
      "run_test_evaluation                \t|  6.449          \t|1              \t|  6.449          \t|  99.396         \t|\n",
      "evaluation_step_and_end            \t|  0.24002        \t|20             \t|  4.8005         \t|  73.988         \t|\n",
      "test_step                          \t|  0.23989        \t|20             \t|  4.7978         \t|  73.947         \t|\n",
      "get_test_batch                     \t|  0.038474       \t|21             \t|  0.80795        \t|  12.453         \t|\n",
      "fetch_next_test_batch              \t|  0.038427       \t|21             \t|  0.80696        \t|  12.437         \t|\n",
      "on_test_batch_end                  \t|  0.020739       \t|20             \t|  0.41478        \t|  6.3929         \t|\n",
      "evaluation_batch_to_device         \t|  0.0051743      \t|20             \t|  0.10349        \t|  1.595          \t|\n",
      "on_test_start                      \t|  0.02284        \t|1              \t|  0.02284        \t|  0.35202        \t|\n",
      "on_test_end                        \t|  0.0011952      \t|1              \t|  0.0011952      \t|  0.018422       \t|\n",
      "on_test_batch_start                \t|  3.3801e-05     \t|20             \t|  0.00067602     \t|  0.010419       \t|\n",
      "test_step_end                      \t|  1.3557e-05     \t|20             \t|  0.00027114     \t|  0.004179       \t|\n",
      "on_test_model_eval                 \t|  5.0832e-05     \t|1              \t|  5.0832e-05     \t|  0.00078345     \t|\n",
      "on_test_epoch_end                  \t|  4.3189e-05     \t|1              \t|  4.3189e-05     \t|  0.00066566     \t|\n",
      "on_epoch_start                     \t|  3.6564e-05     \t|1              \t|  3.6564e-05     \t|  0.00056355     \t|\n",
      "on_test_epoch_start                \t|  2.7807e-05     \t|1              \t|  2.7807e-05     \t|  0.00042859     \t|\n",
      "teardown                           \t|  2.6979e-05     \t|1              \t|  2.6979e-05     \t|  0.00041581     \t|\n",
      "on_epoch_end                       \t|  2.0934e-05     \t|1              \t|  2.0934e-05     \t|  0.00032265     \t|\n",
      "on_configure_sharded_model         \t|  1.6332e-05     \t|1              \t|  1.6332e-05     \t|  0.00025172     \t|\n",
      "on_before_accelerator_backend_setup\t|  1.2601e-05     \t|1              \t|  1.2601e-05     \t|  0.00019421     \t|\n",
      "configure_callbacks                \t|  1.1027e-05     \t|1              \t|  1.1027e-05     \t|  0.00016995     \t|\n",
      "setup                              \t|  9.2797e-06     \t|1              \t|  9.2797e-06     \t|  0.00014303     \t|\n",
      "on_test_dataloader                 \t|  4.895e-06      \t|1              \t|  4.895e-06      \t|  7.5446e-05     \t|\n",
      "configure_sharded_model            \t|  4.6995e-06     \t|1              \t|  4.6995e-06     \t|  7.2431e-05     \t|\n",
      "prepare_data                       \t|  3.8203e-06     \t|1              \t|  3.8203e-06     \t|  5.8881e-05     \t|\n",
      "\n"
     ]
    },
    {
     "name": "stdout",
     "output_type": "stream",
     "text": [
      "--------------------------------------------------------------------------------\n",
      "DATALOADER:0 TEST RESULTS\n",
      "{'test_loss': 0.3326919674873352, 'test_loss: mse': 0.36527928709983826}\n",
      "--------------------------------------------------------------------------------\n"
     ]
    },
    {
     "name": "stderr",
     "output_type": "stream",
     "text": [
      "/home/roko/.cache/pypoetry/virtualenvs/spatial-G_n0JvVf-py3.8/lib/python3.8/site-packages/hydra/experimental/initialize.py:35: UserWarning: hydra.experimental.initialize() is no longer experimental. Use hydra.initialize()\n",
      "  deprecation_warning(\n",
      "/home/roko/.cache/pypoetry/virtualenvs/spatial-G_n0JvVf-py3.8/lib/python3.8/site-packages/hydra/experimental/compose.py:18: UserWarning: hydra.experimental.compose() is no longer experimental. Use hydra.compose()\n",
      "  deprecation_warning(\n"
     ]
    },
    {
     "name": "stdout",
     "output_type": "stream",
     "text": [
      "Filtered Data (205348, 170)\n",
      "/home/roko/spatial/data/raw/merfish_messi.hdf5\n"
     ]
    },
    {
     "name": "stderr",
     "output_type": "stream",
     "text": [
      "GPU available: True, used: True\n",
      "TPU available: False, using: 0 TPU cores\n",
      "IPU available: False, using: 0 IPUs\n",
      "LOCAL_RANK: 0 - CUDA_VISIBLE_DEVICES: [0,1,2,3,4,5,6,7]\n",
      "/home/roko/.cache/pypoetry/virtualenvs/spatial-G_n0JvVf-py3.8/lib/python3.8/site-packages/pytorch_lightning/trainer/data_loading.py:132: UserWarning: The dataloader, test_dataloader 0, does not have many workers which may be a bottleneck. Consider increasing the value of the `num_workers` argument` (try 64 which is the number of cpus on this machine) in the `DataLoader` init to improve performance.\n",
      "  rank_zero_warn(\n"
     ]
    },
    {
     "data": {
      "application/vnd.jupyter.widget-view+json": {
       "model_id": "a0f7884666a24665b5d275f8bc0f0407",
       "version_major": 2,
       "version_minor": 0
      },
      "text/plain": [
       "Testing: 0it [00:00, ?it/s]"
      ]
     },
     "metadata": {},
     "output_type": "display_data"
    },
    {
     "name": "stderr",
     "output_type": "stream",
     "text": [
      "TEST Profiler Report\n",
      "\n",
      "Action                             \t|  Mean duration (s)\t|Num calls      \t|  Total time (s) \t|  Percentage %   \t|\n",
      "---------------------------------------------------------------------------------------------------------------------------------------\n",
      "Total                              \t|  -              \t|_              \t|  15.85          \t|  100 %          \t|\n",
      "---------------------------------------------------------------------------------------------------------------------------------------\n",
      "run_test_evaluation                \t|  15.815         \t|1              \t|  15.815         \t|  99.782         \t|\n",
      "evaluation_step_and_end            \t|  0.26074        \t|48             \t|  12.516         \t|  78.962         \t|\n",
      "test_step                          \t|  0.2606         \t|48             \t|  12.509         \t|  78.92          \t|\n",
      "get_test_batch                     \t|  0.040503       \t|49             \t|  1.9846         \t|  12.521         \t|\n",
      "fetch_next_test_batch              \t|  0.040462       \t|49             \t|  1.9826         \t|  12.509         \t|\n",
      "on_test_batch_end                  \t|  0.019242       \t|48             \t|  0.9236         \t|  5.8271         \t|\n",
      "evaluation_batch_to_device         \t|  0.0020009      \t|48             \t|  0.096044       \t|  0.60595        \t|\n",
      "on_test_start                      \t|  0.016727       \t|1              \t|  0.016727       \t|  0.10553        \t|\n",
      "on_test_batch_start                \t|  2.9205e-05     \t|48             \t|  0.0014018      \t|  0.0088443      \t|\n",
      "on_test_end                        \t|  0.0010496      \t|1              \t|  0.0010496      \t|  0.0066222      \t|\n",
      "test_step_end                      \t|  1.3755e-05     \t|48             \t|  0.00066023     \t|  0.0041655      \t|\n",
      "on_test_model_eval                 \t|  4.8488e-05     \t|1              \t|  4.8488e-05     \t|  0.00030592     \t|\n",
      "on_test_epoch_end                  \t|  4.4061e-05     \t|1              \t|  4.4061e-05     \t|  0.00027799     \t|\n",
      "teardown                           \t|  2.5723e-05     \t|1              \t|  2.5723e-05     \t|  0.00016229     \t|\n",
      "on_epoch_end                       \t|  2.0757e-05     \t|1              \t|  2.0757e-05     \t|  0.00013096     \t|\n",
      "on_configure_sharded_model         \t|  1.5877e-05     \t|1              \t|  1.5877e-05     \t|  0.00010017     \t|\n",
      "on_before_accelerator_backend_setup\t|  1.302e-05      \t|1              \t|  1.302e-05      \t|  8.2144e-05     \t|\n",
      "on_epoch_start                     \t|  1.2631e-05     \t|1              \t|  1.2631e-05     \t|  7.9688e-05     \t|\n",
      "on_test_epoch_start                \t|  9.9372e-06     \t|1              \t|  9.9372e-06     \t|  6.2695e-05     \t|\n",
      "setup                              \t|  9.8944e-06     \t|1              \t|  9.8944e-06     \t|  6.2425e-05     \t|\n",
      "configure_callbacks                \t|  7.7281e-06     \t|1              \t|  7.7281e-06     \t|  4.8758e-05     \t|\n",
      "on_test_dataloader                 \t|  5.804e-06      \t|1              \t|  5.804e-06      \t|  3.6618e-05     \t|\n",
      "configure_sharded_model            \t|  4.7218e-06     \t|1              \t|  4.7218e-06     \t|  2.979e-05      \t|\n",
      "prepare_data                       \t|  4.6324e-06     \t|1              \t|  4.6324e-06     \t|  2.9226e-05     \t|\n",
      "\n"
     ]
    },
    {
     "name": "stdout",
     "output_type": "stream",
     "text": [
      "--------------------------------------------------------------------------------\n",
      "DATALOADER:0 TEST RESULTS\n",
      "{'test_loss': 0.33578985929489136, 'test_loss: mse': 0.35506877303123474}\n",
      "--------------------------------------------------------------------------------\n"
     ]
    },
    {
     "name": "stderr",
     "output_type": "stream",
     "text": [
      "/home/roko/.cache/pypoetry/virtualenvs/spatial-G_n0JvVf-py3.8/lib/python3.8/site-packages/hydra/experimental/initialize.py:35: UserWarning: hydra.experimental.initialize() is no longer experimental. Use hydra.initialize()\n",
      "  deprecation_warning(\n",
      "/home/roko/.cache/pypoetry/virtualenvs/spatial-G_n0JvVf-py3.8/lib/python3.8/site-packages/hydra/experimental/compose.py:18: UserWarning: hydra.experimental.compose() is no longer experimental. Use hydra.compose()\n",
      "  deprecation_warning(\n"
     ]
    },
    {
     "name": "stdout",
     "output_type": "stream",
     "text": [
      "Filtered Data (205348, 170)\n",
      "/home/roko/spatial/data/raw/merfish_messi.hdf5\n"
     ]
    },
    {
     "name": "stderr",
     "output_type": "stream",
     "text": [
      "GPU available: True, used: True\n",
      "TPU available: False, using: 0 TPU cores\n",
      "IPU available: False, using: 0 IPUs\n",
      "LOCAL_RANK: 0 - CUDA_VISIBLE_DEVICES: [0,1,2,3,4,5,6,7]\n",
      "/home/roko/.cache/pypoetry/virtualenvs/spatial-G_n0JvVf-py3.8/lib/python3.8/site-packages/pytorch_lightning/trainer/data_loading.py:132: UserWarning: The dataloader, test_dataloader 0, does not have many workers which may be a bottleneck. Consider increasing the value of the `num_workers` argument` (try 64 which is the number of cpus on this machine) in the `DataLoader` init to improve performance.\n",
      "  rank_zero_warn(\n"
     ]
    },
    {
     "data": {
      "application/vnd.jupyter.widget-view+json": {
       "model_id": "44e95e19ae874899b643ea129525f3c0",
       "version_major": 2,
       "version_minor": 0
      },
      "text/plain": [
       "Testing: 0it [00:00, ?it/s]"
      ]
     },
     "metadata": {},
     "output_type": "display_data"
    },
    {
     "name": "stderr",
     "output_type": "stream",
     "text": [
      "TEST Profiler Report\n",
      "\n",
      "Action                             \t|  Mean duration (s)\t|Num calls      \t|  Total time (s) \t|  Percentage %   \t|\n",
      "---------------------------------------------------------------------------------------------------------------------------------------\n",
      "Total                              \t|  -              \t|_              \t|  14.418         \t|  100 %          \t|\n",
      "---------------------------------------------------------------------------------------------------------------------------------------\n",
      "run_test_evaluation                \t|  14.374         \t|1              \t|  14.374         \t|  99.693         \t|\n",
      "evaluation_step_and_end            \t|  0.23917        \t|48             \t|  11.48          \t|  79.624         \t|\n",
      "test_step                          \t|  0.23904        \t|48             \t|  11.474         \t|  79.582         \t|\n",
      "get_test_batch                     \t|  0.032654       \t|49             \t|  1.6            \t|  11.098         \t|\n",
      "fetch_next_test_batch              \t|  0.032617       \t|49             \t|  1.5982         \t|  11.085         \t|\n",
      "on_test_batch_end                  \t|  0.017676       \t|48             \t|  0.84844        \t|  5.8847         \t|\n",
      "evaluation_batch_to_device         \t|  0.0024229      \t|48             \t|  0.1163         \t|  0.80665        \t|\n",
      "on_test_start                      \t|  0.029851       \t|1              \t|  0.029851       \t|  0.20704        \t|\n",
      "on_test_end                        \t|  0.0013279      \t|1              \t|  0.0013279      \t|  0.00921        \t|\n",
      "on_test_batch_start                \t|  2.7608e-05     \t|48             \t|  0.0013252      \t|  0.0091913      \t|\n",
      "test_step_end                      \t|  1.242e-05      \t|48             \t|  0.00059615     \t|  0.0041348      \t|\n",
      "on_test_model_eval                 \t|  8.5011e-05     \t|1              \t|  8.5011e-05     \t|  0.00058963     \t|\n",
      "on_test_epoch_end                  \t|  6.0806e-05     \t|1              \t|  6.0806e-05     \t|  0.00042174     \t|\n",
      "teardown                           \t|  2.7478e-05     \t|1              \t|  2.7478e-05     \t|  0.00019058     \t|\n",
      "on_epoch_end                       \t|  2.5919e-05     \t|1              \t|  2.5919e-05     \t|  0.00017977     \t|\n",
      "on_epoch_start                     \t|  1.879e-05      \t|1              \t|  1.879e-05      \t|  0.00013033     \t|\n",
      "on_configure_sharded_model         \t|  1.4873e-05     \t|1              \t|  1.4873e-05     \t|  0.00010316     \t|\n",
      "on_test_epoch_start                \t|  1.4378e-05     \t|1              \t|  1.4378e-05     \t|  9.9723e-05     \t|\n",
      "on_before_accelerator_backend_setup\t|  1.2662e-05     \t|1              \t|  1.2662e-05     \t|  8.7824e-05     \t|\n",
      "on_test_dataloader                 \t|  1.2286e-05     \t|1              \t|  1.2286e-05     \t|  8.5214e-05     \t|\n",
      "setup                              \t|  1.0479e-05     \t|1              \t|  1.0479e-05     \t|  7.2683e-05     \t|\n",
      "configure_callbacks                \t|  1.0258e-05     \t|1              \t|  1.0258e-05     \t|  7.1145e-05     \t|\n",
      "configure_sharded_model            \t|  4.8131e-06     \t|1              \t|  4.8131e-06     \t|  3.3383e-05     \t|\n",
      "prepare_data                       \t|  3.7961e-06     \t|1              \t|  3.7961e-06     \t|  2.6329e-05     \t|\n",
      "\n"
     ]
    },
    {
     "name": "stdout",
     "output_type": "stream",
     "text": [
      "--------------------------------------------------------------------------------\n",
      "DATALOADER:0 TEST RESULTS\n",
      "{'test_loss': 0.32577621936798096, 'test_loss: mse': 0.34079334139823914}\n",
      "--------------------------------------------------------------------------------\n"
     ]
    },
    {
     "name": "stderr",
     "output_type": "stream",
     "text": [
      "/home/roko/.cache/pypoetry/virtualenvs/spatial-G_n0JvVf-py3.8/lib/python3.8/site-packages/hydra/experimental/initialize.py:35: UserWarning: hydra.experimental.initialize() is no longer experimental. Use hydra.initialize()\n",
      "  deprecation_warning(\n",
      "/home/roko/.cache/pypoetry/virtualenvs/spatial-G_n0JvVf-py3.8/lib/python3.8/site-packages/hydra/experimental/compose.py:18: UserWarning: hydra.experimental.compose() is no longer experimental. Use hydra.compose()\n",
      "  deprecation_warning(\n"
     ]
    },
    {
     "name": "stdout",
     "output_type": "stream",
     "text": [
      "Filtered Data (205348, 170)\n",
      "/home/roko/spatial/data/raw/merfish_messi.hdf5\n"
     ]
    },
    {
     "name": "stderr",
     "output_type": "stream",
     "text": [
      "GPU available: True, used: True\n",
      "TPU available: False, using: 0 TPU cores\n",
      "IPU available: False, using: 0 IPUs\n",
      "LOCAL_RANK: 0 - CUDA_VISIBLE_DEVICES: [0,1,2,3,4,5,6,7]\n",
      "/home/roko/.cache/pypoetry/virtualenvs/spatial-G_n0JvVf-py3.8/lib/python3.8/site-packages/pytorch_lightning/trainer/data_loading.py:132: UserWarning: The dataloader, test_dataloader 0, does not have many workers which may be a bottleneck. Consider increasing the value of the `num_workers` argument` (try 64 which is the number of cpus on this machine) in the `DataLoader` init to improve performance.\n",
      "  rank_zero_warn(\n"
     ]
    },
    {
     "data": {
      "application/vnd.jupyter.widget-view+json": {
       "model_id": "8f7897926f7442f7a075bc0dcc986701",
       "version_major": 2,
       "version_minor": 0
      },
      "text/plain": [
       "Testing: 0it [00:00, ?it/s]"
      ]
     },
     "metadata": {},
     "output_type": "display_data"
    },
    {
     "name": "stderr",
     "output_type": "stream",
     "text": [
      "TEST Profiler Report\n",
      "\n",
      "Action                             \t|  Mean duration (s)\t|Num calls      \t|  Total time (s) \t|  Percentage %   \t|\n",
      "---------------------------------------------------------------------------------------------------------------------------------------\n",
      "Total                              \t|  -              \t|_              \t|  7.593          \t|  100 %          \t|\n",
      "---------------------------------------------------------------------------------------------------------------------------------------\n",
      "run_test_evaluation                \t|  7.5283         \t|1              \t|  7.5283         \t|  99.148         \t|\n",
      "evaluation_step_and_end            \t|  0.24153        \t|24             \t|  5.7968         \t|  76.345         \t|\n",
      "test_step                          \t|  0.2414         \t|24             \t|  5.7937         \t|  76.303         \t|\n",
      "get_test_batch                     \t|  0.036552       \t|25             \t|  0.91379        \t|  12.035         \t|\n",
      "fetch_next_test_batch              \t|  0.036511       \t|25             \t|  0.91277        \t|  12.021         \t|\n",
      "on_test_batch_end                  \t|  0.020061       \t|24             \t|  0.48145        \t|  6.3408         \t|\n",
      "evaluation_batch_to_device         \t|  0.0019007      \t|24             \t|  0.045617       \t|  0.60078        \t|\n",
      "on_test_start                      \t|  0.030361       \t|1              \t|  0.030361       \t|  0.39985        \t|\n",
      "on_test_end                        \t|  0.0010925      \t|1              \t|  0.0010925      \t|  0.014389       \t|\n",
      "on_test_batch_start                \t|  3.2781e-05     \t|24             \t|  0.00078674     \t|  0.010361       \t|\n",
      "test_step_end                      \t|  1.3954e-05     \t|24             \t|  0.00033491     \t|  0.0044107      \t|\n",
      "on_test_model_eval                 \t|  7.9395e-05     \t|1              \t|  7.9395e-05     \t|  0.0010456      \t|\n",
      "on_test_epoch_end                  \t|  4.1299e-05     \t|1              \t|  4.1299e-05     \t|  0.0005439      \t|\n",
      "teardown                           \t|  3.9695e-05     \t|1              \t|  3.9695e-05     \t|  0.00052278     \t|\n",
      "on_configure_sharded_model         \t|  3.0413e-05     \t|1              \t|  3.0413e-05     \t|  0.00040054     \t|\n",
      "on_before_accelerator_backend_setup\t|  2.9217e-05     \t|1              \t|  2.9217e-05     \t|  0.0003848      \t|\n",
      "setup                              \t|  2.2409e-05     \t|1              \t|  2.2409e-05     \t|  0.00029513     \t|\n",
      "on_epoch_end                       \t|  2.024e-05      \t|1              \t|  2.024e-05      \t|  0.00026656     \t|\n",
      "on_epoch_start                     \t|  1.8848e-05     \t|1              \t|  1.8848e-05     \t|  0.00024823     \t|\n",
      "configure_callbacks                \t|  1.2133e-05     \t|1              \t|  1.2133e-05     \t|  0.0001598      \t|\n",
      "on_test_epoch_start                \t|  1.1582e-05     \t|1              \t|  1.1582e-05     \t|  0.00015253     \t|\n",
      "configure_sharded_model            \t|  1.0621e-05     \t|1              \t|  1.0621e-05     \t|  0.00013988     \t|\n",
      "prepare_data                       \t|  1.0591e-05     \t|1              \t|  1.0591e-05     \t|  0.00013948     \t|\n",
      "on_test_dataloader                 \t|  8.2739e-06     \t|1              \t|  8.2739e-06     \t|  0.00010897     \t|\n",
      "\n"
     ]
    },
    {
     "name": "stdout",
     "output_type": "stream",
     "text": [
      "--------------------------------------------------------------------------------\n",
      "DATALOADER:0 TEST RESULTS\n",
      "{'test_loss': 0.3188694715499878, 'test_loss: mse': 0.33204126358032227}\n",
      "--------------------------------------------------------------------------------\n"
     ]
    },
    {
     "name": "stderr",
     "output_type": "stream",
     "text": [
      "/home/roko/.cache/pypoetry/virtualenvs/spatial-G_n0JvVf-py3.8/lib/python3.8/site-packages/hydra/experimental/initialize.py:35: UserWarning: hydra.experimental.initialize() is no longer experimental. Use hydra.initialize()\n",
      "  deprecation_warning(\n",
      "/home/roko/.cache/pypoetry/virtualenvs/spatial-G_n0JvVf-py3.8/lib/python3.8/site-packages/hydra/experimental/compose.py:18: UserWarning: hydra.experimental.compose() is no longer experimental. Use hydra.compose()\n",
      "  deprecation_warning(\n"
     ]
    },
    {
     "name": "stdout",
     "output_type": "stream",
     "text": [
      "Filtered Data (205348, 170)\n",
      "/home/roko/spatial/data/raw/merfish_messi.hdf5\n"
     ]
    },
    {
     "name": "stderr",
     "output_type": "stream",
     "text": [
      "GPU available: True, used: True\n",
      "TPU available: False, using: 0 TPU cores\n",
      "IPU available: False, using: 0 IPUs\n",
      "LOCAL_RANK: 0 - CUDA_VISIBLE_DEVICES: [0,1,2,3,4,5,6,7]\n",
      "/home/roko/.cache/pypoetry/virtualenvs/spatial-G_n0JvVf-py3.8/lib/python3.8/site-packages/pytorch_lightning/trainer/data_loading.py:132: UserWarning: The dataloader, test_dataloader 0, does not have many workers which may be a bottleneck. Consider increasing the value of the `num_workers` argument` (try 64 which is the number of cpus on this machine) in the `DataLoader` init to improve performance.\n",
      "  rank_zero_warn(\n"
     ]
    },
    {
     "data": {
      "application/vnd.jupyter.widget-view+json": {
       "model_id": "aab69cd0076f4a0ea55741b522a314d3",
       "version_major": 2,
       "version_minor": 0
      },
      "text/plain": [
       "Testing: 0it [00:00, ?it/s]"
      ]
     },
     "metadata": {},
     "output_type": "display_data"
    },
    {
     "name": "stderr",
     "output_type": "stream",
     "text": [
      "TEST Profiler Report\n",
      "\n",
      "Action                             \t|  Mean duration (s)\t|Num calls      \t|  Total time (s) \t|  Percentage %   \t|\n",
      "---------------------------------------------------------------------------------------------------------------------------------------\n",
      "Total                              \t|  -              \t|_              \t|  6.3097         \t|  100 %          \t|\n",
      "---------------------------------------------------------------------------------------------------------------------------------------\n",
      "run_test_evaluation                \t|  6.2703         \t|1              \t|  6.2703         \t|  99.376         \t|\n",
      "evaluation_step_and_end            \t|  0.23023        \t|20             \t|  4.6046         \t|  72.976         \t|\n",
      "test_step                          \t|  0.23008        \t|20             \t|  4.6015         \t|  72.928         \t|\n",
      "get_test_batch                     \t|  0.043335       \t|21             \t|  0.91004        \t|  14.423         \t|\n",
      "fetch_next_test_batch              \t|  0.043291       \t|21             \t|  0.90911        \t|  14.408         \t|\n",
      "on_test_batch_end                  \t|  0.019544       \t|20             \t|  0.39089        \t|  6.195          \t|\n",
      "evaluation_batch_to_device         \t|  0.0035128      \t|20             \t|  0.070256       \t|  1.1135         \t|\n",
      "on_test_start                      \t|  0.01718        \t|1              \t|  0.01718        \t|  0.27227        \t|\n",
      "on_test_end                        \t|  0.0013672      \t|1              \t|  0.0013672      \t|  0.021669       \t|\n",
      "on_test_batch_start                \t|  3.5653e-05     \t|20             \t|  0.00071306     \t|  0.011301       \t|\n",
      "test_step_end                      \t|  1.4744e-05     \t|20             \t|  0.00029487     \t|  0.0046733      \t|\n",
      "on_test_model_eval                 \t|  4.8386e-05     \t|1              \t|  4.8386e-05     \t|  0.00076685     \t|\n",
      "on_test_epoch_end                  \t|  4.3312e-05     \t|1              \t|  4.3312e-05     \t|  0.00068644     \t|\n",
      "teardown                           \t|  2.533e-05      \t|1              \t|  2.533e-05      \t|  0.00040145     \t|\n",
      "on_epoch_end                       \t|  2.3883e-05     \t|1              \t|  2.3883e-05     \t|  0.00037851     \t|\n",
      "on_configure_sharded_model         \t|  1.505e-05      \t|1              \t|  1.505e-05      \t|  0.00023853     \t|\n",
      "on_epoch_start                     \t|  1.2502e-05     \t|1              \t|  1.2502e-05     \t|  0.00019814     \t|\n",
      "on_before_accelerator_backend_setup\t|  1.218e-05      \t|1              \t|  1.218e-05      \t|  0.00019303     \t|\n",
      "on_test_epoch_start                \t|  1.0058e-05     \t|1              \t|  1.0058e-05     \t|  0.00015941     \t|\n",
      "setup                              \t|  8.5812e-06     \t|1              \t|  8.5812e-06     \t|  0.000136       \t|\n",
      "configure_callbacks                \t|  7.8417e-06     \t|1              \t|  7.8417e-06     \t|  0.00012428     \t|\n",
      "on_test_dataloader                 \t|  5.7351e-06     \t|1              \t|  5.7351e-06     \t|  9.0894e-05     \t|\n",
      "configure_sharded_model            \t|  4.6398e-06     \t|1              \t|  4.6398e-06     \t|  7.3536e-05     \t|\n",
      "prepare_data                       \t|  3.4161e-06     \t|1              \t|  3.4161e-06     \t|  5.4141e-05     \t|\n",
      "\n"
     ]
    },
    {
     "name": "stdout",
     "output_type": "stream",
     "text": [
      "--------------------------------------------------------------------------------\n",
      "DATALOADER:0 TEST RESULTS\n",
      "{'test_loss': 0.33603790402412415, 'test_loss: mse': 0.37153303623199463}\n",
      "--------------------------------------------------------------------------------\n"
     ]
    },
    {
     "name": "stderr",
     "output_type": "stream",
     "text": [
      "/home/roko/.cache/pypoetry/virtualenvs/spatial-G_n0JvVf-py3.8/lib/python3.8/site-packages/hydra/experimental/initialize.py:35: UserWarning: hydra.experimental.initialize() is no longer experimental. Use hydra.initialize()\n",
      "  deprecation_warning(\n",
      "/home/roko/.cache/pypoetry/virtualenvs/spatial-G_n0JvVf-py3.8/lib/python3.8/site-packages/hydra/experimental/compose.py:18: UserWarning: hydra.experimental.compose() is no longer experimental. Use hydra.compose()\n",
      "  deprecation_warning(\n"
     ]
    },
    {
     "name": "stdout",
     "output_type": "stream",
     "text": [
      "Filtered Data (205348, 170)\n",
      "/home/roko/spatial/data/raw/merfish_messi.hdf5\n"
     ]
    },
    {
     "name": "stderr",
     "output_type": "stream",
     "text": [
      "GPU available: True, used: True\n",
      "TPU available: False, using: 0 TPU cores\n",
      "IPU available: False, using: 0 IPUs\n",
      "LOCAL_RANK: 0 - CUDA_VISIBLE_DEVICES: [0,1,2,3,4,5,6,7]\n",
      "/home/roko/.cache/pypoetry/virtualenvs/spatial-G_n0JvVf-py3.8/lib/python3.8/site-packages/pytorch_lightning/trainer/data_loading.py:132: UserWarning: The dataloader, test_dataloader 0, does not have many workers which may be a bottleneck. Consider increasing the value of the `num_workers` argument` (try 64 which is the number of cpus on this machine) in the `DataLoader` init to improve performance.\n",
      "  rank_zero_warn(\n"
     ]
    },
    {
     "data": {
      "application/vnd.jupyter.widget-view+json": {
       "model_id": "c1a23508c7fc46fc9e241ad1ce341027",
       "version_major": 2,
       "version_minor": 0
      },
      "text/plain": [
       "Testing: 0it [00:00, ?it/s]"
      ]
     },
     "metadata": {},
     "output_type": "display_data"
    },
    {
     "name": "stderr",
     "output_type": "stream",
     "text": [
      "TEST Profiler Report\n",
      "\n",
      "Action                             \t|  Mean duration (s)\t|Num calls      \t|  Total time (s) \t|  Percentage %   \t|\n",
      "---------------------------------------------------------------------------------------------------------------------------------------\n",
      "Total                              \t|  -              \t|_              \t|  16.094         \t|  100 %          \t|\n",
      "---------------------------------------------------------------------------------------------------------------------------------------\n",
      "run_test_evaluation                \t|  16.047         \t|1              \t|  16.047         \t|  99.713         \t|\n",
      "evaluation_step_and_end            \t|  0.26382        \t|48             \t|  12.663         \t|  78.685         \t|\n",
      "test_step                          \t|  0.26368        \t|48             \t|  12.657         \t|  78.644         \t|\n",
      "get_test_batch                     \t|  0.040857       \t|49             \t|  2.002          \t|  12.44          \t|\n",
      "fetch_next_test_batch              \t|  0.040817       \t|49             \t|  2.0            \t|  12.427         \t|\n",
      "on_test_batch_end                  \t|  0.020544       \t|48             \t|  0.98613        \t|  6.1275         \t|\n",
      "evaluation_batch_to_device         \t|  0.0021318      \t|48             \t|  0.10233        \t|  0.63583        \t|\n",
      "on_test_start                      \t|  0.01766        \t|1              \t|  0.01766        \t|  0.10973        \t|\n",
      "on_test_batch_start                \t|  2.976e-05      \t|48             \t|  0.0014285      \t|  0.008876       \t|\n",
      "on_test_end                        \t|  0.0012908      \t|1              \t|  0.0012908      \t|  0.0080207      \t|\n",
      "test_step_end                      \t|  1.3668e-05     \t|48             \t|  0.00065606     \t|  0.0040766      \t|\n",
      "on_test_model_eval                 \t|  6.2102e-05     \t|1              \t|  6.2102e-05     \t|  0.00038588     \t|\n",
      "on_test_epoch_end                  \t|  4.3532e-05     \t|1              \t|  4.3532e-05     \t|  0.00027049     \t|\n",
      "teardown                           \t|  2.8849e-05     \t|1              \t|  2.8849e-05     \t|  0.00017926     \t|\n",
      "on_epoch_end                       \t|  2.2437e-05     \t|1              \t|  2.2437e-05     \t|  0.00013942     \t|\n",
      "on_configure_sharded_model         \t|  1.4462e-05     \t|1              \t|  1.4462e-05     \t|  8.9859e-05     \t|\n",
      "on_epoch_start                     \t|  1.332e-05      \t|1              \t|  1.332e-05      \t|  8.2765e-05     \t|\n",
      "on_before_accelerator_backend_setup\t|  1.2381e-05     \t|1              \t|  1.2381e-05     \t|  7.6931e-05     \t|\n",
      "setup                              \t|  1.1571e-05     \t|1              \t|  1.1571e-05     \t|  7.1897e-05     \t|\n",
      "on_test_epoch_start                \t|  1.0161e-05     \t|1              \t|  1.0161e-05     \t|  6.3135e-05     \t|\n",
      "configure_callbacks                \t|  9.1121e-06     \t|1              \t|  9.1121e-06     \t|  5.6619e-05     \t|\n",
      "on_test_dataloader                 \t|  7.2289e-06     \t|1              \t|  7.2289e-06     \t|  4.4918e-05     \t|\n",
      "configure_sharded_model            \t|  5.1782e-06     \t|1              \t|  5.1782e-06     \t|  3.2175e-05     \t|\n",
      "prepare_data                       \t|  3.8296e-06     \t|1              \t|  3.8296e-06     \t|  2.3796e-05     \t|\n",
      "\n"
     ]
    },
    {
     "name": "stdout",
     "output_type": "stream",
     "text": [
      "--------------------------------------------------------------------------------\n",
      "DATALOADER:0 TEST RESULTS\n",
      "{'test_loss': 0.3356193006038666, 'test_loss: mse': 0.35547760128974915}\n",
      "--------------------------------------------------------------------------------\n"
     ]
    },
    {
     "name": "stderr",
     "output_type": "stream",
     "text": [
      "/home/roko/.cache/pypoetry/virtualenvs/spatial-G_n0JvVf-py3.8/lib/python3.8/site-packages/hydra/experimental/initialize.py:35: UserWarning: hydra.experimental.initialize() is no longer experimental. Use hydra.initialize()\n",
      "  deprecation_warning(\n",
      "/home/roko/.cache/pypoetry/virtualenvs/spatial-G_n0JvVf-py3.8/lib/python3.8/site-packages/hydra/experimental/compose.py:18: UserWarning: hydra.experimental.compose() is no longer experimental. Use hydra.compose()\n",
      "  deprecation_warning(\n"
     ]
    },
    {
     "name": "stdout",
     "output_type": "stream",
     "text": [
      "Filtered Data (205348, 170)\n",
      "/home/roko/spatial/data/raw/merfish_messi.hdf5\n"
     ]
    },
    {
     "name": "stderr",
     "output_type": "stream",
     "text": [
      "GPU available: True, used: True\n",
      "TPU available: False, using: 0 TPU cores\n",
      "IPU available: False, using: 0 IPUs\n",
      "LOCAL_RANK: 0 - CUDA_VISIBLE_DEVICES: [0,1,2,3,4,5,6,7]\n",
      "/home/roko/.cache/pypoetry/virtualenvs/spatial-G_n0JvVf-py3.8/lib/python3.8/site-packages/pytorch_lightning/trainer/data_loading.py:132: UserWarning: The dataloader, test_dataloader 0, does not have many workers which may be a bottleneck. Consider increasing the value of the `num_workers` argument` (try 64 which is the number of cpus on this machine) in the `DataLoader` init to improve performance.\n",
      "  rank_zero_warn(\n"
     ]
    },
    {
     "data": {
      "application/vnd.jupyter.widget-view+json": {
       "model_id": "690ace882d2646d4b93b4191c12ee447",
       "version_major": 2,
       "version_minor": 0
      },
      "text/plain": [
       "Testing: 0it [00:00, ?it/s]"
      ]
     },
     "metadata": {},
     "output_type": "display_data"
    },
    {
     "name": "stderr",
     "output_type": "stream",
     "text": [
      "TEST Profiler Report\n",
      "\n",
      "Action                             \t|  Mean duration (s)\t|Num calls      \t|  Total time (s) \t|  Percentage %   \t|\n",
      "---------------------------------------------------------------------------------------------------------------------------------------\n",
      "Total                              \t|  -              \t|_              \t|  14.711         \t|  100 %          \t|\n",
      "---------------------------------------------------------------------------------------------------------------------------------------\n",
      "run_test_evaluation                \t|  14.667         \t|1              \t|  14.667         \t|  99.704         \t|\n",
      "evaluation_step_and_end            \t|  0.24539        \t|48             \t|  11.779         \t|  80.069         \t|\n",
      "test_step                          \t|  0.24527        \t|48             \t|  11.773         \t|  80.028         \t|\n",
      "get_test_batch                     \t|  0.03257        \t|49             \t|  1.5959         \t|  10.848         \t|\n",
      "fetch_next_test_batch              \t|  0.032499       \t|49             \t|  1.5925         \t|  10.825         \t|\n",
      "on_test_batch_end                  \t|  0.01904        \t|48             \t|  0.9139         \t|  6.2123         \t|\n",
      "evaluation_batch_to_device         \t|  0.0021836      \t|48             \t|  0.10481        \t|  0.71248        \t|\n",
      "on_test_start                      \t|  0.016449       \t|1              \t|  0.016449       \t|  0.11181        \t|\n",
      "on_test_batch_start                \t|  2.8047e-05     \t|48             \t|  0.0013462      \t|  0.0091512      \t|\n",
      "on_test_end                        \t|  0.00088067     \t|1              \t|  0.00088067     \t|  0.0059865      \t|\n",
      "test_step_end                      \t|  1.2902e-05     \t|48             \t|  0.00061929     \t|  0.0042097      \t|\n",
      "on_test_model_eval                 \t|  4.6156e-05     \t|1              \t|  4.6156e-05     \t|  0.00031375     \t|\n",
      "on_test_epoch_end                  \t|  3.1855e-05     \t|1              \t|  3.1855e-05     \t|  0.00021654     \t|\n",
      "teardown                           \t|  2.557e-05      \t|1              \t|  2.557e-05      \t|  0.00017382     \t|\n",
      "on_configure_sharded_model         \t|  1.5968e-05     \t|1              \t|  1.5968e-05     \t|  0.00010855     \t|\n",
      "on_epoch_end                       \t|  1.54e-05       \t|1              \t|  1.54e-05       \t|  0.00010469     \t|\n",
      "on_epoch_start                     \t|  1.2899e-05     \t|1              \t|  1.2899e-05     \t|  8.7681e-05     \t|\n",
      "on_before_accelerator_backend_setup\t|  1.2577e-05     \t|1              \t|  1.2577e-05     \t|  8.5491e-05     \t|\n",
      "on_test_epoch_start                \t|  9.8441e-06     \t|1              \t|  9.8441e-06     \t|  6.6916e-05     \t|\n",
      "configure_callbacks                \t|  9.1903e-06     \t|1              \t|  9.1903e-06     \t|  6.2472e-05     \t|\n",
      "setup                              \t|  8.8401e-06     \t|1              \t|  8.8401e-06     \t|  6.0092e-05     \t|\n",
      "configure_sharded_model            \t|  5.5451e-06     \t|1              \t|  5.5451e-06     \t|  3.7693e-05     \t|\n",
      "on_test_dataloader                 \t|  5.1148e-06     \t|1              \t|  5.1148e-06     \t|  3.4769e-05     \t|\n",
      "prepare_data                       \t|  3.8724e-06     \t|1              \t|  3.8724e-06     \t|  2.6323e-05     \t|\n",
      "\n"
     ]
    },
    {
     "name": "stdout",
     "output_type": "stream",
     "text": [
      "--------------------------------------------------------------------------------\n",
      "DATALOADER:0 TEST RESULTS\n",
      "{'test_loss': 0.32561439275741577, 'test_loss: mse': 0.3386404812335968}\n",
      "--------------------------------------------------------------------------------\n"
     ]
    },
    {
     "name": "stderr",
     "output_type": "stream",
     "text": [
      "/home/roko/.cache/pypoetry/virtualenvs/spatial-G_n0JvVf-py3.8/lib/python3.8/site-packages/hydra/experimental/initialize.py:35: UserWarning: hydra.experimental.initialize() is no longer experimental. Use hydra.initialize()\n",
      "  deprecation_warning(\n",
      "/home/roko/.cache/pypoetry/virtualenvs/spatial-G_n0JvVf-py3.8/lib/python3.8/site-packages/hydra/experimental/compose.py:18: UserWarning: hydra.experimental.compose() is no longer experimental. Use hydra.compose()\n",
      "  deprecation_warning(\n"
     ]
    },
    {
     "name": "stdout",
     "output_type": "stream",
     "text": [
      "Filtered Data (205348, 170)\n",
      "/home/roko/spatial/data/raw/merfish_messi.hdf5\n"
     ]
    },
    {
     "name": "stderr",
     "output_type": "stream",
     "text": [
      "GPU available: True, used: True\n",
      "TPU available: False, using: 0 TPU cores\n",
      "IPU available: False, using: 0 IPUs\n",
      "LOCAL_RANK: 0 - CUDA_VISIBLE_DEVICES: [0,1,2,3,4,5,6,7]\n",
      "/home/roko/.cache/pypoetry/virtualenvs/spatial-G_n0JvVf-py3.8/lib/python3.8/site-packages/pytorch_lightning/trainer/data_loading.py:132: UserWarning: The dataloader, test_dataloader 0, does not have many workers which may be a bottleneck. Consider increasing the value of the `num_workers` argument` (try 64 which is the number of cpus on this machine) in the `DataLoader` init to improve performance.\n",
      "  rank_zero_warn(\n"
     ]
    },
    {
     "data": {
      "application/vnd.jupyter.widget-view+json": {
       "model_id": "4cb5c4691776454db44c351747d85cfe",
       "version_major": 2,
       "version_minor": 0
      },
      "text/plain": [
       "Testing: 0it [00:00, ?it/s]"
      ]
     },
     "metadata": {},
     "output_type": "display_data"
    },
    {
     "name": "stderr",
     "output_type": "stream",
     "text": [
      "TEST Profiler Report\n",
      "\n",
      "Action                             \t|  Mean duration (s)\t|Num calls      \t|  Total time (s) \t|  Percentage %   \t|\n",
      "---------------------------------------------------------------------------------------------------------------------------------------\n",
      "Total                              \t|  -              \t|_              \t|  7.8897         \t|  100 %          \t|\n",
      "---------------------------------------------------------------------------------------------------------------------------------------\n",
      "run_test_evaluation                \t|  7.8419         \t|1              \t|  7.8419         \t|  99.394         \t|\n",
      "evaluation_step_and_end            \t|  0.25316        \t|24             \t|  6.0758         \t|  77.009         \t|\n",
      "test_step                          \t|  0.25299        \t|24             \t|  6.0719         \t|  76.96          \t|\n",
      "get_test_batch                     \t|  0.037515       \t|25             \t|  0.93789        \t|  11.888         \t|\n",
      "fetch_next_test_batch              \t|  0.03747        \t|25             \t|  0.93676        \t|  11.873         \t|\n",
      "on_test_batch_end                  \t|  0.01942        \t|24             \t|  0.46607        \t|  5.9074         \t|\n",
      "evaluation_batch_to_device         \t|  0.0030329      \t|24             \t|  0.072791       \t|  0.92261        \t|\n",
      "on_test_start                      \t|  0.01691        \t|1              \t|  0.01691        \t|  0.21433        \t|\n",
      "on_test_end                        \t|  0.0015451      \t|1              \t|  0.0015451      \t|  0.019583       \t|\n",
      "on_test_batch_start                \t|  3.1587e-05     \t|24             \t|  0.0007581      \t|  0.0096087      \t|\n",
      "test_step_end                      \t|  1.6703e-05     \t|24             \t|  0.00040088     \t|  0.0050811      \t|\n",
      "on_test_epoch_end                  \t|  7.4185e-05     \t|1              \t|  7.4185e-05     \t|  0.00094029     \t|\n",
      "on_test_model_eval                 \t|  4.8766e-05     \t|1              \t|  4.8766e-05     \t|  0.0006181      \t|\n",
      "teardown                           \t|  3.4824e-05     \t|1              \t|  3.4824e-05     \t|  0.00044139     \t|\n",
      "on_epoch_end                       \t|  2.2352e-05     \t|1              \t|  2.2352e-05     \t|  0.0002833      \t|\n",
      "on_configure_sharded_model         \t|  1.274e-05      \t|1              \t|  1.274e-05      \t|  0.00016148     \t|\n",
      "on_before_accelerator_backend_setup\t|  1.2254e-05     \t|1              \t|  1.2254e-05     \t|  0.00015532     \t|\n",
      "on_epoch_start                     \t|  1.1114e-05     \t|1              \t|  1.1114e-05     \t|  0.00014087     \t|\n",
      "on_test_epoch_start                \t|  9.2369e-06     \t|1              \t|  9.2369e-06     \t|  0.00011708     \t|\n",
      "setup                              \t|  9.14e-06       \t|1              \t|  9.14e-06       \t|  0.00011585     \t|\n",
      "configure_callbacks                \t|  7.6946e-06     \t|1              \t|  7.6946e-06     \t|  9.7528e-05     \t|\n",
      "on_test_dataloader                 \t|  5.3421e-06     \t|1              \t|  5.3421e-06     \t|  6.771e-05      \t|\n",
      "configure_sharded_model            \t|  4.7293e-06     \t|1              \t|  4.7293e-06     \t|  5.9943e-05     \t|\n",
      "prepare_data                       \t|  3.6955e-06     \t|1              \t|  3.6955e-06     \t|  4.684e-05      \t|\n",
      "\n"
     ]
    },
    {
     "name": "stdout",
     "output_type": "stream",
     "text": [
      "--------------------------------------------------------------------------------\n",
      "DATALOADER:0 TEST RESULTS\n",
      "{'test_loss': 0.31718048453330994, 'test_loss: mse': 0.3304603397846222}\n",
      "--------------------------------------------------------------------------------\n"
     ]
    },
    {
     "name": "stderr",
     "output_type": "stream",
     "text": [
      "/home/roko/.cache/pypoetry/virtualenvs/spatial-G_n0JvVf-py3.8/lib/python3.8/site-packages/hydra/experimental/initialize.py:35: UserWarning: hydra.experimental.initialize() is no longer experimental. Use hydra.initialize()\n",
      "  deprecation_warning(\n",
      "/home/roko/.cache/pypoetry/virtualenvs/spatial-G_n0JvVf-py3.8/lib/python3.8/site-packages/hydra/experimental/compose.py:18: UserWarning: hydra.experimental.compose() is no longer experimental. Use hydra.compose()\n",
      "  deprecation_warning(\n"
     ]
    },
    {
     "name": "stdout",
     "output_type": "stream",
     "text": [
      "Filtered Data (205348, 170)\n",
      "/home/roko/spatial/data/raw/merfish_messi.hdf5\n"
     ]
    },
    {
     "name": "stderr",
     "output_type": "stream",
     "text": [
      "GPU available: True, used: True\n",
      "TPU available: False, using: 0 TPU cores\n",
      "IPU available: False, using: 0 IPUs\n",
      "LOCAL_RANK: 0 - CUDA_VISIBLE_DEVICES: [0,1,2,3,4,5,6,7]\n",
      "/home/roko/.cache/pypoetry/virtualenvs/spatial-G_n0JvVf-py3.8/lib/python3.8/site-packages/pytorch_lightning/trainer/data_loading.py:132: UserWarning: The dataloader, test_dataloader 0, does not have many workers which may be a bottleneck. Consider increasing the value of the `num_workers` argument` (try 64 which is the number of cpus on this machine) in the `DataLoader` init to improve performance.\n",
      "  rank_zero_warn(\n"
     ]
    },
    {
     "data": {
      "application/vnd.jupyter.widget-view+json": {
       "model_id": "f92425f8f2d249f38e8ed42b8ace1447",
       "version_major": 2,
       "version_minor": 0
      },
      "text/plain": [
       "Testing: 0it [00:00, ?it/s]"
      ]
     },
     "metadata": {},
     "output_type": "display_data"
    },
    {
     "name": "stderr",
     "output_type": "stream",
     "text": [
      "TEST Profiler Report\n",
      "\n",
      "Action                             \t|  Mean duration (s)\t|Num calls      \t|  Total time (s) \t|  Percentage %   \t|\n",
      "---------------------------------------------------------------------------------------------------------------------------------------\n",
      "Total                              \t|  -              \t|_              \t|  6.1438         \t|  100 %          \t|\n",
      "---------------------------------------------------------------------------------------------------------------------------------------\n",
      "run_test_evaluation                \t|  6.0981         \t|1              \t|  6.0981         \t|  99.256         \t|\n",
      "evaluation_step_and_end            \t|  0.22194        \t|20             \t|  4.4388         \t|  72.249         \t|\n",
      "test_step                          \t|  0.22181        \t|20             \t|  4.4363         \t|  72.208         \t|\n",
      "get_test_batch                     \t|  0.043221       \t|21             \t|  0.90764        \t|  14.773         \t|\n",
      "fetch_next_test_batch              \t|  0.04318        \t|21             \t|  0.90679        \t|  14.759         \t|\n",
      "on_test_batch_end                  \t|  0.020507       \t|20             \t|  0.41013        \t|  6.6756         \t|\n",
      "evaluation_batch_to_device         \t|  0.0034969      \t|20             \t|  0.069938       \t|  1.1384         \t|\n",
      "on_test_start                      \t|  0.0175         \t|1              \t|  0.0175         \t|  0.28484        \t|\n",
      "on_test_end                        \t|  0.0013294      \t|1              \t|  0.0013294      \t|  0.021638       \t|\n",
      "on_test_batch_start                \t|  3.2718e-05     \t|20             \t|  0.00065436     \t|  0.010651       \t|\n",
      "test_step_end                      \t|  1.3529e-05     \t|20             \t|  0.00027058     \t|  0.0044041      \t|\n",
      "on_test_model_eval                 \t|  5.1286e-05     \t|1              \t|  5.1286e-05     \t|  0.00083477     \t|\n",
      "on_test_epoch_end                  \t|  4.6851e-05     \t|1              \t|  4.6851e-05     \t|  0.00076258     \t|\n",
      "teardown                           \t|  2.5855e-05     \t|1              \t|  2.5855e-05     \t|  0.00042084     \t|\n",
      "on_epoch_end                       \t|  2.2514e-05     \t|1              \t|  2.2514e-05     \t|  0.00036645     \t|\n",
      "on_configure_sharded_model         \t|  1.6153e-05     \t|1              \t|  1.6153e-05     \t|  0.00026291     \t|\n",
      "on_before_accelerator_backend_setup\t|  1.3884e-05     \t|1              \t|  1.3884e-05     \t|  0.00022599     \t|\n",
      "on_epoch_start                     \t|  1.3154e-05     \t|1              \t|  1.3154e-05     \t|  0.0002141      \t|\n",
      "on_test_epoch_start                \t|  1.0364e-05     \t|1              \t|  1.0364e-05     \t|  0.00016869     \t|\n",
      "setup                              \t|  9.8795e-06     \t|1              \t|  9.8795e-06     \t|  0.0001608      \t|\n",
      "configure_callbacks                \t|  8.9183e-06     \t|1              \t|  8.9183e-06     \t|  0.00014516     \t|\n",
      "on_test_dataloader                 \t|  5.2452e-06     \t|1              \t|  5.2452e-06     \t|  8.5374e-05     \t|\n",
      "configure_sharded_model            \t|  5.113e-06      \t|1              \t|  5.113e-06      \t|  8.3222e-05     \t|\n",
      "prepare_data                       \t|  3.8128e-06     \t|1              \t|  3.8128e-06     \t|  6.206e-05      \t|\n",
      "\n"
     ]
    },
    {
     "name": "stdout",
     "output_type": "stream",
     "text": [
      "--------------------------------------------------------------------------------\n",
      "DATALOADER:0 TEST RESULTS\n",
      "{'test_loss': 0.3340090215206146, 'test_loss: mse': 0.36300522089004517}\n",
      "--------------------------------------------------------------------------------\n"
     ]
    },
    {
     "name": "stderr",
     "output_type": "stream",
     "text": [
      "/home/roko/.cache/pypoetry/virtualenvs/spatial-G_n0JvVf-py3.8/lib/python3.8/site-packages/hydra/experimental/initialize.py:35: UserWarning: hydra.experimental.initialize() is no longer experimental. Use hydra.initialize()\n",
      "  deprecation_warning(\n",
      "/home/roko/.cache/pypoetry/virtualenvs/spatial-G_n0JvVf-py3.8/lib/python3.8/site-packages/hydra/experimental/compose.py:18: UserWarning: hydra.experimental.compose() is no longer experimental. Use hydra.compose()\n",
      "  deprecation_warning(\n"
     ]
    },
    {
     "name": "stdout",
     "output_type": "stream",
     "text": [
      "Filtered Data (205348, 170)\n",
      "/home/roko/spatial/data/raw/merfish_messi.hdf5\n"
     ]
    },
    {
     "name": "stderr",
     "output_type": "stream",
     "text": [
      "GPU available: True, used: True\n",
      "TPU available: False, using: 0 TPU cores\n",
      "IPU available: False, using: 0 IPUs\n",
      "LOCAL_RANK: 0 - CUDA_VISIBLE_DEVICES: [0,1,2,3,4,5,6,7]\n",
      "/home/roko/.cache/pypoetry/virtualenvs/spatial-G_n0JvVf-py3.8/lib/python3.8/site-packages/pytorch_lightning/trainer/data_loading.py:132: UserWarning: The dataloader, test_dataloader 0, does not have many workers which may be a bottleneck. Consider increasing the value of the `num_workers` argument` (try 64 which is the number of cpus on this machine) in the `DataLoader` init to improve performance.\n",
      "  rank_zero_warn(\n"
     ]
    },
    {
     "data": {
      "application/vnd.jupyter.widget-view+json": {
       "model_id": "458e945325af44bca11a6488e0f8dfa2",
       "version_major": 2,
       "version_minor": 0
      },
      "text/plain": [
       "Testing: 0it [00:00, ?it/s]"
      ]
     },
     "metadata": {},
     "output_type": "display_data"
    },
    {
     "name": "stderr",
     "output_type": "stream",
     "text": [
      "TEST Profiler Report\n",
      "\n",
      "Action                             \t|  Mean duration (s)\t|Num calls      \t|  Total time (s) \t|  Percentage %   \t|\n",
      "---------------------------------------------------------------------------------------------------------------------------------------\n",
      "Total                              \t|  -              \t|_              \t|  16.277         \t|  100 %          \t|\n",
      "---------------------------------------------------------------------------------------------------------------------------------------\n",
      "run_test_evaluation                \t|  16.22          \t|1              \t|  16.22          \t|  99.648         \t|\n",
      "evaluation_step_and_end            \t|  0.2647         \t|48             \t|  12.706         \t|  78.059         \t|\n",
      "test_step                          \t|  0.26456        \t|48             \t|  12.699         \t|  78.018         \t|\n",
      "get_test_batch                     \t|  0.043792       \t|49             \t|  2.1458         \t|  13.183         \t|\n",
      "fetch_next_test_batch              \t|  0.043748       \t|49             \t|  2.1437         \t|  13.17          \t|\n",
      "on_test_batch_end                  \t|  0.019933       \t|48             \t|  0.95681        \t|  5.8782         \t|\n",
      "evaluation_batch_to_device         \t|  0.0020729      \t|48             \t|  0.0995         \t|  0.61129        \t|\n",
      "on_test_start                      \t|  0.018401       \t|1              \t|  0.018401       \t|  0.11305        \t|\n",
      "on_test_batch_start                \t|  3.172e-05      \t|48             \t|  0.0015226      \t|  0.009354       \t|\n",
      "on_test_end                        \t|  0.0015211      \t|1              \t|  0.0015211      \t|  0.0093453      \t|\n",
      "test_step_end                      \t|  1.3488e-05     \t|48             \t|  0.00064743     \t|  0.0039776      \t|\n",
      "on_test_model_eval                 \t|  7.0743e-05     \t|1              \t|  7.0743e-05     \t|  0.00043462     \t|\n",
      "on_test_epoch_end                  \t|  4.5352e-05     \t|1              \t|  4.5352e-05     \t|  0.00027862     \t|\n",
      "teardown                           \t|  3.4165e-05     \t|1              \t|  3.4165e-05     \t|  0.00020989     \t|\n",
      "on_epoch_end                       \t|  1.9629e-05     \t|1              \t|  1.9629e-05     \t|  0.00012059     \t|\n",
      "on_configure_sharded_model         \t|  1.7187e-05     \t|1              \t|  1.7187e-05     \t|  0.00010559     \t|\n",
      "on_epoch_start                     \t|  1.405e-05      \t|1              \t|  1.405e-05      \t|  8.6317e-05     \t|\n",
      "on_before_accelerator_backend_setup\t|  1.3301e-05     \t|1              \t|  1.3301e-05     \t|  8.1717e-05     \t|\n",
      "setup                              \t|  1.052e-05      \t|1              \t|  1.052e-05      \t|  6.4632e-05     \t|\n",
      "on_test_epoch_start                \t|  1.0334e-05     \t|1              \t|  1.0334e-05     \t|  6.3488e-05     \t|\n",
      "configure_callbacks                \t|  9.2313e-06     \t|1              \t|  9.2313e-06     \t|  5.6713e-05     \t|\n",
      "on_test_dataloader                 \t|  8.2161e-06     \t|1              \t|  8.2161e-06     \t|  5.0476e-05     \t|\n",
      "configure_sharded_model            \t|  5.1707e-06     \t|1              \t|  5.1707e-06     \t|  3.1767e-05     \t|\n",
      "prepare_data                       \t|  3.9637e-06     \t|1              \t|  3.9637e-06     \t|  2.4351e-05     \t|\n",
      "\n"
     ]
    },
    {
     "name": "stdout",
     "output_type": "stream",
     "text": [
      "--------------------------------------------------------------------------------\n",
      "DATALOADER:0 TEST RESULTS\n",
      "{'test_loss': 0.3336813747882843, 'test_loss: mse': 0.3503060042858124}\n",
      "--------------------------------------------------------------------------------\n"
     ]
    },
    {
     "name": "stderr",
     "output_type": "stream",
     "text": [
      "/home/roko/.cache/pypoetry/virtualenvs/spatial-G_n0JvVf-py3.8/lib/python3.8/site-packages/hydra/experimental/initialize.py:35: UserWarning: hydra.experimental.initialize() is no longer experimental. Use hydra.initialize()\n",
      "  deprecation_warning(\n",
      "/home/roko/.cache/pypoetry/virtualenvs/spatial-G_n0JvVf-py3.8/lib/python3.8/site-packages/hydra/experimental/compose.py:18: UserWarning: hydra.experimental.compose() is no longer experimental. Use hydra.compose()\n",
      "  deprecation_warning(\n"
     ]
    },
    {
     "name": "stdout",
     "output_type": "stream",
     "text": [
      "Filtered Data (205348, 170)\n",
      "/home/roko/spatial/data/raw/merfish_messi.hdf5\n"
     ]
    },
    {
     "name": "stderr",
     "output_type": "stream",
     "text": [
      "GPU available: True, used: True\n",
      "TPU available: False, using: 0 TPU cores\n",
      "IPU available: False, using: 0 IPUs\n",
      "LOCAL_RANK: 0 - CUDA_VISIBLE_DEVICES: [0,1,2,3,4,5,6,7]\n",
      "/home/roko/.cache/pypoetry/virtualenvs/spatial-G_n0JvVf-py3.8/lib/python3.8/site-packages/pytorch_lightning/trainer/data_loading.py:132: UserWarning: The dataloader, test_dataloader 0, does not have many workers which may be a bottleneck. Consider increasing the value of the `num_workers` argument` (try 64 which is the number of cpus on this machine) in the `DataLoader` init to improve performance.\n",
      "  rank_zero_warn(\n"
     ]
    },
    {
     "data": {
      "application/vnd.jupyter.widget-view+json": {
       "model_id": "58bea263b4cd46399a6a7e01aab8f7ab",
       "version_major": 2,
       "version_minor": 0
      },
      "text/plain": [
       "Testing: 0it [00:00, ?it/s]"
      ]
     },
     "metadata": {},
     "output_type": "display_data"
    },
    {
     "name": "stderr",
     "output_type": "stream",
     "text": [
      "TEST Profiler Report\n",
      "\n",
      "Action                             \t|  Mean duration (s)\t|Num calls      \t|  Total time (s) \t|  Percentage %   \t|\n",
      "---------------------------------------------------------------------------------------------------------------------------------------\n",
      "Total                              \t|  -              \t|_              \t|  14.608         \t|  100 %          \t|\n",
      "---------------------------------------------------------------------------------------------------------------------------------------\n",
      "run_test_evaluation                \t|  14.543         \t|1              \t|  14.543         \t|  99.557         \t|\n",
      "evaluation_step_and_end            \t|  0.23838        \t|48             \t|  11.442         \t|  78.327         \t|\n",
      "test_step                          \t|  0.23823        \t|48             \t|  11.435         \t|  78.281         \t|\n",
      "get_test_batch                     \t|  0.035734       \t|49             \t|  1.751          \t|  11.986         \t|\n",
      "fetch_next_test_batch              \t|  0.035692       \t|49             \t|  1.7489         \t|  11.972         \t|\n",
      "on_test_batch_end                  \t|  0.018641       \t|48             \t|  0.89478        \t|  6.1253         \t|\n",
      "evaluation_batch_to_device         \t|  0.0026298      \t|48             \t|  0.12623        \t|  0.86413        \t|\n",
      "on_test_start                      \t|  0.019292       \t|1              \t|  0.019292       \t|  0.13207        \t|\n",
      "on_test_batch_start                \t|  3.1446e-05     \t|48             \t|  0.0015094      \t|  0.010333       \t|\n",
      "on_test_end                        \t|  0.0011067      \t|1              \t|  0.0011067      \t|  0.0075762      \t|\n",
      "test_step_end                      \t|  1.3117e-05     \t|48             \t|  0.00062961     \t|  0.0043101      \t|\n",
      "on_test_model_eval                 \t|  7.5283e-05     \t|1              \t|  7.5283e-05     \t|  0.00051535     \t|\n",
      "on_test_epoch_end                  \t|  2.7249e-05     \t|1              \t|  2.7249e-05     \t|  0.00018653     \t|\n",
      "teardown                           \t|  2.3611e-05     \t|1              \t|  2.3611e-05     \t|  0.00016163     \t|\n",
      "on_configure_sharded_model         \t|  1.679e-05      \t|1              \t|  1.679e-05      \t|  0.00011494     \t|\n",
      "on_epoch_start                     \t|  1.5004e-05     \t|1              \t|  1.5004e-05     \t|  0.00010271     \t|\n",
      "on_epoch_end                       \t|  1.4577e-05     \t|1              \t|  1.4577e-05     \t|  9.9788e-05     \t|\n",
      "on_before_accelerator_backend_setup\t|  1.3456e-05     \t|1              \t|  1.3456e-05     \t|  9.2112e-05     \t|\n",
      "setup                              \t|  9.7714e-06     \t|1              \t|  9.7714e-06     \t|  6.6891e-05     \t|\n",
      "on_test_dataloader                 \t|  8.6725e-06     \t|1              \t|  8.6725e-06     \t|  5.9368e-05     \t|\n",
      "on_test_epoch_start                \t|  8.5756e-06     \t|1              \t|  8.5756e-06     \t|  5.8705e-05     \t|\n",
      "configure_callbacks                \t|  7.2252e-06     \t|1              \t|  7.2252e-06     \t|  4.9461e-05     \t|\n",
      "configure_sharded_model            \t|  5.3607e-06     \t|1              \t|  5.3607e-06     \t|  3.6697e-05     \t|\n",
      "prepare_data                       \t|  4.7199e-06     \t|1              \t|  4.7199e-06     \t|  3.2311e-05     \t|\n",
      "\n"
     ]
    },
    {
     "name": "stdout",
     "output_type": "stream",
     "text": [
      "--------------------------------------------------------------------------------\n",
      "DATALOADER:0 TEST RESULTS\n",
      "{'test_loss': 0.32789313793182373, 'test_loss: mse': 0.856422483921051}\n",
      "--------------------------------------------------------------------------------\n"
     ]
    },
    {
     "name": "stderr",
     "output_type": "stream",
     "text": [
      "/home/roko/.cache/pypoetry/virtualenvs/spatial-G_n0JvVf-py3.8/lib/python3.8/site-packages/hydra/experimental/initialize.py:35: UserWarning: hydra.experimental.initialize() is no longer experimental. Use hydra.initialize()\n",
      "  deprecation_warning(\n",
      "/home/roko/.cache/pypoetry/virtualenvs/spatial-G_n0JvVf-py3.8/lib/python3.8/site-packages/hydra/experimental/compose.py:18: UserWarning: hydra.experimental.compose() is no longer experimental. Use hydra.compose()\n",
      "  deprecation_warning(\n"
     ]
    },
    {
     "name": "stdout",
     "output_type": "stream",
     "text": [
      "Filtered Data (205348, 170)\n",
      "/home/roko/spatial/data/raw/merfish_messi.hdf5\n"
     ]
    },
    {
     "name": "stderr",
     "output_type": "stream",
     "text": [
      "GPU available: True, used: True\n",
      "TPU available: False, using: 0 TPU cores\n",
      "IPU available: False, using: 0 IPUs\n",
      "LOCAL_RANK: 0 - CUDA_VISIBLE_DEVICES: [0,1,2,3,4,5,6,7]\n",
      "/home/roko/.cache/pypoetry/virtualenvs/spatial-G_n0JvVf-py3.8/lib/python3.8/site-packages/pytorch_lightning/trainer/data_loading.py:132: UserWarning: The dataloader, test_dataloader 0, does not have many workers which may be a bottleneck. Consider increasing the value of the `num_workers` argument` (try 64 which is the number of cpus on this machine) in the `DataLoader` init to improve performance.\n",
      "  rank_zero_warn(\n"
     ]
    },
    {
     "data": {
      "application/vnd.jupyter.widget-view+json": {
       "model_id": "2490700312774fcd8c3ca56e287f4ebc",
       "version_major": 2,
       "version_minor": 0
      },
      "text/plain": [
       "Testing: 0it [00:00, ?it/s]"
      ]
     },
     "metadata": {},
     "output_type": "display_data"
    },
    {
     "name": "stderr",
     "output_type": "stream",
     "text": [
      "TEST Profiler Report\n",
      "\n",
      "Action                             \t|  Mean duration (s)\t|Num calls      \t|  Total time (s) \t|  Percentage %   \t|\n",
      "---------------------------------------------------------------------------------------------------------------------------------------\n",
      "Total                              \t|  -              \t|_              \t|  7.8207         \t|  100 %          \t|\n",
      "---------------------------------------------------------------------------------------------------------------------------------------\n",
      "run_test_evaluation                \t|  7.7667         \t|1              \t|  7.7667         \t|  99.31          \t|\n",
      "evaluation_step_and_end            \t|  0.24412        \t|24             \t|  5.8588         \t|  74.914         \t|\n",
      "test_step                          \t|  0.24397        \t|24             \t|  5.8553         \t|  74.87          \t|\n",
      "get_test_batch                     \t|  0.042468       \t|25             \t|  1.0617         \t|  13.576         \t|\n",
      "fetch_next_test_batch              \t|  0.042386       \t|25             \t|  1.0597         \t|  13.549         \t|\n",
      "on_test_batch_end                  \t|  0.020556       \t|24             \t|  0.49334        \t|  6.3081         \t|\n",
      "evaluation_batch_to_device         \t|  0.0020823      \t|24             \t|  0.049976       \t|  0.63902        \t|\n",
      "on_test_start                      \t|  0.01801        \t|1              \t|  0.01801        \t|  0.23029        \t|\n",
      "on_test_end                        \t|  0.0013113      \t|1              \t|  0.0013113      \t|  0.016768       \t|\n",
      "on_test_batch_start                \t|  3.3128e-05     \t|24             \t|  0.00079508     \t|  0.010166       \t|\n",
      "test_step_end                      \t|  1.5301e-05     \t|24             \t|  0.00036723     \t|  0.0046957      \t|\n",
      "on_test_model_eval                 \t|  7.5551e-05     \t|1              \t|  7.5551e-05     \t|  0.00096604     \t|\n",
      "on_test_epoch_end                  \t|  5.2659e-05     \t|1              \t|  5.2659e-05     \t|  0.00067333     \t|\n",
      "teardown                           \t|  3.5005e-05     \t|1              \t|  3.5005e-05     \t|  0.00044759     \t|\n",
      "on_epoch_end                       \t|  2.2212e-05     \t|1              \t|  2.2212e-05     \t|  0.00028402     \t|\n",
      "on_configure_sharded_model         \t|  1.5855e-05     \t|1              \t|  1.5855e-05     \t|  0.00020273     \t|\n",
      "on_epoch_start                     \t|  1.5162e-05     \t|1              \t|  1.5162e-05     \t|  0.00019387     \t|\n",
      "on_before_accelerator_backend_setup\t|  1.4519e-05     \t|1              \t|  1.4519e-05     \t|  0.00018565     \t|\n",
      "on_test_epoch_start                \t|  1.0924e-05     \t|1              \t|  1.0924e-05     \t|  0.00013969     \t|\n",
      "configure_callbacks                \t|  9.9614e-06     \t|1              \t|  9.9614e-06     \t|  0.00012737     \t|\n",
      "setup                              \t|  9.7454e-06     \t|1              \t|  9.7454e-06     \t|  0.00012461     \t|\n",
      "on_test_dataloader                 \t|  8.0317e-06     \t|1              \t|  8.0317e-06     \t|  0.0001027      \t|\n",
      "configure_sharded_model            \t|  5.113e-06      \t|1              \t|  5.113e-06      \t|  6.5378e-05     \t|\n",
      "prepare_data                       \t|  4.3008e-06     \t|1              \t|  4.3008e-06     \t|  5.4993e-05     \t|\n",
      "\n"
     ]
    },
    {
     "name": "stdout",
     "output_type": "stream",
     "text": [
      "--------------------------------------------------------------------------------\n",
      "DATALOADER:0 TEST RESULTS\n",
      "{'test_loss': 0.31558355689048767, 'test_loss: mse': 0.32169288396835327}\n",
      "--------------------------------------------------------------------------------\n"
     ]
    },
    {
     "name": "stderr",
     "output_type": "stream",
     "text": [
      "/home/roko/.cache/pypoetry/virtualenvs/spatial-G_n0JvVf-py3.8/lib/python3.8/site-packages/hydra/experimental/initialize.py:35: UserWarning: hydra.experimental.initialize() is no longer experimental. Use hydra.initialize()\n",
      "  deprecation_warning(\n",
      "/home/roko/.cache/pypoetry/virtualenvs/spatial-G_n0JvVf-py3.8/lib/python3.8/site-packages/hydra/experimental/compose.py:18: UserWarning: hydra.experimental.compose() is no longer experimental. Use hydra.compose()\n",
      "  deprecation_warning(\n"
     ]
    },
    {
     "name": "stdout",
     "output_type": "stream",
     "text": [
      "Filtered Data (205348, 170)\n",
      "/home/roko/spatial/data/raw/merfish_messi.hdf5\n"
     ]
    },
    {
     "name": "stderr",
     "output_type": "stream",
     "text": [
      "GPU available: True, used: True\n",
      "TPU available: False, using: 0 TPU cores\n",
      "IPU available: False, using: 0 IPUs\n",
      "LOCAL_RANK: 0 - CUDA_VISIBLE_DEVICES: [0,1,2,3,4,5,6,7]\n",
      "/home/roko/.cache/pypoetry/virtualenvs/spatial-G_n0JvVf-py3.8/lib/python3.8/site-packages/pytorch_lightning/trainer/data_loading.py:132: UserWarning: The dataloader, test_dataloader 0, does not have many workers which may be a bottleneck. Consider increasing the value of the `num_workers` argument` (try 64 which is the number of cpus on this machine) in the `DataLoader` init to improve performance.\n",
      "  rank_zero_warn(\n"
     ]
    },
    {
     "data": {
      "application/vnd.jupyter.widget-view+json": {
       "model_id": "362a40c7aa6e491988310e7c73c2bf4d",
       "version_major": 2,
       "version_minor": 0
      },
      "text/plain": [
       "Testing: 0it [00:00, ?it/s]"
      ]
     },
     "metadata": {},
     "output_type": "display_data"
    },
    {
     "name": "stderr",
     "output_type": "stream",
     "text": [
      "TEST Profiler Report\n",
      "\n",
      "Action                             \t|  Mean duration (s)\t|Num calls      \t|  Total time (s) \t|  Percentage %   \t|\n",
      "---------------------------------------------------------------------------------------------------------------------------------------\n",
      "Total                              \t|  -              \t|_              \t|  6.7858         \t|  100 %          \t|\n",
      "---------------------------------------------------------------------------------------------------------------------------------------\n",
      "run_test_evaluation                \t|  6.7196         \t|1              \t|  6.7196         \t|  99.024         \t|\n",
      "evaluation_step_and_end            \t|  0.24162        \t|20             \t|  4.8324         \t|  71.214         \t|\n",
      "test_step                          \t|  0.24147        \t|20             \t|  4.8294         \t|  71.17          \t|\n",
      "get_test_batch                     \t|  0.049434       \t|21             \t|  1.0381         \t|  15.299         \t|\n",
      "fetch_next_test_batch              \t|  0.049285       \t|21             \t|  1.035          \t|  15.252         \t|\n",
      "on_test_batch_end                  \t|  0.019956       \t|20             \t|  0.39911        \t|  5.8816         \t|\n",
      "evaluation_batch_to_device         \t|  0.0039422      \t|20             \t|  0.078844       \t|  1.1619         \t|\n",
      "on_test_start                      \t|  0.027072       \t|1              \t|  0.027072       \t|  0.39895        \t|\n",
      "on_test_end                        \t|  0.0015791      \t|1              \t|  0.0015791      \t|  0.023271       \t|\n",
      "on_test_batch_start                \t|  3.7994e-05     \t|20             \t|  0.00075987     \t|  0.011198       \t|\n",
      "test_step_end                      \t|  1.4538e-05     \t|20             \t|  0.00029077     \t|  0.0042849      \t|\n",
      "on_test_model_eval                 \t|  0.00012832     \t|1              \t|  0.00012832     \t|  0.001891       \t|\n",
      "on_test_epoch_end                  \t|  6.0061e-05     \t|1              \t|  6.0061e-05     \t|  0.0008851      \t|\n",
      "teardown                           \t|  3.7543e-05     \t|1              \t|  3.7543e-05     \t|  0.00055327     \t|\n",
      "on_epoch_end                       \t|  2.484e-05      \t|1              \t|  2.484e-05      \t|  0.00036606     \t|\n",
      "on_configure_sharded_model         \t|  2.3186e-05     \t|1              \t|  2.3186e-05     \t|  0.00034169     \t|\n",
      "on_epoch_start                     \t|  2.04e-05       \t|1              \t|  2.04e-05       \t|  0.00030062     \t|\n",
      "configure_callbacks                \t|  1.8895e-05     \t|1              \t|  1.8895e-05     \t|  0.00027845     \t|\n",
      "on_before_accelerator_backend_setup\t|  1.7378e-05     \t|1              \t|  1.7378e-05     \t|  0.0002561      \t|\n",
      "on_test_dataloader                 \t|  1.4668e-05     \t|1              \t|  1.4668e-05     \t|  0.00021616     \t|\n",
      "setup                              \t|  1.4072e-05     \t|1              \t|  1.4072e-05     \t|  0.00020738     \t|\n",
      "on_test_epoch_start                \t|  1.2768e-05     \t|1              \t|  1.2768e-05     \t|  0.00018816     \t|\n",
      "configure_sharded_model            \t|  6.7968e-06     \t|1              \t|  6.7968e-06     \t|  0.00010016     \t|\n",
      "prepare_data                       \t|  5.7276e-06     \t|1              \t|  5.7276e-06     \t|  8.4407e-05     \t|\n",
      "\n"
     ]
    },
    {
     "name": "stdout",
     "output_type": "stream",
     "text": [
      "--------------------------------------------------------------------------------\n",
      "DATALOADER:0 TEST RESULTS\n",
      "{'test_loss': 0.33445167541503906, 'test_loss: mse': 0.3637737035751343}\n",
      "--------------------------------------------------------------------------------\n"
     ]
    },
    {
     "name": "stderr",
     "output_type": "stream",
     "text": [
      "/home/roko/.cache/pypoetry/virtualenvs/spatial-G_n0JvVf-py3.8/lib/python3.8/site-packages/hydra/experimental/initialize.py:35: UserWarning: hydra.experimental.initialize() is no longer experimental. Use hydra.initialize()\n",
      "  deprecation_warning(\n",
      "/home/roko/.cache/pypoetry/virtualenvs/spatial-G_n0JvVf-py3.8/lib/python3.8/site-packages/hydra/experimental/compose.py:18: UserWarning: hydra.experimental.compose() is no longer experimental. Use hydra.compose()\n",
      "  deprecation_warning(\n"
     ]
    },
    {
     "name": "stdout",
     "output_type": "stream",
     "text": [
      "Filtered Data (205348, 170)\n",
      "/home/roko/spatial/data/raw/merfish_messi.hdf5\n"
     ]
    },
    {
     "name": "stderr",
     "output_type": "stream",
     "text": [
      "GPU available: True, used: True\n",
      "TPU available: False, using: 0 TPU cores\n",
      "IPU available: False, using: 0 IPUs\n",
      "LOCAL_RANK: 0 - CUDA_VISIBLE_DEVICES: [0,1,2,3,4,5,6,7]\n",
      "/home/roko/.cache/pypoetry/virtualenvs/spatial-G_n0JvVf-py3.8/lib/python3.8/site-packages/pytorch_lightning/trainer/data_loading.py:132: UserWarning: The dataloader, test_dataloader 0, does not have many workers which may be a bottleneck. Consider increasing the value of the `num_workers` argument` (try 64 which is the number of cpus on this machine) in the `DataLoader` init to improve performance.\n",
      "  rank_zero_warn(\n"
     ]
    },
    {
     "data": {
      "application/vnd.jupyter.widget-view+json": {
       "model_id": "f06a7ef5acfa496aacdbfdd41aee2843",
       "version_major": 2,
       "version_minor": 0
      },
      "text/plain": [
       "Testing: 0it [00:00, ?it/s]"
      ]
     },
     "metadata": {},
     "output_type": "display_data"
    },
    {
     "name": "stderr",
     "output_type": "stream",
     "text": [
      "TEST Profiler Report\n",
      "\n",
      "Action                             \t|  Mean duration (s)\t|Num calls      \t|  Total time (s) \t|  Percentage %   \t|\n",
      "---------------------------------------------------------------------------------------------------------------------------------------\n",
      "Total                              \t|  -              \t|_              \t|  15.943         \t|  100 %          \t|\n",
      "---------------------------------------------------------------------------------------------------------------------------------------\n",
      "run_test_evaluation                \t|  15.883         \t|1              \t|  15.883         \t|  99.627         \t|\n",
      "evaluation_step_and_end            \t|  0.2583         \t|48             \t|  12.399         \t|  77.771         \t|\n",
      "test_step                          \t|  0.25816        \t|48             \t|  12.392         \t|  77.728         \t|\n",
      "get_test_batch                     \t|  0.041396       \t|49             \t|  2.0284         \t|  12.723         \t|\n",
      "fetch_next_test_batch              \t|  0.041352       \t|49             \t|  2.0263         \t|  12.71          \t|\n",
      "on_test_batch_end                  \t|  0.020986       \t|48             \t|  1.0073         \t|  6.3185         \t|\n",
      "evaluation_batch_to_device         \t|  0.0029942      \t|48             \t|  0.14372        \t|  0.90151        \t|\n",
      "on_test_start                      \t|  0.018601       \t|1              \t|  0.018601       \t|  0.11667        \t|\n",
      "on_test_batch_start                \t|  3.2772e-05     \t|48             \t|  0.001573       \t|  0.0098669      \t|\n",
      "on_test_end                        \t|  0.001182       \t|1              \t|  0.001182       \t|  0.0074142      \t|\n",
      "test_step_end                      \t|  1.4245e-05     \t|48             \t|  0.00068376     \t|  0.0042889      \t|\n",
      "on_test_epoch_end                  \t|  5.5688e-05     \t|1              \t|  5.5688e-05     \t|  0.0003493      \t|\n",
      "on_test_model_eval                 \t|  5.2195e-05     \t|1              \t|  5.2195e-05     \t|  0.00032739     \t|\n",
      "teardown                           \t|  3.6154e-05     \t|1              \t|  3.6154e-05     \t|  0.00022678     \t|\n",
      "on_epoch_end                       \t|  2.3529e-05     \t|1              \t|  2.3529e-05     \t|  0.00014759     \t|\n",
      "on_configure_sharded_model         \t|  1.6194e-05     \t|1              \t|  1.6194e-05     \t|  0.00010158     \t|\n",
      "on_epoch_start                     \t|  1.4937e-05     \t|1              \t|  1.4937e-05     \t|  9.369e-05      \t|\n",
      "on_before_accelerator_backend_setup\t|  1.3743e-05     \t|1              \t|  1.3743e-05     \t|  8.6201e-05     \t|\n",
      "on_test_epoch_start                \t|  1.1528e-05     \t|1              \t|  1.1528e-05     \t|  7.2309e-05     \t|\n",
      "setup                              \t|  1.0848e-05     \t|1              \t|  1.0848e-05     \t|  6.8045e-05     \t|\n",
      "configure_callbacks                \t|  1.0034e-05     \t|1              \t|  1.0034e-05     \t|  6.2939e-05     \t|\n",
      "on_test_dataloader                 \t|  5.4128e-06     \t|1              \t|  5.4128e-06     \t|  3.3952e-05     \t|\n",
      "configure_sharded_model            \t|  5.1167e-06     \t|1              \t|  5.1167e-06     \t|  3.2095e-05     \t|\n",
      "prepare_data                       \t|  4.1183e-06     \t|1              \t|  4.1183e-06     \t|  2.5832e-05     \t|\n",
      "\n"
     ]
    },
    {
     "name": "stdout",
     "output_type": "stream",
     "text": [
      "--------------------------------------------------------------------------------\n",
      "DATALOADER:0 TEST RESULTS\n",
      "{'test_loss': 0.33460772037506104, 'test_loss: mse': 0.3509290814399719}\n",
      "--------------------------------------------------------------------------------\n"
     ]
    },
    {
     "name": "stderr",
     "output_type": "stream",
     "text": [
      "/home/roko/.cache/pypoetry/virtualenvs/spatial-G_n0JvVf-py3.8/lib/python3.8/site-packages/hydra/experimental/initialize.py:35: UserWarning: hydra.experimental.initialize() is no longer experimental. Use hydra.initialize()\n",
      "  deprecation_warning(\n",
      "/home/roko/.cache/pypoetry/virtualenvs/spatial-G_n0JvVf-py3.8/lib/python3.8/site-packages/hydra/experimental/compose.py:18: UserWarning: hydra.experimental.compose() is no longer experimental. Use hydra.compose()\n",
      "  deprecation_warning(\n"
     ]
    },
    {
     "name": "stdout",
     "output_type": "stream",
     "text": [
      "Filtered Data (205348, 170)\n",
      "/home/roko/spatial/data/raw/merfish_messi.hdf5\n"
     ]
    },
    {
     "name": "stderr",
     "output_type": "stream",
     "text": [
      "GPU available: True, used: True\n",
      "TPU available: False, using: 0 TPU cores\n",
      "IPU available: False, using: 0 IPUs\n",
      "LOCAL_RANK: 0 - CUDA_VISIBLE_DEVICES: [0,1,2,3,4,5,6,7]\n",
      "/home/roko/.cache/pypoetry/virtualenvs/spatial-G_n0JvVf-py3.8/lib/python3.8/site-packages/pytorch_lightning/trainer/data_loading.py:132: UserWarning: The dataloader, test_dataloader 0, does not have many workers which may be a bottleneck. Consider increasing the value of the `num_workers` argument` (try 64 which is the number of cpus on this machine) in the `DataLoader` init to improve performance.\n",
      "  rank_zero_warn(\n"
     ]
    },
    {
     "data": {
      "application/vnd.jupyter.widget-view+json": {
       "model_id": "74df87a174cd4199be39b0e6aa965252",
       "version_major": 2,
       "version_minor": 0
      },
      "text/plain": [
       "Testing: 0it [00:00, ?it/s]"
      ]
     },
     "metadata": {},
     "output_type": "display_data"
    },
    {
     "name": "stderr",
     "output_type": "stream",
     "text": [
      "TEST Profiler Report\n",
      "\n",
      "Action                             \t|  Mean duration (s)\t|Num calls      \t|  Total time (s) \t|  Percentage %   \t|\n",
      "---------------------------------------------------------------------------------------------------------------------------------------\n",
      "Total                              \t|  -              \t|_              \t|  15.703         \t|  100 %          \t|\n",
      "---------------------------------------------------------------------------------------------------------------------------------------\n",
      "run_test_evaluation                \t|  15.642         \t|1              \t|  15.642         \t|  99.612         \t|\n",
      "evaluation_step_and_end            \t|  0.26251        \t|48             \t|  12.601         \t|  80.245         \t|\n",
      "test_step                          \t|  0.26237        \t|48             \t|  12.594         \t|  80.202         \t|\n",
      "get_test_batch                     \t|  0.035263       \t|49             \t|  1.7279         \t|  11.004         \t|\n",
      "fetch_next_test_batch              \t|  0.035217       \t|49             \t|  1.7256         \t|  10.99          \t|\n",
      "on_test_batch_end                  \t|  0.01939        \t|48             \t|  0.9307         \t|  5.927          \t|\n",
      "evaluation_batch_to_device         \t|  0.0021685      \t|48             \t|  0.10409        \t|  0.66287        \t|\n",
      "on_test_start                      \t|  0.018201       \t|1              \t|  0.018201       \t|  0.11591        \t|\n",
      "on_test_batch_start                \t|  3.2877e-05     \t|48             \t|  0.0015781      \t|  0.01005        \t|\n",
      "on_test_end                        \t|  0.0010759      \t|1              \t|  0.0010759      \t|  0.0068518      \t|\n",
      "test_step_end                      \t|  1.3469e-05     \t|48             \t|  0.00064653     \t|  0.0041173      \t|\n",
      "on_test_model_eval                 \t|  9.0407e-05     \t|1              \t|  9.0407e-05     \t|  0.00057574     \t|\n",
      "on_test_epoch_end                  \t|  4.1932e-05     \t|1              \t|  4.1932e-05     \t|  0.00026704     \t|\n",
      "teardown                           \t|  3.7767e-05     \t|1              \t|  3.7767e-05     \t|  0.00024051     \t|\n",
      "on_configure_sharded_model         \t|  1.7649e-05     \t|1              \t|  1.7649e-05     \t|  0.00011239     \t|\n",
      "on_epoch_end                       \t|  1.7213e-05     \t|1              \t|  1.7213e-05     \t|  0.00010962     \t|\n",
      "on_epoch_start                     \t|  1.5633e-05     \t|1              \t|  1.5633e-05     \t|  9.9558e-05     \t|\n",
      "on_before_accelerator_backend_setup\t|  1.3931e-05     \t|1              \t|  1.3931e-05     \t|  8.8716e-05     \t|\n",
      "on_test_dataloader                 \t|  1.2062e-05     \t|1              \t|  1.2062e-05     \t|  7.6818e-05     \t|\n",
      "on_test_epoch_start                \t|  1.063e-05      \t|1              \t|  1.063e-05      \t|  6.7696e-05     \t|\n",
      "setup                              \t|  1.0617e-05     \t|1              \t|  1.0617e-05     \t|  6.7613e-05     \t|\n",
      "configure_callbacks                \t|  1.0492e-05     \t|1              \t|  1.0492e-05     \t|  6.6818e-05     \t|\n",
      "configure_sharded_model            \t|  4.9602e-06     \t|1              \t|  4.9602e-06     \t|  3.1588e-05     \t|\n",
      "prepare_data                       \t|  4.3977e-06     \t|1              \t|  4.3977e-06     \t|  2.8006e-05     \t|\n",
      "\n"
     ]
    },
    {
     "name": "stdout",
     "output_type": "stream",
     "text": [
      "--------------------------------------------------------------------------------\n",
      "DATALOADER:0 TEST RESULTS\n",
      "{'test_loss': 0.32464149594306946, 'test_loss: mse': 0.33554428815841675}\n",
      "--------------------------------------------------------------------------------\n"
     ]
    },
    {
     "name": "stderr",
     "output_type": "stream",
     "text": [
      "/home/roko/.cache/pypoetry/virtualenvs/spatial-G_n0JvVf-py3.8/lib/python3.8/site-packages/hydra/experimental/initialize.py:35: UserWarning: hydra.experimental.initialize() is no longer experimental. Use hydra.initialize()\n",
      "  deprecation_warning(\n",
      "/home/roko/.cache/pypoetry/virtualenvs/spatial-G_n0JvVf-py3.8/lib/python3.8/site-packages/hydra/experimental/compose.py:18: UserWarning: hydra.experimental.compose() is no longer experimental. Use hydra.compose()\n",
      "  deprecation_warning(\n"
     ]
    },
    {
     "name": "stdout",
     "output_type": "stream",
     "text": [
      "Filtered Data (205348, 170)\n",
      "/home/roko/spatial/data/raw/merfish_messi.hdf5\n"
     ]
    },
    {
     "name": "stderr",
     "output_type": "stream",
     "text": [
      "GPU available: True, used: True\n",
      "TPU available: False, using: 0 TPU cores\n",
      "IPU available: False, using: 0 IPUs\n",
      "LOCAL_RANK: 0 - CUDA_VISIBLE_DEVICES: [0,1,2,3,4,5,6,7]\n",
      "/home/roko/.cache/pypoetry/virtualenvs/spatial-G_n0JvVf-py3.8/lib/python3.8/site-packages/pytorch_lightning/trainer/data_loading.py:132: UserWarning: The dataloader, test_dataloader 0, does not have many workers which may be a bottleneck. Consider increasing the value of the `num_workers` argument` (try 64 which is the number of cpus on this machine) in the `DataLoader` init to improve performance.\n",
      "  rank_zero_warn(\n"
     ]
    },
    {
     "data": {
      "application/vnd.jupyter.widget-view+json": {
       "model_id": "e36b54f672264aeea7c34eab0bf8fab6",
       "version_major": 2,
       "version_minor": 0
      },
      "text/plain": [
       "Testing: 0it [00:00, ?it/s]"
      ]
     },
     "metadata": {},
     "output_type": "display_data"
    },
    {
     "name": "stderr",
     "output_type": "stream",
     "text": [
      "TEST Profiler Report\n",
      "\n",
      "Action                             \t|  Mean duration (s)\t|Num calls      \t|  Total time (s) \t|  Percentage %   \t|\n",
      "---------------------------------------------------------------------------------------------------------------------------------------\n",
      "Total                              \t|  -              \t|_              \t|  8.0151         \t|  100 %          \t|\n",
      "---------------------------------------------------------------------------------------------------------------------------------------\n",
      "run_test_evaluation                \t|  7.9548         \t|1              \t|  7.9548         \t|  99.247         \t|\n",
      "evaluation_step_and_end            \t|  0.25029        \t|24             \t|  6.007          \t|  74.946         \t|\n",
      "test_step                          \t|  0.25015        \t|24             \t|  6.0036         \t|  74.903         \t|\n",
      "get_test_batch                     \t|  0.042923       \t|25             \t|  1.0731         \t|  13.388         \t|\n",
      "fetch_next_test_batch              \t|  0.042876       \t|25             \t|  1.0719         \t|  13.374         \t|\n",
      "on_test_batch_end                  \t|  0.020547       \t|24             \t|  0.49314        \t|  6.1526         \t|\n",
      "evaluation_batch_to_device         \t|  0.0035991      \t|24             \t|  0.08638        \t|  1.0777         \t|\n",
      "on_test_start                      \t|  0.017078       \t|1              \t|  0.017078       \t|  0.21307        \t|\n",
      "on_test_end                        \t|  0.0015004      \t|1              \t|  0.0015004      \t|  0.018719       \t|\n",
      "on_test_batch_start                \t|  3.2429e-05     \t|24             \t|  0.00077831     \t|  0.0097105      \t|\n",
      "test_step_end                      \t|  1.3853e-05     \t|24             \t|  0.00033248     \t|  0.0041482      \t|\n",
      "on_test_epoch_end                  \t|  5.9808e-05     \t|1              \t|  5.9808e-05     \t|  0.00074619     \t|\n",
      "on_test_model_eval                 \t|  4.8548e-05     \t|1              \t|  4.8548e-05     \t|  0.00060571     \t|\n",
      "teardown                           \t|  3.7076e-05     \t|1              \t|  3.7076e-05     \t|  0.00046258     \t|\n",
      "on_epoch_end                       \t|  2.2793e-05     \t|1              \t|  2.2793e-05     \t|  0.00028438     \t|\n",
      "on_configure_sharded_model         \t|  1.5384e-05     \t|1              \t|  1.5384e-05     \t|  0.00019193     \t|\n",
      "on_epoch_start                     \t|  1.3091e-05     \t|1              \t|  1.3091e-05     \t|  0.00016333     \t|\n",
      "on_before_accelerator_backend_setup\t|  1.239e-05      \t|1              \t|  1.239e-05      \t|  0.00015459     \t|\n",
      "configure_callbacks                \t|  1.0179e-05     \t|1              \t|  1.0179e-05     \t|  0.000127       \t|\n",
      "on_test_epoch_start                \t|  1.0153e-05     \t|1              \t|  1.0153e-05     \t|  0.00012668     \t|\n",
      "setup                              \t|  9.0767e-06     \t|1              \t|  9.0767e-06     \t|  0.00011324     \t|\n",
      "on_test_dataloader                 \t|  5.7109e-06     \t|1              \t|  5.7109e-06     \t|  7.1252e-05     \t|\n",
      "configure_sharded_model            \t|  4.5896e-06     \t|1              \t|  4.5896e-06     \t|  5.7262e-05     \t|\n",
      "prepare_data                       \t|  3.6899e-06     \t|1              \t|  3.6899e-06     \t|  4.6037e-05     \t|\n",
      "\n"
     ]
    },
    {
     "name": "stdout",
     "output_type": "stream",
     "text": [
      "--------------------------------------------------------------------------------\n",
      "DATALOADER:0 TEST RESULTS\n",
      "{'test_loss': 0.3162347376346588, 'test_loss: mse': 0.3287487030029297}\n",
      "--------------------------------------------------------------------------------\n"
     ]
    },
    {
     "name": "stderr",
     "output_type": "stream",
     "text": [
      "/home/roko/.cache/pypoetry/virtualenvs/spatial-G_n0JvVf-py3.8/lib/python3.8/site-packages/hydra/experimental/initialize.py:35: UserWarning: hydra.experimental.initialize() is no longer experimental. Use hydra.initialize()\n",
      "  deprecation_warning(\n",
      "/home/roko/.cache/pypoetry/virtualenvs/spatial-G_n0JvVf-py3.8/lib/python3.8/site-packages/hydra/experimental/compose.py:18: UserWarning: hydra.experimental.compose() is no longer experimental. Use hydra.compose()\n",
      "  deprecation_warning(\n"
     ]
    },
    {
     "name": "stdout",
     "output_type": "stream",
     "text": [
      "Filtered Data (205348, 170)\n",
      "/home/roko/spatial/data/raw/merfish_messi.hdf5\n"
     ]
    },
    {
     "name": "stderr",
     "output_type": "stream",
     "text": [
      "GPU available: True, used: True\n",
      "TPU available: False, using: 0 TPU cores\n",
      "IPU available: False, using: 0 IPUs\n",
      "LOCAL_RANK: 0 - CUDA_VISIBLE_DEVICES: [0,1,2,3,4,5,6,7]\n",
      "/home/roko/.cache/pypoetry/virtualenvs/spatial-G_n0JvVf-py3.8/lib/python3.8/site-packages/pytorch_lightning/trainer/data_loading.py:132: UserWarning: The dataloader, test_dataloader 0, does not have many workers which may be a bottleneck. Consider increasing the value of the `num_workers` argument` (try 64 which is the number of cpus on this machine) in the `DataLoader` init to improve performance.\n",
      "  rank_zero_warn(\n"
     ]
    },
    {
     "data": {
      "application/vnd.jupyter.widget-view+json": {
       "model_id": "0032db1af0dc482593a37eeb130dac86",
       "version_major": 2,
       "version_minor": 0
      },
      "text/plain": [
       "Testing: 0it [00:00, ?it/s]"
      ]
     },
     "metadata": {},
     "output_type": "display_data"
    },
    {
     "name": "stderr",
     "output_type": "stream",
     "text": [
      "TEST Profiler Report\n",
      "\n",
      "Action                             \t|  Mean duration (s)\t|Num calls      \t|  Total time (s) \t|  Percentage %   \t|\n",
      "---------------------------------------------------------------------------------------------------------------------------------------\n",
      "Total                              \t|  -              \t|_              \t|  6.7208         \t|  100 %          \t|\n",
      "---------------------------------------------------------------------------------------------------------------------------------------\n",
      "run_test_evaluation                \t|  6.6626         \t|1              \t|  6.6626         \t|  99.135         \t|\n",
      "evaluation_step_and_end            \t|  0.24766        \t|20             \t|  4.9531         \t|  73.699         \t|\n",
      "test_step                          \t|  0.2475         \t|20             \t|  4.95           \t|  73.653         \t|\n",
      "get_test_batch                     \t|  0.042773       \t|21             \t|  0.89822        \t|  13.365         \t|\n",
      "fetch_next_test_batch              \t|  0.042723       \t|21             \t|  0.89719        \t|  13.349         \t|\n",
      "on_test_batch_end                  \t|  0.021243       \t|20             \t|  0.42485        \t|  6.3215         \t|\n",
      "evaluation_batch_to_device         \t|  0.0044452      \t|20             \t|  0.088903       \t|  1.3228         \t|\n",
      "on_test_start                      \t|  0.018584       \t|1              \t|  0.018584       \t|  0.27651        \t|\n",
      "on_test_end                        \t|  0.0014036      \t|1              \t|  0.0014036      \t|  0.020885       \t|\n",
      "on_test_batch_start                \t|  3.6715e-05     \t|20             \t|  0.00073431     \t|  0.010926       \t|\n",
      "test_step_end                      \t|  1.7905e-05     \t|20             \t|  0.0003581      \t|  0.0053282      \t|\n",
      "on_test_model_eval                 \t|  8.1433e-05     \t|1              \t|  8.1433e-05     \t|  0.0012117      \t|\n",
      "on_test_epoch_end                  \t|  6.0812e-05     \t|1              \t|  6.0812e-05     \t|  0.00090483     \t|\n",
      "teardown                           \t|  3.6178e-05     \t|1              \t|  3.6178e-05     \t|  0.00053831     \t|\n",
      "on_epoch_end                       \t|  2.3175e-05     \t|1              \t|  2.3175e-05     \t|  0.00034483     \t|\n",
      "on_configure_sharded_model         \t|  1.7168e-05     \t|1              \t|  1.7168e-05     \t|  0.00025545     \t|\n",
      "on_epoch_start                     \t|  1.5095e-05     \t|1              \t|  1.5095e-05     \t|  0.0002246      \t|\n",
      "on_before_accelerator_backend_setup\t|  1.3798e-05     \t|1              \t|  1.3798e-05     \t|  0.00020531     \t|\n",
      "configure_callbacks                \t|  1.0684e-05     \t|1              \t|  1.0684e-05     \t|  0.00015897     \t|\n",
      "setup                              \t|  1.0137e-05     \t|1              \t|  1.0137e-05     \t|  0.00015082     \t|\n",
      "on_test_dataloader                 \t|  9.6187e-06     \t|1              \t|  9.6187e-06     \t|  0.00014312     \t|\n",
      "on_test_epoch_start                \t|  8.6725e-06     \t|1              \t|  8.6725e-06     \t|  0.00012904     \t|\n",
      "configure_sharded_model            \t|  6.1672e-06     \t|1              \t|  6.1672e-06     \t|  9.1764e-05     \t|\n",
      "prepare_data                       \t|  4.502e-06      \t|1              \t|  4.502e-06      \t|  6.6987e-05     \t|\n",
      "\n"
     ]
    },
    {
     "name": "stdout",
     "output_type": "stream",
     "text": [
      "--------------------------------------------------------------------------------\n",
      "DATALOADER:0 TEST RESULTS\n",
      "{'test_loss': 0.33553236722946167, 'test_loss: mse': 0.365768700838089}\n",
      "--------------------------------------------------------------------------------\n"
     ]
    },
    {
     "name": "stderr",
     "output_type": "stream",
     "text": [
      "/home/roko/.cache/pypoetry/virtualenvs/spatial-G_n0JvVf-py3.8/lib/python3.8/site-packages/hydra/experimental/initialize.py:35: UserWarning: hydra.experimental.initialize() is no longer experimental. Use hydra.initialize()\n",
      "  deprecation_warning(\n",
      "/home/roko/.cache/pypoetry/virtualenvs/spatial-G_n0JvVf-py3.8/lib/python3.8/site-packages/hydra/experimental/compose.py:18: UserWarning: hydra.experimental.compose() is no longer experimental. Use hydra.compose()\n",
      "  deprecation_warning(\n"
     ]
    },
    {
     "name": "stdout",
     "output_type": "stream",
     "text": [
      "Filtered Data (205348, 170)\n",
      "/home/roko/spatial/data/raw/merfish_messi.hdf5\n"
     ]
    },
    {
     "name": "stderr",
     "output_type": "stream",
     "text": [
      "GPU available: True, used: True\n",
      "TPU available: False, using: 0 TPU cores\n",
      "IPU available: False, using: 0 IPUs\n",
      "LOCAL_RANK: 0 - CUDA_VISIBLE_DEVICES: [0,1,2,3,4,5,6,7]\n",
      "/home/roko/.cache/pypoetry/virtualenvs/spatial-G_n0JvVf-py3.8/lib/python3.8/site-packages/pytorch_lightning/trainer/data_loading.py:132: UserWarning: The dataloader, test_dataloader 0, does not have many workers which may be a bottleneck. Consider increasing the value of the `num_workers` argument` (try 64 which is the number of cpus on this machine) in the `DataLoader` init to improve performance.\n",
      "  rank_zero_warn(\n"
     ]
    },
    {
     "data": {
      "application/vnd.jupyter.widget-view+json": {
       "model_id": "808009925ce14984bff667f0431d712d",
       "version_major": 2,
       "version_minor": 0
      },
      "text/plain": [
       "Testing: 0it [00:00, ?it/s]"
      ]
     },
     "metadata": {},
     "output_type": "display_data"
    },
    {
     "name": "stderr",
     "output_type": "stream",
     "text": [
      "TEST Profiler Report\n",
      "\n",
      "Action                             \t|  Mean duration (s)\t|Num calls      \t|  Total time (s) \t|  Percentage %   \t|\n",
      "---------------------------------------------------------------------------------------------------------------------------------------\n",
      "Total                              \t|  -              \t|_              \t|  15.151         \t|  100 %          \t|\n",
      "---------------------------------------------------------------------------------------------------------------------------------------\n",
      "run_test_evaluation                \t|  15.08          \t|1              \t|  15.08          \t|  99.529         \t|\n",
      "evaluation_step_and_end            \t|  0.2487         \t|48             \t|  11.938         \t|  78.791         \t|\n",
      "test_step                          \t|  0.24856        \t|48             \t|  11.931         \t|  78.747         \t|\n",
      "get_test_batch                     \t|  0.036433       \t|49             \t|  1.7852         \t|  11.783         \t|\n",
      "fetch_next_test_batch              \t|  0.03639        \t|49             \t|  1.7831         \t|  11.769         \t|\n",
      "on_test_batch_end                  \t|  0.018846       \t|48             \t|  0.90461        \t|  5.9706         \t|\n",
      "evaluation_batch_to_device         \t|  0.0028557      \t|48             \t|  0.13707        \t|  0.90471        \t|\n",
      "on_test_start                      \t|  0.025195       \t|1              \t|  0.025195       \t|  0.16629        \t|\n",
      "on_test_batch_start                \t|  3.1752e-05     \t|48             \t|  0.0015241      \t|  0.010059       \t|\n",
      "on_test_end                        \t|  0.0014177      \t|1              \t|  0.0014177      \t|  0.0093571      \t|\n",
      "test_step_end                      \t|  1.3502e-05     \t|48             \t|  0.00064811     \t|  0.0042777      \t|\n",
      "on_test_model_eval                 \t|  9.5721e-05     \t|1              \t|  9.5721e-05     \t|  0.00063178     \t|\n",
      "on_test_epoch_end                  \t|  5.7526e-05     \t|1              \t|  5.7526e-05     \t|  0.00037968     \t|\n",
      "on_configure_sharded_model         \t|  4.2312e-05     \t|1              \t|  4.2312e-05     \t|  0.00027927     \t|\n",
      "teardown                           \t|  3.5582e-05     \t|1              \t|  3.5582e-05     \t|  0.00023485     \t|\n",
      "on_before_accelerator_backend_setup\t|  3.5323e-05     \t|1              \t|  3.5323e-05     \t|  0.00023314     \t|\n",
      "setup                              \t|  2.7515e-05     \t|1              \t|  2.7515e-05     \t|  0.0001816      \t|\n",
      "on_epoch_end                       \t|  2.7262e-05     \t|1              \t|  2.7262e-05     \t|  0.00017993     \t|\n",
      "on_epoch_start                     \t|  1.7405e-05     \t|1              \t|  1.7405e-05     \t|  0.00011487     \t|\n",
      "configure_callbacks                \t|  1.4916e-05     \t|1              \t|  1.4916e-05     \t|  9.8449e-05     \t|\n",
      "configure_sharded_model            \t|  1.3439e-05     \t|1              \t|  1.3439e-05     \t|  8.87e-05       \t|\n",
      "prepare_data                       \t|  1.1791e-05     \t|1              \t|  1.1791e-05     \t|  7.782e-05      \t|\n",
      "on_test_epoch_start                \t|  1.1396e-05     \t|1              \t|  1.1396e-05     \t|  7.5213e-05     \t|\n",
      "on_test_dataloader                 \t|  1.1243e-05     \t|1              \t|  1.1243e-05     \t|  7.4205e-05     \t|\n",
      "\n"
     ]
    },
    {
     "name": "stdout",
     "output_type": "stream",
     "text": [
      "--------------------------------------------------------------------------------\n",
      "DATALOADER:0 TEST RESULTS\n",
      "{'test_loss': 0.33392974734306335, 'test_loss: mse': 0.34965622425079346}\n",
      "--------------------------------------------------------------------------------\n"
     ]
    },
    {
     "name": "stderr",
     "output_type": "stream",
     "text": [
      "/home/roko/.cache/pypoetry/virtualenvs/spatial-G_n0JvVf-py3.8/lib/python3.8/site-packages/hydra/experimental/initialize.py:35: UserWarning: hydra.experimental.initialize() is no longer experimental. Use hydra.initialize()\n",
      "  deprecation_warning(\n",
      "/home/roko/.cache/pypoetry/virtualenvs/spatial-G_n0JvVf-py3.8/lib/python3.8/site-packages/hydra/experimental/compose.py:18: UserWarning: hydra.experimental.compose() is no longer experimental. Use hydra.compose()\n",
      "  deprecation_warning(\n"
     ]
    },
    {
     "name": "stdout",
     "output_type": "stream",
     "text": [
      "Filtered Data (205348, 170)\n",
      "/home/roko/spatial/data/raw/merfish_messi.hdf5\n"
     ]
    },
    {
     "name": "stderr",
     "output_type": "stream",
     "text": [
      "GPU available: True, used: True\n",
      "TPU available: False, using: 0 TPU cores\n",
      "IPU available: False, using: 0 IPUs\n",
      "LOCAL_RANK: 0 - CUDA_VISIBLE_DEVICES: [0,1,2,3,4,5,6,7]\n",
      "/home/roko/.cache/pypoetry/virtualenvs/spatial-G_n0JvVf-py3.8/lib/python3.8/site-packages/pytorch_lightning/trainer/data_loading.py:132: UserWarning: The dataloader, test_dataloader 0, does not have many workers which may be a bottleneck. Consider increasing the value of the `num_workers` argument` (try 64 which is the number of cpus on this machine) in the `DataLoader` init to improve performance.\n",
      "  rank_zero_warn(\n"
     ]
    },
    {
     "data": {
      "application/vnd.jupyter.widget-view+json": {
       "model_id": "de9e2bcb6423415ebe70728985d06a65",
       "version_major": 2,
       "version_minor": 0
      },
      "text/plain": [
       "Testing: 0it [00:00, ?it/s]"
      ]
     },
     "metadata": {},
     "output_type": "display_data"
    },
    {
     "name": "stderr",
     "output_type": "stream",
     "text": [
      "TEST Profiler Report\n",
      "\n",
      "Action                             \t|  Mean duration (s)\t|Num calls      \t|  Total time (s) \t|  Percentage %   \t|\n",
      "---------------------------------------------------------------------------------------------------------------------------------------\n",
      "Total                              \t|  -              \t|_              \t|  15.22          \t|  100 %          \t|\n",
      "---------------------------------------------------------------------------------------------------------------------------------------\n",
      "run_test_evaluation                \t|  15.145         \t|1              \t|  15.145         \t|  99.505         \t|\n",
      "evaluation_step_and_end            \t|  0.2482         \t|48             \t|  11.914         \t|  78.275         \t|\n",
      "test_step                          \t|  0.24806        \t|48             \t|  11.907         \t|  78.232         \t|\n",
      "get_test_batch                     \t|  0.039005       \t|49             \t|  1.9112         \t|  12.557         \t|\n",
      "fetch_next_test_batch              \t|  0.038959       \t|49             \t|  1.909          \t|  12.543         \t|\n",
      "on_test_batch_end                  \t|  0.018774       \t|48             \t|  0.90115        \t|  5.9208         \t|\n",
      "evaluation_batch_to_device         \t|  0.002163       \t|48             \t|  0.10382        \t|  0.68214        \t|\n",
      "on_test_start                      \t|  0.01841        \t|1              \t|  0.01841        \t|  0.12096        \t|\n",
      "on_test_end                        \t|  0.0015477      \t|1              \t|  0.0015477      \t|  0.010169       \t|\n",
      "on_test_batch_start                \t|  2.9621e-05     \t|48             \t|  0.0014218      \t|  0.0093418      \t|\n",
      "test_step_end                      \t|  1.3345e-05     \t|48             \t|  0.00064055     \t|  0.0042085      \t|\n",
      "on_test_model_eval                 \t|  7.4754e-05     \t|1              \t|  7.4754e-05     \t|  0.00049115     \t|\n",
      "on_test_epoch_end                  \t|  4.6063e-05     \t|1              \t|  4.6063e-05     \t|  0.00030265     \t|\n",
      "teardown                           \t|  3.6132e-05     \t|1              \t|  3.6132e-05     \t|  0.00023739     \t|\n",
      "on_epoch_end                       \t|  2.1135e-05     \t|1              \t|  2.1135e-05     \t|  0.00013887     \t|\n",
      "on_configure_sharded_model         \t|  1.7121e-05     \t|1              \t|  1.7121e-05     \t|  0.00011249     \t|\n",
      "on_epoch_start                     \t|  1.456e-05      \t|1              \t|  1.456e-05      \t|  9.5665e-05     \t|\n",
      "on_before_accelerator_backend_setup\t|  1.2483e-05     \t|1              \t|  1.2483e-05     \t|  8.202e-05      \t|\n",
      "configure_callbacks                \t|  1.0809e-05     \t|1              \t|  1.0809e-05     \t|  7.1017e-05     \t|\n",
      "on_test_epoch_start                \t|  1.0204e-05     \t|1              \t|  1.0204e-05     \t|  6.704e-05      \t|\n",
      "setup                              \t|  9.5032e-06     \t|1              \t|  9.5032e-06     \t|  6.2439e-05     \t|\n",
      "on_test_dataloader                 \t|  8.1677e-06     \t|1              \t|  8.1677e-06     \t|  5.3664e-05     \t|\n",
      "configure_sharded_model            \t|  4.8634e-06     \t|1              \t|  4.8634e-06     \t|  3.1954e-05     \t|\n",
      "prepare_data                       \t|  4.0028e-06     \t|1              \t|  4.0028e-06     \t|  2.63e-05       \t|\n",
      "\n"
     ]
    },
    {
     "name": "stdout",
     "output_type": "stream",
     "text": [
      "--------------------------------------------------------------------------------\n",
      "DATALOADER:0 TEST RESULTS\n",
      "{'test_loss': 0.3266395628452301, 'test_loss: mse': 0.4248643219470978}\n",
      "--------------------------------------------------------------------------------\n"
     ]
    },
    {
     "name": "stderr",
     "output_type": "stream",
     "text": [
      "/home/roko/.cache/pypoetry/virtualenvs/spatial-G_n0JvVf-py3.8/lib/python3.8/site-packages/hydra/experimental/initialize.py:35: UserWarning: hydra.experimental.initialize() is no longer experimental. Use hydra.initialize()\n",
      "  deprecation_warning(\n",
      "/home/roko/.cache/pypoetry/virtualenvs/spatial-G_n0JvVf-py3.8/lib/python3.8/site-packages/hydra/experimental/compose.py:18: UserWarning: hydra.experimental.compose() is no longer experimental. Use hydra.compose()\n",
      "  deprecation_warning(\n"
     ]
    },
    {
     "name": "stdout",
     "output_type": "stream",
     "text": [
      "Filtered Data (205348, 170)\n",
      "/home/roko/spatial/data/raw/merfish_messi.hdf5\n"
     ]
    },
    {
     "name": "stderr",
     "output_type": "stream",
     "text": [
      "GPU available: True, used: True\n",
      "TPU available: False, using: 0 TPU cores\n",
      "IPU available: False, using: 0 IPUs\n",
      "LOCAL_RANK: 0 - CUDA_VISIBLE_DEVICES: [0,1,2,3,4,5,6,7]\n",
      "/home/roko/.cache/pypoetry/virtualenvs/spatial-G_n0JvVf-py3.8/lib/python3.8/site-packages/pytorch_lightning/trainer/data_loading.py:132: UserWarning: The dataloader, test_dataloader 0, does not have many workers which may be a bottleneck. Consider increasing the value of the `num_workers` argument` (try 64 which is the number of cpus on this machine) in the `DataLoader` init to improve performance.\n",
      "  rank_zero_warn(\n"
     ]
    },
    {
     "data": {
      "application/vnd.jupyter.widget-view+json": {
       "model_id": "6ebdbccc5c8b4b39a18690694081f6c9",
       "version_major": 2,
       "version_minor": 0
      },
      "text/plain": [
       "Testing: 0it [00:00, ?it/s]"
      ]
     },
     "metadata": {},
     "output_type": "display_data"
    },
    {
     "name": "stderr",
     "output_type": "stream",
     "text": [
      "TEST Profiler Report\n",
      "\n",
      "Action                             \t|  Mean duration (s)\t|Num calls      \t|  Total time (s) \t|  Percentage %   \t|\n",
      "---------------------------------------------------------------------------------------------------------------------------------------\n",
      "Total                              \t|  -              \t|_              \t|  7.9942         \t|  100 %          \t|\n",
      "---------------------------------------------------------------------------------------------------------------------------------------\n",
      "run_test_evaluation                \t|  7.9359         \t|1              \t|  7.9359         \t|  99.271         \t|\n",
      "evaluation_step_and_end            \t|  0.24968        \t|24             \t|  5.9924         \t|  74.959         \t|\n",
      "test_step                          \t|  0.24954        \t|24             \t|  5.989          \t|  74.916         \t|\n",
      "get_test_batch                     \t|  0.043031       \t|25             \t|  1.0758         \t|  13.457         \t|\n",
      "fetch_next_test_batch              \t|  0.042981       \t|25             \t|  1.0745         \t|  13.441         \t|\n",
      "on_test_batch_end                  \t|  0.019629       \t|24             \t|  0.47109        \t|  5.8929         \t|\n",
      "evaluation_batch_to_device         \t|  0.003574       \t|24             \t|  0.085775       \t|  1.073          \t|\n",
      "on_test_start                      \t|  0.018043       \t|1              \t|  0.018043       \t|  0.2257         \t|\n",
      "on_test_end                        \t|  0.0012295      \t|1              \t|  0.0012295      \t|  0.01538        \t|\n",
      "on_test_batch_start                \t|  3.3818e-05     \t|24             \t|  0.00081164     \t|  0.010153       \t|\n",
      "test_step_end                      \t|  1.4324e-05     \t|24             \t|  0.00034379     \t|  0.0043005      \t|\n",
      "on_test_model_eval                 \t|  7.958e-05      \t|1              \t|  7.958e-05      \t|  0.00099547     \t|\n",
      "on_test_epoch_end                  \t|  5.0316e-05     \t|1              \t|  5.0316e-05     \t|  0.0006294      \t|\n",
      "teardown                           \t|  3.5029e-05     \t|1              \t|  3.5029e-05     \t|  0.00043818     \t|\n",
      "on_epoch_end                       \t|  2.1664e-05     \t|1              \t|  2.1664e-05     \t|  0.000271       \t|\n",
      "on_configure_sharded_model         \t|  1.9688e-05     \t|1              \t|  1.9688e-05     \t|  0.00024628     \t|\n",
      "on_epoch_start                     \t|  1.5195e-05     \t|1              \t|  1.5195e-05     \t|  0.00019008     \t|\n",
      "on_before_accelerator_backend_setup\t|  1.2647e-05     \t|1              \t|  1.2647e-05     \t|  0.00015821     \t|\n",
      "setup                              \t|  1.1597e-05     \t|1              \t|  1.1597e-05     \t|  0.00014507     \t|\n",
      "configure_callbacks                \t|  1.0375e-05     \t|1              \t|  1.0375e-05     \t|  0.00012978     \t|\n",
      "on_test_epoch_start                \t|  1.0209e-05     \t|1              \t|  1.0209e-05     \t|  0.00012771     \t|\n",
      "on_test_dataloader                 \t|  8.2385e-06     \t|1              \t|  8.2385e-06     \t|  0.00010306     \t|\n",
      "configure_sharded_model            \t|  5.7518e-06     \t|1              \t|  5.7518e-06     \t|  7.195e-05      \t|\n",
      "prepare_data                       \t|  4.3903e-06     \t|1              \t|  4.3903e-06     \t|  5.4918e-05     \t|\n",
      "\n"
     ]
    },
    {
     "name": "stdout",
     "output_type": "stream",
     "text": [
      "--------------------------------------------------------------------------------\n",
      "DATALOADER:0 TEST RESULTS\n",
      "{'test_loss': 0.31530994176864624, 'test_loss: mse': 0.32621562480926514}\n",
      "--------------------------------------------------------------------------------\n"
     ]
    },
    {
     "name": "stderr",
     "output_type": "stream",
     "text": [
      "/home/roko/.cache/pypoetry/virtualenvs/spatial-G_n0JvVf-py3.8/lib/python3.8/site-packages/hydra/experimental/initialize.py:35: UserWarning: hydra.experimental.initialize() is no longer experimental. Use hydra.initialize()\n",
      "  deprecation_warning(\n",
      "/home/roko/.cache/pypoetry/virtualenvs/spatial-G_n0JvVf-py3.8/lib/python3.8/site-packages/hydra/experimental/compose.py:18: UserWarning: hydra.experimental.compose() is no longer experimental. Use hydra.compose()\n",
      "  deprecation_warning(\n"
     ]
    },
    {
     "name": "stdout",
     "output_type": "stream",
     "text": [
      "Filtered Data (205348, 170)\n",
      "/home/roko/spatial/data/raw/merfish_messi.hdf5\n"
     ]
    },
    {
     "name": "stderr",
     "output_type": "stream",
     "text": [
      "GPU available: True, used: True\n",
      "TPU available: False, using: 0 TPU cores\n",
      "IPU available: False, using: 0 IPUs\n",
      "LOCAL_RANK: 0 - CUDA_VISIBLE_DEVICES: [0,1,2,3,4,5,6,7]\n",
      "/home/roko/.cache/pypoetry/virtualenvs/spatial-G_n0JvVf-py3.8/lib/python3.8/site-packages/pytorch_lightning/trainer/data_loading.py:132: UserWarning: The dataloader, test_dataloader 0, does not have many workers which may be a bottleneck. Consider increasing the value of the `num_workers` argument` (try 64 which is the number of cpus on this machine) in the `DataLoader` init to improve performance.\n",
      "  rank_zero_warn(\n"
     ]
    },
    {
     "data": {
      "application/vnd.jupyter.widget-view+json": {
       "model_id": "dfe5877b436644edb9ba6ae40a77e096",
       "version_major": 2,
       "version_minor": 0
      },
      "text/plain": [
       "Testing: 0it [00:00, ?it/s]"
      ]
     },
     "metadata": {},
     "output_type": "display_data"
    },
    {
     "name": "stderr",
     "output_type": "stream",
     "text": [
      "TEST Profiler Report\n",
      "\n",
      "Action                             \t|  Mean duration (s)\t|Num calls      \t|  Total time (s) \t|  Percentage %   \t|\n",
      "---------------------------------------------------------------------------------------------------------------------------------------\n",
      "Total                              \t|  -              \t|_              \t|  6.801          \t|  100 %          \t|\n",
      "---------------------------------------------------------------------------------------------------------------------------------------\n",
      "run_test_evaluation                \t|  6.7389         \t|1              \t|  6.7389         \t|  99.087         \t|\n",
      "evaluation_step_and_end            \t|  0.25359        \t|20             \t|  5.0719         \t|  74.575         \t|\n",
      "test_step                          \t|  0.25344        \t|20             \t|  5.0687         \t|  74.529         \t|\n",
      "get_test_batch                     \t|  0.040421       \t|21             \t|  0.84884        \t|  12.481         \t|\n",
      "fetch_next_test_batch              \t|  0.040371       \t|21             \t|  0.84779        \t|  12.466         \t|\n",
      "on_test_batch_end                  \t|  0.021942       \t|20             \t|  0.43884        \t|  6.4525         \t|\n",
      "evaluation_batch_to_device         \t|  0.003596       \t|20             \t|  0.07192        \t|  1.0575         \t|\n",
      "on_test_start                      \t|  0.019154       \t|1              \t|  0.019154       \t|  0.28163        \t|\n",
      "on_test_end                        \t|  0.0012385      \t|1              \t|  0.0012385      \t|  0.01821        \t|\n",
      "on_test_batch_start                \t|  3.5615e-05     \t|20             \t|  0.00071229     \t|  0.010473       \t|\n",
      "test_step_end                      \t|  1.5826e-05     \t|20             \t|  0.00031652     \t|  0.0046539      \t|\n",
      "on_test_model_eval                 \t|  7.9917e-05     \t|1              \t|  7.9917e-05     \t|  0.0011751      \t|\n",
      "on_test_epoch_end                  \t|  5.1506e-05     \t|1              \t|  5.1506e-05     \t|  0.00075733     \t|\n",
      "teardown                           \t|  3.5163e-05     \t|1              \t|  3.5163e-05     \t|  0.00051703     \t|\n",
      "on_epoch_end                       \t|  2.2957e-05     \t|1              \t|  2.2957e-05     \t|  0.00033755     \t|\n",
      "on_configure_sharded_model         \t|  1.7136e-05     \t|1              \t|  1.7136e-05     \t|  0.00025197     \t|\n",
      "on_epoch_start                     \t|  1.5687e-05     \t|1              \t|  1.5687e-05     \t|  0.00023066     \t|\n",
      "on_before_accelerator_backend_setup\t|  1.3759e-05     \t|1              \t|  1.3759e-05     \t|  0.00020231     \t|\n",
      "setup                              \t|  1.2558e-05     \t|1              \t|  1.2558e-05     \t|  0.00018465     \t|\n",
      "configure_callbacks                \t|  1.1796e-05     \t|1              \t|  1.1796e-05     \t|  0.00017345     \t|\n",
      "on_test_epoch_start                \t|  1.0854e-05     \t|1              \t|  1.0854e-05     \t|  0.00015959     \t|\n",
      "on_test_dataloader                 \t|  9.8478e-06     \t|1              \t|  9.8478e-06     \t|  0.0001448      \t|\n",
      "configure_sharded_model            \t|  5.8953e-06     \t|1              \t|  5.8953e-06     \t|  8.6682e-05     \t|\n",
      "prepare_data                       \t|  4.5765e-06     \t|1              \t|  4.5765e-06     \t|  6.7292e-05     \t|\n",
      "\n"
     ]
    },
    {
     "name": "stdout",
     "output_type": "stream",
     "text": [
      "--------------------------------------------------------------------------------\n",
      "DATALOADER:0 TEST RESULTS\n",
      "{'test_loss': 0.33241382241249084, 'test_loss: mse': 0.3622204661369324}\n",
      "--------------------------------------------------------------------------------\n"
     ]
    },
    {
     "name": "stderr",
     "output_type": "stream",
     "text": [
      "/home/roko/.cache/pypoetry/virtualenvs/spatial-G_n0JvVf-py3.8/lib/python3.8/site-packages/hydra/experimental/initialize.py:35: UserWarning: hydra.experimental.initialize() is no longer experimental. Use hydra.initialize()\n",
      "  deprecation_warning(\n",
      "/home/roko/.cache/pypoetry/virtualenvs/spatial-G_n0JvVf-py3.8/lib/python3.8/site-packages/hydra/experimental/compose.py:18: UserWarning: hydra.experimental.compose() is no longer experimental. Use hydra.compose()\n",
      "  deprecation_warning(\n"
     ]
    },
    {
     "name": "stdout",
     "output_type": "stream",
     "text": [
      "Filtered Data (205348, 170)\n",
      "/home/roko/spatial/data/raw/merfish_messi.hdf5\n"
     ]
    },
    {
     "name": "stderr",
     "output_type": "stream",
     "text": [
      "GPU available: True, used: True\n",
      "TPU available: False, using: 0 TPU cores\n",
      "IPU available: False, using: 0 IPUs\n",
      "LOCAL_RANK: 0 - CUDA_VISIBLE_DEVICES: [0,1,2,3,4,5,6,7]\n",
      "/home/roko/.cache/pypoetry/virtualenvs/spatial-G_n0JvVf-py3.8/lib/python3.8/site-packages/pytorch_lightning/trainer/data_loading.py:132: UserWarning: The dataloader, test_dataloader 0, does not have many workers which may be a bottleneck. Consider increasing the value of the `num_workers` argument` (try 64 which is the number of cpus on this machine) in the `DataLoader` init to improve performance.\n",
      "  rank_zero_warn(\n"
     ]
    },
    {
     "data": {
      "application/vnd.jupyter.widget-view+json": {
       "model_id": "610aa1aa80214493801dd91c69a3a3d7",
       "version_major": 2,
       "version_minor": 0
      },
      "text/plain": [
       "Testing: 0it [00:00, ?it/s]"
      ]
     },
     "metadata": {},
     "output_type": "display_data"
    },
    {
     "name": "stderr",
     "output_type": "stream",
     "text": [
      "TEST Profiler Report\n",
      "\n",
      "Action                             \t|  Mean duration (s)\t|Num calls      \t|  Total time (s) \t|  Percentage %   \t|\n",
      "---------------------------------------------------------------------------------------------------------------------------------------\n",
      "Total                              \t|  -              \t|_              \t|  16.507         \t|  100 %          \t|\n",
      "---------------------------------------------------------------------------------------------------------------------------------------\n",
      "run_test_evaluation                \t|  16.452         \t|1              \t|  16.452         \t|  99.666         \t|\n",
      "evaluation_step_and_end            \t|  0.2737         \t|48             \t|  13.137         \t|  79.585         \t|\n",
      "test_step                          \t|  0.27355        \t|48             \t|  13.131         \t|  79.543         \t|\n",
      "get_test_batch                     \t|  0.039444       \t|49             \t|  1.9328         \t|  11.708         \t|\n",
      "fetch_next_test_batch              \t|  0.0394         \t|49             \t|  1.9306         \t|  11.695         \t|\n",
      "on_test_batch_end                  \t|  0.019527       \t|48             \t|  0.93731        \t|  5.6781         \t|\n",
      "evaluation_batch_to_device         \t|  0.0028703      \t|48             \t|  0.13777        \t|  0.83462        \t|\n",
      "on_test_start                      \t|  0.018304       \t|1              \t|  0.018304       \t|  0.11088        \t|\n",
      "on_test_batch_start                \t|  3.404e-05      \t|48             \t|  0.0016339      \t|  0.009898       \t|\n",
      "on_test_end                        \t|  0.0011683      \t|1              \t|  0.0011683      \t|  0.0070771      \t|\n",
      "test_step_end                      \t|  1.4011e-05     \t|48             \t|  0.00067253     \t|  0.0040741      \t|\n",
      "on_test_model_eval                 \t|  7.2803e-05     \t|1              \t|  7.2803e-05     \t|  0.00044103     \t|\n",
      "on_test_epoch_end                  \t|  4.9196e-05     \t|1              \t|  4.9196e-05     \t|  0.00029802     \t|\n",
      "teardown                           \t|  3.216e-05      \t|1              \t|  3.216e-05      \t|  0.00019482     \t|\n",
      "on_epoch_end                       \t|  2.0457e-05     \t|1              \t|  2.0457e-05     \t|  0.00012393     \t|\n",
      "on_configure_sharded_model         \t|  1.7747e-05     \t|1              \t|  1.7747e-05     \t|  0.00010751     \t|\n",
      "on_before_accelerator_backend_setup\t|  1.5125e-05     \t|1              \t|  1.5125e-05     \t|  9.1623e-05     \t|\n",
      "on_epoch_start                     \t|  1.502e-05      \t|1              \t|  1.502e-05      \t|  9.0992e-05     \t|\n",
      "setup                              \t|  1.1891e-05     \t|1              \t|  1.1891e-05     \t|  7.2035e-05     \t|\n",
      "configure_callbacks                \t|  1.1152e-05     \t|1              \t|  1.1152e-05     \t|  6.7555e-05     \t|\n",
      "on_test_epoch_start                \t|  8.2515e-06     \t|1              \t|  8.2515e-06     \t|  4.9987e-05     \t|\n",
      "on_test_dataloader                 \t|  8.2292e-06     \t|1              \t|  8.2292e-06     \t|  4.9851e-05     \t|\n",
      "configure_sharded_model            \t|  5.3663e-06     \t|1              \t|  5.3663e-06     \t|  3.2508e-05     \t|\n",
      "prepare_data                       \t|  4.9584e-06     \t|1              \t|  4.9584e-06     \t|  3.0037e-05     \t|\n",
      "\n"
     ]
    },
    {
     "name": "stdout",
     "output_type": "stream",
     "text": [
      "--------------------------------------------------------------------------------\n",
      "DATALOADER:0 TEST RESULTS\n",
      "{'test_loss': 0.33370622992515564, 'test_loss: mse': 0.348349928855896}\n",
      "--------------------------------------------------------------------------------\n"
     ]
    },
    {
     "name": "stderr",
     "output_type": "stream",
     "text": [
      "/home/roko/.cache/pypoetry/virtualenvs/spatial-G_n0JvVf-py3.8/lib/python3.8/site-packages/hydra/experimental/initialize.py:35: UserWarning: hydra.experimental.initialize() is no longer experimental. Use hydra.initialize()\n",
      "  deprecation_warning(\n",
      "/home/roko/.cache/pypoetry/virtualenvs/spatial-G_n0JvVf-py3.8/lib/python3.8/site-packages/hydra/experimental/compose.py:18: UserWarning: hydra.experimental.compose() is no longer experimental. Use hydra.compose()\n",
      "  deprecation_warning(\n"
     ]
    },
    {
     "name": "stdout",
     "output_type": "stream",
     "text": [
      "Filtered Data (205348, 170)\n",
      "/home/roko/spatial/data/raw/merfish_messi.hdf5\n"
     ]
    },
    {
     "name": "stderr",
     "output_type": "stream",
     "text": [
      "GPU available: True, used: True\n",
      "TPU available: False, using: 0 TPU cores\n",
      "IPU available: False, using: 0 IPUs\n",
      "LOCAL_RANK: 0 - CUDA_VISIBLE_DEVICES: [0,1,2,3,4,5,6,7]\n",
      "/home/roko/.cache/pypoetry/virtualenvs/spatial-G_n0JvVf-py3.8/lib/python3.8/site-packages/pytorch_lightning/trainer/data_loading.py:132: UserWarning: The dataloader, test_dataloader 0, does not have many workers which may be a bottleneck. Consider increasing the value of the `num_workers` argument` (try 64 which is the number of cpus on this machine) in the `DataLoader` init to improve performance.\n",
      "  rank_zero_warn(\n"
     ]
    },
    {
     "data": {
      "application/vnd.jupyter.widget-view+json": {
       "model_id": "33996cc329514c4988e0c8b64ef063b7",
       "version_major": 2,
       "version_minor": 0
      },
      "text/plain": [
       "Testing: 0it [00:00, ?it/s]"
      ]
     },
     "metadata": {},
     "output_type": "display_data"
    },
    {
     "name": "stderr",
     "output_type": "stream",
     "text": [
      "TEST Profiler Report\n",
      "\n",
      "Action                             \t|  Mean duration (s)\t|Num calls      \t|  Total time (s) \t|  Percentage %   \t|\n",
      "---------------------------------------------------------------------------------------------------------------------------------------\n",
      "Total                              \t|  -              \t|_              \t|  15.177         \t|  100 %          \t|\n",
      "---------------------------------------------------------------------------------------------------------------------------------------\n",
      "run_test_evaluation                \t|  15.09          \t|1              \t|  15.09          \t|  99.431         \t|\n",
      "evaluation_step_and_end            \t|  0.24155        \t|48             \t|  11.595         \t|  76.397         \t|\n",
      "test_step                          \t|  0.24142        \t|48             \t|  11.588         \t|  76.357         \t|\n",
      "get_test_batch                     \t|  0.043019       \t|49             \t|  2.1079         \t|  13.889         \t|\n",
      "fetch_next_test_batch              \t|  0.042949       \t|49             \t|  2.1045         \t|  13.867         \t|\n",
      "on_test_batch_end                  \t|  0.020011       \t|48             \t|  0.96055        \t|  6.3291         \t|\n",
      "evaluation_batch_to_device         \t|  0.0024769      \t|48             \t|  0.11889        \t|  0.78337        \t|\n",
      "on_test_start                      \t|  0.017708       \t|1              \t|  0.017708       \t|  0.11668        \t|\n",
      "on_test_end                        \t|  0.0015459      \t|1              \t|  0.0015459      \t|  0.010186       \t|\n",
      "on_test_batch_start                \t|  3.0898e-05     \t|48             \t|  0.0014831      \t|  0.0097723      \t|\n",
      "test_step_end                      \t|  1.2747e-05     \t|48             \t|  0.00061184     \t|  0.0040314      \t|\n",
      "on_test_model_eval                 \t|  5.853e-05      \t|1              \t|  5.853e-05      \t|  0.00038566     \t|\n",
      "on_test_epoch_end                  \t|  5.1206e-05     \t|1              \t|  5.1206e-05     \t|  0.0003374      \t|\n",
      "teardown                           \t|  3.5532e-05     \t|1              \t|  3.5532e-05     \t|  0.00023412     \t|\n",
      "on_epoch_end                       \t|  2.4075e-05     \t|1              \t|  2.4075e-05     \t|  0.00015863     \t|\n",
      "on_configure_sharded_model         \t|  1.4955e-05     \t|1              \t|  1.4955e-05     \t|  9.8541e-05     \t|\n",
      "on_epoch_start                     \t|  1.4124e-05     \t|1              \t|  1.4124e-05     \t|  9.3067e-05     \t|\n",
      "on_before_accelerator_backend_setup\t|  1.2305e-05     \t|1              \t|  1.2305e-05     \t|  8.1076e-05     \t|\n",
      "setup                              \t|  9.9465e-06     \t|1              \t|  9.9465e-06     \t|  6.5539e-05     \t|\n",
      "configure_callbacks                \t|  9.7621e-06     \t|1              \t|  9.7621e-06     \t|  6.4324e-05     \t|\n",
      "on_test_epoch_start                \t|  9.1139e-06     \t|1              \t|  9.1139e-06     \t|  6.0053e-05     \t|\n",
      "on_test_dataloader                 \t|  7.404e-06      \t|1              \t|  7.404e-06      \t|  4.8786e-05     \t|\n",
      "configure_sharded_model            \t|  4.9975e-06     \t|1              \t|  4.9975e-06     \t|  3.2929e-05     \t|\n",
      "prepare_data                       \t|  3.8724e-06     \t|1              \t|  3.8724e-06     \t|  2.5516e-05     \t|\n",
      "\n"
     ]
    },
    {
     "name": "stdout",
     "output_type": "stream",
     "text": [
      "--------------------------------------------------------------------------------\n",
      "DATALOADER:0 TEST RESULTS\n",
      "{'test_loss': 0.3268411457538605, 'test_loss: mse': 0.3611453175544739}\n",
      "--------------------------------------------------------------------------------\n"
     ]
    },
    {
     "name": "stderr",
     "output_type": "stream",
     "text": [
      "/home/roko/.cache/pypoetry/virtualenvs/spatial-G_n0JvVf-py3.8/lib/python3.8/site-packages/hydra/experimental/initialize.py:35: UserWarning: hydra.experimental.initialize() is no longer experimental. Use hydra.initialize()\n",
      "  deprecation_warning(\n",
      "/home/roko/.cache/pypoetry/virtualenvs/spatial-G_n0JvVf-py3.8/lib/python3.8/site-packages/hydra/experimental/compose.py:18: UserWarning: hydra.experimental.compose() is no longer experimental. Use hydra.compose()\n",
      "  deprecation_warning(\n"
     ]
    },
    {
     "name": "stdout",
     "output_type": "stream",
     "text": [
      "Filtered Data (205348, 170)\n",
      "/home/roko/spatial/data/raw/merfish_messi.hdf5\n"
     ]
    },
    {
     "name": "stderr",
     "output_type": "stream",
     "text": [
      "GPU available: True, used: True\n",
      "TPU available: False, using: 0 TPU cores\n",
      "IPU available: False, using: 0 IPUs\n",
      "LOCAL_RANK: 0 - CUDA_VISIBLE_DEVICES: [0,1,2,3,4,5,6,7]\n",
      "/home/roko/.cache/pypoetry/virtualenvs/spatial-G_n0JvVf-py3.8/lib/python3.8/site-packages/pytorch_lightning/trainer/data_loading.py:132: UserWarning: The dataloader, test_dataloader 0, does not have many workers which may be a bottleneck. Consider increasing the value of the `num_workers` argument` (try 64 which is the number of cpus on this machine) in the `DataLoader` init to improve performance.\n",
      "  rank_zero_warn(\n"
     ]
    },
    {
     "data": {
      "application/vnd.jupyter.widget-view+json": {
       "model_id": "167421ca1a02466182dd52ec272e1e20",
       "version_major": 2,
       "version_minor": 0
      },
      "text/plain": [
       "Testing: 0it [00:00, ?it/s]"
      ]
     },
     "metadata": {},
     "output_type": "display_data"
    },
    {
     "name": "stderr",
     "output_type": "stream",
     "text": [
      "TEST Profiler Report\n",
      "\n",
      "Action                             \t|  Mean duration (s)\t|Num calls      \t|  Total time (s) \t|  Percentage %   \t|\n",
      "---------------------------------------------------------------------------------------------------------------------------------------\n",
      "Total                              \t|  -              \t|_              \t|  7.5603         \t|  100 %          \t|\n",
      "---------------------------------------------------------------------------------------------------------------------------------------\n",
      "run_test_evaluation                \t|  7.4936         \t|1              \t|  7.4936         \t|  99.118         \t|\n",
      "evaluation_step_and_end            \t|  0.23248        \t|24             \t|  5.5795         \t|  73.801         \t|\n",
      "test_step                          \t|  0.23235        \t|24             \t|  5.5764         \t|  73.759         \t|\n",
      "get_test_batch                     \t|  0.039617       \t|25             \t|  0.99044        \t|  13.1           \t|\n",
      "fetch_next_test_batch              \t|  0.039521       \t|25             \t|  0.98801        \t|  13.068         \t|\n",
      "on_test_batch_end                  \t|  0.022789       \t|24             \t|  0.54694        \t|  7.2344         \t|\n",
      "evaluation_batch_to_device         \t|  0.0033905      \t|24             \t|  0.081373       \t|  1.0763         \t|\n",
      "on_test_start                      \t|  0.020166       \t|1              \t|  0.020166       \t|  0.26673        \t|\n",
      "on_test_end                        \t|  0.0012856      \t|1              \t|  0.0012856      \t|  0.017004       \t|\n",
      "on_test_batch_start                \t|  3.2287e-05     \t|24             \t|  0.00077488     \t|  0.010249       \t|\n",
      "test_step_end                      \t|  1.324e-05      \t|24             \t|  0.00031775     \t|  0.0042029      \t|\n",
      "on_test_model_eval                 \t|  7.7184e-05     \t|1              \t|  7.7184e-05     \t|  0.0010209      \t|\n",
      "on_test_epoch_end                  \t|  4.7104e-05     \t|1              \t|  4.7104e-05     \t|  0.00062305     \t|\n",
      "teardown                           \t|  2.8027e-05     \t|1              \t|  2.8027e-05     \t|  0.00037072     \t|\n",
      "on_epoch_end                       \t|  1.9612e-05     \t|1              \t|  1.9612e-05     \t|  0.00025941     \t|\n",
      "on_epoch_start                     \t|  1.6646e-05     \t|1              \t|  1.6646e-05     \t|  0.00022018     \t|\n",
      "on_configure_sharded_model         \t|  1.6268e-05     \t|1              \t|  1.6268e-05     \t|  0.00021518     \t|\n",
      "on_before_accelerator_backend_setup\t|  1.2591e-05     \t|1              \t|  1.2591e-05     \t|  0.00016655     \t|\n",
      "on_test_epoch_start                \t|  1.1288e-05     \t|1              \t|  1.1288e-05     \t|  0.0001493      \t|\n",
      "configure_callbacks                \t|  1.0451e-05     \t|1              \t|  1.0451e-05     \t|  0.00013824     \t|\n",
      "on_test_dataloader                 \t|  9.1679e-06     \t|1              \t|  9.1679e-06     \t|  0.00012126     \t|\n",
      "setup                              \t|  8.9593e-06     \t|1              \t|  8.9593e-06     \t|  0.0001185      \t|\n",
      "configure_sharded_model            \t|  4.949e-06      \t|1              \t|  4.949e-06      \t|  6.5461e-05     \t|\n",
      "prepare_data                       \t|  4.2003e-06     \t|1              \t|  4.2003e-06     \t|  5.5557e-05     \t|\n",
      "\n"
     ]
    },
    {
     "name": "stdout",
     "output_type": "stream",
     "text": [
      "--------------------------------------------------------------------------------\n",
      "DATALOADER:0 TEST RESULTS\n",
      "{'test_loss': 0.31519392132759094, 'test_loss: mse': 0.32551589608192444}\n",
      "--------------------------------------------------------------------------------\n"
     ]
    },
    {
     "name": "stderr",
     "output_type": "stream",
     "text": [
      "/home/roko/.cache/pypoetry/virtualenvs/spatial-G_n0JvVf-py3.8/lib/python3.8/site-packages/hydra/experimental/initialize.py:35: UserWarning: hydra.experimental.initialize() is no longer experimental. Use hydra.initialize()\n",
      "  deprecation_warning(\n",
      "/home/roko/.cache/pypoetry/virtualenvs/spatial-G_n0JvVf-py3.8/lib/python3.8/site-packages/hydra/experimental/compose.py:18: UserWarning: hydra.experimental.compose() is no longer experimental. Use hydra.compose()\n",
      "  deprecation_warning(\n"
     ]
    },
    {
     "name": "stdout",
     "output_type": "stream",
     "text": [
      "Filtered Data (205348, 170)\n",
      "/home/roko/spatial/data/raw/merfish_messi.hdf5\n"
     ]
    },
    {
     "name": "stderr",
     "output_type": "stream",
     "text": [
      "GPU available: True, used: True\n",
      "TPU available: False, using: 0 TPU cores\n",
      "IPU available: False, using: 0 IPUs\n",
      "LOCAL_RANK: 0 - CUDA_VISIBLE_DEVICES: [0,1,2,3,4,5,6,7]\n",
      "/home/roko/.cache/pypoetry/virtualenvs/spatial-G_n0JvVf-py3.8/lib/python3.8/site-packages/pytorch_lightning/trainer/data_loading.py:132: UserWarning: The dataloader, test_dataloader 0, does not have many workers which may be a bottleneck. Consider increasing the value of the `num_workers` argument` (try 64 which is the number of cpus on this machine) in the `DataLoader` init to improve performance.\n",
      "  rank_zero_warn(\n"
     ]
    },
    {
     "data": {
      "application/vnd.jupyter.widget-view+json": {
       "model_id": "88d84a66ae3a4cd8b85513933801af90",
       "version_major": 2,
       "version_minor": 0
      },
      "text/plain": [
       "Testing: 0it [00:00, ?it/s]"
      ]
     },
     "metadata": {},
     "output_type": "display_data"
    },
    {
     "name": "stderr",
     "output_type": "stream",
     "text": [
      "TEST Profiler Report\n",
      "\n",
      "Action                             \t|  Mean duration (s)\t|Num calls      \t|  Total time (s) \t|  Percentage %   \t|\n",
      "---------------------------------------------------------------------------------------------------------------------------------------\n",
      "Total                              \t|  -              \t|_              \t|  6.1518         \t|  100 %          \t|\n",
      "---------------------------------------------------------------------------------------------------------------------------------------\n",
      "run_test_evaluation                \t|  6.0845         \t|1              \t|  6.0845         \t|  98.905         \t|\n",
      "evaluation_step_and_end            \t|  0.24867        \t|20             \t|  4.9734         \t|  80.844         \t|\n",
      "test_step                          \t|  0.2485         \t|20             \t|  4.9699         \t|  80.788         \t|\n",
      "get_test_batch                     \t|  0.01951        \t|21             \t|  0.40972        \t|  6.6601         \t|\n",
      "fetch_next_test_batch              \t|  0.019463       \t|21             \t|  0.40872        \t|  6.6439         \t|\n",
      "on_test_batch_end                  \t|  0.018461       \t|20             \t|  0.36923        \t|  6.0019         \t|\n",
      "evaluation_batch_to_device         \t|  0.0026839      \t|20             \t|  0.053679       \t|  0.87257        \t|\n",
      "on_test_start                      \t|  0.01806        \t|1              \t|  0.01806        \t|  0.29357        \t|\n",
      "on_test_end                        \t|  0.0014926      \t|1              \t|  0.0014926      \t|  0.024262       \t|\n",
      "on_test_batch_start                \t|  3.4766e-05     \t|20             \t|  0.00069532     \t|  0.011303       \t|\n",
      "test_step_end                      \t|  1.6685e-05     \t|20             \t|  0.00033371     \t|  0.0054245      \t|\n",
      "on_test_model_eval                 \t|  7.3947e-05     \t|1              \t|  7.3947e-05     \t|  0.001202       \t|\n",
      "on_test_epoch_end                  \t|  5.7148e-05     \t|1              \t|  5.7148e-05     \t|  0.00092895     \t|\n",
      "teardown                           \t|  3.0441e-05     \t|1              \t|  3.0441e-05     \t|  0.00049483     \t|\n",
      "on_epoch_end                       \t|  2.5298e-05     \t|1              \t|  2.5298e-05     \t|  0.00041123     \t|\n",
      "on_configure_sharded_model         \t|  1.6145e-05     \t|1              \t|  1.6145e-05     \t|  0.00026245     \t|\n",
      "on_epoch_start                     \t|  1.4361e-05     \t|1              \t|  1.4361e-05     \t|  0.00023344     \t|\n",
      "on_before_accelerator_backend_setup\t|  1.3448e-05     \t|1              \t|  1.3448e-05     \t|  0.00021861     \t|\n",
      "configure_callbacks                \t|  1.0246e-05     \t|1              \t|  1.0246e-05     \t|  0.00016656     \t|\n",
      "setup                              \t|  1.017e-05      \t|1              \t|  1.017e-05      \t|  0.00016532     \t|\n",
      "on_test_dataloader                 \t|  8.557e-06      \t|1              \t|  8.557e-06      \t|  0.0001391      \t|\n",
      "on_test_epoch_start                \t|  8.136e-06      \t|1              \t|  8.136e-06      \t|  0.00013225     \t|\n",
      "configure_sharded_model            \t|  5.3961e-06     \t|1              \t|  5.3961e-06     \t|  8.7715e-05     \t|\n",
      "prepare_data                       \t|  4.7702e-06     \t|1              \t|  4.7702e-06     \t|  7.7542e-05     \t|\n",
      "\n"
     ]
    },
    {
     "name": "stdout",
     "output_type": "stream",
     "text": [
      "--------------------------------------------------------------------------------\n",
      "DATALOADER:0 TEST RESULTS\n",
      "{'test_loss': 0.3317946195602417, 'test_loss: mse': 0.35876816511154175}\n",
      "--------------------------------------------------------------------------------\n"
     ]
    },
    {
     "name": "stderr",
     "output_type": "stream",
     "text": [
      "/home/roko/.cache/pypoetry/virtualenvs/spatial-G_n0JvVf-py3.8/lib/python3.8/site-packages/hydra/experimental/initialize.py:35: UserWarning: hydra.experimental.initialize() is no longer experimental. Use hydra.initialize()\n",
      "  deprecation_warning(\n",
      "/home/roko/.cache/pypoetry/virtualenvs/spatial-G_n0JvVf-py3.8/lib/python3.8/site-packages/hydra/experimental/compose.py:18: UserWarning: hydra.experimental.compose() is no longer experimental. Use hydra.compose()\n",
      "  deprecation_warning(\n"
     ]
    },
    {
     "name": "stdout",
     "output_type": "stream",
     "text": [
      "Filtered Data (205348, 170)\n",
      "/home/roko/spatial/data/raw/merfish_messi.hdf5\n"
     ]
    },
    {
     "name": "stderr",
     "output_type": "stream",
     "text": [
      "GPU available: True, used: True\n",
      "TPU available: False, using: 0 TPU cores\n",
      "IPU available: False, using: 0 IPUs\n",
      "LOCAL_RANK: 0 - CUDA_VISIBLE_DEVICES: [0,1,2,3,4,5,6,7]\n",
      "/home/roko/.cache/pypoetry/virtualenvs/spatial-G_n0JvVf-py3.8/lib/python3.8/site-packages/pytorch_lightning/trainer/data_loading.py:132: UserWarning: The dataloader, test_dataloader 0, does not have many workers which may be a bottleneck. Consider increasing the value of the `num_workers` argument` (try 64 which is the number of cpus on this machine) in the `DataLoader` init to improve performance.\n",
      "  rank_zero_warn(\n"
     ]
    },
    {
     "data": {
      "application/vnd.jupyter.widget-view+json": {
       "model_id": "965a51ecee574c8db141808ac4f28c9b",
       "version_major": 2,
       "version_minor": 0
      },
      "text/plain": [
       "Testing: 0it [00:00, ?it/s]"
      ]
     },
     "metadata": {},
     "output_type": "display_data"
    },
    {
     "name": "stderr",
     "output_type": "stream",
     "text": [
      "TEST Profiler Report\n",
      "\n",
      "Action                             \t|  Mean duration (s)\t|Num calls      \t|  Total time (s) \t|  Percentage %   \t|\n",
      "---------------------------------------------------------------------------------------------------------------------------------------\n",
      "Total                              \t|  -              \t|_              \t|  16.688         \t|  100 %          \t|\n",
      "---------------------------------------------------------------------------------------------------------------------------------------\n",
      "run_test_evaluation                \t|  16.605         \t|1              \t|  16.605         \t|  99.499         \t|\n",
      "evaluation_step_and_end            \t|  0.27228        \t|48             \t|  13.069         \t|  78.315         \t|\n",
      "test_step                          \t|  0.27215        \t|48             \t|  13.063         \t|  78.276         \t|\n",
      "get_test_batch                     \t|  0.04255        \t|49             \t|  2.085          \t|  12.494         \t|\n",
      "fetch_next_test_batch              \t|  0.042412       \t|49             \t|  2.0782         \t|  12.453         \t|\n",
      "on_test_batch_end                  \t|  0.020455       \t|48             \t|  0.98183        \t|  5.8833         \t|\n",
      "evaluation_batch_to_device         \t|  0.0034693      \t|48             \t|  0.16653        \t|  0.99785        \t|\n",
      "on_test_start                      \t|  0.017626       \t|1              \t|  0.017626       \t|  0.10562        \t|\n",
      "on_test_batch_start                \t|  3.2316e-05     \t|48             \t|  0.0015512      \t|  0.0092948      \t|\n",
      "on_test_end                        \t|  0.0013889      \t|1              \t|  0.0013889      \t|  0.0083223      \t|\n",
      "test_step_end                      \t|  1.3193e-05     \t|48             \t|  0.00063326     \t|  0.0037946      \t|\n",
      "on_test_model_eval                 \t|  6.8584e-05     \t|1              \t|  6.8584e-05     \t|  0.00041097     \t|\n",
      "on_test_epoch_end                  \t|  5.4149e-05     \t|1              \t|  5.4149e-05     \t|  0.00032447     \t|\n",
      "teardown                           \t|  3.7476e-05     \t|1              \t|  3.7476e-05     \t|  0.00022457     \t|\n",
      "on_epoch_end                       \t|  2.2208e-05     \t|1              \t|  2.2208e-05     \t|  0.00013308     \t|\n",
      "on_configure_sharded_model         \t|  1.69e-05       \t|1              \t|  1.69e-05       \t|  0.00010127     \t|\n",
      "on_epoch_start                     \t|  1.4558e-05     \t|1              \t|  1.4558e-05     \t|  8.7237e-05     \t|\n",
      "on_before_accelerator_backend_setup\t|  1.2832e-05     \t|1              \t|  1.2832e-05     \t|  7.689e-05      \t|\n",
      "setup                              \t|  1.0077e-05     \t|1              \t|  1.0077e-05     \t|  6.0383e-05     \t|\n",
      "on_test_epoch_start                \t|  9.5069e-06     \t|1              \t|  9.5069e-06     \t|  5.6967e-05     \t|\n",
      "on_test_dataloader                 \t|  9.4771e-06     \t|1              \t|  9.4771e-06     \t|  5.6789e-05     \t|\n",
      "configure_callbacks                \t|  6.9719e-06     \t|1              \t|  6.9719e-06     \t|  4.1777e-05     \t|\n",
      "configure_sharded_model            \t|  6.5248e-06     \t|1              \t|  6.5248e-06     \t|  3.9098e-05     \t|\n",
      "prepare_data                       \t|  4.3474e-06     \t|1              \t|  4.3474e-06     \t|  2.6051e-05     \t|\n",
      "\n"
     ]
    },
    {
     "name": "stdout",
     "output_type": "stream",
     "text": [
      "--------------------------------------------------------------------------------\n",
      "DATALOADER:0 TEST RESULTS\n",
      "{'test_loss': 0.3324054479598999, 'test_loss: mse': 0.3461713492870331}\n",
      "--------------------------------------------------------------------------------\n"
     ]
    },
    {
     "name": "stderr",
     "output_type": "stream",
     "text": [
      "/home/roko/.cache/pypoetry/virtualenvs/spatial-G_n0JvVf-py3.8/lib/python3.8/site-packages/hydra/experimental/initialize.py:35: UserWarning: hydra.experimental.initialize() is no longer experimental. Use hydra.initialize()\n",
      "  deprecation_warning(\n",
      "/home/roko/.cache/pypoetry/virtualenvs/spatial-G_n0JvVf-py3.8/lib/python3.8/site-packages/hydra/experimental/compose.py:18: UserWarning: hydra.experimental.compose() is no longer experimental. Use hydra.compose()\n",
      "  deprecation_warning(\n"
     ]
    },
    {
     "name": "stdout",
     "output_type": "stream",
     "text": [
      "Filtered Data (205348, 170)\n",
      "/home/roko/spatial/data/raw/merfish_messi.hdf5\n"
     ]
    },
    {
     "name": "stderr",
     "output_type": "stream",
     "text": [
      "GPU available: True, used: True\n",
      "TPU available: False, using: 0 TPU cores\n",
      "IPU available: False, using: 0 IPUs\n",
      "LOCAL_RANK: 0 - CUDA_VISIBLE_DEVICES: [0,1,2,3,4,5,6,7]\n",
      "/home/roko/.cache/pypoetry/virtualenvs/spatial-G_n0JvVf-py3.8/lib/python3.8/site-packages/pytorch_lightning/trainer/data_loading.py:132: UserWarning: The dataloader, test_dataloader 0, does not have many workers which may be a bottleneck. Consider increasing the value of the `num_workers` argument` (try 64 which is the number of cpus on this machine) in the `DataLoader` init to improve performance.\n",
      "  rank_zero_warn(\n"
     ]
    },
    {
     "data": {
      "application/vnd.jupyter.widget-view+json": {
       "model_id": "854c41d81d2942c395e637a7fe9102f5",
       "version_major": 2,
       "version_minor": 0
      },
      "text/plain": [
       "Testing: 0it [00:00, ?it/s]"
      ]
     },
     "metadata": {},
     "output_type": "display_data"
    },
    {
     "name": "stderr",
     "output_type": "stream",
     "text": [
      "TEST Profiler Report\n",
      "\n",
      "Action                             \t|  Mean duration (s)\t|Num calls      \t|  Total time (s) \t|  Percentage %   \t|\n",
      "---------------------------------------------------------------------------------------------------------------------------------------\n",
      "Total                              \t|  -              \t|_              \t|  16.737         \t|  100 %          \t|\n",
      "---------------------------------------------------------------------------------------------------------------------------------------\n",
      "run_test_evaluation                \t|  16.667         \t|1              \t|  16.667         \t|  99.582         \t|\n",
      "evaluation_step_and_end            \t|  0.27931        \t|48             \t|  13.407         \t|  80.103         \t|\n",
      "test_step                          \t|  0.27916        \t|48             \t|  13.4           \t|  80.061         \t|\n",
      "get_test_batch                     \t|  0.035567       \t|49             \t|  1.7428         \t|  10.413         \t|\n",
      "fetch_next_test_batch              \t|  0.03552        \t|49             \t|  1.7405         \t|  10.399         \t|\n",
      "on_test_batch_end                  \t|  0.02132        \t|48             \t|  1.0234         \t|  6.1144         \t|\n",
      "evaluation_batch_to_device         \t|  0.0028975      \t|48             \t|  0.13908        \t|  0.83099        \t|\n",
      "on_test_start                      \t|  0.01826        \t|1              \t|  0.01826        \t|  0.1091         \t|\n",
      "on_test_batch_start                \t|  3.1292e-05     \t|48             \t|  0.001502       \t|  0.0089743      \t|\n",
      "on_test_end                        \t|  0.0014663      \t|1              \t|  0.0014663      \t|  0.0087609      \t|\n",
      "test_step_end                      \t|  1.4651e-05     \t|48             \t|  0.00070326     \t|  0.0042019      \t|\n",
      "on_test_model_eval                 \t|  7.1133e-05     \t|1              \t|  7.1133e-05     \t|  0.000425       \t|\n",
      "on_test_epoch_end                  \t|  5.8169e-05     \t|1              \t|  5.8169e-05     \t|  0.00034755     \t|\n",
      "teardown                           \t|  3.7184e-05     \t|1              \t|  3.7184e-05     \t|  0.00022217     \t|\n",
      "on_epoch_end                       \t|  2.11e-05       \t|1              \t|  2.11e-05       \t|  0.00012607     \t|\n",
      "on_epoch_start                     \t|  1.9707e-05     \t|1              \t|  1.9707e-05     \t|  0.00011774     \t|\n",
      "on_configure_sharded_model         \t|  1.5402e-05     \t|1              \t|  1.5402e-05     \t|  9.2026e-05     \t|\n",
      "on_before_accelerator_backend_setup\t|  1.3871e-05     \t|1              \t|  1.3871e-05     \t|  8.2878e-05     \t|\n",
      "on_test_epoch_start                \t|  9.8236e-06     \t|1              \t|  9.8236e-06     \t|  5.8694e-05     \t|\n",
      "configure_callbacks                \t|  9.1754e-06     \t|1              \t|  9.1754e-06     \t|  5.4821e-05     \t|\n",
      "setup                              \t|  9.1419e-06     \t|1              \t|  9.1419e-06     \t|  5.4621e-05     \t|\n",
      "on_test_dataloader                 \t|  8.2646e-06     \t|1              \t|  8.2646e-06     \t|  4.9379e-05     \t|\n",
      "configure_sharded_model            \t|  4.8969e-06     \t|1              \t|  4.8969e-06     \t|  2.9258e-05     \t|\n",
      "prepare_data                       \t|  3.906e-06      \t|1              \t|  3.906e-06      \t|  2.3337e-05     \t|\n",
      "\n"
     ]
    },
    {
     "name": "stdout",
     "output_type": "stream",
     "text": [
      "--------------------------------------------------------------------------------\n",
      "DATALOADER:0 TEST RESULTS\n",
      "{'test_loss': 0.32449594140052795, 'test_loss: mse': 0.34988686442375183}\n",
      "--------------------------------------------------------------------------------\n"
     ]
    },
    {
     "name": "stderr",
     "output_type": "stream",
     "text": [
      "/home/roko/.cache/pypoetry/virtualenvs/spatial-G_n0JvVf-py3.8/lib/python3.8/site-packages/hydra/experimental/initialize.py:35: UserWarning: hydra.experimental.initialize() is no longer experimental. Use hydra.initialize()\n",
      "  deprecation_warning(\n",
      "/home/roko/.cache/pypoetry/virtualenvs/spatial-G_n0JvVf-py3.8/lib/python3.8/site-packages/hydra/experimental/compose.py:18: UserWarning: hydra.experimental.compose() is no longer experimental. Use hydra.compose()\n",
      "  deprecation_warning(\n"
     ]
    },
    {
     "name": "stdout",
     "output_type": "stream",
     "text": [
      "Filtered Data (205348, 170)\n",
      "/home/roko/spatial/data/raw/merfish_messi.hdf5\n"
     ]
    },
    {
     "name": "stderr",
     "output_type": "stream",
     "text": [
      "GPU available: True, used: True\n",
      "TPU available: False, using: 0 TPU cores\n",
      "IPU available: False, using: 0 IPUs\n",
      "LOCAL_RANK: 0 - CUDA_VISIBLE_DEVICES: [0,1,2,3,4,5,6,7]\n",
      "/home/roko/.cache/pypoetry/virtualenvs/spatial-G_n0JvVf-py3.8/lib/python3.8/site-packages/pytorch_lightning/trainer/data_loading.py:132: UserWarning: The dataloader, test_dataloader 0, does not have many workers which may be a bottleneck. Consider increasing the value of the `num_workers` argument` (try 64 which is the number of cpus on this machine) in the `DataLoader` init to improve performance.\n",
      "  rank_zero_warn(\n"
     ]
    },
    {
     "data": {
      "application/vnd.jupyter.widget-view+json": {
       "model_id": "11d39ac7dd57493f9afc59c2ace0eb7b",
       "version_major": 2,
       "version_minor": 0
      },
      "text/plain": [
       "Testing: 0it [00:00, ?it/s]"
      ]
     },
     "metadata": {},
     "output_type": "display_data"
    },
    {
     "name": "stderr",
     "output_type": "stream",
     "text": [
      "TEST Profiler Report\n",
      "\n",
      "Action                             \t|  Mean duration (s)\t|Num calls      \t|  Total time (s) \t|  Percentage %   \t|\n",
      "---------------------------------------------------------------------------------------------------------------------------------------\n",
      "Total                              \t|  -              \t|_              \t|  8.3173         \t|  100 %          \t|\n",
      "---------------------------------------------------------------------------------------------------------------------------------------\n",
      "run_test_evaluation                \t|  8.2419         \t|1              \t|  8.2419         \t|  99.094         \t|\n",
      "evaluation_step_and_end            \t|  0.25862        \t|24             \t|  6.2069         \t|  74.626         \t|\n",
      "test_step                          \t|  0.25848        \t|24             \t|  6.2034         \t|  74.585         \t|\n",
      "get_test_batch                     \t|  0.046688       \t|25             \t|  1.1672         \t|  14.034         \t|\n",
      "fetch_next_test_batch              \t|  0.046643       \t|25             \t|  1.1661         \t|  14.02          \t|\n",
      "on_test_batch_end                  \t|  0.019707       \t|24             \t|  0.47297        \t|  5.6866         \t|\n",
      "evaluation_batch_to_device         \t|  0.0038514      \t|24             \t|  0.092433       \t|  1.1113         \t|\n",
      "on_test_start                      \t|  0.018696       \t|1              \t|  0.018696       \t|  0.22479        \t|\n",
      "on_test_end                        \t|  0.0012491      \t|1              \t|  0.0012491      \t|  0.015018       \t|\n",
      "on_test_batch_start                \t|  3.1243e-05     \t|24             \t|  0.00074984     \t|  0.0090154      \t|\n",
      "test_step_end                      \t|  1.5279e-05     \t|24             \t|  0.00036669     \t|  0.0044088      \t|\n",
      "on_test_model_eval                 \t|  7.6339e-05     \t|1              \t|  7.6339e-05     \t|  0.00091783     \t|\n",
      "on_test_epoch_end                  \t|  4.7842e-05     \t|1              \t|  4.7842e-05     \t|  0.00057521     \t|\n",
      "teardown                           \t|  3.2475e-05     \t|1              \t|  3.2475e-05     \t|  0.00039046     \t|\n",
      "on_epoch_end                       \t|  2.2098e-05     \t|1              \t|  2.2098e-05     \t|  0.00026569     \t|\n",
      "on_configure_sharded_model         \t|  1.5929e-05     \t|1              \t|  1.5929e-05     \t|  0.00019152     \t|\n",
      "on_epoch_start                     \t|  1.5656e-05     \t|1              \t|  1.5656e-05     \t|  0.00018823     \t|\n",
      "on_before_accelerator_backend_setup\t|  1.2575e-05     \t|1              \t|  1.2575e-05     \t|  0.00015119     \t|\n",
      "on_test_epoch_start                \t|  1.088e-05      \t|1              \t|  1.088e-05      \t|  0.00013081     \t|\n",
      "setup                              \t|  9.5181e-06     \t|1              \t|  9.5181e-06     \t|  0.00011444     \t|\n",
      "configure_callbacks                \t|  9.5088e-06     \t|1              \t|  9.5088e-06     \t|  0.00011433     \t|\n",
      "on_test_dataloader                 \t|  9.1307e-06     \t|1              \t|  9.1307e-06     \t|  0.00010978     \t|\n",
      "configure_sharded_model            \t|  4.6398e-06     \t|1              \t|  4.6398e-06     \t|  5.5786e-05     \t|\n",
      "prepare_data                       \t|  4.0419e-06     \t|1              \t|  4.0419e-06     \t|  4.8597e-05     \t|\n",
      "\n"
     ]
    },
    {
     "name": "stdout",
     "output_type": "stream",
     "text": [
      "--------------------------------------------------------------------------------\n",
      "DATALOADER:0 TEST RESULTS\n",
      "{'test_loss': 0.3154938519001007, 'test_loss: mse': 0.3245489001274109}\n",
      "--------------------------------------------------------------------------------\n"
     ]
    },
    {
     "name": "stderr",
     "output_type": "stream",
     "text": [
      "/home/roko/.cache/pypoetry/virtualenvs/spatial-G_n0JvVf-py3.8/lib/python3.8/site-packages/hydra/experimental/initialize.py:35: UserWarning: hydra.experimental.initialize() is no longer experimental. Use hydra.initialize()\n",
      "  deprecation_warning(\n",
      "/home/roko/.cache/pypoetry/virtualenvs/spatial-G_n0JvVf-py3.8/lib/python3.8/site-packages/hydra/experimental/compose.py:18: UserWarning: hydra.experimental.compose() is no longer experimental. Use hydra.compose()\n",
      "  deprecation_warning(\n"
     ]
    },
    {
     "name": "stdout",
     "output_type": "stream",
     "text": [
      "Filtered Data (205348, 170)\n",
      "/home/roko/spatial/data/raw/merfish_messi.hdf5\n"
     ]
    },
    {
     "name": "stderr",
     "output_type": "stream",
     "text": [
      "GPU available: True, used: True\n",
      "TPU available: False, using: 0 TPU cores\n",
      "IPU available: False, using: 0 IPUs\n",
      "LOCAL_RANK: 0 - CUDA_VISIBLE_DEVICES: [0,1,2,3,4,5,6,7]\n",
      "/home/roko/.cache/pypoetry/virtualenvs/spatial-G_n0JvVf-py3.8/lib/python3.8/site-packages/pytorch_lightning/trainer/data_loading.py:132: UserWarning: The dataloader, test_dataloader 0, does not have many workers which may be a bottleneck. Consider increasing the value of the `num_workers` argument` (try 64 which is the number of cpus on this machine) in the `DataLoader` init to improve performance.\n",
      "  rank_zero_warn(\n"
     ]
    },
    {
     "data": {
      "application/vnd.jupyter.widget-view+json": {
       "model_id": "3fa8dee2ae024895b0b709c52fa15100",
       "version_major": 2,
       "version_minor": 0
      },
      "text/plain": [
       "Testing: 0it [00:00, ?it/s]"
      ]
     },
     "metadata": {},
     "output_type": "display_data"
    },
    {
     "name": "stderr",
     "output_type": "stream",
     "text": [
      "TEST Profiler Report\n",
      "\n",
      "Action                             \t|  Mean duration (s)\t|Num calls      \t|  Total time (s) \t|  Percentage %   \t|\n",
      "---------------------------------------------------------------------------------------------------------------------------------------\n",
      "Total                              \t|  -              \t|_              \t|  6.7845         \t|  100 %          \t|\n",
      "---------------------------------------------------------------------------------------------------------------------------------------\n",
      "run_test_evaluation                \t|  6.7124         \t|1              \t|  6.7124         \t|  98.937         \t|\n",
      "evaluation_step_and_end            \t|  0.25165        \t|20             \t|  5.0331         \t|  74.185         \t|\n",
      "test_step                          \t|  0.25152        \t|20             \t|  5.0304         \t|  74.146         \t|\n",
      "get_test_batch                     \t|  0.041911       \t|21             \t|  0.88014        \t|  12.973         \t|\n",
      "fetch_next_test_batch              \t|  0.041868       \t|21             \t|  0.87923        \t|  12.959         \t|\n",
      "on_test_batch_end                  \t|  0.020631       \t|20             \t|  0.41263        \t|  6.0819         \t|\n",
      "evaluation_batch_to_device         \t|  0.0038778      \t|20             \t|  0.077556       \t|  1.1431         \t|\n",
      "on_test_start                      \t|  0.019767       \t|1              \t|  0.019767       \t|  0.29136        \t|\n",
      "on_test_end                        \t|  0.0011838      \t|1              \t|  0.0011838      \t|  0.017448       \t|\n",
      "on_test_batch_start                \t|  2.9378e-05     \t|20             \t|  0.00058757     \t|  0.0086604      \t|\n",
      "test_step_end                      \t|  1.4372e-05     \t|20             \t|  0.00028744     \t|  0.0042367      \t|\n",
      "on_test_model_eval                 \t|  7.5072e-05     \t|1              \t|  7.5072e-05     \t|  0.0011065      \t|\n",
      "on_test_epoch_end                  \t|  5.5537e-05     \t|1              \t|  5.5537e-05     \t|  0.00081858     \t|\n",
      "teardown                           \t|  3.5344e-05     \t|1              \t|  3.5344e-05     \t|  0.00052095     \t|\n",
      "on_epoch_end                       \t|  2.2626e-05     \t|1              \t|  2.2626e-05     \t|  0.00033349     \t|\n",
      "on_configure_sharded_model         \t|  1.8159e-05     \t|1              \t|  1.8159e-05     \t|  0.00026765     \t|\n",
      "on_epoch_start                     \t|  1.6356e-05     \t|1              \t|  1.6356e-05     \t|  0.00024108     \t|\n",
      "on_before_accelerator_backend_setup\t|  1.3905e-05     \t|1              \t|  1.3905e-05     \t|  0.00020495     \t|\n",
      "on_test_epoch_start                \t|  1.1737e-05     \t|1              \t|  1.1737e-05     \t|  0.00017299     \t|\n",
      "configure_callbacks                \t|  1.1401e-05     \t|1              \t|  1.1401e-05     \t|  0.00016805     \t|\n",
      "setup                              \t|  1.0332e-05     \t|1              \t|  1.0332e-05     \t|  0.00015229     \t|\n",
      "on_test_dataloader                 \t|  8.1249e-06     \t|1              \t|  8.1249e-06     \t|  0.00011976     \t|\n",
      "configure_sharded_model            \t|  5.6829e-06     \t|1              \t|  5.6829e-06     \t|  8.3764e-05     \t|\n",
      "prepare_data                       \t|  4.5989e-06     \t|1              \t|  4.5989e-06     \t|  6.7785e-05     \t|\n",
      "\n"
     ]
    },
    {
     "name": "stdout",
     "output_type": "stream",
     "text": [
      "--------------------------------------------------------------------------------\n",
      "DATALOADER:0 TEST RESULTS\n",
      "{'test_loss': 0.33066630363464355, 'test_loss: mse': 0.358178973197937}\n",
      "--------------------------------------------------------------------------------\n"
     ]
    }
   ],
   "source": [
    "import hydra\n",
    "from hydra.experimental import compose, initialize\n",
    "\n",
    "test_loss_rad_dict = {}\n",
    "\n",
    "for rad in range(0,80,10):\n",
    "    for test_animal in [1,2,3,4]:\n",
    "        with initialize(config_path=\"../config\"):\n",
    "            cfg_from_terminal = compose(config_name=\"config\")\n",
    "            OmegaConf.update(cfg_from_terminal, \"training.logger_name\", \"table2\")\n",
    "            OmegaConf.update(cfg_from_terminal, \"radius\", rad)\n",
    "            OmegaConf.update(cfg_from_terminal, \"datasets.dataset.test_animal\", test_animal)\n",
    "            output = test(cfg_from_terminal)\n",
    "            trainer, l1_losses, inputs, gene_expressions, celltypes, test_results = output\n",
    "            test_loss_rad_dict[(rad, test_animal)] = test_results[0]['test_loss']"
   ]
  },
  {
   "cell_type": "code",
   "execution_count": 9,
   "id": "b58626bc",
   "metadata": {},
   "outputs": [
    {
     "data": {
      "text/plain": [
       "{(0, 1): 0.33348438143730164,\n",
       " (0, 2): 0.32344749569892883,\n",
       " (0, 3): 0.3152901828289032,\n",
       " (0, 4): 0.3326919674873352,\n",
       " (10, 1): 0.33578985929489136,\n",
       " (10, 2): 0.32577621936798096,\n",
       " (10, 3): 0.3188694715499878,\n",
       " (10, 4): 0.33603790402412415,\n",
       " (20, 1): 0.3356193006038666,\n",
       " (20, 2): 0.32561439275741577,\n",
       " (20, 3): 0.31718048453330994,\n",
       " (20, 4): 0.3340090215206146,\n",
       " (30, 1): 0.3336813747882843,\n",
       " (30, 2): 0.32789313793182373,\n",
       " (30, 3): 0.31558355689048767,\n",
       " (30, 4): 0.33445167541503906,\n",
       " (40, 1): 0.33460772037506104,\n",
       " (40, 2): 0.32464149594306946,\n",
       " (40, 3): 0.3162347376346588,\n",
       " (40, 4): 0.33553236722946167,\n",
       " (50, 1): 0.33392974734306335,\n",
       " (50, 2): 0.3266395628452301,\n",
       " (50, 3): 0.31530994176864624,\n",
       " (50, 4): 0.33241382241249084,\n",
       " (60, 1): 0.33370622992515564,\n",
       " (60, 2): 0.3268411457538605,\n",
       " (60, 3): 0.31519392132759094,\n",
       " (60, 4): 0.3317946195602417,\n",
       " (70, 1): 0.3324054479598999,\n",
       " (70, 2): 0.32449594140052795,\n",
       " (70, 3): 0.3154938519001007,\n",
       " (70, 4): 0.33066630363464355}"
      ]
     },
     "execution_count": 9,
     "metadata": {},
     "output_type": "execute_result"
    }
   ],
   "source": [
    "test_loss_rad_dict"
   ]
  },
  {
   "cell_type": "code",
   "execution_count": null,
   "id": "6f3561fd",
   "metadata": {},
   "outputs": [],
   "source": [
    "import hydra\n",
    "from hydra.experimental import compose, initialize\n",
    "\n",
    "test_loss_rad_dict = {}\n",
    "\n",
    "for rad in range(0,90,10):\n",
    "    with initialize(config_path=\"../config\"):\n",
    "        cfg_from_terminal = compose(config_name=\"config\")\n",
    "        OmegaConf.update(cfg_from_terminal, \"model.kwargs.hidden_dimensions\", [256, 256])\n",
    "        OmegaConf.update(cfg_from_terminal, \"training.logger_name\", \"gene93\")\n",
    "        OmegaConf.update(cfg_from_terminal, \"radius\", rad)\n",
    "        OmegaConf.update(cfg_from_terminal, \"model.kwargs.response_genes\", [93])\n",
    "        output = test(cfg_from_terminal)\n",
    "        trainer, l1_losses, inputs, gene_expressions, celltypes, test_results = output\n",
    "        test_loss_rad_dict[rad] = test_results[0]['test_loss']"
   ]
  },
  {
   "cell_type": "code",
   "execution_count": 4,
   "id": "7fdc197c",
   "metadata": {},
   "outputs": [
    {
     "data": {
      "text/plain": [
       "{0: 0.5447613000869751, 10: 0.5476641654968262, 20: 0.5515235662460327}"
      ]
     },
     "execution_count": 4,
     "metadata": {},
     "output_type": "execute_result"
    }
   ],
   "source": [
    "test_loss_rad_dict"
   ]
  },
  {
   "cell_type": "code",
   "execution_count": 17,
   "id": "18817f1a",
   "metadata": {},
   "outputs": [
    {
     "name": "stderr",
     "output_type": "stream",
     "text": [
      "/home/roko/.cache/pypoetry/virtualenvs/spatial-G_n0JvVf-py3.8/lib/python3.8/site-packages/hydra/experimental/initialize.py:35: UserWarning: hydra.experimental.initialize() is no longer experimental. Use hydra.initialize()\n",
      "  deprecation_warning(\n",
      "/home/roko/.cache/pypoetry/virtualenvs/spatial-G_n0JvVf-py3.8/lib/python3.8/site-packages/hydra/experimental/compose.py:18: UserWarning: hydra.experimental.compose() is no longer experimental. Use hydra.compose()\n",
      "  deprecation_warning(\n",
      "GPU available: True, used: True\n",
      "TPU available: False, using: 0 TPU cores\n",
      "IPU available: False, using: 0 IPUs\n",
      "LOCAL_RANK: 0 - CUDA_VISIBLE_DEVICES: [0,1,2,3,4,5,6,7]\n",
      "/home/roko/.cache/pypoetry/virtualenvs/spatial-G_n0JvVf-py3.8/lib/python3.8/site-packages/pytorch_lightning/trainer/data_loading.py:132: UserWarning: The dataloader, test_dataloader 0, does not have many workers which may be a bottleneck. Consider increasing the value of the `num_workers` argument` (try 64 which is the number of cpus on this machine) in the `DataLoader` init to improve performance.\n",
      "  rank_zero_warn(\n"
     ]
    },
    {
     "data": {
      "application/vnd.jupyter.widget-view+json": {
       "model_id": "9d052a0eb8114d4aa7911496d53f91ba",
       "version_major": 2,
       "version_minor": 0
      },
      "text/plain": [
       "Testing: 0it [00:00, ?it/s]"
      ]
     },
     "metadata": {},
     "output_type": "display_data"
    },
    {
     "name": "stdout",
     "output_type": "stream",
     "text": [
      "--------------------------------------------------------------------------------\n",
      "DATALOADER:0 TEST RESULTS\n",
      "{'test_loss': 1.0945104360580444, 'test_loss: mse': 1.8883172273635864}\n",
      "--------------------------------------------------------------------------------\n"
     ]
    },
    {
     "name": "stderr",
     "output_type": "stream",
     "text": [
      "TEST Profiler Report\n",
      "\n",
      "Action                             \t|  Mean duration (s)\t|Num calls      \t|  Total time (s) \t|  Percentage %   \t|\n",
      "---------------------------------------------------------------------------------------------------------------------------------------\n",
      "Total                              \t|  -              \t|_              \t|  28.652         \t|  100 %          \t|\n",
      "---------------------------------------------------------------------------------------------------------------------------------------\n",
      "run_test_evaluation                \t|  28.459         \t|1              \t|  28.459         \t|  99.33          \t|\n",
      "evaluation_step_and_end            \t|  0.62464        \t|31             \t|  19.364         \t|  67.584         \t|\n",
      "test_step                          \t|  0.62451        \t|31             \t|  19.36          \t|  67.569         \t|\n",
      "get_test_batch                     \t|  0.24619        \t|32             \t|  7.8782         \t|  27.497         \t|\n",
      "fetch_next_test_batch              \t|  0.24612        \t|32             \t|  7.8757         \t|  27.488         \t|\n",
      "on_test_batch_end                  \t|  0.020989       \t|31             \t|  0.65065        \t|  2.2709         \t|\n",
      "evaluation_batch_to_device         \t|  0.0077764      \t|31             \t|  0.24107        \t|  0.84138        \t|\n",
      "on_test_start                      \t|  0.016902       \t|1              \t|  0.016902       \t|  0.058993       \t|\n",
      "on_test_end                        \t|  0.0056479      \t|1              \t|  0.0056479      \t|  0.019712       \t|\n",
      "on_test_batch_start                \t|  3.1416e-05     \t|31             \t|  0.00097391     \t|  0.0033991      \t|\n",
      "test_step_end                      \t|  1.285e-05      \t|31             \t|  0.00039836     \t|  0.0013904      \t|\n",
      "on_test_model_eval                 \t|  4.8965e-05     \t|1              \t|  4.8965e-05     \t|  0.0001709      \t|\n",
      "on_test_epoch_end                  \t|  3.0532e-05     \t|1              \t|  3.0532e-05     \t|  0.00010656     \t|\n",
      "teardown                           \t|  2.2244e-05     \t|1              \t|  2.2244e-05     \t|  7.7635e-05     \t|\n",
      "on_configure_sharded_model         \t|  1.7168e-05     \t|1              \t|  1.7168e-05     \t|  5.992e-05      \t|\n",
      "setup                              \t|  1.3649e-05     \t|1              \t|  1.3649e-05     \t|  4.764e-05      \t|\n",
      "on_before_accelerator_backend_setup\t|  1.1744e-05     \t|1              \t|  1.1744e-05     \t|  4.0989e-05     \t|\n",
      "on_epoch_start                     \t|  1.1627e-05     \t|1              \t|  1.1627e-05     \t|  4.0579e-05     \t|\n",
      "configure_callbacks                \t|  1.1088e-05     \t|1              \t|  1.1088e-05     \t|  3.8701e-05     \t|\n",
      "on_epoch_end                       \t|  1.0045e-05     \t|1              \t|  1.0045e-05     \t|  3.506e-05      \t|\n",
      "on_test_epoch_start                \t|  8.4881e-06     \t|1              \t|  8.4881e-06     \t|  2.9625e-05     \t|\n",
      "on_test_dataloader                 \t|  6.7074e-06     \t|1              \t|  6.7074e-06     \t|  2.341e-05      \t|\n",
      "configure_sharded_model            \t|  5.9754e-06     \t|1              \t|  5.9754e-06     \t|  2.0855e-05     \t|\n",
      "prepare_data                       \t|  4.4741e-06     \t|1              \t|  4.4741e-06     \t|  1.5615e-05     \t|\n",
      "\n",
      "GPU available: True, used: True\n",
      "TPU available: False, using: 0 TPU cores\n",
      "IPU available: False, using: 0 IPUs\n",
      "LOCAL_RANK: 0 - CUDA_VISIBLE_DEVICES: [0,1,2,3,4,5,6,7]\n"
     ]
    },
    {
     "data": {
      "application/vnd.jupyter.widget-view+json": {
       "model_id": "54f8ad7ed53244aba843f89b7f5d9593",
       "version_major": 2,
       "version_minor": 0
      },
      "text/plain": [
       "Testing: 0it [00:00, ?it/s]"
      ]
     },
     "metadata": {},
     "output_type": "display_data"
    },
    {
     "name": "stderr",
     "output_type": "stream",
     "text": [
      "TEST Profiler Report\n",
      "\n",
      "Action                             \t|  Mean duration (s)\t|Num calls      \t|  Total time (s) \t|  Percentage %   \t|\n",
      "---------------------------------------------------------------------------------------------------------------------------------------\n",
      "Total                              \t|  -              \t|_              \t|  28.134         \t|  100 %          \t|\n",
      "---------------------------------------------------------------------------------------------------------------------------------------\n",
      "run_test_evaluation                \t|  28.051         \t|1              \t|  28.051         \t|  99.705         \t|\n",
      "evaluation_step_and_end            \t|  0.61457        \t|31             \t|  19.052         \t|  67.718         \t|\n",
      "test_step                          \t|  0.61441        \t|31             \t|  19.047         \t|  67.701         \t|\n",
      "get_test_batch                     \t|  0.24023        \t|32             \t|  7.6875         \t|  27.325         \t|\n",
      "fetch_next_test_batch              \t|  0.24018        \t|32             \t|  7.6859         \t|  27.319         \t|\n",
      "on_test_batch_end                  \t|  0.021843       \t|31             \t|  0.67713        \t|  2.4068         \t|\n",
      "evaluation_batch_to_device         \t|  0.0065941      \t|31             \t|  0.20442        \t|  0.72659        \t|\n",
      "on_test_start                      \t|  0.020076       \t|1              \t|  0.020076       \t|  0.071359       \t|\n",
      "on_test_end                        \t|  0.017046       \t|1              \t|  0.017046       \t|  0.060589       \t|\n",
      "on_test_batch_start                \t|  3.0866e-05     \t|31             \t|  0.00095686     \t|  0.0034011      \t|\n",
      "test_step_end                      \t|  1.5031e-05     \t|31             \t|  0.00046596     \t|  0.0016562      \t|\n",
      "on_test_epoch_end                  \t|  7.4679e-05     \t|1              \t|  7.4679e-05     \t|  0.00026544     \t|\n",
      "on_test_model_eval                 \t|  5.126e-05      \t|1              \t|  5.126e-05      \t|  0.0001822      \t|\n",
      "teardown                           \t|  3.5156e-05     \t|1              \t|  3.5156e-05     \t|  0.00012496     \t|\n",
      "on_epoch_start                     \t|  2.7779e-05     \t|1              \t|  2.7779e-05     \t|  9.8741e-05     \t|\n",
      "on_test_epoch_start                \t|  2.3473e-05     \t|1              \t|  2.3473e-05     \t|  8.3434e-05     \t|\n",
      "on_epoch_end                       \t|  2.2411e-05     \t|1              \t|  2.2411e-05     \t|  7.966e-05      \t|\n",
      "on_configure_sharded_model         \t|  1.3314e-05     \t|1              \t|  1.3314e-05     \t|  4.7325e-05     \t|\n",
      "on_before_accelerator_backend_setup\t|  1.1563e-05     \t|1              \t|  1.1563e-05     \t|  4.1101e-05     \t|\n",
      "setup                              \t|  9.4026e-06     \t|1              \t|  9.4026e-06     \t|  3.3421e-05     \t|\n",
      "configure_callbacks                \t|  6.2678e-06     \t|1              \t|  6.2678e-06     \t|  2.2279e-05     \t|\n",
      "on_test_dataloader                 \t|  5.3495e-06     \t|1              \t|  5.3495e-06     \t|  1.9015e-05     \t|\n",
      "configure_sharded_model            \t|  4.9956e-06     \t|1              \t|  4.9956e-06     \t|  1.7757e-05     \t|\n",
      "prepare_data                       \t|  4.096e-06      \t|1              \t|  4.096e-06      \t|  1.4559e-05     \t|\n",
      "\n"
     ]
    },
    {
     "name": "stdout",
     "output_type": "stream",
     "text": [
      "--------------------------------------------------------------------------------\n",
      "DATALOADER:0 TEST RESULTS\n",
      "{'test_loss': 1.1736109256744385, 'test_loss: mse': 2.1698858737945557}\n",
      "--------------------------------------------------------------------------------\n"
     ]
    },
    {
     "name": "stderr",
     "output_type": "stream",
     "text": [
      "GPU available: True, used: True\n",
      "TPU available: False, using: 0 TPU cores\n",
      "IPU available: False, using: 0 IPUs\n",
      "LOCAL_RANK: 0 - CUDA_VISIBLE_DEVICES: [0,1,2,3,4,5,6,7]\n"
     ]
    },
    {
     "data": {
      "application/vnd.jupyter.widget-view+json": {
       "model_id": "502bec7d7a26446992c035fbdc771fa1",
       "version_major": 2,
       "version_minor": 0
      },
      "text/plain": [
       "Testing: 0it [00:00, ?it/s]"
      ]
     },
     "metadata": {},
     "output_type": "display_data"
    },
    {
     "name": "stderr",
     "output_type": "stream",
     "text": [
      "TEST Profiler Report\n",
      "\n",
      "Action                             \t|  Mean duration (s)\t|Num calls      \t|  Total time (s) \t|  Percentage %   \t|\n",
      "---------------------------------------------------------------------------------------------------------------------------------------\n",
      "Total                              \t|  -              \t|_              \t|  26.265         \t|  100 %          \t|\n",
      "---------------------------------------------------------------------------------------------------------------------------------------\n",
      "run_test_evaluation                \t|  26.219         \t|1              \t|  26.219         \t|  99.825         \t|\n",
      "evaluation_step_and_end            \t|  0.57726        \t|31             \t|  17.895         \t|  68.133         \t|\n",
      "test_step                          \t|  0.57713        \t|31             \t|  17.891         \t|  68.118         \t|\n",
      "get_test_batch                     \t|  0.22075        \t|32             \t|  7.064          \t|  26.895         \t|\n",
      "fetch_next_test_batch              \t|  0.22071        \t|32             \t|  7.0626         \t|  26.89          \t|\n",
      "on_test_batch_end                  \t|  0.020996       \t|31             \t|  0.65087        \t|  2.4781         \t|\n",
      "evaluation_batch_to_device         \t|  0.0070312      \t|31             \t|  0.21797        \t|  0.82988        \t|\n",
      "on_test_end                        \t|  0.016762       \t|1              \t|  0.016762       \t|  0.063819       \t|\n",
      "on_test_start                      \t|  0.015554       \t|1              \t|  0.015554       \t|  0.059219       \t|\n",
      "on_test_batch_start                \t|  3.0041e-05     \t|31             \t|  0.00093127     \t|  0.0035457      \t|\n",
      "test_step_end                      \t|  1.301e-05      \t|31             \t|  0.0004033      \t|  0.0015355      \t|\n",
      "on_test_epoch_end                  \t|  6.4168e-05     \t|1              \t|  6.4168e-05     \t|  0.00024431     \t|\n",
      "on_test_model_eval                 \t|  4.9541e-05     \t|1              \t|  4.9541e-05     \t|  0.00018862     \t|\n",
      "on_epoch_end                       \t|  3.2116e-05     \t|1              \t|  3.2116e-05     \t|  0.00012228     \t|\n",
      "teardown                           \t|  2.2e-05        \t|1              \t|  2.2e-05        \t|  8.3761e-05     \t|\n",
      "on_configure_sharded_model         \t|  2.1707e-05     \t|1              \t|  2.1707e-05     \t|  8.2647e-05     \t|\n",
      "on_before_accelerator_backend_setup\t|  1.1446e-05     \t|1              \t|  1.1446e-05     \t|  4.3579e-05     \t|\n",
      "on_epoch_start                     \t|  9.153e-06      \t|1              \t|  9.153e-06      \t|  3.4849e-05     \t|\n",
      "setup                              \t|  8.9742e-06     \t|1              \t|  8.9742e-06     \t|  3.4168e-05     \t|\n",
      "configure_callbacks                \t|  7.5158e-06     \t|1              \t|  7.5158e-06     \t|  2.8615e-05     \t|\n",
      "on_test_epoch_start                \t|  7.4897e-06     \t|1              \t|  7.4897e-06     \t|  2.8516e-05     \t|\n",
      "on_test_dataloader                 \t|  4.7609e-06     \t|1              \t|  4.7609e-06     \t|  1.8127e-05     \t|\n",
      "configure_sharded_model            \t|  4.502e-06      \t|1              \t|  4.502e-06      \t|  1.7141e-05     \t|\n",
      "prepare_data                       \t|  4.258e-06      \t|1              \t|  4.258e-06      \t|  1.6212e-05     \t|\n",
      "\n"
     ]
    },
    {
     "name": "stdout",
     "output_type": "stream",
     "text": [
      "--------------------------------------------------------------------------------\n",
      "DATALOADER:0 TEST RESULTS\n",
      "{'test_loss': 1.0506397485733032, 'test_loss: mse': 1.723992943763733}\n",
      "--------------------------------------------------------------------------------\n"
     ]
    },
    {
     "name": "stderr",
     "output_type": "stream",
     "text": [
      "GPU available: True, used: True\n",
      "TPU available: False, using: 0 TPU cores\n",
      "IPU available: False, using: 0 IPUs\n",
      "LOCAL_RANK: 0 - CUDA_VISIBLE_DEVICES: [0,1,2,3,4,5,6,7]\n"
     ]
    },
    {
     "data": {
      "application/vnd.jupyter.widget-view+json": {
       "model_id": "b30745bb96c547dc9febaa89494d1777",
       "version_major": 2,
       "version_minor": 0
      },
      "text/plain": [
       "Testing: 0it [00:00, ?it/s]"
      ]
     },
     "metadata": {},
     "output_type": "display_data"
    },
    {
     "name": "stderr",
     "output_type": "stream",
     "text": [
      "/home/roko/.cache/pypoetry/virtualenvs/spatial-G_n0JvVf-py3.8/lib/python3.8/site-packages/pytorch_lightning/trainer/trainer.py:688: UserWarning: Detected KeyboardInterrupt, attempting graceful shutdown...\n",
      "  rank_zero_warn(\"Detected KeyboardInterrupt, attempting graceful shutdown...\")\n"
     ]
    },
    {
     "ename": "TypeError",
     "evalue": "'NoneType' object is not subscriptable",
     "output_type": "error",
     "traceback": [
      "\u001b[0;31m---------------------------------------------------------------------------\u001b[0m",
      "\u001b[0;31mTypeError\u001b[0m                                 Traceback (most recent call last)",
      "Input \u001b[0;32mIn [17]\u001b[0m, in \u001b[0;36m<cell line: 6>\u001b[0;34m()\u001b[0m\n\u001b[1;32m     14\u001b[0m output \u001b[38;5;241m=\u001b[39m test(cfg_from_terminal)\n\u001b[1;32m     15\u001b[0m trainer, l1_losses, inputs, gene_expressions, celltypes, test_results \u001b[38;5;241m=\u001b[39m output\n\u001b[0;32m---> 16\u001b[0m test_loss_rad_dict_response[rad] \u001b[38;5;241m=\u001b[39m \u001b[43mtest_results\u001b[49m\u001b[43m[\u001b[49m\u001b[38;5;241;43m0\u001b[39;49m\u001b[43m]\u001b[49m[\u001b[38;5;124m'\u001b[39m\u001b[38;5;124mtest_loss\u001b[39m\u001b[38;5;124m'\u001b[39m]\n",
      "\u001b[0;31mTypeError\u001b[0m: 'NoneType' object is not subscriptable"
     ]
    }
   ],
   "source": [
    "import hydra\n",
    "from hydra.experimental import compose, initialize\n",
    "\n",
    "test_loss_rad_dict_response = {}\n",
    "\n",
    "for rad in range(0,50,10):\n",
    "    with initialize(config_path=\"../config\"):\n",
    "        cfg_from_terminal = compose(config_name=\"config\")\n",
    "        OmegaConf.update(cfg_from_terminal, \"model.kwargs.hidden_dimensions\", [256, 256])\n",
    "        OmegaConf.update(cfg_from_terminal, \"training.logger_name\", \"gene93\")\n",
    "        OmegaConf.update(cfg_from_terminal, \"radius\", rad)\n",
    "        OmegaConf.update(cfg_from_terminal, \"model.kwargs.response_genes\", [93])\n",
    "        OmegaConf.update(cfg_from_terminal, \"training.filepath\", f\"{cfg_from_terminal.model.name}__{cfg_from_terminal.model.kwargs.hidden_dimensions}__{cfg_from_terminal.radius}__{cfg_from_terminal.model.kwargs.attach_mask}__{cfg_from_terminal.training.logger_name}\")\n",
    "        output = test(cfg_from_terminal)\n",
    "        trainer, l1_losses, inputs, gene_expressions, celltypes, test_results = output\n",
    "        test_loss_rad_dict_response[rad] = test_results[0]['test_loss']"
   ]
  },
  {
   "cell_type": "code",
   "execution_count": 6,
   "id": "3fb0d04e",
   "metadata": {},
   "outputs": [
    {
     "data": {
      "text/plain": [
       "{0: 0.048507098108530045, 10: 0.048644304275512695, 20: 0.04809991642832756}"
      ]
     },
     "execution_count": 6,
     "metadata": {},
     "output_type": "execute_result"
    }
   ],
   "source": [
    "test_loss_rad_dict_response"
   ]
  },
  {
   "cell_type": "code",
   "execution_count": 8,
   "id": "ebec781b",
   "metadata": {
    "scrolled": true
   },
   "outputs": [
    {
     "name": "stderr",
     "output_type": "stream",
     "text": [
      "GPU available: True, used: True\n",
      "TPU available: False, using: 0 TPU cores\n",
      "IPU available: False, using: 0 IPUs\n",
      "LOCAL_RANK: 0 - CUDA_VISIBLE_DEVICES: [0,1,2,3,4,5,6,7]\n"
     ]
    },
    {
     "data": {
      "application/vnd.jupyter.widget-view+json": {
       "model_id": "901a315c13d746b1985da5d90d595931",
       "version_major": 2,
       "version_minor": 0
      },
      "text/plain": [
       "Testing: 0it [00:00, ?it/s]"
      ]
     },
     "metadata": {},
     "output_type": "display_data"
    },
    {
     "name": "stderr",
     "output_type": "stream",
     "text": [
      "TEST Profiler Report\n",
      "\n",
      "Action                             \t|  Mean duration (s)\t|Num calls      \t|  Total time (s) \t|  Percentage %   \t|\n",
      "---------------------------------------------------------------------------------------------------------------------------------------\n",
      "Total                              \t|  -              \t|_              \t|  21.973         \t|  100 %          \t|\n",
      "---------------------------------------------------------------------------------------------------------------------------------------\n",
      "run_test_evaluation                \t|  21.839         \t|1              \t|  21.839         \t|  99.39          \t|\n",
      "evaluation_step_and_end            \t|  0.56187        \t|31             \t|  17.418         \t|  79.27          \t|\n",
      "test_step                          \t|  0.56175        \t|31             \t|  17.414         \t|  79.253         \t|\n",
      "get_test_batch                     \t|  0.10323        \t|32             \t|  3.3033         \t|  15.034         \t|\n",
      "fetch_next_test_batch              \t|  0.10319        \t|32             \t|  3.3021         \t|  15.028         \t|\n",
      "on_test_batch_end                  \t|  0.020551       \t|31             \t|  0.63709        \t|  2.8994         \t|\n",
      "evaluation_batch_to_device         \t|  0.0064557      \t|31             \t|  0.20013        \t|  0.91077        \t|\n",
      "on_test_start                      \t|  0.015436       \t|1              \t|  0.015436       \t|  0.070248       \t|\n",
      "on_test_end                        \t|  0.0025013      \t|1              \t|  0.0025013      \t|  0.011383       \t|\n",
      "on_test_batch_start                \t|  2.7494e-05     \t|31             \t|  0.00085233     \t|  0.003879       \t|\n",
      "test_step_end                      \t|  1.2807e-05     \t|31             \t|  0.00039703     \t|  0.0018069      \t|\n",
      "on_test_model_eval                 \t|  9.0407e-05     \t|1              \t|  9.0407e-05     \t|  0.00041145     \t|\n",
      "on_test_epoch_end                  \t|  4.4288e-05     \t|1              \t|  4.4288e-05     \t|  0.00020156     \t|\n",
      "on_epoch_end                       \t|  2.6979e-05     \t|1              \t|  2.6979e-05     \t|  0.00012278     \t|\n",
      "teardown                           \t|  1.9794e-05     \t|1              \t|  1.9794e-05     \t|  9.0084e-05     \t|\n",
      "on_configure_sharded_model         \t|  1.4564e-05     \t|1              \t|  1.4564e-05     \t|  6.6281e-05     \t|\n",
      "on_before_accelerator_backend_setup\t|  1.3052e-05     \t|1              \t|  1.3052e-05     \t|  5.9398e-05     \t|\n",
      "on_epoch_start                     \t|  9.1232e-06     \t|1              \t|  9.1232e-06     \t|  4.152e-05      \t|\n",
      "setup                              \t|  8.9649e-06     \t|1              \t|  8.9649e-06     \t|  4.08e-05       \t|\n",
      "on_test_epoch_start                \t|  8.028e-06      \t|1              \t|  8.028e-06      \t|  3.6536e-05     \t|\n",
      "configure_callbacks                \t|  5.9474e-06     \t|1              \t|  5.9474e-06     \t|  2.7067e-05     \t|\n",
      "on_test_dataloader                 \t|  5.6755e-06     \t|1              \t|  5.6755e-06     \t|  2.5829e-05     \t|\n",
      "configure_sharded_model            \t|  4.8634e-06     \t|1              \t|  4.8634e-06     \t|  2.2133e-05     \t|\n",
      "prepare_data                       \t|  3.9898e-06     \t|1              \t|  3.9898e-06     \t|  1.8158e-05     \t|\n",
      "\n"
     ]
    },
    {
     "name": "stdout",
     "output_type": "stream",
     "text": [
      "--------------------------------------------------------------------------------\n",
      "DATALOADER:0 TEST RESULTS\n",
      "{'test_loss': 0.08934661746025085,\n",
      " 'test_loss: mae_response': 0.12857602536678314,\n",
      " 'test_loss: mse': 3.003896951675415}\n",
      "--------------------------------------------------------------------------------\n"
     ]
    }
   ],
   "source": [
    "# equivalent to spatial\n",
    "\n",
    "import hydra\n",
    "from hydra.experimental import compose, initialize\n",
    "\n",
    "with initialize(config_path=\"../config\"):\n",
    "    cfg_from_terminal = compose(config_name=\"config\")\n",
    "    OmegaConf.update(cfg_from_terminal, \"model.kwargs.hidden_dimensions\", [256, 256])\n",
    "    OmegaConf.update(cfg_from_terminal, \"training.logger_name\", \"neighbors_large\")\n",
    "    OmegaConf.update(cfg_from_terminal, \"radius\", 0)\n",
    "    output = test(cfg_from_terminal)\n",
    "    trainer, l1_losses, inputs, gene_expressions, celltypes, test_results = output\n",
    "    excitatory_cells = (celltypes == 6).nonzero(as_tuple=True)[0]\n",
    "    MAE_excitatory = torch.abs(torch.index_select((gene_expressions-inputs)[excitatory_cells], 1, torch.tensor(response_indeces))).mean().item()"
   ]
  },
  {
   "cell_type": "code",
   "execution_count": 4,
   "id": "3f7d889e",
   "metadata": {},
   "outputs": [
    {
     "data": {
      "text/plain": [
       "0.15488235652446747"
      ]
     },
     "execution_count": 4,
     "metadata": {},
     "output_type": "execute_result"
    }
   ],
   "source": [
    "MAE_excitatory"
   ]
  },
  {
   "cell_type": "code",
   "execution_count": 3,
   "id": "b3980c72",
   "metadata": {},
   "outputs": [],
   "source": [
    "trainer, l1_losses, inputs, gene_expressions, celltypes, test_results = output"
   ]
  },
  {
   "cell_type": "code",
   "execution_count": 4,
   "id": "1e8279cb",
   "metadata": {},
   "outputs": [
    {
     "data": {
      "text/plain": [
       "0.33515501022338867"
      ]
     },
     "execution_count": 4,
     "metadata": {},
     "output_type": "execute_result"
    }
   ],
   "source": [
    "test_results[0]['test_loss: mae_response']"
   ]
  },
  {
   "cell_type": "code",
   "execution_count": 3,
   "id": "64905249",
   "metadata": {},
   "outputs": [
    {
     "name": "stderr",
     "output_type": "stream",
     "text": [
      "/home/roko/.cache/pypoetry/virtualenvs/spatial-G_n0JvVf-py3.8/lib/python3.8/site-packages/hydra/experimental/initialize.py:35: UserWarning: hydra.experimental.initialize() is no longer experimental. Use hydra.initialize()\n",
      "  deprecation_warning(\n",
      "/home/roko/.cache/pypoetry/virtualenvs/spatial-G_n0JvVf-py3.8/lib/python3.8/site-packages/hydra/experimental/compose.py:18: UserWarning: hydra.experimental.compose() is no longer experimental. Use hydra.compose()\n",
      "  deprecation_warning(\n",
      "/home/roko/.cache/pypoetry/virtualenvs/spatial-G_n0JvVf-py3.8/lib/python3.8/site-packages/hydra/_internal/defaults_list.py:251: UserWarning: In 'config': Defaults list is missing `_self_`. See https://hydra.cc/docs/upgrades/1.0_to_1.1/default_composition_order for more information\n",
      "  warnings.warn(msg, UserWarning)\n",
      "/home/roko/.cache/pypoetry/virtualenvs/spatial-G_n0JvVf-py3.8/lib/python3.8/site-packages/hydra/core/default_element.py:122: UserWarning: In 'predict/default': Usage of deprecated keyword in package header '# @package _group_'.\n",
      "See https://hydra.cc/docs/next/upgrades/1.0_to_1.1/changes_to_package_header for more information\n",
      "  deprecation_warning(\n",
      "/home/roko/.cache/pypoetry/virtualenvs/spatial-G_n0JvVf-py3.8/lib/python3.8/site-packages/hydra/core/default_element.py:122: UserWarning: In 'training/default': Usage of deprecated keyword in package header '# @package _group_'.\n",
      "See https://hydra.cc/docs/next/upgrades/1.0_to_1.1/changes_to_package_header for more information\n",
      "  deprecation_warning(\n",
      "/home/roko/.cache/pypoetry/virtualenvs/spatial-G_n0JvVf-py3.8/lib/python3.8/site-packages/hydra/core/default_element.py:122: UserWarning: In 'model/MonetAutoencoder2D': Usage of deprecated keyword in package header '# @package _group_'.\n",
      "See https://hydra.cc/docs/next/upgrades/1.0_to_1.1/changes_to_package_header for more information\n",
      "  deprecation_warning(\n",
      "/home/roko/.cache/pypoetry/virtualenvs/spatial-G_n0JvVf-py3.8/lib/python3.8/site-packages/hydra/core/default_element.py:122: UserWarning: In 'datasets/FilteredMerfishDataset': Usage of deprecated keyword in package header '# @package _group_'.\n",
      "See https://hydra.cc/docs/next/upgrades/1.0_to_1.1/changes_to_package_header for more information\n",
      "  deprecation_warning(\n",
      "/home/roko/.cache/pypoetry/virtualenvs/spatial-G_n0JvVf-py3.8/lib/python3.8/site-packages/hydra/core/default_element.py:122: UserWarning: In 'optimizer/sgd': Usage of deprecated keyword in package header '# @package _group_'.\n",
      "See https://hydra.cc/docs/next/upgrades/1.0_to_1.1/changes_to_package_header for more information\n",
      "  deprecation_warning(\n"
     ]
    },
    {
     "name": "stdout",
     "output_type": "stream",
     "text": [
      "Original Data (1027848, 170)\n",
      "Filtered Data (205348, 170)\n",
      "/home/roko/spatial/data/raw/merfish_messi.hdf5\n"
     ]
    },
    {
     "name": "stderr",
     "output_type": "stream",
     "text": [
      "/home/roko/.cache/pypoetry/virtualenvs/spatial-G_n0JvVf-py3.8/lib/python3.8/site-packages/pytorch_lightning/trainer/connectors/accelerator_connector.py:286: LightningDeprecationWarning: Passing `Trainer(accelerator='dp')` has been deprecated in v1.5 and will be removed in v1.7. Use `Trainer(strategy='dp')` instead.\n",
      "  rank_zero_deprecation(\n",
      "/home/roko/.cache/pypoetry/virtualenvs/spatial-G_n0JvVf-py3.8/lib/python3.8/site-packages/pytorch_lightning/trainer/connectors/callback_connector.py:147: LightningDeprecationWarning: Setting `Trainer(checkpoint_callback=True)` is deprecated in v1.5 and will be removed in v1.7. Please consider using `Trainer(enable_checkpointing=True)`.\n",
      "  rank_zero_deprecation(\n",
      "GPU available: True, used: True\n",
      "TPU available: False, using: 0 TPU cores\n",
      "IPU available: False, using: 0 IPUs\n",
      "LOCAL_RANK: 0 - CUDA_VISIBLE_DEVICES: [0,1,2,3,4,5,6,7]\n",
      "/home/roko/.cache/pypoetry/virtualenvs/spatial-G_n0JvVf-py3.8/lib/python3.8/site-packages/pytorch_lightning/trainer/data_loading.py:132: UserWarning: The dataloader, test_dataloader 0, does not have many workers which may be a bottleneck. Consider increasing the value of the `num_workers` argument` (try 64 which is the number of cpus on this machine) in the `DataLoader` init to improve performance.\n",
      "  rank_zero_warn(\n"
     ]
    },
    {
     "data": {
      "application/vnd.jupyter.widget-view+json": {
       "model_id": "131e583f31c246b2ac657427f45d1538",
       "version_major": 2,
       "version_minor": 0
      },
      "text/plain": [
       "Testing: 0it [00:00, ?it/s]"
      ]
     },
     "metadata": {},
     "output_type": "display_data"
    },
    {
     "name": "stderr",
     "output_type": "stream",
     "text": [
      "/home/roko/.cache/pypoetry/virtualenvs/spatial-G_n0JvVf-py3.8/lib/python3.8/site-packages/pytorch_lightning/overrides/data_parallel.py:97: UserWarning: Could not determine on which device the inputs are. When using DataParallel (strategy='dp'), be aware that in case you are using self.device in your code, it will reference only the root device.\n",
      "  rank_zero_warn(\n",
      "TEST Profiler Report\n",
      "\n",
      "Action                             \t|  Mean duration (s)\t|Num calls      \t|  Total time (s) \t|  Percentage %   \t|\n",
      "---------------------------------------------------------------------------------------------------------------------------------------\n",
      "Total                              \t|  -              \t|_              \t|  8.7991         \t|  100 %          \t|\n",
      "---------------------------------------------------------------------------------------------------------------------------------------\n",
      "run_test_evaluation                \t|  8.7592         \t|1              \t|  8.7592         \t|  99.547         \t|\n",
      "evaluation_step_and_end            \t|  0.57904        \t|12             \t|  6.9484         \t|  78.968         \t|\n",
      "test_step                          \t|  0.56331        \t|12             \t|  6.7597         \t|  76.823         \t|\n",
      "get_test_batch                     \t|  0.093008       \t|13             \t|  1.2091         \t|  13.741         \t|\n",
      "fetch_next_test_batch              \t|  0.092963       \t|13             \t|  1.2085         \t|  13.735         \t|\n",
      "on_test_batch_end                  \t|  0.020088       \t|12             \t|  0.24106        \t|  2.7396         \t|\n",
      "test_step_end                      \t|  0.015555       \t|12             \t|  0.18666        \t|  2.1214         \t|\n",
      "evaluation_batch_to_device         \t|  0.010506       \t|12             \t|  0.12608        \t|  1.4328         \t|\n",
      "on_test_start                      \t|  0.016413       \t|1              \t|  0.016413       \t|  0.18653        \t|\n",
      "on_test_end                        \t|  0.0013561      \t|1              \t|  0.0013561      \t|  0.015412       \t|\n",
      "on_test_batch_start                \t|  4.6637e-05     \t|12             \t|  0.00055964     \t|  0.0063602      \t|\n",
      "on_test_epoch_end                  \t|  0.00010749     \t|1              \t|  0.00010749     \t|  0.0012216      \t|\n",
      "on_test_model_eval                 \t|  9.4815e-05     \t|1              \t|  9.4815e-05     \t|  0.0010776      \t|\n",
      "on_before_accelerator_backend_setup\t|  4.8686e-05     \t|1              \t|  4.8686e-05     \t|  0.00055331     \t|\n",
      "on_epoch_end                       \t|  4.6168e-05     \t|1              \t|  4.6168e-05     \t|  0.00052469     \t|\n",
      "teardown                           \t|  2.8301e-05     \t|1              \t|  2.8301e-05     \t|  0.00032164     \t|\n",
      "on_epoch_start                     \t|  2.0557e-05     \t|1              \t|  2.0557e-05     \t|  0.00023363     \t|\n",
      "on_configure_sharded_model         \t|  1.7663e-05     \t|1              \t|  1.7663e-05     \t|  0.00020074     \t|\n",
      "on_test_epoch_start                \t|  1.6086e-05     \t|1              \t|  1.6086e-05     \t|  0.00018281     \t|\n",
      "setup                              \t|  1.0656e-05     \t|1              \t|  1.0656e-05     \t|  0.0001211      \t|\n",
      "configure_callbacks                \t|  9.3089e-06     \t|1              \t|  9.3089e-06     \t|  0.00010579     \t|\n",
      "configure_sharded_model            \t|  5.277e-06      \t|1              \t|  5.277e-06      \t|  5.9972e-05     \t|\n",
      "on_test_dataloader                 \t|  4.8451e-06     \t|1              \t|  4.8451e-06     \t|  5.5064e-05     \t|\n",
      "prepare_data                       \t|  3.785e-06      \t|1              \t|  3.785e-06      \t|  4.3016e-05     \t|\n",
      "\n"
     ]
    },
    {
     "name": "stdout",
     "output_type": "stream",
     "text": [
      "--------------------------------------------------------------------------------\n",
      "DATALOADER:0 TEST RESULTS\n",
      "{'test_loss': 0.19637224078178406,\n",
      " 'test_loss: mae_response': 0.29283836483955383,\n",
      " 'test_loss: mse': 0.1893213391304016}\n",
      "--------------------------------------------------------------------------------\n"
     ]
    }
   ],
   "source": [
    "# equivalent to spatial\n",
    "\n",
    "import hydra\n",
    "from hydra.experimental import compose, initialize\n",
    "\n",
    "with initialize(config_path=\"../config\"):\n",
    "    cfg_from_terminal = compose(config_name=\"config\")\n",
    "    output = test(cfg_from_terminal)"
   ]
  },
  {
   "cell_type": "markdown",
   "id": "8d50ae0d",
   "metadata": {},
   "source": [
    "# Testing Models with Updates"
   ]
  },
  {
   "cell_type": "code",
   "execution_count": 55,
   "id": "piano-crisis",
   "metadata": {
    "scrolled": true
   },
   "outputs": [
    {
     "name": "stderr",
     "output_type": "stream",
     "text": [
      "/home/roko/.cache/pypoetry/virtualenvs/spatial-G_n0JvVf-py3.8/lib/python3.8/site-packages/hydra/experimental/initialize.py:35: UserWarning: hydra.experimental.initialize() is no longer experimental. Use hydra.initialize()\n",
      "  deprecation_warning(\n",
      "/home/roko/.cache/pypoetry/virtualenvs/spatial-G_n0JvVf-py3.8/lib/python3.8/site-packages/hydra/experimental/compose.py:18: UserWarning: hydra.experimental.compose() is no longer experimental. Use hydra.compose()\n",
      "  deprecation_warning(\n",
      "/home/roko/.cache/pypoetry/virtualenvs/spatial-G_n0JvVf-py3.8/lib/python3.8/site-packages/hydra/_internal/defaults_list.py:251: UserWarning: In 'config': Defaults list is missing `_self_`. See https://hydra.cc/docs/upgrades/1.0_to_1.1/default_composition_order for more information\n",
      "  warnings.warn(msg, UserWarning)\n",
      "/home/roko/.cache/pypoetry/virtualenvs/spatial-G_n0JvVf-py3.8/lib/python3.8/site-packages/hydra/core/default_element.py:122: UserWarning: In 'predict/default': Usage of deprecated keyword in package header '# @package _group_'.\n",
      "See https://hydra.cc/docs/next/upgrades/1.0_to_1.1/changes_to_package_header for more information\n",
      "  deprecation_warning(\n",
      "/home/roko/.cache/pypoetry/virtualenvs/spatial-G_n0JvVf-py3.8/lib/python3.8/site-packages/hydra/core/default_element.py:122: UserWarning: In 'training/default': Usage of deprecated keyword in package header '# @package _group_'.\n",
      "See https://hydra.cc/docs/next/upgrades/1.0_to_1.1/changes_to_package_header for more information\n",
      "  deprecation_warning(\n",
      "/home/roko/.cache/pypoetry/virtualenvs/spatial-G_n0JvVf-py3.8/lib/python3.8/site-packages/hydra/core/default_element.py:122: UserWarning: In 'model/MonetAutoencoder2D': Usage of deprecated keyword in package header '# @package _group_'.\n",
      "See https://hydra.cc/docs/next/upgrades/1.0_to_1.1/changes_to_package_header for more information\n",
      "  deprecation_warning(\n",
      "/home/roko/.cache/pypoetry/virtualenvs/spatial-G_n0JvVf-py3.8/lib/python3.8/site-packages/hydra/core/default_element.py:122: UserWarning: In 'datasets/FilteredMerfishDataset': Usage of deprecated keyword in package header '# @package _group_'.\n",
      "See https://hydra.cc/docs/next/upgrades/1.0_to_1.1/changes_to_package_header for more information\n",
      "  deprecation_warning(\n",
      "/home/roko/.cache/pypoetry/virtualenvs/spatial-G_n0JvVf-py3.8/lib/python3.8/site-packages/hydra/core/default_element.py:122: UserWarning: In 'optimizer/sgd': Usage of deprecated keyword in package header '# @package _group_'.\n",
      "See https://hydra.cc/docs/next/upgrades/1.0_to_1.1/changes_to_package_header for more information\n",
      "  deprecation_warning(\n"
     ]
    },
    {
     "name": "stdout",
     "output_type": "stream",
     "text": [
      "Original Data (1027848, 170)\n",
      "Filtered Data (86902, 170)\n",
      "/home/roko/spatial/data/raw/merfish_messi.hdf5\n"
     ]
    },
    {
     "name": "stderr",
     "output_type": "stream",
     "text": [
      "/home/roko/.cache/pypoetry/virtualenvs/spatial-G_n0JvVf-py3.8/lib/python3.8/site-packages/pytorch_lightning/utilities/distributed.py:50: UserWarning: Checkpoint directory /home/roko/spatial//output/lightning_logs/checkpoints/MonetAutoencoder2D exists and is not empty.\n",
      "  warnings.warn(*args, **kwargs)\n",
      "GPU available: True, used: True\n",
      "TPU available: None, using: 0 TPU cores\n",
      "/home/roko/.cache/pypoetry/virtualenvs/spatial-G_n0JvVf-py3.8/lib/python3.8/site-packages/pytorch_lightning/utilities/distributed.py:50: UserWarning: The dataloader, test dataloader 0, does not have many workers which may be a bottleneck. Consider increasing the value of the `num_workers` argument` (try 64 which is the number of cpus on this machine) in the `DataLoader` init to improve performance.\n",
      "  warnings.warn(*args, **kwargs)\n"
     ]
    },
    {
     "data": {
      "application/vnd.jupyter.widget-view+json": {
       "model_id": "e88bdf83649e427d802471c91563528f",
       "version_major": 2,
       "version_minor": 0
      },
      "text/plain": [
       "Testing: 0it [00:00, ?it/s]"
      ]
     },
     "metadata": {},
     "output_type": "display_data"
    },
    {
     "name": "stdout",
     "output_type": "stream",
     "text": [
      "--------------------------------------------------------------------------------\n",
      "DATALOADER:0 TEST RESULTS\n",
      "{'test_loss': 0.2307247370481491,\n",
      " 'test_loss: mae_response': 0.36967429518699646,\n",
      " 'test_loss: mse': 0.2517955005168915}\n",
      "--------------------------------------------------------------------------------\n"
     ]
    }
   ],
   "source": [
    "# equivalent to spatial\n",
    "\n",
    "import hydra\n",
    "from hydra.experimental import compose, initialize\n",
    "\n",
    "with initialize(config_path=\"../config\"):\n",
    "    cfg_from_terminal = compose(config_name=\"config\")\n",
    "    # update the behavior to get the model of interest\n",
    "    OmegaConf.update(cfg_from_terminal, \"datasets.dataset.behaviors\", [\"Parenting\"])\n",
    "    output = test(cfg_from_terminal)"
   ]
  },
  {
   "cell_type": "code",
   "execution_count": 56,
   "id": "opening-james",
   "metadata": {},
   "outputs": [],
   "source": [
    "trainer, l1_losses, inputs, gene_expressions, celltypes, test_results = output"
   ]
  },
  {
   "cell_type": "code",
   "execution_count": 57,
   "id": "joint-catalyst",
   "metadata": {},
   "outputs": [],
   "source": [
    "with open('../spatial/non_response.txt', \"r\") as genes_file:\n",
    "    features = [int(x) for x in genes_file.read().split(\",\")]\n",
    "    response_indeces = torch.tensor(list(set(range(160)) - set(features)))\n",
    "    genes_file.close()"
   ]
  },
  {
   "cell_type": "code",
   "execution_count": 58,
   "id": "critical-minority",
   "metadata": {},
   "outputs": [],
   "source": [
    "excitatory_cells = (celltypes == 6).nonzero(as_tuple=True)[0]"
   ]
  },
  {
   "cell_type": "code",
   "execution_count": 59,
   "id": "blessed-voluntary",
   "metadata": {},
   "outputs": [
    {
     "data": {
      "text/plain": [
       "tensor(0.4182)"
      ]
     },
     "execution_count": 59,
     "metadata": {},
     "output_type": "execute_result"
    }
   ],
   "source": [
    "import torch\n",
    "\n",
    "loss = torch.nn.L1Loss()\n",
    "loss(torch.index_select(inputs[excitatory_cells], 1, response_indeces), torch.index_select(gene_expressions[excitatory_cells], 1, response_indeces))"
   ]
  },
  {
   "cell_type": "code",
   "execution_count": 60,
   "id": "destroyed-volunteer",
   "metadata": {},
   "outputs": [
    {
     "name": "stderr",
     "output_type": "stream",
     "text": [
      "/home/roko/.cache/pypoetry/virtualenvs/spatial-G_n0JvVf-py3.8/lib/python3.8/site-packages/hydra/experimental/initialize.py:35: UserWarning: hydra.experimental.initialize() is no longer experimental. Use hydra.initialize()\n",
      "  deprecation_warning(\n",
      "/home/roko/.cache/pypoetry/virtualenvs/spatial-G_n0JvVf-py3.8/lib/python3.8/site-packages/hydra/experimental/compose.py:18: UserWarning: hydra.experimental.compose() is no longer experimental. Use hydra.compose()\n",
      "  deprecation_warning(\n",
      "/home/roko/.cache/pypoetry/virtualenvs/spatial-G_n0JvVf-py3.8/lib/python3.8/site-packages/hydra/_internal/defaults_list.py:251: UserWarning: In 'config': Defaults list is missing `_self_`. See https://hydra.cc/docs/upgrades/1.0_to_1.1/default_composition_order for more information\n",
      "  warnings.warn(msg, UserWarning)\n",
      "/home/roko/.cache/pypoetry/virtualenvs/spatial-G_n0JvVf-py3.8/lib/python3.8/site-packages/hydra/core/default_element.py:122: UserWarning: In 'predict/default': Usage of deprecated keyword in package header '# @package _group_'.\n",
      "See https://hydra.cc/docs/next/upgrades/1.0_to_1.1/changes_to_package_header for more information\n",
      "  deprecation_warning(\n",
      "/home/roko/.cache/pypoetry/virtualenvs/spatial-G_n0JvVf-py3.8/lib/python3.8/site-packages/hydra/core/default_element.py:122: UserWarning: In 'training/default': Usage of deprecated keyword in package header '# @package _group_'.\n",
      "See https://hydra.cc/docs/next/upgrades/1.0_to_1.1/changes_to_package_header for more information\n",
      "  deprecation_warning(\n",
      "/home/roko/.cache/pypoetry/virtualenvs/spatial-G_n0JvVf-py3.8/lib/python3.8/site-packages/hydra/core/default_element.py:122: UserWarning: In 'model/MonetAutoencoder2D': Usage of deprecated keyword in package header '# @package _group_'.\n",
      "See https://hydra.cc/docs/next/upgrades/1.0_to_1.1/changes_to_package_header for more information\n",
      "  deprecation_warning(\n",
      "/home/roko/.cache/pypoetry/virtualenvs/spatial-G_n0JvVf-py3.8/lib/python3.8/site-packages/hydra/core/default_element.py:122: UserWarning: In 'datasets/FilteredMerfishDataset': Usage of deprecated keyword in package header '# @package _group_'.\n",
      "See https://hydra.cc/docs/next/upgrades/1.0_to_1.1/changes_to_package_header for more information\n",
      "  deprecation_warning(\n",
      "/home/roko/.cache/pypoetry/virtualenvs/spatial-G_n0JvVf-py3.8/lib/python3.8/site-packages/hydra/core/default_element.py:122: UserWarning: In 'optimizer/sgd': Usage of deprecated keyword in package header '# @package _group_'.\n",
      "See https://hydra.cc/docs/next/upgrades/1.0_to_1.1/changes_to_package_header for more information\n",
      "  deprecation_warning(\n"
     ]
    },
    {
     "name": "stdout",
     "output_type": "stream",
     "text": [
      "Original Data (1027848, 170)\n",
      "Filtered Data (109105, 170)\n",
      "/home/roko/spatial/data/raw/merfish_messi.hdf5\n"
     ]
    },
    {
     "name": "stderr",
     "output_type": "stream",
     "text": [
      "/home/roko/.cache/pypoetry/virtualenvs/spatial-G_n0JvVf-py3.8/lib/python3.8/site-packages/pytorch_lightning/utilities/distributed.py:50: UserWarning: Checkpoint directory /home/roko/spatial//output/lightning_logs/checkpoints/MonetAutoencoder2D exists and is not empty.\n",
      "  warnings.warn(*args, **kwargs)\n",
      "GPU available: True, used: True\n",
      "TPU available: None, using: 0 TPU cores\n",
      "/home/roko/.cache/pypoetry/virtualenvs/spatial-G_n0JvVf-py3.8/lib/python3.8/site-packages/pytorch_lightning/utilities/distributed.py:50: UserWarning: The dataloader, test dataloader 0, does not have many workers which may be a bottleneck. Consider increasing the value of the `num_workers` argument` (try 64 which is the number of cpus on this machine) in the `DataLoader` init to improve performance.\n",
      "  warnings.warn(*args, **kwargs)\n"
     ]
    },
    {
     "data": {
      "application/vnd.jupyter.widget-view+json": {
       "model_id": "1c5fc1a68a614f20859a82d0b9721172",
       "version_major": 2,
       "version_minor": 0
      },
      "text/plain": [
       "Testing: 0it [00:00, ?it/s]"
      ]
     },
     "metadata": {},
     "output_type": "display_data"
    },
    {
     "name": "stdout",
     "output_type": "stream",
     "text": [
      "--------------------------------------------------------------------------------\n",
      "DATALOADER:0 TEST RESULTS\n",
      "{'test_loss': 0.22909943759441376,\n",
      " 'test_loss: mae_response': 0.3661682903766632,\n",
      " 'test_loss: mse': 0.23969760537147522}\n",
      "--------------------------------------------------------------------------------\n"
     ]
    }
   ],
   "source": [
    "# equivalent to spatial\n",
    "\n",
    "import hydra\n",
    "from hydra.experimental import compose, initialize\n",
    "\n",
    "with initialize(config_path=\"../config\"):\n",
    "    cfg_from_terminal = compose(config_name=\"config\")\n",
    "    # update the behavior to get the model of interest\n",
    "    OmegaConf.update(cfg_from_terminal, \"datasets.dataset.behaviors\", [\"Virgin Parenting\"])\n",
    "    output = test(cfg_from_terminal)"
   ]
  },
  {
   "cell_type": "code",
   "execution_count": 61,
   "id": "becoming-audit",
   "metadata": {},
   "outputs": [],
   "source": [
    "trainer, l1_losses, inputs, gene_expressions, celltypes, test_results = output"
   ]
  },
  {
   "cell_type": "code",
   "execution_count": 62,
   "id": "eleven-guarantee",
   "metadata": {},
   "outputs": [],
   "source": [
    "excitatory_cells = (celltypes == 6).nonzero(as_tuple=True)[0]"
   ]
  },
  {
   "cell_type": "code",
   "execution_count": 63,
   "id": "welsh-michael",
   "metadata": {},
   "outputs": [
    {
     "data": {
      "text/plain": [
       "tensor(0.4185)"
      ]
     },
     "execution_count": 63,
     "metadata": {},
     "output_type": "execute_result"
    }
   ],
   "source": [
    "import torch\n",
    "\n",
    "loss = torch.nn.L1Loss()\n",
    "loss(torch.index_select(inputs[excitatory_cells], 1, response_indeces), torch.index_select(gene_expressions[excitatory_cells], 1, response_indeces))"
   ]
  },
  {
   "cell_type": "code",
   "execution_count": 64,
   "id": "intensive-berlin",
   "metadata": {},
   "outputs": [
    {
     "name": "stderr",
     "output_type": "stream",
     "text": [
      "/home/roko/.cache/pypoetry/virtualenvs/spatial-G_n0JvVf-py3.8/lib/python3.8/site-packages/hydra/experimental/initialize.py:35: UserWarning: hydra.experimental.initialize() is no longer experimental. Use hydra.initialize()\n",
      "  deprecation_warning(\n",
      "/home/roko/.cache/pypoetry/virtualenvs/spatial-G_n0JvVf-py3.8/lib/python3.8/site-packages/hydra/experimental/compose.py:18: UserWarning: hydra.experimental.compose() is no longer experimental. Use hydra.compose()\n",
      "  deprecation_warning(\n",
      "/home/roko/.cache/pypoetry/virtualenvs/spatial-G_n0JvVf-py3.8/lib/python3.8/site-packages/hydra/_internal/defaults_list.py:251: UserWarning: In 'config': Defaults list is missing `_self_`. See https://hydra.cc/docs/upgrades/1.0_to_1.1/default_composition_order for more information\n",
      "  warnings.warn(msg, UserWarning)\n",
      "/home/roko/.cache/pypoetry/virtualenvs/spatial-G_n0JvVf-py3.8/lib/python3.8/site-packages/hydra/core/default_element.py:122: UserWarning: In 'predict/default': Usage of deprecated keyword in package header '# @package _group_'.\n",
      "See https://hydra.cc/docs/next/upgrades/1.0_to_1.1/changes_to_package_header for more information\n",
      "  deprecation_warning(\n",
      "/home/roko/.cache/pypoetry/virtualenvs/spatial-G_n0JvVf-py3.8/lib/python3.8/site-packages/hydra/core/default_element.py:122: UserWarning: In 'training/default': Usage of deprecated keyword in package header '# @package _group_'.\n",
      "See https://hydra.cc/docs/next/upgrades/1.0_to_1.1/changes_to_package_header for more information\n",
      "  deprecation_warning(\n",
      "/home/roko/.cache/pypoetry/virtualenvs/spatial-G_n0JvVf-py3.8/lib/python3.8/site-packages/hydra/core/default_element.py:122: UserWarning: In 'model/MonetAutoencoder2D': Usage of deprecated keyword in package header '# @package _group_'.\n",
      "See https://hydra.cc/docs/next/upgrades/1.0_to_1.1/changes_to_package_header for more information\n",
      "  deprecation_warning(\n",
      "/home/roko/.cache/pypoetry/virtualenvs/spatial-G_n0JvVf-py3.8/lib/python3.8/site-packages/hydra/core/default_element.py:122: UserWarning: In 'datasets/FilteredMerfishDataset': Usage of deprecated keyword in package header '# @package _group_'.\n",
      "See https://hydra.cc/docs/next/upgrades/1.0_to_1.1/changes_to_package_header for more information\n",
      "  deprecation_warning(\n",
      "/home/roko/.cache/pypoetry/virtualenvs/spatial-G_n0JvVf-py3.8/lib/python3.8/site-packages/hydra/core/default_element.py:122: UserWarning: In 'optimizer/sgd': Usage of deprecated keyword in package header '# @package _group_'.\n",
      "See https://hydra.cc/docs/next/upgrades/1.0_to_1.1/changes_to_package_header for more information\n",
      "  deprecation_warning(\n"
     ]
    },
    {
     "name": "stdout",
     "output_type": "stream",
     "text": [
      "Original Data (1027848, 170)\n",
      "Filtered Data (205348, 170)\n",
      "/home/roko/spatial/data/raw/merfish_messi.hdf5\n"
     ]
    },
    {
     "name": "stderr",
     "output_type": "stream",
     "text": [
      "/home/roko/.cache/pypoetry/virtualenvs/spatial-G_n0JvVf-py3.8/lib/python3.8/site-packages/pytorch_lightning/utilities/distributed.py:50: UserWarning: Checkpoint directory /home/roko/spatial//output/lightning_logs/checkpoints/MonetAutoencoder2D exists and is not empty.\n",
      "  warnings.warn(*args, **kwargs)\n",
      "GPU available: True, used: True\n",
      "TPU available: None, using: 0 TPU cores\n",
      "/home/roko/.cache/pypoetry/virtualenvs/spatial-G_n0JvVf-py3.8/lib/python3.8/site-packages/pytorch_lightning/utilities/distributed.py:50: UserWarning: The dataloader, test dataloader 0, does not have many workers which may be a bottleneck. Consider increasing the value of the `num_workers` argument` (try 64 which is the number of cpus on this machine) in the `DataLoader` init to improve performance.\n",
      "  warnings.warn(*args, **kwargs)\n"
     ]
    },
    {
     "data": {
      "application/vnd.jupyter.widget-view+json": {
       "model_id": "823a64c61a3c4f2292450a37fd872090",
       "version_major": 2,
       "version_minor": 0
      },
      "text/plain": [
       "Testing: 0it [00:00, ?it/s]"
      ]
     },
     "metadata": {},
     "output_type": "display_data"
    },
    {
     "name": "stdout",
     "output_type": "stream",
     "text": [
      "--------------------------------------------------------------------------------\n",
      "DATALOADER:0 TEST RESULTS\n",
      "{'test_loss': 0.19866959750652313,\n",
      " 'test_loss: mae_response': 0.3151684105396271,\n",
      " 'test_loss: mse': 0.18607354164123535}\n",
      "--------------------------------------------------------------------------------\n"
     ]
    }
   ],
   "source": [
    "# equivalent to spatial\n",
    "\n",
    "import hydra\n",
    "from hydra.experimental import compose, initialize\n",
    "\n",
    "with initialize(config_path=\"../config\"):\n",
    "    cfg_from_terminal = compose(config_name=\"config\")\n",
    "    # update the behavior to get the model of interest\n",
    "    OmegaConf.update(cfg_from_terminal, \"datasets.dataset.behaviors\", [\"Naive\"])\n",
    "    output = test(cfg_from_terminal)"
   ]
  },
  {
   "cell_type": "code",
   "execution_count": 65,
   "id": "manual-filter",
   "metadata": {},
   "outputs": [],
   "source": [
    "trainer, l1_losses, inputs, gene_expressions, celltypes, test_results = output"
   ]
  },
  {
   "cell_type": "code",
   "execution_count": 66,
   "id": "gorgeous-atlantic",
   "metadata": {},
   "outputs": [],
   "source": [
    "excitatory_cells = (celltypes == 6).nonzero(as_tuple=True)[0]"
   ]
  },
  {
   "cell_type": "code",
   "execution_count": 67,
   "id": "choice-dispute",
   "metadata": {},
   "outputs": [
    {
     "data": {
      "text/plain": [
       "tensor(0.3570)"
      ]
     },
     "execution_count": 67,
     "metadata": {},
     "output_type": "execute_result"
    }
   ],
   "source": [
    "import torch\n",
    "\n",
    "loss = torch.nn.L1Loss()\n",
    "loss(torch.index_select(inputs[excitatory_cells], 1, response_indeces), torch.index_select(gene_expressions[excitatory_cells], 1, response_indeces))"
   ]
  }
 ],
 "metadata": {
  "kernelspec": {
   "display_name": "Python 3 (ipykernel)",
   "language": "python",
   "name": "python3"
  },
  "language_info": {
   "codemirror_mode": {
    "name": "ipython",
    "version": 3
   },
   "file_extension": ".py",
   "mimetype": "text/x-python",
   "name": "python",
   "nbconvert_exporter": "python",
   "pygments_lexer": "ipython3",
   "version": "3.8.10"
  }
 },
 "nbformat": 4,
 "nbformat_minor": 5
}
