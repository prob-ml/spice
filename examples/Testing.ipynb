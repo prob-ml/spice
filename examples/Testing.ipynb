{
 "cells": [
  {
   "cell_type": "code",
   "execution_count": 1,
   "id": "agreed-interaction",
   "metadata": {},
   "outputs": [],
   "source": [
    "import os\n",
    "import torch\n",
    "\n",
    "os.environ[\"MKL_NUM_THREADS\"]=\"1\"\n",
    "os.environ[\"NUMEXPR_NUM_THREADS\"]=\"1\"\n",
    "os.environ[\"OMP_NUM_THREADS\"]=\"1\"\n",
    "os.environ[\"CUDA_VISIBLE_DEVICES\"] = \"5,6\"\n",
    "\n",
    "import sys\n",
    "\n",
    "import pytorch_lightning as pl\n",
    "from omegaconf import DictConfig, OmegaConf\n",
    "from pytorch_lightning.callbacks import ModelCheckpoint\n",
    "from pytorch_lightning.loggers import TensorBoardLogger\n",
    "from torch.utils.data import random_split\n",
    "from torch_geometric.data import DataLoader\n",
    "\n",
    "from spatial.merfish_dataset import FilteredMerfishDataset, MerfishDataset, SyntheticNonlinear, SyntheticDataset0, SyntheticDataset1, SyntheticDataset2, SyntheticDataset3\n",
    "from spatial.models.monet_ae import MonetAutoencoder2D, TrivialAutoencoder, MonetDense\n",
    "from spatial.train import train\n",
    "from spatial.predict import test\n",
    "\n",
    "import warnings\n",
    "warnings.filterwarnings(\"ignore\")"
   ]
  },
  {
   "cell_type": "markdown",
   "id": "equipped-press",
   "metadata": {},
   "source": [
    "# Testing Any Model"
   ]
  },
  {
   "cell_type": "code",
   "execution_count": 4,
   "id": "1b0cbdb5",
   "metadata": {},
   "outputs": [
    {
     "name": "stdout",
     "output_type": "stream",
     "text": [
      "Collecting openpyxl\n",
      "  Downloading openpyxl-3.1.1-py2.py3-none-any.whl (249 kB)\n",
      "\u001b[2K     \u001b[38;2;114;156;31m━━━━━━━━━━━━━━━━━━━━━━━━━━━━━━━━━━━━━━━\u001b[0m \u001b[32m249.8/249.8 kB\u001b[0m \u001b[31m6.7 MB/s\u001b[0m eta \u001b[36m0:00:00\u001b[0m[36m0:00:01\u001b[0m\n",
      "\u001b[?25hCollecting et-xmlfile\n",
      "  Using cached et_xmlfile-1.1.0-py3-none-any.whl (4.7 kB)\n",
      "Installing collected packages: et-xmlfile, openpyxl\n",
      "Successfully installed et-xmlfile-1.1.0 openpyxl-3.1.1\n",
      "\n",
      "\u001b[1m[\u001b[0m\u001b[34;49mnotice\u001b[0m\u001b[1;39;49m]\u001b[0m\u001b[39;49m A new release of pip available: \u001b[0m\u001b[31;49m22.3.1\u001b[0m\u001b[39;49m -> \u001b[0m\u001b[32;49m23.0.1\u001b[0m\n",
      "\u001b[1m[\u001b[0m\u001b[34;49mnotice\u001b[0m\u001b[1;39;49m]\u001b[0m\u001b[39;49m To update, run: \u001b[0m\u001b[32;49mpip install --upgrade pip\u001b[0m\n"
     ]
    }
   ],
   "source": [
    "!pip install openpyxl"
   ]
  },
  {
   "cell_type": "code",
   "execution_count": 8,
   "id": "7aa3c96e",
   "metadata": {},
   "outputs": [
    {
     "name": "stderr",
     "output_type": "stream",
     "text": [
      "/home/roko/.cache/pypoetry/virtualenvs/spatial-G_n0JvVf-py3.10/lib/python3.10/site-packages/openpyxl/worksheet/_reader.py:329: UserWarning: Unknown extension is not supported and will be removed\n",
      "  warn(msg)\n"
     ]
    },
    {
     "name": "stdout",
     "output_type": "stream",
     "text": [
      "['Cbln1', 'Cxcl14', 'Crhbp', 'Gabra1', 'Cbln2', 'Gpr165', 'Glra3', 'Gabrg1', 'Adora2a', 'Vgf', 'Scg2', 'Cartpt', 'Tac2', 'Bdnf', 'Bmp7', 'Cyr61', 'Fn1', 'Fst', 'Gad1', 'Ntng1', 'Pnoc', 'Selplg', 'Sema3c', 'Sema4d', 'Serpine1', 'Adcyap1', 'Cck', 'Crh', 'Gal', 'Gnrh1', 'Nts', 'Oxt', 'Penk', 'Sst', 'Tac1', 'Trh', 'Ucn3', 'Avpr1a', 'Avpr2', 'Brs3', 'Calcr', 'Cckar', 'Cckbr', 'Crhr1', 'Crhr2', 'Galr1', 'Galr2', 'Grpr', 'Htr2c', 'Igf1r', 'Igf2r', 'Kiss1r', 'Lepr', 'Lpar1', 'Mc4r', 'Npy1r', 'Npy2r', 'Ntsr1', 'Oprd1', 'Oprk1', 'Oprl1', 'Oxtr', 'Pdgfra', 'Prlr', 'Ramp3', 'Rxfp1', 'Slc17a7', 'Slc18a2', 'Tacr1', 'Tacr3', 'Trhr']\n",
      "There are 71 genes recognized as either ligands or receptors (including new ones).\n",
      "There are 0 blank genes.\n",
      "There are 84 genes that are treated as response variables.\n",
      "There are 31 ligands.\n",
      "There are 40 receptors.\n"
     ]
    }
   ],
   "source": [
    "# read in merfish dataset and get columns names\n",
    "import pandas as pd\n",
    "\n",
    "# get relevant data stuff\n",
    "df_file = pd.ExcelFile(\"~/spatial/data/messi.xlsx\")\n",
    "messi_df = pd.read_excel(df_file, \"All.Pairs\")\n",
    "merfish_df = pd.read_csv(\"~/spatial/data/raw/merfish.csv\")\n",
    "merfish_df = merfish_df.drop(['Blank_1', 'Blank_2', 'Blank_3', 'Blank_4', 'Blank_5', 'Fos'], axis=1)\n",
    "\n",
    "# these are the 13 ligands or receptors found in MESSI\n",
    "non_response_genes = ['Cbln1', 'Cxcl14', 'Crhbp', 'Gabra1', 'Cbln2', 'Gpr165', \n",
    "                      'Glra3', 'Gabrg1', 'Adora2a', 'Vgf', 'Scg2', 'Cartpt',\n",
    "                      'Tac2']\n",
    "# this list stores the control genes aka \"Blank_{int}\"\n",
    "blank_genes = []\n",
    "\n",
    "# we will populate all of the non-response genes as being in one or the other\n",
    "# the ones already filled in come from the existing 13 L/R genes above\n",
    "ligands = [\"Cbln1\", \"Cxcl14\", \"Cbln2\", \"Vgf\", \"Scg2\", \"Cartpt\", \"Tac2\"]\n",
    "receptors = [\"Crhbp\", \"Gabra1\", \"Gpr165\", \"Glra3\", \"Gabrg1\", \"Adora2a\"]\n",
    "\n",
    "# ligands and receptor indexes in MERFISH\n",
    "non_response_indeces = [list(merfish_df.columns).index(gene)-9 for gene in non_response_genes]\n",
    "ligand_indeces = [list(merfish_df.columns).index(gene)-9 for gene in ligands]\n",
    "receptor_indeces = [list(merfish_df.columns).index(gene)-9 for gene in receptors]\n",
    "all_pairs_columns = [\n",
    "    \"Ligand.ApprovedSymbol\",\n",
    "    \"Receptor.ApprovedSymbol\",\n",
    "]\n",
    "\n",
    "\n",
    "# for column name in the column names above\n",
    "for column in all_pairs_columns:\n",
    "    for gene in merfish_df.columns:\n",
    "        if (\n",
    "            gene.upper() in list(messi_df[column])\n",
    "            and gene.upper() not in non_response_genes\n",
    "        ):\n",
    "            non_response_genes.append(gene)\n",
    "            non_response_indeces.append(list(merfish_df.columns).index(gene)-9)\n",
    "            if column[0] == \"L\":\n",
    "                ligands.append(gene)\n",
    "                ligand_indeces.append(list(merfish_df.columns).index(gene)-9)\n",
    "            else:\n",
    "                receptors.append(gene)\n",
    "                receptor_indeces.append(list(merfish_df.columns).index(gene)-9)\n",
    "        if gene[:5] == \"Blank\" and gene not in blank_genes:\n",
    "            blank_genes.append(gene)\n",
    "            # non_response_indeces.append(list(merfish_df.columns).index(gene)-9)\n",
    "\n",
    "print(non_response_genes)\n",
    "print(\n",
    "    \"There are \"\n",
    "    + str(len(non_response_genes))\n",
    "    + \" genes recognized as either ligands or receptors (including new ones).\"\n",
    ")\n",
    "\n",
    "print(\n",
    "    \"There are \"\n",
    "    + str(len(blank_genes))\n",
    "    + \" blank genes.\"\n",
    ")\n",
    "\n",
    "print(\n",
    "    \"There are \"\n",
    "    + str(155 - len(blank_genes) - len(non_response_genes))\n",
    "    + \" genes that are treated as response variables.\"\n",
    ")\n",
    "\n",
    "print(\n",
    "    \"There are \"\n",
    "    + str(len(ligands))\n",
    "    + \" ligands.\"\n",
    ")\n",
    "\n",
    "print(\n",
    "    \"There are \"\n",
    "    + str(len(receptors))\n",
    "    + \" receptors.\"\n",
    ")\n",
    "\n",
    "response_indeces = list(set(range(155)) - set(non_response_indeces))"
   ]
  },
  {
   "cell_type": "code",
   "execution_count": 5,
   "id": "cdb16277",
   "metadata": {},
   "outputs": [
    {
     "name": "stderr",
     "output_type": "stream",
     "text": [
      "100%|██████████████████████████████████████████████████████████████| 24/24 [00:20<00:00,  1.17it/s]\n",
      "GPU available: True (cuda), used: True\n",
      "TPU available: False, using: 0 TPU cores\n",
      "IPU available: False, using: 0 IPUs\n",
      "HPU available: False, using: 0 HPUs\n",
      "`Trainer(limit_train_batches=1.0)` was configured so 100% of the batches per epoch will be used..\n",
      "`Trainer(limit_val_batches=1.0)` was configured so 100% of the batches will be used..\n",
      "LOCAL_RANK: 0 - CUDA_VISIBLE_DEVICES: [5,6]\n"
     ]
    },
    {
     "data": {
      "application/vnd.jupyter.widget-view+json": {
       "model_id": "2d5ae363d7ec481c84157f7a0c07c77d",
       "version_major": 2,
       "version_minor": 0
      },
      "text/plain": [
       "Testing: 0it [00:00, ?it/s]"
      ]
     },
     "metadata": {},
     "output_type": "display_data"
    },
    {
     "name": "stderr",
     "output_type": "stream",
     "text": [
      "TEST Profiler Report\n",
      "\n",
      "----------------------------------------------------------------------------------------------------------------------------------------------------------------------------------------------------------------------------------------------------------------------------------------------------------\n",
      "|  Action                                                                                                                                                                                          \t|  Mean duration (s)\t|  Num calls      \t|  Total time (s) \t|  Percentage %   \t|\n",
      "----------------------------------------------------------------------------------------------------------------------------------------------------------------------------------------------------------------------------------------------------------------------------------------------------------\n",
      "|  Total                                                                                                                                                                                           \t|  -              \t|  471            \t|  19.354         \t|  100 %          \t|\n",
      "----------------------------------------------------------------------------------------------------------------------------------------------------------------------------------------------------------------------------------------------------------------------------------------------------------\n",
      "|  run_test_evaluation                                                                                                                                                                             \t|  19.206         \t|  1              \t|  19.206         \t|  99.235         \t|\n",
      "|  [Strategy]SingleDeviceStrategy.test_step                                                                                                                                                        \t|  0.61445        \t|  24             \t|  14.747         \t|  76.197         \t|\n",
      "|  [EvaluationEpochLoop].test_dataloader_idx_0_next                                                                                                                                                \t|  0.13515        \t|  24             \t|  3.2437         \t|  16.76          \t|\n",
      "|  [Callback]TQDMProgressBar.on_test_batch_end                                                                                                                                                     \t|  0.02265        \t|  24             \t|  0.5436         \t|  2.8088         \t|\n",
      "|  [Strategy]SingleDeviceStrategy.batch_to_device                                                                                                                                                  \t|  0.011653       \t|  24             \t|  0.27968        \t|  1.4451         \t|\n",
      "|  [LightningModule]MonetDense.transfer_batch_to_device                                                                                                                                            \t|  0.011519       \t|  24             \t|  0.27645        \t|  1.4284         \t|\n",
      "|  [Callback]TQDMProgressBar.on_test_start                                                                                                                                                         \t|  0.0088239      \t|  1              \t|  0.0088239      \t|  0.045593       \t|\n",
      "|  [Callback]TQDMProgressBar.on_test_batch_start                                                                                                                                                   \t|  0.00014752     \t|  24             \t|  0.0035404      \t|  0.018293       \t|\n",
      "|  [Callback]TQDMProgressBar.on_test_end                                                                                                                                                           \t|  0.00099747     \t|  1              \t|  0.00099747     \t|  0.0051539      \t|\n",
      "|  [LightningModule]MonetDense.on_test_model_train                                                                                                                                                 \t|  0.00042218     \t|  1              \t|  0.00042218     \t|  0.0021814      \t|\n",
      "|  [Callback]ModelSummary.on_test_batch_end                                                                                                                                                        \t|  1.0574e-05     \t|  24             \t|  0.00025377     \t|  0.0013112      \t|\n",
      "|  [LightningModule]MonetDense.on_before_batch_transfer                                                                                                                                            \t|  6.1507e-06     \t|  24             \t|  0.00014762     \t|  0.00076273     \t|\n",
      "|  [LightningModule]MonetDense.on_test_model_eval                                                                                                                                                  \t|  0.00013847     \t|  1              \t|  0.00013847     \t|  0.00071549     \t|\n",
      "|  [LightningModule]MonetDense.test_step_end                                                                                                                                                       \t|  5.1247e-06     \t|  24             \t|  0.00012299     \t|  0.00063551     \t|\n",
      "|  [Callback]ModelSummary.on_test_batch_start                                                                                                                                                      \t|  4.6604e-06     \t|  24             \t|  0.00011185     \t|  0.00057793     \t|\n",
      "|  [LightningModule]MonetDense.on_test_batch_end                                                                                                                                                   \t|  4.6342e-06     \t|  24             \t|  0.00011122     \t|  0.00057468     \t|\n",
      "|  [Callback]GradientAccumulationScheduler.on_test_batch_start                                                                                                                                     \t|  4.2485e-06     \t|  24             \t|  0.00010196     \t|  0.00052685     \t|\n",
      "|  [Callback]ModelCheckpoint{'monitor': 'val_loss', 'mode': 'min', 'every_n_train_steps': 0, 'every_n_epochs': 1, 'train_time_interval': None, 'save_on_train_epoch_end': True}.on_test_batch_end  \t|  3.9268e-06     \t|  24             \t|  9.4243e-05     \t|  0.00048695     \t|\n",
      "|  [Callback]GradientAccumulationScheduler.on_test_batch_end                                                                                                                                       \t|  3.7516e-06     \t|  24             \t|  9.0038e-05     \t|  0.00046523     \t|\n",
      "|  [LightningModule]MonetDense.on_test_batch_start                                                                                                                                                 \t|  3.6296e-06     \t|  24             \t|  8.7109e-05     \t|  0.00045009     \t|\n",
      "|  [LightningModule]MonetDense.on_after_batch_transfer                                                                                                                                             \t|  3.41e-06       \t|  24             \t|  8.184e-05      \t|  0.00042287     \t|\n",
      "|  [Callback]ModelCheckpoint{'monitor': 'val_loss', 'mode': 'min', 'every_n_train_steps': 0, 'every_n_epochs': 1, 'train_time_interval': None, 'save_on_train_epoch_end': True}.on_test_batch_start\t|  3.4094e-06     \t|  24             \t|  8.1825e-05     \t|  0.00042279     \t|\n",
      "|  [Strategy]SingleDeviceStrategy.test_step_end                                                                                                                                                    \t|  2.0132e-06     \t|  24             \t|  4.8317e-05     \t|  0.00024965     \t|\n",
      "|  [Callback]ModelSummary.on_test_end                                                                                                                                                              \t|  1.4664e-05     \t|  1              \t|  1.4664e-05     \t|  7.577e-05      \t|\n",
      "|  [Strategy]SingleDeviceStrategy.on_test_end                                                                                                                                                      \t|  1.3266e-05     \t|  1              \t|  1.3266e-05     \t|  6.8547e-05     \t|\n",
      "|  [LightningModule]MonetDense.on_test_epoch_end                                                                                                                                                   \t|  9.1041e-06     \t|  1              \t|  9.1041e-06     \t|  4.7041e-05     \t|\n",
      "|  [Callback]ModelCheckpoint{'monitor': 'val_loss', 'mode': 'min', 'every_n_train_steps': 0, 'every_n_epochs': 1, 'train_time_interval': None, 'save_on_train_epoch_end': None}.setup              \t|  7.3849e-06     \t|  1              \t|  7.3849e-06     \t|  3.8158e-05     \t|\n",
      "|  [Callback]TQDMProgressBar.teardown                                                                                                                                                              \t|  6.9812e-06     \t|  1              \t|  6.9812e-06     \t|  3.6072e-05     \t|\n",
      "|  [LightningModule]MonetDense.test_epoch_end                                                                                                                                                      \t|  5.3681e-06     \t|  1              \t|  5.3681e-06     \t|  2.7737e-05     \t|\n",
      "|  [Callback]TQDMProgressBar.setup                                                                                                                                                                 \t|  4.0787e-06     \t|  1              \t|  4.0787e-06     \t|  2.1075e-05     \t|\n",
      "|  [Callback]TQDMProgressBar.on_test_epoch_end                                                                                                                                                     \t|  4.0573e-06     \t|  1              \t|  4.0573e-06     \t|  2.0964e-05     \t|\n",
      "|  [Callback]ModelSummary.on_test_start                                                                                                                                                            \t|  3.5949e-06     \t|  1              \t|  3.5949e-06     \t|  1.8575e-05     \t|\n",
      "|  [Callback]ModelSummary.teardown                                                                                                                                                                 \t|  3.2783e-06     \t|  1              \t|  3.2783e-06     \t|  1.6939e-05     \t|\n",
      "|  [Callback]ModelCheckpoint{'monitor': 'val_loss', 'mode': 'min', 'every_n_train_steps': 0, 'every_n_epochs': 1, 'train_time_interval': None, 'save_on_train_epoch_end': True}.teardown           \t|  3.1362e-06     \t|  1              \t|  3.1362e-06     \t|  1.6205e-05     \t|\n",
      "|  [LightningModule]MonetDense.teardown                                                                                                                                                            \t|  2.8401e-06     \t|  1              \t|  2.8401e-06     \t|  1.4675e-05     \t|\n",
      "|  [Callback]GradientAccumulationScheduler.teardown                                                                                                                                                \t|  2.733e-06      \t|  1              \t|  2.733e-06      \t|  1.4121e-05     \t|\n",
      "|  [Callback]GradientAccumulationScheduler.on_test_end                                                                                                                                             \t|  2.7092e-06     \t|  1              \t|  2.7092e-06     \t|  1.3999e-05     \t|\n",
      "|  [Callback]ModelCheckpoint{'monitor': 'val_loss', 'mode': 'min', 'every_n_train_steps': 0, 'every_n_epochs': 1, 'train_time_interval': None, 'save_on_train_epoch_end': True}.on_test_end        \t|  2.5039e-06     \t|  1              \t|  2.5039e-06     \t|  1.2937e-05     \t|\n",
      "|  [LightningModule]MonetDense.configure_callbacks                                                                                                                                                 \t|  2.4443e-06     \t|  1              \t|  2.4443e-06     \t|  1.2629e-05     \t|\n",
      "|  [Callback]ModelSummary.on_test_epoch_end                                                                                                                                                        \t|  2.434e-06      \t|  1              \t|  2.434e-06      \t|  1.2577e-05     \t|\n",
      "|  [Callback]GradientAccumulationScheduler.on_test_epoch_end                                                                                                                                       \t|  2.244e-06      \t|  1              \t|  2.244e-06      \t|  1.1595e-05     \t|\n",
      "|  [Callback]ModelCheckpoint{'monitor': 'val_loss', 'mode': 'min', 'every_n_train_steps': 0, 'every_n_epochs': 1, 'train_time_interval': None, 'save_on_train_epoch_end': True}.on_test_epoch_end  \t|  2.238e-06      \t|  1              \t|  2.238e-06      \t|  1.1564e-05     \t|\n",
      "|  [LightningModule]MonetDense.on_test_end                                                                                                                                                         \t|  2.1961e-06     \t|  1              \t|  2.1961e-06     \t|  1.1347e-05     \t|\n",
      "|  [Callback]ModelSummary.setup                                                                                                                                                                    \t|  1.546e-06      \t|  1              \t|  1.546e-06      \t|  7.9882e-06     \t|\n",
      "|  [LightningModule]MonetDense.prepare_data                                                                                                                                                        \t|  1.4277e-06     \t|  1              \t|  1.4277e-06     \t|  7.377e-06      \t|\n",
      "|  [Callback]TQDMProgressBar.on_test_epoch_start                                                                                                                                                   \t|  1.377e-06      \t|  1              \t|  1.377e-06      \t|  7.1147e-06     \t|\n",
      "|  [Callback]GradientAccumulationScheduler.setup                                                                                                                                                   \t|  1.3388e-06     \t|  1              \t|  1.3388e-06     \t|  6.9175e-06     \t|\n",
      "|  [LightningModule]MonetDense.setup                                                                                                                                                               \t|  1.3257e-06     \t|  1              \t|  1.3257e-06     \t|  6.8501e-06     \t|\n",
      "|  [Callback]GradientAccumulationScheduler.on_test_start                                                                                                                                           \t|  1.3039e-06     \t|  1              \t|  1.3039e-06     \t|  6.737e-06      \t|\n",
      "|  [Callback]ModelCheckpoint{'monitor': 'val_loss', 'mode': 'min', 'every_n_train_steps': 0, 'every_n_epochs': 1, 'train_time_interval': None, 'save_on_train_epoch_end': True}.on_test_epoch_start\t|  1.1823e-06     \t|  1              \t|  1.1823e-06     \t|  6.109e-06      \t|\n",
      "|  [Callback]ModelCheckpoint{'monitor': 'val_loss', 'mode': 'min', 'every_n_train_steps': 0, 'every_n_epochs': 1, 'train_time_interval': None, 'save_on_train_epoch_end': True}.on_test_start      \t|  1.1721e-06     \t|  1              \t|  1.1721e-06     \t|  6.0561e-06     \t|\n",
      "|  [LightningModule]MonetDense.on_test_start                                                                                                                                                       \t|  1.139e-06      \t|  1              \t|  1.139e-06      \t|  5.8852e-06     \t|\n",
      "|  [Callback]ModelSummary.on_test_epoch_start                                                                                                                                                      \t|  1.1339e-06     \t|  1              \t|  1.1339e-06     \t|  5.8588e-06     \t|\n",
      "|  [Callback]GradientAccumulationScheduler.on_test_epoch_start                                                                                                                                     \t|  1.0063e-06     \t|  1              \t|  1.0063e-06     \t|  5.1995e-06     \t|\n",
      "|  [LightningModule]MonetDense.on_test_epoch_start                                                                                                                                                 \t|  9.5926e-07     \t|  1              \t|  9.5926e-07     \t|  4.9565e-06     \t|\n",
      "|  [LightningModule]MonetDense.configure_sharded_model                                                                                                                                             \t|  9.4203e-07     \t|  1              \t|  9.4203e-07     \t|  4.8675e-06     \t|\n",
      "|  [Strategy]SingleDeviceStrategy.on_test_start                                                                                                                                                    \t|  8.8615e-07     \t|  1              \t|  8.8615e-07     \t|  4.5788e-06     \t|\n",
      "----------------------------------------------------------------------------------------------------------------------------------------------------------------------------------------------------------------------------------------------------------------------------------------------------------\n",
      "\n"
     ]
    },
    {
     "name": "stdout",
     "output_type": "stream",
     "text": [
      "────────────────────────────────────────────────────────────────────────────────────────────────────────────────────────\n",
      "       Test metric             DataLoader 0\n",
      "────────────────────────────────────────────────────────────────────────────────────────────────────────────────────────\n",
      "        test_loss           0.3588748872280121\n",
      "     test_loss: mse         0.3588748872280121\n",
      "────────────────────────────────────────────────────────────────────────────────────────────────────────────────────────\n"
     ]
    },
    {
     "name": "stderr",
     "output_type": "stream",
     "text": [
      "100%|██████████████████████████████████████████████████████████████| 24/24 [00:20<00:00,  1.16it/s]\n",
      "GPU available: True (cuda), used: True\n",
      "TPU available: False, using: 0 TPU cores\n",
      "IPU available: False, using: 0 IPUs\n",
      "HPU available: False, using: 0 HPUs\n",
      "`Trainer(limit_train_batches=1.0)` was configured so 100% of the batches per epoch will be used..\n",
      "`Trainer(limit_val_batches=1.0)` was configured so 100% of the batches will be used..\n",
      "LOCAL_RANK: 0 - CUDA_VISIBLE_DEVICES: [5,6]\n"
     ]
    },
    {
     "data": {
      "application/vnd.jupyter.widget-view+json": {
       "model_id": "9a1e2bc88aaa4b99b0387d4930d1329e",
       "version_major": 2,
       "version_minor": 0
      },
      "text/plain": [
       "Testing: 0it [00:00, ?it/s]"
      ]
     },
     "metadata": {},
     "output_type": "display_data"
    },
    {
     "name": "stderr",
     "output_type": "stream",
     "text": [
      "TEST Profiler Report\n",
      "\n",
      "----------------------------------------------------------------------------------------------------------------------------------------------------------------------------------------------------------------------------------------------------------------------------------------------------------\n",
      "|  Action                                                                                                                                                                                          \t|  Mean duration (s)\t|  Num calls      \t|  Total time (s) \t|  Percentage %   \t|\n",
      "----------------------------------------------------------------------------------------------------------------------------------------------------------------------------------------------------------------------------------------------------------------------------------------------------------\n",
      "|  Total                                                                                                                                                                                           \t|  -              \t|  471            \t|  18.338         \t|  100 %          \t|\n",
      "----------------------------------------------------------------------------------------------------------------------------------------------------------------------------------------------------------------------------------------------------------------------------------------------------------\n",
      "|  run_test_evaluation                                                                                                                                                                             \t|  18.196         \t|  1              \t|  18.196         \t|  99.226         \t|\n",
      "|  [Strategy]SingleDeviceStrategy.test_step                                                                                                                                                        \t|  0.58533        \t|  24             \t|  14.048         \t|  76.606         \t|\n",
      "|  [EvaluationEpochLoop].test_dataloader_idx_0_next                                                                                                                                                \t|  0.14019        \t|  24             \t|  3.3646         \t|  18.348         \t|\n",
      "|  [Callback]TQDMProgressBar.on_test_batch_end                                                                                                                                                     \t|  0.01761        \t|  24             \t|  0.42264        \t|  2.3048         \t|\n",
      "|  [Strategy]SingleDeviceStrategy.batch_to_device                                                                                                                                                  \t|  0.0039673      \t|  24             \t|  0.095216       \t|  0.51923        \t|\n",
      "|  [LightningModule]MonetDense.transfer_batch_to_device                                                                                                                                            \t|  0.0038539      \t|  24             \t|  0.092493       \t|  0.50438        \t|\n",
      "|  [Callback]TQDMProgressBar.on_test_start                                                                                                                                                         \t|  0.010694       \t|  1              \t|  0.010694       \t|  0.058314       \t|\n",
      "|  [Callback]TQDMProgressBar.on_test_batch_start                                                                                                                                                   \t|  0.00021314     \t|  24             \t|  0.0051153      \t|  0.027895       \t|\n",
      "|  [Callback]TQDMProgressBar.on_test_end                                                                                                                                                           \t|  0.00075425     \t|  1              \t|  0.00075425     \t|  0.0041131      \t|\n",
      "|  [LightningModule]MonetDense.on_test_model_train                                                                                                                                                 \t|  0.00056696     \t|  1              \t|  0.00056696     \t|  0.0030917      \t|\n",
      "|  [Callback]ModelSummary.on_test_batch_end                                                                                                                                                        \t|  8.8089e-06     \t|  24             \t|  0.00021141     \t|  0.0011529      \t|\n",
      "|  [LightningModule]MonetDense.on_test_model_eval                                                                                                                                                  \t|  0.00016829     \t|  1              \t|  0.00016829     \t|  0.00091772     \t|\n",
      "|  [LightningModule]MonetDense.on_before_batch_transfer                                                                                                                                            \t|  4.9619e-06     \t|  24             \t|  0.00011909     \t|  0.0006494      \t|\n",
      "|  [Callback]ModelSummary.on_test_batch_start                                                                                                                                                      \t|  3.8736e-06     \t|  24             \t|  9.2966e-05     \t|  0.00050696     \t|\n",
      "|  [LightningModule]MonetDense.test_step_end                                                                                                                                                       \t|  3.7397e-06     \t|  24             \t|  8.9754e-05     \t|  0.00048945     \t|\n",
      "|  [LightningModule]MonetDense.on_test_batch_start                                                                                                                                                 \t|  3.7094e-06     \t|  24             \t|  8.9025e-05     \t|  0.00048547     \t|\n",
      "|  [Callback]GradientAccumulationScheduler.on_test_batch_start                                                                                                                                     \t|  3.6552e-06     \t|  24             \t|  8.7726e-05     \t|  0.00047839     \t|\n",
      "|  [Callback]ModelCheckpoint{'monitor': 'val_loss', 'mode': 'min', 'every_n_train_steps': 0, 'every_n_epochs': 1, 'train_time_interval': None, 'save_on_train_epoch_end': True}.on_test_batch_start\t|  2.9723e-06     \t|  24             \t|  7.1334e-05     \t|  0.000389       \t|\n",
      "|  [LightningModule]MonetDense.on_after_batch_transfer                                                                                                                                             \t|  2.927e-06      \t|  24             \t|  7.0248e-05     \t|  0.00038307     \t|\n",
      "|  [LightningModule]MonetDense.on_test_batch_end                                                                                                                                                   \t|  2.8615e-06     \t|  24             \t|  6.8677e-05     \t|  0.00037451     \t|\n",
      "|  [Callback]ModelCheckpoint{'monitor': 'val_loss', 'mode': 'min', 'every_n_train_steps': 0, 'every_n_epochs': 1, 'train_time_interval': None, 'save_on_train_epoch_end': True}.on_test_batch_end  \t|  2.8614e-06     \t|  24             \t|  6.8673e-05     \t|  0.00037449     \t|\n",
      "|  [Callback]GradientAccumulationScheduler.on_test_batch_end                                                                                                                                       \t|  2.7092e-06     \t|  24             \t|  6.502e-05      \t|  0.00035457     \t|\n",
      "|  [Strategy]SingleDeviceStrategy.test_step_end                                                                                                                                                    \t|  1.5924e-06     \t|  24             \t|  3.8219e-05     \t|  0.00020841     \t|\n",
      "|  [Strategy]SingleDeviceStrategy.on_test_end                                                                                                                                                      \t|  1.5624e-05     \t|  1              \t|  1.5624e-05     \t|  8.52e-05       \t|\n",
      "|  [Callback]ModelCheckpoint{'monitor': 'val_loss', 'mode': 'min', 'every_n_train_steps': 0, 'every_n_epochs': 1, 'train_time_interval': None, 'save_on_train_epoch_end': None}.setup              \t|  1.3153e-05     \t|  1              \t|  1.3153e-05     \t|  7.1724e-05     \t|\n",
      "|  [Callback]ModelSummary.on_test_end                                                                                                                                                              \t|  1.1966e-05     \t|  1              \t|  1.1966e-05     \t|  6.5253e-05     \t|\n",
      "|  [LightningModule]MonetDense.on_test_epoch_end                                                                                                                                                   \t|  7.8189e-06     \t|  1              \t|  7.8189e-06     \t|  4.2638e-05     \t|\n",
      "|  [Callback]TQDMProgressBar.setup                                                                                                                                                                 \t|  7.4599e-06     \t|  1              \t|  7.4599e-06     \t|  4.068e-05      \t|\n",
      "|  [Callback]ModelSummary.on_test_start                                                                                                                                                            \t|  6.075e-06      \t|  1              \t|  6.075e-06      \t|  3.3128e-05     \t|\n",
      "|  [Callback]TQDMProgressBar.teardown                                                                                                                                                              \t|  4.6864e-06     \t|  1              \t|  4.6864e-06     \t|  2.5556e-05     \t|\n",
      "|  [LightningModule]MonetDense.configure_callbacks                                                                                                                                                 \t|  4.258e-06      \t|  1              \t|  4.258e-06      \t|  2.322e-05      \t|\n",
      "|  [LightningModule]MonetDense.test_epoch_end                                                                                                                                                      \t|  3.8208e-06     \t|  1              \t|  3.8208e-06     \t|  2.0835e-05     \t|\n",
      "|  [Callback]TQDMProgressBar.on_test_epoch_end                                                                                                                                                     \t|  3.5451e-06     \t|  1              \t|  3.5451e-06     \t|  1.9332e-05     \t|\n",
      "|  [Callback]GradientAccumulationScheduler.on_test_end                                                                                                                                             \t|  2.8899e-06     \t|  1              \t|  2.8899e-06     \t|  1.5759e-05     \t|\n",
      "|  [LightningModule]MonetDense.on_test_start                                                                                                                                                       \t|  2.732e-06      \t|  1              \t|  2.732e-06      \t|  1.4898e-05     \t|\n",
      "|  [Callback]ModelCheckpoint{'monitor': 'val_loss', 'mode': 'min', 'every_n_train_steps': 0, 'every_n_epochs': 1, 'train_time_interval': None, 'save_on_train_epoch_end': True}.on_test_end        \t|  2.658e-06      \t|  1              \t|  2.658e-06      \t|  1.4495e-05     \t|\n",
      "|  [Callback]ModelSummary.on_test_epoch_end                                                                                                                                                        \t|  2.454e-06      \t|  1              \t|  2.454e-06      \t|  1.3382e-05     \t|\n",
      "|  [Callback]ModelCheckpoint{'monitor': 'val_loss', 'mode': 'min', 'every_n_train_steps': 0, 'every_n_epochs': 1, 'train_time_interval': None, 'save_on_train_epoch_end': True}.on_test_epoch_end  \t|  2.292e-06      \t|  1              \t|  2.292e-06      \t|  1.2499e-05     \t|\n",
      "|  [Callback]GradientAccumulationScheduler.on_test_epoch_end                                                                                                                                       \t|  2.2901e-06     \t|  1              \t|  2.2901e-06     \t|  1.2488e-05     \t|\n",
      "|  [LightningModule]MonetDense.on_test_end                                                                                                                                                         \t|  2.1718e-06     \t|  1              \t|  2.1718e-06     \t|  1.1843e-05     \t|\n",
      "|  [Callback]ModelSummary.setup                                                                                                                                                                    \t|  1.8599e-06     \t|  1              \t|  1.8599e-06     \t|  1.0142e-05     \t|\n",
      "|  [LightningModule]MonetDense.setup                                                                                                                                                               \t|  1.824e-06      \t|  1              \t|  1.824e-06      \t|  9.9466e-06     \t|\n",
      "|  [LightningModule]MonetDense.teardown                                                                                                                                                            \t|  1.777e-06      \t|  1              \t|  1.777e-06      \t|  9.6901e-06     \t|\n",
      "|  [LightningModule]MonetDense.prepare_data                                                                                                                                                        \t|  1.593e-06      \t|  1              \t|  1.593e-06      \t|  8.6871e-06     \t|\n",
      "|  [Callback]ModelSummary.teardown                                                                                                                                                                 \t|  1.5409e-06     \t|  1              \t|  1.5409e-06     \t|  8.4027e-06     \t|\n",
      "|  [Callback]TQDMProgressBar.on_test_epoch_start                                                                                                                                                   \t|  1.4259e-06     \t|  1              \t|  1.4259e-06     \t|  7.7755e-06     \t|\n",
      "|  [Callback]GradientAccumulationScheduler.on_test_start                                                                                                                                           \t|  1.3821e-06     \t|  1              \t|  1.3821e-06     \t|  7.5368e-06     \t|\n",
      "|  [Callback]ModelCheckpoint{'monitor': 'val_loss', 'mode': 'min', 'every_n_train_steps': 0, 'every_n_epochs': 1, 'train_time_interval': None, 'save_on_train_epoch_end': True}.teardown           \t|  1.2922e-06     \t|  1              \t|  1.2922e-06     \t|  7.0467e-06     \t|\n",
      "|  [Callback]ModelCheckpoint{'monitor': 'val_loss', 'mode': 'min', 'every_n_train_steps': 0, 'every_n_epochs': 1, 'train_time_interval': None, 'save_on_train_epoch_end': True}.on_test_epoch_start\t|  1.2382e-06     \t|  1              \t|  1.2382e-06     \t|  6.7521e-06     \t|\n",
      "|  [Callback]ModelCheckpoint{'monitor': 'val_loss', 'mode': 'min', 'every_n_train_steps': 0, 'every_n_epochs': 1, 'train_time_interval': None, 'save_on_train_epoch_end': True}.on_test_start      \t|  1.2312e-06     \t|  1              \t|  1.2312e-06     \t|  6.714e-06      \t|\n",
      "|  [Callback]GradientAccumulationScheduler.teardown                                                                                                                                                \t|  1.2238e-06     \t|  1              \t|  1.2238e-06     \t|  6.6734e-06     \t|\n",
      "|  [Callback]GradientAccumulationScheduler.setup                                                                                                                                                   \t|  1.2079e-06     \t|  1              \t|  1.2079e-06     \t|  6.587e-06      \t|\n",
      "|  [Callback]ModelSummary.on_test_epoch_start                                                                                                                                                      \t|  1.0701e-06     \t|  1              \t|  1.0701e-06     \t|  5.8354e-06     \t|\n",
      "|  [Strategy]SingleDeviceStrategy.on_test_start                                                                                                                                                    \t|  9.9977e-07     \t|  1              \t|  9.9977e-07     \t|  5.452e-06      \t|\n",
      "|  [Callback]GradientAccumulationScheduler.on_test_epoch_start                                                                                                                                     \t|  9.9093e-07     \t|  1              \t|  9.9093e-07     \t|  5.4037e-06     \t|\n",
      "|  [LightningModule]MonetDense.configure_sharded_model                                                                                                                                             \t|  9.1875e-07     \t|  1              \t|  9.1875e-07     \t|  5.0101e-06     \t|\n",
      "|  [LightningModule]MonetDense.on_test_epoch_start                                                                                                                                                 \t|  8.5402e-07     \t|  1              \t|  8.5402e-07     \t|  4.6571e-06     \t|\n",
      "----------------------------------------------------------------------------------------------------------------------------------------------------------------------------------------------------------------------------------------------------------------------------------------------------------\n",
      "\n"
     ]
    },
    {
     "name": "stdout",
     "output_type": "stream",
     "text": [
      "────────────────────────────────────────────────────────────────────────────────────────────────────────────────────────\n",
      "       Test metric             DataLoader 0\n",
      "────────────────────────────────────────────────────────────────────────────────────────────────────────────────────────\n",
      "        test_loss           0.3607430160045624\n",
      "     test_loss: mse         0.3607430160045624\n",
      "────────────────────────────────────────────────────────────────────────────────────────────────────────────────────────\n"
     ]
    },
    {
     "name": "stderr",
     "output_type": "stream",
     "text": [
      "100%|██████████████████████████████████████████████████████████████| 24/24 [00:20<00:00,  1.18it/s]\n",
      "GPU available: True (cuda), used: True\n",
      "TPU available: False, using: 0 TPU cores\n",
      "IPU available: False, using: 0 IPUs\n",
      "HPU available: False, using: 0 HPUs\n",
      "`Trainer(limit_train_batches=1.0)` was configured so 100% of the batches per epoch will be used..\n",
      "`Trainer(limit_val_batches=1.0)` was configured so 100% of the batches will be used..\n",
      "LOCAL_RANK: 0 - CUDA_VISIBLE_DEVICES: [5,6]\n"
     ]
    },
    {
     "data": {
      "application/vnd.jupyter.widget-view+json": {
       "model_id": "ecbcb4d3be164bfd82f228ba0ce75a38",
       "version_major": 2,
       "version_minor": 0
      },
      "text/plain": [
       "Testing: 0it [00:00, ?it/s]"
      ]
     },
     "metadata": {},
     "output_type": "display_data"
    },
    {
     "name": "stderr",
     "output_type": "stream",
     "text": [
      "TEST Profiler Report\n",
      "\n",
      "----------------------------------------------------------------------------------------------------------------------------------------------------------------------------------------------------------------------------------------------------------------------------------------------------------\n",
      "|  Action                                                                                                                                                                                          \t|  Mean duration (s)\t|  Num calls      \t|  Total time (s) \t|  Percentage %   \t|\n",
      "----------------------------------------------------------------------------------------------------------------------------------------------------------------------------------------------------------------------------------------------------------------------------------------------------------\n",
      "|  Total                                                                                                                                                                                           \t|  -              \t|  471            \t|  19.405         \t|  100 %          \t|\n",
      "----------------------------------------------------------------------------------------------------------------------------------------------------------------------------------------------------------------------------------------------------------------------------------------------------------\n",
      "|  run_test_evaluation                                                                                                                                                                             \t|  19.255         \t|  1              \t|  19.255         \t|  99.226         \t|\n",
      "|  [Strategy]SingleDeviceStrategy.test_step                                                                                                                                                        \t|  0.60044        \t|  24             \t|  14.411         \t|  74.262         \t|\n",
      "|  [EvaluationEpochLoop].test_dataloader_idx_0_next                                                                                                                                                \t|  0.1546         \t|  24             \t|  3.7104         \t|  19.121         \t|\n",
      "|  [Callback]TQDMProgressBar.on_test_batch_end                                                                                                                                                     \t|  0.02032        \t|  24             \t|  0.48768        \t|  2.5132         \t|\n",
      "|  [Strategy]SingleDeviceStrategy.batch_to_device                                                                                                                                                  \t|  0.0081407      \t|  24             \t|  0.19538        \t|  1.0068         \t|\n",
      "|  [LightningModule]MonetDense.transfer_batch_to_device                                                                                                                                            \t|  0.0080192      \t|  24             \t|  0.19246        \t|  0.99181        \t|\n",
      "|  [Callback]TQDMProgressBar.on_test_start                                                                                                                                                         \t|  0.011383       \t|  1              \t|  0.011383       \t|  0.05866        \t|\n",
      "|  [Callback]TQDMProgressBar.on_test_batch_start                                                                                                                                                   \t|  0.00014377     \t|  24             \t|  0.0034505      \t|  0.017781       \t|\n",
      "|  [Callback]TQDMProgressBar.on_test_end                                                                                                                                                           \t|  0.0014587      \t|  1              \t|  0.0014587      \t|  0.007517       \t|\n",
      "|  [LightningModule]MonetDense.on_test_model_train                                                                                                                                                 \t|  0.00054069     \t|  1              \t|  0.00054069     \t|  0.0027863      \t|\n",
      "|  [Callback]ModelSummary.on_test_batch_end                                                                                                                                                        \t|  9.2557e-06     \t|  24             \t|  0.00022214     \t|  0.0011447      \t|\n",
      "|  [LightningModule]MonetDense.on_test_model_eval                                                                                                                                                  \t|  0.00014666     \t|  1              \t|  0.00014666     \t|  0.00075576     \t|\n",
      "|  [LightningModule]MonetDense.on_before_batch_transfer                                                                                                                                            \t|  5.4904e-06     \t|  24             \t|  0.00013177     \t|  0.00067905     \t|\n",
      "|  [LightningModule]MonetDense.test_step_end                                                                                                                                                       \t|  4.8079e-06     \t|  24             \t|  0.00011539     \t|  0.00059463     \t|\n",
      "|  [Callback]ModelSummary.on_test_batch_start                                                                                                                                                      \t|  4.0021e-06     \t|  24             \t|  9.6051e-05     \t|  0.00049498     \t|\n",
      "|  [LightningModule]MonetDense.on_test_batch_end                                                                                                                                                   \t|  3.8308e-06     \t|  24             \t|  9.1939e-05     \t|  0.00047379     \t|\n",
      "|  [Callback]GradientAccumulationScheduler.on_test_batch_start                                                                                                                                     \t|  3.617e-06      \t|  24             \t|  8.6808e-05     \t|  0.00044735     \t|\n",
      "|  [Callback]ModelCheckpoint{'monitor': 'val_loss', 'mode': 'min', 'every_n_train_steps': 0, 'every_n_epochs': 1, 'train_time_interval': None, 'save_on_train_epoch_end': True}.on_test_batch_end  \t|  3.4363e-06     \t|  24             \t|  8.2472e-05     \t|  0.00042501     \t|\n",
      "|  [Callback]GradientAccumulationScheduler.on_test_batch_end                                                                                                                                       \t|  3.2786e-06     \t|  24             \t|  7.8687e-05     \t|  0.0004055      \t|\n",
      "|  [LightningModule]MonetDense.on_test_batch_start                                                                                                                                                 \t|  3.1558e-06     \t|  24             \t|  7.5739e-05     \t|  0.00039031     \t|\n",
      "|  [LightningModule]MonetDense.on_after_batch_transfer                                                                                                                                             \t|  3.0547e-06     \t|  24             \t|  7.3312e-05     \t|  0.0003778      \t|\n",
      "|  [Callback]ModelCheckpoint{'monitor': 'val_loss', 'mode': 'min', 'every_n_train_steps': 0, 'every_n_epochs': 1, 'train_time_interval': None, 'save_on_train_epoch_end': True}.on_test_batch_start\t|  2.7356e-06     \t|  24             \t|  6.5654e-05     \t|  0.00033834     \t|\n",
      "|  [Strategy]SingleDeviceStrategy.test_step_end                                                                                                                                                    \t|  2.0393e-06     \t|  24             \t|  4.8942e-05     \t|  0.00025222     \t|\n",
      "|  [Strategy]SingleDeviceStrategy.on_test_end                                                                                                                                                      \t|  1.655e-05      \t|  1              \t|  1.655e-05      \t|  8.5288e-05     \t|\n",
      "|  [Callback]ModelSummary.on_test_end                                                                                                                                                              \t|  1.6253e-05     \t|  1              \t|  1.6253e-05     \t|  8.3757e-05     \t|\n",
      "|  [LightningModule]MonetDense.on_test_epoch_end                                                                                                                                                   \t|  1.1502e-05     \t|  1              \t|  1.1502e-05     \t|  5.9272e-05     \t|\n",
      "|  [Callback]TQDMProgressBar.teardown                                                                                                                                                              \t|  9.1661e-06     \t|  1              \t|  9.1661e-06     \t|  4.7236e-05     \t|\n",
      "|  [Callback]ModelCheckpoint{'monitor': 'val_loss', 'mode': 'min', 'every_n_train_steps': 0, 'every_n_epochs': 1, 'train_time_interval': None, 'save_on_train_epoch_end': None}.setup              \t|  7.7588e-06     \t|  1              \t|  7.7588e-06     \t|  3.9984e-05     \t|\n",
      "|  [Callback]ModelSummary.teardown                                                                                                                                                                 \t|  5.0762e-06     \t|  1              \t|  5.0762e-06     \t|  2.6159e-05     \t|\n",
      "|  [LightningModule]MonetDense.test_epoch_end                                                                                                                                                      \t|  4.9933e-06     \t|  1              \t|  4.9933e-06     \t|  2.5732e-05     \t|\n",
      "|  [Callback]TQDMProgressBar.on_test_epoch_end                                                                                                                                                     \t|  4.38e-06       \t|  1              \t|  4.38e-06       \t|  2.2572e-05     \t|\n",
      "|  [LightningModule]MonetDense.teardown                                                                                                                                                            \t|  4.3022e-06     \t|  1              \t|  4.3022e-06     \t|  2.2171e-05     \t|\n",
      "|  [Callback]TQDMProgressBar.setup                                                                                                                                                                 \t|  4.1858e-06     \t|  1              \t|  4.1858e-06     \t|  2.1571e-05     \t|\n",
      "|  [Callback]ModelCheckpoint{'monitor': 'val_loss', 'mode': 'min', 'every_n_train_steps': 0, 'every_n_epochs': 1, 'train_time_interval': None, 'save_on_train_epoch_end': True}.teardown           \t|  4.1593e-06     \t|  1              \t|  4.1593e-06     \t|  2.1434e-05     \t|\n",
      "|  [Callback]ModelSummary.on_test_start                                                                                                                                                            \t|  4.1169e-06     \t|  1              \t|  4.1169e-06     \t|  2.1216e-05     \t|\n",
      "|  [Callback]GradientAccumulationScheduler.teardown                                                                                                                                                \t|  4.0727e-06     \t|  1              \t|  4.0727e-06     \t|  2.0988e-05     \t|\n",
      "|  [Callback]GradientAccumulationScheduler.on_test_end                                                                                                                                             \t|  3.2103e-06     \t|  1              \t|  3.2103e-06     \t|  1.6544e-05     \t|\n",
      "|  [Callback]ModelCheckpoint{'monitor': 'val_loss', 'mode': 'min', 'every_n_train_steps': 0, 'every_n_epochs': 1, 'train_time_interval': None, 'save_on_train_epoch_end': True}.on_test_end        \t|  3.0817e-06     \t|  1              \t|  3.0817e-06     \t|  1.5881e-05     \t|\n",
      "|  [Callback]ModelSummary.on_test_epoch_end                                                                                                                                                        \t|  2.9672e-06     \t|  1              \t|  2.9672e-06     \t|  1.5291e-05     \t|\n",
      "|  [Callback]ModelCheckpoint{'monitor': 'val_loss', 'mode': 'min', 'every_n_train_steps': 0, 'every_n_epochs': 1, 'train_time_interval': None, 'save_on_train_epoch_end': True}.on_test_epoch_end  \t|  2.698e-06      \t|  1              \t|  2.698e-06      \t|  1.3904e-05     \t|\n",
      "|  [LightningModule]MonetDense.configure_callbacks                                                                                                                                                 \t|  2.542e-06      \t|  1              \t|  2.542e-06      \t|  1.31e-05       \t|\n",
      "|  [Callback]GradientAccumulationScheduler.on_test_epoch_end                                                                                                                                       \t|  2.4033e-06     \t|  1              \t|  2.4033e-06     \t|  1.2385e-05     \t|\n",
      "|  [LightningModule]MonetDense.on_test_end                                                                                                                                                         \t|  2.3008e-06     \t|  1              \t|  2.3008e-06     \t|  1.1857e-05     \t|\n",
      "|  [Callback]ModelSummary.setup                                                                                                                                                                    \t|  1.8352e-06     \t|  1              \t|  1.8352e-06     \t|  9.4572e-06     \t|\n",
      "|  [LightningModule]MonetDense.prepare_data                                                                                                                                                        \t|  1.8342e-06     \t|  1              \t|  1.8342e-06     \t|  9.4524e-06     \t|\n",
      "|  [Callback]TQDMProgressBar.on_test_epoch_start                                                                                                                                                   \t|  1.4161e-06     \t|  1              \t|  1.4161e-06     \t|  7.2975e-06     \t|\n",
      "|  [Callback]GradientAccumulationScheduler.setup                                                                                                                                                   \t|  1.2936e-06     \t|  1              \t|  1.2936e-06     \t|  6.6664e-06     \t|\n",
      "|  [LightningModule]MonetDense.setup                                                                                                                                                               \t|  1.2857e-06     \t|  1              \t|  1.2857e-06     \t|  6.6256e-06     \t|\n",
      "|  [LightningModule]MonetDense.on_test_start                                                                                                                                                       \t|  1.2731e-06     \t|  1              \t|  1.2731e-06     \t|  6.5608e-06     \t|\n",
      "|  [Callback]GradientAccumulationScheduler.on_test_start                                                                                                                                           \t|  1.2601e-06     \t|  1              \t|  1.2601e-06     \t|  6.4936e-06     \t|\n",
      "|  [Callback]ModelCheckpoint{'monitor': 'val_loss', 'mode': 'min', 'every_n_train_steps': 0, 'every_n_epochs': 1, 'train_time_interval': None, 'save_on_train_epoch_end': True}.on_test_start      \t|  1.2307e-06     \t|  1              \t|  1.2307e-06     \t|  6.3424e-06     \t|\n",
      "|  [Callback]ModelCheckpoint{'monitor': 'val_loss', 'mode': 'min', 'every_n_train_steps': 0, 'every_n_epochs': 1, 'train_time_interval': None, 'save_on_train_epoch_end': True}.on_test_epoch_start\t|  1.2084e-06     \t|  1              \t|  1.2084e-06     \t|  6.2272e-06     \t|\n",
      "|  [LightningModule]MonetDense.on_test_epoch_start                                                                                                                                                 \t|  1.0869e-06     \t|  1              \t|  1.0869e-06     \t|  5.6009e-06     \t|\n",
      "|  [Callback]ModelSummary.on_test_epoch_start                                                                                                                                                      \t|  9.9977e-07     \t|  1              \t|  9.9977e-07     \t|  5.1521e-06     \t|\n",
      "|  [Strategy]SingleDeviceStrategy.on_test_start                                                                                                                                                    \t|  9.7509e-07     \t|  1              \t|  9.7509e-07     \t|  5.025e-06      \t|\n",
      "|  [Callback]GradientAccumulationScheduler.on_test_epoch_start                                                                                                                                     \t|  9.6112e-07     \t|  1              \t|  9.6112e-07     \t|  4.953e-06      \t|\n",
      "|  [LightningModule]MonetDense.configure_sharded_model                                                                                                                                             \t|  9.2806e-07     \t|  1              \t|  9.2806e-07     \t|  4.7826e-06     \t|\n",
      "----------------------------------------------------------------------------------------------------------------------------------------------------------------------------------------------------------------------------------------------------------------------------------------------------------\n",
      "\n"
     ]
    },
    {
     "name": "stdout",
     "output_type": "stream",
     "text": [
      "────────────────────────────────────────────────────────────────────────────────────────────────────────────────────────\n",
      "       Test metric             DataLoader 0\n",
      "────────────────────────────────────────────────────────────────────────────────────────────────────────────────────────\n",
      "        test_loss           0.3593329191207886\n",
      "     test_loss: mse         0.3593329191207886\n",
      "────────────────────────────────────────────────────────────────────────────────────────────────────────────────────────\n"
     ]
    },
    {
     "name": "stderr",
     "output_type": "stream",
     "text": [
      "100%|██████████████████████████████████████████████████████████████| 24/24 [00:19<00:00,  1.24it/s]\n",
      "GPU available: True (cuda), used: True\n",
      "TPU available: False, using: 0 TPU cores\n",
      "IPU available: False, using: 0 IPUs\n",
      "HPU available: False, using: 0 HPUs\n",
      "`Trainer(limit_train_batches=1.0)` was configured so 100% of the batches per epoch will be used..\n",
      "`Trainer(limit_val_batches=1.0)` was configured so 100% of the batches will be used..\n",
      "LOCAL_RANK: 0 - CUDA_VISIBLE_DEVICES: [5,6]\n"
     ]
    },
    {
     "data": {
      "application/vnd.jupyter.widget-view+json": {
       "model_id": "65d8d44eae7b46aeb680581c067539c2",
       "version_major": 2,
       "version_minor": 0
      },
      "text/plain": [
       "Testing: 0it [00:00, ?it/s]"
      ]
     },
     "metadata": {},
     "output_type": "display_data"
    },
    {
     "name": "stderr",
     "output_type": "stream",
     "text": [
      "TEST Profiler Report\n",
      "\n",
      "----------------------------------------------------------------------------------------------------------------------------------------------------------------------------------------------------------------------------------------------------------------------------------------------------------\n",
      "|  Action                                                                                                                                                                                          \t|  Mean duration (s)\t|  Num calls      \t|  Total time (s) \t|  Percentage %   \t|\n",
      "----------------------------------------------------------------------------------------------------------------------------------------------------------------------------------------------------------------------------------------------------------------------------------------------------------\n",
      "|  Total                                                                                                                                                                                           \t|  -              \t|  471            \t|  18.446         \t|  100 %          \t|\n",
      "----------------------------------------------------------------------------------------------------------------------------------------------------------------------------------------------------------------------------------------------------------------------------------------------------------\n",
      "|  run_test_evaluation                                                                                                                                                                             \t|  18.293         \t|  1              \t|  18.293         \t|  99.168         \t|\n",
      "|  [Strategy]SingleDeviceStrategy.test_step                                                                                                                                                        \t|  0.56925        \t|  24             \t|  13.662         \t|  74.064         \t|\n",
      "|  [EvaluationEpochLoop].test_dataloader_idx_0_next                                                                                                                                                \t|  0.14214        \t|  24             \t|  3.4114         \t|  18.494         \t|\n",
      "|  [Callback]TQDMProgressBar.on_test_batch_end                                                                                                                                                     \t|  0.01942        \t|  24             \t|  0.46607        \t|  2.5267         \t|\n",
      "|  [Strategy]SingleDeviceStrategy.batch_to_device                                                                                                                                                  \t|  0.010437       \t|  24             \t|  0.25049        \t|  1.358          \t|\n",
      "|  [LightningModule]MonetDense.transfer_batch_to_device                                                                                                                                            \t|  0.010312       \t|  24             \t|  0.24749        \t|  1.3417         \t|\n",
      "|  [Callback]TQDMProgressBar.on_test_start                                                                                                                                                         \t|  0.010506       \t|  1              \t|  0.010506       \t|  0.056958       \t|\n",
      "|  [Callback]TQDMProgressBar.on_test_batch_start                                                                                                                                                   \t|  0.00016001     \t|  24             \t|  0.0038402      \t|  0.020819       \t|\n",
      "|  [Callback]TQDMProgressBar.on_test_end                                                                                                                                                           \t|  0.0012408      \t|  1              \t|  0.0012408      \t|  0.0067269      \t|\n",
      "|  [LightningModule]MonetDense.on_test_model_train                                                                                                                                                 \t|  0.00040519     \t|  1              \t|  0.00040519     \t|  0.0021966      \t|\n",
      "|  [Callback]ModelSummary.on_test_batch_end                                                                                                                                                        \t|  7.5724e-06     \t|  24             \t|  0.00018174     \t|  0.00098524     \t|\n",
      "|  [LightningModule]MonetDense.on_test_model_eval                                                                                                                                                  \t|  0.00017691     \t|  1              \t|  0.00017691     \t|  0.00095905     \t|\n",
      "|  [LightningModule]MonetDense.on_before_batch_transfer                                                                                                                                            \t|  5.6667e-06     \t|  24             \t|  0.000136       \t|  0.00073728     \t|\n",
      "|  [Callback]ModelSummary.on_test_batch_start                                                                                                                                                      \t|  4.4821e-06     \t|  24             \t|  0.00010757     \t|  0.00058317     \t|\n",
      "|  [Callback]GradientAccumulationScheduler.on_test_batch_start                                                                                                                                     \t|  4.2441e-06     \t|  24             \t|  0.00010186     \t|  0.00055219     \t|\n",
      "|  [LightningModule]MonetDense.test_step_end                                                                                                                                                       \t|  3.7724e-06     \t|  24             \t|  9.0537e-05     \t|  0.00049082     \t|\n",
      "|  [LightningModule]MonetDense.on_test_batch_start                                                                                                                                                 \t|  3.4516e-06     \t|  24             \t|  8.2837e-05     \t|  0.00044908     \t|\n",
      "|  [Callback]ModelCheckpoint{'monitor': 'val_loss', 'mode': 'min', 'every_n_train_steps': 0, 'every_n_epochs': 1, 'train_time_interval': None, 'save_on_train_epoch_end': True}.on_test_batch_start\t|  3.3311e-06     \t|  24             \t|  7.9946e-05     \t|  0.0004334      \t|\n",
      "|  [LightningModule]MonetDense.on_after_batch_transfer                                                                                                                                             \t|  3.2202e-06     \t|  24             \t|  7.7286e-05     \t|  0.00041898     \t|\n",
      "|  [Callback]ModelCheckpoint{'monitor': 'val_loss', 'mode': 'min', 'every_n_train_steps': 0, 'every_n_epochs': 1, 'train_time_interval': None, 'save_on_train_epoch_end': True}.on_test_batch_end  \t|  3.0965e-06     \t|  24             \t|  7.4316e-05     \t|  0.00040288     \t|\n",
      "|  [LightningModule]MonetDense.on_test_batch_end                                                                                                                                                   \t|  2.9603e-06     \t|  24             \t|  7.1048e-05     \t|  0.00038517     \t|\n",
      "|  [Callback]GradientAccumulationScheduler.on_test_batch_end                                                                                                                                       \t|  2.8946e-06     \t|  24             \t|  6.947e-05      \t|  0.00037661     \t|\n",
      "|  [Strategy]SingleDeviceStrategy.test_step_end                                                                                                                                                    \t|  1.744e-06      \t|  24             \t|  4.1856e-05     \t|  0.00022691     \t|\n",
      "|  [Callback]ModelSummary.on_test_start                                                                                                                                                            \t|  2.2911e-05     \t|  1              \t|  2.2911e-05     \t|  0.00012421     \t|\n",
      "|  [Strategy]SingleDeviceStrategy.on_test_end                                                                                                                                                      \t|  1.8017e-05     \t|  1              \t|  1.8017e-05     \t|  9.7673e-05     \t|\n",
      "|  [Callback]ModelSummary.on_test_end                                                                                                                                                              \t|  1.572e-05      \t|  1              \t|  1.572e-05      \t|  8.522e-05      \t|\n",
      "|  [Callback]ModelCheckpoint{'monitor': 'val_loss', 'mode': 'min', 'every_n_train_steps': 0, 'every_n_epochs': 1, 'train_time_interval': None, 'save_on_train_epoch_end': None}.setup              \t|  1.3214e-05     \t|  1              \t|  1.3214e-05     \t|  7.1636e-05     \t|\n",
      "|  [LightningModule]MonetDense.on_test_epoch_end                                                                                                                                                   \t|  9.201e-06      \t|  1              \t|  9.201e-06      \t|  4.9881e-05     \t|\n",
      "|  [Callback]TQDMProgressBar.teardown                                                                                                                                                              \t|  7.3761e-06     \t|  1              \t|  7.3761e-06     \t|  3.9987e-05     \t|\n",
      "|  [Callback]TQDMProgressBar.setup                                                                                                                                                                 \t|  7.3332e-06     \t|  1              \t|  7.3332e-06     \t|  3.9755e-05     \t|\n",
      "|  [LightningModule]MonetDense.configure_callbacks                                                                                                                                                 \t|  4.6478e-06     \t|  1              \t|  4.6478e-06     \t|  2.5197e-05     \t|\n",
      "|  [Callback]TQDMProgressBar.on_test_epoch_end                                                                                                                                                     \t|  4.5262e-06     \t|  1              \t|  4.5262e-06     \t|  2.4538e-05     \t|\n",
      "|  [LightningModule]MonetDense.test_epoch_end                                                                                                                                                      \t|  3.8482e-06     \t|  1              \t|  3.8482e-06     \t|  2.0862e-05     \t|\n",
      "|  [Callback]ModelSummary.teardown                                                                                                                                                                 \t|  3.3071e-06     \t|  1              \t|  3.3071e-06     \t|  1.7929e-05     \t|\n",
      "|  [Callback]GradientAccumulationScheduler.on_test_end                                                                                                                                             \t|  3.1851e-06     \t|  1              \t|  3.1851e-06     \t|  1.7267e-05     \t|\n",
      "|  [LightningModule]MonetDense.on_test_start                                                                                                                                                       \t|  2.9993e-06     \t|  1              \t|  2.9993e-06     \t|  1.626e-05      \t|\n",
      "|  [Callback]ModelCheckpoint{'monitor': 'val_loss', 'mode': 'min', 'every_n_train_steps': 0, 'every_n_epochs': 1, 'train_time_interval': None, 'save_on_train_epoch_end': True}.teardown           \t|  2.8843e-06     \t|  1              \t|  2.8843e-06     \t|  1.5636e-05     \t|\n",
      "|  [LightningModule]MonetDense.teardown                                                                                                                                                            \t|  2.8601e-06     \t|  1              \t|  2.8601e-06     \t|  1.5505e-05     \t|\n",
      "|  [Callback]ModelCheckpoint{'monitor': 'val_loss', 'mode': 'min', 'every_n_train_steps': 0, 'every_n_epochs': 1, 'train_time_interval': None, 'save_on_train_epoch_end': True}.on_test_end        \t|  2.7153e-06     \t|  1              \t|  2.7153e-06     \t|  1.472e-05      \t|\n",
      "|  [Callback]GradientAccumulationScheduler.teardown                                                                                                                                                \t|  2.6622e-06     \t|  1              \t|  2.6622e-06     \t|  1.4432e-05     \t|\n",
      "|  [Callback]ModelSummary.on_test_epoch_end                                                                                                                                                        \t|  2.6398e-06     \t|  1              \t|  2.6398e-06     \t|  1.4311e-05     \t|\n",
      "|  [Callback]ModelCheckpoint{'monitor': 'val_loss', 'mode': 'min', 'every_n_train_steps': 0, 'every_n_epochs': 1, 'train_time_interval': None, 'save_on_train_epoch_end': True}.on_test_epoch_end  \t|  2.393e-06      \t|  1              \t|  2.393e-06      \t|  1.2973e-05     \t|\n",
      "|  [Callback]GradientAccumulationScheduler.on_test_epoch_end                                                                                                                                       \t|  2.2477e-06     \t|  1              \t|  2.2477e-06     \t|  1.2186e-05     \t|\n",
      "|  [LightningModule]MonetDense.on_test_end                                                                                                                                                         \t|  2.1793e-06     \t|  1              \t|  2.1793e-06     \t|  1.1814e-05     \t|\n",
      "|  [Callback]ModelSummary.setup                                                                                                                                                                    \t|  1.8752e-06     \t|  1              \t|  1.8752e-06     \t|  1.0166e-05     \t|\n",
      "|  [LightningModule]MonetDense.setup                                                                                                                                                               \t|  1.5632e-06     \t|  1              \t|  1.5632e-06     \t|  8.4746e-06     \t|\n",
      "|  [Callback]TQDMProgressBar.on_test_epoch_start                                                                                                                                                   \t|  1.5497e-06     \t|  1              \t|  1.5497e-06     \t|  8.4014e-06     \t|\n",
      "|  [Callback]GradientAccumulationScheduler.on_test_start                                                                                                                                           \t|  1.4887e-06     \t|  1              \t|  1.4887e-06     \t|  8.0707e-06     \t|\n",
      "|  [LightningModule]MonetDense.prepare_data                                                                                                                                                        \t|  1.472e-06      \t|  1              \t|  1.472e-06      \t|  7.9798e-06     \t|\n",
      "|  [Callback]ModelCheckpoint{'monitor': 'val_loss', 'mode': 'min', 'every_n_train_steps': 0, 'every_n_epochs': 1, 'train_time_interval': None, 'save_on_train_epoch_end': True}.on_test_epoch_start\t|  1.437e-06      \t|  1              \t|  1.437e-06      \t|  7.7904e-06     \t|\n",
      "|  [Callback]ModelCheckpoint{'monitor': 'val_loss', 'mode': 'min', 'every_n_train_steps': 0, 'every_n_epochs': 1, 'train_time_interval': None, 'save_on_train_epoch_end': True}.on_test_start      \t|  1.2657e-06     \t|  1              \t|  1.2657e-06     \t|  6.8615e-06     \t|\n",
      "|  [Strategy]SingleDeviceStrategy.on_test_start                                                                                                                                                    \t|  1.1809e-06     \t|  1              \t|  1.1809e-06     \t|  6.402e-06      \t|\n",
      "|  [Callback]GradientAccumulationScheduler.setup                                                                                                                                                   \t|  1.18e-06       \t|  1              \t|  1.18e-06       \t|  6.397e-06      \t|\n",
      "|  [Callback]ModelSummary.on_test_epoch_start                                                                                                                                                      \t|  1.105e-06      \t|  1              \t|  1.105e-06      \t|  5.9905e-06     \t|\n",
      "|  [Callback]GradientAccumulationScheduler.on_test_epoch_start                                                                                                                                     \t|  1.0566e-06     \t|  1              \t|  1.0566e-06     \t|  5.728e-06      \t|\n",
      "|  [LightningModule]MonetDense.on_test_epoch_start                                                                                                                                                 \t|  1.0319e-06     \t|  1              \t|  1.0319e-06     \t|  5.5942e-06     \t|\n",
      "|  [LightningModule]MonetDense.configure_sharded_model                                                                                                                                             \t|  8.8802e-07     \t|  1              \t|  8.8802e-07     \t|  4.8141e-06     \t|\n",
      "----------------------------------------------------------------------------------------------------------------------------------------------------------------------------------------------------------------------------------------------------------------------------------------------------------\n",
      "\n"
     ]
    },
    {
     "name": "stdout",
     "output_type": "stream",
     "text": [
      "────────────────────────────────────────────────────────────────────────────────────────────────────────────────────────\n",
      "       Test metric             DataLoader 0\n",
      "────────────────────────────────────────────────────────────────────────────────────────────────────────────────────────\n",
      "        test_loss           0.3552498519420624\n",
      "     test_loss: mse         0.3552498519420624\n",
      "────────────────────────────────────────────────────────────────────────────────────────────────────────────────────────\n"
     ]
    },
    {
     "name": "stderr",
     "output_type": "stream",
     "text": [
      "100%|██████████████████████████████████████████████████████████████| 24/24 [00:20<00:00,  1.15it/s]\n",
      "GPU available: True (cuda), used: True\n",
      "TPU available: False, using: 0 TPU cores\n",
      "IPU available: False, using: 0 IPUs\n",
      "HPU available: False, using: 0 HPUs\n",
      "`Trainer(limit_train_batches=1.0)` was configured so 100% of the batches per epoch will be used..\n",
      "`Trainer(limit_val_batches=1.0)` was configured so 100% of the batches will be used..\n",
      "LOCAL_RANK: 0 - CUDA_VISIBLE_DEVICES: [5,6]\n"
     ]
    },
    {
     "data": {
      "application/vnd.jupyter.widget-view+json": {
       "model_id": "8f34c0ef0a404ddf89143d25f758dcf5",
       "version_major": 2,
       "version_minor": 0
      },
      "text/plain": [
       "Testing: 0it [00:00, ?it/s]"
      ]
     },
     "metadata": {},
     "output_type": "display_data"
    },
    {
     "name": "stderr",
     "output_type": "stream",
     "text": [
      "TEST Profiler Report\n",
      "\n",
      "----------------------------------------------------------------------------------------------------------------------------------------------------------------------------------------------------------------------------------------------------------------------------------------------------------\n",
      "|  Action                                                                                                                                                                                          \t|  Mean duration (s)\t|  Num calls      \t|  Total time (s) \t|  Percentage %   \t|\n",
      "----------------------------------------------------------------------------------------------------------------------------------------------------------------------------------------------------------------------------------------------------------------------------------------------------------\n",
      "|  Total                                                                                                                                                                                           \t|  -              \t|  471            \t|  18.342         \t|  100 %          \t|\n",
      "----------------------------------------------------------------------------------------------------------------------------------------------------------------------------------------------------------------------------------------------------------------------------------------------------------\n",
      "|  run_test_evaluation                                                                                                                                                                             \t|  18.167         \t|  1              \t|  18.167         \t|  99.043         \t|\n",
      "|  [Strategy]SingleDeviceStrategy.test_step                                                                                                                                                        \t|  0.57684        \t|  24             \t|  13.844         \t|  75.476         \t|\n",
      "|  [EvaluationEpochLoop].test_dataloader_idx_0_next                                                                                                                                                \t|  0.13386        \t|  24             \t|  3.2126         \t|  17.515         \t|\n",
      "|  [Callback]TQDMProgressBar.on_test_batch_end                                                                                                                                                     \t|  0.021062       \t|  24             \t|  0.50548        \t|  2.7558         \t|\n",
      "|  [Strategy]SingleDeviceStrategy.batch_to_device                                                                                                                                                  \t|  0.0089172      \t|  24             \t|  0.21401        \t|  1.1668         \t|\n",
      "|  [LightningModule]MonetDense.transfer_batch_to_device                                                                                                                                            \t|  0.0087925      \t|  24             \t|  0.21102        \t|  1.1505         \t|\n",
      "|  [Callback]TQDMProgressBar.on_test_start                                                                                                                                                         \t|  0.0092545      \t|  1              \t|  0.0092545      \t|  0.050454       \t|\n",
      "|  [Callback]TQDMProgressBar.on_test_batch_start                                                                                                                                                   \t|  0.00010429     \t|  24             \t|  0.002503       \t|  0.013646       \t|\n",
      "|  [Callback]TQDMProgressBar.on_test_end                                                                                                                                                           \t|  0.0014921      \t|  1              \t|  0.0014921      \t|  0.0081348      \t|\n",
      "|  [LightningModule]MonetDense.on_test_model_train                                                                                                                                                 \t|  0.00060677     \t|  1              \t|  0.00060677     \t|  0.003308       \t|\n",
      "|  [Callback]ModelSummary.on_test_batch_end                                                                                                                                                        \t|  8.5253e-06     \t|  24             \t|  0.00020461     \t|  0.0011155      \t|\n",
      "|  [LightningModule]MonetDense.on_before_batch_transfer                                                                                                                                            \t|  5.4898e-06     \t|  24             \t|  0.00013176     \t|  0.00071832     \t|\n",
      "|  [LightningModule]MonetDense.on_test_model_eval                                                                                                                                                  \t|  0.00012848     \t|  1              \t|  0.00012848     \t|  0.00070045     \t|\n",
      "|  [Callback]ModelSummary.on_test_batch_start                                                                                                                                                      \t|  4.2079e-06     \t|  24             \t|  0.00010099     \t|  0.00055058     \t|\n",
      "|  [LightningModule]MonetDense.test_step_end                                                                                                                                                       \t|  4.1893e-06     \t|  24             \t|  0.00010054     \t|  0.00054815     \t|\n",
      "|  [Callback]GradientAccumulationScheduler.on_test_batch_start                                                                                                                                     \t|  3.7519e-06     \t|  24             \t|  9.0044e-05     \t|  0.00049091     \t|\n",
      "|  [Callback]ModelCheckpoint{'monitor': 'val_loss', 'mode': 'min', 'every_n_train_steps': 0, 'every_n_epochs': 1, 'train_time_interval': None, 'save_on_train_epoch_end': True}.on_test_batch_end  \t|  3.4386e-06     \t|  24             \t|  8.2527e-05     \t|  0.00044993     \t|\n",
      "|  [LightningModule]MonetDense.on_after_batch_transfer                                                                                                                                             \t|  3.1969e-06     \t|  24             \t|  7.6726e-05     \t|  0.0004183      \t|\n",
      "|  [Callback]ModelCheckpoint{'monitor': 'val_loss', 'mode': 'min', 'every_n_train_steps': 0, 'every_n_epochs': 1, 'train_time_interval': None, 'save_on_train_epoch_end': True}.on_test_batch_start\t|  3.0684e-06     \t|  24             \t|  7.3642e-05     \t|  0.00040149     \t|\n",
      "|  [Callback]GradientAccumulationScheduler.on_test_batch_end                                                                                                                                       \t|  3.0613e-06     \t|  24             \t|  7.347e-05      \t|  0.00040055     \t|\n",
      "|  [LightningModule]MonetDense.on_test_batch_start                                                                                                                                                 \t|  3.0343e-06     \t|  24             \t|  7.2822e-05     \t|  0.00039702     \t|\n",
      "|  [LightningModule]MonetDense.on_test_batch_end                                                                                                                                                   \t|  2.8263e-06     \t|  24             \t|  6.7831e-05     \t|  0.00036981     \t|\n",
      "|  [Strategy]SingleDeviceStrategy.test_step_end                                                                                                                                                    \t|  1.6921e-06     \t|  24             \t|  4.0609e-05     \t|  0.0002214      \t|\n",
      "|  [Strategy]SingleDeviceStrategy.on_test_end                                                                                                                                                      \t|  2.1373e-05     \t|  1              \t|  2.1373e-05     \t|  0.00011652     \t|\n",
      "|  [Callback]ModelSummary.on_test_end                                                                                                                                                              \t|  1.9005e-05     \t|  1              \t|  1.9005e-05     \t|  0.00010361     \t|\n",
      "|  [LightningModule]MonetDense.on_test_epoch_end                                                                                                                                                   \t|  1.0124e-05     \t|  1              \t|  1.0124e-05     \t|  5.5194e-05     \t|\n",
      "|  [Callback]ModelCheckpoint{'monitor': 'val_loss', 'mode': 'min', 'every_n_train_steps': 0, 'every_n_epochs': 1, 'train_time_interval': None, 'save_on_train_epoch_end': None}.setup              \t|  7.6368e-06     \t|  1              \t|  7.6368e-06     \t|  4.1635e-05     \t|\n",
      "|  [Callback]TQDMProgressBar.teardown                                                                                                                                                              \t|  5.8762e-06     \t|  1              \t|  5.8762e-06     \t|  3.2036e-05     \t|\n",
      "|  [LightningModule]MonetDense.test_epoch_end                                                                                                                                                      \t|  5.5949e-06     \t|  1              \t|  5.5949e-06     \t|  3.0503e-05     \t|\n",
      "|  [Callback]TQDMProgressBar.on_test_epoch_end                                                                                                                                                     \t|  5.14e-06       \t|  1              \t|  5.14e-06       \t|  2.8022e-05     \t|\n",
      "|  [Callback]TQDMProgressBar.setup                                                                                                                                                                 \t|  3.8883e-06     \t|  1              \t|  3.8883e-06     \t|  2.1198e-05     \t|\n",
      "|  [Callback]ModelSummary.on_test_start                                                                                                                                                            \t|  3.5004e-06     \t|  1              \t|  3.5004e-06     \t|  1.9084e-05     \t|\n",
      "|  [Callback]ModelCheckpoint{'monitor': 'val_loss', 'mode': 'min', 'every_n_train_steps': 0, 'every_n_epochs': 1, 'train_time_interval': None, 'save_on_train_epoch_end': True}.on_test_end        \t|  3.3961e-06     \t|  1              \t|  3.3961e-06     \t|  1.8515e-05     \t|\n",
      "|  [Callback]GradientAccumulationScheduler.on_test_end                                                                                                                                             \t|  3.2219e-06     \t|  1              \t|  3.2219e-06     \t|  1.7565e-05     \t|\n",
      "|  [Callback]ModelSummary.on_test_epoch_end                                                                                                                                                        \t|  3.18e-06       \t|  1              \t|  3.18e-06       \t|  1.7337e-05     \t|\n",
      "|  [Callback]ModelCheckpoint{'monitor': 'val_loss', 'mode': 'min', 'every_n_train_steps': 0, 'every_n_epochs': 1, 'train_time_interval': None, 'save_on_train_epoch_end': True}.on_test_epoch_end  \t|  2.8098e-06     \t|  1              \t|  2.8098e-06     \t|  1.5319e-05     \t|\n",
      "|  [Callback]GradientAccumulationScheduler.on_test_epoch_end                                                                                                                                       \t|  2.7497e-06     \t|  1              \t|  2.7497e-06     \t|  1.4991e-05     \t|\n",
      "|  [LightningModule]MonetDense.on_test_end                                                                                                                                                         \t|  2.5961e-06     \t|  1              \t|  2.5961e-06     \t|  1.4153e-05     \t|\n",
      "|  [Callback]ModelSummary.teardown                                                                                                                                                                 \t|  2.4741e-06     \t|  1              \t|  2.4741e-06     \t|  1.3488e-05     \t|\n",
      "|  [Callback]ModelCheckpoint{'monitor': 'val_loss', 'mode': 'min', 'every_n_train_steps': 0, 'every_n_epochs': 1, 'train_time_interval': None, 'save_on_train_epoch_end': True}.teardown           \t|  2.2491e-06     \t|  1              \t|  2.2491e-06     \t|  1.2262e-05     \t|\n",
      "|  [Callback]GradientAccumulationScheduler.teardown                                                                                                                                                \t|  2.1537e-06     \t|  1              \t|  2.1537e-06     \t|  1.1742e-05     \t|\n",
      "|  [LightningModule]MonetDense.teardown                                                                                                                                                            \t|  2.1309e-06     \t|  1              \t|  2.1309e-06     \t|  1.1617e-05     \t|\n",
      "|  [LightningModule]MonetDense.configure_callbacks                                                                                                                                                 \t|  2.1039e-06     \t|  1              \t|  2.1039e-06     \t|  1.147e-05      \t|\n",
      "|  [Callback]ModelSummary.setup                                                                                                                                                                    \t|  1.5083e-06     \t|  1              \t|  1.5083e-06     \t|  8.2229e-06     \t|\n",
      "|  [Callback]TQDMProgressBar.on_test_epoch_start                                                                                                                                                   \t|  1.4226e-06     \t|  1              \t|  1.4226e-06     \t|  7.7558e-06     \t|\n",
      "|  [LightningModule]MonetDense.setup                                                                                                                                                               \t|  1.2331e-06     \t|  1              \t|  1.2331e-06     \t|  6.7225e-06     \t|\n",
      "|  [Callback]GradientAccumulationScheduler.on_test_start                                                                                                                                           \t|  1.214e-06      \t|  1              \t|  1.214e-06      \t|  6.6184e-06     \t|\n",
      "|  [LightningModule]MonetDense.prepare_data                                                                                                                                                        \t|  1.2037e-06     \t|  1              \t|  1.2037e-06     \t|  6.5626e-06     \t|\n",
      "|  [Callback]ModelCheckpoint{'monitor': 'val_loss', 'mode': 'min', 'every_n_train_steps': 0, 'every_n_epochs': 1, 'train_time_interval': None, 'save_on_train_epoch_end': True}.on_test_epoch_start\t|  1.1651e-06     \t|  1              \t|  1.1651e-06     \t|  6.3519e-06     \t|\n",
      "|  [Strategy]SingleDeviceStrategy.on_test_start                                                                                                                                                    \t|  1.1618e-06     \t|  1              \t|  1.1618e-06     \t|  6.3341e-06     \t|\n",
      "|  [Callback]ModelCheckpoint{'monitor': 'val_loss', 'mode': 'min', 'every_n_train_steps': 0, 'every_n_epochs': 1, 'train_time_interval': None, 'save_on_train_epoch_end': True}.on_test_start      \t|  1.16e-06       \t|  1              \t|  1.16e-06       \t|  6.324e-06      \t|\n",
      "|  [Callback]GradientAccumulationScheduler.setup                                                                                                                                                   \t|  1.0999e-06     \t|  1              \t|  1.0999e-06     \t|  5.9965e-06     \t|\n",
      "|  [Callback]ModelSummary.on_test_epoch_start                                                                                                                                                      \t|  1.0771e-06     \t|  1              \t|  1.0771e-06     \t|  5.8721e-06     \t|\n",
      "|  [LightningModule]MonetDense.on_test_start                                                                                                                                                       \t|  1.0328e-06     \t|  1              \t|  1.0328e-06     \t|  5.6309e-06     \t|\n",
      "|  [Callback]GradientAccumulationScheduler.on_test_epoch_start                                                                                                                                     \t|  9.8068e-07     \t|  1              \t|  9.8068e-07     \t|  5.3465e-06     \t|\n",
      "|  [LightningModule]MonetDense.configure_sharded_model                                                                                                                                             \t|  7.9768e-07     \t|  1              \t|  7.9768e-07     \t|  4.3488e-06     \t|\n",
      "|  [LightningModule]MonetDense.on_test_epoch_start                                                                                                                                                 \t|  7.6508e-07     \t|  1              \t|  7.6508e-07     \t|  4.1711e-06     \t|\n",
      "----------------------------------------------------------------------------------------------------------------------------------------------------------------------------------------------------------------------------------------------------------------------------------------------------------\n",
      "\n"
     ]
    },
    {
     "name": "stdout",
     "output_type": "stream",
     "text": [
      "────────────────────────────────────────────────────────────────────────────────────────────────────────────────────────\n",
      "       Test metric             DataLoader 0\n",
      "────────────────────────────────────────────────────────────────────────────────────────────────────────────────────────\n",
      "        test_loss           0.3512137532234192\n",
      "     test_loss: mse         0.3512137532234192\n",
      "────────────────────────────────────────────────────────────────────────────────────────────────────────────────────────\n"
     ]
    },
    {
     "name": "stderr",
     "output_type": "stream",
     "text": [
      "100%|██████████████████████████████████████████████████████████████| 24/24 [00:20<00:00,  1.16it/s]\n",
      "GPU available: True (cuda), used: True\n",
      "TPU available: False, using: 0 TPU cores\n",
      "IPU available: False, using: 0 IPUs\n",
      "HPU available: False, using: 0 HPUs\n",
      "`Trainer(limit_train_batches=1.0)` was configured so 100% of the batches per epoch will be used..\n",
      "`Trainer(limit_val_batches=1.0)` was configured so 100% of the batches will be used..\n",
      "LOCAL_RANK: 0 - CUDA_VISIBLE_DEVICES: [5,6]\n"
     ]
    },
    {
     "data": {
      "application/vnd.jupyter.widget-view+json": {
       "model_id": "5217b6079f99494a962ed1c2f749d0c5",
       "version_major": 2,
       "version_minor": 0
      },
      "text/plain": [
       "Testing: 0it [00:00, ?it/s]"
      ]
     },
     "metadata": {},
     "output_type": "display_data"
    },
    {
     "name": "stderr",
     "output_type": "stream",
     "text": [
      "TEST Profiler Report\n",
      "\n",
      "----------------------------------------------------------------------------------------------------------------------------------------------------------------------------------------------------------------------------------------------------------------------------------------------------------\n",
      "|  Action                                                                                                                                                                                          \t|  Mean duration (s)\t|  Num calls      \t|  Total time (s) \t|  Percentage %   \t|\n",
      "----------------------------------------------------------------------------------------------------------------------------------------------------------------------------------------------------------------------------------------------------------------------------------------------------------\n",
      "|  Total                                                                                                                                                                                           \t|  -              \t|  471            \t|  18.805         \t|  100 %          \t|\n",
      "----------------------------------------------------------------------------------------------------------------------------------------------------------------------------------------------------------------------------------------------------------------------------------------------------------\n",
      "|  run_test_evaluation                                                                                                                                                                             \t|  18.62          \t|  1              \t|  18.62          \t|  99.016         \t|\n",
      "|  [Strategy]SingleDeviceStrategy.test_step                                                                                                                                                        \t|  0.59189        \t|  24             \t|  14.205         \t|  75.54          \t|\n",
      "|  [EvaluationEpochLoop].test_dataloader_idx_0_next                                                                                                                                                \t|  0.13179        \t|  24             \t|  3.1629         \t|  16.82          \t|\n",
      "|  [Callback]TQDMProgressBar.on_test_batch_end                                                                                                                                                     \t|  0.020562       \t|  24             \t|  0.4935         \t|  2.6243         \t|\n",
      "|  [Strategy]SingleDeviceStrategy.batch_to_device                                                                                                                                                  \t|  0.012014       \t|  24             \t|  0.28833        \t|  1.5333         \t|\n",
      "|  [LightningModule]MonetDense.transfer_batch_to_device                                                                                                                                            \t|  0.011885       \t|  24             \t|  0.28523        \t|  1.5168         \t|\n",
      "|  [Callback]TQDMProgressBar.on_test_start                                                                                                                                                         \t|  0.010766       \t|  1              \t|  0.010766       \t|  0.057249       \t|\n",
      "|  [Callback]TQDMProgressBar.on_test_batch_start                                                                                                                                                   \t|  0.00014485     \t|  24             \t|  0.0034764      \t|  0.018486       \t|\n",
      "|  [Callback]TQDMProgressBar.on_test_end                                                                                                                                                           \t|  0.0013379      \t|  1              \t|  0.0013379      \t|  0.0071144      \t|\n",
      "|  [LightningModule]MonetDense.on_test_model_train                                                                                                                                                 \t|  0.00044956     \t|  1              \t|  0.00044956     \t|  0.0023907      \t|\n",
      "|  [Callback]ModelSummary.on_test_batch_end                                                                                                                                                        \t|  8.7203e-06     \t|  24             \t|  0.00020929     \t|  0.0011129      \t|\n",
      "|  [LightningModule]MonetDense.on_test_model_eval                                                                                                                                                  \t|  0.00020603     \t|  1              \t|  0.00020603     \t|  0.0010956      \t|\n",
      "|  [LightningModule]MonetDense.on_before_batch_transfer                                                                                                                                            \t|  6.0683e-06     \t|  24             \t|  0.00014564     \t|  0.00077446     \t|\n",
      "|  [Callback]ModelSummary.on_test_batch_start                                                                                                                                                      \t|  4.3044e-06     \t|  24             \t|  0.00010331     \t|  0.00054935     \t|\n",
      "|  [LightningModule]MonetDense.test_step_end                                                                                                                                                       \t|  4.03e-06       \t|  24             \t|  9.672e-05      \t|  0.00051433     \t|\n",
      "|  [LightningModule]MonetDense.on_after_batch_transfer                                                                                                                                             \t|  3.6945e-06     \t|  24             \t|  8.8669e-05     \t|  0.00047151     \t|\n",
      "|  [Callback]GradientAccumulationScheduler.on_test_batch_start                                                                                                                                     \t|  3.6725e-06     \t|  24             \t|  8.8139e-05     \t|  0.0004687      \t|\n",
      "|  [Callback]ModelCheckpoint{'monitor': 'val_loss', 'mode': 'min', 'every_n_train_steps': 0, 'every_n_epochs': 1, 'train_time_interval': None, 'save_on_train_epoch_end': True}.on_test_batch_end  \t|  3.1321e-06     \t|  24             \t|  7.517e-05      \t|  0.00039973     \t|\n",
      "|  [LightningModule]MonetDense.on_test_batch_start                                                                                                                                                 \t|  3.0468e-06     \t|  24             \t|  7.3124e-05     \t|  0.00038885     \t|\n",
      "|  [Callback]ModelCheckpoint{'monitor': 'val_loss', 'mode': 'min', 'every_n_train_steps': 0, 'every_n_epochs': 1, 'train_time_interval': None, 'save_on_train_epoch_end': True}.on_test_batch_start\t|  2.9675e-06     \t|  24             \t|  7.1219e-05     \t|  0.00037872     \t|\n",
      "|  [Callback]GradientAccumulationScheduler.on_test_batch_end                                                                                                                                       \t|  2.8941e-06     \t|  24             \t|  6.9459e-05     \t|  0.00036936     \t|\n",
      "|  [LightningModule]MonetDense.on_test_batch_end                                                                                                                                                   \t|  2.8083e-06     \t|  24             \t|  6.74e-05       \t|  0.00035841     \t|\n",
      "|  [Strategy]SingleDeviceStrategy.test_step_end                                                                                                                                                    \t|  1.9565e-06     \t|  24             \t|  4.6956e-05     \t|  0.0002497      \t|\n",
      "|  [Strategy]SingleDeviceStrategy.on_test_end                                                                                                                                                      \t|  1.4517e-05     \t|  1              \t|  1.4517e-05     \t|  7.7197e-05     \t|\n",
      "|  [Callback]ModelSummary.on_test_end                                                                                                                                                              \t|  1.3889e-05     \t|  1              \t|  1.3889e-05     \t|  7.3859e-05     \t|\n",
      "|  [Callback]ModelCheckpoint{'monitor': 'val_loss', 'mode': 'min', 'every_n_train_steps': 0, 'every_n_epochs': 1, 'train_time_interval': None, 'save_on_train_epoch_end': None}.setup              \t|  1.1631e-05     \t|  1              \t|  1.1631e-05     \t|  6.1852e-05     \t|\n",
      "|  [LightningModule]MonetDense.on_test_epoch_end                                                                                                                                                   \t|  8.0112e-06     \t|  1              \t|  8.0112e-06     \t|  4.2601e-05     \t|\n",
      "|  [Callback]TQDMProgressBar.teardown                                                                                                                                                              \t|  5.9213e-06     \t|  1              \t|  5.9213e-06     \t|  3.1488e-05     \t|\n",
      "|  [Callback]TQDMProgressBar.setup                                                                                                                                                                 \t|  4.9262e-06     \t|  1              \t|  4.9262e-06     \t|  2.6196e-05     \t|\n",
      "|  [Callback]ModelSummary.on_test_start                                                                                                                                                            \t|  4.7237e-06     \t|  1              \t|  4.7237e-06     \t|  2.5119e-05     \t|\n",
      "|  [Callback]TQDMProgressBar.on_test_epoch_end                                                                                                                                                     \t|  4.2012e-06     \t|  1              \t|  4.2012e-06     \t|  2.2341e-05     \t|\n",
      "|  [LightningModule]MonetDense.test_epoch_end                                                                                                                                                      \t|  4.034e-06      \t|  1              \t|  4.034e-06      \t|  2.1452e-05     \t|\n",
      "|  [LightningModule]MonetDense.configure_callbacks                                                                                                                                                 \t|  3.7169e-06     \t|  1              \t|  3.7169e-06     \t|  1.9765e-05     \t|\n",
      "|  [Callback]GradientAccumulationScheduler.on_test_end                                                                                                                                             \t|  2.7348e-06     \t|  1              \t|  2.7348e-06     \t|  1.4543e-05     \t|\n",
      "|  [Callback]ModelSummary.on_test_epoch_end                                                                                                                                                        \t|  2.5081e-06     \t|  1              \t|  2.5081e-06     \t|  1.3337e-05     \t|\n",
      "|  [Callback]ModelSummary.setup                                                                                                                                                                    \t|  2.5039e-06     \t|  1              \t|  2.5039e-06     \t|  1.3315e-05     \t|\n",
      "|  [Callback]ModelSummary.teardown                                                                                                                                                                 \t|  2.448e-06      \t|  1              \t|  2.448e-06      \t|  1.3018e-05     \t|\n",
      "|  [Callback]ModelCheckpoint{'monitor': 'val_loss', 'mode': 'min', 'every_n_train_steps': 0, 'every_n_epochs': 1, 'train_time_interval': None, 'save_on_train_epoch_end': True}.on_test_epoch_end  \t|  2.264e-06      \t|  1              \t|  2.264e-06      \t|  1.204e-05      \t|\n",
      "|  [LightningModule]MonetDense.teardown                                                                                                                                                            \t|  2.258e-06      \t|  1              \t|  2.258e-06      \t|  1.2007e-05     \t|\n",
      "|  [Callback]ModelCheckpoint{'monitor': 'val_loss', 'mode': 'min', 'every_n_train_steps': 0, 'every_n_epochs': 1, 'train_time_interval': None, 'save_on_train_epoch_end': True}.on_test_end        \t|  2.2291e-06     \t|  1              \t|  2.2291e-06     \t|  1.1854e-05     \t|\n",
      "|  [LightningModule]MonetDense.prepare_data                                                                                                                                                        \t|  2.1523e-06     \t|  1              \t|  2.1523e-06     \t|  1.1445e-05     \t|\n",
      "|  [Callback]GradientAccumulationScheduler.setup                                                                                                                                                   \t|  2.1211e-06     \t|  1              \t|  2.1211e-06     \t|  1.1279e-05     \t|\n",
      "|  [Callback]GradientAccumulationScheduler.on_test_epoch_end                                                                                                                                       \t|  2.0219e-06     \t|  1              \t|  2.0219e-06     \t|  1.0752e-05     \t|\n",
      "|  [LightningModule]MonetDense.setup                                                                                                                                                               \t|  1.9637e-06     \t|  1              \t|  1.9637e-06     \t|  1.0442e-05     \t|\n",
      "|  [Callback]ModelCheckpoint{'monitor': 'val_loss', 'mode': 'min', 'every_n_train_steps': 0, 'every_n_epochs': 1, 'train_time_interval': None, 'save_on_train_epoch_end': True}.teardown           \t|  1.9548e-06     \t|  1              \t|  1.9548e-06     \t|  1.0395e-05     \t|\n",
      "|  [LightningModule]MonetDense.on_test_end                                                                                                                                                         \t|  1.8799e-06     \t|  1              \t|  1.8799e-06     \t|  9.9966e-06     \t|\n",
      "|  [Callback]GradientAccumulationScheduler.teardown                                                                                                                                                \t|  1.8752e-06     \t|  1              \t|  1.8752e-06     \t|  9.9718e-06     \t|\n",
      "|  [LightningModule]MonetDense.configure_sharded_model                                                                                                                                             \t|  1.7593e-06     \t|  1              \t|  1.7593e-06     \t|  9.3553e-06     \t|\n",
      "|  [Callback]GradientAccumulationScheduler.on_test_start                                                                                                                                           \t|  1.4422e-06     \t|  1              \t|  1.4422e-06     \t|  7.6689e-06     \t|\n",
      "|  [Callback]TQDMProgressBar.on_test_epoch_start                                                                                                                                                   \t|  1.4328e-06     \t|  1              \t|  1.4328e-06     \t|  7.6194e-06     \t|\n",
      "|  [Callback]ModelCheckpoint{'monitor': 'val_loss', 'mode': 'min', 'every_n_train_steps': 0, 'every_n_epochs': 1, 'train_time_interval': None, 'save_on_train_epoch_end': True}.on_test_start      \t|  1.2424e-06     \t|  1              \t|  1.2424e-06     \t|  6.6066e-06     \t|\n",
      "|  [LightningModule]MonetDense.on_test_start                                                                                                                                                       \t|  1.234e-06      \t|  1              \t|  1.234e-06      \t|  6.5621e-06     \t|\n",
      "|  [Callback]ModelCheckpoint{'monitor': 'val_loss', 'mode': 'min', 'every_n_train_steps': 0, 'every_n_epochs': 1, 'train_time_interval': None, 'save_on_train_epoch_end': True}.on_test_epoch_start\t|  1.2e-06        \t|  1              \t|  1.2e-06        \t|  6.3813e-06     \t|\n",
      "|  [Callback]ModelSummary.on_test_epoch_start                                                                                                                                                      \t|  1.1311e-06     \t|  1              \t|  1.1311e-06     \t|  6.0148e-06     \t|\n",
      "|  [Callback]GradientAccumulationScheduler.on_test_epoch_start                                                                                                                                     \t|  9.9605e-07     \t|  1              \t|  9.9605e-07     \t|  5.2967e-06     \t|\n",
      "|  [Strategy]SingleDeviceStrategy.on_test_start                                                                                                                                                    \t|  9.9512e-07     \t|  1              \t|  9.9512e-07     \t|  5.2917e-06     \t|\n",
      "|  [LightningModule]MonetDense.on_test_epoch_start                                                                                                                                                 \t|  8.8802e-07     \t|  1              \t|  8.8802e-07     \t|  4.7222e-06     \t|\n",
      "----------------------------------------------------------------------------------------------------------------------------------------------------------------------------------------------------------------------------------------------------------------------------------------------------------\n",
      "\n"
     ]
    },
    {
     "name": "stdout",
     "output_type": "stream",
     "text": [
      "────────────────────────────────────────────────────────────────────────────────────────────────────────────────────────\n",
      "       Test metric             DataLoader 0\n",
      "────────────────────────────────────────────────────────────────────────────────────────────────────────────────────────\n",
      "        test_loss           0.3464793562889099\n",
      "     test_loss: mse         0.3464793562889099\n",
      "────────────────────────────────────────────────────────────────────────────────────────────────────────────────────────\n"
     ]
    },
    {
     "name": "stderr",
     "output_type": "stream",
     "text": [
      "100%|██████████████████████████████████████████████████████████████| 24/24 [00:20<00:00,  1.16it/s]\n",
      "GPU available: True (cuda), used: True\n",
      "TPU available: False, using: 0 TPU cores\n",
      "IPU available: False, using: 0 IPUs\n",
      "HPU available: False, using: 0 HPUs\n",
      "`Trainer(limit_train_batches=1.0)` was configured so 100% of the batches per epoch will be used..\n",
      "`Trainer(limit_val_batches=1.0)` was configured so 100% of the batches will be used..\n",
      "LOCAL_RANK: 0 - CUDA_VISIBLE_DEVICES: [5,6]\n"
     ]
    },
    {
     "data": {
      "application/vnd.jupyter.widget-view+json": {
       "model_id": "b8f054aa932d43a7b0113b743734b089",
       "version_major": 2,
       "version_minor": 0
      },
      "text/plain": [
       "Testing: 0it [00:00, ?it/s]"
      ]
     },
     "metadata": {},
     "output_type": "display_data"
    },
    {
     "name": "stderr",
     "output_type": "stream",
     "text": [
      "TEST Profiler Report\n",
      "\n",
      "----------------------------------------------------------------------------------------------------------------------------------------------------------------------------------------------------------------------------------------------------------------------------------------------------------\n",
      "|  Action                                                                                                                                                                                          \t|  Mean duration (s)\t|  Num calls      \t|  Total time (s) \t|  Percentage %   \t|\n",
      "----------------------------------------------------------------------------------------------------------------------------------------------------------------------------------------------------------------------------------------------------------------------------------------------------------\n",
      "|  Total                                                                                                                                                                                           \t|  -              \t|  471            \t|  20.831         \t|  100 %          \t|\n",
      "----------------------------------------------------------------------------------------------------------------------------------------------------------------------------------------------------------------------------------------------------------------------------------------------------------\n",
      "|  run_test_evaluation                                                                                                                                                                             \t|  20.623         \t|  1              \t|  20.623         \t|  98.998         \t|\n",
      "|  [Strategy]SingleDeviceStrategy.test_step                                                                                                                                                        \t|  0.65881        \t|  24             \t|  15.812         \t|  75.902         \t|\n",
      "|  [EvaluationEpochLoop].test_dataloader_idx_0_next                                                                                                                                                \t|  0.15864        \t|  24             \t|  3.8075         \t|  18.278         \t|\n",
      "|  [Callback]TQDMProgressBar.on_test_batch_end                                                                                                                                                     \t|  0.022802       \t|  24             \t|  0.54724        \t|  2.627          \t|\n",
      "|  [Strategy]SingleDeviceStrategy.batch_to_device                                                                                                                                                  \t|  0.0053565      \t|  24             \t|  0.12855        \t|  0.61712        \t|\n",
      "|  [LightningModule]MonetDense.transfer_batch_to_device                                                                                                                                            \t|  0.0052158      \t|  24             \t|  0.12518        \t|  0.60091        \t|\n",
      "|  [Callback]TQDMProgressBar.on_test_start                                                                                                                                                         \t|  0.0097929      \t|  1              \t|  0.0097929      \t|  0.04701        \t|\n",
      "|  [Callback]TQDMProgressBar.on_test_batch_start                                                                                                                                                   \t|  0.00013169     \t|  24             \t|  0.0031607      \t|  0.015173       \t|\n",
      "|  [Callback]TQDMProgressBar.on_test_end                                                                                                                                                           \t|  0.0021534      \t|  1              \t|  0.0021534      \t|  0.010337       \t|\n",
      "|  [LightningModule]MonetDense.on_test_model_train                                                                                                                                                 \t|  0.00060647     \t|  1              \t|  0.00060647     \t|  0.0029113      \t|\n",
      "|  [Callback]ModelSummary.on_test_batch_end                                                                                                                                                        \t|  1.0292e-05     \t|  24             \t|  0.000247       \t|  0.0011857      \t|\n",
      "|  [LightningModule]MonetDense.on_before_batch_transfer                                                                                                                                            \t|  6.5227e-06     \t|  24             \t|  0.00015654     \t|  0.00075148     \t|\n",
      "|  [LightningModule]MonetDense.on_test_model_eval                                                                                                                                                  \t|  0.00013917     \t|  1              \t|  0.00013917     \t|  0.00066806     \t|\n",
      "|  [LightningModule]MonetDense.test_step_end                                                                                                                                                       \t|  5.0975e-06     \t|  24             \t|  0.00012234     \t|  0.00058728     \t|\n",
      "|  [Callback]ModelSummary.on_test_batch_start                                                                                                                                                      \t|  4.8635e-06     \t|  24             \t|  0.00011672     \t|  0.00056033     \t|\n",
      "|  [Callback]GradientAccumulationScheduler.on_test_batch_start                                                                                                                                     \t|  4.721e-06      \t|  24             \t|  0.0001133      \t|  0.00054391     \t|\n",
      "|  [LightningModule]MonetDense.on_test_batch_start                                                                                                                                                 \t|  4.0825e-06     \t|  24             \t|  9.7979e-05     \t|  0.00047034     \t|\n",
      "|  [LightningModule]MonetDense.on_test_batch_end                                                                                                                                                   \t|  4.0054e-06     \t|  24             \t|  9.6131e-05     \t|  0.00046147     \t|\n",
      "|  [Callback]ModelCheckpoint{'monitor': 'val_loss', 'mode': 'min', 'every_n_train_steps': 0, 'every_n_epochs': 1, 'train_time_interval': None, 'save_on_train_epoch_end': True}.on_test_batch_end  \t|  3.9333e-06     \t|  24             \t|  9.4399e-05     \t|  0.00045316     \t|\n",
      "|  [Callback]GradientAccumulationScheduler.on_test_batch_end                                                                                                                                       \t|  3.8174e-06     \t|  24             \t|  9.1617e-05     \t|  0.0004398      \t|\n",
      "|  [LightningModule]MonetDense.on_after_batch_transfer                                                                                                                                             \t|  3.759e-06      \t|  24             \t|  9.0216e-05     \t|  0.00043308     \t|\n",
      "|  [Callback]ModelCheckpoint{'monitor': 'val_loss', 'mode': 'min', 'every_n_train_steps': 0, 'every_n_epochs': 1, 'train_time_interval': None, 'save_on_train_epoch_end': True}.on_test_batch_start\t|  3.7265e-06     \t|  24             \t|  8.9436e-05     \t|  0.00042933     \t|\n",
      "|  [Strategy]SingleDeviceStrategy.test_step_end                                                                                                                                                    \t|  2.227e-06      \t|  24             \t|  5.3449e-05     \t|  0.00025658     \t|\n",
      "|  [Strategy]SingleDeviceStrategy.on_test_end                                                                                                                                                      \t|  1.9808e-05     \t|  1              \t|  1.9808e-05     \t|  9.5086e-05     \t|\n",
      "|  [Callback]ModelSummary.on_test_end                                                                                                                                                              \t|  1.8985e-05     \t|  1              \t|  1.8985e-05     \t|  9.1137e-05     \t|\n",
      "|  [LightningModule]MonetDense.on_test_epoch_end                                                                                                                                                   \t|  1.783e-05      \t|  1              \t|  1.783e-05      \t|  8.5593e-05     \t|\n",
      "|  [Callback]TQDMProgressBar.teardown                                                                                                                                                              \t|  9.9852e-06     \t|  1              \t|  9.9852e-06     \t|  4.7933e-05     \t|\n",
      "|  [Callback]ModelCheckpoint{'monitor': 'val_loss', 'mode': 'min', 'every_n_train_steps': 0, 'every_n_epochs': 1, 'train_time_interval': None, 'save_on_train_epoch_end': None}.setup              \t|  7.208e-06      \t|  1              \t|  7.208e-06      \t|  3.4601e-05     \t|\n",
      "|  [LightningModule]MonetDense.test_epoch_end                                                                                                                                                      \t|  6.1449e-06     \t|  1              \t|  6.1449e-06     \t|  2.9498e-05     \t|\n",
      "|  [Callback]TQDMProgressBar.on_test_epoch_end                                                                                                                                                     \t|  5.6201e-06     \t|  1              \t|  5.6201e-06     \t|  2.6979e-05     \t|\n",
      "|  [Callback]ModelSummary.teardown                                                                                                                                                                 \t|  5.0943e-06     \t|  1              \t|  5.0943e-06     \t|  2.4455e-05     \t|\n",
      "|  [Callback]ModelCheckpoint{'monitor': 'val_loss', 'mode': 'min', 'every_n_train_steps': 0, 'every_n_epochs': 1, 'train_time_interval': None, 'save_on_train_epoch_end': True}.teardown           \t|  4.6119e-06     \t|  1              \t|  4.6119e-06     \t|  2.2139e-05     \t|\n",
      "|  [Callback]GradientAccumulationScheduler.on_test_end                                                                                                                                             \t|  4.5639e-06     \t|  1              \t|  4.5639e-06     \t|  2.1909e-05     \t|\n",
      "|  [Callback]GradientAccumulationScheduler.teardown                                                                                                                                                \t|  4.1462e-06     \t|  1              \t|  4.1462e-06     \t|  1.9904e-05     \t|\n",
      "|  [Callback]TQDMProgressBar.setup                                                                                                                                                                 \t|  4.1267e-06     \t|  1              \t|  4.1267e-06     \t|  1.981e-05      \t|\n",
      "|  [Callback]ModelSummary.on_test_epoch_end                                                                                                                                                        \t|  3.7919e-06     \t|  1              \t|  3.7919e-06     \t|  1.8203e-05     \t|\n",
      "|  [LightningModule]MonetDense.teardown                                                                                                                                                            \t|  3.79e-06       \t|  1              \t|  3.79e-06       \t|  1.8194e-05     \t|\n",
      "|  [Callback]ModelCheckpoint{'monitor': 'val_loss', 'mode': 'min', 'every_n_train_steps': 0, 'every_n_epochs': 1, 'train_time_interval': None, 'save_on_train_epoch_end': True}.on_test_end        \t|  3.6918e-06     \t|  1              \t|  3.6918e-06     \t|  1.7722e-05     \t|\n",
      "|  [Callback]ModelCheckpoint{'monitor': 'val_loss', 'mode': 'min', 'every_n_train_steps': 0, 'every_n_epochs': 1, 'train_time_interval': None, 'save_on_train_epoch_end': True}.on_test_epoch_end  \t|  3.4887e-06     \t|  1              \t|  3.4887e-06     \t|  1.6747e-05     \t|\n",
      "|  [Callback]ModelSummary.on_test_start                                                                                                                                                            \t|  3.4561e-06     \t|  1              \t|  3.4561e-06     \t|  1.6591e-05     \t|\n",
      "|  [Callback]GradientAccumulationScheduler.on_test_epoch_end                                                                                                                                       \t|  3.1833e-06     \t|  1              \t|  3.1833e-06     \t|  1.5281e-05     \t|\n",
      "|  [LightningModule]MonetDense.on_test_end                                                                                                                                                         \t|  2.9379e-06     \t|  1              \t|  2.9379e-06     \t|  1.4103e-05     \t|\n",
      "|  [LightningModule]MonetDense.configure_callbacks                                                                                                                                                 \t|  2.3111e-06     \t|  1              \t|  2.3111e-06     \t|  1.1094e-05     \t|\n",
      "|  [Callback]ModelSummary.setup                                                                                                                                                                    \t|  1.6452e-06     \t|  1              \t|  1.6452e-06     \t|  7.8976e-06     \t|\n",
      "|  [Callback]TQDMProgressBar.on_test_epoch_start                                                                                                                                                   \t|  1.472e-06      \t|  1              \t|  1.472e-06      \t|  7.066e-06      \t|\n",
      "|  [LightningModule]MonetDense.prepare_data                                                                                                                                                        \t|  1.3411e-06     \t|  1              \t|  1.3411e-06     \t|  6.4379e-06     \t|\n",
      "|  [LightningModule]MonetDense.on_test_start                                                                                                                                                       \t|  1.3141e-06     \t|  1              \t|  1.3141e-06     \t|  6.3082e-06     \t|\n",
      "|  [Callback]GradientAccumulationScheduler.on_test_start                                                                                                                                           \t|  1.282e-06      \t|  1              \t|  1.282e-06      \t|  6.154e-06      \t|\n",
      "|  [Callback]ModelCheckpoint{'monitor': 'val_loss', 'mode': 'min', 'every_n_train_steps': 0, 'every_n_epochs': 1, 'train_time_interval': None, 'save_on_train_epoch_end': True}.on_test_start      \t|  1.2279e-06     \t|  1              \t|  1.2279e-06     \t|  5.8947e-06     \t|\n",
      "|  [LightningModule]MonetDense.setup                                                                                                                                                               \t|  1.221e-06      \t|  1              \t|  1.221e-06      \t|  5.8612e-06     \t|\n",
      "|  [Callback]ModelCheckpoint{'monitor': 'val_loss', 'mode': 'min', 'every_n_train_steps': 0, 'every_n_epochs': 1, 'train_time_interval': None, 'save_on_train_epoch_end': True}.on_test_epoch_start\t|  1.1818e-06     \t|  1              \t|  1.1818e-06     \t|  5.6734e-06     \t|\n",
      "|  [Callback]ModelSummary.on_test_epoch_start                                                                                                                                                      \t|  1.0091e-06     \t|  1              \t|  1.0091e-06     \t|  4.8441e-06     \t|\n",
      "|  [Callback]GradientAccumulationScheduler.on_test_epoch_start                                                                                                                                     \t|  9.858e-07      \t|  1              \t|  9.858e-07      \t|  4.7323e-06     \t|\n",
      "|  [Callback]GradientAccumulationScheduler.setup                                                                                                                                                   \t|  9.8394e-07     \t|  1              \t|  9.8394e-07     \t|  4.7234e-06     \t|\n",
      "|  [Strategy]SingleDeviceStrategy.on_test_start                                                                                                                                                    \t|  9.5181e-07     \t|  1              \t|  9.5181e-07     \t|  4.5691e-06     \t|\n",
      "|  [LightningModule]MonetDense.on_test_epoch_start                                                                                                                                                 \t|  9.0711e-07     \t|  1              \t|  9.0711e-07     \t|  4.3545e-06     \t|\n",
      "|  [LightningModule]MonetDense.configure_sharded_model                                                                                                                                             \t|  8.0606e-07     \t|  1              \t|  8.0606e-07     \t|  3.8694e-06     \t|\n",
      "----------------------------------------------------------------------------------------------------------------------------------------------------------------------------------------------------------------------------------------------------------------------------------------------------------\n",
      "\n"
     ]
    },
    {
     "name": "stdout",
     "output_type": "stream",
     "text": [
      "────────────────────────────────────────────────────────────────────────────────────────────────────────────────────────\n",
      "       Test metric             DataLoader 0\n",
      "────────────────────────────────────────────────────────────────────────────────────────────────────────────────────────\n",
      "        test_loss           0.34612327814102173\n",
      "     test_loss: mse         0.34612327814102173\n",
      "────────────────────────────────────────────────────────────────────────────────────────────────────────────────────────\n"
     ]
    },
    {
     "name": "stderr",
     "output_type": "stream",
     "text": [
      "100%|██████████████████████████████████████████████████████████████| 24/24 [00:20<00:00,  1.18it/s]\n",
      "GPU available: True (cuda), used: True\n",
      "TPU available: False, using: 0 TPU cores\n",
      "IPU available: False, using: 0 IPUs\n",
      "HPU available: False, using: 0 HPUs\n",
      "`Trainer(limit_train_batches=1.0)` was configured so 100% of the batches per epoch will be used..\n",
      "`Trainer(limit_val_batches=1.0)` was configured so 100% of the batches will be used..\n",
      "LOCAL_RANK: 0 - CUDA_VISIBLE_DEVICES: [5,6]\n"
     ]
    },
    {
     "data": {
      "application/vnd.jupyter.widget-view+json": {
       "model_id": "0c9c361a45354d84bb813b68b131a986",
       "version_major": 2,
       "version_minor": 0
      },
      "text/plain": [
       "Testing: 0it [00:00, ?it/s]"
      ]
     },
     "metadata": {},
     "output_type": "display_data"
    },
    {
     "name": "stderr",
     "output_type": "stream",
     "text": [
      "TEST Profiler Report\n",
      "\n",
      "----------------------------------------------------------------------------------------------------------------------------------------------------------------------------------------------------------------------------------------------------------------------------------------------------------\n",
      "|  Action                                                                                                                                                                                          \t|  Mean duration (s)\t|  Num calls      \t|  Total time (s) \t|  Percentage %   \t|\n",
      "----------------------------------------------------------------------------------------------------------------------------------------------------------------------------------------------------------------------------------------------------------------------------------------------------------\n",
      "|  Total                                                                                                                                                                                           \t|  -              \t|  471            \t|  20.56          \t|  100 %          \t|\n",
      "----------------------------------------------------------------------------------------------------------------------------------------------------------------------------------------------------------------------------------------------------------------------------------------------------------\n",
      "|  run_test_evaluation                                                                                                                                                                             \t|  20.368         \t|  1              \t|  20.368         \t|  99.064         \t|\n",
      "|  [Strategy]SingleDeviceStrategy.test_step                                                                                                                                                        \t|  0.64466        \t|  24             \t|  15.472         \t|  75.251         \t|\n",
      "|  [EvaluationEpochLoop].test_dataloader_idx_0_next                                                                                                                                                \t|  0.15128        \t|  24             \t|  3.6306         \t|  17.658         \t|\n",
      "|  [Callback]TQDMProgressBar.on_test_batch_end                                                                                                                                                     \t|  0.022011       \t|  24             \t|  0.52825        \t|  2.5693         \t|\n",
      "|  [Strategy]SingleDeviceStrategy.batch_to_device                                                                                                                                                  \t|  0.011864       \t|  24             \t|  0.28473        \t|  1.3849         \t|\n",
      "|  [LightningModule]MonetDense.transfer_batch_to_device                                                                                                                                            \t|  0.011723       \t|  24             \t|  0.28135        \t|  1.3684         \t|\n",
      "|  [Callback]TQDMProgressBar.on_test_start                                                                                                                                                         \t|  0.0099143      \t|  1              \t|  0.0099143      \t|  0.048221       \t|\n",
      "|  [Callback]TQDMProgressBar.on_test_batch_start                                                                                                                                                   \t|  0.00017155     \t|  24             \t|  0.0041171      \t|  0.020024       \t|\n",
      "|  [Callback]TQDMProgressBar.on_test_end                                                                                                                                                           \t|  0.0019229      \t|  1              \t|  0.0019229      \t|  0.0093527      \t|\n",
      "|  [LightningModule]MonetDense.on_test_model_train                                                                                                                                                 \t|  0.00052198     \t|  1              \t|  0.00052198     \t|  0.0025388      \t|\n",
      "|  [Callback]ModelSummary.on_test_batch_end                                                                                                                                                        \t|  1.0328e-05     \t|  24             \t|  0.00024787     \t|  0.0012056      \t|\n",
      "|  [LightningModule]MonetDense.on_before_batch_transfer                                                                                                                                            \t|  6.7257e-06     \t|  24             \t|  0.00016142     \t|  0.00078509     \t|\n",
      "|  [LightningModule]MonetDense.on_test_model_eval                                                                                                                                                  \t|  0.00015504     \t|  1              \t|  0.00015504     \t|  0.00075409     \t|\n",
      "|  [LightningModule]MonetDense.test_step_end                                                                                                                                                       \t|  5.9947e-06     \t|  24             \t|  0.00014387     \t|  0.00069976     \t|\n",
      "|  [LightningModule]MonetDense.on_test_batch_start                                                                                                                                                 \t|  5.5675e-06     \t|  24             \t|  0.00013362     \t|  0.0006499      \t|\n",
      "|  [Callback]ModelSummary.on_test_batch_start                                                                                                                                                      \t|  4.7851e-06     \t|  24             \t|  0.00011484     \t|  0.00055856     \t|\n",
      "|  [Callback]GradientAccumulationScheduler.on_test_batch_start                                                                                                                                     \t|  4.6497e-06     \t|  24             \t|  0.00011159     \t|  0.00054275     \t|\n",
      "|  [Callback]ModelCheckpoint{'monitor': 'val_loss', 'mode': 'min', 'every_n_train_steps': 0, 'every_n_epochs': 1, 'train_time_interval': None, 'save_on_train_epoch_end': True}.on_test_batch_end  \t|  3.9852e-06     \t|  24             \t|  9.5645e-05     \t|  0.00046519     \t|\n",
      "|  [Callback]ModelCheckpoint{'monitor': 'val_loss', 'mode': 'min', 'every_n_train_steps': 0, 'every_n_epochs': 1, 'train_time_interval': None, 'save_on_train_epoch_end': True}.on_test_batch_start\t|  3.6545e-06     \t|  24             \t|  8.7708e-05     \t|  0.00042659     \t|\n",
      "|  [LightningModule]MonetDense.on_after_batch_transfer                                                                                                                                             \t|  3.5851e-06     \t|  24             \t|  8.6043e-05     \t|  0.00041849     \t|\n",
      "|  [Callback]GradientAccumulationScheduler.on_test_batch_end                                                                                                                                       \t|  3.4567e-06     \t|  24             \t|  8.2962e-05     \t|  0.0004035      \t|\n",
      "|  [LightningModule]MonetDense.on_test_batch_end                                                                                                                                                   \t|  3.3329e-06     \t|  24             \t|  7.9989e-05     \t|  0.00038905     \t|\n",
      "|  [Strategy]SingleDeviceStrategy.test_step_end                                                                                                                                                    \t|  2.2473e-06     \t|  24             \t|  5.3936e-05     \t|  0.00026233     \t|\n",
      "|  [Callback]ModelSummary.on_test_end                                                                                                                                                              \t|  2.1336e-05     \t|  1              \t|  2.1336e-05     \t|  0.00010377     \t|\n",
      "|  [Strategy]SingleDeviceStrategy.on_test_end                                                                                                                                                      \t|  2.0282e-05     \t|  1              \t|  2.0282e-05     \t|  9.8645e-05     \t|\n",
      "|  [Callback]ModelCheckpoint{'monitor': 'val_loss', 'mode': 'min', 'every_n_train_steps': 0, 'every_n_epochs': 1, 'train_time_interval': None, 'save_on_train_epoch_end': None}.setup              \t|  1.2717e-05     \t|  1              \t|  1.2717e-05     \t|  6.1851e-05     \t|\n",
      "|  [LightningModule]MonetDense.on_test_epoch_end                                                                                                                                                   \t|  1.0733e-05     \t|  1              \t|  1.0733e-05     \t|  5.2203e-05     \t|\n",
      "|  [Callback]TQDMProgressBar.teardown                                                                                                                                                              \t|  7.4422e-06     \t|  1              \t|  7.4422e-06     \t|  3.6197e-05     \t|\n",
      "|  [Callback]TQDMProgressBar.setup                                                                                                                                                                 \t|  7.3519e-06     \t|  1              \t|  7.3519e-06     \t|  3.5757e-05     \t|\n",
      "|  [Callback]ModelSummary.on_test_start                                                                                                                                                            \t|  5.2326e-06     \t|  1              \t|  5.2326e-06     \t|  2.545e-05      \t|\n",
      "|  [LightningModule]MonetDense.test_epoch_end                                                                                                                                                      \t|  4.8401e-06     \t|  1              \t|  4.8401e-06     \t|  2.3541e-05     \t|\n",
      "|  [Callback]TQDMProgressBar.on_test_epoch_end                                                                                                                                                     \t|  4.5863e-06     \t|  1              \t|  4.5863e-06     \t|  2.2306e-05     \t|\n",
      "|  [LightningModule]MonetDense.configure_callbacks                                                                                                                                                 \t|  4.1914e-06     \t|  1              \t|  4.1914e-06     \t|  2.0386e-05     \t|\n",
      "|  [Callback]ModelSummary.teardown                                                                                                                                                                 \t|  3.5772e-06     \t|  1              \t|  3.5772e-06     \t|  1.7399e-05     \t|\n",
      "|  [Callback]GradientAccumulationScheduler.on_test_end                                                                                                                                             \t|  3.5749e-06     \t|  1              \t|  3.5749e-06     \t|  1.7387e-05     \t|\n",
      "|  [Callback]ModelCheckpoint{'monitor': 'val_loss', 'mode': 'min', 'every_n_train_steps': 0, 'every_n_epochs': 1, 'train_time_interval': None, 'save_on_train_epoch_end': True}.teardown           \t|  3.2471e-06     \t|  1              \t|  3.2471e-06     \t|  1.5793e-05     \t|\n",
      "|  [LightningModule]MonetDense.teardown                                                                                                                                                            \t|  3.1539e-06     \t|  1              \t|  3.1539e-06     \t|  1.534e-05      \t|\n",
      "|  [Callback]ModelSummary.on_test_epoch_end                                                                                                                                                        \t|  2.9998e-06     \t|  1              \t|  2.9998e-06     \t|  1.459e-05      \t|\n",
      "|  [Callback]GradientAccumulationScheduler.teardown                                                                                                                                                \t|  2.8312e-06     \t|  1              \t|  2.8312e-06     \t|  1.377e-05      \t|\n",
      "|  [Callback]ModelCheckpoint{'monitor': 'val_loss', 'mode': 'min', 'every_n_train_steps': 0, 'every_n_epochs': 1, 'train_time_interval': None, 'save_on_train_epoch_end': True}.on_test_end        \t|  2.7549e-06     \t|  1              \t|  2.7549e-06     \t|  1.3399e-05     \t|\n",
      "|  [LightningModule]MonetDense.on_test_start                                                                                                                                                       \t|  2.7018e-06     \t|  1              \t|  2.7018e-06     \t|  1.3141e-05     \t|\n",
      "|  [Callback]ModelCheckpoint{'monitor': 'val_loss', 'mode': 'min', 'every_n_train_steps': 0, 'every_n_epochs': 1, 'train_time_interval': None, 'save_on_train_epoch_end': True}.on_test_epoch_end  \t|  2.5746e-06     \t|  1              \t|  2.5746e-06     \t|  1.2522e-05     \t|\n",
      "|  [LightningModule]MonetDense.on_test_end                                                                                                                                                         \t|  2.4801e-06     \t|  1              \t|  2.4801e-06     \t|  1.2063e-05     \t|\n",
      "|  [Callback]GradientAccumulationScheduler.on_test_epoch_end                                                                                                                                       \t|  2.4289e-06     \t|  1              \t|  2.4289e-06     \t|  1.1813e-05     \t|\n",
      "|  [Callback]ModelSummary.setup                                                                                                                                                                    \t|  1.8869e-06     \t|  1              \t|  1.8869e-06     \t|  9.1772e-06     \t|\n",
      "|  [LightningModule]MonetDense.prepare_data                                                                                                                                                        \t|  1.3961e-06     \t|  1              \t|  1.3961e-06     \t|  6.79e-06       \t|\n",
      "|  [Callback]TQDMProgressBar.on_test_epoch_start                                                                                                                                                   \t|  1.3099e-06     \t|  1              \t|  1.3099e-06     \t|  6.371e-06      \t|\n",
      "|  [LightningModule]MonetDense.setup                                                                                                                                                               \t|  1.2652e-06     \t|  1              \t|  1.2652e-06     \t|  6.1536e-06     \t|\n",
      "|  [Callback]GradientAccumulationScheduler.setup                                                                                                                                                   \t|  1.2037e-06     \t|  1              \t|  1.2037e-06     \t|  5.8546e-06     \t|\n",
      "|  [Callback]ModelCheckpoint{'monitor': 'val_loss', 'mode': 'min', 'every_n_train_steps': 0, 'every_n_epochs': 1, 'train_time_interval': None, 'save_on_train_epoch_end': True}.on_test_epoch_start\t|  1.1716e-06     \t|  1              \t|  1.1716e-06     \t|  5.6984e-06     \t|\n",
      "|  [Callback]GradientAccumulationScheduler.on_test_start                                                                                                                                           \t|  1.1483e-06     \t|  1              \t|  1.1483e-06     \t|  5.5851e-06     \t|\n",
      "|  [Callback]ModelCheckpoint{'monitor': 'val_loss', 'mode': 'min', 'every_n_train_steps': 0, 'every_n_epochs': 1, 'train_time_interval': None, 'save_on_train_epoch_end': True}.on_test_start      \t|  1.1423e-06     \t|  1              \t|  1.1423e-06     \t|  5.5557e-06     \t|\n",
      "|  [LightningModule]MonetDense.configure_sharded_model                                                                                                                                             \t|  9.4809e-07     \t|  1              \t|  9.4809e-07     \t|  4.6112e-06     \t|\n",
      "|  [Callback]ModelSummary.on_test_epoch_start                                                                                                                                                      \t|  9.4576e-07     \t|  1              \t|  9.4576e-07     \t|  4.5999e-06     \t|\n",
      "|  [Callback]GradientAccumulationScheduler.on_test_epoch_start                                                                                                                                     \t|  9.2387e-07     \t|  1              \t|  9.2387e-07     \t|  4.4935e-06     \t|\n",
      "|  [LightningModule]MonetDense.on_test_epoch_start                                                                                                                                                 \t|  9.0944e-07     \t|  1              \t|  9.0944e-07     \t|  4.4233e-06     \t|\n",
      "|  [Strategy]SingleDeviceStrategy.on_test_start                                                                                                                                                    \t|  9.0571e-07     \t|  1              \t|  9.0571e-07     \t|  4.4051e-06     \t|\n",
      "----------------------------------------------------------------------------------------------------------------------------------------------------------------------------------------------------------------------------------------------------------------------------------------------------------\n",
      "\n"
     ]
    },
    {
     "name": "stdout",
     "output_type": "stream",
     "text": [
      "────────────────────────────────────────────────────────────────────────────────────────────────────────────────────────\n",
      "       Test metric             DataLoader 0\n",
      "────────────────────────────────────────────────────────────────────────────────────────────────────────────────────────\n",
      "        test_loss            0.344502717256546\n",
      "     test_loss: mse          0.344502717256546\n",
      "────────────────────────────────────────────────────────────────────────────────────────────────────────────────────────\n"
     ]
    },
    {
     "name": "stderr",
     "output_type": "stream",
     "text": [
      "100%|██████████████████████████████████████████████████████████████| 24/24 [00:21<00:00,  1.12it/s]\n",
      "GPU available: True (cuda), used: True\n",
      "TPU available: False, using: 0 TPU cores\n",
      "IPU available: False, using: 0 IPUs\n",
      "HPU available: False, using: 0 HPUs\n",
      "`Trainer(limit_train_batches=1.0)` was configured so 100% of the batches per epoch will be used..\n",
      "`Trainer(limit_val_batches=1.0)` was configured so 100% of the batches will be used..\n",
      "LOCAL_RANK: 0 - CUDA_VISIBLE_DEVICES: [5,6]\n"
     ]
    },
    {
     "data": {
      "application/vnd.jupyter.widget-view+json": {
       "model_id": "adf942fcd7fc46cc9f36c1dcaf72f25d",
       "version_major": 2,
       "version_minor": 0
      },
      "text/plain": [
       "Testing: 0it [00:00, ?it/s]"
      ]
     },
     "metadata": {},
     "output_type": "display_data"
    },
    {
     "name": "stderr",
     "output_type": "stream",
     "text": [
      "TEST Profiler Report\n",
      "\n",
      "----------------------------------------------------------------------------------------------------------------------------------------------------------------------------------------------------------------------------------------------------------------------------------------------------------\n",
      "|  Action                                                                                                                                                                                          \t|  Mean duration (s)\t|  Num calls      \t|  Total time (s) \t|  Percentage %   \t|\n",
      "----------------------------------------------------------------------------------------------------------------------------------------------------------------------------------------------------------------------------------------------------------------------------------------------------------\n",
      "|  Total                                                                                                                                                                                           \t|  -              \t|  471            \t|  19.458         \t|  100 %          \t|\n",
      "----------------------------------------------------------------------------------------------------------------------------------------------------------------------------------------------------------------------------------------------------------------------------------------------------------\n",
      "|  run_test_evaluation                                                                                                                                                                             \t|  19.263         \t|  1              \t|  19.263         \t|  98.998         \t|\n",
      "|  [Strategy]SingleDeviceStrategy.test_step                                                                                                                                                        \t|  0.63609        \t|  24             \t|  15.266         \t|  78.459         \t|\n",
      "|  [EvaluationEpochLoop].test_dataloader_idx_0_next                                                                                                                                                \t|  0.11702        \t|  24             \t|  2.8085         \t|  14.434         \t|\n",
      "|  [Callback]TQDMProgressBar.on_test_batch_end                                                                                                                                                     \t|  0.018987       \t|  24             \t|  0.45569        \t|  2.3419         \t|\n",
      "|  [Strategy]SingleDeviceStrategy.batch_to_device                                                                                                                                                  \t|  0.01202        \t|  24             \t|  0.28848        \t|  1.4826         \t|\n",
      "|  [LightningModule]MonetDense.transfer_batch_to_device                                                                                                                                            \t|  0.011909       \t|  24             \t|  0.28581        \t|  1.4689         \t|\n",
      "|  [Callback]TQDMProgressBar.on_test_start                                                                                                                                                         \t|  0.010925       \t|  1              \t|  0.010925       \t|  0.056146       \t|\n",
      "|  [Callback]TQDMProgressBar.on_test_batch_start                                                                                                                                                   \t|  0.00013559     \t|  24             \t|  0.0032542      \t|  0.016725       \t|\n",
      "|  [Callback]TQDMProgressBar.on_test_end                                                                                                                                                           \t|  0.0020169      \t|  1              \t|  0.0020169      \t|  0.010366       \t|\n",
      "|  [LightningModule]MonetDense.on_test_model_train                                                                                                                                                 \t|  0.00061806     \t|  1              \t|  0.00061806     \t|  0.0031764      \t|\n",
      "|  [Callback]ModelSummary.on_test_batch_end                                                                                                                                                        \t|  1.0014e-05     \t|  24             \t|  0.00024035     \t|  0.0012352      \t|\n",
      "|  [LightningModule]MonetDense.on_test_model_eval                                                                                                                                                  \t|  0.00016277     \t|  1              \t|  0.00016277     \t|  0.00083653     \t|\n",
      "|  [LightningModule]MonetDense.test_step_end                                                                                                                                                       \t|  5.1862e-06     \t|  24             \t|  0.00012447     \t|  0.00063969     \t|\n",
      "|  [LightningModule]MonetDense.on_before_batch_transfer                                                                                                                                            \t|  4.9292e-06     \t|  24             \t|  0.0001183      \t|  0.000608       \t|\n",
      "|  [Callback]ModelSummary.on_test_batch_start                                                                                                                                                      \t|  3.9869e-06     \t|  24             \t|  9.5686e-05     \t|  0.00049177     \t|\n",
      "|  [LightningModule]MonetDense.on_test_batch_end                                                                                                                                                   \t|  3.9559e-06     \t|  24             \t|  9.4942e-05     \t|  0.00048795     \t|\n",
      "|  [Callback]GradientAccumulationScheduler.on_test_batch_start                                                                                                                                     \t|  3.8278e-06     \t|  24             \t|  9.1866e-05     \t|  0.00047214     \t|\n",
      "|  [Callback]ModelCheckpoint{'monitor': 'val_loss', 'mode': 'min', 'every_n_train_steps': 0, 'every_n_epochs': 1, 'train_time_interval': None, 'save_on_train_epoch_end': True}.on_test_batch_end  \t|  3.7318e-06     \t|  24             \t|  8.9563e-05     \t|  0.0004603      \t|\n",
      "|  [Callback]GradientAccumulationScheduler.on_test_batch_end                                                                                                                                       \t|  3.419e-06      \t|  24             \t|  8.2056e-05     \t|  0.00042172     \t|\n",
      "|  [LightningModule]MonetDense.on_test_batch_start                                                                                                                                                 \t|  2.8099e-06     \t|  24             \t|  6.7438e-05     \t|  0.00034659     \t|\n",
      "|  [LightningModule]MonetDense.on_after_batch_transfer                                                                                                                                             \t|  2.6874e-06     \t|  24             \t|  6.4499e-05     \t|  0.00033148     \t|\n",
      "|  [Callback]ModelCheckpoint{'monitor': 'val_loss', 'mode': 'min', 'every_n_train_steps': 0, 'every_n_epochs': 1, 'train_time_interval': None, 'save_on_train_epoch_end': True}.on_test_batch_start\t|  2.6834e-06     \t|  24             \t|  6.44e-05       \t|  0.00033098     \t|\n",
      "|  [Strategy]SingleDeviceStrategy.test_step_end                                                                                                                                                    \t|  2.3772e-06     \t|  24             \t|  5.7053e-05     \t|  0.00029322     \t|\n",
      "|  [Strategy]SingleDeviceStrategy.on_test_end                                                                                                                                                      \t|  1.903e-05      \t|  1              \t|  1.903e-05      \t|  9.7804e-05     \t|\n",
      "|  [Callback]ModelSummary.on_test_end                                                                                                                                                              \t|  1.8909e-05     \t|  1              \t|  1.8909e-05     \t|  9.7181e-05     \t|\n",
      "|  [LightningModule]MonetDense.on_test_epoch_end                                                                                                                                                   \t|  1.2958e-05     \t|  1              \t|  1.2958e-05     \t|  6.6598e-05     \t|\n",
      "|  [Callback]ModelCheckpoint{'monitor': 'val_loss', 'mode': 'min', 'every_n_train_steps': 0, 'every_n_epochs': 1, 'train_time_interval': None, 'save_on_train_epoch_end': None}.setup              \t|  8.6478e-06     \t|  1              \t|  8.6478e-06     \t|  4.4444e-05     \t|\n",
      "|  [Callback]TQDMProgressBar.teardown                                                                                                                                                              \t|  6.0759e-06     \t|  1              \t|  6.0759e-06     \t|  3.1227e-05     \t|\n",
      "|  [Callback]TQDMProgressBar.on_test_epoch_end                                                                                                                                                     \t|  6.0359e-06     \t|  1              \t|  6.0359e-06     \t|  3.1021e-05     \t|\n",
      "|  [LightningModule]MonetDense.test_epoch_end                                                                                                                                                      \t|  5.8538e-06     \t|  1              \t|  5.8538e-06     \t|  3.0085e-05     \t|\n",
      "|  [Callback]TQDMProgressBar.setup                                                                                                                                                                 \t|  4.9151e-06     \t|  1              \t|  4.9151e-06     \t|  2.526e-05      \t|\n",
      "|  [Callback]GradientAccumulationScheduler.on_test_end                                                                                                                                             \t|  4.0121e-06     \t|  1              \t|  4.0121e-06     \t|  2.062e-05      \t|\n",
      "|  [Callback]ModelSummary.on_test_epoch_end                                                                                                                                                        \t|  3.6522e-06     \t|  1              \t|  3.6522e-06     \t|  1.877e-05      \t|\n",
      "|  [Callback]ModelCheckpoint{'monitor': 'val_loss', 'mode': 'min', 'every_n_train_steps': 0, 'every_n_epochs': 1, 'train_time_interval': None, 'save_on_train_epoch_end': True}.on_test_end        \t|  3.6182e-06     \t|  1              \t|  3.6182e-06     \t|  1.8595e-05     \t|\n",
      "|  [Callback]ModelCheckpoint{'monitor': 'val_loss', 'mode': 'min', 'every_n_train_steps': 0, 'every_n_epochs': 1, 'train_time_interval': None, 'save_on_train_epoch_end': True}.on_test_epoch_end  \t|  3.458e-06      \t|  1              \t|  3.458e-06      \t|  1.7772e-05     \t|\n",
      "|  [Callback]GradientAccumulationScheduler.on_test_epoch_end                                                                                                                                       \t|  3.1842e-06     \t|  1              \t|  3.1842e-06     \t|  1.6365e-05     \t|\n",
      "|  [LightningModule]MonetDense.on_test_end                                                                                                                                                         \t|  3.085e-06      \t|  1              \t|  3.085e-06      \t|  1.5855e-05     \t|\n",
      "|  [Callback]ModelSummary.on_test_start                                                                                                                                                            \t|  2.997e-06      \t|  1              \t|  2.997e-06      \t|  1.5403e-05     \t|\n",
      "|  [LightningModule]MonetDense.teardown                                                                                                                                                            \t|  2.7646e-06     \t|  1              \t|  2.7646e-06     \t|  1.4209e-05     \t|\n",
      "|  [Callback]ModelSummary.teardown                                                                                                                                                                 \t|  2.597e-06      \t|  1              \t|  2.597e-06      \t|  1.3347e-05     \t|\n",
      "|  [LightningModule]MonetDense.configure_callbacks                                                                                                                                                 \t|  2.5881e-06     \t|  1              \t|  2.5881e-06     \t|  1.3301e-05     \t|\n",
      "|  [Callback]ModelCheckpoint{'monitor': 'val_loss', 'mode': 'min', 'every_n_train_steps': 0, 'every_n_epochs': 1, 'train_time_interval': None, 'save_on_train_epoch_end': True}.teardown           \t|  2.1481e-06     \t|  1              \t|  2.1481e-06     \t|  1.104e-05      \t|\n",
      "|  [Callback]GradientAccumulationScheduler.teardown                                                                                                                                                \t|  2.082e-06      \t|  1              \t|  2.082e-06      \t|  1.07e-05       \t|\n",
      "|  [LightningModule]MonetDense.prepare_data                                                                                                                                                        \t|  1.9684e-06     \t|  1              \t|  1.9684e-06     \t|  1.0116e-05     \t|\n",
      "|  [LightningModule]MonetDense.setup                                                                                                                                                               \t|  1.8273e-06     \t|  1              \t|  1.8273e-06     \t|  9.391e-06      \t|\n",
      "|  [Callback]ModelSummary.setup                                                                                                                                                                    \t|  1.7569e-06     \t|  1              \t|  1.7569e-06     \t|  9.0296e-06     \t|\n",
      "|  [Callback]GradientAccumulationScheduler.setup                                                                                                                                                   \t|  1.6508e-06     \t|  1              \t|  1.6508e-06     \t|  8.484e-06      \t|\n",
      "|  [Callback]TQDMProgressBar.on_test_epoch_start                                                                                                                                                   \t|  1.3378e-06     \t|  1              \t|  1.3378e-06     \t|  6.8757e-06     \t|\n",
      "|  [LightningModule]MonetDense.on_test_start                                                                                                                                                       \t|  1.2298e-06     \t|  1              \t|  1.2298e-06     \t|  6.3205e-06     \t|\n",
      "|  [Callback]GradientAccumulationScheduler.on_test_start                                                                                                                                           \t|  1.153e-06      \t|  1              \t|  1.153e-06      \t|  5.9256e-06     \t|\n",
      "|  [LightningModule]MonetDense.configure_sharded_model                                                                                                                                             \t|  1.1148e-06     \t|  1              \t|  1.1148e-06     \t|  5.7294e-06     \t|\n",
      "|  [Callback]ModelCheckpoint{'monitor': 'val_loss', 'mode': 'min', 'every_n_train_steps': 0, 'every_n_epochs': 1, 'train_time_interval': None, 'save_on_train_epoch_end': True}.on_test_epoch_start\t|  1.0622e-06     \t|  1              \t|  1.0622e-06     \t|  5.4589e-06     \t|\n",
      "|  [Callback]ModelSummary.on_test_epoch_start                                                                                                                                                      \t|  1.0533e-06     \t|  1              \t|  1.0533e-06     \t|  5.4135e-06     \t|\n",
      "|  [Callback]ModelCheckpoint{'monitor': 'val_loss', 'mode': 'min', 'every_n_train_steps': 0, 'every_n_epochs': 1, 'train_time_interval': None, 'save_on_train_epoch_end': True}.on_test_start      \t|  1.0431e-06     \t|  1              \t|  1.0431e-06     \t|  5.3608e-06     \t|\n",
      "|  [Strategy]SingleDeviceStrategy.on_test_start                                                                                                                                                    \t|  9.9186e-07     \t|  1              \t|  9.9186e-07     \t|  5.0976e-06     \t|\n",
      "|  [Callback]GradientAccumulationScheduler.on_test_epoch_start                                                                                                                                     \t|  8.5495e-07     \t|  1              \t|  8.5495e-07     \t|  4.3939e-06     \t|\n",
      "|  [LightningModule]MonetDense.on_test_epoch_start                                                                                                                                                 \t|  7.9302e-07     \t|  1              \t|  7.9302e-07     \t|  4.0756e-06     \t|\n",
      "----------------------------------------------------------------------------------------------------------------------------------------------------------------------------------------------------------------------------------------------------------------------------------------------------------\n",
      "\n"
     ]
    },
    {
     "name": "stdout",
     "output_type": "stream",
     "text": [
      "────────────────────────────────────────────────────────────────────────────────────────────────────────────────────────\n",
      "       Test metric             DataLoader 0\n",
      "────────────────────────────────────────────────────────────────────────────────────────────────────────────────────────\n",
      "        test_loss           0.3439866602420807\n",
      "     test_loss: mse         0.3439866602420807\n",
      "────────────────────────────────────────────────────────────────────────────────────────────────────────────────────────\n"
     ]
    },
    {
     "name": "stderr",
     "output_type": "stream",
     "text": [
      "100%|██████████████████████████████████████████████████████████████| 24/24 [00:21<00:00,  1.13it/s]\n",
      "GPU available: True (cuda), used: True\n",
      "TPU available: False, using: 0 TPU cores\n",
      "IPU available: False, using: 0 IPUs\n",
      "HPU available: False, using: 0 HPUs\n",
      "`Trainer(limit_train_batches=1.0)` was configured so 100% of the batches per epoch will be used..\n",
      "`Trainer(limit_val_batches=1.0)` was configured so 100% of the batches will be used..\n",
      "LOCAL_RANK: 0 - CUDA_VISIBLE_DEVICES: [5,6]\n"
     ]
    },
    {
     "data": {
      "application/vnd.jupyter.widget-view+json": {
       "model_id": "0d704a52ec18492a91c9b78ac86cc728",
       "version_major": 2,
       "version_minor": 0
      },
      "text/plain": [
       "Testing: 0it [00:00, ?it/s]"
      ]
     },
     "metadata": {},
     "output_type": "display_data"
    },
    {
     "name": "stderr",
     "output_type": "stream",
     "text": [
      "TEST Profiler Report\n",
      "\n",
      "----------------------------------------------------------------------------------------------------------------------------------------------------------------------------------------------------------------------------------------------------------------------------------------------------------\n",
      "|  Action                                                                                                                                                                                          \t|  Mean duration (s)\t|  Num calls      \t|  Total time (s) \t|  Percentage %   \t|\n",
      "----------------------------------------------------------------------------------------------------------------------------------------------------------------------------------------------------------------------------------------------------------------------------------------------------------\n",
      "|  Total                                                                                                                                                                                           \t|  -              \t|  471            \t|  20.337         \t|  100 %          \t|\n",
      "----------------------------------------------------------------------------------------------------------------------------------------------------------------------------------------------------------------------------------------------------------------------------------------------------------\n",
      "|  run_test_evaluation                                                                                                                                                                             \t|  20.168         \t|  1              \t|  20.168         \t|  99.166         \t|\n",
      "|  [Strategy]SingleDeviceStrategy.test_step                                                                                                                                                        \t|  0.64233        \t|  24             \t|  15.416         \t|  75.801         \t|\n",
      "|  [EvaluationEpochLoop].test_dataloader_idx_0_next                                                                                                                                                \t|  0.14604        \t|  24             \t|  3.505          \t|  17.234         \t|\n",
      "|  [Callback]TQDMProgressBar.on_test_batch_end                                                                                                                                                     \t|  0.020185       \t|  24             \t|  0.48443        \t|  2.382          \t|\n",
      "|  [Strategy]SingleDeviceStrategy.batch_to_device                                                                                                                                                  \t|  0.011745       \t|  24             \t|  0.28188        \t|  1.386          \t|\n",
      "|  [LightningModule]MonetDense.transfer_batch_to_device                                                                                                                                            \t|  0.011629       \t|  24             \t|  0.27909        \t|  1.3723         \t|\n",
      "|  [Callback]TQDMProgressBar.on_test_start                                                                                                                                                         \t|  0.0098         \t|  1              \t|  0.0098         \t|  0.048187       \t|\n",
      "|  [Callback]TQDMProgressBar.on_test_batch_start                                                                                                                                                   \t|  0.00013478     \t|  24             \t|  0.0032348      \t|  0.015906       \t|\n",
      "|  [Callback]TQDMProgressBar.on_test_end                                                                                                                                                           \t|  0.00090935     \t|  1              \t|  0.00090935     \t|  0.0044713      \t|\n",
      "|  [LightningModule]MonetDense.on_test_model_train                                                                                                                                                 \t|  0.00046258     \t|  1              \t|  0.00046258     \t|  0.0022745      \t|\n",
      "|  [Callback]ModelSummary.on_test_batch_end                                                                                                                                                        \t|  1.0121e-05     \t|  24             \t|  0.0002429      \t|  0.0011944      \t|\n",
      "|  [LightningModule]MonetDense.on_test_model_eval                                                                                                                                                  \t|  0.00014318     \t|  1              \t|  0.00014318     \t|  0.000704       \t|\n",
      "|  [LightningModule]MonetDense.on_before_batch_transfer                                                                                                                                            \t|  4.9057e-06     \t|  24             \t|  0.00011774     \t|  0.00057892     \t|\n",
      "|  [LightningModule]MonetDense.test_step_end                                                                                                                                                       \t|  4.572e-06      \t|  24             \t|  0.00010973     \t|  0.00053954     \t|\n",
      "|  [Callback]ModelCheckpoint{'monitor': 'val_loss', 'mode': 'min', 'every_n_train_steps': 0, 'every_n_epochs': 1, 'train_time_interval': None, 'save_on_train_epoch_end': True}.on_test_batch_end  \t|  4.0884e-06     \t|  24             \t|  9.8122e-05     \t|  0.00048247     \t|\n",
      "|  [Callback]GradientAccumulationScheduler.on_test_batch_end                                                                                                                                       \t|  3.7379e-06     \t|  24             \t|  8.9709e-05     \t|  0.00044111     \t|\n",
      "|  [Callback]ModelSummary.on_test_batch_start                                                                                                                                                      \t|  3.5886e-06     \t|  24             \t|  8.6125e-05     \t|  0.00042348     \t|\n",
      "|  [Callback]GradientAccumulationScheduler.on_test_batch_start                                                                                                                                     \t|  3.3353e-06     \t|  24             \t|  8.0047e-05     \t|  0.00039359     \t|\n",
      "|  [LightningModule]MonetDense.on_test_batch_end                                                                                                                                                   \t|  3.32e-06       \t|  24             \t|  7.968e-05      \t|  0.00039179     \t|\n",
      "|  [LightningModule]MonetDense.on_after_batch_transfer                                                                                                                                             \t|  3.1802e-06     \t|  24             \t|  7.6325e-05     \t|  0.0003753      \t|\n",
      "|  [LightningModule]MonetDense.on_test_batch_start                                                                                                                                                 \t|  2.5999e-06     \t|  24             \t|  6.2399e-05     \t|  0.00030682     \t|\n",
      "|  [Callback]ModelCheckpoint{'monitor': 'val_loss', 'mode': 'min', 'every_n_train_steps': 0, 'every_n_epochs': 1, 'train_time_interval': None, 'save_on_train_epoch_end': True}.on_test_batch_start\t|  2.4786e-06     \t|  24             \t|  5.9486e-05     \t|  0.0002925      \t|\n",
      "|  [Strategy]SingleDeviceStrategy.test_step_end                                                                                                                                                    \t|  2.3932e-06     \t|  24             \t|  5.7437e-05     \t|  0.00028242     \t|\n",
      "|  [Strategy]SingleDeviceStrategy.on_test_end                                                                                                                                                      \t|  1.9449e-05     \t|  1              \t|  1.9449e-05     \t|  9.5633e-05     \t|\n",
      "|  [Callback]ModelSummary.on_test_end                                                                                                                                                              \t|  1.6322e-05     \t|  1              \t|  1.6322e-05     \t|  8.0258e-05     \t|\n",
      "|  [Callback]ModelCheckpoint{'monitor': 'val_loss', 'mode': 'min', 'every_n_train_steps': 0, 'every_n_epochs': 1, 'train_time_interval': None, 'save_on_train_epoch_end': None}.setup              \t|  1.4889e-05     \t|  1              \t|  1.4889e-05     \t|  7.321e-05      \t|\n",
      "|  [LightningModule]MonetDense.on_test_epoch_end                                                                                                                                                   \t|  1.0582e-05     \t|  1              \t|  1.0582e-05     \t|  5.2033e-05     \t|\n",
      "|  [Callback]TQDMProgressBar.setup                                                                                                                                                                 \t|  8.414e-06      \t|  1              \t|  8.414e-06      \t|  4.1372e-05     \t|\n",
      "|  [Callback]ModelSummary.on_test_start                                                                                                                                                            \t|  6.5733e-06     \t|  1              \t|  6.5733e-06     \t|  3.2321e-05     \t|\n",
      "|  [Callback]TQDMProgressBar.teardown                                                                                                                                                              \t|  6.0052e-06     \t|  1              \t|  6.0052e-06     \t|  2.9528e-05     \t|\n",
      "|  [LightningModule]MonetDense.configure_callbacks                                                                                                                                                 \t|  4.6459e-06     \t|  1              \t|  4.6459e-06     \t|  2.2844e-05     \t|\n",
      "|  [Callback]TQDMProgressBar.on_test_epoch_end                                                                                                                                                     \t|  4.4652e-06     \t|  1              \t|  4.4652e-06     \t|  2.1956e-05     \t|\n",
      "|  [LightningModule]MonetDense.test_epoch_end                                                                                                                                                      \t|  4.4359e-06     \t|  1              \t|  4.4359e-06     \t|  2.1812e-05     \t|\n",
      "|  [Callback]GradientAccumulationScheduler.on_test_end                                                                                                                                             \t|  3.1814e-06     \t|  1              \t|  3.1814e-06     \t|  1.5643e-05     \t|\n",
      "|  [LightningModule]MonetDense.on_test_start                                                                                                                                                       \t|  3.0468e-06     \t|  1              \t|  3.0468e-06     \t|  1.4981e-05     \t|\n",
      "|  [Callback]ModelSummary.on_test_epoch_end                                                                                                                                                        \t|  2.929e-06      \t|  1              \t|  2.929e-06      \t|  1.4402e-05     \t|\n",
      "|  [Callback]ModelCheckpoint{'monitor': 'val_loss', 'mode': 'min', 'every_n_train_steps': 0, 'every_n_epochs': 1, 'train_time_interval': None, 'save_on_train_epoch_end': True}.on_test_end        \t|  2.8489e-06     \t|  1              \t|  2.8489e-06     \t|  1.4008e-05     \t|\n",
      "|  [Callback]ModelSummary.teardown                                                                                                                                                                 \t|  2.6273e-06     \t|  1              \t|  2.6273e-06     \t|  1.2918e-05     \t|\n",
      "|  [LightningModule]MonetDense.teardown                                                                                                                                                            \t|  2.536e-06      \t|  1              \t|  2.536e-06      \t|  1.247e-05      \t|\n",
      "|  [Callback]ModelCheckpoint{'monitor': 'val_loss', 'mode': 'min', 'every_n_train_steps': 0, 'every_n_epochs': 1, 'train_time_interval': None, 'save_on_train_epoch_end': True}.teardown           \t|  2.4624e-06     \t|  1              \t|  2.4624e-06     \t|  1.2108e-05     \t|\n",
      "|  [Callback]GradientAccumulationScheduler.on_test_epoch_end                                                                                                                                       \t|  2.4349e-06     \t|  1              \t|  2.4349e-06     \t|  1.1973e-05     \t|\n",
      "|  [Callback]ModelCheckpoint{'monitor': 'val_loss', 'mode': 'min', 'every_n_train_steps': 0, 'every_n_epochs': 1, 'train_time_interval': None, 'save_on_train_epoch_end': True}.on_test_epoch_end  \t|  2.4228e-06     \t|  1              \t|  2.4228e-06     \t|  1.1913e-05     \t|\n",
      "|  [LightningModule]MonetDense.on_test_end                                                                                                                                                         \t|  2.272e-06      \t|  1              \t|  2.272e-06      \t|  1.1171e-05     \t|\n",
      "|  [Callback]ModelSummary.setup                                                                                                                                                                    \t|  1.9711e-06     \t|  1              \t|  1.9711e-06     \t|  9.6922e-06     \t|\n",
      "|  [Callback]GradientAccumulationScheduler.teardown                                                                                                                                                \t|  1.9269e-06     \t|  1              \t|  1.9269e-06     \t|  9.4747e-06     \t|\n",
      "|  [LightningModule]MonetDense.prepare_data                                                                                                                                                        \t|  1.736e-06      \t|  1              \t|  1.736e-06      \t|  8.5359e-06     \t|\n",
      "|  [LightningModule]MonetDense.setup                                                                                                                                                               \t|  1.5399e-06     \t|  1              \t|  1.5399e-06     \t|  7.572e-06      \t|\n",
      "|  [Callback]GradientAccumulationScheduler.on_test_start                                                                                                                                           \t|  1.465e-06      \t|  1              \t|  1.465e-06      \t|  7.2033e-06     \t|\n",
      "|  [Callback]TQDMProgressBar.on_test_epoch_start                                                                                                                                                   \t|  1.4012e-06     \t|  1              \t|  1.4012e-06     \t|  6.8897e-06     \t|\n",
      "|  [Callback]GradientAccumulationScheduler.setup                                                                                                                                                   \t|  1.3122e-06     \t|  1              \t|  1.3122e-06     \t|  6.4523e-06     \t|\n",
      "|  [Callback]ModelCheckpoint{'monitor': 'val_loss', 'mode': 'min', 'every_n_train_steps': 0, 'every_n_epochs': 1, 'train_time_interval': None, 'save_on_train_epoch_end': True}.on_test_epoch_start\t|  1.2158e-06     \t|  1              \t|  1.2158e-06     \t|  5.9784e-06     \t|\n",
      "|  [Callback]ModelCheckpoint{'monitor': 'val_loss', 'mode': 'min', 'every_n_train_steps': 0, 'every_n_epochs': 1, 'train_time_interval': None, 'save_on_train_epoch_end': True}.on_test_start      \t|  1.1916e-06     \t|  1              \t|  1.1916e-06     \t|  5.8593e-06     \t|\n",
      "|  [Callback]ModelSummary.on_test_epoch_start                                                                                                                                                      \t|  1.1041e-06     \t|  1              \t|  1.1041e-06     \t|  5.4288e-06     \t|\n",
      "|  [Strategy]SingleDeviceStrategy.on_test_start                                                                                                                                                    \t|  1.0249e-06     \t|  1              \t|  1.0249e-06     \t|  5.0396e-06     \t|\n",
      "|  [LightningModule]MonetDense.configure_sharded_model                                                                                                                                             \t|  1.0207e-06     \t|  1              \t|  1.0207e-06     \t|  5.019e-06      \t|\n",
      "|  [Callback]GradientAccumulationScheduler.on_test_epoch_start                                                                                                                                     \t|  9.8208e-07     \t|  1              \t|  9.8208e-07     \t|  4.8289e-06     \t|\n",
      "|  [LightningModule]MonetDense.on_test_epoch_start                                                                                                                                                 \t|  8.9826e-07     \t|  1              \t|  8.9826e-07     \t|  4.4168e-06     \t|\n",
      "----------------------------------------------------------------------------------------------------------------------------------------------------------------------------------------------------------------------------------------------------------------------------------------------------------\n",
      "\n"
     ]
    },
    {
     "name": "stdout",
     "output_type": "stream",
     "text": [
      "────────────────────────────────────────────────────────────────────────────────────────────────────────────────────────\n",
      "       Test metric             DataLoader 0\n",
      "────────────────────────────────────────────────────────────────────────────────────────────────────────────────────────\n",
      "        test_loss           0.34136509895324707\n",
      "     test_loss: mse         0.34136509895324707\n",
      "────────────────────────────────────────────────────────────────────────────────────────────────────────────────────────\n"
     ]
    },
    {
     "name": "stderr",
     "output_type": "stream",
     "text": [
      "100%|██████████████████████████████████████████████████████████████| 24/24 [00:23<00:00,  1.02it/s]\n",
      "GPU available: True (cuda), used: True\n",
      "TPU available: False, using: 0 TPU cores\n",
      "IPU available: False, using: 0 IPUs\n",
      "HPU available: False, using: 0 HPUs\n",
      "`Trainer(limit_train_batches=1.0)` was configured so 100% of the batches per epoch will be used..\n",
      "`Trainer(limit_val_batches=1.0)` was configured so 100% of the batches will be used..\n",
      "LOCAL_RANK: 0 - CUDA_VISIBLE_DEVICES: [5,6]\n"
     ]
    },
    {
     "data": {
      "application/vnd.jupyter.widget-view+json": {
       "model_id": "e280996688dc4603ae8b8ece8063ade7",
       "version_major": 2,
       "version_minor": 0
      },
      "text/plain": [
       "Testing: 0it [00:00, ?it/s]"
      ]
     },
     "metadata": {},
     "output_type": "display_data"
    },
    {
     "name": "stderr",
     "output_type": "stream",
     "text": [
      "TEST Profiler Report\n",
      "\n",
      "----------------------------------------------------------------------------------------------------------------------------------------------------------------------------------------------------------------------------------------------------------------------------------------------------------\n",
      "|  Action                                                                                                                                                                                          \t|  Mean duration (s)\t|  Num calls      \t|  Total time (s) \t|  Percentage %   \t|\n",
      "----------------------------------------------------------------------------------------------------------------------------------------------------------------------------------------------------------------------------------------------------------------------------------------------------------\n",
      "|  Total                                                                                                                                                                                           \t|  -              \t|  471            \t|  17.939         \t|  100 %          \t|\n",
      "----------------------------------------------------------------------------------------------------------------------------------------------------------------------------------------------------------------------------------------------------------------------------------------------------------\n",
      "|  run_test_evaluation                                                                                                                                                                             \t|  17.761         \t|  1              \t|  17.761         \t|  99.006         \t|\n",
      "|  [Strategy]SingleDeviceStrategy.test_step                                                                                                                                                        \t|  0.55621        \t|  24             \t|  13.349         \t|  74.414         \t|\n",
      "|  [EvaluationEpochLoop].test_dataloader_idx_0_next                                                                                                                                                \t|  0.14321        \t|  24             \t|  3.4371         \t|  19.16          \t|\n",
      "|  [Callback]TQDMProgressBar.on_test_batch_end                                                                                                                                                     \t|  0.017033       \t|  24             \t|  0.4088         \t|  2.2788         \t|\n",
      "|  [Strategy]SingleDeviceStrategy.batch_to_device                                                                                                                                                  \t|  0.009184       \t|  24             \t|  0.22042        \t|  1.2287         \t|\n",
      "|  [LightningModule]MonetDense.transfer_batch_to_device                                                                                                                                            \t|  0.0090651      \t|  24             \t|  0.21756        \t|  1.2128         \t|\n",
      "|  [Callback]TQDMProgressBar.on_test_start                                                                                                                                                         \t|  0.013058       \t|  1              \t|  0.013058       \t|  0.072791       \t|\n",
      "|  [Callback]TQDMProgressBar.on_test_batch_start                                                                                                                                                   \t|  0.00014793     \t|  24             \t|  0.0035503      \t|  0.019791       \t|\n",
      "|  [Callback]TQDMProgressBar.on_test_end                                                                                                                                                           \t|  0.0012154      \t|  1              \t|  0.0012154      \t|  0.0067751      \t|\n",
      "|  [LightningModule]MonetDense.on_test_model_train                                                                                                                                                 \t|  0.00058489     \t|  1              \t|  0.00058489     \t|  0.0032604      \t|\n",
      "|  [Callback]ModelSummary.on_test_batch_end                                                                                                                                                        \t|  7.6535e-06     \t|  24             \t|  0.00018368     \t|  0.0010239      \t|\n",
      "|  [LightningModule]MonetDense.on_test_model_eval                                                                                                                                                  \t|  0.0001392      \t|  1              \t|  0.0001392      \t|  0.00077597     \t|\n",
      "|  [LightningModule]MonetDense.on_before_batch_transfer                                                                                                                                            \t|  5.0125e-06     \t|  24             \t|  0.0001203      \t|  0.0006706      \t|\n",
      "|  [Callback]ModelSummary.on_test_batch_start                                                                                                                                                      \t|  4.6955e-06     \t|  24             \t|  0.00011269     \t|  0.0006282      \t|\n",
      "|  [Callback]GradientAccumulationScheduler.on_test_batch_start                                                                                                                                     \t|  3.7312e-06     \t|  24             \t|  8.9548e-05     \t|  0.00049918     \t|\n",
      "|  [LightningModule]MonetDense.test_step_end                                                                                                                                                       \t|  3.586e-06      \t|  24             \t|  8.6064e-05     \t|  0.00047976     \t|\n",
      "|  [LightningModule]MonetDense.on_after_batch_transfer                                                                                                                                             \t|  3.1238e-06     \t|  24             \t|  7.4972e-05     \t|  0.00041793     \t|\n",
      "|  [LightningModule]MonetDense.on_test_batch_start                                                                                                                                                 \t|  3.024e-06      \t|  24             \t|  7.2577e-05     \t|  0.00040458     \t|\n",
      "|  [Callback]ModelCheckpoint{'monitor': 'val_loss', 'mode': 'min', 'every_n_train_steps': 0, 'every_n_epochs': 1, 'train_time_interval': None, 'save_on_train_epoch_end': True}.on_test_batch_start\t|  3.0194e-06     \t|  24             \t|  7.2466e-05     \t|  0.00040396     \t|\n",
      "|  [Callback]ModelCheckpoint{'monitor': 'val_loss', 'mode': 'min', 'every_n_train_steps': 0, 'every_n_epochs': 1, 'train_time_interval': None, 'save_on_train_epoch_end': True}.on_test_batch_end  \t|  2.7218e-06     \t|  24             \t|  6.5323e-05     \t|  0.00036414     \t|\n",
      "|  [LightningModule]MonetDense.on_test_batch_end                                                                                                                                                   \t|  2.505e-06      \t|  24             \t|  6.0121e-05     \t|  0.00033514     \t|\n",
      "|  [Callback]GradientAccumulationScheduler.on_test_batch_end                                                                                                                                       \t|  2.3923e-06     \t|  24             \t|  5.7416e-05     \t|  0.00032006     \t|\n",
      "|  [Strategy]SingleDeviceStrategy.test_step_end                                                                                                                                                    \t|  1.6702e-06     \t|  24             \t|  4.0085e-05     \t|  0.00022345     \t|\n",
      "|  [Strategy]SingleDeviceStrategy.on_test_end                                                                                                                                                      \t|  2.4852e-05     \t|  1              \t|  2.4852e-05     \t|  0.00013854     \t|\n",
      "|  [Callback]ModelSummary.on_test_end                                                                                                                                                              \t|  1.8532e-05     \t|  1              \t|  1.8532e-05     \t|  0.00010331     \t|\n",
      "|  [LightningModule]MonetDense.on_test_epoch_end                                                                                                                                                   \t|  1.4226e-05     \t|  1              \t|  1.4226e-05     \t|  7.9302e-05     \t|\n",
      "|  [Callback]ModelCheckpoint{'monitor': 'val_loss', 'mode': 'min', 'every_n_train_steps': 0, 'every_n_epochs': 1, 'train_time_interval': None, 'save_on_train_epoch_end': None}.setup              \t|  1.0965e-05     \t|  1              \t|  1.0965e-05     \t|  6.1123e-05     \t|\n",
      "|  [Callback]TQDMProgressBar.setup                                                                                                                                                                 \t|  7.6653e-06     \t|  1              \t|  7.6653e-06     \t|  4.273e-05      \t|\n",
      "|  [Callback]ModelSummary.on_test_start                                                                                                                                                            \t|  6.6571e-06     \t|  1              \t|  6.6571e-06     \t|  3.711e-05      \t|\n",
      "|  [LightningModule]MonetDense.test_epoch_end                                                                                                                                                      \t|  6.2301e-06     \t|  1              \t|  6.2301e-06     \t|  3.4729e-05     \t|\n",
      "|  [Callback]TQDMProgressBar.teardown                                                                                                                                                              \t|  5.553e-06      \t|  1              \t|  5.553e-06      \t|  3.0955e-05     \t|\n",
      "|  [Callback]TQDMProgressBar.on_test_epoch_end                                                                                                                                                     \t|  5.2839e-06     \t|  1              \t|  5.2839e-06     \t|  2.9455e-05     \t|\n",
      "|  [LightningModule]MonetDense.configure_callbacks                                                                                                                                                 \t|  4.631e-06      \t|  1              \t|  4.631e-06      \t|  2.5815e-05     \t|\n",
      "|  [Callback]GradientAccumulationScheduler.on_test_end                                                                                                                                             \t|  3.7402e-06     \t|  1              \t|  3.7402e-06     \t|  2.085e-05      \t|\n",
      "|  [Callback]ModelSummary.on_test_epoch_end                                                                                                                                                        \t|  3.6447e-06     \t|  1              \t|  3.6447e-06     \t|  2.0317e-05     \t|\n",
      "|  [LightningModule]MonetDense.on_test_start                                                                                                                                                       \t|  3.4482e-06     \t|  1              \t|  3.4482e-06     \t|  1.9222e-05     \t|\n",
      "|  [Callback]ModelCheckpoint{'monitor': 'val_loss', 'mode': 'min', 'every_n_train_steps': 0, 'every_n_epochs': 1, 'train_time_interval': None, 'save_on_train_epoch_end': True}.on_test_end        \t|  3.288e-06      \t|  1              \t|  3.288e-06      \t|  1.8329e-05     \t|\n",
      "|  [Callback]ModelCheckpoint{'monitor': 'val_loss', 'mode': 'min', 'every_n_train_steps': 0, 'every_n_epochs': 1, 'train_time_interval': None, 'save_on_train_epoch_end': True}.on_test_epoch_end  \t|  2.9658e-06     \t|  1              \t|  2.9658e-06     \t|  1.6533e-05     \t|\n",
      "|  [LightningModule]MonetDense.on_test_end                                                                                                                                                         \t|  2.8829e-06     \t|  1              \t|  2.8829e-06     \t|  1.6071e-05     \t|\n",
      "|  [Callback]GradientAccumulationScheduler.on_test_epoch_end                                                                                                                                       \t|  2.7707e-06     \t|  1              \t|  2.7707e-06     \t|  1.5445e-05     \t|\n",
      "|  [LightningModule]MonetDense.teardown                                                                                                                                                            \t|  2.007e-06      \t|  1              \t|  2.007e-06      \t|  1.1188e-05     \t|\n",
      "|  [Callback]ModelCheckpoint{'monitor': 'val_loss', 'mode': 'min', 'every_n_train_steps': 0, 'every_n_epochs': 1, 'train_time_interval': None, 'save_on_train_epoch_end': True}.teardown           \t|  1.9581e-06     \t|  1              \t|  1.9581e-06     \t|  1.0915e-05     \t|\n",
      "|  [Callback]ModelSummary.teardown                                                                                                                                                                 \t|  1.9344e-06     \t|  1              \t|  1.9344e-06     \t|  1.0783e-05     \t|\n",
      "|  [Callback]ModelSummary.setup                                                                                                                                                                    \t|  1.7807e-06     \t|  1              \t|  1.7807e-06     \t|  9.9264e-06     \t|\n",
      "|  [Callback]TQDMProgressBar.on_test_epoch_start                                                                                                                                                   \t|  1.7141e-06     \t|  1              \t|  1.7141e-06     \t|  9.5552e-06     \t|\n",
      "|  [Callback]GradientAccumulationScheduler.teardown                                                                                                                                                \t|  1.6359e-06     \t|  1              \t|  1.6359e-06     \t|  9.1191e-06     \t|\n",
      "|  [LightningModule]MonetDense.prepare_data                                                                                                                                                        \t|  1.4859e-06     \t|  1              \t|  1.4859e-06     \t|  8.2832e-06     \t|\n",
      "|  [Callback]GradientAccumulationScheduler.on_test_start                                                                                                                                           \t|  1.4608e-06     \t|  1              \t|  1.4608e-06     \t|  8.143e-06      \t|\n",
      "|  [Callback]ModelCheckpoint{'monitor': 'val_loss', 'mode': 'min', 'every_n_train_steps': 0, 'every_n_epochs': 1, 'train_time_interval': None, 'save_on_train_epoch_end': True}.on_test_start      \t|  1.35e-06       \t|  1              \t|  1.35e-06       \t|  7.5252e-06     \t|\n",
      "|  [Callback]ModelCheckpoint{'monitor': 'val_loss', 'mode': 'min', 'every_n_train_steps': 0, 'every_n_epochs': 1, 'train_time_interval': None, 'save_on_train_epoch_end': True}.on_test_epoch_start\t|  1.2899e-06     \t|  1              \t|  1.2899e-06     \t|  7.1904e-06     \t|\n",
      "|  [Callback]GradientAccumulationScheduler.setup                                                                                                                                                   \t|  1.2517e-06     \t|  1              \t|  1.2517e-06     \t|  6.9775e-06     \t|\n",
      "|  [LightningModule]MonetDense.setup                                                                                                                                                               \t|  1.2303e-06     \t|  1              \t|  1.2303e-06     \t|  6.8581e-06     \t|\n",
      "|  [Strategy]SingleDeviceStrategy.on_test_start                                                                                                                                                    \t|  1.1991e-06     \t|  1              \t|  1.1991e-06     \t|  6.6842e-06     \t|\n",
      "|  [Callback]ModelSummary.on_test_epoch_start                                                                                                                                                      \t|  1.1818e-06     \t|  1              \t|  1.1818e-06     \t|  6.5882e-06     \t|\n",
      "|  [Callback]GradientAccumulationScheduler.on_test_epoch_start                                                                                                                                     \t|  1.0901e-06     \t|  1              \t|  1.0901e-06     \t|  6.0768e-06     \t|\n",
      "|  [LightningModule]MonetDense.configure_sharded_model                                                                                                                                             \t|  9.4995e-07     \t|  1              \t|  9.4995e-07     \t|  5.2954e-06     \t|\n",
      "|  [LightningModule]MonetDense.on_test_epoch_start                                                                                                                                                 \t|  9.1596e-07     \t|  1              \t|  9.1596e-07     \t|  5.1059e-06     \t|\n",
      "----------------------------------------------------------------------------------------------------------------------------------------------------------------------------------------------------------------------------------------------------------------------------------------------------------\n",
      "\n"
     ]
    },
    {
     "name": "stdout",
     "output_type": "stream",
     "text": [
      "────────────────────────────────────────────────────────────────────────────────────────────────────────────────────────\n",
      "       Test metric             DataLoader 0\n",
      "────────────────────────────────────────────────────────────────────────────────────────────────────────────────────────\n",
      "        test_loss           0.3419921398162842\n",
      "     test_loss: mse         0.3419921398162842\n",
      "────────────────────────────────────────────────────────────────────────────────────────────────────────────────────────\n"
     ]
    },
    {
     "name": "stderr",
     "output_type": "stream",
     "text": [
      "100%|██████████████████████████████████████████████████████████████| 24/24 [00:21<00:00,  1.10it/s]\n",
      "GPU available: True (cuda), used: True\n",
      "TPU available: False, using: 0 TPU cores\n",
      "IPU available: False, using: 0 IPUs\n",
      "HPU available: False, using: 0 HPUs\n",
      "`Trainer(limit_train_batches=1.0)` was configured so 100% of the batches per epoch will be used..\n",
      "`Trainer(limit_val_batches=1.0)` was configured so 100% of the batches will be used..\n",
      "LOCAL_RANK: 0 - CUDA_VISIBLE_DEVICES: [5,6]\n"
     ]
    },
    {
     "data": {
      "application/vnd.jupyter.widget-view+json": {
       "model_id": "cf740844872643389c26d372c2b8a3db",
       "version_major": 2,
       "version_minor": 0
      },
      "text/plain": [
       "Testing: 0it [00:00, ?it/s]"
      ]
     },
     "metadata": {},
     "output_type": "display_data"
    },
    {
     "name": "stderr",
     "output_type": "stream",
     "text": [
      "TEST Profiler Report\n",
      "\n",
      "----------------------------------------------------------------------------------------------------------------------------------------------------------------------------------------------------------------------------------------------------------------------------------------------------------\n",
      "|  Action                                                                                                                                                                                          \t|  Mean duration (s)\t|  Num calls      \t|  Total time (s) \t|  Percentage %   \t|\n",
      "----------------------------------------------------------------------------------------------------------------------------------------------------------------------------------------------------------------------------------------------------------------------------------------------------------\n",
      "|  Total                                                                                                                                                                                           \t|  -              \t|  471            \t|  19.958         \t|  100 %          \t|\n",
      "----------------------------------------------------------------------------------------------------------------------------------------------------------------------------------------------------------------------------------------------------------------------------------------------------------\n",
      "|  run_test_evaluation                                                                                                                                                                             \t|  19.769         \t|  1              \t|  19.769         \t|  99.05          \t|\n",
      "|  [Strategy]SingleDeviceStrategy.test_step                                                                                                                                                        \t|  0.63075        \t|  24             \t|  15.138         \t|  75.848         \t|\n",
      "|  [EvaluationEpochLoop].test_dataloader_idx_0_next                                                                                                                                                \t|  0.14414        \t|  24             \t|  3.4593         \t|  17.333         \t|\n",
      "|  [Callback]TQDMProgressBar.on_test_batch_end                                                                                                                                                     \t|  0.019478       \t|  24             \t|  0.46748        \t|  2.3423         \t|\n",
      "|  [Strategy]SingleDeviceStrategy.batch_to_device                                                                                                                                                  \t|  0.01076        \t|  24             \t|  0.25825        \t|  1.2939         \t|\n",
      "|  [LightningModule]MonetDense.transfer_batch_to_device                                                                                                                                            \t|  0.010644       \t|  24             \t|  0.25546        \t|  1.28           \t|\n",
      "|  [Callback]TQDMProgressBar.on_test_start                                                                                                                                                         \t|  0.010867       \t|  1              \t|  0.010867       \t|  0.054451       \t|\n",
      "|  [Callback]TQDMProgressBar.on_test_batch_start                                                                                                                                                   \t|  0.00010487     \t|  24             \t|  0.0025169      \t|  0.012611       \t|\n",
      "|  [Callback]TQDMProgressBar.on_test_end                                                                                                                                                           \t|  0.0015905      \t|  1              \t|  0.0015905      \t|  0.0079693      \t|\n",
      "|  [LightningModule]MonetDense.on_test_model_train                                                                                                                                                 \t|  0.00063169     \t|  1              \t|  0.00063169     \t|  0.003165       \t|\n",
      "|  [Callback]ModelSummary.on_test_batch_end                                                                                                                                                        \t|  8.741e-06      \t|  24             \t|  0.00020978     \t|  0.0010511      \t|\n",
      "|  [LightningModule]MonetDense.on_test_model_eval                                                                                                                                                  \t|  0.00014344     \t|  1              \t|  0.00014344     \t|  0.00071869     \t|\n",
      "|  [LightningModule]MonetDense.on_before_batch_transfer                                                                                                                                            \t|  5.1546e-06     \t|  24             \t|  0.00012371     \t|  0.00061985     \t|\n",
      "|  [LightningModule]MonetDense.test_step_end                                                                                                                                                       \t|  4.5832e-06     \t|  24             \t|  0.00011        \t|  0.00055113     \t|\n",
      "|  [Callback]ModelSummary.on_test_batch_start                                                                                                                                                      \t|  3.9343e-06     \t|  24             \t|  9.4423e-05     \t|  0.0004731      \t|\n",
      "|  [Callback]GradientAccumulationScheduler.on_test_batch_start                                                                                                                                     \t|  3.3484e-06     \t|  24             \t|  8.0361e-05     \t|  0.00040264     \t|\n",
      "|  [Callback]ModelCheckpoint{'monitor': 'val_loss', 'mode': 'min', 'every_n_train_steps': 0, 'every_n_epochs': 1, 'train_time_interval': None, 'save_on_train_epoch_end': True}.on_test_batch_end  \t|  3.3252e-06     \t|  24             \t|  7.9805e-05     \t|  0.00039986     \t|\n",
      "|  [Callback]GradientAccumulationScheduler.on_test_batch_end                                                                                                                                       \t|  3.2172e-06     \t|  24             \t|  7.7214e-05     \t|  0.00038687     \t|\n",
      "|  [LightningModule]MonetDense.on_after_batch_transfer                                                                                                                                             \t|  2.9007e-06     \t|  24             \t|  6.9617e-05     \t|  0.00034881     \t|\n",
      "|  [LightningModule]MonetDense.on_test_batch_start                                                                                                                                                 \t|  2.8379e-06     \t|  24             \t|  6.8109e-05     \t|  0.00034126     \t|\n",
      "|  [Callback]ModelCheckpoint{'monitor': 'val_loss', 'mode': 'min', 'every_n_train_steps': 0, 'every_n_epochs': 1, 'train_time_interval': None, 'save_on_train_epoch_end': True}.on_test_batch_start\t|  2.7096e-06     \t|  24             \t|  6.503e-05      \t|  0.00032583     \t|\n",
      "|  [LightningModule]MonetDense.on_test_batch_end                                                                                                                                                   \t|  2.6804e-06     \t|  24             \t|  6.4329e-05     \t|  0.00032231     \t|\n",
      "|  [Strategy]SingleDeviceStrategy.test_step_end                                                                                                                                                    \t|  1.9687e-06     \t|  24             \t|  4.7249e-05     \t|  0.00023674     \t|\n",
      "|  [Strategy]SingleDeviceStrategy.on_test_end                                                                                                                                                      \t|  2.3853e-05     \t|  1              \t|  2.3853e-05     \t|  0.00011951     \t|\n",
      "|  [Callback]ModelSummary.on_test_end                                                                                                                                                              \t|  1.9946e-05     \t|  1              \t|  1.9946e-05     \t|  9.9939e-05     \t|\n",
      "|  [LightningModule]MonetDense.on_test_epoch_end                                                                                                                                                   \t|  1.4914e-05     \t|  1              \t|  1.4914e-05     \t|  7.4727e-05     \t|\n",
      "|  [Callback]ModelCheckpoint{'monitor': 'val_loss', 'mode': 'min', 'every_n_train_steps': 0, 'every_n_epochs': 1, 'train_time_interval': None, 'save_on_train_epoch_end': None}.setup              \t|  1.3312e-05     \t|  1              \t|  1.3312e-05     \t|  6.6698e-05     \t|\n",
      "|  [Callback]TQDMProgressBar.teardown                                                                                                                                                              \t|  8.136e-06      \t|  1              \t|  8.136e-06      \t|  4.0765e-05     \t|\n",
      "|  [Callback]TQDMProgressBar.setup                                                                                                                                                                 \t|  8.0359e-06     \t|  1              \t|  8.0359e-06     \t|  4.0263e-05     \t|\n",
      "|  [LightningModule]MonetDense.test_epoch_end                                                                                                                                                      \t|  6.6459e-06     \t|  1              \t|  6.6459e-06     \t|  3.3299e-05     \t|\n",
      "|  [Callback]ModelSummary.on_test_start                                                                                                                                                            \t|  6.3316e-06     \t|  1              \t|  6.3316e-06     \t|  3.1724e-05     \t|\n",
      "|  [LightningModule]MonetDense.configure_callbacks                                                                                                                                                 \t|  6.007e-06      \t|  1              \t|  6.007e-06      \t|  3.0098e-05     \t|\n",
      "|  [Callback]TQDMProgressBar.on_test_epoch_end                                                                                                                                                     \t|  5.7272e-06     \t|  1              \t|  5.7272e-06     \t|  2.8696e-05     \t|\n",
      "|  [Callback]GradientAccumulationScheduler.on_test_end                                                                                                                                             \t|  4.0261e-06     \t|  1              \t|  4.0261e-06     \t|  2.0173e-05     \t|\n",
      "|  [Callback]ModelCheckpoint{'monitor': 'val_loss', 'mode': 'min', 'every_n_train_steps': 0, 'every_n_epochs': 1, 'train_time_interval': None, 'save_on_train_epoch_end': True}.on_test_end        \t|  3.9139e-06     \t|  1              \t|  3.9139e-06     \t|  1.961e-05      \t|\n",
      "|  [Callback]ModelSummary.teardown                                                                                                                                                                 \t|  3.811e-06      \t|  1              \t|  3.811e-06      \t|  1.9095e-05     \t|\n",
      "|  [Callback]ModelSummary.on_test_epoch_end                                                                                                                                                        \t|  3.7309e-06     \t|  1              \t|  3.7309e-06     \t|  1.8693e-05     \t|\n",
      "|  [Callback]GradientAccumulationScheduler.on_test_epoch_end                                                                                                                                       \t|  3.445e-06      \t|  1              \t|  3.445e-06      \t|  1.7261e-05     \t|\n",
      "|  [LightningModule]MonetDense.on_test_end                                                                                                                                                         \t|  3.2983e-06     \t|  1              \t|  3.2983e-06     \t|  1.6526e-05     \t|\n",
      "|  [Callback]ModelCheckpoint{'monitor': 'val_loss', 'mode': 'min', 'every_n_train_steps': 0, 'every_n_epochs': 1, 'train_time_interval': None, 'save_on_train_epoch_end': True}.on_test_epoch_end  \t|  3.2731e-06     \t|  1              \t|  3.2731e-06     \t|  1.64e-05       \t|\n",
      "|  [Callback]ModelCheckpoint{'monitor': 'val_loss', 'mode': 'min', 'every_n_train_steps': 0, 'every_n_epochs': 1, 'train_time_interval': None, 'save_on_train_epoch_end': True}.teardown           \t|  3.2401e-06     \t|  1              \t|  3.2401e-06     \t|  1.6234e-05     \t|\n",
      "|  [Callback]GradientAccumulationScheduler.teardown                                                                                                                                                \t|  3.1884e-06     \t|  1              \t|  3.1884e-06     \t|  1.5975e-05     \t|\n",
      "|  [LightningModule]MonetDense.on_test_start                                                                                                                                                       \t|  3.0831e-06     \t|  1              \t|  3.0831e-06     \t|  1.5448e-05     \t|\n",
      "|  [LightningModule]MonetDense.teardown                                                                                                                                                            \t|  2.7888e-06     \t|  1              \t|  2.7888e-06     \t|  1.3973e-05     \t|\n",
      "|  [LightningModule]MonetDense.prepare_data                                                                                                                                                        \t|  1.912e-06      \t|  1              \t|  1.912e-06      \t|  9.58e-06       \t|\n",
      "|  [Callback]TQDMProgressBar.on_test_epoch_start                                                                                                                                                   \t|  1.8859e-06     \t|  1              \t|  1.8859e-06     \t|  9.4493e-06     \t|\n",
      "|  [Callback]ModelSummary.setup                                                                                                                                                                    \t|  1.7099e-06     \t|  1              \t|  1.7099e-06     \t|  8.5674e-06     \t|\n",
      "|  [Callback]GradientAccumulationScheduler.on_test_start                                                                                                                                           \t|  1.3956e-06     \t|  1              \t|  1.3956e-06     \t|  6.9925e-06     \t|\n",
      "|  [Callback]ModelCheckpoint{'monitor': 'val_loss', 'mode': 'min', 'every_n_train_steps': 0, 'every_n_epochs': 1, 'train_time_interval': None, 'save_on_train_epoch_end': True}.on_test_start      \t|  1.3351e-06     \t|  1              \t|  1.3351e-06     \t|  6.6892e-06     \t|\n",
      "|  [Callback]ModelCheckpoint{'monitor': 'val_loss', 'mode': 'min', 'every_n_train_steps': 0, 'every_n_epochs': 1, 'train_time_interval': None, 'save_on_train_epoch_end': True}.on_test_epoch_start\t|  1.2568e-06     \t|  1              \t|  1.2568e-06     \t|  6.2972e-06     \t|\n",
      "|  [Callback]ModelSummary.on_test_epoch_start                                                                                                                                                      \t|  1.2489e-06     \t|  1              \t|  1.2489e-06     \t|  6.2575e-06     \t|\n",
      "|  [LightningModule]MonetDense.setup                                                                                                                                                               \t|  1.2312e-06     \t|  1              \t|  1.2312e-06     \t|  6.1689e-06     \t|\n",
      "|  [Callback]GradientAccumulationScheduler.setup                                                                                                                                                   \t|  1.1781e-06     \t|  1              \t|  1.1781e-06     \t|  5.9029e-06     \t|\n",
      "|  [Callback]GradientAccumulationScheduler.on_test_epoch_start                                                                                                                                     \t|  1.0771e-06     \t|  1              \t|  1.0771e-06     \t|  5.3966e-06     \t|\n",
      "|  [Strategy]SingleDeviceStrategy.on_test_start                                                                                                                                                    \t|  1.0272e-06     \t|  1              \t|  1.0272e-06     \t|  5.147e-06      \t|\n",
      "|  [LightningModule]MonetDense.configure_sharded_model                                                                                                                                             \t|  1.003e-06      \t|  1              \t|  1.003e-06      \t|  5.0256e-06     \t|\n",
      "|  [LightningModule]MonetDense.on_test_epoch_start                                                                                                                                                 \t|  9.9512e-07     \t|  1              \t|  9.9512e-07     \t|  4.986e-06      \t|\n",
      "----------------------------------------------------------------------------------------------------------------------------------------------------------------------------------------------------------------------------------------------------------------------------------------------------------\n",
      "\n"
     ]
    },
    {
     "name": "stdout",
     "output_type": "stream",
     "text": [
      "────────────────────────────────────────────────────────────────────────────────────────────────────────────────────────\n",
      "       Test metric             DataLoader 0\n",
      "────────────────────────────────────────────────────────────────────────────────────────────────────────────────────────\n",
      "        test_loss           0.3422633111476898\n",
      "     test_loss: mse         0.3422633111476898\n",
      "────────────────────────────────────────────────────────────────────────────────────────────────────────────────────────\n"
     ]
    },
    {
     "name": "stderr",
     "output_type": "stream",
     "text": [
      "100%|██████████████████████████████████████████████████████████████| 24/24 [00:21<00:00,  1.12it/s]\n",
      "GPU available: True (cuda), used: True\n",
      "TPU available: False, using: 0 TPU cores\n",
      "IPU available: False, using: 0 IPUs\n",
      "HPU available: False, using: 0 HPUs\n",
      "`Trainer(limit_train_batches=1.0)` was configured so 100% of the batches per epoch will be used..\n",
      "`Trainer(limit_val_batches=1.0)` was configured so 100% of the batches will be used..\n",
      "LOCAL_RANK: 0 - CUDA_VISIBLE_DEVICES: [5,6]\n"
     ]
    },
    {
     "data": {
      "application/vnd.jupyter.widget-view+json": {
       "model_id": "4c884505d8084c6d9b5223d651efb223",
       "version_major": 2,
       "version_minor": 0
      },
      "text/plain": [
       "Testing: 0it [00:00, ?it/s]"
      ]
     },
     "metadata": {},
     "output_type": "display_data"
    },
    {
     "name": "stderr",
     "output_type": "stream",
     "text": [
      "TEST Profiler Report\n",
      "\n",
      "----------------------------------------------------------------------------------------------------------------------------------------------------------------------------------------------------------------------------------------------------------------------------------------------------------\n",
      "|  Action                                                                                                                                                                                          \t|  Mean duration (s)\t|  Num calls      \t|  Total time (s) \t|  Percentage %   \t|\n",
      "----------------------------------------------------------------------------------------------------------------------------------------------------------------------------------------------------------------------------------------------------------------------------------------------------------\n",
      "|  Total                                                                                                                                                                                           \t|  -              \t|  471            \t|  19.836         \t|  100 %          \t|\n",
      "----------------------------------------------------------------------------------------------------------------------------------------------------------------------------------------------------------------------------------------------------------------------------------------------------------\n",
      "|  run_test_evaluation                                                                                                                                                                             \t|  19.677         \t|  1              \t|  19.677         \t|  99.199         \t|\n",
      "|  [Strategy]SingleDeviceStrategy.test_step                                                                                                                                                        \t|  0.63186        \t|  24             \t|  15.165         \t|  76.452         \t|\n",
      "|  [EvaluationEpochLoop].test_dataloader_idx_0_next                                                                                                                                                \t|  0.14673        \t|  24             \t|  3.5216         \t|  17.754         \t|\n",
      "|  [Callback]TQDMProgressBar.on_test_batch_end                                                                                                                                                     \t|  0.019379       \t|  24             \t|  0.4651         \t|  2.3448         \t|\n",
      "|  [Strategy]SingleDeviceStrategy.batch_to_device                                                                                                                                                  \t|  0.0099736      \t|  24             \t|  0.23937        \t|  1.2068         \t|\n",
      "|  [LightningModule]MonetDense.transfer_batch_to_device                                                                                                                                            \t|  0.0098475      \t|  24             \t|  0.23634        \t|  1.1915         \t|\n",
      "|  [Callback]TQDMProgressBar.on_test_start                                                                                                                                                         \t|  0.010248       \t|  1              \t|  0.010248       \t|  0.051663       \t|\n",
      "|  [Callback]TQDMProgressBar.on_test_batch_start                                                                                                                                                   \t|  0.00015086     \t|  24             \t|  0.0036208      \t|  0.018254       \t|\n",
      "|  [Callback]TQDMProgressBar.on_test_end                                                                                                                                                           \t|  0.0011133      \t|  1              \t|  0.0011133      \t|  0.0056124      \t|\n",
      "|  [LightningModule]MonetDense.on_test_model_train                                                                                                                                                 \t|  0.00065356     \t|  1              \t|  0.00065356     \t|  0.0032949      \t|\n",
      "|  [Callback]ModelSummary.on_test_batch_end                                                                                                                                                        \t|  8.9107e-06     \t|  24             \t|  0.00021386     \t|  0.0010782      \t|\n",
      "|  [LightningModule]MonetDense.on_test_model_eval                                                                                                                                                  \t|  0.00013592     \t|  1              \t|  0.00013592     \t|  0.00068525     \t|\n",
      "|  [LightningModule]MonetDense.on_before_batch_transfer                                                                                                                                            \t|  5.3148e-06     \t|  24             \t|  0.00012755     \t|  0.00064306     \t|\n",
      "|  [Callback]ModelSummary.on_test_batch_start                                                                                                                                                      \t|  4.4729e-06     \t|  24             \t|  0.00010735     \t|  0.0005412      \t|\n",
      "|  [LightningModule]MonetDense.test_step_end                                                                                                                                                       \t|  4.2367e-06     \t|  24             \t|  0.00010168     \t|  0.00051262     \t|\n",
      "|  [Callback]GradientAccumulationScheduler.on_test_batch_start                                                                                                                                     \t|  3.9782e-06     \t|  24             \t|  9.5477e-05     \t|  0.00048134     \t|\n",
      "|  [Callback]ModelCheckpoint{'monitor': 'val_loss', 'mode': 'min', 'every_n_train_steps': 0, 'every_n_epochs': 1, 'train_time_interval': None, 'save_on_train_epoch_end': True}.on_test_batch_end  \t|  3.6655e-06     \t|  24             \t|  8.7972e-05     \t|  0.00044351     \t|\n",
      "|  [Callback]GradientAccumulationScheduler.on_test_batch_end                                                                                                                                       \t|  3.3283e-06     \t|  24             \t|  7.9879e-05     \t|  0.00040271     \t|\n",
      "|  [LightningModule]MonetDense.on_after_batch_transfer                                                                                                                                             \t|  3.308e-06      \t|  24             \t|  7.9392e-05     \t|  0.00040025     \t|\n",
      "|  [Callback]ModelCheckpoint{'monitor': 'val_loss', 'mode': 'min', 'every_n_train_steps': 0, 'every_n_epochs': 1, 'train_time_interval': None, 'save_on_train_epoch_end': True}.on_test_batch_start\t|  3.3068e-06     \t|  24             \t|  7.9364e-05     \t|  0.00040011     \t|\n",
      "|  [LightningModule]MonetDense.on_test_batch_start                                                                                                                                                 \t|  3.1707e-06     \t|  24             \t|  7.6097e-05     \t|  0.00038364     \t|\n",
      "|  [LightningModule]MonetDense.on_test_batch_end                                                                                                                                                   \t|  3.0637e-06     \t|  24             \t|  7.3528e-05     \t|  0.00037069     \t|\n",
      "|  [Strategy]SingleDeviceStrategy.test_step_end                                                                                                                                                    \t|  1.9078e-06     \t|  24             \t|  4.5786e-05     \t|  0.00023083     \t|\n",
      "|  [Strategy]SingleDeviceStrategy.on_test_end                                                                                                                                                      \t|  1.7398e-05     \t|  1              \t|  1.7398e-05     \t|  8.7712e-05     \t|\n",
      "|  [Callback]ModelSummary.on_test_end                                                                                                                                                              \t|  1.2937e-05     \t|  1              \t|  1.2937e-05     \t|  6.5221e-05     \t|\n",
      "|  [Callback]ModelCheckpoint{'monitor': 'val_loss', 'mode': 'min', 'every_n_train_steps': 0, 'every_n_epochs': 1, 'train_time_interval': None, 'save_on_train_epoch_end': None}.setup              \t|  1.287e-05      \t|  1              \t|  1.287e-05      \t|  6.4883e-05     \t|\n",
      "|  [LightningModule]MonetDense.on_test_epoch_end                                                                                                                                                   \t|  7.404e-06      \t|  1              \t|  7.404e-06      \t|  3.7327e-05     \t|\n",
      "|  [Callback]TQDMProgressBar.setup                                                                                                                                                                 \t|  7.1782e-06     \t|  1              \t|  7.1782e-06     \t|  3.6188e-05     \t|\n",
      "|  [Callback]TQDMProgressBar.teardown                                                                                                                                                              \t|  6.5076e-06     \t|  1              \t|  6.5076e-06     \t|  3.2808e-05     \t|\n",
      "|  [Callback]ModelSummary.on_test_start                                                                                                                                                            \t|  5.974e-06      \t|  1              \t|  5.974e-06      \t|  3.0118e-05     \t|\n",
      "|  [LightningModule]MonetDense.configure_callbacks                                                                                                                                                 \t|  4.4522e-06     \t|  1              \t|  4.4522e-06     \t|  2.2446e-05     \t|\n",
      "|  [Callback]TQDMProgressBar.on_test_epoch_end                                                                                                                                                     \t|  3.7202e-06     \t|  1              \t|  3.7202e-06     \t|  1.8755e-05     \t|\n",
      "|  [Callback]ModelSummary.teardown                                                                                                                                                                 \t|  3.5921e-06     \t|  1              \t|  3.5921e-06     \t|  1.8109e-05     \t|\n",
      "|  [LightningModule]MonetDense.test_epoch_end                                                                                                                                                      \t|  3.5139e-06     \t|  1              \t|  3.5139e-06     \t|  1.7715e-05     \t|\n",
      "|  [Callback]ModelCheckpoint{'monitor': 'val_loss', 'mode': 'min', 'every_n_train_steps': 0, 'every_n_epochs': 1, 'train_time_interval': None, 'save_on_train_epoch_end': True}.teardown           \t|  3.4799e-06     \t|  1              \t|  3.4799e-06     \t|  1.7544e-05     \t|\n",
      "|  [Callback]GradientAccumulationScheduler.teardown                                                                                                                                                \t|  3.2987e-06     \t|  1              \t|  3.2987e-06     \t|  1.6631e-05     \t|\n",
      "|  [Callback]GradientAccumulationScheduler.on_test_end                                                                                                                                             \t|  3.166e-06      \t|  1              \t|  3.166e-06      \t|  1.5961e-05     \t|\n",
      "|  [LightningModule]MonetDense.on_test_start                                                                                                                                                       \t|  3.1348e-06     \t|  1              \t|  3.1348e-06     \t|  1.5804e-05     \t|\n",
      "|  [Callback]ModelCheckpoint{'monitor': 'val_loss', 'mode': 'min', 'every_n_train_steps': 0, 'every_n_epochs': 1, 'train_time_interval': None, 'save_on_train_epoch_end': True}.on_test_epoch_end  \t|  3.112e-06      \t|  1              \t|  3.112e-06      \t|  1.5689e-05     \t|\n",
      "|  [LightningModule]MonetDense.teardown                                                                                                                                                            \t|  3.105e-06      \t|  1              \t|  3.105e-06      \t|  1.5654e-05     \t|\n",
      "|  [Callback]ModelSummary.on_test_epoch_end                                                                                                                                                        \t|  3.0701e-06     \t|  1              \t|  3.0701e-06     \t|  1.5478e-05     \t|\n",
      "|  [Callback]GradientAccumulationScheduler.on_test_epoch_end                                                                                                                                       \t|  3.0319e-06     \t|  1              \t|  3.0319e-06     \t|  1.5285e-05     \t|\n",
      "|  [Callback]ModelCheckpoint{'monitor': 'val_loss', 'mode': 'min', 'every_n_train_steps': 0, 'every_n_epochs': 1, 'train_time_interval': None, 'save_on_train_epoch_end': True}.on_test_end        \t|  2.882e-06      \t|  1              \t|  2.882e-06      \t|  1.4529e-05     \t|\n",
      "|  [LightningModule]MonetDense.on_test_end                                                                                                                                                         \t|  2.4452e-06     \t|  1              \t|  2.4452e-06     \t|  1.2327e-05     \t|\n",
      "|  [Callback]TQDMProgressBar.on_test_epoch_start                                                                                                                                                   \t|  2.0647e-06     \t|  1              \t|  2.0647e-06     \t|  1.0409e-05     \t|\n",
      "|  [Callback]ModelCheckpoint{'monitor': 'val_loss', 'mode': 'min', 'every_n_train_steps': 0, 'every_n_epochs': 1, 'train_time_interval': None, 'save_on_train_epoch_end': True}.on_test_epoch_start\t|  2.0619e-06     \t|  1              \t|  2.0619e-06     \t|  1.0395e-05     \t|\n",
      "|  [Callback]ModelCheckpoint{'monitor': 'val_loss', 'mode': 'min', 'every_n_train_steps': 0, 'every_n_epochs': 1, 'train_time_interval': None, 'save_on_train_epoch_end': True}.on_test_start      \t|  1.959e-06      \t|  1              \t|  1.959e-06      \t|  9.8764e-06     \t|\n",
      "|  [Callback]GradientAccumulationScheduler.on_test_start                                                                                                                                           \t|  1.9539e-06     \t|  1              \t|  1.9539e-06     \t|  9.8506e-06     \t|\n",
      "|  [Callback]ModelSummary.on_test_epoch_start                                                                                                                                                      \t|  1.8533e-06     \t|  1              \t|  1.8533e-06     \t|  9.3435e-06     \t|\n",
      "|  [Callback]ModelSummary.setup                                                                                                                                                                    \t|  1.8291e-06     \t|  1              \t|  1.8291e-06     \t|  9.2214e-06     \t|\n",
      "|  [Callback]GradientAccumulationScheduler.on_test_epoch_start                                                                                                                                     \t|  1.7951e-06     \t|  1              \t|  1.7951e-06     \t|  9.0501e-06     \t|\n",
      "|  [LightningModule]MonetDense.setup                                                                                                                                                               \t|  1.6959e-06     \t|  1              \t|  1.6959e-06     \t|  8.55e-06       \t|\n",
      "|  [LightningModule]MonetDense.prepare_data                                                                                                                                                        \t|  1.5562e-06     \t|  1              \t|  1.5562e-06     \t|  7.8457e-06     \t|\n",
      "|  [Strategy]SingleDeviceStrategy.on_test_start                                                                                                                                                    \t|  1.4668e-06     \t|  1              \t|  1.4668e-06     \t|  7.395e-06      \t|\n",
      "|  [LightningModule]MonetDense.on_test_epoch_start                                                                                                                                                 \t|  1.3369e-06     \t|  1              \t|  1.3369e-06     \t|  6.74e-06       \t|\n",
      "|  [Callback]GradientAccumulationScheduler.setup                                                                                                                                                   \t|  1.2689e-06     \t|  1              \t|  1.2689e-06     \t|  6.3972e-06     \t|\n",
      "|  [LightningModule]MonetDense.configure_sharded_model                                                                                                                                             \t|  9.0618e-07     \t|  1              \t|  9.0618e-07     \t|  4.5685e-06     \t|\n",
      "----------------------------------------------------------------------------------------------------------------------------------------------------------------------------------------------------------------------------------------------------------------------------------------------------------\n",
      "\n"
     ]
    },
    {
     "name": "stdout",
     "output_type": "stream",
     "text": [
      "────────────────────────────────────────────────────────────────────────────────────────────────────────────────────────\n",
      "       Test metric             DataLoader 0\n",
      "────────────────────────────────────────────────────────────────────────────────────────────────────────────────────────\n",
      "        test_loss           0.3429867625236511\n",
      "     test_loss: mse         0.3429867625236511\n",
      "────────────────────────────────────────────────────────────────────────────────────────────────────────────────────────\n"
     ]
    }
   ],
   "source": [
    "import hydra\n",
    "from hydra.experimental import compose, initialize\n",
    "\n",
    "test_loss_rad_dict = {}\n",
    "\n",
    "for rad in range(0,65,5):\n",
    "    with initialize(config_path=\"../config\"):\n",
    "        cfg_from_terminal = compose(config_name=\"config\")\n",
    "        OmegaConf.update(cfg_from_terminal, \"model.kwargs.observables_dimension\", 71)\n",
    "        OmegaConf.update(cfg_from_terminal, \"model.kwargs.hidden_dimensions\", [128, 128, 128, 128, 128, 128])\n",
    "        OmegaConf.update(cfg_from_terminal, \"model.kwargs.output_dimension\", 84)\n",
    "        OmegaConf.update(cfg_from_terminal, \"optimizer.name\", \"Adam\")\n",
    "        OmegaConf.update(cfg_from_terminal, \"training.logger_name\", \"table2\")\n",
    "        OmegaConf.update(cfg_from_terminal, \"radius\", rad)\n",
    "        OmegaConf.update(cfg_from_terminal, \"gpus\", [1])\n",
    "        output = test(cfg_from_terminal)\n",
    "        trainer, l1_losses, inputs, gene_expressions, celltypes, test_results = output\n",
    "        test_loss_rad_dict[rad] = test_results[0]['test_loss']"
   ]
  },
  {
   "cell_type": "code",
   "execution_count": 6,
   "id": "b58626bc",
   "metadata": {},
   "outputs": [
    {
     "data": {
      "text/plain": [
       "{0: 0.3588748872280121,\n",
       " 5: 0.3607430160045624,\n",
       " 10: 0.3593329191207886,\n",
       " 15: 0.3552498519420624,\n",
       " 20: 0.3512137532234192,\n",
       " 25: 0.3464793562889099,\n",
       " 30: 0.34612327814102173,\n",
       " 35: 0.344502717256546,\n",
       " 40: 0.3439866602420807,\n",
       " 45: 0.34136509895324707,\n",
       " 50: 0.3419921398162842,\n",
       " 55: 0.3422633111476898,\n",
       " 60: 0.3429867625236511}"
      ]
     },
     "execution_count": 6,
     "metadata": {},
     "output_type": "execute_result"
    }
   ],
   "source": [
    "test_loss_rad_dict"
   ]
  },
  {
   "cell_type": "code",
   "execution_count": null,
   "id": "6f3561fd",
   "metadata": {},
   "outputs": [],
   "source": [
    "import hydra\n",
    "from hydra.experimental import compose, initialize\n",
    "\n",
    "test_loss_rad_dict = {}\n",
    "\n",
    "for rad in range(0,50,5):\n",
    "    for synthetic_exp in range(4):\n",
    "        with initialize(config_path=\"../config\"):\n",
    "            cfg_from_terminal = compose(config_name=\"config\")\n",
    "            OmegaConf.update(cfg_from_terminal, \"model.kwargs.hidden_dimensions\", [128, 128])\n",
    "            OmegaConf.update(cfg_from_terminal, \"training.logger_name\", f\"synthetic{synthetic_exp}\")\n",
    "            OmegaConf.update(cfg_from_terminal, \"radius\", rad)\n",
    "            OmegaConf.update(cfg_from_terminal, \"model.kwargs.response_genes\", [0])\n",
    "            OmegaConf.update(cfg_from_terminal, \"datasets.dataset\", [MerfishDataset])\n",
    "            output = test(cfg_from_terminal)\n",
    "            trainer, l1_losses, inputs, gene_expressions, celltypes, test_results = output\n",
    "            test_loss_rad_dict[rad] = test_results[0]['test_loss']"
   ]
  },
  {
   "cell_type": "code",
   "execution_count": null,
   "id": "7fdc197c",
   "metadata": {},
   "outputs": [],
   "source": [
    "test_loss_rad_dict"
   ]
  },
  {
   "cell_type": "code",
   "execution_count": 15,
   "id": "18817f1a",
   "metadata": {},
   "outputs": [
    {
     "ename": "UnsupportedValueType",
     "evalue": "Value 'SyntheticNonlinear' is not a supported primitive type\n    full_key: [0]\n    object_type=list",
     "output_type": "error",
     "traceback": [
      "\u001b[0;31m---------------------------------------------------------------------------\u001b[0m",
      "\u001b[0;31mUnsupportedValueType\u001b[0m                      Traceback (most recent call last)",
      "Cell \u001b[0;32mIn[15], line 16\u001b[0m\n\u001b[1;32m     14\u001b[0m OmegaConf\u001b[38;5;241m.\u001b[39mupdate(cfg_from_terminal, \u001b[38;5;124m\"\u001b[39m\u001b[38;5;124mgpus\u001b[39m\u001b[38;5;124m\"\u001b[39m, [\u001b[38;5;241m1\u001b[39m])\n\u001b[1;32m     15\u001b[0m OmegaConf\u001b[38;5;241m.\u001b[39mupdate(cfg_from_terminal, \u001b[38;5;124m\"\u001b[39m\u001b[38;5;124mmodel.kwargs.response_genes\u001b[39m\u001b[38;5;124m\"\u001b[39m, [\u001b[38;5;241m0\u001b[39m])\n\u001b[0;32m---> 16\u001b[0m \u001b[43mOmegaConf\u001b[49m\u001b[38;5;241;43m.\u001b[39;49m\u001b[43mupdate\u001b[49m\u001b[43m(\u001b[49m\u001b[43mcfg_from_terminal\u001b[49m\u001b[43m,\u001b[49m\u001b[43m \u001b[49m\u001b[38;5;124;43m\"\u001b[39;49m\u001b[38;5;124;43mdatasets.dataset\u001b[39;49m\u001b[38;5;124;43m\"\u001b[39;49m\u001b[43m,\u001b[49m\u001b[43m \u001b[49m\u001b[43m[\u001b[49m\u001b[43mSyntheticNonlinear\u001b[49m\u001b[43m]\u001b[49m\u001b[43m)\u001b[49m\n\u001b[1;32m     17\u001b[0m OmegaConf\u001b[38;5;241m.\u001b[39mupdate(cfg_from_terminal, \u001b[38;5;124m\"\u001b[39m\u001b[38;5;124mtraining.filepath\u001b[39m\u001b[38;5;124m\"\u001b[39m, \u001b[38;5;124mf\u001b[39m\u001b[38;5;124m\"\u001b[39m\u001b[38;5;132;01m{\u001b[39;00mcfg_from_terminal\u001b[38;5;241m.\u001b[39mmodel\u001b[38;5;241m.\u001b[39mname\u001b[38;5;132;01m}\u001b[39;00m\u001b[38;5;124m__\u001b[39m\u001b[38;5;132;01m{\u001b[39;00mcfg_from_terminal\u001b[38;5;241m.\u001b[39mmodel\u001b[38;5;241m.\u001b[39mkwargs\u001b[38;5;241m.\u001b[39mhidden_dimensions\u001b[38;5;132;01m}\u001b[39;00m\u001b[38;5;124m__\u001b[39m\u001b[38;5;132;01m{\u001b[39;00mcfg_from_terminal\u001b[38;5;241m.\u001b[39mradius\u001b[38;5;132;01m}\u001b[39;00m\u001b[38;5;124m__\u001b[39m\u001b[38;5;132;01m{\u001b[39;00mcfg_from_terminal\u001b[38;5;241m.\u001b[39mtraining\u001b[38;5;241m.\u001b[39mlogger_name\u001b[38;5;132;01m}\u001b[39;00m\u001b[38;5;124m__\u001b[39m\u001b[38;5;132;01m{\u001b[39;00mcfg_from_terminal\u001b[38;5;241m.\u001b[39moptimizer\u001b[38;5;241m.\u001b[39mname\u001b[38;5;132;01m}\u001b[39;00m\u001b[38;5;124m\"\u001b[39m)\n\u001b[1;32m     18\u001b[0m output \u001b[38;5;241m=\u001b[39m test(cfg_from_terminal)\n",
      "File \u001b[0;32m~/.cache/pypoetry/virtualenvs/spatial-G_n0JvVf-py3.10/lib/python3.10/site-packages/omegaconf/omegaconf.py:736\u001b[0m, in \u001b[0;36mOmegaConf.update\u001b[0;34m(cfg, key, value, merge, force_add)\u001b[0m\n\u001b[1;32m    734\u001b[0m     \u001b[38;5;28;01mif\u001b[39;00m OmegaConf\u001b[38;5;241m.\u001b[39mis_config(node):\n\u001b[1;32m    735\u001b[0m         \u001b[38;5;28;01massert\u001b[39;00m \u001b[38;5;28misinstance\u001b[39m(node, BaseContainer)\n\u001b[0;32m--> 736\u001b[0m         \u001b[43mnode\u001b[49m\u001b[38;5;241;43m.\u001b[39;49m\u001b[43mmerge_with\u001b[49m\u001b[43m(\u001b[49m\u001b[43mvalue\u001b[49m\u001b[43m)\u001b[49m\n\u001b[1;32m    737\u001b[0m         \u001b[38;5;28;01mreturn\u001b[39;00m\n\u001b[1;32m    739\u001b[0m \u001b[38;5;28;01mif\u001b[39;00m OmegaConf\u001b[38;5;241m.\u001b[39mis_dict(root):\n",
      "File \u001b[0;32m~/.cache/pypoetry/virtualenvs/spatial-G_n0JvVf-py3.10/lib/python3.10/site-packages/omegaconf/basecontainer.py:492\u001b[0m, in \u001b[0;36mBaseContainer.merge_with\u001b[0;34m(self, *others)\u001b[0m\n\u001b[1;32m    490\u001b[0m     \u001b[38;5;28mself\u001b[39m\u001b[38;5;241m.\u001b[39m_merge_with(\u001b[38;5;241m*\u001b[39mothers)\n\u001b[1;32m    491\u001b[0m \u001b[38;5;28;01mexcept\u001b[39;00m \u001b[38;5;167;01mException\u001b[39;00m \u001b[38;5;28;01mas\u001b[39;00m e:\n\u001b[0;32m--> 492\u001b[0m     \u001b[38;5;28;43mself\u001b[39;49m\u001b[38;5;241;43m.\u001b[39;49m\u001b[43m_format_and_raise\u001b[49m\u001b[43m(\u001b[49m\u001b[43mkey\u001b[49m\u001b[38;5;241;43m=\u001b[39;49m\u001b[38;5;28;43;01mNone\u001b[39;49;00m\u001b[43m,\u001b[49m\u001b[43m \u001b[49m\u001b[43mvalue\u001b[49m\u001b[38;5;241;43m=\u001b[39;49m\u001b[38;5;28;43;01mNone\u001b[39;49;00m\u001b[43m,\u001b[49m\u001b[43m \u001b[49m\u001b[43mcause\u001b[49m\u001b[38;5;241;43m=\u001b[39;49m\u001b[43me\u001b[49m\u001b[43m)\u001b[49m\n",
      "File \u001b[0;32m~/.cache/pypoetry/virtualenvs/spatial-G_n0JvVf-py3.10/lib/python3.10/site-packages/omegaconf/base.py:231\u001b[0m, in \u001b[0;36mNode._format_and_raise\u001b[0;34m(self, key, value, cause, msg, type_override)\u001b[0m\n\u001b[1;32m    223\u001b[0m \u001b[38;5;28;01mdef\u001b[39;00m \u001b[38;5;21m_format_and_raise\u001b[39m(\n\u001b[1;32m    224\u001b[0m     \u001b[38;5;28mself\u001b[39m,\n\u001b[1;32m    225\u001b[0m     key: Any,\n\u001b[0;32m   (...)\u001b[0m\n\u001b[1;32m    229\u001b[0m     type_override: Any \u001b[38;5;241m=\u001b[39m \u001b[38;5;28;01mNone\u001b[39;00m,\n\u001b[1;32m    230\u001b[0m ) \u001b[38;5;241m-\u001b[39m\u001b[38;5;241m>\u001b[39m \u001b[38;5;28;01mNone\u001b[39;00m:\n\u001b[0;32m--> 231\u001b[0m     \u001b[43mformat_and_raise\u001b[49m\u001b[43m(\u001b[49m\n\u001b[1;32m    232\u001b[0m \u001b[43m        \u001b[49m\u001b[43mnode\u001b[49m\u001b[38;5;241;43m=\u001b[39;49m\u001b[38;5;28;43mself\u001b[39;49m\u001b[43m,\u001b[49m\n\u001b[1;32m    233\u001b[0m \u001b[43m        \u001b[49m\u001b[43mkey\u001b[49m\u001b[38;5;241;43m=\u001b[39;49m\u001b[43mkey\u001b[49m\u001b[43m,\u001b[49m\n\u001b[1;32m    234\u001b[0m \u001b[43m        \u001b[49m\u001b[43mvalue\u001b[49m\u001b[38;5;241;43m=\u001b[39;49m\u001b[43mvalue\u001b[49m\u001b[43m,\u001b[49m\n\u001b[1;32m    235\u001b[0m \u001b[43m        \u001b[49m\u001b[43mmsg\u001b[49m\u001b[38;5;241;43m=\u001b[39;49m\u001b[38;5;28;43mstr\u001b[39;49m\u001b[43m(\u001b[49m\u001b[43mcause\u001b[49m\u001b[43m)\u001b[49m\u001b[43m \u001b[49m\u001b[38;5;28;43;01mif\u001b[39;49;00m\u001b[43m \u001b[49m\u001b[43mmsg\u001b[49m\u001b[43m \u001b[49m\u001b[38;5;129;43;01mis\u001b[39;49;00m\u001b[43m \u001b[49m\u001b[38;5;28;43;01mNone\u001b[39;49;00m\u001b[43m \u001b[49m\u001b[38;5;28;43;01melse\u001b[39;49;00m\u001b[43m \u001b[49m\u001b[43mmsg\u001b[49m\u001b[43m,\u001b[49m\n\u001b[1;32m    236\u001b[0m \u001b[43m        \u001b[49m\u001b[43mcause\u001b[49m\u001b[38;5;241;43m=\u001b[39;49m\u001b[43mcause\u001b[49m\u001b[43m,\u001b[49m\n\u001b[1;32m    237\u001b[0m \u001b[43m        \u001b[49m\u001b[43mtype_override\u001b[49m\u001b[38;5;241;43m=\u001b[39;49m\u001b[43mtype_override\u001b[49m\u001b[43m,\u001b[49m\n\u001b[1;32m    238\u001b[0m \u001b[43m    \u001b[49m\u001b[43m)\u001b[49m\n\u001b[1;32m    239\u001b[0m     \u001b[38;5;28;01massert\u001b[39;00m \u001b[38;5;28;01mFalse\u001b[39;00m\n",
      "File \u001b[0;32m~/.cache/pypoetry/virtualenvs/spatial-G_n0JvVf-py3.10/lib/python3.10/site-packages/omegaconf/_utils.py:819\u001b[0m, in \u001b[0;36mformat_and_raise\u001b[0;34m(node, key, value, msg, cause, type_override)\u001b[0m\n\u001b[1;32m    817\u001b[0m         ex \u001b[38;5;241m=\u001b[39m type_override(\u001b[38;5;28mstr\u001b[39m(cause))\n\u001b[1;32m    818\u001b[0m         ex\u001b[38;5;241m.\u001b[39m\u001b[38;5;18m__dict__\u001b[39m \u001b[38;5;241m=\u001b[39m copy\u001b[38;5;241m.\u001b[39mdeepcopy(cause\u001b[38;5;241m.\u001b[39m\u001b[38;5;18m__dict__\u001b[39m)\n\u001b[0;32m--> 819\u001b[0m     \u001b[43m_raise\u001b[49m\u001b[43m(\u001b[49m\u001b[43mex\u001b[49m\u001b[43m,\u001b[49m\u001b[43m \u001b[49m\u001b[43mcause\u001b[49m\u001b[43m)\u001b[49m\n\u001b[1;32m    821\u001b[0m object_type: Optional[Type[Any]]\n\u001b[1;32m    822\u001b[0m object_type_str: Optional[\u001b[38;5;28mstr\u001b[39m] \u001b[38;5;241m=\u001b[39m \u001b[38;5;28;01mNone\u001b[39;00m\n",
      "File \u001b[0;32m~/.cache/pypoetry/virtualenvs/spatial-G_n0JvVf-py3.10/lib/python3.10/site-packages/omegaconf/_utils.py:797\u001b[0m, in \u001b[0;36m_raise\u001b[0;34m(ex, cause)\u001b[0m\n\u001b[1;32m    795\u001b[0m \u001b[38;5;28;01melse\u001b[39;00m:\n\u001b[1;32m    796\u001b[0m     ex\u001b[38;5;241m.\u001b[39m__cause__ \u001b[38;5;241m=\u001b[39m \u001b[38;5;28;01mNone\u001b[39;00m\n\u001b[0;32m--> 797\u001b[0m \u001b[38;5;28;01mraise\u001b[39;00m ex\u001b[38;5;241m.\u001b[39mwith_traceback(sys\u001b[38;5;241m.\u001b[39mexc_info()[\u001b[38;5;241m2\u001b[39m])\n",
      "File \u001b[0;32m~/.cache/pypoetry/virtualenvs/spatial-G_n0JvVf-py3.10/lib/python3.10/site-packages/omegaconf/basecontainer.py:490\u001b[0m, in \u001b[0;36mBaseContainer.merge_with\u001b[0;34m(self, *others)\u001b[0m\n\u001b[1;32m    483\u001b[0m \u001b[38;5;28;01mdef\u001b[39;00m \u001b[38;5;21mmerge_with\u001b[39m(\n\u001b[1;32m    484\u001b[0m     \u001b[38;5;28mself\u001b[39m,\n\u001b[1;32m    485\u001b[0m     \u001b[38;5;241m*\u001b[39mothers: Union[\n\u001b[1;32m    486\u001b[0m         \u001b[38;5;124m\"\u001b[39m\u001b[38;5;124mBaseContainer\u001b[39m\u001b[38;5;124m\"\u001b[39m, Dict[\u001b[38;5;28mstr\u001b[39m, Any], List[Any], Tuple[Any, \u001b[38;5;241m.\u001b[39m\u001b[38;5;241m.\u001b[39m\u001b[38;5;241m.\u001b[39m], Any\n\u001b[1;32m    487\u001b[0m     ],\n\u001b[1;32m    488\u001b[0m ) \u001b[38;5;241m-\u001b[39m\u001b[38;5;241m>\u001b[39m \u001b[38;5;28;01mNone\u001b[39;00m:\n\u001b[1;32m    489\u001b[0m     \u001b[38;5;28;01mtry\u001b[39;00m:\n\u001b[0;32m--> 490\u001b[0m         \u001b[38;5;28;43mself\u001b[39;49m\u001b[38;5;241;43m.\u001b[39;49m\u001b[43m_merge_with\u001b[49m\u001b[43m(\u001b[49m\u001b[38;5;241;43m*\u001b[39;49m\u001b[43mothers\u001b[49m\u001b[43m)\u001b[49m\n\u001b[1;32m    491\u001b[0m     \u001b[38;5;28;01mexcept\u001b[39;00m \u001b[38;5;167;01mException\u001b[39;00m \u001b[38;5;28;01mas\u001b[39;00m e:\n\u001b[1;32m    492\u001b[0m         \u001b[38;5;28mself\u001b[39m\u001b[38;5;241m.\u001b[39m_format_and_raise(key\u001b[38;5;241m=\u001b[39m\u001b[38;5;28;01mNone\u001b[39;00m, value\u001b[38;5;241m=\u001b[39m\u001b[38;5;28;01mNone\u001b[39;00m, cause\u001b[38;5;241m=\u001b[39me)\n",
      "File \u001b[0;32m~/.cache/pypoetry/virtualenvs/spatial-G_n0JvVf-py3.10/lib/python3.10/site-packages/omegaconf/basecontainer.py:511\u001b[0m, in \u001b[0;36mBaseContainer._merge_with\u001b[0;34m(self, *others)\u001b[0m\n\u001b[1;32m    509\u001b[0m \u001b[38;5;28;01mif\u001b[39;00m \u001b[38;5;28mself\u001b[39m\u001b[38;5;241m.\u001b[39m_get_flag(\u001b[38;5;124m\"\u001b[39m\u001b[38;5;124mallow_objects\u001b[39m\u001b[38;5;124m\"\u001b[39m) \u001b[38;5;129;01mis\u001b[39;00m \u001b[38;5;28;01mTrue\u001b[39;00m:\n\u001b[1;32m    510\u001b[0m     my_flags \u001b[38;5;241m=\u001b[39m {\u001b[38;5;124m\"\u001b[39m\u001b[38;5;124mallow_objects\u001b[39m\u001b[38;5;124m\"\u001b[39m: \u001b[38;5;28;01mTrue\u001b[39;00m}\n\u001b[0;32m--> 511\u001b[0m other \u001b[38;5;241m=\u001b[39m \u001b[43m_ensure_container\u001b[49m\u001b[43m(\u001b[49m\u001b[43mother\u001b[49m\u001b[43m,\u001b[49m\u001b[43m \u001b[49m\u001b[43mflags\u001b[49m\u001b[38;5;241;43m=\u001b[39;49m\u001b[43mmy_flags\u001b[49m\u001b[43m)\u001b[49m\n\u001b[1;32m    513\u001b[0m \u001b[38;5;28;01mif\u001b[39;00m \u001b[38;5;28misinstance\u001b[39m(\u001b[38;5;28mself\u001b[39m, DictConfig) \u001b[38;5;129;01mand\u001b[39;00m \u001b[38;5;28misinstance\u001b[39m(other, DictConfig):\n\u001b[1;32m    514\u001b[0m     BaseContainer\u001b[38;5;241m.\u001b[39m_map_merge(\u001b[38;5;28mself\u001b[39m, other)\n",
      "File \u001b[0;32m~/.cache/pypoetry/virtualenvs/spatial-G_n0JvVf-py3.10/lib/python3.10/site-packages/omegaconf/_utils.py:952\u001b[0m, in \u001b[0;36m_ensure_container\u001b[0;34m(target, flags)\u001b[0m\n\u001b[1;32m    950\u001b[0m \u001b[38;5;28;01mif\u001b[39;00m is_primitive_container(target):\n\u001b[1;32m    951\u001b[0m     \u001b[38;5;28;01massert\u001b[39;00m \u001b[38;5;28misinstance\u001b[39m(target, (\u001b[38;5;28mlist\u001b[39m, \u001b[38;5;28mdict\u001b[39m))\n\u001b[0;32m--> 952\u001b[0m     target \u001b[38;5;241m=\u001b[39m \u001b[43mOmegaConf\u001b[49m\u001b[38;5;241;43m.\u001b[39;49m\u001b[43mcreate\u001b[49m\u001b[43m(\u001b[49m\u001b[43mtarget\u001b[49m\u001b[43m,\u001b[49m\u001b[43m \u001b[49m\u001b[43mflags\u001b[49m\u001b[38;5;241;43m=\u001b[39;49m\u001b[43mflags\u001b[49m\u001b[43m)\u001b[49m\n\u001b[1;32m    953\u001b[0m \u001b[38;5;28;01melif\u001b[39;00m is_structured_config(target):\n\u001b[1;32m    954\u001b[0m     target \u001b[38;5;241m=\u001b[39m OmegaConf\u001b[38;5;241m.\u001b[39mstructured(target, flags\u001b[38;5;241m=\u001b[39mflags)\n",
      "File \u001b[0;32m~/.cache/pypoetry/virtualenvs/spatial-G_n0JvVf-py3.10/lib/python3.10/site-packages/omegaconf/omegaconf.py:178\u001b[0m, in \u001b[0;36mOmegaConf.create\u001b[0;34m(obj, parent, flags)\u001b[0m\n\u001b[1;32m    172\u001b[0m \u001b[38;5;129m@staticmethod\u001b[39m\n\u001b[1;32m    173\u001b[0m \u001b[38;5;28;01mdef\u001b[39;00m \u001b[38;5;21mcreate\u001b[39m(  \u001b[38;5;66;03m# noqa F811\u001b[39;00m\n\u001b[1;32m    174\u001b[0m     obj: Any \u001b[38;5;241m=\u001b[39m _DEFAULT_MARKER_,\n\u001b[1;32m    175\u001b[0m     parent: Optional[BaseContainer] \u001b[38;5;241m=\u001b[39m \u001b[38;5;28;01mNone\u001b[39;00m,\n\u001b[1;32m    176\u001b[0m     flags: Optional[Dict[\u001b[38;5;28mstr\u001b[39m, \u001b[38;5;28mbool\u001b[39m]] \u001b[38;5;241m=\u001b[39m \u001b[38;5;28;01mNone\u001b[39;00m,\n\u001b[1;32m    177\u001b[0m ) \u001b[38;5;241m-\u001b[39m\u001b[38;5;241m>\u001b[39m Union[DictConfig, ListConfig]:\n\u001b[0;32m--> 178\u001b[0m     \u001b[38;5;28;01mreturn\u001b[39;00m \u001b[43mOmegaConf\u001b[49m\u001b[38;5;241;43m.\u001b[39;49m\u001b[43m_create_impl\u001b[49m\u001b[43m(\u001b[49m\n\u001b[1;32m    179\u001b[0m \u001b[43m        \u001b[49m\u001b[43mobj\u001b[49m\u001b[38;5;241;43m=\u001b[39;49m\u001b[43mobj\u001b[49m\u001b[43m,\u001b[49m\n\u001b[1;32m    180\u001b[0m \u001b[43m        \u001b[49m\u001b[43mparent\u001b[49m\u001b[38;5;241;43m=\u001b[39;49m\u001b[43mparent\u001b[49m\u001b[43m,\u001b[49m\n\u001b[1;32m    181\u001b[0m \u001b[43m        \u001b[49m\u001b[43mflags\u001b[49m\u001b[38;5;241;43m=\u001b[39;49m\u001b[43mflags\u001b[49m\u001b[43m,\u001b[49m\n\u001b[1;32m    182\u001b[0m \u001b[43m    \u001b[49m\u001b[43m)\u001b[49m\n",
      "File \u001b[0;32m~/.cache/pypoetry/virtualenvs/spatial-G_n0JvVf-py3.10/lib/python3.10/site-packages/omegaconf/omegaconf.py:900\u001b[0m, in \u001b[0;36mOmegaConf._create_impl\u001b[0;34m(obj, parent, flags)\u001b[0m\n\u001b[1;32m    896\u001b[0m                 \u001b[38;5;28;01mraise\u001b[39;00m ValidationError(\n\u001b[1;32m    897\u001b[0m                     \u001b[38;5;124mf\u001b[39m\u001b[38;5;124m\"\u001b[39m\u001b[38;5;124mObject of unsupported type: \u001b[39m\u001b[38;5;124m'\u001b[39m\u001b[38;5;132;01m{\u001b[39;00m\u001b[38;5;28mtype\u001b[39m(obj)\u001b[38;5;241m.\u001b[39m\u001b[38;5;18m__name__\u001b[39m\u001b[38;5;132;01m}\u001b[39;00m\u001b[38;5;124m'\u001b[39m\u001b[38;5;124m\"\u001b[39m\n\u001b[1;32m    898\u001b[0m                 )\n\u001b[1;32m    899\u001b[0m \u001b[38;5;28;01mexcept\u001b[39;00m OmegaConfBaseException \u001b[38;5;28;01mas\u001b[39;00m e:\n\u001b[0;32m--> 900\u001b[0m     \u001b[43mformat_and_raise\u001b[49m\u001b[43m(\u001b[49m\u001b[43mnode\u001b[49m\u001b[38;5;241;43m=\u001b[39;49m\u001b[38;5;28;43;01mNone\u001b[39;49;00m\u001b[43m,\u001b[49m\u001b[43m \u001b[49m\u001b[43mkey\u001b[49m\u001b[38;5;241;43m=\u001b[39;49m\u001b[38;5;28;43;01mNone\u001b[39;49;00m\u001b[43m,\u001b[49m\u001b[43m \u001b[49m\u001b[43mvalue\u001b[49m\u001b[38;5;241;43m=\u001b[39;49m\u001b[38;5;28;43;01mNone\u001b[39;49;00m\u001b[43m,\u001b[49m\u001b[43m \u001b[49m\u001b[43mmsg\u001b[49m\u001b[38;5;241;43m=\u001b[39;49m\u001b[38;5;28;43mstr\u001b[39;49m\u001b[43m(\u001b[49m\u001b[43me\u001b[49m\u001b[43m)\u001b[49m\u001b[43m,\u001b[49m\u001b[43m \u001b[49m\u001b[43mcause\u001b[49m\u001b[38;5;241;43m=\u001b[39;49m\u001b[43me\u001b[49m\u001b[43m)\u001b[49m\n\u001b[1;32m    901\u001b[0m     \u001b[38;5;28;01massert\u001b[39;00m \u001b[38;5;28;01mFalse\u001b[39;00m\n",
      "File \u001b[0;32m~/.cache/pypoetry/virtualenvs/spatial-G_n0JvVf-py3.10/lib/python3.10/site-packages/omegaconf/_utils.py:819\u001b[0m, in \u001b[0;36mformat_and_raise\u001b[0;34m(node, key, value, msg, cause, type_override)\u001b[0m\n\u001b[1;32m    817\u001b[0m         ex \u001b[38;5;241m=\u001b[39m type_override(\u001b[38;5;28mstr\u001b[39m(cause))\n\u001b[1;32m    818\u001b[0m         ex\u001b[38;5;241m.\u001b[39m\u001b[38;5;18m__dict__\u001b[39m \u001b[38;5;241m=\u001b[39m copy\u001b[38;5;241m.\u001b[39mdeepcopy(cause\u001b[38;5;241m.\u001b[39m\u001b[38;5;18m__dict__\u001b[39m)\n\u001b[0;32m--> 819\u001b[0m     \u001b[43m_raise\u001b[49m\u001b[43m(\u001b[49m\u001b[43mex\u001b[49m\u001b[43m,\u001b[49m\u001b[43m \u001b[49m\u001b[43mcause\u001b[49m\u001b[43m)\u001b[49m\n\u001b[1;32m    821\u001b[0m object_type: Optional[Type[Any]]\n\u001b[1;32m    822\u001b[0m object_type_str: Optional[\u001b[38;5;28mstr\u001b[39m] \u001b[38;5;241m=\u001b[39m \u001b[38;5;28;01mNone\u001b[39;00m\n",
      "File \u001b[0;32m~/.cache/pypoetry/virtualenvs/spatial-G_n0JvVf-py3.10/lib/python3.10/site-packages/omegaconf/_utils.py:797\u001b[0m, in \u001b[0;36m_raise\u001b[0;34m(ex, cause)\u001b[0m\n\u001b[1;32m    795\u001b[0m \u001b[38;5;28;01melse\u001b[39;00m:\n\u001b[1;32m    796\u001b[0m     ex\u001b[38;5;241m.\u001b[39m__cause__ \u001b[38;5;241m=\u001b[39m \u001b[38;5;28;01mNone\u001b[39;00m\n\u001b[0;32m--> 797\u001b[0m \u001b[38;5;28;01mraise\u001b[39;00m ex\u001b[38;5;241m.\u001b[39mwith_traceback(sys\u001b[38;5;241m.\u001b[39mexc_info()[\u001b[38;5;241m2\u001b[39m])\n",
      "File \u001b[0;32m~/.cache/pypoetry/virtualenvs/spatial-G_n0JvVf-py3.10/lib/python3.10/site-packages/omegaconf/omegaconf.py:881\u001b[0m, in \u001b[0;36mOmegaConf._create_impl\u001b[0;34m(obj, parent, flags)\u001b[0m\n\u001b[1;32m    879\u001b[0m         obj_type \u001b[38;5;241m=\u001b[39m OmegaConf\u001b[38;5;241m.\u001b[39mget_type(obj)\n\u001b[1;32m    880\u001b[0m         element_type \u001b[38;5;241m=\u001b[39m get_list_element_type(obj_type)\n\u001b[0;32m--> 881\u001b[0m         \u001b[38;5;28;01mreturn\u001b[39;00m \u001b[43mListConfig\u001b[49m\u001b[43m(\u001b[49m\n\u001b[1;32m    882\u001b[0m \u001b[43m            \u001b[49m\u001b[43mcontent\u001b[49m\u001b[38;5;241;43m=\u001b[39;49m\u001b[43mobj\u001b[49m\u001b[43m,\u001b[49m\n\u001b[1;32m    883\u001b[0m \u001b[43m            \u001b[49m\u001b[43mparent\u001b[49m\u001b[38;5;241;43m=\u001b[39;49m\u001b[43mparent\u001b[49m\u001b[43m,\u001b[49m\n\u001b[1;32m    884\u001b[0m \u001b[43m            \u001b[49m\u001b[43melement_type\u001b[49m\u001b[38;5;241;43m=\u001b[39;49m\u001b[43melement_type\u001b[49m\u001b[43m,\u001b[49m\n\u001b[1;32m    885\u001b[0m \u001b[43m            \u001b[49m\u001b[43mref_type\u001b[49m\u001b[38;5;241;43m=\u001b[39;49m\u001b[43mAny\u001b[49m\u001b[43m,\u001b[49m\n\u001b[1;32m    886\u001b[0m \u001b[43m            \u001b[49m\u001b[43mis_optional\u001b[49m\u001b[38;5;241;43m=\u001b[39;49m\u001b[38;5;28;43;01mTrue\u001b[39;49;00m\u001b[43m,\u001b[49m\n\u001b[1;32m    887\u001b[0m \u001b[43m            \u001b[49m\u001b[43mflags\u001b[49m\u001b[38;5;241;43m=\u001b[39;49m\u001b[43mflags\u001b[49m\u001b[43m,\u001b[49m\n\u001b[1;32m    888\u001b[0m \u001b[43m        \u001b[49m\u001b[43m)\u001b[49m\n\u001b[1;32m    889\u001b[0m \u001b[38;5;28;01melse\u001b[39;00m:\n\u001b[1;32m    890\u001b[0m     \u001b[38;5;28;01mif\u001b[39;00m \u001b[38;5;28misinstance\u001b[39m(obj, \u001b[38;5;28mtype\u001b[39m):\n",
      "File \u001b[0;32m~/.cache/pypoetry/virtualenvs/spatial-G_n0JvVf-py3.10/lib/python3.10/site-packages/omegaconf/listconfig.py:82\u001b[0m, in \u001b[0;36mListConfig.__init__\u001b[0;34m(self, content, key, parent, element_type, is_optional, ref_type, flags)\u001b[0m\n\u001b[1;32m     80\u001b[0m     \u001b[38;5;28mself\u001b[39m\u001b[38;5;241m.\u001b[39m_set_value(value\u001b[38;5;241m=\u001b[39mcontent, flags\u001b[38;5;241m=\u001b[39mflags)\n\u001b[1;32m     81\u001b[0m \u001b[38;5;28;01mexcept\u001b[39;00m \u001b[38;5;167;01mException\u001b[39;00m \u001b[38;5;28;01mas\u001b[39;00m ex:\n\u001b[0;32m---> 82\u001b[0m     \u001b[43mformat_and_raise\u001b[49m\u001b[43m(\u001b[49m\u001b[43mnode\u001b[49m\u001b[38;5;241;43m=\u001b[39;49m\u001b[38;5;28;43;01mNone\u001b[39;49;00m\u001b[43m,\u001b[49m\u001b[43m \u001b[49m\u001b[43mkey\u001b[49m\u001b[38;5;241;43m=\u001b[39;49m\u001b[43mkey\u001b[49m\u001b[43m,\u001b[49m\u001b[43m \u001b[49m\u001b[43mvalue\u001b[49m\u001b[38;5;241;43m=\u001b[39;49m\u001b[38;5;28;43;01mNone\u001b[39;49;00m\u001b[43m,\u001b[49m\u001b[43m \u001b[49m\u001b[43mcause\u001b[49m\u001b[38;5;241;43m=\u001b[39;49m\u001b[43mex\u001b[49m\u001b[43m,\u001b[49m\u001b[43m \u001b[49m\u001b[43mmsg\u001b[49m\u001b[38;5;241;43m=\u001b[39;49m\u001b[38;5;28;43mstr\u001b[39;49m\u001b[43m(\u001b[49m\u001b[43mex\u001b[49m\u001b[43m)\u001b[49m\u001b[43m)\u001b[49m\n",
      "File \u001b[0;32m~/.cache/pypoetry/virtualenvs/spatial-G_n0JvVf-py3.10/lib/python3.10/site-packages/omegaconf/_utils.py:819\u001b[0m, in \u001b[0;36mformat_and_raise\u001b[0;34m(node, key, value, msg, cause, type_override)\u001b[0m\n\u001b[1;32m    817\u001b[0m         ex \u001b[38;5;241m=\u001b[39m type_override(\u001b[38;5;28mstr\u001b[39m(cause))\n\u001b[1;32m    818\u001b[0m         ex\u001b[38;5;241m.\u001b[39m\u001b[38;5;18m__dict__\u001b[39m \u001b[38;5;241m=\u001b[39m copy\u001b[38;5;241m.\u001b[39mdeepcopy(cause\u001b[38;5;241m.\u001b[39m\u001b[38;5;18m__dict__\u001b[39m)\n\u001b[0;32m--> 819\u001b[0m     \u001b[43m_raise\u001b[49m\u001b[43m(\u001b[49m\u001b[43mex\u001b[49m\u001b[43m,\u001b[49m\u001b[43m \u001b[49m\u001b[43mcause\u001b[49m\u001b[43m)\u001b[49m\n\u001b[1;32m    821\u001b[0m object_type: Optional[Type[Any]]\n\u001b[1;32m    822\u001b[0m object_type_str: Optional[\u001b[38;5;28mstr\u001b[39m] \u001b[38;5;241m=\u001b[39m \u001b[38;5;28;01mNone\u001b[39;00m\n",
      "File \u001b[0;32m~/.cache/pypoetry/virtualenvs/spatial-G_n0JvVf-py3.10/lib/python3.10/site-packages/omegaconf/_utils.py:797\u001b[0m, in \u001b[0;36m_raise\u001b[0;34m(ex, cause)\u001b[0m\n\u001b[1;32m    795\u001b[0m \u001b[38;5;28;01melse\u001b[39;00m:\n\u001b[1;32m    796\u001b[0m     ex\u001b[38;5;241m.\u001b[39m__cause__ \u001b[38;5;241m=\u001b[39m \u001b[38;5;28;01mNone\u001b[39;00m\n\u001b[0;32m--> 797\u001b[0m \u001b[38;5;28;01mraise\u001b[39;00m ex\u001b[38;5;241m.\u001b[39mwith_traceback(sys\u001b[38;5;241m.\u001b[39mexc_info()[\u001b[38;5;241m2\u001b[39m])\n",
      "File \u001b[0;32m~/.cache/pypoetry/virtualenvs/spatial-G_n0JvVf-py3.10/lib/python3.10/site-packages/omegaconf/listconfig.py:80\u001b[0m, in \u001b[0;36mListConfig.__init__\u001b[0;34m(self, content, key, parent, element_type, is_optional, ref_type, flags)\u001b[0m\n\u001b[1;32m     78\u001b[0m         metadata\u001b[38;5;241m.\u001b[39melement_type \u001b[38;5;241m=\u001b[39m element_type\n\u001b[1;32m     79\u001b[0m         \u001b[38;5;28mself\u001b[39m\u001b[38;5;241m.\u001b[39m\u001b[38;5;18m__dict__\u001b[39m[\u001b[38;5;124m\"\u001b[39m\u001b[38;5;124m_metadata\u001b[39m\u001b[38;5;124m\"\u001b[39m] \u001b[38;5;241m=\u001b[39m metadata\n\u001b[0;32m---> 80\u001b[0m     \u001b[38;5;28;43mself\u001b[39;49m\u001b[38;5;241;43m.\u001b[39;49m\u001b[43m_set_value\u001b[49m\u001b[43m(\u001b[49m\u001b[43mvalue\u001b[49m\u001b[38;5;241;43m=\u001b[39;49m\u001b[43mcontent\u001b[49m\u001b[43m,\u001b[49m\u001b[43m \u001b[49m\u001b[43mflags\u001b[49m\u001b[38;5;241;43m=\u001b[39;49m\u001b[43mflags\u001b[49m\u001b[43m)\u001b[49m\n\u001b[1;32m     81\u001b[0m \u001b[38;5;28;01mexcept\u001b[39;00m \u001b[38;5;167;01mException\u001b[39;00m \u001b[38;5;28;01mas\u001b[39;00m ex:\n\u001b[1;32m     82\u001b[0m     format_and_raise(node\u001b[38;5;241m=\u001b[39m\u001b[38;5;28;01mNone\u001b[39;00m, key\u001b[38;5;241m=\u001b[39mkey, value\u001b[38;5;241m=\u001b[39m\u001b[38;5;28;01mNone\u001b[39;00m, cause\u001b[38;5;241m=\u001b[39mex, msg\u001b[38;5;241m=\u001b[39m\u001b[38;5;28mstr\u001b[39m(ex))\n",
      "File \u001b[0;32m~/.cache/pypoetry/virtualenvs/spatial-G_n0JvVf-py3.10/lib/python3.10/site-packages/omegaconf/listconfig.py:618\u001b[0m, in \u001b[0;36mListConfig._set_value\u001b[0;34m(self, value, flags)\u001b[0m\n\u001b[1;32m    616\u001b[0m \u001b[38;5;28mself\u001b[39m\u001b[38;5;241m.\u001b[39m\u001b[38;5;18m__dict__\u001b[39m[\u001b[38;5;124m\"\u001b[39m\u001b[38;5;124m_content\u001b[39m\u001b[38;5;124m\"\u001b[39m] \u001b[38;5;241m=\u001b[39m previous_content\n\u001b[1;32m    617\u001b[0m \u001b[38;5;28mself\u001b[39m\u001b[38;5;241m.\u001b[39m\u001b[38;5;18m__dict__\u001b[39m[\u001b[38;5;124m\"\u001b[39m\u001b[38;5;124m_metadata\u001b[39m\u001b[38;5;124m\"\u001b[39m] \u001b[38;5;241m=\u001b[39m previous_metadata\n\u001b[0;32m--> 618\u001b[0m \u001b[38;5;28;01mraise\u001b[39;00m e\n",
      "File \u001b[0;32m~/.cache/pypoetry/virtualenvs/spatial-G_n0JvVf-py3.10/lib/python3.10/site-packages/omegaconf/listconfig.py:614\u001b[0m, in \u001b[0;36mListConfig._set_value\u001b[0;34m(self, value, flags)\u001b[0m\n\u001b[1;32m    612\u001b[0m     previous_content \u001b[38;5;241m=\u001b[39m \u001b[38;5;28mself\u001b[39m\u001b[38;5;241m.\u001b[39m\u001b[38;5;18m__dict__\u001b[39m[\u001b[38;5;124m\"\u001b[39m\u001b[38;5;124m_content\u001b[39m\u001b[38;5;124m\"\u001b[39m]\n\u001b[1;32m    613\u001b[0m     previous_metadata \u001b[38;5;241m=\u001b[39m \u001b[38;5;28mself\u001b[39m\u001b[38;5;241m.\u001b[39m\u001b[38;5;18m__dict__\u001b[39m[\u001b[38;5;124m\"\u001b[39m\u001b[38;5;124m_metadata\u001b[39m\u001b[38;5;124m\"\u001b[39m]\n\u001b[0;32m--> 614\u001b[0m     \u001b[38;5;28;43mself\u001b[39;49m\u001b[38;5;241;43m.\u001b[39;49m\u001b[43m_set_value_impl\u001b[49m\u001b[43m(\u001b[49m\u001b[43mvalue\u001b[49m\u001b[43m,\u001b[49m\u001b[43m \u001b[49m\u001b[43mflags\u001b[49m\u001b[43m)\u001b[49m\n\u001b[1;32m    615\u001b[0m \u001b[38;5;28;01mexcept\u001b[39;00m \u001b[38;5;167;01mException\u001b[39;00m \u001b[38;5;28;01mas\u001b[39;00m e:\n\u001b[1;32m    616\u001b[0m     \u001b[38;5;28mself\u001b[39m\u001b[38;5;241m.\u001b[39m\u001b[38;5;18m__dict__\u001b[39m[\u001b[38;5;124m\"\u001b[39m\u001b[38;5;124m_content\u001b[39m\u001b[38;5;124m\"\u001b[39m] \u001b[38;5;241m=\u001b[39m previous_content\n",
      "File \u001b[0;32m~/.cache/pypoetry/virtualenvs/spatial-G_n0JvVf-py3.10/lib/python3.10/site-packages/omegaconf/listconfig.py:659\u001b[0m, in \u001b[0;36mListConfig._set_value_impl\u001b[0;34m(self, value, flags)\u001b[0m\n\u001b[1;32m    657\u001b[0m     \u001b[38;5;28;01mwith\u001b[39;00m flag_override(\u001b[38;5;28mself\u001b[39m, [\u001b[38;5;124m\"\u001b[39m\u001b[38;5;124mstruct\u001b[39m\u001b[38;5;124m\"\u001b[39m, \u001b[38;5;124m\"\u001b[39m\u001b[38;5;124mreadonly\u001b[39m\u001b[38;5;124m\"\u001b[39m], \u001b[38;5;28;01mFalse\u001b[39;00m):\n\u001b[1;32m    658\u001b[0m         \u001b[38;5;28;01mfor\u001b[39;00m item \u001b[38;5;129;01min\u001b[39;00m value:\n\u001b[0;32m--> 659\u001b[0m             \u001b[38;5;28;43mself\u001b[39;49m\u001b[38;5;241;43m.\u001b[39;49m\u001b[43mappend\u001b[49m\u001b[43m(\u001b[49m\u001b[43mitem\u001b[49m\u001b[43m)\u001b[49m\n\u001b[1;32m    660\u001b[0m \u001b[38;5;28mself\u001b[39m\u001b[38;5;241m.\u001b[39m_metadata\u001b[38;5;241m.\u001b[39mobject_type \u001b[38;5;241m=\u001b[39m \u001b[38;5;28mlist\u001b[39m\n",
      "File \u001b[0;32m~/.cache/pypoetry/virtualenvs/spatial-G_n0JvVf-py3.10/lib/python3.10/site-packages/omegaconf/listconfig.py:301\u001b[0m, in \u001b[0;36mListConfig.append\u001b[0;34m(self, item)\u001b[0m\n\u001b[1;32m    299\u001b[0m \u001b[38;5;28;01mexcept\u001b[39;00m \u001b[38;5;167;01mException\u001b[39;00m \u001b[38;5;28;01mas\u001b[39;00m e:\n\u001b[1;32m    300\u001b[0m     \u001b[38;5;28;01mdel\u001b[39;00m content[index]\n\u001b[0;32m--> 301\u001b[0m     \u001b[38;5;28;43mself\u001b[39;49m\u001b[38;5;241;43m.\u001b[39;49m\u001b[43m_format_and_raise\u001b[49m\u001b[43m(\u001b[49m\u001b[43mkey\u001b[49m\u001b[38;5;241;43m=\u001b[39;49m\u001b[43mindex\u001b[49m\u001b[43m,\u001b[49m\u001b[43m \u001b[49m\u001b[43mvalue\u001b[49m\u001b[38;5;241;43m=\u001b[39;49m\u001b[43mitem\u001b[49m\u001b[43m,\u001b[49m\u001b[43m \u001b[49m\u001b[43mcause\u001b[49m\u001b[38;5;241;43m=\u001b[39;49m\u001b[43me\u001b[49m\u001b[43m)\u001b[49m\n\u001b[1;32m    302\u001b[0m     \u001b[38;5;28;01massert\u001b[39;00m \u001b[38;5;28;01mFalse\u001b[39;00m\n",
      "File \u001b[0;32m~/.cache/pypoetry/virtualenvs/spatial-G_n0JvVf-py3.10/lib/python3.10/site-packages/omegaconf/base.py:231\u001b[0m, in \u001b[0;36mNode._format_and_raise\u001b[0;34m(self, key, value, cause, msg, type_override)\u001b[0m\n\u001b[1;32m    223\u001b[0m \u001b[38;5;28;01mdef\u001b[39;00m \u001b[38;5;21m_format_and_raise\u001b[39m(\n\u001b[1;32m    224\u001b[0m     \u001b[38;5;28mself\u001b[39m,\n\u001b[1;32m    225\u001b[0m     key: Any,\n\u001b[0;32m   (...)\u001b[0m\n\u001b[1;32m    229\u001b[0m     type_override: Any \u001b[38;5;241m=\u001b[39m \u001b[38;5;28;01mNone\u001b[39;00m,\n\u001b[1;32m    230\u001b[0m ) \u001b[38;5;241m-\u001b[39m\u001b[38;5;241m>\u001b[39m \u001b[38;5;28;01mNone\u001b[39;00m:\n\u001b[0;32m--> 231\u001b[0m     \u001b[43mformat_and_raise\u001b[49m\u001b[43m(\u001b[49m\n\u001b[1;32m    232\u001b[0m \u001b[43m        \u001b[49m\u001b[43mnode\u001b[49m\u001b[38;5;241;43m=\u001b[39;49m\u001b[38;5;28;43mself\u001b[39;49m\u001b[43m,\u001b[49m\n\u001b[1;32m    233\u001b[0m \u001b[43m        \u001b[49m\u001b[43mkey\u001b[49m\u001b[38;5;241;43m=\u001b[39;49m\u001b[43mkey\u001b[49m\u001b[43m,\u001b[49m\n\u001b[1;32m    234\u001b[0m \u001b[43m        \u001b[49m\u001b[43mvalue\u001b[49m\u001b[38;5;241;43m=\u001b[39;49m\u001b[43mvalue\u001b[49m\u001b[43m,\u001b[49m\n\u001b[1;32m    235\u001b[0m \u001b[43m        \u001b[49m\u001b[43mmsg\u001b[49m\u001b[38;5;241;43m=\u001b[39;49m\u001b[38;5;28;43mstr\u001b[39;49m\u001b[43m(\u001b[49m\u001b[43mcause\u001b[49m\u001b[43m)\u001b[49m\u001b[43m \u001b[49m\u001b[38;5;28;43;01mif\u001b[39;49;00m\u001b[43m \u001b[49m\u001b[43mmsg\u001b[49m\u001b[43m \u001b[49m\u001b[38;5;129;43;01mis\u001b[39;49;00m\u001b[43m \u001b[49m\u001b[38;5;28;43;01mNone\u001b[39;49;00m\u001b[43m \u001b[49m\u001b[38;5;28;43;01melse\u001b[39;49;00m\u001b[43m \u001b[49m\u001b[43mmsg\u001b[49m\u001b[43m,\u001b[49m\n\u001b[1;32m    236\u001b[0m \u001b[43m        \u001b[49m\u001b[43mcause\u001b[49m\u001b[38;5;241;43m=\u001b[39;49m\u001b[43mcause\u001b[49m\u001b[43m,\u001b[49m\n\u001b[1;32m    237\u001b[0m \u001b[43m        \u001b[49m\u001b[43mtype_override\u001b[49m\u001b[38;5;241;43m=\u001b[39;49m\u001b[43mtype_override\u001b[49m\u001b[43m,\u001b[49m\n\u001b[1;32m    238\u001b[0m \u001b[43m    \u001b[49m\u001b[43m)\u001b[49m\n\u001b[1;32m    239\u001b[0m     \u001b[38;5;28;01massert\u001b[39;00m \u001b[38;5;28;01mFalse\u001b[39;00m\n",
      "File \u001b[0;32m~/.cache/pypoetry/virtualenvs/spatial-G_n0JvVf-py3.10/lib/python3.10/site-packages/omegaconf/_utils.py:819\u001b[0m, in \u001b[0;36mformat_and_raise\u001b[0;34m(node, key, value, msg, cause, type_override)\u001b[0m\n\u001b[1;32m    817\u001b[0m         ex \u001b[38;5;241m=\u001b[39m type_override(\u001b[38;5;28mstr\u001b[39m(cause))\n\u001b[1;32m    818\u001b[0m         ex\u001b[38;5;241m.\u001b[39m\u001b[38;5;18m__dict__\u001b[39m \u001b[38;5;241m=\u001b[39m copy\u001b[38;5;241m.\u001b[39mdeepcopy(cause\u001b[38;5;241m.\u001b[39m\u001b[38;5;18m__dict__\u001b[39m)\n\u001b[0;32m--> 819\u001b[0m     \u001b[43m_raise\u001b[49m\u001b[43m(\u001b[49m\u001b[43mex\u001b[49m\u001b[43m,\u001b[49m\u001b[43m \u001b[49m\u001b[43mcause\u001b[49m\u001b[43m)\u001b[49m\n\u001b[1;32m    821\u001b[0m object_type: Optional[Type[Any]]\n\u001b[1;32m    822\u001b[0m object_type_str: Optional[\u001b[38;5;28mstr\u001b[39m] \u001b[38;5;241m=\u001b[39m \u001b[38;5;28;01mNone\u001b[39;00m\n",
      "File \u001b[0;32m~/.cache/pypoetry/virtualenvs/spatial-G_n0JvVf-py3.10/lib/python3.10/site-packages/omegaconf/_utils.py:797\u001b[0m, in \u001b[0;36m_raise\u001b[0;34m(ex, cause)\u001b[0m\n\u001b[1;32m    795\u001b[0m \u001b[38;5;28;01melse\u001b[39;00m:\n\u001b[1;32m    796\u001b[0m     ex\u001b[38;5;241m.\u001b[39m__cause__ \u001b[38;5;241m=\u001b[39m \u001b[38;5;28;01mNone\u001b[39;00m\n\u001b[0;32m--> 797\u001b[0m \u001b[38;5;28;01mraise\u001b[39;00m ex\u001b[38;5;241m.\u001b[39mwith_traceback(sys\u001b[38;5;241m.\u001b[39mexc_info()[\u001b[38;5;241m2\u001b[39m])\n",
      "File \u001b[0;32m~/.cache/pypoetry/virtualenvs/spatial-G_n0JvVf-py3.10/lib/python3.10/site-packages/omegaconf/listconfig.py:298\u001b[0m, in \u001b[0;36mListConfig.append\u001b[0;34m(self, item)\u001b[0m\n\u001b[1;32m    296\u001b[0m content\u001b[38;5;241m.\u001b[39mappend(\u001b[38;5;28;01mNone\u001b[39;00m)\n\u001b[1;32m    297\u001b[0m \u001b[38;5;28;01mtry\u001b[39;00m:\n\u001b[0;32m--> 298\u001b[0m     \u001b[38;5;28;43mself\u001b[39;49m\u001b[38;5;241;43m.\u001b[39;49m\u001b[43m_set_item_impl\u001b[49m\u001b[43m(\u001b[49m\u001b[43mindex\u001b[49m\u001b[43m,\u001b[49m\u001b[43m \u001b[49m\u001b[43mitem\u001b[49m\u001b[43m)\u001b[49m\n\u001b[1;32m    299\u001b[0m \u001b[38;5;28;01mexcept\u001b[39;00m \u001b[38;5;167;01mException\u001b[39;00m \u001b[38;5;28;01mas\u001b[39;00m e:\n\u001b[1;32m    300\u001b[0m     \u001b[38;5;28;01mdel\u001b[39;00m content[index]\n",
      "File \u001b[0;32m~/.cache/pypoetry/virtualenvs/spatial-G_n0JvVf-py3.10/lib/python3.10/site-packages/omegaconf/basecontainer.py:620\u001b[0m, in \u001b[0;36mBaseContainer._set_item_impl\u001b[0;34m(self, key, value)\u001b[0m\n\u001b[1;32m    618\u001b[0m         assign(key, value)\n\u001b[1;32m    619\u001b[0m \u001b[38;5;28;01melse\u001b[39;00m:\n\u001b[0;32m--> 620\u001b[0m     \u001b[38;5;28;43mself\u001b[39;49m\u001b[38;5;241;43m.\u001b[39;49m\u001b[43m_wrap_value_and_set\u001b[49m\u001b[43m(\u001b[49m\u001b[43mkey\u001b[49m\u001b[43m,\u001b[49m\u001b[43m \u001b[49m\u001b[43mvalue\u001b[49m\u001b[43m,\u001b[49m\u001b[43m \u001b[49m\u001b[43mtarget_type_hint\u001b[49m\u001b[43m)\u001b[49m\n",
      "File \u001b[0;32m~/.cache/pypoetry/virtualenvs/spatial-G_n0JvVf-py3.10/lib/python3.10/site-packages/omegaconf/basecontainer.py:636\u001b[0m, in \u001b[0;36mBaseContainer._wrap_value_and_set\u001b[0;34m(self, key, val, type_hint)\u001b[0m\n\u001b[1;32m    628\u001b[0m     wrapped \u001b[38;5;241m=\u001b[39m _maybe_wrap(\n\u001b[1;32m    629\u001b[0m         ref_type\u001b[38;5;241m=\u001b[39mref_type,\n\u001b[1;32m    630\u001b[0m         key\u001b[38;5;241m=\u001b[39mkey,\n\u001b[0;32m   (...)\u001b[0m\n\u001b[1;32m    633\u001b[0m         parent\u001b[38;5;241m=\u001b[39m\u001b[38;5;28mself\u001b[39m,\n\u001b[1;32m    634\u001b[0m     )\n\u001b[1;32m    635\u001b[0m \u001b[38;5;28;01mexcept\u001b[39;00m ValidationError \u001b[38;5;28;01mas\u001b[39;00m e:\n\u001b[0;32m--> 636\u001b[0m     \u001b[38;5;28;43mself\u001b[39;49m\u001b[38;5;241;43m.\u001b[39;49m\u001b[43m_format_and_raise\u001b[49m\u001b[43m(\u001b[49m\u001b[43mkey\u001b[49m\u001b[38;5;241;43m=\u001b[39;49m\u001b[43mkey\u001b[49m\u001b[43m,\u001b[49m\u001b[43m \u001b[49m\u001b[43mvalue\u001b[49m\u001b[38;5;241;43m=\u001b[39;49m\u001b[43mval\u001b[49m\u001b[43m,\u001b[49m\u001b[43m \u001b[49m\u001b[43mcause\u001b[49m\u001b[38;5;241;43m=\u001b[39;49m\u001b[43me\u001b[49m\u001b[43m)\u001b[49m\n\u001b[1;32m    637\u001b[0m \u001b[38;5;28mself\u001b[39m\u001b[38;5;241m.\u001b[39m\u001b[38;5;18m__dict__\u001b[39m[\u001b[38;5;124m\"\u001b[39m\u001b[38;5;124m_content\u001b[39m\u001b[38;5;124m\"\u001b[39m][key] \u001b[38;5;241m=\u001b[39m wrapped\n",
      "File \u001b[0;32m~/.cache/pypoetry/virtualenvs/spatial-G_n0JvVf-py3.10/lib/python3.10/site-packages/omegaconf/base.py:231\u001b[0m, in \u001b[0;36mNode._format_and_raise\u001b[0;34m(self, key, value, cause, msg, type_override)\u001b[0m\n\u001b[1;32m    223\u001b[0m \u001b[38;5;28;01mdef\u001b[39;00m \u001b[38;5;21m_format_and_raise\u001b[39m(\n\u001b[1;32m    224\u001b[0m     \u001b[38;5;28mself\u001b[39m,\n\u001b[1;32m    225\u001b[0m     key: Any,\n\u001b[0;32m   (...)\u001b[0m\n\u001b[1;32m    229\u001b[0m     type_override: Any \u001b[38;5;241m=\u001b[39m \u001b[38;5;28;01mNone\u001b[39;00m,\n\u001b[1;32m    230\u001b[0m ) \u001b[38;5;241m-\u001b[39m\u001b[38;5;241m>\u001b[39m \u001b[38;5;28;01mNone\u001b[39;00m:\n\u001b[0;32m--> 231\u001b[0m     \u001b[43mformat_and_raise\u001b[49m\u001b[43m(\u001b[49m\n\u001b[1;32m    232\u001b[0m \u001b[43m        \u001b[49m\u001b[43mnode\u001b[49m\u001b[38;5;241;43m=\u001b[39;49m\u001b[38;5;28;43mself\u001b[39;49m\u001b[43m,\u001b[49m\n\u001b[1;32m    233\u001b[0m \u001b[43m        \u001b[49m\u001b[43mkey\u001b[49m\u001b[38;5;241;43m=\u001b[39;49m\u001b[43mkey\u001b[49m\u001b[43m,\u001b[49m\n\u001b[1;32m    234\u001b[0m \u001b[43m        \u001b[49m\u001b[43mvalue\u001b[49m\u001b[38;5;241;43m=\u001b[39;49m\u001b[43mvalue\u001b[49m\u001b[43m,\u001b[49m\n\u001b[1;32m    235\u001b[0m \u001b[43m        \u001b[49m\u001b[43mmsg\u001b[49m\u001b[38;5;241;43m=\u001b[39;49m\u001b[38;5;28;43mstr\u001b[39;49m\u001b[43m(\u001b[49m\u001b[43mcause\u001b[49m\u001b[43m)\u001b[49m\u001b[43m \u001b[49m\u001b[38;5;28;43;01mif\u001b[39;49;00m\u001b[43m \u001b[49m\u001b[43mmsg\u001b[49m\u001b[43m \u001b[49m\u001b[38;5;129;43;01mis\u001b[39;49;00m\u001b[43m \u001b[49m\u001b[38;5;28;43;01mNone\u001b[39;49;00m\u001b[43m \u001b[49m\u001b[38;5;28;43;01melse\u001b[39;49;00m\u001b[43m \u001b[49m\u001b[43mmsg\u001b[49m\u001b[43m,\u001b[49m\n\u001b[1;32m    236\u001b[0m \u001b[43m        \u001b[49m\u001b[43mcause\u001b[49m\u001b[38;5;241;43m=\u001b[39;49m\u001b[43mcause\u001b[49m\u001b[43m,\u001b[49m\n\u001b[1;32m    237\u001b[0m \u001b[43m        \u001b[49m\u001b[43mtype_override\u001b[49m\u001b[38;5;241;43m=\u001b[39;49m\u001b[43mtype_override\u001b[49m\u001b[43m,\u001b[49m\n\u001b[1;32m    238\u001b[0m \u001b[43m    \u001b[49m\u001b[43m)\u001b[49m\n\u001b[1;32m    239\u001b[0m     \u001b[38;5;28;01massert\u001b[39;00m \u001b[38;5;28;01mFalse\u001b[39;00m\n",
      "File \u001b[0;32m~/.cache/pypoetry/virtualenvs/spatial-G_n0JvVf-py3.10/lib/python3.10/site-packages/omegaconf/_utils.py:899\u001b[0m, in \u001b[0;36mformat_and_raise\u001b[0;34m(node, key, value, msg, cause, type_override)\u001b[0m\n\u001b[1;32m    896\u001b[0m     ex\u001b[38;5;241m.\u001b[39mref_type \u001b[38;5;241m=\u001b[39m ref_type\n\u001b[1;32m    897\u001b[0m     ex\u001b[38;5;241m.\u001b[39mref_type_str \u001b[38;5;241m=\u001b[39m ref_type_str\n\u001b[0;32m--> 899\u001b[0m \u001b[43m_raise\u001b[49m\u001b[43m(\u001b[49m\u001b[43mex\u001b[49m\u001b[43m,\u001b[49m\u001b[43m \u001b[49m\u001b[43mcause\u001b[49m\u001b[43m)\u001b[49m\n",
      "File \u001b[0;32m~/.cache/pypoetry/virtualenvs/spatial-G_n0JvVf-py3.10/lib/python3.10/site-packages/omegaconf/_utils.py:797\u001b[0m, in \u001b[0;36m_raise\u001b[0;34m(ex, cause)\u001b[0m\n\u001b[1;32m    795\u001b[0m \u001b[38;5;28;01melse\u001b[39;00m:\n\u001b[1;32m    796\u001b[0m     ex\u001b[38;5;241m.\u001b[39m__cause__ \u001b[38;5;241m=\u001b[39m \u001b[38;5;28;01mNone\u001b[39;00m\n\u001b[0;32m--> 797\u001b[0m \u001b[38;5;28;01mraise\u001b[39;00m ex\u001b[38;5;241m.\u001b[39mwith_traceback(sys\u001b[38;5;241m.\u001b[39mexc_info()[\u001b[38;5;241m2\u001b[39m])\n",
      "File \u001b[0;32m~/.cache/pypoetry/virtualenvs/spatial-G_n0JvVf-py3.10/lib/python3.10/site-packages/omegaconf/basecontainer.py:628\u001b[0m, in \u001b[0;36mBaseContainer._wrap_value_and_set\u001b[0;34m(self, key, val, type_hint)\u001b[0m\n\u001b[1;32m    625\u001b[0m is_optional, ref_type \u001b[38;5;241m=\u001b[39m _resolve_optional(type_hint)\n\u001b[1;32m    627\u001b[0m \u001b[38;5;28;01mtry\u001b[39;00m:\n\u001b[0;32m--> 628\u001b[0m     wrapped \u001b[38;5;241m=\u001b[39m \u001b[43m_maybe_wrap\u001b[49m\u001b[43m(\u001b[49m\n\u001b[1;32m    629\u001b[0m \u001b[43m        \u001b[49m\u001b[43mref_type\u001b[49m\u001b[38;5;241;43m=\u001b[39;49m\u001b[43mref_type\u001b[49m\u001b[43m,\u001b[49m\n\u001b[1;32m    630\u001b[0m \u001b[43m        \u001b[49m\u001b[43mkey\u001b[49m\u001b[38;5;241;43m=\u001b[39;49m\u001b[43mkey\u001b[49m\u001b[43m,\u001b[49m\n\u001b[1;32m    631\u001b[0m \u001b[43m        \u001b[49m\u001b[43mvalue\u001b[49m\u001b[38;5;241;43m=\u001b[39;49m\u001b[43mval\u001b[49m\u001b[43m,\u001b[49m\n\u001b[1;32m    632\u001b[0m \u001b[43m        \u001b[49m\u001b[43mis_optional\u001b[49m\u001b[38;5;241;43m=\u001b[39;49m\u001b[43mis_optional\u001b[49m\u001b[43m,\u001b[49m\n\u001b[1;32m    633\u001b[0m \u001b[43m        \u001b[49m\u001b[43mparent\u001b[49m\u001b[38;5;241;43m=\u001b[39;49m\u001b[38;5;28;43mself\u001b[39;49m\u001b[43m,\u001b[49m\n\u001b[1;32m    634\u001b[0m \u001b[43m    \u001b[49m\u001b[43m)\u001b[49m\n\u001b[1;32m    635\u001b[0m \u001b[38;5;28;01mexcept\u001b[39;00m ValidationError \u001b[38;5;28;01mas\u001b[39;00m e:\n\u001b[1;32m    636\u001b[0m     \u001b[38;5;28mself\u001b[39m\u001b[38;5;241m.\u001b[39m_format_and_raise(key\u001b[38;5;241m=\u001b[39mkey, value\u001b[38;5;241m=\u001b[39mval, cause\u001b[38;5;241m=\u001b[39me)\n",
      "File \u001b[0;32m~/.cache/pypoetry/virtualenvs/spatial-G_n0JvVf-py3.10/lib/python3.10/site-packages/omegaconf/omegaconf.py:1105\u001b[0m, in \u001b[0;36m_maybe_wrap\u001b[0;34m(ref_type, key, value, is_optional, parent)\u001b[0m\n\u001b[1;32m   1103\u001b[0m     \u001b[38;5;28;01mreturn\u001b[39;00m value\n\u001b[1;32m   1104\u001b[0m \u001b[38;5;28;01melse\u001b[39;00m:\n\u001b[0;32m-> 1105\u001b[0m     \u001b[38;5;28;01mreturn\u001b[39;00m \u001b[43m_node_wrap\u001b[49m\u001b[43m(\u001b[49m\n\u001b[1;32m   1106\u001b[0m \u001b[43m        \u001b[49m\u001b[43mref_type\u001b[49m\u001b[38;5;241;43m=\u001b[39;49m\u001b[43mref_type\u001b[49m\u001b[43m,\u001b[49m\n\u001b[1;32m   1107\u001b[0m \u001b[43m        \u001b[49m\u001b[43mparent\u001b[49m\u001b[38;5;241;43m=\u001b[39;49m\u001b[43mparent\u001b[49m\u001b[43m,\u001b[49m\n\u001b[1;32m   1108\u001b[0m \u001b[43m        \u001b[49m\u001b[43mis_optional\u001b[49m\u001b[38;5;241;43m=\u001b[39;49m\u001b[43mis_optional\u001b[49m\u001b[43m,\u001b[49m\n\u001b[1;32m   1109\u001b[0m \u001b[43m        \u001b[49m\u001b[43mvalue\u001b[49m\u001b[38;5;241;43m=\u001b[39;49m\u001b[43mvalue\u001b[49m\u001b[43m,\u001b[49m\n\u001b[1;32m   1110\u001b[0m \u001b[43m        \u001b[49m\u001b[43mkey\u001b[49m\u001b[38;5;241;43m=\u001b[39;49m\u001b[43mkey\u001b[49m\u001b[43m,\u001b[49m\n\u001b[1;32m   1111\u001b[0m \u001b[43m    \u001b[49m\u001b[43m)\u001b[49m\n",
      "File \u001b[0;32m~/.cache/pypoetry/virtualenvs/spatial-G_n0JvVf-py3.10/lib/python3.10/site-packages/omegaconf/omegaconf.py:1045\u001b[0m, in \u001b[0;36m_node_wrap\u001b[0;34m(parent, is_optional, value, key, ref_type)\u001b[0m\n\u001b[1;32m   1037\u001b[0m     node \u001b[38;5;241m=\u001b[39m UnionNode(\n\u001b[1;32m   1038\u001b[0m         content\u001b[38;5;241m=\u001b[39mvalue,\n\u001b[1;32m   1039\u001b[0m         ref_type\u001b[38;5;241m=\u001b[39mref_type,\n\u001b[0;32m   (...)\u001b[0m\n\u001b[1;32m   1042\u001b[0m         parent\u001b[38;5;241m=\u001b[39mparent,\n\u001b[1;32m   1043\u001b[0m     )\n\u001b[1;32m   1044\u001b[0m \u001b[38;5;28;01melif\u001b[39;00m ref_type \u001b[38;5;241m==\u001b[39m Any \u001b[38;5;129;01mor\u001b[39;00m ref_type \u001b[38;5;129;01mis\u001b[39;00m \u001b[38;5;28;01mNone\u001b[39;00m:\n\u001b[0;32m-> 1045\u001b[0m     node \u001b[38;5;241m=\u001b[39m \u001b[43mAnyNode\u001b[49m\u001b[43m(\u001b[49m\u001b[43mvalue\u001b[49m\u001b[38;5;241;43m=\u001b[39;49m\u001b[43mvalue\u001b[49m\u001b[43m,\u001b[49m\u001b[43m \u001b[49m\u001b[43mkey\u001b[49m\u001b[38;5;241;43m=\u001b[39;49m\u001b[43mkey\u001b[49m\u001b[43m,\u001b[49m\u001b[43m \u001b[49m\u001b[43mparent\u001b[49m\u001b[38;5;241;43m=\u001b[39;49m\u001b[43mparent\u001b[49m\u001b[43m)\u001b[49m\n\u001b[1;32m   1046\u001b[0m \u001b[38;5;28;01melif\u001b[39;00m \u001b[38;5;28misinstance\u001b[39m(ref_type, \u001b[38;5;28mtype\u001b[39m) \u001b[38;5;129;01mand\u001b[39;00m \u001b[38;5;28missubclass\u001b[39m(ref_type, Enum):\n\u001b[1;32m   1047\u001b[0m     node \u001b[38;5;241m=\u001b[39m EnumNode(\n\u001b[1;32m   1048\u001b[0m         enum_type\u001b[38;5;241m=\u001b[39mref_type,\n\u001b[1;32m   1049\u001b[0m         value\u001b[38;5;241m=\u001b[39mvalue,\n\u001b[0;32m   (...)\u001b[0m\n\u001b[1;32m   1052\u001b[0m         is_optional\u001b[38;5;241m=\u001b[39mis_optional,\n\u001b[1;32m   1053\u001b[0m     )\n",
      "File \u001b[0;32m~/.cache/pypoetry/virtualenvs/spatial-G_n0JvVf-py3.10/lib/python3.10/site-packages/omegaconf/nodes.py:135\u001b[0m, in \u001b[0;36mAnyNode.__init__\u001b[0;34m(self, value, key, parent, flags)\u001b[0m\n\u001b[1;32m    128\u001b[0m \u001b[38;5;28;01mdef\u001b[39;00m \u001b[38;5;21m__init__\u001b[39m(\n\u001b[1;32m    129\u001b[0m     \u001b[38;5;28mself\u001b[39m,\n\u001b[1;32m    130\u001b[0m     value: Any \u001b[38;5;241m=\u001b[39m \u001b[38;5;28;01mNone\u001b[39;00m,\n\u001b[0;32m   (...)\u001b[0m\n\u001b[1;32m    133\u001b[0m     flags: Optional[Dict[\u001b[38;5;28mstr\u001b[39m, \u001b[38;5;28mbool\u001b[39m]] \u001b[38;5;241m=\u001b[39m \u001b[38;5;28;01mNone\u001b[39;00m,\n\u001b[1;32m    134\u001b[0m ):\n\u001b[0;32m--> 135\u001b[0m     \u001b[38;5;28;43msuper\u001b[39;49m\u001b[43m(\u001b[49m\u001b[43m)\u001b[49m\u001b[38;5;241;43m.\u001b[39;49m\u001b[38;5;21;43m__init__\u001b[39;49m\u001b[43m(\u001b[49m\n\u001b[1;32m    136\u001b[0m \u001b[43m        \u001b[49m\u001b[43mparent\u001b[49m\u001b[38;5;241;43m=\u001b[39;49m\u001b[43mparent\u001b[49m\u001b[43m,\u001b[49m\n\u001b[1;32m    137\u001b[0m \u001b[43m        \u001b[49m\u001b[43mvalue\u001b[49m\u001b[38;5;241;43m=\u001b[39;49m\u001b[43mvalue\u001b[49m\u001b[43m,\u001b[49m\n\u001b[1;32m    138\u001b[0m \u001b[43m        \u001b[49m\u001b[43mmetadata\u001b[49m\u001b[38;5;241;43m=\u001b[39;49m\u001b[43mMetadata\u001b[49m\u001b[43m(\u001b[49m\n\u001b[1;32m    139\u001b[0m \u001b[43m            \u001b[49m\u001b[43mref_type\u001b[49m\u001b[38;5;241;43m=\u001b[39;49m\u001b[43mAny\u001b[49m\u001b[43m,\u001b[49m\u001b[43m \u001b[49m\u001b[43mobject_type\u001b[49m\u001b[38;5;241;43m=\u001b[39;49m\u001b[38;5;28;43;01mNone\u001b[39;49;00m\u001b[43m,\u001b[49m\u001b[43m \u001b[49m\u001b[43mkey\u001b[49m\u001b[38;5;241;43m=\u001b[39;49m\u001b[43mkey\u001b[49m\u001b[43m,\u001b[49m\u001b[43m \u001b[49m\u001b[43moptional\u001b[49m\u001b[38;5;241;43m=\u001b[39;49m\u001b[38;5;28;43;01mTrue\u001b[39;49;00m\u001b[43m,\u001b[49m\u001b[43m \u001b[49m\u001b[43mflags\u001b[49m\u001b[38;5;241;43m=\u001b[39;49m\u001b[43mflags\u001b[49m\n\u001b[1;32m    140\u001b[0m \u001b[43m        \u001b[49m\u001b[43m)\u001b[49m\u001b[43m,\u001b[49m\n\u001b[1;32m    141\u001b[0m \u001b[43m    \u001b[49m\u001b[43m)\u001b[49m\n",
      "File \u001b[0;32m~/.cache/pypoetry/virtualenvs/spatial-G_n0JvVf-py3.10/lib/python3.10/site-packages/omegaconf/nodes.py:29\u001b[0m, in \u001b[0;36mValueNode.__init__\u001b[0;34m(self, parent, value, metadata)\u001b[0m\n\u001b[1;32m     27\u001b[0m \u001b[38;5;28msuper\u001b[39m()\u001b[38;5;241m.\u001b[39m\u001b[38;5;21m__init__\u001b[39m(parent\u001b[38;5;241m=\u001b[39mparent, metadata\u001b[38;5;241m=\u001b[39mmetadata)\n\u001b[1;32m     28\u001b[0m \u001b[38;5;28;01mwith\u001b[39;00m read_write(\u001b[38;5;28mself\u001b[39m):\n\u001b[0;32m---> 29\u001b[0m     \u001b[38;5;28;43mself\u001b[39;49m\u001b[38;5;241;43m.\u001b[39;49m\u001b[43m_set_value\u001b[49m\u001b[43m(\u001b[49m\u001b[43mvalue\u001b[49m\u001b[43m)\u001b[49m\n",
      "File \u001b[0;32m~/.cache/pypoetry/virtualenvs/spatial-G_n0JvVf-py3.10/lib/python3.10/site-packages/omegaconf/nodes.py:46\u001b[0m, in \u001b[0;36mValueNode._set_value\u001b[0;34m(self, value, flags)\u001b[0m\n\u001b[1;32m     44\u001b[0m     \u001b[38;5;28mself\u001b[39m\u001b[38;5;241m.\u001b[39m_val \u001b[38;5;241m=\u001b[39m value\n\u001b[1;32m     45\u001b[0m \u001b[38;5;28;01melse\u001b[39;00m:\n\u001b[0;32m---> 46\u001b[0m     \u001b[38;5;28mself\u001b[39m\u001b[38;5;241m.\u001b[39m_val \u001b[38;5;241m=\u001b[39m \u001b[38;5;28;43mself\u001b[39;49m\u001b[38;5;241;43m.\u001b[39;49m\u001b[43mvalidate_and_convert\u001b[49m\u001b[43m(\u001b[49m\u001b[43mvalue\u001b[49m\u001b[43m)\u001b[49m\n",
      "File \u001b[0;32m~/.cache/pypoetry/virtualenvs/spatial-G_n0JvVf-py3.10/lib/python3.10/site-packages/omegaconf/nodes.py:76\u001b[0m, in \u001b[0;36mValueNode.validate_and_convert\u001b[0;34m(self, value)\u001b[0m\n\u001b[1;32m     74\u001b[0m     \u001b[38;5;28;01mreturn\u001b[39;00m value\n\u001b[1;32m     75\u001b[0m \u001b[38;5;28;01melse\u001b[39;00m:\n\u001b[0;32m---> 76\u001b[0m     \u001b[38;5;28;01mreturn\u001b[39;00m \u001b[38;5;28;43mself\u001b[39;49m\u001b[38;5;241;43m.\u001b[39;49m\u001b[43m_validate_and_convert_impl\u001b[49m\u001b[43m(\u001b[49m\u001b[43mvalue\u001b[49m\u001b[43m)\u001b[49m\n",
      "File \u001b[0;32m~/.cache/pypoetry/virtualenvs/spatial-G_n0JvVf-py3.10/lib/python3.10/site-packages/omegaconf/nodes.py:154\u001b[0m, in \u001b[0;36mAnyNode._validate_and_convert_impl\u001b[0;34m(self, value)\u001b[0m\n\u001b[1;32m    150\u001b[0m \u001b[38;5;28;01mif\u001b[39;00m \u001b[38;5;28mself\u001b[39m\u001b[38;5;241m.\u001b[39m_get_flag(\n\u001b[1;32m    151\u001b[0m     \u001b[38;5;124m\"\u001b[39m\u001b[38;5;124mallow_objects\u001b[39m\u001b[38;5;124m\"\u001b[39m\n\u001b[1;32m    152\u001b[0m ) \u001b[38;5;129;01mis\u001b[39;00m \u001b[38;5;129;01mnot\u001b[39;00m \u001b[38;5;28;01mTrue\u001b[39;00m \u001b[38;5;129;01mand\u001b[39;00m \u001b[38;5;129;01mnot\u001b[39;00m is_primitive_type_annotation(value):\n\u001b[1;32m    153\u001b[0m     t \u001b[38;5;241m=\u001b[39m get_type_of(value)\n\u001b[0;32m--> 154\u001b[0m     \u001b[38;5;28;01mraise\u001b[39;00m UnsupportedValueType(\n\u001b[1;32m    155\u001b[0m         \u001b[38;5;124mf\u001b[39m\u001b[38;5;124m\"\u001b[39m\u001b[38;5;124mValue \u001b[39m\u001b[38;5;124m'\u001b[39m\u001b[38;5;132;01m{\u001b[39;00mt\u001b[38;5;241m.\u001b[39m\u001b[38;5;18m__name__\u001b[39m\u001b[38;5;132;01m}\u001b[39;00m\u001b[38;5;124m'\u001b[39m\u001b[38;5;124m is not a supported primitive type\u001b[39m\u001b[38;5;124m\"\u001b[39m\n\u001b[1;32m    156\u001b[0m     )\n\u001b[1;32m    157\u001b[0m \u001b[38;5;28;01mreturn\u001b[39;00m value\n",
      "\u001b[0;31mUnsupportedValueType\u001b[0m: Value 'SyntheticNonlinear' is not a supported primitive type\n    full_key: [0]\n    object_type=list"
     ]
    }
   ],
   "source": [
    "import hydra\n",
    "from hydra.experimental import compose, initialize\n",
    "\n",
    "test_loss_rad_dict_response = {}\n",
    "\n",
    "for rad in range(30,31,1):\n",
    "    with initialize(config_path=\"../config\"):\n",
    "        cfg_from_terminal = compose(config_name=\"config\")\n",
    "#         OmegaConf.update(cfg_from_terminal, \"model.kwargs.observables_dimension\", 71)\n",
    "        OmegaConf.update(cfg_from_terminal, \"model.kwargs.hidden_dimensions\", [128, 128, 128, 128, 128, 128])\n",
    "#         OmegaConf.update(cfg_from_terminal, \"model.kwargs.output_dimension\", 84)\n",
    "        OmegaConf.update(cfg_from_terminal, \"training.logger_name\", \"table2\")\n",
    "        OmegaConf.update(cfg_from_terminal, \"radius\", rad)\n",
    "        OmegaConf.update(cfg_from_terminal, \"gpus\", [1])\n",
    "        OmegaConf.update(cfg_from_terminal, \"model.kwargs.response_genes\", [0])\n",
    "        OmegaConf.update(cfg_from_terminal, \"datasets.dataset\", [SyntheticNonlinear])\n",
    "        output = test(cfg_from_terminal)\n",
    "        trainer, l1_losses, inputs, gene_expressions, celltypes, test_results = output\n",
    "        test_loss_rad_dict_response[rad] = test_results[0]['test_loss']"
   ]
  },
  {
   "cell_type": "code",
   "execution_count": null,
   "id": "d76bd04c",
   "metadata": {},
   "outputs": [],
   "source": [
    "torch.mean(torch.abs(inputs[:, 93] - gene_expressions[:, 93]))"
   ]
  },
  {
   "cell_type": "code",
   "execution_count": null,
   "id": "3fb0d04e",
   "metadata": {},
   "outputs": [],
   "source": [
    "test_loss_rad_dict_response"
   ]
  },
  {
   "cell_type": "markdown",
   "id": "4edf0e49",
   "metadata": {},
   "source": [
    "General deepST for Individual Gene Predictions"
   ]
  },
  {
   "cell_type": "code",
   "execution_count": null,
   "id": "698f7fe2",
   "metadata": {},
   "outputs": [],
   "source": [
    "import hydra\n",
    "from hydra.experimental import compose, initialize\n",
    "\n",
    "test_loss_rad_dict_response = {}\n",
    "test_loss_rad_dict_93 = {}\n",
    "test_loss_rad_dict_151 = {}\n",
    "\n",
    "for rad in range(0,80,10):\n",
    "    with initialize(config_path=\"../config\"):\n",
    "        cfg_from_terminal = compose(config_name=\"config\")\n",
    "        OmegaConf.update(cfg_from_terminal, \"model.kwargs.hidden_dimensions\", [128, 128, 128, 128, 128, 128])\n",
    "        OmegaConf.update(cfg_from_terminal, \"radius\", rad)\n",
    "        trainer, l1_losses, inputs, gene_expressions, celltypes, test_results = output\n",
    "        test_loss_rad_dict_response[rad] = test_results[0]['test_loss']"
   ]
  },
  {
   "cell_type": "code",
   "execution_count": null,
   "id": "f3ad0dc6",
   "metadata": {},
   "outputs": [],
   "source": [
    "test_loss_rad_dict_93, test_loss_rad_dict_151"
   ]
  },
  {
   "cell_type": "code",
   "execution_count": null,
   "id": "ebec781b",
   "metadata": {
    "scrolled": true
   },
   "outputs": [],
   "source": [
    "# equivalent to spatial\n",
    "\n",
    "import hydra\n",
    "from hydra.experimental import compose, initialize\n",
    "\n",
    "with initialize(config_path=\"../config\"):\n",
    "    cfg_from_terminal = compose(config_name=\"config\")\n",
    "    OmegaConf.update(cfg_from_terminal, \"model.kwargs.hidden_dimensions\", [256, 256])\n",
    "    OmegaConf.update(cfg_from_terminal, \"training.logger_name\", \"neighbors_large\")\n",
    "    OmegaConf.update(cfg_from_terminal, \"radius\", 0)\n",
    "    output = test(cfg_from_terminal)\n",
    "    trainer, l1_losses, inputs, gene_expressions, celltypes, test_results = output\n",
    "    excitatory_cells = (celltypes == 6).nonzero(as_tuple=True)[0]\n",
    "    MAE_excitatory = torch.abs(torch.index_select((gene_expressions-inputs)[excitatory_cells], 1, torch.tensor(response_indeces))).mean().item()"
   ]
  },
  {
   "cell_type": "code",
   "execution_count": null,
   "id": "3f7d889e",
   "metadata": {},
   "outputs": [],
   "source": [
    "MAE_excitatory"
   ]
  },
  {
   "cell_type": "code",
   "execution_count": null,
   "id": "b3980c72",
   "metadata": {},
   "outputs": [],
   "source": [
    "trainer, l1_losses, inputs, gene_expressions, celltypes, test_results = output"
   ]
  },
  {
   "cell_type": "code",
   "execution_count": null,
   "id": "1e8279cb",
   "metadata": {},
   "outputs": [],
   "source": [
    "test_results[0]['test_loss: mae_response']"
   ]
  },
  {
   "cell_type": "code",
   "execution_count": null,
   "id": "64905249",
   "metadata": {},
   "outputs": [],
   "source": [
    "# equivalent to spatial\n",
    "\n",
    "import hydra\n",
    "from hydra.experimental import compose, initialize\n",
    "\n",
    "with initialize(config_path=\"../config\"):\n",
    "    cfg_from_terminal = compose(config_name=\"config\")\n",
    "    output = test(cfg_from_terminal)"
   ]
  },
  {
   "cell_type": "markdown",
   "id": "8d50ae0d",
   "metadata": {},
   "source": [
    "# Testing Models with Updates"
   ]
  },
  {
   "cell_type": "code",
   "execution_count": null,
   "id": "piano-crisis",
   "metadata": {
    "scrolled": true
   },
   "outputs": [],
   "source": [
    "# equivalent to spatial\n",
    "\n",
    "import hydra\n",
    "from hydra.experimental import compose, initialize\n",
    "\n",
    "with initialize(config_path=\"../config\"):\n",
    "    cfg_from_terminal = compose(config_name=\"config\")\n",
    "    # update the behavior to get the model of interest\n",
    "    OmegaConf.update(cfg_from_terminal, \"datasets.dataset.behaviors\", [\"Parenting\"])\n",
    "    output = test(cfg_from_terminal)"
   ]
  },
  {
   "cell_type": "code",
   "execution_count": null,
   "id": "opening-james",
   "metadata": {},
   "outputs": [],
   "source": [
    "trainer, l1_losses, inputs, gene_expressions, celltypes, test_results = output"
   ]
  },
  {
   "cell_type": "code",
   "execution_count": null,
   "id": "joint-catalyst",
   "metadata": {},
   "outputs": [],
   "source": [
    "with open('../spatial/non_response.txt', \"r\") as genes_file:\n",
    "    features = [int(x) for x in genes_file.read().split(\",\")]\n",
    "    response_indeces = torch.tensor(list(set(range(160)) - set(features)))\n",
    "    genes_file.close()"
   ]
  },
  {
   "cell_type": "code",
   "execution_count": null,
   "id": "critical-minority",
   "metadata": {},
   "outputs": [],
   "source": [
    "excitatory_cells = (celltypes == 6).nonzero(as_tuple=True)[0]"
   ]
  },
  {
   "cell_type": "code",
   "execution_count": null,
   "id": "blessed-voluntary",
   "metadata": {},
   "outputs": [],
   "source": [
    "import torch\n",
    "\n",
    "loss = torch.nn.L1Loss()\n",
    "loss(torch.index_select(inputs[excitatory_cells], 1, response_indeces), torch.index_select(gene_expressions[excitatory_cells], 1, response_indeces))"
   ]
  },
  {
   "cell_type": "code",
   "execution_count": null,
   "id": "destroyed-volunteer",
   "metadata": {},
   "outputs": [],
   "source": [
    "# equivalent to spatial\n",
    "\n",
    "import hydra\n",
    "from hydra.experimental import compose, initialize\n",
    "\n",
    "with initialize(config_path=\"../config\"):\n",
    "    cfg_from_terminal = compose(config_name=\"config\")\n",
    "    # update the behavior to get the model of interest\n",
    "    OmegaConf.update(cfg_from_terminal, \"datasets.dataset.behaviors\", [\"Virgin Parenting\"])\n",
    "    output = test(cfg_from_terminal)"
   ]
  },
  {
   "cell_type": "code",
   "execution_count": null,
   "id": "becoming-audit",
   "metadata": {},
   "outputs": [],
   "source": [
    "trainer, l1_losses, inputs, gene_expressions, celltypes, test_results = output"
   ]
  },
  {
   "cell_type": "code",
   "execution_count": null,
   "id": "eleven-guarantee",
   "metadata": {},
   "outputs": [],
   "source": [
    "excitatory_cells = (celltypes == 6).nonzero(as_tuple=True)[0]"
   ]
  },
  {
   "cell_type": "code",
   "execution_count": null,
   "id": "welsh-michael",
   "metadata": {},
   "outputs": [],
   "source": [
    "import torch\n",
    "\n",
    "loss = torch.nn.L1Loss()\n",
    "loss(torch.index_select(inputs[excitatory_cells], 1, response_indeces), torch.index_select(gene_expressions[excitatory_cells], 1, response_indeces))"
   ]
  },
  {
   "cell_type": "code",
   "execution_count": null,
   "id": "intensive-berlin",
   "metadata": {},
   "outputs": [],
   "source": [
    "# equivalent to spatial\n",
    "\n",
    "import hydra\n",
    "from hydra.experimental import compose, initialize\n",
    "\n",
    "with initialize(config_path=\"../config\"):\n",
    "    cfg_from_terminal = compose(config_name=\"config\")\n",
    "    # update the behavior to get the model of interest\n",
    "    OmegaConf.update(cfg_from_terminal, \"datasets.dataset.behaviors\", [\"Naive\"])\n",
    "    output = test(cfg_from_terminal)"
   ]
  },
  {
   "cell_type": "code",
   "execution_count": null,
   "id": "manual-filter",
   "metadata": {},
   "outputs": [],
   "source": [
    "trainer, l1_losses, inputs, gene_expressions, celltypes, test_results = output"
   ]
  },
  {
   "cell_type": "code",
   "execution_count": null,
   "id": "gorgeous-atlantic",
   "metadata": {},
   "outputs": [],
   "source": [
    "excitatory_cells = (celltypes == 6).nonzero(as_tuple=True)[0]"
   ]
  },
  {
   "cell_type": "code",
   "execution_count": null,
   "id": "choice-dispute",
   "metadata": {},
   "outputs": [],
   "source": [
    "import torch\n",
    "\n",
    "loss = torch.nn.L1Loss()\n",
    "loss(torch.index_select(inputs[excitatory_cells], 1, response_indeces), torch.index_select(gene_expressions[excitatory_cells], 1, response_indeces))"
   ]
  }
 ],
 "metadata": {
  "kernelspec": {
   "display_name": "Python 3 (ipykernel)",
   "language": "python",
   "name": "python3"
  },
  "language_info": {
   "codemirror_mode": {
    "name": "ipython",
    "version": 3
   },
   "file_extension": ".py",
   "mimetype": "text/x-python",
   "name": "python",
   "nbconvert_exporter": "python",
   "pygments_lexer": "ipython3",
   "version": "3.10.6"
  }
 },
 "nbformat": 4,
 "nbformat_minor": 5
}
