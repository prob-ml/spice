{
 "cells": [
  {
   "cell_type": "code",
   "execution_count": 1,
   "id": "agreed-interaction",
   "metadata": {},
   "outputs": [],
   "source": [
    "import os\n",
    "import torch\n",
    "\n",
    "os.environ[\"MKL_NUM_THREADS\"]=\"1\"\n",
    "os.environ[\"NUMEXPR_NUM_THREADS\"]=\"1\"\n",
    "os.environ[\"OMP_NUM_THREADS\"]=\"1\"\n",
    "\n",
    "import sys\n",
    "\n",
    "import pytorch_lightning as pl\n",
    "from omegaconf import DictConfig, OmegaConf\n",
    "from pytorch_lightning.callbacks import ModelCheckpoint\n",
    "from pytorch_lightning.loggers import TensorBoardLogger\n",
    "from torch.utils.data import random_split\n",
    "from torch_geometric.data import DataLoader\n",
    "\n",
    "from spatial.merfish_dataset import FilteredMerfishDataset, MerfishDataset\n",
    "from spatial.models.monet_ae import MonetAutoencoder2D, TrivialAutoencoder, MonetDense\n",
    "from spatial.train import train\n",
    "from spatial.predict import test"
   ]
  },
  {
   "cell_type": "markdown",
   "id": "equipped-press",
   "metadata": {},
   "source": [
    "# Testing Any Model"
   ]
  },
  {
   "cell_type": "code",
   "execution_count": 2,
   "id": "7aa3c96e",
   "metadata": {},
   "outputs": [
    {
     "name": "stderr",
     "output_type": "stream",
     "text": [
      "/home/roko/.cache/pypoetry/virtualenvs/spatial-G_n0JvVf-py3.8/lib/python3.8/site-packages/openpyxl/worksheet/_reader.py:312: UserWarning: Unknown extension is not supported and will be removed\n",
      "  warn(msg)\n"
     ]
    },
    {
     "name": "stdout",
     "output_type": "stream",
     "text": [
      "['Cbln1', 'Cxcl14', 'Crhbp', 'Gabra1', 'Cbln2', 'Gpr165', 'Glra3', 'Gabrg1', 'Adora2a', 'Vgf', 'Scg2', 'Cartpt', 'Tac2', 'Bdnf', 'Bmp7', 'Cyr61', 'Fn1', 'Fst', 'Gad1', 'Ntng1', 'Pnoc', 'Selplg', 'Sema3c', 'Sema4d', 'Serpine1', 'Adcyap1', 'Cck', 'Crh', 'Gal', 'Gnrh1', 'Nts', 'Oxt', 'Penk', 'Sst', 'Tac1', 'Trh', 'Ucn3', 'Avpr1a', 'Avpr2', 'Brs3', 'Calcr', 'Cckar', 'Cckbr', 'Crhr1', 'Crhr2', 'Galr1', 'Galr2', 'Grpr', 'Htr2c', 'Igf1r', 'Igf2r', 'Kiss1r', 'Lepr', 'Lpar1', 'Mc4r', 'Npy1r', 'Npy2r', 'Ntsr1', 'Oprd1', 'Oprk1', 'Oprl1', 'Oxtr', 'Pdgfra', 'Prlr', 'Ramp3', 'Rxfp1', 'Slc17a7', 'Slc18a2', 'Tacr1', 'Tacr3', 'Trhr']\n",
      "There are 71 genes recognized as either ligands or receptors (including new ones).\n",
      "There are 0 blank genes.\n",
      "There are 84 genes that are treated as response variables.\n",
      "There are 31 ligands.\n",
      "There are 40 receptors.\n"
     ]
    }
   ],
   "source": [
    "# read in merfish dataset and get columns names\n",
    "import pandas as pd\n",
    "\n",
    "# get relevant data stuff\n",
    "df_file = pd.ExcelFile(\"~/spatial/data/messi.xlsx\")\n",
    "messi_df = pd.read_excel(df_file, \"All.Pairs\")\n",
    "merfish_df = pd.read_csv(\"~/spatial/data/raw/merfish.csv\")\n",
    "merfish_df = merfish_df.drop(['Blank_1', 'Blank_2', 'Blank_3', 'Blank_4', 'Blank_5', 'Fos'], axis=1)\n",
    "\n",
    "# these are the 13 ligands or receptors found in MESSI\n",
    "non_response_genes = ['Cbln1', 'Cxcl14', 'Crhbp', 'Gabra1', 'Cbln2', 'Gpr165', \n",
    "                      'Glra3', 'Gabrg1', 'Adora2a', 'Vgf', 'Scg2', 'Cartpt',\n",
    "                      'Tac2']\n",
    "# this list stores the control genes aka \"Blank_{int}\"\n",
    "blank_genes = []\n",
    "\n",
    "# we will populate all of the non-response genes as being in one or the other\n",
    "# the ones already filled in come from the existing 13 L/R genes above\n",
    "ligands = [\"Cbln1\", \"Cxcl14\", \"Cbln2\", \"Vgf\", \"Scg2\", \"Cartpt\", \"Tac2\"]\n",
    "receptors = [\"Crhbp\", \"Gabra1\", \"Gpr165\", \"Glra3\", \"Gabrg1\", \"Adora2a\"]\n",
    "\n",
    "# ligands and receptor indexes in MERFISH\n",
    "non_response_indeces = [list(merfish_df.columns).index(gene)-9 for gene in non_response_genes]\n",
    "ligand_indeces = [list(merfish_df.columns).index(gene)-9 for gene in ligands]\n",
    "receptor_indeces = [list(merfish_df.columns).index(gene)-9 for gene in receptors]\n",
    "all_pairs_columns = [\n",
    "    \"Ligand.ApprovedSymbol\",\n",
    "    \"Receptor.ApprovedSymbol\",\n",
    "]\n",
    "\n",
    "\n",
    "# for column name in the column names above\n",
    "for column in all_pairs_columns:\n",
    "    for gene in merfish_df.columns:\n",
    "        if (\n",
    "            gene.upper() in list(messi_df[column])\n",
    "            and gene.upper() not in non_response_genes\n",
    "        ):\n",
    "            non_response_genes.append(gene)\n",
    "            non_response_indeces.append(list(merfish_df.columns).index(gene)-9)\n",
    "            if column[0] == \"L\":\n",
    "                ligands.append(gene)\n",
    "                ligand_indeces.append(list(merfish_df.columns).index(gene)-9)\n",
    "            else:\n",
    "                receptors.append(gene)\n",
    "                receptor_indeces.append(list(merfish_df.columns).index(gene)-9)\n",
    "        if gene[:5] == \"Blank\" and gene not in blank_genes:\n",
    "            blank_genes.append(gene)\n",
    "            # non_response_indeces.append(list(merfish_df.columns).index(gene)-9)\n",
    "\n",
    "print(non_response_genes)\n",
    "print(\n",
    "    \"There are \"\n",
    "    + str(len(non_response_genes))\n",
    "    + \" genes recognized as either ligands or receptors (including new ones).\"\n",
    ")\n",
    "\n",
    "print(\n",
    "    \"There are \"\n",
    "    + str(len(blank_genes))\n",
    "    + \" blank genes.\"\n",
    ")\n",
    "\n",
    "print(\n",
    "    \"There are \"\n",
    "    + str(155 - len(blank_genes) - len(non_response_genes))\n",
    "    + \" genes that are treated as response variables.\"\n",
    ")\n",
    "\n",
    "print(\n",
    "    \"There are \"\n",
    "    + str(len(ligands))\n",
    "    + \" ligands.\"\n",
    ")\n",
    "\n",
    "print(\n",
    "    \"There are \"\n",
    "    + str(len(receptors))\n",
    "    + \" receptors.\"\n",
    ")\n",
    "\n",
    "response_indeces = list(set(range(155)) - set(non_response_indeces))"
   ]
  },
  {
   "cell_type": "code",
   "execution_count": 7,
   "id": "cdb16277",
   "metadata": {},
   "outputs": [
    {
     "ename": "ConfigAttributeError",
     "evalue": "Key 'test_animal' is not in struct\n    full_key: datasets.dataset.test_animal\n    object_type=dict",
     "output_type": "error",
     "traceback": [
      "\u001b[0;31m---------------------------------------------------------------------------\u001b[0m",
      "\u001b[0;31mConfigAttributeError\u001b[0m                      Traceback (most recent call last)",
      "Input \u001b[0;32mIn [7]\u001b[0m, in \u001b[0;36m<cell line: 6>\u001b[0;34m()\u001b[0m\n\u001b[1;32m     10\u001b[0m OmegaConf\u001b[38;5;241m.\u001b[39mupdate(cfg_from_terminal, \u001b[38;5;124m\"\u001b[39m\u001b[38;5;124mtraining.logger_name\u001b[39m\u001b[38;5;124m\"\u001b[39m, \u001b[38;5;124m\"\u001b[39m\u001b[38;5;124mtable2\u001b[39m\u001b[38;5;124m\"\u001b[39m)\n\u001b[1;32m     11\u001b[0m OmegaConf\u001b[38;5;241m.\u001b[39mupdate(cfg_from_terminal, \u001b[38;5;124m\"\u001b[39m\u001b[38;5;124mradius\u001b[39m\u001b[38;5;124m\"\u001b[39m, rad)\n\u001b[0;32m---> 12\u001b[0m \u001b[43mOmegaConf\u001b[49m\u001b[38;5;241;43m.\u001b[39;49m\u001b[43mupdate\u001b[49m\u001b[43m(\u001b[49m\u001b[43mcfg_from_terminal\u001b[49m\u001b[43m,\u001b[49m\u001b[43m \u001b[49m\u001b[38;5;124;43m\"\u001b[39;49m\u001b[38;5;124;43mdatasets.dataset.test_animal\u001b[39;49m\u001b[38;5;124;43m\"\u001b[39;49m\u001b[43m,\u001b[49m\u001b[43m \u001b[49m\u001b[43mtest_animal\u001b[49m\u001b[43m)\u001b[49m\n\u001b[1;32m     13\u001b[0m output \u001b[38;5;241m=\u001b[39m test(cfg_from_terminal)\n\u001b[1;32m     14\u001b[0m trainer, l1_losses, inputs, gene_expressions, celltypes, test_results \u001b[38;5;241m=\u001b[39m output\n",
      "File \u001b[0;32m~/.cache/pypoetry/virtualenvs/spatial-G_n0JvVf-py3.8/lib/python3.8/site-packages/omegaconf/omegaconf.py:750\u001b[0m, in \u001b[0;36mOmegaConf.update\u001b[0;34m(cfg, key, value, merge, force_add)\u001b[0m\n\u001b[1;32m    748\u001b[0m \u001b[38;5;28;01mif\u001b[39;00m OmegaConf\u001b[38;5;241m.\u001b[39mis_dict(root):\n\u001b[1;32m    749\u001b[0m     \u001b[38;5;28;01massert\u001b[39;00m \u001b[38;5;28misinstance\u001b[39m(last_key, \u001b[38;5;28mstr\u001b[39m)\n\u001b[0;32m--> 750\u001b[0m     \u001b[43mroot\u001b[49m\u001b[38;5;241;43m.\u001b[39;49m\u001b[38;5;21;43m__setattr__\u001b[39;49m\u001b[43m(\u001b[49m\u001b[43mlast_key\u001b[49m\u001b[43m,\u001b[49m\u001b[43m \u001b[49m\u001b[43mvalue\u001b[49m\u001b[43m)\u001b[49m\n\u001b[1;32m    751\u001b[0m \u001b[38;5;28;01melif\u001b[39;00m OmegaConf\u001b[38;5;241m.\u001b[39mis_list(root):\n\u001b[1;32m    752\u001b[0m     \u001b[38;5;28;01massert\u001b[39;00m \u001b[38;5;28misinstance\u001b[39m(last_key, \u001b[38;5;28mint\u001b[39m)\n",
      "File \u001b[0;32m~/.cache/pypoetry/virtualenvs/spatial-G_n0JvVf-py3.8/lib/python3.8/site-packages/omegaconf/dictconfig.py:337\u001b[0m, in \u001b[0;36mDictConfig.__setattr__\u001b[0;34m(self, key, value)\u001b[0m\n\u001b[1;32m    335\u001b[0m \u001b[38;5;28;01mexcept\u001b[39;00m \u001b[38;5;167;01mException\u001b[39;00m \u001b[38;5;28;01mas\u001b[39;00m e:\n\u001b[1;32m    336\u001b[0m     \u001b[38;5;28;01mif\u001b[39;00m \u001b[38;5;28misinstance\u001b[39m(e, OmegaConfBaseException) \u001b[38;5;129;01mand\u001b[39;00m e\u001b[38;5;241m.\u001b[39m_initialized:\n\u001b[0;32m--> 337\u001b[0m         \u001b[38;5;28;01mraise\u001b[39;00m e\n\u001b[1;32m    338\u001b[0m     \u001b[38;5;28mself\u001b[39m\u001b[38;5;241m.\u001b[39m_format_and_raise(key\u001b[38;5;241m=\u001b[39mkey, value\u001b[38;5;241m=\u001b[39mvalue, cause\u001b[38;5;241m=\u001b[39me)\n\u001b[1;32m    339\u001b[0m     \u001b[38;5;28;01massert\u001b[39;00m \u001b[38;5;28;01mFalse\u001b[39;00m\n",
      "File \u001b[0;32m~/.cache/pypoetry/virtualenvs/spatial-G_n0JvVf-py3.8/lib/python3.8/site-packages/omegaconf/dictconfig.py:334\u001b[0m, in \u001b[0;36mDictConfig.__setattr__\u001b[0;34m(self, key, value)\u001b[0m\n\u001b[1;32m    327\u001b[0m \u001b[38;5;124;03m\"\"\"\u001b[39;00m\n\u001b[1;32m    328\u001b[0m \u001b[38;5;124;03mAllow assigning attributes to DictConfig\u001b[39;00m\n\u001b[1;32m    329\u001b[0m \u001b[38;5;124;03m:param key:\u001b[39;00m\n\u001b[1;32m    330\u001b[0m \u001b[38;5;124;03m:param value:\u001b[39;00m\n\u001b[1;32m    331\u001b[0m \u001b[38;5;124;03m:return:\u001b[39;00m\n\u001b[1;32m    332\u001b[0m \u001b[38;5;124;03m\"\"\"\u001b[39;00m\n\u001b[1;32m    333\u001b[0m \u001b[38;5;28;01mtry\u001b[39;00m:\n\u001b[0;32m--> 334\u001b[0m     \u001b[38;5;28;43mself\u001b[39;49m\u001b[38;5;241;43m.\u001b[39;49m\u001b[43m__set_impl\u001b[49m\u001b[43m(\u001b[49m\u001b[43mkey\u001b[49m\u001b[43m,\u001b[49m\u001b[43m \u001b[49m\u001b[43mvalue\u001b[49m\u001b[43m)\u001b[49m\n\u001b[1;32m    335\u001b[0m \u001b[38;5;28;01mexcept\u001b[39;00m \u001b[38;5;167;01mException\u001b[39;00m \u001b[38;5;28;01mas\u001b[39;00m e:\n\u001b[1;32m    336\u001b[0m     \u001b[38;5;28;01mif\u001b[39;00m \u001b[38;5;28misinstance\u001b[39m(e, OmegaConfBaseException) \u001b[38;5;129;01mand\u001b[39;00m e\u001b[38;5;241m.\u001b[39m_initialized:\n",
      "File \u001b[0;32m~/.cache/pypoetry/virtualenvs/spatial-G_n0JvVf-py3.8/lib/python3.8/site-packages/omegaconf/dictconfig.py:318\u001b[0m, in \u001b[0;36mDictConfig.__set_impl\u001b[0;34m(self, key, value)\u001b[0m\n\u001b[1;32m    316\u001b[0m \u001b[38;5;28;01mdef\u001b[39;00m \u001b[38;5;21m__set_impl\u001b[39m(\u001b[38;5;28mself\u001b[39m, key: DictKeyType, value: Any) \u001b[38;5;241m-\u001b[39m\u001b[38;5;241m>\u001b[39m \u001b[38;5;28;01mNone\u001b[39;00m:\n\u001b[1;32m    317\u001b[0m     key \u001b[38;5;241m=\u001b[39m \u001b[38;5;28mself\u001b[39m\u001b[38;5;241m.\u001b[39m_validate_and_normalize_key(key)\n\u001b[0;32m--> 318\u001b[0m     \u001b[38;5;28;43mself\u001b[39;49m\u001b[38;5;241;43m.\u001b[39;49m\u001b[43m_set_item_impl\u001b[49m\u001b[43m(\u001b[49m\u001b[43mkey\u001b[49m\u001b[43m,\u001b[49m\u001b[43m \u001b[49m\u001b[43mvalue\u001b[49m\u001b[43m)\u001b[49m\n",
      "File \u001b[0;32m~/.cache/pypoetry/virtualenvs/spatial-G_n0JvVf-py3.8/lib/python3.8/site-packages/omegaconf/basecontainer.py:511\u001b[0m, in \u001b[0;36mBaseContainer._set_item_impl\u001b[0;34m(self, key, value)\u001b[0m\n\u001b[1;32m    509\u001b[0m         value\u001b[38;5;241m.\u001b[39m_set_key(old)\n\u001b[1;32m    510\u001b[0m \u001b[38;5;28;01melse\u001b[39;00m:\n\u001b[0;32m--> 511\u001b[0m     \u001b[38;5;28;43mself\u001b[39;49m\u001b[38;5;241;43m.\u001b[39;49m\u001b[43m_validate_set\u001b[49m\u001b[43m(\u001b[49m\u001b[43mkey\u001b[49m\u001b[43m,\u001b[49m\u001b[43m \u001b[49m\u001b[43mvalue\u001b[49m\u001b[43m)\u001b[49m\n\u001b[1;32m    513\u001b[0m \u001b[38;5;28;01mif\u001b[39;00m \u001b[38;5;28mself\u001b[39m\u001b[38;5;241m.\u001b[39m_get_flag(\u001b[38;5;124m\"\u001b[39m\u001b[38;5;124mreadonly\u001b[39m\u001b[38;5;124m\"\u001b[39m):\n\u001b[1;32m    514\u001b[0m     \u001b[38;5;28;01mraise\u001b[39;00m ReadonlyConfigError(\u001b[38;5;124m\"\u001b[39m\u001b[38;5;124mCannot change read-only config container\u001b[39m\u001b[38;5;124m\"\u001b[39m)\n",
      "File \u001b[0;32m~/.cache/pypoetry/virtualenvs/spatial-G_n0JvVf-py3.8/lib/python3.8/site-packages/omegaconf/dictconfig.py:180\u001b[0m, in \u001b[0;36mDictConfig._validate_set\u001b[0;34m(self, key, value)\u001b[0m\n\u001b[1;32m    177\u001b[0m \u001b[38;5;28;01mif\u001b[39;00m vk \u001b[38;5;241m==\u001b[39m ValueKind\u001b[38;5;241m.\u001b[39mMANDATORY_MISSING \u001b[38;5;129;01mor\u001b[39;00m value \u001b[38;5;129;01mis\u001b[39;00m \u001b[38;5;28;01mNone\u001b[39;00m:\n\u001b[1;32m    178\u001b[0m     \u001b[38;5;28;01mreturn\u001b[39;00m\n\u001b[0;32m--> 180\u001b[0m target \u001b[38;5;241m=\u001b[39m \u001b[38;5;28;43mself\u001b[39;49m\u001b[38;5;241;43m.\u001b[39;49m\u001b[43m_get_node\u001b[49m\u001b[43m(\u001b[49m\u001b[43mkey\u001b[49m\u001b[43m)\u001b[49m \u001b[38;5;28;01mif\u001b[39;00m key \u001b[38;5;129;01mis\u001b[39;00m \u001b[38;5;129;01mnot\u001b[39;00m \u001b[38;5;28;01mNone\u001b[39;00m \u001b[38;5;28;01melse\u001b[39;00m \u001b[38;5;28mself\u001b[39m\n\u001b[1;32m    182\u001b[0m target_has_ref_type \u001b[38;5;241m=\u001b[39m \u001b[38;5;28misinstance\u001b[39m(\n\u001b[1;32m    183\u001b[0m     target, DictConfig\n\u001b[1;32m    184\u001b[0m ) \u001b[38;5;129;01mand\u001b[39;00m target\u001b[38;5;241m.\u001b[39m_metadata\u001b[38;5;241m.\u001b[39mref_type \u001b[38;5;129;01mnot\u001b[39;00m \u001b[38;5;129;01min\u001b[39;00m (Any, \u001b[38;5;28mdict\u001b[39m)\n\u001b[1;32m    185\u001b[0m is_valid_target \u001b[38;5;241m=\u001b[39m target \u001b[38;5;129;01mis\u001b[39;00m \u001b[38;5;28;01mNone\u001b[39;00m \u001b[38;5;129;01mor\u001b[39;00m \u001b[38;5;129;01mnot\u001b[39;00m target_has_ref_type\n",
      "File \u001b[0;32m~/.cache/pypoetry/virtualenvs/spatial-G_n0JvVf-py3.8/lib/python3.8/site-packages/omegaconf/dictconfig.py:465\u001b[0m, in \u001b[0;36mDictConfig._get_node\u001b[0;34m(self, key, validate_access, throw_on_missing_value, throw_on_missing_key)\u001b[0m\n\u001b[1;32m    462\u001b[0m         \u001b[38;5;28;01mreturn\u001b[39;00m \u001b[38;5;28;01mNone\u001b[39;00m\n\u001b[1;32m    464\u001b[0m \u001b[38;5;28;01mif\u001b[39;00m validate_access:\n\u001b[0;32m--> 465\u001b[0m     \u001b[38;5;28;43mself\u001b[39;49m\u001b[38;5;241;43m.\u001b[39;49m\u001b[43m_validate_get\u001b[49m\u001b[43m(\u001b[49m\u001b[43mkey\u001b[49m\u001b[43m)\u001b[49m\n\u001b[1;32m    467\u001b[0m value: Optional[Node] \u001b[38;5;241m=\u001b[39m \u001b[38;5;28mself\u001b[39m\u001b[38;5;241m.\u001b[39m\u001b[38;5;18m__dict__\u001b[39m[\u001b[38;5;124m\"\u001b[39m\u001b[38;5;124m_content\u001b[39m\u001b[38;5;124m\"\u001b[39m]\u001b[38;5;241m.\u001b[39mget(key)\n\u001b[1;32m    468\u001b[0m \u001b[38;5;28;01mif\u001b[39;00m value \u001b[38;5;129;01mis\u001b[39;00m \u001b[38;5;28;01mNone\u001b[39;00m:\n",
      "File \u001b[0;32m~/.cache/pypoetry/virtualenvs/spatial-G_n0JvVf-py3.8/lib/python3.8/site-packages/omegaconf/dictconfig.py:166\u001b[0m, in \u001b[0;36mDictConfig._validate_get\u001b[0;34m(self, key, value)\u001b[0m\n\u001b[1;32m    164\u001b[0m \u001b[38;5;28;01melse\u001b[39;00m:\n\u001b[1;32m    165\u001b[0m     msg \u001b[38;5;241m=\u001b[39m \u001b[38;5;124mf\u001b[39m\u001b[38;5;124m\"\u001b[39m\u001b[38;5;124mKey \u001b[39m\u001b[38;5;124m'\u001b[39m\u001b[38;5;132;01m{\u001b[39;00mkey\u001b[38;5;132;01m}\u001b[39;00m\u001b[38;5;124m'\u001b[39m\u001b[38;5;124m is not in struct\u001b[39m\u001b[38;5;124m\"\u001b[39m\n\u001b[0;32m--> 166\u001b[0m \u001b[38;5;28;43mself\u001b[39;49m\u001b[38;5;241;43m.\u001b[39;49m\u001b[43m_format_and_raise\u001b[49m\u001b[43m(\u001b[49m\n\u001b[1;32m    167\u001b[0m \u001b[43m    \u001b[49m\u001b[43mkey\u001b[49m\u001b[38;5;241;43m=\u001b[39;49m\u001b[43mkey\u001b[49m\u001b[43m,\u001b[49m\u001b[43m \u001b[49m\u001b[43mvalue\u001b[49m\u001b[38;5;241;43m=\u001b[39;49m\u001b[43mvalue\u001b[49m\u001b[43m,\u001b[49m\u001b[43m \u001b[49m\u001b[43mcause\u001b[49m\u001b[38;5;241;43m=\u001b[39;49m\u001b[43mConfigAttributeError\u001b[49m\u001b[43m(\u001b[49m\u001b[43mmsg\u001b[49m\u001b[43m)\u001b[49m\n\u001b[1;32m    168\u001b[0m \u001b[43m\u001b[49m\u001b[43m)\u001b[49m\n",
      "File \u001b[0;32m~/.cache/pypoetry/virtualenvs/spatial-G_n0JvVf-py3.8/lib/python3.8/site-packages/omegaconf/base.py:190\u001b[0m, in \u001b[0;36mNode._format_and_raise\u001b[0;34m(self, key, value, cause, type_override)\u001b[0m\n\u001b[1;32m    187\u001b[0m \u001b[38;5;28;01mdef\u001b[39;00m \u001b[38;5;21m_format_and_raise\u001b[39m(\n\u001b[1;32m    188\u001b[0m     \u001b[38;5;28mself\u001b[39m, key: Any, value: Any, cause: \u001b[38;5;167;01mException\u001b[39;00m, type_override: Any \u001b[38;5;241m=\u001b[39m \u001b[38;5;28;01mNone\u001b[39;00m\n\u001b[1;32m    189\u001b[0m ) \u001b[38;5;241m-\u001b[39m\u001b[38;5;241m>\u001b[39m \u001b[38;5;28;01mNone\u001b[39;00m:\n\u001b[0;32m--> 190\u001b[0m     \u001b[43mformat_and_raise\u001b[49m\u001b[43m(\u001b[49m\n\u001b[1;32m    191\u001b[0m \u001b[43m        \u001b[49m\u001b[43mnode\u001b[49m\u001b[38;5;241;43m=\u001b[39;49m\u001b[38;5;28;43mself\u001b[39;49m\u001b[43m,\u001b[49m\n\u001b[1;32m    192\u001b[0m \u001b[43m        \u001b[49m\u001b[43mkey\u001b[49m\u001b[38;5;241;43m=\u001b[39;49m\u001b[43mkey\u001b[49m\u001b[43m,\u001b[49m\n\u001b[1;32m    193\u001b[0m \u001b[43m        \u001b[49m\u001b[43mvalue\u001b[49m\u001b[38;5;241;43m=\u001b[39;49m\u001b[43mvalue\u001b[49m\u001b[43m,\u001b[49m\n\u001b[1;32m    194\u001b[0m \u001b[43m        \u001b[49m\u001b[43mmsg\u001b[49m\u001b[38;5;241;43m=\u001b[39;49m\u001b[38;5;28;43mstr\u001b[39;49m\u001b[43m(\u001b[49m\u001b[43mcause\u001b[49m\u001b[43m)\u001b[49m\u001b[43m,\u001b[49m\n\u001b[1;32m    195\u001b[0m \u001b[43m        \u001b[49m\u001b[43mcause\u001b[49m\u001b[38;5;241;43m=\u001b[39;49m\u001b[43mcause\u001b[49m\u001b[43m,\u001b[49m\n\u001b[1;32m    196\u001b[0m \u001b[43m        \u001b[49m\u001b[43mtype_override\u001b[49m\u001b[38;5;241;43m=\u001b[39;49m\u001b[43mtype_override\u001b[49m\u001b[43m,\u001b[49m\n\u001b[1;32m    197\u001b[0m \u001b[43m    \u001b[49m\u001b[43m)\u001b[49m\n\u001b[1;32m    198\u001b[0m     \u001b[38;5;28;01massert\u001b[39;00m \u001b[38;5;28;01mFalse\u001b[39;00m\n",
      "File \u001b[0;32m~/.cache/pypoetry/virtualenvs/spatial-G_n0JvVf-py3.8/lib/python3.8/site-packages/omegaconf/_utils.py:818\u001b[0m, in \u001b[0;36mformat_and_raise\u001b[0;34m(node, key, value, msg, cause, type_override)\u001b[0m\n\u001b[1;32m    815\u001b[0m     ex\u001b[38;5;241m.\u001b[39mref_type \u001b[38;5;241m=\u001b[39m ref_type\n\u001b[1;32m    816\u001b[0m     ex\u001b[38;5;241m.\u001b[39mref_type_str \u001b[38;5;241m=\u001b[39m ref_type_str\n\u001b[0;32m--> 818\u001b[0m \u001b[43m_raise\u001b[49m\u001b[43m(\u001b[49m\u001b[43mex\u001b[49m\u001b[43m,\u001b[49m\u001b[43m \u001b[49m\u001b[43mcause\u001b[49m\u001b[43m)\u001b[49m\n",
      "File \u001b[0;32m~/.cache/pypoetry/virtualenvs/spatial-G_n0JvVf-py3.8/lib/python3.8/site-packages/omegaconf/_utils.py:716\u001b[0m, in \u001b[0;36m_raise\u001b[0;34m(ex, cause)\u001b[0m\n\u001b[1;32m    714\u001b[0m \u001b[38;5;28;01melse\u001b[39;00m:\n\u001b[1;32m    715\u001b[0m     ex\u001b[38;5;241m.\u001b[39m__cause__ \u001b[38;5;241m=\u001b[39m \u001b[38;5;28;01mNone\u001b[39;00m\n\u001b[0;32m--> 716\u001b[0m \u001b[38;5;28;01mraise\u001b[39;00m ex\u001b[38;5;241m.\u001b[39mwith_traceback(sys\u001b[38;5;241m.\u001b[39mexc_info()[\u001b[38;5;241m2\u001b[39m])\n",
      "\u001b[0;31mConfigAttributeError\u001b[0m: Key 'test_animal' is not in struct\n    full_key: datasets.dataset.test_animal\n    object_type=dict"
     ]
    }
   ],
   "source": [
    "import hydra\n",
    "from hydra.experimental import compose, initialize\n",
    "\n",
    "test_loss_rad_dict = {}\n",
    "\n",
    "for rad in range(0,80,10):\n",
    "    for test_animal in [1,2,3,4]:\n",
    "        with initialize(config_path=\"../config\"):\n",
    "            cfg_from_terminal = compose(config_name=\"config\")\n",
    "            OmegaConf.update(cfg_from_terminal, \"training.logger_name\", \"table2\")\n",
    "            OmegaConf.update(cfg_from_terminal, \"radius\", rad)\n",
    "            OmegaConf.update(cfg_from_terminal, \"datasets.dataset.test_animal\", test_animal)\n",
    "            output = test(cfg_from_terminal)\n",
    "            trainer, l1_losses, inputs, gene_expressions, celltypes, test_results = output\n",
    "            test_loss_rad_dict[(rad, test_animal)] = test_results[0]['test_loss']"
   ]
  },
  {
   "cell_type": "code",
   "execution_count": 9,
   "id": "b58626bc",
   "metadata": {},
   "outputs": [
    {
     "data": {
      "text/plain": [
       "{(0, 1): 0.33348438143730164,\n",
       " (0, 2): 0.32344749569892883,\n",
       " (0, 3): 0.3152901828289032,\n",
       " (0, 4): 0.3326919674873352,\n",
       " (10, 1): 0.33578985929489136,\n",
       " (10, 2): 0.32577621936798096,\n",
       " (10, 3): 0.3188694715499878,\n",
       " (10, 4): 0.33603790402412415,\n",
       " (20, 1): 0.3356193006038666,\n",
       " (20, 2): 0.32561439275741577,\n",
       " (20, 3): 0.31718048453330994,\n",
       " (20, 4): 0.3340090215206146,\n",
       " (30, 1): 0.3336813747882843,\n",
       " (30, 2): 0.32789313793182373,\n",
       " (30, 3): 0.31558355689048767,\n",
       " (30, 4): 0.33445167541503906,\n",
       " (40, 1): 0.33460772037506104,\n",
       " (40, 2): 0.32464149594306946,\n",
       " (40, 3): 0.3162347376346588,\n",
       " (40, 4): 0.33553236722946167,\n",
       " (50, 1): 0.33392974734306335,\n",
       " (50, 2): 0.3266395628452301,\n",
       " (50, 3): 0.31530994176864624,\n",
       " (50, 4): 0.33241382241249084,\n",
       " (60, 1): 0.33370622992515564,\n",
       " (60, 2): 0.3268411457538605,\n",
       " (60, 3): 0.31519392132759094,\n",
       " (60, 4): 0.3317946195602417,\n",
       " (70, 1): 0.3324054479598999,\n",
       " (70, 2): 0.32449594140052795,\n",
       " (70, 3): 0.3154938519001007,\n",
       " (70, 4): 0.33066630363464355}"
      ]
     },
     "execution_count": 9,
     "metadata": {},
     "output_type": "execute_result"
    }
   ],
   "source": [
    "test_loss_rad_dict"
   ]
  },
  {
   "cell_type": "code",
   "execution_count": 6,
   "id": "6f3561fd",
   "metadata": {},
   "outputs": [
    {
     "name": "stderr",
     "output_type": "stream",
     "text": [
      "GPU available: True, used: True\n",
      "TPU available: False, using: 0 TPU cores\n",
      "IPU available: False, using: 0 IPUs\n",
      "LOCAL_RANK: 0 - CUDA_VISIBLE_DEVICES: [0,1,2,3,4,5,6,7]\n"
     ]
    },
    {
     "data": {
      "application/vnd.jupyter.widget-view+json": {
       "model_id": "cea9cc6c26024c59b202a8aff378dd76",
       "version_major": 2,
       "version_minor": 0
      },
      "text/plain": [
       "Testing: 0it [00:00, ?it/s]"
      ]
     },
     "metadata": {},
     "output_type": "display_data"
    },
    {
     "name": "stderr",
     "output_type": "stream",
     "text": [
      "TEST Profiler Report\n",
      "\n",
      "Action                             \t|  Mean duration (s)\t|Num calls      \t|  Total time (s) \t|  Percentage %   \t|\n",
      "---------------------------------------------------------------------------------------------------------------------------------------\n",
      "Total                              \t|  -              \t|_              \t|  31.293         \t|  100 %          \t|\n",
      "---------------------------------------------------------------------------------------------------------------------------------------\n",
      "run_test_evaluation                \t|  31.246         \t|1              \t|  31.246         \t|  99.85          \t|\n",
      "evaluation_step_and_end            \t|  0.26175        \t|96             \t|  25.128         \t|  80.298         \t|\n",
      "test_step                          \t|  0.26161        \t|96             \t|  25.115         \t|  80.258         \t|\n",
      "get_test_batch                     \t|  0.044405       \t|97             \t|  4.3073         \t|  13.764         \t|\n",
      "fetch_next_test_batch              \t|  0.044371       \t|97             \t|  4.304          \t|  13.754         \t|\n",
      "on_test_batch_end                  \t|  0.014557       \t|96             \t|  1.3975         \t|  4.4659         \t|\n",
      "evaluation_batch_to_device         \t|  0.0019497      \t|96             \t|  0.18717        \t|  0.59812        \t|\n",
      "on_test_start                      \t|  0.016267       \t|1              \t|  0.016267       \t|  0.051984       \t|\n",
      "on_test_batch_start                \t|  2.342e-05      \t|96             \t|  0.0022483      \t|  0.0071848      \t|\n",
      "test_step_end                      \t|  1.2477e-05     \t|96             \t|  0.0011978      \t|  0.0038278      \t|\n",
      "on_test_end                        \t|  0.00072138     \t|1              \t|  0.00072138     \t|  0.0023053      \t|\n",
      "on_test_model_eval                 \t|  4.869e-05      \t|1              \t|  4.869e-05      \t|  0.00015559     \t|\n",
      "on_test_epoch_end                  \t|  3.1486e-05     \t|1              \t|  3.1486e-05     \t|  0.00010062     \t|\n",
      "teardown                           \t|  2.7962e-05     \t|1              \t|  2.7962e-05     \t|  8.9355e-05     \t|\n",
      "setup                              \t|  2.145e-05      \t|1              \t|  2.145e-05      \t|  6.8546e-05     \t|\n",
      "on_epoch_end                       \t|  1.8187e-05     \t|1              \t|  1.8187e-05     \t|  5.8118e-05     \t|\n",
      "on_configure_sharded_model         \t|  1.7829e-05     \t|1              \t|  1.7829e-05     \t|  5.6975e-05     \t|\n",
      "on_before_accelerator_backend_setup\t|  1.4324e-05     \t|1              \t|  1.4324e-05     \t|  4.5773e-05     \t|\n",
      "configure_callbacks                \t|  1.3355e-05     \t|1              \t|  1.3355e-05     \t|  4.2678e-05     \t|\n",
      "on_epoch_start                     \t|  9.4213e-06     \t|1              \t|  9.4213e-06     \t|  3.0107e-05     \t|\n",
      "on_test_epoch_start                \t|  8.0653e-06     \t|1              \t|  8.0653e-06     \t|  2.5773e-05     \t|\n",
      "configure_sharded_model            \t|  5.1707e-06     \t|1              \t|  5.1707e-06     \t|  1.6523e-05     \t|\n",
      "on_test_dataloader                 \t|  5.0664e-06     \t|1              \t|  5.0664e-06     \t|  1.619e-05      \t|\n",
      "prepare_data                       \t|  3.9935e-06     \t|1              \t|  3.9935e-06     \t|  1.2762e-05     \t|\n",
      "\n"
     ]
    },
    {
     "name": "stdout",
     "output_type": "stream",
     "text": [
      "--------------------------------------------------------------------------------\n",
      "DATALOADER:0 TEST RESULTS\n",
      "{'test_loss': 0.0499076209962368, 'test_loss: mse': 0.027300523594021797}\n",
      "--------------------------------------------------------------------------------\n"
     ]
    },
    {
     "name": "stderr",
     "output_type": "stream",
     "text": [
      "GPU available: True, used: True\n",
      "TPU available: False, using: 0 TPU cores\n",
      "IPU available: False, using: 0 IPUs\n",
      "LOCAL_RANK: 0 - CUDA_VISIBLE_DEVICES: [0,1,2,3,4,5,6,7]\n"
     ]
    },
    {
     "data": {
      "application/vnd.jupyter.widget-view+json": {
       "model_id": "1ed1fea9457f462b912b3d2419a8c767",
       "version_major": 2,
       "version_minor": 0
      },
      "text/plain": [
       "Testing: 0it [00:00, ?it/s]"
      ]
     },
     "metadata": {},
     "output_type": "display_data"
    },
    {
     "name": "stderr",
     "output_type": "stream",
     "text": [
      "TEST Profiler Report\n",
      "\n",
      "Action                             \t|  Mean duration (s)\t|Num calls      \t|  Total time (s) \t|  Percentage %   \t|\n",
      "---------------------------------------------------------------------------------------------------------------------------------------\n",
      "Total                              \t|  -              \t|_              \t|  28.275         \t|  100 %          \t|\n",
      "---------------------------------------------------------------------------------------------------------------------------------------\n",
      "run_test_evaluation                \t|  28.257         \t|1              \t|  28.257         \t|  99.937         \t|\n",
      "evaluation_step_and_end            \t|  0.24774        \t|96             \t|  23.783         \t|  84.113         \t|\n",
      "test_step                          \t|  0.24762        \t|96             \t|  23.771         \t|  84.073         \t|\n",
      "get_test_batch                     \t|  0.032403       \t|97             \t|  3.1431         \t|  11.116         \t|\n",
      "fetch_next_test_batch              \t|  0.032372       \t|97             \t|  3.1401         \t|  11.106         \t|\n",
      "on_test_batch_end                  \t|  0.0097254      \t|96             \t|  0.93364        \t|  3.302          \t|\n",
      "evaluation_batch_to_device         \t|  0.0015379      \t|96             \t|  0.14764        \t|  0.52216        \t|\n",
      "on_test_start                      \t|  0.017362       \t|1              \t|  0.017362       \t|  0.061404       \t|\n",
      "on_test_batch_start                \t|  2.2216e-05     \t|96             \t|  0.0021327      \t|  0.0075427      \t|\n",
      "test_step_end                      \t|  1.148e-05      \t|96             \t|  0.0011021      \t|  0.0038978      \t|\n",
      "on_test_end                        \t|  0.00052563     \t|1              \t|  0.00052563     \t|  0.001859       \t|\n",
      "on_test_model_eval                 \t|  4.9956e-05     \t|1              \t|  4.9956e-05     \t|  0.00017668     \t|\n",
      "on_test_epoch_end                  \t|  2.4915e-05     \t|1              \t|  2.4915e-05     \t|  8.8116e-05     \t|\n",
      "teardown                           \t|  1.7606e-05     \t|1              \t|  1.7606e-05     \t|  6.2266e-05     \t|\n",
      "on_configure_sharded_model         \t|  1.3914e-05     \t|1              \t|  1.3914e-05     \t|  4.921e-05      \t|\n",
      "on_before_accelerator_backend_setup\t|  1.1787e-05     \t|1              \t|  1.1787e-05     \t|  4.1686e-05     \t|\n",
      "on_epoch_end                       \t|  1.096e-05      \t|1              \t|  1.096e-05      \t|  3.8762e-05     \t|\n",
      "setup                              \t|  1.0524e-05     \t|1              \t|  1.0524e-05     \t|  3.722e-05      \t|\n",
      "on_epoch_start                     \t|  9.9763e-06     \t|1              \t|  9.9763e-06     \t|  3.5283e-05     \t|\n",
      "on_test_epoch_start                \t|  8.706e-06      \t|1              \t|  8.706e-06      \t|  3.0791e-05     \t|\n",
      "configure_callbacks                \t|  5.8115e-06     \t|1              \t|  5.8115e-06     \t|  2.0553e-05     \t|\n",
      "configure_sharded_model            \t|  4.8988e-06     \t|1              \t|  4.8988e-06     \t|  1.7325e-05     \t|\n",
      "on_test_dataloader                 \t|  4.787e-06      \t|1              \t|  4.787e-06      \t|  1.693e-05      \t|\n",
      "prepare_data                       \t|  4.4927e-06     \t|1              \t|  4.4927e-06     \t|  1.5889e-05     \t|\n",
      "\n"
     ]
    },
    {
     "name": "stdout",
     "output_type": "stream",
     "text": [
      "--------------------------------------------------------------------------------\n",
      "DATALOADER:0 TEST RESULTS\n",
      "{'test_loss': 0.0508580319583416, 'test_loss: mse': 0.027447914704680443}\n",
      "--------------------------------------------------------------------------------\n"
     ]
    },
    {
     "name": "stderr",
     "output_type": "stream",
     "text": [
      "GPU available: True, used: True\n",
      "TPU available: False, using: 0 TPU cores\n",
      "IPU available: False, using: 0 IPUs\n",
      "LOCAL_RANK: 0 - CUDA_VISIBLE_DEVICES: [0,1,2,3,4,5,6,7]\n"
     ]
    },
    {
     "data": {
      "application/vnd.jupyter.widget-view+json": {
       "model_id": "8a0eea5a0e484725a6427f0726d2214c",
       "version_major": 2,
       "version_minor": 0
      },
      "text/plain": [
       "Testing: 0it [00:00, ?it/s]"
      ]
     },
     "metadata": {},
     "output_type": "display_data"
    },
    {
     "name": "stderr",
     "output_type": "stream",
     "text": [
      "TEST Profiler Report\n",
      "\n",
      "Action                             \t|  Mean duration (s)\t|Num calls      \t|  Total time (s) \t|  Percentage %   \t|\n",
      "---------------------------------------------------------------------------------------------------------------------------------------\n",
      "Total                              \t|  -              \t|_              \t|  30.406         \t|  100 %          \t|\n",
      "---------------------------------------------------------------------------------------------------------------------------------------\n",
      "run_test_evaluation                \t|  30.377         \t|1              \t|  30.377         \t|  99.904         \t|\n",
      "evaluation_step_and_end            \t|  0.2631         \t|96             \t|  25.257         \t|  83.067         \t|\n",
      "test_step                          \t|  0.26298        \t|96             \t|  25.246         \t|  83.031         \t|\n",
      "get_test_batch                     \t|  0.035467       \t|97             \t|  3.4403         \t|  11.315         \t|\n",
      "fetch_next_test_batch              \t|  0.035353       \t|97             \t|  3.4292         \t|  11.278         \t|\n",
      "on_test_batch_end                  \t|  0.012947       \t|96             \t|  1.2429         \t|  4.0877         \t|\n",
      "evaluation_batch_to_device         \t|  0.0019486      \t|96             \t|  0.18707        \t|  0.61525        \t|\n",
      "on_test_start                      \t|  0.017077       \t|1              \t|  0.017077       \t|  0.056164       \t|\n",
      "on_test_batch_start                \t|  1.9849e-05     \t|96             \t|  0.0019055      \t|  0.0062669      \t|\n",
      "on_test_end                        \t|  0.0011762      \t|1              \t|  0.0011762      \t|  0.0038682      \t|\n",
      "test_step_end                      \t|  1.1912e-05     \t|96             \t|  0.0011435      \t|  0.0037609      \t|\n",
      "on_test_model_eval                 \t|  4.9911e-05     \t|1              \t|  4.9911e-05     \t|  0.00016415     \t|\n",
      "on_test_epoch_end                  \t|  3.8192e-05     \t|1              \t|  3.8192e-05     \t|  0.00012561     \t|\n",
      "on_before_accelerator_backend_setup\t|  1.8619e-05     \t|1              \t|  1.8619e-05     \t|  6.1235e-05     \t|\n",
      "teardown                           \t|  1.7609e-05     \t|1              \t|  1.7609e-05     \t|  5.7915e-05     \t|\n",
      "on_epoch_end                       \t|  1.736e-05      \t|1              \t|  1.736e-05      \t|  5.7094e-05     \t|\n",
      "setup                              \t|  1.5311e-05     \t|1              \t|  1.5311e-05     \t|  5.0355e-05     \t|\n",
      "configure_callbacks                \t|  1.4737e-05     \t|1              \t|  1.4737e-05     \t|  4.8469e-05     \t|\n",
      "on_configure_sharded_model         \t|  1.4454e-05     \t|1              \t|  1.4454e-05     \t|  4.7537e-05     \t|\n",
      "on_epoch_start                     \t|  1.0163e-05     \t|1              \t|  1.0163e-05     \t|  3.3423e-05     \t|\n",
      "on_test_epoch_start                \t|  8.5197e-06     \t|1              \t|  8.5197e-06     \t|  2.802e-05      \t|\n",
      "prepare_data                       \t|  7.8715e-06     \t|1              \t|  7.8715e-06     \t|  2.5888e-05     \t|\n",
      "on_test_dataloader                 \t|  4.9733e-06     \t|1              \t|  4.9733e-06     \t|  1.6356e-05     \t|\n",
      "configure_sharded_model            \t|  4.7535e-06     \t|1              \t|  4.7535e-06     \t|  1.5633e-05     \t|\n",
      "\n"
     ]
    },
    {
     "name": "stdout",
     "output_type": "stream",
     "text": [
      "--------------------------------------------------------------------------------\n",
      "DATALOADER:0 TEST RESULTS\n",
      "{'test_loss': 0.05018540844321251, 'test_loss: mse': 0.027199886739253998}\n",
      "--------------------------------------------------------------------------------\n"
     ]
    },
    {
     "name": "stderr",
     "output_type": "stream",
     "text": [
      "GPU available: True, used: True\n",
      "TPU available: False, using: 0 TPU cores\n",
      "IPU available: False, using: 0 IPUs\n",
      "LOCAL_RANK: 0 - CUDA_VISIBLE_DEVICES: [0,1,2,3,4,5,6,7]\n"
     ]
    },
    {
     "data": {
      "application/vnd.jupyter.widget-view+json": {
       "model_id": "32b350083bda43b78bddd76014e5466a",
       "version_major": 2,
       "version_minor": 0
      },
      "text/plain": [
       "Testing: 0it [00:00, ?it/s]"
      ]
     },
     "metadata": {},
     "output_type": "display_data"
    },
    {
     "name": "stderr",
     "output_type": "stream",
     "text": [
      "TEST Profiler Report\n",
      "\n",
      "Action                             \t|  Mean duration (s)\t|Num calls      \t|  Total time (s) \t|  Percentage %   \t|\n",
      "---------------------------------------------------------------------------------------------------------------------------------------\n",
      "Total                              \t|  -              \t|_              \t|  33.095         \t|  100 %          \t|\n",
      "---------------------------------------------------------------------------------------------------------------------------------------\n",
      "run_test_evaluation                \t|  33.035         \t|1              \t|  33.035         \t|  99.818         \t|\n",
      "evaluation_step_and_end            \t|  0.26546        \t|96             \t|  25.484         \t|  77.003         \t|\n",
      "test_step                          \t|  0.26534        \t|96             \t|  25.473         \t|  76.969         \t|\n",
      "get_test_batch                     \t|  0.055484       \t|97             \t|  5.3819         \t|  16.262         \t|\n",
      "fetch_next_test_batch              \t|  0.055451       \t|97             \t|  5.3787         \t|  16.252         \t|\n",
      "on_test_batch_end                  \t|  0.01785        \t|96             \t|  1.7136         \t|  5.1777         \t|\n",
      "evaluation_batch_to_device         \t|  0.0021523      \t|96             \t|  0.20662        \t|  0.62432        \t|\n",
      "on_test_start                      \t|  0.017064       \t|1              \t|  0.017064       \t|  0.051562       \t|\n",
      "on_test_batch_start                \t|  2.228e-05      \t|96             \t|  0.0021389      \t|  0.006463       \t|\n",
      "on_test_end                        \t|  0.0011504      \t|1              \t|  0.0011504      \t|  0.003476       \t|\n",
      "test_step_end                      \t|  1.1685e-05     \t|96             \t|  0.0011217      \t|  0.0033894      \t|\n",
      "on_test_model_eval                 \t|  5.0854e-05     \t|1              \t|  5.0854e-05     \t|  0.00015366     \t|\n",
      "on_test_epoch_end                  \t|  3.7212e-05     \t|1              \t|  3.7212e-05     \t|  0.00011244     \t|\n",
      "teardown                           \t|  2.5496e-05     \t|1              \t|  2.5496e-05     \t|  7.7038e-05     \t|\n",
      "on_configure_sharded_model         \t|  1.9047e-05     \t|1              \t|  1.9047e-05     \t|  5.7554e-05     \t|\n",
      "on_epoch_end                       \t|  1.7241e-05     \t|1              \t|  1.7241e-05     \t|  5.2094e-05     \t|\n",
      "on_before_accelerator_backend_setup\t|  1.4417e-05     \t|1              \t|  1.4417e-05     \t|  4.3562e-05     \t|\n",
      "setup                              \t|  1.3594e-05     \t|1              \t|  1.3594e-05     \t|  4.1074e-05     \t|\n",
      "configure_callbacks                \t|  1.1563e-05     \t|1              \t|  1.1563e-05     \t|  3.494e-05      \t|\n",
      "on_epoch_start                     \t|  9.3691e-06     \t|1              \t|  9.3691e-06     \t|  2.831e-05      \t|\n",
      "on_test_epoch_start                \t|  8.1807e-06     \t|1              \t|  8.1807e-06     \t|  2.4719e-05     \t|\n",
      "on_test_dataloader                 \t|  4.8578e-06     \t|1              \t|  4.8578e-06     \t|  1.4678e-05     \t|\n",
      "configure_sharded_model            \t|  4.7162e-06     \t|1              \t|  4.7162e-06     \t|  1.425e-05      \t|\n",
      "prepare_data                       \t|  4.0829e-06     \t|1              \t|  4.0829e-06     \t|  1.2337e-05     \t|\n",
      "\n"
     ]
    },
    {
     "name": "stdout",
     "output_type": "stream",
     "text": [
      "--------------------------------------------------------------------------------\n",
      "DATALOADER:0 TEST RESULTS\n",
      "{'test_loss': 0.05055781826376915, 'test_loss: mse': 0.027327820658683777}\n",
      "--------------------------------------------------------------------------------\n"
     ]
    },
    {
     "name": "stderr",
     "output_type": "stream",
     "text": [
      "GPU available: True, used: True\n",
      "TPU available: False, using: 0 TPU cores\n",
      "IPU available: False, using: 0 IPUs\n",
      "LOCAL_RANK: 0 - CUDA_VISIBLE_DEVICES: [0,1,2,3,4,5,6,7]\n"
     ]
    },
    {
     "data": {
      "application/vnd.jupyter.widget-view+json": {
       "model_id": "939045cd81e149159da4b95147a2c2a8",
       "version_major": 2,
       "version_minor": 0
      },
      "text/plain": [
       "Testing: 0it [00:00, ?it/s]"
      ]
     },
     "metadata": {},
     "output_type": "display_data"
    },
    {
     "name": "stderr",
     "output_type": "stream",
     "text": [
      "TEST Profiler Report\n",
      "\n",
      "Action                             \t|  Mean duration (s)\t|Num calls      \t|  Total time (s) \t|  Percentage %   \t|\n",
      "---------------------------------------------------------------------------------------------------------------------------------------\n",
      "Total                              \t|  -              \t|_              \t|  32.765         \t|  100 %          \t|\n",
      "---------------------------------------------------------------------------------------------------------------------------------------\n",
      "run_test_evaluation                \t|  32.718         \t|1              \t|  32.718         \t|  99.855         \t|\n",
      "evaluation_step_and_end            \t|  0.27502        \t|96             \t|  26.402         \t|  80.581         \t|\n",
      "test_step                          \t|  0.2749         \t|96             \t|  26.39          \t|  80.544         \t|\n",
      "get_test_batch                     \t|  0.044402       \t|97             \t|  4.307          \t|  13.145         \t|\n",
      "fetch_next_test_batch              \t|  0.044367       \t|97             \t|  4.3036         \t|  13.135         \t|\n",
      "on_test_batch_end                  \t|  0.016627       \t|96             \t|  1.5962         \t|  4.8715         \t|\n",
      "evaluation_batch_to_device         \t|  0.001736       \t|96             \t|  0.16665        \t|  0.50863        \t|\n",
      "on_test_start                      \t|  0.01676        \t|1              \t|  0.01676        \t|  0.051152       \t|\n",
      "on_test_batch_start                \t|  2.2521e-05     \t|96             \t|  0.002162       \t|  0.0065987      \t|\n",
      "test_step_end                      \t|  1.2575e-05     \t|96             \t|  0.0012072      \t|  0.0036846      \t|\n",
      "on_test_end                        \t|  0.0008311      \t|1              \t|  0.0008311      \t|  0.0025366      \t|\n",
      "on_test_model_eval                 \t|  5.5276e-05     \t|1              \t|  5.5276e-05     \t|  0.0001687      \t|\n",
      "on_test_epoch_end                  \t|  3.108e-05      \t|1              \t|  3.108e-05      \t|  9.4858e-05     \t|\n",
      "teardown                           \t|  1.673e-05      \t|1              \t|  1.673e-05      \t|  5.1061e-05     \t|\n",
      "on_epoch_end                       \t|  1.4968e-05     \t|1              \t|  1.4968e-05     \t|  4.5684e-05     \t|\n",
      "on_configure_sharded_model         \t|  1.4618e-05     \t|1              \t|  1.4618e-05     \t|  4.4615e-05     \t|\n",
      "on_before_accelerator_backend_setup\t|  1.2137e-05     \t|1              \t|  1.2137e-05     \t|  3.7043e-05     \t|\n",
      "setup                              \t|  1.1101e-05     \t|1              \t|  1.1101e-05     \t|  3.3882e-05     \t|\n",
      "on_epoch_start                     \t|  1.0181e-05     \t|1              \t|  1.0181e-05     \t|  3.1073e-05     \t|\n",
      "on_test_epoch_start                \t|  8.4527e-06     \t|1              \t|  8.4527e-06     \t|  2.5798e-05     \t|\n",
      "on_test_dataloader                 \t|  5.7109e-06     \t|1              \t|  5.7109e-06     \t|  1.743e-05      \t|\n",
      "configure_callbacks                \t|  5.6922e-06     \t|1              \t|  5.6922e-06     \t|  1.7373e-05     \t|\n",
      "configure_sharded_model            \t|  5.3458e-06     \t|1              \t|  5.3458e-06     \t|  1.6316e-05     \t|\n",
      "prepare_data                       \t|  4.3847e-06     \t|1              \t|  4.3847e-06     \t|  1.3382e-05     \t|\n",
      "\n"
     ]
    },
    {
     "name": "stdout",
     "output_type": "stream",
     "text": [
      "--------------------------------------------------------------------------------\n",
      "DATALOADER:0 TEST RESULTS\n",
      "{'test_loss': 0.05067247524857521, 'test_loss: mse': 0.02742215245962143}\n",
      "--------------------------------------------------------------------------------\n"
     ]
    },
    {
     "name": "stderr",
     "output_type": "stream",
     "text": [
      "GPU available: True, used: True\n",
      "TPU available: False, using: 0 TPU cores\n",
      "IPU available: False, using: 0 IPUs\n",
      "LOCAL_RANK: 0 - CUDA_VISIBLE_DEVICES: [0,1,2,3,4,5,6,7]\n"
     ]
    },
    {
     "data": {
      "application/vnd.jupyter.widget-view+json": {
       "model_id": "df497998854348e7ad37ee63d8228319",
       "version_major": 2,
       "version_minor": 0
      },
      "text/plain": [
       "Testing: 0it [00:00, ?it/s]"
      ]
     },
     "metadata": {},
     "output_type": "display_data"
    },
    {
     "name": "stderr",
     "output_type": "stream",
     "text": [
      "TEST Profiler Report\n",
      "\n",
      "Action                             \t|  Mean duration (s)\t|Num calls      \t|  Total time (s) \t|  Percentage %   \t|\n",
      "---------------------------------------------------------------------------------------------------------------------------------------\n",
      "Total                              \t|  -              \t|_              \t|  36.266         \t|  100 %          \t|\n",
      "---------------------------------------------------------------------------------------------------------------------------------------\n",
      "run_test_evaluation                \t|  36.188         \t|1              \t|  36.188         \t|  99.786         \t|\n",
      "evaluation_step_and_end            \t|  0.29038        \t|96             \t|  27.877         \t|  76.868         \t|\n",
      "test_step                          \t|  0.29025        \t|96             \t|  27.864         \t|  76.834         \t|\n",
      "get_test_batch                     \t|  0.062706       \t|97             \t|  6.0825         \t|  16.772         \t|\n",
      "fetch_next_test_batch              \t|  0.06263        \t|97             \t|  6.0751         \t|  16.752         \t|\n",
      "on_test_batch_end                  \t|  0.01811        \t|96             \t|  1.7386         \t|  4.794          \t|\n",
      "evaluation_batch_to_device         \t|  0.0018127      \t|96             \t|  0.17402        \t|  0.47984        \t|\n",
      "on_test_start                      \t|  0.016985       \t|1              \t|  0.016985       \t|  0.046834       \t|\n",
      "on_test_batch_start                \t|  2.2071e-05     \t|96             \t|  0.0021188      \t|  0.0058426      \t|\n",
      "on_test_end                        \t|  0.0016057      \t|1              \t|  0.0016057      \t|  0.0044275      \t|\n",
      "test_step_end                      \t|  1.239e-05      \t|96             \t|  0.0011894      \t|  0.0032798      \t|\n",
      "on_test_model_eval                 \t|  5.43e-05       \t|1              \t|  5.43e-05       \t|  0.00014973     \t|\n",
      "on_test_epoch_end                  \t|  4.0997e-05     \t|1              \t|  4.0997e-05     \t|  0.00011305     \t|\n",
      "teardown                           \t|  2.8353e-05     \t|1              \t|  2.8353e-05     \t|  7.8182e-05     \t|\n",
      "on_epoch_end                       \t|  2.0944e-05     \t|1              \t|  2.0944e-05     \t|  5.7751e-05     \t|\n",
      "on_configure_sharded_model         \t|  1.4756e-05     \t|1              \t|  1.4756e-05     \t|  4.0688e-05     \t|\n",
      "on_before_accelerator_backend_setup\t|  1.185e-05      \t|1              \t|  1.185e-05      \t|  3.2676e-05     \t|\n",
      "on_epoch_start                     \t|  9.1568e-06     \t|1              \t|  9.1568e-06     \t|  2.5249e-05     \t|\n",
      "setup                              \t|  9.1046e-06     \t|1              \t|  9.1046e-06     \t|  2.5105e-05     \t|\n",
      "on_test_epoch_start                \t|  7.8343e-06     \t|1              \t|  7.8343e-06     \t|  2.1603e-05     \t|\n",
      "configure_callbacks                \t|  6.2212e-06     \t|1              \t|  6.2212e-06     \t|  1.7155e-05     \t|\n",
      "configure_sharded_model            \t|  5.6662e-06     \t|1              \t|  5.6662e-06     \t|  1.5624e-05     \t|\n",
      "on_test_dataloader                 \t|  5.3532e-06     \t|1              \t|  5.3532e-06     \t|  1.4761e-05     \t|\n",
      "prepare_data                       \t|  4.3809e-06     \t|1              \t|  4.3809e-06     \t|  1.208e-05      \t|\n",
      "\n"
     ]
    },
    {
     "name": "stdout",
     "output_type": "stream",
     "text": [
      "--------------------------------------------------------------------------------\n",
      "DATALOADER:0 TEST RESULTS\n",
      "{'test_loss': 0.05058332160115242, 'test_loss: mse': 0.027318798005580902}\n",
      "--------------------------------------------------------------------------------\n"
     ]
    },
    {
     "name": "stderr",
     "output_type": "stream",
     "text": [
      "GPU available: True, used: True\n",
      "TPU available: False, using: 0 TPU cores\n",
      "IPU available: False, using: 0 IPUs\n",
      "LOCAL_RANK: 0 - CUDA_VISIBLE_DEVICES: [0,1,2,3,4,5,6,7]\n"
     ]
    },
    {
     "data": {
      "application/vnd.jupyter.widget-view+json": {
       "model_id": "a982ab587f7f46e098ccaf04b5823501",
       "version_major": 2,
       "version_minor": 0
      },
      "text/plain": [
       "Testing: 0it [00:00, ?it/s]"
      ]
     },
     "metadata": {},
     "output_type": "display_data"
    },
    {
     "name": "stderr",
     "output_type": "stream",
     "text": [
      "TEST Profiler Report\n",
      "\n",
      "Action                             \t|  Mean duration (s)\t|Num calls      \t|  Total time (s) \t|  Percentage %   \t|\n",
      "---------------------------------------------------------------------------------------------------------------------------------------\n",
      "Total                              \t|  -              \t|_              \t|  34.952         \t|  100 %          \t|\n",
      "---------------------------------------------------------------------------------------------------------------------------------------\n",
      "run_test_evaluation                \t|  34.903         \t|1              \t|  34.903         \t|  99.858         \t|\n",
      "evaluation_step_and_end            \t|  0.28122        \t|96             \t|  26.997         \t|  77.238         \t|\n",
      "test_step                          \t|  0.2811         \t|96             \t|  26.985         \t|  77.206         \t|\n",
      "get_test_batch                     \t|  0.061985       \t|97             \t|  6.0125         \t|  17.202         \t|\n",
      "fetch_next_test_batch              \t|  0.061936       \t|97             \t|  6.0078         \t|  17.189         \t|\n",
      "on_test_batch_end                  \t|  0.015009       \t|96             \t|  1.4409         \t|  4.1224         \t|\n",
      "evaluation_batch_to_device         \t|  0.0018929      \t|96             \t|  0.18171        \t|  0.51989        \t|\n",
      "on_test_start                      \t|  0.015826       \t|1              \t|  0.015826       \t|  0.04528        \t|\n",
      "on_test_batch_start                \t|  2.2762e-05     \t|96             \t|  0.0021851      \t|  0.0062517      \t|\n",
      "on_test_end                        \t|  0.0012886      \t|1              \t|  0.0012886      \t|  0.0036867      \t|\n",
      "test_step_end                      \t|  1.2035e-05     \t|96             \t|  0.0011554      \t|  0.0033056      \t|\n",
      "on_test_model_eval                 \t|  6.4071e-05     \t|1              \t|  6.4071e-05     \t|  0.00018331     \t|\n",
      "on_test_epoch_end                  \t|  4.3843e-05     \t|1              \t|  4.3843e-05     \t|  0.00012544     \t|\n",
      "on_epoch_end                       \t|  2.1677e-05     \t|1              \t|  2.1677e-05     \t|  6.202e-05      \t|\n",
      "teardown                           \t|  2.1514e-05     \t|1              \t|  2.1514e-05     \t|  6.1551e-05     \t|\n",
      "on_configure_sharded_model         \t|  1.4223e-05     \t|1              \t|  1.4223e-05     \t|  4.0693e-05     \t|\n",
      "on_before_accelerator_backend_setup\t|  1.1541e-05     \t|1              \t|  1.1541e-05     \t|  3.3019e-05     \t|\n",
      "setup                              \t|  1.1157e-05     \t|1              \t|  1.1157e-05     \t|  3.1921e-05     \t|\n",
      "on_epoch_start                     \t|  9.6075e-06     \t|1              \t|  9.6075e-06     \t|  2.7487e-05     \t|\n",
      "on_test_epoch_start                \t|  8.0056e-06     \t|1              \t|  8.0056e-06     \t|  2.2904e-05     \t|\n",
      "configure_callbacks                \t|  5.9456e-06     \t|1              \t|  5.9456e-06     \t|  1.701e-05      \t|\n",
      "configure_sharded_model            \t|  5.1893e-06     \t|1              \t|  5.1893e-06     \t|  1.4847e-05     \t|\n",
      "on_test_dataloader                 \t|  5.1595e-06     \t|1              \t|  5.1595e-06     \t|  1.4762e-05     \t|\n",
      "prepare_data                       \t|  4.5672e-06     \t|1              \t|  4.5672e-06     \t|  1.3067e-05     \t|\n",
      "\n"
     ]
    },
    {
     "name": "stdout",
     "output_type": "stream",
     "text": [
      "--------------------------------------------------------------------------------\n",
      "DATALOADER:0 TEST RESULTS\n",
      "{'test_loss': 0.05033117160201073, 'test_loss: mse': 0.027407458052039146}\n",
      "--------------------------------------------------------------------------------\n"
     ]
    },
    {
     "name": "stderr",
     "output_type": "stream",
     "text": [
      "GPU available: True, used: True\n",
      "TPU available: False, using: 0 TPU cores\n",
      "IPU available: False, using: 0 IPUs\n",
      "LOCAL_RANK: 0 - CUDA_VISIBLE_DEVICES: [0,1,2,3,4,5,6,7]\n"
     ]
    },
    {
     "data": {
      "application/vnd.jupyter.widget-view+json": {
       "model_id": "47ff222213854e5288f1bc461a7eda60",
       "version_major": 2,
       "version_minor": 0
      },
      "text/plain": [
       "Testing: 0it [00:00, ?it/s]"
      ]
     },
     "metadata": {},
     "output_type": "display_data"
    },
    {
     "name": "stderr",
     "output_type": "stream",
     "text": [
      "TEST Profiler Report\n",
      "\n",
      "Action                             \t|  Mean duration (s)\t|Num calls      \t|  Total time (s) \t|  Percentage %   \t|\n",
      "---------------------------------------------------------------------------------------------------------------------------------------\n",
      "Total                              \t|  -              \t|_              \t|  32.337         \t|  100 %          \t|\n",
      "---------------------------------------------------------------------------------------------------------------------------------------\n",
      "run_test_evaluation                \t|  32.277         \t|1              \t|  32.277         \t|  99.815         \t|\n",
      "evaluation_step_and_end            \t|  0.27391        \t|96             \t|  26.296         \t|  81.319         \t|\n",
      "test_step                          \t|  0.27378        \t|96             \t|  26.283         \t|  81.28          \t|\n",
      "get_test_batch                     \t|  0.044884       \t|97             \t|  4.3538         \t|  13.464         \t|\n",
      "fetch_next_test_batch              \t|  0.044849       \t|97             \t|  4.3503         \t|  13.453         \t|\n",
      "on_test_batch_end                  \t|  0.012559       \t|96             \t|  1.2056         \t|  3.7284         \t|\n",
      "evaluation_batch_to_device         \t|  0.0020971      \t|96             \t|  0.20132        \t|  0.62257        \t|\n",
      "on_test_start                      \t|  0.016091       \t|1              \t|  0.016091       \t|  0.049761       \t|\n",
      "on_test_batch_start                \t|  2.3575e-05     \t|96             \t|  0.0022632      \t|  0.0069989      \t|\n",
      "test_step_end                      \t|  1.2863e-05     \t|96             \t|  0.0012349      \t|  0.0038187      \t|\n",
      "on_test_end                        \t|  0.0006503      \t|1              \t|  0.0006503      \t|  0.002011       \t|\n",
      "on_test_model_eval                 \t|  4.926e-05      \t|1              \t|  4.926e-05      \t|  0.00015233     \t|\n",
      "on_test_epoch_end                  \t|  2.4781e-05     \t|1              \t|  2.4781e-05     \t|  7.6633e-05     \t|\n",
      "teardown                           \t|  1.7028e-05     \t|1              \t|  1.7028e-05     \t|  5.266e-05      \t|\n",
      "on_configure_sharded_model         \t|  1.3608e-05     \t|1              \t|  1.3608e-05     \t|  4.2084e-05     \t|\n",
      "on_before_accelerator_backend_setup\t|  1.2197e-05     \t|1              \t|  1.2197e-05     \t|  3.7718e-05     \t|\n",
      "on_epoch_start                     \t|  9.7118e-06     \t|1              \t|  9.7118e-06     \t|  3.0034e-05     \t|\n",
      "setup                              \t|  9.2387e-06     \t|1              \t|  9.2387e-06     \t|  2.857e-05      \t|\n",
      "on_epoch_end                       \t|  9.2164e-06     \t|1              \t|  9.2164e-06     \t|  2.8501e-05     \t|\n",
      "on_test_epoch_start                \t|  8.3447e-06     \t|1              \t|  8.3447e-06     \t|  2.5806e-05     \t|\n",
      "configure_callbacks                \t|  6.7279e-06     \t|1              \t|  6.7279e-06     \t|  2.0806e-05     \t|\n",
      "on_test_dataloader                 \t|  4.8988e-06     \t|1              \t|  4.8988e-06     \t|  1.5149e-05     \t|\n",
      "configure_sharded_model            \t|  4.4368e-06     \t|1              \t|  4.4368e-06     \t|  1.3721e-05     \t|\n",
      "prepare_data                       \t|  4.2394e-06     \t|1              \t|  4.2394e-06     \t|  1.311e-05      \t|\n",
      "\n"
     ]
    },
    {
     "name": "stdout",
     "output_type": "stream",
     "text": [
      "--------------------------------------------------------------------------------\n",
      "DATALOADER:0 TEST RESULTS\n",
      "{'test_loss': 0.05010917782783508, 'test_loss: mse': 0.027163071557879448}\n",
      "--------------------------------------------------------------------------------\n"
     ]
    },
    {
     "name": "stderr",
     "output_type": "stream",
     "text": [
      "GPU available: True, used: True\n",
      "TPU available: False, using: 0 TPU cores\n",
      "IPU available: False, using: 0 IPUs\n",
      "LOCAL_RANK: 0 - CUDA_VISIBLE_DEVICES: [0,1,2,3,4,5,6,7]\n"
     ]
    },
    {
     "data": {
      "application/vnd.jupyter.widget-view+json": {
       "model_id": "09d282b37e214272a099d36c649aa599",
       "version_major": 2,
       "version_minor": 0
      },
      "text/plain": [
       "Testing: 0it [00:00, ?it/s]"
      ]
     },
     "metadata": {},
     "output_type": "display_data"
    },
    {
     "name": "stderr",
     "output_type": "stream",
     "text": [
      "TEST Profiler Report\n",
      "\n",
      "Action                             \t|  Mean duration (s)\t|Num calls      \t|  Total time (s) \t|  Percentage %   \t|\n",
      "---------------------------------------------------------------------------------------------------------------------------------------\n",
      "Total                              \t|  -              \t|_              \t|  32.521         \t|  100 %          \t|\n",
      "---------------------------------------------------------------------------------------------------------------------------------------\n",
      "run_test_evaluation                \t|  32.459         \t|1              \t|  32.459         \t|  99.811         \t|\n",
      "evaluation_step_and_end            \t|  0.27579        \t|96             \t|  26.476         \t|  81.411         \t|\n",
      "test_step                          \t|  0.27567        \t|96             \t|  26.464         \t|  81.376         \t|\n",
      "get_test_batch                     \t|  0.043207       \t|97             \t|  4.1911         \t|  12.887         \t|\n",
      "fetch_next_test_batch              \t|  0.043173       \t|97             \t|  4.1878         \t|  12.877         \t|\n",
      "on_test_batch_end                  \t|  0.014101       \t|96             \t|  1.3537         \t|  4.1627         \t|\n",
      "evaluation_batch_to_device         \t|  0.0020723      \t|96             \t|  0.19894        \t|  0.61173        \t|\n",
      "on_test_start                      \t|  0.01634        \t|1              \t|  0.01634        \t|  0.050245       \t|\n",
      "on_test_batch_start                \t|  2.0875e-05     \t|96             \t|  0.002004       \t|  0.0061622      \t|\n",
      "test_step_end                      \t|  1.1899e-05     \t|96             \t|  0.0011423      \t|  0.0035125      \t|\n",
      "on_test_end                        \t|  0.00094298     \t|1              \t|  0.00094298     \t|  0.0028996      \t|\n",
      "on_test_model_eval                 \t|  4.8161e-05     \t|1              \t|  4.8161e-05     \t|  0.00014809     \t|\n",
      "on_test_epoch_end                  \t|  2.7165e-05     \t|1              \t|  2.7165e-05     \t|  8.3531e-05     \t|\n",
      "teardown                           \t|  1.638e-05      \t|1              \t|  1.638e-05      \t|  5.0368e-05     \t|\n",
      "on_epoch_end                       \t|  1.4991e-05     \t|1              \t|  1.4991e-05     \t|  4.6095e-05     \t|\n",
      "on_configure_sharded_model         \t|  1.3512e-05     \t|1              \t|  1.3512e-05     \t|  4.1548e-05     \t|\n",
      "on_before_accelerator_backend_setup\t|  1.1921e-05     \t|1              \t|  1.1921e-05     \t|  3.6656e-05     \t|\n",
      "setup                              \t|  9.913e-06      \t|1              \t|  9.913e-06      \t|  3.0482e-05     \t|\n",
      "on_epoch_start                     \t|  9.4771e-06     \t|1              \t|  9.4771e-06     \t|  2.9142e-05     \t|\n",
      "on_test_epoch_start                \t|  8.0988e-06     \t|1              \t|  8.0988e-06     \t|  2.4903e-05     \t|\n",
      "configure_callbacks                \t|  5.3011e-06     \t|1              \t|  5.3011e-06     \t|  1.6301e-05     \t|\n",
      "on_test_dataloader                 \t|  5.2527e-06     \t|1              \t|  5.2527e-06     \t|  1.6152e-05     \t|\n",
      "prepare_data                       \t|  4.7237e-06     \t|1              \t|  4.7237e-06     \t|  1.4525e-05     \t|\n",
      "configure_sharded_model            \t|  4.5151e-06     \t|1              \t|  4.5151e-06     \t|  1.3884e-05     \t|\n",
      "\n"
     ]
    },
    {
     "name": "stdout",
     "output_type": "stream",
     "text": [
      "--------------------------------------------------------------------------------\n",
      "DATALOADER:0 TEST RESULTS\n",
      "{'test_loss': 0.05047113820910454, 'test_loss: mse': 0.027514679357409477}\n",
      "--------------------------------------------------------------------------------\n"
     ]
    }
   ],
   "source": [
    "import hydra\n",
    "from hydra.experimental import compose, initialize\n",
    "\n",
    "test_loss_rad_dict = {}\n",
    "\n",
    "for rad in range(0,90,10):\n",
    "    with initialize(config_path=\"../config\"):\n",
    "        cfg_from_terminal = compose(config_name=\"config\")\n",
    "        OmegaConf.update(cfg_from_terminal, \"model.kwargs.hidden_dimensions\", [128, 128])\n",
    "        OmegaConf.update(cfg_from_terminal, \"training.logger_name\", \"gene151\")\n",
    "        OmegaConf.update(cfg_from_terminal, \"radius\", rad)\n",
    "        OmegaConf.update(cfg_from_terminal, \"model.kwargs.response_genes\", [151])\n",
    "        output = test(cfg_from_terminal)\n",
    "        trainer, l1_losses, inputs, gene_expressions, celltypes, test_results = output\n",
    "        test_loss_rad_dict[rad] = test_results[0]['test_loss']"
   ]
  },
  {
   "cell_type": "code",
   "execution_count": 7,
   "id": "7fdc197c",
   "metadata": {},
   "outputs": [
    {
     "data": {
      "text/plain": [
       "{0: 0.0499076209962368,\n",
       " 10: 0.0508580319583416,\n",
       " 20: 0.05018540844321251,\n",
       " 30: 0.05055781826376915,\n",
       " 40: 0.05067247524857521,\n",
       " 50: 0.05058332160115242,\n",
       " 60: 0.05033117160201073,\n",
       " 70: 0.05010917782783508,\n",
       " 80: 0.05047113820910454}"
      ]
     },
     "execution_count": 7,
     "metadata": {},
     "output_type": "execute_result"
    }
   ],
   "source": [
    "test_loss_rad_dict"
   ]
  },
  {
   "cell_type": "code",
   "execution_count": 10,
   "id": "18817f1a",
   "metadata": {},
   "outputs": [
    {
     "name": "stderr",
     "output_type": "stream",
     "text": [
      "GPU available: True, used: True\n",
      "TPU available: False, using: 0 TPU cores\n",
      "IPU available: False, using: 0 IPUs\n",
      "LOCAL_RANK: 0 - CUDA_VISIBLE_DEVICES: [0,1,2,3,4,5,6,7]\n",
      "/home/roko/.cache/pypoetry/virtualenvs/spatial-G_n0JvVf-py3.8/lib/python3.8/site-packages/pytorch_lightning/trainer/data_loading.py:132: UserWarning: The dataloader, test_dataloader 0, does not have many workers which may be a bottleneck. Consider increasing the value of the `num_workers` argument` (try 64 which is the number of cpus on this machine) in the `DataLoader` init to improve performance.\n",
      "  rank_zero_warn(\n"
     ]
    },
    {
     "data": {
      "application/vnd.jupyter.widget-view+json": {
       "model_id": "c10a47955f6f4498ab8a5d0c30c0eda2",
       "version_major": 2,
       "version_minor": 0
      },
      "text/plain": [
       "Testing: 0it [00:00, ?it/s]"
      ]
     },
     "metadata": {},
     "output_type": "display_data"
    },
    {
     "name": "stderr",
     "output_type": "stream",
     "text": [
      "/home/roko/spatial/spatial/models/monet_ae.py:185: UserWarning: To copy construct from a tensor, it is recommended to use sourceTensor.clone().detach() or sourceTensor.clone().detach().requires_grad_(True), rather than torch.tensor(sourceTensor).\n",
      "  new_batch_obj.x *= torch.tensor(responses)\n",
      "/home/roko/.cache/pypoetry/virtualenvs/spatial-G_n0JvVf-py3.8/lib/python3.8/site-packages/pytorch_lightning/utilities/data.py:59: UserWarning: Trying to infer the `batch_size` from an ambiguous collection. The batch size we found is 4. To avoid any miscalculations, use `self.log(..., batch_size=batch_size)`.\n",
      "  warning_cache.warn(\n",
      "TEST Profiler Report\n",
      "\n",
      "Action                             \t|  Mean duration (s)\t|Num calls      \t|  Total time (s) \t|  Percentage %   \t|\n",
      "---------------------------------------------------------------------------------------------------------------------------------------\n",
      "Total                              \t|  -              \t|_              \t|  36.651         \t|  100 %          \t|\n",
      "---------------------------------------------------------------------------------------------------------------------------------------\n",
      "run_test_evaluation                \t|  33.403         \t|1              \t|  33.403         \t|  91.137         \t|\n",
      "evaluation_step_and_end            \t|  0.27882        \t|96             \t|  26.767         \t|  73.033         \t|\n",
      "test_step                          \t|  0.27869        \t|96             \t|  26.754         \t|  72.998         \t|\n",
      "get_test_batch                     \t|  0.049069       \t|97             \t|  4.7597         \t|  12.987         \t|\n",
      "fetch_next_test_batch              \t|  0.049027       \t|97             \t|  4.7556         \t|  12.975         \t|\n",
      "on_test_batch_end                  \t|  0.015587       \t|96             \t|  1.4964         \t|  4.0827         \t|\n",
      "evaluation_batch_to_device         \t|  0.0016615      \t|96             \t|  0.15951        \t|  0.43521        \t|\n",
      "on_test_start                      \t|  0.019408       \t|1              \t|  0.019408       \t|  0.052955       \t|\n",
      "on_test_batch_start                \t|  2.3743e-05     \t|96             \t|  0.0022793      \t|  0.006219       \t|\n",
      "test_step_end                      \t|  1.5544e-05     \t|96             \t|  0.0014922      \t|  0.0040714      \t|\n",
      "on_test_end                        \t|  0.0011829      \t|1              \t|  0.0011829      \t|  0.0032274      \t|\n",
      "on_test_model_eval                 \t|  7.7229e-05     \t|1              \t|  7.7229e-05     \t|  0.00021072     \t|\n",
      "on_test_epoch_end                  \t|  4.2934e-05     \t|1              \t|  4.2934e-05     \t|  0.00011714     \t|\n",
      "configure_callbacks                \t|  2.2423e-05     \t|1              \t|  2.2423e-05     \t|  6.1179e-05     \t|\n",
      "teardown                           \t|  2.1745e-05     \t|1              \t|  2.1745e-05     \t|  5.9329e-05     \t|\n",
      "on_epoch_end                       \t|  2.1361e-05     \t|1              \t|  2.1361e-05     \t|  5.8282e-05     \t|\n",
      "on_configure_sharded_model         \t|  1.9761e-05     \t|1              \t|  1.9761e-05     \t|  5.3916e-05     \t|\n",
      "setup                              \t|  1.6654e-05     \t|1              \t|  1.6654e-05     \t|  4.5439e-05     \t|\n",
      "on_before_accelerator_backend_setup\t|  1.4445e-05     \t|1              \t|  1.4445e-05     \t|  3.9412e-05     \t|\n",
      "on_epoch_start                     \t|  1.0459e-05     \t|1              \t|  1.0459e-05     \t|  2.8536e-05     \t|\n",
      "on_test_dataloader                 \t|  9.8478e-06     \t|1              \t|  9.8478e-06     \t|  2.6869e-05     \t|\n",
      "on_test_epoch_start                \t|  9.5684e-06     \t|1              \t|  9.5684e-06     \t|  2.6107e-05     \t|\n",
      "configure_sharded_model            \t|  6.9384e-06     \t|1              \t|  6.9384e-06     \t|  1.8931e-05     \t|\n",
      "prepare_data                       \t|  4.3884e-06     \t|1              \t|  4.3884e-06     \t|  1.1973e-05     \t|\n",
      "\n"
     ]
    },
    {
     "name": "stdout",
     "output_type": "stream",
     "text": [
      "--------------------------------------------------------------------------------\n",
      "DATALOADER:0 TEST RESULTS\n",
      "{'test_loss': 0.5410650372505188, 'test_loss: mse': 0.5704374313354492}\n",
      "--------------------------------------------------------------------------------\n"
     ]
    }
   ],
   "source": [
    "import hydra\n",
    "from hydra.experimental import compose, initialize\n",
    "\n",
    "test_loss_rad_dict_response = {}\n",
    "\n",
    "for rad in range(0,50,10):\n",
    "    with initialize(config_path=\"../config\"):\n",
    "        cfg_from_terminal = compose(config_name=\"config\")\n",
    "        OmegaConf.update(cfg_from_terminal, \"model.kwargs.hidden_dimensions\", [256, 256])\n",
    "        OmegaConf.update(cfg_from_terminal, \"training.logger_name\", \"gene93\")\n",
    "        OmegaConf.update(cfg_from_terminal, \"radius\", rad)\n",
    "        OmegaConf.update(cfg_from_terminal, \"model.kwargs.response_genes\", [93])\n",
    "        OmegaConf.update(cfg_from_terminal, \"training.filepath\", f\"{cfg_from_terminal.model.name}__{cfg_from_terminal.model.kwargs.hidden_dimensions}__{cfg_from_terminal.radius}__{cfg_from_terminal.training.logger_name}\")\n",
    "        output = test(cfg_from_terminal)\n",
    "        trainer, l1_losses, inputs, gene_expressions, celltypes, test_results = output\n",
    "        test_loss_rad_dict_response[rad] = test_results[0]['test_loss']\n",
    "        break"
   ]
  },
  {
   "cell_type": "code",
   "execution_count": 17,
   "id": "d76bd04c",
   "metadata": {},
   "outputs": [
    {
     "data": {
      "text/plain": [
       "tensor(0.5411)"
      ]
     },
     "execution_count": 17,
     "metadata": {},
     "output_type": "execute_result"
    }
   ],
   "source": [
    "torch.mean(torch.abs(inputs[:, 93] - gene_expressions[:, 93]))"
   ]
  },
  {
   "cell_type": "code",
   "execution_count": null,
   "id": "3fb0d04e",
   "metadata": {},
   "outputs": [],
   "source": [
    "test_loss_rad_dict_response"
   ]
  },
  {
   "cell_type": "markdown",
   "id": "4edf0e49",
   "metadata": {},
   "source": [
    "General deepST for Individual Gene Predictions"
   ]
  },
  {
   "cell_type": "code",
   "execution_count": 3,
   "id": "698f7fe2",
   "metadata": {},
   "outputs": [
    {
     "name": "stderr",
     "output_type": "stream",
     "text": [
      "/home/roko/.cache/pypoetry/virtualenvs/spatial-G_n0JvVf-py3.8/lib/python3.8/site-packages/hydra/experimental/initialize.py:35: UserWarning: hydra.experimental.initialize() is no longer experimental. Use hydra.initialize()\n",
      "  deprecation_warning(\n",
      "/home/roko/.cache/pypoetry/virtualenvs/spatial-G_n0JvVf-py3.8/lib/python3.8/site-packages/hydra/experimental/compose.py:18: UserWarning: hydra.experimental.compose() is no longer experimental. Use hydra.compose()\n",
      "  deprecation_warning(\n",
      "GPU available: True, used: True\n",
      "TPU available: False, using: 0 TPU cores\n",
      "IPU available: False, using: 0 IPUs\n",
      "LOCAL_RANK: 0 - CUDA_VISIBLE_DEVICES: [0,1,2,3,4,5,6,7]\n",
      "/home/roko/.cache/pypoetry/virtualenvs/spatial-G_n0JvVf-py3.8/lib/python3.8/site-packages/pytorch_lightning/trainer/data_loading.py:132: UserWarning: The dataloader, test_dataloader 0, does not have many workers which may be a bottleneck. Consider increasing the value of the `num_workers` argument` (try 64 which is the number of cpus on this machine) in the `DataLoader` init to improve performance.\n",
      "  rank_zero_warn(\n"
     ]
    },
    {
     "data": {
      "application/vnd.jupyter.widget-view+json": {
       "model_id": "9805e488e24940cd84099c3d76af62ce",
       "version_major": 2,
       "version_minor": 0
      },
      "text/plain": [
       "Testing: 0it [00:00, ?it/s]"
      ]
     },
     "metadata": {},
     "output_type": "display_data"
    },
    {
     "name": "stderr",
     "output_type": "stream",
     "text": [
      "/home/roko/spatial/spatial/models/monet_ae.py:185: UserWarning: To copy construct from a tensor, it is recommended to use sourceTensor.clone().detach() or sourceTensor.clone().detach().requires_grad_(True), rather than torch.tensor(sourceTensor).\n",
      "  new_batch_obj.x *= torch.tensor(responses)\n",
      "/home/roko/.cache/pypoetry/virtualenvs/spatial-G_n0JvVf-py3.8/lib/python3.8/site-packages/pytorch_lightning/utilities/data.py:59: UserWarning: Trying to infer the `batch_size` from an ambiguous collection. The batch size we found is 4. To avoid any miscalculations, use `self.log(..., batch_size=batch_size)`.\n",
      "  warning_cache.warn(\n",
      "TEST Profiler Report\n",
      "\n",
      "Action                             \t|  Mean duration (s)\t|Num calls      \t|  Total time (s) \t|  Percentage %   \t|\n",
      "---------------------------------------------------------------------------------------------------------------------------------------\n",
      "Total                              \t|  -              \t|_              \t|  35.988         \t|  100 %          \t|\n",
      "---------------------------------------------------------------------------------------------------------------------------------------\n",
      "run_test_evaluation                \t|  32.885         \t|1              \t|  32.885         \t|  91.379         \t|\n",
      "evaluation_step_and_end            \t|  0.28655        \t|96             \t|  27.509         \t|  76.439         \t|\n",
      "test_step                          \t|  0.28641        \t|96             \t|  27.496         \t|  76.403         \t|\n",
      "get_test_batch                     \t|  0.035479       \t|97             \t|  3.4414         \t|  9.5628         \t|\n",
      "fetch_next_test_batch              \t|  0.035426       \t|97             \t|  3.4363         \t|  9.5485         \t|\n",
      "on_test_batch_end                  \t|  0.015787       \t|96             \t|  1.5155         \t|  4.2112         \t|\n",
      "evaluation_batch_to_device         \t|  0.0022907      \t|96             \t|  0.21991        \t|  0.61107        \t|\n",
      "on_test_start                      \t|  0.019112       \t|1              \t|  0.019112       \t|  0.053107       \t|\n",
      "on_test_batch_start                \t|  2.6596e-05     \t|96             \t|  0.0025532      \t|  0.0070947      \t|\n",
      "test_step_end                      \t|  1.4438e-05     \t|96             \t|  0.0013861      \t|  0.0038515      \t|\n",
      "on_test_end                        \t|  0.0010691      \t|1              \t|  0.0010691      \t|  0.0029708      \t|\n",
      "setup                              \t|  0.00010104     \t|1              \t|  0.00010104     \t|  0.00028077     \t|\n",
      "on_test_model_eval                 \t|  7.9835e-05     \t|1              \t|  7.9835e-05     \t|  0.00022184     \t|\n",
      "on_test_epoch_end                  \t|  5.3596e-05     \t|1              \t|  5.3596e-05     \t|  0.00014893     \t|\n",
      "teardown                           \t|  2.66e-05       \t|1              \t|  2.66e-05       \t|  7.3916e-05     \t|\n",
      "on_epoch_end                       \t|  1.8748e-05     \t|1              \t|  1.8748e-05     \t|  5.2094e-05     \t|\n",
      "on_configure_sharded_model         \t|  1.608e-05      \t|1              \t|  1.608e-05      \t|  4.4683e-05     \t|\n",
      "on_before_accelerator_backend_setup\t|  1.161e-05      \t|1              \t|  1.161e-05      \t|  3.2261e-05     \t|\n",
      "on_epoch_start                     \t|  9.8553e-06     \t|1              \t|  9.8553e-06     \t|  2.7385e-05     \t|\n",
      "on_test_epoch_start                \t|  8.8401e-06     \t|1              \t|  8.8401e-06     \t|  2.4564e-05     \t|\n",
      "on_test_dataloader                 \t|  7.4748e-06     \t|1              \t|  7.4748e-06     \t|  2.077e-05      \t|\n",
      "configure_sharded_model            \t|  6.1803e-06     \t|1              \t|  6.1803e-06     \t|  1.7173e-05     \t|\n",
      "configure_callbacks                \t|  5.8338e-06     \t|1              \t|  5.8338e-06     \t|  1.6211e-05     \t|\n",
      "prepare_data                       \t|  3.9972e-06     \t|1              \t|  3.9972e-06     \t|  1.1107e-05     \t|\n",
      "\n"
     ]
    },
    {
     "name": "stdout",
     "output_type": "stream",
     "text": [
      "--------------------------------------------------------------------------------\n",
      "DATALOADER:0 TEST RESULTS\n",
      "{'test_loss': 0.3506155014038086, 'test_loss: mse': 0.434160441160202}\n",
      "--------------------------------------------------------------------------------\n"
     ]
    },
    {
     "name": "stderr",
     "output_type": "stream",
     "text": [
      "/home/roko/.cache/pypoetry/virtualenvs/spatial-G_n0JvVf-py3.8/lib/python3.8/site-packages/hydra/experimental/initialize.py:35: UserWarning: hydra.experimental.initialize() is no longer experimental. Use hydra.initialize()\n",
      "  deprecation_warning(\n",
      "GPU available: True, used: True\n",
      "TPU available: False, using: 0 TPU cores\n",
      "IPU available: False, using: 0 IPUs\n",
      "LOCAL_RANK: 0 - CUDA_VISIBLE_DEVICES: [0,1,2,3,4,5,6,7]\n"
     ]
    },
    {
     "data": {
      "application/vnd.jupyter.widget-view+json": {
       "model_id": "f2a7042faf9b405f85dc73f839c8149a",
       "version_major": 2,
       "version_minor": 0
      },
      "text/plain": [
       "Testing: 0it [00:00, ?it/s]"
      ]
     },
     "metadata": {},
     "output_type": "display_data"
    },
    {
     "name": "stderr",
     "output_type": "stream",
     "text": [
      "TEST Profiler Report\n",
      "\n",
      "Action                             \t|  Mean duration (s)\t|Num calls      \t|  Total time (s) \t|  Percentage %   \t|\n",
      "---------------------------------------------------------------------------------------------------------------------------------------\n",
      "Total                              \t|  -              \t|_              \t|  31.21          \t|  100 %          \t|\n",
      "---------------------------------------------------------------------------------------------------------------------------------------\n",
      "run_test_evaluation                \t|  31.194         \t|1              \t|  31.194         \t|  99.947         \t|\n",
      "evaluation_step_and_end            \t|  0.26957        \t|96             \t|  25.879         \t|  82.917         \t|\n",
      "test_step                          \t|  0.26945        \t|96             \t|  25.867         \t|  82.879         \t|\n",
      "get_test_batch                     \t|  0.036855       \t|97             \t|  3.5749         \t|  11.454         \t|\n",
      "fetch_next_test_batch              \t|  0.036814       \t|97             \t|  3.5709         \t|  11.441         \t|\n",
      "on_test_batch_end                  \t|  0.013861       \t|96             \t|  1.3307         \t|  4.2635         \t|\n",
      "evaluation_batch_to_device         \t|  0.0020528      \t|96             \t|  0.19706        \t|  0.63141        \t|\n",
      "on_test_start                      \t|  0.016078       \t|1              \t|  0.016078       \t|  0.051514       \t|\n",
      "on_test_batch_start                \t|  2.3168e-05     \t|96             \t|  0.0022242      \t|  0.0071263      \t|\n",
      "test_step_end                      \t|  1.3262e-05     \t|96             \t|  0.0012732      \t|  0.0040793      \t|\n",
      "on_test_end                        \t|  0.00060872     \t|1              \t|  0.00060872     \t|  0.0019504      \t|\n",
      "on_test_model_eval                 \t|  5.2627e-05     \t|1              \t|  5.2627e-05     \t|  0.00016862     \t|\n",
      "on_test_epoch_end                  \t|  2.74e-05       \t|1              \t|  2.74e-05       \t|  8.779e-05      \t|\n",
      "teardown                           \t|  1.5315e-05     \t|1              \t|  1.5315e-05     \t|  4.9069e-05     \t|\n",
      "on_configure_sharded_model         \t|  1.3918e-05     \t|1              \t|  1.3918e-05     \t|  4.4593e-05     \t|\n",
      "on_epoch_end                       \t|  1.3404e-05     \t|1              \t|  1.3404e-05     \t|  4.2946e-05     \t|\n",
      "on_before_accelerator_backend_setup\t|  1.1729e-05     \t|1              \t|  1.1729e-05     \t|  3.7581e-05     \t|\n",
      "setup                              \t|  1.1453e-05     \t|1              \t|  1.1453e-05     \t|  3.6697e-05     \t|\n",
      "on_epoch_start                     \t|  8.6632e-06     \t|1              \t|  8.6632e-06     \t|  2.7757e-05     \t|\n",
      "on_test_epoch_start                \t|  8.2124e-06     \t|1              \t|  8.2124e-06     \t|  2.6313e-05     \t|\n",
      "configure_callbacks                \t|  5.7314e-06     \t|1              \t|  5.7314e-06     \t|  1.8364e-05     \t|\n",
      "on_test_dataloader                 \t|  5.6364e-06     \t|1              \t|  5.6364e-06     \t|  1.8059e-05     \t|\n",
      "configure_sharded_model            \t|  5.4203e-06     \t|1              \t|  5.4203e-06     \t|  1.7367e-05     \t|\n",
      "prepare_data                       \t|  3.5055e-06     \t|1              \t|  3.5055e-06     \t|  1.1232e-05     \t|\n",
      "\n"
     ]
    },
    {
     "name": "stdout",
     "output_type": "stream",
     "text": [
      "--------------------------------------------------------------------------------\n",
      "DATALOADER:0 TEST RESULTS\n",
      "{'test_loss': 0.35077738761901855, 'test_loss: mse': 0.43806537985801697}\n",
      "--------------------------------------------------------------------------------\n",
      "Filtered Data (109105, 170)\n",
      "/home/roko/spatial/data/raw/merfish_messi.hdf5\n"
     ]
    },
    {
     "ename": "InstantiationException",
     "evalue": "Error in call to target 'spatial.merfish_dataset.FilteredMerfishDataset':\nIndexError('list index out of range')\nfull_key: datasets.dataset",
     "output_type": "error",
     "traceback": [
      "\u001b[0;31m---------------------------------------------------------------------------\u001b[0m",
      "\u001b[0;31mIndexError\u001b[0m                                Traceback (most recent call last)",
      "File \u001b[0;32m~/.cache/pypoetry/virtualenvs/spatial-G_n0JvVf-py3.8/lib/python3.8/site-packages/hydra/_internal/instantiate/_instantiate2.py:86\u001b[0m, in \u001b[0;36m_call_target\u001b[0;34m(_target_, _partial_, args, kwargs, full_key)\u001b[0m\n\u001b[1;32m     85\u001b[0m \u001b[38;5;28;01mtry\u001b[39;00m:\n\u001b[0;32m---> 86\u001b[0m     \u001b[38;5;28;01mreturn\u001b[39;00m \u001b[43m_target_\u001b[49m\u001b[43m(\u001b[49m\u001b[38;5;241;43m*\u001b[39;49m\u001b[43margs\u001b[49m\u001b[43m,\u001b[49m\u001b[43m \u001b[49m\u001b[38;5;241;43m*\u001b[39;49m\u001b[38;5;241;43m*\u001b[39;49m\u001b[43mkwargs\u001b[49m\u001b[43m)\u001b[49m\n\u001b[1;32m     87\u001b[0m \u001b[38;5;28;01mexcept\u001b[39;00m \u001b[38;5;167;01mException\u001b[39;00m \u001b[38;5;28;01mas\u001b[39;00m e:\n",
      "File \u001b[0;32m~/spatial/spatial/merfish_dataset.py:520\u001b[0m, in \u001b[0;36mFilteredMerfishDataset.__init__\u001b[0;34m(self, root, n_neighbors, train, log_transform, neighbor_celltypes, radius, non_response_genes_file, animals, bregmas, sexes, behaviors, test_animal, full_animal_holdout, splits)\u001b[0m\n\u001b[1;32m    519\u001b[0m MerfishDataset\u001b[38;5;241m.\u001b[39mdownload(\u001b[38;5;28mself\u001b[39m)\n\u001b[0;32m--> 520\u001b[0m \u001b[38;5;28;43msuper\u001b[39;49m\u001b[43m(\u001b[49m\u001b[43m)\u001b[49m\u001b[38;5;241;43m.\u001b[39;49m\u001b[38;5;21;43m__init__\u001b[39;49m\u001b[43m(\u001b[49m\n\u001b[1;32m    521\u001b[0m \u001b[43m    \u001b[49m\u001b[43mroot\u001b[49m\u001b[43m,\u001b[49m\n\u001b[1;32m    522\u001b[0m \u001b[43m    \u001b[49m\u001b[43mn_neighbors\u001b[49m\u001b[38;5;241;43m=\u001b[39;49m\u001b[43mn_neighbors\u001b[49m\u001b[43m,\u001b[49m\n\u001b[1;32m    523\u001b[0m \u001b[43m    \u001b[49m\u001b[43mtrain\u001b[49m\u001b[38;5;241;43m=\u001b[39;49m\u001b[43mtrain\u001b[49m\u001b[43m,\u001b[49m\n\u001b[1;32m    524\u001b[0m \u001b[43m    \u001b[49m\u001b[43mlog_transform\u001b[49m\u001b[38;5;241;43m=\u001b[39;49m\u001b[43mlog_transform\u001b[49m\u001b[43m,\u001b[49m\n\u001b[1;32m    525\u001b[0m \u001b[43m    \u001b[49m\u001b[43mneighbor_celltypes\u001b[49m\u001b[38;5;241;43m=\u001b[39;49m\u001b[43mneighbor_celltypes\u001b[49m\u001b[43m,\u001b[49m\n\u001b[1;32m    526\u001b[0m \u001b[43m    \u001b[49m\u001b[43mnon_response_genes_file\u001b[49m\u001b[38;5;241;43m=\u001b[39;49m\u001b[43mnon_response_genes_file\u001b[49m\u001b[43m,\u001b[49m\n\u001b[1;32m    527\u001b[0m \u001b[43m    \u001b[49m\u001b[43mradius\u001b[49m\u001b[38;5;241;43m=\u001b[39;49m\u001b[43mradius\u001b[49m\u001b[43m,\u001b[49m\n\u001b[1;32m    528\u001b[0m \u001b[43m    \u001b[49m\u001b[43msplits\u001b[49m\u001b[38;5;241;43m=\u001b[39;49m\u001b[43msplits\u001b[49m\u001b[43m,\u001b[49m\n\u001b[1;32m    529\u001b[0m \u001b[43m\u001b[49m\u001b[43m)\u001b[49m\n",
      "File \u001b[0;32m~/spatial/spatial/merfish_dataset.py:48\u001b[0m, in \u001b[0;36mMerfishDataset.__init__\u001b[0;34m(self, root, n_neighbors, train, log_transform, neighbor_celltypes, radius, non_response_genes_file, splits)\u001b[0m\n\u001b[1;32m     46\u001b[0m     \u001b[38;5;28mself\u001b[39m\u001b[38;5;241m.\u001b[39mgene_names \u001b[38;5;241m=\u001b[39m h5f[\u001b[38;5;124m\"\u001b[39m\u001b[38;5;124mgene_names\u001b[39m\u001b[38;5;124m\"\u001b[39m][:][\u001b[38;5;241m~\u001b[39m\u001b[38;5;28mself\u001b[39m\u001b[38;5;241m.\u001b[39mbad_genes]\u001b[38;5;241m.\u001b[39mastype(\u001b[38;5;124m\"\u001b[39m\u001b[38;5;124mU\u001b[39m\u001b[38;5;124m\"\u001b[39m)\n\u001b[0;32m---> 48\u001b[0m \u001b[38;5;28mself\u001b[39m\u001b[38;5;241m.\u001b[39mdata, \u001b[38;5;28mself\u001b[39m\u001b[38;5;241m.\u001b[39mslices \u001b[38;5;241m=\u001b[39m \u001b[38;5;28;43mself\u001b[39;49m\u001b[38;5;241;43m.\u001b[39;49m\u001b[43mcollate\u001b[49m\u001b[43m(\u001b[49m\u001b[43mdata_list\u001b[49m\u001b[43m)\u001b[49m\n",
      "File \u001b[0;32m~/.cache/pypoetry/virtualenvs/spatial-G_n0JvVf-py3.8/lib/python3.8/site-packages/torch_geometric/data/in_memory_dataset.py:120\u001b[0m, in \u001b[0;36mInMemoryDataset.collate\u001b[0;34m(data_list)\u001b[0m\n\u001b[1;32m    118\u001b[0m \u001b[38;5;124mr\u001b[39m\u001b[38;5;124;03m\"\"\"Collates a python list of data objects to the internal storage\u001b[39;00m\n\u001b[1;32m    119\u001b[0m \u001b[38;5;124;03mformat of :class:`torch_geometric.data.InMemoryDataset`.\"\"\"\u001b[39;00m\n\u001b[0;32m--> 120\u001b[0m keys \u001b[38;5;241m=\u001b[39m \u001b[43mdata_list\u001b[49m\u001b[43m[\u001b[49m\u001b[38;5;241;43m0\u001b[39;49m\u001b[43m]\u001b[49m\u001b[38;5;241m.\u001b[39mkeys\n\u001b[1;32m    121\u001b[0m data \u001b[38;5;241m=\u001b[39m data_list[\u001b[38;5;241m0\u001b[39m]\u001b[38;5;241m.\u001b[39m\u001b[38;5;18m__class__\u001b[39m()\n",
      "\u001b[0;31mIndexError\u001b[0m: list index out of range",
      "\nThe above exception was the direct cause of the following exception:\n",
      "\u001b[0;31mInstantiationException\u001b[0m                    Traceback (most recent call last)",
      "Input \u001b[0;32mIn [3]\u001b[0m, in \u001b[0;36m<cell line: 8>\u001b[0;34m()\u001b[0m\n\u001b[1;32m     13\u001b[0m OmegaConf\u001b[38;5;241m.\u001b[39mupdate(cfg_from_terminal, \u001b[38;5;124m\"\u001b[39m\u001b[38;5;124mradius\u001b[39m\u001b[38;5;124m\"\u001b[39m, rad)\n\u001b[1;32m     14\u001b[0m OmegaConf\u001b[38;5;241m.\u001b[39mupdate(cfg_from_terminal, \u001b[38;5;124m\"\u001b[39m\u001b[38;5;124mtraining.filepath\u001b[39m\u001b[38;5;124m\"\u001b[39m, \u001b[38;5;124mf\u001b[39m\u001b[38;5;124m\"\u001b[39m\u001b[38;5;132;01m{\u001b[39;00mcfg_from_terminal\u001b[38;5;241m.\u001b[39mmodel\u001b[38;5;241m.\u001b[39mname\u001b[38;5;132;01m}\u001b[39;00m\u001b[38;5;124m__\u001b[39m\u001b[38;5;132;01m{\u001b[39;00mcfg_from_terminal\u001b[38;5;241m.\u001b[39mmodel\u001b[38;5;241m.\u001b[39mkwargs\u001b[38;5;241m.\u001b[39mhidden_dimensions\u001b[38;5;132;01m}\u001b[39;00m\u001b[38;5;124m__\u001b[39m\u001b[38;5;132;01m{\u001b[39;00mcfg_from_terminal\u001b[38;5;241m.\u001b[39mradius\u001b[38;5;132;01m}\u001b[39;00m\u001b[38;5;124m__\u001b[39m\u001b[38;5;132;01m{\u001b[39;00mcfg_from_terminal\u001b[38;5;241m.\u001b[39mtraining\u001b[38;5;241m.\u001b[39mlogger_name\u001b[38;5;132;01m}\u001b[39;00m\u001b[38;5;124m\"\u001b[39m)\n\u001b[0;32m---> 15\u001b[0m output \u001b[38;5;241m=\u001b[39m \u001b[43mtest\u001b[49m\u001b[43m(\u001b[49m\u001b[43mcfg_from_terminal\u001b[49m\u001b[43m)\u001b[49m\n\u001b[1;32m     16\u001b[0m trainer, l1_losses, inputs, gene_expressions, celltypes, test_results \u001b[38;5;241m=\u001b[39m output\n\u001b[1;32m     17\u001b[0m test_loss_rad_dict_response[rad] \u001b[38;5;241m=\u001b[39m test_results[\u001b[38;5;241m0\u001b[39m][\u001b[38;5;124m'\u001b[39m\u001b[38;5;124mtest_loss\u001b[39m\u001b[38;5;124m'\u001b[39m]\n",
      "File \u001b[0;32m~/spatial/spatial/predict.py:23\u001b[0m, in \u001b[0;36mtest\u001b[0;34m(cfg, data)\u001b[0m\n\u001b[1;32m     19\u001b[0m \u001b[38;5;28;01mdef\u001b[39;00m \u001b[38;5;21mtest\u001b[39m(cfg: DictConfig, data\u001b[38;5;241m=\u001b[39m\u001b[38;5;28;01mNone\u001b[39;00m):\n\u001b[1;32m     20\u001b[0m \n\u001b[1;32m     21\u001b[0m     \u001b[38;5;66;03m# Set up testing data.\u001b[39;00m\n\u001b[1;32m     22\u001b[0m     \u001b[38;5;28;01mif\u001b[39;00m data \u001b[38;5;129;01mis\u001b[39;00m \u001b[38;5;28;01mNone\u001b[39;00m:\n\u001b[0;32m---> 23\u001b[0m         data \u001b[38;5;241m=\u001b[39m \u001b[43minstantiate\u001b[49m\u001b[43m(\u001b[49m\u001b[43mcfg\u001b[49m\u001b[38;5;241;43m.\u001b[39;49m\u001b[43mdatasets\u001b[49m\u001b[38;5;241;43m.\u001b[39;49m\u001b[43mdataset\u001b[49m\u001b[43m,\u001b[49m\u001b[43m \u001b[49m\u001b[43mtrain\u001b[49m\u001b[38;5;241;43m=\u001b[39;49m\u001b[38;5;28;43;01mFalse\u001b[39;49;00m\u001b[43m)\u001b[49m\n\u001b[1;32m     25\u001b[0m     \u001b[38;5;66;03m# ensuring data dimension is correct\u001b[39;00m\n\u001b[1;32m     26\u001b[0m     \u001b[38;5;28;01mif\u001b[39;00m cfg\u001b[38;5;241m.\u001b[39mmodel\u001b[38;5;241m.\u001b[39mkwargs\u001b[38;5;241m.\u001b[39mobservables_dimension \u001b[38;5;241m!=\u001b[39m data[\u001b[38;5;241m0\u001b[39m]\u001b[38;5;241m.\u001b[39mx\u001b[38;5;241m.\u001b[39mshape[\u001b[38;5;241m1\u001b[39m]:\n",
      "File \u001b[0;32m~/.cache/pypoetry/virtualenvs/spatial-G_n0JvVf-py3.8/lib/python3.8/site-packages/hydra/_internal/instantiate/_instantiate2.py:218\u001b[0m, in \u001b[0;36minstantiate\u001b[0;34m(config, *args, **kwargs)\u001b[0m\n\u001b[1;32m    215\u001b[0m     _convert_ \u001b[38;5;241m=\u001b[39m config\u001b[38;5;241m.\u001b[39mpop(_Keys\u001b[38;5;241m.\u001b[39mCONVERT, ConvertMode\u001b[38;5;241m.\u001b[39mNONE)\n\u001b[1;32m    216\u001b[0m     _partial_ \u001b[38;5;241m=\u001b[39m config\u001b[38;5;241m.\u001b[39mpop(_Keys\u001b[38;5;241m.\u001b[39mPARTIAL, \u001b[38;5;28;01mFalse\u001b[39;00m)\n\u001b[0;32m--> 218\u001b[0m     \u001b[38;5;28;01mreturn\u001b[39;00m \u001b[43minstantiate_node\u001b[49m\u001b[43m(\u001b[49m\n\u001b[1;32m    219\u001b[0m \u001b[43m        \u001b[49m\u001b[43mconfig\u001b[49m\u001b[43m,\u001b[49m\u001b[43m \u001b[49m\u001b[38;5;241;43m*\u001b[39;49m\u001b[43margs\u001b[49m\u001b[43m,\u001b[49m\u001b[43m \u001b[49m\u001b[43mrecursive\u001b[49m\u001b[38;5;241;43m=\u001b[39;49m\u001b[43m_recursive_\u001b[49m\u001b[43m,\u001b[49m\u001b[43m \u001b[49m\u001b[43mconvert\u001b[49m\u001b[38;5;241;43m=\u001b[39;49m\u001b[43m_convert_\u001b[49m\u001b[43m,\u001b[49m\u001b[43m \u001b[49m\u001b[43mpartial\u001b[49m\u001b[38;5;241;43m=\u001b[39;49m\u001b[43m_partial_\u001b[49m\n\u001b[1;32m    220\u001b[0m \u001b[43m    \u001b[49m\u001b[43m)\u001b[49m\n\u001b[1;32m    221\u001b[0m \u001b[38;5;28;01melif\u001b[39;00m OmegaConf\u001b[38;5;241m.\u001b[39mis_list(config):\n\u001b[1;32m    222\u001b[0m     \u001b[38;5;66;03m# Finalize config (convert targets to strings, merge with kwargs)\u001b[39;00m\n\u001b[1;32m    223\u001b[0m     config_copy \u001b[38;5;241m=\u001b[39m copy\u001b[38;5;241m.\u001b[39mdeepcopy(config)\n",
      "File \u001b[0;32m~/.cache/pypoetry/virtualenvs/spatial-G_n0JvVf-py3.8/lib/python3.8/site-packages/hydra/_internal/instantiate/_instantiate2.py:331\u001b[0m, in \u001b[0;36minstantiate_node\u001b[0;34m(node, convert, recursive, partial, *args)\u001b[0m\n\u001b[1;32m    326\u001b[0m                 value \u001b[38;5;241m=\u001b[39m instantiate_node(\n\u001b[1;32m    327\u001b[0m                     value, convert\u001b[38;5;241m=\u001b[39mconvert, recursive\u001b[38;5;241m=\u001b[39mrecursive\n\u001b[1;32m    328\u001b[0m                 )\n\u001b[1;32m    329\u001b[0m             kwargs[key] \u001b[38;5;241m=\u001b[39m _convert_node(value, convert)\n\u001b[0;32m--> 331\u001b[0m     \u001b[38;5;28;01mreturn\u001b[39;00m \u001b[43m_call_target\u001b[49m\u001b[43m(\u001b[49m\u001b[43m_target_\u001b[49m\u001b[43m,\u001b[49m\u001b[43m \u001b[49m\u001b[43mpartial\u001b[49m\u001b[43m,\u001b[49m\u001b[43m \u001b[49m\u001b[43margs\u001b[49m\u001b[43m,\u001b[49m\u001b[43m \u001b[49m\u001b[43mkwargs\u001b[49m\u001b[43m,\u001b[49m\u001b[43m \u001b[49m\u001b[43mfull_key\u001b[49m\u001b[43m)\u001b[49m\n\u001b[1;32m    332\u001b[0m \u001b[38;5;28;01melse\u001b[39;00m:\n\u001b[1;32m    333\u001b[0m     \u001b[38;5;66;03m# If ALL or PARTIAL non structured, instantiate in dict and resolve interpolations eagerly.\u001b[39;00m\n\u001b[1;32m    334\u001b[0m     \u001b[38;5;28;01mif\u001b[39;00m convert \u001b[38;5;241m==\u001b[39m ConvertMode\u001b[38;5;241m.\u001b[39mALL \u001b[38;5;129;01mor\u001b[39;00m (\n\u001b[1;32m    335\u001b[0m         convert \u001b[38;5;241m==\u001b[39m ConvertMode\u001b[38;5;241m.\u001b[39mPARTIAL \u001b[38;5;129;01mand\u001b[39;00m node\u001b[38;5;241m.\u001b[39m_metadata\u001b[38;5;241m.\u001b[39mobject_type \u001b[38;5;129;01mis\u001b[39;00m \u001b[38;5;28;01mNone\u001b[39;00m\n\u001b[1;32m    336\u001b[0m     ):\n",
      "File \u001b[0;32m~/.cache/pypoetry/virtualenvs/spatial-G_n0JvVf-py3.8/lib/python3.8/site-packages/hydra/_internal/instantiate/_instantiate2.py:91\u001b[0m, in \u001b[0;36m_call_target\u001b[0;34m(_target_, _partial_, args, kwargs, full_key)\u001b[0m\n\u001b[1;32m     89\u001b[0m \u001b[38;5;28;01mif\u001b[39;00m full_key:\n\u001b[1;32m     90\u001b[0m     msg \u001b[38;5;241m+\u001b[39m\u001b[38;5;241m=\u001b[39m \u001b[38;5;124mf\u001b[39m\u001b[38;5;124m\"\u001b[39m\u001b[38;5;130;01m\\n\u001b[39;00m\u001b[38;5;124mfull_key: \u001b[39m\u001b[38;5;132;01m{\u001b[39;00mfull_key\u001b[38;5;132;01m}\u001b[39;00m\u001b[38;5;124m\"\u001b[39m\n\u001b[0;32m---> 91\u001b[0m \u001b[38;5;28;01mraise\u001b[39;00m InstantiationException(msg) \u001b[38;5;28;01mfrom\u001b[39;00m \u001b[38;5;21;01me\u001b[39;00m\n",
      "\u001b[0;31mInstantiationException\u001b[0m: Error in call to target 'spatial.merfish_dataset.FilteredMerfishDataset':\nIndexError('list index out of range')\nfull_key: datasets.dataset"
     ]
    }
   ],
   "source": [
    "import hydra\n",
    "from hydra.experimental import compose, initialize\n",
    "\n",
    "test_loss_rad_dict_response = {}\n",
    "test_loss_rad_dict_93 = {}\n",
    "test_loss_rad_dict_151 = {}\n",
    "\n",
    "for rad in range(0,80,10):\n",
    "    with initialize(config_path=\"../config\"):\n",
    "        cfg_from_terminal = compose(config_name=\"config\")\n",
    "        OmegaConf.update(cfg_from_terminal, \"model.kwargs.hidden_dimensions\", [128, 128])\n",
    "        OmegaConf.update(cfg_from_terminal, \"training.logger_name\", \"False\")\n",
    "        OmegaConf.update(cfg_from_terminal, \"radius\", rad)\n",
    "        OmegaConf.update(cfg_from_terminal, \"training.filepath\", f\"{cfg_from_terminal.model.name}__{cfg_from_terminal.model.kwargs.hidden_dimensions}__{cfg_from_terminal.radius}__{cfg_from_terminal.training.logger_name}\")\n",
    "        output = test(cfg_from_terminal)\n",
    "        trainer, l1_losses, inputs, gene_expressions, celltypes, test_results = output\n",
    "        test_loss_rad_dict_response[rad] = test_results[0]['test_loss']\n",
    "        test_loss_rad_dict_93[rad] = torch.mean(torch.abs(inputs[:, 93] - gene_expressions[:, 93]))\n",
    "        test_loss_rad_dict_151[rad] = torch.mean(torch.abs(inputs[:, 93] - gene_expressions[:, 151]))"
   ]
  },
  {
   "cell_type": "code",
   "execution_count": null,
   "id": "f3ad0dc6",
   "metadata": {},
   "outputs": [],
   "source": [
    "test_loss_rad_dict_93, test_loss_rad_dict_151"
   ]
  },
  {
   "cell_type": "code",
   "execution_count": 8,
   "id": "ebec781b",
   "metadata": {
    "scrolled": true
   },
   "outputs": [
    {
     "name": "stderr",
     "output_type": "stream",
     "text": [
      "GPU available: True, used: True\n",
      "TPU available: False, using: 0 TPU cores\n",
      "IPU available: False, using: 0 IPUs\n",
      "LOCAL_RANK: 0 - CUDA_VISIBLE_DEVICES: [0,1,2,3,4,5,6,7]\n"
     ]
    },
    {
     "data": {
      "application/vnd.jupyter.widget-view+json": {
       "model_id": "901a315c13d746b1985da5d90d595931",
       "version_major": 2,
       "version_minor": 0
      },
      "text/plain": [
       "Testing: 0it [00:00, ?it/s]"
      ]
     },
     "metadata": {},
     "output_type": "display_data"
    },
    {
     "name": "stderr",
     "output_type": "stream",
     "text": [
      "TEST Profiler Report\n",
      "\n",
      "Action                             \t|  Mean duration (s)\t|Num calls      \t|  Total time (s) \t|  Percentage %   \t|\n",
      "---------------------------------------------------------------------------------------------------------------------------------------\n",
      "Total                              \t|  -              \t|_              \t|  21.973         \t|  100 %          \t|\n",
      "---------------------------------------------------------------------------------------------------------------------------------------\n",
      "run_test_evaluation                \t|  21.839         \t|1              \t|  21.839         \t|  99.39          \t|\n",
      "evaluation_step_and_end            \t|  0.56187        \t|31             \t|  17.418         \t|  79.27          \t|\n",
      "test_step                          \t|  0.56175        \t|31             \t|  17.414         \t|  79.253         \t|\n",
      "get_test_batch                     \t|  0.10323        \t|32             \t|  3.3033         \t|  15.034         \t|\n",
      "fetch_next_test_batch              \t|  0.10319        \t|32             \t|  3.3021         \t|  15.028         \t|\n",
      "on_test_batch_end                  \t|  0.020551       \t|31             \t|  0.63709        \t|  2.8994         \t|\n",
      "evaluation_batch_to_device         \t|  0.0064557      \t|31             \t|  0.20013        \t|  0.91077        \t|\n",
      "on_test_start                      \t|  0.015436       \t|1              \t|  0.015436       \t|  0.070248       \t|\n",
      "on_test_end                        \t|  0.0025013      \t|1              \t|  0.0025013      \t|  0.011383       \t|\n",
      "on_test_batch_start                \t|  2.7494e-05     \t|31             \t|  0.00085233     \t|  0.003879       \t|\n",
      "test_step_end                      \t|  1.2807e-05     \t|31             \t|  0.00039703     \t|  0.0018069      \t|\n",
      "on_test_model_eval                 \t|  9.0407e-05     \t|1              \t|  9.0407e-05     \t|  0.00041145     \t|\n",
      "on_test_epoch_end                  \t|  4.4288e-05     \t|1              \t|  4.4288e-05     \t|  0.00020156     \t|\n",
      "on_epoch_end                       \t|  2.6979e-05     \t|1              \t|  2.6979e-05     \t|  0.00012278     \t|\n",
      "teardown                           \t|  1.9794e-05     \t|1              \t|  1.9794e-05     \t|  9.0084e-05     \t|\n",
      "on_configure_sharded_model         \t|  1.4564e-05     \t|1              \t|  1.4564e-05     \t|  6.6281e-05     \t|\n",
      "on_before_accelerator_backend_setup\t|  1.3052e-05     \t|1              \t|  1.3052e-05     \t|  5.9398e-05     \t|\n",
      "on_epoch_start                     \t|  9.1232e-06     \t|1              \t|  9.1232e-06     \t|  4.152e-05      \t|\n",
      "setup                              \t|  8.9649e-06     \t|1              \t|  8.9649e-06     \t|  4.08e-05       \t|\n",
      "on_test_epoch_start                \t|  8.028e-06      \t|1              \t|  8.028e-06      \t|  3.6536e-05     \t|\n",
      "configure_callbacks                \t|  5.9474e-06     \t|1              \t|  5.9474e-06     \t|  2.7067e-05     \t|\n",
      "on_test_dataloader                 \t|  5.6755e-06     \t|1              \t|  5.6755e-06     \t|  2.5829e-05     \t|\n",
      "configure_sharded_model            \t|  4.8634e-06     \t|1              \t|  4.8634e-06     \t|  2.2133e-05     \t|\n",
      "prepare_data                       \t|  3.9898e-06     \t|1              \t|  3.9898e-06     \t|  1.8158e-05     \t|\n",
      "\n"
     ]
    },
    {
     "name": "stdout",
     "output_type": "stream",
     "text": [
      "--------------------------------------------------------------------------------\n",
      "DATALOADER:0 TEST RESULTS\n",
      "{'test_loss': 0.08934661746025085,\n",
      " 'test_loss: mae_response': 0.12857602536678314,\n",
      " 'test_loss: mse': 3.003896951675415}\n",
      "--------------------------------------------------------------------------------\n"
     ]
    }
   ],
   "source": [
    "# equivalent to spatial\n",
    "\n",
    "import hydra\n",
    "from hydra.experimental import compose, initialize\n",
    "\n",
    "with initialize(config_path=\"../config\"):\n",
    "    cfg_from_terminal = compose(config_name=\"config\")\n",
    "    OmegaConf.update(cfg_from_terminal, \"model.kwargs.hidden_dimensions\", [256, 256])\n",
    "    OmegaConf.update(cfg_from_terminal, \"training.logger_name\", \"neighbors_large\")\n",
    "    OmegaConf.update(cfg_from_terminal, \"radius\", 0)\n",
    "    output = test(cfg_from_terminal)\n",
    "    trainer, l1_losses, inputs, gene_expressions, celltypes, test_results = output\n",
    "    excitatory_cells = (celltypes == 6).nonzero(as_tuple=True)[0]\n",
    "    MAE_excitatory = torch.abs(torch.index_select((gene_expressions-inputs)[excitatory_cells], 1, torch.tensor(response_indeces))).mean().item()"
   ]
  },
  {
   "cell_type": "code",
   "execution_count": 4,
   "id": "3f7d889e",
   "metadata": {},
   "outputs": [
    {
     "data": {
      "text/plain": [
       "0.15488235652446747"
      ]
     },
     "execution_count": 4,
     "metadata": {},
     "output_type": "execute_result"
    }
   ],
   "source": [
    "MAE_excitatory"
   ]
  },
  {
   "cell_type": "code",
   "execution_count": 3,
   "id": "b3980c72",
   "metadata": {},
   "outputs": [],
   "source": [
    "trainer, l1_losses, inputs, gene_expressions, celltypes, test_results = output"
   ]
  },
  {
   "cell_type": "code",
   "execution_count": 4,
   "id": "1e8279cb",
   "metadata": {},
   "outputs": [
    {
     "data": {
      "text/plain": [
       "0.33515501022338867"
      ]
     },
     "execution_count": 4,
     "metadata": {},
     "output_type": "execute_result"
    }
   ],
   "source": [
    "test_results[0]['test_loss: mae_response']"
   ]
  },
  {
   "cell_type": "code",
   "execution_count": 3,
   "id": "64905249",
   "metadata": {},
   "outputs": [
    {
     "name": "stderr",
     "output_type": "stream",
     "text": [
      "/home/roko/.cache/pypoetry/virtualenvs/spatial-G_n0JvVf-py3.8/lib/python3.8/site-packages/hydra/experimental/initialize.py:35: UserWarning: hydra.experimental.initialize() is no longer experimental. Use hydra.initialize()\n",
      "  deprecation_warning(\n",
      "/home/roko/.cache/pypoetry/virtualenvs/spatial-G_n0JvVf-py3.8/lib/python3.8/site-packages/hydra/experimental/compose.py:18: UserWarning: hydra.experimental.compose() is no longer experimental. Use hydra.compose()\n",
      "  deprecation_warning(\n",
      "/home/roko/.cache/pypoetry/virtualenvs/spatial-G_n0JvVf-py3.8/lib/python3.8/site-packages/hydra/_internal/defaults_list.py:251: UserWarning: In 'config': Defaults list is missing `_self_`. See https://hydra.cc/docs/upgrades/1.0_to_1.1/default_composition_order for more information\n",
      "  warnings.warn(msg, UserWarning)\n",
      "/home/roko/.cache/pypoetry/virtualenvs/spatial-G_n0JvVf-py3.8/lib/python3.8/site-packages/hydra/core/default_element.py:122: UserWarning: In 'predict/default': Usage of deprecated keyword in package header '# @package _group_'.\n",
      "See https://hydra.cc/docs/next/upgrades/1.0_to_1.1/changes_to_package_header for more information\n",
      "  deprecation_warning(\n",
      "/home/roko/.cache/pypoetry/virtualenvs/spatial-G_n0JvVf-py3.8/lib/python3.8/site-packages/hydra/core/default_element.py:122: UserWarning: In 'training/default': Usage of deprecated keyword in package header '# @package _group_'.\n",
      "See https://hydra.cc/docs/next/upgrades/1.0_to_1.1/changes_to_package_header for more information\n",
      "  deprecation_warning(\n",
      "/home/roko/.cache/pypoetry/virtualenvs/spatial-G_n0JvVf-py3.8/lib/python3.8/site-packages/hydra/core/default_element.py:122: UserWarning: In 'model/MonetAutoencoder2D': Usage of deprecated keyword in package header '# @package _group_'.\n",
      "See https://hydra.cc/docs/next/upgrades/1.0_to_1.1/changes_to_package_header for more information\n",
      "  deprecation_warning(\n",
      "/home/roko/.cache/pypoetry/virtualenvs/spatial-G_n0JvVf-py3.8/lib/python3.8/site-packages/hydra/core/default_element.py:122: UserWarning: In 'datasets/FilteredMerfishDataset': Usage of deprecated keyword in package header '# @package _group_'.\n",
      "See https://hydra.cc/docs/next/upgrades/1.0_to_1.1/changes_to_package_header for more information\n",
      "  deprecation_warning(\n",
      "/home/roko/.cache/pypoetry/virtualenvs/spatial-G_n0JvVf-py3.8/lib/python3.8/site-packages/hydra/core/default_element.py:122: UserWarning: In 'optimizer/sgd': Usage of deprecated keyword in package header '# @package _group_'.\n",
      "See https://hydra.cc/docs/next/upgrades/1.0_to_1.1/changes_to_package_header for more information\n",
      "  deprecation_warning(\n"
     ]
    },
    {
     "name": "stdout",
     "output_type": "stream",
     "text": [
      "Original Data (1027848, 170)\n",
      "Filtered Data (205348, 170)\n",
      "/home/roko/spatial/data/raw/merfish_messi.hdf5\n"
     ]
    },
    {
     "name": "stderr",
     "output_type": "stream",
     "text": [
      "/home/roko/.cache/pypoetry/virtualenvs/spatial-G_n0JvVf-py3.8/lib/python3.8/site-packages/pytorch_lightning/trainer/connectors/accelerator_connector.py:286: LightningDeprecationWarning: Passing `Trainer(accelerator='dp')` has been deprecated in v1.5 and will be removed in v1.7. Use `Trainer(strategy='dp')` instead.\n",
      "  rank_zero_deprecation(\n",
      "/home/roko/.cache/pypoetry/virtualenvs/spatial-G_n0JvVf-py3.8/lib/python3.8/site-packages/pytorch_lightning/trainer/connectors/callback_connector.py:147: LightningDeprecationWarning: Setting `Trainer(checkpoint_callback=True)` is deprecated in v1.5 and will be removed in v1.7. Please consider using `Trainer(enable_checkpointing=True)`.\n",
      "  rank_zero_deprecation(\n",
      "GPU available: True, used: True\n",
      "TPU available: False, using: 0 TPU cores\n",
      "IPU available: False, using: 0 IPUs\n",
      "LOCAL_RANK: 0 - CUDA_VISIBLE_DEVICES: [0,1,2,3,4,5,6,7]\n",
      "/home/roko/.cache/pypoetry/virtualenvs/spatial-G_n0JvVf-py3.8/lib/python3.8/site-packages/pytorch_lightning/trainer/data_loading.py:132: UserWarning: The dataloader, test_dataloader 0, does not have many workers which may be a bottleneck. Consider increasing the value of the `num_workers` argument` (try 64 which is the number of cpus on this machine) in the `DataLoader` init to improve performance.\n",
      "  rank_zero_warn(\n"
     ]
    },
    {
     "data": {
      "application/vnd.jupyter.widget-view+json": {
       "model_id": "131e583f31c246b2ac657427f45d1538",
       "version_major": 2,
       "version_minor": 0
      },
      "text/plain": [
       "Testing: 0it [00:00, ?it/s]"
      ]
     },
     "metadata": {},
     "output_type": "display_data"
    },
    {
     "name": "stderr",
     "output_type": "stream",
     "text": [
      "/home/roko/.cache/pypoetry/virtualenvs/spatial-G_n0JvVf-py3.8/lib/python3.8/site-packages/pytorch_lightning/overrides/data_parallel.py:97: UserWarning: Could not determine on which device the inputs are. When using DataParallel (strategy='dp'), be aware that in case you are using self.device in your code, it will reference only the root device.\n",
      "  rank_zero_warn(\n",
      "TEST Profiler Report\n",
      "\n",
      "Action                             \t|  Mean duration (s)\t|Num calls      \t|  Total time (s) \t|  Percentage %   \t|\n",
      "---------------------------------------------------------------------------------------------------------------------------------------\n",
      "Total                              \t|  -              \t|_              \t|  8.7991         \t|  100 %          \t|\n",
      "---------------------------------------------------------------------------------------------------------------------------------------\n",
      "run_test_evaluation                \t|  8.7592         \t|1              \t|  8.7592         \t|  99.547         \t|\n",
      "evaluation_step_and_end            \t|  0.57904        \t|12             \t|  6.9484         \t|  78.968         \t|\n",
      "test_step                          \t|  0.56331        \t|12             \t|  6.7597         \t|  76.823         \t|\n",
      "get_test_batch                     \t|  0.093008       \t|13             \t|  1.2091         \t|  13.741         \t|\n",
      "fetch_next_test_batch              \t|  0.092963       \t|13             \t|  1.2085         \t|  13.735         \t|\n",
      "on_test_batch_end                  \t|  0.020088       \t|12             \t|  0.24106        \t|  2.7396         \t|\n",
      "test_step_end                      \t|  0.015555       \t|12             \t|  0.18666        \t|  2.1214         \t|\n",
      "evaluation_batch_to_device         \t|  0.010506       \t|12             \t|  0.12608        \t|  1.4328         \t|\n",
      "on_test_start                      \t|  0.016413       \t|1              \t|  0.016413       \t|  0.18653        \t|\n",
      "on_test_end                        \t|  0.0013561      \t|1              \t|  0.0013561      \t|  0.015412       \t|\n",
      "on_test_batch_start                \t|  4.6637e-05     \t|12             \t|  0.00055964     \t|  0.0063602      \t|\n",
      "on_test_epoch_end                  \t|  0.00010749     \t|1              \t|  0.00010749     \t|  0.0012216      \t|\n",
      "on_test_model_eval                 \t|  9.4815e-05     \t|1              \t|  9.4815e-05     \t|  0.0010776      \t|\n",
      "on_before_accelerator_backend_setup\t|  4.8686e-05     \t|1              \t|  4.8686e-05     \t|  0.00055331     \t|\n",
      "on_epoch_end                       \t|  4.6168e-05     \t|1              \t|  4.6168e-05     \t|  0.00052469     \t|\n",
      "teardown                           \t|  2.8301e-05     \t|1              \t|  2.8301e-05     \t|  0.00032164     \t|\n",
      "on_epoch_start                     \t|  2.0557e-05     \t|1              \t|  2.0557e-05     \t|  0.00023363     \t|\n",
      "on_configure_sharded_model         \t|  1.7663e-05     \t|1              \t|  1.7663e-05     \t|  0.00020074     \t|\n",
      "on_test_epoch_start                \t|  1.6086e-05     \t|1              \t|  1.6086e-05     \t|  0.00018281     \t|\n",
      "setup                              \t|  1.0656e-05     \t|1              \t|  1.0656e-05     \t|  0.0001211      \t|\n",
      "configure_callbacks                \t|  9.3089e-06     \t|1              \t|  9.3089e-06     \t|  0.00010579     \t|\n",
      "configure_sharded_model            \t|  5.277e-06      \t|1              \t|  5.277e-06      \t|  5.9972e-05     \t|\n",
      "on_test_dataloader                 \t|  4.8451e-06     \t|1              \t|  4.8451e-06     \t|  5.5064e-05     \t|\n",
      "prepare_data                       \t|  3.785e-06      \t|1              \t|  3.785e-06      \t|  4.3016e-05     \t|\n",
      "\n"
     ]
    },
    {
     "name": "stdout",
     "output_type": "stream",
     "text": [
      "--------------------------------------------------------------------------------\n",
      "DATALOADER:0 TEST RESULTS\n",
      "{'test_loss': 0.19637224078178406,\n",
      " 'test_loss: mae_response': 0.29283836483955383,\n",
      " 'test_loss: mse': 0.1893213391304016}\n",
      "--------------------------------------------------------------------------------\n"
     ]
    }
   ],
   "source": [
    "# equivalent to spatial\n",
    "\n",
    "import hydra\n",
    "from hydra.experimental import compose, initialize\n",
    "\n",
    "with initialize(config_path=\"../config\"):\n",
    "    cfg_from_terminal = compose(config_name=\"config\")\n",
    "    output = test(cfg_from_terminal)"
   ]
  },
  {
   "cell_type": "markdown",
   "id": "8d50ae0d",
   "metadata": {},
   "source": [
    "# Testing Models with Updates"
   ]
  },
  {
   "cell_type": "code",
   "execution_count": 55,
   "id": "piano-crisis",
   "metadata": {
    "scrolled": true
   },
   "outputs": [
    {
     "name": "stderr",
     "output_type": "stream",
     "text": [
      "/home/roko/.cache/pypoetry/virtualenvs/spatial-G_n0JvVf-py3.8/lib/python3.8/site-packages/hydra/experimental/initialize.py:35: UserWarning: hydra.experimental.initialize() is no longer experimental. Use hydra.initialize()\n",
      "  deprecation_warning(\n",
      "/home/roko/.cache/pypoetry/virtualenvs/spatial-G_n0JvVf-py3.8/lib/python3.8/site-packages/hydra/experimental/compose.py:18: UserWarning: hydra.experimental.compose() is no longer experimental. Use hydra.compose()\n",
      "  deprecation_warning(\n",
      "/home/roko/.cache/pypoetry/virtualenvs/spatial-G_n0JvVf-py3.8/lib/python3.8/site-packages/hydra/_internal/defaults_list.py:251: UserWarning: In 'config': Defaults list is missing `_self_`. See https://hydra.cc/docs/upgrades/1.0_to_1.1/default_composition_order for more information\n",
      "  warnings.warn(msg, UserWarning)\n",
      "/home/roko/.cache/pypoetry/virtualenvs/spatial-G_n0JvVf-py3.8/lib/python3.8/site-packages/hydra/core/default_element.py:122: UserWarning: In 'predict/default': Usage of deprecated keyword in package header '# @package _group_'.\n",
      "See https://hydra.cc/docs/next/upgrades/1.0_to_1.1/changes_to_package_header for more information\n",
      "  deprecation_warning(\n",
      "/home/roko/.cache/pypoetry/virtualenvs/spatial-G_n0JvVf-py3.8/lib/python3.8/site-packages/hydra/core/default_element.py:122: UserWarning: In 'training/default': Usage of deprecated keyword in package header '# @package _group_'.\n",
      "See https://hydra.cc/docs/next/upgrades/1.0_to_1.1/changes_to_package_header for more information\n",
      "  deprecation_warning(\n",
      "/home/roko/.cache/pypoetry/virtualenvs/spatial-G_n0JvVf-py3.8/lib/python3.8/site-packages/hydra/core/default_element.py:122: UserWarning: In 'model/MonetAutoencoder2D': Usage of deprecated keyword in package header '# @package _group_'.\n",
      "See https://hydra.cc/docs/next/upgrades/1.0_to_1.1/changes_to_package_header for more information\n",
      "  deprecation_warning(\n",
      "/home/roko/.cache/pypoetry/virtualenvs/spatial-G_n0JvVf-py3.8/lib/python3.8/site-packages/hydra/core/default_element.py:122: UserWarning: In 'datasets/FilteredMerfishDataset': Usage of deprecated keyword in package header '# @package _group_'.\n",
      "See https://hydra.cc/docs/next/upgrades/1.0_to_1.1/changes_to_package_header for more information\n",
      "  deprecation_warning(\n",
      "/home/roko/.cache/pypoetry/virtualenvs/spatial-G_n0JvVf-py3.8/lib/python3.8/site-packages/hydra/core/default_element.py:122: UserWarning: In 'optimizer/sgd': Usage of deprecated keyword in package header '# @package _group_'.\n",
      "See https://hydra.cc/docs/next/upgrades/1.0_to_1.1/changes_to_package_header for more information\n",
      "  deprecation_warning(\n"
     ]
    },
    {
     "name": "stdout",
     "output_type": "stream",
     "text": [
      "Original Data (1027848, 170)\n",
      "Filtered Data (86902, 170)\n",
      "/home/roko/spatial/data/raw/merfish_messi.hdf5\n"
     ]
    },
    {
     "name": "stderr",
     "output_type": "stream",
     "text": [
      "/home/roko/.cache/pypoetry/virtualenvs/spatial-G_n0JvVf-py3.8/lib/python3.8/site-packages/pytorch_lightning/utilities/distributed.py:50: UserWarning: Checkpoint directory /home/roko/spatial//output/lightning_logs/checkpoints/MonetAutoencoder2D exists and is not empty.\n",
      "  warnings.warn(*args, **kwargs)\n",
      "GPU available: True, used: True\n",
      "TPU available: None, using: 0 TPU cores\n",
      "/home/roko/.cache/pypoetry/virtualenvs/spatial-G_n0JvVf-py3.8/lib/python3.8/site-packages/pytorch_lightning/utilities/distributed.py:50: UserWarning: The dataloader, test dataloader 0, does not have many workers which may be a bottleneck. Consider increasing the value of the `num_workers` argument` (try 64 which is the number of cpus on this machine) in the `DataLoader` init to improve performance.\n",
      "  warnings.warn(*args, **kwargs)\n"
     ]
    },
    {
     "data": {
      "application/vnd.jupyter.widget-view+json": {
       "model_id": "e88bdf83649e427d802471c91563528f",
       "version_major": 2,
       "version_minor": 0
      },
      "text/plain": [
       "Testing: 0it [00:00, ?it/s]"
      ]
     },
     "metadata": {},
     "output_type": "display_data"
    },
    {
     "name": "stdout",
     "output_type": "stream",
     "text": [
      "--------------------------------------------------------------------------------\n",
      "DATALOADER:0 TEST RESULTS\n",
      "{'test_loss': 0.2307247370481491,\n",
      " 'test_loss: mae_response': 0.36967429518699646,\n",
      " 'test_loss: mse': 0.2517955005168915}\n",
      "--------------------------------------------------------------------------------\n"
     ]
    }
   ],
   "source": [
    "# equivalent to spatial\n",
    "\n",
    "import hydra\n",
    "from hydra.experimental import compose, initialize\n",
    "\n",
    "with initialize(config_path=\"../config\"):\n",
    "    cfg_from_terminal = compose(config_name=\"config\")\n",
    "    # update the behavior to get the model of interest\n",
    "    OmegaConf.update(cfg_from_terminal, \"datasets.dataset.behaviors\", [\"Parenting\"])\n",
    "    output = test(cfg_from_terminal)"
   ]
  },
  {
   "cell_type": "code",
   "execution_count": 56,
   "id": "opening-james",
   "metadata": {},
   "outputs": [],
   "source": [
    "trainer, l1_losses, inputs, gene_expressions, celltypes, test_results = output"
   ]
  },
  {
   "cell_type": "code",
   "execution_count": 57,
   "id": "joint-catalyst",
   "metadata": {},
   "outputs": [],
   "source": [
    "with open('../spatial/non_response.txt', \"r\") as genes_file:\n",
    "    features = [int(x) for x in genes_file.read().split(\",\")]\n",
    "    response_indeces = torch.tensor(list(set(range(160)) - set(features)))\n",
    "    genes_file.close()"
   ]
  },
  {
   "cell_type": "code",
   "execution_count": 58,
   "id": "critical-minority",
   "metadata": {},
   "outputs": [],
   "source": [
    "excitatory_cells = (celltypes == 6).nonzero(as_tuple=True)[0]"
   ]
  },
  {
   "cell_type": "code",
   "execution_count": 59,
   "id": "blessed-voluntary",
   "metadata": {},
   "outputs": [
    {
     "data": {
      "text/plain": [
       "tensor(0.4182)"
      ]
     },
     "execution_count": 59,
     "metadata": {},
     "output_type": "execute_result"
    }
   ],
   "source": [
    "import torch\n",
    "\n",
    "loss = torch.nn.L1Loss()\n",
    "loss(torch.index_select(inputs[excitatory_cells], 1, response_indeces), torch.index_select(gene_expressions[excitatory_cells], 1, response_indeces))"
   ]
  },
  {
   "cell_type": "code",
   "execution_count": 60,
   "id": "destroyed-volunteer",
   "metadata": {},
   "outputs": [
    {
     "name": "stderr",
     "output_type": "stream",
     "text": [
      "/home/roko/.cache/pypoetry/virtualenvs/spatial-G_n0JvVf-py3.8/lib/python3.8/site-packages/hydra/experimental/initialize.py:35: UserWarning: hydra.experimental.initialize() is no longer experimental. Use hydra.initialize()\n",
      "  deprecation_warning(\n",
      "/home/roko/.cache/pypoetry/virtualenvs/spatial-G_n0JvVf-py3.8/lib/python3.8/site-packages/hydra/experimental/compose.py:18: UserWarning: hydra.experimental.compose() is no longer experimental. Use hydra.compose()\n",
      "  deprecation_warning(\n",
      "/home/roko/.cache/pypoetry/virtualenvs/spatial-G_n0JvVf-py3.8/lib/python3.8/site-packages/hydra/_internal/defaults_list.py:251: UserWarning: In 'config': Defaults list is missing `_self_`. See https://hydra.cc/docs/upgrades/1.0_to_1.1/default_composition_order for more information\n",
      "  warnings.warn(msg, UserWarning)\n",
      "/home/roko/.cache/pypoetry/virtualenvs/spatial-G_n0JvVf-py3.8/lib/python3.8/site-packages/hydra/core/default_element.py:122: UserWarning: In 'predict/default': Usage of deprecated keyword in package header '# @package _group_'.\n",
      "See https://hydra.cc/docs/next/upgrades/1.0_to_1.1/changes_to_package_header for more information\n",
      "  deprecation_warning(\n",
      "/home/roko/.cache/pypoetry/virtualenvs/spatial-G_n0JvVf-py3.8/lib/python3.8/site-packages/hydra/core/default_element.py:122: UserWarning: In 'training/default': Usage of deprecated keyword in package header '# @package _group_'.\n",
      "See https://hydra.cc/docs/next/upgrades/1.0_to_1.1/changes_to_package_header for more information\n",
      "  deprecation_warning(\n",
      "/home/roko/.cache/pypoetry/virtualenvs/spatial-G_n0JvVf-py3.8/lib/python3.8/site-packages/hydra/core/default_element.py:122: UserWarning: In 'model/MonetAutoencoder2D': Usage of deprecated keyword in package header '# @package _group_'.\n",
      "See https://hydra.cc/docs/next/upgrades/1.0_to_1.1/changes_to_package_header for more information\n",
      "  deprecation_warning(\n",
      "/home/roko/.cache/pypoetry/virtualenvs/spatial-G_n0JvVf-py3.8/lib/python3.8/site-packages/hydra/core/default_element.py:122: UserWarning: In 'datasets/FilteredMerfishDataset': Usage of deprecated keyword in package header '# @package _group_'.\n",
      "See https://hydra.cc/docs/next/upgrades/1.0_to_1.1/changes_to_package_header for more information\n",
      "  deprecation_warning(\n",
      "/home/roko/.cache/pypoetry/virtualenvs/spatial-G_n0JvVf-py3.8/lib/python3.8/site-packages/hydra/core/default_element.py:122: UserWarning: In 'optimizer/sgd': Usage of deprecated keyword in package header '# @package _group_'.\n",
      "See https://hydra.cc/docs/next/upgrades/1.0_to_1.1/changes_to_package_header for more information\n",
      "  deprecation_warning(\n"
     ]
    },
    {
     "name": "stdout",
     "output_type": "stream",
     "text": [
      "Original Data (1027848, 170)\n",
      "Filtered Data (109105, 170)\n",
      "/home/roko/spatial/data/raw/merfish_messi.hdf5\n"
     ]
    },
    {
     "name": "stderr",
     "output_type": "stream",
     "text": [
      "/home/roko/.cache/pypoetry/virtualenvs/spatial-G_n0JvVf-py3.8/lib/python3.8/site-packages/pytorch_lightning/utilities/distributed.py:50: UserWarning: Checkpoint directory /home/roko/spatial//output/lightning_logs/checkpoints/MonetAutoencoder2D exists and is not empty.\n",
      "  warnings.warn(*args, **kwargs)\n",
      "GPU available: True, used: True\n",
      "TPU available: None, using: 0 TPU cores\n",
      "/home/roko/.cache/pypoetry/virtualenvs/spatial-G_n0JvVf-py3.8/lib/python3.8/site-packages/pytorch_lightning/utilities/distributed.py:50: UserWarning: The dataloader, test dataloader 0, does not have many workers which may be a bottleneck. Consider increasing the value of the `num_workers` argument` (try 64 which is the number of cpus on this machine) in the `DataLoader` init to improve performance.\n",
      "  warnings.warn(*args, **kwargs)\n"
     ]
    },
    {
     "data": {
      "application/vnd.jupyter.widget-view+json": {
       "model_id": "1c5fc1a68a614f20859a82d0b9721172",
       "version_major": 2,
       "version_minor": 0
      },
      "text/plain": [
       "Testing: 0it [00:00, ?it/s]"
      ]
     },
     "metadata": {},
     "output_type": "display_data"
    },
    {
     "name": "stdout",
     "output_type": "stream",
     "text": [
      "--------------------------------------------------------------------------------\n",
      "DATALOADER:0 TEST RESULTS\n",
      "{'test_loss': 0.22909943759441376,\n",
      " 'test_loss: mae_response': 0.3661682903766632,\n",
      " 'test_loss: mse': 0.23969760537147522}\n",
      "--------------------------------------------------------------------------------\n"
     ]
    }
   ],
   "source": [
    "# equivalent to spatial\n",
    "\n",
    "import hydra\n",
    "from hydra.experimental import compose, initialize\n",
    "\n",
    "with initialize(config_path=\"../config\"):\n",
    "    cfg_from_terminal = compose(config_name=\"config\")\n",
    "    # update the behavior to get the model of interest\n",
    "    OmegaConf.update(cfg_from_terminal, \"datasets.dataset.behaviors\", [\"Virgin Parenting\"])\n",
    "    output = test(cfg_from_terminal)"
   ]
  },
  {
   "cell_type": "code",
   "execution_count": 61,
   "id": "becoming-audit",
   "metadata": {},
   "outputs": [],
   "source": [
    "trainer, l1_losses, inputs, gene_expressions, celltypes, test_results = output"
   ]
  },
  {
   "cell_type": "code",
   "execution_count": 62,
   "id": "eleven-guarantee",
   "metadata": {},
   "outputs": [],
   "source": [
    "excitatory_cells = (celltypes == 6).nonzero(as_tuple=True)[0]"
   ]
  },
  {
   "cell_type": "code",
   "execution_count": 63,
   "id": "welsh-michael",
   "metadata": {},
   "outputs": [
    {
     "data": {
      "text/plain": [
       "tensor(0.4185)"
      ]
     },
     "execution_count": 63,
     "metadata": {},
     "output_type": "execute_result"
    }
   ],
   "source": [
    "import torch\n",
    "\n",
    "loss = torch.nn.L1Loss()\n",
    "loss(torch.index_select(inputs[excitatory_cells], 1, response_indeces), torch.index_select(gene_expressions[excitatory_cells], 1, response_indeces))"
   ]
  },
  {
   "cell_type": "code",
   "execution_count": 64,
   "id": "intensive-berlin",
   "metadata": {},
   "outputs": [
    {
     "name": "stderr",
     "output_type": "stream",
     "text": [
      "/home/roko/.cache/pypoetry/virtualenvs/spatial-G_n0JvVf-py3.8/lib/python3.8/site-packages/hydra/experimental/initialize.py:35: UserWarning: hydra.experimental.initialize() is no longer experimental. Use hydra.initialize()\n",
      "  deprecation_warning(\n",
      "/home/roko/.cache/pypoetry/virtualenvs/spatial-G_n0JvVf-py3.8/lib/python3.8/site-packages/hydra/experimental/compose.py:18: UserWarning: hydra.experimental.compose() is no longer experimental. Use hydra.compose()\n",
      "  deprecation_warning(\n",
      "/home/roko/.cache/pypoetry/virtualenvs/spatial-G_n0JvVf-py3.8/lib/python3.8/site-packages/hydra/_internal/defaults_list.py:251: UserWarning: In 'config': Defaults list is missing `_self_`. See https://hydra.cc/docs/upgrades/1.0_to_1.1/default_composition_order for more information\n",
      "  warnings.warn(msg, UserWarning)\n",
      "/home/roko/.cache/pypoetry/virtualenvs/spatial-G_n0JvVf-py3.8/lib/python3.8/site-packages/hydra/core/default_element.py:122: UserWarning: In 'predict/default': Usage of deprecated keyword in package header '# @package _group_'.\n",
      "See https://hydra.cc/docs/next/upgrades/1.0_to_1.1/changes_to_package_header for more information\n",
      "  deprecation_warning(\n",
      "/home/roko/.cache/pypoetry/virtualenvs/spatial-G_n0JvVf-py3.8/lib/python3.8/site-packages/hydra/core/default_element.py:122: UserWarning: In 'training/default': Usage of deprecated keyword in package header '# @package _group_'.\n",
      "See https://hydra.cc/docs/next/upgrades/1.0_to_1.1/changes_to_package_header for more information\n",
      "  deprecation_warning(\n",
      "/home/roko/.cache/pypoetry/virtualenvs/spatial-G_n0JvVf-py3.8/lib/python3.8/site-packages/hydra/core/default_element.py:122: UserWarning: In 'model/MonetAutoencoder2D': Usage of deprecated keyword in package header '# @package _group_'.\n",
      "See https://hydra.cc/docs/next/upgrades/1.0_to_1.1/changes_to_package_header for more information\n",
      "  deprecation_warning(\n",
      "/home/roko/.cache/pypoetry/virtualenvs/spatial-G_n0JvVf-py3.8/lib/python3.8/site-packages/hydra/core/default_element.py:122: UserWarning: In 'datasets/FilteredMerfishDataset': Usage of deprecated keyword in package header '# @package _group_'.\n",
      "See https://hydra.cc/docs/next/upgrades/1.0_to_1.1/changes_to_package_header for more information\n",
      "  deprecation_warning(\n",
      "/home/roko/.cache/pypoetry/virtualenvs/spatial-G_n0JvVf-py3.8/lib/python3.8/site-packages/hydra/core/default_element.py:122: UserWarning: In 'optimizer/sgd': Usage of deprecated keyword in package header '# @package _group_'.\n",
      "See https://hydra.cc/docs/next/upgrades/1.0_to_1.1/changes_to_package_header for more information\n",
      "  deprecation_warning(\n"
     ]
    },
    {
     "name": "stdout",
     "output_type": "stream",
     "text": [
      "Original Data (1027848, 170)\n",
      "Filtered Data (205348, 170)\n",
      "/home/roko/spatial/data/raw/merfish_messi.hdf5\n"
     ]
    },
    {
     "name": "stderr",
     "output_type": "stream",
     "text": [
      "/home/roko/.cache/pypoetry/virtualenvs/spatial-G_n0JvVf-py3.8/lib/python3.8/site-packages/pytorch_lightning/utilities/distributed.py:50: UserWarning: Checkpoint directory /home/roko/spatial//output/lightning_logs/checkpoints/MonetAutoencoder2D exists and is not empty.\n",
      "  warnings.warn(*args, **kwargs)\n",
      "GPU available: True, used: True\n",
      "TPU available: None, using: 0 TPU cores\n",
      "/home/roko/.cache/pypoetry/virtualenvs/spatial-G_n0JvVf-py3.8/lib/python3.8/site-packages/pytorch_lightning/utilities/distributed.py:50: UserWarning: The dataloader, test dataloader 0, does not have many workers which may be a bottleneck. Consider increasing the value of the `num_workers` argument` (try 64 which is the number of cpus on this machine) in the `DataLoader` init to improve performance.\n",
      "  warnings.warn(*args, **kwargs)\n"
     ]
    },
    {
     "data": {
      "application/vnd.jupyter.widget-view+json": {
       "model_id": "823a64c61a3c4f2292450a37fd872090",
       "version_major": 2,
       "version_minor": 0
      },
      "text/plain": [
       "Testing: 0it [00:00, ?it/s]"
      ]
     },
     "metadata": {},
     "output_type": "display_data"
    },
    {
     "name": "stdout",
     "output_type": "stream",
     "text": [
      "--------------------------------------------------------------------------------\n",
      "DATALOADER:0 TEST RESULTS\n",
      "{'test_loss': 0.19866959750652313,\n",
      " 'test_loss: mae_response': 0.3151684105396271,\n",
      " 'test_loss: mse': 0.18607354164123535}\n",
      "--------------------------------------------------------------------------------\n"
     ]
    }
   ],
   "source": [
    "# equivalent to spatial\n",
    "\n",
    "import hydra\n",
    "from hydra.experimental import compose, initialize\n",
    "\n",
    "with initialize(config_path=\"../config\"):\n",
    "    cfg_from_terminal = compose(config_name=\"config\")\n",
    "    # update the behavior to get the model of interest\n",
    "    OmegaConf.update(cfg_from_terminal, \"datasets.dataset.behaviors\", [\"Naive\"])\n",
    "    output = test(cfg_from_terminal)"
   ]
  },
  {
   "cell_type": "code",
   "execution_count": 65,
   "id": "manual-filter",
   "metadata": {},
   "outputs": [],
   "source": [
    "trainer, l1_losses, inputs, gene_expressions, celltypes, test_results = output"
   ]
  },
  {
   "cell_type": "code",
   "execution_count": 66,
   "id": "gorgeous-atlantic",
   "metadata": {},
   "outputs": [],
   "source": [
    "excitatory_cells = (celltypes == 6).nonzero(as_tuple=True)[0]"
   ]
  },
  {
   "cell_type": "code",
   "execution_count": 67,
   "id": "choice-dispute",
   "metadata": {},
   "outputs": [
    {
     "data": {
      "text/plain": [
       "tensor(0.3570)"
      ]
     },
     "execution_count": 67,
     "metadata": {},
     "output_type": "execute_result"
    }
   ],
   "source": [
    "import torch\n",
    "\n",
    "loss = torch.nn.L1Loss()\n",
    "loss(torch.index_select(inputs[excitatory_cells], 1, response_indeces), torch.index_select(gene_expressions[excitatory_cells], 1, response_indeces))"
   ]
  }
 ],
 "metadata": {
  "kernelspec": {
   "display_name": "Python 3 (ipykernel)",
   "language": "python",
   "name": "python3"
  },
  "language_info": {
   "codemirror_mode": {
    "name": "ipython",
    "version": 3
   },
   "file_extension": ".py",
   "mimetype": "text/x-python",
   "name": "python",
   "nbconvert_exporter": "python",
   "pygments_lexer": "ipython3",
   "version": "3.8.10"
  }
 },
 "nbformat": 4,
 "nbformat_minor": 5
}
