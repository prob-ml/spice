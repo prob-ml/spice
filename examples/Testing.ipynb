{
 "cells": [
  {
   "cell_type": "code",
   "execution_count": 1,
   "id": "agreed-interaction",
   "metadata": {},
   "outputs": [],
   "source": [
    "import os\n",
    "import torch\n",
    "import json\n",
    "\n",
    "os.environ[\"MKL_NUM_THREADS\"]=\"1\"\n",
    "os.environ[\"NUMEXPR_NUM_THREADS\"]=\"1\"\n",
    "os.environ[\"OMP_NUM_THREADS\"]=\"1\"\n",
    "os.environ[\"CUDA_VISIBLE_DEVICES\"] = \"5,6,7\"\n",
    "\n",
    "import sys\n",
    "\n",
    "import pytorch_lightning as pl\n",
    "from omegaconf import DictConfig, OmegaConf\n",
    "from pytorch_lightning.callbacks import ModelCheckpoint\n",
    "from pytorch_lightning.loggers import TensorBoardLogger\n",
    "from torch.utils.data import random_split\n",
    "from torch_geometric.data import DataLoader\n",
    "\n",
    "from spatial.merfish_dataset import FilteredMerfishDataset, MerfishDataset, SyntheticNonlinear, SyntheticDataset0, SyntheticDataset1, SyntheticDataset2, SyntheticDataset3\n",
    "from spatial.models.monet_ae import MonetAutoencoder2D, TrivialAutoencoder, MonetDense\n",
    "from spatial.train import train\n",
    "from spatial.predict import test\n",
    "\n",
    "import warnings\n",
    "warnings.filterwarnings(\"ignore\")"
   ]
  },
  {
   "cell_type": "code",
   "execution_count": 2,
   "id": "0e2682d2",
   "metadata": {},
   "outputs": [
    {
     "data": {
      "text/plain": [
       "['MonetDense__[128, 128, 128, 128, 128, 128]__30__table2OH_FULL_skip__Adam.ckpt',\n",
       " 'MonetDense__[256, 256, 256, 256, 256, 256]__0__table2OH_FULL_skip__Adam.ckpt',\n",
       " 'MonetDense__[256, 256, 256, 256, 256, 256]__40__table2_FULL_no_celltypes__Adam.ckpt',\n",
       " 'MonetDense__[512, 512, 512, 512, 512, 512]__10__table2OH_FULL_skip__Adam.ckpt',\n",
       " 'MonetDense__[256, 256, 256, 256, 256, 256]__15__table2_FULL_no_celltypes__Adam.ckpt',\n",
       " 'MonetDense__[512, 512, 512, 512, 512, 512]__5__table2_FULL_no_celltypes__Adam.ckpt',\n",
       " 'MonetDense__[128, 128, 128, 128, 128, 128]__25__table2OH_FULL_skip__Adam.ckpt',\n",
       " 'MonetDense__[256, 256, 256, 256, 256, 256]__30__table2OH_FULL_skip__Adam.ckpt',\n",
       " 'MonetDense__[128, 128, 128, 128, 128, 128]__5__table2OH_FULL_skip__Adam.ckpt',\n",
       " 'MonetDense__[128, 128, 128, 128, 128, 128]__10__table2OH_FULL_skip__Adam.ckpt',\n",
       " 'MonetDense__[512, 512, 512, 512, 512, 512]__25__table2_FULL_no_celltypes__Adam.ckpt',\n",
       " 'MonetDense__[256, 256, 256, 256, 256, 256]__30__table2_FULL_no_celltypes__Adam.ckpt',\n",
       " 'MonetDense__[512, 512, 512, 512, 512, 512]__15__table2OH_FULL_skip__Adam.ckpt',\n",
       " 'MonetDense__[128, 128, 128, 128, 128, 128]__0__table2OH_FULL_skip__Adam.ckpt',\n",
       " 'MonetDense__[512, 512, 512, 512, 512, 512]__0__table2_FULL_no_celltypes__Adam.ckpt',\n",
       " 'MonetDense__[256, 256, 256, 256, 256, 256]__5__table2_FULL_no_celltypes__Adam.ckpt',\n",
       " 'MonetDense__[256, 256, 256, 256, 256, 256]__35__table2_FULL_no_celltypes__Adam.ckpt',\n",
       " 'MonetDense__[256, 256, 256, 256, 256, 256]__40__table2OH_FULL_skip__Adam.ckpt',\n",
       " 'MonetDense__[256, 256, 256, 256, 256, 256]__25__table2OH_FULL_skip__Adam.ckpt',\n",
       " 'MonetDense__[256, 256, 256, 256, 256, 256]__5__table2OH_FULL_skip__Adam.ckpt',\n",
       " 'MonetDense__[128, 128, 128, 128, 128, 128]__55__table2OH_FULL_skip__Adam.ckpt',\n",
       " 'MonetDense__[128, 128, 128, 128, 128, 128]__15__table2OH_FULL_skip__Adam.ckpt',\n",
       " 'MonetDense__[128, 128, 128, 128, 128, 128]__35__table2OH_FULL_skip__Adam.ckpt',\n",
       " 'MonetDense__[256, 256, 256, 256, 256, 256]__10__table2_FULL_no_celltypes__Adam.ckpt',\n",
       " 'MonetDense__[128, 128, 128, 128, 128, 128]__50__table2OH_FULL_skip__Adam.ckpt',\n",
       " 'MonetDense__[512, 512, 512, 512, 512, 512]__0__table2OH_FULL_skip__Adam.ckpt',\n",
       " 'MonetDense__[256, 256, 256, 256, 256, 256]__0__table2_FULL_no_celltypes__Adam.ckpt',\n",
       " 'MonetDense__[128, 128, 128, 128, 128, 128]__20__table2OH_FULL_skip__Adam.ckpt',\n",
       " 'MonetDense__[512, 512, 512, 512, 512, 512]__20__table2OH_FULL_skip__Adam.ckpt',\n",
       " 'MonetDense__[256, 256, 256, 256, 256, 256]__10__table2OH_FULL_skip__Adam.ckpt',\n",
       " 'MonetDense__[256, 256, 256, 256, 256, 256]__20__table2_FULL_no_celltypes__Adam.ckpt',\n",
       " 'MonetDense__[512, 512, 512, 512, 512, 512]__10__table2_FULL_no_celltypes__Adam.ckpt',\n",
       " 'MonetDense__[256, 256, 256, 256, 256, 256]__20__table2OH_FULL_skip__Adam.ckpt',\n",
       " 'MonetDense__[512, 512, 512, 512, 512, 512]__5__table2OH_FULL_skip__Adam.ckpt',\n",
       " 'MonetDense__[512, 512, 512, 512, 512, 512]__20__table2_FULL_no_celltypes__Adam.ckpt',\n",
       " 'MonetDense__[128, 128, 128, 128, 128, 128]__40__table2OH_FULL_skip__Adam.ckpt',\n",
       " 'MonetDense__[256, 256, 256, 256, 256, 256]__15__table2OH_FULL_skip__Adam.ckpt',\n",
       " 'MonetDense__[256, 256, 256, 256, 256, 256]__25__table2_FULL_no_celltypes__Adam.ckpt',\n",
       " 'MonetDense__[256, 256, 256, 256, 256, 256]__35__table2OH_FULL_skip__Adam.ckpt',\n",
       " 'MonetDense__[512, 512, 512, 512, 512, 512]__25__table2OH_FULL_skip__Adam.ckpt',\n",
       " 'MonetDense__[128, 128, 128, 128, 128, 128]__45__table2OH_FULL_skip__Adam.ckpt',\n",
       " 'MonetDense__[512, 512, 512, 512, 512, 512]__15__table2_FULL_no_celltypes__Adam.ckpt']"
      ]
     },
     "execution_count": 2,
     "metadata": {},
     "output_type": "execute_result"
    }
   ],
   "source": [
    "os.listdir('../output/lightning_logs/checkpoints/MonetDense/.')"
   ]
  },
  {
   "cell_type": "code",
   "execution_count": 31,
   "id": "95415882",
   "metadata": {},
   "outputs": [
    {
     "name": "stderr",
     "output_type": "stream",
     "text": [
      "100%|████████████████████████████████████████████████████████████████████████| 157/157 [02:01<00:00,  1.30it/s]\n"
     ]
    }
   ],
   "source": [
    "test = MerfishDataset(\"../data\", radius=5)"
   ]
  },
  {
   "cell_type": "code",
   "execution_count": 34,
   "id": "ca36b733",
   "metadata": {},
   "outputs": [],
   "source": [
    "new_test = [sample for sample in test if sample.anid != 30]"
   ]
  },
  {
   "cell_type": "code",
   "execution_count": 36,
   "id": "3de00d99",
   "metadata": {},
   "outputs": [
    {
     "data": {
      "text/plain": [
       "[Data(x=[6509, 155], edge_index=[2, 6603], y=[6509, 2], pos=[6509, 2], bregma=[1], anid=[1]),\n",
       " Data(x=[6412, 155], edge_index=[2, 6484], y=[6412, 2], pos=[6412, 2], bregma=[1], anid=[1]),\n",
       " Data(x=[6507, 155], edge_index=[2, 6581], y=[6507, 2], pos=[6507, 2], bregma=[1], anid=[1]),\n",
       " Data(x=[6605, 155], edge_index=[2, 6669], y=[6605, 2], pos=[6605, 2], bregma=[1], anid=[1]),\n",
       " Data(x=[6185, 155], edge_index=[2, 6255], y=[6185, 2], pos=[6185, 2], bregma=[1], anid=[1]),\n",
       " Data(x=[6154, 155], edge_index=[2, 6216], y=[6154, 2], pos=[6154, 2], bregma=[1], anid=[1]),\n",
       " Data(x=[6111, 155], edge_index=[2, 6181], y=[6111, 2], pos=[6111, 2], bregma=[1], anid=[1]),\n",
       " Data(x=[6144, 155], edge_index=[2, 6220], y=[6144, 2], pos=[6144, 2], bregma=[1], anid=[1]),\n",
       " Data(x=[5799, 155], edge_index=[2, 5843], y=[5799, 2], pos=[5799, 2], bregma=[1], anid=[1]),\n",
       " Data(x=[6067, 155], edge_index=[2, 6141], y=[6067, 2], pos=[6067, 2], bregma=[1], anid=[1]),\n",
       " Data(x=[5578, 155], edge_index=[2, 5630], y=[5578, 2], pos=[5578, 2], bregma=[1], anid=[1]),\n",
       " Data(x=[5584, 155], edge_index=[2, 5614], y=[5584, 2], pos=[5584, 2], bregma=[1], anid=[1]),\n",
       " Data(x=[6091, 155], edge_index=[2, 6195], y=[6091, 2], pos=[6091, 2], bregma=[1], anid=[1]),\n",
       " Data(x=[6263, 155], edge_index=[2, 6345], y=[6263, 2], pos=[6263, 2], bregma=[1], anid=[1]),\n",
       " Data(x=[6328, 155], edge_index=[2, 6408], y=[6328, 2], pos=[6328, 2], bregma=[1], anid=[1]),\n",
       " Data(x=[6135, 155], edge_index=[2, 6209], y=[6135, 2], pos=[6135, 2], bregma=[1], anid=[1]),\n",
       " Data(x=[5819, 155], edge_index=[2, 5907], y=[5819, 2], pos=[5819, 2], bregma=[1], anid=[1]),\n",
       " Data(x=[5693, 155], edge_index=[2, 5731], y=[5693, 2], pos=[5693, 2], bregma=[1], anid=[1]),\n",
       " Data(x=[5677, 155], edge_index=[2, 5727], y=[5677, 2], pos=[5677, 2], bregma=[1], anid=[1]),\n",
       " Data(x=[5381, 155], edge_index=[2, 5439], y=[5381, 2], pos=[5381, 2], bregma=[1], anid=[1]),\n",
       " Data(x=[5727, 155], edge_index=[2, 5807], y=[5727, 2], pos=[5727, 2], bregma=[1], anid=[1]),\n",
       " Data(x=[5284, 155], edge_index=[2, 5334], y=[5284, 2], pos=[5284, 2], bregma=[1], anid=[1]),\n",
       " Data(x=[5361, 155], edge_index=[2, 5431], y=[5361, 2], pos=[5361, 2], bregma=[1], anid=[1]),\n",
       " Data(x=[5280, 155], edge_index=[2, 5336], y=[5280, 2], pos=[5280, 2], bregma=[1], anid=[1]),\n",
       " Data(x=[5824, 155], edge_index=[2, 5908], y=[5824, 2], pos=[5824, 2], bregma=[1], anid=[1]),\n",
       " Data(x=[6058, 155], edge_index=[2, 6136], y=[6058, 2], pos=[6058, 2], bregma=[1], anid=[1]),\n",
       " Data(x=[5889, 155], edge_index=[2, 5941], y=[5889, 2], pos=[5889, 2], bregma=[1], anid=[1]),\n",
       " Data(x=[5736, 155], edge_index=[2, 5818], y=[5736, 2], pos=[5736, 2], bregma=[1], anid=[1]),\n",
       " Data(x=[5451, 155], edge_index=[2, 5513], y=[5451, 2], pos=[5451, 2], bregma=[1], anid=[1]),\n",
       " Data(x=[5331, 155], edge_index=[2, 5383], y=[5331, 2], pos=[5331, 2], bregma=[1], anid=[1]),\n",
       " Data(x=[6236, 155], edge_index=[2, 6298], y=[6236, 2], pos=[6236, 2], bregma=[1], anid=[1]),\n",
       " Data(x=[5694, 155], edge_index=[2, 5768], y=[5694, 2], pos=[5694, 2], bregma=[1], anid=[1]),\n",
       " Data(x=[6036, 155], edge_index=[2, 6090], y=[6036, 2], pos=[6036, 2], bregma=[1], anid=[1]),\n",
       " Data(x=[4689, 155], edge_index=[2, 4753], y=[4689, 2], pos=[4689, 2], bregma=[1], anid=[1]),\n",
       " Data(x=[5710, 155], edge_index=[2, 5758], y=[5710, 2], pos=[5710, 2], bregma=[1], anid=[1]),\n",
       " Data(x=[5951, 155], edge_index=[2, 6029], y=[5951, 2], pos=[5951, 2], bregma=[1], anid=[1]),\n",
       " Data(x=[5329, 155], edge_index=[2, 5377], y=[5329, 2], pos=[5329, 2], bregma=[1], anid=[1]),\n",
       " Data(x=[5765, 155], edge_index=[2, 5849], y=[5765, 2], pos=[5765, 2], bregma=[1], anid=[1]),\n",
       " Data(x=[5839, 155], edge_index=[2, 5897], y=[5839, 2], pos=[5839, 2], bregma=[1], anid=[1]),\n",
       " Data(x=[5228, 155], edge_index=[2, 5270], y=[5228, 2], pos=[5228, 2], bregma=[1], anid=[1]),\n",
       " Data(x=[5457, 155], edge_index=[2, 5513], y=[5457, 2], pos=[5457, 2], bregma=[1], anid=[1]),\n",
       " Data(x=[5555, 155], edge_index=[2, 5611], y=[5555, 2], pos=[5555, 2], bregma=[1], anid=[1]),\n",
       " Data(x=[5491, 155], edge_index=[2, 5541], y=[5491, 2], pos=[5491, 2], bregma=[1], anid=[1]),\n",
       " Data(x=[5429, 155], edge_index=[2, 5465], y=[5429, 2], pos=[5429, 2], bregma=[1], anid=[1]),\n",
       " Data(x=[5143, 155], edge_index=[2, 5183], y=[5143, 2], pos=[5143, 2], bregma=[1], anid=[1]),\n",
       " Data(x=[5285, 155], edge_index=[2, 5319], y=[5285, 2], pos=[5285, 2], bregma=[1], anid=[1]),\n",
       " Data(x=[4661, 155], edge_index=[2, 4679], y=[4661, 2], pos=[4661, 2], bregma=[1], anid=[1]),\n",
       " Data(x=[5912, 155], edge_index=[2, 5980], y=[5912, 2], pos=[5912, 2], bregma=[1], anid=[1]),\n",
       " Data(x=[5986, 155], edge_index=[2, 6038], y=[5986, 2], pos=[5986, 2], bregma=[1], anid=[1]),\n",
       " Data(x=[5881, 155], edge_index=[2, 5951], y=[5881, 2], pos=[5881, 2], bregma=[1], anid=[1]),\n",
       " Data(x=[5939, 155], edge_index=[2, 5981], y=[5939, 2], pos=[5939, 2], bregma=[1], anid=[1]),\n",
       " Data(x=[5954, 155], edge_index=[2, 6046], y=[5954, 2], pos=[5954, 2], bregma=[1], anid=[1]),\n",
       " Data(x=[5994, 155], edge_index=[2, 6060], y=[5994, 2], pos=[5994, 2], bregma=[1], anid=[1]),\n",
       " Data(x=[5862, 155], edge_index=[2, 5930], y=[5862, 2], pos=[5862, 2], bregma=[1], anid=[1]),\n",
       " Data(x=[5423, 155], edge_index=[2, 5485], y=[5423, 2], pos=[5423, 2], bregma=[1], anid=[1]),\n",
       " Data(x=[6000, 155], edge_index=[2, 6066], y=[6000, 2], pos=[6000, 2], bregma=[1], anid=[1]),\n",
       " Data(x=[5780, 155], edge_index=[2, 5850], y=[5780, 2], pos=[5780, 2], bregma=[1], anid=[1]),\n",
       " Data(x=[5862, 155], edge_index=[2, 5922], y=[5862, 2], pos=[5862, 2], bregma=[1], anid=[1]),\n",
       " Data(x=[5905, 155], edge_index=[2, 5963], y=[5905, 2], pos=[5905, 2], bregma=[1], anid=[1]),\n",
       " Data(x=[5452, 155], edge_index=[2, 5520], y=[5452, 2], pos=[5452, 2], bregma=[1], anid=[1]),\n",
       " Data(x=[5983, 155], edge_index=[2, 6021], y=[5983, 2], pos=[5983, 2], bregma=[1], anid=[1]),\n",
       " Data(x=[6011, 155], edge_index=[2, 6101], y=[6011, 2], pos=[6011, 2], bregma=[1], anid=[1]),\n",
       " Data(x=[5970, 155], edge_index=[2, 6036], y=[5970, 2], pos=[5970, 2], bregma=[1], anid=[1]),\n",
       " Data(x=[6417, 155], edge_index=[2, 6489], y=[6417, 2], pos=[6417, 2], bregma=[1], anid=[1]),\n",
       " Data(x=[6483, 155], edge_index=[2, 6555], y=[6483, 2], pos=[6483, 2], bregma=[1], anid=[1]),\n",
       " Data(x=[6342, 155], edge_index=[2, 6434], y=[6342, 2], pos=[6342, 2], bregma=[1], anid=[1]),\n",
       " Data(x=[6398, 155], edge_index=[2, 6474], y=[6398, 2], pos=[6398, 2], bregma=[1], anid=[1]),\n",
       " Data(x=[6231, 155], edge_index=[2, 6313], y=[6231, 2], pos=[6231, 2], bregma=[1], anid=[1]),\n",
       " Data(x=[6215, 155], edge_index=[2, 6263], y=[6215, 2], pos=[6215, 2], bregma=[1], anid=[1]),\n",
       " Data(x=[6200, 155], edge_index=[2, 6254], y=[6200, 2], pos=[6200, 2], bregma=[1], anid=[1]),\n",
       " Data(x=[6105, 155], edge_index=[2, 6189], y=[6105, 2], pos=[6105, 2], bregma=[1], anid=[1]),\n",
       " Data(x=[5381, 155], edge_index=[2, 5457], y=[5381, 2], pos=[5381, 2], bregma=[1], anid=[1]),\n",
       " Data(x=[6176, 155], edge_index=[2, 6240], y=[6176, 2], pos=[6176, 2], bregma=[1], anid=[1]),\n",
       " Data(x=[5775, 155], edge_index=[2, 5827], y=[5775, 2], pos=[5775, 2], bregma=[1], anid=[1]),\n",
       " Data(x=[5769, 155], edge_index=[2, 5851], y=[5769, 2], pos=[5769, 2], bregma=[1], anid=[1]),\n",
       " Data(x=[6051, 155], edge_index=[2, 6139], y=[6051, 2], pos=[6051, 2], bregma=[1], anid=[1]),\n",
       " Data(x=[6026, 155], edge_index=[2, 6112], y=[6026, 2], pos=[6026, 2], bregma=[1], anid=[1]),\n",
       " Data(x=[5779, 155], edge_index=[2, 5845], y=[5779, 2], pos=[5779, 2], bregma=[1], anid=[1]),\n",
       " Data(x=[5811, 155], edge_index=[2, 5885], y=[5811, 2], pos=[5811, 2], bregma=[1], anid=[1]),\n",
       " Data(x=[5722, 155], edge_index=[2, 5772], y=[5722, 2], pos=[5722, 2], bregma=[1], anid=[1]),\n",
       " Data(x=[6105, 155], edge_index=[2, 6185], y=[6105, 2], pos=[6105, 2], bregma=[1], anid=[1]),\n",
       " Data(x=[6101, 155], edge_index=[2, 6175], y=[6101, 2], pos=[6101, 2], bregma=[1], anid=[1]),\n",
       " Data(x=[6175, 155], edge_index=[2, 6235], y=[6175, 2], pos=[6175, 2], bregma=[1], anid=[1]),\n",
       " Data(x=[5653, 155], edge_index=[2, 5715], y=[5653, 2], pos=[5653, 2], bregma=[1], anid=[1]),\n",
       " Data(x=[5848, 155], edge_index=[2, 5908], y=[5848, 2], pos=[5848, 2], bregma=[1], anid=[1]),\n",
       " Data(x=[5410, 155], edge_index=[2, 5448], y=[5410, 2], pos=[5410, 2], bregma=[1], anid=[1]),\n",
       " Data(x=[5787, 155], edge_index=[2, 5849], y=[5787, 2], pos=[5787, 2], bregma=[1], anid=[1]),\n",
       " Data(x=[5556, 155], edge_index=[2, 5616], y=[5556, 2], pos=[5556, 2], bregma=[1], anid=[1]),\n",
       " Data(x=[4905, 155], edge_index=[2, 4963], y=[4905, 2], pos=[4905, 2], bregma=[1], anid=[1]),\n",
       " Data(x=[5403, 155], edge_index=[2, 5489], y=[5403, 2], pos=[5403, 2], bregma=[1], anid=[1]),\n",
       " Data(x=[5726, 155], edge_index=[2, 5806], y=[5726, 2], pos=[5726, 2], bregma=[1], anid=[1]),\n",
       " Data(x=[5790, 155], edge_index=[2, 5858], y=[5790, 2], pos=[5790, 2], bregma=[1], anid=[1]),\n",
       " Data(x=[5563, 155], edge_index=[2, 5619], y=[5563, 2], pos=[5563, 2], bregma=[1], anid=[1]),\n",
       " Data(x=[5652, 155], edge_index=[2, 5724], y=[5652, 2], pos=[5652, 2], bregma=[1], anid=[1]),\n",
       " Data(x=[5434, 155], edge_index=[2, 5490], y=[5434, 2], pos=[5434, 2], bregma=[1], anid=[1]),\n",
       " Data(x=[5880, 155], edge_index=[2, 5936], y=[5880, 2], pos=[5880, 2], bregma=[1], anid=[1]),\n",
       " Data(x=[5619, 155], edge_index=[2, 5673], y=[5619, 2], pos=[5619, 2], bregma=[1], anid=[1]),\n",
       " Data(x=[5669, 155], edge_index=[2, 5741], y=[5669, 2], pos=[5669, 2], bregma=[1], anid=[1]),\n",
       " Data(x=[5206, 155], edge_index=[2, 5274], y=[5206, 2], pos=[5206, 2], bregma=[1], anid=[1]),\n",
       " Data(x=[5711, 155], edge_index=[2, 5773], y=[5711, 2], pos=[5711, 2], bregma=[1], anid=[1]),\n",
       " Data(x=[5504, 155], edge_index=[2, 5546], y=[5504, 2], pos=[5504, 2], bregma=[1], anid=[1]),\n",
       " Data(x=[5391, 155], edge_index=[2, 5439], y=[5391, 2], pos=[5391, 2], bregma=[1], anid=[1]),\n",
       " Data(x=[5323, 155], edge_index=[2, 5371], y=[5323, 2], pos=[5323, 2], bregma=[1], anid=[1]),\n",
       " Data(x=[5417, 155], edge_index=[2, 5483], y=[5417, 2], pos=[5417, 2], bregma=[1], anid=[1]),\n",
       " Data(x=[5361, 155], edge_index=[2, 5439], y=[5361, 2], pos=[5361, 2], bregma=[1], anid=[1]),\n",
       " Data(x=[5373, 155], edge_index=[2, 5435], y=[5373, 2], pos=[5373, 2], bregma=[1], anid=[1]),\n",
       " Data(x=[4828, 155], edge_index=[2, 4888], y=[4828, 2], pos=[4828, 2], bregma=[1], anid=[1]),\n",
       " Data(x=[5665, 155], edge_index=[2, 5733], y=[5665, 2], pos=[5665, 2], bregma=[1], anid=[1]),\n",
       " Data(x=[5967, 155], edge_index=[2, 6027], y=[5967, 2], pos=[5967, 2], bregma=[1], anid=[1]),\n",
       " Data(x=[5881, 155], edge_index=[2, 5949], y=[5881, 2], pos=[5881, 2], bregma=[1], anid=[1]),\n",
       " Data(x=[5555, 155], edge_index=[2, 5605], y=[5555, 2], pos=[5555, 2], bregma=[1], anid=[1]),\n",
       " Data(x=[5533, 155], edge_index=[2, 5579], y=[5533, 2], pos=[5533, 2], bregma=[1], anid=[1]),\n",
       " Data(x=[5392, 155], edge_index=[2, 5434], y=[5392, 2], pos=[5392, 2], bregma=[1], anid=[1]),\n",
       " Data(x=[5194, 155], edge_index=[2, 5260], y=[5194, 2], pos=[5194, 2], bregma=[1], anid=[1]),\n",
       " Data(x=[4807, 155], edge_index=[2, 4867], y=[4807, 2], pos=[4807, 2], bregma=[1], anid=[1]),\n",
       " Data(x=[5283, 155], edge_index=[2, 5341], y=[5283, 2], pos=[5283, 2], bregma=[1], anid=[1]),\n",
       " Data(x=[5620, 155], edge_index=[2, 5706], y=[5620, 2], pos=[5620, 2], bregma=[1], anid=[1]),\n",
       " Data(x=[5394, 155], edge_index=[2, 5456], y=[5394, 2], pos=[5394, 2], bregma=[1], anid=[1]),\n",
       " Data(x=[5696, 155], edge_index=[2, 5758], y=[5696, 2], pos=[5696, 2], bregma=[1], anid=[1]),\n",
       " Data(x=[4877, 155], edge_index=[2, 4929], y=[4877, 2], pos=[4877, 2], bregma=[1], anid=[1]),\n",
       " Data(x=[5129, 155], edge_index=[2, 5195], y=[5129, 2], pos=[5129, 2], bregma=[1], anid=[1]),\n",
       " Data(x=[5434, 155], edge_index=[2, 5502], y=[5434, 2], pos=[5434, 2], bregma=[1], anid=[1]),\n",
       " Data(x=[5770, 155], edge_index=[2, 5826], y=[5770, 2], pos=[5770, 2], bregma=[1], anid=[1]),\n",
       " Data(x=[5624, 155], edge_index=[2, 5684], y=[5624, 2], pos=[5624, 2], bregma=[1], anid=[1]),\n",
       " Data(x=[5212, 155], edge_index=[2, 5248], y=[5212, 2], pos=[5212, 2], bregma=[1], anid=[1]),\n",
       " Data(x=[5492, 155], edge_index=[2, 5554], y=[5492, 2], pos=[5492, 2], bregma=[1], anid=[1]),\n",
       " Data(x=[5956, 155], edge_index=[2, 6030], y=[5956, 2], pos=[5956, 2], bregma=[1], anid=[1]),\n",
       " Data(x=[5857, 155], edge_index=[2, 5933], y=[5857, 2], pos=[5857, 2], bregma=[1], anid=[1]),\n",
       " Data(x=[5449, 155], edge_index=[2, 5483], y=[5449, 2], pos=[5449, 2], bregma=[1], anid=[1]),\n",
       " Data(x=[5603, 155], edge_index=[2, 5643], y=[5603, 2], pos=[5603, 2], bregma=[1], anid=[1]),\n",
       " Data(x=[5384, 155], edge_index=[2, 5426], y=[5384, 2], pos=[5384, 2], bregma=[1], anid=[1]),\n",
       " Data(x=[5606, 155], edge_index=[2, 5664], y=[5606, 2], pos=[5606, 2], bregma=[1], anid=[1]),\n",
       " Data(x=[5368, 155], edge_index=[2, 5434], y=[5368, 2], pos=[5368, 2], bregma=[1], anid=[1]),\n",
       " Data(x=[5334, 155], edge_index=[2, 5380], y=[5334, 2], pos=[5334, 2], bregma=[1], anid=[1]),\n",
       " Data(x=[5017, 155], edge_index=[2, 5063], y=[5017, 2], pos=[5017, 2], bregma=[1], anid=[1]),\n",
       " Data(x=[5939, 155], edge_index=[2, 6019], y=[5939, 2], pos=[5939, 2], bregma=[1], anid=[1]),\n",
       " Data(x=[5961, 155], edge_index=[2, 6021], y=[5961, 2], pos=[5961, 2], bregma=[1], anid=[1]),\n",
       " Data(x=[5223, 155], edge_index=[2, 5267], y=[5223, 2], pos=[5223, 2], bregma=[1], anid=[1]),\n",
       " Data(x=[5261, 155], edge_index=[2, 5303], y=[5261, 2], pos=[5261, 2], bregma=[1], anid=[1]),\n",
       " Data(x=[5844, 155], edge_index=[2, 5896], y=[5844, 2], pos=[5844, 2], bregma=[1], anid=[1]),\n",
       " Data(x=[5887, 155], edge_index=[2, 5937], y=[5887, 2], pos=[5887, 2], bregma=[1], anid=[1]),\n",
       " Data(x=[5882, 155], edge_index=[2, 5956], y=[5882, 2], pos=[5882, 2], bregma=[1], anid=[1]),\n",
       " Data(x=[5468, 155], edge_index=[2, 5520], y=[5468, 2], pos=[5468, 2], bregma=[1], anid=[1]),\n",
       " Data(x=[5150, 155], edge_index=[2, 5196], y=[5150, 2], pos=[5150, 2], bregma=[1], anid=[1]),\n",
       " Data(x=[5141, 155], edge_index=[2, 5163], y=[5141, 2], pos=[5141, 2], bregma=[1], anid=[1]),\n",
       " Data(x=[5676, 155], edge_index=[2, 5742], y=[5676, 2], pos=[5676, 2], bregma=[1], anid=[1]),\n",
       " Data(x=[5599, 155], edge_index=[2, 5657], y=[5599, 2], pos=[5599, 2], bregma=[1], anid=[1]),\n",
       " Data(x=[5190, 155], edge_index=[2, 5234], y=[5190, 2], pos=[5190, 2], bregma=[1], anid=[1]),\n",
       " Data(x=[5476, 155], edge_index=[2, 5520], y=[5476, 2], pos=[5476, 2], bregma=[1], anid=[1]),\n",
       " Data(x=[5877, 155], edge_index=[2, 5959], y=[5877, 2], pos=[5877, 2], bregma=[1], anid=[1]),\n",
       " Data(x=[5815, 155], edge_index=[2, 5887], y=[5815, 2], pos=[5815, 2], bregma=[1], anid=[1]),\n",
       " Data(x=[5444, 155], edge_index=[2, 5502], y=[5444, 2], pos=[5444, 2], bregma=[1], anid=[1]),\n",
       " Data(x=[5511, 155], edge_index=[2, 5589], y=[5511, 2], pos=[5511, 2], bregma=[1], anid=[1])]"
      ]
     },
     "execution_count": 36,
     "metadata": {},
     "output_type": "execute_result"
    }
   ],
   "source": [
    "new_test"
   ]
  },
  {
   "cell_type": "markdown",
   "id": "equipped-press",
   "metadata": {},
   "source": [
    "# Testing Any Model"
   ]
  },
  {
   "cell_type": "code",
   "execution_count": 2,
   "id": "1b0cbdb5",
   "metadata": {},
   "outputs": [
    {
     "name": "stdout",
     "output_type": "stream",
     "text": [
      "Requirement already satisfied: openpyxl in /home/roko/.cache/pypoetry/virtualenvs/spatial-G_n0JvVf-py3.10/lib/python3.10/site-packages (3.1.1)\n",
      "Requirement already satisfied: et-xmlfile in /home/roko/.cache/pypoetry/virtualenvs/spatial-G_n0JvVf-py3.10/lib/python3.10/site-packages (from openpyxl) (1.1.0)\n",
      "\n",
      "\u001b[1m[\u001b[0m\u001b[34;49mnotice\u001b[0m\u001b[1;39;49m]\u001b[0m\u001b[39;49m A new release of pip available: \u001b[0m\u001b[31;49m22.3.1\u001b[0m\u001b[39;49m -> \u001b[0m\u001b[32;49m23.1.2\u001b[0m\n",
      "\u001b[1m[\u001b[0m\u001b[34;49mnotice\u001b[0m\u001b[1;39;49m]\u001b[0m\u001b[39;49m To update, run: \u001b[0m\u001b[32;49mpip install --upgrade pip\u001b[0m\n"
     ]
    }
   ],
   "source": [
    "!pip install openpyxl"
   ]
  },
  {
   "cell_type": "code",
   "execution_count": null,
   "id": "7aa3c96e",
   "metadata": {},
   "outputs": [
    {
     "name": "stderr",
     "output_type": "stream",
     "text": [
      "/home/roko/.cache/pypoetry/virtualenvs/spatial-G_n0JvVf-py3.10/lib/python3.10/site-packages/openpyxl/worksheet/_reader.py:329: UserWarning: Unknown extension is not supported and will be removed\n",
      "  warn(msg)\n"
     ]
    },
    {
     "name": "stdout",
     "output_type": "stream",
     "text": [
      "['Cbln1', 'Cxcl14', 'Crhbp', 'Gabra1', 'Cbln2', 'Gpr165', 'Glra3', 'Gabrg1', 'Adora2a', 'Vgf', 'Scg2', 'Cartpt', 'Tac2', 'Bdnf', 'Bmp7', 'Cyr61', 'Fn1', 'Fst', 'Gad1', 'Ntng1', 'Pnoc', 'Selplg', 'Sema3c', 'Sema4d', 'Serpine1', 'Adcyap1', 'Cck', 'Crh', 'Gal', 'Gnrh1', 'Nts', 'Oxt', 'Penk', 'Sst', 'Tac1', 'Trh', 'Ucn3', 'Avpr1a', 'Avpr2', 'Brs3', 'Calcr', 'Cckar', 'Cckbr', 'Crhr1', 'Crhr2', 'Galr1', 'Galr2', 'Grpr', 'Htr2c', 'Igf1r', 'Igf2r', 'Kiss1r', 'Lepr', 'Lpar1', 'Mc4r', 'Npy1r', 'Npy2r', 'Ntsr1', 'Oprd1', 'Oprk1', 'Oprl1', 'Oxtr', 'Pdgfra', 'Prlr', 'Ramp3', 'Rxfp1', 'Slc17a7', 'Slc18a2', 'Tacr1', 'Tacr3', 'Trhr']\n",
      "There are 71 genes recognized as either ligands or receptors (including new ones).\n",
      "There are 0 blank genes.\n",
      "There are 84 genes that are treated as response variables.\n",
      "There are 31 ligands.\n",
      "There are 40 receptors.\n"
     ]
    }
   ],
   "source": [
    "# read in merfish dataset and get columns names\n",
    "import pandas as pd\n",
    "\n",
    "# get relevant data stuff\n",
    "df_file = pd.ExcelFile(\"~/spatial/data/messi.xlsx\")\n",
    "messi_df = pd.read_excel(df_file, \"All.Pairs\")\n",
    "merfish_df = pd.read_csv(\"~/spatial/data/raw/merfish.csv\")\n",
    "merfish_df = merfish_df.drop(['Blank_1', 'Blank_2', 'Blank_3', 'Blank_4', 'Blank_5', 'Fos'], axis=1)\n",
    "\n",
    "# these are the 13 ligands or receptors found in MESSI\n",
    "non_response_genes = ['Cbln1', 'Cxcl14', 'Crhbp', 'Gabra1', 'Cbln2', 'Gpr165', \n",
    "                      'Glra3', 'Gabrg1', 'Adora2a', 'Vgf', 'Scg2', 'Cartpt',\n",
    "                      'Tac2']\n",
    "# this list stores the control genes aka \"Blank_{int}\"\n",
    "blank_genes = []\n",
    "\n",
    "# we will populate all of the non-response genes as being in one or the other\n",
    "# the ones already filled in come from the existing 13 L/R genes above\n",
    "ligands = [\"Cbln1\", \"Cxcl14\", \"Cbln2\", \"Vgf\", \"Scg2\", \"Cartpt\", \"Tac2\"]\n",
    "receptors = [\"Crhbp\", \"Gabra1\", \"Gpr165\", \"Glra3\", \"Gabrg1\", \"Adora2a\"]\n",
    "\n",
    "# ligands and receptor indexes in MERFISH\n",
    "non_response_indeces = [list(merfish_df.columns).index(gene)-9 for gene in non_response_genes]\n",
    "ligand_indeces = [list(merfish_df.columns).index(gene)-9 for gene in ligands]\n",
    "receptor_indeces = [list(merfish_df.columns).index(gene)-9 for gene in receptors]\n",
    "all_pairs_columns = [\n",
    "    \"Ligand.ApprovedSymbol\",\n",
    "    \"Receptor.ApprovedSymbol\",\n",
    "]\n",
    "\n",
    "\n",
    "# for column name in the column names above\n",
    "for column in all_pairs_columns:\n",
    "    for gene in merfish_df.columns:\n",
    "        if (\n",
    "            gene.upper() in list(messi_df[column])\n",
    "            and gene.upper() not in non_response_genes\n",
    "        ):\n",
    "            non_response_genes.append(gene)\n",
    "            non_response_indeces.append(list(merfish_df.columns).index(gene)-9)\n",
    "            if column[0] == \"L\":\n",
    "                ligands.append(gene)\n",
    "                ligand_indeces.append(list(merfish_df.columns).index(gene)-9)\n",
    "            else:\n",
    "                receptors.append(gene)\n",
    "                receptor_indeces.append(list(merfish_df.columns).index(gene)-9)\n",
    "        if gene[:5] == \"Blank\" and gene not in blank_genes:\n",
    "            blank_genes.append(gene)\n",
    "            # non_response_indeces.append(list(merfish_df.columns).index(gene)-9)\n",
    "\n",
    "print(non_response_genes)\n",
    "print(\n",
    "    \"There are \"\n",
    "    + str(len(non_response_genes))\n",
    "    + \" genes recognized as either ligands or receptors (including new ones).\"\n",
    ")\n",
    "\n",
    "print(\n",
    "    \"There are \"\n",
    "    + str(len(blank_genes))\n",
    "    + \" blank genes.\"\n",
    ")\n",
    "\n",
    "print(\n",
    "    \"There are \"\n",
    "    + str(155 - len(blank_genes) - len(non_response_genes))\n",
    "    + \" genes that are treated as response variables.\"\n",
    ")\n",
    "\n",
    "print(\n",
    "    \"There are \"\n",
    "    + str(len(ligands))\n",
    "    + \" ligands.\"\n",
    ")\n",
    "\n",
    "print(\n",
    "    \"There are \"\n",
    "    + str(len(receptors))\n",
    "    + \" receptors.\"\n",
    ")\n",
    "\n",
    "response_indeces = list(set(range(155)) - set(non_response_indeces))"
   ]
  },
  {
   "cell_type": "code",
   "execution_count": 2,
   "id": "cdb16277",
   "metadata": {},
   "outputs": [
    {
     "name": "stdout",
     "output_type": "stream",
     "text": [
      "MonetDense__[512, 512, 512, 512, 512, 512]__0__table2_FULL_no_celltypes__Adam\n"
     ]
    },
    {
     "name": "stderr",
     "output_type": "stream",
     "text": [
      "100%|████████████████████████████████████████████████████████████████████| 24/24 [00:23<00:00,  1.01it/s]\n",
      "Lightning automatically upgraded your loaded checkpoint from v1.8.6 to v1.9.5. To apply the upgrade to your files permanently, run `python -m pytorch_lightning.utilities.upgrade_checkpoint --file ../output/lightning_logs/checkpoints/MonetDense/MonetDense__[512, 512, 512, 512, 512, 512]__0__table2_FULL_no_celltypes__Adam.ckpt`\n",
      "GPU available: True (cuda), used: True\n",
      "TPU available: False, using: 0 TPU cores\n",
      "IPU available: False, using: 0 IPUs\n",
      "HPU available: False, using: 0 HPUs\n",
      "`Trainer(limit_train_batches=1.0)` was configured so 100% of the batches per epoch will be used..\n",
      "`Trainer(limit_val_batches=1.0)` was configured so 100% of the batches will be used..\n",
      "LOCAL_RANK: 0 - CUDA_VISIBLE_DEVICES: [5,6,7]\n"
     ]
    },
    {
     "data": {
      "application/vnd.jupyter.widget-view+json": {
       "model_id": "be75de5224294bde9ee39bb78b20cb5e",
       "version_major": 2,
       "version_minor": 0
      },
      "text/plain": [
       "Testing: 0it [00:00, ?it/s]"
      ]
     },
     "metadata": {},
     "output_type": "display_data"
    },
    {
     "data": {
      "text/html": [
       "<pre style=\"white-space:pre;overflow-x:auto;line-height:normal;font-family:Menlo,'DejaVu Sans Mono',consolas,'Courier New',monospace\">┏━━━━━━━━━━━━━━━━━━━━━━━━━━━┳━━━━━━━━━━━━━━━━━━━━━━━━━━━┓\n",
       "┃<span style=\"font-weight: bold\">        Test metric        </span>┃<span style=\"font-weight: bold\">       DataLoader 0        </span>┃\n",
       "┡━━━━━━━━━━━━━━━━━━━━━━━━━━━╇━━━━━━━━━━━━━━━━━━━━━━━━━━━┩\n",
       "│<span style=\"color: #008080; text-decoration-color: #008080\">         test_loss         </span>│<span style=\"color: #800080; text-decoration-color: #800080\">    0.34988829493522644    </span>│\n",
       "│<span style=\"color: #008080; text-decoration-color: #008080\">       test_loss_mse       </span>│<span style=\"color: #800080; text-decoration-color: #800080\">    0.34988829493522644    </span>│\n",
       "└───────────────────────────┴───────────────────────────┘\n",
       "</pre>\n"
      ],
      "text/plain": [
       "┏━━━━━━━━━━━━━━━━━━━━━━━━━━━┳━━━━━━━━━━━━━━━━━━━━━━━━━━━┓\n",
       "┃\u001b[1m \u001b[0m\u001b[1m       Test metric       \u001b[0m\u001b[1m \u001b[0m┃\u001b[1m \u001b[0m\u001b[1m      DataLoader 0       \u001b[0m\u001b[1m \u001b[0m┃\n",
       "┡━━━━━━━━━━━━━━━━━━━━━━━━━━━╇━━━━━━━━━━━━━━━━━━━━━━━━━━━┩\n",
       "│\u001b[36m \u001b[0m\u001b[36m        test_loss        \u001b[0m\u001b[36m \u001b[0m│\u001b[35m \u001b[0m\u001b[35m   0.34988829493522644   \u001b[0m\u001b[35m \u001b[0m│\n",
       "│\u001b[36m \u001b[0m\u001b[36m      test_loss_mse      \u001b[0m\u001b[36m \u001b[0m│\u001b[35m \u001b[0m\u001b[35m   0.34988829493522644   \u001b[0m\u001b[35m \u001b[0m│\n",
       "└───────────────────────────┴───────────────────────────┘\n"
      ]
     },
     "metadata": {},
     "output_type": "display_data"
    },
    {
     "name": "stderr",
     "output_type": "stream",
     "text": [
      "TEST Profiler Report\n",
      "\n",
      "--------------------------------------------------------------------------------------------------------------------------------------------------------------------------------------------------------------------------------------------------------------------------\n",
      "|  Action                                                                                                                                                         \t|  Mean duration (s)\t|  Num calls      \t|  Total time (s) \t|  Percentage %   \t|\n",
      "--------------------------------------------------------------------------------------------------------------------------------------------------------------------------------------------------------------------------------------------------------------------------\n",
      "|  Total                                                                                                                                                          \t|  -              \t|  471            \t|  33.033         \t|  100 %          \t|\n",
      "--------------------------------------------------------------------------------------------------------------------------------------------------------------------------------------------------------------------------------------------------------------------------\n",
      "|  run_test_evaluation                                                                                                                                            \t|  30.76          \t|  1              \t|  30.76          \t|  93.119         \t|\n",
      "|  [Strategy]SingleDeviceStrategy.test_step                                                                                                                       \t|  1.0141         \t|  24             \t|  24.339         \t|  73.68          \t|\n",
      "|  [EvaluationEpochLoop].test_dataloader_idx_0_next                                                                                                               \t|  0.14537        \t|  24             \t|  3.4889         \t|  10.562         \t|\n",
      "|  [Strategy]SingleDeviceStrategy.batch_to_device                                                                                                                 \t|  0.03667        \t|  24             \t|  0.88008        \t|  2.6642         \t|\n",
      "|  [LightningModule]MonetDense.transfer_batch_to_device                                                                                                           \t|  0.036556       \t|  24             \t|  0.87735        \t|  2.6559         \t|\n",
      "|  [Callback]TQDMProgressBar.on_test_batch_end                                                                                                                    \t|  0.016614       \t|  24             \t|  0.39874        \t|  1.2071         \t|\n",
      "|  [Callback]TQDMProgressBar.on_test_start                                                                                                                        \t|  0.013561       \t|  1              \t|  0.013561       \t|  0.041052       \t|\n",
      "|  [Callback]TQDMProgressBar.on_test_batch_start                                                                                                                  \t|  0.00015542     \t|  24             \t|  0.00373        \t|  0.011292       \t|\n",
      "|  [Callback]TQDMProgressBar.on_test_end                                                                                                                          \t|  0.00083073     \t|  1              \t|  0.00083073     \t|  0.0025148      \t|\n",
      "|  [Callback]ModelSummary.on_test_batch_end                                                                                                                       \t|  1.0342e-05     \t|  24             \t|  0.00024821     \t|  0.0007514      \t|\n",
      "|  [LightningModule]MonetDense.on_test_model_train                                                                                                                \t|  0.00023503     \t|  1              \t|  0.00023503     \t|  0.00071149     \t|\n",
      "|  [LightningModule]MonetDense.on_test_model_eval                                                                                                                 \t|  0.0002349      \t|  1              \t|  0.0002349      \t|  0.00071111     \t|\n",
      "|  [LightningModule]MonetDense.on_before_batch_transfer                                                                                                           \t|  5.0936e-06     \t|  24             \t|  0.00012225     \t|  0.00037007     \t|\n",
      "|  [LightningModule]MonetDense.test_step_end                                                                                                                      \t|  4.047e-06      \t|  24             \t|  9.7127e-05     \t|  0.00029403     \t|\n",
      "|  [Callback]ModelSummary.on_test_batch_start                                                                                                                     \t|  3.1733e-06     \t|  24             \t|  7.6159e-05     \t|  0.00023055     \t|\n",
      "|  [Callback]ModelCheckpoint{'monitor': 'val_loss', 'mode': 'min', 'every_n_train_steps': 0, 'every_n_epochs': 1, 'train_time_interval': None}.on_test_batch_end  \t|  3.1031e-06     \t|  24             \t|  7.4475e-05     \t|  0.00022545     \t|\n",
      "|  [Callback]GradientAccumulationScheduler.on_test_batch_end                                                                                                      \t|  3.0197e-06     \t|  24             \t|  7.2473e-05     \t|  0.00021939     \t|\n",
      "|  [LightningModule]MonetDense.on_after_batch_transfer                                                                                                            \t|  2.836e-06      \t|  24             \t|  6.8063e-05     \t|  0.00020604     \t|\n",
      "|  [Callback]GradientAccumulationScheduler.on_test_batch_start                                                                                                    \t|  2.7894e-06     \t|  24             \t|  6.6945e-05     \t|  0.00020266     \t|\n",
      "|  [LightningModule]MonetDense.on_test_batch_end                                                                                                                  \t|  2.4577e-06     \t|  24             \t|  5.8985e-05     \t|  0.00017856     \t|\n",
      "|  [LightningModule]MonetDense.on_test_batch_start                                                                                                                \t|  2.2991e-06     \t|  24             \t|  5.5179e-05     \t|  0.00016704     \t|\n",
      "|  [Callback]ModelCheckpoint{'monitor': 'val_loss', 'mode': 'min', 'every_n_train_steps': 0, 'every_n_epochs': 1, 'train_time_interval': None}.on_test_batch_start\t|  2.2459e-06     \t|  24             \t|  5.3901e-05     \t|  0.00016317     \t|\n",
      "|  [Strategy]SingleDeviceStrategy.test_step_end                                                                                                                   \t|  2.0409e-06     \t|  24             \t|  4.8981e-05     \t|  0.00014828     \t|\n",
      "|  [Callback]ModelCheckpoint{'monitor': 'val_loss', 'mode': 'min', 'every_n_train_steps': 0, 'every_n_epochs': 1, 'train_time_interval': None}.setup              \t|  2.1247e-05     \t|  1              \t|  2.1247e-05     \t|  6.432e-05      \t|\n",
      "|  [Callback]TQDMProgressBar.setup                                                                                                                                \t|  1.2867e-05     \t|  1              \t|  1.2867e-05     \t|  3.8951e-05     \t|\n",
      "|  [Strategy]SingleDeviceStrategy.on_test_end                                                                                                                     \t|  1.2398e-05     \t|  1              \t|  1.2398e-05     \t|  3.7532e-05     \t|\n",
      "|  [Callback]ModelSummary.on_test_start                                                                                                                           \t|  1.1184e-05     \t|  1              \t|  1.1184e-05     \t|  3.3857e-05     \t|\n",
      "|  [Callback]TQDMProgressBar.teardown                                                                                                                             \t|  6.906e-06      \t|  1              \t|  6.906e-06      \t|  2.0906e-05     \t|\n",
      "|  [LightningModule]MonetDense.configure_callbacks                                                                                                                \t|  6.787e-06      \t|  1              \t|  6.787e-06      \t|  2.0546e-05     \t|\n",
      "|  [LightningModule]MonetDense.on_test_start                                                                                                                      \t|  6.556e-06      \t|  1              \t|  6.556e-06      \t|  1.9847e-05     \t|\n",
      "|  [LightningModule]MonetDense.on_test_epoch_end                                                                                                                  \t|  6.374e-06      \t|  1              \t|  6.374e-06      \t|  1.9296e-05     \t|\n",
      "|  [Callback]ModelSummary.on_test_end                                                                                                                             \t|  5.7439e-06     \t|  1              \t|  5.7439e-06     \t|  1.7388e-05     \t|\n",
      "|  [LightningModule]MonetDense.test_epoch_end                                                                                                                     \t|  4.1081e-06     \t|  1              \t|  4.1081e-06     \t|  1.2436e-05     \t|\n",
      "|  [Callback]ModelCheckpoint{'monitor': 'val_loss', 'mode': 'min', 'every_n_train_steps': 0, 'every_n_epochs': 1, 'train_time_interval': None}.teardown           \t|  3.3639e-06     \t|  1              \t|  3.3639e-06     \t|  1.0183e-05     \t|\n",
      "|  [Callback]ModelSummary.teardown                                                                                                                                \t|  3.315e-06      \t|  1              \t|  3.315e-06      \t|  1.0035e-05     \t|\n",
      "|  [Callback]TQDMProgressBar.on_test_epoch_start                                                                                                                  \t|  3.1109e-06     \t|  1              \t|  3.1109e-06     \t|  9.4173e-06     \t|\n",
      "|  [LightningModule]MonetDense.teardown                                                                                                                           \t|  2.9139e-06     \t|  1              \t|  2.9139e-06     \t|  8.821e-06      \t|\n",
      "|  [Callback]TQDMProgressBar.on_test_epoch_end                                                                                                                    \t|  2.8189e-06     \t|  1              \t|  2.8189e-06     \t|  8.5334e-06     \t|\n",
      "|  [Callback]GradientAccumulationScheduler.on_test_start                                                                                                          \t|  2.7891e-06     \t|  1              \t|  2.7891e-06     \t|  8.4432e-06     \t|\n",
      "|  [Callback]GradientAccumulationScheduler.on_test_end                                                                                                            \t|  2.7851e-06     \t|  1              \t|  2.7851e-06     \t|  8.4312e-06     \t|\n",
      "|  [Callback]ModelCheckpoint{'monitor': 'val_loss', 'mode': 'min', 'every_n_train_steps': 0, 'every_n_epochs': 1, 'train_time_interval': None}.on_test_epoch_start\t|  2.7611e-06     \t|  1              \t|  2.7611e-06     \t|  8.3586e-06     \t|\n",
      "|  [Callback]GradientAccumulationScheduler.teardown                                                                                                               \t|  2.7181e-06     \t|  1              \t|  2.7181e-06     \t|  8.2282e-06     \t|\n",
      "|  [Callback]ModelSummary.setup                                                                                                                                   \t|  2.6789e-06     \t|  1              \t|  2.6789e-06     \t|  8.1098e-06     \t|\n",
      "|  [Callback]ModelCheckpoint{'monitor': 'val_loss', 'mode': 'min', 'every_n_train_steps': 0, 'every_n_epochs': 1, 'train_time_interval': None}.on_test_end        \t|  2.523e-06      \t|  1              \t|  2.523e-06      \t|  7.6376e-06     \t|\n",
      "|  [Callback]ModelCheckpoint{'monitor': 'val_loss', 'mode': 'min', 'every_n_train_steps': 0, 'every_n_epochs': 1, 'train_time_interval': None}.on_test_start      \t|  2.4978e-06     \t|  1              \t|  2.4978e-06     \t|  7.5615e-06     \t|\n",
      "|  [Callback]ModelSummary.on_test_epoch_start                                                                                                                     \t|  2.3621e-06     \t|  1              \t|  2.3621e-06     \t|  7.1505e-06     \t|\n",
      "|  [Callback]GradientAccumulationScheduler.on_test_epoch_start                                                                                                    \t|  2.2908e-06     \t|  1              \t|  2.2908e-06     \t|  6.9349e-06     \t|\n",
      "|  [LightningModule]MonetDense.on_test_end                                                                                                                        \t|  2.081e-06      \t|  1              \t|  2.081e-06      \t|  6.2998e-06     \t|\n",
      "|  [LightningModule]MonetDense.prepare_data                                                                                                                       \t|  2.068e-06      \t|  1              \t|  2.068e-06      \t|  6.2603e-06     \t|\n",
      "|  [Strategy]SingleDeviceStrategy.on_test_start                                                                                                                   \t|  1.9989e-06     \t|  1              \t|  1.9989e-06     \t|  6.051e-06      \t|\n",
      "|  [LightningModule]MonetDense.setup                                                                                                                              \t|  1.8461e-06     \t|  1              \t|  1.8461e-06     \t|  5.5886e-06     \t|\n",
      "|  [LightningModule]MonetDense.on_test_epoch_start                                                                                                                \t|  1.7451e-06     \t|  1              \t|  1.7451e-06     \t|  5.2827e-06     \t|\n",
      "|  [Callback]GradientAccumulationScheduler.setup                                                                                                                  \t|  1.661e-06      \t|  1              \t|  1.661e-06      \t|  5.0283e-06     \t|\n",
      "|  [LightningModule]MonetDense.configure_sharded_model                                                                                                            \t|  1.6e-06        \t|  1              \t|  1.6e-06        \t|  4.8436e-06     \t|\n",
      "|  [Callback]ModelSummary.on_test_epoch_end                                                                                                                       \t|  1.539e-06      \t|  1              \t|  1.539e-06      \t|  4.659e-06      \t|\n",
      "|  [Callback]GradientAccumulationScheduler.on_test_epoch_end                                                                                                      \t|  1.3299e-06     \t|  1              \t|  1.3299e-06     \t|  4.026e-06      \t|\n",
      "|  [Callback]ModelCheckpoint{'monitor': 'val_loss', 'mode': 'min', 'every_n_train_steps': 0, 'every_n_epochs': 1, 'train_time_interval': None}.on_test_epoch_end  \t|  1.299e-06      \t|  1              \t|  1.299e-06      \t|  3.9323e-06     \t|\n",
      "--------------------------------------------------------------------------------------------------------------------------------------------------------------------------------------------------------------------------------------------------------------------------\n",
      "\n"
     ]
    },
    {
     "name": "stdout",
     "output_type": "stream",
     "text": [
      "MonetDense__[512, 512, 512, 512, 512, 512]__25__table2_FULL_no_celltypes__Adam\n"
     ]
    },
    {
     "name": "stderr",
     "output_type": "stream",
     "text": [
      "100%|████████████████████████████████████████████████████████████████████| 24/24 [00:23<00:00,  1.03it/s]\n",
      "Lightning automatically upgraded your loaded checkpoint from v1.8.6 to v1.9.5. To apply the upgrade to your files permanently, run `python -m pytorch_lightning.utilities.upgrade_checkpoint --file ../output/lightning_logs/checkpoints/MonetDense/MonetDense__[512, 512, 512, 512, 512, 512]__25__table2_FULL_no_celltypes__Adam.ckpt`\n",
      "GPU available: True (cuda), used: True\n",
      "TPU available: False, using: 0 TPU cores\n",
      "IPU available: False, using: 0 IPUs\n",
      "HPU available: False, using: 0 HPUs\n",
      "`Trainer(limit_train_batches=1.0)` was configured so 100% of the batches per epoch will be used..\n",
      "`Trainer(limit_val_batches=1.0)` was configured so 100% of the batches will be used..\n",
      "LOCAL_RANK: 0 - CUDA_VISIBLE_DEVICES: [5,6,7]\n"
     ]
    },
    {
     "data": {
      "application/vnd.jupyter.widget-view+json": {
       "model_id": "963e49fd61f74b81aec17129d0dca2ea",
       "version_major": 2,
       "version_minor": 0
      },
      "text/plain": [
       "Testing: 0it [00:00, ?it/s]"
      ]
     },
     "metadata": {},
     "output_type": "display_data"
    },
    {
     "data": {
      "text/html": [
       "<pre style=\"white-space:pre;overflow-x:auto;line-height:normal;font-family:Menlo,'DejaVu Sans Mono',consolas,'Courier New',monospace\">┏━━━━━━━━━━━━━━━━━━━━━━━━━━━┳━━━━━━━━━━━━━━━━━━━━━━━━━━━┓\n",
       "┃<span style=\"font-weight: bold\">        Test metric        </span>┃<span style=\"font-weight: bold\">       DataLoader 0        </span>┃\n",
       "┡━━━━━━━━━━━━━━━━━━━━━━━━━━━╇━━━━━━━━━━━━━━━━━━━━━━━━━━━┩\n",
       "│<span style=\"color: #008080; text-decoration-color: #008080\">         test_loss         </span>│<span style=\"color: #800080; text-decoration-color: #800080\">    0.33311593532562256    </span>│\n",
       "│<span style=\"color: #008080; text-decoration-color: #008080\">       test_loss_mse       </span>│<span style=\"color: #800080; text-decoration-color: #800080\">    0.33311593532562256    </span>│\n",
       "└───────────────────────────┴───────────────────────────┘\n",
       "</pre>\n"
      ],
      "text/plain": [
       "┏━━━━━━━━━━━━━━━━━━━━━━━━━━━┳━━━━━━━━━━━━━━━━━━━━━━━━━━━┓\n",
       "┃\u001b[1m \u001b[0m\u001b[1m       Test metric       \u001b[0m\u001b[1m \u001b[0m┃\u001b[1m \u001b[0m\u001b[1m      DataLoader 0       \u001b[0m\u001b[1m \u001b[0m┃\n",
       "┡━━━━━━━━━━━━━━━━━━━━━━━━━━━╇━━━━━━━━━━━━━━━━━━━━━━━━━━━┩\n",
       "│\u001b[36m \u001b[0m\u001b[36m        test_loss        \u001b[0m\u001b[36m \u001b[0m│\u001b[35m \u001b[0m\u001b[35m   0.33311593532562256   \u001b[0m\u001b[35m \u001b[0m│\n",
       "│\u001b[36m \u001b[0m\u001b[36m      test_loss_mse      \u001b[0m\u001b[36m \u001b[0m│\u001b[35m \u001b[0m\u001b[35m   0.33311593532562256   \u001b[0m\u001b[35m \u001b[0m│\n",
       "└───────────────────────────┴───────────────────────────┘\n"
      ]
     },
     "metadata": {},
     "output_type": "display_data"
    },
    {
     "name": "stderr",
     "output_type": "stream",
     "text": [
      "TEST Profiler Report\n",
      "\n",
      "--------------------------------------------------------------------------------------------------------------------------------------------------------------------------------------------------------------------------------------------------------------------------\n",
      "|  Action                                                                                                                                                         \t|  Mean duration (s)\t|  Num calls      \t|  Total time (s) \t|  Percentage %   \t|\n",
      "--------------------------------------------------------------------------------------------------------------------------------------------------------------------------------------------------------------------------------------------------------------------------\n",
      "|  Total                                                                                                                                                          \t|  -              \t|  471            \t|  27.314         \t|  100 %          \t|\n",
      "--------------------------------------------------------------------------------------------------------------------------------------------------------------------------------------------------------------------------------------------------------------------------\n",
      "|  run_test_evaluation                                                                                                                                            \t|  26.933         \t|  1              \t|  26.933         \t|  98.606         \t|\n",
      "|  [Strategy]SingleDeviceStrategy.test_step                                                                                                                       \t|  0.80596        \t|  24             \t|  19.343         \t|  70.818         \t|\n",
      "|  [EvaluationEpochLoop].test_dataloader_idx_0_next                                                                                                               \t|  0.17567        \t|  24             \t|  4.2162         \t|  15.436         \t|\n",
      "|  [Strategy]SingleDeviceStrategy.batch_to_device                                                                                                                 \t|  0.03889        \t|  24             \t|  0.93337        \t|  3.4172         \t|\n",
      "|  [LightningModule]MonetDense.transfer_batch_to_device                                                                                                           \t|  0.038771       \t|  24             \t|  0.9305         \t|  3.4067         \t|\n",
      "|  [Callback]TQDMProgressBar.on_test_batch_end                                                                                                                    \t|  0.020996       \t|  24             \t|  0.5039         \t|  1.8449         \t|\n",
      "|  [Callback]TQDMProgressBar.on_test_start                                                                                                                        \t|  0.014765       \t|  1              \t|  0.014765       \t|  0.054056       \t|\n",
      "|  [Callback]TQDMProgressBar.on_test_batch_start                                                                                                                  \t|  0.0002062      \t|  24             \t|  0.0049489      \t|  0.018119       \t|\n",
      "|  [Callback]TQDMProgressBar.on_test_end                                                                                                                          \t|  0.0013073      \t|  1              \t|  0.0013073      \t|  0.0047862      \t|\n",
      "|  [LightningModule]MonetDense.on_test_model_train                                                                                                                \t|  0.0003853      \t|  1              \t|  0.0003853      \t|  0.0014107      \t|\n",
      "|  [LightningModule]MonetDense.on_test_model_eval                                                                                                                 \t|  0.00031681     \t|  1              \t|  0.00031681     \t|  0.0011599      \t|\n",
      "|  [Callback]ModelSummary.on_test_batch_end                                                                                                                       \t|  1.0158e-05     \t|  24             \t|  0.00024378     \t|  0.00089254     \t|\n",
      "|  [LightningModule]MonetDense.on_before_batch_transfer                                                                                                           \t|  5.1458e-06     \t|  24             \t|  0.0001235      \t|  0.00045215     \t|\n",
      "|  [LightningModule]MonetDense.test_step_end                                                                                                                      \t|  4.3048e-06     \t|  24             \t|  0.00010331     \t|  0.00037825     \t|\n",
      "|  [Callback]ModelSummary.on_test_batch_start                                                                                                                     \t|  3.6341e-06     \t|  24             \t|  8.7218e-05     \t|  0.00031932     \t|\n",
      "|  [LightningModule]MonetDense.on_after_batch_transfer                                                                                                            \t|  3.3662e-06     \t|  24             \t|  8.079e-05      \t|  0.00029578     \t|\n",
      "|  [Callback]ModelCheckpoint{'monitor': 'val_loss', 'mode': 'min', 'every_n_train_steps': 0, 'every_n_epochs': 1, 'train_time_interval': None}.on_test_batch_end  \t|  3.3069e-06     \t|  24             \t|  7.9366e-05     \t|  0.00029057     \t|\n",
      "|  [Callback]GradientAccumulationScheduler.on_test_batch_end                                                                                                      \t|  3.2164e-06     \t|  24             \t|  7.7194e-05     \t|  0.00028262     \t|\n",
      "|  [Callback]GradientAccumulationScheduler.on_test_batch_start                                                                                                    \t|  3.1826e-06     \t|  24             \t|  7.6381e-05     \t|  0.00027964     \t|\n",
      "|  [LightningModule]MonetDense.on_test_batch_end                                                                                                                  \t|  2.9671e-06     \t|  24             \t|  7.121e-05      \t|  0.00026071     \t|\n",
      "|  [Callback]ModelCheckpoint{'monitor': 'val_loss', 'mode': 'min', 'every_n_train_steps': 0, 'every_n_epochs': 1, 'train_time_interval': None}.on_test_batch_start\t|  2.5635e-06     \t|  24             \t|  6.1525e-05     \t|  0.00022525     \t|\n",
      "|  [LightningModule]MonetDense.on_test_batch_start                                                                                                                \t|  2.4769e-06     \t|  24             \t|  5.9447e-05     \t|  0.00021764     \t|\n",
      "|  [Strategy]SingleDeviceStrategy.test_step_end                                                                                                                   \t|  2.2746e-06     \t|  24             \t|  5.4591e-05     \t|  0.00019987     \t|\n",
      "|  [Callback]ModelCheckpoint{'monitor': 'val_loss', 'mode': 'min', 'every_n_train_steps': 0, 'every_n_epochs': 1, 'train_time_interval': None}.setup              \t|  2.7206e-05     \t|  1              \t|  2.7206e-05     \t|  9.9606e-05     \t|\n",
      "|  [Callback]TQDMProgressBar.setup                                                                                                                                \t|  1.26e-05       \t|  1              \t|  1.26e-05       \t|  4.6131e-05     \t|\n",
      "|  [Strategy]SingleDeviceStrategy.on_test_end                                                                                                                     \t|  1.0798e-05     \t|  1              \t|  1.0798e-05     \t|  3.9533e-05     \t|\n",
      "|  [LightningModule]MonetDense.configure_callbacks                                                                                                                \t|  8.896e-06      \t|  1              \t|  8.896e-06      \t|  3.257e-05      \t|\n",
      "|  [Callback]ModelSummary.on_test_end                                                                                                                             \t|  8.2469e-06     \t|  1              \t|  8.2469e-06     \t|  3.0193e-05     \t|\n",
      "|  [Callback]ModelSummary.on_test_start                                                                                                                           \t|  8.1682e-06     \t|  1              \t|  8.1682e-06     \t|  2.9905e-05     \t|\n",
      "|  [LightningModule]MonetDense.on_test_epoch_end                                                                                                                  \t|  7.0271e-06     \t|  1              \t|  7.0271e-06     \t|  2.5727e-05     \t|\n",
      "|  [LightningModule]MonetDense.test_epoch_end                                                                                                                     \t|  6.2261e-06     \t|  1              \t|  6.2261e-06     \t|  2.2795e-05     \t|\n",
      "|  [Callback]TQDMProgressBar.teardown                                                                                                                             \t|  5.0629e-06     \t|  1              \t|  5.0629e-06     \t|  1.8536e-05     \t|\n",
      "|  [LightningModule]MonetDense.on_test_start                                                                                                                      \t|  4.756e-06      \t|  1              \t|  4.756e-06      \t|  1.7413e-05     \t|\n",
      "|  [Callback]TQDMProgressBar.on_test_epoch_end                                                                                                                    \t|  3.94e-06       \t|  1              \t|  3.94e-06       \t|  1.4425e-05     \t|\n",
      "|  [LightningModule]MonetDense.prepare_data                                                                                                                       \t|  3.3109e-06     \t|  1              \t|  3.3109e-06     \t|  1.2122e-05     \t|\n",
      "|  [Callback]ModelSummary.setup                                                                                                                                   \t|  3.228e-06      \t|  1              \t|  3.228e-06      \t|  1.1818e-05     \t|\n",
      "|  [Callback]ModelCheckpoint{'monitor': 'val_loss', 'mode': 'min', 'every_n_train_steps': 0, 'every_n_epochs': 1, 'train_time_interval': None}.on_test_end        \t|  2.732e-06      \t|  1              \t|  2.732e-06      \t|  1.0002e-05     \t|\n",
      "|  [Callback]GradientAccumulationScheduler.on_test_end                                                                                                            \t|  2.712e-06      \t|  1              \t|  2.712e-06      \t|  9.9291e-06     \t|\n",
      "|  [Callback]TQDMProgressBar.on_test_epoch_start                                                                                                                  \t|  2.6932e-06     \t|  1              \t|  2.6932e-06     \t|  9.8601e-06     \t|\n",
      "|  [Callback]ModelSummary.on_test_epoch_end                                                                                                                       \t|  2.6531e-06     \t|  1              \t|  2.6531e-06     \t|  9.7134e-06     \t|\n",
      "|  [Callback]GradientAccumulationScheduler.setup                                                                                                                  \t|  2.5311e-06     \t|  1              \t|  2.5311e-06     \t|  9.2668e-06     \t|\n",
      "|  [LightningModule]MonetDense.on_test_end                                                                                                                        \t|  2.4389e-06     \t|  1              \t|  2.4389e-06     \t|  8.9292e-06     \t|\n",
      "|  [Callback]ModelCheckpoint{'monitor': 'val_loss', 'mode': 'min', 'every_n_train_steps': 0, 'every_n_epochs': 1, 'train_time_interval': None}.on_test_epoch_end  \t|  2.4161e-06     \t|  1              \t|  2.4161e-06     \t|  8.8457e-06     \t|\n",
      "|  [Callback]GradientAccumulationScheduler.on_test_epoch_end                                                                                                      \t|  2.2978e-06     \t|  1              \t|  2.2978e-06     \t|  8.4126e-06     \t|\n",
      "|  [LightningModule]MonetDense.setup                                                                                                                              \t|  2.2422e-06     \t|  1              \t|  2.2422e-06     \t|  8.2089e-06     \t|\n",
      "|  [Callback]GradientAccumulationScheduler.on_test_start                                                                                                          \t|  2.0829e-06     \t|  1              \t|  2.0829e-06     \t|  7.6258e-06     \t|\n",
      "|  [Callback]ModelCheckpoint{'monitor': 'val_loss', 'mode': 'min', 'every_n_train_steps': 0, 'every_n_epochs': 1, 'train_time_interval': None}.on_test_start      \t|  2.0422e-06     \t|  1              \t|  2.0422e-06     \t|  7.4767e-06     \t|\n",
      "|  [Callback]ModelSummary.teardown                                                                                                                                \t|  2.0252e-06     \t|  1              \t|  2.0252e-06     \t|  7.4144e-06     \t|\n",
      "|  [LightningModule]MonetDense.configure_sharded_model                                                                                                            \t|  1.963e-06      \t|  1              \t|  1.963e-06      \t|  7.1868e-06     \t|\n",
      "|  [Callback]ModelCheckpoint{'monitor': 'val_loss', 'mode': 'min', 'every_n_train_steps': 0, 'every_n_epochs': 1, 'train_time_interval': None}.on_test_epoch_start\t|  1.949e-06      \t|  1              \t|  1.949e-06      \t|  7.1357e-06     \t|\n",
      "|  [Callback]ModelSummary.on_test_epoch_start                                                                                                                     \t|  1.9169e-06     \t|  1              \t|  1.9169e-06     \t|  7.0181e-06     \t|\n",
      "|  [Callback]GradientAccumulationScheduler.on_test_epoch_start                                                                                                    \t|  1.8878e-06     \t|  1              \t|  1.8878e-06     \t|  6.9115e-06     \t|\n",
      "|  [LightningModule]MonetDense.teardown                                                                                                                           \t|  1.8401e-06     \t|  1              \t|  1.8401e-06     \t|  6.7368e-06     \t|\n",
      "|  [LightningModule]MonetDense.on_test_epoch_start                                                                                                                \t|  1.837e-06      \t|  1              \t|  1.837e-06      \t|  6.7257e-06     \t|\n",
      "|  [Strategy]SingleDeviceStrategy.on_test_start                                                                                                                   \t|  1.6692e-06     \t|  1              \t|  1.6692e-06     \t|  6.1111e-06     \t|\n",
      "|  [Callback]GradientAccumulationScheduler.teardown                                                                                                               \t|  1.5961e-06     \t|  1              \t|  1.5961e-06     \t|  5.8434e-06     \t|\n",
      "|  [Callback]ModelCheckpoint{'monitor': 'val_loss', 'mode': 'min', 'every_n_train_steps': 0, 'every_n_epochs': 1, 'train_time_interval': None}.teardown           \t|  1.5208e-06     \t|  1              \t|  1.5208e-06     \t|  5.5681e-06     \t|\n",
      "--------------------------------------------------------------------------------------------------------------------------------------------------------------------------------------------------------------------------------------------------------------------------\n",
      "\n"
     ]
    }
   ],
   "source": [
    "import hydra\n",
    "from hydra.experimental import compose, initialize\n",
    "\n",
    "test_loss_rad_dict = {}\n",
    "\n",
    "for rad in [0,25]:\n",
    "    with initialize(config_path=\"../config\"):\n",
    "        try:\n",
    "            cfg_from_terminal = compose(config_name=\"config\")\n",
    "            OmegaConf.update(cfg_from_terminal, \"model.kwargs.observables_dimension\", 71)\n",
    "            OmegaConf.update(cfg_from_terminal, \"model.kwargs.hidden_dimensions\", [512, 512, 512, 512, 512, 512])\n",
    "            OmegaConf.update(cfg_from_terminal, \"model.kwargs.output_dimension\", 84)\n",
    "            OmegaConf.update(cfg_from_terminal, \"optimizer.name\", \"Adam\")\n",
    "            OmegaConf.update(cfg_from_terminal, \"training.logger_name\", \"table2_FULL_no_celltypes\")\n",
    "            OmegaConf.update(cfg_from_terminal, \"datasets.dataset.include_celltypes\", False)\n",
    "            OmegaConf.update(cfg_from_terminal, \"model.kwargs.include_skip_connections\", True)\n",
    "            OmegaConf.update(cfg_from_terminal, \"radius\", rad)\n",
    "            OmegaConf.update(cfg_from_terminal, \"gpus\", [2])\n",
    "            print(cfg_from_terminal.training.filepath)\n",
    "            output = test(cfg_from_terminal)\n",
    "            trainer, l1_losses, inputs, gene_expressions, celltypes, test_results = output\n",
    "            test_loss_rad_dict[rad] = test_results[0]['test_loss']\n",
    "        except:\n",
    "            try:\n",
    "                OmegaConf.update(cfg_from_terminal, \"model.kwargs.hidden_dimensions\", [256, 256, 256, 256, 256, 256])\n",
    "                print(cfg_from_terminal.training.filepath)\n",
    "                output = test(cfg_from_terminal)\n",
    "                trainer, l1_losses, inputs, gene_expressions, celltypes, test_results = output\n",
    "                test_loss_rad_dict[rad] = test_results[0]['test_loss']\n",
    "            except:\n",
    "                print(f\"Model with radius of {rad} micrometers doesn't exist :(\")"
   ]
  },
  {
   "cell_type": "code",
   "execution_count": 7,
   "id": "b58626bc",
   "metadata": {
    "scrolled": true
   },
   "outputs": [
    {
     "data": {
      "text/plain": [
       "{0: 0.33008134365081787,\n",
       " 5: 0.330562025308609,\n",
       " 10: 0.3282979428768158,\n",
       " 15: 0.3260890543460846,\n",
       " 20: 0.324729859828949,\n",
       " 25: 0.32196560502052307}"
      ]
     },
     "execution_count": 7,
     "metadata": {},
     "output_type": "execute_result"
    }
   ],
   "source": [
    "test_loss_rad_dict #train only"
   ]
  },
  {
   "cell_type": "code",
   "execution_count": 8,
   "id": "343f6d0e",
   "metadata": {},
   "outputs": [
    {
     "data": {
      "text/plain": [
       "{0: 0.34988829493522644,\n",
       " 5: 0.3494284152984619,\n",
       " 10: 0.3461569845676422,\n",
       " 15: 0.33938685059547424,\n",
       " 20: 0.3366208076477051,\n",
       " 25: 0.33311593532562256,\n",
       " 30: 0.3348855972290039,\n",
       " 35: 0.3332056701183319,\n",
       " 40: 0.3343038260936737}"
      ]
     },
     "execution_count": 8,
     "metadata": {},
     "output_type": "execute_result"
    }
   ],
   "source": [
    "test_loss_rad_dict # 512 (animal 30 for this and runs below)"
   ]
  },
  {
   "cell_type": "code",
   "execution_count": null,
   "id": "86f85db7",
   "metadata": {},
   "outputs": [],
   "source": [
    "test_loss_rad_dict # 256"
   ]
  },
  {
   "cell_type": "code",
   "execution_count": 62,
   "id": "ae91b316",
   "metadata": {},
   "outputs": [
    {
     "data": {
      "text/plain": [
       "{0: 0.332673043012619,\n",
       " 5: 0.33101674914360046,\n",
       " 10: 0.3289061188697815,\n",
       " 15: 0.3274388313293457,\n",
       " 20: 0.3297003209590912,\n",
       " 25: 0.3224516212940216,\n",
       " 30: 0.3204915523529053,\n",
       " 35: 0.32182925939559937,\n",
       " 40: 0.32207295298576355,\n",
       " 45: 0.3215629756450653}"
      ]
     },
     "execution_count": 62,
     "metadata": {},
     "output_type": "execute_result"
    }
   ],
   "source": [
    "test_loss_rad_dict # 128"
   ]
  },
  {
   "cell_type": "code",
   "execution_count": 9,
   "id": "c708d77d",
   "metadata": {},
   "outputs": [],
   "source": [
    "with open(\"deepST_results_no_celltypes.json\", \"w\") as deepST:\n",
    "    json.dump(test_loss_rad_dict, deepST)"
   ]
  },
  {
   "cell_type": "code",
   "execution_count": null,
   "id": "6f3561fd",
   "metadata": {},
   "outputs": [],
   "source": [
    "import hydra\n",
    "from hydra.experimental import compose, initialize\n",
    "\n",
    "test_loss_rad_dict = {}\n",
    "\n",
    "for rad in range(0,50,5):\n",
    "    for synthetic_exp in range(4):\n",
    "        with initialize(config_path=\"../config\"):\n",
    "            cfg_from_terminal = compose(config_name=\"config\")\n",
    "            OmegaConf.update(cfg_from_terminal, \"model.kwargs.hidden_dimensions\", [128, 128])\n",
    "            OmegaConf.update(cfg_from_terminal, \"training.logger_name\", f\"synthetic{synthetic_exp}\")\n",
    "            OmegaConf.update(cfg_from_terminal, \"radius\", rad)\n",
    "            OmegaConf.update(cfg_from_terminal, \"model.kwargs.response_genes\", [0])\n",
    "            OmegaConf.update(cfg_from_terminal, \"datasets.dataset\", [MerfishDataset])\n",
    "            output = test(cfg_from_terminal)\n",
    "            trainer, l1_losses, inputs, gene_expressions, celltypes, test_results = output\n",
    "            test_loss_rad_dict[rad] = test_results[0]['test_loss']"
   ]
  },
  {
   "cell_type": "code",
   "execution_count": null,
   "id": "7fdc197c",
   "metadata": {},
   "outputs": [],
   "source": [
    "test_loss_rad_dict"
   ]
  },
  {
   "cell_type": "code",
   "execution_count": 7,
   "id": "18817f1a",
   "metadata": {},
   "outputs": [
    {
     "name": "stderr",
     "output_type": "stream",
     "text": [
      " 33%|███████████████████████████████████                                                                      | 8/24 [00:06<00:12,  1.26it/s]\n",
      "\n",
      "KeyboardInterrupt\n",
      "\n"
     ]
    }
   ],
   "source": [
    "import hydra\n",
    "from hydra.experimental import compose, initialize\n",
    "\n",
    "test_loss_rad_dict_response = {}\n",
    "\n",
    "for rad in range(30,31,1):\n",
    "    with initialize(config_path=\"../config\"):\n",
    "        cfg_from_terminal = compose(config_name=\"config\")\n",
    "#         OmegaConf.update(cfg_from_terminal, \"model.kwargs.observables_dimension\", 71)\n",
    "        OmegaConf.update(cfg_from_terminal, \"model.kwargs.hidden_dimensions\", [128, 128, 128, 128, 128, 128])\n",
    "#         OmegaConf.update(cfg_from_terminal, \"model.kwargs.output_dimension\", 84)\n",
    "        OmegaConf.update(cfg_from_terminal, \"training.logger_name\", \"table2\")\n",
    "        OmegaConf.update(cfg_from_terminal, \"radius\", rad)\n",
    "        OmegaConf.update(cfg_from_terminal, \"gpus\", [1])\n",
    "        OmegaConf.update(cfg_from_terminal, \"model.kwargs.response_genes\", [0])\n",
    "        OmegaConf.update(cfg_from_terminal, \"datasets.dataset\", [MerfishDataset])\n",
    "        output = test(cfg_from_terminal)\n",
    "        trainer, l1_losses, inputs, gene_expressions, celltypes, test_results = output\n",
    "        test_loss_rad_dict_response[rad] = test_results[0]['test_loss']"
   ]
  },
  {
   "cell_type": "code",
   "execution_count": null,
   "id": "d76bd04c",
   "metadata": {},
   "outputs": [],
   "source": [
    "torch.mean(torch.abs(inputs[:, 93] - gene_expressions[:, 93]))"
   ]
  },
  {
   "cell_type": "code",
   "execution_count": 10,
   "id": "3fb0d04e",
   "metadata": {},
   "outputs": [
    {
     "data": {
      "text/plain": [
       "{0: 0.35909464955329895,\n",
       " 5: 0.35904601216316223,\n",
       " 10: 0.3585062026977539,\n",
       " 15: 0.35465207695961,\n",
       " 20: 0.35176217555999756,\n",
       " 25: 0.3485024571418762,\n",
       " 30: 0.3471652865409851,\n",
       " 35: 0.34563148021698,\n",
       " 40: 0.34320735931396484,\n",
       " 45: 0.3435050845146179,\n",
       " 50: 0.3449954688549042,\n",
       " 55: 0.34212666749954224,\n",
       " 60: 0.3430047631263733}"
      ]
     },
     "execution_count": 10,
     "metadata": {},
     "output_type": "execute_result"
    }
   ],
   "source": [
    "test_loss_rad_dict_response"
   ]
  },
  {
   "cell_type": "markdown",
   "id": "5993f1ca",
   "metadata": {},
   "source": [
    "# Save Top K Testing"
   ]
  },
  {
   "cell_type": "code",
   "execution_count": 15,
   "id": "3bd742ea",
   "metadata": {},
   "outputs": [
    {
     "name": "stderr",
     "output_type": "stream",
     "text": [
      " 29%|███████████████████████████████▌                                                                            | 7/24 [00:05<00:13,  1.22it/s]\n",
      "\n",
      "KeyboardInterrupt\n",
      "\n"
     ]
    }
   ],
   "source": [
    "import hydra\n",
    "from hydra.experimental import compose, initialize\n",
    "\n",
    "test_loss_rad_dict_response = {}\n",
    "\n",
    "for rad in range(0,65,5):\n",
    "    for v_number in [\"\"] + [\"-v\" + str(i) for i in range(1,10)]:\n",
    "        with initialize(config_path=\"../config\"):\n",
    "            cfg_from_terminal = compose(config_name=\"config\")\n",
    "            OmegaConf.update(cfg_from_terminal, \"model.kwargs.observables_dimension\", 71)\n",
    "            OmegaConf.update(cfg_from_terminal, \"model.kwargs.hidden_dimensions\", [128, 128, 128, 128, 128, 128])\n",
    "            OmegaConf.update(cfg_from_terminal, \"model.kwargs.output_dimension\", 84)\n",
    "            OmegaConf.update(cfg_from_terminal, \"model.kwargs.dim\", 2)\n",
    "            OmegaConf.update(cfg_from_terminal, \"training.logger_name\", \"new_psuedo_table2\")\n",
    "            OmegaConf.update(cfg_from_terminal, \"optimizer.name\", \"Adam\")\n",
    "            OmegaConf.update(cfg_from_terminal, \"radius\", rad)\n",
    "            OmegaConf.update(cfg_from_terminal, \"gpus\", [1])\n",
    "            OmegaConf.update(cfg_from_terminal, \"training.filepath\", cfg_from_terminal.training.filepath + v_number)\n",
    "#             OmegaConf.update(cfg_from_terminal, \"model.kwargs.response_genes\", [0])\n",
    "            output = test(cfg_from_terminal)\n",
    "            trainer, l1_losses, inputs, gene_expressions, celltypes, test_results = output\n",
    "            if (rad not in test_loss_rad_dict_response) or (test_results[0]['test_loss'] < test_loss_rad_dict_response[rad]):\n",
    "                test_loss_rad_dict_response[rad] = test_results[0]['test_loss']"
   ]
  },
  {
   "cell_type": "markdown",
   "id": "4edf0e49",
   "metadata": {},
   "source": [
    "General deepST for Individual Gene Predictions"
   ]
  },
  {
   "cell_type": "code",
   "execution_count": null,
   "id": "698f7fe2",
   "metadata": {},
   "outputs": [],
   "source": [
    "import hydra\n",
    "from hydra.experimental import compose, initialize\n",
    "\n",
    "test_loss_rad_dict_response = {}\n",
    "test_loss_rad_dict_93 = {}\n",
    "test_loss_rad_dict_151 = {}\n",
    "\n",
    "for rad in range(0,80,10):\n",
    "    with initialize(config_path=\"../config\"):\n",
    "        cfg_from_terminal = compose(config_name=\"config\")\n",
    "        OmegaConf.update(cfg_from_terminal, \"model.kwargs.hidden_dimensions\", [128, 128, 128, 128, 128, 128])\n",
    "        OmegaConf.update(cfg_from_terminal, \"radius\", rad)\n",
    "        trainer, l1_losses, inputs, gene_expressions, celltypes, test_results = output\n",
    "        test_loss_rad_dict_response[rad] = test_results[0]['test_loss']"
   ]
  },
  {
   "cell_type": "code",
   "execution_count": null,
   "id": "f3ad0dc6",
   "metadata": {},
   "outputs": [],
   "source": [
    "test_loss_rad_dict_93, test_loss_rad_dict_151"
   ]
  },
  {
   "cell_type": "code",
   "execution_count": null,
   "id": "ebec781b",
   "metadata": {
    "scrolled": true
   },
   "outputs": [],
   "source": [
    "# equivalent to spatial\n",
    "\n",
    "import hydra\n",
    "from hydra.experimental import compose, initialize\n",
    "\n",
    "with initialize(config_path=\"../config\"):\n",
    "    cfg_from_terminal = compose(config_name=\"config\")\n",
    "    OmegaConf.update(cfg_from_terminal, \"model.kwargs.hidden_dimensions\", [256, 256])\n",
    "    OmegaConf.update(cfg_from_terminal, \"training.logger_name\", \"neighbors_large\")\n",
    "    OmegaConf.update(cfg_from_terminal, \"radius\", 0)\n",
    "    output = test(cfg_from_terminal)\n",
    "    trainer, l1_losses, inputs, gene_expressions, celltypes, test_results = output\n",
    "    excitatory_cells = (celltypes == 6).nonzero(as_tuple=True)[0]\n",
    "    MAE_excitatory = torch.abs(torch.index_select((gene_expressions-inputs)[excitatory_cells], 1, torch.tensor(response_indeces))).mean().item()"
   ]
  },
  {
   "cell_type": "code",
   "execution_count": null,
   "id": "3f7d889e",
   "metadata": {},
   "outputs": [],
   "source": [
    "MAE_excitatory"
   ]
  },
  {
   "cell_type": "code",
   "execution_count": null,
   "id": "b3980c72",
   "metadata": {},
   "outputs": [],
   "source": [
    "trainer, l1_losses, inputs, gene_expressions, celltypes, test_results = output"
   ]
  },
  {
   "cell_type": "code",
   "execution_count": null,
   "id": "1e8279cb",
   "metadata": {},
   "outputs": [],
   "source": [
    "test_results[0]['test_loss: mae_response']"
   ]
  },
  {
   "cell_type": "code",
   "execution_count": null,
   "id": "64905249",
   "metadata": {},
   "outputs": [],
   "source": [
    "# equivalent to spatial\n",
    "\n",
    "import hydra\n",
    "from hydra.experimental import compose, initialize\n",
    "\n",
    "with initialize(config_path=\"../config\"):\n",
    "    cfg_from_terminal = compose(config_name=\"config\")\n",
    "    output = test(cfg_from_terminal)"
   ]
  },
  {
   "cell_type": "markdown",
   "id": "8d50ae0d",
   "metadata": {},
   "source": [
    "# Testing Models with Updates"
   ]
  },
  {
   "cell_type": "code",
   "execution_count": null,
   "id": "piano-crisis",
   "metadata": {
    "scrolled": true
   },
   "outputs": [],
   "source": [
    "# equivalent to spatial\n",
    "\n",
    "import hydra\n",
    "from hydra.experimental import compose, initialize\n",
    "\n",
    "with initialize(config_path=\"../config\"):\n",
    "    cfg_from_terminal = compose(config_name=\"config\")\n",
    "    # update the behavior to get the model of interest\n",
    "    OmegaConf.update(cfg_from_terminal, \"datasets.dataset.behaviors\", [\"Parenting\"])\n",
    "    output = test(cfg_from_terminal)"
   ]
  },
  {
   "cell_type": "code",
   "execution_count": null,
   "id": "opening-james",
   "metadata": {},
   "outputs": [],
   "source": [
    "trainer, l1_losses, inputs, gene_expressions, celltypes, test_results = output"
   ]
  },
  {
   "cell_type": "code",
   "execution_count": null,
   "id": "joint-catalyst",
   "metadata": {},
   "outputs": [],
   "source": [
    "with open('../spatial/non_response.txt', \"r\") as genes_file:\n",
    "    features = [int(x) for x in genes_file.read().split(\",\")]\n",
    "    response_indeces = torch.tensor(list(set(range(160)) - set(features)))\n",
    "    genes_file.close()"
   ]
  },
  {
   "cell_type": "code",
   "execution_count": null,
   "id": "critical-minority",
   "metadata": {},
   "outputs": [],
   "source": [
    "excitatory_cells = (celltypes == 6).nonzero(as_tuple=True)[0]"
   ]
  },
  {
   "cell_type": "code",
   "execution_count": null,
   "id": "blessed-voluntary",
   "metadata": {},
   "outputs": [],
   "source": [
    "import torch\n",
    "\n",
    "loss = torch.nn.L1Loss()\n",
    "loss(torch.index_select(inputs[excitatory_cells], 1, response_indeces), torch.index_select(gene_expressions[excitatory_cells], 1, response_indeces))"
   ]
  },
  {
   "cell_type": "code",
   "execution_count": null,
   "id": "destroyed-volunteer",
   "metadata": {},
   "outputs": [],
   "source": [
    "# equivalent to spatial\n",
    "\n",
    "import hydra\n",
    "from hydra.experimental import compose, initialize\n",
    "\n",
    "with initialize(config_path=\"../config\"):\n",
    "    cfg_from_terminal = compose(config_name=\"config\")\n",
    "    # update the behavior to get the model of interest\n",
    "    OmegaConf.update(cfg_from_terminal, \"datasets.dataset.behaviors\", [\"Virgin Parenting\"])\n",
    "    output = test(cfg_from_terminal)"
   ]
  },
  {
   "cell_type": "code",
   "execution_count": null,
   "id": "becoming-audit",
   "metadata": {},
   "outputs": [],
   "source": [
    "trainer, l1_losses, inputs, gene_expressions, celltypes, test_results = output"
   ]
  },
  {
   "cell_type": "code",
   "execution_count": null,
   "id": "eleven-guarantee",
   "metadata": {},
   "outputs": [],
   "source": [
    "excitatory_cells = (celltypes == 6).nonzero(as_tuple=True)[0]"
   ]
  },
  {
   "cell_type": "code",
   "execution_count": null,
   "id": "welsh-michael",
   "metadata": {},
   "outputs": [],
   "source": [
    "import torch\n",
    "\n",
    "loss = torch.nn.L1Loss()\n",
    "loss(torch.index_select(inputs[excitatory_cells], 1, response_indeces), torch.index_select(gene_expressions[excitatory_cells], 1, response_indeces))"
   ]
  },
  {
   "cell_type": "code",
   "execution_count": null,
   "id": "intensive-berlin",
   "metadata": {},
   "outputs": [],
   "source": [
    "# equivalent to spatial\n",
    "\n",
    "import hydra\n",
    "from hydra.experimental import compose, initialize\n",
    "\n",
    "with initialize(config_path=\"../config\"):\n",
    "    cfg_from_terminal = compose(config_name=\"config\")\n",
    "    # update the behavior to get the model of interest\n",
    "    OmegaConf.update(cfg_from_terminal, \"datasets.dataset.behaviors\", [\"Naive\"])\n",
    "    output = test(cfg_from_terminal)"
   ]
  },
  {
   "cell_type": "code",
   "execution_count": null,
   "id": "manual-filter",
   "metadata": {},
   "outputs": [],
   "source": [
    "trainer, l1_losses, inputs, gene_expressions, celltypes, test_results = output"
   ]
  },
  {
   "cell_type": "code",
   "execution_count": null,
   "id": "gorgeous-atlantic",
   "metadata": {},
   "outputs": [],
   "source": [
    "excitatory_cells = (celltypes == 6).nonzero(as_tuple=True)[0]"
   ]
  },
  {
   "cell_type": "code",
   "execution_count": null,
   "id": "choice-dispute",
   "metadata": {},
   "outputs": [],
   "source": [
    "import torch\n",
    "\n",
    "loss = torch.nn.L1Loss()\n",
    "loss(torch.index_select(inputs[excitatory_cells], 1, response_indeces), torch.index_select(gene_expressions[excitatory_cells], 1, response_indeces))"
   ]
  }
 ],
 "metadata": {
  "kernelspec": {
   "display_name": "Python 3 (ipykernel)",
   "language": "python",
   "name": "python3"
  },
  "language_info": {
   "codemirror_mode": {
    "name": "ipython",
    "version": 3
   },
   "file_extension": ".py",
   "mimetype": "text/x-python",
   "name": "python",
   "nbconvert_exporter": "python",
   "pygments_lexer": "ipython3",
   "version": "3.10.12"
  }
 },
 "nbformat": 4,
 "nbformat_minor": 5
}
