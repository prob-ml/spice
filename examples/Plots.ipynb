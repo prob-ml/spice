{
 "cells": [
  {
   "cell_type": "markdown",
   "id": "eaf7fdf6",
   "metadata": {},
   "source": [
    "# Results of Excitatory Cell Expressions for Female Naive Animals"
   ]
  },
  {
   "cell_type": "code",
   "execution_count": 2,
   "id": "987335dc",
   "metadata": {},
   "outputs": [],
   "source": [
    "import pandas as pd\n",
    "import numpy as np\n",
    "import json\n",
    "from matplotlib import pyplot as plt\n",
    "import seaborn as sns"
   ]
  },
  {
   "cell_type": "code",
   "execution_count": 2,
   "id": "83a6cd2f",
   "metadata": {},
   "outputs": [],
   "source": [
    "deepST_excitatory = json.load(open('deepST_MAE_excitatory.json'))"
   ]
  },
  {
   "cell_type": "code",
   "execution_count": 3,
   "id": "22b93c64",
   "metadata": {},
   "outputs": [],
   "source": [
    "deepST_excitatory_values = [deepST_excitatory[\"['Female']_['Naive']_\" + str(i)] for i in range(1,5)] # female naive animals are 1,2,3,4"
   ]
  },
  {
   "cell_type": "code",
   "execution_count": 4,
   "id": "abeb89fd",
   "metadata": {},
   "outputs": [
    {
     "data": {
      "text/plain": [
       "[0.3569185733795166,\n",
       " 0.35787373781204224,\n",
       " 0.3585347831249237,\n",
       " 0.35235148668289185]"
      ]
     },
     "execution_count": 4,
     "metadata": {},
     "output_type": "execute_result"
    }
   ],
   "source": [
    "deepST_excitatory_values"
   ]
  },
  {
   "cell_type": "code",
   "execution_count": 5,
   "id": "e4d6e8a3",
   "metadata": {},
   "outputs": [],
   "source": [
    "deepST_excitatory_ligandsOnly = json.load(open('deepST_MAE_excitatory_ligandsOnly.json'))"
   ]
  },
  {
   "cell_type": "code",
   "execution_count": 6,
   "id": "f744b4ef",
   "metadata": {},
   "outputs": [],
   "source": [
    "deepST_excitatory_values_ligandsOnly = [deepST_excitatory_ligandsOnly[\"['Female']_['Naive']_\" + str(i)] for i in range(1,5)] # female naive animals are 1,2,3,4"
   ]
  },
  {
   "cell_type": "code",
   "execution_count": 7,
   "id": "2631036d",
   "metadata": {},
   "outputs": [
    {
     "data": {
      "text/plain": [
       "[0.3696116507053375,\n",
       " 0.3599299490451813,\n",
       " 0.36921268701553345,\n",
       " 0.36949148774147034]"
      ]
     },
     "execution_count": 7,
     "metadata": {},
     "output_type": "execute_result"
    }
   ],
   "source": [
    "deepST_excitatory_values_ligandsOnly"
   ]
  },
  {
   "cell_type": "code",
   "execution_count": 8,
   "id": "188108f3",
   "metadata": {},
   "outputs": [],
   "source": [
    "MESSI_excitatory = json.load(open('../../MESSI/tutorials/MAE_excitatory.json'))"
   ]
  },
  {
   "cell_type": "code",
   "execution_count": 9,
   "id": "b922bd35",
   "metadata": {},
   "outputs": [],
   "source": [
    "MESSI_excitatory_values = [MESSI_excitatory[\"Female_Naive_\" + str(i)] for i in range(1,5)]"
   ]
  },
  {
   "cell_type": "code",
   "execution_count": 10,
   "id": "02661185",
   "metadata": {
    "scrolled": false
   },
   "outputs": [
    {
     "data": {
      "text/plain": [
       "[0.3801549566526585,\n",
       " 0.37628800688371333,\n",
       " 0.37287921379680466,\n",
       " 0.3751875515301305]"
      ]
     },
     "execution_count": 10,
     "metadata": {},
     "output_type": "execute_result"
    }
   ],
   "source": [
    "MESSI_excitatory_values"
   ]
  },
  {
   "cell_type": "code",
   "execution_count": 11,
   "id": "07238a38",
   "metadata": {},
   "outputs": [],
   "source": [
    "XGBoost_excitatory = json.load(open('XGBoost_MAE_excitatory.json'))"
   ]
  },
  {
   "cell_type": "code",
   "execution_count": 12,
   "id": "7870f300",
   "metadata": {},
   "outputs": [],
   "source": [
    "XGBoost_excitatory_values = [XGBoost_excitatory[\"['Female']_['Naive']_\" + str(i)] for i in range(1,5)] # female naive animals are 1,2,3,4"
   ]
  },
  {
   "cell_type": "code",
   "execution_count": 13,
   "id": "7f5d0184",
   "metadata": {},
   "outputs": [
    {
     "data": {
      "text/plain": [
       "[0.38919976353645325,\n",
       " 0.38447484374046326,\n",
       " 0.37682753801345825,\n",
       " 0.3889421224594116]"
      ]
     },
     "execution_count": 13,
     "metadata": {},
     "output_type": "execute_result"
    }
   ],
   "source": [
    "XGBoost_excitatory_values"
   ]
  },
  {
   "cell_type": "code",
   "execution_count": 14,
   "id": "5f372d7f",
   "metadata": {
    "scrolled": true
   },
   "outputs": [
    {
     "name": "stdout",
     "output_type": "stream",
     "text": [
      "     deepST  deepST Ligands     MESSI   XGBoost\n",
      "0  0.356919        0.369612  0.380155  0.389200\n",
      "1  0.357874        0.359930  0.376288  0.384475\n",
      "2  0.358535        0.369213  0.372879  0.376828\n",
      "3  0.352351        0.369491  0.375188  0.388942\n"
     ]
    },
    {
     "data": {
      "image/png": "[encoded data removed]",
      "text/plain": [
       "<Figure size 432x288 with 1 Axes>"
      ]
     },
     "metadata": {
      "needs_background": "light"
     },
     "output_type": "display_data"
    }
   ],
   "source": [
    "# create a DataFrame\n",
    "df_deepST = pd.DataFrame({'deepST': deepST_excitatory_values})\n",
    "df_MESSI = pd.DataFrame({'MESSI': MESSI_excitatory_values})\n",
    "df_XGBoost = pd.DataFrame({'XGBoost': XGBoost_excitatory_values})\n",
    "df_deepST_ligandsOnly = pd.DataFrame({'deepST Ligands': deepST_excitatory_values_ligandsOnly})\n",
    "\n",
    "df = pd.concat([df_deepST, df_deepST_ligandsOnly, df_MESSI, df_XGBoost], axis=1)\n",
    "print(df)\n",
    "\n",
    "# create plot\n",
    "ax = sns.boxplot(data=df)\n",
    "\n",
    "# show plot\n",
    "plt.show()"
   ]
  },
  {
   "cell_type": "markdown",
   "id": "5ad2da45",
   "metadata": {},
   "source": [
    "# Results of Inhibitory Cell Expressions for Female Naive Animals"
   ]
  },
  {
   "cell_type": "code",
   "execution_count": 97,
   "id": "124f0249",
   "metadata": {},
   "outputs": [],
   "source": [
    "import pandas as pd\n",
    "import numpy as np\n",
    "import json\n",
    "from matplotlib import pyplot as plt\n",
    "import seaborn as sns"
   ]
  },
  {
   "cell_type": "code",
   "execution_count": 98,
   "id": "45bcfecd",
   "metadata": {},
   "outputs": [],
   "source": [
    "deepST_inhibitory = json.load(open('deepST_MAE_inhibitory.json'))"
   ]
  },
  {
   "cell_type": "code",
   "execution_count": 99,
   "id": "03b992a7",
   "metadata": {},
   "outputs": [],
   "source": [
    "deepST_inhibitory_values = [deepST_inhibitory[\"['Female']_['Naive']_\" + str(i)] for i in range(1,5)] # female naive animals are 1,2,3,4"
   ]
  },
  {
   "cell_type": "code",
   "execution_count": 100,
   "id": "3436979d",
   "metadata": {},
   "outputs": [
    {
     "data": {
      "text/plain": [
       "[0.3618801534175873,\n",
       " 0.3553224503993988,\n",
       " 0.34245067834854126,\n",
       " 0.3655047118663788]"
      ]
     },
     "execution_count": 100,
     "metadata": {},
     "output_type": "execute_result"
    }
   ],
   "source": [
    "deepST_inhibitory_values"
   ]
  },
  {
   "cell_type": "code",
   "execution_count": 101,
   "id": "5e191561",
   "metadata": {},
   "outputs": [],
   "source": [
    "MESSI_inhibitory = json.load(open('../../MESSI/tutorials/MAE_inhibitory.json'))"
   ]
  },
  {
   "cell_type": "code",
   "execution_count": 102,
   "id": "7c6521cd",
   "metadata": {},
   "outputs": [],
   "source": [
    "MESSI_inhibitory_values = [MESSI_inhibitory[\"Female_Naive_\" + str(i)] for i in range(1,5)]"
   ]
  },
  {
   "cell_type": "code",
   "execution_count": 103,
   "id": "3889f74a",
   "metadata": {
    "scrolled": false
   },
   "outputs": [
    {
     "data": {
      "text/plain": [
       "[0.38851713994478304,\n",
       " 0.3816401350119967,\n",
       " 0.36824040775225103,\n",
       " 0.3915513018391496]"
      ]
     },
     "execution_count": 103,
     "metadata": {},
     "output_type": "execute_result"
    }
   ],
   "source": [
    "MESSI_inhibitory_values"
   ]
  },
  {
   "cell_type": "code",
   "execution_count": 104,
   "id": "d347d278",
   "metadata": {},
   "outputs": [
    {
     "name": "stdout",
     "output_type": "stream",
     "text": [
      "     deepST     MESSI\n",
      "0  0.361880  0.388517\n",
      "1  0.355322  0.381640\n",
      "2  0.342451  0.368240\n",
      "3  0.365505  0.391551\n"
     ]
    },
    {
     "data": {
      "image/png": "[encoded data removed]",
      "text/plain": [
       "<Figure size 432x288 with 1 Axes>"
      ]
     },
     "metadata": {
      "needs_background": "light"
     },
     "output_type": "display_data"
    }
   ],
   "source": [
    "# create a DataFrame\n",
    "df_deepST = pd.DataFrame({'deepST': deepST_inhibitory_values})\n",
    "df_MESSI = pd.DataFrame({'MESSI': MESSI_inhibitory_values})\n",
    "\n",
    "df = pd.concat([df_deepST, df_MESSI], axis=1)\n",
    "print(df)\n",
    "\n",
    "# create plot\n",
    "ax = sns.boxplot(data=df)\n",
    "\n",
    "# show plot\n",
    "plt.show()"
   ]
  },
  {
   "cell_type": "markdown",
   "id": "749a12ca",
   "metadata": {},
   "source": [
    "#### Boxplot Throwaway Code for Later"
   ]
  },
  {
   "cell_type": "code",
   "execution_count": 105,
   "id": "fb5f4a05",
   "metadata": {},
   "outputs": [
    {
     "name": "stdout",
     "output_type": "stream",
     "text": [
      "   Trial Number     value\n",
      "0      1      1  0.356919\n",
      "1      2      1  0.380155\n",
      "2      1      2  0.357874\n",
      "3      2      2  0.376288\n",
      "4      1      3  0.358535\n"
     ]
    },
    {
     "data": {
      "image/png": "[encoded data removed]",
      "text/plain": [
       "<Figure size 432x288 with 1 Axes>"
      ]
     },
     "metadata": {
      "needs_background": "light"
     },
     "output_type": "display_data"
    }
   ],
   "source": [
    "# DATAFRAMES WITH TRIAL COLUMN ASSIGNED\n",
    "df1 = pd.DataFrame(np.array(deepST_excitatory_values).reshape(1,-1), columns=list(range(1,5))).assign(Trial=1)\n",
    "df2 = pd.DataFrame(np.array(MESSI_excitatory_values).reshape(1,-1), columns=list(range(1,5))).assign(Trial=2)\n",
    "# df3 = pd.DataFrame(np.random.randn(4,4), columns=list(range(1,5))).assign(Trial=3)\n",
    "\n",
    "cdf = pd.concat([df1, df2])                                # CONCATENATE\n",
    "mdf = pd.melt(cdf, id_vars=['Trial'], var_name=['Number'])      # MELT\n",
    "\n",
    "print(mdf.head())\n",
    "#    Trial Number     value\n",
    "# 0      1      1 -0.750615\n",
    "# 1      1      1 -1.715070\n",
    "# 2      1      1 -0.963404\n",
    "# 3      1      1  0.360856\n",
    "# 4      1      1 -1.190504\n",
    "\n",
    "ax = sns.boxplot(x=\"Trial\", y=\"value\", hue=\"Number\", data=mdf)  # RUN PLOT   \n",
    "plt.show()\n",
    "\n",
    "plt.clf()\n",
    "plt.close()"
   ]
  },
  {
   "cell_type": "code",
   "execution_count": 42,
   "id": "cc41b8e3",
   "metadata": {},
   "outputs": [
    {
     "data": {
      "text/html": [
       "<div>\n",
       "<style scoped>\n",
       "    .dataframe tbody tr th:only-of-type {\n",
       "        vertical-align: middle;\n",
       "    }\n",
       "\n",
       "    .dataframe tbody tr th {\n",
       "        vertical-align: top;\n",
       "    }\n",
       "\n",
       "    .dataframe thead th {\n",
       "        text-align: right;\n",
       "    }\n",
       "</style>\n",
       "<table border=\"1\" class=\"dataframe\">\n",
       "  <thead>\n",
       "    <tr style=\"text-align: right;\">\n",
       "      <th></th>\n",
       "      <th>1</th>\n",
       "      <th>2</th>\n",
       "      <th>3</th>\n",
       "      <th>4</th>\n",
       "      <th>5</th>\n",
       "      <th>Trial</th>\n",
       "    </tr>\n",
       "  </thead>\n",
       "  <tbody>\n",
       "    <tr>\n",
       "      <th>0</th>\n",
       "      <td>-2.574411</td>\n",
       "      <td>0.304598</td>\n",
       "      <td>1.892478</td>\n",
       "      <td>1.016249</td>\n",
       "      <td>-0.043740</td>\n",
       "      <td>1</td>\n",
       "    </tr>\n",
       "    <tr>\n",
       "      <th>1</th>\n",
       "      <td>-1.157576</td>\n",
       "      <td>-0.395647</td>\n",
       "      <td>-0.670122</td>\n",
       "      <td>0.319786</td>\n",
       "      <td>-0.295581</td>\n",
       "      <td>1</td>\n",
       "    </tr>\n",
       "    <tr>\n",
       "      <th>2</th>\n",
       "      <td>0.407370</td>\n",
       "      <td>-0.444789</td>\n",
       "      <td>-1.390877</td>\n",
       "      <td>1.675611</td>\n",
       "      <td>-1.380627</td>\n",
       "      <td>1</td>\n",
       "    </tr>\n",
       "    <tr>\n",
       "      <th>3</th>\n",
       "      <td>-1.276758</td>\n",
       "      <td>-0.776060</td>\n",
       "      <td>-0.593264</td>\n",
       "      <td>0.755448</td>\n",
       "      <td>0.360841</td>\n",
       "      <td>1</td>\n",
       "    </tr>\n",
       "    <tr>\n",
       "      <th>4</th>\n",
       "      <td>-0.493166</td>\n",
       "      <td>0.476000</td>\n",
       "      <td>2.204158</td>\n",
       "      <td>0.366667</td>\n",
       "      <td>0.214712</td>\n",
       "      <td>1</td>\n",
       "    </tr>\n",
       "    <tr>\n",
       "      <th>0</th>\n",
       "      <td>0.706339</td>\n",
       "      <td>-0.903900</td>\n",
       "      <td>2.795468</td>\n",
       "      <td>1.516808</td>\n",
       "      <td>-0.571381</td>\n",
       "      <td>2</td>\n",
       "    </tr>\n",
       "    <tr>\n",
       "      <th>1</th>\n",
       "      <td>0.559225</td>\n",
       "      <td>-2.098771</td>\n",
       "      <td>0.326304</td>\n",
       "      <td>0.002096</td>\n",
       "      <td>0.382765</td>\n",
       "      <td>2</td>\n",
       "    </tr>\n",
       "    <tr>\n",
       "      <th>2</th>\n",
       "      <td>-0.651914</td>\n",
       "      <td>1.086213</td>\n",
       "      <td>-0.943874</td>\n",
       "      <td>1.196011</td>\n",
       "      <td>-0.415406</td>\n",
       "      <td>2</td>\n",
       "    </tr>\n",
       "    <tr>\n",
       "      <th>3</th>\n",
       "      <td>-1.856418</td>\n",
       "      <td>-0.500294</td>\n",
       "      <td>1.785721</td>\n",
       "      <td>-1.637327</td>\n",
       "      <td>-1.078809</td>\n",
       "      <td>2</td>\n",
       "    </tr>\n",
       "    <tr>\n",
       "      <th>4</th>\n",
       "      <td>0.319484</td>\n",
       "      <td>-1.001783</td>\n",
       "      <td>-0.456294</td>\n",
       "      <td>-0.810443</td>\n",
       "      <td>0.633947</td>\n",
       "      <td>2</td>\n",
       "    </tr>\n",
       "    <tr>\n",
       "      <th>0</th>\n",
       "      <td>-0.259976</td>\n",
       "      <td>1.197092</td>\n",
       "      <td>-1.638289</td>\n",
       "      <td>1.428689</td>\n",
       "      <td>0.768558</td>\n",
       "      <td>3</td>\n",
       "    </tr>\n",
       "    <tr>\n",
       "      <th>1</th>\n",
       "      <td>0.172605</td>\n",
       "      <td>0.382313</td>\n",
       "      <td>-0.508246</td>\n",
       "      <td>-0.973837</td>\n",
       "      <td>1.708339</td>\n",
       "      <td>3</td>\n",
       "    </tr>\n",
       "    <tr>\n",
       "      <th>2</th>\n",
       "      <td>-0.142748</td>\n",
       "      <td>-1.192355</td>\n",
       "      <td>0.420416</td>\n",
       "      <td>0.210563</td>\n",
       "      <td>0.793615</td>\n",
       "      <td>3</td>\n",
       "    </tr>\n",
       "    <tr>\n",
       "      <th>3</th>\n",
       "      <td>-0.494472</td>\n",
       "      <td>-0.924122</td>\n",
       "      <td>-1.125311</td>\n",
       "      <td>-1.097983</td>\n",
       "      <td>0.658224</td>\n",
       "      <td>3</td>\n",
       "    </tr>\n",
       "    <tr>\n",
       "      <th>4</th>\n",
       "      <td>0.448532</td>\n",
       "      <td>0.836438</td>\n",
       "      <td>0.438322</td>\n",
       "      <td>-0.549414</td>\n",
       "      <td>2.327495</td>\n",
       "      <td>3</td>\n",
       "    </tr>\n",
       "  </tbody>\n",
       "</table>\n",
       "</div>"
      ],
      "text/plain": [
       "          1         2         3         4         5  Trial\n",
       "0 -2.574411  0.304598  1.892478  1.016249 -0.043740      1\n",
       "1 -1.157576 -0.395647 -0.670122  0.319786 -0.295581      1\n",
       "2  0.407370 -0.444789 -1.390877  1.675611 -1.380627      1\n",
       "3 -1.276758 -0.776060 -0.593264  0.755448  0.360841      1\n",
       "4 -0.493166  0.476000  2.204158  0.366667  0.214712      1\n",
       "0  0.706339 -0.903900  2.795468  1.516808 -0.571381      2\n",
       "1  0.559225 -2.098771  0.326304  0.002096  0.382765      2\n",
       "2 -0.651914  1.086213 -0.943874  1.196011 -0.415406      2\n",
       "3 -1.856418 -0.500294  1.785721 -1.637327 -1.078809      2\n",
       "4  0.319484 -1.001783 -0.456294 -0.810443  0.633947      2\n",
       "0 -0.259976  1.197092 -1.638289  1.428689  0.768558      3\n",
       "1  0.172605  0.382313 -0.508246 -0.973837  1.708339      3\n",
       "2 -0.142748 -1.192355  0.420416  0.210563  0.793615      3\n",
       "3 -0.494472 -0.924122 -1.125311 -1.097983  0.658224      3\n",
       "4  0.448532  0.836438  0.438322 -0.549414  2.327495      3"
      ]
     },
     "execution_count": 42,
     "metadata": {},
     "output_type": "execute_result"
    }
   ],
   "source": [
    "cdf"
   ]
  },
  {
   "cell_type": "code",
   "execution_count": 56,
   "id": "94328869",
   "metadata": {},
   "outputs": [
    {
     "data": {
      "image/png": "[encoded data removed]",
      "text/plain": [
       "<Figure size 432x288 with 1 Axes>"
      ]
     },
     "metadata": {},
     "output_type": "display_data"
    }
   ],
   "source": [
    "lightgbm_train = {0: 0.36687154522253007, 10: 0.36704256779382094, 20: 0.3669286524358801, 30: 0.36704890036396814, 40: 0.3671144034553719, 50: 0.36696370154104097, 60: 0.36694528763440054, 70: 0.3670999470507582, 80: 0.3669915129489699}\n",
    "lightgbm_test = {0: 0.3930677145164025, 10: 0.3932398374054737, 20: 0.39316476258093197, 30: 0.3931982199864055, 40: 0.3932709117850623, 50: 0.39314322041464844, 60: 0.3932798993305558, 70: 0.39334263072139725, 80: 0.3931518974793018}\n",
    "deepST_train = {0: 0.3521350920200348, 10: 0.35147982835769653, 20: 0.3492688536643982, 30: 0.3481127917766571, 40: 0.34752157330513, 50: 0.34670382738113403, 60: 0.3451015055179596, 70: 0.3450486958026886, 80: 0.3453604280948639}\n",
    "deepST_test = {0: 0.3500196635723114, 10: 0.35144540667533875, 20: 0.3483979403972626, 30: 0.3469792604446411, 40: 0.3454304039478302, 50: 0.3444381654262543, 60: 0.34396353363990784, 70: 0.34458568692207336, 80: 0.34435102343559265}\n",
    "\n",
    "lightgbm_train_df = pd.DataFrame(lightgbm_train.items(), columns=['Radius', 'LightGBM Train Loss'])\n",
    "lightgbm_test_df = pd.DataFrame(lightgbm_test.items(), columns=['Radius', 'LightGBM Test Loss'])\n",
    "deepST_train_df = pd.DataFrame(deepST_train.items(), columns=['Radius', 'deepST Train Loss'])\n",
    "deepST_test_df = pd.DataFrame(deepST_test.items(), columns=['Radius', 'deepST Test Loss'])\n",
    "\n",
    "results_df = lightgbm_train_df.merge(lightgbm_test_df, on=\"Radius\").merge(deepST_train_df, on=\"Radius\").merge(deepST_test_df, on=\"Radius\")\n",
    "\n",
    "results_df\n",
    "\n",
    "sns.set_theme(\"talk\")\n",
    "sns.set_style(\"whitegrid\")\n",
    "# sns.lineplot(data=results_df, x=\"Radius\", y=\"LightGBM Train Loss\", marker='o')\n",
    "sns.lineplot(data=results_df, x=\"Radius\", y=\"LightGBM Test Loss\", marker='o')\n",
    "# sns.lineplot(data=results_df, x=\"Radius\", y=\"deepST Train Loss\", marker='o')\n",
    "sns.lineplot(data=results_df, x=\"Radius\", y=\"deepST Test Loss\", marker='o')\n",
    "\n",
    "ax = plt.gcf().gca()\n",
    "ax.annotate('$L_{LightGBM}(0) = ' + str(round(lightgbm_test[0], 4)) + '$' + '(minimum)', \n",
    "            xy=(0, lightgbm_test[0]),\n",
    "            xycoords='data',\n",
    "            xytext=(0.05, 1.2), \n",
    "            textcoords='axes fraction',\n",
    "            arrowprops=dict(facecolor='black', shrink=0.05),\n",
    "            horizontalalignment='right',\n",
    "            verticalalignment='top')\n",
    "\n",
    "ax.annotate('$L_{deepST}(0) = ' + str(round(deepST_test[0], 4)) + '$', \n",
    "            xy=(0, deepST_test[0]),\n",
    "            xycoords='data',\n",
    "            xytext=(-0.05, -0.2), \n",
    "            textcoords='axes fraction',\n",
    "            arrowprops=dict(facecolor='black', shrink=0.05),\n",
    "            horizontalalignment='right',\n",
    "            verticalalignment='top')\n",
    "\n",
    "ax.annotate('$L_{deepST}(60) = ' + str(round(deepST_test[60], 4)) + '$' + '(minimum)', \n",
    "            xy=(60, deepST_test[60]),\n",
    "            xycoords='data',\n",
    "            xytext=(1.6, -0.2), \n",
    "            textcoords='axes fraction',\n",
    "            arrowprops=dict(facecolor='black', shrink=0.05),\n",
    "            horizontalalignment='right',\n",
    "            verticalalignment='top')\n",
    "\n",
    "# plt.legend(labels=['LightGBM Train Loss', 'LightGBM Test Loss', 'deepST Train Loss', 'deepST Test Loss'], bbox_to_anchor=(1, 1))\n",
    "plt.legend(labels=['LightGBM Test Loss', 'deepST Test Loss'], bbox_to_anchor=(1, 1))\n",
    "\n",
    "_ = plt.show()"
   ]
  },
  {
   "cell_type": "code",
   "execution_count": 34,
   "id": "95bc07bc",
   "metadata": {},
   "outputs": [
    {
     "data": {
      "text/plain": [
       "-0.01730225630924422"
      ]
     },
     "execution_count": 34,
     "metadata": {},
     "output_type": "execute_result"
    }
   ],
   "source": [
    "(deepST_test[60] - deepST_test[0])/deepST_test[0]"
   ]
  },
  {
   "cell_type": "code",
   "execution_count": null,
   "id": "f13a2b79",
   "metadata": {},
   "outputs": [],
   "source": []
  }
 ],
 "metadata": {
  "kernelspec": {
   "display_name": "Python 3 (ipykernel)",
   "language": "python",
   "name": "python3"
  },
  "language_info": {
   "codemirror_mode": {
    "name": "ipython",
    "version": 3
   },
   "file_extension": ".py",
   "mimetype": "text/x-python",
   "name": "python",
   "nbconvert_exporter": "python",
   "pygments_lexer": "ipython3",
   "version": "3.8.10"
  }
 },
 "nbformat": 4,
 "nbformat_minor": 5
}
