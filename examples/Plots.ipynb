{
 "cells": [
  {
   "cell_type": "markdown",
   "id": "eaf7fdf6",
   "metadata": {},
   "source": [
    "# Figures 4 and 5"
   ]
  },
  {
   "cell_type": "code",
   "execution_count": 18,
   "id": "987335dc",
   "metadata": {},
   "outputs": [],
   "source": [
    "import pandas as pd\n",
    "import numpy as np\n",
    "import json\n",
    "from matplotlib import pyplot as plt\n",
    "import seaborn as sns"
   ]
  },
  {
   "cell_type": "code",
   "execution_count": 19,
   "id": "2429cce0",
   "metadata": {},
   "outputs": [],
   "source": [
    "with open(\"LightGBM_results_NO_celltype.json\", \"r\") as data:\n",
    "    lightgbm_results_wo_celltypes = json.load(data)\n",
    "    for k, v in lightgbm_results_wo_celltypes.items():\n",
    "        lightgbm_results_wo_celltypes[k] = np.mean(list(v.values()))\n",
    "    \n",
    "with open(\"0v60.json\", \"r\") as data:\n",
    "    deepST_results_wo_celltypes_by_gene = json.load(data)\n",
    "    deepST_results_wo_celltypes = {}\n",
    "    deepST_results_wo_celltypes[\"0\"] = np.mean([deepST_results_wo_celltypes_by_gene[\"5\"][x][\"base\"] for x in deepST_results_wo_celltypes_by_gene[\"5\"]])\n",
    "    for rad in range(5, 51, 5):\n",
    "        deepST_results_wo_celltypes[str(rad)] = np.mean([deepST_results_wo_celltypes_by_gene[str(rad)][x][\"spatial\"] for x in deepST_results_wo_celltypes_by_gene[str(rad)]])\n",
    "    \n",
    "with open(\"LightGBM_results.json\", \"r\") as data:\n",
    "    lightgbm_results_with_celltypes = json.load(data)\n",
    "    for k, v in lightgbm_results_with_celltypes.items():\n",
    "        lightgbm_results_with_celltypes[k] = np.mean(list(v.values()))\n",
    "\n",
    "with open(\"0v60_w_celltypes.json\", \"r\") as data:\n",
    "    deepST_results_w_celltypes_by_gene = json.load(data)\n",
    "    deepST_results_w_celltypes = {}\n",
    "    deepST_results_w_celltypes[\"0\"] = np.mean([deepST_results_w_celltypes_by_gene[str(rad)][x][\"base\"] for x in deepST_results_w_celltypes_by_gene[\"5\"]])\n",
    "    for rad in range(5, 51, 5):\n",
    "        deepST_results_w_celltypes[str(rad)] = np.mean([deepST_results_w_celltypes_by_gene[str(rad)][x][\"spatial\"] for x in deepST_results_w_celltypes_by_gene[str(rad)]])"
   ]
  },
  {
   "cell_type": "code",
   "execution_count": null,
   "id": "94328869",
   "metadata": {},
   "outputs": [],
   "source": [
    "# Create DataFrames for results without and with cell types\n",
    "lightgbm_results_wo_celltypes_df = pd.DataFrame(lightgbm_results_wo_celltypes.items(), columns=['Radius', 'w/o Celltypes Loss'])\n",
    "lightgbm_results_with_celltypes_df = pd.DataFrame(lightgbm_results_with_celltypes.items(), columns=['Radius', 'w/ Celltypes Loss'])\n",
    "deepST_results_wo_celltypes_df = pd.DataFrame(deepST_results_wo_celltypes.items(), columns=['Radius', 'w/o Celltypes Loss'])\n",
    "deepST_results_with_celltypes_df = pd.DataFrame(deepST_results_w_celltypes.items(), columns=['Radius', 'w/ Celltypes Loss'])\n",
    "\n",
    "# Combine DataFrames for plotting\n",
    "no_celltypes_df = pd.concat((lightgbm_results_wo_celltypes_df, deepST_results_wo_celltypes_df), axis=0)\n",
    "celltypes_df = pd.concat((lightgbm_results_with_celltypes_df, deepST_results_with_celltypes_df), axis=0)\n",
    "\n",
    "# Function to check if a value is an integer\n",
    "def is_int(n):\n",
    "    try:\n",
    "        int(n)  # Try to convert to int\n",
    "        return True\n",
    "    except ValueError:\n",
    "        return False  # Return False if conversion fails\n",
    "\n",
    "# Manually process no_celltypes_df\n",
    "no_celltypes_df[\"Method\"] = no_celltypes_df[\"Radius\"].apply(lambda x: x.split(' ')[0] if not is_int(x.split(' ')[0]) else \"DeepST\")\n",
    "no_celltypes_df[\"Radius\"] = no_celltypes_df[\"Radius\"].apply(lambda x: x.split(' ')[-1])\n",
    "no_celltypes_df = no_celltypes_df[no_celltypes_df['Radius'].astype(int) <= 50]\n",
    "\n",
    "# Manually process celltypes_df\n",
    "celltypes_df[\"Method\"] = celltypes_df[\"Radius\"].apply(lambda x: x.split(' ')[0] if not is_int(x.split(' ')[0]) else \"DeepST\")\n",
    "celltypes_df[\"Radius\"] = celltypes_df[\"Radius\"].apply(lambda x: x.split(' ')[-1])\n",
    "celltypes_df = celltypes_df[celltypes_df['Radius'].astype(int) <= 50]\n",
    "\n",
    "# Filter out 'OLS' method\n",
    "no_celltypes_df = no_celltypes_df[no_celltypes_df[\"Method\"] != \"OLS\"]\n",
    "\n",
    "# Set the plot style\n",
    "sns.set_theme(\"talk\")\n",
    "sns.set_style(\"whitegrid\")\n",
    "\n",
    "# Create the line plot\n",
    "sns.lineplot(data=no_celltypes_df, x=\"Radius\", y=\"w/o Celltypes Loss\", marker='o', hue=\"Method\", style=\"Method\", markers=[\"o\", \"s\", \"D\", \"^\", \"v\"])\n",
    "\n",
    "# Adjust legend and save the figure\n",
    "plt.legend(bbox_to_anchor=(1, 1))\n",
    "plt.rcParams['figure.dpi'] = 300\n",
    "plt.rcParams['savefig.dpi'] = 300\n",
    "plt.savefig('real_data_wo_celltypes.png', bbox_inches=\"tight\")"
   ]
  },
  {
   "cell_type": "code",
   "execution_count": null,
   "id": "b77416b0",
   "metadata": {},
   "outputs": [],
   "source": [
    "celltypes_df = celltypes_df[celltypes_df[\"Method\"] != \"OLS\"]\n",
    "\n",
    "sns.set_theme(\"talk\")\n",
    "sns.set_style(\"whitegrid\")\n",
    "# Create a line plot for each model with different markers\n",
    "sns.lineplot(data=celltypes_df, x=\"Radius\", y=\"w/ Celltypes Loss\", marker='o', hue=\"Method\", style=\"Method\", markers=[\"o\", \"s\", \"D\", \"^\", \"v\"])\n",
    "\n",
    "# Add a horizontal dashed line at y=0.3595\n",
    "plt.axhline(y=0.3595, color='purple', linestyle='--', label='MESSI')\n",
    "\n",
    "ax = plt.gcf().gca()\n",
    "\n",
    "plt.legend(bbox_to_anchor=(1, 1))\n",
    "# plt.legend(labels=['LightGBM Test Loss', 'deepST Test Loss'], bbox_to_anchor=(1, 1))\n",
    "\n",
    "plt.rcParams['figure.dpi'] = 300\n",
    "plt.rcParams['savefig.dpi'] = 300\n",
    "plt.savefig('real_data_WITH_celltypes.png', bbox_inches=\"tight\")"
   ]
  },
  {
   "cell_type": "markdown",
   "id": "904aaeb2-ea4a-431f-be27-d5b5fd62ab36",
   "metadata": {},
   "source": [
    "# Figure 6"
   ]
  },
  {
   "cell_type": "code",
   "execution_count": 22,
   "id": "cbd6ffa3-a0f5-4d9c-ab18-5d5684cd4a78",
   "metadata": {},
   "outputs": [],
   "source": [
    "response_indexes = [0,2,3,4,5,6,7,10,19,20,21,22,23,24,25,26,27,28,32,34,35,37,38,39,40,41,42,43,44,52,53,54,55,58,63,64,66,67,69,71,73,74,75,76,77,78,79,80,85,86,87,88,93,94,96,97,99,102,103,104,106,110,112,113,114,116,118,119,120,121,122,123,124,125,126,129,130,131,133,134,141,142,147,151]"
   ]
  },
  {
   "cell_type": "code",
   "execution_count": 23,
   "id": "4cd9e0ce-099e-4e88-aab1-0b4ce7ee01ad",
   "metadata": {},
   "outputs": [],
   "source": [
    "data = pd.read_csv(\"../data/raw/merfish.csv\")\n",
    "data = data.drop([\"Fos\", \"Blank_1\", \"Blank_2\", \"Blank_3\", \"Blank_4\", \"Blank_5\"], axis=1)\n",
    "data = data.iloc[:, 9:]"
   ]
  },
  {
   "cell_type": "code",
   "execution_count": null,
   "id": "6b2eb0b8-2101-4852-b2c7-363ccda0b23b",
   "metadata": {},
   "outputs": [],
   "source": [
    "import numpy as np\n",
    "import matplotlib.pyplot as plt\n",
    "import json\n",
    "\n",
    "with open(\"0v60.json\", \"r\") as file:\n",
    "    loss_dict = json.load(file)\n",
    "\n",
    "radius_values = list(range(0, 26, 5))\n",
    "genes = [data.columns[i] for i in response_indexes]\n",
    "\n",
    "loss_array = np.array([\n",
    "    [-loss_dict[str(rad)][gene][\"percent_diff\"] if rad != 0 else 0 for rad in radius_values] for gene in genes\n",
    "])\n",
    "\n",
    "# regenerate the loss array with gene filter\n",
    "THRESHOLD_ABS = 20\n",
    "THRESHOLD_MIN = 0\n",
    "genes = [genes[i] for i in range(len(genes)) if ( (sum([np.abs(x) for x in loss_array[i]]) > THRESHOLD_ABS) or sum(loss_array[i]) < THRESHOLD_MIN )]\n",
    "loss_array = np.array([\n",
    "    [-loss_dict[str(rad)][gene][\"percent_diff\"] if rad != 0 else 0 for rad in radius_values] for gene in genes\n",
    "])\n",
    "\n",
    "# Set the figure size based on the dimensions of your data\n",
    "cell_width = 2.5\n",
    "cell_height = 0.5\n",
    "fig, ax = plt.subplots(figsize=(cell_width*len(radius_values), cell_height*len(genes)))\n",
    "\n",
    "im = ax.imshow(loss_array, cmap='seismic', vmin=-np.max(np.abs(loss_array)), vmax=np.max(np.abs(loss_array)))\n",
    "\n",
    "# Add a colorbar for reference with adjusted fraction to make it thinner\n",
    "cbar = ax.figure.colorbar(im, ax=ax, fraction=0.05)\n",
    "cbar.ax.set_ylabel(\"% Loss Reduction\", fontsize=20, rotation=-90, va=\"bottom\")\n",
    "\n",
    "ax.set_xticks(np.arange(len(radius_values)))\n",
    "ax.set_xticklabels(list(radius_values))\n",
    "ax.set_yticks(np.arange(len(genes)))\n",
    "ax.set_yticklabels(genes)\n",
    "\n",
    "# Adjust font size\n",
    "ax.tick_params(axis='both', which='major', labelsize=10)\n",
    "\n",
    "plt.setp(ax.get_xticklabels(), rotation=45, ha=\"right\", rotation_mode=\"anchor\")\n",
    "\n",
    "# Dynamically adjust text color based on cell value and format the number to 2 decimal places\n",
    "for i in range(len(genes)):\n",
    "    for j in range(len(radius_values)):\n",
    "        if loss_array[i, j] < 0:  # If value is negative, use white text\n",
    "            text_color = 'red'\n",
    "        else:  # Otherwise, use black text\n",
    "            text_color = 'green'\n",
    "        text = ax.text(j, i, f\"{loss_array[i, j]:.2f}\",\n",
    "                       ha=\"center\", va=\"center\", color=text_color, fontsize=10)\n",
    "\n",
    "# ax.set_title(\"Predictions Across $r$ Values\", fontsize=25)\n",
    "# fig.tight_layout()\n",
    "plt.savefig(\"spatial_vertical.png\", dpi=600)\n",
    "plt.show()"
   ]
  },
  {
   "cell_type": "markdown",
   "id": "2d6f9b79-7621-44d5-a431-a70bcb2b3883",
   "metadata": {},
   "source": [
    "# Figure 7"
   ]
  },
  {
   "cell_type": "code",
   "execution_count": 25,
   "id": "acb25738-a4d6-43d2-8c3e-ad80a3162af1",
   "metadata": {},
   "outputs": [],
   "source": [
    "with open(\"0v60.json\", \"r\") as f:\n",
    "    loss_dict = json.load(f)"
   ]
  },
  {
   "cell_type": "code",
   "execution_count": 26,
   "id": "5775b474-e95f-4fe8-ae0f-4494f9b5486a",
   "metadata": {},
   "outputs": [],
   "source": [
    "percent_differences = [-loss_dict[\"25\"][x][\"percent_diff\"] for x in loss_dict[\"25\"]]"
   ]
  },
  {
   "cell_type": "code",
   "execution_count": null,
   "id": "c0e05e9e-13d4-4e66-8eba-c278d3daceeb",
   "metadata": {},
   "outputs": [],
   "source": [
    "plt.hist(percent_differences, bins=len(loss_dict[\"25\"]))\n",
    "plt.title(\"% Loss reduction in spatial model relative to baseline.\")\n",
    "plt.xlabel(\"Percent Reduction in Test Loss\")\n",
    "plt.annotate(\"Nnat\", xy=(39.5866-2, 1.25))\n",
    "plt.annotate(\"Mbp\", xy=(24.8099-1.3, 1.25))\n",
    "plt.savefig(\"0VSspatial.png\", dpi=300)\n",
    "plt.show()"
   ]
  },
  {
   "cell_type": "markdown",
   "id": "ca99a4ae-8a7a-4782-9f2e-b373034ba4d1",
   "metadata": {},
   "source": [
    "# Figure 8"
   ]
  },
  {
   "cell_type": "code",
   "execution_count": 28,
   "id": "d4d380f9-18b2-4566-8339-dd92bdb0d8b8",
   "metadata": {},
   "outputs": [],
   "source": [
    "with open('deepST_synthetic_results.json', 'r') as deepST:\n",
    "    test_loss_rad_dict = json.load(deepST)"
   ]
  },
  {
   "cell_type": "code",
   "execution_count": 29,
   "id": "37f85cbb-e197-416a-9685-555aa5494bac",
   "metadata": {},
   "outputs": [],
   "source": [
    "with open('LightGBM_synthetic_results.json', 'r') as linear:\n",
    "    linear_models_dict = json.load(linear)"
   ]
  },
  {
   "cell_type": "markdown",
   "id": "b3095760-8b7b-4c10-bc88-c28154190c92",
   "metadata": {},
   "source": [
    "# Figure 9"
   ]
  },
  {
   "cell_type": "code",
   "execution_count": null,
   "id": "ce3fc950-63aa-4a0f-9754-de7462fb25a7",
   "metadata": {},
   "outputs": [],
   "source": [
    "# create dataframe\n",
    "import pandas as pd\n",
    "\n",
    "# linear models + XGBoost\n",
    "data = pd.DataFrame(columns=['Model', 'Radius', 'Experiment #', 'L2 Loss'])\n",
    "for k,v in linear_models_dict.items():\n",
    "    k = k.split()\n",
    "    entry = pd.DataFrame.from_dict({\n",
    "        'Model': [k[0]],\n",
    "        'Radius': [int(k[1])],\n",
    "        'Experiment #': [k[2]],\n",
    "        'L2 Loss': [v]\n",
    "    })\n",
    "    data = pd.concat([data, entry], ignore_index=True)\n",
    "\n",
    "print(data)\n",
    "\n",
    "\n",
    "for k,v in test_loss_rad_dict.items():\n",
    "    try:\n",
    "        k = eval(k)\n",
    "        entry = pd.DataFrame.from_dict({\n",
    "            'Model': 'deepST',\n",
    "            'Radius': [int(k[0])],\n",
    "            'Experiment #': [str(k[1])],\n",
    "            'L2 Loss': [min(v.values())]\n",
    "        })\n",
    "        data = pd.concat([data, entry], ignore_index=True)\n",
    "    #nonlinear case\n",
    "    except (AttributeError, ValueError):\n",
    "        entry = pd.DataFrame.from_dict({\n",
    "            'Model': 'deepST',\n",
    "            'Radius': [int(k[0])],\n",
    "            'Experiment #': [str(k[1])],\n",
    "            'L2 Loss': [v]\n",
    "        })\n",
    "        data = pd.concat([data, entry], ignore_index=True)\n",
    "        \n",
    "\n",
    "data[data[\"Model\"] == \"deepST\"]"
   ]
  },
  {
   "cell_type": "code",
   "execution_count": null,
   "id": "ec8caeca-565b-4660-be9e-791a4689e0a9",
   "metadata": {},
   "outputs": [],
   "source": [
    "EXPERIMENT_NUM = \"1\"\n",
    "\n",
    "# Set styles before plotting\n",
    "plt.rcParams['font.family'] = 'DejaVu Sans'\n",
    "sns.set(rc={\"lines.linewidth\": 0.7})\n",
    "\n",
    "# Create pointplot for all but the specific model\n",
    "model_to_highlight = \"LightGBM\"\n",
    "new_data = data[(data['Experiment #'] == EXPERIMENT_NUM) & ((data[\"Model\"] != \"OLS\") & (data[\"Model\"] != \"Ridge\") & (data['Model'] != model_to_highlight))]\n",
    "synth_results = sns.pointplot(x='Radius', y='L2 Loss', hue='Model', data=new_data)\n",
    "\n",
    "# Set the y-limits\n",
    "synth_results.set_ylim(bottom=0, top=1.25*max(new_data[\"L2 Loss\"]))\n",
    "\n",
    "# Label and title configurations\n",
    "synth_results.set_xlabel(\"Radius\", fontsize=20)\n",
    "synth_results.set_ylabel(\"MSE Loss\", fontsize=20)\n",
    "\n",
    "# Create pointplot just for the specific model to highlight\n",
    "highlight_data = data[(data['Model'] == model_to_highlight) & (data['Experiment #'] == EXPERIMENT_NUM)]\n",
    "sns.pointplot(x='Radius', y='L2 Loss', hue='Model', data=highlight_data, markers=[\"D\"], linestyles=[\"--\"], color=\"red\", dodge=0.2)  # Use different markers and linestyles for emphasis if you like\n",
    "\n",
    "# Save the plot\n",
    "plt.savefig(f'synthetic{EXPERIMENT_NUM}.png', dpi=300, bbox_inches='tight')"
   ]
  },
  {
   "cell_type": "code",
   "execution_count": null,
   "id": "588d1923-c8b3-4805-952e-21dafc011434",
   "metadata": {},
   "outputs": [],
   "source": [
    "EXPERIMENT_NUM = \"Nonlinear\"\n",
    "\n",
    "# Set styles before plotting\n",
    "plt.rcParams['font.family'] = 'DejaVu Sans'\n",
    "sns.set(rc={\"lines.linewidth\": 0.7})\n",
    "\n",
    "# Create pointplot for all but the specific model\n",
    "model_to_highlight = \"LightGBM\"\n",
    "new_data = data[(data['Experiment #'] == EXPERIMENT_NUM) & ((data[\"Model\"] != \"OLS\") & (data[\"Model\"] != \"Ridge\") & (data['Model'] != model_to_highlight))]\n",
    "synth_results = sns.pointplot(x='Radius', y='L2 Loss', hue='Model', data=new_data)\n",
    "\n",
    "# Set the y-limits\n",
    "synth_results.set_ylim(bottom=0, top=1.25*max(new_data[\"L2 Loss\"]))\n",
    "\n",
    "# Label and title configurations\n",
    "synth_results.set_xlabel(\"Radius\", fontsize=20)\n",
    "synth_results.set_ylabel(\"MSE Loss\", fontsize=20)\n",
    "\n",
    "# Create pointplot just for the specific model to highlight\n",
    "highlight_data = data[(data['Model'] == model_to_highlight) & (data['Experiment #'] == EXPERIMENT_NUM)]\n",
    "sns.pointplot(x='Radius', y='L2 Loss', hue='Model', data=highlight_data, markers=[\"D\"], linestyles=[\"--\"], color=\"red\", dodge=0.2)  # Use different markers and linestyles for emphasis if you like\n",
    "\n",
    "# Save the plot\n",
    "plt.savefig(f'synthetic{EXPERIMENT_NUM}.png', dpi=300, bbox_inches='tight')"
   ]
  },
  {
   "cell_type": "code",
   "execution_count": null,
   "id": "bb01b36d",
   "metadata": {},
   "outputs": [],
   "source": []
  }
 ],
 "metadata": {
  "kernelspec": {
   "display_name": "spatial-G_n0JvVf-py3.10",
   "language": "python",
   "name": "python3"
  },
  "language_info": {
   "codemirror_mode": {
    "name": "ipython",
    "version": 3
   },
   "file_extension": ".py",
   "mimetype": "text/x-python",
   "name": "python",
   "nbconvert_exporter": "python",
   "pygments_lexer": "ipython3",
   "version": "3.10.12"
  }
 },
 "nbformat": 4,
 "nbformat_minor": 5
}
