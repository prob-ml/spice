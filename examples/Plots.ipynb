{
 "cells": [
  {
   "cell_type": "markdown",
   "id": "eaf7fdf6",
   "metadata": {},
   "source": [
    "# Results of Excitatory Cell Expressions for Female Naive Animals"
   ]
  },
  {
   "cell_type": "code",
   "execution_count": 1,
   "id": "987335dc",
   "metadata": {},
   "outputs": [],
   "source": [
    "import pandas as pd\n",
    "import numpy as np\n",
    "import json\n",
    "from matplotlib import pyplot as plt\n",
    "import seaborn as sns"
   ]
  },
  {
   "cell_type": "code",
   "execution_count": 2,
   "id": "83a6cd2f",
   "metadata": {},
   "outputs": [],
   "source": [
    "deepST_excitatory = json.load(open('deepST_MAE_excitatory.json'))"
   ]
  },
  {
   "cell_type": "code",
   "execution_count": 3,
   "id": "22b93c64",
   "metadata": {},
   "outputs": [],
   "source": [
    "deepST_excitatory_values = [deepST_excitatory[\"['Female']_['Naive']_\" + str(i)] for i in range(1,5)] # female naive animals are 1,2,3,4"
   ]
  },
  {
   "cell_type": "code",
   "execution_count": 4,
   "id": "abeb89fd",
   "metadata": {},
   "outputs": [
    {
     "data": {
      "text/plain": [
       "[0.2164319008588791,\n",
       " 0.21149316430091858,\n",
       " 0.2190682291984558,\n",
       " 0.22254815697669983]"
      ]
     },
     "execution_count": 4,
     "metadata": {},
     "output_type": "execute_result"
    }
   ],
   "source": [
    "deepST_excitatory_values"
   ]
  },
  {
   "cell_type": "code",
   "execution_count": 5,
   "id": "188108f3",
   "metadata": {},
   "outputs": [],
   "source": [
    "MESSI_excitatory = json.load(open('../../MESSI/tutorials/MAE_excitatory.json'))"
   ]
  },
  {
   "cell_type": "code",
   "execution_count": 6,
   "id": "b922bd35",
   "metadata": {},
   "outputs": [],
   "source": [
    "MESSI_excitatory_values = [MESSI_excitatory[\"Female_Naive_\" + str(i)] for i in range(1,5)]"
   ]
  },
  {
   "cell_type": "code",
   "execution_count": 7,
   "id": "02661185",
   "metadata": {
    "scrolled": false
   },
   "outputs": [
    {
     "data": {
      "text/plain": [
       "[0.3801549566526585,\n",
       " 0.37628800688371333,\n",
       " 0.37287921379680466,\n",
       " 0.3751875515301305]"
      ]
     },
     "execution_count": 7,
     "metadata": {},
     "output_type": "execute_result"
    }
   ],
   "source": [
    "MESSI_excitatory_values"
   ]
  },
  {
   "cell_type": "code",
   "execution_count": 8,
   "id": "5f372d7f",
   "metadata": {
    "scrolled": true
   },
   "outputs": [
    {
     "name": "stdout",
     "output_type": "stream",
     "text": [
      "     deepST     MESSI\n",
      "0  0.216432  0.380155\n",
      "1  0.211493  0.376288\n",
      "2  0.219068  0.372879\n",
      "3  0.222548  0.375188\n"
     ]
    },
    {
     "data": {
      "image/png": "[encoded data removed]",
      "text/plain": [
       "<Figure size 432x288 with 1 Axes>"
      ]
     },
     "metadata": {
      "needs_background": "light"
     },
     "output_type": "display_data"
    }
   ],
   "source": [
    "# create a DataFrame\n",
    "df_deepST = pd.DataFrame({'deepST': deepST_excitatory_values})\n",
    "df_MESSI = pd.DataFrame({'MESSI': MESSI_excitatory_values})\n",
    "\n",
    "df = pd.concat([df_deepST, df_MESSI], axis=1)\n",
    "print(df)\n",
    "\n",
    "# create plot\n",
    "ax = sns.boxplot(data=df)\n",
    "\n",
    "# show plot\n",
    "plt.show()"
   ]
  },
  {
   "cell_type": "markdown",
   "id": "5ad2da45",
   "metadata": {},
   "source": [
    "# Results of Inhibitory Cell Expressions for Female Naive Animals"
   ]
  },
  {
   "cell_type": "code",
   "execution_count": 9,
   "id": "124f0249",
   "metadata": {},
   "outputs": [],
   "source": [
    "import pandas as pd\n",
    "import numpy as np\n",
    "import json\n",
    "from matplotlib import pyplot as plt\n",
    "import seaborn as sns"
   ]
  },
  {
   "cell_type": "code",
   "execution_count": 10,
   "id": "45bcfecd",
   "metadata": {},
   "outputs": [],
   "source": [
    "deepST_inhibitory = json.load(open('deepST_MAE_inhibitory.json'))"
   ]
  },
  {
   "cell_type": "code",
   "execution_count": 11,
   "id": "03b992a7",
   "metadata": {},
   "outputs": [],
   "source": [
    "deepST_inhibitory_values = [deepST_inhibitory[\"['Female']_['Naive']_\" + str(i)] for i in range(1,5)] # female naive animals are 1,2,3,4"
   ]
  },
  {
   "cell_type": "code",
   "execution_count": 12,
   "id": "3436979d",
   "metadata": {},
   "outputs": [
    {
     "data": {
      "text/plain": [
       "[0.2183038592338562,\n",
       " 0.21380670368671417,\n",
       " 0.21894153952598572,\n",
       " 0.22427287697792053]"
      ]
     },
     "execution_count": 12,
     "metadata": {},
     "output_type": "execute_result"
    }
   ],
   "source": [
    "deepST_inhibitory_values"
   ]
  },
  {
   "cell_type": "code",
   "execution_count": 13,
   "id": "5e191561",
   "metadata": {},
   "outputs": [],
   "source": [
    "MESSI_inhibitory = json.load(open('../../MESSI/tutorials/MAE_inhibitory.json'))"
   ]
  },
  {
   "cell_type": "code",
   "execution_count": 14,
   "id": "7c6521cd",
   "metadata": {},
   "outputs": [],
   "source": [
    "MESSI_inhibitory_values = [MESSI_inhibitory[\"Female_Naive_\" + str(i)] for i in range(1,5)]"
   ]
  },
  {
   "cell_type": "code",
   "execution_count": 15,
   "id": "3889f74a",
   "metadata": {
    "scrolled": false
   },
   "outputs": [
    {
     "data": {
      "text/plain": [
       "[0.38851713994478304,\n",
       " 0.3816401350119967,\n",
       " 0.36824040775225103,\n",
       " 0.3915513018391496]"
      ]
     },
     "execution_count": 15,
     "metadata": {},
     "output_type": "execute_result"
    }
   ],
   "source": [
    "MESSI_inhibitory_values"
   ]
  },
  {
   "cell_type": "code",
   "execution_count": 16,
   "id": "d347d278",
   "metadata": {},
   "outputs": [
    {
     "name": "stdout",
     "output_type": "stream",
     "text": [
      "     deepST     MESSI\n",
      "0  0.218304  0.388517\n",
      "1  0.213807  0.381640\n",
      "2  0.218942  0.368240\n",
      "3  0.224273  0.391551\n"
     ]
    },
    {
     "data": {
      "image/png": "[encoded data removed]",
      "text/plain": [
       "<Figure size 432x288 with 1 Axes>"
      ]
     },
     "metadata": {
      "needs_background": "light"
     },
     "output_type": "display_data"
    }
   ],
   "source": [
    "# create a DataFrame\n",
    "df_deepST = pd.DataFrame({'deepST': deepST_inhibitory_values})\n",
    "df_MESSI = pd.DataFrame({'MESSI': MESSI_inhibitory_values})\n",
    "\n",
    "df = pd.concat([df_deepST, df_MESSI], axis=1)\n",
    "print(df)\n",
    "\n",
    "# create plot\n",
    "ax = sns.boxplot(data=df)\n",
    "\n",
    "# show plot\n",
    "plt.show()"
   ]
  },
  {
   "cell_type": "markdown",
   "id": "749a12ca",
   "metadata": {},
   "source": [
    "#### Boxplot Throwaway Code for Later"
   ]
  },
  {
   "cell_type": "code",
   "execution_count": 59,
   "id": "fb5f4a05",
   "metadata": {},
   "outputs": [
    {
     "name": "stdout",
     "output_type": "stream",
     "text": [
      "   Trial Number     value\n",
      "0      1      1  0.208378\n",
      "1      2      1  0.380155\n",
      "2      1      2  0.201172\n",
      "3      2      2  0.376288\n",
      "4      1      3  0.219608\n"
     ]
    },
    {
     "data": {
      "image/png": "[encoded data removed]",
      "text/plain": [
       "<Figure size 432x288 with 1 Axes>"
      ]
     },
     "metadata": {
      "needs_background": "light"
     },
     "output_type": "display_data"
    }
   ],
   "source": [
    "# DATAFRAMES WITH TRIAL COLUMN ASSIGNED\n",
    "df1 = pd.DataFrame(np.array(deepST_excitatory_values).reshape(1,-1), columns=list(range(1,5))).assign(Trial=1)\n",
    "df2 = pd.DataFrame(np.array(MESSI_excitatory_values).reshape(1,-1), columns=list(range(1,5))).assign(Trial=2)\n",
    "# df3 = pd.DataFrame(np.random.randn(4,4), columns=list(range(1,5))).assign(Trial=3)\n",
    "\n",
    "cdf = pd.concat([df1, df2])                                # CONCATENATE\n",
    "mdf = pd.melt(cdf, id_vars=['Trial'], var_name=['Number'])      # MELT\n",
    "\n",
    "print(mdf.head())\n",
    "#    Trial Number     value\n",
    "# 0      1      1 -0.750615\n",
    "# 1      1      1 -1.715070\n",
    "# 2      1      1 -0.963404\n",
    "# 3      1      1  0.360856\n",
    "# 4      1      1 -1.190504\n",
    "\n",
    "ax = sns.boxplot(x=\"Trial\", y=\"value\", hue=\"Number\", data=mdf)  # RUN PLOT   \n",
    "plt.show()\n",
    "\n",
    "plt.clf()\n",
    "plt.close()"
   ]
  },
  {
   "cell_type": "code",
   "execution_count": 42,
   "id": "cc41b8e3",
   "metadata": {},
   "outputs": [
    {
     "data": {
      "text/html": [
       "<div>\n",
       "<style scoped>\n",
       "    .dataframe tbody tr th:only-of-type {\n",
       "        vertical-align: middle;\n",
       "    }\n",
       "\n",
       "    .dataframe tbody tr th {\n",
       "        vertical-align: top;\n",
       "    }\n",
       "\n",
       "    .dataframe thead th {\n",
       "        text-align: right;\n",
       "    }\n",
       "</style>\n",
       "<table border=\"1\" class=\"dataframe\">\n",
       "  <thead>\n",
       "    <tr style=\"text-align: right;\">\n",
       "      <th></th>\n",
       "      <th>1</th>\n",
       "      <th>2</th>\n",
       "      <th>3</th>\n",
       "      <th>4</th>\n",
       "      <th>5</th>\n",
       "      <th>Trial</th>\n",
       "    </tr>\n",
       "  </thead>\n",
       "  <tbody>\n",
       "    <tr>\n",
       "      <th>0</th>\n",
       "      <td>-2.574411</td>\n",
       "      <td>0.304598</td>\n",
       "      <td>1.892478</td>\n",
       "      <td>1.016249</td>\n",
       "      <td>-0.043740</td>\n",
       "      <td>1</td>\n",
       "    </tr>\n",
       "    <tr>\n",
       "      <th>1</th>\n",
       "      <td>-1.157576</td>\n",
       "      <td>-0.395647</td>\n",
       "      <td>-0.670122</td>\n",
       "      <td>0.319786</td>\n",
       "      <td>-0.295581</td>\n",
       "      <td>1</td>\n",
       "    </tr>\n",
       "    <tr>\n",
       "      <th>2</th>\n",
       "      <td>0.407370</td>\n",
       "      <td>-0.444789</td>\n",
       "      <td>-1.390877</td>\n",
       "      <td>1.675611</td>\n",
       "      <td>-1.380627</td>\n",
       "      <td>1</td>\n",
       "    </tr>\n",
       "    <tr>\n",
       "      <th>3</th>\n",
       "      <td>-1.276758</td>\n",
       "      <td>-0.776060</td>\n",
       "      <td>-0.593264</td>\n",
       "      <td>0.755448</td>\n",
       "      <td>0.360841</td>\n",
       "      <td>1</td>\n",
       "    </tr>\n",
       "    <tr>\n",
       "      <th>4</th>\n",
       "      <td>-0.493166</td>\n",
       "      <td>0.476000</td>\n",
       "      <td>2.204158</td>\n",
       "      <td>0.366667</td>\n",
       "      <td>0.214712</td>\n",
       "      <td>1</td>\n",
       "    </tr>\n",
       "    <tr>\n",
       "      <th>0</th>\n",
       "      <td>0.706339</td>\n",
       "      <td>-0.903900</td>\n",
       "      <td>2.795468</td>\n",
       "      <td>1.516808</td>\n",
       "      <td>-0.571381</td>\n",
       "      <td>2</td>\n",
       "    </tr>\n",
       "    <tr>\n",
       "      <th>1</th>\n",
       "      <td>0.559225</td>\n",
       "      <td>-2.098771</td>\n",
       "      <td>0.326304</td>\n",
       "      <td>0.002096</td>\n",
       "      <td>0.382765</td>\n",
       "      <td>2</td>\n",
       "    </tr>\n",
       "    <tr>\n",
       "      <th>2</th>\n",
       "      <td>-0.651914</td>\n",
       "      <td>1.086213</td>\n",
       "      <td>-0.943874</td>\n",
       "      <td>1.196011</td>\n",
       "      <td>-0.415406</td>\n",
       "      <td>2</td>\n",
       "    </tr>\n",
       "    <tr>\n",
       "      <th>3</th>\n",
       "      <td>-1.856418</td>\n",
       "      <td>-0.500294</td>\n",
       "      <td>1.785721</td>\n",
       "      <td>-1.637327</td>\n",
       "      <td>-1.078809</td>\n",
       "      <td>2</td>\n",
       "    </tr>\n",
       "    <tr>\n",
       "      <th>4</th>\n",
       "      <td>0.319484</td>\n",
       "      <td>-1.001783</td>\n",
       "      <td>-0.456294</td>\n",
       "      <td>-0.810443</td>\n",
       "      <td>0.633947</td>\n",
       "      <td>2</td>\n",
       "    </tr>\n",
       "    <tr>\n",
       "      <th>0</th>\n",
       "      <td>-0.259976</td>\n",
       "      <td>1.197092</td>\n",
       "      <td>-1.638289</td>\n",
       "      <td>1.428689</td>\n",
       "      <td>0.768558</td>\n",
       "      <td>3</td>\n",
       "    </tr>\n",
       "    <tr>\n",
       "      <th>1</th>\n",
       "      <td>0.172605</td>\n",
       "      <td>0.382313</td>\n",
       "      <td>-0.508246</td>\n",
       "      <td>-0.973837</td>\n",
       "      <td>1.708339</td>\n",
       "      <td>3</td>\n",
       "    </tr>\n",
       "    <tr>\n",
       "      <th>2</th>\n",
       "      <td>-0.142748</td>\n",
       "      <td>-1.192355</td>\n",
       "      <td>0.420416</td>\n",
       "      <td>0.210563</td>\n",
       "      <td>0.793615</td>\n",
       "      <td>3</td>\n",
       "    </tr>\n",
       "    <tr>\n",
       "      <th>3</th>\n",
       "      <td>-0.494472</td>\n",
       "      <td>-0.924122</td>\n",
       "      <td>-1.125311</td>\n",
       "      <td>-1.097983</td>\n",
       "      <td>0.658224</td>\n",
       "      <td>3</td>\n",
       "    </tr>\n",
       "    <tr>\n",
       "      <th>4</th>\n",
       "      <td>0.448532</td>\n",
       "      <td>0.836438</td>\n",
       "      <td>0.438322</td>\n",
       "      <td>-0.549414</td>\n",
       "      <td>2.327495</td>\n",
       "      <td>3</td>\n",
       "    </tr>\n",
       "  </tbody>\n",
       "</table>\n",
       "</div>"
      ],
      "text/plain": [
       "          1         2         3         4         5  Trial\n",
       "0 -2.574411  0.304598  1.892478  1.016249 -0.043740      1\n",
       "1 -1.157576 -0.395647 -0.670122  0.319786 -0.295581      1\n",
       "2  0.407370 -0.444789 -1.390877  1.675611 -1.380627      1\n",
       "3 -1.276758 -0.776060 -0.593264  0.755448  0.360841      1\n",
       "4 -0.493166  0.476000  2.204158  0.366667  0.214712      1\n",
       "0  0.706339 -0.903900  2.795468  1.516808 -0.571381      2\n",
       "1  0.559225 -2.098771  0.326304  0.002096  0.382765      2\n",
       "2 -0.651914  1.086213 -0.943874  1.196011 -0.415406      2\n",
       "3 -1.856418 -0.500294  1.785721 -1.637327 -1.078809      2\n",
       "4  0.319484 -1.001783 -0.456294 -0.810443  0.633947      2\n",
       "0 -0.259976  1.197092 -1.638289  1.428689  0.768558      3\n",
       "1  0.172605  0.382313 -0.508246 -0.973837  1.708339      3\n",
       "2 -0.142748 -1.192355  0.420416  0.210563  0.793615      3\n",
       "3 -0.494472 -0.924122 -1.125311 -1.097983  0.658224      3\n",
       "4  0.448532  0.836438  0.438322 -0.549414  2.327495      3"
      ]
     },
     "execution_count": 42,
     "metadata": {},
     "output_type": "execute_result"
    }
   ],
   "source": [
    "cdf"
   ]
  },
  {
   "cell_type": "code",
   "execution_count": null,
   "id": "94328869",
   "metadata": {},
   "outputs": [],
   "source": []
  }
 ],
 "metadata": {
  "kernelspec": {
   "display_name": "Python 3 (ipykernel)",
   "language": "python",
   "name": "python3"
  },
  "language_info": {
   "codemirror_mode": {
    "name": "ipython",
    "version": 3
   },
   "file_extension": ".py",
   "mimetype": "text/x-python",
   "name": "python",
   "nbconvert_exporter": "python",
   "pygments_lexer": "ipython3",
   "version": "3.8.10"
  }
 },
 "nbformat": 4,
 "nbformat_minor": 5
}
