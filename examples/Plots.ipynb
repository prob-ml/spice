{
 "cells": [
  {
   "cell_type": "markdown",
   "id": "eaf7fdf6",
   "metadata": {},
   "source": [
    "# Results of Excitatory Cell Expressions for Female Naive Animals"
   ]
  },
  {
   "cell_type": "code",
   "execution_count": 106,
   "id": "987335dc",
   "metadata": {},
   "outputs": [],
   "source": [
    "import pandas as pd\n",
    "import numpy as np\n",
    "import json\n",
    "from matplotlib import pyplot as plt\n",
    "import seaborn as sns"
   ]
  },
  {
   "cell_type": "code",
   "execution_count": 107,
   "id": "83a6cd2f",
   "metadata": {},
   "outputs": [],
   "source": [
    "deepST_excitatory = json.load(open('deepST_MAE_excitatory.json'))"
   ]
  },
  {
   "cell_type": "code",
   "execution_count": 108,
   "id": "22b93c64",
   "metadata": {},
   "outputs": [],
   "source": [
    "deepST_excitatory_values = [deepST_excitatory[\"['Female']_['Naive']_\" + str(i)] for i in range(1,5)] # female naive animals are 1,2,3,4"
   ]
  },
  {
   "cell_type": "code",
   "execution_count": 109,
   "id": "abeb89fd",
   "metadata": {},
   "outputs": [
    {
     "data": {
      "text/plain": [
       "[0.3569185733795166,\n",
       " 0.35787373781204224,\n",
       " 0.3585347831249237,\n",
       " 0.35235148668289185]"
      ]
     },
     "execution_count": 109,
     "metadata": {},
     "output_type": "execute_result"
    }
   ],
   "source": [
    "deepST_excitatory_values"
   ]
  },
  {
   "cell_type": "code",
   "execution_count": 110,
   "id": "e4d6e8a3",
   "metadata": {},
   "outputs": [],
   "source": [
    "deepST_excitatory_ligandsOnly = json.load(open('deepST_MAE_excitatory_ligandsOnly.json'))"
   ]
  },
  {
   "cell_type": "code",
   "execution_count": 111,
   "id": "f744b4ef",
   "metadata": {},
   "outputs": [],
   "source": [
    "deepST_excitatory_values_ligandsOnly = [deepST_excitatory_ligandsOnly[\"['Female']_['Naive']_\" + str(i)] for i in range(1,5)] # female naive animals are 1,2,3,4"
   ]
  },
  {
   "cell_type": "code",
   "execution_count": 112,
   "id": "2631036d",
   "metadata": {},
   "outputs": [
    {
     "data": {
      "text/plain": [
       "[0.3696116507053375,\n",
       " 0.3599299490451813,\n",
       " 0.36921268701553345,\n",
       " 0.36949148774147034]"
      ]
     },
     "execution_count": 112,
     "metadata": {},
     "output_type": "execute_result"
    }
   ],
   "source": [
    "deepST_excitatory_values_ligandsOnly"
   ]
  },
  {
   "cell_type": "code",
   "execution_count": 113,
   "id": "188108f3",
   "metadata": {},
   "outputs": [],
   "source": [
    "MESSI_excitatory = json.load(open('../../MESSI/tutorials/MAE_excitatory.json'))"
   ]
  },
  {
   "cell_type": "code",
   "execution_count": 114,
   "id": "b922bd35",
   "metadata": {},
   "outputs": [],
   "source": [
    "MESSI_excitatory_values = [MESSI_excitatory[\"Female_Naive_\" + str(i)] for i in range(1,5)]"
   ]
  },
  {
   "cell_type": "code",
   "execution_count": 115,
   "id": "02661185",
   "metadata": {
    "scrolled": false
   },
   "outputs": [
    {
     "data": {
      "text/plain": [
       "[0.3801549566526585,\n",
       " 0.37628800688371333,\n",
       " 0.37287921379680466,\n",
       " 0.3751875515301305]"
      ]
     },
     "execution_count": 115,
     "metadata": {},
     "output_type": "execute_result"
    }
   ],
   "source": [
    "MESSI_excitatory_values"
   ]
  },
  {
   "cell_type": "code",
   "execution_count": 116,
   "id": "07238a38",
   "metadata": {},
   "outputs": [],
   "source": [
    "XGBoost_excitatory = json.load(open('XGBoost_MAE_excitatory.json'))"
   ]
  },
  {
   "cell_type": "code",
   "execution_count": 117,
   "id": "7870f300",
   "metadata": {},
   "outputs": [],
   "source": [
    "XGBoost_excitatory_values = [XGBoost_excitatory[\"['Female']_['Naive']_\" + str(i)] for i in range(1,5)] # female naive animals are 1,2,3,4"
   ]
  },
  {
   "cell_type": "code",
   "execution_count": 118,
   "id": "7f5d0184",
   "metadata": {},
   "outputs": [
    {
     "data": {
      "text/plain": [
       "[0.38919976353645325,\n",
       " 0.38447484374046326,\n",
       " 0.37682753801345825,\n",
       " 0.3889421224594116]"
      ]
     },
     "execution_count": 118,
     "metadata": {},
     "output_type": "execute_result"
    }
   ],
   "source": [
    "XGBoost_excitatory_values"
   ]
  },
  {
   "cell_type": "code",
   "execution_count": 119,
   "id": "5f372d7f",
   "metadata": {
    "scrolled": true
   },
   "outputs": [
    {
     "name": "stdout",
     "output_type": "stream",
     "text": [
      "     deepST  deepST Ligands     MESSI   XGBoost\n",
      "0  0.356919        0.369612  0.380155  0.389200\n",
      "1  0.357874        0.359930  0.376288  0.384475\n",
      "2  0.358535        0.369213  0.372879  0.376828\n",
      "3  0.352351        0.369491  0.375188  0.388942\n"
     ]
    },
    {
     "data": {
      "image/png": "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\n",
      "text/plain": [
       "<Figure size 432x288 with 1 Axes>"
      ]
     },
     "metadata": {
      "needs_background": "light"
     },
     "output_type": "display_data"
    }
   ],
   "source": [
    "# create a DataFrame\n",
    "df_deepST = pd.DataFrame({'deepST': deepST_excitatory_values})\n",
    "df_MESSI = pd.DataFrame({'MESSI': MESSI_excitatory_values})\n",
    "df_XGBoost = pd.DataFrame({'XGBoost': XGBoost_excitatory_values})\n",
    "df_deepST_ligandsOnly = pd.DataFrame({'deepST Ligands': deepST_excitatory_values_ligandsOnly})\n",
    "\n",
    "df = pd.concat([df_deepST, df_deepST_ligandsOnly, df_MESSI, df_XGBoost], axis=1)\n",
    "print(df)\n",
    "\n",
    "# create plot\n",
    "ax = sns.boxplot(data=df)\n",
    "\n",
    "# show plot\n",
    "plt.show()"
   ]
  },
  {
   "cell_type": "markdown",
   "id": "5ad2da45",
   "metadata": {},
   "source": [
    "# Results of Inhibitory Cell Expressions for Female Naive Animals"
   ]
  },
  {
   "cell_type": "code",
   "execution_count": 97,
   "id": "124f0249",
   "metadata": {},
   "outputs": [],
   "source": [
    "import pandas as pd\n",
    "import numpy as np\n",
    "import json\n",
    "from matplotlib import pyplot as plt\n",
    "import seaborn as sns"
   ]
  },
  {
   "cell_type": "code",
   "execution_count": 98,
   "id": "45bcfecd",
   "metadata": {},
   "outputs": [],
   "source": [
    "deepST_inhibitory = json.load(open('deepST_MAE_inhibitory.json'))"
   ]
  },
  {
   "cell_type": "code",
   "execution_count": 99,
   "id": "03b992a7",
   "metadata": {},
   "outputs": [],
   "source": [
    "deepST_inhibitory_values = [deepST_inhibitory[\"['Female']_['Naive']_\" + str(i)] for i in range(1,5)] # female naive animals are 1,2,3,4"
   ]
  },
  {
<<<<<<< HEAD
   "cell_type": "code",
=======
   "cell_type": "code"
>>>>>>> d05f3e6a9ed00dd165888b784435407973a3b3a9
   "execution_count": 100,
   "id": "3436979d",
   "metadata": {},
   "outputs": [
    {
     "data": {
      "text/plain": [
       "[0.3618801534175873,\n",
       " 0.3553224503993988,\n",
       " 0.34245067834854126,\n",
       " 0.3655047118663788]"
      ]
     },
     "execution_count": 100,
     "metadata": {},
     "output_type": "execute_result"
    }
   ],
   "source": [
    "deepST_inhibitory_values"
   ]
  },
  {
   "cell_type": "code",
   "execution_count": 101,
   "id": "5e191561",
   "metadata": {},
   "outputs": [],
   "source": [
    "MESSI_inhibitory = json.load(open('../../MESSI/tutorials/MAE_inhibitory.json'))"
   ]
  },
  {
   "cell_type": "code",
   "execution_count": 102,
   "id": "7c6521cd",
   "metadata": {},
   "outputs": [],
   "source": [
    "MESSI_inhibitory_values = [MESSI_inhibitory[\"Female_Naive_\" + str(i)] for i in range(1,5)]"
   ]
  },
  {
   "cell_type": "code",
   "execution_count": 103,
   "id": "3889f74a",
   "metadata": {
    "scrolled": false
   },
   "outputs": [
    {
     "data": {
      "text/plain": [
       "[0.38851713994478304,\n",
       " 0.3816401350119967,\n",
       " 0.36824040775225103,\n",
       " 0.3915513018391496]"
      ]
     },
     "execution_count": 103,
     "metadata": {},
     "output_type": "execute_result"
    }
   ],
   "source": [
    "MESSI_inhibitory_values"
   ]
  },
  {
   "cell_type": "code",
   "execution_count": 104,
   "id": "d347d278",
   "metadata": {},
   "outputs": [
    {
     "name": "stdout",
     "output_type": "stream",
     "text": [
      "     deepST     MESSI\n",
      "0  0.361880  0.388517\n",
      "1  0.355322  0.381640\n",
      "2  0.342451  0.368240\n",
      "3  0.365505  0.391551\n"
     ]
    },
    {
     "data": {
      "image/png": "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\n",
      "text/plain": [
       "<Figure size 432x288 with 1 Axes>"
      ]
     },
     "metadata": {
      "needs_background": "light"
     },
     "output_type": "display_data"
    }
   ],
   "source": [
    "# create a DataFrame\n",
    "df_deepST = pd.DataFrame({'deepST': deepST_inhibitory_values})\n",
    "df_MESSI = pd.DataFrame({'MESSI': MESSI_inhibitory_values})\n",
    "\n",
    "df = pd.concat([df_deepST, df_MESSI], axis=1)\n",
    "print(df)\n",
    "\n",
    "# create plot\n",
    "ax = sns.boxplot(data=df)\n",
    "\n",
    "# show plot\n",
    "plt.show()"
   ]
  },
  {
   "cell_type": "markdown",
   "id": "749a12ca",
   "metadata": {},
   "source": [
    "#### Boxplot Throwaway Code for Later"
   ]
  },
  {
   "cell_type": "code",
   "execution_count": 105,
   "id": "fb5f4a05",
   "metadata": {},
   "outputs": [
    {
     "name": "stdout",
     "output_type": "stream",
     "text": [
      "   Trial Number     value\n",
      "0      1      1  0.356919\n",
      "1      2      1  0.380155\n",
      "2      1      2  0.357874\n",
      "3      2      2  0.376288\n",
      "4      1      3  0.358535\n"
     ]
    },
    {
     "data": {
      "image/png": "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\n",
      "text/plain": [
       "<Figure size 432x288 with 1 Axes>"
      ]
     },
     "metadata": {
      "needs_background": "light"
     },
     "output_type": "display_data"
    }
   ],
   "source": [
    "# DATAFRAMES WITH TRIAL COLUMN ASSIGNED\n",
    "df1 = pd.DataFrame(np.array(deepST_excitatory_values).reshape(1,-1), columns=list(range(1,5))).assign(Trial=1)\n",
    "df2 = pd.DataFrame(np.array(MESSI_excitatory_values).reshape(1,-1), columns=list(range(1,5))).assign(Trial=2)\n",
    "# df3 = pd.DataFrame(np.random.randn(4,4), columns=list(range(1,5))).assign(Trial=3)\n",
    "\n",
    "cdf = pd.concat([df1, df2])                                # CONCATENATE\n",
    "mdf = pd.melt(cdf, id_vars=['Trial'], var_name=['Number'])      # MELT\n",
    "\n",
    "print(mdf.head())\n",
    "#    Trial Number     value\n",
    "# 0      1      1 -0.750615\n",
    "# 1      1      1 -1.715070\n",
    "# 2      1      1 -0.963404\n",
    "# 3      1      1  0.360856\n",
    "# 4      1      1 -1.190504\n",
    "\n",
    "ax = sns.boxplot(x=\"Trial\", y=\"value\", hue=\"Number\", data=mdf)  # RUN PLOT   \n",
    "plt.show()\n",
    "\n",
    "plt.clf()\n",
    "plt.close()"
   ]
  },
  {
   "cell_type": "code",
   "execution_count": 42,
   "id": "cc41b8e3",
   "metadata": {},
   "outputs": [
    {
     "data": {
      "text/html": [
       "<div>\n",
       "<style scoped>\n",
       "    .dataframe tbody tr th:only-of-type {\n",
       "        vertical-align: middle;\n",
       "    }\n",
       "\n",
       "    .dataframe tbody tr th {\n",
       "        vertical-align: top;\n",
       "    }\n",
       "\n",
       "    .dataframe thead th {\n",
       "        text-align: right;\n",
       "    }\n",
       "</style>\n",
       "<table border=\"1\" class=\"dataframe\">\n",
       "  <thead>\n",
       "    <tr style=\"text-align: right;\">\n",
       "      <th></th>\n",
       "      <th>1</th>\n",
       "      <th>2</th>\n",
       "      <th>3</th>\n",
       "      <th>4</th>\n",
       "      <th>5</th>\n",
       "      <th>Trial</th>\n",
       "    </tr>\n",
       "  </thead>\n",
       "  <tbody>\n",
       "    <tr>\n",
       "      <th>0</th>\n",
       "      <td>-2.574411</td>\n",
       "      <td>0.304598</td>\n",
       "      <td>1.892478</td>\n",
       "      <td>1.016249</td>\n",
       "      <td>-0.043740</td>\n",
       "      <td>1</td>\n",
       "    </tr>\n",
       "    <tr>\n",
       "      <th>1</th>\n",
       "      <td>-1.157576</td>\n",
       "      <td>-0.395647</td>\n",
       "      <td>-0.670122</td>\n",
       "      <td>0.319786</td>\n",
       "      <td>-0.295581</td>\n",
       "      <td>1</td>\n",
       "    </tr>\n",
       "    <tr>\n",
       "      <th>2</th>\n",
       "      <td>0.407370</td>\n",
       "      <td>-0.444789</td>\n",
       "      <td>-1.390877</td>\n",
       "      <td>1.675611</td>\n",
       "      <td>-1.380627</td>\n",
       "      <td>1</td>\n",
       "    </tr>\n",
       "    <tr>\n",
       "      <th>3</th>\n",
       "      <td>-1.276758</td>\n",
       "      <td>-0.776060</td>\n",
       "      <td>-0.593264</td>\n",
       "      <td>0.755448</td>\n",
       "      <td>0.360841</td>\n",
       "      <td>1</td>\n",
       "    </tr>\n",
       "    <tr>\n",
       "      <th>4</th>\n",
       "      <td>-0.493166</td>\n",
       "      <td>0.476000</td>\n",
       "      <td>2.204158</td>\n",
       "      <td>0.366667</td>\n",
       "      <td>0.214712</td>\n",
       "      <td>1</td>\n",
       "    </tr>\n",
       "    <tr>\n",
       "      <th>0</th>\n",
       "      <td>0.706339</td>\n",
       "      <td>-0.903900</td>\n",
       "      <td>2.795468</td>\n",
       "      <td>1.516808</td>\n",
       "      <td>-0.571381</td>\n",
       "      <td>2</td>\n",
       "    </tr>\n",
       "    <tr>\n",
       "      <th>1</th>\n",
       "      <td>0.559225</td>\n",
       "      <td>-2.098771</td>\n",
       "      <td>0.326304</td>\n",
       "      <td>0.002096</td>\n",
       "      <td>0.382765</td>\n",
       "      <td>2</td>\n",
       "    </tr>\n",
       "    <tr>\n",
       "      <th>2</th>\n",
       "      <td>-0.651914</td>\n",
       "      <td>1.086213</td>\n",
       "      <td>-0.943874</td>\n",
       "      <td>1.196011</td>\n",
       "      <td>-0.415406</td>\n",
       "      <td>2</td>\n",
       "    </tr>\n",
       "    <tr>\n",
       "      <th>3</th>\n",
       "      <td>-1.856418</td>\n",
       "      <td>-0.500294</td>\n",
       "      <td>1.785721</td>\n",
       "      <td>-1.637327</td>\n",
       "      <td>-1.078809</td>\n",
       "      <td>2</td>\n",
       "    </tr>\n",
       "    <tr>\n",
       "      <th>4</th>\n",
       "      <td>0.319484</td>\n",
       "      <td>-1.001783</td>\n",
       "      <td>-0.456294</td>\n",
       "      <td>-0.810443</td>\n",
       "      <td>0.633947</td>\n",
       "      <td>2</td>\n",
       "    </tr>\n",
       "    <tr>\n",
       "      <th>0</th>\n",
       "      <td>-0.259976</td>\n",
       "      <td>1.197092</td>\n",
       "      <td>-1.638289</td>\n",
       "      <td>1.428689</td>\n",
       "      <td>0.768558</td>\n",
       "      <td>3</td>\n",
       "    </tr>\n",
       "    <tr>\n",
       "      <th>1</th>\n",
       "      <td>0.172605</td>\n",
       "      <td>0.382313</td>\n",
       "      <td>-0.508246</td>\n",
       "      <td>-0.973837</td>\n",
       "      <td>1.708339</td>\n",
       "      <td>3</td>\n",
       "    </tr>\n",
       "    <tr>\n",
       "      <th>2</th>\n",
       "      <td>-0.142748</td>\n",
       "      <td>-1.192355</td>\n",
       "      <td>0.420416</td>\n",
       "      <td>0.210563</td>\n",
       "      <td>0.793615</td>\n",
       "      <td>3</td>\n",
       "    </tr>\n",
       "    <tr>\n",
       "      <th>3</th>\n",
       "      <td>-0.494472</td>\n",
       "      <td>-0.924122</td>\n",
       "      <td>-1.125311</td>\n",
       "      <td>-1.097983</td>\n",
       "      <td>0.658224</td>\n",
       "      <td>3</td>\n",
       "    </tr>\n",
       "    <tr>\n",
       "      <th>4</th>\n",
       "      <td>0.448532</td>\n",
       "      <td>0.836438</td>\n",
       "      <td>0.438322</td>\n",
       "      <td>-0.549414</td>\n",
       "      <td>2.327495</td>\n",
       "      <td>3</td>\n",
       "    </tr>\n",
       "  </tbody>\n",
       "</table>\n",
       "</div>"
      ],
      "text/plain": [
       "          1         2         3         4         5  Trial\n",
       "0 -2.574411  0.304598  1.892478  1.016249 -0.043740      1\n",
       "1 -1.157576 -0.395647 -0.670122  0.319786 -0.295581      1\n",
       "2  0.407370 -0.444789 -1.390877  1.675611 -1.380627      1\n",
       "3 -1.276758 -0.776060 -0.593264  0.755448  0.360841      1\n",
       "4 -0.493166  0.476000  2.204158  0.366667  0.214712      1\n",
       "0  0.706339 -0.903900  2.795468  1.516808 -0.571381      2\n",
       "1  0.559225 -2.098771  0.326304  0.002096  0.382765      2\n",
       "2 -0.651914  1.086213 -0.943874  1.196011 -0.415406      2\n",
       "3 -1.856418 -0.500294  1.785721 -1.637327 -1.078809      2\n",
       "4  0.319484 -1.001783 -0.456294 -0.810443  0.633947      2\n",
       "0 -0.259976  1.197092 -1.638289  1.428689  0.768558      3\n",
       "1  0.172605  0.382313 -0.508246 -0.973837  1.708339      3\n",
       "2 -0.142748 -1.192355  0.420416  0.210563  0.793615      3\n",
       "3 -0.494472 -0.924122 -1.125311 -1.097983  0.658224      3\n",
       "4  0.448532  0.836438  0.438322 -0.549414  2.327495      3"
      ]
     },
     "execution_count": 42,
     "metadata": {},
     "output_type": "execute_result"
    }
   ],
   "source": [
    "cdf"
   ]
  },
  {
   "cell_type": "code",
   "execution_count": null,
   "id": "94328869",
   "metadata": {},
   "outputs": [],
   "source": []
  }
 ],
 "metadata": {
  "kernelspec": {
   "display_name": "Python 3 (ipykernel)",
   "language": "python",
   "name": "python3"
  },
  "language_info": {
   "codemirror_mode": {
    "name": "ipython",
    "version": 3
   },
   "file_extension": ".py",
   "mimetype": "text/x-python",
   "name": "python",
   "nbconvert_exporter": "python",
   "pygments_lexer": "ipython3",
   "version": "3.8.10"
  }
 },
 "nbformat": 4,
 "nbformat_minor": 5
}
