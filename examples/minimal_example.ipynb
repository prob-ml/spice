{
 "cells": [
  {
   "cell_type": "code",
   "execution_count": 151,
   "id": "2aebec5f",
   "metadata": {},
   "outputs": [],
   "source": [
    "import torch\n",
    "from torch_geometric.data import Data\n",
    "from torch_geometric.utils import add_random_edge\n",
    "from torch_geometric.nn import GMMConv\n",
    "\n",
    "N = 1000000"
   ]
  },
  {
   "cell_type": "code",
   "execution_count": 152,
   "id": "c01bf92b",
   "metadata": {},
   "outputs": [],
   "source": [
    "x = torch.tensor([[i] for i in range(N)], dtype=torch.float)"
   ]
  },
  {
   "cell_type": "code",
   "execution_count": 153,
   "id": "7bf23b06",
   "metadata": {},
   "outputs": [],
   "source": [
    "edge_index = torch.tensor([[0],\n",
    "                           [N-1]])\n",
    "for i in range(N-1):\n",
    "    edge_index, added_edges = add_random_edge(edge_index,p=1/len(edge_index[0]), num_nodes=N)"
   ]
  },
  {
   "cell_type": "code",
   "execution_count": 154,
   "id": "36610b6f",
   "metadata": {},
   "outputs": [],
   "source": [
    "edge_attr = torch.rand((N,1))"
   ]
  },
  {
   "cell_type": "code",
   "execution_count": 155,
   "id": "e4e0b676",
   "metadata": {},
   "outputs": [
    {
     "data": {
      "text/plain": [
       "tensor([[     0, 984994, 141110,  ..., 339770, 106849, 167214],\n",
       "        [999999, 380821, 531860,  ..., 551408, 485237, 299064]])"
      ]
     },
     "execution_count": 155,
     "metadata": {},
     "output_type": "execute_result"
    }
   ],
   "source": [
    "edge_index"
   ]
  },
  {
   "cell_type": "code",
   "execution_count": 156,
   "id": "b9c87ee3",
   "metadata": {},
   "outputs": [],
   "source": [
    "conv = GMMConv(1, 1, dim=1, kernel_size=10)\n",
    "out = conv(x, edge_index, edge_attr)"
   ]
  },
  {
   "cell_type": "code",
   "execution_count": 157,
   "id": "9978ace3",
   "metadata": {},
   "outputs": [],
   "source": [
    "from torch_sparse import SparseTensor\n",
    "\n",
    "adj = SparseTensor(row=edge_index[0], col=edge_index[1], value=edge_attr)\n",
    "out = conv(x, adj.t())"
   ]
  },
  {
   "cell_type": "code",
   "execution_count": null,
   "id": "1bf7688c",
   "metadata": {},
   "outputs": [],
   "source": []
  }
 ],
 "metadata": {
  "kernelspec": {
   "display_name": "Python 3 (ipykernel)",
   "language": "python",
   "name": "python3"
  },
  "language_info": {
   "codemirror_mode": {
    "name": "ipython",
    "version": 3
   },
   "file_extension": ".py",
   "mimetype": "text/x-python",
   "name": "python",
   "nbconvert_exporter": "python",
   "pygments_lexer": "ipython3",
   "version": "3.10.6"
  }
 },
 "nbformat": 4,
 "nbformat_minor": 5
}
