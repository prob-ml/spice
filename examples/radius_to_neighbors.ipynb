{
 "cells": [
  {
   "cell_type": "code",
   "execution_count": 6,
   "id": "d6e8f15f",
   "metadata": {},
   "outputs": [],
   "source": [
    "import os\n",
    "import torch\n",
    "\n",
    "os.environ[\"MKL_NUM_THREADS\"]=\"1\"\n",
    "os.environ[\"NUMEXPR_NUM_THREADS\"]=\"1\"\n",
    "os.environ[\"OMP_NUM_THREADS\"]=\"1\"\n",
    "\n",
    "import sys\n",
    "\n",
    "import pytorch_lightning as pl\n",
    "from omegaconf import DictConfig, OmegaConf\n",
    "from pytorch_lightning.callbacks import ModelCheckpoint\n",
    "from pytorch_lightning.loggers import TensorBoardLogger\n",
    "from torch.utils.data import random_split\n",
    "from torch_geometric.data import DataLoader\n",
    "\n",
    "from spatial.merfish_dataset import FilteredMerfishDataset, MerfishDataset\n",
    "from spatial.models.monet_ae import MonetAutoencoder2D, TrivialAutoencoder\n",
    "from spatial.train import train\n",
    "from spatial.predict import test"
   ]
  },
  {
   "cell_type": "code",
   "execution_count": 7,
   "id": "e289913b",
   "metadata": {
    "scrolled": true
   },
   "outputs": [
    {
     "name": "stdout",
     "output_type": "stream",
     "text": [
      "0 0.0\n",
      "1 5.934811998871704e-06\n",
      "2 4.712647899020567e-05\n",
      "3 0.00038518284906594605\n",
      "4 0.0016345671305738063\n",
      "5 0.005416034967251492\n",
      "6 0.015386426552562215\n",
      "7 0.03661573307797826\n",
      "8 0.07123472243794651\n",
      "9 0.11631550314170142\n",
      "10 0.16741891437648374\n",
      "11 0.22218424159781472\n",
      "12 0.28020778576537453\n",
      "13 0.3421613723625955\n",
      "14 0.4078870249991414\n",
      "15 0.4805444025906334\n",
      "16 0.5614650408108259\n",
      "17 0.6512190907539629\n",
      "18 0.750209024018665\n",
      "19 0.8583918945548875\n",
      "20 0.9764132198097715\n",
      "21 1.1024741126523174\n",
      "22 1.2362498381565514\n",
      "23 1.3778568052328282\n",
      "24 1.524953927587012\n",
      "25 1.6782339393000536\n",
      "26 1.8368068999213358\n",
      "27 2.000817017764461\n",
      "28 2.1699591663278115\n",
      "29 2.3438030158181204\n",
      "30 2.523477377061484\n",
      "31 2.7069789292411013\n",
      "32 2.896515538684333\n",
      "33 3.0909392783334746\n",
      "34 3.2910853033092624\n",
      "35 3.4958000812551457\n",
      "36 3.707103490111549\n",
      "37 3.92447050472943\n",
      "38 4.1470536595488765\n",
      "39 4.375272145477394\n",
      "40 4.60938084143557\n",
      "41 4.8487021446464995\n",
      "42 5.093983355415935\n",
      "43 5.345140031525933\n",
      "44 5.60112699812379\n",
      "45 5.862853427935883\n",
      "46 6.132009846630849\n",
      "47 6.406535478165712\n",
      "48 6.685177392453076\n",
      "49 6.969569482144907\n",
      "50 7.259825118902811\n",
      "51 7.554834775334379\n",
      "52 7.8553419166212475\n",
      "53 8.161753113352715\n",
      "54 8.473960269025467\n",
      "55 8.792155716644608\n",
      "56 9.114818032823754\n",
      "57 9.442661433682273\n",
      "58 9.776111094784234\n",
      "59 10.115351597237204\n",
      "60 10.460252848213537\n",
      "61 10.810594435884559\n",
      "62 11.166141359699619\n",
      "63 11.527381325778169\n",
      "64 11.894877669534205\n",
      "65 12.26810867938104\n",
      "66 12.644626860348705\n",
      "67 13.026787380425112\n",
      "68 13.41462247915656\n",
      "69 13.80806772883866\n",
      "70 14.207235053898005\n",
      "71 14.610632720473726\n",
      "72 15.020069767241921\n",
      "73 15.43510554231931\n",
      "74 15.856028325308598\n",
      "75 16.281242314704198\n",
      "76 16.710472076380878\n",
      "77 17.145942929122103\n",
      "78 17.587123517429216\n",
      "79 18.033875041866274\n",
      "80 18.48552501115883\n",
      "81 18.941545155715083\n",
      "82 19.402206994606292\n",
      "83 19.870054347553374\n",
      "84 20.3421688167714\n",
      "85 20.819667415293896\n",
      "86 21.30256319180308\n",
      "87 21.78947427335249\n",
      "88 22.28361323413978\n",
      "89 22.782819626850756\n",
      "90 23.284602200790218\n",
      "91 23.794384426698148\n",
      "92 24.308880465680236\n",
      "93 24.8271483317549\n",
      "94 25.351212774204974\n",
      "95 25.87977337285424\n",
      "96 26.414563568048976\n",
      "97 26.953114102606598\n",
      "98 27.497915089360497\n",
      "99 28.046321343510712\n"
     ]
    }
   ],
   "source": [
    "rad_to_neighbors = {}\n",
    "\n",
    "for radius in range(100):\n",
    "    data = MerfishDataset(\"../data\", radius=radius)\n",
    "    for graph in data:\n",
    "        if radius not in rad_to_neighbors:\n",
    "            rad_to_neighbors[radius] = graph.edge_index.shape[1]/2/graph.x.shape[0]\n",
    "        else:\n",
    "            rad_to_neighbors[radius] += graph.edge_index.shape[1]/2/graph.x.shape[0]\n",
    "    rad_to_neighbors[radius] /= len(data)\n",
    "    print(radius, rad_to_neighbors[radius])"
   ]
  },
  {
   "cell_type": "code",
   "execution_count": 13,
   "id": "b20efeaa",
   "metadata": {},
   "outputs": [
    {
     "data": {
      "image/png": "[encoded data removed]",
      "text/plain": [
       "<Figure size 432x288 with 1 Axes>"
      ]
     },
     "metadata": {
      "needs_background": "light"
     },
     "output_type": "display_data"
    }
   ],
   "source": [
    "import matplotlib.pyplot as plt\n",
    "\n",
    "plt.bar(list(rad_to_neighbors.keys()), rad_to_neighbors.values(), color='g')\n",
    "plt.title(\"Average Neighbors per cell for Radius Values\")\n",
    "plt.xlabel(\"Radius ($\\mu$m)\")\n",
    "plt.ylabel(\"Average Number of Neighbors\")\n",
    "plt.show()"
   ]
  },
  {
   "cell_type": "code",
   "execution_count": null,
   "id": "1f99d51d",
   "metadata": {},
   "outputs": [],
   "source": [
    "rad_to_neighbors = {}\n",
    "\n",
    "for radius in range(100):\n",
    "    data = FilteredMerfishDataset(\"../data\", radius=radius)\n",
    "    for graph in data:\n",
    "        if radius not in rad_to_neighbors:\n",
    "            rad_to_neighbors[radius] = graph.edge_index.shape[1]//2\n",
    "        else:\n",
    "            rad_to_neighbors[radius] += graph.edge_index.shape[1]//2\n",
    "    rad_to_neighbors[radius] /= len(data)\n",
    "    print(radius, rad_to_neighbors[radius], graph.x.shape[0])"
   ]
  },
  {
   "cell_type": "code",
   "execution_count": 2,
   "id": "be64f7ec",
   "metadata": {},
   "outputs": [
    {
     "name": "stdout",
     "output_type": "stream",
     "text": [
      "../data/raw/merfish_messi.hdf5\n",
      "95 145594.6923076923 5399\n",
      "../data/raw/merfish_messi.hdf5\n",
      "96 148601.52662721893 5399\n",
      "../data/raw/merfish_messi.hdf5\n",
      "97 151629.68047337278 5399\n",
      "../data/raw/merfish_messi.hdf5\n",
      "98 154692.99408284025 5399\n",
      "../data/raw/merfish_messi.hdf5\n",
      "99 157778.9822485207 5399\n"
     ]
    }
   ],
   "source": [
    "rad_to_neighbors = {}\n",
    "\n",
    "for radius in range(95,100):\n",
    "    data = FilteredMerfishDataset(\"../data\", radius=radius)\n",
    "    for graph in data:\n",
    "        if radius not in rad_to_neighbors:\n",
    "            rad_to_neighbors[radius] = graph.edge_index.shape[1]//2\n",
    "        else:\n",
    "            rad_to_neighbors[radius] += graph.edge_index.shape[1]//2\n",
    "    rad_to_neighbors[radius] /= len(data)\n",
    "    print(radius, rad_to_neighbors[radius], graph.x.shape[0])"
   ]
  },
  {
   "cell_type": "code",
   "execution_count": null,
   "id": "3ca1712c",
   "metadata": {},
   "outputs": [],
   "source": []
  }
 ],
 "metadata": {
  "kernelspec": {
   "display_name": "Python 3 (ipykernel)",
   "language": "python",
   "name": "python3"
  },
  "language_info": {
   "codemirror_mode": {
    "name": "ipython",
    "version": 3
   },
   "file_extension": ".py",
   "mimetype": "text/x-python",
   "name": "python",
   "nbconvert_exporter": "python",
   "pygments_lexer": "ipython3",
   "version": "3.8.10"
  }
 },
 "nbformat": 4,
 "nbformat_minor": 5
}
