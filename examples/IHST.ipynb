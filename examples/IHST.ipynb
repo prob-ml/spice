{
 "cells": [
  {
   "cell_type": "code",
   "execution_count": 72,
   "id": "0f40b720",
   "metadata": {},
   "outputs": [],
   "source": [
    "import torch\n",
    "\n",
    "def f(t):\n",
    "    # x = 30 plugged in\n",
    "    return 1 - torch.asinh(t * 30)/t\n",
    "    \n",
    "def update_step(f, tol=1e-6, current_value=5):\n",
    "    \n",
    "    guess = torch.tensor([current_value], dtype=torch.float64, requires_grad = True)\n",
    "    \n",
    "    while torch.abs(f(guess.data)) > tol:\n",
    "        \n",
    "        value = f(guess)\n",
    "        value.backward()\n",
    "        \n",
    "        guess.data -= value/guess.grad\n",
    "        \n",
    "        guess.grad.zero_()\n",
    "        \n",
    "    return guess.data"
   ]
  },
  {
   "cell_type": "code",
   "execution_count": 73,
   "id": "db652199",
   "metadata": {},
   "outputs": [
    {
     "data": {
      "text/plain": [
       "tensor([5.8630], dtype=torch.float64)"
      ]
     },
     "execution_count": 73,
     "metadata": {},
     "output_type": "execute_result"
    }
   ],
   "source": [
    "update_step(f)"
   ]
  },
  {
   "cell_type": "code",
   "execution_count": 75,
   "id": "a0a04daf",
   "metadata": {},
   "outputs": [
    {
     "data": {
      "text/plain": [
       "tensor([-2.3983e-06], dtype=torch.float64)"
      ]
     },
     "execution_count": 75,
     "metadata": {},
     "output_type": "execute_result"
    }
   ],
   "source": [
    "f(torch.tensor([5.8630], dtype=torch.float64))"
   ]
  }
 ],
 "metadata": {
  "kernelspec": {
   "display_name": "Python 3 (ipykernel)",
   "language": "python",
   "name": "python3"
  },
  "language_info": {
   "codemirror_mode": {
    "name": "ipython",
    "version": 3
   },
   "file_extension": ".py",
   "mimetype": "text/x-python",
   "name": "python",
   "nbconvert_exporter": "python",
   "pygments_lexer": "ipython3",
   "version": "3.8.10"
  }
 },
 "nbformat": 4,
 "nbformat_minor": 5
}
