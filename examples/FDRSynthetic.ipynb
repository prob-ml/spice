{
 "cells": [
  {
   "cell_type": "markdown",
   "id": "efce2db6-3679-4114-8c75-1346235c6d7d",
   "metadata": {},
   "source": [
    "# Imports"
   ]
  },
  {
   "cell_type": "code",
   "execution_count": 1,
   "id": "a436609f-ac0f-41c8-a684-b135028d5afe",
   "metadata": {},
   "outputs": [
    {
     "name": "stderr",
     "output_type": "stream",
     "text": [
      "/home/roko/.cache/pypoetry/virtualenvs/spatial-G_n0JvVf-py3.10/lib/python3.10/site-packages/torch_geometric/typing.py:42: UserWarning: An issue occurred while importing 'torch-sparse'. Disabling its usage. Stacktrace: libcusparse.so.11: cannot open shared object file: No such file or directory\n",
      "  warnings.warn(f\"An issue occurred while importing 'torch-sparse'. \"\n"
     ]
    }
   ],
   "source": [
    "import os\n",
    "import torch\n",
    "import json\n",
    "import requests\n",
    "import h5py\n",
    "import numpy as np\n",
    "import pandas as pd\n",
    "import seaborn as sns\n",
    "import matplotlib.pyplot as plt\n",
    "\n",
    "os.environ[\"MKL_NUM_THREADS\"]=\"1\"\n",
    "os.environ[\"NUMEXPR_NUM_THREADS\"]=\"1\"\n",
    "os.environ[\"OMP_NUM_THREADS\"]=\"1\"\n",
    "os.environ[\"CUDA_VISIBLE_DEVICES\"] = \"4,5,6\"\n",
    "\n",
    "import sys\n",
    "\n",
    "import pytorch_lightning as pl\n",
    "from omegaconf import DictConfig, OmegaConf\n",
    "from pytorch_lightning.callbacks import ModelCheckpoint\n",
    "from pytorch_lightning.loggers import TensorBoardLogger\n",
    "from torch.utils.data import random_split\n",
    "from torch_geometric.data import DataLoader\n",
    "\n",
    "from spatial.merfish_dataset import FilteredMerfishDataset, MerfishDataset, SyntheticNonlinear, SyntheticDataset0, SyntheticDataset1, SyntheticDataset2, SyntheticDataset3\n",
    "from spatial.models.monet_ae import MonetAutoencoder2D, TrivialAutoencoder, MonetDense\n",
    "from spatial.train import train\n",
    "from spatial.predict import test\n",
    "\n",
    "import hydra\n",
    "from hydra.experimental import compose, initialize\n",
    "\n",
    "import warnings\n",
    "warnings.filterwarnings(\"ignore\")"
   ]
  },
  {
   "cell_type": "markdown",
   "id": "8994ddb0-666d-4e6a-be78-23de23a01f58",
   "metadata": {},
   "source": [
    "# Data Framework"
   ]
  },
  {
   "cell_type": "markdown",
   "id": "69f0c315-ff44-431b-a212-74b59197c08f",
   "metadata": {},
   "source": [
    "![SyntheticFDR](static/syntheticFDR.JPG)"
   ]
  },
  {
   "cell_type": "markdown",
   "id": "4d6a557e-bdc7-4639-892c-6431f3e63bf7",
   "metadata": {},
   "source": [
    "# Create the new synthetic dataset."
   ]
  },
  {
   "cell_type": "code",
   "execution_count": 2,
   "id": "a95d3a7b-f9d3-407c-a8bb-5de36867deed",
   "metadata": {},
   "outputs": [],
   "source": [
    "class SyntheticFDR(MerfishDataset):\n",
    "    @property\n",
    "    def raw_file_names(self):\n",
    "        return [\"synthFDR.csv\", \"synthFDR.hdf5\"]\n",
    "\n",
    "    @property\n",
    "    def merfish_csv(self):\n",
    "        return os.path.join(self.raw_dir, \"synthFDR.csv\")\n",
    "\n",
    "    @property\n",
    "    def merfish_hdf5(self):\n",
    "        return os.path.join(self.raw_dir, \"synthFDR.hdf5\")\n",
    "\n",
    "    @staticmethod\n",
    "    def _f(edges, data, i, LIGAND_INDEX_1=20):\n",
    "        all_neighbors = edges[:, edges[0] == i][1]\n",
    "        random_neighbor = all_neighbors[torch.randint(len(all_neighbors), (1,)).item()]\n",
    "        return torch.exp(data[random_neighbor, LIGAND_INDEX_1])\n",
    "\n",
    "    def download(self):\n",
    "\n",
    "        LIGAND_INDEX_1 = 20\n",
    "        LIGAND_INDEX_2 = 38\n",
    "\n",
    "        # download csv if necessary\n",
    "        if not os.path.exists(self.merfish_csv):\n",
    "            with open(self.merfish_csv, \"wb\") as csvf:\n",
    "                csvf.write(requests.get(self.url, timeout=180).content)\n",
    "\n",
    "        # process csv if necessary\n",
    "        dataframe = pd.read_csv(self.merfish_csv)\n",
    "        preserve_columns = dataframe.columns\n",
    "        torch.manual_seed(88)\n",
    "        new_dataframe = pd.DataFrame(columns=preserve_columns)\n",
    "        FDR_radius = 20\n",
    "        unique_slices = dataframe.drop_duplicates([\"Animal_ID\", \"Bregma\"])[\n",
    "            [\"Animal_ID\", \"Bregma\"]\n",
    "        ]\n",
    "        for i in range(len(unique_slices)):\n",
    "            animal_id, bregma = unique_slices.iloc[i]\n",
    "            sub_dataframe = dataframe[\n",
    "                (dataframe[\"Animal_ID\"] == animal_id) & (dataframe[\"Bregma\"] == bregma)\n",
    "            ]\n",
    "            edges = self.calculate_neighborhood(\n",
    "                torch.tensor(sub_dataframe.to_numpy()[:, 5:7].astype(\"float64\")),\n",
    "                radius=FDR_radius,\n",
    "                n_neighbors=None,\n",
    "            ).to(\"cuda:0\")\n",
    "            sub_dataframe = sub_dataframe.to_numpy()\n",
    "            sub_dataframe[:, 9:] = torch.distributions.half_normal.HalfNormal(\n",
    "                (torch.pi / 2) ** 2\n",
    "            ).sample(sub_dataframe[:, 9:].shape)\n",
    "            expressions = torch.tensor(sub_dataframe[:, 9:].astype(\"float64\")).to(\n",
    "                \"cuda:0\"\n",
    "            )\n",
    "            sub_dataframe[:, 9:][:, 0] = np.exp(\n",
    "                expressions[:, LIGAND_INDEX_1].cpu().numpy()\n",
    "            )\n",
    "            sub_dataframe[:, 9:][:, LIGAND_INDEX_2] = torch.arange(\n",
    "                len(sub_dataframe), dtype=torch.float64\n",
    "            ).apply_(\n",
    "                lambda i, edges=edges, x=expressions: self._f(\n",
    "                    edges, x, i, LIGAND_INDEX_1\n",
    "                )\n",
    "            )\n",
    "            new_dataframe = new_dataframe.append(\n",
    "                pd.DataFrame(sub_dataframe, columns=preserve_columns)\n",
    "            )\n",
    "\n",
    "        new_dataframe = new_dataframe.astype(\n",
    "            {\n",
    "                \"Animal_ID\": \"int64\",\n",
    "                \"Bregma\": \"float64\",\n",
    "                \"Centroid_X\": \"float64\",\n",
    "                \"Centroid_Y\": \"float64\",\n",
    "            }\n",
    "        )\n",
    "\n",
    "        with h5py.File(self.merfish_hdf5, \"w\") as h5f:\n",
    "            # pylint: disable=no-member\n",
    "            for colnm, dtype in zip(new_dataframe.keys()[:9], new_dataframe.dtypes[:9]):\n",
    "                if dtype.kind == \"O\":\n",
    "                    data = np.require(new_dataframe[colnm], dtype=\"S36\")\n",
    "                    h5f.create_dataset(colnm, data=data)\n",
    "                else:\n",
    "                    h5f.create_dataset(colnm, data=np.require(new_dataframe[colnm]))\n",
    "\n",
    "            expression = np.array(new_dataframe[new_dataframe.keys()[9:]]).astype(\n",
    "                np.float64\n",
    "            )\n",
    "            h5f.create_dataset(\"expression\", data=expression, dtype=\"float64\")\n",
    "\n",
    "            gene_names = np.array(new_dataframe.keys()[9:], dtype=\"S80\")\n",
    "            h5f.create_dataset(\"gene_names\", data=gene_names)"
   ]
  },
  {
   "cell_type": "code",
   "execution_count": 6,
   "id": "4501fc98-b79f-43f9-b34c-c685b3f2fdd5",
   "metadata": {},
   "outputs": [
    {
     "name": "stderr",
     "output_type": "stream",
     "text": [
      "100%|████████████████████████████████████████████████████████████████████████████████████████████████████████████████████████████| 157/157 [03:25<00:00,  1.31s/it]\n"
     ]
    }
   ],
   "source": [
    "FDR_Dataset = SyntheticFDR('../data', splits = 0, radius = 0)"
   ]
  },
  {
   "cell_type": "markdown",
   "id": "953ecf59-4b1e-4fcc-9ac1-f1acd0d4c1f4",
   "metadata": {
    "tags": []
   },
   "source": [
    "# Train and Test a Spatially Aware Model"
   ]
  },
  {
   "cell_type": "code",
   "execution_count": 3,
   "id": "23fe075d-cf06-404d-9d03-9af7c637f8a7",
   "metadata": {},
   "outputs": [
    {
     "name": "stdout",
     "output_type": "stream",
     "text": [
      "MonetDense__[512, 512, 512, 512, 512, 512]__25__FDR_test__Adam\n"
     ]
    },
    {
     "name": "stderr",
     "output_type": "stream",
     "text": [
      "100%|██████████████████████████████████████████████████████████████████████████████████████████████████████| 157/157 [03:27<00:00,  1.32s/it]\n",
      "GPU available: True (cuda), used: True\n",
      "TPU available: False, using: 0 TPU cores\n",
      "IPU available: False, using: 0 IPUs\n",
      "HPU available: False, using: 0 HPUs\n",
      "`Trainer(limit_train_batches=1.0)` was configured so 100% of the batches per epoch will be used..\n",
      "`Trainer(limit_val_batches=1.0)` was configured so 100% of the batches will be used..\n",
      "LOCAL_RANK: 0 - CUDA_VISIBLE_DEVICES: [4,5,6]\n",
      "\n",
      "  | Name          | Type                    | Params\n",
      "----------------------------------------------------------\n",
      "0 | dense_network | DenseReluGMMConvNetwork | 23.6 M\n",
      "----------------------------------------------------------\n",
      "23.6 M    Trainable params\n",
      "0         Non-trainable params\n",
      "23.6 M    Total params\n",
      "94.564    Total estimated model params size (MB)\n"
     ]
    },
    {
     "data": {
      "application/vnd.jupyter.widget-view+json": {
       "model_id": "",
       "version_major": 2,
       "version_minor": 0
      },
      "text/plain": [
       "Sanity Checking: 0it [00:00, ?it/s]"
      ]
     },
     "metadata": {},
     "output_type": "display_data"
    },
    {
     "data": {
      "application/vnd.jupyter.widget-view+json": {
       "model_id": "83387d2f6bbc48d793005630bbd3df59",
       "version_major": 2,
       "version_minor": 0
      },
      "text/plain": [
       "Training: 0it [00:00, ?it/s]"
      ]
     },
     "metadata": {},
     "output_type": "display_data"
    },
    {
     "data": {
      "application/vnd.jupyter.widget-view+json": {
       "model_id": "",
       "version_major": 2,
       "version_minor": 0
      },
      "text/plain": [
       "Validation: 0it [00:00, ?it/s]"
      ]
     },
     "metadata": {},
     "output_type": "display_data"
    },
    {
     "name": "stderr",
     "output_type": "stream",
     "text": [
      "Epoch 0, global step 153: 'val_loss' reached 0.97156 (best 0.97156), saving model to '/home/roko/spatial/output/lightning_logs/checkpoints/MonetDense/MonetDense__[512, 512, 512, 512, 512, 512]__25__FDR_test__Adam.ckpt' as top 1\n"
     ]
    },
    {
     "data": {
      "application/vnd.jupyter.widget-view+json": {
       "model_id": "",
       "version_major": 2,
       "version_minor": 0
      },
      "text/plain": [
       "Validation: 0it [00:00, ?it/s]"
      ]
     },
     "metadata": {},
     "output_type": "display_data"
    },
    {
     "name": "stderr",
     "output_type": "stream",
     "text": [
      "Epoch 1, global step 306: 'val_loss' reached 0.07509 (best 0.07509), saving model to '/home/roko/spatial/output/lightning_logs/checkpoints/MonetDense/MonetDense__[512, 512, 512, 512, 512, 512]__25__FDR_test__Adam.ckpt' as top 1\n"
     ]
    },
    {
     "data": {
      "application/vnd.jupyter.widget-view+json": {
       "model_id": "",
       "version_major": 2,
       "version_minor": 0
      },
      "text/plain": [
       "Validation: 0it [00:00, ?it/s]"
      ]
     },
     "metadata": {},
     "output_type": "display_data"
    },
    {
     "name": "stderr",
     "output_type": "stream",
     "text": [
      "Epoch 2, global step 459: 'val_loss' reached 0.01209 (best 0.01209), saving model to '/home/roko/spatial/output/lightning_logs/checkpoints/MonetDense/MonetDense__[512, 512, 512, 512, 512, 512]__25__FDR_test__Adam.ckpt' as top 1\n"
     ]
    },
    {
     "data": {
      "application/vnd.jupyter.widget-view+json": {
       "model_id": "",
       "version_major": 2,
       "version_minor": 0
      },
      "text/plain": [
       "Validation: 0it [00:00, ?it/s]"
      ]
     },
     "metadata": {},
     "output_type": "display_data"
    },
    {
     "name": "stderr",
     "output_type": "stream",
     "text": [
      "Epoch 3, global step 612: 'val_loss' reached 0.00104 (best 0.00104), saving model to '/home/roko/spatial/output/lightning_logs/checkpoints/MonetDense/MonetDense__[512, 512, 512, 512, 512, 512]__25__FDR_test__Adam.ckpt' as top 1\n"
     ]
    },
    {
     "data": {
      "application/vnd.jupyter.widget-view+json": {
       "model_id": "",
       "version_major": 2,
       "version_minor": 0
      },
      "text/plain": [
       "Validation: 0it [00:00, ?it/s]"
      ]
     },
     "metadata": {},
     "output_type": "display_data"
    },
    {
     "name": "stderr",
     "output_type": "stream",
     "text": [
      "Epoch 4, global step 765: 'val_loss' was not in top 1\n"
     ]
    },
    {
     "data": {
      "application/vnd.jupyter.widget-view+json": {
       "model_id": "",
       "version_major": 2,
       "version_minor": 0
      },
      "text/plain": [
       "Validation: 0it [00:00, ?it/s]"
      ]
     },
     "metadata": {},
     "output_type": "display_data"
    },
    {
     "name": "stderr",
     "output_type": "stream",
     "text": [
      "Epoch 5, global step 918: 'val_loss' was not in top 1\n"
     ]
    },
    {
     "data": {
      "application/vnd.jupyter.widget-view+json": {
       "model_id": "",
       "version_major": 2,
       "version_minor": 0
      },
      "text/plain": [
       "Validation: 0it [00:00, ?it/s]"
      ]
     },
     "metadata": {},
     "output_type": "display_data"
    },
    {
     "name": "stderr",
     "output_type": "stream",
     "text": [
      "Epoch 6, global step 1071: 'val_loss' was not in top 1\n"
     ]
    },
    {
     "data": {
      "application/vnd.jupyter.widget-view+json": {
       "model_id": "",
       "version_major": 2,
       "version_minor": 0
      },
      "text/plain": [
       "Validation: 0it [00:00, ?it/s]"
      ]
     },
     "metadata": {},
     "output_type": "display_data"
    },
    {
     "name": "stderr",
     "output_type": "stream",
     "text": [
      "Epoch 7, global step 1224: 'val_loss' was not in top 1\n"
     ]
    },
    {
     "data": {
      "application/vnd.jupyter.widget-view+json": {
       "model_id": "",
       "version_major": 2,
       "version_minor": 0
      },
      "text/plain": [
       "Validation: 0it [00:00, ?it/s]"
      ]
     },
     "metadata": {},
     "output_type": "display_data"
    },
    {
     "name": "stderr",
     "output_type": "stream",
     "text": [
      "Epoch 8, global step 1377: 'val_loss' reached 0.00025 (best 0.00025), saving model to '/home/roko/spatial/output/lightning_logs/checkpoints/MonetDense/MonetDense__[512, 512, 512, 512, 512, 512]__25__FDR_test__Adam.ckpt' as top 1\n"
     ]
    },
    {
     "data": {
      "application/vnd.jupyter.widget-view+json": {
       "model_id": "",
       "version_major": 2,
       "version_minor": 0
      },
      "text/plain": [
       "Validation: 0it [00:00, ?it/s]"
      ]
     },
     "metadata": {},
     "output_type": "display_data"
    },
    {
     "name": "stderr",
     "output_type": "stream",
     "text": [
      "Epoch 9, global step 1530: 'val_loss' was not in top 1\n"
     ]
    },
    {
     "data": {
      "application/vnd.jupyter.widget-view+json": {
       "model_id": "",
       "version_major": 2,
       "version_minor": 0
      },
      "text/plain": [
       "Validation: 0it [00:00, ?it/s]"
      ]
     },
     "metadata": {},
     "output_type": "display_data"
    },
    {
     "name": "stderr",
     "output_type": "stream",
     "text": [
      "Epoch 10, global step 1683: 'val_loss' reached 0.00022 (best 0.00022), saving model to '/home/roko/spatial/output/lightning_logs/checkpoints/MonetDense/MonetDense__[512, 512, 512, 512, 512, 512]__25__FDR_test__Adam.ckpt' as top 1\n"
     ]
    },
    {
     "data": {
      "application/vnd.jupyter.widget-view+json": {
       "model_id": "",
       "version_major": 2,
       "version_minor": 0
      },
      "text/plain": [
       "Validation: 0it [00:00, ?it/s]"
      ]
     },
     "metadata": {},
     "output_type": "display_data"
    },
    {
     "name": "stderr",
     "output_type": "stream",
     "text": [
      "Epoch 11, global step 1836: 'val_loss' reached 0.00017 (best 0.00017), saving model to '/home/roko/spatial/output/lightning_logs/checkpoints/MonetDense/MonetDense__[512, 512, 512, 512, 512, 512]__25__FDR_test__Adam.ckpt' as top 1\n"
     ]
    },
    {
     "data": {
      "application/vnd.jupyter.widget-view+json": {
       "model_id": "",
       "version_major": 2,
       "version_minor": 0
      },
      "text/plain": [
       "Validation: 0it [00:00, ?it/s]"
      ]
     },
     "metadata": {},
     "output_type": "display_data"
    },
    {
     "name": "stderr",
     "output_type": "stream",
     "text": [
      "Epoch 12, global step 1989: 'val_loss' was not in top 1\n"
     ]
    },
    {
     "data": {
      "application/vnd.jupyter.widget-view+json": {
       "model_id": "",
       "version_major": 2,
       "version_minor": 0
      },
      "text/plain": [
       "Validation: 0it [00:00, ?it/s]"
      ]
     },
     "metadata": {},
     "output_type": "display_data"
    },
    {
     "name": "stderr",
     "output_type": "stream",
     "text": [
      "Epoch 13, global step 2142: 'val_loss' was not in top 1\n"
     ]
    },
    {
     "data": {
      "application/vnd.jupyter.widget-view+json": {
       "model_id": "",
       "version_major": 2,
       "version_minor": 0
      },
      "text/plain": [
       "Validation: 0it [00:00, ?it/s]"
      ]
     },
     "metadata": {},
     "output_type": "display_data"
    },
    {
     "name": "stderr",
     "output_type": "stream",
     "text": [
      "Epoch 14, global step 2295: 'val_loss' was not in top 1\n"
     ]
    },
    {
     "data": {
      "application/vnd.jupyter.widget-view+json": {
       "model_id": "",
       "version_major": 2,
       "version_minor": 0
      },
      "text/plain": [
       "Validation: 0it [00:00, ?it/s]"
      ]
     },
     "metadata": {},
     "output_type": "display_data"
    },
    {
     "name": "stderr",
     "output_type": "stream",
     "text": [
      "Epoch 15, global step 2448: 'val_loss' was not in top 1\n"
     ]
    },
    {
     "data": {
      "application/vnd.jupyter.widget-view+json": {
       "model_id": "",
       "version_major": 2,
       "version_minor": 0
      },
      "text/plain": [
       "Validation: 0it [00:00, ?it/s]"
      ]
     },
     "metadata": {},
     "output_type": "display_data"
    },
    {
     "name": "stderr",
     "output_type": "stream",
     "text": [
      "Epoch 16, global step 2601: 'val_loss' reached 0.00007 (best 0.00007), saving model to '/home/roko/spatial/output/lightning_logs/checkpoints/MonetDense/MonetDense__[512, 512, 512, 512, 512, 512]__25__FDR_test__Adam.ckpt' as top 1\n"
     ]
    },
    {
     "data": {
      "application/vnd.jupyter.widget-view+json": {
       "model_id": "",
       "version_major": 2,
       "version_minor": 0
      },
      "text/plain": [
       "Validation: 0it [00:00, ?it/s]"
      ]
     },
     "metadata": {},
     "output_type": "display_data"
    },
    {
     "name": "stderr",
     "output_type": "stream",
     "text": [
      "Epoch 17, global step 2754: 'val_loss' was not in top 1\n"
     ]
    },
    {
     "data": {
      "application/vnd.jupyter.widget-view+json": {
       "model_id": "",
       "version_major": 2,
       "version_minor": 0
      },
      "text/plain": [
       "Validation: 0it [00:00, ?it/s]"
      ]
     },
     "metadata": {},
     "output_type": "display_data"
    },
    {
     "name": "stderr",
     "output_type": "stream",
     "text": [
      "Epoch 18, global step 2907: 'val_loss' was not in top 1\n"
     ]
    },
    {
     "data": {
      "application/vnd.jupyter.widget-view+json": {
       "model_id": "",
       "version_major": 2,
       "version_minor": 0
      },
      "text/plain": [
       "Validation: 0it [00:00, ?it/s]"
      ]
     },
     "metadata": {},
     "output_type": "display_data"
    },
    {
     "name": "stderr",
     "output_type": "stream",
     "text": [
      "Epoch 19, global step 3060: 'val_loss' was not in top 1\n"
     ]
    },
    {
     "data": {
      "application/vnd.jupyter.widget-view+json": {
       "model_id": "",
       "version_major": 2,
       "version_minor": 0
      },
      "text/plain": [
       "Validation: 0it [00:00, ?it/s]"
      ]
     },
     "metadata": {},
     "output_type": "display_data"
    },
    {
     "name": "stderr",
     "output_type": "stream",
     "text": [
      "Epoch 20, global step 3213: 'val_loss' was not in top 1\n"
     ]
    },
    {
     "data": {
      "application/vnd.jupyter.widget-view+json": {
       "model_id": "",
       "version_major": 2,
       "version_minor": 0
      },
      "text/plain": [
       "Validation: 0it [00:00, ?it/s]"
      ]
     },
     "metadata": {},
     "output_type": "display_data"
    },
    {
     "name": "stderr",
     "output_type": "stream",
     "text": [
      "Epoch 21, global step 3366: 'val_loss' reached 0.00006 (best 0.00006), saving model to '/home/roko/spatial/output/lightning_logs/checkpoints/MonetDense/MonetDense__[512, 512, 512, 512, 512, 512]__25__FDR_test__Adam.ckpt' as top 1\n"
     ]
    },
    {
     "data": {
      "application/vnd.jupyter.widget-view+json": {
       "model_id": "",
       "version_major": 2,
       "version_minor": 0
      },
      "text/plain": [
       "Validation: 0it [00:00, ?it/s]"
      ]
     },
     "metadata": {},
     "output_type": "display_data"
    },
    {
     "name": "stderr",
     "output_type": "stream",
     "text": [
      "Epoch 22, global step 3519: 'val_loss' reached 0.00006 (best 0.00006), saving model to '/home/roko/spatial/output/lightning_logs/checkpoints/MonetDense/MonetDense__[512, 512, 512, 512, 512, 512]__25__FDR_test__Adam.ckpt' as top 1\n"
     ]
    },
    {
     "data": {
      "application/vnd.jupyter.widget-view+json": {
       "model_id": "72815f8baf5a44dc9c40de3bca5c2bdb",
       "version_major": 2,
       "version_minor": 0
      },
      "text/plain": [
       "Validation: 0it [00:00, ?it/s]"
      ]
     },
     "metadata": {},
     "output_type": "display_data"
    },
    {
     "name": "stderr",
     "output_type": "stream",
     "text": [
      "Epoch 23, global step 3672: 'val_loss' reached 0.00006 (best 0.00006), saving model to '/home/roko/spatial/output/lightning_logs/checkpoints/MonetDense/MonetDense__[512, 512, 512, 512, 512, 512]__25__FDR_test__Adam.ckpt' as top 1\n"
     ]
    },
    {
     "data": {
      "application/vnd.jupyter.widget-view+json": {
       "model_id": "eac067987b604a39bc075c697dde2935",
       "version_major": 2,
       "version_minor": 0
      },
      "text/plain": [
       "Validation: 0it [00:00, ?it/s]"
      ]
     },
     "metadata": {},
     "output_type": "display_data"
    },
    {
     "name": "stderr",
     "output_type": "stream",
     "text": [
      "Epoch 24, global step 3825: 'val_loss' reached 0.00006 (best 0.00006), saving model to '/home/roko/spatial/output/lightning_logs/checkpoints/MonetDense/MonetDense__[512, 512, 512, 512, 512, 512]__25__FDR_test__Adam.ckpt' as top 1\n"
     ]
    },
    {
     "data": {
      "application/vnd.jupyter.widget-view+json": {
       "model_id": "295ceeaba85541618ddbb0cd38b7b100",
       "version_major": 2,
       "version_minor": 0
      },
      "text/plain": [
       "Validation: 0it [00:00, ?it/s]"
      ]
     },
     "metadata": {},
     "output_type": "display_data"
    },
    {
     "name": "stderr",
     "output_type": "stream",
     "text": [
      "Epoch 25, global step 3978: 'val_loss' reached 0.00006 (best 0.00006), saving model to '/home/roko/spatial/output/lightning_logs/checkpoints/MonetDense/MonetDense__[512, 512, 512, 512, 512, 512]__25__FDR_test__Adam.ckpt' as top 1\n"
     ]
    },
    {
     "data": {
      "application/vnd.jupyter.widget-view+json": {
       "model_id": "21cf8d5c9506441aad7e3384dd954d44",
       "version_major": 2,
       "version_minor": 0
      },
      "text/plain": [
       "Validation: 0it [00:00, ?it/s]"
      ]
     },
     "metadata": {},
     "output_type": "display_data"
    },
    {
     "name": "stderr",
     "output_type": "stream",
     "text": [
      "Epoch 26, global step 4131: 'val_loss' reached 0.00006 (best 0.00006), saving model to '/home/roko/spatial/output/lightning_logs/checkpoints/MonetDense/MonetDense__[512, 512, 512, 512, 512, 512]__25__FDR_test__Adam.ckpt' as top 1\n"
     ]
    },
    {
     "data": {
      "application/vnd.jupyter.widget-view+json": {
       "model_id": "bb5ce6ec2f504d909648556fe14a4496",
       "version_major": 2,
       "version_minor": 0
      },
      "text/plain": [
       "Validation: 0it [00:00, ?it/s]"
      ]
     },
     "metadata": {},
     "output_type": "display_data"
    },
    {
     "name": "stderr",
     "output_type": "stream",
     "text": [
      "Epoch 27, global step 4284: 'val_loss' reached 0.00006 (best 0.00006), saving model to '/home/roko/spatial/output/lightning_logs/checkpoints/MonetDense/MonetDense__[512, 512, 512, 512, 512, 512]__25__FDR_test__Adam.ckpt' as top 1\n"
     ]
    },
    {
     "data": {
      "application/vnd.jupyter.widget-view+json": {
       "model_id": "0fd4df90a3ab4789a1f4286842cda056",
       "version_major": 2,
       "version_minor": 0
      },
      "text/plain": [
       "Validation: 0it [00:00, ?it/s]"
      ]
     },
     "metadata": {},
     "output_type": "display_data"
    },
    {
     "name": "stderr",
     "output_type": "stream",
     "text": [
      "Epoch 28, global step 4437: 'val_loss' reached 0.00006 (best 0.00006), saving model to '/home/roko/spatial/output/lightning_logs/checkpoints/MonetDense/MonetDense__[512, 512, 512, 512, 512, 512]__25__FDR_test__Adam.ckpt' as top 1\n"
     ]
    },
    {
     "data": {
      "application/vnd.jupyter.widget-view+json": {
       "model_id": "b832d9dc14504ab0a42f15f18b66e837",
       "version_major": 2,
       "version_minor": 0
      },
      "text/plain": [
       "Validation: 0it [00:00, ?it/s]"
      ]
     },
     "metadata": {},
     "output_type": "display_data"
    },
    {
     "name": "stderr",
     "output_type": "stream",
     "text": [
      "Epoch 29, global step 4590: 'val_loss' reached 0.00006 (best 0.00006), saving model to '/home/roko/spatial/output/lightning_logs/checkpoints/MonetDense/MonetDense__[512, 512, 512, 512, 512, 512]__25__FDR_test__Adam.ckpt' as top 1\n"
     ]
    },
    {
     "data": {
      "application/vnd.jupyter.widget-view+json": {
       "model_id": "3f9e9ee0c4384948921628005d3aa91b",
       "version_major": 2,
       "version_minor": 0
      },
      "text/plain": [
       "Validation: 0it [00:00, ?it/s]"
      ]
     },
     "metadata": {},
     "output_type": "display_data"
    },
    {
     "name": "stderr",
     "output_type": "stream",
     "text": [
      "Epoch 30, global step 4743: 'val_loss' reached 0.00006 (best 0.00006), saving model to '/home/roko/spatial/output/lightning_logs/checkpoints/MonetDense/MonetDense__[512, 512, 512, 512, 512, 512]__25__FDR_test__Adam.ckpt' as top 1\n"
     ]
    },
    {
     "data": {
      "application/vnd.jupyter.widget-view+json": {
       "model_id": "cb7c6dd474d24e759523c2bafcbdf76b",
       "version_major": 2,
       "version_minor": 0
      },
      "text/plain": [
       "Validation: 0it [00:00, ?it/s]"
      ]
     },
     "metadata": {},
     "output_type": "display_data"
    },
    {
     "name": "stderr",
     "output_type": "stream",
     "text": [
      "Epoch 31, global step 4896: 'val_loss' reached 0.00006 (best 0.00006), saving model to '/home/roko/spatial/output/lightning_logs/checkpoints/MonetDense/MonetDense__[512, 512, 512, 512, 512, 512]__25__FDR_test__Adam.ckpt' as top 1\n"
     ]
    },
    {
     "data": {
      "application/vnd.jupyter.widget-view+json": {
       "model_id": "25dee26e5def4b94a5fad05b1d56881a",
       "version_major": 2,
       "version_minor": 0
      },
      "text/plain": [
       "Validation: 0it [00:00, ?it/s]"
      ]
     },
     "metadata": {},
     "output_type": "display_data"
    },
    {
     "name": "stderr",
     "output_type": "stream",
     "text": [
      "Epoch 32, global step 5049: 'val_loss' reached 0.00006 (best 0.00006), saving model to '/home/roko/spatial/output/lightning_logs/checkpoints/MonetDense/MonetDense__[512, 512, 512, 512, 512, 512]__25__FDR_test__Adam.ckpt' as top 1\n"
     ]
    },
    {
     "data": {
      "application/vnd.jupyter.widget-view+json": {
       "model_id": "c53b2043fcde426a8a6d6cc39a70f016",
       "version_major": 2,
       "version_minor": 0
      },
      "text/plain": [
       "Validation: 0it [00:00, ?it/s]"
      ]
     },
     "metadata": {},
     "output_type": "display_data"
    },
    {
     "name": "stderr",
     "output_type": "stream",
     "text": [
      "Epoch 33, global step 5202: 'val_loss' reached 0.00006 (best 0.00006), saving model to '/home/roko/spatial/output/lightning_logs/checkpoints/MonetDense/MonetDense__[512, 512, 512, 512, 512, 512]__25__FDR_test__Adam.ckpt' as top 1\n"
     ]
    },
    {
     "data": {
      "application/vnd.jupyter.widget-view+json": {
       "model_id": "57753b3c640145fdaa8354ff4ed2c4c3",
       "version_major": 2,
       "version_minor": 0
      },
      "text/plain": [
       "Validation: 0it [00:00, ?it/s]"
      ]
     },
     "metadata": {},
     "output_type": "display_data"
    },
    {
     "name": "stderr",
     "output_type": "stream",
     "text": [
      "Epoch 34, global step 5355: 'val_loss' reached 0.00006 (best 0.00006), saving model to '/home/roko/spatial/output/lightning_logs/checkpoints/MonetDense/MonetDense__[512, 512, 512, 512, 512, 512]__25__FDR_test__Adam.ckpt' as top 1\n"
     ]
    },
    {
     "data": {
      "application/vnd.jupyter.widget-view+json": {
       "model_id": "be0c04df7a2048ff85378fe96a28c297",
       "version_major": 2,
       "version_minor": 0
      },
      "text/plain": [
       "Validation: 0it [00:00, ?it/s]"
      ]
     },
     "metadata": {},
     "output_type": "display_data"
    },
    {
     "name": "stderr",
     "output_type": "stream",
     "text": [
      "Epoch 35, global step 5508: 'val_loss' reached 0.00006 (best 0.00006), saving model to '/home/roko/spatial/output/lightning_logs/checkpoints/MonetDense/MonetDense__[512, 512, 512, 512, 512, 512]__25__FDR_test__Adam.ckpt' as top 1\n"
     ]
    },
    {
     "data": {
      "application/vnd.jupyter.widget-view+json": {
       "model_id": "7d01082c94364467b052850f4cfc53ef",
       "version_major": 2,
       "version_minor": 0
      },
      "text/plain": [
       "Validation: 0it [00:00, ?it/s]"
      ]
     },
     "metadata": {},
     "output_type": "display_data"
    },
    {
     "name": "stderr",
     "output_type": "stream",
     "text": [
      "Epoch 36, global step 5661: 'val_loss' reached 0.00006 (best 0.00006), saving model to '/home/roko/spatial/output/lightning_logs/checkpoints/MonetDense/MonetDense__[512, 512, 512, 512, 512, 512]__25__FDR_test__Adam.ckpt' as top 1\n"
     ]
    },
    {
     "data": {
      "application/vnd.jupyter.widget-view+json": {
       "model_id": "6662cb98e85f40589e17427d09f9102d",
       "version_major": 2,
       "version_minor": 0
      },
      "text/plain": [
       "Validation: 0it [00:00, ?it/s]"
      ]
     },
     "metadata": {},
     "output_type": "display_data"
    },
    {
     "name": "stderr",
     "output_type": "stream",
     "text": [
      "Epoch 37, global step 5814: 'val_loss' reached 0.00006 (best 0.00006), saving model to '/home/roko/spatial/output/lightning_logs/checkpoints/MonetDense/MonetDense__[512, 512, 512, 512, 512, 512]__25__FDR_test__Adam.ckpt' as top 1\n"
     ]
    },
    {
     "data": {
      "application/vnd.jupyter.widget-view+json": {
       "model_id": "05445cdc0f564c32af9ddc4508f66a59",
       "version_major": 2,
       "version_minor": 0
      },
      "text/plain": [
       "Validation: 0it [00:00, ?it/s]"
      ]
     },
     "metadata": {},
     "output_type": "display_data"
    },
    {
     "name": "stderr",
     "output_type": "stream",
     "text": [
      "Epoch 38, global step 5967: 'val_loss' reached 0.00006 (best 0.00006), saving model to '/home/roko/spatial/output/lightning_logs/checkpoints/MonetDense/MonetDense__[512, 512, 512, 512, 512, 512]__25__FDR_test__Adam.ckpt' as top 1\n"
     ]
    },
    {
     "data": {
      "application/vnd.jupyter.widget-view+json": {
       "model_id": "e3cae255bdf1437d9e20c5b9494ff99d",
       "version_major": 2,
       "version_minor": 0
      },
      "text/plain": [
       "Validation: 0it [00:00, ?it/s]"
      ]
     },
     "metadata": {},
     "output_type": "display_data"
    },
    {
     "name": "stderr",
     "output_type": "stream",
     "text": [
      "Epoch 39, global step 6120: 'val_loss' reached 0.00006 (best 0.00006), saving model to '/home/roko/spatial/output/lightning_logs/checkpoints/MonetDense/MonetDense__[512, 512, 512, 512, 512, 512]__25__FDR_test__Adam.ckpt' as top 1\n"
     ]
    },
    {
     "data": {
      "application/vnd.jupyter.widget-view+json": {
       "model_id": "4c4838aef0ce4b34a4b76d11b7f637a1",
       "version_major": 2,
       "version_minor": 0
      },
      "text/plain": [
       "Validation: 0it [00:00, ?it/s]"
      ]
     },
     "metadata": {},
     "output_type": "display_data"
    },
    {
     "name": "stderr",
     "output_type": "stream",
     "text": [
      "Epoch 40, global step 6273: 'val_loss' reached 0.00006 (best 0.00006), saving model to '/home/roko/spatial/output/lightning_logs/checkpoints/MonetDense/MonetDense__[512, 512, 512, 512, 512, 512]__25__FDR_test__Adam.ckpt' as top 1\n"
     ]
    },
    {
     "data": {
      "application/vnd.jupyter.widget-view+json": {
       "model_id": "30c6e15206884a5faae5c73ad208e744",
       "version_major": 2,
       "version_minor": 0
      },
      "text/plain": [
       "Validation: 0it [00:00, ?it/s]"
      ]
     },
     "metadata": {},
     "output_type": "display_data"
    },
    {
     "name": "stderr",
     "output_type": "stream",
     "text": [
      "Epoch 41, global step 6426: 'val_loss' reached 0.00006 (best 0.00006), saving model to '/home/roko/spatial/output/lightning_logs/checkpoints/MonetDense/MonetDense__[512, 512, 512, 512, 512, 512]__25__FDR_test__Adam.ckpt' as top 1\n"
     ]
    },
    {
     "data": {
      "application/vnd.jupyter.widget-view+json": {
       "model_id": "00f7cbec5ec24f22944d1ad8ce6289b2",
       "version_major": 2,
       "version_minor": 0
      },
      "text/plain": [
       "Validation: 0it [00:00, ?it/s]"
      ]
     },
     "metadata": {},
     "output_type": "display_data"
    },
    {
     "name": "stderr",
     "output_type": "stream",
     "text": [
      "Epoch 42, global step 6579: 'val_loss' reached 0.00006 (best 0.00006), saving model to '/home/roko/spatial/output/lightning_logs/checkpoints/MonetDense/MonetDense__[512, 512, 512, 512, 512, 512]__25__FDR_test__Adam.ckpt' as top 1\n"
     ]
    },
    {
     "data": {
      "application/vnd.jupyter.widget-view+json": {
       "model_id": "9b5757b16a5b40248d692c85815d4fb5",
       "version_major": 2,
       "version_minor": 0
      },
      "text/plain": [
       "Validation: 0it [00:00, ?it/s]"
      ]
     },
     "metadata": {},
     "output_type": "display_data"
    },
    {
     "name": "stderr",
     "output_type": "stream",
     "text": [
      "Epoch 43, global step 6732: 'val_loss' reached 0.00006 (best 0.00006), saving model to '/home/roko/spatial/output/lightning_logs/checkpoints/MonetDense/MonetDense__[512, 512, 512, 512, 512, 512]__25__FDR_test__Adam.ckpt' as top 1\n"
     ]
    },
    {
     "data": {
      "application/vnd.jupyter.widget-view+json": {
       "model_id": "60bb6ca709b8459e92601555557fa5da",
       "version_major": 2,
       "version_minor": 0
      },
      "text/plain": [
       "Validation: 0it [00:00, ?it/s]"
      ]
     },
     "metadata": {},
     "output_type": "display_data"
    },
    {
     "name": "stderr",
     "output_type": "stream",
     "text": [
      "Epoch 44, global step 6885: 'val_loss' reached 0.00006 (best 0.00006), saving model to '/home/roko/spatial/output/lightning_logs/checkpoints/MonetDense/MonetDense__[512, 512, 512, 512, 512, 512]__25__FDR_test__Adam.ckpt' as top 1\n"
     ]
    },
    {
     "data": {
      "application/vnd.jupyter.widget-view+json": {
       "model_id": "fbc90e3f301043d9b8f42ba84b9c523f",
       "version_major": 2,
       "version_minor": 0
      },
      "text/plain": [
       "Validation: 0it [00:00, ?it/s]"
      ]
     },
     "metadata": {},
     "output_type": "display_data"
    },
    {
     "name": "stderr",
     "output_type": "stream",
     "text": [
      "Epoch 45, global step 7038: 'val_loss' reached 0.00005 (best 0.00005), saving model to '/home/roko/spatial/output/lightning_logs/checkpoints/MonetDense/MonetDense__[512, 512, 512, 512, 512, 512]__25__FDR_test__Adam.ckpt' as top 1\n"
     ]
    },
    {
     "data": {
      "application/vnd.jupyter.widget-view+json": {
       "model_id": "280be6a130654de9b1e5319036fa6515",
       "version_major": 2,
       "version_minor": 0
      },
      "text/plain": [
       "Validation: 0it [00:00, ?it/s]"
      ]
     },
     "metadata": {},
     "output_type": "display_data"
    },
    {
     "name": "stderr",
     "output_type": "stream",
     "text": [
      "Epoch 46, global step 7191: 'val_loss' reached 0.00005 (best 0.00005), saving model to '/home/roko/spatial/output/lightning_logs/checkpoints/MonetDense/MonetDense__[512, 512, 512, 512, 512, 512]__25__FDR_test__Adam.ckpt' as top 1\n"
     ]
    },
    {
     "data": {
      "application/vnd.jupyter.widget-view+json": {
       "model_id": "6dee9a36a480485c8480f3f75a29b1f8",
       "version_major": 2,
       "version_minor": 0
      },
      "text/plain": [
       "Validation: 0it [00:00, ?it/s]"
      ]
     },
     "metadata": {},
     "output_type": "display_data"
    },
    {
     "name": "stderr",
     "output_type": "stream",
     "text": [
      "Epoch 47, global step 7344: 'val_loss' reached 0.00005 (best 0.00005), saving model to '/home/roko/spatial/output/lightning_logs/checkpoints/MonetDense/MonetDense__[512, 512, 512, 512, 512, 512]__25__FDR_test__Adam.ckpt' as top 1\n"
     ]
    },
    {
     "data": {
      "application/vnd.jupyter.widget-view+json": {
       "model_id": "1ff2dc1ab09d4e19a5d60be5fe713f71",
       "version_major": 2,
       "version_minor": 0
      },
      "text/plain": [
       "Validation: 0it [00:00, ?it/s]"
      ]
     },
     "metadata": {},
     "output_type": "display_data"
    },
    {
     "name": "stderr",
     "output_type": "stream",
     "text": [
      "Epoch 48, global step 7497: 'val_loss' reached 0.00005 (best 0.00005), saving model to '/home/roko/spatial/output/lightning_logs/checkpoints/MonetDense/MonetDense__[512, 512, 512, 512, 512, 512]__25__FDR_test__Adam.ckpt' as top 1\n"
     ]
    },
    {
     "data": {
      "application/vnd.jupyter.widget-view+json": {
       "model_id": "ede493594af844dab4e57ead1c31191b",
       "version_major": 2,
       "version_minor": 0
      },
      "text/plain": [
       "Validation: 0it [00:00, ?it/s]"
      ]
     },
     "metadata": {},
     "output_type": "display_data"
    },
    {
     "name": "stderr",
     "output_type": "stream",
     "text": [
      "Epoch 49, global step 7650: 'val_loss' was not in top 1\n"
     ]
    },
    {
     "data": {
      "application/vnd.jupyter.widget-view+json": {
       "model_id": "01ccc87fa873412ea93aab2c2e8c693a",
       "version_major": 2,
       "version_minor": 0
      },
      "text/plain": [
       "Validation: 0it [00:00, ?it/s]"
      ]
     },
     "metadata": {},
     "output_type": "display_data"
    },
    {
     "name": "stderr",
     "output_type": "stream",
     "text": [
      "Epoch 50, global step 7803: 'val_loss' reached 0.00005 (best 0.00005), saving model to '/home/roko/spatial/output/lightning_logs/checkpoints/MonetDense/MonetDense__[512, 512, 512, 512, 512, 512]__25__FDR_test__Adam.ckpt' as top 1\n"
     ]
    },
    {
     "data": {
      "application/vnd.jupyter.widget-view+json": {
       "model_id": "24a42aa8210b45c59142c1342710d4e2",
       "version_major": 2,
       "version_minor": 0
      },
      "text/plain": [
       "Validation: 0it [00:00, ?it/s]"
      ]
     },
     "metadata": {},
     "output_type": "display_data"
    },
    {
     "name": "stderr",
     "output_type": "stream",
     "text": [
      "Epoch 51, global step 7956: 'val_loss' reached 0.00005 (best 0.00005), saving model to '/home/roko/spatial/output/lightning_logs/checkpoints/MonetDense/MonetDense__[512, 512, 512, 512, 512, 512]__25__FDR_test__Adam.ckpt' as top 1\n"
     ]
    },
    {
     "data": {
      "application/vnd.jupyter.widget-view+json": {
       "model_id": "de850edf84e94463a7c566cb1737ab5c",
       "version_major": 2,
       "version_minor": 0
      },
      "text/plain": [
       "Validation: 0it [00:00, ?it/s]"
      ]
     },
     "metadata": {},
     "output_type": "display_data"
    },
    {
     "name": "stderr",
     "output_type": "stream",
     "text": [
      "Epoch 52, global step 8109: 'val_loss' reached 0.00005 (best 0.00005), saving model to '/home/roko/spatial/output/lightning_logs/checkpoints/MonetDense/MonetDense__[512, 512, 512, 512, 512, 512]__25__FDR_test__Adam.ckpt' as top 1\n"
     ]
    },
    {
     "data": {
      "application/vnd.jupyter.widget-view+json": {
       "model_id": "078d805a5ec34723b66638886b4e3b97",
       "version_major": 2,
       "version_minor": 0
      },
      "text/plain": [
       "Validation: 0it [00:00, ?it/s]"
      ]
     },
     "metadata": {},
     "output_type": "display_data"
    },
    {
     "name": "stderr",
     "output_type": "stream",
     "text": [
      "Epoch 53, global step 8262: 'val_loss' reached 0.00005 (best 0.00005), saving model to '/home/roko/spatial/output/lightning_logs/checkpoints/MonetDense/MonetDense__[512, 512, 512, 512, 512, 512]__25__FDR_test__Adam.ckpt' as top 1\n"
     ]
    },
    {
     "data": {
      "application/vnd.jupyter.widget-view+json": {
       "model_id": "cebe3026a6a44c0e9d42e72857ff4599",
       "version_major": 2,
       "version_minor": 0
      },
      "text/plain": [
       "Validation: 0it [00:00, ?it/s]"
      ]
     },
     "metadata": {},
     "output_type": "display_data"
    },
    {
     "name": "stderr",
     "output_type": "stream",
     "text": [
      "Epoch 54, global step 8415: 'val_loss' reached 0.00005 (best 0.00005), saving model to '/home/roko/spatial/output/lightning_logs/checkpoints/MonetDense/MonetDense__[512, 512, 512, 512, 512, 512]__25__FDR_test__Adam.ckpt' as top 1\n"
     ]
    },
    {
     "data": {
      "application/vnd.jupyter.widget-view+json": {
       "model_id": "10317117c49b41c69f87c7c2f0aa2df7",
       "version_major": 2,
       "version_minor": 0
      },
      "text/plain": [
       "Validation: 0it [00:00, ?it/s]"
      ]
     },
     "metadata": {},
     "output_type": "display_data"
    },
    {
     "name": "stderr",
     "output_type": "stream",
     "text": [
      "Epoch 55, global step 8568: 'val_loss' reached 0.00005 (best 0.00005), saving model to '/home/roko/spatial/output/lightning_logs/checkpoints/MonetDense/MonetDense__[512, 512, 512, 512, 512, 512]__25__FDR_test__Adam.ckpt' as top 1\n"
     ]
    },
    {
     "data": {
      "application/vnd.jupyter.widget-view+json": {
       "model_id": "4bb1fa33cddb46c1a4facf2257e31cf7",
       "version_major": 2,
       "version_minor": 0
      },
      "text/plain": [
       "Validation: 0it [00:00, ?it/s]"
      ]
     },
     "metadata": {},
     "output_type": "display_data"
    },
    {
     "name": "stderr",
     "output_type": "stream",
     "text": [
      "Epoch 56, global step 8721: 'val_loss' reached 0.00005 (best 0.00005), saving model to '/home/roko/spatial/output/lightning_logs/checkpoints/MonetDense/MonetDense__[512, 512, 512, 512, 512, 512]__25__FDR_test__Adam.ckpt' as top 1\n"
     ]
    },
    {
     "data": {
      "application/vnd.jupyter.widget-view+json": {
       "model_id": "4b89a566cb00418ebe76837818d934a1",
       "version_major": 2,
       "version_minor": 0
      },
      "text/plain": [
       "Validation: 0it [00:00, ?it/s]"
      ]
     },
     "metadata": {},
     "output_type": "display_data"
    },
    {
     "name": "stderr",
     "output_type": "stream",
     "text": [
      "Epoch 57, global step 8874: 'val_loss' was not in top 1\n"
     ]
    },
    {
     "data": {
      "application/vnd.jupyter.widget-view+json": {
       "model_id": "6acbe0784f204173b48a3e534e319f03",
       "version_major": 2,
       "version_minor": 0
      },
      "text/plain": [
       "Validation: 0it [00:00, ?it/s]"
      ]
     },
     "metadata": {},
     "output_type": "display_data"
    },
    {
     "name": "stderr",
     "output_type": "stream",
     "text": [
      "Epoch 58, global step 9027: 'val_loss' reached 0.00005 (best 0.00005), saving model to '/home/roko/spatial/output/lightning_logs/checkpoints/MonetDense/MonetDense__[512, 512, 512, 512, 512, 512]__25__FDR_test__Adam.ckpt' as top 1\n"
     ]
    },
    {
     "data": {
      "application/vnd.jupyter.widget-view+json": {
       "model_id": "0c8921c3b32b445a8c1c4ebec0caaaaf",
       "version_major": 2,
       "version_minor": 0
      },
      "text/plain": [
       "Validation: 0it [00:00, ?it/s]"
      ]
     },
     "metadata": {},
     "output_type": "display_data"
    },
    {
     "name": "stderr",
     "output_type": "stream",
     "text": [
      "Epoch 59, global step 9180: 'val_loss' was not in top 1\n"
     ]
    },
    {
     "data": {
      "application/vnd.jupyter.widget-view+json": {
       "model_id": "320772ba91cb45d4818c4bcd295efd97",
       "version_major": 2,
       "version_minor": 0
      },
      "text/plain": [
       "Validation: 0it [00:00, ?it/s]"
      ]
     },
     "metadata": {},
     "output_type": "display_data"
    },
    {
     "name": "stderr",
     "output_type": "stream",
     "text": [
      "Epoch 60, global step 9333: 'val_loss' was not in top 1\n"
     ]
    },
    {
     "data": {
      "application/vnd.jupyter.widget-view+json": {
       "model_id": "382fb48ade9b4125a995b96e48f9e337",
       "version_major": 2,
       "version_minor": 0
      },
      "text/plain": [
       "Validation: 0it [00:00, ?it/s]"
      ]
     },
     "metadata": {},
     "output_type": "display_data"
    },
    {
     "name": "stderr",
     "output_type": "stream",
     "text": [
      "Epoch 61, global step 9486: 'val_loss' was not in top 1\n"
     ]
    },
    {
     "data": {
      "application/vnd.jupyter.widget-view+json": {
       "model_id": "9fcecc3ca4034b4985935e7833671069",
       "version_major": 2,
       "version_minor": 0
      },
      "text/plain": [
       "Validation: 0it [00:00, ?it/s]"
      ]
     },
     "metadata": {},
     "output_type": "display_data"
    },
    {
     "name": "stderr",
     "output_type": "stream",
     "text": [
      "Epoch 62, global step 9639: 'val_loss' was not in top 1\n"
     ]
    },
    {
     "data": {
      "application/vnd.jupyter.widget-view+json": {
       "model_id": "6a8583675c1047fc8937c83e7cbd5b0b",
       "version_major": 2,
       "version_minor": 0
      },
      "text/plain": [
       "Validation: 0it [00:00, ?it/s]"
      ]
     },
     "metadata": {},
     "output_type": "display_data"
    },
    {
     "name": "stderr",
     "output_type": "stream",
     "text": [
      "Epoch 63, global step 9792: 'val_loss' reached 0.00005 (best 0.00005), saving model to '/home/roko/spatial/output/lightning_logs/checkpoints/MonetDense/MonetDense__[512, 512, 512, 512, 512, 512]__25__FDR_test__Adam.ckpt' as top 1\n"
     ]
    },
    {
     "data": {
      "application/vnd.jupyter.widget-view+json": {
       "model_id": "768fcc8b0d4c4c2089315c4f8ebad2c2",
       "version_major": 2,
       "version_minor": 0
      },
      "text/plain": [
       "Validation: 0it [00:00, ?it/s]"
      ]
     },
     "metadata": {},
     "output_type": "display_data"
    },
    {
     "name": "stderr",
     "output_type": "stream",
     "text": [
      "Epoch 64, global step 9945: 'val_loss' reached 0.00005 (best 0.00005), saving model to '/home/roko/spatial/output/lightning_logs/checkpoints/MonetDense/MonetDense__[512, 512, 512, 512, 512, 512]__25__FDR_test__Adam.ckpt' as top 1\n"
     ]
    },
    {
     "data": {
      "application/vnd.jupyter.widget-view+json": {
       "model_id": "872d5c58b0fa441f9709e6160c5e7920",
       "version_major": 2,
       "version_minor": 0
      },
      "text/plain": [
       "Validation: 0it [00:00, ?it/s]"
      ]
     },
     "metadata": {},
     "output_type": "display_data"
    },
    {
     "name": "stderr",
     "output_type": "stream",
     "text": [
      "Epoch 65, global step 10098: 'val_loss' reached 0.00005 (best 0.00005), saving model to '/home/roko/spatial/output/lightning_logs/checkpoints/MonetDense/MonetDense__[512, 512, 512, 512, 512, 512]__25__FDR_test__Adam.ckpt' as top 1\n"
     ]
    },
    {
     "data": {
      "application/vnd.jupyter.widget-view+json": {
       "model_id": "ec4184cfebea41748673e7fc6536fece",
       "version_major": 2,
       "version_minor": 0
      },
      "text/plain": [
       "Validation: 0it [00:00, ?it/s]"
      ]
     },
     "metadata": {},
     "output_type": "display_data"
    },
    {
     "name": "stderr",
     "output_type": "stream",
     "text": [
      "Epoch 66, global step 10251: 'val_loss' reached 0.00005 (best 0.00005), saving model to '/home/roko/spatial/output/lightning_logs/checkpoints/MonetDense/MonetDense__[512, 512, 512, 512, 512, 512]__25__FDR_test__Adam.ckpt' as top 1\n"
     ]
    },
    {
     "data": {
      "application/vnd.jupyter.widget-view+json": {
       "model_id": "acd3bd11fe4e4f87a9fc2aec1d22068a",
       "version_major": 2,
       "version_minor": 0
      },
      "text/plain": [
       "Validation: 0it [00:00, ?it/s]"
      ]
     },
     "metadata": {},
     "output_type": "display_data"
    },
    {
     "name": "stderr",
     "output_type": "stream",
     "text": [
      "Epoch 67, global step 10404: 'val_loss' reached 0.00005 (best 0.00005), saving model to '/home/roko/spatial/output/lightning_logs/checkpoints/MonetDense/MonetDense__[512, 512, 512, 512, 512, 512]__25__FDR_test__Adam.ckpt' as top 1\n"
     ]
    },
    {
     "data": {
      "application/vnd.jupyter.widget-view+json": {
       "model_id": "eeac349abd3d49159a05eb6733a1249f",
       "version_major": 2,
       "version_minor": 0
      },
      "text/plain": [
       "Validation: 0it [00:00, ?it/s]"
      ]
     },
     "metadata": {},
     "output_type": "display_data"
    },
    {
     "name": "stderr",
     "output_type": "stream",
     "text": [
      "Epoch 68, global step 10557: 'val_loss' reached 0.00005 (best 0.00005), saving model to '/home/roko/spatial/output/lightning_logs/checkpoints/MonetDense/MonetDense__[512, 512, 512, 512, 512, 512]__25__FDR_test__Adam.ckpt' as top 1\n"
     ]
    },
    {
     "data": {
      "application/vnd.jupyter.widget-view+json": {
       "model_id": "adf5689edefc43bbb10f43855a592825",
       "version_major": 2,
       "version_minor": 0
      },
      "text/plain": [
       "Validation: 0it [00:00, ?it/s]"
      ]
     },
     "metadata": {},
     "output_type": "display_data"
    },
    {
     "name": "stderr",
     "output_type": "stream",
     "text": [
      "Epoch 69, global step 10710: 'val_loss' reached 0.00005 (best 0.00005), saving model to '/home/roko/spatial/output/lightning_logs/checkpoints/MonetDense/MonetDense__[512, 512, 512, 512, 512, 512]__25__FDR_test__Adam.ckpt' as top 1\n"
     ]
    },
    {
     "data": {
      "application/vnd.jupyter.widget-view+json": {
       "model_id": "fec8188ea6c5478ebd0052a9553d8dec",
       "version_major": 2,
       "version_minor": 0
      },
      "text/plain": [
       "Validation: 0it [00:00, ?it/s]"
      ]
     },
     "metadata": {},
     "output_type": "display_data"
    },
    {
     "name": "stderr",
     "output_type": "stream",
     "text": [
      "Epoch 70, global step 10863: 'val_loss' was not in top 1\n"
     ]
    },
    {
     "data": {
      "application/vnd.jupyter.widget-view+json": {
       "model_id": "a66bf2faa234428faaf035237931cd77",
       "version_major": 2,
       "version_minor": 0
      },
      "text/plain": [
       "Validation: 0it [00:00, ?it/s]"
      ]
     },
     "metadata": {},
     "output_type": "display_data"
    },
    {
     "name": "stderr",
     "output_type": "stream",
     "text": [
      "Epoch 71, global step 11016: 'val_loss' reached 0.00005 (best 0.00005), saving model to '/home/roko/spatial/output/lightning_logs/checkpoints/MonetDense/MonetDense__[512, 512, 512, 512, 512, 512]__25__FDR_test__Adam.ckpt' as top 1\n"
     ]
    },
    {
     "data": {
      "application/vnd.jupyter.widget-view+json": {
       "model_id": "13a3401cf3aa42c6808699296250f03e",
       "version_major": 2,
       "version_minor": 0
      },
      "text/plain": [
       "Validation: 0it [00:00, ?it/s]"
      ]
     },
     "metadata": {},
     "output_type": "display_data"
    },
    {
     "name": "stderr",
     "output_type": "stream",
     "text": [
      "Epoch 72, global step 11169: 'val_loss' reached 0.00005 (best 0.00005), saving model to '/home/roko/spatial/output/lightning_logs/checkpoints/MonetDense/MonetDense__[512, 512, 512, 512, 512, 512]__25__FDR_test__Adam.ckpt' as top 1\n"
     ]
    },
    {
     "data": {
      "application/vnd.jupyter.widget-view+json": {
       "model_id": "d66fb6c1e9b0479da27ddb1b9b9c0f78",
       "version_major": 2,
       "version_minor": 0
      },
      "text/plain": [
       "Validation: 0it [00:00, ?it/s]"
      ]
     },
     "metadata": {},
     "output_type": "display_data"
    },
    {
     "name": "stderr",
     "output_type": "stream",
     "text": [
      "Epoch 73, global step 11322: 'val_loss' reached 0.00005 (best 0.00005), saving model to '/home/roko/spatial/output/lightning_logs/checkpoints/MonetDense/MonetDense__[512, 512, 512, 512, 512, 512]__25__FDR_test__Adam.ckpt' as top 1\n"
     ]
    },
    {
     "data": {
      "application/vnd.jupyter.widget-view+json": {
       "model_id": "af7f6d5d8918465d8a9f2fedefc305d0",
       "version_major": 2,
       "version_minor": 0
      },
      "text/plain": [
       "Validation: 0it [00:00, ?it/s]"
      ]
     },
     "metadata": {},
     "output_type": "display_data"
    },
    {
     "name": "stderr",
     "output_type": "stream",
     "text": [
      "Epoch 74, global step 11475: 'val_loss' reached 0.00005 (best 0.00005), saving model to '/home/roko/spatial/output/lightning_logs/checkpoints/MonetDense/MonetDense__[512, 512, 512, 512, 512, 512]__25__FDR_test__Adam.ckpt' as top 1\n"
     ]
    },
    {
     "data": {
      "application/vnd.jupyter.widget-view+json": {
       "model_id": "28e1045266b14302a78cefffb5a555c9",
       "version_major": 2,
       "version_minor": 0
      },
      "text/plain": [
       "Validation: 0it [00:00, ?it/s]"
      ]
     },
     "metadata": {},
     "output_type": "display_data"
    },
    {
     "name": "stderr",
     "output_type": "stream",
     "text": [
      "Epoch 75, global step 11628: 'val_loss' reached 0.00005 (best 0.00005), saving model to '/home/roko/spatial/output/lightning_logs/checkpoints/MonetDense/MonetDense__[512, 512, 512, 512, 512, 512]__25__FDR_test__Adam.ckpt' as top 1\n"
     ]
    },
    {
     "data": {
      "application/vnd.jupyter.widget-view+json": {
       "model_id": "2816a06153a345c2b4e682208e81fbbe",
       "version_major": 2,
       "version_minor": 0
      },
      "text/plain": [
       "Validation: 0it [00:00, ?it/s]"
      ]
     },
     "metadata": {},
     "output_type": "display_data"
    },
    {
     "name": "stderr",
     "output_type": "stream",
     "text": [
      "Epoch 76, global step 11781: 'val_loss' reached 0.00005 (best 0.00005), saving model to '/home/roko/spatial/output/lightning_logs/checkpoints/MonetDense/MonetDense__[512, 512, 512, 512, 512, 512]__25__FDR_test__Adam.ckpt' as top 1\n"
     ]
    },
    {
     "data": {
      "application/vnd.jupyter.widget-view+json": {
       "model_id": "fc49efe7f0c543efbb3efd89275c3d97",
       "version_major": 2,
       "version_minor": 0
      },
      "text/plain": [
       "Validation: 0it [00:00, ?it/s]"
      ]
     },
     "metadata": {},
     "output_type": "display_data"
    },
    {
     "name": "stderr",
     "output_type": "stream",
     "text": [
      "Epoch 77, global step 11934: 'val_loss' reached 0.00005 (best 0.00005), saving model to '/home/roko/spatial/output/lightning_logs/checkpoints/MonetDense/MonetDense__[512, 512, 512, 512, 512, 512]__25__FDR_test__Adam.ckpt' as top 1\n"
     ]
    },
    {
     "data": {
      "application/vnd.jupyter.widget-view+json": {
       "model_id": "46fecd063583472c8b543bff5c828ba3",
       "version_major": 2,
       "version_minor": 0
      },
      "text/plain": [
       "Validation: 0it [00:00, ?it/s]"
      ]
     },
     "metadata": {},
     "output_type": "display_data"
    },
    {
     "name": "stderr",
     "output_type": "stream",
     "text": [
      "Epoch 78, global step 12087: 'val_loss' reached 0.00005 (best 0.00005), saving model to '/home/roko/spatial/output/lightning_logs/checkpoints/MonetDense/MonetDense__[512, 512, 512, 512, 512, 512]__25__FDR_test__Adam.ckpt' as top 1\n"
     ]
    },
    {
     "data": {
      "application/vnd.jupyter.widget-view+json": {
       "model_id": "085d39a48add482b94b8ea0693df6e12",
       "version_major": 2,
       "version_minor": 0
      },
      "text/plain": [
       "Validation: 0it [00:00, ?it/s]"
      ]
     },
     "metadata": {},
     "output_type": "display_data"
    },
    {
     "name": "stderr",
     "output_type": "stream",
     "text": [
      "Epoch 79, global step 12240: 'val_loss' reached 0.00005 (best 0.00005), saving model to '/home/roko/spatial/output/lightning_logs/checkpoints/MonetDense/MonetDense__[512, 512, 512, 512, 512, 512]__25__FDR_test__Adam.ckpt' as top 1\n"
     ]
    },
    {
     "data": {
      "application/vnd.jupyter.widget-view+json": {
       "model_id": "9b8f99098a03418098a497e8558b7a83",
       "version_major": 2,
       "version_minor": 0
      },
      "text/plain": [
       "Validation: 0it [00:00, ?it/s]"
      ]
     },
     "metadata": {},
     "output_type": "display_data"
    },
    {
     "name": "stderr",
     "output_type": "stream",
     "text": [
      "Epoch 80, global step 12393: 'val_loss' was not in top 1\n"
     ]
    },
    {
     "data": {
      "application/vnd.jupyter.widget-view+json": {
       "model_id": "b5edabc3f336495f8857a435c5c14b4d",
       "version_major": 2,
       "version_minor": 0
      },
      "text/plain": [
       "Validation: 0it [00:00, ?it/s]"
      ]
     },
     "metadata": {},
     "output_type": "display_data"
    },
    {
     "name": "stderr",
     "output_type": "stream",
     "text": [
      "Epoch 81, global step 12546: 'val_loss' reached 0.00005 (best 0.00005), saving model to '/home/roko/spatial/output/lightning_logs/checkpoints/MonetDense/MonetDense__[512, 512, 512, 512, 512, 512]__25__FDR_test__Adam.ckpt' as top 1\n"
     ]
    },
    {
     "data": {
      "application/vnd.jupyter.widget-view+json": {
       "model_id": "0ae716328e1848bf9ca22f5caeade66c",
       "version_major": 2,
       "version_minor": 0
      },
      "text/plain": [
       "Validation: 0it [00:00, ?it/s]"
      ]
     },
     "metadata": {},
     "output_type": "display_data"
    },
    {
     "name": "stderr",
     "output_type": "stream",
     "text": [
      "Epoch 82, global step 12699: 'val_loss' reached 0.00005 (best 0.00005), saving model to '/home/roko/spatial/output/lightning_logs/checkpoints/MonetDense/MonetDense__[512, 512, 512, 512, 512, 512]__25__FDR_test__Adam.ckpt' as top 1\n"
     ]
    },
    {
     "data": {
      "application/vnd.jupyter.widget-view+json": {
       "model_id": "b54f4eb6aaaa4f738ec0fc6a078dfdea",
       "version_major": 2,
       "version_minor": 0
      },
      "text/plain": [
       "Validation: 0it [00:00, ?it/s]"
      ]
     },
     "metadata": {},
     "output_type": "display_data"
    },
    {
     "name": "stderr",
     "output_type": "stream",
     "text": [
      "Epoch 83, global step 12852: 'val_loss' reached 0.00005 (best 0.00005), saving model to '/home/roko/spatial/output/lightning_logs/checkpoints/MonetDense/MonetDense__[512, 512, 512, 512, 512, 512]__25__FDR_test__Adam.ckpt' as top 1\n"
     ]
    },
    {
     "data": {
      "application/vnd.jupyter.widget-view+json": {
       "model_id": "05b3dd09202b4f35a525c54fb84bf55b",
       "version_major": 2,
       "version_minor": 0
      },
      "text/plain": [
       "Validation: 0it [00:00, ?it/s]"
      ]
     },
     "metadata": {},
     "output_type": "display_data"
    },
    {
     "name": "stderr",
     "output_type": "stream",
     "text": [
      "Epoch 84, global step 13005: 'val_loss' reached 0.00005 (best 0.00005), saving model to '/home/roko/spatial/output/lightning_logs/checkpoints/MonetDense/MonetDense__[512, 512, 512, 512, 512, 512]__25__FDR_test__Adam.ckpt' as top 1\n"
     ]
    },
    {
     "data": {
      "application/vnd.jupyter.widget-view+json": {
       "model_id": "6cdbc2150281446bb6b9221e994d9bd8",
       "version_major": 2,
       "version_minor": 0
      },
      "text/plain": [
       "Validation: 0it [00:00, ?it/s]"
      ]
     },
     "metadata": {},
     "output_type": "display_data"
    },
    {
     "name": "stderr",
     "output_type": "stream",
     "text": [
      "Epoch 85, global step 13158: 'val_loss' was not in top 1\n"
     ]
    },
    {
     "data": {
      "application/vnd.jupyter.widget-view+json": {
       "model_id": "746eeaeafd724ed89a5944392f06ff43",
       "version_major": 2,
       "version_minor": 0
      },
      "text/plain": [
       "Validation: 0it [00:00, ?it/s]"
      ]
     },
     "metadata": {},
     "output_type": "display_data"
    },
    {
     "name": "stderr",
     "output_type": "stream",
     "text": [
      "Epoch 86, global step 13311: 'val_loss' reached 0.00005 (best 0.00005), saving model to '/home/roko/spatial/output/lightning_logs/checkpoints/MonetDense/MonetDense__[512, 512, 512, 512, 512, 512]__25__FDR_test__Adam.ckpt' as top 1\n"
     ]
    },
    {
     "data": {
      "application/vnd.jupyter.widget-view+json": {
       "model_id": "b341ce1f6f4b4dfba29b928b78f97db6",
       "version_major": 2,
       "version_minor": 0
      },
      "text/plain": [
       "Validation: 0it [00:00, ?it/s]"
      ]
     },
     "metadata": {},
     "output_type": "display_data"
    },
    {
     "name": "stderr",
     "output_type": "stream",
     "text": [
      "Epoch 87, global step 13464: 'val_loss' reached 0.00005 (best 0.00005), saving model to '/home/roko/spatial/output/lightning_logs/checkpoints/MonetDense/MonetDense__[512, 512, 512, 512, 512, 512]__25__FDR_test__Adam.ckpt' as top 1\n"
     ]
    },
    {
     "data": {
      "application/vnd.jupyter.widget-view+json": {
       "model_id": "39ce9cab54354a67b785e27ec86104af",
       "version_major": 2,
       "version_minor": 0
      },
      "text/plain": [
       "Validation: 0it [00:00, ?it/s]"
      ]
     },
     "metadata": {},
     "output_type": "display_data"
    },
    {
     "name": "stderr",
     "output_type": "stream",
     "text": [
      "Epoch 88, global step 13617: 'val_loss' reached 0.00005 (best 0.00005), saving model to '/home/roko/spatial/output/lightning_logs/checkpoints/MonetDense/MonetDense__[512, 512, 512, 512, 512, 512]__25__FDR_test__Adam.ckpt' as top 1\n"
     ]
    },
    {
     "data": {
      "application/vnd.jupyter.widget-view+json": {
       "model_id": "5ddd50e206c64393b3bcfcd9f7ec7556",
       "version_major": 2,
       "version_minor": 0
      },
      "text/plain": [
       "Validation: 0it [00:00, ?it/s]"
      ]
     },
     "metadata": {},
     "output_type": "display_data"
    },
    {
     "name": "stderr",
     "output_type": "stream",
     "text": [
      "Epoch 89, global step 13770: 'val_loss' reached 0.00005 (best 0.00005), saving model to '/home/roko/spatial/output/lightning_logs/checkpoints/MonetDense/MonetDense__[512, 512, 512, 512, 512, 512]__25__FDR_test__Adam.ckpt' as top 1\n"
     ]
    },
    {
     "data": {
      "application/vnd.jupyter.widget-view+json": {
       "model_id": "3610031b64174b51bfbc286f0b63e20b",
       "version_major": 2,
       "version_minor": 0
      },
      "text/plain": [
       "Validation: 0it [00:00, ?it/s]"
      ]
     },
     "metadata": {},
     "output_type": "display_data"
    },
    {
     "name": "stderr",
     "output_type": "stream",
     "text": [
      "Epoch 90, global step 13923: 'val_loss' reached 0.00005 (best 0.00005), saving model to '/home/roko/spatial/output/lightning_logs/checkpoints/MonetDense/MonetDense__[512, 512, 512, 512, 512, 512]__25__FDR_test__Adam.ckpt' as top 1\n"
     ]
    },
    {
     "data": {
      "application/vnd.jupyter.widget-view+json": {
       "model_id": "45ab01e1288b491e914d28b1ac24f5f0",
       "version_major": 2,
       "version_minor": 0
      },
      "text/plain": [
       "Validation: 0it [00:00, ?it/s]"
      ]
     },
     "metadata": {},
     "output_type": "display_data"
    },
    {
     "name": "stderr",
     "output_type": "stream",
     "text": [
      "Epoch 91, global step 14076: 'val_loss' was not in top 1\n"
     ]
    },
    {
     "data": {
      "application/vnd.jupyter.widget-view+json": {
       "model_id": "7e320b086c1a4bcda3f65cfcd9dd2f94",
       "version_major": 2,
       "version_minor": 0
      },
      "text/plain": [
       "Validation: 0it [00:00, ?it/s]"
      ]
     },
     "metadata": {},
     "output_type": "display_data"
    },
    {
     "name": "stderr",
     "output_type": "stream",
     "text": [
      "Epoch 92, global step 14229: 'val_loss' was not in top 1\n"
     ]
    },
    {
     "data": {
      "application/vnd.jupyter.widget-view+json": {
       "model_id": "840f872fd3fd442ca74affabe2c06b84",
       "version_major": 2,
       "version_minor": 0
      },
      "text/plain": [
       "Validation: 0it [00:00, ?it/s]"
      ]
     },
     "metadata": {},
     "output_type": "display_data"
    },
    {
     "name": "stderr",
     "output_type": "stream",
     "text": [
      "Epoch 93, global step 14382: 'val_loss' was not in top 1\n"
     ]
    },
    {
     "data": {
      "application/vnd.jupyter.widget-view+json": {
       "model_id": "1c97266ea9dd448c87e952ebcba6b7a0",
       "version_major": 2,
       "version_minor": 0
      },
      "text/plain": [
       "Validation: 0it [00:00, ?it/s]"
      ]
     },
     "metadata": {},
     "output_type": "display_data"
    },
    {
     "name": "stderr",
     "output_type": "stream",
     "text": [
      "Epoch 94, global step 14535: 'val_loss' reached 0.00005 (best 0.00005), saving model to '/home/roko/spatial/output/lightning_logs/checkpoints/MonetDense/MonetDense__[512, 512, 512, 512, 512, 512]__25__FDR_test__Adam.ckpt' as top 1\n"
     ]
    },
    {
     "data": {
      "application/vnd.jupyter.widget-view+json": {
       "model_id": "49b257607afa420bb452009757f1332b",
       "version_major": 2,
       "version_minor": 0
      },
      "text/plain": [
       "Validation: 0it [00:00, ?it/s]"
      ]
     },
     "metadata": {},
     "output_type": "display_data"
    },
    {
     "name": "stderr",
     "output_type": "stream",
     "text": [
      "Epoch 95, global step 14688: 'val_loss' reached 0.00005 (best 0.00005), saving model to '/home/roko/spatial/output/lightning_logs/checkpoints/MonetDense/MonetDense__[512, 512, 512, 512, 512, 512]__25__FDR_test__Adam.ckpt' as top 1\n"
     ]
    },
    {
     "data": {
      "application/vnd.jupyter.widget-view+json": {
       "model_id": "11ed296fcf5740eb9da427dc69c3f37e",
       "version_major": 2,
       "version_minor": 0
      },
      "text/plain": [
       "Validation: 0it [00:00, ?it/s]"
      ]
     },
     "metadata": {},
     "output_type": "display_data"
    },
    {
     "name": "stderr",
     "output_type": "stream",
     "text": [
      "Epoch 96, global step 14841: 'val_loss' reached 0.00005 (best 0.00005), saving model to '/home/roko/spatial/output/lightning_logs/checkpoints/MonetDense/MonetDense__[512, 512, 512, 512, 512, 512]__25__FDR_test__Adam.ckpt' as top 1\n"
     ]
    },
    {
     "data": {
      "application/vnd.jupyter.widget-view+json": {
       "model_id": "febeccbf6574419eb2718e759ba31272",
       "version_major": 2,
       "version_minor": 0
      },
      "text/plain": [
       "Validation: 0it [00:00, ?it/s]"
      ]
     },
     "metadata": {},
     "output_type": "display_data"
    },
    {
     "name": "stderr",
     "output_type": "stream",
     "text": [
      "Epoch 97, global step 14994: 'val_loss' was not in top 1\n"
     ]
    },
    {
     "data": {
      "application/vnd.jupyter.widget-view+json": {
       "model_id": "98e8bf9ab64b47f89e95f149a6b30164",
       "version_major": 2,
       "version_minor": 0
      },
      "text/plain": [
       "Validation: 0it [00:00, ?it/s]"
      ]
     },
     "metadata": {},
     "output_type": "display_data"
    },
    {
     "name": "stderr",
     "output_type": "stream",
     "text": [
      "Epoch 98, global step 15147: 'val_loss' was not in top 1\n"
     ]
    },
    {
     "data": {
      "application/vnd.jupyter.widget-view+json": {
       "model_id": "b8a7298ae2fe4925ba051eb25c229c66",
       "version_major": 2,
       "version_minor": 0
      },
      "text/plain": [
       "Validation: 0it [00:00, ?it/s]"
      ]
     },
     "metadata": {},
     "output_type": "display_data"
    },
    {
     "name": "stderr",
     "output_type": "stream",
     "text": [
      "Epoch 99, global step 15300: 'val_loss' reached 0.00005 (best 0.00005), saving model to '/home/roko/spatial/output/lightning_logs/checkpoints/MonetDense/MonetDense__[512, 512, 512, 512, 512, 512]__25__FDR_test__Adam.ckpt' as top 1\n"
     ]
    },
    {
     "data": {
      "application/vnd.jupyter.widget-view+json": {
       "model_id": "38a239eecbbe496b8520dec65b0755e3",
       "version_major": 2,
       "version_minor": 0
      },
      "text/plain": [
       "Validation: 0it [00:00, ?it/s]"
      ]
     },
     "metadata": {},
     "output_type": "display_data"
    },
    {
     "name": "stderr",
     "output_type": "stream",
     "text": [
      "Epoch 100, global step 15453: 'val_loss' reached 0.00005 (best 0.00005), saving model to '/home/roko/spatial/output/lightning_logs/checkpoints/MonetDense/MonetDense__[512, 512, 512, 512, 512, 512]__25__FDR_test__Adam.ckpt' as top 1\n"
     ]
    },
    {
     "data": {
      "application/vnd.jupyter.widget-view+json": {
       "model_id": "79e5445683bf41498bbc565f9f7c2bbd",
       "version_major": 2,
       "version_minor": 0
      },
      "text/plain": [
       "Validation: 0it [00:00, ?it/s]"
      ]
     },
     "metadata": {},
     "output_type": "display_data"
    },
    {
     "name": "stderr",
     "output_type": "stream",
     "text": [
      "Epoch 101, global step 15606: 'val_loss' reached 0.00005 (best 0.00005), saving model to '/home/roko/spatial/output/lightning_logs/checkpoints/MonetDense/MonetDense__[512, 512, 512, 512, 512, 512]__25__FDR_test__Adam.ckpt' as top 1\n"
     ]
    },
    {
     "data": {
      "application/vnd.jupyter.widget-view+json": {
       "model_id": "ad0fac3d5c6843e6b29e2726b929f7f8",
       "version_major": 2,
       "version_minor": 0
      },
      "text/plain": [
       "Validation: 0it [00:00, ?it/s]"
      ]
     },
     "metadata": {},
     "output_type": "display_data"
    },
    {
     "name": "stderr",
     "output_type": "stream",
     "text": [
      "Epoch 102, global step 15759: 'val_loss' reached 0.00005 (best 0.00005), saving model to '/home/roko/spatial/output/lightning_logs/checkpoints/MonetDense/MonetDense__[512, 512, 512, 512, 512, 512]__25__FDR_test__Adam.ckpt' as top 1\n"
     ]
    },
    {
     "data": {
      "application/vnd.jupyter.widget-view+json": {
       "model_id": "f82a3073ac4749af8e553f90e489df8d",
       "version_major": 2,
       "version_minor": 0
      },
      "text/plain": [
       "Validation: 0it [00:00, ?it/s]"
      ]
     },
     "metadata": {},
     "output_type": "display_data"
    },
    {
     "name": "stderr",
     "output_type": "stream",
     "text": [
      "Epoch 103, global step 15912: 'val_loss' reached 0.00005 (best 0.00005), saving model to '/home/roko/spatial/output/lightning_logs/checkpoints/MonetDense/MonetDense__[512, 512, 512, 512, 512, 512]__25__FDR_test__Adam.ckpt' as top 1\n"
     ]
    },
    {
     "data": {
      "application/vnd.jupyter.widget-view+json": {
       "model_id": "15c65ed7038444038f012b7f6e153484",
       "version_major": 2,
       "version_minor": 0
      },
      "text/plain": [
       "Validation: 0it [00:00, ?it/s]"
      ]
     },
     "metadata": {},
     "output_type": "display_data"
    },
    {
     "name": "stderr",
     "output_type": "stream",
     "text": [
      "Epoch 104, global step 16065: 'val_loss' reached 0.00005 (best 0.00005), saving model to '/home/roko/spatial/output/lightning_logs/checkpoints/MonetDense/MonetDense__[512, 512, 512, 512, 512, 512]__25__FDR_test__Adam.ckpt' as top 1\n"
     ]
    },
    {
     "data": {
      "application/vnd.jupyter.widget-view+json": {
       "model_id": "c73421111bbc4227b427abf9531b5cc0",
       "version_major": 2,
       "version_minor": 0
      },
      "text/plain": [
       "Validation: 0it [00:00, ?it/s]"
      ]
     },
     "metadata": {},
     "output_type": "display_data"
    },
    {
     "name": "stderr",
     "output_type": "stream",
     "text": [
      "Epoch 105, global step 16218: 'val_loss' reached 0.00005 (best 0.00005), saving model to '/home/roko/spatial/output/lightning_logs/checkpoints/MonetDense/MonetDense__[512, 512, 512, 512, 512, 512]__25__FDR_test__Adam.ckpt' as top 1\n"
     ]
    },
    {
     "data": {
      "application/vnd.jupyter.widget-view+json": {
       "model_id": "848843568d3d44c388f8b87c80ede099",
       "version_major": 2,
       "version_minor": 0
      },
      "text/plain": [
       "Validation: 0it [00:00, ?it/s]"
      ]
     },
     "metadata": {},
     "output_type": "display_data"
    },
    {
     "name": "stderr",
     "output_type": "stream",
     "text": [
      "Epoch 106, global step 16371: 'val_loss' reached 0.00005 (best 0.00005), saving model to '/home/roko/spatial/output/lightning_logs/checkpoints/MonetDense/MonetDense__[512, 512, 512, 512, 512, 512]__25__FDR_test__Adam.ckpt' as top 1\n"
     ]
    },
    {
     "data": {
      "application/vnd.jupyter.widget-view+json": {
       "model_id": "7c8cafa7c3404deeacfbc936fe69f8bc",
       "version_major": 2,
       "version_minor": 0
      },
      "text/plain": [
       "Validation: 0it [00:00, ?it/s]"
      ]
     },
     "metadata": {},
     "output_type": "display_data"
    },
    {
     "name": "stderr",
     "output_type": "stream",
     "text": [
      "Epoch 107, global step 16524: 'val_loss' reached 0.00004 (best 0.00004), saving model to '/home/roko/spatial/output/lightning_logs/checkpoints/MonetDense/MonetDense__[512, 512, 512, 512, 512, 512]__25__FDR_test__Adam.ckpt' as top 1\n"
     ]
    },
    {
     "data": {
      "application/vnd.jupyter.widget-view+json": {
       "model_id": "769a9dd100e04929837880352f692208",
       "version_major": 2,
       "version_minor": 0
      },
      "text/plain": [
       "Validation: 0it [00:00, ?it/s]"
      ]
     },
     "metadata": {},
     "output_type": "display_data"
    },
    {
     "name": "stderr",
     "output_type": "stream",
     "text": [
      "Epoch 108, global step 16677: 'val_loss' was not in top 1\n"
     ]
    },
    {
     "data": {
      "application/vnd.jupyter.widget-view+json": {
       "model_id": "595d265aa4554b4a91a8110fabd787ff",
       "version_major": 2,
       "version_minor": 0
      },
      "text/plain": [
       "Validation: 0it [00:00, ?it/s]"
      ]
     },
     "metadata": {},
     "output_type": "display_data"
    },
    {
     "name": "stderr",
     "output_type": "stream",
     "text": [
      "Epoch 109, global step 16830: 'val_loss' was not in top 1\n"
     ]
    },
    {
     "data": {
      "application/vnd.jupyter.widget-view+json": {
       "model_id": "3e4e651a13eb43e2ad0fdc9e2f32d2a0",
       "version_major": 2,
       "version_minor": 0
      },
      "text/plain": [
       "Validation: 0it [00:00, ?it/s]"
      ]
     },
     "metadata": {},
     "output_type": "display_data"
    },
    {
     "name": "stderr",
     "output_type": "stream",
     "text": [
      "Epoch 110, global step 16983: 'val_loss' was not in top 1\n"
     ]
    },
    {
     "data": {
      "application/vnd.jupyter.widget-view+json": {
       "model_id": "484f0191477d49f48c4e00587b0fd117",
       "version_major": 2,
       "version_minor": 0
      },
      "text/plain": [
       "Validation: 0it [00:00, ?it/s]"
      ]
     },
     "metadata": {},
     "output_type": "display_data"
    },
    {
     "name": "stderr",
     "output_type": "stream",
     "text": [
      "Epoch 111, global step 17136: 'val_loss' was not in top 1\n"
     ]
    },
    {
     "data": {
      "application/vnd.jupyter.widget-view+json": {
       "model_id": "c3de4851f8854b83835724027e5f1c0c",
       "version_major": 2,
       "version_minor": 0
      },
      "text/plain": [
       "Validation: 0it [00:00, ?it/s]"
      ]
     },
     "metadata": {},
     "output_type": "display_data"
    },
    {
     "name": "stderr",
     "output_type": "stream",
     "text": [
      "Epoch 112, global step 17289: 'val_loss' reached 0.00004 (best 0.00004), saving model to '/home/roko/spatial/output/lightning_logs/checkpoints/MonetDense/MonetDense__[512, 512, 512, 512, 512, 512]__25__FDR_test__Adam.ckpt' as top 1\n"
     ]
    },
    {
     "data": {
      "application/vnd.jupyter.widget-view+json": {
       "model_id": "726fcc060c7c4609b7e05f27d8d8be72",
       "version_major": 2,
       "version_minor": 0
      },
      "text/plain": [
       "Validation: 0it [00:00, ?it/s]"
      ]
     },
     "metadata": {},
     "output_type": "display_data"
    },
    {
     "name": "stderr",
     "output_type": "stream",
     "text": [
      "Epoch 113, global step 17442: 'val_loss' reached 0.00004 (best 0.00004), saving model to '/home/roko/spatial/output/lightning_logs/checkpoints/MonetDense/MonetDense__[512, 512, 512, 512, 512, 512]__25__FDR_test__Adam.ckpt' as top 1\n"
     ]
    },
    {
     "data": {
      "application/vnd.jupyter.widget-view+json": {
       "model_id": "9e9b0a2e301345328ab472aab4be34a7",
       "version_major": 2,
       "version_minor": 0
      },
      "text/plain": [
       "Validation: 0it [00:00, ?it/s]"
      ]
     },
     "metadata": {},
     "output_type": "display_data"
    },
    {
     "name": "stderr",
     "output_type": "stream",
     "text": [
      "Epoch 114, global step 17595: 'val_loss' reached 0.00004 (best 0.00004), saving model to '/home/roko/spatial/output/lightning_logs/checkpoints/MonetDense/MonetDense__[512, 512, 512, 512, 512, 512]__25__FDR_test__Adam.ckpt' as top 1\n"
     ]
    },
    {
     "data": {
      "application/vnd.jupyter.widget-view+json": {
       "model_id": "52b5be2b8f224886aa4c340a5ec95798",
       "version_major": 2,
       "version_minor": 0
      },
      "text/plain": [
       "Validation: 0it [00:00, ?it/s]"
      ]
     },
     "metadata": {},
     "output_type": "display_data"
    },
    {
     "name": "stderr",
     "output_type": "stream",
     "text": [
      "Epoch 115, global step 17748: 'val_loss' reached 0.00004 (best 0.00004), saving model to '/home/roko/spatial/output/lightning_logs/checkpoints/MonetDense/MonetDense__[512, 512, 512, 512, 512, 512]__25__FDR_test__Adam.ckpt' as top 1\n"
     ]
    },
    {
     "data": {
      "application/vnd.jupyter.widget-view+json": {
       "model_id": "be9c4d7208974b97b0d2230ba70fd40c",
       "version_major": 2,
       "version_minor": 0
      },
      "text/plain": [
       "Validation: 0it [00:00, ?it/s]"
      ]
     },
     "metadata": {},
     "output_type": "display_data"
    },
    {
     "name": "stderr",
     "output_type": "stream",
     "text": [
      "Epoch 116, global step 17901: 'val_loss' reached 0.00004 (best 0.00004), saving model to '/home/roko/spatial/output/lightning_logs/checkpoints/MonetDense/MonetDense__[512, 512, 512, 512, 512, 512]__25__FDR_test__Adam.ckpt' as top 1\n"
     ]
    },
    {
     "data": {
      "application/vnd.jupyter.widget-view+json": {
       "model_id": "ec7d1a4239cf47fb8e86acc2a50978e4",
       "version_major": 2,
       "version_minor": 0
      },
      "text/plain": [
       "Validation: 0it [00:00, ?it/s]"
      ]
     },
     "metadata": {},
     "output_type": "display_data"
    },
    {
     "name": "stderr",
     "output_type": "stream",
     "text": [
      "Epoch 117, global step 18054: 'val_loss' reached 0.00004 (best 0.00004), saving model to '/home/roko/spatial/output/lightning_logs/checkpoints/MonetDense/MonetDense__[512, 512, 512, 512, 512, 512]__25__FDR_test__Adam.ckpt' as top 1\n"
     ]
    },
    {
     "data": {
      "application/vnd.jupyter.widget-view+json": {
       "model_id": "766b7fe9cb0248648f7e1f071adf1945",
       "version_major": 2,
       "version_minor": 0
      },
      "text/plain": [
       "Validation: 0it [00:00, ?it/s]"
      ]
     },
     "metadata": {},
     "output_type": "display_data"
    },
    {
     "name": "stderr",
     "output_type": "stream",
     "text": [
      "Epoch 118, global step 18207: 'val_loss' reached 0.00004 (best 0.00004), saving model to '/home/roko/spatial/output/lightning_logs/checkpoints/MonetDense/MonetDense__[512, 512, 512, 512, 512, 512]__25__FDR_test__Adam.ckpt' as top 1\n"
     ]
    },
    {
     "data": {
      "application/vnd.jupyter.widget-view+json": {
       "model_id": "b88b4b1ea8ee4cc89cadfdac0ec19549",
       "version_major": 2,
       "version_minor": 0
      },
      "text/plain": [
       "Validation: 0it [00:00, ?it/s]"
      ]
     },
     "metadata": {},
     "output_type": "display_data"
    },
    {
     "name": "stderr",
     "output_type": "stream",
     "text": [
      "Epoch 119, global step 18360: 'val_loss' reached 0.00004 (best 0.00004), saving model to '/home/roko/spatial/output/lightning_logs/checkpoints/MonetDense/MonetDense__[512, 512, 512, 512, 512, 512]__25__FDR_test__Adam.ckpt' as top 1\n"
     ]
    },
    {
     "data": {
      "application/vnd.jupyter.widget-view+json": {
       "model_id": "a3726d839b6949dd9b2bc3cce7de25f8",
       "version_major": 2,
       "version_minor": 0
      },
      "text/plain": [
       "Validation: 0it [00:00, ?it/s]"
      ]
     },
     "metadata": {},
     "output_type": "display_data"
    },
    {
     "name": "stderr",
     "output_type": "stream",
     "text": [
      "Epoch 120, global step 18513: 'val_loss' reached 0.00004 (best 0.00004), saving model to '/home/roko/spatial/output/lightning_logs/checkpoints/MonetDense/MonetDense__[512, 512, 512, 512, 512, 512]__25__FDR_test__Adam.ckpt' as top 1\n"
     ]
    },
    {
     "data": {
      "application/vnd.jupyter.widget-view+json": {
       "model_id": "68cdd40212a148108240dfa75fdf0c20",
       "version_major": 2,
       "version_minor": 0
      },
      "text/plain": [
       "Validation: 0it [00:00, ?it/s]"
      ]
     },
     "metadata": {},
     "output_type": "display_data"
    },
    {
     "name": "stderr",
     "output_type": "stream",
     "text": [
      "Epoch 121, global step 18666: 'val_loss' reached 0.00004 (best 0.00004), saving model to '/home/roko/spatial/output/lightning_logs/checkpoints/MonetDense/MonetDense__[512, 512, 512, 512, 512, 512]__25__FDR_test__Adam.ckpt' as top 1\n"
     ]
    },
    {
     "data": {
      "application/vnd.jupyter.widget-view+json": {
       "model_id": "1892a679077548f5bf1bb8ec797175e1",
       "version_major": 2,
       "version_minor": 0
      },
      "text/plain": [
       "Validation: 0it [00:00, ?it/s]"
      ]
     },
     "metadata": {},
     "output_type": "display_data"
    },
    {
     "name": "stderr",
     "output_type": "stream",
     "text": [
      "Epoch 122, global step 18819: 'val_loss' reached 0.00004 (best 0.00004), saving model to '/home/roko/spatial/output/lightning_logs/checkpoints/MonetDense/MonetDense__[512, 512, 512, 512, 512, 512]__25__FDR_test__Adam.ckpt' as top 1\n"
     ]
    },
    {
     "data": {
      "application/vnd.jupyter.widget-view+json": {
       "model_id": "5e6e246d88eb479cbdd7d1c5f4425dd7",
       "version_major": 2,
       "version_minor": 0
      },
      "text/plain": [
       "Validation: 0it [00:00, ?it/s]"
      ]
     },
     "metadata": {},
     "output_type": "display_data"
    },
    {
     "name": "stderr",
     "output_type": "stream",
     "text": [
      "Epoch 123, global step 18972: 'val_loss' reached 0.00004 (best 0.00004), saving model to '/home/roko/spatial/output/lightning_logs/checkpoints/MonetDense/MonetDense__[512, 512, 512, 512, 512, 512]__25__FDR_test__Adam.ckpt' as top 1\n"
     ]
    },
    {
     "data": {
      "application/vnd.jupyter.widget-view+json": {
       "model_id": "fb2d947929c04468acfcf2c9b6c9da01",
       "version_major": 2,
       "version_minor": 0
      },
      "text/plain": [
       "Validation: 0it [00:00, ?it/s]"
      ]
     },
     "metadata": {},
     "output_type": "display_data"
    },
    {
     "name": "stderr",
     "output_type": "stream",
     "text": [
      "Epoch 124, global step 19125: 'val_loss' reached 0.00004 (best 0.00004), saving model to '/home/roko/spatial/output/lightning_logs/checkpoints/MonetDense/MonetDense__[512, 512, 512, 512, 512, 512]__25__FDR_test__Adam.ckpt' as top 1\n"
     ]
    },
    {
     "data": {
      "application/vnd.jupyter.widget-view+json": {
       "model_id": "2f70564334754b0fb43521c931ce6304",
       "version_major": 2,
       "version_minor": 0
      },
      "text/plain": [
       "Validation: 0it [00:00, ?it/s]"
      ]
     },
     "metadata": {},
     "output_type": "display_data"
    },
    {
     "name": "stderr",
     "output_type": "stream",
     "text": [
      "Epoch 125, global step 19278: 'val_loss' reached 0.00004 (best 0.00004), saving model to '/home/roko/spatial/output/lightning_logs/checkpoints/MonetDense/MonetDense__[512, 512, 512, 512, 512, 512]__25__FDR_test__Adam.ckpt' as top 1\n"
     ]
    },
    {
     "data": {
      "application/vnd.jupyter.widget-view+json": {
       "model_id": "1a02d28817824e298b10c9f8e25c6da9",
       "version_major": 2,
       "version_minor": 0
      },
      "text/plain": [
       "Validation: 0it [00:00, ?it/s]"
      ]
     },
     "metadata": {},
     "output_type": "display_data"
    },
    {
     "name": "stderr",
     "output_type": "stream",
     "text": [
      "Epoch 126, global step 19431: 'val_loss' reached 0.00004 (best 0.00004), saving model to '/home/roko/spatial/output/lightning_logs/checkpoints/MonetDense/MonetDense__[512, 512, 512, 512, 512, 512]__25__FDR_test__Adam.ckpt' as top 1\n"
     ]
    },
    {
     "data": {
      "application/vnd.jupyter.widget-view+json": {
       "model_id": "5f8e57c2a7c144e28e5bbbe7e933a782",
       "version_major": 2,
       "version_minor": 0
      },
      "text/plain": [
       "Validation: 0it [00:00, ?it/s]"
      ]
     },
     "metadata": {},
     "output_type": "display_data"
    },
    {
     "name": "stderr",
     "output_type": "stream",
     "text": [
      "Epoch 127, global step 19584: 'val_loss' reached 0.00004 (best 0.00004), saving model to '/home/roko/spatial/output/lightning_logs/checkpoints/MonetDense/MonetDense__[512, 512, 512, 512, 512, 512]__25__FDR_test__Adam.ckpt' as top 1\n"
     ]
    },
    {
     "data": {
      "application/vnd.jupyter.widget-view+json": {
       "model_id": "3e96d9bfe26c41f4951c949766f9d248",
       "version_major": 2,
       "version_minor": 0
      },
      "text/plain": [
       "Validation: 0it [00:00, ?it/s]"
      ]
     },
     "metadata": {},
     "output_type": "display_data"
    },
    {
     "name": "stderr",
     "output_type": "stream",
     "text": [
      "Epoch 128, global step 19737: 'val_loss' reached 0.00004 (best 0.00004), saving model to '/home/roko/spatial/output/lightning_logs/checkpoints/MonetDense/MonetDense__[512, 512, 512, 512, 512, 512]__25__FDR_test__Adam.ckpt' as top 1\n"
     ]
    },
    {
     "data": {
      "application/vnd.jupyter.widget-view+json": {
       "model_id": "30a997ffad5147188cb7c6ecedd60d17",
       "version_major": 2,
       "version_minor": 0
      },
      "text/plain": [
       "Validation: 0it [00:00, ?it/s]"
      ]
     },
     "metadata": {},
     "output_type": "display_data"
    },
    {
     "name": "stderr",
     "output_type": "stream",
     "text": [
      "Epoch 129, global step 19890: 'val_loss' reached 0.00004 (best 0.00004), saving model to '/home/roko/spatial/output/lightning_logs/checkpoints/MonetDense/MonetDense__[512, 512, 512, 512, 512, 512]__25__FDR_test__Adam.ckpt' as top 1\n"
     ]
    },
    {
     "data": {
      "application/vnd.jupyter.widget-view+json": {
       "model_id": "6f9c66cdcc58464da14755b77966f3db",
       "version_major": 2,
       "version_minor": 0
      },
      "text/plain": [
       "Validation: 0it [00:00, ?it/s]"
      ]
     },
     "metadata": {},
     "output_type": "display_data"
    },
    {
     "name": "stderr",
     "output_type": "stream",
     "text": [
      "Epoch 130, global step 20043: 'val_loss' reached 0.00004 (best 0.00004), saving model to '/home/roko/spatial/output/lightning_logs/checkpoints/MonetDense/MonetDense__[512, 512, 512, 512, 512, 512]__25__FDR_test__Adam.ckpt' as top 1\n"
     ]
    },
    {
     "data": {
      "application/vnd.jupyter.widget-view+json": {
       "model_id": "9d988ff8da8b4fc38e04f4ad92cfcf93",
       "version_major": 2,
       "version_minor": 0
      },
      "text/plain": [
       "Validation: 0it [00:00, ?it/s]"
      ]
     },
     "metadata": {},
     "output_type": "display_data"
    },
    {
     "name": "stderr",
     "output_type": "stream",
     "text": [
      "Epoch 131, global step 20196: 'val_loss' reached 0.00004 (best 0.00004), saving model to '/home/roko/spatial/output/lightning_logs/checkpoints/MonetDense/MonetDense__[512, 512, 512, 512, 512, 512]__25__FDR_test__Adam.ckpt' as top 1\n"
     ]
    },
    {
     "data": {
      "application/vnd.jupyter.widget-view+json": {
       "model_id": "12fa2b2fa88d4be39852894d6ac29273",
       "version_major": 2,
       "version_minor": 0
      },
      "text/plain": [
       "Validation: 0it [00:00, ?it/s]"
      ]
     },
     "metadata": {},
     "output_type": "display_data"
    },
    {
     "name": "stderr",
     "output_type": "stream",
     "text": [
      "Epoch 132, global step 20349: 'val_loss' reached 0.00004 (best 0.00004), saving model to '/home/roko/spatial/output/lightning_logs/checkpoints/MonetDense/MonetDense__[512, 512, 512, 512, 512, 512]__25__FDR_test__Adam.ckpt' as top 1\n"
     ]
    },
    {
     "data": {
      "application/vnd.jupyter.widget-view+json": {
       "model_id": "b542a97ac7824a73b70c9e71eef06c37",
       "version_major": 2,
       "version_minor": 0
      },
      "text/plain": [
       "Validation: 0it [00:00, ?it/s]"
      ]
     },
     "metadata": {},
     "output_type": "display_data"
    },
    {
     "name": "stderr",
     "output_type": "stream",
     "text": [
      "Epoch 133, global step 20502: 'val_loss' reached 0.00004 (best 0.00004), saving model to '/home/roko/spatial/output/lightning_logs/checkpoints/MonetDense/MonetDense__[512, 512, 512, 512, 512, 512]__25__FDR_test__Adam.ckpt' as top 1\n"
     ]
    },
    {
     "data": {
      "application/vnd.jupyter.widget-view+json": {
       "model_id": "988235ee811741998242223dc1e4ba9e",
       "version_major": 2,
       "version_minor": 0
      },
      "text/plain": [
       "Validation: 0it [00:00, ?it/s]"
      ]
     },
     "metadata": {},
     "output_type": "display_data"
    },
    {
     "name": "stderr",
     "output_type": "stream",
     "text": [
      "Epoch 134, global step 20655: 'val_loss' reached 0.00004 (best 0.00004), saving model to '/home/roko/spatial/output/lightning_logs/checkpoints/MonetDense/MonetDense__[512, 512, 512, 512, 512, 512]__25__FDR_test__Adam.ckpt' as top 1\n"
     ]
    },
    {
     "data": {
      "application/vnd.jupyter.widget-view+json": {
       "model_id": "05ce09642ec14afbac6d2f11718de2b8",
       "version_major": 2,
       "version_minor": 0
      },
      "text/plain": [
       "Validation: 0it [00:00, ?it/s]"
      ]
     },
     "metadata": {},
     "output_type": "display_data"
    },
    {
     "name": "stderr",
     "output_type": "stream",
     "text": [
      "Epoch 135, global step 20808: 'val_loss' reached 0.00004 (best 0.00004), saving model to '/home/roko/spatial/output/lightning_logs/checkpoints/MonetDense/MonetDense__[512, 512, 512, 512, 512, 512]__25__FDR_test__Adam.ckpt' as top 1\n"
     ]
    },
    {
     "data": {
      "application/vnd.jupyter.widget-view+json": {
       "model_id": "36313bb8fb7d4e9cb43e8d408c2a1e01",
       "version_major": 2,
       "version_minor": 0
      },
      "text/plain": [
       "Validation: 0it [00:00, ?it/s]"
      ]
     },
     "metadata": {},
     "output_type": "display_data"
    },
    {
     "name": "stderr",
     "output_type": "stream",
     "text": [
      "Epoch 136, global step 20961: 'val_loss' reached 0.00004 (best 0.00004), saving model to '/home/roko/spatial/output/lightning_logs/checkpoints/MonetDense/MonetDense__[512, 512, 512, 512, 512, 512]__25__FDR_test__Adam.ckpt' as top 1\n"
     ]
    },
    {
     "data": {
      "application/vnd.jupyter.widget-view+json": {
       "model_id": "757f497054d7413c9cca55e63b908fce",
       "version_major": 2,
       "version_minor": 0
      },
      "text/plain": [
       "Validation: 0it [00:00, ?it/s]"
      ]
     },
     "metadata": {},
     "output_type": "display_data"
    },
    {
     "name": "stderr",
     "output_type": "stream",
     "text": [
      "Epoch 137, global step 21114: 'val_loss' reached 0.00004 (best 0.00004), saving model to '/home/roko/spatial/output/lightning_logs/checkpoints/MonetDense/MonetDense__[512, 512, 512, 512, 512, 512]__25__FDR_test__Adam.ckpt' as top 1\n"
     ]
    },
    {
     "data": {
      "application/vnd.jupyter.widget-view+json": {
       "model_id": "d6d61997c11f43efb7fd6de3a79d60f0",
       "version_major": 2,
       "version_minor": 0
      },
      "text/plain": [
       "Validation: 0it [00:00, ?it/s]"
      ]
     },
     "metadata": {},
     "output_type": "display_data"
    },
    {
     "name": "stderr",
     "output_type": "stream",
     "text": [
      "Epoch 138, global step 21267: 'val_loss' reached 0.00004 (best 0.00004), saving model to '/home/roko/spatial/output/lightning_logs/checkpoints/MonetDense/MonetDense__[512, 512, 512, 512, 512, 512]__25__FDR_test__Adam.ckpt' as top 1\n"
     ]
    },
    {
     "data": {
      "application/vnd.jupyter.widget-view+json": {
       "model_id": "99b1970e703744bb8194b685a7fd2c43",
       "version_major": 2,
       "version_minor": 0
      },
      "text/plain": [
       "Validation: 0it [00:00, ?it/s]"
      ]
     },
     "metadata": {},
     "output_type": "display_data"
    },
    {
     "name": "stderr",
     "output_type": "stream",
     "text": [
      "Epoch 139, global step 21420: 'val_loss' reached 0.00004 (best 0.00004), saving model to '/home/roko/spatial/output/lightning_logs/checkpoints/MonetDense/MonetDense__[512, 512, 512, 512, 512, 512]__25__FDR_test__Adam.ckpt' as top 1\n"
     ]
    },
    {
     "data": {
      "application/vnd.jupyter.widget-view+json": {
       "model_id": "d1890cf26dd3427aad89575d3ad64315",
       "version_major": 2,
       "version_minor": 0
      },
      "text/plain": [
       "Validation: 0it [00:00, ?it/s]"
      ]
     },
     "metadata": {},
     "output_type": "display_data"
    },
    {
     "name": "stderr",
     "output_type": "stream",
     "text": [
      "Epoch 140, global step 21573: 'val_loss' reached 0.00004 (best 0.00004), saving model to '/home/roko/spatial/output/lightning_logs/checkpoints/MonetDense/MonetDense__[512, 512, 512, 512, 512, 512]__25__FDR_test__Adam.ckpt' as top 1\n"
     ]
    },
    {
     "data": {
      "application/vnd.jupyter.widget-view+json": {
       "model_id": "d4b1db04b08146dc8da2ccc2b9118ab0",
       "version_major": 2,
       "version_minor": 0
      },
      "text/plain": [
       "Validation: 0it [00:00, ?it/s]"
      ]
     },
     "metadata": {},
     "output_type": "display_data"
    },
    {
     "name": "stderr",
     "output_type": "stream",
     "text": [
      "Epoch 141, global step 21726: 'val_loss' reached 0.00004 (best 0.00004), saving model to '/home/roko/spatial/output/lightning_logs/checkpoints/MonetDense/MonetDense__[512, 512, 512, 512, 512, 512]__25__FDR_test__Adam.ckpt' as top 1\n"
     ]
    },
    {
     "data": {
      "application/vnd.jupyter.widget-view+json": {
       "model_id": "8e773e858052484886e2ffbd970febe3",
       "version_major": 2,
       "version_minor": 0
      },
      "text/plain": [
       "Validation: 0it [00:00, ?it/s]"
      ]
     },
     "metadata": {},
     "output_type": "display_data"
    },
    {
     "name": "stderr",
     "output_type": "stream",
     "text": [
      "Epoch 142, global step 21879: 'val_loss' reached 0.00004 (best 0.00004), saving model to '/home/roko/spatial/output/lightning_logs/checkpoints/MonetDense/MonetDense__[512, 512, 512, 512, 512, 512]__25__FDR_test__Adam.ckpt' as top 1\n"
     ]
    },
    {
     "data": {
      "application/vnd.jupyter.widget-view+json": {
       "model_id": "1b890c816fed4ceda9090c2984f63d3e",
       "version_major": 2,
       "version_minor": 0
      },
      "text/plain": [
       "Validation: 0it [00:00, ?it/s]"
      ]
     },
     "metadata": {},
     "output_type": "display_data"
    },
    {
     "name": "stderr",
     "output_type": "stream",
     "text": [
      "Epoch 143, global step 22032: 'val_loss' reached 0.00004 (best 0.00004), saving model to '/home/roko/spatial/output/lightning_logs/checkpoints/MonetDense/MonetDense__[512, 512, 512, 512, 512, 512]__25__FDR_test__Adam.ckpt' as top 1\n"
     ]
    },
    {
     "data": {
      "application/vnd.jupyter.widget-view+json": {
       "model_id": "d7fea3b942ac4dd7bf201aedffb9ed76",
       "version_major": 2,
       "version_minor": 0
      },
      "text/plain": [
       "Validation: 0it [00:00, ?it/s]"
      ]
     },
     "metadata": {},
     "output_type": "display_data"
    },
    {
     "name": "stderr",
     "output_type": "stream",
     "text": [
      "Epoch 144, global step 22185: 'val_loss' reached 0.00004 (best 0.00004), saving model to '/home/roko/spatial/output/lightning_logs/checkpoints/MonetDense/MonetDense__[512, 512, 512, 512, 512, 512]__25__FDR_test__Adam.ckpt' as top 1\n"
     ]
    },
    {
     "data": {
      "application/vnd.jupyter.widget-view+json": {
       "model_id": "52c98dc5d1834057996ae6bda3687723",
       "version_major": 2,
       "version_minor": 0
      },
      "text/plain": [
       "Validation: 0it [00:00, ?it/s]"
      ]
     },
     "metadata": {},
     "output_type": "display_data"
    },
    {
     "name": "stderr",
     "output_type": "stream",
     "text": [
      "Epoch 145, global step 22338: 'val_loss' reached 0.00004 (best 0.00004), saving model to '/home/roko/spatial/output/lightning_logs/checkpoints/MonetDense/MonetDense__[512, 512, 512, 512, 512, 512]__25__FDR_test__Adam.ckpt' as top 1\n"
     ]
    },
    {
     "data": {
      "application/vnd.jupyter.widget-view+json": {
       "model_id": "b9a03374e8d74be19a0e6da684997b4a",
       "version_major": 2,
       "version_minor": 0
      },
      "text/plain": [
       "Validation: 0it [00:00, ?it/s]"
      ]
     },
     "metadata": {},
     "output_type": "display_data"
    },
    {
     "name": "stderr",
     "output_type": "stream",
     "text": [
      "Epoch 146, global step 22491: 'val_loss' reached 0.00004 (best 0.00004), saving model to '/home/roko/spatial/output/lightning_logs/checkpoints/MonetDense/MonetDense__[512, 512, 512, 512, 512, 512]__25__FDR_test__Adam.ckpt' as top 1\n"
     ]
    },
    {
     "data": {
      "application/vnd.jupyter.widget-view+json": {
       "model_id": "6268580cd82d40c1bb25d7b50dea89a5",
       "version_major": 2,
       "version_minor": 0
      },
      "text/plain": [
       "Validation: 0it [00:00, ?it/s]"
      ]
     },
     "metadata": {},
     "output_type": "display_data"
    },
    {
     "name": "stderr",
     "output_type": "stream",
     "text": [
      "Epoch 147, global step 22644: 'val_loss' reached 0.00004 (best 0.00004), saving model to '/home/roko/spatial/output/lightning_logs/checkpoints/MonetDense/MonetDense__[512, 512, 512, 512, 512, 512]__25__FDR_test__Adam.ckpt' as top 1\n"
     ]
    },
    {
     "data": {
      "application/vnd.jupyter.widget-view+json": {
       "model_id": "90d108abfff54bfdb7200685948857e2",
       "version_major": 2,
       "version_minor": 0
      },
      "text/plain": [
       "Validation: 0it [00:00, ?it/s]"
      ]
     },
     "metadata": {},
     "output_type": "display_data"
    },
    {
     "name": "stderr",
     "output_type": "stream",
     "text": [
      "Epoch 148, global step 22797: 'val_loss' reached 0.00004 (best 0.00004), saving model to '/home/roko/spatial/output/lightning_logs/checkpoints/MonetDense/MonetDense__[512, 512, 512, 512, 512, 512]__25__FDR_test__Adam.ckpt' as top 1\n"
     ]
    },
    {
     "data": {
      "application/vnd.jupyter.widget-view+json": {
       "model_id": "ba715d79345f44229ccf38fb2c749208",
       "version_major": 2,
       "version_minor": 0
      },
      "text/plain": [
       "Validation: 0it [00:00, ?it/s]"
      ]
     },
     "metadata": {},
     "output_type": "display_data"
    },
    {
     "name": "stderr",
     "output_type": "stream",
     "text": [
      "Epoch 149, global step 22950: 'val_loss' reached 0.00004 (best 0.00004), saving model to '/home/roko/spatial/output/lightning_logs/checkpoints/MonetDense/MonetDense__[512, 512, 512, 512, 512, 512]__25__FDR_test__Adam.ckpt' as top 1\n"
     ]
    },
    {
     "data": {
      "application/vnd.jupyter.widget-view+json": {
       "model_id": "2e3d3efd78e94226894214324ae164ac",
       "version_major": 2,
       "version_minor": 0
      },
      "text/plain": [
       "Validation: 0it [00:00, ?it/s]"
      ]
     },
     "metadata": {},
     "output_type": "display_data"
    },
    {
     "name": "stderr",
     "output_type": "stream",
     "text": [
      "Epoch 150, global step 23103: 'val_loss' reached 0.00004 (best 0.00004), saving model to '/home/roko/spatial/output/lightning_logs/checkpoints/MonetDense/MonetDense__[512, 512, 512, 512, 512, 512]__25__FDR_test__Adam.ckpt' as top 1\n"
     ]
    },
    {
     "data": {
      "application/vnd.jupyter.widget-view+json": {
       "model_id": "fcaddbf13efc44519c20a907c9f79bd0",
       "version_major": 2,
       "version_minor": 0
      },
      "text/plain": [
       "Validation: 0it [00:00, ?it/s]"
      ]
     },
     "metadata": {},
     "output_type": "display_data"
    },
    {
     "name": "stderr",
     "output_type": "stream",
     "text": [
      "Epoch 151, global step 23256: 'val_loss' reached 0.00004 (best 0.00004), saving model to '/home/roko/spatial/output/lightning_logs/checkpoints/MonetDense/MonetDense__[512, 512, 512, 512, 512, 512]__25__FDR_test__Adam.ckpt' as top 1\n"
     ]
    },
    {
     "data": {
      "application/vnd.jupyter.widget-view+json": {
       "model_id": "201e0f9fb82c43f9955dde764dfafba2",
       "version_major": 2,
       "version_minor": 0
      },
      "text/plain": [
       "Validation: 0it [00:00, ?it/s]"
      ]
     },
     "metadata": {},
     "output_type": "display_data"
    },
    {
     "name": "stderr",
     "output_type": "stream",
     "text": [
      "Epoch 152, global step 23409: 'val_loss' reached 0.00004 (best 0.00004), saving model to '/home/roko/spatial/output/lightning_logs/checkpoints/MonetDense/MonetDense__[512, 512, 512, 512, 512, 512]__25__FDR_test__Adam.ckpt' as top 1\n"
     ]
    },
    {
     "data": {
      "application/vnd.jupyter.widget-view+json": {
       "model_id": "dbf91971b1754a2b81579de50d20354c",
       "version_major": 2,
       "version_minor": 0
      },
      "text/plain": [
       "Validation: 0it [00:00, ?it/s]"
      ]
     },
     "metadata": {},
     "output_type": "display_data"
    },
    {
     "name": "stderr",
     "output_type": "stream",
     "text": [
      "Epoch 153, global step 23562: 'val_loss' reached 0.00004 (best 0.00004), saving model to '/home/roko/spatial/output/lightning_logs/checkpoints/MonetDense/MonetDense__[512, 512, 512, 512, 512, 512]__25__FDR_test__Adam.ckpt' as top 1\n"
     ]
    },
    {
     "data": {
      "application/vnd.jupyter.widget-view+json": {
       "model_id": "b9ba90fed3f645aa9d14ed6b7ed88493",
       "version_major": 2,
       "version_minor": 0
      },
      "text/plain": [
       "Validation: 0it [00:00, ?it/s]"
      ]
     },
     "metadata": {},
     "output_type": "display_data"
    },
    {
     "name": "stderr",
     "output_type": "stream",
     "text": [
      "Epoch 154, global step 23715: 'val_loss' reached 0.00004 (best 0.00004), saving model to '/home/roko/spatial/output/lightning_logs/checkpoints/MonetDense/MonetDense__[512, 512, 512, 512, 512, 512]__25__FDR_test__Adam.ckpt' as top 1\n"
     ]
    },
    {
     "data": {
      "application/vnd.jupyter.widget-view+json": {
       "model_id": "93de360e8fef4b688f6007c72c10deb3",
       "version_major": 2,
       "version_minor": 0
      },
      "text/plain": [
       "Validation: 0it [00:00, ?it/s]"
      ]
     },
     "metadata": {},
     "output_type": "display_data"
    },
    {
     "name": "stderr",
     "output_type": "stream",
     "text": [
      "Epoch 155, global step 23868: 'val_loss' reached 0.00004 (best 0.00004), saving model to '/home/roko/spatial/output/lightning_logs/checkpoints/MonetDense/MonetDense__[512, 512, 512, 512, 512, 512]__25__FDR_test__Adam.ckpt' as top 1\n"
     ]
    },
    {
     "data": {
      "application/vnd.jupyter.widget-view+json": {
       "model_id": "184f9981c23844089b7f77e1ab3be354",
       "version_major": 2,
       "version_minor": 0
      },
      "text/plain": [
       "Validation: 0it [00:00, ?it/s]"
      ]
     },
     "metadata": {},
     "output_type": "display_data"
    },
    {
     "name": "stderr",
     "output_type": "stream",
     "text": [
      "Epoch 156, global step 24021: 'val_loss' reached 0.00004 (best 0.00004), saving model to '/home/roko/spatial/output/lightning_logs/checkpoints/MonetDense/MonetDense__[512, 512, 512, 512, 512, 512]__25__FDR_test__Adam.ckpt' as top 1\n"
     ]
    },
    {
     "data": {
      "application/vnd.jupyter.widget-view+json": {
       "model_id": "fac78163e37840febde69683c7d541f8",
       "version_major": 2,
       "version_minor": 0
      },
      "text/plain": [
       "Validation: 0it [00:00, ?it/s]"
      ]
     },
     "metadata": {},
     "output_type": "display_data"
    },
    {
     "name": "stderr",
     "output_type": "stream",
     "text": [
      "Epoch 157, global step 24174: 'val_loss' reached 0.00004 (best 0.00004), saving model to '/home/roko/spatial/output/lightning_logs/checkpoints/MonetDense/MonetDense__[512, 512, 512, 512, 512, 512]__25__FDR_test__Adam.ckpt' as top 1\n"
     ]
    },
    {
     "data": {
      "application/vnd.jupyter.widget-view+json": {
       "model_id": "5f21773f71184efdaa2ffed0a07ac875",
       "version_major": 2,
       "version_minor": 0
      },
      "text/plain": [
       "Validation: 0it [00:00, ?it/s]"
      ]
     },
     "metadata": {},
     "output_type": "display_data"
    },
    {
     "name": "stderr",
     "output_type": "stream",
     "text": [
      "Epoch 158, global step 24327: 'val_loss' reached 0.00004 (best 0.00004), saving model to '/home/roko/spatial/output/lightning_logs/checkpoints/MonetDense/MonetDense__[512, 512, 512, 512, 512, 512]__25__FDR_test__Adam.ckpt' as top 1\n"
     ]
    },
    {
     "data": {
      "application/vnd.jupyter.widget-view+json": {
       "model_id": "6779706952d3426a94780af9b9152849",
       "version_major": 2,
       "version_minor": 0
      },
      "text/plain": [
       "Validation: 0it [00:00, ?it/s]"
      ]
     },
     "metadata": {},
     "output_type": "display_data"
    },
    {
     "name": "stderr",
     "output_type": "stream",
     "text": [
      "Epoch 159, global step 24480: 'val_loss' reached 0.00004 (best 0.00004), saving model to '/home/roko/spatial/output/lightning_logs/checkpoints/MonetDense/MonetDense__[512, 512, 512, 512, 512, 512]__25__FDR_test__Adam.ckpt' as top 1\n"
     ]
    },
    {
     "data": {
      "application/vnd.jupyter.widget-view+json": {
       "model_id": "de9701768fc1403b8bdad3cef5d146fd",
       "version_major": 2,
       "version_minor": 0
      },
      "text/plain": [
       "Validation: 0it [00:00, ?it/s]"
      ]
     },
     "metadata": {},
     "output_type": "display_data"
    },
    {
     "name": "stderr",
     "output_type": "stream",
     "text": [
      "Epoch 160, global step 24633: 'val_loss' reached 0.00004 (best 0.00004), saving model to '/home/roko/spatial/output/lightning_logs/checkpoints/MonetDense/MonetDense__[512, 512, 512, 512, 512, 512]__25__FDR_test__Adam.ckpt' as top 1\n"
     ]
    },
    {
     "data": {
      "application/vnd.jupyter.widget-view+json": {
       "model_id": "8ff5636d060e495f904dd9917117f1e4",
       "version_major": 2,
       "version_minor": 0
      },
      "text/plain": [
       "Validation: 0it [00:00, ?it/s]"
      ]
     },
     "metadata": {},
     "output_type": "display_data"
    },
    {
     "name": "stderr",
     "output_type": "stream",
     "text": [
      "Epoch 161, global step 24786: 'val_loss' reached 0.00004 (best 0.00004), saving model to '/home/roko/spatial/output/lightning_logs/checkpoints/MonetDense/MonetDense__[512, 512, 512, 512, 512, 512]__25__FDR_test__Adam.ckpt' as top 1\n"
     ]
    },
    {
     "data": {
      "application/vnd.jupyter.widget-view+json": {
       "model_id": "9bf6253e0311449890aed765bb80905b",
       "version_major": 2,
       "version_minor": 0
      },
      "text/plain": [
       "Validation: 0it [00:00, ?it/s]"
      ]
     },
     "metadata": {},
     "output_type": "display_data"
    },
    {
     "name": "stderr",
     "output_type": "stream",
     "text": [
      "Epoch 162, global step 24939: 'val_loss' reached 0.00004 (best 0.00004), saving model to '/home/roko/spatial/output/lightning_logs/checkpoints/MonetDense/MonetDense__[512, 512, 512, 512, 512, 512]__25__FDR_test__Adam.ckpt' as top 1\n"
     ]
    },
    {
     "data": {
      "application/vnd.jupyter.widget-view+json": {
       "model_id": "ca49c3cf47f240549d40d0ac85d97b00",
       "version_major": 2,
       "version_minor": 0
      },
      "text/plain": [
       "Validation: 0it [00:00, ?it/s]"
      ]
     },
     "metadata": {},
     "output_type": "display_data"
    },
    {
     "name": "stderr",
     "output_type": "stream",
     "text": [
      "Epoch 163, global step 25092: 'val_loss' reached 0.00004 (best 0.00004), saving model to '/home/roko/spatial/output/lightning_logs/checkpoints/MonetDense/MonetDense__[512, 512, 512, 512, 512, 512]__25__FDR_test__Adam.ckpt' as top 1\n"
     ]
    },
    {
     "data": {
      "application/vnd.jupyter.widget-view+json": {
       "model_id": "1f460356f2ad43938c5478b5032053b3",
       "version_major": 2,
       "version_minor": 0
      },
      "text/plain": [
       "Validation: 0it [00:00, ?it/s]"
      ]
     },
     "metadata": {},
     "output_type": "display_data"
    },
    {
     "name": "stderr",
     "output_type": "stream",
     "text": [
      "Epoch 164, global step 25245: 'val_loss' reached 0.00004 (best 0.00004), saving model to '/home/roko/spatial/output/lightning_logs/checkpoints/MonetDense/MonetDense__[512, 512, 512, 512, 512, 512]__25__FDR_test__Adam.ckpt' as top 1\n"
     ]
    },
    {
     "data": {
      "application/vnd.jupyter.widget-view+json": {
       "model_id": "e082d261280045f4bde2d3e7264e26fc",
       "version_major": 2,
       "version_minor": 0
      },
      "text/plain": [
       "Validation: 0it [00:00, ?it/s]"
      ]
     },
     "metadata": {},
     "output_type": "display_data"
    },
    {
     "name": "stderr",
     "output_type": "stream",
     "text": [
      "Epoch 165, global step 25398: 'val_loss' reached 0.00004 (best 0.00004), saving model to '/home/roko/spatial/output/lightning_logs/checkpoints/MonetDense/MonetDense__[512, 512, 512, 512, 512, 512]__25__FDR_test__Adam.ckpt' as top 1\n"
     ]
    },
    {
     "data": {
      "application/vnd.jupyter.widget-view+json": {
       "model_id": "42e1668a73104043b46d2f12baef279a",
       "version_major": 2,
       "version_minor": 0
      },
      "text/plain": [
       "Validation: 0it [00:00, ?it/s]"
      ]
     },
     "metadata": {},
     "output_type": "display_data"
    },
    {
     "name": "stderr",
     "output_type": "stream",
     "text": [
      "Epoch 166, global step 25551: 'val_loss' reached 0.00004 (best 0.00004), saving model to '/home/roko/spatial/output/lightning_logs/checkpoints/MonetDense/MonetDense__[512, 512, 512, 512, 512, 512]__25__FDR_test__Adam.ckpt' as top 1\n"
     ]
    },
    {
     "data": {
      "application/vnd.jupyter.widget-view+json": {
       "model_id": "205a26fe4cf34329a7998fa5c916cf95",
       "version_major": 2,
       "version_minor": 0
      },
      "text/plain": [
       "Validation: 0it [00:00, ?it/s]"
      ]
     },
     "metadata": {},
     "output_type": "display_data"
    },
    {
     "name": "stderr",
     "output_type": "stream",
     "text": [
      "Epoch 167, global step 25704: 'val_loss' reached 0.00004 (best 0.00004), saving model to '/home/roko/spatial/output/lightning_logs/checkpoints/MonetDense/MonetDense__[512, 512, 512, 512, 512, 512]__25__FDR_test__Adam.ckpt' as top 1\n"
     ]
    },
    {
     "data": {
      "application/vnd.jupyter.widget-view+json": {
       "model_id": "f63c2faf1ac040b7adb63f05fe29619d",
       "version_major": 2,
       "version_minor": 0
      },
      "text/plain": [
       "Validation: 0it [00:00, ?it/s]"
      ]
     },
     "metadata": {},
     "output_type": "display_data"
    },
    {
     "name": "stderr",
     "output_type": "stream",
     "text": [
      "Epoch 168, global step 25857: 'val_loss' reached 0.00004 (best 0.00004), saving model to '/home/roko/spatial/output/lightning_logs/checkpoints/MonetDense/MonetDense__[512, 512, 512, 512, 512, 512]__25__FDR_test__Adam.ckpt' as top 1\n"
     ]
    },
    {
     "data": {
      "application/vnd.jupyter.widget-view+json": {
       "model_id": "1218ad3332d949f3aa67b7af2def8148",
       "version_major": 2,
       "version_minor": 0
      },
      "text/plain": [
       "Validation: 0it [00:00, ?it/s]"
      ]
     },
     "metadata": {},
     "output_type": "display_data"
    },
    {
     "name": "stderr",
     "output_type": "stream",
     "text": [
      "Epoch 169, global step 26010: 'val_loss' reached 0.00004 (best 0.00004), saving model to '/home/roko/spatial/output/lightning_logs/checkpoints/MonetDense/MonetDense__[512, 512, 512, 512, 512, 512]__25__FDR_test__Adam.ckpt' as top 1\n"
     ]
    },
    {
     "data": {
      "application/vnd.jupyter.widget-view+json": {
       "model_id": "d043c4c3ddf7470e888931ada74ae856",
       "version_major": 2,
       "version_minor": 0
      },
      "text/plain": [
       "Validation: 0it [00:00, ?it/s]"
      ]
     },
     "metadata": {},
     "output_type": "display_data"
    },
    {
     "name": "stderr",
     "output_type": "stream",
     "text": [
      "Epoch 170, global step 26163: 'val_loss' reached 0.00004 (best 0.00004), saving model to '/home/roko/spatial/output/lightning_logs/checkpoints/MonetDense/MonetDense__[512, 512, 512, 512, 512, 512]__25__FDR_test__Adam.ckpt' as top 1\n"
     ]
    },
    {
     "data": {
      "application/vnd.jupyter.widget-view+json": {
       "model_id": "06c37cedc9794f4da2a570b25ef5e16c",
       "version_major": 2,
       "version_minor": 0
      },
      "text/plain": [
       "Validation: 0it [00:00, ?it/s]"
      ]
     },
     "metadata": {},
     "output_type": "display_data"
    },
    {
     "name": "stderr",
     "output_type": "stream",
     "text": [
      "Epoch 171, global step 26316: 'val_loss' reached 0.00004 (best 0.00004), saving model to '/home/roko/spatial/output/lightning_logs/checkpoints/MonetDense/MonetDense__[512, 512, 512, 512, 512, 512]__25__FDR_test__Adam.ckpt' as top 1\n"
     ]
    },
    {
     "data": {
      "application/vnd.jupyter.widget-view+json": {
       "model_id": "610734da7ca84aa7ab31065c224005ec",
       "version_major": 2,
       "version_minor": 0
      },
      "text/plain": [
       "Validation: 0it [00:00, ?it/s]"
      ]
     },
     "metadata": {},
     "output_type": "display_data"
    },
    {
     "name": "stderr",
     "output_type": "stream",
     "text": [
      "Epoch 172, global step 26469: 'val_loss' reached 0.00004 (best 0.00004), saving model to '/home/roko/spatial/output/lightning_logs/checkpoints/MonetDense/MonetDense__[512, 512, 512, 512, 512, 512]__25__FDR_test__Adam.ckpt' as top 1\n"
     ]
    },
    {
     "data": {
      "application/vnd.jupyter.widget-view+json": {
       "model_id": "fba49b74739f44e8aed72e0f3e6abeac",
       "version_major": 2,
       "version_minor": 0
      },
      "text/plain": [
       "Validation: 0it [00:00, ?it/s]"
      ]
     },
     "metadata": {},
     "output_type": "display_data"
    },
    {
     "name": "stderr",
     "output_type": "stream",
     "text": [
      "Epoch 173, global step 26622: 'val_loss' reached 0.00004 (best 0.00004), saving model to '/home/roko/spatial/output/lightning_logs/checkpoints/MonetDense/MonetDense__[512, 512, 512, 512, 512, 512]__25__FDR_test__Adam.ckpt' as top 1\n"
     ]
    },
    {
     "data": {
      "application/vnd.jupyter.widget-view+json": {
       "model_id": "e62cba507f6047209aa683ee480e1d42",
       "version_major": 2,
       "version_minor": 0
      },
      "text/plain": [
       "Validation: 0it [00:00, ?it/s]"
      ]
     },
     "metadata": {},
     "output_type": "display_data"
    },
    {
     "name": "stderr",
     "output_type": "stream",
     "text": [
      "Epoch 174, global step 26775: 'val_loss' reached 0.00004 (best 0.00004), saving model to '/home/roko/spatial/output/lightning_logs/checkpoints/MonetDense/MonetDense__[512, 512, 512, 512, 512, 512]__25__FDR_test__Adam.ckpt' as top 1\n"
     ]
    },
    {
     "data": {
      "application/vnd.jupyter.widget-view+json": {
       "model_id": "b69d438b049e400985dbd8cef8a88fa6",
       "version_major": 2,
       "version_minor": 0
      },
      "text/plain": [
       "Validation: 0it [00:00, ?it/s]"
      ]
     },
     "metadata": {},
     "output_type": "display_data"
    },
    {
     "name": "stderr",
     "output_type": "stream",
     "text": [
      "Epoch 175, global step 26928: 'val_loss' reached 0.00004 (best 0.00004), saving model to '/home/roko/spatial/output/lightning_logs/checkpoints/MonetDense/MonetDense__[512, 512, 512, 512, 512, 512]__25__FDR_test__Adam.ckpt' as top 1\n"
     ]
    },
    {
     "data": {
      "application/vnd.jupyter.widget-view+json": {
       "model_id": "6928d3125d6d4c399c9d023cf8167851",
       "version_major": 2,
       "version_minor": 0
      },
      "text/plain": [
       "Validation: 0it [00:00, ?it/s]"
      ]
     },
     "metadata": {},
     "output_type": "display_data"
    },
    {
     "name": "stderr",
     "output_type": "stream",
     "text": [
      "Epoch 176, global step 27081: 'val_loss' reached 0.00004 (best 0.00004), saving model to '/home/roko/spatial/output/lightning_logs/checkpoints/MonetDense/MonetDense__[512, 512, 512, 512, 512, 512]__25__FDR_test__Adam.ckpt' as top 1\n"
     ]
    },
    {
     "data": {
      "application/vnd.jupyter.widget-view+json": {
       "model_id": "735b7ab14e8749c3bb031122e55a2897",
       "version_major": 2,
       "version_minor": 0
      },
      "text/plain": [
       "Validation: 0it [00:00, ?it/s]"
      ]
     },
     "metadata": {},
     "output_type": "display_data"
    },
    {
     "name": "stderr",
     "output_type": "stream",
     "text": [
      "Epoch 177, global step 27234: 'val_loss' reached 0.00004 (best 0.00004), saving model to '/home/roko/spatial/output/lightning_logs/checkpoints/MonetDense/MonetDense__[512, 512, 512, 512, 512, 512]__25__FDR_test__Adam.ckpt' as top 1\n"
     ]
    },
    {
     "data": {
      "application/vnd.jupyter.widget-view+json": {
       "model_id": "e408805c041545ec9f811fd9a20d8629",
       "version_major": 2,
       "version_minor": 0
      },
      "text/plain": [
       "Validation: 0it [00:00, ?it/s]"
      ]
     },
     "metadata": {},
     "output_type": "display_data"
    },
    {
     "name": "stderr",
     "output_type": "stream",
     "text": [
      "Epoch 178, global step 27387: 'val_loss' was not in top 1\n"
     ]
    },
    {
     "data": {
      "application/vnd.jupyter.widget-view+json": {
       "model_id": "8f9fee1f96284f9b8e6e7607ad83f2ab",
       "version_major": 2,
       "version_minor": 0
      },
      "text/plain": [
       "Validation: 0it [00:00, ?it/s]"
      ]
     },
     "metadata": {},
     "output_type": "display_data"
    },
    {
     "name": "stderr",
     "output_type": "stream",
     "text": [
      "Epoch 179, global step 27540: 'val_loss' reached 0.00004 (best 0.00004), saving model to '/home/roko/spatial/output/lightning_logs/checkpoints/MonetDense/MonetDense__[512, 512, 512, 512, 512, 512]__25__FDR_test__Adam.ckpt' as top 1\n"
     ]
    },
    {
     "data": {
      "application/vnd.jupyter.widget-view+json": {
       "model_id": "46d64cbe8f534857babf5d525912fe77",
       "version_major": 2,
       "version_minor": 0
      },
      "text/plain": [
       "Validation: 0it [00:00, ?it/s]"
      ]
     },
     "metadata": {},
     "output_type": "display_data"
    },
    {
     "name": "stderr",
     "output_type": "stream",
     "text": [
      "Epoch 180, global step 27693: 'val_loss' reached 0.00004 (best 0.00004), saving model to '/home/roko/spatial/output/lightning_logs/checkpoints/MonetDense/MonetDense__[512, 512, 512, 512, 512, 512]__25__FDR_test__Adam.ckpt' as top 1\n"
     ]
    },
    {
     "data": {
      "application/vnd.jupyter.widget-view+json": {
       "model_id": "3aad55d362f345ca94e78997e285a5cc",
       "version_major": 2,
       "version_minor": 0
      },
      "text/plain": [
       "Validation: 0it [00:00, ?it/s]"
      ]
     },
     "metadata": {},
     "output_type": "display_data"
    },
    {
     "name": "stderr",
     "output_type": "stream",
     "text": [
      "Epoch 181, global step 27846: 'val_loss' reached 0.00004 (best 0.00004), saving model to '/home/roko/spatial/output/lightning_logs/checkpoints/MonetDense/MonetDense__[512, 512, 512, 512, 512, 512]__25__FDR_test__Adam.ckpt' as top 1\n"
     ]
    },
    {
     "data": {
      "application/vnd.jupyter.widget-view+json": {
       "model_id": "88c3327d20934a0296ea716819ea1761",
       "version_major": 2,
       "version_minor": 0
      },
      "text/plain": [
       "Validation: 0it [00:00, ?it/s]"
      ]
     },
     "metadata": {},
     "output_type": "display_data"
    },
    {
     "name": "stderr",
     "output_type": "stream",
     "text": [
      "Epoch 182, global step 27999: 'val_loss' was not in top 1\n"
     ]
    },
    {
     "data": {
      "application/vnd.jupyter.widget-view+json": {
       "model_id": "2f471c7473b84f0d9d579b441dd3dd8b",
       "version_major": 2,
       "version_minor": 0
      },
      "text/plain": [
       "Validation: 0it [00:00, ?it/s]"
      ]
     },
     "metadata": {},
     "output_type": "display_data"
    },
    {
     "name": "stderr",
     "output_type": "stream",
     "text": [
      "Epoch 183, global step 28152: 'val_loss' reached 0.00004 (best 0.00004), saving model to '/home/roko/spatial/output/lightning_logs/checkpoints/MonetDense/MonetDense__[512, 512, 512, 512, 512, 512]__25__FDR_test__Adam.ckpt' as top 1\n"
     ]
    },
    {
     "data": {
      "application/vnd.jupyter.widget-view+json": {
       "model_id": "a36dbd7ea2bb4d4e80377c9fc84e5940",
       "version_major": 2,
       "version_minor": 0
      },
      "text/plain": [
       "Validation: 0it [00:00, ?it/s]"
      ]
     },
     "metadata": {},
     "output_type": "display_data"
    },
    {
     "name": "stderr",
     "output_type": "stream",
     "text": [
      "Epoch 184, global step 28305: 'val_loss' reached 0.00004 (best 0.00004), saving model to '/home/roko/spatial/output/lightning_logs/checkpoints/MonetDense/MonetDense__[512, 512, 512, 512, 512, 512]__25__FDR_test__Adam.ckpt' as top 1\n"
     ]
    },
    {
     "data": {
      "application/vnd.jupyter.widget-view+json": {
       "model_id": "a51e41eee8f74620a3f7a2be7d1f8209",
       "version_major": 2,
       "version_minor": 0
      },
      "text/plain": [
       "Validation: 0it [00:00, ?it/s]"
      ]
     },
     "metadata": {},
     "output_type": "display_data"
    },
    {
     "name": "stderr",
     "output_type": "stream",
     "text": [
      "Epoch 185, global step 28458: 'val_loss' reached 0.00004 (best 0.00004), saving model to '/home/roko/spatial/output/lightning_logs/checkpoints/MonetDense/MonetDense__[512, 512, 512, 512, 512, 512]__25__FDR_test__Adam.ckpt' as top 1\n"
     ]
    },
    {
     "data": {
      "application/vnd.jupyter.widget-view+json": {
       "model_id": "4fd3a787bfb743f0b2cd5ba7f88818e6",
       "version_major": 2,
       "version_minor": 0
      },
      "text/plain": [
       "Validation: 0it [00:00, ?it/s]"
      ]
     },
     "metadata": {},
     "output_type": "display_data"
    },
    {
     "name": "stderr",
     "output_type": "stream",
     "text": [
      "Epoch 186, global step 28611: 'val_loss' reached 0.00004 (best 0.00004), saving model to '/home/roko/spatial/output/lightning_logs/checkpoints/MonetDense/MonetDense__[512, 512, 512, 512, 512, 512]__25__FDR_test__Adam.ckpt' as top 1\n"
     ]
    },
    {
     "data": {
      "application/vnd.jupyter.widget-view+json": {
       "model_id": "768e55819e714fe781a0ea780f004346",
       "version_major": 2,
       "version_minor": 0
      },
      "text/plain": [
       "Validation: 0it [00:00, ?it/s]"
      ]
     },
     "metadata": {},
     "output_type": "display_data"
    },
    {
     "name": "stderr",
     "output_type": "stream",
     "text": [
      "Epoch 187, global step 28764: 'val_loss' reached 0.00004 (best 0.00004), saving model to '/home/roko/spatial/output/lightning_logs/checkpoints/MonetDense/MonetDense__[512, 512, 512, 512, 512, 512]__25__FDR_test__Adam.ckpt' as top 1\n"
     ]
    },
    {
     "data": {
      "application/vnd.jupyter.widget-view+json": {
       "model_id": "0b7e0bec30374e3ca9204762e69e791d",
       "version_major": 2,
       "version_minor": 0
      },
      "text/plain": [
       "Validation: 0it [00:00, ?it/s]"
      ]
     },
     "metadata": {},
     "output_type": "display_data"
    },
    {
     "name": "stderr",
     "output_type": "stream",
     "text": [
      "Epoch 188, global step 28917: 'val_loss' was not in top 1\n"
     ]
    },
    {
     "data": {
      "application/vnd.jupyter.widget-view+json": {
       "model_id": "bcfa102695954049a090e3de5e9cdfb7",
       "version_major": 2,
       "version_minor": 0
      },
      "text/plain": [
       "Validation: 0it [00:00, ?it/s]"
      ]
     },
     "metadata": {},
     "output_type": "display_data"
    },
    {
     "name": "stderr",
     "output_type": "stream",
     "text": [
      "Epoch 189, global step 29070: 'val_loss' reached 0.00004 (best 0.00004), saving model to '/home/roko/spatial/output/lightning_logs/checkpoints/MonetDense/MonetDense__[512, 512, 512, 512, 512, 512]__25__FDR_test__Adam.ckpt' as top 1\n"
     ]
    },
    {
     "data": {
      "application/vnd.jupyter.widget-view+json": {
       "model_id": "ab58f21a6c184aca90077ea080ebd13d",
       "version_major": 2,
       "version_minor": 0
      },
      "text/plain": [
       "Validation: 0it [00:00, ?it/s]"
      ]
     },
     "metadata": {},
     "output_type": "display_data"
    },
    {
     "name": "stderr",
     "output_type": "stream",
     "text": [
      "Epoch 190, global step 29223: 'val_loss' was not in top 1\n"
     ]
    },
    {
     "data": {
      "application/vnd.jupyter.widget-view+json": {
       "model_id": "b5fd55ca2460429b931adc013ed009bf",
       "version_major": 2,
       "version_minor": 0
      },
      "text/plain": [
       "Validation: 0it [00:00, ?it/s]"
      ]
     },
     "metadata": {},
     "output_type": "display_data"
    },
    {
     "name": "stderr",
     "output_type": "stream",
     "text": [
      "Epoch 191, global step 29376: 'val_loss' reached 0.00004 (best 0.00004), saving model to '/home/roko/spatial/output/lightning_logs/checkpoints/MonetDense/MonetDense__[512, 512, 512, 512, 512, 512]__25__FDR_test__Adam.ckpt' as top 1\n"
     ]
    },
    {
     "data": {
      "application/vnd.jupyter.widget-view+json": {
       "model_id": "29e2c6f04c7c4661a0df0f1c21321de4",
       "version_major": 2,
       "version_minor": 0
      },
      "text/plain": [
       "Validation: 0it [00:00, ?it/s]"
      ]
     },
     "metadata": {},
     "output_type": "display_data"
    },
    {
     "name": "stderr",
     "output_type": "stream",
     "text": [
      "Epoch 192, global step 29529: 'val_loss' reached 0.00004 (best 0.00004), saving model to '/home/roko/spatial/output/lightning_logs/checkpoints/MonetDense/MonetDense__[512, 512, 512, 512, 512, 512]__25__FDR_test__Adam.ckpt' as top 1\n"
     ]
    },
    {
     "data": {
      "application/vnd.jupyter.widget-view+json": {
       "model_id": "428b854dc034461f9eec81d2f9c2bddb",
       "version_major": 2,
       "version_minor": 0
      },
      "text/plain": [
       "Validation: 0it [00:00, ?it/s]"
      ]
     },
     "metadata": {},
     "output_type": "display_data"
    },
    {
     "name": "stderr",
     "output_type": "stream",
     "text": [
      "Epoch 193, global step 29682: 'val_loss' reached 0.00004 (best 0.00004), saving model to '/home/roko/spatial/output/lightning_logs/checkpoints/MonetDense/MonetDense__[512, 512, 512, 512, 512, 512]__25__FDR_test__Adam.ckpt' as top 1\n"
     ]
    },
    {
     "data": {
      "application/vnd.jupyter.widget-view+json": {
       "model_id": "b29f499dcd7b4244a9965bfb31fe287b",
       "version_major": 2,
       "version_minor": 0
      },
      "text/plain": [
       "Validation: 0it [00:00, ?it/s]"
      ]
     },
     "metadata": {},
     "output_type": "display_data"
    },
    {
     "name": "stderr",
     "output_type": "stream",
     "text": [
      "Epoch 194, global step 29835: 'val_loss' reached 0.00004 (best 0.00004), saving model to '/home/roko/spatial/output/lightning_logs/checkpoints/MonetDense/MonetDense__[512, 512, 512, 512, 512, 512]__25__FDR_test__Adam.ckpt' as top 1\n"
     ]
    },
    {
     "data": {
      "application/vnd.jupyter.widget-view+json": {
       "model_id": "3e291a1b97a24169ad62f2aa0db9a83e",
       "version_major": 2,
       "version_minor": 0
      },
      "text/plain": [
       "Validation: 0it [00:00, ?it/s]"
      ]
     },
     "metadata": {},
     "output_type": "display_data"
    },
    {
     "name": "stderr",
     "output_type": "stream",
     "text": [
      "Epoch 195, global step 29988: 'val_loss' was not in top 1\n"
     ]
    },
    {
     "data": {
      "application/vnd.jupyter.widget-view+json": {
       "model_id": "2759eec8ab2142c29cd30f8e40b074da",
       "version_major": 2,
       "version_minor": 0
      },
      "text/plain": [
       "Validation: 0it [00:00, ?it/s]"
      ]
     },
     "metadata": {},
     "output_type": "display_data"
    },
    {
     "name": "stderr",
     "output_type": "stream",
     "text": [
      "Epoch 196, global step 30141: 'val_loss' was not in top 1\n"
     ]
    },
    {
     "data": {
      "application/vnd.jupyter.widget-view+json": {
       "model_id": "b017776379b54963bb68f1801b47a3c8",
       "version_major": 2,
       "version_minor": 0
      },
      "text/plain": [
       "Validation: 0it [00:00, ?it/s]"
      ]
     },
     "metadata": {},
     "output_type": "display_data"
    },
    {
     "name": "stderr",
     "output_type": "stream",
     "text": [
      "Epoch 197, global step 30294: 'val_loss' reached 0.00004 (best 0.00004), saving model to '/home/roko/spatial/output/lightning_logs/checkpoints/MonetDense/MonetDense__[512, 512, 512, 512, 512, 512]__25__FDR_test__Adam.ckpt' as top 1\n"
     ]
    },
    {
     "data": {
      "application/vnd.jupyter.widget-view+json": {
       "model_id": "cf3b3f6abab44bbd89a51b4f48586599",
       "version_major": 2,
       "version_minor": 0
      },
      "text/plain": [
       "Validation: 0it [00:00, ?it/s]"
      ]
     },
     "metadata": {},
     "output_type": "display_data"
    },
    {
     "name": "stderr",
     "output_type": "stream",
     "text": [
      "Epoch 198, global step 30447: 'val_loss' reached 0.00004 (best 0.00004), saving model to '/home/roko/spatial/output/lightning_logs/checkpoints/MonetDense/MonetDense__[512, 512, 512, 512, 512, 512]__25__FDR_test__Adam.ckpt' as top 1\n"
     ]
    },
    {
     "data": {
      "application/vnd.jupyter.widget-view+json": {
       "model_id": "f27cdae2fa20416896e7d228ad46d423",
       "version_major": 2,
       "version_minor": 0
      },
      "text/plain": [
       "Validation: 0it [00:00, ?it/s]"
      ]
     },
     "metadata": {},
     "output_type": "display_data"
    },
    {
     "name": "stderr",
     "output_type": "stream",
     "text": [
      "Epoch 199, global step 30600: 'val_loss' reached 0.00004 (best 0.00004), saving model to '/home/roko/spatial/output/lightning_logs/checkpoints/MonetDense/MonetDense__[512, 512, 512, 512, 512, 512]__25__FDR_test__Adam.ckpt' as top 1\n"
     ]
    },
    {
     "data": {
      "application/vnd.jupyter.widget-view+json": {
       "model_id": "2b829a4525604b109e5ea0d8f203930b",
       "version_major": 2,
       "version_minor": 0
      },
      "text/plain": [
       "Validation: 0it [00:00, ?it/s]"
      ]
     },
     "metadata": {},
     "output_type": "display_data"
    },
    {
     "name": "stderr",
     "output_type": "stream",
     "text": [
      "Epoch 200, global step 30753: 'val_loss' reached 0.00004 (best 0.00004), saving model to '/home/roko/spatial/output/lightning_logs/checkpoints/MonetDense/MonetDense__[512, 512, 512, 512, 512, 512]__25__FDR_test__Adam.ckpt' as top 1\n"
     ]
    },
    {
     "data": {
      "application/vnd.jupyter.widget-view+json": {
       "model_id": "5fda485b35924c58a39bf62055c28e89",
       "version_major": 2,
       "version_minor": 0
      },
      "text/plain": [
       "Validation: 0it [00:00, ?it/s]"
      ]
     },
     "metadata": {},
     "output_type": "display_data"
    },
    {
     "name": "stderr",
     "output_type": "stream",
     "text": [
      "Epoch 201, global step 30906: 'val_loss' reached 0.00004 (best 0.00004), saving model to '/home/roko/spatial/output/lightning_logs/checkpoints/MonetDense/MonetDense__[512, 512, 512, 512, 512, 512]__25__FDR_test__Adam.ckpt' as top 1\n"
     ]
    },
    {
     "data": {
      "application/vnd.jupyter.widget-view+json": {
       "model_id": "817e2398fb824b81b4f03caf2d010d53",
       "version_major": 2,
       "version_minor": 0
      },
      "text/plain": [
       "Validation: 0it [00:00, ?it/s]"
      ]
     },
     "metadata": {},
     "output_type": "display_data"
    },
    {
     "name": "stderr",
     "output_type": "stream",
     "text": [
      "Epoch 202, global step 31059: 'val_loss' was not in top 1\n"
     ]
    },
    {
     "data": {
      "application/vnd.jupyter.widget-view+json": {
       "model_id": "cf366ed002ec4da4bb815b0c4138c1db",
       "version_major": 2,
       "version_minor": 0
      },
      "text/plain": [
       "Validation: 0it [00:00, ?it/s]"
      ]
     },
     "metadata": {},
     "output_type": "display_data"
    },
    {
     "name": "stderr",
     "output_type": "stream",
     "text": [
      "Epoch 203, global step 31212: 'val_loss' was not in top 1\n"
     ]
    },
    {
     "data": {
      "application/vnd.jupyter.widget-view+json": {
       "model_id": "ed16681c2f094bf2b81e71b80cdcd280",
       "version_major": 2,
       "version_minor": 0
      },
      "text/plain": [
       "Validation: 0it [00:00, ?it/s]"
      ]
     },
     "metadata": {},
     "output_type": "display_data"
    },
    {
     "name": "stderr",
     "output_type": "stream",
     "text": [
      "Epoch 204, global step 31365: 'val_loss' reached 0.00004 (best 0.00004), saving model to '/home/roko/spatial/output/lightning_logs/checkpoints/MonetDense/MonetDense__[512, 512, 512, 512, 512, 512]__25__FDR_test__Adam.ckpt' as top 1\n"
     ]
    },
    {
     "data": {
      "application/vnd.jupyter.widget-view+json": {
       "model_id": "2287204d56ec4420ae3d0a07ad16af9d",
       "version_major": 2,
       "version_minor": 0
      },
      "text/plain": [
       "Validation: 0it [00:00, ?it/s]"
      ]
     },
     "metadata": {},
     "output_type": "display_data"
    },
    {
     "name": "stderr",
     "output_type": "stream",
     "text": [
      "Epoch 205, global step 31518: 'val_loss' reached 0.00004 (best 0.00004), saving model to '/home/roko/spatial/output/lightning_logs/checkpoints/MonetDense/MonetDense__[512, 512, 512, 512, 512, 512]__25__FDR_test__Adam.ckpt' as top 1\n"
     ]
    },
    {
     "data": {
      "application/vnd.jupyter.widget-view+json": {
       "model_id": "87a1227fec1340ee99c035c9acb2dae5",
       "version_major": 2,
       "version_minor": 0
      },
      "text/plain": [
       "Validation: 0it [00:00, ?it/s]"
      ]
     },
     "metadata": {},
     "output_type": "display_data"
    },
    {
     "name": "stderr",
     "output_type": "stream",
     "text": [
      "Epoch 206, global step 31671: 'val_loss' reached 0.00004 (best 0.00004), saving model to '/home/roko/spatial/output/lightning_logs/checkpoints/MonetDense/MonetDense__[512, 512, 512, 512, 512, 512]__25__FDR_test__Adam.ckpt' as top 1\n"
     ]
    },
    {
     "data": {
      "application/vnd.jupyter.widget-view+json": {
       "model_id": "538a37fd01424f968be2079ffbb8d197",
       "version_major": 2,
       "version_minor": 0
      },
      "text/plain": [
       "Validation: 0it [00:00, ?it/s]"
      ]
     },
     "metadata": {},
     "output_type": "display_data"
    },
    {
     "name": "stderr",
     "output_type": "stream",
     "text": [
      "Epoch 207, global step 31824: 'val_loss' reached 0.00004 (best 0.00004), saving model to '/home/roko/spatial/output/lightning_logs/checkpoints/MonetDense/MonetDense__[512, 512, 512, 512, 512, 512]__25__FDR_test__Adam.ckpt' as top 1\n"
     ]
    },
    {
     "data": {
      "application/vnd.jupyter.widget-view+json": {
       "model_id": "dbe702cdcdbf429aa7854c7b0708ddbd",
       "version_major": 2,
       "version_minor": 0
      },
      "text/plain": [
       "Validation: 0it [00:00, ?it/s]"
      ]
     },
     "metadata": {},
     "output_type": "display_data"
    },
    {
     "name": "stderr",
     "output_type": "stream",
     "text": [
      "Epoch 208, global step 31977: 'val_loss' was not in top 1\n"
     ]
    },
    {
     "data": {
      "application/vnd.jupyter.widget-view+json": {
       "model_id": "e8bc0642842241c99d1fee51db742fcd",
       "version_major": 2,
       "version_minor": 0
      },
      "text/plain": [
       "Validation: 0it [00:00, ?it/s]"
      ]
     },
     "metadata": {},
     "output_type": "display_data"
    },
    {
     "name": "stderr",
     "output_type": "stream",
     "text": [
      "Epoch 209, global step 32130: 'val_loss' was not in top 1\n"
     ]
    },
    {
     "data": {
      "application/vnd.jupyter.widget-view+json": {
       "model_id": "627ef4f01763418680e528e356758997",
       "version_major": 2,
       "version_minor": 0
      },
      "text/plain": [
       "Validation: 0it [00:00, ?it/s]"
      ]
     },
     "metadata": {},
     "output_type": "display_data"
    },
    {
     "name": "stderr",
     "output_type": "stream",
     "text": [
      "Epoch 210, global step 32283: 'val_loss' reached 0.00004 (best 0.00004), saving model to '/home/roko/spatial/output/lightning_logs/checkpoints/MonetDense/MonetDense__[512, 512, 512, 512, 512, 512]__25__FDR_test__Adam.ckpt' as top 1\n"
     ]
    },
    {
     "data": {
      "application/vnd.jupyter.widget-view+json": {
       "model_id": "2500cfb45b6944238da9ec0d0c4c14e1",
       "version_major": 2,
       "version_minor": 0
      },
      "text/plain": [
       "Validation: 0it [00:00, ?it/s]"
      ]
     },
     "metadata": {},
     "output_type": "display_data"
    },
    {
     "name": "stderr",
     "output_type": "stream",
     "text": [
      "Epoch 211, global step 32436: 'val_loss' reached 0.00004 (best 0.00004), saving model to '/home/roko/spatial/output/lightning_logs/checkpoints/MonetDense/MonetDense__[512, 512, 512, 512, 512, 512]__25__FDR_test__Adam.ckpt' as top 1\n"
     ]
    },
    {
     "data": {
      "application/vnd.jupyter.widget-view+json": {
       "model_id": "8155d92efe9c46d1997e035d547ba8a0",
       "version_major": 2,
       "version_minor": 0
      },
      "text/plain": [
       "Validation: 0it [00:00, ?it/s]"
      ]
     },
     "metadata": {},
     "output_type": "display_data"
    },
    {
     "name": "stderr",
     "output_type": "stream",
     "text": [
      "Epoch 212, global step 32589: 'val_loss' reached 0.00004 (best 0.00004), saving model to '/home/roko/spatial/output/lightning_logs/checkpoints/MonetDense/MonetDense__[512, 512, 512, 512, 512, 512]__25__FDR_test__Adam.ckpt' as top 1\n"
     ]
    },
    {
     "data": {
      "application/vnd.jupyter.widget-view+json": {
       "model_id": "1c0b32336ee7497cbfa96ca23ce2e1c9",
       "version_major": 2,
       "version_minor": 0
      },
      "text/plain": [
       "Validation: 0it [00:00, ?it/s]"
      ]
     },
     "metadata": {},
     "output_type": "display_data"
    },
    {
     "name": "stderr",
     "output_type": "stream",
     "text": [
      "Epoch 213, global step 32742: 'val_loss' reached 0.00004 (best 0.00004), saving model to '/home/roko/spatial/output/lightning_logs/checkpoints/MonetDense/MonetDense__[512, 512, 512, 512, 512, 512]__25__FDR_test__Adam.ckpt' as top 1\n"
     ]
    },
    {
     "data": {
      "application/vnd.jupyter.widget-view+json": {
       "model_id": "3e1b4a1c1e6a42129186342f735189fe",
       "version_major": 2,
       "version_minor": 0
      },
      "text/plain": [
       "Validation: 0it [00:00, ?it/s]"
      ]
     },
     "metadata": {},
     "output_type": "display_data"
    },
    {
     "name": "stderr",
     "output_type": "stream",
     "text": [
      "Epoch 214, global step 32895: 'val_loss' reached 0.00004 (best 0.00004), saving model to '/home/roko/spatial/output/lightning_logs/checkpoints/MonetDense/MonetDense__[512, 512, 512, 512, 512, 512]__25__FDR_test__Adam.ckpt' as top 1\n"
     ]
    },
    {
     "data": {
      "application/vnd.jupyter.widget-view+json": {
       "model_id": "29cd466a90514a5888f981dad5e3bc54",
       "version_major": 2,
       "version_minor": 0
      },
      "text/plain": [
       "Validation: 0it [00:00, ?it/s]"
      ]
     },
     "metadata": {},
     "output_type": "display_data"
    },
    {
     "name": "stderr",
     "output_type": "stream",
     "text": [
      "Epoch 215, global step 33048: 'val_loss' reached 0.00004 (best 0.00004), saving model to '/home/roko/spatial/output/lightning_logs/checkpoints/MonetDense/MonetDense__[512, 512, 512, 512, 512, 512]__25__FDR_test__Adam.ckpt' as top 1\n"
     ]
    },
    {
     "data": {
      "application/vnd.jupyter.widget-view+json": {
       "model_id": "2882616a053848ce9d34f289f93aba37",
       "version_major": 2,
       "version_minor": 0
      },
      "text/plain": [
       "Validation: 0it [00:00, ?it/s]"
      ]
     },
     "metadata": {},
     "output_type": "display_data"
    },
    {
     "name": "stderr",
     "output_type": "stream",
     "text": [
      "Epoch 216, global step 33201: 'val_loss' reached 0.00004 (best 0.00004), saving model to '/home/roko/spatial/output/lightning_logs/checkpoints/MonetDense/MonetDense__[512, 512, 512, 512, 512, 512]__25__FDR_test__Adam.ckpt' as top 1\n"
     ]
    },
    {
     "data": {
      "application/vnd.jupyter.widget-view+json": {
       "model_id": "187621d1ef314fd388626fd744469af2",
       "version_major": 2,
       "version_minor": 0
      },
      "text/plain": [
       "Validation: 0it [00:00, ?it/s]"
      ]
     },
     "metadata": {},
     "output_type": "display_data"
    },
    {
     "name": "stderr",
     "output_type": "stream",
     "text": [
      "Epoch 217, global step 33354: 'val_loss' was not in top 1\n"
     ]
    },
    {
     "data": {
      "application/vnd.jupyter.widget-view+json": {
       "model_id": "7a6e64cee9aa4f5484995a900b24fc97",
       "version_major": 2,
       "version_minor": 0
      },
      "text/plain": [
       "Validation: 0it [00:00, ?it/s]"
      ]
     },
     "metadata": {},
     "output_type": "display_data"
    },
    {
     "name": "stderr",
     "output_type": "stream",
     "text": [
      "Epoch 218, global step 33507: 'val_loss' was not in top 1\n"
     ]
    },
    {
     "data": {
      "application/vnd.jupyter.widget-view+json": {
       "model_id": "af99c0e24d7943cba02d80ca1dda147b",
       "version_major": 2,
       "version_minor": 0
      },
      "text/plain": [
       "Validation: 0it [00:00, ?it/s]"
      ]
     },
     "metadata": {},
     "output_type": "display_data"
    },
    {
     "name": "stderr",
     "output_type": "stream",
     "text": [
      "Epoch 219, global step 33660: 'val_loss' reached 0.00004 (best 0.00004), saving model to '/home/roko/spatial/output/lightning_logs/checkpoints/MonetDense/MonetDense__[512, 512, 512, 512, 512, 512]__25__FDR_test__Adam.ckpt' as top 1\n"
     ]
    },
    {
     "data": {
      "application/vnd.jupyter.widget-view+json": {
       "model_id": "b3211f95d84048b6b2f031ac070663f6",
       "version_major": 2,
       "version_minor": 0
      },
      "text/plain": [
       "Validation: 0it [00:00, ?it/s]"
      ]
     },
     "metadata": {},
     "output_type": "display_data"
    },
    {
     "name": "stderr",
     "output_type": "stream",
     "text": [
      "Epoch 220, global step 33813: 'val_loss' reached 0.00004 (best 0.00004), saving model to '/home/roko/spatial/output/lightning_logs/checkpoints/MonetDense/MonetDense__[512, 512, 512, 512, 512, 512]__25__FDR_test__Adam.ckpt' as top 1\n"
     ]
    },
    {
     "data": {
      "application/vnd.jupyter.widget-view+json": {
       "model_id": "835fda875d7a417588bd30be345bc2ec",
       "version_major": 2,
       "version_minor": 0
      },
      "text/plain": [
       "Validation: 0it [00:00, ?it/s]"
      ]
     },
     "metadata": {},
     "output_type": "display_data"
    },
    {
     "name": "stderr",
     "output_type": "stream",
     "text": [
      "Epoch 221, global step 33966: 'val_loss' reached 0.00004 (best 0.00004), saving model to '/home/roko/spatial/output/lightning_logs/checkpoints/MonetDense/MonetDense__[512, 512, 512, 512, 512, 512]__25__FDR_test__Adam.ckpt' as top 1\n"
     ]
    },
    {
     "data": {
      "application/vnd.jupyter.widget-view+json": {
       "model_id": "894959b82f884ebcb6faf853af3b1031",
       "version_major": 2,
       "version_minor": 0
      },
      "text/plain": [
       "Validation: 0it [00:00, ?it/s]"
      ]
     },
     "metadata": {},
     "output_type": "display_data"
    },
    {
     "name": "stderr",
     "output_type": "stream",
     "text": [
      "Epoch 222, global step 34119: 'val_loss' reached 0.00004 (best 0.00004), saving model to '/home/roko/spatial/output/lightning_logs/checkpoints/MonetDense/MonetDense__[512, 512, 512, 512, 512, 512]__25__FDR_test__Adam.ckpt' as top 1\n"
     ]
    },
    {
     "data": {
      "application/vnd.jupyter.widget-view+json": {
       "model_id": "5fc8352a2b6543458445a055f2673090",
       "version_major": 2,
       "version_minor": 0
      },
      "text/plain": [
       "Validation: 0it [00:00, ?it/s]"
      ]
     },
     "metadata": {},
     "output_type": "display_data"
    },
    {
     "name": "stderr",
     "output_type": "stream",
     "text": [
      "Epoch 223, global step 34272: 'val_loss' reached 0.00004 (best 0.00004), saving model to '/home/roko/spatial/output/lightning_logs/checkpoints/MonetDense/MonetDense__[512, 512, 512, 512, 512, 512]__25__FDR_test__Adam.ckpt' as top 1\n"
     ]
    },
    {
     "data": {
      "application/vnd.jupyter.widget-view+json": {
       "model_id": "98da1d48c8994c5497211c0eef8371fc",
       "version_major": 2,
       "version_minor": 0
      },
      "text/plain": [
       "Validation: 0it [00:00, ?it/s]"
      ]
     },
     "metadata": {},
     "output_type": "display_data"
    },
    {
     "name": "stderr",
     "output_type": "stream",
     "text": [
      "Epoch 224, global step 34425: 'val_loss' reached 0.00004 (best 0.00004), saving model to '/home/roko/spatial/output/lightning_logs/checkpoints/MonetDense/MonetDense__[512, 512, 512, 512, 512, 512]__25__FDR_test__Adam.ckpt' as top 1\n"
     ]
    },
    {
     "data": {
      "application/vnd.jupyter.widget-view+json": {
       "model_id": "3af954d8fbd349bd84bcc041bee74762",
       "version_major": 2,
       "version_minor": 0
      },
      "text/plain": [
       "Validation: 0it [00:00, ?it/s]"
      ]
     },
     "metadata": {},
     "output_type": "display_data"
    },
    {
     "name": "stderr",
     "output_type": "stream",
     "text": [
      "Epoch 225, global step 34578: 'val_loss' reached 0.00004 (best 0.00004), saving model to '/home/roko/spatial/output/lightning_logs/checkpoints/MonetDense/MonetDense__[512, 512, 512, 512, 512, 512]__25__FDR_test__Adam.ckpt' as top 1\n"
     ]
    },
    {
     "data": {
      "application/vnd.jupyter.widget-view+json": {
       "model_id": "4d6c49ffee344edeb9d0007659de9e02",
       "version_major": 2,
       "version_minor": 0
      },
      "text/plain": [
       "Validation: 0it [00:00, ?it/s]"
      ]
     },
     "metadata": {},
     "output_type": "display_data"
    },
    {
     "name": "stderr",
     "output_type": "stream",
     "text": [
      "Epoch 226, global step 34731: 'val_loss' reached 0.00004 (best 0.00004), saving model to '/home/roko/spatial/output/lightning_logs/checkpoints/MonetDense/MonetDense__[512, 512, 512, 512, 512, 512]__25__FDR_test__Adam.ckpt' as top 1\n"
     ]
    },
    {
     "data": {
      "application/vnd.jupyter.widget-view+json": {
       "model_id": "5bcc4042a2e04d02b194e0eb8ea9a84a",
       "version_major": 2,
       "version_minor": 0
      },
      "text/plain": [
       "Validation: 0it [00:00, ?it/s]"
      ]
     },
     "metadata": {},
     "output_type": "display_data"
    },
    {
     "name": "stderr",
     "output_type": "stream",
     "text": [
      "Epoch 227, global step 34884: 'val_loss' was not in top 1\n"
     ]
    },
    {
     "data": {
      "application/vnd.jupyter.widget-view+json": {
       "model_id": "248e8339eb9b4dd9b5a7b68a2c982fa4",
       "version_major": 2,
       "version_minor": 0
      },
      "text/plain": [
       "Validation: 0it [00:00, ?it/s]"
      ]
     },
     "metadata": {},
     "output_type": "display_data"
    },
    {
     "name": "stderr",
     "output_type": "stream",
     "text": [
      "Epoch 228, global step 35037: 'val_loss' reached 0.00004 (best 0.00004), saving model to '/home/roko/spatial/output/lightning_logs/checkpoints/MonetDense/MonetDense__[512, 512, 512, 512, 512, 512]__25__FDR_test__Adam.ckpt' as top 1\n"
     ]
    },
    {
     "data": {
      "application/vnd.jupyter.widget-view+json": {
       "model_id": "647e86eb4ec442cf80259abb56cf5afd",
       "version_major": 2,
       "version_minor": 0
      },
      "text/plain": [
       "Validation: 0it [00:00, ?it/s]"
      ]
     },
     "metadata": {},
     "output_type": "display_data"
    },
    {
     "name": "stderr",
     "output_type": "stream",
     "text": [
      "Epoch 229, global step 35190: 'val_loss' reached 0.00004 (best 0.00004), saving model to '/home/roko/spatial/output/lightning_logs/checkpoints/MonetDense/MonetDense__[512, 512, 512, 512, 512, 512]__25__FDR_test__Adam.ckpt' as top 1\n"
     ]
    },
    {
     "data": {
      "application/vnd.jupyter.widget-view+json": {
       "model_id": "b11583b291714ea3b73a2f3974bf8c3c",
       "version_major": 2,
       "version_minor": 0
      },
      "text/plain": [
       "Validation: 0it [00:00, ?it/s]"
      ]
     },
     "metadata": {},
     "output_type": "display_data"
    },
    {
     "name": "stderr",
     "output_type": "stream",
     "text": [
      "Epoch 230, global step 35343: 'val_loss' reached 0.00004 (best 0.00004), saving model to '/home/roko/spatial/output/lightning_logs/checkpoints/MonetDense/MonetDense__[512, 512, 512, 512, 512, 512]__25__FDR_test__Adam.ckpt' as top 1\n"
     ]
    },
    {
     "data": {
      "application/vnd.jupyter.widget-view+json": {
       "model_id": "b2d4614693ef4c91a3de7a7db2b1b052",
       "version_major": 2,
       "version_minor": 0
      },
      "text/plain": [
       "Validation: 0it [00:00, ?it/s]"
      ]
     },
     "metadata": {},
     "output_type": "display_data"
    },
    {
     "name": "stderr",
     "output_type": "stream",
     "text": [
      "Epoch 231, global step 35496: 'val_loss' reached 0.00004 (best 0.00004), saving model to '/home/roko/spatial/output/lightning_logs/checkpoints/MonetDense/MonetDense__[512, 512, 512, 512, 512, 512]__25__FDR_test__Adam.ckpt' as top 1\n"
     ]
    },
    {
     "data": {
      "application/vnd.jupyter.widget-view+json": {
       "model_id": "1160b02b35074654bc0eddcc88a5c3e3",
       "version_major": 2,
       "version_minor": 0
      },
      "text/plain": [
       "Validation: 0it [00:00, ?it/s]"
      ]
     },
     "metadata": {},
     "output_type": "display_data"
    },
    {
     "name": "stderr",
     "output_type": "stream",
     "text": [
      "Epoch 232, global step 35649: 'val_loss' reached 0.00004 (best 0.00004), saving model to '/home/roko/spatial/output/lightning_logs/checkpoints/MonetDense/MonetDense__[512, 512, 512, 512, 512, 512]__25__FDR_test__Adam.ckpt' as top 1\n"
     ]
    },
    {
     "data": {
      "application/vnd.jupyter.widget-view+json": {
       "model_id": "9e978655ede04c44a9ec3a8ff9164e4e",
       "version_major": 2,
       "version_minor": 0
      },
      "text/plain": [
       "Validation: 0it [00:00, ?it/s]"
      ]
     },
     "metadata": {},
     "output_type": "display_data"
    },
    {
     "name": "stderr",
     "output_type": "stream",
     "text": [
      "Epoch 233, global step 35802: 'val_loss' reached 0.00004 (best 0.00004), saving model to '/home/roko/spatial/output/lightning_logs/checkpoints/MonetDense/MonetDense__[512, 512, 512, 512, 512, 512]__25__FDR_test__Adam.ckpt' as top 1\n"
     ]
    },
    {
     "data": {
      "application/vnd.jupyter.widget-view+json": {
       "model_id": "e18a131ef0994695b433564a4dbff7db",
       "version_major": 2,
       "version_minor": 0
      },
      "text/plain": [
       "Validation: 0it [00:00, ?it/s]"
      ]
     },
     "metadata": {},
     "output_type": "display_data"
    },
    {
     "name": "stderr",
     "output_type": "stream",
     "text": [
      "Epoch 234, global step 35955: 'val_loss' reached 0.00004 (best 0.00004), saving model to '/home/roko/spatial/output/lightning_logs/checkpoints/MonetDense/MonetDense__[512, 512, 512, 512, 512, 512]__25__FDR_test__Adam.ckpt' as top 1\n"
     ]
    },
    {
     "data": {
      "application/vnd.jupyter.widget-view+json": {
       "model_id": "d295f0ff662e43e288a700b45011d6bc",
       "version_major": 2,
       "version_minor": 0
      },
      "text/plain": [
       "Validation: 0it [00:00, ?it/s]"
      ]
     },
     "metadata": {},
     "output_type": "display_data"
    },
    {
     "name": "stderr",
     "output_type": "stream",
     "text": [
      "Epoch 235, global step 36108: 'val_loss' reached 0.00004 (best 0.00004), saving model to '/home/roko/spatial/output/lightning_logs/checkpoints/MonetDense/MonetDense__[512, 512, 512, 512, 512, 512]__25__FDR_test__Adam.ckpt' as top 1\n"
     ]
    },
    {
     "data": {
      "application/vnd.jupyter.widget-view+json": {
       "model_id": "94fd9f75e2e64e67a4d10f04ac92bc62",
       "version_major": 2,
       "version_minor": 0
      },
      "text/plain": [
       "Validation: 0it [00:00, ?it/s]"
      ]
     },
     "metadata": {},
     "output_type": "display_data"
    },
    {
     "name": "stderr",
     "output_type": "stream",
     "text": [
      "Epoch 236, global step 36261: 'val_loss' was not in top 1\n"
     ]
    },
    {
     "data": {
      "application/vnd.jupyter.widget-view+json": {
       "model_id": "9a5031ae3bba4378a8b14ed6d8a1fc5f",
       "version_major": 2,
       "version_minor": 0
      },
      "text/plain": [
       "Validation: 0it [00:00, ?it/s]"
      ]
     },
     "metadata": {},
     "output_type": "display_data"
    },
    {
     "name": "stderr",
     "output_type": "stream",
     "text": [
      "Epoch 237, global step 36414: 'val_loss' reached 0.00004 (best 0.00004), saving model to '/home/roko/spatial/output/lightning_logs/checkpoints/MonetDense/MonetDense__[512, 512, 512, 512, 512, 512]__25__FDR_test__Adam.ckpt' as top 1\n"
     ]
    },
    {
     "data": {
      "application/vnd.jupyter.widget-view+json": {
       "model_id": "ffe5e6cc3cf243509babe568fa77ced6",
       "version_major": 2,
       "version_minor": 0
      },
      "text/plain": [
       "Validation: 0it [00:00, ?it/s]"
      ]
     },
     "metadata": {},
     "output_type": "display_data"
    },
    {
     "name": "stderr",
     "output_type": "stream",
     "text": [
      "Epoch 238, global step 36567: 'val_loss' reached 0.00004 (best 0.00004), saving model to '/home/roko/spatial/output/lightning_logs/checkpoints/MonetDense/MonetDense__[512, 512, 512, 512, 512, 512]__25__FDR_test__Adam.ckpt' as top 1\n"
     ]
    },
    {
     "data": {
      "application/vnd.jupyter.widget-view+json": {
       "model_id": "d269db7929fb4432acbaf924c990604c",
       "version_major": 2,
       "version_minor": 0
      },
      "text/plain": [
       "Validation: 0it [00:00, ?it/s]"
      ]
     },
     "metadata": {},
     "output_type": "display_data"
    },
    {
     "name": "stderr",
     "output_type": "stream",
     "text": [
      "Epoch 239, global step 36720: 'val_loss' reached 0.00004 (best 0.00004), saving model to '/home/roko/spatial/output/lightning_logs/checkpoints/MonetDense/MonetDense__[512, 512, 512, 512, 512, 512]__25__FDR_test__Adam.ckpt' as top 1\n"
     ]
    },
    {
     "data": {
      "application/vnd.jupyter.widget-view+json": {
       "model_id": "df2b370c9eeb4a8fb62806ffaf1e13ba",
       "version_major": 2,
       "version_minor": 0
      },
      "text/plain": [
       "Validation: 0it [00:00, ?it/s]"
      ]
     },
     "metadata": {},
     "output_type": "display_data"
    },
    {
     "name": "stderr",
     "output_type": "stream",
     "text": [
      "Epoch 240, global step 36873: 'val_loss' reached 0.00004 (best 0.00004), saving model to '/home/roko/spatial/output/lightning_logs/checkpoints/MonetDense/MonetDense__[512, 512, 512, 512, 512, 512]__25__FDR_test__Adam.ckpt' as top 1\n"
     ]
    },
    {
     "data": {
      "application/vnd.jupyter.widget-view+json": {
       "model_id": "9680fb7090c84d5598ee0d0cebd5c1b5",
       "version_major": 2,
       "version_minor": 0
      },
      "text/plain": [
       "Validation: 0it [00:00, ?it/s]"
      ]
     },
     "metadata": {},
     "output_type": "display_data"
    },
    {
     "name": "stderr",
     "output_type": "stream",
     "text": [
      "Epoch 241, global step 37026: 'val_loss' was not in top 1\n"
     ]
    },
    {
     "data": {
      "application/vnd.jupyter.widget-view+json": {
       "model_id": "8ec497dc767f46ae8bee644fc7c563b4",
       "version_major": 2,
       "version_minor": 0
      },
      "text/plain": [
       "Validation: 0it [00:00, ?it/s]"
      ]
     },
     "metadata": {},
     "output_type": "display_data"
    },
    {
     "name": "stderr",
     "output_type": "stream",
     "text": [
      "Epoch 242, global step 37179: 'val_loss' was not in top 1\n"
     ]
    },
    {
     "data": {
      "application/vnd.jupyter.widget-view+json": {
       "model_id": "bf42ac55abfb4c8bb7b84b5e242dc1d6",
       "version_major": 2,
       "version_minor": 0
      },
      "text/plain": [
       "Validation: 0it [00:00, ?it/s]"
      ]
     },
     "metadata": {},
     "output_type": "display_data"
    },
    {
     "name": "stderr",
     "output_type": "stream",
     "text": [
      "Epoch 243, global step 37332: 'val_loss' reached 0.00004 (best 0.00004), saving model to '/home/roko/spatial/output/lightning_logs/checkpoints/MonetDense/MonetDense__[512, 512, 512, 512, 512, 512]__25__FDR_test__Adam.ckpt' as top 1\n"
     ]
    },
    {
     "data": {
      "application/vnd.jupyter.widget-view+json": {
       "model_id": "1aee688ce9564a6381e94512aaa3697a",
       "version_major": 2,
       "version_minor": 0
      },
      "text/plain": [
       "Validation: 0it [00:00, ?it/s]"
      ]
     },
     "metadata": {},
     "output_type": "display_data"
    },
    {
     "name": "stderr",
     "output_type": "stream",
     "text": [
      "Epoch 244, global step 37485: 'val_loss' reached 0.00004 (best 0.00004), saving model to '/home/roko/spatial/output/lightning_logs/checkpoints/MonetDense/MonetDense__[512, 512, 512, 512, 512, 512]__25__FDR_test__Adam.ckpt' as top 1\n"
     ]
    },
    {
     "data": {
      "application/vnd.jupyter.widget-view+json": {
       "model_id": "a24ddda40d544445b5613fe6b3316433",
       "version_major": 2,
       "version_minor": 0
      },
      "text/plain": [
       "Validation: 0it [00:00, ?it/s]"
      ]
     },
     "metadata": {},
     "output_type": "display_data"
    },
    {
     "name": "stderr",
     "output_type": "stream",
     "text": [
      "Epoch 245, global step 37638: 'val_loss' reached 0.00004 (best 0.00004), saving model to '/home/roko/spatial/output/lightning_logs/checkpoints/MonetDense/MonetDense__[512, 512, 512, 512, 512, 512]__25__FDR_test__Adam.ckpt' as top 1\n"
     ]
    },
    {
     "data": {
      "application/vnd.jupyter.widget-view+json": {
       "model_id": "14cdf78bec72431a83cc5125907b1764",
       "version_major": 2,
       "version_minor": 0
      },
      "text/plain": [
       "Validation: 0it [00:00, ?it/s]"
      ]
     },
     "metadata": {},
     "output_type": "display_data"
    },
    {
     "name": "stderr",
     "output_type": "stream",
     "text": [
      "Epoch 246, global step 37791: 'val_loss' reached 0.00004 (best 0.00004), saving model to '/home/roko/spatial/output/lightning_logs/checkpoints/MonetDense/MonetDense__[512, 512, 512, 512, 512, 512]__25__FDR_test__Adam.ckpt' as top 1\n"
     ]
    },
    {
     "data": {
      "application/vnd.jupyter.widget-view+json": {
       "model_id": "10817f3ce5354076ba2b4091ad1e7a4a",
       "version_major": 2,
       "version_minor": 0
      },
      "text/plain": [
       "Validation: 0it [00:00, ?it/s]"
      ]
     },
     "metadata": {},
     "output_type": "display_data"
    },
    {
     "name": "stderr",
     "output_type": "stream",
     "text": [
      "Epoch 247, global step 37944: 'val_loss' reached 0.00004 (best 0.00004), saving model to '/home/roko/spatial/output/lightning_logs/checkpoints/MonetDense/MonetDense__[512, 512, 512, 512, 512, 512]__25__FDR_test__Adam.ckpt' as top 1\n"
     ]
    },
    {
     "data": {
      "application/vnd.jupyter.widget-view+json": {
       "model_id": "85329a49e0a541a794bc7ae57cce307d",
       "version_major": 2,
       "version_minor": 0
      },
      "text/plain": [
       "Validation: 0it [00:00, ?it/s]"
      ]
     },
     "metadata": {},
     "output_type": "display_data"
    },
    {
     "name": "stderr",
     "output_type": "stream",
     "text": [
      "Epoch 248, global step 38097: 'val_loss' was not in top 1\n"
     ]
    },
    {
     "data": {
      "application/vnd.jupyter.widget-view+json": {
       "model_id": "fa068415072347fc8c5c5fd0c9dab207",
       "version_major": 2,
       "version_minor": 0
      },
      "text/plain": [
       "Validation: 0it [00:00, ?it/s]"
      ]
     },
     "metadata": {},
     "output_type": "display_data"
    },
    {
     "name": "stderr",
     "output_type": "stream",
     "text": [
      "Epoch 249, global step 38250: 'val_loss' was not in top 1\n",
      "`Trainer.fit` stopped: `max_epochs=250` reached.\n",
      "FIT Profiler Report\n",
      "\n",
      "----------------------------------------------------------------------------------------------------------------------------------------------------------------------------------------------------------------------------------------------------------------------------------\n",
      "|  Action                                                                                                                                                               \t|  Mean duration (s)\t|  Num calls      \t|  Total time (s) \t|  Percentage %   \t|\n",
      "----------------------------------------------------------------------------------------------------------------------------------------------------------------------------------------------------------------------------------------------------------------------------------\n",
      "|  Total                                                                                                                                                                \t|  -              \t|  1944577        \t|  1.351e+04      \t|  100 %          \t|\n",
      "----------------------------------------------------------------------------------------------------------------------------------------------------------------------------------------------------------------------------------------------------------------------------------\n",
      "|  run_training_epoch                                                                                                                                                   \t|  53.281         \t|  250            \t|  1.332e+04      \t|  98.597         \t|\n",
      "|  run_training_batch                                                                                                                                                   \t|  0.29512        \t|  38250          \t|  1.1288e+04     \t|  83.557         \t|\n",
      "|  [LightningModule]MonetDense.optimizer_step                                                                                                                           \t|  0.29458        \t|  38250          \t|  1.1268e+04     \t|  83.404         \t|\n",
      "|  [Strategy]SingleDeviceStrategy.training_step                                                                                                                         \t|  0.26893        \t|  38250          \t|  1.0287e+04     \t|  76.142         \t|\n",
      "|  [Callback]TQDMProgressBar.on_train_batch_end                                                                                                                         \t|  0.026773       \t|  38250          \t|  1024.1         \t|  7.5801         \t|\n",
      "|  [Strategy]SingleDeviceStrategy.backward                                                                                                                              \t|  0.01943        \t|  38250          \t|  743.19         \t|  5.5011         \t|\n",
      "|  [TrainingEpochLoop].train_dataloader_next                                                                                                                            \t|  0.013247       \t|  38250          \t|  506.71         \t|  3.7506         \t|\n",
      "|  [Callback]ModelCheckpoint{'monitor': 'val_loss', 'mode': 'min', 'every_n_train_steps': 0, 'every_n_epochs': 1, 'train_time_interval': None}.on_train_epoch_end       \t|  0.73485        \t|  250            \t|  183.71         \t|  1.3598         \t|\n",
      "|  [Strategy]SingleDeviceStrategy.validation_step                                                                                                                       \t|  0.13556        \t|  1002           \t|  135.83         \t|  1.0054         \t|\n",
      "|  [Strategy]SingleDeviceStrategy.batch_to_device                                                                                                                       \t|  0.00273        \t|  39252          \t|  107.16         \t|  0.79319        \t|\n",
      "|  [LightningModule]MonetDense.transfer_batch_to_device                                                                                                                 \t|  0.0026651      \t|  39252          \t|  104.61         \t|  0.77432        \t|\n",
      "|  [EvaluationEpochLoop].val_dataloader_idx_0_next                                                                                                                      \t|  0.026238       \t|  1000           \t|  26.238         \t|  0.19421        \t|\n",
      "|  [LightningModule]MonetDense.optimizer_zero_grad                                                                                                                      \t|  0.0004862      \t|  38250          \t|  18.597         \t|  0.13766        \t|\n",
      "|  [Callback]TQDMProgressBar.on_validation_start                                                                                                                        \t|  0.0099222      \t|  251            \t|  2.4905         \t|  0.018434       \t|\n",
      "|  [Callback]ModelCheckpoint{'monitor': 'val_loss', 'mode': 'min', 'every_n_train_steps': 0, 'every_n_epochs': 1, 'train_time_interval': None}.on_train_batch_end       \t|  3.9892e-05     \t|  38250          \t|  1.5259         \t|  0.011294       \t|\n",
      "|  [Callback]TQDMProgressBar.on_validation_batch_end                                                                                                                    \t|  0.0011929      \t|  1002           \t|  1.1953         \t|  0.0088475      \t|\n",
      "|  [LightningModule]MonetDense.configure_gradient_clipping                                                                                                              \t|  3.0541e-05     \t|  38250          \t|  1.1682         \t|  0.008647       \t|\n",
      "|  [Callback]TQDMProgressBar.on_validation_batch_start                                                                                                                  \t|  0.00083013     \t|  1002           \t|  0.83179        \t|  0.0061569      \t|\n",
      "|  [Callback]TQDMProgressBar.on_validation_end                                                                                                                          \t|  0.0024644      \t|  251            \t|  0.61856        \t|  0.0045786      \t|\n",
      "|  [Callback]TQDMProgressBar.on_train_epoch_start                                                                                                                       \t|  0.0013397      \t|  250            \t|  0.33493        \t|  0.0024791      \t|\n",
      "|  [Callback]ModelSummary.on_train_batch_end                                                                                                                            \t|  6.3695e-06     \t|  38250          \t|  0.24363        \t|  0.0018034      \t|\n",
      "|  [Callback]EarlyStopping{'monitor': 'val_loss', 'mode': 'min'}.on_train_epoch_end                                                                                     \t|  0.00078811     \t|  250            \t|  0.19703        \t|  0.0014584      \t|\n",
      "|  [Callback]EarlyStopping{'monitor': 'val_loss', 'mode': 'min'}.on_after_backward                                                                                      \t|  3.8998e-06     \t|  38250          \t|  0.14917        \t|  0.0011041      \t|\n",
      "|  [LightningModule]MonetDense.on_before_batch_transfer                                                                                                                 \t|  2.7168e-06     \t|  39252          \t|  0.10664        \t|  0.00078933     \t|\n",
      "|  [Callback]EarlyStopping{'monitor': 'val_loss', 'mode': 'min'}.on_train_batch_end                                                                                     \t|  2.7795e-06     \t|  38250          \t|  0.10632        \t|  0.00078694     \t|\n",
      "|  [Callback]EarlyStopping{'monitor': 'val_loss', 'mode': 'min'}.on_train_batch_start                                                                                   \t|  2.7463e-06     \t|  38250          \t|  0.10504        \t|  0.00077753     \t|\n",
      "|  [Callback]EarlyStopping{'monitor': 'val_loss', 'mode': 'min'}.on_before_zero_grad                                                                                    \t|  2.6125e-06     \t|  38250          \t|  0.099928       \t|  0.00073966     \t|\n",
      "|  [Callback]TQDMProgressBar.on_train_epoch_end                                                                                                                         \t|  0.000361       \t|  250            \t|  0.09025        \t|  0.00066802     \t|\n",
      "|  [Callback]EarlyStopping{'monitor': 'val_loss', 'mode': 'min'}.on_before_backward                                                                                     \t|  1.9295e-06     \t|  38250          \t|  0.073805       \t|  0.0005463      \t|\n",
      "|  [LightningModule]MonetDense.on_validation_model_eval                                                                                                                 \t|  0.00026993     \t|  251            \t|  0.067752       \t|  0.00050149     \t|\n",
      "|  [LightningModule]MonetDense.training_step_end                                                                                                                        \t|  1.7662e-06     \t|  38250          \t|  0.067559       \t|  0.00050007     \t|\n",
      "|  [LightningModule]MonetDense.on_validation_model_train                                                                                                                \t|  0.00026653     \t|  251            \t|  0.066898       \t|  0.00049518     \t|\n",
      "|  [LightningModule]MonetDense.on_after_batch_transfer                                                                                                                  \t|  1.6807e-06     \t|  39252          \t|  0.065972       \t|  0.00048832     \t|\n",
      "|  [Callback]EarlyStopping{'monitor': 'val_loss', 'mode': 'min'}.on_before_optimizer_step                                                                               \t|  1.704e-06      \t|  38250          \t|  0.06518        \t|  0.00048246     \t|\n",
      "|  [EvaluationEpochLoop].None_dataloader_idx_0_next                                                                                                                     \t|  0.028421       \t|  2              \t|  0.056842       \t|  0.00042075     \t|\n",
      "|  [Callback]TQDMProgressBar.on_train_batch_start                                                                                                                       \t|  1.4807e-06     \t|  38250          \t|  0.056635       \t|  0.00041921     \t|\n",
      "|  [Callback]GradientAccumulationScheduler.on_train_batch_end                                                                                                           \t|  1.4174e-06     \t|  38250          \t|  0.054217       \t|  0.00040131     \t|\n",
      "|  [LightningModule]MonetDense.on_before_zero_grad                                                                                                                      \t|  1.3503e-06     \t|  38250          \t|  0.05165        \t|  0.00038231     \t|\n",
      "|  [LightningModule]MonetDense.on_after_backward                                                                                                                        \t|  1.3293e-06     \t|  38250          \t|  0.050845       \t|  0.00037635     \t|\n",
      "|  [Callback]ModelSummary.on_train_batch_start                                                                                                                          \t|  1.2938e-06     \t|  38250          \t|  0.049488       \t|  0.00036631     \t|\n",
      "|  [Callback]TQDMProgressBar.on_before_zero_grad                                                                                                                        \t|  1.2852e-06     \t|  38250          \t|  0.049158       \t|  0.00036387     \t|\n",
      "|  [LightningModule]MonetDense.on_before_backward                                                                                                                       \t|  1.2663e-06     \t|  38250          \t|  0.048438       \t|  0.00035853     \t|\n",
      "|  [LightningModule]MonetDense.on_train_batch_start                                                                                                                     \t|  1.2654e-06     \t|  38250          \t|  0.048401       \t|  0.00035826     \t|\n",
      "|  [LightningModule]MonetDense.on_train_batch_end                                                                                                                       \t|  1.2532e-06     \t|  38250          \t|  0.047934       \t|  0.00035481     \t|\n",
      "|  [Callback]TQDMProgressBar.on_after_backward                                                                                                                          \t|  1.2295e-06     \t|  38250          \t|  0.047029       \t|  0.00034811     \t|\n",
      "|  [Callback]GradientAccumulationScheduler.on_train_batch_start                                                                                                         \t|  1.2092e-06     \t|  38250          \t|  0.046251       \t|  0.00034235     \t|\n",
      "|  [Callback]ModelCheckpoint{'monitor': 'val_loss', 'mode': 'min', 'every_n_train_steps': 0, 'every_n_epochs': 1, 'train_time_interval': None}.on_train_batch_start     \t|  1.1709e-06     \t|  38250          \t|  0.044786       \t|  0.00033151     \t|\n",
      "|  [Callback]ModelCheckpoint{'monitor': 'val_loss', 'mode': 'min', 'every_n_train_steps': 0, 'every_n_epochs': 1, 'train_time_interval': None}.on_after_backward        \t|  1.1627e-06     \t|  38250          \t|  0.044472       \t|  0.00032918     \t|\n",
      "|  [LightningModule]MonetDense.lr_scheduler_step                                                                                                                        \t|  0.00017753     \t|  250            \t|  0.044381       \t|  0.00032851     \t|\n",
      "|  [Callback]TQDMProgressBar.on_before_optimizer_step                                                                                                                   \t|  1.134e-06      \t|  38250          \t|  0.043376       \t|  0.00032106     \t|\n",
      "|  [Callback]ModelSummary.on_after_backward                                                                                                                             \t|  1.1291e-06     \t|  38250          \t|  0.043187       \t|  0.00031967     \t|\n",
      "|  [Callback]TQDMProgressBar.on_before_backward                                                                                                                         \t|  1.1275e-06     \t|  38250          \t|  0.043129       \t|  0.00031924     \t|\n",
      "|  [Callback]GradientAccumulationScheduler.on_before_zero_grad                                                                                                          \t|  1.1157e-06     \t|  38250          \t|  0.042675       \t|  0.00031588     \t|\n",
      "|  [Callback]ModelCheckpoint{'monitor': 'val_loss', 'mode': 'min', 'every_n_train_steps': 0, 'every_n_epochs': 1, 'train_time_interval': None}.on_before_zero_grad      \t|  1.1134e-06     \t|  38250          \t|  0.042589       \t|  0.00031524     \t|\n",
      "|  [Strategy]SingleDeviceStrategy.training_step_end                                                                                                                     \t|  1.0996e-06     \t|  38250          \t|  0.04206        \t|  0.00031133     \t|\n",
      "|  [Callback]GradientAccumulationScheduler.on_after_backward                                                                                                            \t|  1.0833e-06     \t|  38250          \t|  0.041435       \t|  0.0003067      \t|\n",
      "|  [Callback]ModelSummary.on_before_zero_grad                                                                                                                           \t|  1.0638e-06     \t|  38250          \t|  0.040691       \t|  0.00030119     \t|\n",
      "|  [Callback]ModelSummary.on_before_backward                                                                                                                            \t|  1.063e-06      \t|  38250          \t|  0.040659       \t|  0.00030095     \t|\n",
      "|  [Callback]ModelCheckpoint{'monitor': 'val_loss', 'mode': 'min', 'every_n_train_steps': 0, 'every_n_epochs': 1, 'train_time_interval': None}.on_before_backward       \t|  1.0622e-06     \t|  38250          \t|  0.040629       \t|  0.00030074     \t|\n",
      "|  [Callback]ModelCheckpoint{'monitor': 'val_loss', 'mode': 'min', 'every_n_train_steps': 0, 'every_n_epochs': 1, 'train_time_interval': None}.on_before_optimizer_step \t|  1.0582e-06     \t|  38250          \t|  0.040478       \t|  0.00029961     \t|\n",
      "|  [Callback]GradientAccumulationScheduler.on_before_optimizer_step                                                                                                     \t|  1.0549e-06     \t|  38250          \t|  0.040351       \t|  0.00029867     \t|\n",
      "|  [Strategy]SingleDeviceStrategy.on_train_batch_start                                                                                                                  \t|  1.0517e-06     \t|  38250          \t|  0.040227       \t|  0.00029776     \t|\n",
      "|  [Callback]ModelSummary.on_before_optimizer_step                                                                                                                      \t|  1.0333e-06     \t|  38250          \t|  0.039522       \t|  0.00029254     \t|\n",
      "|  [Callback]GradientAccumulationScheduler.on_before_backward                                                                                                           \t|  1.0248e-06     \t|  38250          \t|  0.039199       \t|  0.00029015     \t|\n",
      "|  [LightningModule]MonetDense.on_before_optimizer_step                                                                                                                 \t|  9.2546e-07     \t|  38250          \t|  0.035399       \t|  0.00026202     \t|\n",
      "|  [Callback]ModelCheckpoint{'monitor': 'val_loss', 'mode': 'min', 'every_n_train_steps': 0, 'every_n_epochs': 1, 'train_time_interval': None}.on_validation_end        \t|  0.00011249     \t|  251            \t|  0.028236       \t|  0.000209       \t|\n",
      "|  [Callback]TQDMProgressBar.on_sanity_check_start                                                                                                                      \t|  0.009595       \t|  1              \t|  0.009595       \t|  7.1022e-05     \t|\n",
      "|  [Callback]TQDMProgressBar.on_train_start                                                                                                                             \t|  0.0077285      \t|  1              \t|  0.0077285      \t|  5.7206e-05     \t|\n",
      "|  [Callback]ModelSummary.on_validation_batch_end                                                                                                                       \t|  4.1748e-06     \t|  1002           \t|  0.0041831      \t|  3.0963e-05     \t|\n",
      "|  [Callback]EarlyStopping{'monitor': 'val_loss', 'mode': 'min'}.on_validation_batch_start                                                                              \t|  3.9213e-06     \t|  1002           \t|  0.0039291      \t|  2.9083e-05     \t|\n",
      "|  [Callback]EarlyStopping{'monitor': 'val_loss', 'mode': 'min'}.on_validation_end                                                                                      \t|  1.1419e-05     \t|  251            \t|  0.0028661      \t|  2.1215e-05     \t|\n",
      "|  [Callback]ModelSummary.on_validation_batch_start                                                                                                                     \t|  2.8228e-06     \t|  1002           \t|  0.0028285      \t|  2.0936e-05     \t|\n",
      "|  [Callback]ModelSummary.on_fit_start                                                                                                                                  \t|  0.0024666      \t|  1              \t|  0.0024666      \t|  1.8258e-05     \t|\n",
      "|  [LightningModule]MonetDense.on_validation_batch_start                                                                                                                \t|  2.4026e-06     \t|  1002           \t|  0.0024074      \t|  1.782e-05      \t|\n",
      "|  [LightningModule]MonetDense.on_validation_batch_end                                                                                                                  \t|  2.3892e-06     \t|  1002           \t|  0.002394       \t|  1.772e-05      \t|\n",
      "|  [Callback]EarlyStopping{'monitor': 'val_loss', 'mode': 'min'}.on_validation_batch_end                                                                                \t|  2.2976e-06     \t|  1002           \t|  0.0023022      \t|  1.7041e-05     \t|\n",
      "|  [Strategy]SingleDeviceStrategy.on_validation_end                                                                                                                     \t|  8.9228e-06     \t|  251            \t|  0.0022396      \t|  1.6578e-05     \t|\n",
      "|  [LightningModule]MonetDense.validation_step_end                                                                                                                      \t|  1.9648e-06     \t|  1002           \t|  0.0019688      \t|  1.4573e-05     \t|\n",
      "|  [Callback]GradientAccumulationScheduler.on_train_epoch_start                                                                                                         \t|  7.3836e-06     \t|  250            \t|  0.0018459      \t|  1.3663e-05     \t|\n",
      "|  [Callback]ModelSummary.on_validation_start                                                                                                                           \t|  6.7561e-06     \t|  251            \t|  0.0016958      \t|  1.2552e-05     \t|\n",
      "|  [LightningModule]MonetDense.on_validation_start                                                                                                                      \t|  5.9722e-06     \t|  251            \t|  0.001499       \t|  1.1096e-05     \t|\n",
      "|  [Callback]GradientAccumulationScheduler.on_validation_batch_end                                                                                                      \t|  1.4773e-06     \t|  1002           \t|  0.0014803      \t|  1.0957e-05     \t|\n",
      "|  [Callback]ModelSummary.on_train_epoch_start                                                                                                                          \t|  5.8416e-06     \t|  250            \t|  0.0014604      \t|  1.081e-05      \t|\n",
      "|  [Callback]GradientAccumulationScheduler.on_validation_batch_start                                                                                                    \t|  1.3937e-06     \t|  1002           \t|  0.0013964      \t|  1.0336e-05     \t|\n",
      "|  [LightningModule]MonetDense.on_validation_end                                                                                                                        \t|  5.519e-06      \t|  251            \t|  0.0013853      \t|  1.0254e-05     \t|\n",
      "|  [Callback]ModelCheckpoint{'monitor': 'val_loss', 'mode': 'min', 'every_n_train_steps': 0, 'every_n_epochs': 1, 'train_time_interval': None}.on_validation_batch_start\t|  1.3661e-06     \t|  1002           \t|  0.0013688      \t|  1.0132e-05     \t|\n",
      "|  [Callback]ModelCheckpoint{'monitor': 'val_loss', 'mode': 'min', 'every_n_train_steps': 0, 'every_n_epochs': 1, 'train_time_interval': None}.on_validation_batch_end  \t|  1.3526e-06     \t|  1002           \t|  0.0013553      \t|  1.0032e-05     \t|\n",
      "|  [Callback]ModelSummary.on_validation_end                                                                                                                             \t|  4.3905e-06     \t|  251            \t|  0.001102       \t|  8.1571e-06     \t|\n",
      "|  [Strategy]SingleDeviceStrategy.validation_step_end                                                                                                                   \t|  1.096e-06      \t|  1002           \t|  0.0010982      \t|  8.1286e-06     \t|\n",
      "|  [Callback]EarlyStopping{'monitor': 'val_loss', 'mode': 'min'}.on_validation_start                                                                                    \t|  3.7052e-06     \t|  251            \t|  0.00093        \t|  6.8838e-06     \t|\n",
      "|  [Callback]EarlyStopping{'monitor': 'val_loss', 'mode': 'min'}.on_train_epoch_start                                                                                   \t|  3.7196e-06     \t|  250            \t|  0.00092989     \t|  6.883e-06      \t|\n",
      "|  [Callback]ModelSummary.on_train_epoch_end                                                                                                                            \t|  3.166e-06      \t|  250            \t|  0.00079149     \t|  5.8586e-06     \t|\n",
      "|  [LightningModule]MonetDense.on_train_epoch_end                                                                                                                       \t|  2.971e-06      \t|  250            \t|  0.00074275     \t|  5.4978e-06     \t|\n",
      "|  [Callback]EarlyStopping{'monitor': 'val_loss', 'mode': 'min'}.on_save_checkpoint                                                                                     \t|  3.6143e-06     \t|  201            \t|  0.00072648     \t|  5.3773e-06     \t|\n",
      "|  [LightningModule]MonetDense.validation_epoch_end                                                                                                                     \t|  2.421e-06      \t|  251            \t|  0.00060768     \t|  4.498e-06      \t|\n",
      "|  [Callback]EarlyStopping{'monitor': 'val_loss', 'mode': 'min'}.on_validation_epoch_end                                                                                \t|  2.3646e-06     \t|  251            \t|  0.00059352     \t|  4.3932e-06     \t|\n",
      "|  [Callback]ModelCheckpoint{'monitor': 'val_loss', 'mode': 'min', 'every_n_train_steps': 0, 'every_n_epochs': 1, 'train_time_interval': None}.on_train_epoch_start     \t|  1.9356e-06     \t|  250            \t|  0.0004839      \t|  3.5818e-06     \t|\n",
      "|  [LightningModule]MonetDense.configure_optimizers                                                                                                                     \t|  0.00046416     \t|  1              \t|  0.00046416     \t|  3.4357e-06     \t|\n",
      "|  [Callback]TQDMProgressBar.on_train_end                                                                                                                               \t|  0.00042183     \t|  1              \t|  0.00042183     \t|  3.1223e-06     \t|\n",
      "|  [Callback]GradientAccumulationScheduler.on_validation_end                                                                                                            \t|  1.6777e-06     \t|  251            \t|  0.00042111     \t|  3.117e-06      \t|\n",
      "|  [LightningModule]MonetDense.on_train_epoch_start                                                                                                                     \t|  1.6685e-06     \t|  250            \t|  0.00041713     \t|  3.0876e-06     \t|\n",
      "|  [Callback]EarlyStopping{'monitor': 'val_loss', 'mode': 'min'}.on_validation_epoch_start                                                                              \t|  1.6288e-06     \t|  251            \t|  0.00040883     \t|  3.0261e-06     \t|\n",
      "|  [Callback]TQDMProgressBar.on_save_checkpoint                                                                                                                         \t|  1.9716e-06     \t|  201            \t|  0.00039629     \t|  2.9333e-06     \t|\n",
      "|  [Callback]GradientAccumulationScheduler.on_validation_start                                                                                                          \t|  1.4731e-06     \t|  251            \t|  0.00036974     \t|  2.7368e-06     \t|\n",
      "|  [Callback]GradientAccumulationScheduler.on_train_epoch_end                                                                                                           \t|  1.415e-06      \t|  250            \t|  0.00035374     \t|  2.6184e-06     \t|\n",
      "|  [Callback]ModelSummary.on_validation_epoch_start                                                                                                                     \t|  1.3533e-06     \t|  251            \t|  0.00033968     \t|  2.5143e-06     \t|\n",
      "|  [Callback]ModelCheckpoint{'monitor': 'val_loss', 'mode': 'min', 'every_n_train_steps': 0, 'every_n_epochs': 1, 'train_time_interval': None}.on_validation_start      \t|  1.3497e-06     \t|  251            \t|  0.00033876     \t|  2.5075e-06     \t|\n",
      "|  [Callback]ModelSummary.on_validation_epoch_end                                                                                                                       \t|  1.2991e-06     \t|  251            \t|  0.00032608     \t|  2.4136e-06     \t|\n",
      "|  [Callback]TQDMProgressBar.on_validation_epoch_end                                                                                                                    \t|  1.2736e-06     \t|  251            \t|  0.00031967     \t|  2.3662e-06     \t|\n",
      "|  [Strategy]SingleDeviceStrategy.on_validation_start                                                                                                                   \t|  1.2343e-06     \t|  251            \t|  0.00030982     \t|  2.2933e-06     \t|\n",
      "|  [Callback]ModelCheckpoint{'monitor': 'val_loss', 'mode': 'min', 'every_n_train_steps': 0, 'every_n_epochs': 1, 'train_time_interval': None}.on_save_checkpoint       \t|  1.5205e-06     \t|  201            \t|  0.00030561     \t|  2.2621e-06     \t|\n",
      "|  [LightningModule]MonetDense.on_validation_epoch_end                                                                                                                  \t|  1.1795e-06     \t|  251            \t|  0.00029605     \t|  2.1913e-06     \t|\n",
      "|  [Callback]TQDMProgressBar.on_validation_epoch_start                                                                                                                  \t|  1.1667e-06     \t|  251            \t|  0.00029284     \t|  2.1676e-06     \t|\n",
      "|  [LightningModule]MonetDense.on_validation_epoch_start                                                                                                                \t|  1.1445e-06     \t|  251            \t|  0.00028728     \t|  2.1264e-06     \t|\n",
      "|  [Callback]ModelCheckpoint{'monitor': 'val_loss', 'mode': 'min', 'every_n_train_steps': 0, 'every_n_epochs': 1, 'train_time_interval': None}.on_validation_epoch_start\t|  1.1212e-06     \t|  251            \t|  0.00028141     \t|  2.083e-06      \t|\n",
      "|  [Callback]GradientAccumulationScheduler.on_validation_epoch_start                                                                                                    \t|  1.0844e-06     \t|  251            \t|  0.00027219     \t|  2.0148e-06     \t|\n",
      "|  [Callback]ModelCheckpoint{'monitor': 'val_loss', 'mode': 'min', 'every_n_train_steps': 0, 'every_n_epochs': 1, 'train_time_interval': None}.on_validation_epoch_end  \t|  1.0787e-06     \t|  251            \t|  0.00027075     \t|  2.0041e-06     \t|\n",
      "|  [Callback]GradientAccumulationScheduler.on_validation_epoch_end                                                                                                      \t|  1.0626e-06     \t|  251            \t|  0.0002667      \t|  1.9741e-06     \t|\n",
      "|  [Callback]ModelSummary.on_save_checkpoint                                                                                                                            \t|  1.318e-06      \t|  201            \t|  0.00026492     \t|  1.9609e-06     \t|\n",
      "|  [Callback]GradientAccumulationScheduler.on_save_checkpoint                                                                                                           \t|  1.1344e-06     \t|  201            \t|  0.00022801     \t|  1.6877e-06     \t|\n",
      "|  [LightningModule]MonetDense.on_save_checkpoint                                                                                                                       \t|  9.0205e-07     \t|  201            \t|  0.00018131     \t|  1.3421e-06     \t|\n",
      "|  [Callback]ModelCheckpoint{'monitor': 'val_loss', 'mode': 'min', 'every_n_train_steps': 0, 'every_n_epochs': 1, 'train_time_interval': None}.setup                    \t|  0.000155       \t|  1              \t|  0.000155       \t|  1.1473e-06     \t|\n",
      "|  [Callback]EarlyStopping{'monitor': 'val_loss', 'mode': 'min'}.on_fit_end                                                                                             \t|  5.5899e-06     \t|  1              \t|  5.5899e-06     \t|  4.1376e-08     \t|\n",
      "|  [Callback]EarlyStopping{'monitor': 'val_loss', 'mode': 'min'}.setup                                                                                                  \t|  5.247e-06      \t|  1              \t|  5.247e-06      \t|  3.8838e-08     \t|\n",
      "|  [LightningModule]MonetDense.configure_callbacks                                                                                                                      \t|  4.913e-06      \t|  1              \t|  4.913e-06      \t|  3.6366e-08     \t|\n",
      "|  [Callback]TQDMProgressBar.setup                                                                                                                                      \t|  4.834e-06      \t|  1              \t|  4.834e-06      \t|  3.5781e-08     \t|\n",
      "|  [Callback]TQDMProgressBar.on_sanity_check_end                                                                                                                        \t|  3.6149e-06     \t|  1              \t|  3.6149e-06     \t|  2.6758e-08     \t|\n",
      "|  [Callback]ModelSummary.on_train_start                                                                                                                                \t|  3.484e-06      \t|  1              \t|  3.484e-06      \t|  2.5788e-08     \t|\n",
      "|  [Callback]EarlyStopping{'monitor': 'val_loss', 'mode': 'min'}.on_train_end                                                                                           \t|  3.233e-06      \t|  1              \t|  3.233e-06      \t|  2.393e-08      \t|\n",
      "|  [Callback]ModelSummary.on_sanity_check_start                                                                                                                         \t|  3.0451e-06     \t|  1              \t|  3.0451e-06     \t|  2.254e-08      \t|\n",
      "|  [LightningModule]MonetDense.prepare_data                                                                                                                             \t|  3.002e-06      \t|  1              \t|  3.002e-06      \t|  2.2221e-08     \t|\n",
      "|  [Callback]EarlyStopping{'monitor': 'val_loss', 'mode': 'min'}.teardown                                                                                               \t|  2.951e-06      \t|  1              \t|  2.951e-06      \t|  2.1843e-08     \t|\n",
      "|  [Callback]EarlyStopping{'monitor': 'val_loss', 'mode': 'min'}.on_fit_start                                                                                           \t|  2.856e-06      \t|  1              \t|  2.856e-06      \t|  2.114e-08      \t|\n",
      "|  [LightningModule]MonetDense.on_fit_start                                                                                                                             \t|  2.846e-06      \t|  1              \t|  2.846e-06      \t|  2.1066e-08     \t|\n",
      "|  [Callback]ModelSummary.on_train_end                                                                                                                                  \t|  2.799e-06      \t|  1              \t|  2.799e-06      \t|  2.0718e-08     \t|\n",
      "|  [Callback]GradientAccumulationScheduler.on_fit_start                                                                                                                 \t|  2.759e-06      \t|  1              \t|  2.759e-06      \t|  2.0422e-08     \t|\n",
      "|  [Callback]EarlyStopping{'monitor': 'val_loss', 'mode': 'min'}.on_sanity_check_start                                                                                  \t|  2.724e-06      \t|  1              \t|  2.724e-06      \t|  2.0163e-08     \t|\n",
      "|  [Callback]ModelCheckpoint{'monitor': 'val_loss', 'mode': 'min', 'every_n_train_steps': 0, 'every_n_epochs': 1, 'train_time_interval': None}.on_train_start           \t|  2.329e-06      \t|  1              \t|  2.329e-06      \t|  1.7239e-08     \t|\n",
      "|  [Callback]EarlyStopping{'monitor': 'val_loss', 'mode': 'min'}.on_train_start                                                                                         \t|  2.322e-06      \t|  1              \t|  2.322e-06      \t|  1.7188e-08     \t|\n",
      "|  [Callback]TQDMProgressBar.on_fit_end                                                                                                                                 \t|  2.0229e-06     \t|  1              \t|  2.0229e-06     \t|  1.4974e-08     \t|\n",
      "|  [Callback]TQDMProgressBar.teardown                                                                                                                                   \t|  1.968e-06      \t|  1              \t|  1.968e-06      \t|  1.4567e-08     \t|\n",
      "|  [Callback]EarlyStopping{'monitor': 'val_loss', 'mode': 'min'}.on_sanity_check_end                                                                                    \t|  1.907e-06      \t|  1              \t|  1.907e-06      \t|  1.4116e-08     \t|\n",
      "|  [LightningModule]MonetDense.on_fit_end                                                                                                                               \t|  1.8571e-06     \t|  1              \t|  1.8571e-06     \t|  1.3746e-08     \t|\n",
      "|  [Callback]ModelCheckpoint{'monitor': 'val_loss', 'mode': 'min', 'every_n_train_steps': 0, 'every_n_epochs': 1, 'train_time_interval': None}.teardown                 \t|  1.808e-06      \t|  1              \t|  1.808e-06      \t|  1.3383e-08     \t|\n",
      "|  [LightningModule]MonetDense.teardown                                                                                                                                 \t|  1.7619e-06     \t|  1              \t|  1.7619e-06     \t|  1.3042e-08     \t|\n",
      "|  [Callback]ModelSummary.setup                                                                                                                                         \t|  1.711e-06      \t|  1              \t|  1.711e-06      \t|  1.2664e-08     \t|\n",
      "|  [Callback]ModelCheckpoint{'monitor': 'val_loss', 'mode': 'min', 'every_n_train_steps': 0, 'every_n_epochs': 1, 'train_time_interval': None}.on_fit_end               \t|  1.644e-06      \t|  1              \t|  1.644e-06      \t|  1.2169e-08     \t|\n",
      "|  [Callback]ModelSummary.on_fit_end                                                                                                                                    \t|  1.632e-06      \t|  1              \t|  1.632e-06      \t|  1.208e-08      \t|\n",
      "|  [Callback]ModelSummary.teardown                                                                                                                                      \t|  1.591e-06      \t|  1              \t|  1.591e-06      \t|  1.1777e-08     \t|\n",
      "|  [LightningModule]MonetDense.on_train_end                                                                                                                             \t|  1.548e-06      \t|  1              \t|  1.548e-06      \t|  1.1458e-08     \t|\n",
      "|  [Callback]GradientAccumulationScheduler.teardown                                                                                                                     \t|  1.544e-06      \t|  1              \t|  1.544e-06      \t|  1.1429e-08     \t|\n",
      "|  [LightningModule]MonetDense.setup                                                                                                                                    \t|  1.48e-06       \t|  1              \t|  1.48e-06       \t|  1.0955e-08     \t|\n",
      "|  [Callback]GradientAccumulationScheduler.on_fit_end                                                                                                                   \t|  1.448e-06      \t|  1              \t|  1.448e-06      \t|  1.0718e-08     \t|\n",
      "|  [Strategy]SingleDeviceStrategy.on_train_end                                                                                                                          \t|  1.369e-06      \t|  1              \t|  1.369e-06      \t|  1.0134e-08     \t|\n",
      "|  [Callback]ModelCheckpoint{'monitor': 'val_loss', 'mode': 'min', 'every_n_train_steps': 0, 'every_n_epochs': 1, 'train_time_interval': None}.on_sanity_check_start    \t|  1.346e-06      \t|  1              \t|  1.346e-06      \t|  9.963e-09      \t|\n",
      "|  [Callback]GradientAccumulationScheduler.on_train_end                                                                                                                 \t|  1.317e-06      \t|  1              \t|  1.317e-06      \t|  9.7484e-09     \t|\n",
      "|  [Callback]GradientAccumulationScheduler.on_sanity_check_start                                                                                                        \t|  1.2651e-06     \t|  1              \t|  1.2651e-06     \t|  9.3641e-09     \t|\n",
      "|  [Callback]ModelCheckpoint{'monitor': 'val_loss', 'mode': 'min', 'every_n_train_steps': 0, 'every_n_epochs': 1, 'train_time_interval': None}.on_train_end             \t|  1.2249e-06     \t|  1              \t|  1.2249e-06     \t|  9.0668e-09     \t|\n",
      "|  [Callback]TQDMProgressBar.on_fit_start                                                                                                                               \t|  1.224e-06      \t|  1              \t|  1.224e-06      \t|  9.0599e-09     \t|\n",
      "|  [Callback]GradientAccumulationScheduler.setup                                                                                                                        \t|  1.217e-06      \t|  1              \t|  1.217e-06      \t|  9.0082e-09     \t|\n",
      "|  [Callback]ModelCheckpoint{'monitor': 'val_loss', 'mode': 'min', 'every_n_train_steps': 0, 'every_n_epochs': 1, 'train_time_interval': None}.on_fit_start             \t|  1.2e-06        \t|  1              \t|  1.2e-06        \t|  8.8824e-09     \t|\n",
      "|  [Callback]GradientAccumulationScheduler.on_train_start                                                                                                               \t|  1.173e-06      \t|  1              \t|  1.173e-06      \t|  8.6825e-09     \t|\n",
      "|  [Callback]ModelSummary.on_sanity_check_end                                                                                                                           \t|  1.073e-06      \t|  1              \t|  1.073e-06      \t|  7.9423e-09     \t|\n",
      "|  [LightningModule]MonetDense.configure_sharded_model                                                                                                                  \t|  1.0709e-06     \t|  1              \t|  1.0709e-06     \t|  7.9268e-09     \t|\n",
      "|  [LightningModule]MonetDense.on_train_start                                                                                                                           \t|  1.0519e-06     \t|  1              \t|  1.0519e-06     \t|  7.7863e-09     \t|\n",
      "|  [Callback]ModelCheckpoint{'monitor': 'val_loss', 'mode': 'min', 'every_n_train_steps': 0, 'every_n_epochs': 1, 'train_time_interval': None}.on_sanity_check_end      \t|  9.9395e-07     \t|  1              \t|  9.9395e-07     \t|  7.3572e-09     \t|\n",
      "|  [Callback]GradientAccumulationScheduler.on_sanity_check_end                                                                                                          \t|  9.801e-07      \t|  1              \t|  9.801e-07      \t|  7.2547e-09     \t|\n",
      "|  [Strategy]SingleDeviceStrategy.on_train_start                                                                                                                        \t|  7.4098e-07     \t|  1              \t|  7.4098e-07     \t|  5.4847e-09     \t|\n",
      "----------------------------------------------------------------------------------------------------------------------------------------------------------------------------------------------------------------------------------------------------------------------------------\n",
      "\n",
      "100%|█████████████████████████████████████████████████████████████████████████████| 24/24 [00:35<00:00,  1.49s/it]\n",
      "GPU available: True (cuda), used: True\n",
      "TPU available: False, using: 0 TPU cores\n",
      "IPU available: False, using: 0 IPUs\n",
      "HPU available: False, using: 0 HPUs\n",
      "`Trainer(limit_train_batches=1.0)` was configured so 100% of the batches per epoch will be used..\n",
      "`Trainer(limit_val_batches=1.0)` was configured so 100% of the batches will be used..\n",
      "LOCAL_RANK: 0 - CUDA_VISIBLE_DEVICES: [4,5,6]\n"
     ]
    },
    {
     "data": {
      "application/vnd.jupyter.widget-view+json": {
       "model_id": "61ed044131d541579399572a9dcc2a51",
       "version_major": 2,
       "version_minor": 0
      },
      "text/plain": [
       "Testing: 0it [00:00, ?it/s]"
      ]
     },
     "metadata": {},
     "output_type": "display_data"
    },
    {
     "data": {
      "text/html": [
       "<pre style=\"white-space:pre;overflow-x:auto;line-height:normal;font-family:Menlo,'DejaVu Sans Mono',consolas,'Courier New',monospace\">┏━━━━━━━━━━━━━━━━━━━━━━━━━━━┳━━━━━━━━━━━━━━━━━━━━━━━━━━━┓\n",
       "┃<span style=\"font-weight: bold\">        Test metric        </span>┃<span style=\"font-weight: bold\">       DataLoader 0        </span>┃\n",
       "┡━━━━━━━━━━━━━━━━━━━━━━━━━━━╇━━━━━━━━━━━━━━━━━━━━━━━━━━━┩\n",
       "│<span style=\"color: #008080; text-decoration-color: #008080\">         test_loss         </span>│<span style=\"color: #800080; text-decoration-color: #800080\">   5.668060475727543e-05   </span>│\n",
       "│<span style=\"color: #008080; text-decoration-color: #008080\">       test_loss_mse       </span>│<span style=\"color: #800080; text-decoration-color: #800080\">   5.668060475727543e-05   </span>│\n",
       "└───────────────────────────┴───────────────────────────┘\n",
       "</pre>\n"
      ],
      "text/plain": [
       "┏━━━━━━━━━━━━━━━━━━━━━━━━━━━┳━━━━━━━━━━━━━━━━━━━━━━━━━━━┓\n",
       "┃\u001b[1m \u001b[0m\u001b[1m       Test metric       \u001b[0m\u001b[1m \u001b[0m┃\u001b[1m \u001b[0m\u001b[1m      DataLoader 0       \u001b[0m\u001b[1m \u001b[0m┃\n",
       "┡━━━━━━━━━━━━━━━━━━━━━━━━━━━╇━━━━━━━━━━━━━━━━━━━━━━━━━━━┩\n",
       "│\u001b[36m \u001b[0m\u001b[36m        test_loss        \u001b[0m\u001b[36m \u001b[0m│\u001b[35m \u001b[0m\u001b[35m  5.668060475727543e-05  \u001b[0m\u001b[35m \u001b[0m│\n",
       "│\u001b[36m \u001b[0m\u001b[36m      test_loss_mse      \u001b[0m\u001b[36m \u001b[0m│\u001b[35m \u001b[0m\u001b[35m  5.668060475727543e-05  \u001b[0m\u001b[35m \u001b[0m│\n",
       "└───────────────────────────┴───────────────────────────┘\n"
      ]
     },
     "metadata": {},
     "output_type": "display_data"
    },
    {
     "name": "stderr",
     "output_type": "stream",
     "text": [
      "TEST Profiler Report\n",
      "\n",
      "--------------------------------------------------------------------------------------------------------------------------------------------------------------------------------------------------------------------------------------------------------------------------\n",
      "|  Action                                                                                                                                                         \t|  Mean duration (s)\t|  Num calls      \t|  Total time (s) \t|  Percentage %   \t|\n",
      "--------------------------------------------------------------------------------------------------------------------------------------------------------------------------------------------------------------------------------------------------------------------------\n",
      "|  Total                                                                                                                                                          \t|  -              \t|  471            \t|  27.397         \t|  100 %          \t|\n",
      "--------------------------------------------------------------------------------------------------------------------------------------------------------------------------------------------------------------------------------------------------------------------------\n",
      "|  run_test_evaluation                                                                                                                                            \t|  27.02          \t|  1              \t|  27.02          \t|  98.624         \t|\n",
      "|  [Strategy]SingleDeviceStrategy.test_step                                                                                                                       \t|  0.6748         \t|  24             \t|  16.195         \t|  59.113         \t|\n",
      "|  [EvaluationEpochLoop].test_dataloader_idx_0_next                                                                                                               \t|  0.29624        \t|  24             \t|  7.1097         \t|  25.95          \t|\n",
      "|  [Strategy]SingleDeviceStrategy.batch_to_device                                                                                                                 \t|  0.039122       \t|  24             \t|  0.93893        \t|  3.4271         \t|\n",
      "|  [LightningModule]MonetDense.transfer_batch_to_device                                                                                                           \t|  0.038975       \t|  24             \t|  0.93541        \t|  3.4143         \t|\n",
      "|  [Callback]TQDMProgressBar.on_test_batch_end                                                                                                                    \t|  0.02462        \t|  24             \t|  0.59087        \t|  2.1567         \t|\n",
      "|  [Callback]TQDMProgressBar.on_test_start                                                                                                                        \t|  0.0096783      \t|  1              \t|  0.0096783      \t|  0.035326       \t|\n",
      "|  [Callback]TQDMProgressBar.on_test_end                                                                                                                          \t|  0.0057124      \t|  1              \t|  0.0057124      \t|  0.02085        \t|\n",
      "|  [Callback]TQDMProgressBar.on_test_batch_start                                                                                                                  \t|  0.00017454     \t|  24             \t|  0.0041891      \t|  0.01529        \t|\n",
      "|  [LightningModule]MonetDense.on_test_model_train                                                                                                                \t|  0.0005619      \t|  1              \t|  0.0005619      \t|  0.0020509      \t|\n",
      "|  [Callback]ModelSummary.on_test_batch_end                                                                                                                       \t|  1.2271e-05     \t|  24             \t|  0.00029452     \t|  0.001075       \t|\n",
      "|  [LightningModule]MonetDense.on_test_model_eval                                                                                                                 \t|  0.00019098     \t|  1              \t|  0.00019098     \t|  0.00069708     \t|\n",
      "|  [LightningModule]MonetDense.on_before_batch_transfer                                                                                                           \t|  6.6312e-06     \t|  24             \t|  0.00015915     \t|  0.0005809      \t|\n",
      "|  [Callback]ModelSummary.on_test_batch_start                                                                                                                     \t|  5.1455e-06     \t|  24             \t|  0.00012349     \t|  0.00045075     \t|\n",
      "|  [Callback]GradientAccumulationScheduler.on_test_batch_start                                                                                                    \t|  4.4047e-06     \t|  24             \t|  0.00010571     \t|  0.00038585     \t|\n",
      "|  [LightningModule]MonetDense.test_step_end                                                                                                                      \t|  4.3012e-06     \t|  24             \t|  0.00010323     \t|  0.00037678     \t|\n",
      "|  [LightningModule]MonetDense.on_test_batch_end                                                                                                                  \t|  3.9339e-06     \t|  24             \t|  9.4414e-05     \t|  0.00034461     \t|\n",
      "|  [LightningModule]MonetDense.on_after_batch_transfer                                                                                                            \t|  3.8645e-06     \t|  24             \t|  9.2749e-05     \t|  0.00033853     \t|\n",
      "|  [Callback]ModelCheckpoint{'monitor': 'val_loss', 'mode': 'min', 'every_n_train_steps': 0, 'every_n_epochs': 1, 'train_time_interval': None}.on_test_batch_end  \t|  3.6113e-06     \t|  24             \t|  8.6672e-05     \t|  0.00031635     \t|\n",
      "|  [Callback]ModelCheckpoint{'monitor': 'val_loss', 'mode': 'min', 'every_n_train_steps': 0, 'every_n_epochs': 1, 'train_time_interval': None}.on_test_batch_start\t|  3.5769e-06     \t|  24             \t|  8.5845e-05     \t|  0.00031333     \t|\n",
      "|  [LightningModule]MonetDense.on_test_batch_start                                                                                                                \t|  3.5148e-06     \t|  24             \t|  8.4355e-05     \t|  0.0003079      \t|\n",
      "|  [Callback]GradientAccumulationScheduler.on_test_batch_end                                                                                                      \t|  3.2904e-06     \t|  24             \t|  7.897e-05      \t|  0.00028824     \t|\n",
      "|  [Strategy]SingleDeviceStrategy.test_step_end                                                                                                                   \t|  2.1312e-06     \t|  24             \t|  5.1149e-05     \t|  0.00018669     \t|\n",
      "|  [LightningModule]MonetDense.on_test_end                                                                                                                        \t|  1.591e-05      \t|  1              \t|  1.591e-05      \t|  5.8072e-05     \t|\n",
      "|  [Callback]ModelSummary.on_test_end                                                                                                                             \t|  1.3178e-05     \t|  1              \t|  1.3178e-05     \t|  4.81e-05       \t|\n",
      "|  [Callback]ModelSummary.on_test_start                                                                                                                           \t|  9.926e-06      \t|  1              \t|  9.926e-06      \t|  3.623e-05      \t|\n",
      "|  [LightningModule]MonetDense.configure_callbacks                                                                                                                \t|  8.145e-06      \t|  1              \t|  8.145e-06      \t|  2.9729e-05     \t|\n",
      "|  [LightningModule]MonetDense.test_epoch_end                                                                                                                     \t|  7.779e-06      \t|  1              \t|  7.779e-06      \t|  2.8393e-05     \t|\n",
      "|  [Callback]ModelCheckpoint{'monitor': 'val_loss', 'mode': 'min', 'every_n_train_steps': 0, 'every_n_epochs': 1, 'train_time_interval': None}.setup              \t|  7.218e-06      \t|  1              \t|  7.218e-06      \t|  2.6346e-05     \t|\n",
      "|  [Callback]TQDMProgressBar.setup                                                                                                                                \t|  7.021e-06      \t|  1              \t|  7.021e-06      \t|  2.5627e-05     \t|\n",
      "|  [Callback]TQDMProgressBar.on_test_epoch_end                                                                                                                    \t|  6.6659e-06     \t|  1              \t|  6.6659e-06     \t|  2.4331e-05     \t|\n",
      "|  [Callback]TQDMProgressBar.teardown                                                                                                                             \t|  5.984e-06      \t|  1              \t|  5.984e-06      \t|  2.1842e-05     \t|\n",
      "|  [Callback]GradientAccumulationScheduler.on_test_end                                                                                                            \t|  4.39e-06       \t|  1              \t|  4.39e-06       \t|  1.6024e-05     \t|\n",
      "|  [Callback]ModelSummary.on_test_epoch_end                                                                                                                       \t|  4.188e-06      \t|  1              \t|  4.188e-06      \t|  1.5286e-05     \t|\n",
      "|  [Callback]ModelCheckpoint{'monitor': 'val_loss', 'mode': 'min', 'every_n_train_steps': 0, 'every_n_epochs': 1, 'train_time_interval': None}.on_test_epoch_end  \t|  3.7519e-06     \t|  1              \t|  3.7519e-06     \t|  1.3695e-05     \t|\n",
      "|  [Callback]ModelCheckpoint{'monitor': 'val_loss', 'mode': 'min', 'every_n_train_steps': 0, 'every_n_epochs': 1, 'train_time_interval': None}.on_test_end        \t|  3.724e-06      \t|  1              \t|  3.724e-06      \t|  1.3593e-05     \t|\n",
      "|  [Callback]GradientAccumulationScheduler.on_test_epoch_end                                                                                                      \t|  3.348e-06      \t|  1              \t|  3.348e-06      \t|  1.222e-05      \t|\n",
      "|  [LightningModule]MonetDense.on_test_epoch_end                                                                                                                  \t|  3.1419e-06     \t|  1              \t|  3.1419e-06     \t|  1.1468e-05     \t|\n",
      "|  [LightningModule]MonetDense.on_test_start                                                                                                                      \t|  2.927e-06      \t|  1              \t|  2.927e-06      \t|  1.0684e-05     \t|\n",
      "|  [Callback]ModelSummary.teardown                                                                                                                                \t|  2.9099e-06     \t|  1              \t|  2.9099e-06     \t|  1.0621e-05     \t|\n",
      "|  [Strategy]SingleDeviceStrategy.on_test_end                                                                                                                     \t|  2.5961e-06     \t|  1              \t|  2.5961e-06     \t|  9.4756e-06     \t|\n",
      "|  [Callback]ModelCheckpoint{'monitor': 'val_loss', 'mode': 'min', 'every_n_train_steps': 0, 'every_n_epochs': 1, 'train_time_interval': None}.teardown           \t|  2.136e-06      \t|  1              \t|  2.136e-06      \t|  7.7964e-06     \t|\n",
      "|  [LightningModule]MonetDense.teardown                                                                                                                           \t|  2.122e-06      \t|  1              \t|  2.122e-06      \t|  7.7454e-06     \t|\n",
      "|  [Callback]GradientAccumulationScheduler.teardown                                                                                                               \t|  1.9709e-06     \t|  1              \t|  1.9709e-06     \t|  7.1938e-06     \t|\n",
      "|  [Callback]ModelSummary.setup                                                                                                                                   \t|  1.9349e-06     \t|  1              \t|  1.9349e-06     \t|  7.0625e-06     \t|\n",
      "|  [Callback]TQDMProgressBar.on_test_epoch_start                                                                                                                  \t|  1.9281e-06     \t|  1              \t|  1.9281e-06     \t|  7.0375e-06     \t|\n",
      "|  [Callback]GradientAccumulationScheduler.on_test_start                                                                                                          \t|  1.6231e-06     \t|  1              \t|  1.6231e-06     \t|  5.9242e-06     \t|\n",
      "|  [LightningModule]MonetDense.setup                                                                                                                              \t|  1.4791e-06     \t|  1              \t|  1.4791e-06     \t|  5.3986e-06     \t|\n",
      "|  [LightningModule]MonetDense.prepare_data                                                                                                                       \t|  1.436e-06      \t|  1              \t|  1.436e-06      \t|  5.2413e-06     \t|\n",
      "|  [Callback]ModelCheckpoint{'monitor': 'val_loss', 'mode': 'min', 'every_n_train_steps': 0, 'every_n_epochs': 1, 'train_time_interval': None}.on_test_epoch_start\t|  1.35e-06       \t|  1              \t|  1.35e-06       \t|  4.9273e-06     \t|\n",
      "|  [Callback]ModelCheckpoint{'monitor': 'val_loss', 'mode': 'min', 'every_n_train_steps': 0, 'every_n_epochs': 1, 'train_time_interval': None}.on_test_start      \t|  1.3381e-06     \t|  1              \t|  1.3381e-06     \t|  4.884e-06      \t|\n",
      "|  [Callback]GradientAccumulationScheduler.setup                                                                                                                  \t|  1.261e-06      \t|  1              \t|  1.261e-06      \t|  4.6027e-06     \t|\n",
      "|  [LightningModule]MonetDense.on_test_epoch_start                                                                                                                \t|  1.247e-06      \t|  1              \t|  1.247e-06      \t|  4.5517e-06     \t|\n",
      "|  [Callback]GradientAccumulationScheduler.on_test_epoch_start                                                                                                    \t|  1.1261e-06     \t|  1              \t|  1.1261e-06     \t|  4.1102e-06     \t|\n",
      "|  [Strategy]SingleDeviceStrategy.on_test_start                                                                                                                   \t|  1.1129e-06     \t|  1              \t|  1.1129e-06     \t|  4.0622e-06     \t|\n",
      "|  [Callback]ModelSummary.on_test_epoch_start                                                                                                                     \t|  1.058e-06      \t|  1              \t|  1.058e-06      \t|  3.8616e-06     \t|\n",
      "|  [LightningModule]MonetDense.configure_sharded_model                                                                                                            \t|  1.022e-06      \t|  1              \t|  1.022e-06      \t|  3.7303e-06     \t|\n",
      "--------------------------------------------------------------------------------------------------------------------------------------------------------------------------------------------------------------------------------------------------------------------------\n",
      "\n"
     ]
    }
   ],
   "source": [
    "# without try except\n",
    "test_loss_rad_dict = {}\n",
    "rad = 25\n",
    "\n",
    "with initialize(config_path=\"../config\"):\n",
    "    cfg_from_terminal = compose(config_name=\"configFDR\")\n",
    "    OmegaConf.update(cfg_from_terminal, \"model.kwargs.response_genes\", [0])\n",
    "    OmegaConf.update(cfg_from_terminal, \"model.kwargs.hidden_dimensions\", [512, 512, 512, 512, 512, 512])\n",
    "    OmegaConf.update(cfg_from_terminal, \"optimizer.name\", \"Adam\")\n",
    "    OmegaConf.update(cfg_from_terminal, \"training.logger_name\", \"FDR_test\")\n",
    "    OmegaConf.update(cfg_from_terminal, \"datasets.dataset.include_celltypes\", False)\n",
    "    OmegaConf.update(cfg_from_terminal, \"model.kwargs.observables_dimension\", 154)\n",
    "    OmegaConf.update(cfg_from_terminal, \"model.kwargs.include_skip_connections\", True)\n",
    "    OmegaConf.update(cfg_from_terminal, \"radius\", rad)\n",
    "    OmegaConf.update(cfg_from_terminal, \"gpus\", [2])\n",
    "    print(cfg_from_terminal.training.filepath)\n",
    "    train(cfg_from_terminal)\n",
    "    output = test(cfg_from_terminal)\n",
    "    trainer, l1_losses, inputs, gene_expressions, celltypes, test_results = output\n",
    "    test_loss_rad_dict[rad] = test_results[0]['test_loss']"
   ]
  },
  {
   "cell_type": "code",
   "execution_count": 8,
   "id": "6b3a7894-bc93-4c70-937f-9cfc3bf91d5d",
   "metadata": {},
   "outputs": [
    {
     "name": "stdout",
     "output_type": "stream",
     "text": [
      "MonetDense__[512, 512, 512, 512, 512, 512]__25__FDR_test__Adam\n"
     ]
    },
    {
     "name": "stderr",
     "output_type": "stream",
     "text": [
      "100%|████████████████████████████████████████████████████████████████████████████████████████████████████████████████████████████| 157/157 [03:17<00:00,  1.25s/it]\n",
      "GPU available: True (cuda), used: True\n",
      "TPU available: False, using: 0 TPU cores\n",
      "IPU available: False, using: 0 IPUs\n",
      "HPU available: False, using: 0 HPUs\n",
      "`Trainer(limit_train_batches=1.0)` was configured so 100% of the batches per epoch will be used..\n",
      "`Trainer(limit_val_batches=1.0)` was configured so 100% of the batches will be used..\n",
      "LOCAL_RANK: 0 - CUDA_VISIBLE_DEVICES: [4,5,6]\n",
      "\n",
      "  | Name          | Type                    | Params\n",
      "----------------------------------------------------------\n",
      "0 | dense_network | DenseReluGMMConvNetwork | 23.6 M\n",
      "----------------------------------------------------------\n",
      "23.6 M    Trainable params\n",
      "0         Non-trainable params\n",
      "23.6 M    Total params\n",
      "94.564    Total estimated model params size (MB)\n"
     ]
    },
    {
     "data": {
      "application/vnd.jupyter.widget-view+json": {
       "model_id": "",
       "version_major": 2,
       "version_minor": 0
      },
      "text/plain": [
       "Sanity Checking: 0it [00:00, ?it/s]"
      ]
     },
     "metadata": {},
     "output_type": "display_data"
    },
    {
     "data": {
      "application/vnd.jupyter.widget-view+json": {
       "model_id": "8f97a0f0edc44f0998a2e44ed8b58fcb",
       "version_major": 2,
       "version_minor": 0
      },
      "text/plain": [
       "Training: 0it [00:00, ?it/s]"
      ]
     },
     "metadata": {},
     "output_type": "display_data"
    },
    {
     "data": {
      "application/vnd.jupyter.widget-view+json": {
       "model_id": "",
       "version_major": 2,
       "version_minor": 0
      },
      "text/plain": [
       "Validation: 0it [00:00, ?it/s]"
      ]
     },
     "metadata": {},
     "output_type": "display_data"
    },
    {
     "name": "stderr",
     "output_type": "stream",
     "text": [
      "Epoch 0, global step 153: 'val_loss' reached 1.44271 (best 1.44271), saving model to '/home/roko/spatial/output/lightning_logs/checkpoints/MonetDense/MonetDense__[512, 512, 512, 512, 512, 512]__25__FDR_test__Adam-v1.ckpt' as top 1\n"
     ]
    },
    {
     "data": {
      "application/vnd.jupyter.widget-view+json": {
       "model_id": "",
       "version_major": 2,
       "version_minor": 0
      },
      "text/plain": [
       "Validation: 0it [00:00, ?it/s]"
      ]
     },
     "metadata": {},
     "output_type": "display_data"
    },
    {
     "name": "stderr",
     "output_type": "stream",
     "text": [
      "Epoch 1, global step 306: 'val_loss' reached 0.26968 (best 0.26968), saving model to '/home/roko/spatial/output/lightning_logs/checkpoints/MonetDense/MonetDense__[512, 512, 512, 512, 512, 512]__25__FDR_test__Adam-v1.ckpt' as top 1\n"
     ]
    },
    {
     "name": "stdout",
     "output_type": "stream",
     "text": [
      "MonetDense__[256, 256, 256, 256, 256, 256]__25__FDR_test__Adam\n"
     ]
    },
    {
     "name": "stderr",
     "output_type": "stream",
     "text": [
      "\n",
      "  0%|                                                                                                                                      | 0/157 [00:00<?, ?it/s]\u001b[A\n",
      "  1%|▊                                                                                                                             | 1/157 [00:01<03:55,  1.51s/it]\u001b[A\n",
      "  1%|█▌                                                                                                                            | 2/157 [00:02<03:52,  1.50s/it]\u001b[A\n"
     ]
    },
    {
     "name": "stdout",
     "output_type": "stream",
     "text": [
      "Model with radius of 25 micrometers doesn't exist :(\n"
     ]
    },
    {
     "name": "stderr",
     "output_type": "stream",
     "text": [
      "\n",
      "KeyboardInterrupt\n",
      "\n"
     ]
    }
   ],
   "source": [
    "# with try except\n",
    "test_loss_rad_dict = {}\n",
    "rad = 25\n",
    "\n",
    "with initialize(config_path=\"../config\"):\n",
    "    try:\n",
    "        cfg_from_terminal = compose(config_name=\"configFDR\")\n",
    "        OmegaConf.update(cfg_from_terminal, \"model.kwargs.response_genes\", [0])\n",
    "        OmegaConf.update(cfg_from_terminal, \"model.kwargs.hidden_dimensions\", [512, 512, 512, 512, 512, 512])\n",
    "        OmegaConf.update(cfg_from_terminal, \"optimizer.name\", \"Adam\")\n",
    "        OmegaConf.update(cfg_from_terminal, \"training.logger_name\", \"FDR_test\")\n",
    "        OmegaConf.update(cfg_from_terminal, \"datasets.dataset.include_celltypes\", False)\n",
    "        OmegaConf.update(cfg_from_terminal, \"model.kwargs.observables_dimension\", 154)\n",
    "        OmegaConf.update(cfg_from_terminal, \"model.kwargs.include_skip_connections\", True)\n",
    "        OmegaConf.update(cfg_from_terminal, \"radius\", rad)\n",
    "        OmegaConf.update(cfg_from_terminal, \"gpus\", [2])\n",
    "        print(cfg_from_terminal.training.filepath)\n",
    "        train(cfg_from_terminal)\n",
    "        output = test(cfg_from_terminal)\n",
    "        trainer, l1_losses, inputs, gene_expressions, celltypes, test_results = output\n",
    "        test_loss_rad_dict[rad] = test_results[0]['test_loss']\n",
    "    except:\n",
    "        try:\n",
    "            OmegaConf.update(cfg_from_terminal, \"model.kwargs.hidden_dimensions\", [256, 256, 256, 256, 256, 256])\n",
    "            print(cfg_from_terminal.training.filepath)\n",
    "            train(cfg_from_terminal)\n",
    "            output = test(cfg_from_terminal)\n",
    "            trainer, l1_losses, inputs, gene_expressions, celltypes, test_results = output\n",
    "            test_loss_rad_dict[rad] = test_results[0]['test_loss']\n",
    "        except:\n",
    "            print(f\"Model with radius of {rad} micrometers doesn't exist :(\")"
   ]
  },
  {
   "cell_type": "markdown",
   "id": "20324d82-1d53-4142-81a1-5bd73042d10c",
   "metadata": {},
   "source": [
    "# Train and Test a Spatially Ignorant Model"
   ]
  },
  {
   "cell_type": "code",
   "execution_count": 4,
   "id": "634b1582-39fd-43fa-9826-feb80ad624d6",
   "metadata": {},
   "outputs": [
    {
     "name": "stdout",
     "output_type": "stream",
     "text": [
      "MonetDense__[512, 512, 512, 512, 512, 512]__0__FDR_test__Adam\n"
     ]
    },
    {
     "name": "stderr",
     "output_type": "stream",
     "text": [
      "100%|███████████████████████████████████████████████████████████████████████████| 157/157 [03:58<00:00,  1.52s/it]\n",
      "GPU available: True (cuda), used: True\n",
      "TPU available: False, using: 0 TPU cores\n",
      "IPU available: False, using: 0 IPUs\n",
      "HPU available: False, using: 0 HPUs\n",
      "`Trainer(limit_train_batches=1.0)` was configured so 100% of the batches per epoch will be used..\n",
      "`Trainer(limit_val_batches=1.0)` was configured so 100% of the batches will be used..\n",
      "LOCAL_RANK: 0 - CUDA_VISIBLE_DEVICES: [4,5,6]\n",
      "\n",
      "  | Name          | Type                    | Params\n",
      "----------------------------------------------------------\n",
      "0 | dense_network | DenseReluGMMConvNetwork | 23.6 M\n",
      "----------------------------------------------------------\n",
      "23.6 M    Trainable params\n",
      "0         Non-trainable params\n",
      "23.6 M    Total params\n",
      "94.564    Total estimated model params size (MB)\n"
     ]
    },
    {
     "data": {
      "application/vnd.jupyter.widget-view+json": {
       "model_id": "",
       "version_major": 2,
       "version_minor": 0
      },
      "text/plain": [
       "Sanity Checking: 0it [00:00, ?it/s]"
      ]
     },
     "metadata": {},
     "output_type": "display_data"
    },
    {
     "data": {
      "application/vnd.jupyter.widget-view+json": {
       "model_id": "8adf32fe89f449b68cf7344ef586199a",
       "version_major": 2,
       "version_minor": 0
      },
      "text/plain": [
       "Training: 0it [00:00, ?it/s]"
      ]
     },
     "metadata": {},
     "output_type": "display_data"
    },
    {
     "data": {
      "application/vnd.jupyter.widget-view+json": {
       "model_id": "",
       "version_major": 2,
       "version_minor": 0
      },
      "text/plain": [
       "Validation: 0it [00:00, ?it/s]"
      ]
     },
     "metadata": {},
     "output_type": "display_data"
    },
    {
     "name": "stderr",
     "output_type": "stream",
     "text": [
      "Epoch 0, global step 153: 'val_loss' reached 0.68893 (best 0.68893), saving model to '/home/roko/spatial/output/lightning_logs/checkpoints/MonetDense/MonetDense__[512, 512, 512, 512, 512, 512]__0__FDR_test__Adam.ckpt' as top 1\n"
     ]
    },
    {
     "data": {
      "application/vnd.jupyter.widget-view+json": {
       "model_id": "",
       "version_major": 2,
       "version_minor": 0
      },
      "text/plain": [
       "Validation: 0it [00:00, ?it/s]"
      ]
     },
     "metadata": {},
     "output_type": "display_data"
    },
    {
     "name": "stderr",
     "output_type": "stream",
     "text": [
      "Epoch 1, global step 306: 'val_loss' reached 0.04689 (best 0.04689), saving model to '/home/roko/spatial/output/lightning_logs/checkpoints/MonetDense/MonetDense__[512, 512, 512, 512, 512, 512]__0__FDR_test__Adam.ckpt' as top 1\n"
     ]
    },
    {
     "data": {
      "application/vnd.jupyter.widget-view+json": {
       "model_id": "",
       "version_major": 2,
       "version_minor": 0
      },
      "text/plain": [
       "Validation: 0it [00:00, ?it/s]"
      ]
     },
     "metadata": {},
     "output_type": "display_data"
    },
    {
     "name": "stderr",
     "output_type": "stream",
     "text": [
      "Epoch 2, global step 459: 'val_loss' reached 0.00420 (best 0.00420), saving model to '/home/roko/spatial/output/lightning_logs/checkpoints/MonetDense/MonetDense__[512, 512, 512, 512, 512, 512]__0__FDR_test__Adam.ckpt' as top 1\n"
     ]
    },
    {
     "data": {
      "application/vnd.jupyter.widget-view+json": {
       "model_id": "",
       "version_major": 2,
       "version_minor": 0
      },
      "text/plain": [
       "Validation: 0it [00:00, ?it/s]"
      ]
     },
     "metadata": {},
     "output_type": "display_data"
    },
    {
     "name": "stderr",
     "output_type": "stream",
     "text": [
      "Epoch 3, global step 612: 'val_loss' reached 0.00298 (best 0.00298), saving model to '/home/roko/spatial/output/lightning_logs/checkpoints/MonetDense/MonetDense__[512, 512, 512, 512, 512, 512]__0__FDR_test__Adam.ckpt' as top 1\n"
     ]
    },
    {
     "data": {
      "application/vnd.jupyter.widget-view+json": {
       "model_id": "",
       "version_major": 2,
       "version_minor": 0
      },
      "text/plain": [
       "Validation: 0it [00:00, ?it/s]"
      ]
     },
     "metadata": {},
     "output_type": "display_data"
    },
    {
     "name": "stderr",
     "output_type": "stream",
     "text": [
      "Epoch 4, global step 765: 'val_loss' reached 0.00185 (best 0.00185), saving model to '/home/roko/spatial/output/lightning_logs/checkpoints/MonetDense/MonetDense__[512, 512, 512, 512, 512, 512]__0__FDR_test__Adam.ckpt' as top 1\n"
     ]
    },
    {
     "data": {
      "application/vnd.jupyter.widget-view+json": {
       "model_id": "",
       "version_major": 2,
       "version_minor": 0
      },
      "text/plain": [
       "Validation: 0it [00:00, ?it/s]"
      ]
     },
     "metadata": {},
     "output_type": "display_data"
    },
    {
     "name": "stderr",
     "output_type": "stream",
     "text": [
      "Epoch 5, global step 918: 'val_loss' reached 0.00170 (best 0.00170), saving model to '/home/roko/spatial/output/lightning_logs/checkpoints/MonetDense/MonetDense__[512, 512, 512, 512, 512, 512]__0__FDR_test__Adam.ckpt' as top 1\n"
     ]
    },
    {
     "data": {
      "application/vnd.jupyter.widget-view+json": {
       "model_id": "",
       "version_major": 2,
       "version_minor": 0
      },
      "text/plain": [
       "Validation: 0it [00:00, ?it/s]"
      ]
     },
     "metadata": {},
     "output_type": "display_data"
    },
    {
     "name": "stderr",
     "output_type": "stream",
     "text": [
      "Epoch 6, global step 1071: 'val_loss' reached 0.00141 (best 0.00141), saving model to '/home/roko/spatial/output/lightning_logs/checkpoints/MonetDense/MonetDense__[512, 512, 512, 512, 512, 512]__0__FDR_test__Adam.ckpt' as top 1\n"
     ]
    },
    {
     "data": {
      "application/vnd.jupyter.widget-view+json": {
       "model_id": "",
       "version_major": 2,
       "version_minor": 0
      },
      "text/plain": [
       "Validation: 0it [00:00, ?it/s]"
      ]
     },
     "metadata": {},
     "output_type": "display_data"
    },
    {
     "name": "stderr",
     "output_type": "stream",
     "text": [
      "Epoch 7, global step 1224: 'val_loss' reached 0.00128 (best 0.00128), saving model to '/home/roko/spatial/output/lightning_logs/checkpoints/MonetDense/MonetDense__[512, 512, 512, 512, 512, 512]__0__FDR_test__Adam.ckpt' as top 1\n"
     ]
    },
    {
     "data": {
      "application/vnd.jupyter.widget-view+json": {
       "model_id": "",
       "version_major": 2,
       "version_minor": 0
      },
      "text/plain": [
       "Validation: 0it [00:00, ?it/s]"
      ]
     },
     "metadata": {},
     "output_type": "display_data"
    },
    {
     "name": "stderr",
     "output_type": "stream",
     "text": [
      "Epoch 8, global step 1377: 'val_loss' was not in top 1\n"
     ]
    },
    {
     "data": {
      "application/vnd.jupyter.widget-view+json": {
       "model_id": "",
       "version_major": 2,
       "version_minor": 0
      },
      "text/plain": [
       "Validation: 0it [00:00, ?it/s]"
      ]
     },
     "metadata": {},
     "output_type": "display_data"
    },
    {
     "name": "stderr",
     "output_type": "stream",
     "text": [
      "Epoch 9, global step 1530: 'val_loss' was not in top 1\n"
     ]
    },
    {
     "data": {
      "application/vnd.jupyter.widget-view+json": {
       "model_id": "",
       "version_major": 2,
       "version_minor": 0
      },
      "text/plain": [
       "Validation: 0it [00:00, ?it/s]"
      ]
     },
     "metadata": {},
     "output_type": "display_data"
    },
    {
     "name": "stderr",
     "output_type": "stream",
     "text": [
      "Epoch 10, global step 1683: 'val_loss' was not in top 1\n"
     ]
    },
    {
     "data": {
      "application/vnd.jupyter.widget-view+json": {
       "model_id": "",
       "version_major": 2,
       "version_minor": 0
      },
      "text/plain": [
       "Validation: 0it [00:00, ?it/s]"
      ]
     },
     "metadata": {},
     "output_type": "display_data"
    },
    {
     "name": "stderr",
     "output_type": "stream",
     "text": [
      "Epoch 11, global step 1836: 'val_loss' was not in top 1\n"
     ]
    },
    {
     "data": {
      "application/vnd.jupyter.widget-view+json": {
       "model_id": "",
       "version_major": 2,
       "version_minor": 0
      },
      "text/plain": [
       "Validation: 0it [00:00, ?it/s]"
      ]
     },
     "metadata": {},
     "output_type": "display_data"
    },
    {
     "name": "stderr",
     "output_type": "stream",
     "text": [
      "Epoch 12, global step 1989: 'val_loss' reached 0.00015 (best 0.00015), saving model to '/home/roko/spatial/output/lightning_logs/checkpoints/MonetDense/MonetDense__[512, 512, 512, 512, 512, 512]__0__FDR_test__Adam.ckpt' as top 1\n"
     ]
    },
    {
     "data": {
      "application/vnd.jupyter.widget-view+json": {
       "model_id": "",
       "version_major": 2,
       "version_minor": 0
      },
      "text/plain": [
       "Validation: 0it [00:00, ?it/s]"
      ]
     },
     "metadata": {},
     "output_type": "display_data"
    },
    {
     "name": "stderr",
     "output_type": "stream",
     "text": [
      "Epoch 13, global step 2142: 'val_loss' reached 0.00014 (best 0.00014), saving model to '/home/roko/spatial/output/lightning_logs/checkpoints/MonetDense/MonetDense__[512, 512, 512, 512, 512, 512]__0__FDR_test__Adam.ckpt' as top 1\n"
     ]
    },
    {
     "data": {
      "application/vnd.jupyter.widget-view+json": {
       "model_id": "",
       "version_major": 2,
       "version_minor": 0
      },
      "text/plain": [
       "Validation: 0it [00:00, ?it/s]"
      ]
     },
     "metadata": {},
     "output_type": "display_data"
    },
    {
     "name": "stderr",
     "output_type": "stream",
     "text": [
      "Epoch 14, global step 2295: 'val_loss' was not in top 1\n"
     ]
    },
    {
     "data": {
      "application/vnd.jupyter.widget-view+json": {
       "model_id": "",
       "version_major": 2,
       "version_minor": 0
      },
      "text/plain": [
       "Validation: 0it [00:00, ?it/s]"
      ]
     },
     "metadata": {},
     "output_type": "display_data"
    },
    {
     "name": "stderr",
     "output_type": "stream",
     "text": [
      "Epoch 15, global step 2448: 'val_loss' was not in top 1\n"
     ]
    },
    {
     "data": {
      "application/vnd.jupyter.widget-view+json": {
       "model_id": "",
       "version_major": 2,
       "version_minor": 0
      },
      "text/plain": [
       "Validation: 0it [00:00, ?it/s]"
      ]
     },
     "metadata": {},
     "output_type": "display_data"
    },
    {
     "name": "stderr",
     "output_type": "stream",
     "text": [
      "Epoch 16, global step 2601: 'val_loss' was not in top 1\n"
     ]
    },
    {
     "data": {
      "application/vnd.jupyter.widget-view+json": {
       "model_id": "",
       "version_major": 2,
       "version_minor": 0
      },
      "text/plain": [
       "Validation: 0it [00:00, ?it/s]"
      ]
     },
     "metadata": {},
     "output_type": "display_data"
    },
    {
     "name": "stderr",
     "output_type": "stream",
     "text": [
      "Epoch 17, global step 2754: 'val_loss' was not in top 1\n"
     ]
    },
    {
     "data": {
      "application/vnd.jupyter.widget-view+json": {
       "model_id": "",
       "version_major": 2,
       "version_minor": 0
      },
      "text/plain": [
       "Validation: 0it [00:00, ?it/s]"
      ]
     },
     "metadata": {},
     "output_type": "display_data"
    },
    {
     "name": "stderr",
     "output_type": "stream",
     "text": [
      "Epoch 18, global step 2907: 'val_loss' reached 0.00003 (best 0.00003), saving model to '/home/roko/spatial/output/lightning_logs/checkpoints/MonetDense/MonetDense__[512, 512, 512, 512, 512, 512]__0__FDR_test__Adam.ckpt' as top 1\n"
     ]
    },
    {
     "data": {
      "application/vnd.jupyter.widget-view+json": {
       "model_id": "",
       "version_major": 2,
       "version_minor": 0
      },
      "text/plain": [
       "Validation: 0it [00:00, ?it/s]"
      ]
     },
     "metadata": {},
     "output_type": "display_data"
    },
    {
     "name": "stderr",
     "output_type": "stream",
     "text": [
      "Epoch 19, global step 3060: 'val_loss' was not in top 1\n"
     ]
    },
    {
     "data": {
      "application/vnd.jupyter.widget-view+json": {
       "model_id": "",
       "version_major": 2,
       "version_minor": 0
      },
      "text/plain": [
       "Validation: 0it [00:00, ?it/s]"
      ]
     },
     "metadata": {},
     "output_type": "display_data"
    },
    {
     "name": "stderr",
     "output_type": "stream",
     "text": [
      "Epoch 20, global step 3213: 'val_loss' was not in top 1\n"
     ]
    },
    {
     "data": {
      "application/vnd.jupyter.widget-view+json": {
       "model_id": "",
       "version_major": 2,
       "version_minor": 0
      },
      "text/plain": [
       "Validation: 0it [00:00, ?it/s]"
      ]
     },
     "metadata": {},
     "output_type": "display_data"
    },
    {
     "name": "stderr",
     "output_type": "stream",
     "text": [
      "Epoch 21, global step 3366: 'val_loss' was not in top 1\n"
     ]
    },
    {
     "data": {
      "application/vnd.jupyter.widget-view+json": {
       "model_id": "",
       "version_major": 2,
       "version_minor": 0
      },
      "text/plain": [
       "Validation: 0it [00:00, ?it/s]"
      ]
     },
     "metadata": {},
     "output_type": "display_data"
    },
    {
     "name": "stderr",
     "output_type": "stream",
     "text": [
      "Epoch 22, global step 3519: 'val_loss' was not in top 1\n"
     ]
    },
    {
     "data": {
      "application/vnd.jupyter.widget-view+json": {
       "model_id": "32acb22808f54397932bd5fa6380f69f",
       "version_major": 2,
       "version_minor": 0
      },
      "text/plain": [
       "Validation: 0it [00:00, ?it/s]"
      ]
     },
     "metadata": {},
     "output_type": "display_data"
    },
    {
     "name": "stderr",
     "output_type": "stream",
     "text": [
      "Epoch 23, global step 3672: 'val_loss' reached 0.00003 (best 0.00003), saving model to '/home/roko/spatial/output/lightning_logs/checkpoints/MonetDense/MonetDense__[512, 512, 512, 512, 512, 512]__0__FDR_test__Adam.ckpt' as top 1\n"
     ]
    },
    {
     "data": {
      "application/vnd.jupyter.widget-view+json": {
       "model_id": "2a644261b980457e9ee8ec0f77b79bce",
       "version_major": 2,
       "version_minor": 0
      },
      "text/plain": [
       "Validation: 0it [00:00, ?it/s]"
      ]
     },
     "metadata": {},
     "output_type": "display_data"
    },
    {
     "name": "stderr",
     "output_type": "stream",
     "text": [
      "Epoch 24, global step 3825: 'val_loss' was not in top 1\n"
     ]
    },
    {
     "data": {
      "application/vnd.jupyter.widget-view+json": {
       "model_id": "53869e9e1197462687a6d610835657d5",
       "version_major": 2,
       "version_minor": 0
      },
      "text/plain": [
       "Validation: 0it [00:00, ?it/s]"
      ]
     },
     "metadata": {},
     "output_type": "display_data"
    },
    {
     "name": "stderr",
     "output_type": "stream",
     "text": [
      "Epoch 25, global step 3978: 'val_loss' was not in top 1\n"
     ]
    },
    {
     "data": {
      "application/vnd.jupyter.widget-view+json": {
       "model_id": "ec6cfbc4eae04fcebf673a133e5c2c0f",
       "version_major": 2,
       "version_minor": 0
      },
      "text/plain": [
       "Validation: 0it [00:00, ?it/s]"
      ]
     },
     "metadata": {},
     "output_type": "display_data"
    },
    {
     "name": "stderr",
     "output_type": "stream",
     "text": [
      "Epoch 26, global step 4131: 'val_loss' was not in top 1\n"
     ]
    },
    {
     "data": {
      "application/vnd.jupyter.widget-view+json": {
       "model_id": "86f1c8b759174816b781853dfde1f65f",
       "version_major": 2,
       "version_minor": 0
      },
      "text/plain": [
       "Validation: 0it [00:00, ?it/s]"
      ]
     },
     "metadata": {},
     "output_type": "display_data"
    },
    {
     "name": "stderr",
     "output_type": "stream",
     "text": [
      "Epoch 27, global step 4284: 'val_loss' was not in top 1\n"
     ]
    },
    {
     "data": {
      "application/vnd.jupyter.widget-view+json": {
       "model_id": "a80276b800c44df8a5e875cf5411175a",
       "version_major": 2,
       "version_minor": 0
      },
      "text/plain": [
       "Validation: 0it [00:00, ?it/s]"
      ]
     },
     "metadata": {},
     "output_type": "display_data"
    },
    {
     "name": "stderr",
     "output_type": "stream",
     "text": [
      "Epoch 28, global step 4437: 'val_loss' reached 0.00002 (best 0.00002), saving model to '/home/roko/spatial/output/lightning_logs/checkpoints/MonetDense/MonetDense__[512, 512, 512, 512, 512, 512]__0__FDR_test__Adam.ckpt' as top 1\n"
     ]
    },
    {
     "data": {
      "application/vnd.jupyter.widget-view+json": {
       "model_id": "2302b47c8ff44d78b9ef4c03a54d5dd8",
       "version_major": 2,
       "version_minor": 0
      },
      "text/plain": [
       "Validation: 0it [00:00, ?it/s]"
      ]
     },
     "metadata": {},
     "output_type": "display_data"
    },
    {
     "name": "stderr",
     "output_type": "stream",
     "text": [
      "Epoch 29, global step 4590: 'val_loss' reached 0.00002 (best 0.00002), saving model to '/home/roko/spatial/output/lightning_logs/checkpoints/MonetDense/MonetDense__[512, 512, 512, 512, 512, 512]__0__FDR_test__Adam.ckpt' as top 1\n"
     ]
    },
    {
     "data": {
      "application/vnd.jupyter.widget-view+json": {
       "model_id": "ccb7a0339e1a4c52806072969db64643",
       "version_major": 2,
       "version_minor": 0
      },
      "text/plain": [
       "Validation: 0it [00:00, ?it/s]"
      ]
     },
     "metadata": {},
     "output_type": "display_data"
    },
    {
     "name": "stderr",
     "output_type": "stream",
     "text": [
      "Epoch 30, global step 4743: 'val_loss' reached 0.00002 (best 0.00002), saving model to '/home/roko/spatial/output/lightning_logs/checkpoints/MonetDense/MonetDense__[512, 512, 512, 512, 512, 512]__0__FDR_test__Adam.ckpt' as top 1\n"
     ]
    },
    {
     "data": {
      "application/vnd.jupyter.widget-view+json": {
       "model_id": "f076aa39fa784880b144a6706e1471c3",
       "version_major": 2,
       "version_minor": 0
      },
      "text/plain": [
       "Validation: 0it [00:00, ?it/s]"
      ]
     },
     "metadata": {},
     "output_type": "display_data"
    },
    {
     "name": "stderr",
     "output_type": "stream",
     "text": [
      "Epoch 31, global step 4896: 'val_loss' reached 0.00002 (best 0.00002), saving model to '/home/roko/spatial/output/lightning_logs/checkpoints/MonetDense/MonetDense__[512, 512, 512, 512, 512, 512]__0__FDR_test__Adam.ckpt' as top 1\n"
     ]
    },
    {
     "data": {
      "application/vnd.jupyter.widget-view+json": {
       "model_id": "bc36ccd43d824bfface26b43b599aae1",
       "version_major": 2,
       "version_minor": 0
      },
      "text/plain": [
       "Validation: 0it [00:00, ?it/s]"
      ]
     },
     "metadata": {},
     "output_type": "display_data"
    },
    {
     "name": "stderr",
     "output_type": "stream",
     "text": [
      "Epoch 32, global step 5049: 'val_loss' was not in top 1\n"
     ]
    },
    {
     "data": {
      "application/vnd.jupyter.widget-view+json": {
       "model_id": "266905dd9af142dba14d0b5444a1cfb2",
       "version_major": 2,
       "version_minor": 0
      },
      "text/plain": [
       "Validation: 0it [00:00, ?it/s]"
      ]
     },
     "metadata": {},
     "output_type": "display_data"
    },
    {
     "name": "stderr",
     "output_type": "stream",
     "text": [
      "Epoch 33, global step 5202: 'val_loss' was not in top 1\n"
     ]
    },
    {
     "data": {
      "application/vnd.jupyter.widget-view+json": {
       "model_id": "3d92bcac7b0742fba47382c9adc0d1e8",
       "version_major": 2,
       "version_minor": 0
      },
      "text/plain": [
       "Validation: 0it [00:00, ?it/s]"
      ]
     },
     "metadata": {},
     "output_type": "display_data"
    },
    {
     "name": "stderr",
     "output_type": "stream",
     "text": [
      "Epoch 34, global step 5355: 'val_loss' was not in top 1\n"
     ]
    },
    {
     "data": {
      "application/vnd.jupyter.widget-view+json": {
       "model_id": "ba86655c23ee40af92c2ec2bb32689ba",
       "version_major": 2,
       "version_minor": 0
      },
      "text/plain": [
       "Validation: 0it [00:00, ?it/s]"
      ]
     },
     "metadata": {},
     "output_type": "display_data"
    },
    {
     "name": "stderr",
     "output_type": "stream",
     "text": [
      "Epoch 35, global step 5508: 'val_loss' was not in top 1\n"
     ]
    },
    {
     "data": {
      "application/vnd.jupyter.widget-view+json": {
       "model_id": "222bfb6953a44e2b871ff5383f49a3bc",
       "version_major": 2,
       "version_minor": 0
      },
      "text/plain": [
       "Validation: 0it [00:00, ?it/s]"
      ]
     },
     "metadata": {},
     "output_type": "display_data"
    },
    {
     "name": "stderr",
     "output_type": "stream",
     "text": [
      "Epoch 36, global step 5661: 'val_loss' reached 0.00002 (best 0.00002), saving model to '/home/roko/spatial/output/lightning_logs/checkpoints/MonetDense/MonetDense__[512, 512, 512, 512, 512, 512]__0__FDR_test__Adam.ckpt' as top 1\n"
     ]
    },
    {
     "data": {
      "application/vnd.jupyter.widget-view+json": {
       "model_id": "ddfe10face0d44089919ef1602e74594",
       "version_major": 2,
       "version_minor": 0
      },
      "text/plain": [
       "Validation: 0it [00:00, ?it/s]"
      ]
     },
     "metadata": {},
     "output_type": "display_data"
    },
    {
     "name": "stderr",
     "output_type": "stream",
     "text": [
      "Epoch 37, global step 5814: 'val_loss' was not in top 1\n"
     ]
    },
    {
     "data": {
      "application/vnd.jupyter.widget-view+json": {
       "model_id": "0c34b5d018d44fa9b9c410a3624b25bf",
       "version_major": 2,
       "version_minor": 0
      },
      "text/plain": [
       "Validation: 0it [00:00, ?it/s]"
      ]
     },
     "metadata": {},
     "output_type": "display_data"
    },
    {
     "name": "stderr",
     "output_type": "stream",
     "text": [
      "Epoch 38, global step 5967: 'val_loss' was not in top 1\n"
     ]
    },
    {
     "data": {
      "application/vnd.jupyter.widget-view+json": {
       "model_id": "8723ff6f55e246808357cbebe3366077",
       "version_major": 2,
       "version_minor": 0
      },
      "text/plain": [
       "Validation: 0it [00:00, ?it/s]"
      ]
     },
     "metadata": {},
     "output_type": "display_data"
    },
    {
     "name": "stderr",
     "output_type": "stream",
     "text": [
      "Epoch 39, global step 6120: 'val_loss' was not in top 1\n"
     ]
    },
    {
     "data": {
      "application/vnd.jupyter.widget-view+json": {
       "model_id": "45acd4d0ee7448dd8737842e1d8f6873",
       "version_major": 2,
       "version_minor": 0
      },
      "text/plain": [
       "Validation: 0it [00:00, ?it/s]"
      ]
     },
     "metadata": {},
     "output_type": "display_data"
    },
    {
     "name": "stderr",
     "output_type": "stream",
     "text": [
      "Epoch 40, global step 6273: 'val_loss' was not in top 1\n"
     ]
    },
    {
     "data": {
      "application/vnd.jupyter.widget-view+json": {
       "model_id": "e96fef07f5524a46bc31a452be10c11a",
       "version_major": 2,
       "version_minor": 0
      },
      "text/plain": [
       "Validation: 0it [00:00, ?it/s]"
      ]
     },
     "metadata": {},
     "output_type": "display_data"
    },
    {
     "name": "stderr",
     "output_type": "stream",
     "text": [
      "Epoch 41, global step 6426: 'val_loss' reached 0.00002 (best 0.00002), saving model to '/home/roko/spatial/output/lightning_logs/checkpoints/MonetDense/MonetDense__[512, 512, 512, 512, 512, 512]__0__FDR_test__Adam.ckpt' as top 1\n"
     ]
    },
    {
     "data": {
      "application/vnd.jupyter.widget-view+json": {
       "model_id": "0393dc4ad6294e6daa760c68a9b72577",
       "version_major": 2,
       "version_minor": 0
      },
      "text/plain": [
       "Validation: 0it [00:00, ?it/s]"
      ]
     },
     "metadata": {},
     "output_type": "display_data"
    },
    {
     "name": "stderr",
     "output_type": "stream",
     "text": [
      "Epoch 42, global step 6579: 'val_loss' was not in top 1\n"
     ]
    },
    {
     "data": {
      "application/vnd.jupyter.widget-view+json": {
       "model_id": "6f868c468b8045c98f6702b8d0dc8022",
       "version_major": 2,
       "version_minor": 0
      },
      "text/plain": [
       "Validation: 0it [00:00, ?it/s]"
      ]
     },
     "metadata": {},
     "output_type": "display_data"
    },
    {
     "name": "stderr",
     "output_type": "stream",
     "text": [
      "Epoch 43, global step 6732: 'val_loss' was not in top 1\n"
     ]
    },
    {
     "data": {
      "application/vnd.jupyter.widget-view+json": {
       "model_id": "5261dac54f8b4f36a164771940285a0c",
       "version_major": 2,
       "version_minor": 0
      },
      "text/plain": [
       "Validation: 0it [00:00, ?it/s]"
      ]
     },
     "metadata": {},
     "output_type": "display_data"
    },
    {
     "name": "stderr",
     "output_type": "stream",
     "text": [
      "Epoch 44, global step 6885: 'val_loss' was not in top 1\n"
     ]
    },
    {
     "data": {
      "application/vnd.jupyter.widget-view+json": {
       "model_id": "495b49d06ff54f4fb00326b66d8920eb",
       "version_major": 2,
       "version_minor": 0
      },
      "text/plain": [
       "Validation: 0it [00:00, ?it/s]"
      ]
     },
     "metadata": {},
     "output_type": "display_data"
    },
    {
     "name": "stderr",
     "output_type": "stream",
     "text": [
      "Epoch 45, global step 7038: 'val_loss' was not in top 1\n"
     ]
    },
    {
     "data": {
      "application/vnd.jupyter.widget-view+json": {
       "model_id": "b4eef7011c5e4d8cb9ba3fcd0bfc797c",
       "version_major": 2,
       "version_minor": 0
      },
      "text/plain": [
       "Validation: 0it [00:00, ?it/s]"
      ]
     },
     "metadata": {},
     "output_type": "display_data"
    },
    {
     "name": "stderr",
     "output_type": "stream",
     "text": [
      "Epoch 46, global step 7191: 'val_loss' was not in top 1\n"
     ]
    },
    {
     "data": {
      "application/vnd.jupyter.widget-view+json": {
       "model_id": "8b747d2242454dbe803b5bdd8e03c2cf",
       "version_major": 2,
       "version_minor": 0
      },
      "text/plain": [
       "Validation: 0it [00:00, ?it/s]"
      ]
     },
     "metadata": {},
     "output_type": "display_data"
    },
    {
     "name": "stderr",
     "output_type": "stream",
     "text": [
      "Epoch 47, global step 7344: 'val_loss' was not in top 1\n"
     ]
    },
    {
     "data": {
      "application/vnd.jupyter.widget-view+json": {
       "model_id": "5cba3db89afd4f68bb0a3d8720245184",
       "version_major": 2,
       "version_minor": 0
      },
      "text/plain": [
       "Validation: 0it [00:00, ?it/s]"
      ]
     },
     "metadata": {},
     "output_type": "display_data"
    },
    {
     "name": "stderr",
     "output_type": "stream",
     "text": [
      "Epoch 48, global step 7497: 'val_loss' was not in top 1\n"
     ]
    },
    {
     "data": {
      "application/vnd.jupyter.widget-view+json": {
       "model_id": "0a6f95636f0742839a63f45bfd0503a8",
       "version_major": 2,
       "version_minor": 0
      },
      "text/plain": [
       "Validation: 0it [00:00, ?it/s]"
      ]
     },
     "metadata": {},
     "output_type": "display_data"
    },
    {
     "name": "stderr",
     "output_type": "stream",
     "text": [
      "Epoch 49, global step 7650: 'val_loss' was not in top 1\n"
     ]
    },
    {
     "data": {
      "application/vnd.jupyter.widget-view+json": {
       "model_id": "12ad4446fc6a45b2adea01e6d66dd5db",
       "version_major": 2,
       "version_minor": 0
      },
      "text/plain": [
       "Validation: 0it [00:00, ?it/s]"
      ]
     },
     "metadata": {},
     "output_type": "display_data"
    },
    {
     "name": "stderr",
     "output_type": "stream",
     "text": [
      "Epoch 50, global step 7803: 'val_loss' was not in top 1\n"
     ]
    },
    {
     "data": {
      "application/vnd.jupyter.widget-view+json": {
       "model_id": "156bf8e4f4664586a2e5d516897fa53a",
       "version_major": 2,
       "version_minor": 0
      },
      "text/plain": [
       "Validation: 0it [00:00, ?it/s]"
      ]
     },
     "metadata": {},
     "output_type": "display_data"
    },
    {
     "name": "stderr",
     "output_type": "stream",
     "text": [
      "Epoch 51, global step 7956: 'val_loss' was not in top 1\n",
      "FIT Profiler Report\n",
      "\n",
      "----------------------------------------------------------------------------------------------------------------------------------------------------------------------------------------------------------------------------------------------------------------------------------\n",
      "|  Action                                                                                                                                                               \t|  Mean duration (s)\t|  Num calls      \t|  Total time (s) \t|  Percentage %   \t|\n",
      "----------------------------------------------------------------------------------------------------------------------------------------------------------------------------------------------------------------------------------------------------------------------------------\n",
      "|  Total                                                                                                                                                                \t|  -              \t|  404425         \t|  1796.2         \t|  100 %          \t|\n",
      "----------------------------------------------------------------------------------------------------------------------------------------------------------------------------------------------------------------------------------------------------------------------------------\n",
      "|  run_training_epoch                                                                                                                                                   \t|  34.162         \t|  52             \t|  1776.4         \t|  98.895         \t|\n",
      "|  run_training_batch                                                                                                                                                   \t|  0.18441        \t|  7956           \t|  1467.1         \t|  81.679         \t|\n",
      "|  [LightningModule]MonetDense.optimizer_step                                                                                                                           \t|  0.1838         \t|  7956           \t|  1462.3         \t|  81.409         \t|\n",
      "|  [Strategy]SingleDeviceStrategy.training_step                                                                                                                         \t|  0.15795        \t|  7956           \t|  1256.7         \t|  69.96          \t|\n",
      "|  [Strategy]SingleDeviceStrategy.backward                                                                                                                              \t|  0.019348       \t|  7956           \t|  153.93         \t|  8.5698         \t|\n",
      "|  [TrainingEpochLoop].train_dataloader_next                                                                                                                            \t|  0.013863       \t|  7956           \t|  110.29         \t|  6.1402         \t|\n",
      "|  [Callback]TQDMProgressBar.on_train_batch_end                                                                                                                         \t|  0.012823       \t|  7956           \t|  102.02         \t|  5.6796         \t|\n",
      "|  [Strategy]SingleDeviceStrategy.batch_to_device                                                                                                                       \t|  0.0025581      \t|  8166           \t|  20.89          \t|  1.163          \t|\n",
      "|  [LightningModule]MonetDense.transfer_batch_to_device                                                                                                                 \t|  0.0024836      \t|  8166           \t|  20.281         \t|  1.1291         \t|\n",
      "|  [Strategy]SingleDeviceStrategy.validation_step                                                                                                                       \t|  0.087931       \t|  210            \t|  18.466         \t|  1.028          \t|\n",
      "|  [Callback]ModelCheckpoint{'monitor': 'val_loss', 'mode': 'min', 'every_n_train_steps': 0, 'every_n_epochs': 1, 'train_time_interval': None}.on_train_epoch_end       \t|  0.34613        \t|  52             \t|  17.999         \t|  1.002          \t|\n",
      "|  [EvaluationEpochLoop].val_dataloader_idx_0_next                                                                                                                      \t|  0.02532        \t|  208            \t|  5.2665         \t|  0.2932         \t|\n",
      "|  [LightningModule]MonetDense.optimizer_zero_grad                                                                                                                      \t|  0.00051551     \t|  7956           \t|  4.1014         \t|  0.22833        \t|\n",
      "|  [Callback]TQDMProgressBar.on_validation_start                                                                                                                        \t|  0.010535       \t|  53             \t|  0.55838        \t|  0.031086       \t|\n",
      "|  [Callback]ModelCheckpoint{'monitor': 'val_loss', 'mode': 'min', 'every_n_train_steps': 0, 'every_n_epochs': 1, 'train_time_interval': None}.on_train_batch_end       \t|  4.4764e-05     \t|  7956           \t|  0.35614        \t|  0.019827       \t|\n",
      "|  [LightningModule]MonetDense.configure_gradient_clipping                                                                                                              \t|  3.4153e-05     \t|  7956           \t|  0.27172        \t|  0.015127       \t|\n",
      "|  [Callback]TQDMProgressBar.on_validation_batch_end                                                                                                                    \t|  0.0012819      \t|  210            \t|  0.26921        \t|  0.014987       \t|\n",
      "|  [Callback]TQDMProgressBar.on_validation_batch_start                                                                                                                  \t|  0.00092228     \t|  210            \t|  0.19368        \t|  0.010782       \t|\n",
      "|  [Callback]TQDMProgressBar.on_validation_end                                                                                                                          \t|  0.0026326      \t|  53             \t|  0.13953        \t|  0.0077678      \t|\n",
      "|  [EvaluationEpochLoop].None_dataloader_idx_0_next                                                                                                                     \t|  0.05208        \t|  2              \t|  0.10416        \t|  0.0057988      \t|\n",
      "|  [Callback]TQDMProgressBar.on_train_epoch_start                                                                                                                       \t|  0.0013816      \t|  52             \t|  0.071843       \t|  0.0039996      \t|\n",
      "|  [Callback]ModelSummary.on_train_batch_end                                                                                                                            \t|  7.5251e-06     \t|  7956           \t|  0.05987        \t|  0.0033331      \t|\n",
      "|  [Callback]EarlyStopping{'monitor': 'val_loss', 'mode': 'min'}.on_train_epoch_end                                                                                     \t|  0.00074805     \t|  52             \t|  0.038898       \t|  0.0021655      \t|\n",
      "|  [Callback]EarlyStopping{'monitor': 'val_loss', 'mode': 'min'}.on_after_backward                                                                                      \t|  4.6301e-06     \t|  7956           \t|  0.036837       \t|  0.0020508      \t|\n",
      "|  [LightningModule]MonetDense.on_before_batch_transfer                                                                                                                 \t|  3.193e-06      \t|  8166           \t|  0.026074       \t|  0.0014516      \t|\n",
      "|  [Callback]EarlyStopping{'monitor': 'val_loss', 'mode': 'min'}.on_train_batch_end                                                                                     \t|  3.0946e-06     \t|  7956           \t|  0.024621       \t|  0.0013707      \t|\n",
      "|  [Callback]EarlyStopping{'monitor': 'val_loss', 'mode': 'min'}.on_train_batch_start                                                                                   \t|  3.0489e-06     \t|  7956           \t|  0.024257       \t|  0.0013504      \t|\n",
      "|  [Callback]EarlyStopping{'monitor': 'val_loss', 'mode': 'min'}.on_before_zero_grad                                                                                    \t|  2.8362e-06     \t|  7956           \t|  0.022565       \t|  0.0012562      \t|\n",
      "|  [Callback]TQDMProgressBar.on_train_epoch_end                                                                                                                         \t|  0.0004304      \t|  52             \t|  0.022381       \t|  0.001246       \t|\n",
      "|  [LightningModule]MonetDense.on_validation_model_train                                                                                                                \t|  0.00031708     \t|  53             \t|  0.016805       \t|  0.00093556     \t|\n",
      "|  [Callback]EarlyStopping{'monitor': 'val_loss', 'mode': 'min'}.on_before_backward                                                                                     \t|  2.0729e-06     \t|  7956           \t|  0.016492       \t|  0.00091812     \t|\n",
      "|  [LightningModule]MonetDense.on_validation_model_eval                                                                                                                 \t|  0.00030901     \t|  53             \t|  0.016378       \t|  0.00091176     \t|\n",
      "|  [LightningModule]MonetDense.training_step_end                                                                                                                        \t|  1.9004e-06     \t|  7956           \t|  0.015119       \t|  0.00084172     \t|\n",
      "|  [LightningModule]MonetDense.on_after_batch_transfer                                                                                                                  \t|  1.8513e-06     \t|  8166           \t|  0.015118       \t|  0.00084163     \t|\n",
      "|  [Callback]EarlyStopping{'monitor': 'val_loss', 'mode': 'min'}.on_before_optimizer_step                                                                               \t|  1.8426e-06     \t|  7956           \t|  0.01466        \t|  0.00081614     \t|\n",
      "|  [LightningModule]MonetDense.lr_scheduler_step                                                                                                                        \t|  0.00025152     \t|  52             \t|  0.013079       \t|  0.00072813     \t|\n",
      "|  [Callback]TQDMProgressBar.on_train_batch_start                                                                                                                       \t|  1.6168e-06     \t|  7956           \t|  0.012863       \t|  0.00071613     \t|\n",
      "|  [Callback]GradientAccumulationScheduler.on_train_batch_end                                                                                                           \t|  1.5645e-06     \t|  7956           \t|  0.012447       \t|  0.00069297     \t|\n",
      "|  [LightningModule]MonetDense.on_after_backward                                                                                                                        \t|  1.5442e-06     \t|  7956           \t|  0.012286       \t|  0.00068398     \t|\n",
      "|  [LightningModule]MonetDense.on_before_zero_grad                                                                                                                      \t|  1.4089e-06     \t|  7956           \t|  0.011209       \t|  0.00062405     \t|\n",
      "|  [LightningModule]MonetDense.on_train_batch_start                                                                                                                     \t|  1.4073e-06     \t|  7956           \t|  0.011197       \t|  0.00062333     \t|\n",
      "|  [LightningModule]MonetDense.on_before_backward                                                                                                                       \t|  1.4062e-06     \t|  7956           \t|  0.011188       \t|  0.00062285     \t|\n",
      "|  [Callback]ModelSummary.on_train_batch_start                                                                                                                          \t|  1.4031e-06     \t|  7956           \t|  0.011163       \t|  0.00062148     \t|\n",
      "|  [Callback]TQDMProgressBar.on_before_zero_grad                                                                                                                        \t|  1.3924e-06     \t|  7956           \t|  0.011078       \t|  0.00061672     \t|\n",
      "|  [Callback]TQDMProgressBar.on_after_backward                                                                                                                          \t|  1.3602e-06     \t|  7956           \t|  0.010821       \t|  0.00060245     \t|\n",
      "|  [LightningModule]MonetDense.on_train_batch_end                                                                                                                       \t|  1.3302e-06     \t|  7956           \t|  0.010583       \t|  0.0005892      \t|\n",
      "|  [Callback]GradientAccumulationScheduler.on_train_batch_start                                                                                                         \t|  1.2962e-06     \t|  7956           \t|  0.010313       \t|  0.00057413     \t|\n",
      "|  [Callback]ModelCheckpoint{'monitor': 'val_loss', 'mode': 'min', 'every_n_train_steps': 0, 'every_n_epochs': 1, 'train_time_interval': None}.on_train_batch_start     \t|  1.268e-06      \t|  7956           \t|  0.010088       \t|  0.00056163     \t|\n",
      "|  [Callback]TQDMProgressBar.on_sanity_check_start                                                                                                                      \t|  0.01008        \t|  1              \t|  0.01008        \t|  0.00056119     \t|\n",
      "|  [Strategy]SingleDeviceStrategy.training_step_end                                                                                                                     \t|  1.2558e-06     \t|  7956           \t|  0.0099914      \t|  0.00055624     \t|\n",
      "|  [Callback]ModelCheckpoint{'monitor': 'val_loss', 'mode': 'min', 'every_n_train_steps': 0, 'every_n_epochs': 1, 'train_time_interval': None}.on_after_backward        \t|  1.2476e-06     \t|  7956           \t|  0.009926       \t|  0.0005526      \t|\n",
      "|  [Callback]ModelSummary.on_after_backward                                                                                                                             \t|  1.2276e-06     \t|  7956           \t|  0.0097669      \t|  0.00054374     \t|\n",
      "|  [Callback]TQDMProgressBar.on_before_backward                                                                                                                         \t|  1.2236e-06     \t|  7956           \t|  0.0097352      \t|  0.00054197     \t|\n",
      "|  [Callback]TQDMProgressBar.on_before_optimizer_step                                                                                                                   \t|  1.221e-06      \t|  7956           \t|  0.0097144      \t|  0.00054082     \t|\n",
      "|  [Callback]ModelCheckpoint{'monitor': 'val_loss', 'mode': 'min', 'every_n_train_steps': 0, 'every_n_epochs': 1, 'train_time_interval': None}.on_before_zero_grad      \t|  1.1986e-06     \t|  7956           \t|  0.0095357      \t|  0.00053087     \t|\n",
      "|  [Callback]GradientAccumulationScheduler.on_before_zero_grad                                                                                                          \t|  1.1929e-06     \t|  7956           \t|  0.0094906      \t|  0.00052836     \t|\n",
      "|  [Callback]GradientAccumulationScheduler.on_after_backward                                                                                                            \t|  1.1648e-06     \t|  7956           \t|  0.009267       \t|  0.00051591     \t|\n",
      "|  [Callback]TQDMProgressBar.on_train_start                                                                                                                             \t|  0.0092186      \t|  1              \t|  0.0092186      \t|  0.00051321     \t|\n",
      "|  [Strategy]SingleDeviceStrategy.on_train_batch_start                                                                                                                  \t|  1.1567e-06     \t|  7956           \t|  0.0092025      \t|  0.00051232     \t|\n",
      "|  [Callback]ModelSummary.on_before_backward                                                                                                                            \t|  1.1468e-06     \t|  7956           \t|  0.0091238      \t|  0.00050794     \t|\n",
      "|  [Callback]ModelSummary.on_before_zero_grad                                                                                                                           \t|  1.1407e-06     \t|  7956           \t|  0.0090754      \t|  0.00050525     \t|\n",
      "|  [Callback]ModelCheckpoint{'monitor': 'val_loss', 'mode': 'min', 'every_n_train_steps': 0, 'every_n_epochs': 1, 'train_time_interval': None}.on_before_backward       \t|  1.1318e-06     \t|  7956           \t|  0.0090048      \t|  0.00050131     \t|\n",
      "|  [Callback]GradientAccumulationScheduler.on_before_optimizer_step                                                                                                     \t|  1.1279e-06     \t|  7956           \t|  0.0089734      \t|  0.00049957     \t|\n",
      "|  [Callback]ModelCheckpoint{'monitor': 'val_loss', 'mode': 'min', 'every_n_train_steps': 0, 'every_n_epochs': 1, 'train_time_interval': None}.on_before_optimizer_step \t|  1.1205e-06     \t|  7956           \t|  0.0089143      \t|  0.00049628     \t|\n",
      "|  [Callback]ModelSummary.on_before_optimizer_step                                                                                                                      \t|  1.1139e-06     \t|  7956           \t|  0.0088623      \t|  0.00049338     \t|\n",
      "|  [Callback]GradientAccumulationScheduler.on_before_backward                                                                                                           \t|  1.1026e-06     \t|  7956           \t|  0.0087721      \t|  0.00048836     \t|\n",
      "|  [LightningModule]MonetDense.on_before_optimizer_step                                                                                                                 \t|  9.9233e-07     \t|  7956           \t|  0.007895       \t|  0.00043953     \t|\n",
      "|  [Callback]ModelCheckpoint{'monitor': 'val_loss', 'mode': 'min', 'every_n_train_steps': 0, 'every_n_epochs': 1, 'train_time_interval': None}.on_validation_end        \t|  0.00012287     \t|  53             \t|  0.006512       \t|  0.00036253     \t|\n",
      "|  [Callback]ModelSummary.on_fit_start                                                                                                                                  \t|  0.0028636      \t|  1              \t|  0.0028636      \t|  0.00015942     \t|\n",
      "|  [Callback]ModelSummary.on_validation_batch_end                                                                                                                       \t|  4.5082e-06     \t|  210            \t|  0.00094673     \t|  5.2706e-05     \t|\n",
      "|  [Callback]EarlyStopping{'monitor': 'val_loss', 'mode': 'min'}.on_validation_batch_start                                                                              \t|  4.3615e-06     \t|  210            \t|  0.00091591     \t|  5.099e-05      \t|\n",
      "|  [Callback]EarlyStopping{'monitor': 'val_loss', 'mode': 'min'}.on_validation_end                                                                                      \t|  1.1985e-05     \t|  53             \t|  0.00063518     \t|  3.5362e-05     \t|\n",
      "|  [Callback]ModelSummary.on_validation_batch_start                                                                                                                     \t|  3.0237e-06     \t|  210            \t|  0.00063498     \t|  3.5351e-05     \t|\n",
      "|  [LightningModule]MonetDense.validation_step_end                                                                                                                      \t|  2.8696e-06     \t|  210            \t|  0.00060261     \t|  3.3548e-05     \t|\n",
      "|  [LightningModule]MonetDense.configure_optimizers                                                                                                                     \t|  0.00054731     \t|  1              \t|  0.00054731     \t|  3.047e-05      \t|\n",
      "|  [Callback]EarlyStopping{'monitor': 'val_loss', 'mode': 'min'}.on_validation_batch_end                                                                                \t|  2.5194e-06     \t|  210            \t|  0.00052908     \t|  2.9455e-05     \t|\n",
      "|  [LightningModule]MonetDense.on_validation_batch_start                                                                                                                \t|  2.4921e-06     \t|  210            \t|  0.00052334     \t|  2.9135e-05     \t|\n",
      "|  [LightningModule]MonetDense.on_validation_start                                                                                                                      \t|  9.6674e-06     \t|  53             \t|  0.00051237     \t|  2.8525e-05     \t|\n",
      "|  [Strategy]SingleDeviceStrategy.on_validation_end                                                                                                                     \t|  9.3955e-06     \t|  53             \t|  0.00049796     \t|  2.7722e-05     \t|\n",
      "|  [Callback]ModelSummary.on_validation_start                                                                                                                           \t|  8.1369e-06     \t|  53             \t|  0.00043126     \t|  2.4009e-05     \t|\n",
      "|  [LightningModule]MonetDense.on_validation_batch_end                                                                                                                  \t|  2.0215e-06     \t|  210            \t|  0.00042452     \t|  2.3634e-05     \t|\n",
      "|  [Callback]GradientAccumulationScheduler.on_train_epoch_start                                                                                                         \t|  8.1503e-06     \t|  52             \t|  0.00042382     \t|  2.3595e-05     \t|\n",
      "|  [Callback]TQDMProgressBar.on_train_end                                                                                                                               \t|  0.00040683     \t|  1              \t|  0.00040683     \t|  2.2649e-05     \t|\n",
      "|  [Callback]GradientAccumulationScheduler.on_validation_batch_end                                                                                                      \t|  1.6081e-06     \t|  210            \t|  0.0003377      \t|  1.88e-05       \t|\n",
      "|  [LightningModule]MonetDense.on_validation_end                                                                                                                        \t|  5.8501e-06     \t|  53             \t|  0.00031006     \t|  1.7261e-05     \t|\n",
      "|  [Callback]ModelCheckpoint{'monitor': 'val_loss', 'mode': 'min', 'every_n_train_steps': 0, 'every_n_epochs': 1, 'train_time_interval': None}.on_validation_batch_end  \t|  1.4759e-06     \t|  210            \t|  0.00030995     \t|  1.7255e-05     \t|\n",
      "|  [Callback]GradientAccumulationScheduler.on_validation_batch_start                                                                                                    \t|  1.4746e-06     \t|  210            \t|  0.00030967     \t|  1.724e-05      \t|\n",
      "|  [Callback]ModelCheckpoint{'monitor': 'val_loss', 'mode': 'min', 'every_n_train_steps': 0, 'every_n_epochs': 1, 'train_time_interval': None}.on_validation_batch_start\t|  1.4312e-06     \t|  210            \t|  0.00030054     \t|  1.6732e-05     \t|\n",
      "|  [Callback]ModelSummary.on_train_epoch_start                                                                                                                          \t|  5.7508e-06     \t|  52             \t|  0.00029904     \t|  1.6648e-05     \t|\n",
      "|  [Callback]ModelSummary.on_validation_end                                                                                                                             \t|  4.8654e-06     \t|  53             \t|  0.00025787     \t|  1.4356e-05     \t|\n",
      "|  [Callback]ModelCheckpoint{'monitor': 'val_loss', 'mode': 'min', 'every_n_train_steps': 0, 'every_n_epochs': 1, 'train_time_interval': None}.setup                    \t|  0.00024986     \t|  1              \t|  0.00024986     \t|  1.391e-05      \t|\n",
      "|  [Strategy]SingleDeviceStrategy.validation_step_end                                                                                                                   \t|  1.1547e-06     \t|  210            \t|  0.00024248     \t|  1.3499e-05     \t|\n",
      "|  [Callback]EarlyStopping{'monitor': 'val_loss', 'mode': 'min'}.on_validation_start                                                                                    \t|  3.9332e-06     \t|  53             \t|  0.00020846     \t|  1.1605e-05     \t|\n",
      "|  [Callback]EarlyStopping{'monitor': 'val_loss', 'mode': 'min'}.on_train_epoch_start                                                                                   \t|  3.6813e-06     \t|  52             \t|  0.00019143     \t|  1.0657e-05     \t|\n",
      "|  [Callback]ModelSummary.on_train_epoch_end                                                                                                                            \t|  3.4692e-06     \t|  52             \t|  0.0001804      \t|  1.0043e-05     \t|\n",
      "|  [LightningModule]MonetDense.on_train_epoch_end                                                                                                                       \t|  2.8285e-06     \t|  52             \t|  0.00014708     \t|  8.1883e-06     \t|\n",
      "|  [Callback]EarlyStopping{'monitor': 'val_loss', 'mode': 'min'}.on_validation_epoch_end                                                                                \t|  2.4805e-06     \t|  53             \t|  0.00013146     \t|  7.3189e-06     \t|\n",
      "|  [LightningModule]MonetDense.validation_epoch_end                                                                                                                     \t|  2.4321e-06     \t|  53             \t|  0.0001289      \t|  7.1763e-06     \t|\n",
      "|  [Callback]ModelCheckpoint{'monitor': 'val_loss', 'mode': 'min', 'every_n_train_steps': 0, 'every_n_epochs': 1, 'train_time_interval': None}.on_train_epoch_start     \t|  2.1513e-06     \t|  52             \t|  0.00011187     \t|  6.2279e-06     \t|\n",
      "|  [Callback]ModelCheckpoint{'monitor': 'val_loss', 'mode': 'min', 'every_n_train_steps': 0, 'every_n_epochs': 1, 'train_time_interval': None}.on_save_checkpoint       \t|  5.364e-06      \t|  18             \t|  9.6552e-05     \t|  5.3752e-06     \t|\n",
      "|  [Callback]GradientAccumulationScheduler.on_validation_end                                                                                                            \t|  1.7802e-06     \t|  53             \t|  9.4353e-05     \t|  5.2528e-06     \t|\n",
      "|  [Callback]EarlyStopping{'monitor': 'val_loss', 'mode': 'min'}.on_validation_epoch_start                                                                              \t|  1.7447e-06     \t|  53             \t|  9.2468e-05     \t|  5.1479e-06     \t|\n",
      "|  [LightningModule]MonetDense.on_train_epoch_start                                                                                                                     \t|  1.7254e-06     \t|  52             \t|  8.9721e-05     \t|  4.9949e-06     \t|\n",
      "|  [Callback]GradientAccumulationScheduler.on_validation_start                                                                                                          \t|  1.5896e-06     \t|  53             \t|  8.4248e-05     \t|  4.6902e-06     \t|\n",
      "|  [Callback]GradientAccumulationScheduler.on_train_epoch_end                                                                                                           \t|  1.5893e-06     \t|  52             \t|  8.2641e-05     \t|  4.6008e-06     \t|\n",
      "|  [Callback]ModelCheckpoint{'monitor': 'val_loss', 'mode': 'min', 'every_n_train_steps': 0, 'every_n_epochs': 1, 'train_time_interval': None}.on_validation_start      \t|  1.4064e-06     \t|  53             \t|  7.4539e-05     \t|  4.1497e-06     \t|\n",
      "|  [Callback]ModelSummary.on_validation_epoch_end                                                                                                                       \t|  1.3985e-06     \t|  53             \t|  7.4122e-05     \t|  4.1265e-06     \t|\n",
      "|  [Callback]EarlyStopping{'monitor': 'val_loss', 'mode': 'min'}.on_save_checkpoint                                                                                     \t|  4.0911e-06     \t|  18             \t|  7.364e-05      \t|  4.0997e-06     \t|\n",
      "|  [Callback]TQDMProgressBar.on_validation_epoch_end                                                                                                                    \t|  1.3373e-06     \t|  53             \t|  7.0875e-05     \t|  3.9457e-06     \t|\n",
      "|  [Strategy]SingleDeviceStrategy.on_validation_start                                                                                                                   \t|  1.3293e-06     \t|  53             \t|  7.0451e-05     \t|  3.9222e-06     \t|\n",
      "|  [LightningModule]MonetDense.on_validation_epoch_start                                                                                                                \t|  1.2642e-06     \t|  53             \t|  6.7003e-05     \t|  3.7302e-06     \t|\n",
      "|  [Callback]TQDMProgressBar.on_validation_epoch_start                                                                                                                  \t|  1.2529e-06     \t|  53             \t|  6.6402e-05     \t|  3.6967e-06     \t|\n",
      "|  [Callback]ModelCheckpoint{'monitor': 'val_loss', 'mode': 'min', 'every_n_train_steps': 0, 'every_n_epochs': 1, 'train_time_interval': None}.on_validation_epoch_start\t|  1.1953e-06     \t|  53             \t|  6.3351e-05     \t|  3.5269e-06     \t|\n",
      "|  [LightningModule]MonetDense.on_validation_epoch_end                                                                                                                  \t|  1.1814e-06     \t|  53             \t|  6.2613e-05     \t|  3.4858e-06     \t|\n",
      "|  [Callback]ModelSummary.on_validation_epoch_start                                                                                                                     \t|  1.1808e-06     \t|  53             \t|  6.2583e-05     \t|  3.4841e-06     \t|\n",
      "|  [Callback]GradientAccumulationScheduler.on_validation_epoch_start                                                                                                    \t|  1.1422e-06     \t|  53             \t|  6.0535e-05     \t|  3.3701e-06     \t|\n",
      "|  [Callback]ModelCheckpoint{'monitor': 'val_loss', 'mode': 'min', 'every_n_train_steps': 0, 'every_n_epochs': 1, 'train_time_interval': None}.on_validation_epoch_end  \t|  1.1058e-06     \t|  53             \t|  5.8608e-05     \t|  3.2628e-06     \t|\n",
      "|  [Callback]GradientAccumulationScheduler.on_validation_epoch_end                                                                                                      \t|  1.1007e-06     \t|  53             \t|  5.8339e-05     \t|  3.2479e-06     \t|\n",
      "|  [Callback]TQDMProgressBar.on_save_checkpoint                                                                                                                         \t|  1.92e-06       \t|  18             \t|  3.456e-05      \t|  1.924e-06      \t|\n",
      "|  [Callback]ModelSummary.on_save_checkpoint                                                                                                                            \t|  1.3448e-06     \t|  18             \t|  2.4206e-05     \t|  1.3476e-06     \t|\n",
      "|  [Callback]GradientAccumulationScheduler.on_save_checkpoint                                                                                                           \t|  1.2719e-06     \t|  18             \t|  2.2894e-05     \t|  1.2745e-06     \t|\n",
      "|  [LightningModule]MonetDense.on_save_checkpoint                                                                                                                       \t|  9.6938e-07     \t|  18             \t|  1.7449e-05     \t|  9.7141e-07     \t|\n",
      "|  [Callback]TQDMProgressBar.setup                                                                                                                                      \t|  7.925e-06      \t|  1              \t|  7.925e-06      \t|  4.412e-07      \t|\n",
      "|  [LightningModule]MonetDense.configure_callbacks                                                                                                                      \t|  7.224e-06      \t|  1              \t|  7.224e-06      \t|  4.0217e-07     \t|\n",
      "|  [Callback]EarlyStopping{'monitor': 'val_loss', 'mode': 'min'}.on_train_end                                                                                           \t|  6.5539e-06     \t|  1              \t|  6.5539e-06     \t|  3.6487e-07     \t|\n",
      "|  [Callback]ModelSummary.on_sanity_check_start                                                                                                                         \t|  6.541e-06      \t|  1              \t|  6.541e-06      \t|  3.6415e-07     \t|\n",
      "|  [Callback]EarlyStopping{'monitor': 'val_loss', 'mode': 'min'}.setup                                                                                                  \t|  6.213e-06      \t|  1              \t|  6.213e-06      \t|  3.4589e-07     \t|\n",
      "|  [Callback]ModelSummary.on_train_start                                                                                                                                \t|  6.084e-06      \t|  1              \t|  6.084e-06      \t|  3.3871e-07     \t|\n",
      "|  [Callback]TQDMProgressBar.on_sanity_check_end                                                                                                                        \t|  5.1421e-06     \t|  1              \t|  5.1421e-06     \t|  2.8627e-07     \t|\n",
      "|  [Callback]GradientAccumulationScheduler.on_fit_start                                                                                                                 \t|  4.8401e-06     \t|  1              \t|  4.8401e-06     \t|  2.6946e-07     \t|\n",
      "|  [Callback]EarlyStopping{'monitor': 'val_loss', 'mode': 'min'}.on_fit_end                                                                                             \t|  4.633e-06      \t|  1              \t|  4.633e-06      \t|  2.5793e-07     \t|\n",
      "|  [Callback]EarlyStopping{'monitor': 'val_loss', 'mode': 'min'}.on_sanity_check_start                                                                                  \t|  4.395e-06      \t|  1              \t|  4.395e-06      \t|  2.4468e-07     \t|\n",
      "|  [LightningModule]MonetDense.on_fit_start                                                                                                                             \t|  4.032e-06      \t|  1              \t|  4.032e-06      \t|  2.2447e-07     \t|\n",
      "|  [LightningModule]MonetDense.prepare_data                                                                                                                             \t|  3.744e-06      \t|  1              \t|  3.744e-06      \t|  2.0844e-07     \t|\n",
      "|  [Callback]ModelCheckpoint{'monitor': 'val_loss', 'mode': 'min', 'every_n_train_steps': 0, 'every_n_epochs': 1, 'train_time_interval': None}.on_train_start           \t|  3.165e-06      \t|  1              \t|  3.165e-06      \t|  1.762e-07      \t|\n",
      "|  [Callback]ModelSummary.on_train_end                                                                                                                                  \t|  3.076e-06      \t|  1              \t|  3.076e-06      \t|  1.7125e-07     \t|\n",
      "|  [Callback]EarlyStopping{'monitor': 'val_loss', 'mode': 'min'}.on_train_start                                                                                         \t|  2.829e-06      \t|  1              \t|  2.829e-06      \t|  1.575e-07      \t|\n",
      "|  [Callback]EarlyStopping{'monitor': 'val_loss', 'mode': 'min'}.on_fit_start                                                                                           \t|  2.748e-06      \t|  1              \t|  2.748e-06      \t|  1.5299e-07     \t|\n",
      "|  [Callback]EarlyStopping{'monitor': 'val_loss', 'mode': 'min'}.on_sanity_check_end                                                                                    \t|  2.465e-06      \t|  1              \t|  2.465e-06      \t|  1.3723e-07     \t|\n",
      "|  [Callback]EarlyStopping{'monitor': 'val_loss', 'mode': 'min'}.teardown                                                                                               \t|  2.295e-06      \t|  1              \t|  2.295e-06      \t|  1.2777e-07     \t|\n",
      "|  [Callback]ModelCheckpoint{'monitor': 'val_loss', 'mode': 'min', 'every_n_train_steps': 0, 'every_n_epochs': 1, 'train_time_interval': None}.on_fit_start             \t|  1.717e-06      \t|  1              \t|  1.717e-06      \t|  9.5589e-08     \t|\n",
      "|  [LightningModule]MonetDense.setup                                                                                                                                    \t|  1.646e-06      \t|  1              \t|  1.646e-06      \t|  9.1635e-08     \t|\n",
      "|  [Callback]ModelSummary.setup                                                                                                                                         \t|  1.619e-06      \t|  1              \t|  1.619e-06      \t|  9.0132e-08     \t|\n",
      "|  [Callback]TQDMProgressBar.on_fit_end                                                                                                                                 \t|  1.542e-06      \t|  1              \t|  1.542e-06      \t|  8.5848e-08     \t|\n",
      "|  [LightningModule]MonetDense.teardown                                                                                                                                 \t|  1.5061e-06     \t|  1              \t|  1.5061e-06     \t|  8.3845e-08     \t|\n",
      "|  [Callback]TQDMProgressBar.teardown                                                                                                                                   \t|  1.4669e-06     \t|  1              \t|  1.4669e-06     \t|  8.1668e-08     \t|\n",
      "|  [LightningModule]MonetDense.on_train_start                                                                                                                           \t|  1.466e-06      \t|  1              \t|  1.466e-06      \t|  8.1616e-08     \t|\n",
      "|  [Callback]ModelCheckpoint{'monitor': 'val_loss', 'mode': 'min', 'every_n_train_steps': 0, 'every_n_epochs': 1, 'train_time_interval': None}.on_train_end             \t|  1.4639e-06     \t|  1              \t|  1.4639e-06     \t|  8.1499e-08     \t|\n",
      "|  [Callback]GradientAccumulationScheduler.on_train_start                                                                                                               \t|  1.405e-06      \t|  1              \t|  1.405e-06      \t|  7.822e-08      \t|\n",
      "|  [Callback]GradientAccumulationScheduler.on_train_end                                                                                                                 \t|  1.4011e-06     \t|  1              \t|  1.4011e-06     \t|  7.7999e-08     \t|\n",
      "|  [Callback]ModelCheckpoint{'monitor': 'val_loss', 'mode': 'min', 'every_n_train_steps': 0, 'every_n_epochs': 1, 'train_time_interval': None}.on_sanity_check_start    \t|  1.3721e-06     \t|  1              \t|  1.3721e-06     \t|  7.6386e-08     \t|\n",
      "|  [Callback]GradientAccumulationScheduler.on_sanity_check_start                                                                                                        \t|  1.3571e-06     \t|  1              \t|  1.3571e-06     \t|  7.555e-08      \t|\n",
      "|  [Callback]ModelSummary.teardown                                                                                                                                      \t|  1.322e-06      \t|  1              \t|  1.322e-06      \t|  7.3599e-08     \t|\n",
      "|  [LightningModule]MonetDense.on_train_end                                                                                                                             \t|  1.283e-06      \t|  1              \t|  1.283e-06      \t|  7.1428e-08     \t|\n",
      "|  [LightningModule]MonetDense.on_fit_end                                                                                                                               \t|  1.272e-06      \t|  1              \t|  1.272e-06      \t|  7.0812e-08     \t|\n",
      "|  [Callback]ModelSummary.on_fit_end                                                                                                                                    \t|  1.239e-06      \t|  1              \t|  1.239e-06      \t|  6.8978e-08     \t|\n",
      "|  [Callback]ModelCheckpoint{'monitor': 'val_loss', 'mode': 'min', 'every_n_train_steps': 0, 'every_n_epochs': 1, 'train_time_interval': None}.teardown                 \t|  1.2249e-06     \t|  1              \t|  1.2249e-06     \t|  6.8194e-08     \t|\n",
      "|  [Callback]GradientAccumulationScheduler.teardown                                                                                                                     \t|  1.2161e-06     \t|  1              \t|  1.2161e-06     \t|  6.7701e-08     \t|\n",
      "|  [Callback]GradientAccumulationScheduler.setup                                                                                                                        \t|  1.1879e-06     \t|  1              \t|  1.1879e-06     \t|  6.6133e-08     \t|\n",
      "|  [Strategy]SingleDeviceStrategy.on_train_end                                                                                                                          \t|  1.1841e-06     \t|  1              \t|  1.1841e-06     \t|  6.5919e-08     \t|\n",
      "|  [Callback]ModelCheckpoint{'monitor': 'val_loss', 'mode': 'min', 'every_n_train_steps': 0, 'every_n_epochs': 1, 'train_time_interval': None}.on_fit_end               \t|  1.1791e-06     \t|  1              \t|  1.1791e-06     \t|  6.564e-08      \t|\n",
      "|  [Callback]TQDMProgressBar.on_fit_start                                                                                                                               \t|  1.169e-06      \t|  1              \t|  1.169e-06      \t|  6.5083e-08     \t|\n",
      "|  [Callback]ModelSummary.on_sanity_check_end                                                                                                                           \t|  1.112e-06      \t|  1              \t|  1.112e-06      \t|  6.1907e-08     \t|\n",
      "|  [Callback]GradientAccumulationScheduler.on_fit_end                                                                                                                   \t|  1.102e-06      \t|  1              \t|  1.102e-06      \t|  6.135e-08      \t|\n",
      "|  [Callback]ModelCheckpoint{'monitor': 'val_loss', 'mode': 'min', 'every_n_train_steps': 0, 'every_n_epochs': 1, 'train_time_interval': None}.on_sanity_check_end      \t|  1.0601e-06     \t|  1              \t|  1.0601e-06     \t|  5.9016e-08     \t|\n",
      "|  [LightningModule]MonetDense.configure_sharded_model                                                                                                                  \t|  1.059e-06      \t|  1              \t|  1.059e-06      \t|  5.8958e-08     \t|\n",
      "|  [Callback]GradientAccumulationScheduler.on_sanity_check_end                                                                                                          \t|  1.044e-06      \t|  1              \t|  1.044e-06      \t|  5.8122e-08     \t|\n",
      "|  [Strategy]SingleDeviceStrategy.on_train_start                                                                                                                        \t|  9.9803e-07     \t|  1              \t|  9.9803e-07     \t|  5.5562e-08     \t|\n",
      "----------------------------------------------------------------------------------------------------------------------------------------------------------------------------------------------------------------------------------------------------------------------------------\n",
      "\n",
      "100%|█████████████████████████████████████████████████████████████████████████████| 24/24 [00:34<00:00,  1.46s/it]\n",
      "GPU available: True (cuda), used: True\n",
      "TPU available: False, using: 0 TPU cores\n",
      "IPU available: False, using: 0 IPUs\n",
      "HPU available: False, using: 0 HPUs\n",
      "`Trainer(limit_train_batches=1.0)` was configured so 100% of the batches per epoch will be used..\n",
      "`Trainer(limit_val_batches=1.0)` was configured so 100% of the batches will be used..\n",
      "LOCAL_RANK: 0 - CUDA_VISIBLE_DEVICES: [4,5,6]\n"
     ]
    },
    {
     "data": {
      "application/vnd.jupyter.widget-view+json": {
       "model_id": "69c31900e8a64ab8a0d1abb82db095cf",
       "version_major": 2,
       "version_minor": 0
      },
      "text/plain": [
       "Testing: 0it [00:00, ?it/s]"
      ]
     },
     "metadata": {},
     "output_type": "display_data"
    },
    {
     "data": {
      "text/html": [
       "<pre style=\"white-space:pre;overflow-x:auto;line-height:normal;font-family:Menlo,'DejaVu Sans Mono',consolas,'Courier New',monospace\">┏━━━━━━━━━━━━━━━━━━━━━━━━━━━┳━━━━━━━━━━━━━━━━━━━━━━━━━━━┓\n",
       "┃<span style=\"font-weight: bold\">        Test metric        </span>┃<span style=\"font-weight: bold\">       DataLoader 0        </span>┃\n",
       "┡━━━━━━━━━━━━━━━━━━━━━━━━━━━╇━━━━━━━━━━━━━━━━━━━━━━━━━━━┩\n",
       "│<span style=\"color: #008080; text-decoration-color: #008080\">         test_loss         </span>│<span style=\"color: #800080; text-decoration-color: #800080\">   1.878494549600873e-05   </span>│\n",
       "│<span style=\"color: #008080; text-decoration-color: #008080\">       test_loss_mse       </span>│<span style=\"color: #800080; text-decoration-color: #800080\">   1.878494549600873e-05   </span>│\n",
       "└───────────────────────────┴───────────────────────────┘\n",
       "</pre>\n"
      ],
      "text/plain": [
       "┏━━━━━━━━━━━━━━━━━━━━━━━━━━━┳━━━━━━━━━━━━━━━━━━━━━━━━━━━┓\n",
       "┃\u001b[1m \u001b[0m\u001b[1m       Test metric       \u001b[0m\u001b[1m \u001b[0m┃\u001b[1m \u001b[0m\u001b[1m      DataLoader 0       \u001b[0m\u001b[1m \u001b[0m┃\n",
       "┡━━━━━━━━━━━━━━━━━━━━━━━━━━━╇━━━━━━━━━━━━━━━━━━━━━━━━━━━┩\n",
       "│\u001b[36m \u001b[0m\u001b[36m        test_loss        \u001b[0m\u001b[36m \u001b[0m│\u001b[35m \u001b[0m\u001b[35m  1.878494549600873e-05  \u001b[0m\u001b[35m \u001b[0m│\n",
       "│\u001b[36m \u001b[0m\u001b[36m      test_loss_mse      \u001b[0m\u001b[36m \u001b[0m│\u001b[35m \u001b[0m\u001b[35m  1.878494549600873e-05  \u001b[0m\u001b[35m \u001b[0m│\n",
       "└───────────────────────────┴───────────────────────────┘\n"
      ]
     },
     "metadata": {},
     "output_type": "display_data"
    },
    {
     "name": "stderr",
     "output_type": "stream",
     "text": [
      "TEST Profiler Report\n",
      "\n",
      "--------------------------------------------------------------------------------------------------------------------------------------------------------------------------------------------------------------------------------------------------------------------------\n",
      "|  Action                                                                                                                                                         \t|  Mean duration (s)\t|  Num calls      \t|  Total time (s) \t|  Percentage %   \t|\n",
      "--------------------------------------------------------------------------------------------------------------------------------------------------------------------------------------------------------------------------------------------------------------------------\n",
      "|  Total                                                                                                                                                          \t|  -              \t|  471            \t|  28.025         \t|  100 %          \t|\n",
      "--------------------------------------------------------------------------------------------------------------------------------------------------------------------------------------------------------------------------------------------------------------------------\n",
      "|  run_test_evaluation                                                                                                                                            \t|  27.602         \t|  1              \t|  27.602         \t|  98.492         \t|\n",
      "|  [Strategy]SingleDeviceStrategy.test_step                                                                                                                       \t|  0.71076        \t|  24             \t|  17.058         \t|  60.868         \t|\n",
      "|  [EvaluationEpochLoop].test_dataloader_idx_0_next                                                                                                               \t|  0.27357        \t|  24             \t|  6.5657         \t|  23.428         \t|\n",
      "|  [Strategy]SingleDeviceStrategy.batch_to_device                                                                                                                 \t|  0.046756       \t|  24             \t|  1.1221         \t|  4.0041         \t|\n",
      "|  [LightningModule]MonetDense.transfer_batch_to_device                                                                                                           \t|  0.046592       \t|  24             \t|  1.1182         \t|  3.9901         \t|\n",
      "|  [Callback]TQDMProgressBar.on_test_batch_end                                                                                                                    \t|  0.023848       \t|  24             \t|  0.57236        \t|  2.0424         \t|\n",
      "|  [Callback]TQDMProgressBar.on_test_start                                                                                                                        \t|  0.013187       \t|  1              \t|  0.013187       \t|  0.047057       \t|\n",
      "|  [Callback]TQDMProgressBar.on_test_end                                                                                                                          \t|  0.005632       \t|  1              \t|  0.005632       \t|  0.020097       \t|\n",
      "|  [Callback]TQDMProgressBar.on_test_batch_start                                                                                                                  \t|  0.00017593     \t|  24             \t|  0.0042224      \t|  0.015067       \t|\n",
      "|  [LightningModule]MonetDense.on_test_model_train                                                                                                                \t|  0.00056757     \t|  1              \t|  0.00056757     \t|  0.0020253      \t|\n",
      "|  [Callback]ModelSummary.on_test_batch_end                                                                                                                       \t|  1.3449e-05     \t|  24             \t|  0.00032278     \t|  0.0011518      \t|\n",
      "|  [LightningModule]MonetDense.on_test_model_eval                                                                                                                 \t|  0.00019031     \t|  1              \t|  0.00019031     \t|  0.00067909     \t|\n",
      "|  [LightningModule]MonetDense.on_before_batch_transfer                                                                                                           \t|  6.6622e-06     \t|  24             \t|  0.00015989     \t|  0.00057054     \t|\n",
      "|  [LightningModule]MonetDense.test_step_end                                                                                                                      \t|  5.6861e-06     \t|  24             \t|  0.00013647     \t|  0.00048695     \t|\n",
      "|  [Callback]ModelSummary.on_test_batch_start                                                                                                                     \t|  5.5912e-06     \t|  24             \t|  0.00013419     \t|  0.00047882     \t|\n",
      "|  [Callback]GradientAccumulationScheduler.on_test_batch_start                                                                                                    \t|  4.6684e-06     \t|  24             \t|  0.00011204     \t|  0.0003998      \t|\n",
      "|  [LightningModule]MonetDense.on_after_batch_transfer                                                                                                            \t|  4.4288e-06     \t|  24             \t|  0.00010629     \t|  0.00037928     \t|\n",
      "|  [Callback]GradientAccumulationScheduler.on_test_batch_end                                                                                                      \t|  4.0194e-06     \t|  24             \t|  9.6465e-05     \t|  0.00034421     \t|\n",
      "|  [Callback]ModelCheckpoint{'monitor': 'val_loss', 'mode': 'min', 'every_n_train_steps': 0, 'every_n_epochs': 1, 'train_time_interval': None}.on_test_batch_end  \t|  3.9815e-06     \t|  24             \t|  9.5557e-05     \t|  0.00034097     \t|\n",
      "|  [LightningModule]MonetDense.on_test_batch_start                                                                                                                \t|  3.755e-06      \t|  24             \t|  9.0121e-05     \t|  0.00032158     \t|\n",
      "|  [Callback]ModelCheckpoint{'monitor': 'val_loss', 'mode': 'min', 'every_n_train_steps': 0, 'every_n_epochs': 1, 'train_time_interval': None}.on_test_batch_start\t|  3.6333e-06     \t|  24             \t|  8.72e-05       \t|  0.00031115     \t|\n",
      "|  [LightningModule]MonetDense.on_test_batch_end                                                                                                                  \t|  3.2659e-06     \t|  24             \t|  7.8381e-05     \t|  0.00027968     \t|\n",
      "|  [Strategy]SingleDeviceStrategy.test_step_end                                                                                                                   \t|  2.8081e-06     \t|  24             \t|  6.7395e-05     \t|  0.00024048     \t|\n",
      "|  [LightningModule]MonetDense.on_test_end                                                                                                                        \t|  2.468e-05      \t|  1              \t|  2.468e-05      \t|  8.8065e-05     \t|\n",
      "|  [Callback]ModelSummary.on_test_end                                                                                                                             \t|  2.2718e-05     \t|  1              \t|  2.2718e-05     \t|  8.1064e-05     \t|\n",
      "|  [LightningModule]MonetDense.configure_callbacks                                                                                                                \t|  1.9066e-05     \t|  1              \t|  1.9066e-05     \t|  6.8033e-05     \t|\n",
      "|  [LightningModule]MonetDense.test_epoch_end                                                                                                                     \t|  1.5518e-05     \t|  1              \t|  1.5518e-05     \t|  5.5372e-05     \t|\n",
      "|  [Callback]ModelCheckpoint{'monitor': 'val_loss', 'mode': 'min', 'every_n_train_steps': 0, 'every_n_epochs': 1, 'train_time_interval': None}.setup              \t|  1.5485e-05     \t|  1              \t|  1.5485e-05     \t|  5.5255e-05     \t|\n",
      "|  [Callback]TQDMProgressBar.on_test_epoch_end                                                                                                                    \t|  1.4975e-05     \t|  1              \t|  1.4975e-05     \t|  5.3435e-05     \t|\n",
      "|  [Callback]ModelSummary.on_test_start                                                                                                                           \t|  1.4441e-05     \t|  1              \t|  1.4441e-05     \t|  5.1529e-05     \t|\n",
      "|  [Callback]TQDMProgressBar.setup                                                                                                                                \t|  1.042e-05      \t|  1              \t|  1.042e-05      \t|  3.7181e-05     \t|\n",
      "|  [Strategy]SingleDeviceStrategy.on_test_end                                                                                                                     \t|  9.46e-06       \t|  1              \t|  9.46e-06       \t|  3.3756e-05     \t|\n",
      "|  [Callback]TQDMProgressBar.teardown                                                                                                                             \t|  6.604e-06      \t|  1              \t|  6.604e-06      \t|  2.3565e-05     \t|\n",
      "|  [LightningModule]MonetDense.prepare_data                                                                                                                       \t|  4.9829e-06     \t|  1              \t|  4.9829e-06     \t|  1.778e-05      \t|\n",
      "|  [Callback]GradientAccumulationScheduler.on_test_end                                                                                                            \t|  4.318e-06      \t|  1              \t|  4.318e-06      \t|  1.5408e-05     \t|\n",
      "|  [Callback]ModelSummary.on_test_epoch_end                                                                                                                       \t|  3.94e-06       \t|  1              \t|  3.94e-06       \t|  1.4059e-05     \t|\n",
      "|  [Callback]ModelCheckpoint{'monitor': 'val_loss', 'mode': 'min', 'every_n_train_steps': 0, 'every_n_epochs': 1, 'train_time_interval': None}.on_test_end        \t|  3.792e-06      \t|  1              \t|  3.792e-06      \t|  1.3531e-05     \t|\n",
      "|  [LightningModule]MonetDense.on_test_start                                                                                                                      \t|  3.602e-06      \t|  1              \t|  3.602e-06      \t|  1.2853e-05     \t|\n",
      "|  [Callback]ModelCheckpoint{'monitor': 'val_loss', 'mode': 'min', 'every_n_train_steps': 0, 'every_n_epochs': 1, 'train_time_interval': None}.on_test_epoch_end  \t|  3.5589e-06     \t|  1              \t|  3.5589e-06     \t|  1.2699e-05     \t|\n",
      "|  [LightningModule]MonetDense.on_test_epoch_end                                                                                                                  \t|  3.4301e-06     \t|  1              \t|  3.4301e-06     \t|  1.2239e-05     \t|\n",
      "|  [Callback]GradientAccumulationScheduler.on_test_epoch_end                                                                                                      \t|  3.127e-06      \t|  1              \t|  3.127e-06      \t|  1.1158e-05     \t|\n",
      "|  [Callback]ModelSummary.teardown                                                                                                                                \t|  2.4991e-06     \t|  1              \t|  2.4991e-06     \t|  8.9174e-06     \t|\n",
      "|  [Callback]TQDMProgressBar.on_test_epoch_start                                                                                                                  \t|  2.407e-06      \t|  1              \t|  2.407e-06      \t|  8.5889e-06     \t|\n",
      "|  [Callback]ModelCheckpoint{'monitor': 'val_loss', 'mode': 'min', 'every_n_train_steps': 0, 'every_n_epochs': 1, 'train_time_interval': None}.on_test_epoch_start\t|  2.392e-06      \t|  1              \t|  2.392e-06      \t|  8.5353e-06     \t|\n",
      "|  [Callback]ModelCheckpoint{'monitor': 'val_loss', 'mode': 'min', 'every_n_train_steps': 0, 'every_n_epochs': 1, 'train_time_interval': None}.teardown           \t|  2.3131e-06     \t|  1              \t|  2.3131e-06     \t|  8.2536e-06     \t|\n",
      "|  [Callback]GradientAccumulationScheduler.on_test_start                                                                                                          \t|  2.297e-06      \t|  1              \t|  2.297e-06      \t|  8.1963e-06     \t|\n",
      "|  [LightningModule]MonetDense.teardown                                                                                                                           \t|  2.226e-06      \t|  1              \t|  2.226e-06      \t|  7.9429e-06     \t|\n",
      "|  [Callback]ModelSummary.setup                                                                                                                                   \t|  2.21e-06       \t|  1              \t|  2.21e-06       \t|  7.886e-06      \t|\n",
      "|  [Callback]ModelCheckpoint{'monitor': 'val_loss', 'mode': 'min', 'every_n_train_steps': 0, 'every_n_epochs': 1, 'train_time_interval': None}.on_test_start      \t|  2.206e-06      \t|  1              \t|  2.206e-06      \t|  7.8715e-06     \t|\n",
      "|  [Callback]GradientAccumulationScheduler.on_test_epoch_start                                                                                                    \t|  2.081e-06      \t|  1              \t|  2.081e-06      \t|  7.4257e-06     \t|\n",
      "|  [Callback]ModelSummary.on_test_epoch_start                                                                                                                     \t|  2.075e-06      \t|  1              \t|  2.075e-06      \t|  7.4041e-06     \t|\n",
      "|  [LightningModule]MonetDense.on_test_epoch_start                                                                                                                \t|  2.0261e-06     \t|  1              \t|  2.0261e-06     \t|  7.2297e-06     \t|\n",
      "|  [Callback]GradientAccumulationScheduler.teardown                                                                                                               \t|  1.9231e-06     \t|  1              \t|  1.9231e-06     \t|  6.862e-06      \t|\n",
      "|  [Strategy]SingleDeviceStrategy.on_test_start                                                                                                                   \t|  1.731e-06      \t|  1              \t|  1.731e-06      \t|  6.1766e-06     \t|\n",
      "|  [LightningModule]MonetDense.setup                                                                                                                              \t|  1.292e-06      \t|  1              \t|  1.292e-06      \t|  4.6101e-06     \t|\n",
      "|  [Callback]GradientAccumulationScheduler.setup                                                                                                                  \t|  1.2859e-06     \t|  1              \t|  1.2859e-06     \t|  4.5885e-06     \t|\n",
      "|  [LightningModule]MonetDense.configure_sharded_model                                                                                                            \t|  9.7603e-07     \t|  1              \t|  9.7603e-07     \t|  3.4827e-06     \t|\n",
      "--------------------------------------------------------------------------------------------------------------------------------------------------------------------------------------------------------------------------------------------------------------------------\n",
      "\n"
     ]
    }
   ],
   "source": [
    "rad = 0\n",
    "with initialize(config_path=\"../config\"):\n",
    "    try:\n",
    "        cfg_from_terminal = compose(config_name=\"configFDR\")\n",
    "        OmegaConf.update(cfg_from_terminal, \"model.kwargs.response_genes\", [0])\n",
    "        OmegaConf.update(cfg_from_terminal, \"model.kwargs.hidden_dimensions\", [512, 512, 512, 512, 512, 512])\n",
    "        OmegaConf.update(cfg_from_terminal, \"optimizer.name\", \"Adam\")\n",
    "        OmegaConf.update(cfg_from_terminal, \"training.logger_name\", \"FDR_test\")\n",
    "        OmegaConf.update(cfg_from_terminal, \"datasets.dataset.include_celltypes\", False)\n",
    "        OmegaConf.update(cfg_from_terminal, \"model.kwargs.observables_dimension\", 154)\n",
    "        OmegaConf.update(cfg_from_terminal, \"model.kwargs.include_skip_connections\", True)\n",
    "        OmegaConf.update(cfg_from_terminal, \"radius\", rad)\n",
    "        OmegaConf.update(cfg_from_terminal, \"gpus\", [2])\n",
    "        print(cfg_from_terminal.training.filepath)\n",
    "        train(cfg_from_terminal)\n",
    "        output = test(cfg_from_terminal)\n",
    "        trainer, l1_losses, inputs, gene_expressions, celltypes, test_results = output\n",
    "        test_loss_rad_dict[rad] = test_results[0]['test_loss']\n",
    "    except:\n",
    "        try:\n",
    "            OmegaConf.update(cfg_from_terminal, \"model.kwargs.hidden_dimensions\", [256, 256, 256, 256, 256, 256])\n",
    "            print(cfg_from_terminal.training.filepath)\n",
    "            train(cfg_from_terminal)\n",
    "            output = test(cfg_from_terminal)\n",
    "            trainer, l1_losses, inputs, gene_expressions, celltypes, test_results = output\n",
    "            test_loss_rad_dict[rad] = test_results[0]['test_loss']\n",
    "        except:\n",
    "            print(f\"Model with radius of {rad} micrometers doesn't exist :(\")"
   ]
  },
  {
   "cell_type": "markdown",
   "id": "a9d3cb1a-0e3a-4993-adb0-d3f2d4c5526b",
   "metadata": {},
   "source": [
    "# Test Models Only"
   ]
  },
  {
   "cell_type": "markdown",
   "id": "5de05b35-ae7c-414e-b3b9-d5dffedb09f8",
   "metadata": {},
   "source": [
    "### Spatially Aware"
   ]
  },
  {
   "cell_type": "code",
   "execution_count": 4,
   "id": "906983ff-af92-44a5-ab40-a08f2e64bdb3",
   "metadata": {},
   "outputs": [
    {
     "name": "stdout",
     "output_type": "stream",
     "text": [
      "MonetDense__[512, 512, 512, 512, 512, 512]__25__FDR_test__Adam\n"
     ]
    },
    {
     "name": "stderr",
     "output_type": "stream",
     "text": [
      "\n",
      "  0%|                                                                                                                                       | 0/24 [00:00<?, ?it/s]\u001b[A\n",
      "  4%|█████▎                                                                                                                         | 1/24 [00:01<00:32,  1.40s/it]\u001b[A\n",
      "  8%|██████████▌                                                                                                                    | 2/24 [00:02<00:31,  1.45s/it]\u001b[A\n",
      " 12%|███████████████▉                                                                                                               | 3/24 [00:04<00:31,  1.50s/it]\u001b[A\n",
      " 17%|█████████████████████▏                                                                                                         | 4/24 [00:05<00:28,  1.44s/it]\u001b[A\n",
      " 21%|██████████████████████████▍                                                                                                    | 5/24 [00:07<00:27,  1.45s/it]\u001b[A\n",
      " 25%|███████████████████████████████▊                                                                                               | 6/24 [00:08<00:26,  1.45s/it]\u001b[A\n",
      " 29%|█████████████████████████████████████                                                                                          | 7/24 [00:10<00:24,  1.46s/it]\u001b[A\n",
      " 33%|██████████████████████████████████████████▎                                                                                    | 8/24 [00:11<00:22,  1.42s/it]\u001b[A\n",
      " 38%|███████████████████████████████████████████████▋                                                                               | 9/24 [00:12<00:21,  1.41s/it]\u001b[A\n",
      " 42%|████████████████████████████████████████████████████▌                                                                         | 10/24 [00:14<00:19,  1.40s/it]\u001b[A\n",
      " 46%|█████████████████████████████████████████████████████████▊                                                                    | 11/24 [00:15<00:17,  1.36s/it]\u001b[A\n",
      " 50%|███████████████████████████████████████████████████████████████                                                               | 12/24 [00:16<00:15,  1.32s/it]\u001b[A\n",
      " 54%|████████████████████████████████████████████████████████████████████▎                                                         | 13/24 [00:18<00:14,  1.33s/it]\u001b[A\n",
      " 58%|█████████████████████████████████████████████████████████████████████████▌                                                    | 14/24 [00:19<00:13,  1.31s/it]\u001b[A\n",
      " 62%|██████████████████████████████████████████████████████████████████████████████▊                                               | 15/24 [00:20<00:11,  1.32s/it]\u001b[A\n",
      " 67%|████████████████████████████████████████████████████████████████████████████████████                                          | 16/24 [00:22<00:10,  1.32s/it]\u001b[A\n",
      " 71%|█████████████████████████████████████████████████████████████████████████████████████████▎                                    | 17/24 [00:23<00:09,  1.34s/it]\u001b[A\n",
      " 75%|██████████████████████████████████████████████████████████████████████████████████████████████▌                               | 18/24 [00:25<00:08,  1.41s/it]\u001b[A\n",
      " 79%|███████████████████████████████████████████████████████████████████████████████████████████████████▊                          | 19/24 [00:26<00:07,  1.45s/it]\u001b[A\n",
      " 83%|█████████████████████████████████████████████████████████████████████████████████████████████████████████                     | 20/24 [00:28<00:05,  1.46s/it]\u001b[A\n",
      " 88%|██████████████████████████████████████████████████████████████████████████████████████████████████████████████▎               | 21/24 [00:29<00:04,  1.48s/it]\u001b[A\n",
      " 92%|███████████████████████████████████████████████████████████████████████████████████████████████████████████████████▌          | 22/24 [00:31<00:02,  1.48s/it]\u001b[A\n",
      " 96%|████████████████████████████████████████████████████████████████████████████████████████████████████████████████████████▊     | 23/24 [00:32<00:01,  1.45s/it]\u001b[A\n",
      "100%|██████████████████████████████████████████████████████████████████████████████████████████████████████████████████████████████| 24/24 [00:33<00:00,  1.41s/it]\u001b[A\n",
      "GPU available: True (cuda), used: True\n",
      "TPU available: False, using: 0 TPU cores\n",
      "IPU available: False, using: 0 IPUs\n",
      "HPU available: False, using: 0 HPUs\n",
      "`Trainer(limit_train_batches=1.0)` was configured so 100% of the batches per epoch will be used..\n",
      "`Trainer(limit_val_batches=1.0)` was configured so 100% of the batches will be used..\n",
      "LOCAL_RANK: 0 - CUDA_VISIBLE_DEVICES: [4,5,6]\n"
     ]
    },
    {
     "data": {
      "application/vnd.jupyter.widget-view+json": {
       "model_id": "3804687fcf7344d684a50909409352d7",
       "version_major": 2,
       "version_minor": 0
      },
      "text/plain": [
       "Testing: 0it [00:00, ?it/s]"
      ]
     },
     "metadata": {},
     "output_type": "display_data"
    },
    {
     "data": {
      "text/html": [
       "<pre style=\"white-space:pre;overflow-x:auto;line-height:normal;font-family:Menlo,'DejaVu Sans Mono',consolas,'Courier New',monospace\">┏━━━━━━━━━━━━━━━━━━━━━━━━━━━┳━━━━━━━━━━━━━━━━━━━━━━━━━━━┓\n",
       "┃<span style=\"font-weight: bold\">        Test metric        </span>┃<span style=\"font-weight: bold\">       DataLoader 0        </span>┃\n",
       "┡━━━━━━━━━━━━━━━━━━━━━━━━━━━╇━━━━━━━━━━━━━━━━━━━━━━━━━━━┩\n",
       "│<span style=\"color: #008080; text-decoration-color: #008080\">         test_loss         </span>│<span style=\"color: #800080; text-decoration-color: #800080\">   5.216209319769405e-05   </span>│\n",
       "│<span style=\"color: #008080; text-decoration-color: #008080\">       test_loss_mse       </span>│<span style=\"color: #800080; text-decoration-color: #800080\">   5.216209319769405e-05   </span>│\n",
       "└───────────────────────────┴───────────────────────────┘\n",
       "</pre>\n"
      ],
      "text/plain": [
       "┏━━━━━━━━━━━━━━━━━━━━━━━━━━━┳━━━━━━━━━━━━━━━━━━━━━━━━━━━┓\n",
       "┃\u001b[1m \u001b[0m\u001b[1m       Test metric       \u001b[0m\u001b[1m \u001b[0m┃\u001b[1m \u001b[0m\u001b[1m      DataLoader 0       \u001b[0m\u001b[1m \u001b[0m┃\n",
       "┡━━━━━━━━━━━━━━━━━━━━━━━━━━━╇━━━━━━━━━━━━━━━━━━━━━━━━━━━┩\n",
       "│\u001b[36m \u001b[0m\u001b[36m        test_loss        \u001b[0m\u001b[36m \u001b[0m│\u001b[35m \u001b[0m\u001b[35m  5.216209319769405e-05  \u001b[0m\u001b[35m \u001b[0m│\n",
       "│\u001b[36m \u001b[0m\u001b[36m      test_loss_mse      \u001b[0m\u001b[36m \u001b[0m│\u001b[35m \u001b[0m\u001b[35m  5.216209319769405e-05  \u001b[0m\u001b[35m \u001b[0m│\n",
       "└───────────────────────────┴───────────────────────────┘\n"
      ]
     },
     "metadata": {},
     "output_type": "display_data"
    },
    {
     "name": "stderr",
     "output_type": "stream",
     "text": [
      "TEST Profiler Report\n",
      "\n",
      "--------------------------------------------------------------------------------------------------------------------------------------------------------------------------------------------------------------------------------------------------------------------------\n",
      "|  Action                                                                                                                                                         \t|  Mean duration (s)\t|  Num calls      \t|  Total time (s) \t|  Percentage %   \t|\n",
      "--------------------------------------------------------------------------------------------------------------------------------------------------------------------------------------------------------------------------------------------------------------------------\n",
      "|  Total                                                                                                                                                          \t|  -              \t|  471            \t|  24.999         \t|  100 %          \t|\n",
      "--------------------------------------------------------------------------------------------------------------------------------------------------------------------------------------------------------------------------------------------------------------------------\n",
      "|  run_test_evaluation                                                                                                                                            \t|  24.576         \t|  1              \t|  24.576         \t|  98.308         \t|\n",
      "|  [Strategy]SingleDeviceStrategy.test_step                                                                                                                       \t|  0.63805        \t|  24             \t|  15.313         \t|  61.255         \t|\n",
      "|  [EvaluationEpochLoop].test_dataloader_idx_0_next                                                                                                               \t|  0.21585        \t|  24             \t|  5.1805         \t|  20.723         \t|\n",
      "|  [Strategy]SingleDeviceStrategy.batch_to_device                                                                                                                 \t|  0.049339       \t|  24             \t|  1.1841         \t|  4.7367         \t|\n",
      "|  [LightningModule]MonetDense.transfer_batch_to_device                                                                                                           \t|  0.049214       \t|  24             \t|  1.1811         \t|  4.7247         \t|\n",
      "|  [Callback]TQDMProgressBar.on_test_batch_end                                                                                                                    \t|  0.016675       \t|  24             \t|  0.40019        \t|  1.6008         \t|\n",
      "|  [Callback]TQDMProgressBar.on_test_start                                                                                                                        \t|  0.008687       \t|  1              \t|  0.008687       \t|  0.034749       \t|\n",
      "|  [Callback]TQDMProgressBar.on_test_end                                                                                                                          \t|  0.0050412      \t|  1              \t|  0.0050412      \t|  0.020165       \t|\n",
      "|  [Callback]TQDMProgressBar.on_test_batch_start                                                                                                                  \t|  0.00011159     \t|  24             \t|  0.0026781      \t|  0.010713       \t|\n",
      "|  [LightningModule]MonetDense.on_test_model_train                                                                                                                \t|  0.00056274     \t|  1              \t|  0.00056274     \t|  0.002251       \t|\n",
      "|  [LightningModule]MonetDense.on_test_model_eval                                                                                                                 \t|  0.00018114     \t|  1              \t|  0.00018114     \t|  0.00072459     \t|\n",
      "|  [Callback]ModelSummary.on_test_batch_end                                                                                                                       \t|  7.3532e-06     \t|  24             \t|  0.00017648     \t|  0.00070593     \t|\n",
      "|  [LightningModule]MonetDense.on_before_batch_transfer                                                                                                           \t|  7.2022e-06     \t|  24             \t|  0.00017285     \t|  0.00069144     \t|\n",
      "|  [LightningModule]MonetDense.test_step_end                                                                                                                      \t|  4.4518e-06     \t|  24             \t|  0.00010684     \t|  0.00042738     \t|\n",
      "|  [Callback]ModelSummary.on_test_batch_start                                                                                                                     \t|  4.3452e-06     \t|  24             \t|  0.00010428     \t|  0.00041715     \t|\n",
      "|  [Callback]GradientAccumulationScheduler.on_test_batch_start                                                                                                    \t|  4.0452e-06     \t|  24             \t|  9.7085e-05     \t|  0.00038835     \t|\n",
      "|  [LightningModule]MonetDense.on_after_batch_transfer                                                                                                            \t|  3.5431e-06     \t|  24             \t|  8.5035e-05     \t|  0.00034015     \t|\n",
      "|  [LightningModule]MonetDense.on_test_batch_start                                                                                                                \t|  3.2265e-06     \t|  24             \t|  7.7436e-05     \t|  0.00030975     \t|\n",
      "|  [Callback]ModelCheckpoint{'monitor': 'val_loss', 'mode': 'min', 'every_n_train_steps': 0, 'every_n_epochs': 1, 'train_time_interval': None}.on_test_batch_start\t|  3.1523e-06     \t|  24             \t|  7.5655e-05     \t|  0.00030263     \t|\n",
      "|  [Callback]ModelCheckpoint{'monitor': 'val_loss', 'mode': 'min', 'every_n_train_steps': 0, 'every_n_epochs': 1, 'train_time_interval': None}.on_test_batch_end  \t|  2.8423e-06     \t|  24             \t|  6.8214e-05     \t|  0.00027287     \t|\n",
      "|  [Callback]GradientAccumulationScheduler.on_test_batch_end                                                                                                      \t|  2.6121e-06     \t|  24             \t|  6.2691e-05     \t|  0.00025077     \t|\n",
      "|  [LightningModule]MonetDense.on_test_batch_end                                                                                                                  \t|  2.264e-06      \t|  24             \t|  5.4336e-05     \t|  0.00021735     \t|\n",
      "|  [Strategy]SingleDeviceStrategy.test_step_end                                                                                                                   \t|  1.776e-06      \t|  24             \t|  4.2623e-05     \t|  0.0001705      \t|\n",
      "|  [Callback]TQDMProgressBar.setup                                                                                                                                \t|  1.5001e-05     \t|  1              \t|  1.5001e-05     \t|  6.0006e-05     \t|\n",
      "|  [Callback]ModelCheckpoint{'monitor': 'val_loss', 'mode': 'min', 'every_n_train_steps': 0, 'every_n_epochs': 1, 'train_time_interval': None}.setup              \t|  1.1209e-05     \t|  1              \t|  1.1209e-05     \t|  4.4838e-05     \t|\n",
      "|  [Strategy]SingleDeviceStrategy.on_test_end                                                                                                                     \t|  1.0666e-05     \t|  1              \t|  1.0666e-05     \t|  4.2665e-05     \t|\n",
      "|  [Callback]ModelSummary.on_test_end                                                                                                                             \t|  8.685e-06      \t|  1              \t|  8.685e-06      \t|  3.4741e-05     \t|\n",
      "|  [Callback]TQDMProgressBar.on_test_epoch_end                                                                                                                    \t|  6.109e-06      \t|  1              \t|  6.109e-06      \t|  2.4437e-05     \t|\n",
      "|  [LightningModule]MonetDense.configure_callbacks                                                                                                                \t|  5.921e-06      \t|  1              \t|  5.921e-06      \t|  2.3685e-05     \t|\n",
      "|  [LightningModule]MonetDense.test_epoch_end                                                                                                                     \t|  5.5899e-06     \t|  1              \t|  5.5899e-06     \t|  2.236e-05      \t|\n",
      "|  [Callback]TQDMProgressBar.teardown                                                                                                                             \t|  4.3979e-06     \t|  1              \t|  4.3979e-06     \t|  1.7592e-05     \t|\n",
      "|  [Callback]ModelSummary.on_test_start                                                                                                                           \t|  4.306e-06      \t|  1              \t|  4.306e-06      \t|  1.7224e-05     \t|\n",
      "|  [Callback]ModelSummary.on_test_epoch_end                                                                                                                       \t|  4.1149e-06     \t|  1              \t|  4.1149e-06     \t|  1.646e-05      \t|\n",
      "|  [Callback]GradientAccumulationScheduler.on_test_end                                                                                                            \t|  4.091e-06      \t|  1              \t|  4.091e-06      \t|  1.6364e-05     \t|\n",
      "|  [Callback]ModelCheckpoint{'monitor': 'val_loss', 'mode': 'min', 'every_n_train_steps': 0, 'every_n_epochs': 1, 'train_time_interval': None}.on_test_end        \t|  3.8e-06        \t|  1              \t|  3.8e-06        \t|  1.5201e-05     \t|\n",
      "|  [Callback]ModelCheckpoint{'monitor': 'val_loss', 'mode': 'min', 'every_n_train_steps': 0, 'every_n_epochs': 1, 'train_time_interval': None}.on_test_epoch_end  \t|  3.41e-06       \t|  1              \t|  3.41e-06       \t|  1.3641e-05     \t|\n",
      "|  [Callback]GradientAccumulationScheduler.on_test_epoch_end                                                                                                      \t|  3.258e-06      \t|  1              \t|  3.258e-06      \t|  1.3032e-05     \t|\n",
      "|  [LightningModule]MonetDense.on_test_end                                                                                                                        \t|  3.177e-06      \t|  1              \t|  3.177e-06      \t|  1.2708e-05     \t|\n",
      "|  [LightningModule]MonetDense.on_test_epoch_end                                                                                                                  \t|  2.981e-06      \t|  1              \t|  2.981e-06      \t|  1.1925e-05     \t|\n",
      "|  [Callback]ModelSummary.setup                                                                                                                                   \t|  1.7401e-06     \t|  1              \t|  1.7401e-06     \t|  6.9605e-06     \t|\n",
      "|  [Callback]ModelSummary.teardown                                                                                                                                \t|  1.6079e-06     \t|  1              \t|  1.6079e-06     \t|  6.4319e-06     \t|\n",
      "|  [LightningModule]MonetDense.teardown                                                                                                                           \t|  1.587e-06      \t|  1              \t|  1.587e-06      \t|  6.3481e-06     \t|\n",
      "|  [LightningModule]MonetDense.prepare_data                                                                                                                       \t|  1.568e-06      \t|  1              \t|  1.568e-06      \t|  6.2722e-06     \t|\n",
      "|  [Callback]TQDMProgressBar.on_test_epoch_start                                                                                                                  \t|  1.5179e-06     \t|  1              \t|  1.5179e-06     \t|  6.072e-06      \t|\n",
      "|  [Callback]ModelCheckpoint{'monitor': 'val_loss', 'mode': 'min', 'every_n_train_steps': 0, 'every_n_epochs': 1, 'train_time_interval': None}.teardown           \t|  1.482e-06      \t|  1              \t|  1.482e-06      \t|  5.9281e-06     \t|\n",
      "|  [LightningModule]MonetDense.on_test_start                                                                                                                      \t|  1.37e-06       \t|  1              \t|  1.37e-06       \t|  5.4801e-06     \t|\n",
      "|  [Callback]GradientAccumulationScheduler.on_test_start                                                                                                          \t|  1.359e-06      \t|  1              \t|  1.359e-06      \t|  5.4363e-06     \t|\n",
      "|  [LightningModule]MonetDense.setup                                                                                                                              \t|  1.3339e-06     \t|  1              \t|  1.3339e-06     \t|  5.3357e-06     \t|\n",
      "|  [Callback]GradientAccumulationScheduler.teardown                                                                                                               \t|  1.295e-06      \t|  1              \t|  1.295e-06      \t|  5.1802e-06     \t|\n",
      "|  [Callback]GradientAccumulationScheduler.setup                                                                                                                  \t|  1.268e-06      \t|  1              \t|  1.268e-06      \t|  5.0722e-06     \t|\n",
      "|  [Callback]ModelCheckpoint{'monitor': 'val_loss', 'mode': 'min', 'every_n_train_steps': 0, 'every_n_epochs': 1, 'train_time_interval': None}.on_test_epoch_start\t|  1.243e-06      \t|  1              \t|  1.243e-06      \t|  4.972e-06      \t|\n",
      "|  [Callback]ModelCheckpoint{'monitor': 'val_loss', 'mode': 'min', 'every_n_train_steps': 0, 'every_n_epochs': 1, 'train_time_interval': None}.on_test_start      \t|  1.1129e-06     \t|  1              \t|  1.1129e-06     \t|  4.4519e-06     \t|\n",
      "|  [Strategy]SingleDeviceStrategy.on_test_start                                                                                                                   \t|  1.035e-06      \t|  1              \t|  1.035e-06      \t|  4.1403e-06     \t|\n",
      "|  [Callback]ModelSummary.on_test_epoch_start                                                                                                                     \t|  9.7498e-07     \t|  1              \t|  9.7498e-07     \t|  3.9e-06        \t|\n",
      "|  [Callback]GradientAccumulationScheduler.on_test_epoch_start                                                                                                    \t|  9.2597e-07     \t|  1              \t|  9.2597e-07     \t|  3.704e-06      \t|\n",
      "|  [LightningModule]MonetDense.on_test_epoch_start                                                                                                                \t|  8.7591e-07     \t|  1              \t|  8.7591e-07     \t|  3.5038e-06     \t|\n",
      "|  [LightningModule]MonetDense.configure_sharded_model                                                                                                            \t|  8.6706e-07     \t|  1              \t|  8.6706e-07     \t|  3.4684e-06     \t|\n",
      "--------------------------------------------------------------------------------------------------------------------------------------------------------------------------------------------------------------------------------------------------------------------------\n",
      "\n"
     ]
    }
   ],
   "source": [
    "# with try except\n",
    "test_loss_rad_dict = {}\n",
    "rad = 25\n",
    "\n",
    "with initialize(config_path=\"../config\"):\n",
    "    try:\n",
    "        cfg_from_terminal = compose(config_name=\"configFDR\")\n",
    "        OmegaConf.update(cfg_from_terminal, \"model.kwargs.response_genes\", [0])\n",
    "        OmegaConf.update(cfg_from_terminal, \"model.kwargs.hidden_dimensions\", [512, 512, 512, 512, 512, 512])\n",
    "        OmegaConf.update(cfg_from_terminal, \"optimizer.name\", \"Adam\")\n",
    "        OmegaConf.update(cfg_from_terminal, \"training.logger_name\", \"FDR_test\")\n",
    "        OmegaConf.update(cfg_from_terminal, \"datasets.dataset.include_celltypes\", False)\n",
    "        OmegaConf.update(cfg_from_terminal, \"model.kwargs.observables_dimension\", 154)\n",
    "        OmegaConf.update(cfg_from_terminal, \"model.kwargs.include_skip_connections\", True)\n",
    "        OmegaConf.update(cfg_from_terminal, \"radius\", rad)\n",
    "        OmegaConf.update(cfg_from_terminal, \"gpus\", [2])\n",
    "        print(cfg_from_terminal.training.filepath)\n",
    "        output = test(cfg_from_terminal)\n",
    "        trainer, l1_losses, inputs, gene_expressions, celltypes, test_results = output\n",
    "        test_loss_rad_dict[rad] = test_results[0]['test_loss']\n",
    "    except:\n",
    "        try:\n",
    "            OmegaConf.update(cfg_from_terminal, \"model.kwargs.hidden_dimensions\", [256, 256, 256, 256, 256, 256])\n",
    "            print(cfg_from_terminal.training.filepath)\n",
    "            output = test(cfg_from_terminal)\n",
    "            trainer, l1_losses, inputs, gene_expressions, celltypes, test_results = output\n",
    "            test_loss_rad_dict[rad] = test_results[0]['test_loss']\n",
    "        except:\n",
    "            print(f\"Model with radius of {rad} micrometers doesn't exist :(\")"
   ]
  },
  {
   "cell_type": "markdown",
   "id": "64345010-a04e-4c11-bf6f-333bec5691af",
   "metadata": {},
   "source": [
    "### Spatially Ignorant"
   ]
  },
  {
   "cell_type": "code",
   "execution_count": 5,
   "id": "bd737575-9182-4ded-af74-71a58a591b42",
   "metadata": {},
   "outputs": [
    {
     "name": "stdout",
     "output_type": "stream",
     "text": [
      "MonetDense__[512, 512, 512, 512, 512, 512]__0__FDR_test__Adam\n"
     ]
    },
    {
     "name": "stderr",
     "output_type": "stream",
     "text": [
      "\n",
      "  0%|                                                                                                                                       | 0/24 [00:00<?, ?it/s]\u001b[A\n",
      "  4%|█████▎                                                                                                                         | 1/24 [00:01<00:30,  1.31s/it]\u001b[A\n",
      "  8%|██████████▌                                                                                                                    | 2/24 [00:02<00:30,  1.38s/it]\u001b[A\n",
      " 12%|███████████████▉                                                                                                               | 3/24 [00:04<00:28,  1.34s/it]\u001b[A\n",
      " 17%|█████████████████████▏                                                                                                         | 4/24 [00:05<00:25,  1.29s/it]\u001b[A\n",
      " 21%|██████████████████████████▍                                                                                                    | 5/24 [00:06<00:25,  1.32s/it]\u001b[A\n",
      " 25%|███████████████████████████████▊                                                                                               | 6/24 [00:08<00:24,  1.34s/it]\u001b[A\n",
      " 29%|█████████████████████████████████████                                                                                          | 7/24 [00:09<00:24,  1.43s/it]\u001b[A\n",
      " 33%|██████████████████████████████████████████▎                                                                                    | 8/24 [00:10<00:22,  1.39s/it]\u001b[A\n",
      " 38%|███████████████████████████████████████████████▋                                                                               | 9/24 [00:12<00:20,  1.36s/it]\u001b[A\n",
      " 42%|████████████████████████████████████████████████████▌                                                                         | 10/24 [00:13<00:19,  1.41s/it]\u001b[A\n",
      " 46%|█████████████████████████████████████████████████████████▊                                                                    | 11/24 [00:14<00:17,  1.34s/it]\u001b[A\n",
      " 50%|███████████████████████████████████████████████████████████████                                                               | 12/24 [00:16<00:15,  1.29s/it]\u001b[A\n",
      " 54%|████████████████████████████████████████████████████████████████████▎                                                         | 13/24 [00:17<00:14,  1.30s/it]\u001b[A\n",
      " 58%|█████████████████████████████████████████████████████████████████████████▌                                                    | 14/24 [00:18<00:12,  1.25s/it]\u001b[A\n",
      " 62%|██████████████████████████████████████████████████████████████████████████████▊                                               | 15/24 [00:19<00:11,  1.28s/it]\u001b[A\n",
      " 67%|████████████████████████████████████████████████████████████████████████████████████                                          | 16/24 [00:21<00:10,  1.25s/it]\u001b[A\n",
      " 71%|█████████████████████████████████████████████████████████████████████████████████████████▎                                    | 17/24 [00:22<00:08,  1.28s/it]\u001b[A\n",
      " 75%|██████████████████████████████████████████████████████████████████████████████████████████████▌                               | 18/24 [00:23<00:07,  1.33s/it]\u001b[A\n",
      " 79%|███████████████████████████████████████████████████████████████████████████████████████████████████▊                          | 19/24 [00:25<00:06,  1.35s/it]\u001b[A\n",
      " 83%|█████████████████████████████████████████████████████████████████████████████████████████████████████████                     | 20/24 [00:26<00:05,  1.35s/it]\u001b[A\n",
      " 88%|██████████████████████████████████████████████████████████████████████████████████████████████████████████████▎               | 21/24 [00:27<00:04,  1.35s/it]\u001b[A\n",
      " 92%|███████████████████████████████████████████████████████████████████████████████████████████████████████████████████▌          | 22/24 [00:29<00:02,  1.37s/it]\u001b[A\n",
      " 96%|████████████████████████████████████████████████████████████████████████████████████████████████████████████████████████▊     | 23/24 [00:30<00:01,  1.37s/it]\u001b[A\n",
      "100%|██████████████████████████████████████████████████████████████████████████████████████████████████████████████████████████████| 24/24 [00:32<00:00,  1.34s/it]\u001b[A\n",
      "GPU available: True (cuda), used: True\n",
      "TPU available: False, using: 0 TPU cores\n",
      "IPU available: False, using: 0 IPUs\n",
      "HPU available: False, using: 0 HPUs\n",
      "`Trainer(limit_train_batches=1.0)` was configured so 100% of the batches per epoch will be used..\n",
      "`Trainer(limit_val_batches=1.0)` was configured so 100% of the batches will be used..\n",
      "LOCAL_RANK: 0 - CUDA_VISIBLE_DEVICES: [4,5,6]\n"
     ]
    },
    {
     "data": {
      "application/vnd.jupyter.widget-view+json": {
       "model_id": "b708b4991b544a0282bf290dfaf2f94e",
       "version_major": 2,
       "version_minor": 0
      },
      "text/plain": [
       "Testing: 0it [00:00, ?it/s]"
      ]
     },
     "metadata": {},
     "output_type": "display_data"
    },
    {
     "data": {
      "text/html": [
       "<pre style=\"white-space:pre;overflow-x:auto;line-height:normal;font-family:Menlo,'DejaVu Sans Mono',consolas,'Courier New',monospace\">┏━━━━━━━━━━━━━━━━━━━━━━━━━━━┳━━━━━━━━━━━━━━━━━━━━━━━━━━━┓\n",
       "┃<span style=\"font-weight: bold\">        Test metric        </span>┃<span style=\"font-weight: bold\">       DataLoader 0        </span>┃\n",
       "┡━━━━━━━━━━━━━━━━━━━━━━━━━━━╇━━━━━━━━━━━━━━━━━━━━━━━━━━━┩\n",
       "│<span style=\"color: #008080; text-decoration-color: #008080\">         test_loss         </span>│<span style=\"color: #800080; text-decoration-color: #800080\">   3.110692705377005e-05   </span>│\n",
       "│<span style=\"color: #008080; text-decoration-color: #008080\">       test_loss_mse       </span>│<span style=\"color: #800080; text-decoration-color: #800080\">   3.110692705377005e-05   </span>│\n",
       "└───────────────────────────┴───────────────────────────┘\n",
       "</pre>\n"
      ],
      "text/plain": [
       "┏━━━━━━━━━━━━━━━━━━━━━━━━━━━┳━━━━━━━━━━━━━━━━━━━━━━━━━━━┓\n",
       "┃\u001b[1m \u001b[0m\u001b[1m       Test metric       \u001b[0m\u001b[1m \u001b[0m┃\u001b[1m \u001b[0m\u001b[1m      DataLoader 0       \u001b[0m\u001b[1m \u001b[0m┃\n",
       "┡━━━━━━━━━━━━━━━━━━━━━━━━━━━╇━━━━━━━━━━━━━━━━━━━━━━━━━━━┩\n",
       "│\u001b[36m \u001b[0m\u001b[36m        test_loss        \u001b[0m\u001b[36m \u001b[0m│\u001b[35m \u001b[0m\u001b[35m  3.110692705377005e-05  \u001b[0m\u001b[35m \u001b[0m│\n",
       "│\u001b[36m \u001b[0m\u001b[36m      test_loss_mse      \u001b[0m\u001b[36m \u001b[0m│\u001b[35m \u001b[0m\u001b[35m  3.110692705377005e-05  \u001b[0m\u001b[35m \u001b[0m│\n",
       "└───────────────────────────┴───────────────────────────┘\n"
      ]
     },
     "metadata": {},
     "output_type": "display_data"
    },
    {
     "name": "stderr",
     "output_type": "stream",
     "text": [
      "TEST Profiler Report\n",
      "\n",
      "--------------------------------------------------------------------------------------------------------------------------------------------------------------------------------------------------------------------------------------------------------------------------\n",
      "|  Action                                                                                                                                                         \t|  Mean duration (s)\t|  Num calls      \t|  Total time (s) \t|  Percentage %   \t|\n",
      "--------------------------------------------------------------------------------------------------------------------------------------------------------------------------------------------------------------------------------------------------------------------------\n",
      "|  Total                                                                                                                                                          \t|  -              \t|  471            \t|  23.798         \t|  100 %          \t|\n",
      "--------------------------------------------------------------------------------------------------------------------------------------------------------------------------------------------------------------------------------------------------------------------------\n",
      "|  run_test_evaluation                                                                                                                                            \t|  23.398         \t|  1              \t|  23.398         \t|  98.318         \t|\n",
      "|  [Strategy]SingleDeviceStrategy.test_step                                                                                                                       \t|  0.58852        \t|  24             \t|  14.125         \t|  59.352         \t|\n",
      "|  [EvaluationEpochLoop].test_dataloader_idx_0_next                                                                                                               \t|  0.20899        \t|  24             \t|  5.0158         \t|  21.077         \t|\n",
      "|  [Strategy]SingleDeviceStrategy.batch_to_device                                                                                                                 \t|  0.052486       \t|  24             \t|  1.2597         \t|  5.2932         \t|\n",
      "|  [LightningModule]MonetDense.transfer_batch_to_device                                                                                                           \t|  0.052368       \t|  24             \t|  1.2568         \t|  5.2813         \t|\n",
      "|  [Callback]TQDMProgressBar.on_test_batch_end                                                                                                                    \t|  0.01978        \t|  24             \t|  0.47472        \t|  1.9948         \t|\n",
      "|  [Callback]TQDMProgressBar.on_test_start                                                                                                                        \t|  0.0072647      \t|  1              \t|  0.0072647      \t|  0.030527       \t|\n",
      "|  [Callback]TQDMProgressBar.on_test_end                                                                                                                          \t|  0.0052344      \t|  1              \t|  0.0052344      \t|  0.021995       \t|\n",
      "|  [Callback]TQDMProgressBar.on_test_batch_start                                                                                                                  \t|  0.00011913     \t|  24             \t|  0.0028592      \t|  0.012014       \t|\n",
      "|  [LightningModule]MonetDense.on_test_model_train                                                                                                                \t|  0.00060118     \t|  1              \t|  0.00060118     \t|  0.0025262      \t|\n",
      "|  [Callback]ModelSummary.on_test_batch_end                                                                                                                       \t|  6.8423e-06     \t|  24             \t|  0.00016422     \t|  0.00069004     \t|\n",
      "|  [LightningModule]MonetDense.on_test_model_eval                                                                                                                 \t|  0.00015845     \t|  1              \t|  0.00015845     \t|  0.00066582     \t|\n",
      "|  [LightningModule]MonetDense.on_before_batch_transfer                                                                                                           \t|  5.6826e-06     \t|  24             \t|  0.00013638     \t|  0.00057309     \t|\n",
      "|  [Callback]ModelSummary.on_test_batch_start                                                                                                                     \t|  4.2911e-06     \t|  24             \t|  0.00010299     \t|  0.00043275     \t|\n",
      "|  [Callback]GradientAccumulationScheduler.on_test_batch_start                                                                                                    \t|  4.0802e-06     \t|  24             \t|  9.7925e-05     \t|  0.00041149     \t|\n",
      "|  [LightningModule]MonetDense.test_step_end                                                                                                                      \t|  4.0583e-06     \t|  24             \t|  9.7399e-05     \t|  0.00040928     \t|\n",
      "|  [LightningModule]MonetDense.on_after_batch_transfer                                                                                                            \t|  3.8394e-06     \t|  24             \t|  9.2145e-05     \t|  0.0003872      \t|\n",
      "|  [Callback]ModelCheckpoint{'monitor': 'val_loss', 'mode': 'min', 'every_n_train_steps': 0, 'every_n_epochs': 1, 'train_time_interval': None}.on_test_batch_start\t|  3.1356e-06     \t|  24             \t|  7.5254e-05     \t|  0.00031622     \t|\n",
      "|  [Callback]ModelCheckpoint{'monitor': 'val_loss', 'mode': 'min', 'every_n_train_steps': 0, 'every_n_epochs': 1, 'train_time_interval': None}.on_test_batch_end  \t|  2.8618e-06     \t|  24             \t|  6.8682e-05     \t|  0.00028861     \t|\n",
      "|  [LightningModule]MonetDense.on_test_batch_end                                                                                                                  \t|  2.7171e-06     \t|  24             \t|  6.5211e-05     \t|  0.00027402     \t|\n",
      "|  [LightningModule]MonetDense.on_test_batch_start                                                                                                                \t|  2.7149e-06     \t|  24             \t|  6.5157e-05     \t|  0.00027379     \t|\n",
      "|  [Callback]GradientAccumulationScheduler.on_test_batch_end                                                                                                      \t|  2.4318e-06     \t|  24             \t|  5.8363e-05     \t|  0.00024525     \t|\n",
      "|  [Strategy]SingleDeviceStrategy.test_step_end                                                                                                                   \t|  1.7962e-06     \t|  24             \t|  4.3109e-05     \t|  0.00018115     \t|\n",
      "|  [Strategy]SingleDeviceStrategy.on_test_end                                                                                                                     \t|  1.0936e-05     \t|  1              \t|  1.0936e-05     \t|  4.5954e-05     \t|\n",
      "|  [LightningModule]MonetDense.on_test_epoch_end                                                                                                                  \t|  8.6951e-06     \t|  1              \t|  8.6951e-06     \t|  3.6537e-05     \t|\n",
      "|  [Callback]ModelSummary.on_test_end                                                                                                                             \t|  8.474e-06      \t|  1              \t|  8.474e-06      \t|  3.5608e-05     \t|\n",
      "|  [Callback]ModelCheckpoint{'monitor': 'val_loss', 'mode': 'min', 'every_n_train_steps': 0, 'every_n_epochs': 1, 'train_time_interval': None}.setup              \t|  7.082e-06      \t|  1              \t|  7.082e-06      \t|  2.9759e-05     \t|\n",
      "|  [Callback]TQDMProgressBar.on_test_epoch_end                                                                                                                    \t|  6.4239e-06     \t|  1              \t|  6.4239e-06     \t|  2.6994e-05     \t|\n",
      "|  [LightningModule]MonetDense.test_epoch_end                                                                                                                     \t|  6.0649e-06     \t|  1              \t|  6.0649e-06     \t|  2.5485e-05     \t|\n",
      "|  [Callback]TQDMProgressBar.teardown                                                                                                                             \t|  5.2351e-06     \t|  1              \t|  5.2351e-06     \t|  2.1998e-05     \t|\n",
      "|  [LightningModule]MonetDense.teardown                                                                                                                           \t|  5.04e-06       \t|  1              \t|  5.04e-06       \t|  2.1178e-05     \t|\n",
      "|  [Callback]TQDMProgressBar.setup                                                                                                                                \t|  4.1759e-06     \t|  1              \t|  4.1759e-06     \t|  1.7547e-05     \t|\n",
      "|  [Callback]ModelSummary.on_test_epoch_end                                                                                                                       \t|  4.1029e-06     \t|  1              \t|  4.1029e-06     \t|  1.7241e-05     \t|\n",
      "|  [Callback]GradientAccumulationScheduler.on_test_end                                                                                                            \t|  3.926e-06      \t|  1              \t|  3.926e-06      \t|  1.6497e-05     \t|\n",
      "|  [Callback]ModelCheckpoint{'monitor': 'val_loss', 'mode': 'min', 'every_n_train_steps': 0, 'every_n_epochs': 1, 'train_time_interval': None}.on_test_end        \t|  3.6861e-06     \t|  1              \t|  3.6861e-06     \t|  1.5489e-05     \t|\n",
      "|  [Callback]ModelSummary.on_test_start                                                                                                                           \t|  3.635e-06      \t|  1              \t|  3.635e-06      \t|  1.5274e-05     \t|\n",
      "|  [Callback]ModelCheckpoint{'monitor': 'val_loss', 'mode': 'min', 'every_n_train_steps': 0, 'every_n_epochs': 1, 'train_time_interval': None}.on_test_epoch_end  \t|  3.429e-06      \t|  1              \t|  3.429e-06      \t|  1.4409e-05     \t|\n",
      "|  [Callback]GradientAccumulationScheduler.on_test_epoch_end                                                                                                      \t|  3.3601e-06     \t|  1              \t|  3.3601e-06     \t|  1.4119e-05     \t|\n",
      "|  [LightningModule]MonetDense.on_test_end                                                                                                                        \t|  3.34e-06       \t|  1              \t|  3.34e-06       \t|  1.4035e-05     \t|\n",
      "|  [LightningModule]MonetDense.configure_callbacks                                                                                                                \t|  2.809e-06      \t|  1              \t|  2.809e-06      \t|  1.1803e-05     \t|\n",
      "|  [Callback]ModelSummary.teardown                                                                                                                                \t|  1.9009e-06     \t|  1              \t|  1.9009e-06     \t|  7.9879e-06     \t|\n",
      "|  [Callback]ModelSummary.setup                                                                                                                                   \t|  1.711e-06      \t|  1              \t|  1.711e-06      \t|  7.1895e-06     \t|\n",
      "|  [Callback]ModelCheckpoint{'monitor': 'val_loss', 'mode': 'min', 'every_n_train_steps': 0, 'every_n_epochs': 1, 'train_time_interval': None}.teardown           \t|  1.615e-06      \t|  1              \t|  1.615e-06      \t|  6.7864e-06     \t|\n",
      "|  [LightningModule]MonetDense.prepare_data                                                                                                                       \t|  1.532e-06      \t|  1              \t|  1.532e-06      \t|  6.4376e-06     \t|\n",
      "|  [Callback]GradientAccumulationScheduler.teardown                                                                                                               \t|  1.498e-06      \t|  1              \t|  1.498e-06      \t|  6.2948e-06     \t|\n",
      "|  [Callback]TQDMProgressBar.on_test_epoch_start                                                                                                                  \t|  1.373e-06      \t|  1              \t|  1.373e-06      \t|  5.7694e-06     \t|\n",
      "|  [LightningModule]MonetDense.on_test_start                                                                                                                      \t|  1.304e-06      \t|  1              \t|  1.304e-06      \t|  5.4793e-06     \t|\n",
      "|  [Callback]ModelCheckpoint{'monitor': 'val_loss', 'mode': 'min', 'every_n_train_steps': 0, 'every_n_epochs': 1, 'train_time_interval': None}.on_test_epoch_start\t|  1.264e-06      \t|  1              \t|  1.264e-06      \t|  5.3115e-06     \t|\n",
      "|  [Callback]GradientAccumulationScheduler.on_test_start                                                                                                          \t|  1.217e-06      \t|  1              \t|  1.217e-06      \t|  5.1139e-06     \t|\n",
      "|  [LightningModule]MonetDense.setup                                                                                                                              \t|  1.1481e-06     \t|  1              \t|  1.1481e-06     \t|  4.8243e-06     \t|\n",
      "|  [Callback]ModelCheckpoint{'monitor': 'val_loss', 'mode': 'min', 'every_n_train_steps': 0, 'every_n_epochs': 1, 'train_time_interval': None}.on_test_start      \t|  1.088e-06      \t|  1              \t|  1.088e-06      \t|  4.5719e-06     \t|\n",
      "|  [Callback]GradientAccumulationScheduler.on_test_epoch_start                                                                                                    \t|  1.0771e-06     \t|  1              \t|  1.0771e-06     \t|  4.5259e-06     \t|\n",
      "|  [Callback]GradientAccumulationScheduler.setup                                                                                                                  \t|  1.065e-06      \t|  1              \t|  1.065e-06      \t|  4.475e-06      \t|\n",
      "|  [Callback]ModelSummary.on_test_epoch_start                                                                                                                     \t|  9.7207e-07     \t|  1              \t|  9.7207e-07     \t|  4.0847e-06     \t|\n",
      "|  [Strategy]SingleDeviceStrategy.on_test_start                                                                                                                   \t|  8.8301e-07     \t|  1              \t|  8.8301e-07     \t|  3.7104e-06     \t|\n",
      "|  [LightningModule]MonetDense.configure_sharded_model                                                                                                            \t|  8.6403e-07     \t|  1              \t|  8.6403e-07     \t|  3.6307e-06     \t|\n",
      "|  [LightningModule]MonetDense.on_test_epoch_start                                                                                                                \t|  8.0699e-07     \t|  1              \t|  8.0699e-07     \t|  3.391e-06      \t|\n",
      "--------------------------------------------------------------------------------------------------------------------------------------------------------------------------------------------------------------------------------------------------------------------------\n",
      "\n"
     ]
    }
   ],
   "source": [
    "rad = 0\n",
    "\n",
    "with initialize(config_path=\"../config\"):\n",
    "    try:\n",
    "        cfg_from_terminal = compose(config_name=\"configFDR\")\n",
    "        OmegaConf.update(cfg_from_terminal, \"model.kwargs.response_genes\", [0])\n",
    "        OmegaConf.update(cfg_from_terminal, \"model.kwargs.hidden_dimensions\", [512, 512, 512, 512, 512, 512])\n",
    "        OmegaConf.update(cfg_from_terminal, \"optimizer.name\", \"Adam\")\n",
    "        OmegaConf.update(cfg_from_terminal, \"training.logger_name\", \"FDR_test\")\n",
    "        OmegaConf.update(cfg_from_terminal, \"datasets.dataset.include_celltypes\", False)\n",
    "        OmegaConf.update(cfg_from_terminal, \"model.kwargs.observables_dimension\", 154)\n",
    "        OmegaConf.update(cfg_from_terminal, \"model.kwargs.include_skip_connections\", True)\n",
    "        OmegaConf.update(cfg_from_terminal, \"radius\", rad)\n",
    "        OmegaConf.update(cfg_from_terminal, \"gpus\", [2])\n",
    "        print(cfg_from_terminal.training.filepath)\n",
    "        output = test(cfg_from_terminal)\n",
    "        trainer, l1_losses, inputs, gene_expressions, celltypes, test_results = output\n",
    "        test_loss_rad_dict[rad] = test_results[0]['test_loss']\n",
    "    except:\n",
    "        try:\n",
    "            OmegaConf.update(cfg_from_terminal, \"model.kwargs.hidden_dimensions\", [256, 256, 256, 256, 256, 256])\n",
    "            print(cfg_from_terminal.training.filepath)\n",
    "            output = test(cfg_from_terminal)\n",
    "            trainer, l1_losses, inputs, gene_expressions, celltypes, test_results = output\n",
    "            test_loss_rad_dict[rad] = test_results[0]['test_loss']\n",
    "        except:\n",
    "            print(f\"Model with radius of {rad} micrometers doesn't exist :(\")"
   ]
  },
  {
   "cell_type": "markdown",
   "id": "3a567244-d7dc-4dff-9fff-8665b235744f",
   "metadata": {},
   "source": [
    "# Compare the Diff (hopefully it's small)"
   ]
  },
  {
   "cell_type": "code",
   "execution_count": 5,
   "id": "25748359-860c-4ae7-b0cb-532ea90f3d03",
   "metadata": {},
   "outputs": [
    {
     "name": "stdout",
     "output_type": "stream",
     "text": [
      "          Model Radius Experiment #   L2 Loss\n",
      "0      LightGBM      0            0  0.229992\n",
      "1           OLS      0            0  0.230439\n",
      "2         Ridge      0            0  0.230426\n",
      "3         Lasso      0            0  0.231350\n",
      "4    ElasticNet      0            0  0.230434\n",
      "..          ...    ...          ...       ...\n",
      "817       Lasso     55          FDR  0.203158\n",
      "818    LightGBM     60          FDR  0.001986\n",
      "819         OLS     60          FDR  0.202371\n",
      "820       Ridge     60          FDR  0.202371\n",
      "821       Lasso     60          FDR  0.203158\n",
      "\n",
      "[822 rows x 4 columns]\n"
     ]
    }
   ],
   "source": [
    "with open('deepST_synthetic_results.json', 'r') as deepST:\n",
    "    test_loss_DeepST_dict = json.load(deepST)\n",
    "    \n",
    "with open('LightGBM_synthetic_results.json', 'r') as linear:\n",
    "    linear_models_dict = json.load(linear)\n",
    "    \n",
    "import pandas as pd\n",
    "\n",
    "# linear models + XGBoost\n",
    "data = pd.DataFrame(columns=['Model', 'Radius', 'Experiment #', 'L2 Loss'])\n",
    "for k,v in linear_models_dict.items():\n",
    "    k = k.split()\n",
    "    entry = pd.DataFrame.from_dict({\n",
    "        'Model': [k[0]],\n",
    "        'Radius': [int(k[1])],\n",
    "        'Experiment #': [k[2]],\n",
    "        'L2 Loss': [v]\n",
    "    })\n",
    "    data = pd.concat([data, entry], ignore_index=True)\n",
    "\n",
    "print(data)\n",
    "\n",
    "\n",
    "for k,v in test_loss_DeepST_dict.items():\n",
    "    try:\n",
    "        k = eval(k)\n",
    "        entry = pd.DataFrame.from_dict({\n",
    "            'Model': 'deepST',\n",
    "            'Radius': [int(k[0])],\n",
    "            'Experiment #': [str(k[1])],\n",
    "            'L2 Loss': [min(v.values())]\n",
    "        })\n",
    "        data = pd.concat([data, entry], ignore_index=True)\n",
    "    #nonlinear case\n",
    "    except (AttributeError, ValueError):\n",
    "        entry = pd.DataFrame.from_dict({\n",
    "            'Model': 'deepST',\n",
    "            'Radius': [int(k[0])],\n",
    "            'Experiment #': [str(k[1])],\n",
    "            'L2 Loss': [v]\n",
    "        })\n",
    "        data = pd.concat([data, entry], ignore_index=True)"
   ]
  },
  {
   "cell_type": "code",
   "execution_count": 6,
   "id": "a1ff315a-7078-4ab1-af33-5f22b3714123",
   "metadata": {},
   "outputs": [
    {
     "data": {
      "text/html": [
       "<div>\n",
       "<style scoped>\n",
       "    .dataframe tbody tr th:only-of-type {\n",
       "        vertical-align: middle;\n",
       "    }\n",
       "\n",
       "    .dataframe tbody tr th {\n",
       "        vertical-align: top;\n",
       "    }\n",
       "\n",
       "    .dataframe thead th {\n",
       "        text-align: right;\n",
       "    }\n",
       "</style>\n",
       "<table border=\"1\" class=\"dataframe\">\n",
       "  <thead>\n",
       "    <tr style=\"text-align: right;\">\n",
       "      <th></th>\n",
       "      <th>Model</th>\n",
       "      <th>Radius</th>\n",
       "      <th>Experiment #</th>\n",
       "      <th>L2 Loss</th>\n",
       "    </tr>\n",
       "  </thead>\n",
       "  <tbody>\n",
       "    <tr>\n",
       "      <th>0</th>\n",
       "      <td>LightGBM</td>\n",
       "      <td>0</td>\n",
       "      <td>0</td>\n",
       "      <td>0.229992</td>\n",
       "    </tr>\n",
       "    <tr>\n",
       "      <th>1</th>\n",
       "      <td>OLS</td>\n",
       "      <td>0</td>\n",
       "      <td>0</td>\n",
       "      <td>0.230439</td>\n",
       "    </tr>\n",
       "    <tr>\n",
       "      <th>2</th>\n",
       "      <td>Ridge</td>\n",
       "      <td>0</td>\n",
       "      <td>0</td>\n",
       "      <td>0.230426</td>\n",
       "    </tr>\n",
       "    <tr>\n",
       "      <th>3</th>\n",
       "      <td>Lasso</td>\n",
       "      <td>0</td>\n",
       "      <td>0</td>\n",
       "      <td>0.23135</td>\n",
       "    </tr>\n",
       "    <tr>\n",
       "      <th>4</th>\n",
       "      <td>ElasticNet</td>\n",
       "      <td>0</td>\n",
       "      <td>0</td>\n",
       "      <td>0.230434</td>\n",
       "    </tr>\n",
       "    <tr>\n",
       "      <th>...</th>\n",
       "      <td>...</td>\n",
       "      <td>...</td>\n",
       "      <td>...</td>\n",
       "      <td>...</td>\n",
       "    </tr>\n",
       "    <tr>\n",
       "      <th>934</th>\n",
       "      <td>deepST</td>\n",
       "      <td>40</td>\n",
       "      <td>2</td>\n",
       "      <td>0.313488</td>\n",
       "    </tr>\n",
       "    <tr>\n",
       "      <th>935</th>\n",
       "      <td>deepST</td>\n",
       "      <td>45</td>\n",
       "      <td>2</td>\n",
       "      <td>0.311361</td>\n",
       "    </tr>\n",
       "    <tr>\n",
       "      <th>936</th>\n",
       "      <td>deepST</td>\n",
       "      <td>50</td>\n",
       "      <td>2</td>\n",
       "      <td>0.313585</td>\n",
       "    </tr>\n",
       "    <tr>\n",
       "      <th>937</th>\n",
       "      <td>deepST</td>\n",
       "      <td>55</td>\n",
       "      <td>2</td>\n",
       "      <td>0.307252</td>\n",
       "    </tr>\n",
       "    <tr>\n",
       "      <th>938</th>\n",
       "      <td>deepST</td>\n",
       "      <td>60</td>\n",
       "      <td>2</td>\n",
       "      <td>0.313813</td>\n",
       "    </tr>\n",
       "  </tbody>\n",
       "</table>\n",
       "<p>939 rows × 4 columns</p>\n",
       "</div>"
      ],
      "text/plain": [
       "          Model Radius Experiment #   L2 Loss\n",
       "0      LightGBM      0            0  0.229992\n",
       "1           OLS      0            0  0.230439\n",
       "2         Ridge      0            0  0.230426\n",
       "3         Lasso      0            0   0.23135\n",
       "4    ElasticNet      0            0  0.230434\n",
       "..          ...    ...          ...       ...\n",
       "934      deepST     40            2  0.313488\n",
       "935      deepST     45            2  0.311361\n",
       "936      deepST     50            2  0.313585\n",
       "937      deepST     55            2  0.307252\n",
       "938      deepST     60            2  0.313813\n",
       "\n",
       "[939 rows x 4 columns]"
      ]
     },
     "execution_count": 6,
     "metadata": {},
     "output_type": "execute_result"
    }
   ],
   "source": [
    "data"
   ]
  },
  {
   "cell_type": "code",
   "execution_count": 12,
   "id": "f1cdf0f0-a5ec-400a-8dc8-42c1a71d5afa",
   "metadata": {},
   "outputs": [
    {
     "data": {
      "image/png": "[encoded data removed]",
      "text/plain": [
       "<Figure size 640x480 with 1 Axes>"
      ]
     },
     "metadata": {},
     "output_type": "display_data"
    }
   ],
   "source": [
    "EXPERIMENT_NUM = \"FDR\"\n",
    "\n",
    "# create pointplot\n",
    "plt.rcParams['font.family'] = 'DejaVu Sans'\n",
    "new_data = data[(data['Experiment #'] == EXPERIMENT_NUM)]\n",
    "synth_results = sns.pointplot(x='Radius', y= 'L2 Loss', hue='Model', data=new_data)\n",
    "synth_results.set_ylim(bottom=0, top=1.25*max(new_data[\"L2 Loss\"]))\n",
    "# baseline = new_data[(new_data[\"Model\"] == \"deepST\") & (new_data[\"Radius\"] == 0)][\"L1 Loss\"]\n",
    "# synth_results.axhline(baseline.item(), linestyle = '-', linewidth=3)\n",
    "# synth_results.set_title(f\"Experiment NONLINEAR\", fontsize=25)\n",
    "synth_results.set_xlabel(\"Radius\", fontsize = 20)\n",
    "synth_results.set_ylabel(\"MSE Loss\", fontsize = 20)\n",
    "# plt.gca().set_ylim(bottom=-0.02)\n",
    "plt.savefig(f'synthetic{EXPERIMENT_NUM}.png', dpi=300, bbox_inches='tight')"
   ]
  },
  {
   "cell_type": "code",
   "execution_count": 8,
   "id": "f53562fc-9db9-4dfa-818e-cc0f80b425fe",
   "metadata": {},
   "outputs": [
    {
     "data": {
      "text/plain": [
       "3.017341986396418"
      ]
     },
     "execution_count": 8,
     "metadata": {},
     "output_type": "execute_result"
    }
   ],
   "source": [
    "# DeepST Ratio\n",
    "test_loss_rad_dict[25]/test_loss_rad_dict[0]"
   ]
  },
  {
   "cell_type": "code",
   "execution_count": 9,
   "id": "2148b55f-c0e1-4294-8f4f-f6d1956bdba5",
   "metadata": {},
   "outputs": [
    {
     "name": "stdout",
     "output_type": "stream",
     "text": [
      "GBM Aware: 0.0019015359029911116\n",
      "GBM Ignorant: 0.0019659551071423047\n"
     ]
    },
    {
     "data": {
      "text/plain": [
       "0.9672326169009869"
      ]
     },
     "execution_count": 9,
     "metadata": {},
     "output_type": "execute_result"
    }
   ],
   "source": [
    "# LightGBM Ratio\n",
    "GBM_aware = float(data[(data[\"Model\"] == \"LightGBM\") & (data[\"Radius\"] == 25) & (data[\"Experiment #\"] == \"FDR\")][\"L2 Loss\"])\n",
    "GBM_ignorant = float(data[(data[\"Model\"] == \"LightGBM\") & (data[\"Radius\"] == 0) & (data[\"Experiment #\"] == \"FDR\")][\"L2 Loss\"])\n",
    "print(f\"GBM Aware: {GBM_aware}\")\n",
    "print(f\"GBM Ignorant: {GBM_ignorant}\")\n",
    "GBM_aware/GBM_ignorant"
   ]
  },
  {
   "cell_type": "code",
   "execution_count": 10,
   "id": "c023ad3b-a5a4-4e36-866c-805073693df3",
   "metadata": {},
   "outputs": [
    {
     "name": "stdout",
     "output_type": "stream",
     "text": [
      "GBM Aware: 0.1993188929752836\n",
      "GBM Ignorant: 0.20303967474661788\n"
     ]
    },
    {
     "data": {
      "text/plain": [
       "0.9816746073102333"
      ]
     },
     "execution_count": 10,
     "metadata": {},
     "output_type": "execute_result"
    }
   ],
   "source": [
    "# Ridge Ratio\n",
    "Ridge_aware = float(data[(data[\"Model\"] == \"Ridge\") & (data[\"Radius\"] == 25) & (data[\"Experiment #\"] == \"FDR\")][\"L2 Loss\"])\n",
    "Ridge_ignorant = float(data[(data[\"Model\"] == \"Ridge\") & (data[\"Radius\"] == 0) & (data[\"Experiment #\"] == \"FDR\")][\"L2 Loss\"])\n",
    "print(f\"GBM Aware: {Ridge_aware}\")\n",
    "print(f\"GBM Ignorant: {Ridge_ignorant}\")\n",
    "Ridge_aware/Ridge_ignorant"
   ]
  },
  {
   "cell_type": "code",
   "execution_count": 21,
   "id": "c143879d-0cb7-4c31-8816-bba6e1590d07",
   "metadata": {},
   "outputs": [
    {
     "name": "stdout",
     "output_type": "stream",
     "text": [
      "Lasso Aware: 0.20122831270178895\n",
      "Lasso Ignorant: 0.2031580847524068\n"
     ]
    },
    {
     "data": {
      "text/plain": [
       "0.9905011309150227"
      ]
     },
     "execution_count": 21,
     "metadata": {},
     "output_type": "execute_result"
    }
   ],
   "source": [
    "# Lasso Ratio\n",
    "Lasso_aware = float(data[(data[\"Model\"] == \"Lasso\") & (data[\"Radius\"] == 25) & (data[\"Experiment #\"] == \"FDR\")][\"L2 Loss\"])\n",
    "Lasso_ignorant = float(data[(data[\"Model\"] == \"Lasso\") & (data[\"Radius\"] == 0) & (data[\"Experiment #\"] == \"FDR\")][\"L2 Loss\"])\n",
    "print(f\"Lasso Aware: {Lasso_aware}\")\n",
    "print(f\"Lasso Ignorant: {Lasso_ignorant}\")\n",
    "Lasso_aware/Lasso_ignorant"
   ]
  },
  {
   "cell_type": "code",
   "execution_count": 22,
   "id": "380df8e3-a9fd-40ac-a551-be1c38657eba",
   "metadata": {},
   "outputs": [
    {
     "name": "stdout",
     "output_type": "stream",
     "text": [
      "OLS Aware: 0.19931884738486114\n",
      "OLS Ignorant: 0.20306775547202274\n"
     ]
    },
    {
     "data": {
      "text/plain": [
       "0.9815386343417869"
      ]
     },
     "execution_count": 22,
     "metadata": {},
     "output_type": "execute_result"
    }
   ],
   "source": [
    "# OLS Ratio\n",
    "OLS_aware = float(data[(data[\"Model\"] == \"OLS\") & (data[\"Radius\"] == 25) & (data[\"Experiment #\"] == \"FDR\")][\"L2 Loss\"])\n",
    "OLS_ignorant = float(data[(data[\"Model\"] == \"OLS\") & (data[\"Radius\"] == 0) & (data[\"Experiment #\"] == \"FDR\")][\"L2 Loss\"])\n",
    "print(f\"OLS Aware: {OLS_aware}\")\n",
    "print(f\"OLS Ignorant: {OLS_ignorant}\")\n",
    "OLS_aware/OLS_ignorant"
   ]
  },
  {
   "cell_type": "code",
   "execution_count": null,
   "id": "39b14d7e-e63f-4f42-b223-3d6ad16e9d76",
   "metadata": {},
   "outputs": [],
   "source": []
  }
 ],
 "metadata": {
  "kernelspec": {
   "display_name": "Python 3 (ipykernel)",
   "language": "python",
   "name": "python3"
  },
  "language_info": {
   "codemirror_mode": {
    "name": "ipython",
    "version": 3
   },
   "file_extension": ".py",
   "mimetype": "text/x-python",
   "name": "python",
   "nbconvert_exporter": "python",
   "pygments_lexer": "ipython3",
   "version": "3.10.12"
  }
 },
 "nbformat": 4,
 "nbformat_minor": 5
}
