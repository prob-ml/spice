{
 "cells": [
  {
   "cell_type": "code",
   "execution_count": 1,
   "id": "7f77c044-b257-4fc9-b5e0-1b72d06b4360",
   "metadata": {},
   "outputs": [
    {
     "name": "stdout",
     "output_type": "stream",
     "text": [
      "[2023-10-16 10:58:00,339] [INFO] [real_accelerator.py:158:get_accelerator] Setting ds_accelerator to cuda (auto detect)\n"
     ]
    }
   ],
   "source": [
    "import os\n",
    "import torch\n",
    "import json\n",
    "import requests\n",
    "import h5py\n",
    "import numpy as np\n",
    "import pandas as pd\n",
    "import seaborn as sns\n",
    "import matplotlib.pyplot as plt\n",
    "\n",
    "os.environ[\"MKL_NUM_THREADS\"]=\"1\"\n",
    "os.environ[\"NUMEXPR_NUM_THREADS\"]=\"1\"\n",
    "os.environ[\"OMP_NUM_THREADS\"]=\"1\"\n",
    "os.environ[\"CUDA_VISIBLE_DEVICES\"] = \"4,5,6\"\n",
    "\n",
    "import sys\n",
    "\n",
    "import pytorch_lightning as pl\n",
    "from omegaconf import DictConfig, OmegaConf\n",
    "from pytorch_lightning.callbacks import ModelCheckpoint\n",
    "from pytorch_lightning.loggers import TensorBoardLogger\n",
    "from torch.utils.data import random_split\n",
    "from torch_geometric.data import DataLoader\n",
    "\n",
    "from spatial.merfish_dataset import FilteredMerfishDataset, MerfishDataset, SyntheticNonlinear, SyntheticDataset0, SyntheticDataset1, SyntheticDataset2, SyntheticDataset3\n",
    "from spatial.models.monet_ae import MonetAutoencoder2D, TrivialAutoencoder, MonetDense\n",
    "from spatial.train import train\n",
    "from spatial.predict import test\n",
    "\n",
    "import hydra\n",
    "from hydra.experimental import compose, initialize\n",
    "\n",
    "import warnings\n",
    "warnings.filterwarnings(\"ignore\")"
   ]
  },
  {
   "cell_type": "code",
   "execution_count": null,
   "id": "369c8803-c4a6-42cc-b3bf-ad5db5324933",
   "metadata": {},
   "outputs": [],
   "source": [
    "import hydra\n",
    "from hydra.experimental import compose, initialize\n",
    "\n",
    "test_loss_rad_dict = {}\n",
    "\n",
    "for rad in [0,25]:\n",
    "    with initialize(config_path=\"../config\"):\n",
    "        try:\n",
    "            cfg_from_terminal = compose(config_name=\"config\")\n",
    "            OmegaConf.update(cfg_from_terminal, \"model.kwargs.observables_dimension\", 71)\n",
    "            OmegaConf.update(cfg_from_terminal, \"model.kwargs.hidden_dimensions\", [512, 512, 512, 512, 512, 512])\n",
    "            OmegaConf.update(cfg_from_terminal, \"model.kwargs.output_dimension\", 84)\n",
    "            OmegaConf.update(cfg_from_terminal, \"optimizer.name\", \"Adam\")\n",
    "            OmegaConf.update(cfg_from_terminal, \"training.logger_name\", \"table2_FULL_no_celltypes\")\n",
    "            OmegaConf.update(cfg_from_terminal, \"datasets.dataset.include_celltypes\", False)\n",
    "            OmegaConf.update(cfg_from_terminal, \"model.kwargs.include_skip_connections\", True)\n",
    "            OmegaConf.update(cfg_from_terminal, \"radius\", rad)\n",
    "            OmegaConf.update(cfg_from_terminal, \"gpus\", [2])\n",
    "            print(cfg_from_terminal.training.filepath)\n",
    "            output = test(cfg_from_terminal)\n",
    "            trainer, l1_losses, inputs, gene_expressions, celltypes, test_results = output\n",
    "            test_loss_rad_dict[rad] = test_results[0]['test_loss']\n",
    "        except:\n",
    "            try:\n",
    "                OmegaConf.update(cfg_from_terminal, \"model.kwargs.hidden_dimensions\", [256, 256, 256, 256, 256, 256])\n",
    "                print(cfg_from_terminal.training.filepath)\n",
    "                output = test(cfg_from_terminal)\n",
    "                trainer, l1_losses, inputs, gene_expressions, celltypes, test_results = output\n",
    "                test_loss_rad_dict[rad] = test_results[0]['test_loss']\n",
    "            except:\n",
    "                print(f\"Model with radius of {rad} micrometers doesn't exist :(\")"
   ]
  }
 ],
 "metadata": {
  "kernelspec": {
   "display_name": "Python 3 (ipykernel)",
   "language": "python",
   "name": "python3"
  },
  "language_info": {
   "codemirror_mode": {
    "name": "ipython",
    "version": 3
   },
   "file_extension": ".py",
   "mimetype": "text/x-python",
   "name": "python",
   "nbconvert_exporter": "python",
   "pygments_lexer": "ipython3",
   "version": "3.10.12"
  }
 },
 "nbformat": 4,
 "nbformat_minor": 5
}
