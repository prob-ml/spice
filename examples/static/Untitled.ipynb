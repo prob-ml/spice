{
 "cells": [
  {
   "cell_type": "code",
   "execution_count": 7,
   "id": "c4f97b35",
   "metadata": {},
   "outputs": [],
   "source": [
    "import torch"
   ]
  },
  {
   "cell_type": "code",
   "execution_count": 8,
   "id": "86432c0b",
   "metadata": {
    "scrolled": true
   },
   "outputs": [],
   "source": [
    "means = torch.distributions.normal.Normal(20, 5).sample((20,1))"
   ]
  },
  {
   "cell_type": "code",
   "execution_count": 9,
   "id": "5bef3bf3",
   "metadata": {},
   "outputs": [
    {
     "data": {
      "text/plain": [
       "tensor([[24.2025],\n",
       "        [14.1804],\n",
       "        [28.4676],\n",
       "        [28.6075],\n",
       "        [29.6347],\n",
       "        [20.6162],\n",
       "        [15.0951],\n",
       "        [14.9573],\n",
       "        [23.1020],\n",
       "        [20.0277],\n",
       "        [24.1484],\n",
       "        [19.3102],\n",
       "        [13.4878],\n",
       "        [15.4080],\n",
       "        [25.4002],\n",
       "        [23.9816],\n",
       "        [15.1825],\n",
       "        [24.3266],\n",
       "        [15.8939],\n",
       "        [20.2611]])"
      ]
     },
     "execution_count": 9,
     "metadata": {},
     "output_type": "execute_result"
    }
   ],
   "source": [
    "means"
   ]
  },
  {
   "cell_type": "code",
   "execution_count": 10,
   "id": "d44530d5",
   "metadata": {},
   "outputs": [],
   "source": [
    "test = (torch.distributions.negative_binomial.NegativeBinomial(means, 0.5).sample(\n",
    "                    (100,1)\n",
    ") / 60)"
   ]
  },
  {
   "cell_type": "code",
   "execution_count": 11,
   "id": "afa4e087",
   "metadata": {},
   "outputs": [
    {
     "data": {
      "text/plain": [
       "tensor([[[[0.5667],\n",
       "          [0.1000],\n",
       "          [0.3167],\n",
       "          ...,\n",
       "          [0.4167],\n",
       "          [0.2000],\n",
       "          [0.3500]]],\n",
       "\n",
       "\n",
       "        [[[0.5000],\n",
       "          [0.4500],\n",
       "          [0.5333],\n",
       "          ...,\n",
       "          [0.3833],\n",
       "          [0.2500],\n",
       "          [0.4667]]],\n",
       "\n",
       "\n",
       "        [[[0.1833],\n",
       "          [0.4333],\n",
       "          [0.6333],\n",
       "          ...,\n",
       "          [0.5167],\n",
       "          [0.4500],\n",
       "          [0.4333]]],\n",
       "\n",
       "\n",
       "        ...,\n",
       "\n",
       "\n",
       "        [[[0.5000],\n",
       "          [0.3333],\n",
       "          [0.8333],\n",
       "          ...,\n",
       "          [0.2667],\n",
       "          [0.4833],\n",
       "          [0.3167]]],\n",
       "\n",
       "\n",
       "        [[[0.2833],\n",
       "          [0.2500],\n",
       "          [0.5000],\n",
       "          ...,\n",
       "          [0.2667],\n",
       "          [0.3833],\n",
       "          [0.2333]]],\n",
       "\n",
       "\n",
       "        [[[0.3333],\n",
       "          [0.2667],\n",
       "          [0.4500],\n",
       "          ...,\n",
       "          [0.4833],\n",
       "          [0.2833],\n",
       "          [0.3167]]]])"
      ]
     },
     "execution_count": 11,
     "metadata": {},
     "output_type": "execute_result"
    }
   ],
   "source": [
    "test"
   ]
  },
  {
   "cell_type": "code",
   "execution_count": 12,
   "id": "931af61b",
   "metadata": {},
   "outputs": [
    {
     "data": {
      "text/plain": [
       "tensor([[34.,  6., 19.,  ..., 25., 12., 21.],\n",
       "        [30., 27., 32.,  ..., 23., 15., 28.],\n",
       "        [11., 26., 38.,  ..., 31., 27., 26.],\n",
       "        ...,\n",
       "        [30., 20., 50.,  ..., 16., 29., 19.],\n",
       "        [17., 15., 30.,  ..., 16., 23., 14.],\n",
       "        [20., 16., 27.,  ..., 29., 17., 19.]])"
      ]
     },
     "execution_count": 12,
     "metadata": {},
     "output_type": "execute_result"
    }
   ],
   "source": [
    "test.squeeze() * 60"
   ]
  },
  {
   "cell_type": "code",
   "execution_count": null,
   "id": "51868369",
   "metadata": {},
   "outputs": [],
   "source": []
  }
 ],
 "metadata": {
  "kernelspec": {
   "display_name": "Python 3 (ipykernel)",
   "language": "python",
   "name": "python3"
  },
  "language_info": {
   "codemirror_mode": {
    "name": "ipython",
    "version": 3
   },
   "file_extension": ".py",
   "mimetype": "text/x-python",
   "name": "python",
   "nbconvert_exporter": "python",
   "pygments_lexer": "ipython3",
   "version": "3.10.6"
  }
 },
 "nbformat": 4,
 "nbformat_minor": 5
}
