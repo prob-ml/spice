{
 "cells": [
  {
   "cell_type": "code",
   "execution_count": null,
   "id": "97507f9f",
   "metadata": {},
   "outputs": [],
   "source": [
    "import os\n",
    "import torch\n",
    "\n",
    "os.environ[\"MKL_NUM_THREADS\"]=\"1\"\n",
    "os.environ[\"NUMEXPR_NUM_THREADS\"]=\"1\"\n",
    "os.environ[\"OMP_NUM_THREADS\"]=\"1\"\n",
    "\n",
    "import sys\n",
    "\n",
    "import pytorch_lightning as pl\n",
    "from omegaconf import DictConfig, OmegaConf\n",
    "from pytorch_lightning.callbacks import ModelCheckpoint\n",
    "from pytorch_lightning.loggers import TensorBoardLogger\n",
    "from torch.utils.data import random_split\n",
    "from torch_geometric.data import DataLoader\n",
    "\n",
    "from spatial.merfish_dataset import FilteredMerfishDataset, MerfishDataset, SyntheticDataset0, SyntheticDataset1, SyntheticDataset2, SyntheticDataset3\n",
    "from spatial.models.monet_ae import MonetAutoencoder2D, TrivialAutoencoder, MonetDense\n",
    "from spatial.train import train\n",
    "from spatial.predict import test"
   ]
  },
  {
   "cell_type": "code",
   "execution_count": null,
   "id": "fcde7bab",
   "metadata": {},
   "outputs": [],
   "source": [
    "import hydra\n",
    "from hydra.experimental import compose, initialize\n",
    "\n",
    "test_loss_rad_dict = {}\n",
    "for rad in range(0,65,5):\n",
    "    for synthetic_exp in range(4):\n",
    "        with initialize(config_path=f\"../../config\"):\n",
    "            cfg_from_terminal = compose(config_name=f\"config{synthetic_exp}\")\n",
    "            OmegaConf.update(cfg_from_terminal, \"model.kwargs.hidden_dimensions\", [128, 128])\n",
    "            OmegaConf.update(cfg_from_terminal, \"training.logger_name\", f\"synthetic{synthetic_exp}\")\n",
    "            OmegaConf.update(cfg_from_terminal, \"radius\", rad)\n",
    "            OmegaConf.update(cfg_from_terminal, \"model.kwargs.response_genes\", [0])\n",
    "            OmegaConf.update(cfg_from_terminal, \"datasets.dataset.splits\", 2)\n",
    "            output = test(cfg_from_terminal)\n",
    "            trainer, l1_losses, inputs, gene_expressions, celltypes, test_results = output\n",
    "            test_loss_rad_dict[(rad, synthetic_exp)] = test_results[0]['test_loss']"
   ]
  },
  {
   "cell_type": "code",
   "execution_count": null,
   "id": "3a3bd143",
   "metadata": {},
   "outputs": [],
   "source": [
    "test_loss_rad_dict"
   ]
  },
  {
   "cell_type": "code",
   "execution_count": null,
   "id": "428a414e",
   "metadata": {},
   "outputs": [],
   "source": [
    "# test_loss_rad_dict = {str(k): v for k,v in test_loss_rad_dict.items()}\n",
    "\n",
    "# import json\n",
    "\n",
    "# with open('../deepST_synthetic_results.json', 'w') as deepST:\n",
    "#     json.dump(test_loss_rad_dict, deepST)"
   ]
  },
  {
   "cell_type": "code",
   "execution_count": null,
   "id": "3cee6280",
   "metadata": {},
   "outputs": [],
   "source": [
    "import json\n",
    "\n",
    "with open('../deepST_synthetic_results.json', 'r') as deepST:\n",
    "    test_loss_rad_dict = json.load(deepST)"
   ]
  },
  {
   "cell_type": "code",
   "execution_count": null,
   "id": "fe230b81",
   "metadata": {},
   "outputs": [],
   "source": [
    "import json\n",
    "\n",
    "with open('../LightGBM_synthetic_results.json', 'r') as linear:\n",
    "    linear_models_dict = json.load(linear)"
   ]
  },
  {
   "cell_type": "code",
   "execution_count": null,
   "id": "a8bb3230",
   "metadata": {},
   "outputs": [],
   "source": [
    "linear_models_dict"
   ]
  },
  {
   "cell_type": "code",
   "execution_count": null,
   "id": "e1e1d5fa",
   "metadata": {},
   "outputs": [],
   "source": [
    "# create dataframe\n",
    "import pandas as pd\n",
    "\n",
    "# linear models + XGBoost\n",
    "data = pd.DataFrame(columns=['Model', 'Radius', 'Experiment #', 'L1 Loss'])\n",
    "for k,v in linear_models_dict.items():\n",
    "    k = k.split()\n",
    "    entry = pd.DataFrame.from_dict({\n",
    "        'Model': [k[0]],\n",
    "        'Radius': [int(k[1])],\n",
    "        'Experiment #': [int(k[2])],\n",
    "        'L1 Loss': [v]\n",
    "    })\n",
    "    data = pd.concat([data, entry], ignore_index=True)\n",
    "\n",
    "# deepST\n",
    "for k,v in test_loss_rad_dict.items():\n",
    "    k = eval(k)\n",
    "    entry = pd.DataFrame.from_dict({\n",
    "        'Model': 'deepST',\n",
    "        'Radius': [k[0]],\n",
    "        'Experiment #': [k[1]],\n",
    "        'L1 Loss': [v]\n",
    "    })\n",
    "    data = pd.concat([data, entry], ignore_index=True)\n",
    "\n",
    "data"
   ]
  },
  {
   "cell_type": "code",
   "execution_count": null,
   "id": "f5b7626d",
   "metadata": {},
   "outputs": [],
   "source": [
    "import seaborn as sns\n",
    "import matplotlib.pyplot as plt\n",
    "import numpy as np\n",
    "\n",
    "fig, axes = plt.subplots(2, 2, figsize=(18, 18))\n",
    "\n",
    "# create pointplot\n",
    "for exp in range(4):\n",
    "    new_data = data[data['Experiment #'] == exp]\n",
    "    synth_results = sns.pointplot(ax=axes[exp // 2, exp % 2], x='Radius', y= 'L1 Loss', hue='Model', data=new_data)\n",
    "    baseline = new_data[(new_data[\"Model\"] == \"deepST\") & (new_data[\"Radius\"] == 0)][\"L1 Loss\"]\n",
    "    synth_results.axhline(baseline.item(), linestyle = '-', linewidth=3)\n",
    "    synth_results.set_title(f\"Experiment #{exp}\", fontsize=25)\n",
    "    synth_results.set_xlabel(\"Radius\", fontsize = 20)\n",
    "    synth_results.set_ylabel(\"L1 Loss\", fontsize = 20)\n",
    "    synth_results.set_xticklabels(range(0, 65, 5), fontsize=15)\n",
    "plt.savefig(f'synth_experiments.png')"
   ]
  },
  {
   "cell_type": "code",
   "execution_count": null,
   "id": "4bdf373a",
   "metadata": {},
   "outputs": [],
   "source": []
  }
 ],
 "metadata": {
  "kernelspec": {
   "display_name": "Python 3",
   "language": "python",
   "name": "python3"
  },
  "language_info": {
   "codemirror_mode": {
    "name": "ipython",
    "version": 3
   },
   "file_extension": ".py",
   "mimetype": "text/x-python",
   "name": "python",
   "nbconvert_exporter": "python",
   "pygments_lexer": "ipython3",
   "version": "3.8.10"
  }
 },
 "nbformat": 4,
 "nbformat_minor": 5
}
