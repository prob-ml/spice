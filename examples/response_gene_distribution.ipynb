{
 "cells": [
  {
   "cell_type": "code",
   "execution_count": 2,
   "id": "44d52a21",
   "metadata": {},
   "outputs": [],
   "source": [
    "import os\n",
    "\n",
    "os.environ[\"MKL_NUM_THREADS\"]=\"1\"\n",
    "os.environ[\"NUMEXPR_NUM_THREADS\"]=\"1\"\n",
    "os.environ[\"OMP_NUM_THREADS\"]=\"1\"\n",
    "\n",
    "import sys\n",
    "\n",
    "import pytorch_lightning as pl\n",
    "from omegaconf import DictConfig, OmegaConf\n",
    "from pytorch_lightning.callbacks import ModelCheckpoint\n",
    "from pytorch_lightning.loggers import TensorBoardLogger\n",
    "from torch.utils.data import random_split\n",
    "from torch_geometric.data import DataLoader\n",
    "\n",
    "from spatial.merfish_dataset import FilteredMerfishDataset, MerfishDataset\n",
    "from spatial.models.monet_ae import MonetAutoencoder2D, TrivialAutoencoder\n",
    "from spatial.train import train\n",
    "from spatial.predict import test"
   ]
  },
  {
   "cell_type": "code",
   "execution_count": 3,
   "id": "5249aae9",
   "metadata": {},
   "outputs": [],
   "source": [
    "test = MerfishDataset(\"../data\")"
   ]
  },
  {
   "cell_type": "code",
   "execution_count": 4,
   "id": "52643381",
   "metadata": {},
   "outputs": [
    {
     "data": {
      "text/plain": [
       "MerfishDataset(150)"
      ]
     },
     "execution_count": 4,
     "metadata": {},
     "output_type": "execute_result"
    }
   ],
   "source": [
    "test"
   ]
  },
  {
   "cell_type": "code",
   "execution_count": 8,
   "id": "58e2d258",
   "metadata": {},
   "outputs": [
    {
     "data": {
      "text/plain": [
       "tensor([[ 0, 12],\n",
       "        [ 0,  9],\n",
       "        [ 0,  7],\n",
       "        ...,\n",
       "        [ 0,  9],\n",
       "        [ 0, 12],\n",
       "        [ 0, 12]])"
      ]
     },
     "execution_count": 8,
     "metadata": {},
     "output_type": "execute_result"
    }
   ],
   "source": [
    "test[0].y"
   ]
  },
  {
   "cell_type": "code",
   "execution_count": 13,
   "id": "058be720",
   "metadata": {},
   "outputs": [
    {
     "data": {
      "text/plain": [
       "tensor([   1,   39,   56,  139,  147,  156,  159,  173,  177,  204,  226,  230,\n",
       "         242,  250,  301,  329,  334,  344,  350,  416,  427,  472,  486,  492,\n",
       "         513,  531,  545,  552,  564,  596,  601,  619,  622,  703,  736,  740,\n",
       "         807,  834,  835,  836,  915,  932,  933,  946,  955,  981, 1031, 1054,\n",
       "        1061, 1080, 1090, 1133, 1181, 1256, 1277, 1302, 1312, 1397, 1444, 1464,\n",
       "        1534, 1539, 1579, 1684, 1697, 1700, 1718, 1721, 1783, 1791, 1797, 1880,\n",
       "        1884, 1885, 1922, 1968, 1996, 2026, 2029, 2040, 2080, 2115, 2176, 2217,\n",
       "        2218, 2228, 2234, 2250, 2274, 2337, 2349, 2358, 2381, 2429, 2436, 2525,\n",
       "        2526, 2624, 2672, 2713, 2722, 2811, 2869, 2905, 2940, 2994, 3036, 3086,\n",
       "        3120, 3291, 3510, 3516, 3540, 3543, 3546, 3643, 3649, 3657, 3660, 3670,\n",
       "        3677, 3691, 3709, 3757, 3758, 3779, 3812, 3813, 3852, 3858, 3865, 3931,\n",
       "        4000, 4109, 4124, 4159, 4166, 4203, 4215, 4220, 4237, 4238, 4313, 4320,\n",
       "        4369, 4409, 4428, 4511, 4516, 4541, 4556, 4567, 4595, 4628, 4670, 4679,\n",
       "        4696, 4699, 4754, 4843, 4871, 4873, 4932, 4940, 4959, 4966, 5014, 5023,\n",
       "        5054, 5078, 5123, 5126, 5183, 5207, 5231, 5232, 5241, 5244, 5254, 5273,\n",
       "        5356, 5381, 5388, 5401, 5437, 5456, 5467, 5474, 5585, 5612, 5614, 5626,\n",
       "        5686, 5741, 5743, 5776, 5779, 5852, 5854, 5925, 6034, 6042, 6048, 6076,\n",
       "        6086, 6130, 6176, 6229, 6257, 6290, 6332, 6333, 6336, 6340, 6374, 6461,\n",
       "        6485, 6498, 6506])"
      ]
     },
     "execution_count": 13,
     "metadata": {},
     "output_type": "execute_result"
    }
   ],
   "source": [
    "(test[0].y[:,1] == 9).nonzero(as_tuple=True)[0]"
   ]
  },
  {
   "cell_type": "code",
   "execution_count": 14,
   "id": "ccfb5ba4",
   "metadata": {},
   "outputs": [
    {
     "data": {
      "text/plain": [
       "{'Ambiguous': 0,\n",
       " 'Astrocyte': 1,\n",
       " 'Endothelial 1': 2,\n",
       " 'Endothelial 2': 3,\n",
       " 'Endothelial 3': 4,\n",
       " 'Ependymal': 5,\n",
       " 'Excitatory': 6,\n",
       " 'Inhibitory': 7,\n",
       " 'Microglia': 8,\n",
       " 'OD Immature 1': 9,\n",
       " 'OD Immature 2': 10,\n",
       " 'OD Mature 1': 11,\n",
       " 'OD Mature 2': 12,\n",
       " 'OD Mature 3': 13,\n",
       " 'OD Mature 4': 14,\n",
       " 'Pericytes': 15}"
      ]
     },
     "execution_count": 14,
     "metadata": {},
     "output_type": "execute_result"
    }
   ],
   "source": [
    "test.celltype_lookup"
   ]
  },
  {
   "cell_type": "code",
   "execution_count": null,
   "id": "26c88ac1",
   "metadata": {},
   "outputs": [],
   "source": []
  }
 ],
 "metadata": {
  "kernelspec": {
   "display_name": "Python 3 (ipykernel)",
   "language": "python",
   "name": "python3"
  },
  "language_info": {
   "codemirror_mode": {
    "name": "ipython",
    "version": 3
   },
   "file_extension": ".py",
   "mimetype": "text/x-python",
   "name": "python",
   "nbconvert_exporter": "python",
   "pygments_lexer": "ipython3",
   "version": "3.8.10"
  }
 },
 "nbformat": 4,
 "nbformat_minor": 5
}
