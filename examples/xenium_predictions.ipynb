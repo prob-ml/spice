{
 "cells": [
  {
   "cell_type": "code",
   "execution_count": 1,
   "metadata": {},
   "outputs": [],
   "source": [
    "import numpy as np\n",
    "import pandas as pd\n",
    "import os\n",
    "import json\n",
    "import matplotlib.pyplot as plt\n",
    "\n",
    "import os\n",
    "import torch\n",
    "\n",
    "import pytorch_lightning as pl\n",
    "from omegaconf import DictConfig, OmegaConf\n",
    "from pytorch_lightning.callbacks import ModelCheckpoint\n",
    "from pytorch_lightning.loggers import TensorBoardLogger\n",
    "from torch.utils.data import random_split\n",
    "from torch_geometric.data import DataLoader\n",
    "\n",
    "from spatial.models.monet_ae import MonetDense\n",
    "from spatial.predict_xenium import test\n",
    "\n",
    "import hydra\n",
    "from hydra.experimental import compose, initialize\n",
    "\n",
    "os.environ[\"MKL_NUM_THREADS\"]=\"1\"\n",
    "os.environ[\"NUMEXPR_NUM_THREADS\"]=\"1\"\n",
    "os.environ[\"OMP_NUM_THREADS\"]=\"1\"\n",
    "os.environ[\"CUDA_VISIBLE_DEVICES\"] = \"4,5,6\""
   ]
  },
  {
   "cell_type": "code",
   "execution_count": 2,
   "metadata": {},
   "outputs": [
    {
     "name": "stderr",
     "output_type": "stream",
     "text": [
      "/home/roko/.cache/pypoetry/virtualenvs/spatial-G_n0JvVf-py3.10/lib/python3.10/site-packages/hydra/experimental/initialize.py:43: UserWarning: hydra.experimental.initialize() is no longer experimental. Use hydra.initialize()\n",
      "  deprecation_warning(message=message)\n",
      "/home/roko/.cache/pypoetry/virtualenvs/spatial-G_n0JvVf-py3.10/lib/python3.10/site-packages/hydra/experimental/initialize.py:45: UserWarning: \n",
      "The version_base parameter is not specified.\n",
      "Please specify a compatability version level, or None.\n",
      "Will assume defaults for version 1.1\n",
      "  self.delegate = real_initialize(\n",
      "/home/roko/.cache/pypoetry/virtualenvs/spatial-G_n0JvVf-py3.10/lib/python3.10/site-packages/hydra/experimental/compose.py:25: UserWarning: hydra.experimental.compose() is no longer experimental. Use hydra.compose()\n",
      "  deprecation_warning(message=message)\n"
     ]
    },
    {
     "name": "stdout",
     "output_type": "stream",
     "text": [
      "MonetDense__[512, 512, 512, 512]__10__3__XENIUM__Adam__NUM_SPLITS=3\n",
      "There are 64 graph splits for the Xenium Dataset.\n"
     ]
    },
    {
     "name": "stderr",
     "output_type": "stream",
     "text": [
      "/home/roko/.cache/pypoetry/virtualenvs/spatial-G_n0JvVf-py3.10/lib/python3.10/site-packages/torch_geometric/deprecation.py:22: UserWarning: 'data.DataLoader' is deprecated, use 'loader.DataLoader' instead\n",
      "  warnings.warn(out)\n",
      "GPU available: True (cuda), used: True\n",
      "TPU available: False, using: 0 TPU cores\n",
      "IPU available: False, using: 0 IPUs\n",
      "HPU available: False, using: 0 HPUs\n",
      "`Trainer(limit_train_batches=1.0)` was configured so 100% of the batches per epoch will be used..\n",
      "`Trainer(limit_val_batches=1.0)` was configured so 100% of the batches will be used..\n"
     ]
    },
    {
     "name": "stdout",
     "output_type": "stream",
     "text": [
      "The number of parameters for radius 3 is 10967684\n"
     ]
    },
    {
     "name": "stderr",
     "output_type": "stream",
     "text": [
      "LOCAL_RANK: 0 - CUDA_VISIBLE_DEVICES: [4,5,6]\n"
     ]
    },
    {
     "data": {
      "application/vnd.jupyter.widget-view+json": {
       "model_id": "c57afd0f97e44bc186198bc9ce14722e",
       "version_major": 2,
       "version_minor": 0
      },
      "text/plain": [
       "Testing: |          | 0/? [00:00<?, ?it/s]"
      ]
     },
     "metadata": {},
     "output_type": "display_data"
    },
    {
     "name": "stderr",
     "output_type": "stream",
     "text": [
      "/home/roko/.cache/pypoetry/virtualenvs/spatial-G_n0JvVf-py3.10/lib/python3.10/site-packages/pytorch_lightning/utilities/data.py:77: Trying to infer the `batch_size` from an ambiguous collection. The batch size we found is 2532. To avoid any miscalculations, use `self.log(..., batch_size=batch_size)`.\n",
      "/home/roko/.cache/pypoetry/virtualenvs/spatial-G_n0JvVf-py3.10/lib/python3.10/site-packages/pytorch_lightning/utilities/data.py:77: Trying to infer the `batch_size` from an ambiguous collection. The batch size we found is 2531. To avoid any miscalculations, use `self.log(..., batch_size=batch_size)`.\n"
     ]
    },
    {
     "data": {
      "text/html": [
       "<pre style=\"white-space:pre;overflow-x:auto;line-height:normal;font-family:Menlo,'DejaVu Sans Mono',consolas,'Courier New',monospace\">┏━━━━━━━━━━━━━━━━━━━━━━━━━━━┳━━━━━━━━━━━━━━━━━━━━━━━━━━━┓\n",
       "┃<span style=\"font-weight: bold\">        Test metric        </span>┃<span style=\"font-weight: bold\">       DataLoader 0        </span>┃\n",
       "┡━━━━━━━━━━━━━━━━━━━━━━━━━━━╇━━━━━━━━━━━━━━━━━━━━━━━━━━━┩\n",
       "│<span style=\"color: #008080; text-decoration-color: #008080\">         test_loss         </span>│<span style=\"color: #800080; text-decoration-color: #800080\">    0.31748491525650024    </span>│\n",
       "│<span style=\"color: #008080; text-decoration-color: #008080\">       test_loss_mse       </span>│<span style=\"color: #800080; text-decoration-color: #800080\">    0.31748491525650024    </span>│\n",
       "└───────────────────────────┴───────────────────────────┘\n",
       "</pre>\n"
      ],
      "text/plain": [
       "┏━━━━━━━━━━━━━━━━━━━━━━━━━━━┳━━━━━━━━━━━━━━━━━━━━━━━━━━━┓\n",
       "┃\u001b[1m \u001b[0m\u001b[1m       Test metric       \u001b[0m\u001b[1m \u001b[0m┃\u001b[1m \u001b[0m\u001b[1m      DataLoader 0       \u001b[0m\u001b[1m \u001b[0m┃\n",
       "┡━━━━━━━━━━━━━━━━━━━━━━━━━━━╇━━━━━━━━━━━━━━━━━━━━━━━━━━━┩\n",
       "│\u001b[36m \u001b[0m\u001b[36m        test_loss        \u001b[0m\u001b[36m \u001b[0m│\u001b[35m \u001b[0m\u001b[35m   0.31748491525650024   \u001b[0m\u001b[35m \u001b[0m│\n",
       "│\u001b[36m \u001b[0m\u001b[36m      test_loss_mse      \u001b[0m\u001b[36m \u001b[0m│\u001b[35m \u001b[0m\u001b[35m   0.31748491525650024   \u001b[0m\u001b[35m \u001b[0m│\n",
       "└───────────────────────────┴───────────────────────────┘\n"
      ]
     },
     "metadata": {},
     "output_type": "display_data"
    },
    {
     "name": "stderr",
     "output_type": "stream",
     "text": [
      "TEST Profiler Report\n",
      "\n",
      "--------------------------------------------------------------------------------------------------------------------------------------------------------------------------------------------------------------------------------------------------------------------------\n",
      "|  Action                                                                                                                                                         \t|  Mean duration (s)\t|  Num calls      \t|  Total time (s) \t|  Percentage %   \t|\n",
      "--------------------------------------------------------------------------------------------------------------------------------------------------------------------------------------------------------------------------------------------------------------------------\n",
      "|  Total                                                                                                                                                          \t|  -              \t|  184            \t|  3.8234         \t|  100 %          \t|\n",
      "--------------------------------------------------------------------------------------------------------------------------------------------------------------------------------------------------------------------------------------------------------------------------\n",
      "|  [Strategy]SingleDeviceStrategy.test_step                                                                                                                       \t|  0.16195        \t|  11             \t|  1.7815         \t|  46.594         \t|\n",
      "|  [Strategy]SingleDeviceStrategy.batch_to_device                                                                                                                 \t|  0.0093488      \t|  11             \t|  0.10284        \t|  2.6897         \t|\n",
      "|  [LightningModule]MonetDense.transfer_batch_to_device                                                                                                           \t|  0.0092883      \t|  11             \t|  0.10217        \t|  2.6723         \t|\n",
      "|  [_EvaluationLoop].test_next                                                                                                                                    \t|  0.0046013      \t|  11             \t|  0.050614       \t|  1.3238         \t|\n",
      "|  [Callback]TQDMProgressBar.on_test_start                                                                                                                        \t|  0.021009       \t|  1              \t|  0.021009       \t|  0.54948        \t|\n",
      "|  [Callback]TQDMProgressBar.on_test_batch_end                                                                                                                    \t|  0.00076641     \t|  11             \t|  0.0084305      \t|  0.2205         \t|\n",
      "|  [Callback]TQDMProgressBar.on_test_batch_start                                                                                                                  \t|  8.3779e-05     \t|  11             \t|  0.00092156     \t|  0.024103       \t|\n",
      "|  [LightningModule]MonetDense.on_test_model_eval                                                                                                                 \t|  0.00083105     \t|  1              \t|  0.00083105     \t|  0.021736       \t|\n",
      "|  [Callback]TQDMProgressBar.on_test_end                                                                                                                          \t|  0.00062546     \t|  1              \t|  0.00062546     \t|  0.016359       \t|\n",
      "|  [LightningModule]MonetDense.on_test_model_train                                                                                                                \t|  0.00015188     \t|  1              \t|  0.00015188     \t|  0.0039723      \t|\n",
      "|  [Callback]ModelCheckpoint{'monitor': 'val_loss', 'mode': 'min', 'every_n_train_steps': 0, 'every_n_epochs': 1, 'train_time_interval': None}.setup              \t|  0.00012419     \t|  1              \t|  0.00012419     \t|  0.0032481      \t|\n",
      "|  [Callback]ModelSummary.on_test_batch_end                                                                                                                       \t|  6.0282e-06     \t|  11             \t|  6.631e-05      \t|  0.0017343      \t|\n",
      "|  [Callback]ModelSummary.on_test_batch_start                                                                                                                     \t|  2.5089e-06     \t|  11             \t|  2.7598e-05     \t|  0.00072181     \t|\n",
      "|  [LightningModule]MonetDense.on_before_batch_transfer                                                                                                           \t|  2.0558e-06     \t|  11             \t|  2.2614e-05     \t|  0.00059146     \t|\n",
      "|  [LightningModule]MonetDense.on_test_batch_end                                                                                                                  \t|  1.7764e-06     \t|  11             \t|  1.954e-05      \t|  0.00051106     \t|\n",
      "|  [LightningModule]MonetDense.on_after_batch_transfer                                                                                                            \t|  1.6911e-06     \t|  11             \t|  1.8602e-05     \t|  0.00048653     \t|\n",
      "|  [Callback]ModelCheckpoint{'monitor': 'val_loss', 'mode': 'min', 'every_n_train_steps': 0, 'every_n_epochs': 1, 'train_time_interval': None}.on_test_batch_end  \t|  1.6294e-06     \t|  11             \t|  1.7923e-05     \t|  0.00046877     \t|\n",
      "|  [Callback]ModelCheckpoint{'monitor': 'val_loss', 'mode': 'min', 'every_n_train_steps': 0, 'every_n_epochs': 1, 'train_time_interval': None}.on_test_batch_start\t|  1.3308e-06     \t|  11             \t|  1.4639e-05     \t|  0.00038288     \t|\n",
      "|  [Callback]ModelSummary.on_test_start                                                                                                                           \t|  1.12e-05       \t|  1              \t|  1.12e-05       \t|  0.00029293     \t|\n",
      "|  [LightningModule]MonetDense.on_test_batch_start                                                                                                                \t|  9.6473e-07     \t|  11             \t|  1.0612e-05     \t|  0.00027755     \t|\n",
      "|  [Callback]TQDMProgressBar.setup                                                                                                                                \t|  8.526e-06      \t|  1              \t|  8.526e-06      \t|  0.00022299     \t|\n",
      "|  [LightningModule]MonetDense.on_test_epoch_start                                                                                                                \t|  7.428e-06      \t|  1              \t|  7.428e-06      \t|  0.00019428     \t|\n",
      "|  [Strategy]SingleDeviceStrategy.on_test_end                                                                                                                     \t|  6.331e-06      \t|  1              \t|  6.331e-06      \t|  0.00016559     \t|\n",
      "|  [Callback]TQDMProgressBar.teardown                                                                                                                             \t|  5.371e-06      \t|  1              \t|  5.371e-06      \t|  0.00014048     \t|\n",
      "|  [LightningModule]MonetDense.configure_callbacks                                                                                                                \t|  4.89e-06       \t|  1              \t|  4.89e-06       \t|  0.0001279      \t|\n",
      "|  [Strategy]SingleDeviceStrategy.on_test_start                                                                                                                   \t|  4.647e-06      \t|  1              \t|  4.647e-06      \t|  0.00012154     \t|\n",
      "|  [Callback]TQDMProgressBar.on_test_epoch_end                                                                                                                    \t|  3.842e-06      \t|  1              \t|  3.842e-06      \t|  0.00010049     \t|\n",
      "|  [Callback]ModelSummary.on_test_end                                                                                                                             \t|  3.401e-06      \t|  1              \t|  3.401e-06      \t|  8.8952e-05     \t|\n",
      "|  [Callback]ModelSummary.setup                                                                                                                                   \t|  2.243e-06      \t|  1              \t|  2.243e-06      \t|  5.8665e-05     \t|\n",
      "|  [LightningModule]MonetDense.setup                                                                                                                              \t|  1.828e-06      \t|  1              \t|  1.828e-06      \t|  4.781e-05      \t|\n",
      "|  [Callback]ModelSummary.teardown                                                                                                                                \t|  1.737e-06      \t|  1              \t|  1.737e-06      \t|  4.5431e-05     \t|\n",
      "|  [Callback]TQDMProgressBar.on_test_epoch_start                                                                                                                  \t|  1.704e-06      \t|  1              \t|  1.704e-06      \t|  4.4567e-05     \t|\n",
      "|  [Callback]ModelCheckpoint{'monitor': 'val_loss', 'mode': 'min', 'every_n_train_steps': 0, 'every_n_epochs': 1, 'train_time_interval': None}.on_test_end        \t|  1.646e-06      \t|  1              \t|  1.646e-06      \t|  4.3051e-05     \t|\n",
      "|  [LightningModule]MonetDense.teardown                                                                                                                           \t|  1.616e-06      \t|  1              \t|  1.616e-06      \t|  4.2266e-05     \t|\n",
      "|  [Callback]ModelCheckpoint{'monitor': 'val_loss', 'mode': 'min', 'every_n_train_steps': 0, 'every_n_epochs': 1, 'train_time_interval': None}.on_test_start      \t|  1.565e-06      \t|  1              \t|  1.565e-06      \t|  4.0932e-05     \t|\n",
      "|  [Callback]ModelCheckpoint{'monitor': 'val_loss', 'mode': 'min', 'every_n_train_steps': 0, 'every_n_epochs': 1, 'train_time_interval': None}.teardown           \t|  1.475e-06      \t|  1              \t|  1.475e-06      \t|  3.8578e-05     \t|\n",
      "|  [LightningModule]MonetDense.prepare_data                                                                                                                       \t|  1.426e-06      \t|  1              \t|  1.426e-06      \t|  3.7296e-05     \t|\n",
      "|  [LightningModule]MonetDense.on_test_start                                                                                                                      \t|  1.376e-06      \t|  1              \t|  1.376e-06      \t|  3.5989e-05     \t|\n",
      "|  [Callback]ModelSummary.on_test_epoch_end                                                                                                                       \t|  1.356e-06      \t|  1              \t|  1.356e-06      \t|  3.5466e-05     \t|\n",
      "|  [Callback]ModelCheckpoint{'monitor': 'val_loss', 'mode': 'min', 'every_n_train_steps': 0, 'every_n_epochs': 1, 'train_time_interval': None}.on_test_epoch_end  \t|  1.259e-06      \t|  1              \t|  1.259e-06      \t|  3.2929e-05     \t|\n",
      "|  [LightningModule]MonetDense.on_test_end                                                                                                                        \t|  1.218e-06      \t|  1              \t|  1.218e-06      \t|  3.1856e-05     \t|\n",
      "|  [Callback]ModelSummary.on_test_epoch_start                                                                                                                     \t|  1.179e-06      \t|  1              \t|  1.179e-06      \t|  3.0836e-05     \t|\n",
      "|  [Callback]ModelCheckpoint{'monitor': 'val_loss', 'mode': 'min', 'every_n_train_steps': 0, 'every_n_epochs': 1, 'train_time_interval': None}.on_test_epoch_start\t|  1.096e-06      \t|  1              \t|  1.096e-06      \t|  2.8665e-05     \t|\n",
      "|  [LightningModule]MonetDense.on_test_epoch_end                                                                                                                  \t|  1.045e-06      \t|  1              \t|  1.045e-06      \t|  2.7332e-05     \t|\n",
      "--------------------------------------------------------------------------------------------------------------------------------------------------------------------------------------------------------------------------------------------------------------------------\n",
      "\n",
      "/home/roko/.cache/pypoetry/virtualenvs/spatial-G_n0JvVf-py3.10/lib/python3.10/site-packages/hydra/experimental/initialize.py:43: UserWarning: hydra.experimental.initialize() is no longer experimental. Use hydra.initialize()\n",
      "  deprecation_warning(message=message)\n",
      "/home/roko/.cache/pypoetry/virtualenvs/spatial-G_n0JvVf-py3.10/lib/python3.10/site-packages/hydra/experimental/initialize.py:45: UserWarning: \n",
      "The version_base parameter is not specified.\n",
      "Please specify a compatability version level, or None.\n",
      "Will assume defaults for version 1.1\n",
      "  self.delegate = real_initialize(\n"
     ]
    },
    {
     "name": "stdout",
     "output_type": "stream",
     "text": [
      "MonetDense__[512, 512, 512, 512]__10__11__XENIUM__Adam__NUM_SPLITS=3\n",
      "There are 64 graph splits for the Xenium Dataset.\n"
     ]
    },
    {
     "name": "stderr",
     "output_type": "stream",
     "text": [
      "GPU available: True (cuda), used: True\n",
      "TPU available: False, using: 0 TPU cores\n",
      "IPU available: False, using: 0 IPUs\n",
      "HPU available: False, using: 0 HPUs\n",
      "`Trainer(limit_train_batches=1.0)` was configured so 100% of the batches per epoch will be used..\n",
      "`Trainer(limit_val_batches=1.0)` was configured so 100% of the batches will be used..\n",
      "LOCAL_RANK: 0 - CUDA_VISIBLE_DEVICES: [4,5,6]\n"
     ]
    },
    {
     "name": "stdout",
     "output_type": "stream",
     "text": [
      "The number of parameters for radius 11 is 10967684\n"
     ]
    },
    {
     "data": {
      "application/vnd.jupyter.widget-view+json": {
       "model_id": "ca592ceeac2d44aeb284d0eee1a1f201",
       "version_major": 2,
       "version_minor": 0
      },
      "text/plain": [
       "Testing: |          | 0/? [00:00<?, ?it/s]"
      ]
     },
     "metadata": {},
     "output_type": "display_data"
    },
    {
     "data": {
      "text/html": [
       "<pre style=\"white-space:pre;overflow-x:auto;line-height:normal;font-family:Menlo,'DejaVu Sans Mono',consolas,'Courier New',monospace\">┏━━━━━━━━━━━━━━━━━━━━━━━━━━━┳━━━━━━━━━━━━━━━━━━━━━━━━━━━┓\n",
       "┃<span style=\"font-weight: bold\">        Test metric        </span>┃<span style=\"font-weight: bold\">       DataLoader 0        </span>┃\n",
       "┡━━━━━━━━━━━━━━━━━━━━━━━━━━━╇━━━━━━━━━━━━━━━━━━━━━━━━━━━┩\n",
       "│<span style=\"color: #008080; text-decoration-color: #008080\">         test_loss         </span>│<span style=\"color: #800080; text-decoration-color: #800080\">    0.31538236141204834    </span>│\n",
       "│<span style=\"color: #008080; text-decoration-color: #008080\">       test_loss_mse       </span>│<span style=\"color: #800080; text-decoration-color: #800080\">    0.31538236141204834    </span>│\n",
       "└───────────────────────────┴───────────────────────────┘\n",
       "</pre>\n"
      ],
      "text/plain": [
       "┏━━━━━━━━━━━━━━━━━━━━━━━━━━━┳━━━━━━━━━━━━━━━━━━━━━━━━━━━┓\n",
       "┃\u001b[1m \u001b[0m\u001b[1m       Test metric       \u001b[0m\u001b[1m \u001b[0m┃\u001b[1m \u001b[0m\u001b[1m      DataLoader 0       \u001b[0m\u001b[1m \u001b[0m┃\n",
       "┡━━━━━━━━━━━━━━━━━━━━━━━━━━━╇━━━━━━━━━━━━━━━━━━━━━━━━━━━┩\n",
       "│\u001b[36m \u001b[0m\u001b[36m        test_loss        \u001b[0m\u001b[36m \u001b[0m│\u001b[35m \u001b[0m\u001b[35m   0.31538236141204834   \u001b[0m\u001b[35m \u001b[0m│\n",
       "│\u001b[36m \u001b[0m\u001b[36m      test_loss_mse      \u001b[0m\u001b[36m \u001b[0m│\u001b[35m \u001b[0m\u001b[35m   0.31538236141204834   \u001b[0m\u001b[35m \u001b[0m│\n",
       "└───────────────────────────┴───────────────────────────┘\n"
      ]
     },
     "metadata": {},
     "output_type": "display_data"
    },
    {
     "name": "stderr",
     "output_type": "stream",
     "text": [
      "TEST Profiler Report\n",
      "\n",
      "--------------------------------------------------------------------------------------------------------------------------------------------------------------------------------------------------------------------------------------------------------------------------\n",
      "|  Action                                                                                                                                                         \t|  Mean duration (s)\t|  Num calls      \t|  Total time (s) \t|  Percentage %   \t|\n",
      "--------------------------------------------------------------------------------------------------------------------------------------------------------------------------------------------------------------------------------------------------------------------------\n",
      "|  Total                                                                                                                                                          \t|  -              \t|  184            \t|  1.529          \t|  100 %          \t|\n",
      "--------------------------------------------------------------------------------------------------------------------------------------------------------------------------------------------------------------------------------------------------------------------------\n",
      "|  [Strategy]SingleDeviceStrategy.test_step                                                                                                                       \t|  0.047876       \t|  11             \t|  0.52664        \t|  34.444         \t|\n",
      "|  [_EvaluationLoop].test_next                                                                                                                                    \t|  0.0067561      \t|  11             \t|  0.074317       \t|  4.8605         \t|\n",
      "|  [Strategy]SingleDeviceStrategy.batch_to_device                                                                                                                 \t|  0.0057517      \t|  11             \t|  0.063269       \t|  4.1379         \t|\n",
      "|  [LightningModule]MonetDense.transfer_batch_to_device                                                                                                           \t|  0.005686       \t|  11             \t|  0.062546       \t|  4.0907         \t|\n",
      "|  [Callback]TQDMProgressBar.on_test_start                                                                                                                        \t|  0.016991       \t|  1              \t|  0.016991       \t|  1.1113         \t|\n",
      "|  [Callback]TQDMProgressBar.on_test_batch_end                                                                                                                    \t|  0.00074185     \t|  11             \t|  0.0081603      \t|  0.53371        \t|\n",
      "|  [Callback]TQDMProgressBar.on_test_batch_start                                                                                                                  \t|  9.2745e-05     \t|  11             \t|  0.0010202      \t|  0.066723       \t|\n",
      "|  [LightningModule]MonetDense.on_test_model_eval                                                                                                                 \t|  0.00054031     \t|  1              \t|  0.00054031     \t|  0.035337       \t|\n",
      "|  [Callback]TQDMProgressBar.on_test_end                                                                                                                          \t|  0.00053303     \t|  1              \t|  0.00053303     \t|  0.034861       \t|\n",
      "|  [LightningModule]MonetDense.on_test_model_train                                                                                                                \t|  0.00015168     \t|  1              \t|  0.00015168     \t|  0.00992        \t|\n",
      "|  [Callback]ModelCheckpoint{'monitor': 'val_loss', 'mode': 'min', 'every_n_train_steps': 0, 'every_n_epochs': 1, 'train_time_interval': None}.setup              \t|  6.9338e-05     \t|  1              \t|  6.9338e-05     \t|  0.0045349      \t|\n",
      "|  [Callback]ModelSummary.on_test_batch_end                                                                                                                       \t|  4.2855e-06     \t|  11             \t|  4.714e-05      \t|  0.0030831      \t|\n",
      "|  [LightningModule]MonetDense.on_test_batch_end                                                                                                                  \t|  3.3344e-06     \t|  11             \t|  3.6678e-05     \t|  0.0023988      \t|\n",
      "|  [Callback]ModelSummary.on_test_batch_start                                                                                                                     \t|  2.1908e-06     \t|  11             \t|  2.4099e-05     \t|  0.0015761      \t|\n",
      "|  [LightningModule]MonetDense.on_before_batch_transfer                                                                                                           \t|  1.9593e-06     \t|  11             \t|  2.1552e-05     \t|  0.0014096      \t|\n",
      "|  [LightningModule]MonetDense.on_after_batch_transfer                                                                                                            \t|  1.8579e-06     \t|  11             \t|  2.0437e-05     \t|  0.0013366      \t|\n",
      "|  [Callback]ModelCheckpoint{'monitor': 'val_loss', 'mode': 'min', 'every_n_train_steps': 0, 'every_n_epochs': 1, 'train_time_interval': None}.on_test_batch_end  \t|  1.6585e-06     \t|  11             \t|  1.8243e-05     \t|  0.0011931      \t|\n",
      "|  [Callback]ModelSummary.on_test_start                                                                                                                           \t|  1.7626e-05     \t|  1              \t|  1.7626e-05     \t|  0.0011528      \t|\n",
      "|  [Callback]ModelCheckpoint{'monitor': 'val_loss', 'mode': 'min', 'every_n_train_steps': 0, 'every_n_epochs': 1, 'train_time_interval': None}.on_test_batch_start\t|  1.5067e-06     \t|  11             \t|  1.6574e-05     \t|  0.001084       \t|\n",
      "|  [LightningModule]MonetDense.on_test_batch_start                                                                                                                \t|  1.1622e-06     \t|  11             \t|  1.2784e-05     \t|  0.00083611     \t|\n",
      "|  [LightningModule]MonetDense.on_test_epoch_start                                                                                                                \t|  1.1443e-05     \t|  1              \t|  1.1443e-05     \t|  0.0007484      \t|\n",
      "|  [Callback]TQDMProgressBar.setup                                                                                                                                \t|  8.717e-06      \t|  1              \t|  8.717e-06      \t|  0.00057012     \t|\n",
      "|  [Strategy]SingleDeviceStrategy.on_test_end                                                                                                                     \t|  6.513e-06      \t|  1              \t|  6.513e-06      \t|  0.00042597     \t|\n",
      "|  [Strategy]SingleDeviceStrategy.on_test_start                                                                                                                   \t|  5.063e-06      \t|  1              \t|  5.063e-06      \t|  0.00033113     \t|\n",
      "|  [LightningModule]MonetDense.configure_callbacks                                                                                                                \t|  4.837e-06      \t|  1              \t|  4.837e-06      \t|  0.00031635     \t|\n",
      "|  [Callback]TQDMProgressBar.teardown                                                                                                                             \t|  4.814e-06      \t|  1              \t|  4.814e-06      \t|  0.00031485     \t|\n",
      "|  [Callback]ModelSummary.on_test_end                                                                                                                             \t|  2.916e-06      \t|  1              \t|  2.916e-06      \t|  0.00019071     \t|\n",
      "|  [Callback]TQDMProgressBar.on_test_epoch_end                                                                                                                    \t|  2.883e-06      \t|  1              \t|  2.883e-06      \t|  0.00018856     \t|\n",
      "|  [Callback]ModelSummary.setup                                                                                                                                   \t|  2.344e-06      \t|  1              \t|  2.344e-06      \t|  0.0001533      \t|\n",
      "|  [Callback]ModelCheckpoint{'monitor': 'val_loss', 'mode': 'min', 'every_n_train_steps': 0, 'every_n_epochs': 1, 'train_time_interval': None}.on_test_start      \t|  1.932e-06      \t|  1              \t|  1.932e-06      \t|  0.00012636     \t|\n",
      "|  [Callback]TQDMProgressBar.on_test_epoch_start                                                                                                                  \t|  1.9e-06        \t|  1              \t|  1.9e-06        \t|  0.00012427     \t|\n",
      "|  [Callback]ModelSummary.teardown                                                                                                                                \t|  1.589e-06      \t|  1              \t|  1.589e-06      \t|  0.00010393     \t|\n",
      "|  [LightningModule]MonetDense.setup                                                                                                                              \t|  1.554e-06      \t|  1              \t|  1.554e-06      \t|  0.00010164     \t|\n",
      "|  [LightningModule]MonetDense.prepare_data                                                                                                                       \t|  1.54e-06       \t|  1              \t|  1.54e-06       \t|  0.00010072     \t|\n",
      "|  [Callback]ModelSummary.on_test_epoch_end                                                                                                                       \t|  1.502e-06      \t|  1              \t|  1.502e-06      \t|  9.8236e-05     \t|\n",
      "|  [Callback]ModelCheckpoint{'monitor': 'val_loss', 'mode': 'min', 'every_n_train_steps': 0, 'every_n_epochs': 1, 'train_time_interval': None}.teardown           \t|  1.502e-06      \t|  1              \t|  1.502e-06      \t|  9.8234e-05     \t|\n",
      "|  [LightningModule]MonetDense.teardown                                                                                                                           \t|  1.485e-06      \t|  1              \t|  1.485e-06      \t|  9.7123e-05     \t|\n",
      "|  [Callback]ModelCheckpoint{'monitor': 'val_loss', 'mode': 'min', 'every_n_train_steps': 0, 'every_n_epochs': 1, 'train_time_interval': None}.on_test_end        \t|  1.448e-06      \t|  1              \t|  1.448e-06      \t|  9.4703e-05     \t|\n",
      "|  [Callback]ModelSummary.on_test_epoch_start                                                                                                                     \t|  1.4e-06        \t|  1              \t|  1.4e-06        \t|  9.1563e-05     \t|\n",
      "|  [Callback]ModelCheckpoint{'monitor': 'val_loss', 'mode': 'min', 'every_n_train_steps': 0, 'every_n_epochs': 1, 'train_time_interval': None}.on_test_epoch_start\t|  1.395e-06      \t|  1              \t|  1.395e-06      \t|  9.1237e-05     \t|\n",
      "|  [LightningModule]MonetDense.on_test_start                                                                                                                      \t|  1.393e-06      \t|  1              \t|  1.393e-06      \t|  9.1106e-05     \t|\n",
      "|  [Callback]ModelCheckpoint{'monitor': 'val_loss', 'mode': 'min', 'every_n_train_steps': 0, 'every_n_epochs': 1, 'train_time_interval': None}.on_test_epoch_end  \t|  1.26e-06       \t|  1              \t|  1.26e-06       \t|  8.2407e-05     \t|\n",
      "|  [LightningModule]MonetDense.on_test_end                                                                                                                        \t|  1.063e-06      \t|  1              \t|  1.063e-06      \t|  6.9522e-05     \t|\n",
      "|  [LightningModule]MonetDense.on_test_epoch_end                                                                                                                  \t|  9.1101e-07     \t|  1              \t|  9.1101e-07     \t|  5.9582e-05     \t|\n",
      "--------------------------------------------------------------------------------------------------------------------------------------------------------------------------------------------------------------------------------------------------------------------------\n",
      "\n"
     ]
    },
    {
     "name": "stdout",
     "output_type": "stream",
     "text": [
      "MonetDense__[512, 512, 512, 512]__10__16__XENIUM__Adam__NUM_SPLITS=3\n",
      "There are 64 graph splits for the Xenium Dataset.\n"
     ]
    },
    {
     "name": "stderr",
     "output_type": "stream",
     "text": [
      "GPU available: True (cuda), used: True\n",
      "TPU available: False, using: 0 TPU cores\n",
      "IPU available: False, using: 0 IPUs\n",
      "HPU available: False, using: 0 HPUs\n",
      "`Trainer(limit_train_batches=1.0)` was configured so 100% of the batches per epoch will be used..\n",
      "`Trainer(limit_val_batches=1.0)` was configured so 100% of the batches will be used..\n",
      "LOCAL_RANK: 0 - CUDA_VISIBLE_DEVICES: [4,5,6]\n"
     ]
    },
    {
     "name": "stdout",
     "output_type": "stream",
     "text": [
      "The number of parameters for radius 16 is 10967684\n"
     ]
    },
    {
     "data": {
      "application/vnd.jupyter.widget-view+json": {
       "model_id": "c42db1734a3343bc946cdc344c6465ee",
       "version_major": 2,
       "version_minor": 0
      },
      "text/plain": [
       "Testing: |          | 0/? [00:00<?, ?it/s]"
      ]
     },
     "metadata": {},
     "output_type": "display_data"
    },
    {
     "data": {
      "text/html": [
       "<pre style=\"white-space:pre;overflow-x:auto;line-height:normal;font-family:Menlo,'DejaVu Sans Mono',consolas,'Courier New',monospace\">┏━━━━━━━━━━━━━━━━━━━━━━━━━━━┳━━━━━━━━━━━━━━━━━━━━━━━━━━━┓\n",
       "┃<span style=\"font-weight: bold\">        Test metric        </span>┃<span style=\"font-weight: bold\">       DataLoader 0        </span>┃\n",
       "┡━━━━━━━━━━━━━━━━━━━━━━━━━━━╇━━━━━━━━━━━━━━━━━━━━━━━━━━━┩\n",
       "│<span style=\"color: #008080; text-decoration-color: #008080\">         test_loss         </span>│<span style=\"color: #800080; text-decoration-color: #800080\">    0.34191134572029114    </span>│\n",
       "│<span style=\"color: #008080; text-decoration-color: #008080\">       test_loss_mse       </span>│<span style=\"color: #800080; text-decoration-color: #800080\">    0.34191134572029114    </span>│\n",
       "└───────────────────────────┴───────────────────────────┘\n",
       "</pre>\n"
      ],
      "text/plain": [
       "┏━━━━━━━━━━━━━━━━━━━━━━━━━━━┳━━━━━━━━━━━━━━━━━━━━━━━━━━━┓\n",
       "┃\u001b[1m \u001b[0m\u001b[1m       Test metric       \u001b[0m\u001b[1m \u001b[0m┃\u001b[1m \u001b[0m\u001b[1m      DataLoader 0       \u001b[0m\u001b[1m \u001b[0m┃\n",
       "┡━━━━━━━━━━━━━━━━━━━━━━━━━━━╇━━━━━━━━━━━━━━━━━━━━━━━━━━━┩\n",
       "│\u001b[36m \u001b[0m\u001b[36m        test_loss        \u001b[0m\u001b[36m \u001b[0m│\u001b[35m \u001b[0m\u001b[35m   0.34191134572029114   \u001b[0m\u001b[35m \u001b[0m│\n",
       "│\u001b[36m \u001b[0m\u001b[36m      test_loss_mse      \u001b[0m\u001b[36m \u001b[0m│\u001b[35m \u001b[0m\u001b[35m   0.34191134572029114   \u001b[0m\u001b[35m \u001b[0m│\n",
       "└───────────────────────────┴───────────────────────────┘\n"
      ]
     },
     "metadata": {},
     "output_type": "display_data"
    },
    {
     "name": "stderr",
     "output_type": "stream",
     "text": [
      "TEST Profiler Report\n",
      "\n",
      "--------------------------------------------------------------------------------------------------------------------------------------------------------------------------------------------------------------------------------------------------------------------------\n",
      "|  Action                                                                                                                                                         \t|  Mean duration (s)\t|  Num calls      \t|  Total time (s) \t|  Percentage %   \t|\n",
      "--------------------------------------------------------------------------------------------------------------------------------------------------------------------------------------------------------------------------------------------------------------------------\n",
      "|  Total                                                                                                                                                          \t|  -              \t|  184            \t|  1.6089         \t|  100 %          \t|\n",
      "--------------------------------------------------------------------------------------------------------------------------------------------------------------------------------------------------------------------------------------------------------------------------\n",
      "|  [Strategy]SingleDeviceStrategy.test_step                                                                                                                       \t|  0.064786       \t|  11             \t|  0.71265        \t|  44.294         \t|\n",
      "|  [_EvaluationLoop].test_next                                                                                                                                    \t|  0.0044221      \t|  11             \t|  0.048643       \t|  3.0233         \t|\n",
      "|  [Strategy]SingleDeviceStrategy.batch_to_device                                                                                                                 \t|  0.0042454      \t|  11             \t|  0.0467         \t|  2.9025         \t|\n",
      "|  [LightningModule]MonetDense.transfer_batch_to_device                                                                                                           \t|  0.0041914      \t|  11             \t|  0.046105       \t|  2.8656         \t|\n",
      "|  [Callback]TQDMProgressBar.on_test_start                                                                                                                        \t|  0.031177       \t|  1              \t|  0.031177       \t|  1.9378         \t|\n",
      "|  [Callback]TQDMProgressBar.on_test_batch_end                                                                                                                    \t|  0.00067305     \t|  11             \t|  0.0074036      \t|  0.46016        \t|\n",
      "|  [Callback]TQDMProgressBar.on_test_batch_start                                                                                                                  \t|  8.5267e-05     \t|  11             \t|  0.00093793     \t|  0.058296       \t|\n",
      "|  [Callback]TQDMProgressBar.on_test_end                                                                                                                          \t|  0.00053555     \t|  1              \t|  0.00053555     \t|  0.033286       \t|\n",
      "|  [LightningModule]MonetDense.on_test_model_eval                                                                                                                 \t|  0.00053492     \t|  1              \t|  0.00053492     \t|  0.033247       \t|\n",
      "|  [LightningModule]MonetDense.on_test_model_train                                                                                                                \t|  0.00014091     \t|  1              \t|  0.00014091     \t|  0.0087578      \t|\n",
      "|  [Callback]ModelCheckpoint{'monitor': 'val_loss', 'mode': 'min', 'every_n_train_steps': 0, 'every_n_epochs': 1, 'train_time_interval': None}.setup              \t|  6.9395e-05     \t|  1              \t|  6.9395e-05     \t|  0.0043131      \t|\n",
      "|  [Callback]ModelSummary.on_test_batch_end                                                                                                                       \t|  4.326e-06      \t|  11             \t|  4.7586e-05     \t|  0.0029576      \t|\n",
      "|  [Callback]ModelSummary.on_test_batch_start                                                                                                                     \t|  2.0464e-06     \t|  11             \t|  2.251e-05      \t|  0.0013991      \t|\n",
      "|  [LightningModule]MonetDense.on_before_batch_transfer                                                                                                           \t|  2.0224e-06     \t|  11             \t|  2.2246e-05     \t|  0.0013827      \t|\n",
      "|  [LightningModule]MonetDense.on_test_batch_end                                                                                                                  \t|  1.9777e-06     \t|  11             \t|  2.1755e-05     \t|  0.0013521      \t|\n",
      "|  [LightningModule]MonetDense.on_test_epoch_start                                                                                                                \t|  1.9678e-05     \t|  1              \t|  1.9678e-05     \t|  0.0012231      \t|\n",
      "|  [Callback]ModelCheckpoint{'monitor': 'val_loss', 'mode': 'min', 'every_n_train_steps': 0, 'every_n_epochs': 1, 'train_time_interval': None}.on_test_batch_end  \t|  1.6267e-06     \t|  11             \t|  1.7894e-05     \t|  0.0011122      \t|\n",
      "|  [LightningModule]MonetDense.on_after_batch_transfer                                                                                                            \t|  1.62e-06       \t|  11             \t|  1.782e-05      \t|  0.0011076      \t|\n",
      "|  [Callback]ModelCheckpoint{'monitor': 'val_loss', 'mode': 'min', 'every_n_train_steps': 0, 'every_n_epochs': 1, 'train_time_interval': None}.on_test_batch_start\t|  1.3671e-06     \t|  11             \t|  1.5038e-05     \t|  0.00093466     \t|\n",
      "|  [Callback]ModelSummary.on_test_start                                                                                                                           \t|  1.3531e-05     \t|  1              \t|  1.3531e-05     \t|  0.000841       \t|\n",
      "|  [LightningModule]MonetDense.on_test_batch_start                                                                                                                \t|  1.1495e-06     \t|  11             \t|  1.2644e-05     \t|  0.00078587     \t|\n",
      "|  [Callback]TQDMProgressBar.setup                                                                                                                                \t|  8.959e-06      \t|  1              \t|  8.959e-06      \t|  0.00055683     \t|\n",
      "|  [Callback]TQDMProgressBar.teardown                                                                                                                             \t|  7.576e-06      \t|  1              \t|  7.576e-06      \t|  0.00047088     \t|\n",
      "|  [Strategy]SingleDeviceStrategy.on_test_end                                                                                                                     \t|  6.045e-06      \t|  1              \t|  6.045e-06      \t|  0.00037572     \t|\n",
      "|  [LightningModule]MonetDense.configure_callbacks                                                                                                                \t|  5.5e-06        \t|  1              \t|  5.5e-06        \t|  0.00034184     \t|\n",
      "|  [Strategy]SingleDeviceStrategy.on_test_start                                                                                                                   \t|  5.445e-06      \t|  1              \t|  5.445e-06      \t|  0.00033843     \t|\n",
      "|  [Callback]ModelSummary.teardown                                                                                                                                \t|  3.322e-06      \t|  1              \t|  3.322e-06      \t|  0.00020647     \t|\n",
      "|  [Callback]ModelCheckpoint{'monitor': 'val_loss', 'mode': 'min', 'every_n_train_steps': 0, 'every_n_epochs': 1, 'train_time_interval': None}.teardown           \t|  3.015e-06      \t|  1              \t|  3.015e-06      \t|  0.00018739     \t|\n",
      "|  [Callback]TQDMProgressBar.on_test_epoch_end                                                                                                                    \t|  2.927e-06      \t|  1              \t|  2.927e-06      \t|  0.00018192     \t|\n",
      "|  [Callback]ModelSummary.on_test_end                                                                                                                             \t|  2.8e-06        \t|  1              \t|  2.8e-06        \t|  0.00017403     \t|\n",
      "|  [LightningModule]MonetDense.teardown                                                                                                                           \t|  2.595e-06      \t|  1              \t|  2.595e-06      \t|  0.00016129     \t|\n",
      "|  [Callback]TQDMProgressBar.on_test_epoch_start                                                                                                                  \t|  2.472e-06      \t|  1              \t|  2.472e-06      \t|  0.00015364     \t|\n",
      "|  [Callback]ModelSummary.setup                                                                                                                                   \t|  2.175e-06      \t|  1              \t|  2.175e-06      \t|  0.00013518     \t|\n",
      "|  [Callback]ModelCheckpoint{'monitor': 'val_loss', 'mode': 'min', 'every_n_train_steps': 0, 'every_n_epochs': 1, 'train_time_interval': None}.on_test_start      \t|  2.129e-06      \t|  1              \t|  2.129e-06      \t|  0.00013232     \t|\n",
      "|  [LightningModule]MonetDense.setup                                                                                                                              \t|  1.741e-06      \t|  1              \t|  1.741e-06      \t|  0.00010821     \t|\n",
      "|  [Callback]ModelCheckpoint{'monitor': 'val_loss', 'mode': 'min', 'every_n_train_steps': 0, 'every_n_epochs': 1, 'train_time_interval': None}.on_test_epoch_start\t|  1.655e-06      \t|  1              \t|  1.655e-06      \t|  0.00010286     \t|\n",
      "|  [LightningModule]MonetDense.on_test_start                                                                                                                      \t|  1.611e-06      \t|  1              \t|  1.611e-06      \t|  0.00010013     \t|\n",
      "|  [Callback]ModelSummary.on_test_epoch_start                                                                                                                     \t|  1.602e-06      \t|  1              \t|  1.602e-06      \t|  9.9569e-05     \t|\n",
      "|  [Callback]ModelCheckpoint{'monitor': 'val_loss', 'mode': 'min', 'every_n_train_steps': 0, 'every_n_epochs': 1, 'train_time_interval': None}.on_test_end        \t|  1.49e-06       \t|  1              \t|  1.49e-06       \t|  9.2609e-05     \t|\n",
      "|  [Callback]ModelSummary.on_test_epoch_end                                                                                                                       \t|  1.39e-06       \t|  1              \t|  1.39e-06       \t|  8.6393e-05     \t|\n",
      "|  [LightningModule]MonetDense.prepare_data                                                                                                                       \t|  1.36e-06       \t|  1              \t|  1.36e-06       \t|  8.4528e-05     \t|\n",
      "|  [Callback]ModelCheckpoint{'monitor': 'val_loss', 'mode': 'min', 'every_n_train_steps': 0, 'every_n_epochs': 1, 'train_time_interval': None}.on_test_epoch_end  \t|  1.162e-06      \t|  1              \t|  1.162e-06      \t|  7.2222e-05     \t|\n",
      "|  [LightningModule]MonetDense.on_test_end                                                                                                                        \t|  1.143e-06      \t|  1              \t|  1.143e-06      \t|  7.1043e-05     \t|\n",
      "|  [LightningModule]MonetDense.on_test_epoch_end                                                                                                                  \t|  9.4299e-07     \t|  1              \t|  9.4299e-07     \t|  5.861e-05      \t|\n",
      "--------------------------------------------------------------------------------------------------------------------------------------------------------------------------------------------------------------------------------------------------------------------------\n",
      "\n"
     ]
    },
    {
     "name": "stdout",
     "output_type": "stream",
     "text": [
      "MonetDense__[512, 512, 512, 512]__10__0__XENIUM__Adam__NUM_SPLITS=3\n",
      "There are 64 graph splits for the Xenium Dataset.\n"
     ]
    },
    {
     "name": "stderr",
     "output_type": "stream",
     "text": [
      "GPU available: True (cuda), used: True\n",
      "TPU available: False, using: 0 TPU cores\n",
      "IPU available: False, using: 0 IPUs\n",
      "HPU available: False, using: 0 HPUs\n",
      "`Trainer(limit_train_batches=1.0)` was configured so 100% of the batches per epoch will be used..\n",
      "`Trainer(limit_val_batches=1.0)` was configured so 100% of the batches will be used..\n",
      "LOCAL_RANK: 0 - CUDA_VISIBLE_DEVICES: [4,5,6]\n"
     ]
    },
    {
     "name": "stdout",
     "output_type": "stream",
     "text": [
      "The number of parameters for radius 0 is 10967684\n"
     ]
    },
    {
     "data": {
      "application/vnd.jupyter.widget-view+json": {
       "model_id": "e79534383c73409f901a73c2bde9f658",
       "version_major": 2,
       "version_minor": 0
      },
      "text/plain": [
       "Testing: |          | 0/? [00:00<?, ?it/s]"
      ]
     },
     "metadata": {},
     "output_type": "display_data"
    },
    {
     "data": {
      "text/html": [
       "<pre style=\"white-space:pre;overflow-x:auto;line-height:normal;font-family:Menlo,'DejaVu Sans Mono',consolas,'Courier New',monospace\">┏━━━━━━━━━━━━━━━━━━━━━━━━━━━┳━━━━━━━━━━━━━━━━━━━━━━━━━━━┓\n",
       "┃<span style=\"font-weight: bold\">        Test metric        </span>┃<span style=\"font-weight: bold\">       DataLoader 0        </span>┃\n",
       "┡━━━━━━━━━━━━━━━━━━━━━━━━━━━╇━━━━━━━━━━━━━━━━━━━━━━━━━━━┩\n",
       "│<span style=\"color: #008080; text-decoration-color: #008080\">         test_loss         </span>│<span style=\"color: #800080; text-decoration-color: #800080\">    0.3183799982070923     </span>│\n",
       "│<span style=\"color: #008080; text-decoration-color: #008080\">       test_loss_mse       </span>│<span style=\"color: #800080; text-decoration-color: #800080\">    0.3183799982070923     </span>│\n",
       "└───────────────────────────┴───────────────────────────┘\n",
       "</pre>\n"
      ],
      "text/plain": [
       "┏━━━━━━━━━━━━━━━━━━━━━━━━━━━┳━━━━━━━━━━━━━━━━━━━━━━━━━━━┓\n",
       "┃\u001b[1m \u001b[0m\u001b[1m       Test metric       \u001b[0m\u001b[1m \u001b[0m┃\u001b[1m \u001b[0m\u001b[1m      DataLoader 0       \u001b[0m\u001b[1m \u001b[0m┃\n",
       "┡━━━━━━━━━━━━━━━━━━━━━━━━━━━╇━━━━━━━━━━━━━━━━━━━━━━━━━━━┩\n",
       "│\u001b[36m \u001b[0m\u001b[36m        test_loss        \u001b[0m\u001b[36m \u001b[0m│\u001b[35m \u001b[0m\u001b[35m   0.3183799982070923    \u001b[0m\u001b[35m \u001b[0m│\n",
       "│\u001b[36m \u001b[0m\u001b[36m      test_loss_mse      \u001b[0m\u001b[36m \u001b[0m│\u001b[35m \u001b[0m\u001b[35m   0.3183799982070923    \u001b[0m\u001b[35m \u001b[0m│\n",
       "└───────────────────────────┴───────────────────────────┘\n"
      ]
     },
     "metadata": {},
     "output_type": "display_data"
    },
    {
     "name": "stderr",
     "output_type": "stream",
     "text": [
      "TEST Profiler Report\n",
      "\n",
      "--------------------------------------------------------------------------------------------------------------------------------------------------------------------------------------------------------------------------------------------------------------------------\n",
      "|  Action                                                                                                                                                         \t|  Mean duration (s)\t|  Num calls      \t|  Total time (s) \t|  Percentage %   \t|\n",
      "--------------------------------------------------------------------------------------------------------------------------------------------------------------------------------------------------------------------------------------------------------------------------\n",
      "|  Total                                                                                                                                                          \t|  -              \t|  184            \t|  1.4376         \t|  100 %          \t|\n",
      "--------------------------------------------------------------------------------------------------------------------------------------------------------------------------------------------------------------------------------------------------------------------------\n",
      "|  [Strategy]SingleDeviceStrategy.test_step                                                                                                                       \t|  0.046331       \t|  11             \t|  0.50965        \t|  35.45          \t|\n",
      "|  [Strategy]SingleDeviceStrategy.batch_to_device                                                                                                                 \t|  0.0060688      \t|  11             \t|  0.066757       \t|  4.6435         \t|\n",
      "|  [LightningModule]MonetDense.transfer_batch_to_device                                                                                                           \t|  0.0060043      \t|  11             \t|  0.066048       \t|  4.5941         \t|\n",
      "|  [_EvaluationLoop].test_next                                                                                                                                    \t|  0.0049852      \t|  11             \t|  0.054838       \t|  3.8144         \t|\n",
      "|  [Callback]TQDMProgressBar.on_test_start                                                                                                                        \t|  0.021975       \t|  1              \t|  0.021975       \t|  1.5285         \t|\n",
      "|  [Callback]TQDMProgressBar.on_test_batch_end                                                                                                                    \t|  0.00063678     \t|  11             \t|  0.0070046      \t|  0.48723        \t|\n",
      "|  [Callback]TQDMProgressBar.on_test_batch_start                                                                                                                  \t|  0.00010464     \t|  11             \t|  0.0011511      \t|  0.080065       \t|\n",
      "|  [LightningModule]MonetDense.on_test_model_eval                                                                                                                 \t|  0.0005664      \t|  1              \t|  0.0005664      \t|  0.039398       \t|\n",
      "|  [Callback]TQDMProgressBar.on_test_end                                                                                                                          \t|  0.00048486     \t|  1              \t|  0.00048486     \t|  0.033726       \t|\n",
      "|  [LightningModule]MonetDense.on_test_model_train                                                                                                                \t|  0.00013962     \t|  1              \t|  0.00013962     \t|  0.0097119      \t|\n",
      "|  [Callback]ModelCheckpoint{'monitor': 'val_loss', 'mode': 'min', 'every_n_train_steps': 0, 'every_n_epochs': 1, 'train_time_interval': None}.setup              \t|  6.7825e-05     \t|  1              \t|  6.7825e-05     \t|  0.0047178      \t|\n",
      "|  [Callback]ModelSummary.on_test_batch_end                                                                                                                       \t|  3.274e-06      \t|  11             \t|  3.6014e-05     \t|  0.0025051      \t|\n",
      "|  [Callback]ModelSummary.on_test_batch_start                                                                                                                     \t|  1.8498e-06     \t|  11             \t|  2.0348e-05     \t|  0.0014154      \t|\n",
      "|  [LightningModule]MonetDense.on_before_batch_transfer                                                                                                           \t|  1.7846e-06     \t|  11             \t|  1.9631e-05     \t|  0.0013655      \t|\n",
      "|  [LightningModule]MonetDense.on_after_batch_transfer                                                                                                            \t|  1.6373e-06     \t|  11             \t|  1.801e-05      \t|  0.0012527      \t|\n",
      "|  [Callback]ModelCheckpoint{'monitor': 'val_loss', 'mode': 'min', 'every_n_train_steps': 0, 'every_n_epochs': 1, 'train_time_interval': None}.on_test_batch_end  \t|  1.5053e-06     \t|  11             \t|  1.6558e-05     \t|  0.0011517      \t|\n",
      "|  [LightningModule]MonetDense.on_test_batch_end                                                                                                                  \t|  1.4311e-06     \t|  11             \t|  1.5742e-05     \t|  0.001095       \t|\n",
      "|  [Callback]ModelCheckpoint{'monitor': 'val_loss', 'mode': 'min', 'every_n_train_steps': 0, 'every_n_epochs': 1, 'train_time_interval': None}.on_test_batch_start\t|  1.277e-06      \t|  11             \t|  1.4047e-05     \t|  0.00097708     \t|\n",
      "|  [Callback]ModelSummary.on_test_start                                                                                                                           \t|  1.172e-05      \t|  1              \t|  1.172e-05      \t|  0.00081522     \t|\n",
      "|  [LightningModule]MonetDense.on_test_batch_start                                                                                                                \t|  1.0537e-06     \t|  11             \t|  1.1591e-05     \t|  0.00080625     \t|\n",
      "|  [LightningModule]MonetDense.on_test_epoch_start                                                                                                                \t|  1.0657e-05     \t|  1              \t|  1.0657e-05     \t|  0.00074128     \t|\n",
      "|  [Callback]TQDMProgressBar.setup                                                                                                                                \t|  8.648e-06      \t|  1              \t|  8.648e-06      \t|  0.00060154     \t|\n",
      "|  [Strategy]SingleDeviceStrategy.on_test_start                                                                                                                   \t|  6.993e-06      \t|  1              \t|  6.993e-06      \t|  0.00048642     \t|\n",
      "|  [Strategy]SingleDeviceStrategy.on_test_end                                                                                                                     \t|  4.862e-06      \t|  1              \t|  4.862e-06      \t|  0.00033819     \t|\n",
      "|  [Callback]TQDMProgressBar.teardown                                                                                                                             \t|  4.061e-06      \t|  1              \t|  4.061e-06      \t|  0.00028248     \t|\n",
      "|  [LightningModule]MonetDense.configure_callbacks                                                                                                                \t|  2.797e-06      \t|  1              \t|  2.797e-06      \t|  0.00019455     \t|\n",
      "|  [Callback]TQDMProgressBar.on_test_epoch_end                                                                                                                    \t|  2.667e-06      \t|  1              \t|  2.667e-06      \t|  0.00018551     \t|\n",
      "|  [Callback]ModelSummary.setup                                                                                                                                   \t|  2.348e-06      \t|  1              \t|  2.348e-06      \t|  0.00016332     \t|\n",
      "|  [Callback]ModelSummary.on_test_end                                                                                                                             \t|  2.342e-06      \t|  1              \t|  2.342e-06      \t|  0.00016291     \t|\n",
      "|  [Callback]TQDMProgressBar.on_test_epoch_start                                                                                                                  \t|  2.146e-06      \t|  1              \t|  2.146e-06      \t|  0.00014927     \t|\n",
      "|  [Callback]ModelCheckpoint{'monitor': 'val_loss', 'mode': 'min', 'every_n_train_steps': 0, 'every_n_epochs': 1, 'train_time_interval': None}.on_test_start      \t|  2.067e-06      \t|  1              \t|  2.067e-06      \t|  0.00014378     \t|\n",
      "|  [LightningModule]MonetDense.on_test_start                                                                                                                      \t|  1.788e-06      \t|  1              \t|  1.788e-06      \t|  0.00012437     \t|\n",
      "|  [Callback]ModelSummary.on_test_epoch_start                                                                                                                     \t|  1.665e-06      \t|  1              \t|  1.665e-06      \t|  0.00011581     \t|\n",
      "|  [Callback]ModelCheckpoint{'monitor': 'val_loss', 'mode': 'min', 'every_n_train_steps': 0, 'every_n_epochs': 1, 'train_time_interval': None}.on_test_epoch_start\t|  1.619e-06      \t|  1              \t|  1.619e-06      \t|  0.00011262     \t|\n",
      "|  [Callback]ModelSummary.teardown                                                                                                                                \t|  1.603e-06      \t|  1              \t|  1.603e-06      \t|  0.0001115      \t|\n",
      "|  [LightningModule]MonetDense.setup                                                                                                                              \t|  1.508e-06      \t|  1              \t|  1.508e-06      \t|  0.00010489     \t|\n",
      "|  [LightningModule]MonetDense.teardown                                                                                                                           \t|  1.46e-06       \t|  1              \t|  1.46e-06       \t|  0.00010155     \t|\n",
      "|  [LightningModule]MonetDense.on_test_end                                                                                                                        \t|  1.4e-06        \t|  1              \t|  1.4e-06        \t|  9.738e-05      \t|\n",
      "|  [LightningModule]MonetDense.prepare_data                                                                                                                       \t|  1.326e-06      \t|  1              \t|  1.326e-06      \t|  9.2234e-05     \t|\n",
      "|  [Callback]ModelCheckpoint{'monitor': 'val_loss', 'mode': 'min', 'every_n_train_steps': 0, 'every_n_epochs': 1, 'train_time_interval': None}.on_test_end        \t|  1.243e-06      \t|  1              \t|  1.243e-06      \t|  8.646e-05      \t|\n",
      "|  [Callback]ModelCheckpoint{'monitor': 'val_loss', 'mode': 'min', 'every_n_train_steps': 0, 'every_n_epochs': 1, 'train_time_interval': None}.teardown           \t|  1.222e-06      \t|  1              \t|  1.222e-06      \t|  8.4999e-05     \t|\n",
      "|  [Callback]ModelSummary.on_test_epoch_end                                                                                                                       \t|  1.109e-06      \t|  1              \t|  1.109e-06      \t|  7.714e-05      \t|\n",
      "|  [LightningModule]MonetDense.on_test_epoch_end                                                                                                                  \t|  1.039e-06      \t|  1              \t|  1.039e-06      \t|  7.2271e-05     \t|\n",
      "|  [Callback]ModelCheckpoint{'monitor': 'val_loss', 'mode': 'min', 'every_n_train_steps': 0, 'every_n_epochs': 1, 'train_time_interval': None}.on_test_epoch_end  \t|  9.2998e-07     \t|  1              \t|  9.2998e-07     \t|  6.4688e-05     \t|\n",
      "--------------------------------------------------------------------------------------------------------------------------------------------------------------------------------------------------------------------------------------------------------------------------\n",
      "\n"
     ]
    },
    {
     "name": "stdout",
     "output_type": "stream",
     "text": [
      "MonetDense__[512, 512, 512, 512]__10__7__XENIUM__Adam__NUM_SPLITS=3\n",
      "There are 64 graph splits for the Xenium Dataset.\n"
     ]
    },
    {
     "name": "stderr",
     "output_type": "stream",
     "text": [
      "GPU available: True (cuda), used: True\n",
      "TPU available: False, using: 0 TPU cores\n",
      "IPU available: False, using: 0 IPUs\n",
      "HPU available: False, using: 0 HPUs\n",
      "`Trainer(limit_train_batches=1.0)` was configured so 100% of the batches per epoch will be used..\n",
      "`Trainer(limit_val_batches=1.0)` was configured so 100% of the batches will be used..\n",
      "LOCAL_RANK: 0 - CUDA_VISIBLE_DEVICES: [4,5,6]\n"
     ]
    },
    {
     "name": "stdout",
     "output_type": "stream",
     "text": [
      "The number of parameters for radius 7 is 10967684\n"
     ]
    },
    {
     "data": {
      "application/vnd.jupyter.widget-view+json": {
       "model_id": "23a2ecf50c614df798eebfed9d0b3786",
       "version_major": 2,
       "version_minor": 0
      },
      "text/plain": [
       "Testing: |          | 0/? [00:00<?, ?it/s]"
      ]
     },
     "metadata": {},
     "output_type": "display_data"
    },
    {
     "data": {
      "text/html": [
       "<pre style=\"white-space:pre;overflow-x:auto;line-height:normal;font-family:Menlo,'DejaVu Sans Mono',consolas,'Courier New',monospace\">┏━━━━━━━━━━━━━━━━━━━━━━━━━━━┳━━━━━━━━━━━━━━━━━━━━━━━━━━━┓\n",
       "┃<span style=\"font-weight: bold\">        Test metric        </span>┃<span style=\"font-weight: bold\">       DataLoader 0        </span>┃\n",
       "┡━━━━━━━━━━━━━━━━━━━━━━━━━━━╇━━━━━━━━━━━━━━━━━━━━━━━━━━━┩\n",
       "│<span style=\"color: #008080; text-decoration-color: #008080\">         test_loss         </span>│<span style=\"color: #800080; text-decoration-color: #800080\">    0.3166100084781647     </span>│\n",
       "│<span style=\"color: #008080; text-decoration-color: #008080\">       test_loss_mse       </span>│<span style=\"color: #800080; text-decoration-color: #800080\">    0.3166100084781647     </span>│\n",
       "└───────────────────────────┴───────────────────────────┘\n",
       "</pre>\n"
      ],
      "text/plain": [
       "┏━━━━━━━━━━━━━━━━━━━━━━━━━━━┳━━━━━━━━━━━━━━━━━━━━━━━━━━━┓\n",
       "┃\u001b[1m \u001b[0m\u001b[1m       Test metric       \u001b[0m\u001b[1m \u001b[0m┃\u001b[1m \u001b[0m\u001b[1m      DataLoader 0       \u001b[0m\u001b[1m \u001b[0m┃\n",
       "┡━━━━━━━━━━━━━━━━━━━━━━━━━━━╇━━━━━━━━━━━━━━━━━━━━━━━━━━━┩\n",
       "│\u001b[36m \u001b[0m\u001b[36m        test_loss        \u001b[0m\u001b[36m \u001b[0m│\u001b[35m \u001b[0m\u001b[35m   0.3166100084781647    \u001b[0m\u001b[35m \u001b[0m│\n",
       "│\u001b[36m \u001b[0m\u001b[36m      test_loss_mse      \u001b[0m\u001b[36m \u001b[0m│\u001b[35m \u001b[0m\u001b[35m   0.3166100084781647    \u001b[0m\u001b[35m \u001b[0m│\n",
       "└───────────────────────────┴───────────────────────────┘\n"
      ]
     },
     "metadata": {},
     "output_type": "display_data"
    },
    {
     "name": "stderr",
     "output_type": "stream",
     "text": [
      "TEST Profiler Report\n",
      "\n",
      "--------------------------------------------------------------------------------------------------------------------------------------------------------------------------------------------------------------------------------------------------------------------------\n",
      "|  Action                                                                                                                                                         \t|  Mean duration (s)\t|  Num calls      \t|  Total time (s) \t|  Percentage %   \t|\n",
      "--------------------------------------------------------------------------------------------------------------------------------------------------------------------------------------------------------------------------------------------------------------------------\n",
      "|  Total                                                                                                                                                          \t|  -              \t|  184            \t|  1.4179         \t|  100 %          \t|\n",
      "--------------------------------------------------------------------------------------------------------------------------------------------------------------------------------------------------------------------------------------------------------------------------\n",
      "|  [Strategy]SingleDeviceStrategy.test_step                                                                                                                       \t|  0.042392       \t|  11             \t|  0.46631        \t|  32.888         \t|\n",
      "|  [Strategy]SingleDeviceStrategy.batch_to_device                                                                                                                 \t|  0.005          \t|  11             \t|  0.055          \t|  3.8791         \t|\n",
      "|  [_EvaluationLoop].test_next                                                                                                                                    \t|  0.0049839      \t|  11             \t|  0.054823       \t|  3.8666         \t|\n",
      "|  [LightningModule]MonetDense.transfer_batch_to_device                                                                                                           \t|  0.0049353      \t|  11             \t|  0.054289       \t|  3.8289         \t|\n",
      "|  [Callback]TQDMProgressBar.on_test_start                                                                                                                        \t|  0.02921        \t|  1              \t|  0.02921        \t|  2.0602         \t|\n",
      "|  [Callback]TQDMProgressBar.on_test_batch_end                                                                                                                    \t|  0.00075343     \t|  11             \t|  0.0082877      \t|  0.58453        \t|\n",
      "|  [Callback]TQDMProgressBar.on_test_batch_start                                                                                                                  \t|  0.00017208     \t|  11             \t|  0.0018929      \t|  0.13351        \t|\n",
      "|  [LightningModule]MonetDense.on_test_model_eval                                                                                                                 \t|  0.00055403     \t|  1              \t|  0.00055403     \t|  0.039075       \t|\n",
      "|  [Callback]TQDMProgressBar.on_test_end                                                                                                                          \t|  0.00054881     \t|  1              \t|  0.00054881     \t|  0.038707       \t|\n",
      "|  [LightningModule]MonetDense.on_test_model_train                                                                                                                \t|  0.00014911     \t|  1              \t|  0.00014911     \t|  0.010516       \t|\n",
      "|  [Callback]ModelCheckpoint{'monitor': 'val_loss', 'mode': 'min', 'every_n_train_steps': 0, 'every_n_epochs': 1, 'train_time_interval': None}.setup              \t|  9.6405e-05     \t|  1              \t|  9.6405e-05     \t|  0.0067993      \t|\n",
      "|  [Callback]ModelSummary.on_test_batch_end                                                                                                                       \t|  3.3166e-06     \t|  11             \t|  3.6483e-05     \t|  0.0025731      \t|\n",
      "|  [Callback]ModelSummary.on_test_batch_start                                                                                                                     \t|  2.2686e-06     \t|  11             \t|  2.4955e-05     \t|  0.0017601      \t|\n",
      "|  [LightningModule]MonetDense.on_before_batch_transfer                                                                                                           \t|  2.1761e-06     \t|  11             \t|  2.3937e-05     \t|  0.0016883      \t|\n",
      "|  [LightningModule]MonetDense.on_after_batch_transfer                                                                                                            \t|  1.889e-06      \t|  11             \t|  2.0779e-05     \t|  0.0014655      \t|\n",
      "|  [LightningModule]MonetDense.on_test_batch_end                                                                                                                  \t|  1.5955e-06     \t|  11             \t|  1.7551e-05     \t|  0.0012378      \t|\n",
      "|  [Callback]ModelCheckpoint{'monitor': 'val_loss', 'mode': 'min', 'every_n_train_steps': 0, 'every_n_epochs': 1, 'train_time_interval': None}.on_test_batch_end  \t|  1.4607e-06     \t|  11             \t|  1.6068e-05     \t|  0.0011333      \t|\n",
      "|  [Callback]ModelCheckpoint{'monitor': 'val_loss', 'mode': 'min', 'every_n_train_steps': 0, 'every_n_epochs': 1, 'train_time_interval': None}.on_test_batch_start\t|  1.2575e-06     \t|  11             \t|  1.3832e-05     \t|  0.00097555     \t|\n",
      "|  [LightningModule]MonetDense.on_test_batch_start                                                                                                                \t|  1.1836e-06     \t|  11             \t|  1.302e-05      \t|  0.00091829     \t|\n",
      "|  [LightningModule]MonetDense.on_test_epoch_start                                                                                                                \t|  1.033e-05      \t|  1              \t|  1.033e-05      \t|  0.00072856     \t|\n",
      "|  [Callback]ModelSummary.on_test_start                                                                                                                           \t|  1.0304e-05     \t|  1              \t|  1.0304e-05     \t|  0.00072673     \t|\n",
      "|  [Callback]TQDMProgressBar.setup                                                                                                                                \t|  8.508e-06      \t|  1              \t|  8.508e-06      \t|  0.00060006     \t|\n",
      "|  [Callback]TQDMProgressBar.teardown                                                                                                                             \t|  6.217e-06      \t|  1              \t|  6.217e-06      \t|  0.00043848     \t|\n",
      "|  [LightningModule]MonetDense.configure_callbacks                                                                                                                \t|  5.806e-06      \t|  1              \t|  5.806e-06      \t|  0.00040949     \t|\n",
      "|  [Strategy]SingleDeviceStrategy.on_test_end                                                                                                                     \t|  5.782e-06      \t|  1              \t|  5.782e-06      \t|  0.0004078      \t|\n",
      "|  [Strategy]SingleDeviceStrategy.on_test_start                                                                                                                   \t|  5.682e-06      \t|  1              \t|  5.682e-06      \t|  0.00040075     \t|\n",
      "|  [Callback]ModelSummary.on_test_end                                                                                                                             \t|  2.808e-06      \t|  1              \t|  2.808e-06      \t|  0.00019804     \t|\n",
      "|  [Callback]TQDMProgressBar.on_test_epoch_end                                                                                                                    \t|  2.675e-06      \t|  1              \t|  2.675e-06      \t|  0.00018866     \t|\n",
      "|  [LightningModule]MonetDense.on_test_start                                                                                                                      \t|  2.071e-06      \t|  1              \t|  2.071e-06      \t|  0.00014607     \t|\n",
      "|  [Callback]TQDMProgressBar.on_test_epoch_start                                                                                                                  \t|  1.901e-06      \t|  1              \t|  1.901e-06      \t|  0.00013408     \t|\n",
      "|  [Callback]ModelCheckpoint{'monitor': 'val_loss', 'mode': 'min', 'every_n_train_steps': 0, 'every_n_epochs': 1, 'train_time_interval': None}.on_test_start      \t|  1.881e-06      \t|  1              \t|  1.881e-06      \t|  0.00013267     \t|\n",
      "|  [Callback]ModelSummary.setup                                                                                                                                   \t|  1.798e-06      \t|  1              \t|  1.798e-06      \t|  0.00012681     \t|\n",
      "|  [LightningModule]MonetDense.setup                                                                                                                              \t|  1.641e-06      \t|  1              \t|  1.641e-06      \t|  0.00011574     \t|\n",
      "|  [LightningModule]MonetDense.teardown                                                                                                                           \t|  1.536e-06      \t|  1              \t|  1.536e-06      \t|  0.00010833     \t|\n",
      "|  [Callback]ModelSummary.on_test_epoch_start                                                                                                                     \t|  1.491e-06      \t|  1              \t|  1.491e-06      \t|  0.00010516     \t|\n",
      "|  [Callback]ModelCheckpoint{'monitor': 'val_loss', 'mode': 'min', 'every_n_train_steps': 0, 'every_n_epochs': 1, 'train_time_interval': None}.on_test_epoch_start\t|  1.465e-06      \t|  1              \t|  1.465e-06      \t|  0.00010332     \t|\n",
      "|  [LightningModule]MonetDense.prepare_data                                                                                                                       \t|  1.4e-06        \t|  1              \t|  1.4e-06        \t|  9.8739e-05     \t|\n",
      "|  [Callback]ModelSummary.teardown                                                                                                                                \t|  1.398e-06      \t|  1              \t|  1.398e-06      \t|  9.86e-05       \t|\n",
      "|  [Callback]ModelCheckpoint{'monitor': 'val_loss', 'mode': 'min', 'every_n_train_steps': 0, 'every_n_epochs': 1, 'train_time_interval': None}.teardown           \t|  1.27e-06       \t|  1              \t|  1.27e-06       \t|  8.9572e-05     \t|\n",
      "|  [Callback]ModelCheckpoint{'monitor': 'val_loss', 'mode': 'min', 'every_n_train_steps': 0, 'every_n_epochs': 1, 'train_time_interval': None}.on_test_end        \t|  1.225e-06      \t|  1              \t|  1.225e-06      \t|  8.6397e-05     \t|\n",
      "|  [Callback]ModelSummary.on_test_epoch_end                                                                                                                       \t|  1.221e-06      \t|  1              \t|  1.221e-06      \t|  8.6117e-05     \t|\n",
      "|  [Callback]ModelCheckpoint{'monitor': 'val_loss', 'mode': 'min', 'every_n_train_steps': 0, 'every_n_epochs': 1, 'train_time_interval': None}.on_test_epoch_end  \t|  1.136e-06      \t|  1              \t|  1.136e-06      \t|  8.0119e-05     \t|\n",
      "|  [LightningModule]MonetDense.on_test_end                                                                                                                        \t|  1.117e-06      \t|  1              \t|  1.117e-06      \t|  7.8779e-05     \t|\n",
      "|  [LightningModule]MonetDense.on_test_epoch_end                                                                                                                  \t|  9.7201e-07     \t|  1              \t|  9.7201e-07     \t|  6.8555e-05     \t|\n",
      "--------------------------------------------------------------------------------------------------------------------------------------------------------------------------------------------------------------------------------------------------------------------------\n",
      "\n"
     ]
    },
    {
     "name": "stdout",
     "output_type": "stream",
     "text": [
      "MonetDense__[512, 512, 512, 512]__10__8__XENIUM__Adam__NUM_SPLITS=3\n",
      "There are 64 graph splits for the Xenium Dataset.\n"
     ]
    },
    {
     "name": "stderr",
     "output_type": "stream",
     "text": [
      "GPU available: True (cuda), used: True\n",
      "TPU available: False, using: 0 TPU cores\n",
      "IPU available: False, using: 0 IPUs\n",
      "HPU available: False, using: 0 HPUs\n",
      "`Trainer(limit_train_batches=1.0)` was configured so 100% of the batches per epoch will be used..\n",
      "`Trainer(limit_val_batches=1.0)` was configured so 100% of the batches will be used..\n",
      "LOCAL_RANK: 0 - CUDA_VISIBLE_DEVICES: [4,5,6]\n"
     ]
    },
    {
     "name": "stdout",
     "output_type": "stream",
     "text": [
      "The number of parameters for radius 8 is 10967684\n"
     ]
    },
    {
     "data": {
      "application/vnd.jupyter.widget-view+json": {
       "model_id": "7bd7ca91d0364d0d982d453c7199ad46",
       "version_major": 2,
       "version_minor": 0
      },
      "text/plain": [
       "Testing: |          | 0/? [00:00<?, ?it/s]"
      ]
     },
     "metadata": {},
     "output_type": "display_data"
    },
    {
     "data": {
      "text/html": [
       "<pre style=\"white-space:pre;overflow-x:auto;line-height:normal;font-family:Menlo,'DejaVu Sans Mono',consolas,'Courier New',monospace\">┏━━━━━━━━━━━━━━━━━━━━━━━━━━━┳━━━━━━━━━━━━━━━━━━━━━━━━━━━┓\n",
       "┃<span style=\"font-weight: bold\">        Test metric        </span>┃<span style=\"font-weight: bold\">       DataLoader 0        </span>┃\n",
       "┡━━━━━━━━━━━━━━━━━━━━━━━━━━━╇━━━━━━━━━━━━━━━━━━━━━━━━━━━┩\n",
       "│<span style=\"color: #008080; text-decoration-color: #008080\">         test_loss         </span>│<span style=\"color: #800080; text-decoration-color: #800080\">    0.31995123624801636    </span>│\n",
       "│<span style=\"color: #008080; text-decoration-color: #008080\">       test_loss_mse       </span>│<span style=\"color: #800080; text-decoration-color: #800080\">    0.31995123624801636    </span>│\n",
       "└───────────────────────────┴───────────────────────────┘\n",
       "</pre>\n"
      ],
      "text/plain": [
       "┏━━━━━━━━━━━━━━━━━━━━━━━━━━━┳━━━━━━━━━━━━━━━━━━━━━━━━━━━┓\n",
       "┃\u001b[1m \u001b[0m\u001b[1m       Test metric       \u001b[0m\u001b[1m \u001b[0m┃\u001b[1m \u001b[0m\u001b[1m      DataLoader 0       \u001b[0m\u001b[1m \u001b[0m┃\n",
       "┡━━━━━━━━━━━━━━━━━━━━━━━━━━━╇━━━━━━━━━━━━━━━━━━━━━━━━━━━┩\n",
       "│\u001b[36m \u001b[0m\u001b[36m        test_loss        \u001b[0m\u001b[36m \u001b[0m│\u001b[35m \u001b[0m\u001b[35m   0.31995123624801636   \u001b[0m\u001b[35m \u001b[0m│\n",
       "│\u001b[36m \u001b[0m\u001b[36m      test_loss_mse      \u001b[0m\u001b[36m \u001b[0m│\u001b[35m \u001b[0m\u001b[35m   0.31995123624801636   \u001b[0m\u001b[35m \u001b[0m│\n",
       "└───────────────────────────┴───────────────────────────┘\n"
      ]
     },
     "metadata": {},
     "output_type": "display_data"
    },
    {
     "name": "stderr",
     "output_type": "stream",
     "text": [
      "TEST Profiler Report\n",
      "\n",
      "--------------------------------------------------------------------------------------------------------------------------------------------------------------------------------------------------------------------------------------------------------------------------\n",
      "|  Action                                                                                                                                                         \t|  Mean duration (s)\t|  Num calls      \t|  Total time (s) \t|  Percentage %   \t|\n",
      "--------------------------------------------------------------------------------------------------------------------------------------------------------------------------------------------------------------------------------------------------------------------------\n",
      "|  Total                                                                                                                                                          \t|  -              \t|  184            \t|  1.5984         \t|  100 %          \t|\n",
      "--------------------------------------------------------------------------------------------------------------------------------------------------------------------------------------------------------------------------------------------------------------------------\n",
      "|  [Strategy]SingleDeviceStrategy.test_step                                                                                                                       \t|  0.055675       \t|  11             \t|  0.61243        \t|  38.316         \t|\n",
      "|  [Strategy]SingleDeviceStrategy.batch_to_device                                                                                                                 \t|  0.0087267      \t|  11             \t|  0.095994       \t|  6.0057         \t|\n",
      "|  [LightningModule]MonetDense.transfer_batch_to_device                                                                                                           \t|  0.0086643      \t|  11             \t|  0.095307       \t|  5.9627         \t|\n",
      "|  [_EvaluationLoop].test_next                                                                                                                                    \t|  0.0045929      \t|  11             \t|  0.050522       \t|  3.1608         \t|\n",
      "|  [Callback]TQDMProgressBar.on_test_start                                                                                                                        \t|  0.017395       \t|  1              \t|  0.017395       \t|  1.0883         \t|\n",
      "|  [Callback]TQDMProgressBar.on_test_batch_end                                                                                                                    \t|  0.00070366     \t|  11             \t|  0.0077403      \t|  0.48426        \t|\n",
      "|  [Callback]TQDMProgressBar.on_test_batch_start                                                                                                                  \t|  8.7461e-05     \t|  11             \t|  0.00096207     \t|  0.060191       \t|\n",
      "|  [LightningModule]MonetDense.on_test_model_eval                                                                                                                 \t|  0.00057796     \t|  1              \t|  0.00057796     \t|  0.036159       \t|\n",
      "|  [Callback]TQDMProgressBar.on_test_end                                                                                                                          \t|  0.00049277     \t|  1              \t|  0.00049277     \t|  0.030829       \t|\n",
      "|  [LightningModule]MonetDense.on_test_model_train                                                                                                                \t|  0.00015241     \t|  1              \t|  0.00015241     \t|  0.0095352      \t|\n",
      "|  [Callback]ModelCheckpoint{'monitor': 'val_loss', 'mode': 'min', 'every_n_train_steps': 0, 'every_n_epochs': 1, 'train_time_interval': None}.setup              \t|  7.4771e-05     \t|  1              \t|  7.4771e-05     \t|  0.0046779      \t|\n",
      "|  [Callback]ModelSummary.on_test_batch_end                                                                                                                       \t|  3.6486e-06     \t|  11             \t|  4.0135e-05     \t|  0.002511       \t|\n",
      "|  [LightningModule]MonetDense.on_before_batch_transfer                                                                                                           \t|  2.1445e-06     \t|  11             \t|  2.359e-05      \t|  0.0014759      \t|\n",
      "|  [LightningModule]MonetDense.on_test_batch_end                                                                                                                  \t|  1.8796e-06     \t|  11             \t|  2.0676e-05     \t|  0.0012936      \t|\n",
      "|  [LightningModule]MonetDense.on_after_batch_transfer                                                                                                            \t|  1.7976e-06     \t|  11             \t|  1.9774e-05     \t|  0.0012371      \t|\n",
      "|  [Callback]ModelSummary.on_test_batch_start                                                                                                                     \t|  1.7626e-06     \t|  11             \t|  1.9389e-05     \t|  0.001213       \t|\n",
      "|  [Callback]ModelCheckpoint{'monitor': 'val_loss', 'mode': 'min', 'every_n_train_steps': 0, 'every_n_epochs': 1, 'train_time_interval': None}.on_test_batch_end  \t|  1.3775e-06     \t|  11             \t|  1.5152e-05     \t|  0.00094796     \t|\n",
      "|  [Callback]ModelCheckpoint{'monitor': 'val_loss', 'mode': 'min', 'every_n_train_steps': 0, 'every_n_epochs': 1, 'train_time_interval': None}.on_test_batch_start\t|  1.1246e-06     \t|  11             \t|  1.237e-05      \t|  0.00077391     \t|\n",
      "|  [LightningModule]MonetDense.on_test_batch_start                                                                                                                \t|  1.0022e-06     \t|  11             \t|  1.1024e-05     \t|  0.0006897      \t|\n",
      "|  [Callback]ModelSummary.on_test_start                                                                                                                           \t|  9.413e-06      \t|  1              \t|  9.413e-06      \t|  0.00058891     \t|\n",
      "|  [Callback]TQDMProgressBar.setup                                                                                                                                \t|  9.214e-06      \t|  1              \t|  9.214e-06      \t|  0.00057646     \t|\n",
      "|  [LightningModule]MonetDense.on_test_epoch_start                                                                                                                \t|  7.166e-06      \t|  1              \t|  7.166e-06      \t|  0.00044833     \t|\n",
      "|  [Strategy]SingleDeviceStrategy.on_test_end                                                                                                                     \t|  6.099e-06      \t|  1              \t|  6.099e-06      \t|  0.00038157     \t|\n",
      "|  [LightningModule]MonetDense.configure_callbacks                                                                                                                \t|  5.68e-06       \t|  1              \t|  5.68e-06       \t|  0.00035536     \t|\n",
      "|  [Strategy]SingleDeviceStrategy.on_test_start                                                                                                                   \t|  4.322e-06      \t|  1              \t|  4.322e-06      \t|  0.0002704      \t|\n",
      "|  [Callback]TQDMProgressBar.teardown                                                                                                                             \t|  4.301e-06      \t|  1              \t|  4.301e-06      \t|  0.00026908     \t|\n",
      "|  [Callback]TQDMProgressBar.on_test_epoch_end                                                                                                                    \t|  3.066e-06      \t|  1              \t|  3.066e-06      \t|  0.00019182     \t|\n",
      "|  [Callback]ModelSummary.on_test_end                                                                                                                             \t|  2.397e-06      \t|  1              \t|  2.397e-06      \t|  0.00014996     \t|\n",
      "|  [Callback]ModelSummary.setup                                                                                                                                   \t|  2.047e-06      \t|  1              \t|  2.047e-06      \t|  0.00012807     \t|\n",
      "|  [LightningModule]MonetDense.teardown                                                                                                                           \t|  1.728e-06      \t|  1              \t|  1.728e-06      \t|  0.00010811     \t|\n",
      "|  [LightningModule]MonetDense.prepare_data                                                                                                                       \t|  1.64e-06       \t|  1              \t|  1.64e-06       \t|  0.0001026      \t|\n",
      "|  [Callback]ModelSummary.teardown                                                                                                                                \t|  1.551e-06      \t|  1              \t|  1.551e-06      \t|  9.7036e-05     \t|\n",
      "|  [Callback]TQDMProgressBar.on_test_epoch_start                                                                                                                  \t|  1.477e-06      \t|  1              \t|  1.477e-06      \t|  9.2406e-05     \t|\n",
      "|  [LightningModule]MonetDense.setup                                                                                                                              \t|  1.45e-06       \t|  1              \t|  1.45e-06       \t|  9.0716e-05     \t|\n",
      "|  [Callback]ModelSummary.on_test_epoch_end                                                                                                                       \t|  1.434e-06      \t|  1              \t|  1.434e-06      \t|  8.9716e-05     \t|\n",
      "|  [Callback]ModelCheckpoint{'monitor': 'val_loss', 'mode': 'min', 'every_n_train_steps': 0, 'every_n_epochs': 1, 'train_time_interval': None}.on_test_start      \t|  1.41e-06       \t|  1              \t|  1.41e-06       \t|  8.8214e-05     \t|\n",
      "|  [Callback]ModelCheckpoint{'monitor': 'val_loss', 'mode': 'min', 'every_n_train_steps': 0, 'every_n_epochs': 1, 'train_time_interval': None}.teardown           \t|  1.34e-06       \t|  1              \t|  1.34e-06       \t|  8.3835e-05     \t|\n",
      "|  [Callback]ModelCheckpoint{'monitor': 'val_loss', 'mode': 'min', 'every_n_train_steps': 0, 'every_n_epochs': 1, 'train_time_interval': None}.on_test_epoch_end  \t|  1.318e-06      \t|  1              \t|  1.318e-06      \t|  8.2458e-05     \t|\n",
      "|  [LightningModule]MonetDense.on_test_start                                                                                                                      \t|  1.249e-06      \t|  1              \t|  1.249e-06      \t|  7.8141e-05     \t|\n",
      "|  [Callback]ModelCheckpoint{'monitor': 'val_loss', 'mode': 'min', 'every_n_train_steps': 0, 'every_n_epochs': 1, 'train_time_interval': None}.on_test_end        \t|  1.239e-06      \t|  1              \t|  1.239e-06      \t|  7.7517e-05     \t|\n",
      "|  [Callback]ModelSummary.on_test_epoch_start                                                                                                                     \t|  1.046e-06      \t|  1              \t|  1.046e-06      \t|  6.5443e-05     \t|\n",
      "|  [LightningModule]MonetDense.on_test_end                                                                                                                        \t|  1.041e-06      \t|  1              \t|  1.041e-06      \t|  6.5129e-05     \t|\n",
      "|  [Callback]ModelCheckpoint{'monitor': 'val_loss', 'mode': 'min', 'every_n_train_steps': 0, 'every_n_epochs': 1, 'train_time_interval': None}.on_test_epoch_start\t|  1.013e-06      \t|  1              \t|  1.013e-06      \t|  6.3378e-05     \t|\n",
      "|  [LightningModule]MonetDense.on_test_epoch_end                                                                                                                  \t|  9.8301e-07     \t|  1              \t|  9.8301e-07     \t|  6.1501e-05     \t|\n",
      "--------------------------------------------------------------------------------------------------------------------------------------------------------------------------------------------------------------------------------------------------------------------------\n",
      "\n"
     ]
    },
    {
     "name": "stdout",
     "output_type": "stream",
     "text": [
      "MonetDense__[512, 512, 512, 512]__10__14__XENIUM__Adam__NUM_SPLITS=3\n",
      "There are 64 graph splits for the Xenium Dataset.\n"
     ]
    },
    {
     "name": "stderr",
     "output_type": "stream",
     "text": [
      "GPU available: True (cuda), used: True\n",
      "TPU available: False, using: 0 TPU cores\n",
      "IPU available: False, using: 0 IPUs\n",
      "HPU available: False, using: 0 HPUs\n",
      "`Trainer(limit_train_batches=1.0)` was configured so 100% of the batches per epoch will be used..\n",
      "`Trainer(limit_val_batches=1.0)` was configured so 100% of the batches will be used..\n",
      "LOCAL_RANK: 0 - CUDA_VISIBLE_DEVICES: [4,5,6]\n"
     ]
    },
    {
     "name": "stdout",
     "output_type": "stream",
     "text": [
      "The number of parameters for radius 14 is 10967684\n"
     ]
    },
    {
     "data": {
      "application/vnd.jupyter.widget-view+json": {
       "model_id": "4891a49e11304109b701ec3d8b1f748d",
       "version_major": 2,
       "version_minor": 0
      },
      "text/plain": [
       "Testing: |          | 0/? [00:00<?, ?it/s]"
      ]
     },
     "metadata": {},
     "output_type": "display_data"
    },
    {
     "data": {
      "text/html": [
       "<pre style=\"white-space:pre;overflow-x:auto;line-height:normal;font-family:Menlo,'DejaVu Sans Mono',consolas,'Courier New',monospace\">┏━━━━━━━━━━━━━━━━━━━━━━━━━━━┳━━━━━━━━━━━━━━━━━━━━━━━━━━━┓\n",
       "┃<span style=\"font-weight: bold\">        Test metric        </span>┃<span style=\"font-weight: bold\">       DataLoader 0        </span>┃\n",
       "┡━━━━━━━━━━━━━━━━━━━━━━━━━━━╇━━━━━━━━━━━━━━━━━━━━━━━━━━━┩\n",
       "│<span style=\"color: #008080; text-decoration-color: #008080\">         test_loss         </span>│<span style=\"color: #800080; text-decoration-color: #800080\">    0.32323941588401794    </span>│\n",
       "│<span style=\"color: #008080; text-decoration-color: #008080\">       test_loss_mse       </span>│<span style=\"color: #800080; text-decoration-color: #800080\">    0.32323941588401794    </span>│\n",
       "└───────────────────────────┴───────────────────────────┘\n",
       "</pre>\n"
      ],
      "text/plain": [
       "┏━━━━━━━━━━━━━━━━━━━━━━━━━━━┳━━━━━━━━━━━━━━━━━━━━━━━━━━━┓\n",
       "┃\u001b[1m \u001b[0m\u001b[1m       Test metric       \u001b[0m\u001b[1m \u001b[0m┃\u001b[1m \u001b[0m\u001b[1m      DataLoader 0       \u001b[0m\u001b[1m \u001b[0m┃\n",
       "┡━━━━━━━━━━━━━━━━━━━━━━━━━━━╇━━━━━━━━━━━━━━━━━━━━━━━━━━━┩\n",
       "│\u001b[36m \u001b[0m\u001b[36m        test_loss        \u001b[0m\u001b[36m \u001b[0m│\u001b[35m \u001b[0m\u001b[35m   0.32323941588401794   \u001b[0m\u001b[35m \u001b[0m│\n",
       "│\u001b[36m \u001b[0m\u001b[36m      test_loss_mse      \u001b[0m\u001b[36m \u001b[0m│\u001b[35m \u001b[0m\u001b[35m   0.32323941588401794   \u001b[0m\u001b[35m \u001b[0m│\n",
       "└───────────────────────────┴───────────────────────────┘\n"
      ]
     },
     "metadata": {},
     "output_type": "display_data"
    },
    {
     "name": "stderr",
     "output_type": "stream",
     "text": [
      "TEST Profiler Report\n",
      "\n",
      "--------------------------------------------------------------------------------------------------------------------------------------------------------------------------------------------------------------------------------------------------------------------------\n",
      "|  Action                                                                                                                                                         \t|  Mean duration (s)\t|  Num calls      \t|  Total time (s) \t|  Percentage %   \t|\n",
      "--------------------------------------------------------------------------------------------------------------------------------------------------------------------------------------------------------------------------------------------------------------------------\n",
      "|  Total                                                                                                                                                          \t|  -              \t|  184            \t|  1.7487         \t|  100 %          \t|\n",
      "--------------------------------------------------------------------------------------------------------------------------------------------------------------------------------------------------------------------------------------------------------------------------\n",
      "|  [Strategy]SingleDeviceStrategy.test_step                                                                                                                       \t|  0.068076       \t|  11             \t|  0.74884        \t|  42.822         \t|\n",
      "|  [Strategy]SingleDeviceStrategy.batch_to_device                                                                                                                 \t|  0.0056441      \t|  11             \t|  0.062085       \t|  3.5503         \t|\n",
      "|  [LightningModule]MonetDense.transfer_batch_to_device                                                                                                           \t|  0.0055894      \t|  11             \t|  0.061483       \t|  3.5159         \t|\n",
      "|  [_EvaluationLoop].test_next                                                                                                                                    \t|  0.0039842      \t|  11             \t|  0.043826       \t|  2.5061         \t|\n",
      "|  [Callback]TQDMProgressBar.on_test_start                                                                                                                        \t|  0.018634       \t|  1              \t|  0.018634       \t|  1.0656         \t|\n",
      "|  [Callback]TQDMProgressBar.on_test_batch_end                                                                                                                    \t|  0.00064655     \t|  11             \t|  0.007112       \t|  0.4067         \t|\n",
      "|  [Callback]TQDMProgressBar.on_test_batch_start                                                                                                                  \t|  9.2641e-05     \t|  11             \t|  0.001019       \t|  0.058273       \t|\n",
      "|  [LightningModule]MonetDense.on_test_model_eval                                                                                                                 \t|  0.00081785     \t|  1              \t|  0.00081785     \t|  0.046768       \t|\n",
      "|  [Callback]TQDMProgressBar.on_test_end                                                                                                                          \t|  0.0005335      \t|  1              \t|  0.0005335      \t|  0.030508       \t|\n",
      "|  [LightningModule]MonetDense.on_test_model_train                                                                                                                \t|  0.00012732     \t|  1              \t|  0.00012732     \t|  0.0072808      \t|\n",
      "|  [Callback]ModelCheckpoint{'monitor': 'val_loss', 'mode': 'min', 'every_n_train_steps': 0, 'every_n_epochs': 1, 'train_time_interval': None}.setup              \t|  8.6809e-05     \t|  1              \t|  8.6809e-05     \t|  0.0049641      \t|\n",
      "|  [Callback]ModelSummary.on_test_batch_end                                                                                                                       \t|  3.4562e-06     \t|  11             \t|  3.8018e-05     \t|  0.002174       \t|\n",
      "|  [LightningModule]MonetDense.on_test_batch_start                                                                                                                \t|  2.051e-06      \t|  11             \t|  2.2561e-05     \t|  0.0012901      \t|\n",
      "|  [LightningModule]MonetDense.on_before_batch_transfer                                                                                                           \t|  1.8277e-06     \t|  11             \t|  2.0105e-05     \t|  0.0011497      \t|\n",
      "|  [Callback]ModelSummary.on_test_batch_start                                                                                                                     \t|  1.716e-06      \t|  11             \t|  1.8876e-05     \t|  0.0010794      \t|\n",
      "|  [Callback]ModelCheckpoint{'monitor': 'val_loss', 'mode': 'min', 'every_n_train_steps': 0, 'every_n_epochs': 1, 'train_time_interval': None}.on_test_batch_end  \t|  1.6438e-06     \t|  11             \t|  1.8082e-05     \t|  0.001034       \t|\n",
      "|  [LightningModule]MonetDense.on_test_batch_end                                                                                                                  \t|  1.5898e-06     \t|  11             \t|  1.7488e-05     \t|  0.001          \t|\n",
      "|  [LightningModule]MonetDense.on_after_batch_transfer                                                                                                            \t|  1.5724e-06     \t|  11             \t|  1.7296e-05     \t|  0.00098905     \t|\n",
      "|  [LightningModule]MonetDense.on_test_epoch_start                                                                                                                \t|  1.2459e-05     \t|  1              \t|  1.2459e-05     \t|  0.00071246     \t|\n",
      "|  [Callback]ModelCheckpoint{'monitor': 'val_loss', 'mode': 'min', 'every_n_train_steps': 0, 'every_n_epochs': 1, 'train_time_interval': None}.on_test_batch_start\t|  1.1077e-06     \t|  11             \t|  1.2185e-05     \t|  0.00069679     \t|\n",
      "|  [Callback]ModelSummary.on_test_start                                                                                                                           \t|  1.2183e-05     \t|  1              \t|  1.2183e-05     \t|  0.00069667     \t|\n",
      "|  [Callback]TQDMProgressBar.setup                                                                                                                                \t|  8.572e-06      \t|  1              \t|  8.572e-06      \t|  0.00049018     \t|\n",
      "|  [LightningModule]MonetDense.configure_callbacks                                                                                                                \t|  7.277e-06      \t|  1              \t|  7.277e-06      \t|  0.00041613     \t|\n",
      "|  [Strategy]SingleDeviceStrategy.on_test_end                                                                                                                     \t|  6.461e-06      \t|  1              \t|  6.461e-06      \t|  0.00036947     \t|\n",
      "|  [Strategy]SingleDeviceStrategy.on_test_start                                                                                                                   \t|  6.232e-06      \t|  1              \t|  6.232e-06      \t|  0.00035637     \t|\n",
      "|  [Callback]TQDMProgressBar.teardown                                                                                                                             \t|  4.822e-06      \t|  1              \t|  4.822e-06      \t|  0.00027574     \t|\n",
      "|  [Callback]ModelSummary.on_test_end                                                                                                                             \t|  2.802e-06      \t|  1              \t|  2.802e-06      \t|  0.00016023     \t|\n",
      "|  [Callback]ModelCheckpoint{'monitor': 'val_loss', 'mode': 'min', 'every_n_train_steps': 0, 'every_n_epochs': 1, 'train_time_interval': None}.on_test_start      \t|  2.58e-06       \t|  1              \t|  2.58e-06       \t|  0.00014753     \t|\n",
      "|  [Callback]TQDMProgressBar.on_test_epoch_start                                                                                                                  \t|  2.515e-06      \t|  1              \t|  2.515e-06      \t|  0.00014382     \t|\n",
      "|  [Callback]TQDMProgressBar.on_test_epoch_end                                                                                                                    \t|  2.421e-06      \t|  1              \t|  2.421e-06      \t|  0.00013844     \t|\n",
      "|  [Callback]ModelSummary.teardown                                                                                                                                \t|  2.223e-06      \t|  1              \t|  2.223e-06      \t|  0.00012712     \t|\n",
      "|  [Callback]ModelCheckpoint{'monitor': 'val_loss', 'mode': 'min', 'every_n_train_steps': 0, 'every_n_epochs': 1, 'train_time_interval': None}.teardown           \t|  2.085e-06      \t|  1              \t|  2.085e-06      \t|  0.00011923     \t|\n",
      "|  [LightningModule]MonetDense.on_test_start                                                                                                                      \t|  2.067e-06      \t|  1              \t|  2.067e-06      \t|  0.0001182      \t|\n",
      "|  [Callback]ModelCheckpoint{'monitor': 'val_loss', 'mode': 'min', 'every_n_train_steps': 0, 'every_n_epochs': 1, 'train_time_interval': None}.on_test_end        \t|  1.92e-06       \t|  1              \t|  1.92e-06       \t|  0.00010979     \t|\n",
      "|  [Callback]ModelSummary.setup                                                                                                                                   \t|  1.904e-06      \t|  1              \t|  1.904e-06      \t|  0.00010888     \t|\n",
      "|  [Callback]ModelCheckpoint{'monitor': 'val_loss', 'mode': 'min', 'every_n_train_steps': 0, 'every_n_epochs': 1, 'train_time_interval': None}.on_test_epoch_start\t|  1.843e-06      \t|  1              \t|  1.843e-06      \t|  0.00010539     \t|\n",
      "|  [LightningModule]MonetDense.teardown                                                                                                                           \t|  1.811e-06      \t|  1              \t|  1.811e-06      \t|  0.00010356     \t|\n",
      "|  [Callback]ModelSummary.on_test_epoch_start                                                                                                                     \t|  1.641e-06      \t|  1              \t|  1.641e-06      \t|  9.384e-05      \t|\n",
      "|  [LightningModule]MonetDense.setup                                                                                                                              \t|  1.473e-06      \t|  1              \t|  1.473e-06      \t|  8.4231e-05     \t|\n",
      "|  [LightningModule]MonetDense.on_test_end                                                                                                                        \t|  1.356e-06      \t|  1              \t|  1.356e-06      \t|  7.7542e-05     \t|\n",
      "|  [LightningModule]MonetDense.prepare_data                                                                                                                       \t|  1.329e-06      \t|  1              \t|  1.329e-06      \t|  7.5997e-05     \t|\n",
      "|  [Callback]ModelSummary.on_test_epoch_end                                                                                                                       \t|  1.135e-06      \t|  1              \t|  1.135e-06      \t|  6.4903e-05     \t|\n",
      "|  [Callback]ModelCheckpoint{'monitor': 'val_loss', 'mode': 'min', 'every_n_train_steps': 0, 'every_n_epochs': 1, 'train_time_interval': None}.on_test_epoch_end  \t|  1.099e-06      \t|  1              \t|  1.099e-06      \t|  6.2845e-05     \t|\n",
      "|  [LightningModule]MonetDense.on_test_epoch_end                                                                                                                  \t|  8.8199e-07     \t|  1              \t|  8.8199e-07     \t|  5.0436e-05     \t|\n",
      "--------------------------------------------------------------------------------------------------------------------------------------------------------------------------------------------------------------------------------------------------------------------------\n",
      "\n"
     ]
    },
    {
     "name": "stdout",
     "output_type": "stream",
     "text": [
      "MonetDense__[512, 512, 512, 512]__10__10__XENIUM__Adam__NUM_SPLITS=3\n",
      "There are 64 graph splits for the Xenium Dataset.\n"
     ]
    },
    {
     "name": "stderr",
     "output_type": "stream",
     "text": [
      "GPU available: True (cuda), used: True\n",
      "TPU available: False, using: 0 TPU cores\n",
      "IPU available: False, using: 0 IPUs\n",
      "HPU available: False, using: 0 HPUs\n",
      "`Trainer(limit_train_batches=1.0)` was configured so 100% of the batches per epoch will be used..\n",
      "`Trainer(limit_val_batches=1.0)` was configured so 100% of the batches will be used..\n",
      "LOCAL_RANK: 0 - CUDA_VISIBLE_DEVICES: [4,5,6]\n"
     ]
    },
    {
     "name": "stdout",
     "output_type": "stream",
     "text": [
      "The number of parameters for radius 10 is 10967684\n"
     ]
    },
    {
     "data": {
      "application/vnd.jupyter.widget-view+json": {
       "model_id": "afa7f6b0c1a84a79a9f069e9e56f1bc1",
       "version_major": 2,
       "version_minor": 0
      },
      "text/plain": [
       "Testing: |          | 0/? [00:00<?, ?it/s]"
      ]
     },
     "metadata": {},
     "output_type": "display_data"
    },
    {
     "data": {
      "text/html": [
       "<pre style=\"white-space:pre;overflow-x:auto;line-height:normal;font-family:Menlo,'DejaVu Sans Mono',consolas,'Courier New',monospace\">┏━━━━━━━━━━━━━━━━━━━━━━━━━━━┳━━━━━━━━━━━━━━━━━━━━━━━━━━━┓\n",
       "┃<span style=\"font-weight: bold\">        Test metric        </span>┃<span style=\"font-weight: bold\">       DataLoader 0        </span>┃\n",
       "┡━━━━━━━━━━━━━━━━━━━━━━━━━━━╇━━━━━━━━━━━━━━━━━━━━━━━━━━━┩\n",
       "│<span style=\"color: #008080; text-decoration-color: #008080\">         test_loss         </span>│<span style=\"color: #800080; text-decoration-color: #800080\">    0.3196830451488495     </span>│\n",
       "│<span style=\"color: #008080; text-decoration-color: #008080\">       test_loss_mse       </span>│<span style=\"color: #800080; text-decoration-color: #800080\">    0.3196830451488495     </span>│\n",
       "└───────────────────────────┴───────────────────────────┘\n",
       "</pre>\n"
      ],
      "text/plain": [
       "┏━━━━━━━━━━━━━━━━━━━━━━━━━━━┳━━━━━━━━━━━━━━━━━━━━━━━━━━━┓\n",
       "┃\u001b[1m \u001b[0m\u001b[1m       Test metric       \u001b[0m\u001b[1m \u001b[0m┃\u001b[1m \u001b[0m\u001b[1m      DataLoader 0       \u001b[0m\u001b[1m \u001b[0m┃\n",
       "┡━━━━━━━━━━━━━━━━━━━━━━━━━━━╇━━━━━━━━━━━━━━━━━━━━━━━━━━━┩\n",
       "│\u001b[36m \u001b[0m\u001b[36m        test_loss        \u001b[0m\u001b[36m \u001b[0m│\u001b[35m \u001b[0m\u001b[35m   0.3196830451488495    \u001b[0m\u001b[35m \u001b[0m│\n",
       "│\u001b[36m \u001b[0m\u001b[36m      test_loss_mse      \u001b[0m\u001b[36m \u001b[0m│\u001b[35m \u001b[0m\u001b[35m   0.3196830451488495    \u001b[0m\u001b[35m \u001b[0m│\n",
       "└───────────────────────────┴───────────────────────────┘\n"
      ]
     },
     "metadata": {},
     "output_type": "display_data"
    },
    {
     "name": "stderr",
     "output_type": "stream",
     "text": [
      "TEST Profiler Report\n",
      "\n",
      "--------------------------------------------------------------------------------------------------------------------------------------------------------------------------------------------------------------------------------------------------------------------------\n",
      "|  Action                                                                                                                                                         \t|  Mean duration (s)\t|  Num calls      \t|  Total time (s) \t|  Percentage %   \t|\n",
      "--------------------------------------------------------------------------------------------------------------------------------------------------------------------------------------------------------------------------------------------------------------------------\n",
      "|  Total                                                                                                                                                          \t|  -              \t|  184            \t|  1.4876         \t|  100 %          \t|\n",
      "--------------------------------------------------------------------------------------------------------------------------------------------------------------------------------------------------------------------------------------------------------------------------\n",
      "|  [Strategy]SingleDeviceStrategy.test_step                                                                                                                       \t|  0.046415       \t|  11             \t|  0.51056        \t|  34.321         \t|\n",
      "|  [_EvaluationLoop].test_next                                                                                                                                    \t|  0.0047971      \t|  11             \t|  0.052768       \t|  3.5472         \t|\n",
      "|  [Strategy]SingleDeviceStrategy.batch_to_device                                                                                                                 \t|  0.0043954      \t|  11             \t|  0.048349       \t|  3.2502         \t|\n",
      "|  [LightningModule]MonetDense.transfer_batch_to_device                                                                                                           \t|  0.0043381      \t|  11             \t|  0.047719       \t|  3.2078         \t|\n",
      "|  [Callback]TQDMProgressBar.on_test_start                                                                                                                        \t|  0.026868       \t|  1              \t|  0.026868       \t|  1.8061         \t|\n",
      "|  [Callback]TQDMProgressBar.on_test_batch_end                                                                                                                    \t|  0.0006694      \t|  11             \t|  0.0073634      \t|  0.49498        \t|\n",
      "|  [Callback]TQDMProgressBar.on_test_batch_start                                                                                                                  \t|  9.6188e-05     \t|  11             \t|  0.0010581      \t|  0.071125       \t|\n",
      "|  [LightningModule]MonetDense.on_test_model_eval                                                                                                                 \t|  0.00056314     \t|  1              \t|  0.00056314     \t|  0.037856       \t|\n",
      "|  [Callback]TQDMProgressBar.on_test_end                                                                                                                          \t|  0.00053894     \t|  1              \t|  0.00053894     \t|  0.036229       \t|\n",
      "|  [LightningModule]MonetDense.on_test_model_train                                                                                                                \t|  0.0001648      \t|  1              \t|  0.0001648      \t|  0.011078       \t|\n",
      "|  [Callback]ModelCheckpoint{'monitor': 'val_loss', 'mode': 'min', 'every_n_train_steps': 0, 'every_n_epochs': 1, 'train_time_interval': None}.setup              \t|  6.6111e-05     \t|  1              \t|  6.6111e-05     \t|  0.0044441      \t|\n",
      "|  [Callback]ModelSummary.on_test_batch_end                                                                                                                       \t|  3.2005e-06     \t|  11             \t|  3.5205e-05     \t|  0.0023666      \t|\n",
      "|  [LightningModule]MonetDense.on_before_batch_transfer                                                                                                           \t|  2.1743e-06     \t|  11             \t|  2.3917e-05     \t|  0.0016078      \t|\n",
      "|  [Callback]ModelSummary.on_test_batch_start                                                                                                                     \t|  1.7274e-06     \t|  11             \t|  1.9001e-05     \t|  0.0012773      \t|\n",
      "|  [LightningModule]MonetDense.on_test_batch_end                                                                                                                  \t|  1.6294e-06     \t|  11             \t|  1.7923e-05     \t|  0.0012048      \t|\n",
      "|  [LightningModule]MonetDense.on_after_batch_transfer                                                                                                            \t|  1.5606e-06     \t|  11             \t|  1.7167e-05     \t|  0.001154       \t|\n",
      "|  [Callback]ModelCheckpoint{'monitor': 'val_loss', 'mode': 'min', 'every_n_train_steps': 0, 'every_n_epochs': 1, 'train_time_interval': None}.on_test_batch_end  \t|  1.3199e-06     \t|  11             \t|  1.4519e-05     \t|  0.000976       \t|\n",
      "|  [LightningModule]MonetDense.on_test_batch_start                                                                                                                \t|  1.2306e-06     \t|  11             \t|  1.3537e-05     \t|  0.00090998     \t|\n",
      "|  [Callback]ModelCheckpoint{'monitor': 'val_loss', 'mode': 'min', 'every_n_train_steps': 0, 'every_n_epochs': 1, 'train_time_interval': None}.on_test_batch_start\t|  1.1325e-06     \t|  11             \t|  1.2458e-05     \t|  0.00083745     \t|\n",
      "|  [Callback]ModelSummary.on_test_start                                                                                                                           \t|  9.869e-06      \t|  1              \t|  9.869e-06      \t|  0.00066342     \t|\n",
      "|  [Strategy]SingleDeviceStrategy.on_test_end                                                                                                                     \t|  9.182e-06      \t|  1              \t|  9.182e-06      \t|  0.00061723     \t|\n",
      "|  [LightningModule]MonetDense.on_test_epoch_start                                                                                                                \t|  8.246e-06      \t|  1              \t|  8.246e-06      \t|  0.00055431     \t|\n",
      "|  [Callback]TQDMProgressBar.setup                                                                                                                                \t|  8.135e-06      \t|  1              \t|  8.135e-06      \t|  0.00054685     \t|\n",
      "|  [Callback]TQDMProgressBar.teardown                                                                                                                             \t|  6.477e-06      \t|  1              \t|  6.477e-06      \t|  0.0004354      \t|\n",
      "|  [Strategy]SingleDeviceStrategy.on_test_start                                                                                                                   \t|  4.418e-06      \t|  1              \t|  4.418e-06      \t|  0.00029699     \t|\n",
      "|  [LightningModule]MonetDense.configure_callbacks                                                                                                                \t|  3.013e-06      \t|  1              \t|  3.013e-06      \t|  0.00020254     \t|\n",
      "|  [Callback]ModelSummary.on_test_end                                                                                                                             \t|  2.706e-06      \t|  1              \t|  2.706e-06      \t|  0.0001819      \t|\n",
      "|  [Callback]ModelSummary.teardown                                                                                                                                \t|  2.561e-06      \t|  1              \t|  2.561e-06      \t|  0.00017216     \t|\n",
      "|  [Callback]TQDMProgressBar.on_test_epoch_end                                                                                                                    \t|  2.525e-06      \t|  1              \t|  2.525e-06      \t|  0.00016974     \t|\n",
      "|  [LightningModule]MonetDense.on_test_epoch_end                                                                                                                  \t|  2.355e-06      \t|  1              \t|  2.355e-06      \t|  0.00015831     \t|\n",
      "|  [LightningModule]MonetDense.teardown                                                                                                                           \t|  2.122e-06      \t|  1              \t|  2.122e-06      \t|  0.00014264     \t|\n",
      "|  [Callback]ModelCheckpoint{'monitor': 'val_loss', 'mode': 'min', 'every_n_train_steps': 0, 'every_n_epochs': 1, 'train_time_interval': None}.teardown           \t|  2.061e-06      \t|  1              \t|  2.061e-06      \t|  0.00013855     \t|\n",
      "|  [LightningModule]MonetDense.prepare_data                                                                                                                       \t|  1.857e-06      \t|  1              \t|  1.857e-06      \t|  0.00012483     \t|\n",
      "|  [Callback]ModelSummary.setup                                                                                                                                   \t|  1.702e-06      \t|  1              \t|  1.702e-06      \t|  0.00011441     \t|\n",
      "|  [LightningModule]MonetDense.on_test_end                                                                                                                        \t|  1.435e-06      \t|  1              \t|  1.435e-06      \t|  9.6463e-05     \t|\n",
      "|  [LightningModule]MonetDense.setup                                                                                                                              \t|  1.359e-06      \t|  1              \t|  1.359e-06      \t|  9.1355e-05     \t|\n",
      "|  [Callback]TQDMProgressBar.on_test_epoch_start                                                                                                                  \t|  1.336e-06      \t|  1              \t|  1.336e-06      \t|  8.981e-05      \t|\n",
      "|  [Callback]ModelCheckpoint{'monitor': 'val_loss', 'mode': 'min', 'every_n_train_steps': 0, 'every_n_epochs': 1, 'train_time_interval': None}.on_test_end        \t|  1.297e-06      \t|  1              \t|  1.297e-06      \t|  8.7188e-05     \t|\n",
      "|  [Callback]ModelCheckpoint{'monitor': 'val_loss', 'mode': 'min', 'every_n_train_steps': 0, 'every_n_epochs': 1, 'train_time_interval': None}.on_test_start      \t|  1.265e-06      \t|  1              \t|  1.265e-06      \t|  8.5036e-05     \t|\n",
      "|  [LightningModule]MonetDense.on_test_start                                                                                                                      \t|  1.215e-06      \t|  1              \t|  1.215e-06      \t|  8.1675e-05     \t|\n",
      "|  [Callback]ModelSummary.on_test_epoch_end                                                                                                                       \t|  1.089e-06      \t|  1              \t|  1.089e-06      \t|  7.3205e-05     \t|\n",
      "|  [Callback]ModelCheckpoint{'monitor': 'val_loss', 'mode': 'min', 'every_n_train_steps': 0, 'every_n_epochs': 1, 'train_time_interval': None}.on_test_epoch_end  \t|  1.033e-06      \t|  1              \t|  1.033e-06      \t|  6.9441e-05     \t|\n",
      "|  [Callback]ModelCheckpoint{'monitor': 'val_loss', 'mode': 'min', 'every_n_train_steps': 0, 'every_n_epochs': 1, 'train_time_interval': None}.on_test_epoch_start\t|  9.4002e-07     \t|  1              \t|  9.4002e-07     \t|  6.3191e-05     \t|\n",
      "|  [Callback]ModelSummary.on_test_epoch_start                                                                                                                     \t|  9.26e-07       \t|  1              \t|  9.26e-07       \t|  6.2248e-05     \t|\n",
      "--------------------------------------------------------------------------------------------------------------------------------------------------------------------------------------------------------------------------------------------------------------------------\n",
      "\n"
     ]
    },
    {
     "name": "stdout",
     "output_type": "stream",
     "text": [
      "MonetDense__[512, 512, 512, 512]__10__15__XENIUM__Adam__NUM_SPLITS=3\n",
      "There are 64 graph splits for the Xenium Dataset.\n"
     ]
    },
    {
     "name": "stderr",
     "output_type": "stream",
     "text": [
      "GPU available: True (cuda), used: True\n",
      "TPU available: False, using: 0 TPU cores\n",
      "IPU available: False, using: 0 IPUs\n",
      "HPU available: False, using: 0 HPUs\n",
      "`Trainer(limit_train_batches=1.0)` was configured so 100% of the batches per epoch will be used..\n",
      "`Trainer(limit_val_batches=1.0)` was configured so 100% of the batches will be used..\n",
      "LOCAL_RANK: 0 - CUDA_VISIBLE_DEVICES: [4,5,6]\n"
     ]
    },
    {
     "name": "stdout",
     "output_type": "stream",
     "text": [
      "The number of parameters for radius 15 is 10967684\n"
     ]
    },
    {
     "data": {
      "application/vnd.jupyter.widget-view+json": {
       "model_id": "07247df90c504bef816446a1c2f3a373",
       "version_major": 2,
       "version_minor": 0
      },
      "text/plain": [
       "Testing: |          | 0/? [00:00<?, ?it/s]"
      ]
     },
     "metadata": {},
     "output_type": "display_data"
    },
    {
     "data": {
      "text/html": [
       "<pre style=\"white-space:pre;overflow-x:auto;line-height:normal;font-family:Menlo,'DejaVu Sans Mono',consolas,'Courier New',monospace\">┏━━━━━━━━━━━━━━━━━━━━━━━━━━━┳━━━━━━━━━━━━━━━━━━━━━━━━━━━┓\n",
       "┃<span style=\"font-weight: bold\">        Test metric        </span>┃<span style=\"font-weight: bold\">       DataLoader 0        </span>┃\n",
       "┡━━━━━━━━━━━━━━━━━━━━━━━━━━━╇━━━━━━━━━━━━━━━━━━━━━━━━━━━┩\n",
       "│<span style=\"color: #008080; text-decoration-color: #008080\">         test_loss         </span>│<span style=\"color: #800080; text-decoration-color: #800080\">    0.3371899724006653     </span>│\n",
       "│<span style=\"color: #008080; text-decoration-color: #008080\">       test_loss_mse       </span>│<span style=\"color: #800080; text-decoration-color: #800080\">    0.3371899724006653     </span>│\n",
       "└───────────────────────────┴───────────────────────────┘\n",
       "</pre>\n"
      ],
      "text/plain": [
       "┏━━━━━━━━━━━━━━━━━━━━━━━━━━━┳━━━━━━━━━━━━━━━━━━━━━━━━━━━┓\n",
       "┃\u001b[1m \u001b[0m\u001b[1m       Test metric       \u001b[0m\u001b[1m \u001b[0m┃\u001b[1m \u001b[0m\u001b[1m      DataLoader 0       \u001b[0m\u001b[1m \u001b[0m┃\n",
       "┡━━━━━━━━━━━━━━━━━━━━━━━━━━━╇━━━━━━━━━━━━━━━━━━━━━━━━━━━┩\n",
       "│\u001b[36m \u001b[0m\u001b[36m        test_loss        \u001b[0m\u001b[36m \u001b[0m│\u001b[35m \u001b[0m\u001b[35m   0.3371899724006653    \u001b[0m\u001b[35m \u001b[0m│\n",
       "│\u001b[36m \u001b[0m\u001b[36m      test_loss_mse      \u001b[0m\u001b[36m \u001b[0m│\u001b[35m \u001b[0m\u001b[35m   0.3371899724006653    \u001b[0m\u001b[35m \u001b[0m│\n",
       "└───────────────────────────┴───────────────────────────┘\n"
      ]
     },
     "metadata": {},
     "output_type": "display_data"
    },
    {
     "name": "stderr",
     "output_type": "stream",
     "text": [
      "TEST Profiler Report\n",
      "\n",
      "--------------------------------------------------------------------------------------------------------------------------------------------------------------------------------------------------------------------------------------------------------------------------\n",
      "|  Action                                                                                                                                                         \t|  Mean duration (s)\t|  Num calls      \t|  Total time (s) \t|  Percentage %   \t|\n",
      "--------------------------------------------------------------------------------------------------------------------------------------------------------------------------------------------------------------------------------------------------------------------------\n",
      "|  Total                                                                                                                                                          \t|  -              \t|  184            \t|  1.5809         \t|  100 %          \t|\n",
      "--------------------------------------------------------------------------------------------------------------------------------------------------------------------------------------------------------------------------------------------------------------------------\n",
      "|  [Strategy]SingleDeviceStrategy.test_step                                                                                                                       \t|  0.056988       \t|  11             \t|  0.62686        \t|  39.651         \t|\n",
      "|  [_EvaluationLoop].test_next                                                                                                                                    \t|  0.0036609      \t|  11             \t|  0.04027        \t|  2.5472         \t|\n",
      "|  [Strategy]SingleDeviceStrategy.batch_to_device                                                                                                                 \t|  0.0033928      \t|  11             \t|  0.037321       \t|  2.3607         \t|\n",
      "|  [LightningModule]MonetDense.transfer_batch_to_device                                                                                                           \t|  0.0033377      \t|  11             \t|  0.036715       \t|  2.3224         \t|\n",
      "|  [Callback]TQDMProgressBar.on_test_start                                                                                                                        \t|  0.021853       \t|  1              \t|  0.021853       \t|  1.3823         \t|\n",
      "|  [Callback]TQDMProgressBar.on_test_batch_end                                                                                                                    \t|  0.00064407     \t|  11             \t|  0.0070848      \t|  0.44814        \t|\n",
      "|  [Callback]TQDMProgressBar.on_test_batch_start                                                                                                                  \t|  9.1763e-05     \t|  11             \t|  0.0010094      \t|  0.063848       \t|\n",
      "|  [LightningModule]MonetDense.on_test_model_eval                                                                                                                 \t|  0.00055785     \t|  1              \t|  0.00055785     \t|  0.035286       \t|\n",
      "|  [Callback]TQDMProgressBar.on_test_end                                                                                                                          \t|  0.00048468     \t|  1              \t|  0.00048468     \t|  0.030658       \t|\n",
      "|  [LightningModule]MonetDense.on_test_model_train                                                                                                                \t|  0.00013909     \t|  1              \t|  0.00013909     \t|  0.0087978      \t|\n",
      "|  [Callback]ModelCheckpoint{'monitor': 'val_loss', 'mode': 'min', 'every_n_train_steps': 0, 'every_n_epochs': 1, 'train_time_interval': None}.setup              \t|  6.635e-05      \t|  1              \t|  6.635e-05      \t|  0.0041969      \t|\n",
      "|  [Callback]ModelSummary.on_test_batch_end                                                                                                                       \t|  3.3489e-06     \t|  11             \t|  3.6838e-05     \t|  0.0023301      \t|\n",
      "|  [LightningModule]MonetDense.on_before_batch_transfer                                                                                                           \t|  1.8273e-06     \t|  11             \t|  2.01e-05       \t|  0.0012714      \t|\n",
      "|  [Callback]ModelSummary.on_test_batch_start                                                                                                                     \t|  1.7213e-06     \t|  11             \t|  1.8934e-05     \t|  0.0011976      \t|\n",
      "|  [LightningModule]MonetDense.on_after_batch_transfer                                                                                                            \t|  1.6431e-06     \t|  11             \t|  1.8074e-05     \t|  0.0011432      \t|\n",
      "|  [Callback]ModelCheckpoint{'monitor': 'val_loss', 'mode': 'min', 'every_n_train_steps': 0, 'every_n_epochs': 1, 'train_time_interval': None}.on_test_batch_end  \t|  1.3681e-06     \t|  11             \t|  1.5049e-05     \t|  0.0009519      \t|\n",
      "|  [LightningModule]MonetDense.on_test_batch_end                                                                                                                  \t|  1.3395e-06     \t|  11             \t|  1.4734e-05     \t|  0.00093198     \t|\n",
      "|  [Callback]ModelCheckpoint{'monitor': 'val_loss', 'mode': 'min', 'every_n_train_steps': 0, 'every_n_epochs': 1, 'train_time_interval': None}.on_test_batch_start\t|  1.1364e-06     \t|  11             \t|  1.25e-05       \t|  0.00079067     \t|\n",
      "|  [LightningModule]MonetDense.on_test_batch_start                                                                                                                \t|  9.6436e-07     \t|  11             \t|  1.0608e-05     \t|  0.00067099     \t|\n",
      "|  [Callback]ModelSummary.on_test_start                                                                                                                           \t|  1.0366e-05     \t|  1              \t|  1.0366e-05     \t|  0.00065569     \t|\n",
      "|  [Callback]TQDMProgressBar.setup                                                                                                                                \t|  8.3e-06        \t|  1              \t|  8.3e-06        \t|  0.00052501     \t|\n",
      "|  [LightningModule]MonetDense.on_test_epoch_start                                                                                                                \t|  7.078e-06      \t|  1              \t|  7.078e-06      \t|  0.00044771     \t|\n",
      "|  [Strategy]SingleDeviceStrategy.on_test_start                                                                                                                   \t|  5.4e-06        \t|  1              \t|  5.4e-06        \t|  0.00034157     \t|\n",
      "|  [Callback]TQDMProgressBar.teardown                                                                                                                             \t|  4.657e-06      \t|  1              \t|  4.657e-06      \t|  0.00029457     \t|\n",
      "|  [Strategy]SingleDeviceStrategy.on_test_end                                                                                                                     \t|  4.528e-06      \t|  1              \t|  4.528e-06      \t|  0.00028641     \t|\n",
      "|  [Callback]TQDMProgressBar.on_test_epoch_end                                                                                                                    \t|  3.027e-06      \t|  1              \t|  3.027e-06      \t|  0.00019147     \t|\n",
      "|  [LightningModule]MonetDense.configure_callbacks                                                                                                                \t|  2.503e-06      \t|  1              \t|  2.503e-06      \t|  0.00015832     \t|\n",
      "|  [Callback]ModelSummary.on_test_end                                                                                                                             \t|  2.406e-06      \t|  1              \t|  2.406e-06      \t|  0.00015219     \t|\n",
      "|  [Callback]TQDMProgressBar.on_test_epoch_start                                                                                                                  \t|  2.26e-06       \t|  1              \t|  2.26e-06       \t|  0.00014295     \t|\n",
      "|  [Callback]ModelCheckpoint{'monitor': 'val_loss', 'mode': 'min', 'every_n_train_steps': 0, 'every_n_epochs': 1, 'train_time_interval': None}.on_test_start      \t|  2.259e-06      \t|  1              \t|  2.259e-06      \t|  0.00014289     \t|\n",
      "|  [Callback]ModelCheckpoint{'monitor': 'val_loss', 'mode': 'min', 'every_n_train_steps': 0, 'every_n_epochs': 1, 'train_time_interval': None}.on_test_epoch_start\t|  2.088e-06      \t|  1              \t|  2.088e-06      \t|  0.00013207     \t|\n",
      "|  [Callback]ModelSummary.on_test_epoch_start                                                                                                                     \t|  2.076e-06      \t|  1              \t|  2.076e-06      \t|  0.00013131     \t|\n",
      "|  [LightningModule]MonetDense.prepare_data                                                                                                                       \t|  1.82e-06       \t|  1              \t|  1.82e-06       \t|  0.00011512     \t|\n",
      "|  [Callback]ModelSummary.setup                                                                                                                                   \t|  1.797e-06      \t|  1              \t|  1.797e-06      \t|  0.00011367     \t|\n",
      "|  [LightningModule]MonetDense.on_test_start                                                                                                                      \t|  1.724e-06      \t|  1              \t|  1.724e-06      \t|  0.00010905     \t|\n",
      "|  [LightningModule]MonetDense.setup                                                                                                                              \t|  1.608e-06      \t|  1              \t|  1.608e-06      \t|  0.00010171     \t|\n",
      "|  [Callback]ModelSummary.teardown                                                                                                                                \t|  1.49e-06       \t|  1              \t|  1.49e-06       \t|  9.4248e-05     \t|\n",
      "|  [LightningModule]MonetDense.teardown                                                                                                                           \t|  1.278e-06      \t|  1              \t|  1.278e-06      \t|  8.0839e-05     \t|\n",
      "|  [Callback]ModelCheckpoint{'monitor': 'val_loss', 'mode': 'min', 'every_n_train_steps': 0, 'every_n_epochs': 1, 'train_time_interval': None}.teardown           \t|  1.268e-06      \t|  1              \t|  1.268e-06      \t|  8.0205e-05     \t|\n",
      "|  [Callback]ModelSummary.on_test_epoch_end                                                                                                                       \t|  1.23e-06       \t|  1              \t|  1.23e-06       \t|  7.7803e-05     \t|\n",
      "|  [Callback]ModelCheckpoint{'monitor': 'val_loss', 'mode': 'min', 'every_n_train_steps': 0, 'every_n_epochs': 1, 'train_time_interval': None}.on_test_end        \t|  1.161e-06      \t|  1              \t|  1.161e-06      \t|  7.3438e-05     \t|\n",
      "|  [Callback]ModelCheckpoint{'monitor': 'val_loss', 'mode': 'min', 'every_n_train_steps': 0, 'every_n_epochs': 1, 'train_time_interval': None}.on_test_epoch_end  \t|  1.058e-06      \t|  1              \t|  1.058e-06      \t|  6.6921e-05     \t|\n",
      "|  [LightningModule]MonetDense.on_test_end                                                                                                                        \t|  1.049e-06      \t|  1              \t|  1.049e-06      \t|  6.6354e-05     \t|\n",
      "|  [LightningModule]MonetDense.on_test_epoch_end                                                                                                                  \t|  9.84e-07       \t|  1              \t|  9.84e-07       \t|  6.2242e-05     \t|\n",
      "--------------------------------------------------------------------------------------------------------------------------------------------------------------------------------------------------------------------------------------------------------------------------\n",
      "\n"
     ]
    },
    {
     "name": "stdout",
     "output_type": "stream",
     "text": [
      "MonetDense__[512, 512, 512, 512]__10__19__XENIUM__Adam__NUM_SPLITS=3\n",
      "There are 64 graph splits for the Xenium Dataset.\n"
     ]
    },
    {
     "name": "stderr",
     "output_type": "stream",
     "text": [
      "GPU available: True (cuda), used: True\n",
      "TPU available: False, using: 0 TPU cores\n",
      "IPU available: False, using: 0 IPUs\n",
      "HPU available: False, using: 0 HPUs\n",
      "`Trainer(limit_train_batches=1.0)` was configured so 100% of the batches per epoch will be used..\n",
      "`Trainer(limit_val_batches=1.0)` was configured so 100% of the batches will be used..\n",
      "LOCAL_RANK: 0 - CUDA_VISIBLE_DEVICES: [4,5,6]\n"
     ]
    },
    {
     "name": "stdout",
     "output_type": "stream",
     "text": [
      "The number of parameters for radius 19 is 10967684\n"
     ]
    },
    {
     "data": {
      "application/vnd.jupyter.widget-view+json": {
       "model_id": "279d4d4968f14f6bb9513efe0783f058",
       "version_major": 2,
       "version_minor": 0
      },
      "text/plain": [
       "Testing: |          | 0/? [00:00<?, ?it/s]"
      ]
     },
     "metadata": {},
     "output_type": "display_data"
    },
    {
     "data": {
      "text/html": [
       "<pre style=\"white-space:pre;overflow-x:auto;line-height:normal;font-family:Menlo,'DejaVu Sans Mono',consolas,'Courier New',monospace\">┏━━━━━━━━━━━━━━━━━━━━━━━━━━━┳━━━━━━━━━━━━━━━━━━━━━━━━━━━┓\n",
       "┃<span style=\"font-weight: bold\">        Test metric        </span>┃<span style=\"font-weight: bold\">       DataLoader 0        </span>┃\n",
       "┡━━━━━━━━━━━━━━━━━━━━━━━━━━━╇━━━━━━━━━━━━━━━━━━━━━━━━━━━┩\n",
       "│<span style=\"color: #008080; text-decoration-color: #008080\">         test_loss         </span>│<span style=\"color: #800080; text-decoration-color: #800080\">    0.3098253905773163     </span>│\n",
       "│<span style=\"color: #008080; text-decoration-color: #008080\">       test_loss_mse       </span>│<span style=\"color: #800080; text-decoration-color: #800080\">    0.3098253905773163     </span>│\n",
       "└───────────────────────────┴───────────────────────────┘\n",
       "</pre>\n"
      ],
      "text/plain": [
       "┏━━━━━━━━━━━━━━━━━━━━━━━━━━━┳━━━━━━━━━━━━━━━━━━━━━━━━━━━┓\n",
       "┃\u001b[1m \u001b[0m\u001b[1m       Test metric       \u001b[0m\u001b[1m \u001b[0m┃\u001b[1m \u001b[0m\u001b[1m      DataLoader 0       \u001b[0m\u001b[1m \u001b[0m┃\n",
       "┡━━━━━━━━━━━━━━━━━━━━━━━━━━━╇━━━━━━━━━━━━━━━━━━━━━━━━━━━┩\n",
       "│\u001b[36m \u001b[0m\u001b[36m        test_loss        \u001b[0m\u001b[36m \u001b[0m│\u001b[35m \u001b[0m\u001b[35m   0.3098253905773163    \u001b[0m\u001b[35m \u001b[0m│\n",
       "│\u001b[36m \u001b[0m\u001b[36m      test_loss_mse      \u001b[0m\u001b[36m \u001b[0m│\u001b[35m \u001b[0m\u001b[35m   0.3098253905773163    \u001b[0m\u001b[35m \u001b[0m│\n",
       "└───────────────────────────┴───────────────────────────┘\n"
      ]
     },
     "metadata": {},
     "output_type": "display_data"
    },
    {
     "name": "stderr",
     "output_type": "stream",
     "text": [
      "TEST Profiler Report\n",
      "\n",
      "--------------------------------------------------------------------------------------------------------------------------------------------------------------------------------------------------------------------------------------------------------------------------\n",
      "|  Action                                                                                                                                                         \t|  Mean duration (s)\t|  Num calls      \t|  Total time (s) \t|  Percentage %   \t|\n",
      "--------------------------------------------------------------------------------------------------------------------------------------------------------------------------------------------------------------------------------------------------------------------------\n",
      "|  Total                                                                                                                                                          \t|  -              \t|  184            \t|  1.9492         \t|  100 %          \t|\n",
      "--------------------------------------------------------------------------------------------------------------------------------------------------------------------------------------------------------------------------------------------------------------------------\n",
      "|  [Strategy]SingleDeviceStrategy.test_step                                                                                                                       \t|  0.090022       \t|  11             \t|  0.99025        \t|  50.802         \t|\n",
      "|  [Strategy]SingleDeviceStrategy.batch_to_device                                                                                                                 \t|  0.0051606      \t|  11             \t|  0.056767       \t|  2.9123         \t|\n",
      "|  [LightningModule]MonetDense.transfer_batch_to_device                                                                                                           \t|  0.0051016      \t|  11             \t|  0.056118       \t|  2.879          \t|\n",
      "|  [_EvaluationLoop].test_next                                                                                                                                    \t|  0.0041428      \t|  11             \t|  0.045571       \t|  2.3379         \t|\n",
      "|  [Callback]TQDMProgressBar.on_test_start                                                                                                                        \t|  0.020306       \t|  1              \t|  0.020306       \t|  1.0418         \t|\n",
      "|  [Callback]TQDMProgressBar.on_test_batch_end                                                                                                                    \t|  0.00066124     \t|  11             \t|  0.0072736      \t|  0.37316        \t|\n",
      "|  [Callback]TQDMProgressBar.on_test_end                                                                                                                          \t|  0.0012082      \t|  1              \t|  0.0012082      \t|  0.061983       \t|\n",
      "|  [Callback]TQDMProgressBar.on_test_batch_start                                                                                                                  \t|  0.00010983     \t|  11             \t|  0.0012081      \t|  0.061981       \t|\n",
      "|  [LightningModule]MonetDense.on_test_model_eval                                                                                                                 \t|  0.00061482     \t|  1              \t|  0.00061482     \t|  0.031542       \t|\n",
      "|  [LightningModule]MonetDense.on_test_model_train                                                                                                                \t|  0.00021413     \t|  1              \t|  0.00021413     \t|  0.010985       \t|\n",
      "|  [Callback]ModelCheckpoint{'monitor': 'val_loss', 'mode': 'min', 'every_n_train_steps': 0, 'every_n_epochs': 1, 'train_time_interval': None}.setup              \t|  7.7378e-05     \t|  1              \t|  7.7378e-05     \t|  0.0039697      \t|\n",
      "|  [Callback]ModelSummary.on_test_batch_end                                                                                                                       \t|  3.3124e-06     \t|  11             \t|  3.6437e-05     \t|  0.0018693      \t|\n",
      "|  [LightningModule]MonetDense.on_before_batch_transfer                                                                                                           \t|  3.0264e-06     \t|  11             \t|  3.329e-05      \t|  0.0017079      \t|\n",
      "|  [Callback]ModelSummary.on_test_batch_start                                                                                                                     \t|  1.7618e-06     \t|  11             \t|  1.938e-05      \t|  0.00099425     \t|\n",
      "|  [LightningModule]MonetDense.on_after_batch_transfer                                                                                                            \t|  1.7573e-06     \t|  11             \t|  1.933e-05      \t|  0.00099169     \t|\n",
      "|  [Callback]ModelSummary.on_test_start                                                                                                                           \t|  1.4855e-05     \t|  1              \t|  1.4855e-05     \t|  0.0007621      \t|\n",
      "|  [Callback]ModelCheckpoint{'monitor': 'val_loss', 'mode': 'min', 'every_n_train_steps': 0, 'every_n_epochs': 1, 'train_time_interval': None}.on_test_batch_end  \t|  1.3296e-06     \t|  11             \t|  1.4626e-05     \t|  0.00075035     \t|\n",
      "|  [LightningModule]MonetDense.on_test_batch_end                                                                                                                  \t|  1.299e-06      \t|  11             \t|  1.4289e-05     \t|  0.00073307     \t|\n",
      "|  [Callback]TQDMProgressBar.setup                                                                                                                                \t|  1.3882e-05     \t|  1              \t|  1.3882e-05     \t|  0.00071219     \t|\n",
      "|  [Callback]ModelCheckpoint{'monitor': 'val_loss', 'mode': 'min', 'every_n_train_steps': 0, 'every_n_epochs': 1, 'train_time_interval': None}.on_test_batch_start\t|  1.2614e-06     \t|  11             \t|  1.3875e-05     \t|  0.00071183     \t|\n",
      "|  [LightningModule]MonetDense.on_test_epoch_start                                                                                                                \t|  1.2657e-05     \t|  1              \t|  1.2657e-05     \t|  0.00064934     \t|\n",
      "|  [LightningModule]MonetDense.on_test_batch_start                                                                                                                \t|  1.0023e-06     \t|  11             \t|  1.1025e-05     \t|  0.00056561     \t|\n",
      "|  [Callback]ModelSummary.on_test_end                                                                                                                             \t|  1.0156e-05     \t|  1              \t|  1.0156e-05     \t|  0.00052103     \t|\n",
      "|  [LightningModule]MonetDense.teardown                                                                                                                           \t|  7.632e-06      \t|  1              \t|  7.632e-06      \t|  0.00039154     \t|\n",
      "|  [Strategy]SingleDeviceStrategy.on_test_start                                                                                                                   \t|  6.751e-06      \t|  1              \t|  6.751e-06      \t|  0.00034634     \t|\n",
      "|  [Strategy]SingleDeviceStrategy.on_test_end                                                                                                                     \t|  5.965e-06      \t|  1              \t|  5.965e-06      \t|  0.00030602     \t|\n",
      "|  [LightningModule]MonetDense.configure_callbacks                                                                                                                \t|  5.558e-06      \t|  1              \t|  5.558e-06      \t|  0.00028514     \t|\n",
      "|  [LightningModule]MonetDense.on_test_end                                                                                                                        \t|  4.915e-06      \t|  1              \t|  4.915e-06      \t|  0.00025215     \t|\n",
      "|  [Callback]TQDMProgressBar.teardown                                                                                                                             \t|  4.202e-06      \t|  1              \t|  4.202e-06      \t|  0.00021557     \t|\n",
      "|  [Callback]ModelCheckpoint{'monitor': 'val_loss', 'mode': 'min', 'every_n_train_steps': 0, 'every_n_epochs': 1, 'train_time_interval': None}.on_test_start      \t|  3.349e-06      \t|  1              \t|  3.349e-06      \t|  0.00017181     \t|\n",
      "|  [Callback]TQDMProgressBar.on_test_epoch_end                                                                                                                    \t|  3.042e-06      \t|  1              \t|  3.042e-06      \t|  0.00015606     \t|\n",
      "|  [LightningModule]MonetDense.on_test_start                                                                                                                      \t|  2.797e-06      \t|  1              \t|  2.797e-06      \t|  0.00014349     \t|\n",
      "|  [Callback]TQDMProgressBar.on_test_epoch_start                                                                                                                  \t|  2.781e-06      \t|  1              \t|  2.781e-06      \t|  0.00014267     \t|\n",
      "|  [Callback]ModelCheckpoint{'monitor': 'val_loss', 'mode': 'min', 'every_n_train_steps': 0, 'every_n_epochs': 1, 'train_time_interval': None}.on_test_epoch_start\t|  2.634e-06      \t|  1              \t|  2.634e-06      \t|  0.00013513     \t|\n",
      "|  [Callback]ModelSummary.on_test_epoch_start                                                                                                                     \t|  2.485e-06      \t|  1              \t|  2.485e-06      \t|  0.00012749     \t|\n",
      "|  [Callback]ModelSummary.setup                                                                                                                                   \t|  2.011e-06      \t|  1              \t|  2.011e-06      \t|  0.00010317     \t|\n",
      "|  [LightningModule]MonetDense.setup                                                                                                                              \t|  1.546e-06      \t|  1              \t|  1.546e-06      \t|  7.9314e-05     \t|\n",
      "|  [Callback]ModelCheckpoint{'monitor': 'val_loss', 'mode': 'min', 'every_n_train_steps': 0, 'every_n_epochs': 1, 'train_time_interval': None}.on_test_end        \t|  1.355e-06      \t|  1              \t|  1.355e-06      \t|  6.9515e-05     \t|\n",
      "|  [LightningModule]MonetDense.prepare_data                                                                                                                       \t|  1.343e-06      \t|  1              \t|  1.343e-06      \t|  6.89e-05       \t|\n",
      "|  [Callback]ModelSummary.teardown                                                                                                                                \t|  1.327e-06      \t|  1              \t|  1.327e-06      \t|  6.8078e-05     \t|\n",
      "|  [Callback]ModelCheckpoint{'monitor': 'val_loss', 'mode': 'min', 'every_n_train_steps': 0, 'every_n_epochs': 1, 'train_time_interval': None}.teardown           \t|  1.209e-06      \t|  1              \t|  1.209e-06      \t|  6.2025e-05     \t|\n",
      "|  [Callback]ModelSummary.on_test_epoch_end                                                                                                                       \t|  1.065e-06      \t|  1              \t|  1.065e-06      \t|  5.4637e-05     \t|\n",
      "|  [Callback]ModelCheckpoint{'monitor': 'val_loss', 'mode': 'min', 'every_n_train_steps': 0, 'every_n_epochs': 1, 'train_time_interval': None}.on_test_epoch_end  \t|  9.4899e-07     \t|  1              \t|  9.4899e-07     \t|  4.8686e-05     \t|\n",
      "|  [LightningModule]MonetDense.on_test_epoch_end                                                                                                                  \t|  9.1799e-07     \t|  1              \t|  9.1799e-07     \t|  4.7096e-05     \t|\n",
      "--------------------------------------------------------------------------------------------------------------------------------------------------------------------------------------------------------------------------------------------------------------------------\n",
      "\n"
     ]
    },
    {
     "name": "stdout",
     "output_type": "stream",
     "text": [
      "MonetDense__[512, 512, 512, 512]__10__6__XENIUM__Adam__NUM_SPLITS=3\n",
      "There are 64 graph splits for the Xenium Dataset.\n"
     ]
    },
    {
     "name": "stderr",
     "output_type": "stream",
     "text": [
      "GPU available: True (cuda), used: True\n",
      "TPU available: False, using: 0 TPU cores\n",
      "IPU available: False, using: 0 IPUs\n",
      "HPU available: False, using: 0 HPUs\n",
      "`Trainer(limit_train_batches=1.0)` was configured so 100% of the batches per epoch will be used..\n",
      "`Trainer(limit_val_batches=1.0)` was configured so 100% of the batches will be used..\n",
      "LOCAL_RANK: 0 - CUDA_VISIBLE_DEVICES: [4,5,6]\n"
     ]
    },
    {
     "name": "stdout",
     "output_type": "stream",
     "text": [
      "The number of parameters for radius 6 is 10967684\n"
     ]
    },
    {
     "data": {
      "application/vnd.jupyter.widget-view+json": {
       "model_id": "873f77a85db644abbc1278cd5a0d02b4",
       "version_major": 2,
       "version_minor": 0
      },
      "text/plain": [
       "Testing: |          | 0/? [00:00<?, ?it/s]"
      ]
     },
     "metadata": {},
     "output_type": "display_data"
    },
    {
     "data": {
      "text/html": [
       "<pre style=\"white-space:pre;overflow-x:auto;line-height:normal;font-family:Menlo,'DejaVu Sans Mono',consolas,'Courier New',monospace\">┏━━━━━━━━━━━━━━━━━━━━━━━━━━━┳━━━━━━━━━━━━━━━━━━━━━━━━━━━┓\n",
       "┃<span style=\"font-weight: bold\">        Test metric        </span>┃<span style=\"font-weight: bold\">       DataLoader 0        </span>┃\n",
       "┡━━━━━━━━━━━━━━━━━━━━━━━━━━━╇━━━━━━━━━━━━━━━━━━━━━━━━━━━┩\n",
       "│<span style=\"color: #008080; text-decoration-color: #008080\">         test_loss         </span>│<span style=\"color: #800080; text-decoration-color: #800080\">    0.31778082251548767    </span>│\n",
       "│<span style=\"color: #008080; text-decoration-color: #008080\">       test_loss_mse       </span>│<span style=\"color: #800080; text-decoration-color: #800080\">    0.31778082251548767    </span>│\n",
       "└───────────────────────────┴───────────────────────────┘\n",
       "</pre>\n"
      ],
      "text/plain": [
       "┏━━━━━━━━━━━━━━━━━━━━━━━━━━━┳━━━━━━━━━━━━━━━━━━━━━━━━━━━┓\n",
       "┃\u001b[1m \u001b[0m\u001b[1m       Test metric       \u001b[0m\u001b[1m \u001b[0m┃\u001b[1m \u001b[0m\u001b[1m      DataLoader 0       \u001b[0m\u001b[1m \u001b[0m┃\n",
       "┡━━━━━━━━━━━━━━━━━━━━━━━━━━━╇━━━━━━━━━━━━━━━━━━━━━━━━━━━┩\n",
       "│\u001b[36m \u001b[0m\u001b[36m        test_loss        \u001b[0m\u001b[36m \u001b[0m│\u001b[35m \u001b[0m\u001b[35m   0.31778082251548767   \u001b[0m\u001b[35m \u001b[0m│\n",
       "│\u001b[36m \u001b[0m\u001b[36m      test_loss_mse      \u001b[0m\u001b[36m \u001b[0m│\u001b[35m \u001b[0m\u001b[35m   0.31778082251548767   \u001b[0m\u001b[35m \u001b[0m│\n",
       "└───────────────────────────┴───────────────────────────┘\n"
      ]
     },
     "metadata": {},
     "output_type": "display_data"
    },
    {
     "name": "stderr",
     "output_type": "stream",
     "text": [
      "TEST Profiler Report\n",
      "\n",
      "--------------------------------------------------------------------------------------------------------------------------------------------------------------------------------------------------------------------------------------------------------------------------\n",
      "|  Action                                                                                                                                                         \t|  Mean duration (s)\t|  Num calls      \t|  Total time (s) \t|  Percentage %   \t|\n",
      "--------------------------------------------------------------------------------------------------------------------------------------------------------------------------------------------------------------------------------------------------------------------------\n",
      "|  Total                                                                                                                                                          \t|  -              \t|  184            \t|  1.6652         \t|  100 %          \t|\n",
      "--------------------------------------------------------------------------------------------------------------------------------------------------------------------------------------------------------------------------------------------------------------------------\n",
      "|  [Strategy]SingleDeviceStrategy.test_step                                                                                                                       \t|  0.057111       \t|  11             \t|  0.62822        \t|  37.725         \t|\n",
      "|  [Strategy]SingleDeviceStrategy.batch_to_device                                                                                                                 \t|  0.010151       \t|  11             \t|  0.11167        \t|  6.7057         \t|\n",
      "|  [LightningModule]MonetDense.transfer_batch_to_device                                                                                                           \t|  0.010094       \t|  11             \t|  0.11103        \t|  6.6676         \t|\n",
      "|  [_EvaluationLoop].test_next                                                                                                                                    \t|  0.0038239      \t|  11             \t|  0.042063       \t|  2.5259         \t|\n",
      "|  [Callback]TQDMProgressBar.on_test_start                                                                                                                        \t|  0.018636       \t|  1              \t|  0.018636       \t|  1.1191         \t|\n",
      "|  [Callback]TQDMProgressBar.on_test_batch_end                                                                                                                    \t|  0.0006085      \t|  11             \t|  0.0066935      \t|  0.40195        \t|\n",
      "|  [Callback]TQDMProgressBar.on_test_batch_start                                                                                                                  \t|  8.7096e-05     \t|  11             \t|  0.00095806     \t|  0.057533       \t|\n",
      "|  [LightningModule]MonetDense.on_test_model_eval                                                                                                                 \t|  0.00055608     \t|  1              \t|  0.00055608     \t|  0.033393       \t|\n",
      "|  [Callback]TQDMProgressBar.on_test_end                                                                                                                          \t|  0.00047456     \t|  1              \t|  0.00047456     \t|  0.028498       \t|\n",
      "|  [LightningModule]MonetDense.on_test_model_train                                                                                                                \t|  0.00014211     \t|  1              \t|  0.00014211     \t|  0.0085339      \t|\n",
      "|  [Callback]ModelCheckpoint{'monitor': 'val_loss', 'mode': 'min', 'every_n_train_steps': 0, 'every_n_epochs': 1, 'train_time_interval': None}.setup              \t|  0.00012676     \t|  1              \t|  0.00012676     \t|  0.0076122      \t|\n",
      "|  [Callback]ModelSummary.on_test_batch_end                                                                                                                       \t|  2.9511e-06     \t|  11             \t|  3.2462e-05     \t|  0.0019494      \t|\n",
      "|  [LightningModule]MonetDense.on_before_batch_transfer                                                                                                           \t|  1.9337e-06     \t|  11             \t|  2.1271e-05     \t|  0.0012774      \t|\n",
      "|  [Callback]ModelSummary.on_test_batch_start                                                                                                                     \t|  1.7034e-06     \t|  11             \t|  1.8737e-05     \t|  0.0011252      \t|\n",
      "|  [LightningModule]MonetDense.on_after_batch_transfer                                                                                                            \t|  1.544e-06      \t|  11             \t|  1.6984e-05     \t|  0.0010199      \t|\n",
      "|  [Callback]ModelCheckpoint{'monitor': 'val_loss', 'mode': 'min', 'every_n_train_steps': 0, 'every_n_epochs': 1, 'train_time_interval': None}.on_test_batch_end  \t|  1.3846e-06     \t|  11             \t|  1.5231e-05     \t|  0.00091464     \t|\n",
      "|  [LightningModule]MonetDense.on_test_batch_end                                                                                                                  \t|  1.3316e-06     \t|  11             \t|  1.4648e-05     \t|  0.00087963     \t|\n",
      "|  [Callback]TQDMProgressBar.setup                                                                                                                                \t|  1.3054e-05     \t|  1              \t|  1.3054e-05     \t|  0.00078391     \t|\n",
      "|  [Callback]ModelCheckpoint{'monitor': 'val_loss', 'mode': 'min', 'every_n_train_steps': 0, 'every_n_epochs': 1, 'train_time_interval': None}.on_test_batch_start\t|  1.1394e-06     \t|  11             \t|  1.2533e-05     \t|  0.00075262     \t|\n",
      "|  [LightningModule]MonetDense.on_test_batch_start                                                                                                                \t|  9.2064e-07     \t|  11             \t|  1.0127e-05     \t|  0.00060814     \t|\n",
      "|  [Callback]ModelSummary.on_test_start                                                                                                                           \t|  9.536e-06      \t|  1              \t|  9.536e-06      \t|  0.00057265     \t|\n",
      "|  [LightningModule]MonetDense.configure_callbacks                                                                                                                \t|  9.272e-06      \t|  1              \t|  9.272e-06      \t|  0.0005568      \t|\n",
      "|  [LightningModule]MonetDense.on_test_epoch_start                                                                                                                \t|  7.225e-06      \t|  1              \t|  7.225e-06      \t|  0.00043387     \t|\n",
      "|  [Strategy]SingleDeviceStrategy.on_test_end                                                                                                                     \t|  6.473e-06      \t|  1              \t|  6.473e-06      \t|  0.00038871     \t|\n",
      "|  [Strategy]SingleDeviceStrategy.on_test_start                                                                                                                   \t|  5.116e-06      \t|  1              \t|  5.116e-06      \t|  0.00030722     \t|\n",
      "|  [Callback]TQDMProgressBar.teardown                                                                                                                             \t|  4.169e-06      \t|  1              \t|  4.169e-06      \t|  0.00025035     \t|\n",
      "|  [Callback]TQDMProgressBar.on_test_epoch_end                                                                                                                    \t|  3.011e-06      \t|  1              \t|  3.011e-06      \t|  0.00018082     \t|\n",
      "|  [Callback]ModelSummary.on_test_end                                                                                                                             \t|  2.472e-06      \t|  1              \t|  2.472e-06      \t|  0.00014845     \t|\n",
      "|  [Callback]ModelSummary.setup                                                                                                                                   \t|  1.833e-06      \t|  1              \t|  1.833e-06      \t|  0.00011007     \t|\n",
      "|  [Callback]TQDMProgressBar.on_test_epoch_start                                                                                                                  \t|  1.63e-06       \t|  1              \t|  1.63e-06       \t|  9.7885e-05     \t|\n",
      "|  [LightningModule]MonetDense.setup                                                                                                                              \t|  1.52e-06       \t|  1              \t|  1.52e-06       \t|  9.1277e-05     \t|\n",
      "|  [Callback]ModelSummary.teardown                                                                                                                                \t|  1.39e-06       \t|  1              \t|  1.39e-06       \t|  8.3471e-05     \t|\n",
      "|  [LightningModule]MonetDense.teardown                                                                                                                           \t|  1.316e-06      \t|  1              \t|  1.316e-06      \t|  7.9027e-05     \t|\n",
      "|  [LightningModule]MonetDense.prepare_data                                                                                                                       \t|  1.311e-06      \t|  1              \t|  1.311e-06      \t|  7.8728e-05     \t|\n",
      "|  [Callback]ModelSummary.on_test_epoch_end                                                                                                                       \t|  1.266e-06      \t|  1              \t|  1.266e-06      \t|  7.6024e-05     \t|\n",
      "|  [LightningModule]MonetDense.on_test_start                                                                                                                      \t|  1.256e-06      \t|  1              \t|  1.256e-06      \t|  7.5425e-05     \t|\n",
      "|  [Callback]ModelCheckpoint{'monitor': 'val_loss', 'mode': 'min', 'every_n_train_steps': 0, 'every_n_epochs': 1, 'train_time_interval': None}.on_test_start      \t|  1.249e-06      \t|  1              \t|  1.249e-06      \t|  7.5003e-05     \t|\n",
      "|  [Callback]ModelCheckpoint{'monitor': 'val_loss', 'mode': 'min', 'every_n_train_steps': 0, 'every_n_epochs': 1, 'train_time_interval': None}.on_test_end        \t|  1.221e-06      \t|  1              \t|  1.221e-06      \t|  7.3322e-05     \t|\n",
      "|  [Callback]ModelCheckpoint{'monitor': 'val_loss', 'mode': 'min', 'every_n_train_steps': 0, 'every_n_epochs': 1, 'train_time_interval': None}.teardown           \t|  1.201e-06      \t|  1              \t|  1.201e-06      \t|  7.2122e-05     \t|\n",
      "|  [LightningModule]MonetDense.on_test_end                                                                                                                        \t|  1.116e-06      \t|  1              \t|  1.116e-06      \t|  6.7016e-05     \t|\n",
      "|  [Callback]ModelCheckpoint{'monitor': 'val_loss', 'mode': 'min', 'every_n_train_steps': 0, 'every_n_epochs': 1, 'train_time_interval': None}.on_test_epoch_end  \t|  9.8499e-07     \t|  1              \t|  9.8499e-07     \t|  5.915e-05      \t|\n",
      "|  [Callback]ModelCheckpoint{'monitor': 'val_loss', 'mode': 'min', 'every_n_train_steps': 0, 'every_n_epochs': 1, 'train_time_interval': None}.on_test_epoch_start\t|  9.8199e-07     \t|  1              \t|  9.8199e-07     \t|  5.897e-05      \t|\n",
      "|  [LightningModule]MonetDense.on_test_epoch_end                                                                                                                  \t|  9.65e-07       \t|  1              \t|  9.65e-07       \t|  5.7949e-05     \t|\n",
      "|  [Callback]ModelSummary.on_test_epoch_start                                                                                                                     \t|  9.3199e-07     \t|  1              \t|  9.3199e-07     \t|  5.5967e-05     \t|\n",
      "--------------------------------------------------------------------------------------------------------------------------------------------------------------------------------------------------------------------------------------------------------------------------\n",
      "\n"
     ]
    },
    {
     "name": "stdout",
     "output_type": "stream",
     "text": [
      "MonetDense__[512, 512, 512, 512]__10__17__XENIUM__Adam__NUM_SPLITS=3\n",
      "There are 64 graph splits for the Xenium Dataset.\n"
     ]
    },
    {
     "name": "stderr",
     "output_type": "stream",
     "text": [
      "GPU available: True (cuda), used: True\n",
      "TPU available: False, using: 0 TPU cores\n",
      "IPU available: False, using: 0 IPUs\n",
      "HPU available: False, using: 0 HPUs\n",
      "`Trainer(limit_train_batches=1.0)` was configured so 100% of the batches per epoch will be used..\n",
      "`Trainer(limit_val_batches=1.0)` was configured so 100% of the batches will be used..\n",
      "LOCAL_RANK: 0 - CUDA_VISIBLE_DEVICES: [4,5,6]\n"
     ]
    },
    {
     "name": "stdout",
     "output_type": "stream",
     "text": [
      "The number of parameters for radius 17 is 10967684\n"
     ]
    },
    {
     "data": {
      "application/vnd.jupyter.widget-view+json": {
       "model_id": "f447b8b3d18e4c75a699e129c4a45495",
       "version_major": 2,
       "version_minor": 0
      },
      "text/plain": [
       "Testing: |          | 0/? [00:00<?, ?it/s]"
      ]
     },
     "metadata": {},
     "output_type": "display_data"
    },
    {
     "data": {
      "text/html": [
       "<pre style=\"white-space:pre;overflow-x:auto;line-height:normal;font-family:Menlo,'DejaVu Sans Mono',consolas,'Courier New',monospace\">┏━━━━━━━━━━━━━━━━━━━━━━━━━━━┳━━━━━━━━━━━━━━━━━━━━━━━━━━━┓\n",
       "┃<span style=\"font-weight: bold\">        Test metric        </span>┃<span style=\"font-weight: bold\">       DataLoader 0        </span>┃\n",
       "┡━━━━━━━━━━━━━━━━━━━━━━━━━━━╇━━━━━━━━━━━━━━━━━━━━━━━━━━━┩\n",
       "│<span style=\"color: #008080; text-decoration-color: #008080\">         test_loss         </span>│<span style=\"color: #800080; text-decoration-color: #800080\">     0.35174760222435      </span>│\n",
       "│<span style=\"color: #008080; text-decoration-color: #008080\">       test_loss_mse       </span>│<span style=\"color: #800080; text-decoration-color: #800080\">     0.35174760222435      </span>│\n",
       "└───────────────────────────┴───────────────────────────┘\n",
       "</pre>\n"
      ],
      "text/plain": [
       "┏━━━━━━━━━━━━━━━━━━━━━━━━━━━┳━━━━━━━━━━━━━━━━━━━━━━━━━━━┓\n",
       "┃\u001b[1m \u001b[0m\u001b[1m       Test metric       \u001b[0m\u001b[1m \u001b[0m┃\u001b[1m \u001b[0m\u001b[1m      DataLoader 0       \u001b[0m\u001b[1m \u001b[0m┃\n",
       "┡━━━━━━━━━━━━━━━━━━━━━━━━━━━╇━━━━━━━━━━━━━━━━━━━━━━━━━━━┩\n",
       "│\u001b[36m \u001b[0m\u001b[36m        test_loss        \u001b[0m\u001b[36m \u001b[0m│\u001b[35m \u001b[0m\u001b[35m    0.35174760222435     \u001b[0m\u001b[35m \u001b[0m│\n",
       "│\u001b[36m \u001b[0m\u001b[36m      test_loss_mse      \u001b[0m\u001b[36m \u001b[0m│\u001b[35m \u001b[0m\u001b[35m    0.35174760222435     \u001b[0m\u001b[35m \u001b[0m│\n",
       "└───────────────────────────┴───────────────────────────┘\n"
      ]
     },
     "metadata": {},
     "output_type": "display_data"
    },
    {
     "name": "stderr",
     "output_type": "stream",
     "text": [
      "TEST Profiler Report\n",
      "\n",
      "--------------------------------------------------------------------------------------------------------------------------------------------------------------------------------------------------------------------------------------------------------------------------\n",
      "|  Action                                                                                                                                                         \t|  Mean duration (s)\t|  Num calls      \t|  Total time (s) \t|  Percentage %   \t|\n",
      "--------------------------------------------------------------------------------------------------------------------------------------------------------------------------------------------------------------------------------------------------------------------------\n",
      "|  Total                                                                                                                                                          \t|  -              \t|  184            \t|  1.9513         \t|  100 %          \t|\n",
      "--------------------------------------------------------------------------------------------------------------------------------------------------------------------------------------------------------------------------------------------------------------------------\n",
      "|  [Strategy]SingleDeviceStrategy.test_step                                                                                                                       \t|  0.082124       \t|  11             \t|  0.90337        \t|  46.295         \t|\n",
      "|  [_EvaluationLoop].test_next                                                                                                                                    \t|  0.0049856      \t|  11             \t|  0.054842       \t|  2.8105         \t|\n",
      "|  [Strategy]SingleDeviceStrategy.batch_to_device                                                                                                                 \t|  0.0049728      \t|  11             \t|  0.054701       \t|  2.8033         \t|\n",
      "|  [LightningModule]MonetDense.transfer_batch_to_device                                                                                                           \t|  0.0049063      \t|  11             \t|  0.05397        \t|  2.7658         \t|\n",
      "|  [Callback]TQDMProgressBar.on_test_start                                                                                                                        \t|  0.020924       \t|  1              \t|  0.020924       \t|  1.0723         \t|\n",
      "|  [Callback]TQDMProgressBar.on_test_batch_end                                                                                                                    \t|  0.00073004     \t|  11             \t|  0.0080305      \t|  0.41154        \t|\n",
      "|  [Callback]TQDMProgressBar.on_test_batch_start                                                                                                                  \t|  0.00012227     \t|  11             \t|  0.0013449      \t|  0.068924       \t|\n",
      "|  [LightningModule]MonetDense.on_test_model_eval                                                                                                                 \t|  0.00055925     \t|  1              \t|  0.00055925     \t|  0.02866        \t|\n",
      "|  [Callback]TQDMProgressBar.on_test_end                                                                                                                          \t|  0.0005239      \t|  1              \t|  0.0005239      \t|  0.026848       \t|\n",
      "|  [LightningModule]MonetDense.on_test_model_train                                                                                                                \t|  0.00015887     \t|  1              \t|  0.00015887     \t|  0.0081417      \t|\n",
      "|  [Callback]ModelCheckpoint{'monitor': 'val_loss', 'mode': 'min', 'every_n_train_steps': 0, 'every_n_epochs': 1, 'train_time_interval': None}.setup              \t|  0.00014032     \t|  1              \t|  0.00014032     \t|  0.0071911      \t|\n",
      "|  [Callback]ModelSummary.on_test_batch_end                                                                                                                       \t|  3.7815e-06     \t|  11             \t|  4.1596e-05     \t|  0.0021317      \t|\n",
      "|  [LightningModule]MonetDense.on_before_batch_transfer                                                                                                           \t|  2.876e-06      \t|  11             \t|  3.1636e-05     \t|  0.0016212      \t|\n",
      "|  [Callback]ModelSummary.on_test_batch_start                                                                                                                     \t|  1.9132e-06     \t|  11             \t|  2.1045e-05     \t|  0.0010785      \t|\n",
      "|  [LightningModule]MonetDense.on_after_batch_transfer                                                                                                            \t|  1.7123e-06     \t|  11             \t|  1.8835e-05     \t|  0.00096524     \t|\n",
      "|  [LightningModule]MonetDense.on_test_batch_end                                                                                                                  \t|  1.6555e-06     \t|  11             \t|  1.821e-05      \t|  0.00093321     \t|\n",
      "|  [Callback]ModelCheckpoint{'monitor': 'val_loss', 'mode': 'min', 'every_n_train_steps': 0, 'every_n_epochs': 1, 'train_time_interval': None}.on_test_batch_end  \t|  1.3756e-06     \t|  11             \t|  1.5132e-05     \t|  0.00077547     \t|\n",
      "|  [Callback]ModelSummary.on_test_start                                                                                                                           \t|  1.4404e-05     \t|  1              \t|  1.4404e-05     \t|  0.00073816     \t|\n",
      "|  [Callback]ModelCheckpoint{'monitor': 'val_loss', 'mode': 'min', 'every_n_train_steps': 0, 'every_n_epochs': 1, 'train_time_interval': None}.on_test_batch_start\t|  1.2644e-06     \t|  11             \t|  1.3909e-05     \t|  0.00071279     \t|\n",
      "|  [LightningModule]MonetDense.configure_callbacks                                                                                                                \t|  1.2768e-05     \t|  1              \t|  1.2768e-05     \t|  0.00065432     \t|\n",
      "|  [LightningModule]MonetDense.on_test_batch_start                                                                                                                \t|  1.0938e-06     \t|  11             \t|  1.2032e-05     \t|  0.0006166      \t|\n",
      "|  [LightningModule]MonetDense.on_test_epoch_start                                                                                                                \t|  1.1618e-05     \t|  1              \t|  1.1618e-05     \t|  0.00059539     \t|\n",
      "|  [Callback]TQDMProgressBar.setup                                                                                                                                \t|  1.0091e-05     \t|  1              \t|  1.0091e-05     \t|  0.00051713     \t|\n",
      "|  [Strategy]SingleDeviceStrategy.on_test_end                                                                                                                     \t|  7.05e-06       \t|  1              \t|  7.05e-06       \t|  0.00036129     \t|\n",
      "|  [Strategy]SingleDeviceStrategy.on_test_start                                                                                                                   \t|  6.913e-06      \t|  1              \t|  6.913e-06      \t|  0.00035427     \t|\n",
      "|  [Callback]TQDMProgressBar.teardown                                                                                                                             \t|  4.204e-06      \t|  1              \t|  4.204e-06      \t|  0.00021544     \t|\n",
      "|  [Callback]TQDMProgressBar.on_test_epoch_end                                                                                                                    \t|  3.175e-06      \t|  1              \t|  3.175e-06      \t|  0.00016271     \t|\n",
      "|  [Callback]ModelSummary.on_test_end                                                                                                                             \t|  2.484e-06      \t|  1              \t|  2.484e-06      \t|  0.0001273      \t|\n",
      "|  [Callback]TQDMProgressBar.on_test_epoch_start                                                                                                                  \t|  2.177e-06      \t|  1              \t|  2.177e-06      \t|  0.00011156     \t|\n",
      "|  [LightningModule]MonetDense.on_test_start                                                                                                                      \t|  2.126e-06      \t|  1              \t|  2.126e-06      \t|  0.00010895     \t|\n",
      "|  [Callback]ModelCheckpoint{'monitor': 'val_loss', 'mode': 'min', 'every_n_train_steps': 0, 'every_n_epochs': 1, 'train_time_interval': None}.on_test_start      \t|  2.081e-06      \t|  1              \t|  2.081e-06      \t|  0.00010665     \t|\n",
      "|  [Callback]ModelSummary.setup                                                                                                                                   \t|  1.984e-06      \t|  1              \t|  1.984e-06      \t|  0.00010167     \t|\n",
      "|  [Callback]ModelCheckpoint{'monitor': 'val_loss', 'mode': 'min', 'every_n_train_steps': 0, 'every_n_epochs': 1, 'train_time_interval': None}.on_test_epoch_start\t|  1.555e-06      \t|  1              \t|  1.555e-06      \t|  7.9688e-05     \t|\n",
      "|  [Callback]ModelSummary.teardown                                                                                                                                \t|  1.517e-06      \t|  1              \t|  1.517e-06      \t|  7.7742e-05     \t|\n",
      "|  [Callback]ModelSummary.on_test_epoch_start                                                                                                                     \t|  1.514e-06      \t|  1              \t|  1.514e-06      \t|  7.7588e-05     \t|\n",
      "|  [LightningModule]MonetDense.setup                                                                                                                              \t|  1.457e-06      \t|  1              \t|  1.457e-06      \t|  7.4667e-05     \t|\n",
      "|  [LightningModule]MonetDense.teardown                                                                                                                           \t|  1.408e-06      \t|  1              \t|  1.408e-06      \t|  7.2156e-05     \t|\n",
      "|  [LightningModule]MonetDense.prepare_data                                                                                                                       \t|  1.357e-06      \t|  1              \t|  1.357e-06      \t|  6.9543e-05     \t|\n",
      "|  [Callback]ModelCheckpoint{'monitor': 'val_loss', 'mode': 'min', 'every_n_train_steps': 0, 'every_n_epochs': 1, 'train_time_interval': None}.teardown           \t|  1.265e-06      \t|  1              \t|  1.265e-06      \t|  6.4827e-05     \t|\n",
      "|  [Callback]ModelCheckpoint{'monitor': 'val_loss', 'mode': 'min', 'every_n_train_steps': 0, 'every_n_epochs': 1, 'train_time_interval': None}.on_test_end        \t|  1.217e-06      \t|  1              \t|  1.217e-06      \t|  6.2366e-05     \t|\n",
      "|  [Callback]ModelSummary.on_test_epoch_end                                                                                                                       \t|  1.199e-06      \t|  1              \t|  1.199e-06      \t|  6.1446e-05     \t|\n",
      "|  [LightningModule]MonetDense.on_test_end                                                                                                                        \t|  1.043e-06      \t|  1              \t|  1.043e-06      \t|  5.345e-05      \t|\n",
      "|  [Callback]ModelCheckpoint{'monitor': 'val_loss', 'mode': 'min', 'every_n_train_steps': 0, 'every_n_epochs': 1, 'train_time_interval': None}.on_test_epoch_end  \t|  9.92e-07       \t|  1              \t|  9.92e-07       \t|  5.0837e-05     \t|\n",
      "|  [LightningModule]MonetDense.on_test_epoch_end                                                                                                                  \t|  8.8001e-07     \t|  1              \t|  8.8001e-07     \t|  4.5098e-05     \t|\n",
      "--------------------------------------------------------------------------------------------------------------------------------------------------------------------------------------------------------------------------------------------------------------------------\n",
      "\n"
     ]
    },
    {
     "name": "stdout",
     "output_type": "stream",
     "text": [
      "MonetDense__[512, 512, 512, 512]__10__9__XENIUM__Adam__NUM_SPLITS=3\n",
      "There are 64 graph splits for the Xenium Dataset.\n"
     ]
    },
    {
     "name": "stderr",
     "output_type": "stream",
     "text": [
      "GPU available: True (cuda), used: True\n",
      "TPU available: False, using: 0 TPU cores\n",
      "IPU available: False, using: 0 IPUs\n",
      "HPU available: False, using: 0 HPUs\n",
      "`Trainer(limit_train_batches=1.0)` was configured so 100% of the batches per epoch will be used..\n",
      "`Trainer(limit_val_batches=1.0)` was configured so 100% of the batches will be used..\n",
      "LOCAL_RANK: 0 - CUDA_VISIBLE_DEVICES: [4,5,6]\n"
     ]
    },
    {
     "name": "stdout",
     "output_type": "stream",
     "text": [
      "The number of parameters for radius 9 is 10967684\n"
     ]
    },
    {
     "data": {
      "application/vnd.jupyter.widget-view+json": {
       "model_id": "ba3ac4518fe64c61bf1c2bf30276b48d",
       "version_major": 2,
       "version_minor": 0
      },
      "text/plain": [
       "Testing: |          | 0/? [00:00<?, ?it/s]"
      ]
     },
     "metadata": {},
     "output_type": "display_data"
    },
    {
     "data": {
      "text/html": [
       "<pre style=\"white-space:pre;overflow-x:auto;line-height:normal;font-family:Menlo,'DejaVu Sans Mono',consolas,'Courier New',monospace\">┏━━━━━━━━━━━━━━━━━━━━━━━━━━━┳━━━━━━━━━━━━━━━━━━━━━━━━━━━┓\n",
       "┃<span style=\"font-weight: bold\">        Test metric        </span>┃<span style=\"font-weight: bold\">       DataLoader 0        </span>┃\n",
       "┡━━━━━━━━━━━━━━━━━━━━━━━━━━━╇━━━━━━━━━━━━━━━━━━━━━━━━━━━┩\n",
       "│<span style=\"color: #008080; text-decoration-color: #008080\">         test_loss         </span>│<span style=\"color: #800080; text-decoration-color: #800080\">    0.33210620284080505    </span>│\n",
       "│<span style=\"color: #008080; text-decoration-color: #008080\">       test_loss_mse       </span>│<span style=\"color: #800080; text-decoration-color: #800080\">    0.33210620284080505    </span>│\n",
       "└───────────────────────────┴───────────────────────────┘\n",
       "</pre>\n"
      ],
      "text/plain": [
       "┏━━━━━━━━━━━━━━━━━━━━━━━━━━━┳━━━━━━━━━━━━━━━━━━━━━━━━━━━┓\n",
       "┃\u001b[1m \u001b[0m\u001b[1m       Test metric       \u001b[0m\u001b[1m \u001b[0m┃\u001b[1m \u001b[0m\u001b[1m      DataLoader 0       \u001b[0m\u001b[1m \u001b[0m┃\n",
       "┡━━━━━━━━━━━━━━━━━━━━━━━━━━━╇━━━━━━━━━━━━━━━━━━━━━━━━━━━┩\n",
       "│\u001b[36m \u001b[0m\u001b[36m        test_loss        \u001b[0m\u001b[36m \u001b[0m│\u001b[35m \u001b[0m\u001b[35m   0.33210620284080505   \u001b[0m\u001b[35m \u001b[0m│\n",
       "│\u001b[36m \u001b[0m\u001b[36m      test_loss_mse      \u001b[0m\u001b[36m \u001b[0m│\u001b[35m \u001b[0m\u001b[35m   0.33210620284080505   \u001b[0m\u001b[35m \u001b[0m│\n",
       "└───────────────────────────┴───────────────────────────┘\n"
      ]
     },
     "metadata": {},
     "output_type": "display_data"
    },
    {
     "name": "stderr",
     "output_type": "stream",
     "text": [
      "TEST Profiler Report\n",
      "\n",
      "--------------------------------------------------------------------------------------------------------------------------------------------------------------------------------------------------------------------------------------------------------------------------\n",
      "|  Action                                                                                                                                                         \t|  Mean duration (s)\t|  Num calls      \t|  Total time (s) \t|  Percentage %   \t|\n",
      "--------------------------------------------------------------------------------------------------------------------------------------------------------------------------------------------------------------------------------------------------------------------------\n",
      "|  Total                                                                                                                                                          \t|  -              \t|  184            \t|  1.6311         \t|  100 %          \t|\n",
      "--------------------------------------------------------------------------------------------------------------------------------------------------------------------------------------------------------------------------------------------------------------------------\n",
      "|  [Strategy]SingleDeviceStrategy.test_step                                                                                                                       \t|  0.056003       \t|  11             \t|  0.61604        \t|  37.767         \t|\n",
      "|  [Strategy]SingleDeviceStrategy.batch_to_device                                                                                                                 \t|  0.0076423      \t|  11             \t|  0.084065       \t|  5.1538         \t|\n",
      "|  [LightningModule]MonetDense.transfer_batch_to_device                                                                                                           \t|  0.007582       \t|  11             \t|  0.083403       \t|  5.1131         \t|\n",
      "|  [_EvaluationLoop].test_next                                                                                                                                    \t|  0.0043245      \t|  11             \t|  0.04757        \t|  2.9163         \t|\n",
      "|  [Callback]TQDMProgressBar.on_test_start                                                                                                                        \t|  0.030883       \t|  1              \t|  0.030883       \t|  1.8933         \t|\n",
      "|  [Callback]TQDMProgressBar.on_test_batch_end                                                                                                                    \t|  0.00069078     \t|  11             \t|  0.0075985      \t|  0.46584        \t|\n",
      "|  [Callback]TQDMProgressBar.on_test_batch_start                                                                                                                  \t|  8.2769e-05     \t|  11             \t|  0.00091045     \t|  0.055817       \t|\n",
      "|  [LightningModule]MonetDense.on_test_model_eval                                                                                                                 \t|  0.00055677     \t|  1              \t|  0.00055677     \t|  0.034133       \t|\n",
      "|  [Callback]TQDMProgressBar.on_test_end                                                                                                                          \t|  0.00048935     \t|  1              \t|  0.00048935     \t|  0.03           \t|\n",
      "|  [LightningModule]MonetDense.on_test_model_train                                                                                                                \t|  0.00014391     \t|  1              \t|  0.00014391     \t|  0.0088226      \t|\n",
      "|  [Callback]ModelCheckpoint{'monitor': 'val_loss', 'mode': 'min', 'every_n_train_steps': 0, 'every_n_epochs': 1, 'train_time_interval': None}.setup              \t|  6.7347e-05     \t|  1              \t|  6.7347e-05     \t|  0.0041288      \t|\n",
      "|  [Callback]ModelSummary.on_test_batch_end                                                                                                                       \t|  3.7054e-06     \t|  11             \t|  4.0759e-05     \t|  0.0024988      \t|\n",
      "|  [LightningModule]MonetDense.on_test_batch_end                                                                                                                  \t|  1.8942e-06     \t|  11             \t|  2.0836e-05     \t|  0.0012774      \t|\n",
      "|  [LightningModule]MonetDense.on_before_batch_transfer                                                                                                           \t|  1.7636e-06     \t|  11             \t|  1.94e-05       \t|  0.0011893      \t|\n",
      "|  [Callback]ModelSummary.on_test_batch_start                                                                                                                     \t|  1.7443e-06     \t|  11             \t|  1.9187e-05     \t|  0.0011763      \t|\n",
      "|  [LightningModule]MonetDense.on_after_batch_transfer                                                                                                            \t|  1.5842e-06     \t|  11             \t|  1.7426e-05     \t|  0.0010683      \t|\n",
      "|  [Callback]ModelCheckpoint{'monitor': 'val_loss', 'mode': 'min', 'every_n_train_steps': 0, 'every_n_epochs': 1, 'train_time_interval': None}.on_test_batch_end  \t|  1.3537e-06     \t|  11             \t|  1.4891e-05     \t|  0.00091292     \t|\n",
      "|  [Callback]ModelCheckpoint{'monitor': 'val_loss', 'mode': 'min', 'every_n_train_steps': 0, 'every_n_epochs': 1, 'train_time_interval': None}.on_test_batch_start\t|  1.1419e-06     \t|  11             \t|  1.2561e-05     \t|  0.00077008     \t|\n",
      "|  [LightningModule]MonetDense.on_test_batch_start                                                                                                                \t|  9.4063e-07     \t|  11             \t|  1.0347e-05     \t|  0.00063433     \t|\n",
      "|  [Callback]TQDMProgressBar.setup                                                                                                                                \t|  8.919e-06      \t|  1              \t|  8.919e-06      \t|  0.00054679     \t|\n",
      "|  [Callback]ModelSummary.on_test_start                                                                                                                           \t|  8.158e-06      \t|  1              \t|  8.158e-06      \t|  0.00050014     \t|\n",
      "|  [LightningModule]MonetDense.configure_callbacks                                                                                                                \t|  6.653e-06      \t|  1              \t|  6.653e-06      \t|  0.00040787     \t|\n",
      "|  [LightningModule]MonetDense.on_test_epoch_start                                                                                                                \t|  6.124e-06      \t|  1              \t|  6.124e-06      \t|  0.00037544     \t|\n",
      "|  [Strategy]SingleDeviceStrategy.on_test_end                                                                                                                     \t|  5.848e-06      \t|  1              \t|  5.848e-06      \t|  0.00035852     \t|\n",
      "|  [Strategy]SingleDeviceStrategy.on_test_start                                                                                                                   \t|  5.704e-06      \t|  1              \t|  5.704e-06      \t|  0.00034969     \t|\n",
      "|  [Callback]TQDMProgressBar.teardown                                                                                                                             \t|  4.395e-06      \t|  1              \t|  4.395e-06      \t|  0.00026944     \t|\n",
      "|  [Callback]TQDMProgressBar.on_test_epoch_end                                                                                                                    \t|  2.995e-06      \t|  1              \t|  2.995e-06      \t|  0.00018361     \t|\n",
      "|  [Callback]ModelSummary.on_test_end                                                                                                                             \t|  2.439e-06      \t|  1              \t|  2.439e-06      \t|  0.00014953     \t|\n",
      "|  [Callback]ModelSummary.setup                                                                                                                                   \t|  1.833e-06      \t|  1              \t|  1.833e-06      \t|  0.00011237     \t|\n",
      "|  [LightningModule]MonetDense.setup                                                                                                                              \t|  1.762e-06      \t|  1              \t|  1.762e-06      \t|  0.00010802     \t|\n",
      "|  [LightningModule]MonetDense.on_test_start                                                                                                                      \t|  1.551e-06      \t|  1              \t|  1.551e-06      \t|  9.5087e-05     \t|\n",
      "|  [Callback]ModelSummary.teardown                                                                                                                                \t|  1.489e-06      \t|  1              \t|  1.489e-06      \t|  9.1284e-05     \t|\n",
      "|  [LightningModule]MonetDense.teardown                                                                                                                           \t|  1.403e-06      \t|  1              \t|  1.403e-06      \t|  8.6014e-05     \t|\n",
      "|  [Callback]TQDMProgressBar.on_test_epoch_start                                                                                                                  \t|  1.386e-06      \t|  1              \t|  1.386e-06      \t|  8.497e-05      \t|\n",
      "|  [LightningModule]MonetDense.prepare_data                                                                                                                       \t|  1.379e-06      \t|  1              \t|  1.379e-06      \t|  8.4542e-05     \t|\n",
      "|  [Callback]ModelCheckpoint{'monitor': 'val_loss', 'mode': 'min', 'every_n_train_steps': 0, 'every_n_epochs': 1, 'train_time_interval': None}.on_test_start      \t|  1.349e-06      \t|  1              \t|  1.349e-06      \t|  8.2702e-05     \t|\n",
      "|  [Callback]ModelSummary.on_test_epoch_end                                                                                                                       \t|  1.334e-06      \t|  1              \t|  1.334e-06      \t|  8.1783e-05     \t|\n",
      "|  [Callback]ModelCheckpoint{'monitor': 'val_loss', 'mode': 'min', 'every_n_train_steps': 0, 'every_n_epochs': 1, 'train_time_interval': None}.teardown           \t|  1.32e-06       \t|  1              \t|  1.32e-06       \t|  8.0925e-05     \t|\n",
      "|  [Callback]ModelCheckpoint{'monitor': 'val_loss', 'mode': 'min', 'every_n_train_steps': 0, 'every_n_epochs': 1, 'train_time_interval': None}.on_test_epoch_end  \t|  1.175e-06      \t|  1              \t|  1.175e-06      \t|  7.2036e-05     \t|\n",
      "|  [Callback]ModelCheckpoint{'monitor': 'val_loss', 'mode': 'min', 'every_n_train_steps': 0, 'every_n_epochs': 1, 'train_time_interval': None}.on_test_end        \t|  1.156e-06      \t|  1              \t|  1.156e-06      \t|  7.0869e-05     \t|\n",
      "|  [LightningModule]MonetDense.on_test_epoch_end                                                                                                                  \t|  1.148e-06      \t|  1              \t|  1.148e-06      \t|  7.038e-05      \t|\n",
      "|  [LightningModule]MonetDense.on_test_end                                                                                                                        \t|  9.8499e-07     \t|  1              \t|  9.8499e-07     \t|  6.0386e-05     \t|\n",
      "|  [Callback]ModelCheckpoint{'monitor': 'val_loss', 'mode': 'min', 'every_n_train_steps': 0, 'every_n_epochs': 1, 'train_time_interval': None}.on_test_epoch_start\t|  9.8202e-07     \t|  1              \t|  9.8202e-07     \t|  6.0204e-05     \t|\n",
      "|  [Callback]ModelSummary.on_test_epoch_start                                                                                                                     \t|  9.6799e-07     \t|  1              \t|  9.6799e-07     \t|  5.9344e-05     \t|\n",
      "--------------------------------------------------------------------------------------------------------------------------------------------------------------------------------------------------------------------------------------------------------------------------\n",
      "\n"
     ]
    },
    {
     "name": "stdout",
     "output_type": "stream",
     "text": [
      "MonetDense__[512, 512, 512, 512]__10__2__XENIUM__Adam__NUM_SPLITS=3\n",
      "There are 64 graph splits for the Xenium Dataset.\n"
     ]
    },
    {
     "name": "stderr",
     "output_type": "stream",
     "text": [
      "GPU available: True (cuda), used: True\n",
      "TPU available: False, using: 0 TPU cores\n",
      "IPU available: False, using: 0 IPUs\n",
      "HPU available: False, using: 0 HPUs\n",
      "`Trainer(limit_train_batches=1.0)` was configured so 100% of the batches per epoch will be used..\n",
      "`Trainer(limit_val_batches=1.0)` was configured so 100% of the batches will be used..\n",
      "LOCAL_RANK: 0 - CUDA_VISIBLE_DEVICES: [4,5,6]\n"
     ]
    },
    {
     "name": "stdout",
     "output_type": "stream",
     "text": [
      "The number of parameters for radius 2 is 10967684\n"
     ]
    },
    {
     "data": {
      "application/vnd.jupyter.widget-view+json": {
       "model_id": "e33351361b394eb78bf656d1b2cbc995",
       "version_major": 2,
       "version_minor": 0
      },
      "text/plain": [
       "Testing: |          | 0/? [00:00<?, ?it/s]"
      ]
     },
     "metadata": {},
     "output_type": "display_data"
    },
    {
     "data": {
      "text/html": [
       "<pre style=\"white-space:pre;overflow-x:auto;line-height:normal;font-family:Menlo,'DejaVu Sans Mono',consolas,'Courier New',monospace\">┏━━━━━━━━━━━━━━━━━━━━━━━━━━━┳━━━━━━━━━━━━━━━━━━━━━━━━━━━┓\n",
       "┃<span style=\"font-weight: bold\">        Test metric        </span>┃<span style=\"font-weight: bold\">       DataLoader 0        </span>┃\n",
       "┡━━━━━━━━━━━━━━━━━━━━━━━━━━━╇━━━━━━━━━━━━━━━━━━━━━━━━━━━┩\n",
       "│<span style=\"color: #008080; text-decoration-color: #008080\">         test_loss         </span>│<span style=\"color: #800080; text-decoration-color: #800080\">    0.3110404312610626     </span>│\n",
       "│<span style=\"color: #008080; text-decoration-color: #008080\">       test_loss_mse       </span>│<span style=\"color: #800080; text-decoration-color: #800080\">    0.3110404312610626     </span>│\n",
       "└───────────────────────────┴───────────────────────────┘\n",
       "</pre>\n"
      ],
      "text/plain": [
       "┏━━━━━━━━━━━━━━━━━━━━━━━━━━━┳━━━━━━━━━━━━━━━━━━━━━━━━━━━┓\n",
       "┃\u001b[1m \u001b[0m\u001b[1m       Test metric       \u001b[0m\u001b[1m \u001b[0m┃\u001b[1m \u001b[0m\u001b[1m      DataLoader 0       \u001b[0m\u001b[1m \u001b[0m┃\n",
       "┡━━━━━━━━━━━━━━━━━━━━━━━━━━━╇━━━━━━━━━━━━━━━━━━━━━━━━━━━┩\n",
       "│\u001b[36m \u001b[0m\u001b[36m        test_loss        \u001b[0m\u001b[36m \u001b[0m│\u001b[35m \u001b[0m\u001b[35m   0.3110404312610626    \u001b[0m\u001b[35m \u001b[0m│\n",
       "│\u001b[36m \u001b[0m\u001b[36m      test_loss_mse      \u001b[0m\u001b[36m \u001b[0m│\u001b[35m \u001b[0m\u001b[35m   0.3110404312610626    \u001b[0m\u001b[35m \u001b[0m│\n",
       "└───────────────────────────┴───────────────────────────┘\n"
      ]
     },
     "metadata": {},
     "output_type": "display_data"
    },
    {
     "name": "stderr",
     "output_type": "stream",
     "text": [
      "TEST Profiler Report\n",
      "\n",
      "--------------------------------------------------------------------------------------------------------------------------------------------------------------------------------------------------------------------------------------------------------------------------\n",
      "|  Action                                                                                                                                                         \t|  Mean duration (s)\t|  Num calls      \t|  Total time (s) \t|  Percentage %   \t|\n",
      "--------------------------------------------------------------------------------------------------------------------------------------------------------------------------------------------------------------------------------------------------------------------------\n",
      "|  Total                                                                                                                                                          \t|  -              \t|  184            \t|  1.5883         \t|  100 %          \t|\n",
      "--------------------------------------------------------------------------------------------------------------------------------------------------------------------------------------------------------------------------------------------------------------------------\n",
      "|  [Strategy]SingleDeviceStrategy.test_step                                                                                                                       \t|  0.049651       \t|  11             \t|  0.54616        \t|  34.386         \t|\n",
      "|  [Strategy]SingleDeviceStrategy.batch_to_device                                                                                                                 \t|  0.0070198      \t|  11             \t|  0.077218       \t|  4.8616         \t|\n",
      "|  [LightningModule]MonetDense.transfer_batch_to_device                                                                                                           \t|  0.0069611      \t|  11             \t|  0.076572       \t|  4.821          \t|\n",
      "|  [_EvaluationLoop].test_next                                                                                                                                    \t|  0.0042003      \t|  11             \t|  0.046203       \t|  2.9089         \t|\n",
      "|  [Callback]TQDMProgressBar.on_test_start                                                                                                                        \t|  0.017052       \t|  1              \t|  0.017052       \t|  1.0736         \t|\n",
      "|  [Callback]TQDMProgressBar.on_test_batch_end                                                                                                                    \t|  0.00060563     \t|  11             \t|  0.0066619      \t|  0.41944        \t|\n",
      "|  [Callback]TQDMProgressBar.on_test_batch_start                                                                                                                  \t|  9.9068e-05     \t|  11             \t|  0.0010897      \t|  0.06861        \t|\n",
      "|  [LightningModule]MonetDense.on_test_model_eval                                                                                                                 \t|  0.00076497     \t|  1              \t|  0.00076497     \t|  0.048162       \t|\n",
      "|  [Callback]TQDMProgressBar.on_test_end                                                                                                                          \t|  0.00055514     \t|  1              \t|  0.00055514     \t|  0.034951       \t|\n",
      "|  [LightningModule]MonetDense.on_test_model_train                                                                                                                \t|  0.00013394     \t|  1              \t|  0.00013394     \t|  0.0084325      \t|\n",
      "|  [Callback]ModelCheckpoint{'monitor': 'val_loss', 'mode': 'min', 'every_n_train_steps': 0, 'every_n_epochs': 1, 'train_time_interval': None}.setup              \t|  6.6938e-05     \t|  1              \t|  6.6938e-05     \t|  0.0042144      \t|\n",
      "|  [Callback]ModelSummary.on_test_batch_end                                                                                                                       \t|  3.2762e-06     \t|  11             \t|  3.6038e-05     \t|  0.0022689      \t|\n",
      "|  [LightningModule]MonetDense.on_before_batch_transfer                                                                                                           \t|  1.924e-06      \t|  11             \t|  2.1164e-05     \t|  0.0013325      \t|\n",
      "|  [Callback]ModelSummary.on_test_batch_start                                                                                                                     \t|  1.7295e-06     \t|  11             \t|  1.9025e-05     \t|  0.0011978      \t|\n",
      "|  [LightningModule]MonetDense.on_after_batch_transfer                                                                                                            \t|  1.7005e-06     \t|  11             \t|  1.8706e-05     \t|  0.0011777      \t|\n",
      "|  [Callback]ModelCheckpoint{'monitor': 'val_loss', 'mode': 'min', 'every_n_train_steps': 0, 'every_n_epochs': 1, 'train_time_interval': None}.on_test_batch_end  \t|  1.4234e-06     \t|  11             \t|  1.5657e-05     \t|  0.00098576     \t|\n",
      "|  [LightningModule]MonetDense.on_test_batch_end                                                                                                                  \t|  1.3855e-06     \t|  11             \t|  1.5241e-05     \t|  0.00095957     \t|\n",
      "|  [Callback]ModelCheckpoint{'monitor': 'val_loss', 'mode': 'min', 'every_n_train_steps': 0, 'every_n_epochs': 1, 'train_time_interval': None}.on_test_batch_start\t|  1.1897e-06     \t|  11             \t|  1.3087e-05     \t|  0.00082396     \t|\n",
      "|  [LightningModule]MonetDense.on_test_batch_start                                                                                                                \t|  9.5772e-07     \t|  11             \t|  1.0535e-05     \t|  0.00066328     \t|\n",
      "|  [Callback]ModelSummary.on_test_start                                                                                                                           \t|  1.0288e-05     \t|  1              \t|  1.0288e-05     \t|  0.00064773     \t|\n",
      "|  [Callback]TQDMProgressBar.setup                                                                                                                                \t|  7.376e-06      \t|  1              \t|  7.376e-06      \t|  0.00046439     \t|\n",
      "|  [LightningModule]MonetDense.on_test_epoch_start                                                                                                                \t|  6.718e-06      \t|  1              \t|  6.718e-06      \t|  0.00042297     \t|\n",
      "|  [Strategy]SingleDeviceStrategy.on_test_start                                                                                                                   \t|  5.186e-06      \t|  1              \t|  5.186e-06      \t|  0.00032651     \t|\n",
      "|  [Callback]TQDMProgressBar.teardown                                                                                                                             \t|  4.556e-06      \t|  1              \t|  4.556e-06      \t|  0.00028685     \t|\n",
      "|  [Strategy]SingleDeviceStrategy.on_test_end                                                                                                                     \t|  4.07e-06       \t|  1              \t|  4.07e-06       \t|  0.00025625     \t|\n",
      "|  [Callback]TQDMProgressBar.on_test_epoch_end                                                                                                                    \t|  2.682e-06      \t|  1              \t|  2.682e-06      \t|  0.00016886     \t|\n",
      "|  [LightningModule]MonetDense.configure_callbacks                                                                                                                \t|  2.68e-06       \t|  1              \t|  2.68e-06       \t|  0.00016873     \t|\n",
      "|  [Callback]ModelSummary.on_test_end                                                                                                                             \t|  2.638e-06      \t|  1              \t|  2.638e-06      \t|  0.00016609     \t|\n",
      "|  [Callback]TQDMProgressBar.on_test_epoch_start                                                                                                                  \t|  2.45e-06       \t|  1              \t|  2.45e-06       \t|  0.00015425     \t|\n",
      "|  [Callback]ModelCheckpoint{'monitor': 'val_loss', 'mode': 'min', 'every_n_train_steps': 0, 'every_n_epochs': 1, 'train_time_interval': None}.on_test_start      \t|  2.329e-06      \t|  1              \t|  2.329e-06      \t|  0.00014663     \t|\n",
      "|  [Callback]ModelCheckpoint{'monitor': 'val_loss', 'mode': 'min', 'every_n_train_steps': 0, 'every_n_epochs': 1, 'train_time_interval': None}.on_test_epoch_start\t|  2.05e-06       \t|  1              \t|  2.05e-06       \t|  0.00012907     \t|\n",
      "|  [Callback]ModelSummary.on_test_epoch_start                                                                                                                     \t|  2.02e-06       \t|  1              \t|  2.02e-06       \t|  0.00012718     \t|\n",
      "|  [Callback]ModelSummary.setup                                                                                                                                   \t|  1.995e-06      \t|  1              \t|  1.995e-06      \t|  0.00012561     \t|\n",
      "|  [LightningModule]MonetDense.on_test_start                                                                                                                      \t|  1.97e-06       \t|  1              \t|  1.97e-06       \t|  0.00012403     \t|\n",
      "|  [LightningModule]MonetDense.teardown                                                                                                                           \t|  1.545e-06      \t|  1              \t|  1.545e-06      \t|  9.7273e-05     \t|\n",
      "|  [LightningModule]MonetDense.prepare_data                                                                                                                       \t|  1.532e-06      \t|  1              \t|  1.532e-06      \t|  9.6454e-05     \t|\n",
      "|  [LightningModule]MonetDense.setup                                                                                                                              \t|  1.432e-06      \t|  1              \t|  1.432e-06      \t|  9.0158e-05     \t|\n",
      "|  [Callback]ModelSummary.teardown                                                                                                                                \t|  1.418e-06      \t|  1              \t|  1.418e-06      \t|  8.9277e-05     \t|\n",
      "|  [Callback]ModelCheckpoint{'monitor': 'val_loss', 'mode': 'min', 'every_n_train_steps': 0, 'every_n_epochs': 1, 'train_time_interval': None}.teardown           \t|  1.304e-06      \t|  1              \t|  1.304e-06      \t|  8.21e-05       \t|\n",
      "|  [Callback]ModelCheckpoint{'monitor': 'val_loss', 'mode': 'min', 'every_n_train_steps': 0, 'every_n_epochs': 1, 'train_time_interval': None}.on_test_end        \t|  1.25e-06       \t|  1              \t|  1.25e-06       \t|  7.8699e-05     \t|\n",
      "|  [Callback]ModelSummary.on_test_epoch_end                                                                                                                       \t|  1.213e-06      \t|  1              \t|  1.213e-06      \t|  7.637e-05      \t|\n",
      "|  [Callback]ModelCheckpoint{'monitor': 'val_loss', 'mode': 'min', 'every_n_train_steps': 0, 'every_n_epochs': 1, 'train_time_interval': None}.on_test_epoch_end  \t|  1.071e-06      \t|  1              \t|  1.071e-06      \t|  6.743e-05      \t|\n",
      "|  [LightningModule]MonetDense.on_test_end                                                                                                                        \t|  9.7e-07        \t|  1              \t|  9.7e-07        \t|  6.1071e-05     \t|\n",
      "|  [LightningModule]MonetDense.on_test_epoch_end                                                                                                                  \t|  9.2102e-07     \t|  1              \t|  9.2102e-07     \t|  5.7987e-05     \t|\n",
      "--------------------------------------------------------------------------------------------------------------------------------------------------------------------------------------------------------------------------------------------------------------------------\n",
      "\n"
     ]
    },
    {
     "name": "stdout",
     "output_type": "stream",
     "text": [
      "MonetDense__[512, 512, 512, 512]__10__5__XENIUM__Adam__NUM_SPLITS=3\n",
      "There are 64 graph splits for the Xenium Dataset.\n"
     ]
    },
    {
     "name": "stderr",
     "output_type": "stream",
     "text": [
      "GPU available: True (cuda), used: True\n",
      "TPU available: False, using: 0 TPU cores\n",
      "IPU available: False, using: 0 IPUs\n",
      "HPU available: False, using: 0 HPUs\n",
      "`Trainer(limit_train_batches=1.0)` was configured so 100% of the batches per epoch will be used..\n",
      "`Trainer(limit_val_batches=1.0)` was configured so 100% of the batches will be used..\n",
      "LOCAL_RANK: 0 - CUDA_VISIBLE_DEVICES: [4,5,6]\n"
     ]
    },
    {
     "name": "stdout",
     "output_type": "stream",
     "text": [
      "The number of parameters for radius 5 is 10967684\n"
     ]
    },
    {
     "data": {
      "application/vnd.jupyter.widget-view+json": {
       "model_id": "647c5401a2ee4bcf8a4e3e42b92fbd36",
       "version_major": 2,
       "version_minor": 0
      },
      "text/plain": [
       "Testing: |          | 0/? [00:00<?, ?it/s]"
      ]
     },
     "metadata": {},
     "output_type": "display_data"
    },
    {
     "data": {
      "text/html": [
       "<pre style=\"white-space:pre;overflow-x:auto;line-height:normal;font-family:Menlo,'DejaVu Sans Mono',consolas,'Courier New',monospace\">┏━━━━━━━━━━━━━━━━━━━━━━━━━━━┳━━━━━━━━━━━━━━━━━━━━━━━━━━━┓\n",
       "┃<span style=\"font-weight: bold\">        Test metric        </span>┃<span style=\"font-weight: bold\">       DataLoader 0        </span>┃\n",
       "┡━━━━━━━━━━━━━━━━━━━━━━━━━━━╇━━━━━━━━━━━━━━━━━━━━━━━━━━━┩\n",
       "│<span style=\"color: #008080; text-decoration-color: #008080\">         test_loss         </span>│<span style=\"color: #800080; text-decoration-color: #800080\">    0.3154315948486328     </span>│\n",
       "│<span style=\"color: #008080; text-decoration-color: #008080\">       test_loss_mse       </span>│<span style=\"color: #800080; text-decoration-color: #800080\">    0.3154315948486328     </span>│\n",
       "└───────────────────────────┴───────────────────────────┘\n",
       "</pre>\n"
      ],
      "text/plain": [
       "┏━━━━━━━━━━━━━━━━━━━━━━━━━━━┳━━━━━━━━━━━━━━━━━━━━━━━━━━━┓\n",
       "┃\u001b[1m \u001b[0m\u001b[1m       Test metric       \u001b[0m\u001b[1m \u001b[0m┃\u001b[1m \u001b[0m\u001b[1m      DataLoader 0       \u001b[0m\u001b[1m \u001b[0m┃\n",
       "┡━━━━━━━━━━━━━━━━━━━━━━━━━━━╇━━━━━━━━━━━━━━━━━━━━━━━━━━━┩\n",
       "│\u001b[36m \u001b[0m\u001b[36m        test_loss        \u001b[0m\u001b[36m \u001b[0m│\u001b[35m \u001b[0m\u001b[35m   0.3154315948486328    \u001b[0m\u001b[35m \u001b[0m│\n",
       "│\u001b[36m \u001b[0m\u001b[36m      test_loss_mse      \u001b[0m\u001b[36m \u001b[0m│\u001b[35m \u001b[0m\u001b[35m   0.3154315948486328    \u001b[0m\u001b[35m \u001b[0m│\n",
       "└───────────────────────────┴───────────────────────────┘\n"
      ]
     },
     "metadata": {},
     "output_type": "display_data"
    },
    {
     "name": "stderr",
     "output_type": "stream",
     "text": [
      "TEST Profiler Report\n",
      "\n",
      "--------------------------------------------------------------------------------------------------------------------------------------------------------------------------------------------------------------------------------------------------------------------------\n",
      "|  Action                                                                                                                                                         \t|  Mean duration (s)\t|  Num calls      \t|  Total time (s) \t|  Percentage %   \t|\n",
      "--------------------------------------------------------------------------------------------------------------------------------------------------------------------------------------------------------------------------------------------------------------------------\n",
      "|  Total                                                                                                                                                          \t|  -              \t|  184            \t|  1.5619         \t|  100 %          \t|\n",
      "--------------------------------------------------------------------------------------------------------------------------------------------------------------------------------------------------------------------------------------------------------------------------\n",
      "|  [Strategy]SingleDeviceStrategy.test_step                                                                                                                       \t|  0.051401       \t|  11             \t|  0.56541        \t|  36.201         \t|\n",
      "|  [Strategy]SingleDeviceStrategy.batch_to_device                                                                                                                 \t|  0.0092116      \t|  11             \t|  0.10133        \t|  6.4876         \t|\n",
      "|  [LightningModule]MonetDense.transfer_batch_to_device                                                                                                           \t|  0.0091517      \t|  11             \t|  0.10067        \t|  6.4454         \t|\n",
      "|  [_EvaluationLoop].test_next                                                                                                                                    \t|  0.0037622      \t|  11             \t|  0.041384       \t|  2.6497         \t|\n",
      "|  [Callback]TQDMProgressBar.on_test_start                                                                                                                        \t|  0.027505       \t|  1              \t|  0.027505       \t|  1.7611         \t|\n",
      "|  [Callback]TQDMProgressBar.on_test_batch_end                                                                                                                    \t|  0.0006184      \t|  11             \t|  0.0068024      \t|  0.43553        \t|\n",
      "|  [Callback]TQDMProgressBar.on_test_batch_start                                                                                                                  \t|  0.00010598     \t|  11             \t|  0.0011657      \t|  0.074638       \t|\n",
      "|  [LightningModule]MonetDense.on_test_model_eval                                                                                                                 \t|  0.00057405     \t|  1              \t|  0.00057405     \t|  0.036754       \t|\n",
      "|  [Callback]TQDMProgressBar.on_test_end                                                                                                                          \t|  0.0004651      \t|  1              \t|  0.0004651      \t|  0.029779       \t|\n",
      "|  [LightningModule]MonetDense.on_test_model_train                                                                                                                \t|  0.00015257     \t|  1              \t|  0.00015257     \t|  0.0097685      \t|\n",
      "|  [Callback]ModelCheckpoint{'monitor': 'val_loss', 'mode': 'min', 'every_n_train_steps': 0, 'every_n_epochs': 1, 'train_time_interval': None}.setup              \t|  6.5837e-05     \t|  1              \t|  6.5837e-05     \t|  0.0042153      \t|\n",
      "|  [Callback]ModelSummary.on_test_batch_end                                                                                                                       \t|  3.5987e-06     \t|  11             \t|  3.9586e-05     \t|  0.0025345      \t|\n",
      "|  [Callback]ModelSummary.on_test_batch_start                                                                                                                     \t|  1.7747e-06     \t|  11             \t|  1.9522e-05     \t|  0.0012499      \t|\n",
      "|  [LightningModule]MonetDense.on_before_batch_transfer                                                                                                           \t|  1.7609e-06     \t|  11             \t|  1.937e-05      \t|  0.0012402      \t|\n",
      "|  [LightningModule]MonetDense.on_after_batch_transfer                                                                                                            \t|  1.7115e-06     \t|  11             \t|  1.8826e-05     \t|  0.0012054      \t|\n",
      "|  [LightningModule]MonetDense.on_test_batch_end                                                                                                                  \t|  1.5162e-06     \t|  11             \t|  1.6678e-05     \t|  0.0010678      \t|\n",
      "|  [Callback]ModelCheckpoint{'monitor': 'val_loss', 'mode': 'min', 'every_n_train_steps': 0, 'every_n_epochs': 1, 'train_time_interval': None}.on_test_batch_end  \t|  1.403e-06      \t|  11             \t|  1.5433e-05     \t|  0.00098812     \t|\n",
      "|  [Callback]ModelCheckpoint{'monitor': 'val_loss', 'mode': 'min', 'every_n_train_steps': 0, 'every_n_epochs': 1, 'train_time_interval': None}.on_test_batch_start\t|  1.1818e-06     \t|  11             \t|  1.3e-05        \t|  0.00083234     \t|\n",
      "|  [LightningModule]MonetDense.on_test_batch_start                                                                                                                \t|  9.9464e-07     \t|  11             \t|  1.0941e-05     \t|  0.00070051     \t|\n",
      "|  [Callback]ModelSummary.on_test_start                                                                                                                           \t|  9.985e-06      \t|  1              \t|  9.985e-06      \t|  0.0006393      \t|\n",
      "|  [LightningModule]MonetDense.on_test_epoch_start                                                                                                                \t|  8.574e-06      \t|  1              \t|  8.574e-06      \t|  0.00054896     \t|\n",
      "|  [Callback]TQDMProgressBar.setup                                                                                                                                \t|  6.991e-06      \t|  1              \t|  6.991e-06      \t|  0.00044761     \t|\n",
      "|  [Strategy]SingleDeviceStrategy.on_test_start                                                                                                                   \t|  6.224e-06      \t|  1              \t|  6.224e-06      \t|  0.0003985      \t|\n",
      "|  [Strategy]SingleDeviceStrategy.on_test_end                                                                                                                     \t|  4.32e-06       \t|  1              \t|  4.32e-06       \t|  0.00027659     \t|\n",
      "|  [Callback]TQDMProgressBar.teardown                                                                                                                             \t|  4.179e-06      \t|  1              \t|  4.179e-06      \t|  0.00026757     \t|\n",
      "|  [LightningModule]MonetDense.configure_callbacks                                                                                                                \t|  3.061e-06      \t|  1              \t|  3.061e-06      \t|  0.00019598     \t|\n",
      "|  [Callback]TQDMProgressBar.on_test_epoch_end                                                                                                                    \t|  2.961e-06      \t|  1              \t|  2.961e-06      \t|  0.00018958     \t|\n",
      "|  [Callback]ModelSummary.on_test_end                                                                                                                             \t|  2.62e-06       \t|  1              \t|  2.62e-06       \t|  0.00016775     \t|\n",
      "|  [Callback]ModelSummary.setup                                                                                                                                   \t|  2.431e-06      \t|  1              \t|  2.431e-06      \t|  0.00015565     \t|\n",
      "|  [LightningModule]MonetDense.setup                                                                                                                              \t|  1.747e-06      \t|  1              \t|  1.747e-06      \t|  0.00011185     \t|\n",
      "|  [Callback]ModelCheckpoint{'monitor': 'val_loss', 'mode': 'min', 'every_n_train_steps': 0, 'every_n_epochs': 1, 'train_time_interval': None}.on_test_start      \t|  1.579e-06      \t|  1              \t|  1.579e-06      \t|  0.0001011      \t|\n",
      "|  [Callback]ModelSummary.teardown                                                                                                                                \t|  1.549e-06      \t|  1              \t|  1.549e-06      \t|  9.9176e-05     \t|\n",
      "|  [LightningModule]MonetDense.prepare_data                                                                                                                       \t|  1.48e-06       \t|  1              \t|  1.48e-06       \t|  9.4758e-05     \t|\n",
      "|  [Callback]TQDMProgressBar.on_test_epoch_start                                                                                                                  \t|  1.472e-06      \t|  1              \t|  1.472e-06      \t|  9.4246e-05     \t|\n",
      "|  [LightningModule]MonetDense.on_test_start                                                                                                                      \t|  1.441e-06      \t|  1              \t|  1.441e-06      \t|  9.2263e-05     \t|\n",
      "|  [Callback]ModelSummary.on_test_epoch_end                                                                                                                       \t|  1.394e-06      \t|  1              \t|  1.394e-06      \t|  8.9252e-05     \t|\n",
      "|  [LightningModule]MonetDense.teardown                                                                                                                           \t|  1.392e-06      \t|  1              \t|  1.392e-06      \t|  8.9123e-05     \t|\n",
      "|  [LightningModule]MonetDense.on_test_epoch_end                                                                                                                  \t|  1.271e-06      \t|  1              \t|  1.271e-06      \t|  8.1377e-05     \t|\n",
      "|  [Callback]ModelCheckpoint{'monitor': 'val_loss', 'mode': 'min', 'every_n_train_steps': 0, 'every_n_epochs': 1, 'train_time_interval': None}.teardown           \t|  1.259e-06      \t|  1              \t|  1.259e-06      \t|  8.0609e-05     \t|\n",
      "|  [Callback]ModelCheckpoint{'monitor': 'val_loss', 'mode': 'min', 'every_n_train_steps': 0, 'every_n_epochs': 1, 'train_time_interval': None}.on_test_epoch_end  \t|  1.172e-06      \t|  1              \t|  1.172e-06      \t|  7.5038e-05     \t|\n",
      "|  [Callback]ModelCheckpoint{'monitor': 'val_loss', 'mode': 'min', 'every_n_train_steps': 0, 'every_n_epochs': 1, 'train_time_interval': None}.on_test_end        \t|  1.161e-06      \t|  1              \t|  1.161e-06      \t|  7.4335e-05     \t|\n",
      "|  [Callback]ModelSummary.on_test_epoch_start                                                                                                                     \t|  1.138e-06      \t|  1              \t|  1.138e-06      \t|  7.2863e-05     \t|\n",
      "|  [Callback]ModelCheckpoint{'monitor': 'val_loss', 'mode': 'min', 'every_n_train_steps': 0, 'every_n_epochs': 1, 'train_time_interval': None}.on_test_epoch_start\t|  1.081e-06      \t|  1              \t|  1.081e-06      \t|  6.9213e-05     \t|\n",
      "|  [LightningModule]MonetDense.on_test_end                                                                                                                        \t|  1.055e-06      \t|  1              \t|  1.055e-06      \t|  6.7549e-05     \t|\n",
      "--------------------------------------------------------------------------------------------------------------------------------------------------------------------------------------------------------------------------------------------------------------------------\n",
      "\n"
     ]
    },
    {
     "name": "stdout",
     "output_type": "stream",
     "text": [
      "MonetDense__[512, 512, 512, 512]__10__18__XENIUM__Adam__NUM_SPLITS=3\n",
      "There are 64 graph splits for the Xenium Dataset.\n"
     ]
    },
    {
     "name": "stderr",
     "output_type": "stream",
     "text": [
      "GPU available: True (cuda), used: True\n",
      "TPU available: False, using: 0 TPU cores\n",
      "IPU available: False, using: 0 IPUs\n",
      "HPU available: False, using: 0 HPUs\n",
      "`Trainer(limit_train_batches=1.0)` was configured so 100% of the batches per epoch will be used..\n",
      "`Trainer(limit_val_batches=1.0)` was configured so 100% of the batches will be used..\n",
      "LOCAL_RANK: 0 - CUDA_VISIBLE_DEVICES: [4,5,6]\n"
     ]
    },
    {
     "name": "stdout",
     "output_type": "stream",
     "text": [
      "The number of parameters for radius 18 is 10967684\n"
     ]
    },
    {
     "data": {
      "application/vnd.jupyter.widget-view+json": {
       "model_id": "db3eecc34de54733b3fe56861dd37de1",
       "version_major": 2,
       "version_minor": 0
      },
      "text/plain": [
       "Testing: |          | 0/? [00:00<?, ?it/s]"
      ]
     },
     "metadata": {},
     "output_type": "display_data"
    },
    {
     "data": {
      "text/html": [
       "<pre style=\"white-space:pre;overflow-x:auto;line-height:normal;font-family:Menlo,'DejaVu Sans Mono',consolas,'Courier New',monospace\">┏━━━━━━━━━━━━━━━━━━━━━━━━━━━┳━━━━━━━━━━━━━━━━━━━━━━━━━━━┓\n",
       "┃<span style=\"font-weight: bold\">        Test metric        </span>┃<span style=\"font-weight: bold\">       DataLoader 0        </span>┃\n",
       "┡━━━━━━━━━━━━━━━━━━━━━━━━━━━╇━━━━━━━━━━━━━━━━━━━━━━━━━━━┩\n",
       "│<span style=\"color: #008080; text-decoration-color: #008080\">         test_loss         </span>│<span style=\"color: #800080; text-decoration-color: #800080\">    0.3317837715148926     </span>│\n",
       "│<span style=\"color: #008080; text-decoration-color: #008080\">       test_loss_mse       </span>│<span style=\"color: #800080; text-decoration-color: #800080\">    0.3317837715148926     </span>│\n",
       "└───────────────────────────┴───────────────────────────┘\n",
       "</pre>\n"
      ],
      "text/plain": [
       "┏━━━━━━━━━━━━━━━━━━━━━━━━━━━┳━━━━━━━━━━━━━━━━━━━━━━━━━━━┓\n",
       "┃\u001b[1m \u001b[0m\u001b[1m       Test metric       \u001b[0m\u001b[1m \u001b[0m┃\u001b[1m \u001b[0m\u001b[1m      DataLoader 0       \u001b[0m\u001b[1m \u001b[0m┃\n",
       "┡━━━━━━━━━━━━━━━━━━━━━━━━━━━╇━━━━━━━━━━━━━━━━━━━━━━━━━━━┩\n",
       "│\u001b[36m \u001b[0m\u001b[36m        test_loss        \u001b[0m\u001b[36m \u001b[0m│\u001b[35m \u001b[0m\u001b[35m   0.3317837715148926    \u001b[0m\u001b[35m \u001b[0m│\n",
       "│\u001b[36m \u001b[0m\u001b[36m      test_loss_mse      \u001b[0m\u001b[36m \u001b[0m│\u001b[35m \u001b[0m\u001b[35m   0.3317837715148926    \u001b[0m\u001b[35m \u001b[0m│\n",
       "└───────────────────────────┴───────────────────────────┘\n"
      ]
     },
     "metadata": {},
     "output_type": "display_data"
    },
    {
     "name": "stderr",
     "output_type": "stream",
     "text": [
      "TEST Profiler Report\n",
      "\n",
      "--------------------------------------------------------------------------------------------------------------------------------------------------------------------------------------------------------------------------------------------------------------------------\n",
      "|  Action                                                                                                                                                         \t|  Mean duration (s)\t|  Num calls      \t|  Total time (s) \t|  Percentage %   \t|\n",
      "--------------------------------------------------------------------------------------------------------------------------------------------------------------------------------------------------------------------------------------------------------------------------\n",
      "|  Total                                                                                                                                                          \t|  -              \t|  184            \t|  1.9785         \t|  100 %          \t|\n",
      "--------------------------------------------------------------------------------------------------------------------------------------------------------------------------------------------------------------------------------------------------------------------------\n",
      "|  [Strategy]SingleDeviceStrategy.test_step                                                                                                                       \t|  0.088121       \t|  11             \t|  0.96933        \t|  48.993         \t|\n",
      "|  [Strategy]SingleDeviceStrategy.batch_to_device                                                                                                                 \t|  0.0052244      \t|  11             \t|  0.057469       \t|  2.9047         \t|\n",
      "|  [LightningModule]MonetDense.transfer_batch_to_device                                                                                                           \t|  0.0051663      \t|  11             \t|  0.05683        \t|  2.8724         \t|\n",
      "|  [_EvaluationLoop].test_next                                                                                                                                    \t|  0.0043091      \t|  11             \t|  0.0474         \t|  2.3958         \t|\n",
      "|  [Callback]TQDMProgressBar.on_test_start                                                                                                                        \t|  0.019609       \t|  1              \t|  0.019609       \t|  0.99113        \t|\n",
      "|  [Callback]TQDMProgressBar.on_test_batch_end                                                                                                                    \t|  0.00060754     \t|  11             \t|  0.0066829      \t|  0.33778        \t|\n",
      "|  [Callback]TQDMProgressBar.on_test_batch_start                                                                                                                  \t|  8.799e-05      \t|  11             \t|  0.0009679      \t|  0.048921       \t|\n",
      "|  [LightningModule]MonetDense.on_test_model_eval                                                                                                                 \t|  0.00055501     \t|  1              \t|  0.00055501     \t|  0.028052       \t|\n",
      "|  [Callback]TQDMProgressBar.on_test_end                                                                                                                          \t|  0.00044108     \t|  1              \t|  0.00044108     \t|  0.022294       \t|\n",
      "|  [LightningModule]MonetDense.on_test_model_train                                                                                                                \t|  0.00013932     \t|  1              \t|  0.00013932     \t|  0.0070418      \t|\n",
      "|  [Callback]ModelCheckpoint{'monitor': 'val_loss', 'mode': 'min', 'every_n_train_steps': 0, 'every_n_epochs': 1, 'train_time_interval': None}.setup              \t|  6.3547e-05     \t|  1              \t|  6.3547e-05     \t|  0.0032119      \t|\n",
      "|  [Callback]ModelSummary.on_test_batch_end                                                                                                                       \t|  3.0258e-06     \t|  11             \t|  3.3284e-05     \t|  0.0016823      \t|\n",
      "|  [Callback]ModelSummary.on_test_batch_start                                                                                                                     \t|  1.8385e-06     \t|  11             \t|  2.0224e-05     \t|  0.0010222      \t|\n",
      "|  [LightningModule]MonetDense.on_before_batch_transfer                                                                                                           \t|  1.833e-06      \t|  11             \t|  2.0163e-05     \t|  0.0010191      \t|\n",
      "|  [LightningModule]MonetDense.on_after_batch_transfer                                                                                                            \t|  1.534e-06      \t|  11             \t|  1.6874e-05     \t|  0.00085287     \t|\n",
      "|  [LightningModule]MonetDense.on_test_batch_end                                                                                                                  \t|  1.3531e-06     \t|  11             \t|  1.4884e-05     \t|  0.00075229     \t|\n",
      "|  [Callback]ModelCheckpoint{'monitor': 'val_loss', 'mode': 'min', 'every_n_train_steps': 0, 'every_n_epochs': 1, 'train_time_interval': None}.on_test_batch_end  \t|  1.3453e-06     \t|  11             \t|  1.4798e-05     \t|  0.00074794     \t|\n",
      "|  [Callback]ModelCheckpoint{'monitor': 'val_loss', 'mode': 'min', 'every_n_train_steps': 0, 'every_n_epochs': 1, 'train_time_interval': None}.on_test_batch_start\t|  1.2426e-06     \t|  11             \t|  1.3669e-05     \t|  0.00069088     \t|\n",
      "|  [LightningModule]MonetDense.on_test_epoch_start                                                                                                                \t|  1.1857e-05     \t|  1              \t|  1.1857e-05     \t|  0.0005993      \t|\n",
      "|  [LightningModule]MonetDense.on_test_batch_start                                                                                                                \t|  1.0357e-06     \t|  11             \t|  1.1393e-05     \t|  0.00057584     \t|\n",
      "|  [Callback]ModelSummary.on_test_start                                                                                                                           \t|  9.917e-06      \t|  1              \t|  9.917e-06      \t|  0.00050124     \t|\n",
      "|  [Callback]TQDMProgressBar.setup                                                                                                                                \t|  6.605e-06      \t|  1              \t|  6.605e-06      \t|  0.00033384     \t|\n",
      "|  [Strategy]SingleDeviceStrategy.on_test_start                                                                                                                   \t|  4.953e-06      \t|  1              \t|  4.953e-06      \t|  0.00025034     \t|\n",
      "|  [Callback]TQDMProgressBar.teardown                                                                                                                             \t|  4.324e-06      \t|  1              \t|  4.324e-06      \t|  0.00021855     \t|\n",
      "|  [Strategy]SingleDeviceStrategy.on_test_end                                                                                                                     \t|  4.084e-06      \t|  1              \t|  4.084e-06      \t|  0.00020642     \t|\n",
      "|  [LightningModule]MonetDense.configure_callbacks                                                                                                                \t|  3.008e-06      \t|  1              \t|  3.008e-06      \t|  0.00015204     \t|\n",
      "|  [Callback]ModelSummary.on_test_end                                                                                                                             \t|  2.702e-06      \t|  1              \t|  2.702e-06      \t|  0.00013657     \t|\n",
      "|  [Callback]TQDMProgressBar.on_test_epoch_end                                                                                                                    \t|  2.45e-06       \t|  1              \t|  2.45e-06       \t|  0.00012383     \t|\n",
      "|  [Callback]ModelSummary.setup                                                                                                                                   \t|  2.008e-06      \t|  1              \t|  2.008e-06      \t|  0.00010149     \t|\n",
      "|  [Callback]TQDMProgressBar.on_test_epoch_start                                                                                                                  \t|  1.68e-06       \t|  1              \t|  1.68e-06       \t|  8.4913e-05     \t|\n",
      "|  [Callback]ModelCheckpoint{'monitor': 'val_loss', 'mode': 'min', 'every_n_train_steps': 0, 'every_n_epochs': 1, 'train_time_interval': None}.on_test_start      \t|  1.578e-06      \t|  1              \t|  1.578e-06      \t|  7.9758e-05     \t|\n",
      "|  [LightningModule]MonetDense.setup                                                                                                                              \t|  1.569e-06      \t|  1              \t|  1.569e-06      \t|  7.9302e-05     \t|\n",
      "|  [Callback]ModelSummary.teardown                                                                                                                                \t|  1.527e-06      \t|  1              \t|  1.527e-06      \t|  7.718e-05      \t|\n",
      "|  [LightningModule]MonetDense.on_test_start                                                                                                                      \t|  1.437e-06      \t|  1              \t|  1.437e-06      \t|  7.2631e-05     \t|\n",
      "|  [Callback]ModelCheckpoint{'monitor': 'val_loss', 'mode': 'min', 'every_n_train_steps': 0, 'every_n_epochs': 1, 'train_time_interval': None}.teardown           \t|  1.382e-06      \t|  1              \t|  1.382e-06      \t|  6.9851e-05     \t|\n",
      "|  [Callback]ModelSummary.on_test_epoch_start                                                                                                                     \t|  1.299e-06      \t|  1              \t|  1.299e-06      \t|  6.5656e-05     \t|\n",
      "|  [LightningModule]MonetDense.prepare_data                                                                                                                       \t|  1.275e-06      \t|  1              \t|  1.275e-06      \t|  6.4442e-05     \t|\n",
      "|  [LightningModule]MonetDense.teardown                                                                                                                           \t|  1.263e-06      \t|  1              \t|  1.263e-06      \t|  6.3836e-05     \t|\n",
      "|  [Callback]ModelCheckpoint{'monitor': 'val_loss', 'mode': 'min', 'every_n_train_steps': 0, 'every_n_epochs': 1, 'train_time_interval': None}.on_test_epoch_start\t|  1.256e-06      \t|  1              \t|  1.256e-06      \t|  6.3483e-05     \t|\n",
      "|  [Callback]ModelSummary.on_test_epoch_end                                                                                                                       \t|  1.191e-06      \t|  1              \t|  1.191e-06      \t|  6.0198e-05     \t|\n",
      "|  [Callback]ModelCheckpoint{'monitor': 'val_loss', 'mode': 'min', 'every_n_train_steps': 0, 'every_n_epochs': 1, 'train_time_interval': None}.on_test_end        \t|  1.131e-06      \t|  1              \t|  1.131e-06      \t|  5.7165e-05     \t|\n",
      "|  [LightningModule]MonetDense.on_test_end                                                                                                                        \t|  1.122e-06      \t|  1              \t|  1.122e-06      \t|  5.6711e-05     \t|\n",
      "|  [Callback]ModelCheckpoint{'monitor': 'val_loss', 'mode': 'min', 'every_n_train_steps': 0, 'every_n_epochs': 1, 'train_time_interval': None}.on_test_epoch_end  \t|  1.034e-06      \t|  1              \t|  1.034e-06      \t|  5.2262e-05     \t|\n",
      "|  [LightningModule]MonetDense.on_test_epoch_end                                                                                                                  \t|  9.09e-07       \t|  1              \t|  9.09e-07       \t|  4.5944e-05     \t|\n",
      "--------------------------------------------------------------------------------------------------------------------------------------------------------------------------------------------------------------------------------------------------------------------------\n",
      "\n"
     ]
    },
    {
     "name": "stdout",
     "output_type": "stream",
     "text": [
      "MonetDense__[512, 512, 512, 512]__10__1__XENIUM__Adam__NUM_SPLITS=3\n",
      "There are 64 graph splits for the Xenium Dataset.\n"
     ]
    },
    {
     "name": "stderr",
     "output_type": "stream",
     "text": [
      "GPU available: True (cuda), used: True\n",
      "TPU available: False, using: 0 TPU cores\n",
      "IPU available: False, using: 0 IPUs\n",
      "HPU available: False, using: 0 HPUs\n",
      "`Trainer(limit_train_batches=1.0)` was configured so 100% of the batches per epoch will be used..\n",
      "`Trainer(limit_val_batches=1.0)` was configured so 100% of the batches will be used..\n",
      "LOCAL_RANK: 0 - CUDA_VISIBLE_DEVICES: [4,5,6]\n"
     ]
    },
    {
     "name": "stdout",
     "output_type": "stream",
     "text": [
      "The number of parameters for radius 1 is 10967684\n"
     ]
    },
    {
     "data": {
      "application/vnd.jupyter.widget-view+json": {
       "model_id": "787562208a7343e1bd5ece7ee419a0a8",
       "version_major": 2,
       "version_minor": 0
      },
      "text/plain": [
       "Testing: |          | 0/? [00:00<?, ?it/s]"
      ]
     },
     "metadata": {},
     "output_type": "display_data"
    },
    {
     "data": {
      "text/html": [
       "<pre style=\"white-space:pre;overflow-x:auto;line-height:normal;font-family:Menlo,'DejaVu Sans Mono',consolas,'Courier New',monospace\">┏━━━━━━━━━━━━━━━━━━━━━━━━━━━┳━━━━━━━━━━━━━━━━━━━━━━━━━━━┓\n",
       "┃<span style=\"font-weight: bold\">        Test metric        </span>┃<span style=\"font-weight: bold\">       DataLoader 0        </span>┃\n",
       "┡━━━━━━━━━━━━━━━━━━━━━━━━━━━╇━━━━━━━━━━━━━━━━━━━━━━━━━━━┩\n",
       "│<span style=\"color: #008080; text-decoration-color: #008080\">         test_loss         </span>│<span style=\"color: #800080; text-decoration-color: #800080\">    0.3260442018508911     </span>│\n",
       "│<span style=\"color: #008080; text-decoration-color: #008080\">       test_loss_mse       </span>│<span style=\"color: #800080; text-decoration-color: #800080\">    0.3260442018508911     </span>│\n",
       "└───────────────────────────┴───────────────────────────┘\n",
       "</pre>\n"
      ],
      "text/plain": [
       "┏━━━━━━━━━━━━━━━━━━━━━━━━━━━┳━━━━━━━━━━━━━━━━━━━━━━━━━━━┓\n",
       "┃\u001b[1m \u001b[0m\u001b[1m       Test metric       \u001b[0m\u001b[1m \u001b[0m┃\u001b[1m \u001b[0m\u001b[1m      DataLoader 0       \u001b[0m\u001b[1m \u001b[0m┃\n",
       "┡━━━━━━━━━━━━━━━━━━━━━━━━━━━╇━━━━━━━━━━━━━━━━━━━━━━━━━━━┩\n",
       "│\u001b[36m \u001b[0m\u001b[36m        test_loss        \u001b[0m\u001b[36m \u001b[0m│\u001b[35m \u001b[0m\u001b[35m   0.3260442018508911    \u001b[0m\u001b[35m \u001b[0m│\n",
       "│\u001b[36m \u001b[0m\u001b[36m      test_loss_mse      \u001b[0m\u001b[36m \u001b[0m│\u001b[35m \u001b[0m\u001b[35m   0.3260442018508911    \u001b[0m\u001b[35m \u001b[0m│\n",
       "└───────────────────────────┴───────────────────────────┘\n"
      ]
     },
     "metadata": {},
     "output_type": "display_data"
    },
    {
     "name": "stderr",
     "output_type": "stream",
     "text": [
      "TEST Profiler Report\n",
      "\n",
      "--------------------------------------------------------------------------------------------------------------------------------------------------------------------------------------------------------------------------------------------------------------------------\n",
      "|  Action                                                                                                                                                         \t|  Mean duration (s)\t|  Num calls      \t|  Total time (s) \t|  Percentage %   \t|\n",
      "--------------------------------------------------------------------------------------------------------------------------------------------------------------------------------------------------------------------------------------------------------------------------\n",
      "|  Total                                                                                                                                                          \t|  -              \t|  184            \t|  1.3792         \t|  100 %          \t|\n",
      "--------------------------------------------------------------------------------------------------------------------------------------------------------------------------------------------------------------------------------------------------------------------------\n",
      "|  [Strategy]SingleDeviceStrategy.test_step                                                                                                                       \t|  0.035445       \t|  11             \t|  0.3899         \t|  28.269         \t|\n",
      "|  [_EvaluationLoop].test_next                                                                                                                                    \t|  0.0046388      \t|  11             \t|  0.051027       \t|  3.6996         \t|\n",
      "|  [Strategy]SingleDeviceStrategy.batch_to_device                                                                                                                 \t|  0.0038949      \t|  11             \t|  0.042844       \t|  3.1063         \t|\n",
      "|  [LightningModule]MonetDense.transfer_batch_to_device                                                                                                           \t|  0.0038405      \t|  11             \t|  0.042246       \t|  3.0629         \t|\n",
      "|  [Callback]TQDMProgressBar.on_test_start                                                                                                                        \t|  0.026019       \t|  1              \t|  0.026019       \t|  1.8865         \t|\n",
      "|  [Callback]TQDMProgressBar.on_test_batch_end                                                                                                                    \t|  0.00058564     \t|  11             \t|  0.0064421      \t|  0.46707        \t|\n",
      "|  [Callback]TQDMProgressBar.on_test_batch_start                                                                                                                  \t|  9.0229e-05     \t|  11             \t|  0.00099252     \t|  0.071961       \t|\n",
      "|  [LightningModule]MonetDense.on_test_model_eval                                                                                                                 \t|  0.00055591     \t|  1              \t|  0.00055591     \t|  0.040305       \t|\n",
      "|  [Callback]TQDMProgressBar.on_test_end                                                                                                                          \t|  0.00045857     \t|  1              \t|  0.00045857     \t|  0.033248       \t|\n",
      "|  [LightningModule]MonetDense.on_test_model_train                                                                                                                \t|  0.00012955     \t|  1              \t|  0.00012955     \t|  0.0093925      \t|\n",
      "|  [Callback]ModelCheckpoint{'monitor': 'val_loss', 'mode': 'min', 'every_n_train_steps': 0, 'every_n_epochs': 1, 'train_time_interval': None}.setup              \t|  6.7405e-05     \t|  1              \t|  6.7405e-05     \t|  0.0048871      \t|\n",
      "|  [Callback]ModelSummary.on_test_batch_end                                                                                                                       \t|  3.1956e-06     \t|  11             \t|  3.5152e-05     \t|  0.0025486      \t|\n",
      "|  [LightningModule]MonetDense.on_after_batch_transfer                                                                                                            \t|  1.9012e-06     \t|  11             \t|  2.0913e-05     \t|  0.0015163      \t|\n",
      "|  [LightningModule]MonetDense.on_before_batch_transfer                                                                                                           \t|  1.8661e-06     \t|  11             \t|  2.0527e-05     \t|  0.0014883      \t|\n",
      "|  [Callback]ModelSummary.on_test_batch_start                                                                                                                     \t|  1.6324e-06     \t|  11             \t|  1.7956e-05     \t|  0.0013019      \t|\n",
      "|  [Callback]ModelCheckpoint{'monitor': 'val_loss', 'mode': 'min', 'every_n_train_steps': 0, 'every_n_epochs': 1, 'train_time_interval': None}.on_test_batch_end  \t|  1.3893e-06     \t|  11             \t|  1.5282e-05     \t|  0.001108       \t|\n",
      "|  [LightningModule]MonetDense.on_test_batch_end                                                                                                                  \t|  1.2975e-06     \t|  11             \t|  1.4273e-05     \t|  0.0010348      \t|\n",
      "|  [Callback]ModelCheckpoint{'monitor': 'val_loss', 'mode': 'min', 'every_n_train_steps': 0, 'every_n_epochs': 1, 'train_time_interval': None}.on_test_batch_start\t|  1.1353e-06     \t|  11             \t|  1.2488e-05     \t|  0.00090542     \t|\n",
      "|  [LightningModule]MonetDense.on_test_batch_start                                                                                                                \t|  9.7554e-07     \t|  11             \t|  1.0731e-05     \t|  0.00077803     \t|\n",
      "|  [LightningModule]MonetDense.on_test_epoch_start                                                                                                                \t|  9.427e-06      \t|  1              \t|  9.427e-06      \t|  0.00068349     \t|\n",
      "|  [Callback]ModelSummary.on_test_start                                                                                                                           \t|  8.846e-06      \t|  1              \t|  8.846e-06      \t|  0.00064136     \t|\n",
      "|  [Callback]TQDMProgressBar.setup                                                                                                                                \t|  7.117e-06      \t|  1              \t|  7.117e-06      \t|  0.000516       \t|\n",
      "|  [Strategy]SingleDeviceStrategy.on_test_start                                                                                                                   \t|  5.638e-06      \t|  1              \t|  5.638e-06      \t|  0.00040877     \t|\n",
      "|  [Strategy]SingleDeviceStrategy.on_test_end                                                                                                                     \t|  4.172e-06      \t|  1              \t|  4.172e-06      \t|  0.00030248     \t|\n",
      "|  [Callback]TQDMProgressBar.teardown                                                                                                                             \t|  3.942e-06      \t|  1              \t|  3.942e-06      \t|  0.00028581     \t|\n",
      "|  [LightningModule]MonetDense.configure_callbacks                                                                                                                \t|  2.964e-06      \t|  1              \t|  2.964e-06      \t|  0.0002149      \t|\n",
      "|  [Callback]TQDMProgressBar.on_test_epoch_end                                                                                                                    \t|  2.556e-06      \t|  1              \t|  2.556e-06      \t|  0.00018532     \t|\n",
      "|  [Callback]ModelSummary.on_test_end                                                                                                                             \t|  2.462e-06      \t|  1              \t|  2.462e-06      \t|  0.0001785      \t|\n",
      "|  [Callback]ModelCheckpoint{'monitor': 'val_loss', 'mode': 'min', 'every_n_train_steps': 0, 'every_n_epochs': 1, 'train_time_interval': None}.on_test_start      \t|  1.98e-06       \t|  1              \t|  1.98e-06       \t|  0.00014356     \t|\n",
      "|  [Callback]ModelSummary.setup                                                                                                                                   \t|  1.947e-06      \t|  1              \t|  1.947e-06      \t|  0.00014116     \t|\n",
      "|  [Callback]TQDMProgressBar.on_test_epoch_start                                                                                                                  \t|  1.856e-06      \t|  1              \t|  1.856e-06      \t|  0.00013456     \t|\n",
      "|  [LightningModule]MonetDense.setup                                                                                                                              \t|  1.827e-06      \t|  1              \t|  1.827e-06      \t|  0.00013246     \t|\n",
      "|  [Callback]ModelSummary.on_test_epoch_start                                                                                                                     \t|  1.57e-06       \t|  1              \t|  1.57e-06       \t|  0.00011383     \t|\n",
      "|  [LightningModule]MonetDense.on_test_start                                                                                                                      \t|  1.569e-06      \t|  1              \t|  1.569e-06      \t|  0.00011376     \t|\n",
      "|  [Callback]ModelSummary.teardown                                                                                                                                \t|  1.493e-06      \t|  1              \t|  1.493e-06      \t|  0.00010825     \t|\n",
      "|  [LightningModule]MonetDense.teardown                                                                                                                           \t|  1.485e-06      \t|  1              \t|  1.485e-06      \t|  0.00010767     \t|\n",
      "|  [Callback]ModelCheckpoint{'monitor': 'val_loss', 'mode': 'min', 'every_n_train_steps': 0, 'every_n_epochs': 1, 'train_time_interval': None}.on_test_epoch_start\t|  1.432e-06      \t|  1              \t|  1.432e-06      \t|  0.00010382     \t|\n",
      "|  [Callback]ModelCheckpoint{'monitor': 'val_loss', 'mode': 'min', 'every_n_train_steps': 0, 'every_n_epochs': 1, 'train_time_interval': None}.teardown           \t|  1.346e-06      \t|  1              \t|  1.346e-06      \t|  9.7591e-05     \t|\n",
      "|  [LightningModule]MonetDense.prepare_data                                                                                                                       \t|  1.247e-06      \t|  1              \t|  1.247e-06      \t|  9.041e-05      \t|\n",
      "|  [Callback]ModelSummary.on_test_epoch_end                                                                                                                       \t|  1.164e-06      \t|  1              \t|  1.164e-06      \t|  8.4394e-05     \t|\n",
      "|  [Callback]ModelCheckpoint{'monitor': 'val_loss', 'mode': 'min', 'every_n_train_steps': 0, 'every_n_epochs': 1, 'train_time_interval': None}.on_test_end        \t|  1.076e-06      \t|  1              \t|  1.076e-06      \t|  7.8013e-05     \t|\n",
      "|  [Callback]ModelCheckpoint{'monitor': 'val_loss', 'mode': 'min', 'every_n_train_steps': 0, 'every_n_epochs': 1, 'train_time_interval': None}.on_test_epoch_end  \t|  1.028e-06      \t|  1              \t|  1.028e-06      \t|  7.4534e-05     \t|\n",
      "|  [LightningModule]MonetDense.on_test_end                                                                                                                        \t|  1e-06          \t|  1              \t|  1e-06          \t|  7.2504e-05     \t|\n",
      "|  [LightningModule]MonetDense.on_test_epoch_end                                                                                                                  \t|  9.45e-07       \t|  1              \t|  9.45e-07       \t|  6.8516e-05     \t|\n",
      "--------------------------------------------------------------------------------------------------------------------------------------------------------------------------------------------------------------------------------------------------------------------------\n",
      "\n"
     ]
    },
    {
     "name": "stdout",
     "output_type": "stream",
     "text": [
      "MonetDense__[512, 512, 512, 512]__10__20__XENIUM__Adam__NUM_SPLITS=3\n",
      "There are 64 graph splits for the Xenium Dataset.\n"
     ]
    },
    {
     "name": "stderr",
     "output_type": "stream",
     "text": [
      "GPU available: True (cuda), used: True\n",
      "TPU available: False, using: 0 TPU cores\n",
      "IPU available: False, using: 0 IPUs\n",
      "HPU available: False, using: 0 HPUs\n",
      "`Trainer(limit_train_batches=1.0)` was configured so 100% of the batches per epoch will be used..\n",
      "`Trainer(limit_val_batches=1.0)` was configured so 100% of the batches will be used..\n",
      "LOCAL_RANK: 0 - CUDA_VISIBLE_DEVICES: [4,5,6]\n"
     ]
    },
    {
     "name": "stdout",
     "output_type": "stream",
     "text": [
      "The number of parameters for radius 20 is 10967684\n"
     ]
    },
    {
     "data": {
      "application/vnd.jupyter.widget-view+json": {
       "model_id": "7237fa017229471eac9e95e888b3f160",
       "version_major": 2,
       "version_minor": 0
      },
      "text/plain": [
       "Testing: |          | 0/? [00:00<?, ?it/s]"
      ]
     },
     "metadata": {},
     "output_type": "display_data"
    },
    {
     "data": {
      "text/html": [
       "<pre style=\"white-space:pre;overflow-x:auto;line-height:normal;font-family:Menlo,'DejaVu Sans Mono',consolas,'Courier New',monospace\">┏━━━━━━━━━━━━━━━━━━━━━━━━━━━┳━━━━━━━━━━━━━━━━━━━━━━━━━━━┓\n",
       "┃<span style=\"font-weight: bold\">        Test metric        </span>┃<span style=\"font-weight: bold\">       DataLoader 0        </span>┃\n",
       "┡━━━━━━━━━━━━━━━━━━━━━━━━━━━╇━━━━━━━━━━━━━━━━━━━━━━━━━━━┩\n",
       "│<span style=\"color: #008080; text-decoration-color: #008080\">         test_loss         </span>│<span style=\"color: #800080; text-decoration-color: #800080\">     0.310133159160614     </span>│\n",
       "│<span style=\"color: #008080; text-decoration-color: #008080\">       test_loss_mse       </span>│<span style=\"color: #800080; text-decoration-color: #800080\">     0.310133159160614     </span>│\n",
       "└───────────────────────────┴───────────────────────────┘\n",
       "</pre>\n"
      ],
      "text/plain": [
       "┏━━━━━━━━━━━━━━━━━━━━━━━━━━━┳━━━━━━━━━━━━━━━━━━━━━━━━━━━┓\n",
       "┃\u001b[1m \u001b[0m\u001b[1m       Test metric       \u001b[0m\u001b[1m \u001b[0m┃\u001b[1m \u001b[0m\u001b[1m      DataLoader 0       \u001b[0m\u001b[1m \u001b[0m┃\n",
       "┡━━━━━━━━━━━━━━━━━━━━━━━━━━━╇━━━━━━━━━━━━━━━━━━━━━━━━━━━┩\n",
       "│\u001b[36m \u001b[0m\u001b[36m        test_loss        \u001b[0m\u001b[36m \u001b[0m│\u001b[35m \u001b[0m\u001b[35m    0.310133159160614    \u001b[0m\u001b[35m \u001b[0m│\n",
       "│\u001b[36m \u001b[0m\u001b[36m      test_loss_mse      \u001b[0m\u001b[36m \u001b[0m│\u001b[35m \u001b[0m\u001b[35m    0.310133159160614    \u001b[0m\u001b[35m \u001b[0m│\n",
       "└───────────────────────────┴───────────────────────────┘\n"
      ]
     },
     "metadata": {},
     "output_type": "display_data"
    },
    {
     "name": "stderr",
     "output_type": "stream",
     "text": [
      "TEST Profiler Report\n",
      "\n",
      "--------------------------------------------------------------------------------------------------------------------------------------------------------------------------------------------------------------------------------------------------------------------------\n",
      "|  Action                                                                                                                                                         \t|  Mean duration (s)\t|  Num calls      \t|  Total time (s) \t|  Percentage %   \t|\n",
      "--------------------------------------------------------------------------------------------------------------------------------------------------------------------------------------------------------------------------------------------------------------------------\n",
      "|  Total                                                                                                                                                          \t|  -              \t|  184            \t|  2.1168         \t|  100 %          \t|\n",
      "--------------------------------------------------------------------------------------------------------------------------------------------------------------------------------------------------------------------------------------------------------------------------\n",
      "|  [Strategy]SingleDeviceStrategy.test_step                                                                                                                       \t|  0.095651       \t|  11             \t|  1.0522         \t|  49.707         \t|\n",
      "|  [Strategy]SingleDeviceStrategy.batch_to_device                                                                                                                 \t|  0.0052036      \t|  11             \t|  0.057239       \t|  2.7041         \t|\n",
      "|  [LightningModule]MonetDense.transfer_batch_to_device                                                                                                           \t|  0.0051339      \t|  11             \t|  0.056473       \t|  2.6679         \t|\n",
      "|  [_EvaluationLoop].test_next                                                                                                                                    \t|  0.0045368      \t|  11             \t|  0.049905       \t|  2.3576         \t|\n",
      "|  [Callback]TQDMProgressBar.on_test_start                                                                                                                        \t|  0.020305       \t|  1              \t|  0.020305       \t|  0.95927        \t|\n",
      "|  [Callback]TQDMProgressBar.on_test_batch_end                                                                                                                    \t|  0.00081064     \t|  11             \t|  0.008917       \t|  0.42126        \t|\n",
      "|  [Callback]TQDMProgressBar.on_test_batch_start                                                                                                                  \t|  0.00010479     \t|  11             \t|  0.0011527      \t|  0.054455       \t|\n",
      "|  [LightningModule]MonetDense.on_test_model_eval                                                                                                                 \t|  0.0006976      \t|  1              \t|  0.0006976      \t|  0.032956       \t|\n",
      "|  [Callback]TQDMProgressBar.on_test_end                                                                                                                          \t|  0.00052412     \t|  1              \t|  0.00052412     \t|  0.02476        \t|\n",
      "|  [LightningModule]MonetDense.on_test_model_train                                                                                                                \t|  0.00014886     \t|  1              \t|  0.00014886     \t|  0.0070324      \t|\n",
      "|  [Callback]ModelCheckpoint{'monitor': 'val_loss', 'mode': 'min', 'every_n_train_steps': 0, 'every_n_epochs': 1, 'train_time_interval': None}.setup              \t|  6.2528e-05     \t|  1              \t|  6.2528e-05     \t|  0.002954       \t|\n",
      "|  [Callback]ModelSummary.on_test_batch_end                                                                                                                       \t|  3.7117e-06     \t|  11             \t|  4.0829e-05     \t|  0.0019289      \t|\n",
      "|  [LightningModule]MonetDense.on_before_batch_transfer                                                                                                           \t|  2.2576e-06     \t|  11             \t|  2.4834e-05     \t|  0.0011732      \t|\n",
      "|  [Callback]ModelSummary.on_test_batch_start                                                                                                                     \t|  2.1496e-06     \t|  11             \t|  2.3646e-05     \t|  0.0011171      \t|\n",
      "|  [LightningModule]MonetDense.on_after_batch_transfer                                                                                                            \t|  1.8311e-06     \t|  11             \t|  2.0142e-05     \t|  0.00095155     \t|\n",
      "|  [Callback]ModelCheckpoint{'monitor': 'val_loss', 'mode': 'min', 'every_n_train_steps': 0, 'every_n_epochs': 1, 'train_time_interval': None}.on_test_batch_end  \t|  1.7225e-06     \t|  11             \t|  1.8947e-05     \t|  0.0008951      \t|\n",
      "|  [LightningModule]MonetDense.on_test_batch_end                                                                                                                  \t|  1.645e-06      \t|  11             \t|  1.8095e-05     \t|  0.00085485     \t|\n",
      "|  [Callback]ModelSummary.on_test_start                                                                                                                           \t|  1.7883e-05     \t|  1              \t|  1.7883e-05     \t|  0.00084483     \t|\n",
      "|  [Callback]ModelCheckpoint{'monitor': 'val_loss', 'mode': 'min', 'every_n_train_steps': 0, 'every_n_epochs': 1, 'train_time_interval': None}.on_test_batch_start\t|  1.4439e-06     \t|  11             \t|  1.5883e-05     \t|  0.00075035     \t|\n",
      "|  [LightningModule]MonetDense.on_test_batch_start                                                                                                                \t|  1.2233e-06     \t|  11             \t|  1.3456e-05     \t|  0.00063569     \t|\n",
      "|  [LightningModule]MonetDense.on_test_epoch_start                                                                                                                \t|  7.829e-06      \t|  1              \t|  7.829e-06      \t|  0.00036986     \t|\n",
      "|  [Callback]TQDMProgressBar.setup                                                                                                                                \t|  6.521e-06      \t|  1              \t|  6.521e-06      \t|  0.00030807     \t|\n",
      "|  [Strategy]SingleDeviceStrategy.on_test_start                                                                                                                   \t|  6.427e-06      \t|  1              \t|  6.427e-06      \t|  0.00030363     \t|\n",
      "|  [Callback]TQDMProgressBar.teardown                                                                                                                             \t|  5.572e-06      \t|  1              \t|  5.572e-06      \t|  0.00026323     \t|\n",
      "|  [Strategy]SingleDeviceStrategy.on_test_end                                                                                                                     \t|  4.883e-06      \t|  1              \t|  4.883e-06      \t|  0.00023068     \t|\n",
      "|  [Callback]TQDMProgressBar.on_test_epoch_end                                                                                                                    \t|  3.35e-06       \t|  1              \t|  3.35e-06       \t|  0.00015826     \t|\n",
      "|  [LightningModule]MonetDense.configure_callbacks                                                                                                                \t|  3.009e-06      \t|  1              \t|  3.009e-06      \t|  0.00014215     \t|\n",
      "|  [Callback]ModelSummary.on_test_end                                                                                                                             \t|  2.415e-06      \t|  1              \t|  2.415e-06      \t|  0.00011409     \t|\n",
      "|  [LightningModule]MonetDense.teardown                                                                                                                           \t|  2.222e-06      \t|  1              \t|  2.222e-06      \t|  0.00010497     \t|\n",
      "|  [Callback]ModelSummary.teardown                                                                                                                                \t|  1.897e-06      \t|  1              \t|  1.897e-06      \t|  8.9619e-05     \t|\n",
      "|  [Callback]ModelSummary.setup                                                                                                                                   \t|  1.746e-06      \t|  1              \t|  1.746e-06      \t|  8.2485e-05     \t|\n",
      "|  [Callback]ModelCheckpoint{'monitor': 'val_loss', 'mode': 'min', 'every_n_train_steps': 0, 'every_n_epochs': 1, 'train_time_interval': None}.on_test_start      \t|  1.615e-06      \t|  1              \t|  1.615e-06      \t|  7.6296e-05     \t|\n",
      "|  [Callback]TQDMProgressBar.on_test_epoch_start                                                                                                                  \t|  1.575e-06      \t|  1              \t|  1.575e-06      \t|  7.4406e-05     \t|\n",
      "|  [LightningModule]MonetDense.prepare_data                                                                                                                       \t|  1.504e-06      \t|  1              \t|  1.504e-06      \t|  7.1052e-05     \t|\n",
      "|  [LightningModule]MonetDense.on_test_start                                                                                                                      \t|  1.502e-06      \t|  1              \t|  1.502e-06      \t|  7.0959e-05     \t|\n",
      "|  [Callback]ModelCheckpoint{'monitor': 'val_loss', 'mode': 'min', 'every_n_train_steps': 0, 'every_n_epochs': 1, 'train_time_interval': None}.teardown           \t|  1.488e-06      \t|  1              \t|  1.488e-06      \t|  7.0297e-05     \t|\n",
      "|  [LightningModule]MonetDense.setup                                                                                                                              \t|  1.368e-06      \t|  1              \t|  1.368e-06      \t|  6.4627e-05     \t|\n",
      "|  [Callback]ModelCheckpoint{'monitor': 'val_loss', 'mode': 'min', 'every_n_train_steps': 0, 'every_n_epochs': 1, 'train_time_interval': None}.on_test_end        \t|  1.204e-06      \t|  1              \t|  1.204e-06      \t|  5.6879e-05     \t|\n",
      "|  [Callback]ModelSummary.on_test_epoch_start                                                                                                                     \t|  1.154e-06      \t|  1              \t|  1.154e-06      \t|  5.4519e-05     \t|\n",
      "|  [LightningModule]MonetDense.on_test_end                                                                                                                        \t|  1.119e-06      \t|  1              \t|  1.119e-06      \t|  5.2865e-05     \t|\n",
      "|  [Callback]ModelSummary.on_test_epoch_end                                                                                                                       \t|  1.008e-06      \t|  1              \t|  1.008e-06      \t|  4.7619e-05     \t|\n",
      "|  [Callback]ModelCheckpoint{'monitor': 'val_loss', 'mode': 'min', 'every_n_train_steps': 0, 'every_n_epochs': 1, 'train_time_interval': None}.on_test_epoch_start\t|  9.9398e-07     \t|  1              \t|  9.9398e-07     \t|  4.6958e-05     \t|\n",
      "|  [LightningModule]MonetDense.on_test_epoch_end                                                                                                                  \t|  9.8502e-07     \t|  1              \t|  9.8502e-07     \t|  4.6534e-05     \t|\n",
      "|  [Callback]ModelCheckpoint{'monitor': 'val_loss', 'mode': 'min', 'every_n_train_steps': 0, 'every_n_epochs': 1, 'train_time_interval': None}.on_test_epoch_end  \t|  9.4698e-07     \t|  1              \t|  9.4698e-07     \t|  4.4737e-05     \t|\n",
      "--------------------------------------------------------------------------------------------------------------------------------------------------------------------------------------------------------------------------------------------------------------------------\n",
      "\n"
     ]
    },
    {
     "name": "stdout",
     "output_type": "stream",
     "text": [
      "MonetDense__[512, 512, 512, 512]__10__12__XENIUM__Adam__NUM_SPLITS=3\n",
      "There are 64 graph splits for the Xenium Dataset.\n"
     ]
    },
    {
     "name": "stderr",
     "output_type": "stream",
     "text": [
      "GPU available: True (cuda), used: True\n",
      "TPU available: False, using: 0 TPU cores\n",
      "IPU available: False, using: 0 IPUs\n",
      "HPU available: False, using: 0 HPUs\n",
      "`Trainer(limit_train_batches=1.0)` was configured so 100% of the batches per epoch will be used..\n",
      "`Trainer(limit_val_batches=1.0)` was configured so 100% of the batches will be used..\n",
      "LOCAL_RANK: 0 - CUDA_VISIBLE_DEVICES: [4,5,6]\n"
     ]
    },
    {
     "name": "stdout",
     "output_type": "stream",
     "text": [
      "The number of parameters for radius 12 is 10967684\n"
     ]
    },
    {
     "data": {
      "application/vnd.jupyter.widget-view+json": {
       "model_id": "a840ac096dfb474ea46ef2422136ee9a",
       "version_major": 2,
       "version_minor": 0
      },
      "text/plain": [
       "Testing: |          | 0/? [00:00<?, ?it/s]"
      ]
     },
     "metadata": {},
     "output_type": "display_data"
    },
    {
     "data": {
      "text/html": [
       "<pre style=\"white-space:pre;overflow-x:auto;line-height:normal;font-family:Menlo,'DejaVu Sans Mono',consolas,'Courier New',monospace\">┏━━━━━━━━━━━━━━━━━━━━━━━━━━━┳━━━━━━━━━━━━━━━━━━━━━━━━━━━┓\n",
       "┃<span style=\"font-weight: bold\">        Test metric        </span>┃<span style=\"font-weight: bold\">       DataLoader 0        </span>┃\n",
       "┡━━━━━━━━━━━━━━━━━━━━━━━━━━━╇━━━━━━━━━━━━━━━━━━━━━━━━━━━┩\n",
       "│<span style=\"color: #008080; text-decoration-color: #008080\">         test_loss         </span>│<span style=\"color: #800080; text-decoration-color: #800080\">    0.3349367380142212     </span>│\n",
       "│<span style=\"color: #008080; text-decoration-color: #008080\">       test_loss_mse       </span>│<span style=\"color: #800080; text-decoration-color: #800080\">    0.3349367380142212     </span>│\n",
       "└───────────────────────────┴───────────────────────────┘\n",
       "</pre>\n"
      ],
      "text/plain": [
       "┏━━━━━━━━━━━━━━━━━━━━━━━━━━━┳━━━━━━━━━━━━━━━━━━━━━━━━━━━┓\n",
       "┃\u001b[1m \u001b[0m\u001b[1m       Test metric       \u001b[0m\u001b[1m \u001b[0m┃\u001b[1m \u001b[0m\u001b[1m      DataLoader 0       \u001b[0m\u001b[1m \u001b[0m┃\n",
       "┡━━━━━━━━━━━━━━━━━━━━━━━━━━━╇━━━━━━━━━━━━━━━━━━━━━━━━━━━┩\n",
       "│\u001b[36m \u001b[0m\u001b[36m        test_loss        \u001b[0m\u001b[36m \u001b[0m│\u001b[35m \u001b[0m\u001b[35m   0.3349367380142212    \u001b[0m\u001b[35m \u001b[0m│\n",
       "│\u001b[36m \u001b[0m\u001b[36m      test_loss_mse      \u001b[0m\u001b[36m \u001b[0m│\u001b[35m \u001b[0m\u001b[35m   0.3349367380142212    \u001b[0m\u001b[35m \u001b[0m│\n",
       "└───────────────────────────┴───────────────────────────┘\n"
      ]
     },
     "metadata": {},
     "output_type": "display_data"
    },
    {
     "name": "stderr",
     "output_type": "stream",
     "text": [
      "TEST Profiler Report\n",
      "\n",
      "--------------------------------------------------------------------------------------------------------------------------------------------------------------------------------------------------------------------------------------------------------------------------\n",
      "|  Action                                                                                                                                                         \t|  Mean duration (s)\t|  Num calls      \t|  Total time (s) \t|  Percentage %   \t|\n",
      "--------------------------------------------------------------------------------------------------------------------------------------------------------------------------------------------------------------------------------------------------------------------------\n",
      "|  Total                                                                                                                                                          \t|  -              \t|  184            \t|  1.6953         \t|  100 %          \t|\n",
      "--------------------------------------------------------------------------------------------------------------------------------------------------------------------------------------------------------------------------------------------------------------------------\n",
      "|  [Strategy]SingleDeviceStrategy.test_step                                                                                                                       \t|  0.060452       \t|  11             \t|  0.66497        \t|  39.225         \t|\n",
      "|  [Strategy]SingleDeviceStrategy.batch_to_device                                                                                                                 \t|  0.0054801      \t|  11             \t|  0.060281       \t|  3.5558         \t|\n",
      "|  [LightningModule]MonetDense.transfer_batch_to_device                                                                                                           \t|  0.0054268      \t|  11             \t|  0.059695       \t|  3.5212         \t|\n",
      "|  [_EvaluationLoop].test_next                                                                                                                                    \t|  0.0042792      \t|  11             \t|  0.047071       \t|  2.7766         \t|\n",
      "|  [Callback]TQDMProgressBar.on_test_start                                                                                                                        \t|  0.019559       \t|  1              \t|  0.019559       \t|  1.1538         \t|\n",
      "|  [Callback]TQDMProgressBar.on_test_batch_end                                                                                                                    \t|  0.0006072      \t|  11             \t|  0.0066792      \t|  0.39399        \t|\n",
      "|  [Callback]TQDMProgressBar.on_test_batch_start                                                                                                                  \t|  8.7489e-05     \t|  11             \t|  0.00096238     \t|  0.056768       \t|\n",
      "|  [Callback]TQDMProgressBar.on_test_end                                                                                                                          \t|  0.00045976     \t|  1              \t|  0.00045976     \t|  0.02712        \t|\n",
      "|  [LightningModule]MonetDense.on_test_model_eval                                                                                                                 \t|  0.00045392     \t|  1              \t|  0.00045392     \t|  0.026775       \t|\n",
      "|  [LightningModule]MonetDense.on_test_model_train                                                                                                                \t|  0.00012919     \t|  1              \t|  0.00012919     \t|  0.0076208      \t|\n",
      "|  [Callback]ModelCheckpoint{'monitor': 'val_loss', 'mode': 'min', 'every_n_train_steps': 0, 'every_n_epochs': 1, 'train_time_interval': None}.setup              \t|  9.1127e-05     \t|  1              \t|  9.1127e-05     \t|  0.0053753      \t|\n",
      "|  [Callback]ModelSummary.on_test_batch_end                                                                                                                       \t|  3.051e-06      \t|  11             \t|  3.3561e-05     \t|  0.0019797      \t|\n",
      "|  [LightningModule]MonetDense.on_before_batch_transfer                                                                                                           \t|  1.9623e-06     \t|  11             \t|  2.1585e-05     \t|  0.0012732      \t|\n",
      "|  [Callback]ModelSummary.on_test_batch_start                                                                                                                     \t|  1.8053e-06     \t|  11             \t|  1.9858e-05     \t|  0.0011714      \t|\n",
      "|  [LightningModule]MonetDense.on_after_batch_transfer                                                                                                            \t|  1.625e-06      \t|  11             \t|  1.7875e-05     \t|  0.0010544      \t|\n",
      "|  [LightningModule]MonetDense.on_test_batch_end                                                                                                                  \t|  1.407e-06      \t|  11             \t|  1.5477e-05     \t|  0.00091295     \t|\n",
      "|  [Callback]ModelCheckpoint{'monitor': 'val_loss', 'mode': 'min', 'every_n_train_steps': 0, 'every_n_epochs': 1, 'train_time_interval': None}.on_test_batch_end  \t|  1.3225e-06     \t|  11             \t|  1.4548e-05     \t|  0.00085815     \t|\n",
      "|  [Callback]ModelCheckpoint{'monitor': 'val_loss', 'mode': 'min', 'every_n_train_steps': 0, 'every_n_epochs': 1, 'train_time_interval': None}.on_test_batch_start\t|  1.1905e-06     \t|  11             \t|  1.3095e-05     \t|  0.00077244     \t|\n",
      "|  [LightningModule]MonetDense.on_test_batch_start                                                                                                                \t|  9.7527e-07     \t|  11             \t|  1.0728e-05     \t|  0.00063282     \t|\n",
      "|  [LightningModule]MonetDense.configure_callbacks                                                                                                                \t|  1.0033e-05     \t|  1              \t|  1.0033e-05     \t|  0.00059182     \t|\n",
      "|  [Callback]ModelSummary.on_test_start                                                                                                                           \t|  9.688e-06      \t|  1              \t|  9.688e-06      \t|  0.00057147     \t|\n",
      "|  [Callback]TQDMProgressBar.setup                                                                                                                                \t|  8.196e-06      \t|  1              \t|  8.196e-06      \t|  0.00048346     \t|\n",
      "|  [LightningModule]MonetDense.on_test_epoch_start                                                                                                                \t|  6.91e-06       \t|  1              \t|  6.91e-06       \t|  0.0004076      \t|\n",
      "|  [Strategy]SingleDeviceStrategy.on_test_end                                                                                                                     \t|  5.937e-06      \t|  1              \t|  5.937e-06      \t|  0.00035021     \t|\n",
      "|  [Strategy]SingleDeviceStrategy.on_test_start                                                                                                                   \t|  4.474e-06      \t|  1              \t|  4.474e-06      \t|  0.00026391     \t|\n",
      "|  [Callback]TQDMProgressBar.teardown                                                                                                                             \t|  4.255e-06      \t|  1              \t|  4.255e-06      \t|  0.00025099     \t|\n",
      "|  [Callback]TQDMProgressBar.on_test_epoch_end                                                                                                                    \t|  3e-06          \t|  1              \t|  3e-06          \t|  0.00017696     \t|\n",
      "|  [Callback]ModelSummary.on_test_end                                                                                                                             \t|  2.46e-06       \t|  1              \t|  2.46e-06       \t|  0.00014511     \t|\n",
      "|  [Callback]ModelSummary.setup                                                                                                                                   \t|  1.689e-06      \t|  1              \t|  1.689e-06      \t|  9.963e-05      \t|\n",
      "|  [LightningModule]MonetDense.setup                                                                                                                              \t|  1.588e-06      \t|  1              \t|  1.588e-06      \t|  9.3671e-05     \t|\n",
      "|  [Callback]ModelSummary.teardown                                                                                                                                \t|  1.567e-06      \t|  1              \t|  1.567e-06      \t|  9.2434e-05     \t|\n",
      "|  [Callback]TQDMProgressBar.on_test_epoch_start                                                                                                                  \t|  1.548e-06      \t|  1              \t|  1.548e-06      \t|  9.1313e-05     \t|\n",
      "|  [LightningModule]MonetDense.teardown                                                                                                                           \t|  1.329e-06      \t|  1              \t|  1.329e-06      \t|  7.8394e-05     \t|\n",
      "|  [Callback]ModelCheckpoint{'monitor': 'val_loss', 'mode': 'min', 'every_n_train_steps': 0, 'every_n_epochs': 1, 'train_time_interval': None}.teardown           \t|  1.289e-06      \t|  1              \t|  1.289e-06      \t|  7.6035e-05     \t|\n",
      "|  [Callback]ModelCheckpoint{'monitor': 'val_loss', 'mode': 'min', 'every_n_train_steps': 0, 'every_n_epochs': 1, 'train_time_interval': None}.on_test_end        \t|  1.248e-06      \t|  1              \t|  1.248e-06      \t|  7.3616e-05     \t|\n",
      "|  [Callback]ModelCheckpoint{'monitor': 'val_loss', 'mode': 'min', 'every_n_train_steps': 0, 'every_n_epochs': 1, 'train_time_interval': None}.on_test_start      \t|  1.236e-06      \t|  1              \t|  1.236e-06      \t|  7.2909e-05     \t|\n",
      "|  [LightningModule]MonetDense.prepare_data                                                                                                                       \t|  1.215e-06      \t|  1              \t|  1.215e-06      \t|  7.1669e-05     \t|\n",
      "|  [Callback]ModelSummary.on_test_epoch_end                                                                                                                       \t|  1.185e-06      \t|  1              \t|  1.185e-06      \t|  6.9899e-05     \t|\n",
      "|  [LightningModule]MonetDense.on_test_start                                                                                                                      \t|  1.166e-06      \t|  1              \t|  1.166e-06      \t|  6.8778e-05     \t|\n",
      "|  [LightningModule]MonetDense.on_test_end                                                                                                                        \t|  1.122e-06      \t|  1              \t|  1.122e-06      \t|  6.6184e-05     \t|\n",
      "|  [Callback]ModelCheckpoint{'monitor': 'val_loss', 'mode': 'min', 'every_n_train_steps': 0, 'every_n_epochs': 1, 'train_time_interval': None}.on_test_epoch_end  \t|  1.035e-06      \t|  1              \t|  1.035e-06      \t|  6.1051e-05     \t|\n",
      "|  [LightningModule]MonetDense.on_test_epoch_end                                                                                                                  \t|  1.004e-06      \t|  1              \t|  1.004e-06      \t|  5.9225e-05     \t|\n",
      "|  [Callback]ModelCheckpoint{'monitor': 'val_loss', 'mode': 'min', 'every_n_train_steps': 0, 'every_n_epochs': 1, 'train_time_interval': None}.on_test_epoch_start\t|  9.6601e-07     \t|  1              \t|  9.6601e-07     \t|  5.6983e-05     \t|\n",
      "|  [Callback]ModelSummary.on_test_epoch_start                                                                                                                     \t|  9.2699e-07     \t|  1              \t|  9.2699e-07     \t|  5.468e-05      \t|\n",
      "--------------------------------------------------------------------------------------------------------------------------------------------------------------------------------------------------------------------------------------------------------------------------\n",
      "\n"
     ]
    },
    {
     "name": "stdout",
     "output_type": "stream",
     "text": [
      "MonetDense__[512, 512, 512, 512]__10__13__XENIUM__Adam__NUM_SPLITS=3\n",
      "There are 64 graph splits for the Xenium Dataset.\n"
     ]
    },
    {
     "name": "stderr",
     "output_type": "stream",
     "text": [
      "GPU available: True (cuda), used: True\n",
      "TPU available: False, using: 0 TPU cores\n",
      "IPU available: False, using: 0 IPUs\n",
      "HPU available: False, using: 0 HPUs\n",
      "`Trainer(limit_train_batches=1.0)` was configured so 100% of the batches per epoch will be used..\n",
      "`Trainer(limit_val_batches=1.0)` was configured so 100% of the batches will be used..\n",
      "LOCAL_RANK: 0 - CUDA_VISIBLE_DEVICES: [4,5,6]\n"
     ]
    },
    {
     "name": "stdout",
     "output_type": "stream",
     "text": [
      "The number of parameters for radius 13 is 10967684\n"
     ]
    },
    {
     "data": {
      "application/vnd.jupyter.widget-view+json": {
       "model_id": "7cbf30e9e40a47ef91e049701fe2f75d",
       "version_major": 2,
       "version_minor": 0
      },
      "text/plain": [
       "Testing: |          | 0/? [00:00<?, ?it/s]"
      ]
     },
     "metadata": {},
     "output_type": "display_data"
    },
    {
     "data": {
      "text/html": [
       "<pre style=\"white-space:pre;overflow-x:auto;line-height:normal;font-family:Menlo,'DejaVu Sans Mono',consolas,'Courier New',monospace\">┏━━━━━━━━━━━━━━━━━━━━━━━━━━━┳━━━━━━━━━━━━━━━━━━━━━━━━━━━┓\n",
       "┃<span style=\"font-weight: bold\">        Test metric        </span>┃<span style=\"font-weight: bold\">       DataLoader 0        </span>┃\n",
       "┡━━━━━━━━━━━━━━━━━━━━━━━━━━━╇━━━━━━━━━━━━━━━━━━━━━━━━━━━┩\n",
       "│<span style=\"color: #008080; text-decoration-color: #008080\">         test_loss         </span>│<span style=\"color: #800080; text-decoration-color: #800080\">    0.30644792318344116    </span>│\n",
       "│<span style=\"color: #008080; text-decoration-color: #008080\">       test_loss_mse       </span>│<span style=\"color: #800080; text-decoration-color: #800080\">    0.30644792318344116    </span>│\n",
       "└───────────────────────────┴───────────────────────────┘\n",
       "</pre>\n"
      ],
      "text/plain": [
       "┏━━━━━━━━━━━━━━━━━━━━━━━━━━━┳━━━━━━━━━━━━━━━━━━━━━━━━━━━┓\n",
       "┃\u001b[1m \u001b[0m\u001b[1m       Test metric       \u001b[0m\u001b[1m \u001b[0m┃\u001b[1m \u001b[0m\u001b[1m      DataLoader 0       \u001b[0m\u001b[1m \u001b[0m┃\n",
       "┡━━━━━━━━━━━━━━━━━━━━━━━━━━━╇━━━━━━━━━━━━━━━━━━━━━━━━━━━┩\n",
       "│\u001b[36m \u001b[0m\u001b[36m        test_loss        \u001b[0m\u001b[36m \u001b[0m│\u001b[35m \u001b[0m\u001b[35m   0.30644792318344116   \u001b[0m\u001b[35m \u001b[0m│\n",
       "│\u001b[36m \u001b[0m\u001b[36m      test_loss_mse      \u001b[0m\u001b[36m \u001b[0m│\u001b[35m \u001b[0m\u001b[35m   0.30644792318344116   \u001b[0m\u001b[35m \u001b[0m│\n",
       "└───────────────────────────┴───────────────────────────┘\n"
      ]
     },
     "metadata": {},
     "output_type": "display_data"
    },
    {
     "name": "stderr",
     "output_type": "stream",
     "text": [
      "TEST Profiler Report\n",
      "\n",
      "--------------------------------------------------------------------------------------------------------------------------------------------------------------------------------------------------------------------------------------------------------------------------\n",
      "|  Action                                                                                                                                                         \t|  Mean duration (s)\t|  Num calls      \t|  Total time (s) \t|  Percentage %   \t|\n",
      "--------------------------------------------------------------------------------------------------------------------------------------------------------------------------------------------------------------------------------------------------------------------------\n",
      "|  Total                                                                                                                                                          \t|  -              \t|  184            \t|  1.712          \t|  100 %          \t|\n",
      "--------------------------------------------------------------------------------------------------------------------------------------------------------------------------------------------------------------------------------------------------------------------------\n",
      "|  [Strategy]SingleDeviceStrategy.test_step                                                                                                                       \t|  0.063069       \t|  11             \t|  0.69376        \t|  40.523         \t|\n",
      "|  [Strategy]SingleDeviceStrategy.batch_to_device                                                                                                                 \t|  0.0040672      \t|  11             \t|  0.044739       \t|  2.6133         \t|\n",
      "|  [LightningModule]MonetDense.transfer_batch_to_device                                                                                                           \t|  0.0040067      \t|  11             \t|  0.044073       \t|  2.5744         \t|\n",
      "|  [_EvaluationLoop].test_next                                                                                                                                    \t|  0.0038732      \t|  11             \t|  0.042605       \t|  2.4886         \t|\n",
      "|  [Callback]TQDMProgressBar.on_test_start                                                                                                                        \t|  0.017919       \t|  1              \t|  0.017919       \t|  1.0467         \t|\n",
      "|  [Callback]TQDMProgressBar.on_test_batch_end                                                                                                                    \t|  0.00060772     \t|  11             \t|  0.0066849      \t|  0.39047        \t|\n",
      "|  [Callback]TQDMProgressBar.on_test_batch_start                                                                                                                  \t|  9.1998e-05     \t|  11             \t|  0.001012       \t|  0.059111       \t|\n",
      "|  [LightningModule]MonetDense.on_test_model_eval                                                                                                                 \t|  0.00055683     \t|  1              \t|  0.00055683     \t|  0.032525       \t|\n",
      "|  [Callback]TQDMProgressBar.on_test_end                                                                                                                          \t|  0.00047965     \t|  1              \t|  0.00047965     \t|  0.028017       \t|\n",
      "|  [LightningModule]MonetDense.on_test_model_train                                                                                                                \t|  0.00015364     \t|  1              \t|  0.00015364     \t|  0.0089743      \t|\n",
      "|  [Callback]ModelCheckpoint{'monitor': 'val_loss', 'mode': 'min', 'every_n_train_steps': 0, 'every_n_epochs': 1, 'train_time_interval': None}.setup              \t|  0.00012417     \t|  1              \t|  0.00012417     \t|  0.0072528      \t|\n",
      "|  [Callback]ModelSummary.on_test_batch_end                                                                                                                       \t|  3.1237e-06     \t|  11             \t|  3.4361e-05     \t|  0.0020071      \t|\n",
      "|  [LightningModule]MonetDense.on_after_batch_transfer                                                                                                            \t|  2.796e-06      \t|  11             \t|  3.0756e-05     \t|  0.0017965      \t|\n",
      "|  [LightningModule]MonetDense.on_before_batch_transfer                                                                                                           \t|  2.0904e-06     \t|  11             \t|  2.2994e-05     \t|  0.0013431      \t|\n",
      "|  [Callback]ModelSummary.on_test_batch_start                                                                                                                     \t|  1.7772e-06     \t|  11             \t|  1.9549e-05     \t|  0.0011419      \t|\n",
      "|  [Callback]ModelCheckpoint{'monitor': 'val_loss', 'mode': 'min', 'every_n_train_steps': 0, 'every_n_epochs': 1, 'train_time_interval': None}.on_test_batch_end  \t|  1.3431e-06     \t|  11             \t|  1.4774e-05     \t|  0.00086297     \t|\n",
      "|  [LightningModule]MonetDense.on_test_batch_end                                                                                                                  \t|  1.2948e-06     \t|  11             \t|  1.4243e-05     \t|  0.00083195     \t|\n",
      "|  [Callback]ModelCheckpoint{'monitor': 'val_loss', 'mode': 'min', 'every_n_train_steps': 0, 'every_n_epochs': 1, 'train_time_interval': None}.on_test_batch_start\t|  1.1895e-06     \t|  11             \t|  1.3085e-05     \t|  0.00076431     \t|\n",
      "|  [LightningModule]MonetDense.configure_callbacks                                                                                                                \t|  1.1277e-05     \t|  1              \t|  1.1277e-05     \t|  0.00065871     \t|\n",
      "|  [LightningModule]MonetDense.on_test_batch_start                                                                                                                \t|  1.0103e-06     \t|  11             \t|  1.1113e-05     \t|  0.00064912     \t|\n",
      "|  [Callback]ModelSummary.on_test_start                                                                                                                           \t|  1.0215e-05     \t|  1              \t|  1.0215e-05     \t|  0.00059667     \t|\n",
      "|  [Callback]TQDMProgressBar.setup                                                                                                                                \t|  9.536e-06      \t|  1              \t|  9.536e-06      \t|  0.00055701     \t|\n",
      "|  [LightningModule]MonetDense.on_test_epoch_start                                                                                                                \t|  8.722e-06      \t|  1              \t|  8.722e-06      \t|  0.00050946     \t|\n",
      "|  [Strategy]SingleDeviceStrategy.on_test_end                                                                                                                     \t|  6.668e-06      \t|  1              \t|  6.668e-06      \t|  0.00038949     \t|\n",
      "|  [Strategy]SingleDeviceStrategy.on_test_start                                                                                                                   \t|  5.554e-06      \t|  1              \t|  5.554e-06      \t|  0.00032442     \t|\n",
      "|  [Callback]TQDMProgressBar.teardown                                                                                                                             \t|  3.994e-06      \t|  1              \t|  3.994e-06      \t|  0.0002333      \t|\n",
      "|  [Callback]TQDMProgressBar.on_test_epoch_start                                                                                                                  \t|  2.852e-06      \t|  1              \t|  2.852e-06      \t|  0.00016659     \t|\n",
      "|  [Callback]TQDMProgressBar.on_test_epoch_end                                                                                                                    \t|  2.616e-06      \t|  1              \t|  2.616e-06      \t|  0.0001528      \t|\n",
      "|  [Callback]ModelCheckpoint{'monitor': 'val_loss', 'mode': 'min', 'every_n_train_steps': 0, 'every_n_epochs': 1, 'train_time_interval': None}.on_test_start      \t|  2.464e-06      \t|  1              \t|  2.464e-06      \t|  0.00014392     \t|\n",
      "|  [Callback]ModelSummary.on_test_end                                                                                                                             \t|  2.452e-06      \t|  1              \t|  2.452e-06      \t|  0.00014322     \t|\n",
      "|  [Callback]ModelCheckpoint{'monitor': 'val_loss', 'mode': 'min', 'every_n_train_steps': 0, 'every_n_epochs': 1, 'train_time_interval': None}.on_test_epoch_start\t|  2.338e-06      \t|  1              \t|  2.338e-06      \t|  0.00013657     \t|\n",
      "|  [Callback]ModelSummary.on_test_epoch_start                                                                                                                     \t|  2.293e-06      \t|  1              \t|  2.293e-06      \t|  0.00013394     \t|\n",
      "|  [LightningModule]MonetDense.on_test_start                                                                                                                      \t|  2.074e-06      \t|  1              \t|  2.074e-06      \t|  0.00012114     \t|\n",
      "|  [Callback]ModelSummary.setup                                                                                                                                   \t|  1.786e-06      \t|  1              \t|  1.786e-06      \t|  0.00010432     \t|\n",
      "|  [LightningModule]MonetDense.teardown                                                                                                                           \t|  1.567e-06      \t|  1              \t|  1.567e-06      \t|  9.1531e-05     \t|\n",
      "|  [Callback]ModelSummary.teardown                                                                                                                                \t|  1.401e-06      \t|  1              \t|  1.401e-06      \t|  8.1834e-05     \t|\n",
      "|  [LightningModule]MonetDense.setup                                                                                                                              \t|  1.396e-06      \t|  1              \t|  1.396e-06      \t|  8.1542e-05     \t|\n",
      "|  [LightningModule]MonetDense.prepare_data                                                                                                                       \t|  1.358e-06      \t|  1              \t|  1.358e-06      \t|  7.9322e-05     \t|\n",
      "|  [Callback]ModelCheckpoint{'monitor': 'val_loss', 'mode': 'min', 'every_n_train_steps': 0, 'every_n_epochs': 1, 'train_time_interval': None}.teardown           \t|  1.278e-06      \t|  1              \t|  1.278e-06      \t|  7.465e-05      \t|\n",
      "|  [LightningModule]MonetDense.on_test_end                                                                                                                        \t|  1.179e-06      \t|  1              \t|  1.179e-06      \t|  6.8867e-05     \t|\n",
      "|  [Callback]ModelCheckpoint{'monitor': 'val_loss', 'mode': 'min', 'every_n_train_steps': 0, 'every_n_epochs': 1, 'train_time_interval': None}.on_test_end        \t|  1.168e-06      \t|  1              \t|  1.168e-06      \t|  6.8224e-05     \t|\n",
      "|  [Callback]ModelSummary.on_test_epoch_end                                                                                                                       \t|  1.121e-06      \t|  1              \t|  1.121e-06      \t|  6.5479e-05     \t|\n",
      "|  [Callback]ModelCheckpoint{'monitor': 'val_loss', 'mode': 'min', 'every_n_train_steps': 0, 'every_n_epochs': 1, 'train_time_interval': None}.on_test_epoch_end  \t|  1.026e-06      \t|  1              \t|  1.026e-06      \t|  5.993e-05      \t|\n",
      "|  [LightningModule]MonetDense.on_test_epoch_end                                                                                                                  \t|  1.003e-06      \t|  1              \t|  1.003e-06      \t|  5.8587e-05     \t|\n",
      "--------------------------------------------------------------------------------------------------------------------------------------------------------------------------------------------------------------------------------------------------------------------------\n",
      "\n"
     ]
    },
    {
     "name": "stdout",
     "output_type": "stream",
     "text": [
      "MonetDense__[512, 512, 512, 512]__10__4__XENIUM__Adam__NUM_SPLITS=3\n",
      "There are 64 graph splits for the Xenium Dataset.\n"
     ]
    },
    {
     "name": "stderr",
     "output_type": "stream",
     "text": [
      "GPU available: True (cuda), used: True\n",
      "TPU available: False, using: 0 TPU cores\n",
      "IPU available: False, using: 0 IPUs\n",
      "HPU available: False, using: 0 HPUs\n",
      "`Trainer(limit_train_batches=1.0)` was configured so 100% of the batches per epoch will be used..\n",
      "`Trainer(limit_val_batches=1.0)` was configured so 100% of the batches will be used..\n",
      "LOCAL_RANK: 0 - CUDA_VISIBLE_DEVICES: [4,5,6]\n"
     ]
    },
    {
     "name": "stdout",
     "output_type": "stream",
     "text": [
      "The number of parameters for radius 4 is 10967684\n"
     ]
    },
    {
     "data": {
      "application/vnd.jupyter.widget-view+json": {
       "model_id": "ac8631a088f74d81a7fc540e78c0cb87",
       "version_major": 2,
       "version_minor": 0
      },
      "text/plain": [
       "Testing: |          | 0/? [00:00<?, ?it/s]"
      ]
     },
     "metadata": {},
     "output_type": "display_data"
    },
    {
     "data": {
      "text/html": [
       "<pre style=\"white-space:pre;overflow-x:auto;line-height:normal;font-family:Menlo,'DejaVu Sans Mono',consolas,'Courier New',monospace\">┏━━━━━━━━━━━━━━━━━━━━━━━━━━━┳━━━━━━━━━━━━━━━━━━━━━━━━━━━┓\n",
       "┃<span style=\"font-weight: bold\">        Test metric        </span>┃<span style=\"font-weight: bold\">       DataLoader 0        </span>┃\n",
       "┡━━━━━━━━━━━━━━━━━━━━━━━━━━━╇━━━━━━━━━━━━━━━━━━━━━━━━━━━┩\n",
       "│<span style=\"color: #008080; text-decoration-color: #008080\">         test_loss         </span>│<span style=\"color: #800080; text-decoration-color: #800080\">    0.32090893387794495    </span>│\n",
       "│<span style=\"color: #008080; text-decoration-color: #008080\">       test_loss_mse       </span>│<span style=\"color: #800080; text-decoration-color: #800080\">    0.32090893387794495    </span>│\n",
       "└───────────────────────────┴───────────────────────────┘\n",
       "</pre>\n"
      ],
      "text/plain": [
       "┏━━━━━━━━━━━━━━━━━━━━━━━━━━━┳━━━━━━━━━━━━━━━━━━━━━━━━━━━┓\n",
       "┃\u001b[1m \u001b[0m\u001b[1m       Test metric       \u001b[0m\u001b[1m \u001b[0m┃\u001b[1m \u001b[0m\u001b[1m      DataLoader 0       \u001b[0m\u001b[1m \u001b[0m┃\n",
       "┡━━━━━━━━━━━━━━━━━━━━━━━━━━━╇━━━━━━━━━━━━━━━━━━━━━━━━━━━┩\n",
       "│\u001b[36m \u001b[0m\u001b[36m        test_loss        \u001b[0m\u001b[36m \u001b[0m│\u001b[35m \u001b[0m\u001b[35m   0.32090893387794495   \u001b[0m\u001b[35m \u001b[0m│\n",
       "│\u001b[36m \u001b[0m\u001b[36m      test_loss_mse      \u001b[0m\u001b[36m \u001b[0m│\u001b[35m \u001b[0m\u001b[35m   0.32090893387794495   \u001b[0m\u001b[35m \u001b[0m│\n",
       "└───────────────────────────┴───────────────────────────┘\n"
      ]
     },
     "metadata": {},
     "output_type": "display_data"
    },
    {
     "name": "stderr",
     "output_type": "stream",
     "text": [
      "TEST Profiler Report\n",
      "\n",
      "--------------------------------------------------------------------------------------------------------------------------------------------------------------------------------------------------------------------------------------------------------------------------\n",
      "|  Action                                                                                                                                                         \t|  Mean duration (s)\t|  Num calls      \t|  Total time (s) \t|  Percentage %   \t|\n",
      "--------------------------------------------------------------------------------------------------------------------------------------------------------------------------------------------------------------------------------------------------------------------------\n",
      "|  Total                                                                                                                                                          \t|  -              \t|  184            \t|  1.6671         \t|  100 %          \t|\n",
      "--------------------------------------------------------------------------------------------------------------------------------------------------------------------------------------------------------------------------------------------------------------------------\n",
      "|  [Strategy]SingleDeviceStrategy.test_step                                                                                                                       \t|  0.053134       \t|  11             \t|  0.58447        \t|  35.06          \t|\n",
      "|  [Strategy]SingleDeviceStrategy.batch_to_device                                                                                                                 \t|  0.00806        \t|  11             \t|  0.08866        \t|  5.3183         \t|\n",
      "|  [LightningModule]MonetDense.transfer_batch_to_device                                                                                                           \t|  0.007995       \t|  11             \t|  0.087944       \t|  5.2754         \t|\n",
      "|  [_EvaluationLoop].test_next                                                                                                                                    \t|  0.0043167      \t|  11             \t|  0.047484       \t|  2.8483         \t|\n",
      "|  [Callback]TQDMProgressBar.on_test_start                                                                                                                        \t|  0.033051       \t|  1              \t|  0.033051       \t|  1.9825         \t|\n",
      "|  [Callback]TQDMProgressBar.on_test_batch_end                                                                                                                    \t|  0.00063008     \t|  11             \t|  0.0069309      \t|  0.41575        \t|\n",
      "|  [Callback]TQDMProgressBar.on_test_batch_start                                                                                                                  \t|  0.00010651     \t|  11             \t|  0.0011716      \t|  0.07028        \t|\n",
      "|  [LightningModule]MonetDense.on_test_model_eval                                                                                                                 \t|  0.00058361     \t|  1              \t|  0.00058361     \t|  0.035008       \t|\n",
      "|  [Callback]TQDMProgressBar.on_test_end                                                                                                                          \t|  0.00049412     \t|  1              \t|  0.00049412     \t|  0.02964        \t|\n",
      "|  [LightningModule]MonetDense.on_test_model_train                                                                                                                \t|  0.0002148      \t|  1              \t|  0.0002148      \t|  0.012885       \t|\n",
      "|  [Callback]ModelCheckpoint{'monitor': 'val_loss', 'mode': 'min', 'every_n_train_steps': 0, 'every_n_epochs': 1, 'train_time_interval': None}.setup              \t|  6.5109e-05     \t|  1              \t|  6.5109e-05     \t|  0.0039056      \t|\n",
      "|  [Callback]ModelSummary.on_test_batch_end                                                                                                                       \t|  3.5225e-06     \t|  11             \t|  3.8747e-05     \t|  0.0023243      \t|\n",
      "|  [LightningModule]MonetDense.on_before_batch_transfer                                                                                                           \t|  2.566e-06      \t|  11             \t|  2.8226e-05     \t|  0.0016931      \t|\n",
      "|  [Callback]ModelSummary.on_test_batch_start                                                                                                                     \t|  1.9446e-06     \t|  11             \t|  2.1391e-05     \t|  0.0012831      \t|\n",
      "|  [LightningModule]MonetDense.on_after_batch_transfer                                                                                                            \t|  1.7546e-06     \t|  11             \t|  1.93e-05       \t|  0.0011577      \t|\n",
      "|  [LightningModule]MonetDense.on_test_batch_end                                                                                                                  \t|  1.4727e-06     \t|  11             \t|  1.62e-05       \t|  0.00097176     \t|\n",
      "|  [Callback]ModelCheckpoint{'monitor': 'val_loss', 'mode': 'min', 'every_n_train_steps': 0, 'every_n_epochs': 1, 'train_time_interval': None}.on_test_batch_end  \t|  1.4715e-06     \t|  11             \t|  1.6186e-05     \t|  0.00097092     \t|\n",
      "|  [Callback]ModelCheckpoint{'monitor': 'val_loss', 'mode': 'min', 'every_n_train_steps': 0, 'every_n_epochs': 1, 'train_time_interval': None}.on_test_batch_start\t|  1.4378e-06     \t|  11             \t|  1.5816e-05     \t|  0.00094873     \t|\n",
      "|  [LightningModule]MonetDense.on_test_batch_start                                                                                                                \t|  1.0597e-06     \t|  11             \t|  1.1657e-05     \t|  0.00069925     \t|\n",
      "|  [Callback]ModelSummary.on_test_start                                                                                                                           \t|  8.234e-06      \t|  1              \t|  8.234e-06      \t|  0.00049392     \t|\n",
      "|  [Callback]TQDMProgressBar.setup                                                                                                                                \t|  8.056e-06      \t|  1              \t|  8.056e-06      \t|  0.00048324     \t|\n",
      "|  [Callback]TQDMProgressBar.teardown                                                                                                                             \t|  7.257e-06      \t|  1              \t|  7.257e-06      \t|  0.00043531     \t|\n",
      "|  [LightningModule]MonetDense.on_test_epoch_start                                                                                                                \t|  6.557e-06      \t|  1              \t|  6.557e-06      \t|  0.00039332     \t|\n",
      "|  [Strategy]SingleDeviceStrategy.on_test_end                                                                                                                     \t|  5.271e-06      \t|  1              \t|  5.271e-06      \t|  0.00031618     \t|\n",
      "|  [Strategy]SingleDeviceStrategy.on_test_start                                                                                                                   \t|  4.87e-06       \t|  1              \t|  4.87e-06       \t|  0.00029213     \t|\n",
      "|  [Callback]ModelSummary.teardown                                                                                                                                \t|  2.928e-06      \t|  1              \t|  2.928e-06      \t|  0.00017564     \t|\n",
      "|  [LightningModule]MonetDense.configure_callbacks                                                                                                                \t|  2.573e-06      \t|  1              \t|  2.573e-06      \t|  0.00015434     \t|\n",
      "|  [Callback]ModelSummary.on_test_end                                                                                                                             \t|  2.554e-06      \t|  1              \t|  2.554e-06      \t|  0.0001532      \t|\n",
      "|  [LightningModule]MonetDense.teardown                                                                                                                           \t|  2.434e-06      \t|  1              \t|  2.434e-06      \t|  0.000146       \t|\n",
      "|  [Callback]TQDMProgressBar.on_test_epoch_start                                                                                                                  \t|  2.397e-06      \t|  1              \t|  2.397e-06      \t|  0.00014378     \t|\n",
      "|  [Callback]TQDMProgressBar.on_test_epoch_end                                                                                                                    \t|  2.395e-06      \t|  1              \t|  2.395e-06      \t|  0.00014366     \t|\n",
      "|  [Callback]ModelCheckpoint{'monitor': 'val_loss', 'mode': 'min', 'every_n_train_steps': 0, 'every_n_epochs': 1, 'train_time_interval': None}.teardown           \t|  2.39e-06       \t|  1              \t|  2.39e-06       \t|  0.00014337     \t|\n",
      "|  [Callback]ModelCheckpoint{'monitor': 'val_loss', 'mode': 'min', 'every_n_train_steps': 0, 'every_n_epochs': 1, 'train_time_interval': None}.on_test_start      \t|  2.16e-06       \t|  1              \t|  2.16e-06       \t|  0.00012957     \t|\n",
      "|  [Callback]ModelSummary.setup                                                                                                                                   \t|  2.115e-06      \t|  1              \t|  2.115e-06      \t|  0.00012687     \t|\n",
      "|  [Callback]ModelCheckpoint{'monitor': 'val_loss', 'mode': 'min', 'every_n_train_steps': 0, 'every_n_epochs': 1, 'train_time_interval': None}.on_test_epoch_start\t|  1.929e-06      \t|  1              \t|  1.929e-06      \t|  0.00011571     \t|\n",
      "|  [Callback]ModelSummary.on_test_epoch_start                                                                                                                     \t|  1.866e-06      \t|  1              \t|  1.866e-06      \t|  0.00011193     \t|\n",
      "|  [LightningModule]MonetDense.on_test_start                                                                                                                      \t|  1.635e-06      \t|  1              \t|  1.635e-06      \t|  9.8076e-05     \t|\n",
      "|  [LightningModule]MonetDense.setup                                                                                                                              \t|  1.48e-06       \t|  1              \t|  1.48e-06       \t|  8.8779e-05     \t|\n",
      "|  [Callback]ModelCheckpoint{'monitor': 'val_loss', 'mode': 'min', 'every_n_train_steps': 0, 'every_n_epochs': 1, 'train_time_interval': None}.on_test_end        \t|  1.286e-06      \t|  1              \t|  1.286e-06      \t|  7.714e-05      \t|\n",
      "|  [LightningModule]MonetDense.prepare_data                                                                                                                       \t|  1.204e-06      \t|  1              \t|  1.204e-06      \t|  7.2222e-05     \t|\n",
      "|  [LightningModule]MonetDense.on_test_end                                                                                                                        \t|  1.049e-06      \t|  1              \t|  1.049e-06      \t|  6.2924e-05     \t|\n",
      "|  [Callback]ModelSummary.on_test_epoch_end                                                                                                                       \t|  1.023e-06      \t|  1              \t|  1.023e-06      \t|  6.1365e-05     \t|\n",
      "|  [Callback]ModelCheckpoint{'monitor': 'val_loss', 'mode': 'min', 'every_n_train_steps': 0, 'every_n_epochs': 1, 'train_time_interval': None}.on_test_epoch_end  \t|  9.3301e-07     \t|  1              \t|  9.3301e-07     \t|  5.5967e-05     \t|\n",
      "|  [LightningModule]MonetDense.on_test_epoch_end                                                                                                                  \t|  8.73e-07       \t|  1              \t|  8.73e-07       \t|  5.2367e-05     \t|\n",
      "--------------------------------------------------------------------------------------------------------------------------------------------------------------------------------------------------------------------------------------------------------------------------\n",
      "\n"
     ]
    }
   ],
   "source": [
    "ckpt_dir = \"/nfs/turbo/lsa-regier/scratch/roko/output/lightning_logs/checkpoints/MonetDenseXenium\"\n",
    "\n",
    "# Initialize an empty dictionary to store the results\n",
    "test_loss_rad_dict = {}\n",
    "\n",
    "# Iterate through all files in the directory\n",
    "for filename in os.listdir(ckpt_dir):\n",
    "    # Check if the file is a checkpoint file\n",
    "    if filename.endswith('.ckpt'):\n",
    "        model_name, hidden_layers, num_kernels, radius, run_name, optim, num_splits = filename.split(\"__\")\n",
    "        num_splits = num_splits.removesuffix(\".ckpt\")\n",
    "        num_splits = num_splits.removeprefix(\"NUM_SPLITS=\")\n",
    "        if '256' in hidden_layers:\n",
    "            continue\n",
    "        with initialize(config_path=\"../config\"):\n",
    "            # try:\n",
    "                try:\n",
    "                    cfg_from_terminal = compose(config_name=\"configXenium\")\n",
    "                    OmegaConf.update(cfg_from_terminal, \"paths.data\", \"../data\")\n",
    "                    OmegaConf.update(cfg_from_terminal, \"paths.root\", \"/nfs/turbo/lsa-regier/scratch/roko\")\n",
    "                    OmegaConf.update(cfg_from_terminal, \"model.kwargs.kernel_size\", int(num_kernels))\n",
    "                    OmegaConf.update(cfg_from_terminal, \"model.kwargs.hidden_dimensions\", eval(hidden_layers))\n",
    "                    OmegaConf.update(cfg_from_terminal, \"training.logger_name\", run_name)\n",
    "                    OmegaConf.update(cfg_from_terminal, \"training.trainer.strategy\", \"auto\")\n",
    "                    OmegaConf.update(cfg_from_terminal, \"radius\", int(radius))\n",
    "                    OmegaConf.update(cfg_from_terminal, \"gpus\", [2])\n",
    "                    OmegaConf.update(cfg_from_terminal, \"datasets.dataset.splits\", int(num_splits))\n",
    "                    print(cfg_from_terminal.training.filepath)\n",
    "                    output = test(cfg_from_terminal)\n",
    "                    trainer, l1_losses, inputs_BASE, gene_expressions_BASE, celltypes, test_results_BASE = output\n",
    "                    # Store the results over (radius, num_kernels) in a nested dict\n",
    "                    if int(radius) not in test_loss_rad_dict:\n",
    "                        test_loss_rad_dict[int(radius)] = {}\n",
    "                    test_loss_rad_dict[int(radius)][int(num_kernels)] = test_results_BASE[0]['test_loss']\n",
    "                except Exception as e:\n",
    "                    if \"CUDA out of memory\" in str(e):\n",
    "                        OmegaConf.update(cfg_from_terminal, \"training.filepath\", \"${model.name}__${model.kwargs.kernel_size}__${radius}__${training.logger_name}__${optimizer.name}__NUM_SPLITS=\" + str(num_splits))\n",
    "                        OmegaConf.update(cfg_from_terminal, \"datasets.dataset.splits\", 5)\n",
    "                        print(\"Increasing splits to 5 due to OOM error.\")\n",
    "                        output = test(cfg_from_terminal)\n",
    "                        trainer, l1_losses, inputs_BASE, gene_expressions_BASE, celltypes, test_results_BASE = output\n",
    "                        # Store the results over (radius, num_kernels) in a nested dict\n",
    "                        if int(radius) not in test_loss_rad_dict:\n",
    "                            test_loss_rad_dict[int(radius)] = {}\n",
    "                        test_loss_rad_dict[int(radius)][int(num_kernels)] = test_results_BASE[0]['test_loss']\n",
    "                    else:\n",
    "                        raise e\n"
   ]
  },
  {
   "cell_type": "code",
   "execution_count": 3,
   "metadata": {},
   "outputs": [
    {
     "data": {
      "image/png": "[encoded data removed]",
      "text/plain": [
       "<Figure size 640x480 with 1 Axes>"
      ]
     },
     "metadata": {},
     "output_type": "display_data"
    }
   ],
   "source": [
    "import matplotlib.pyplot as plt\n",
    "\n",
    "# Initialize a dictionary to store the losses for each kernel value\n",
    "kernel_losses = {}\n",
    "\n",
    "# Iterate through the test_loss_rad_dict to populate kernel_losses\n",
    "for radius, radius_losses in sorted(test_loss_rad_dict.items()):\n",
    "    for kernel, loss in radius_losses.items():\n",
    "        if kernel not in kernel_losses:\n",
    "            kernel_losses[kernel] = []\n",
    "        kernel_losses[kernel].append((radius, loss))\n",
    "\n",
    "# Plot the losses for each kernel value\n",
    "for kernel, losses in kernel_losses.items():\n",
    "    radii, losses = zip(*losses)  # Unpack the list of tuples into two separate tuples\n",
    "    plt.plot(radii, losses, label=f\"Kernel: {kernel}\", marker='o')\n",
    "\n",
    "plt.xlabel(\"Radius\")\n",
    "plt.ylabel(\"Test Loss\")\n",
    "plt.title(\"Test Loss for Different Kernel Values and Radius\")\n",
    "plt.xticks(range(0, 21, 1))  # Set x-axis tick marks to integers\n",
    "plt.legend()\n",
    "plt.show()"
   ]
  },
  {
   "cell_type": "code",
   "execution_count": null,
   "metadata": {},
   "outputs": [],
   "source": []
  }
 ],
 "metadata": {
  "kernelspec": {
   "display_name": "spatial-G_n0JvVf-py3.10",
   "language": "python",
   "name": "python3"
  },
  "language_info": {
   "codemirror_mode": {
    "name": "ipython",
    "version": 3
   },
   "file_extension": ".py",
   "mimetype": "text/x-python",
   "name": "python",
   "nbconvert_exporter": "python",
   "pygments_lexer": "ipython3",
   "version": "3.10.12"
  }
 },
 "nbformat": 4,
 "nbformat_minor": 2
}
