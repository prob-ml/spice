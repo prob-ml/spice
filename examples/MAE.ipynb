{
 "cells": [
  {
   "cell_type": "markdown",
   "id": "developed-saudi",
   "metadata": {},
   "source": [
    "# Note: In order for XGBoost to work, you need to pass all the inputs.\n",
    "### In other words, please make sure that you aren't using the simple NN when you run XGBoost"
   ]
  },
  {
   "cell_type": "code",
   "execution_count": 3,
   "id": "going-danish",
   "metadata": {},
   "outputs": [],
   "source": [
    "import os\n",
    "\n",
    "os.environ[\"MKL_NUM_THREADS\"]=\"1\"\n",
    "os.environ[\"NUMEXPR_NUM_THREADS\"]=\"1\"\n",
    "os.environ[\"OMP_NUM_THREADS\"]=\"1\"\n",
    "\n",
    "import sys\n",
    "\n",
    "import pytorch_lightning as pl\n",
    "from omegaconf import DictConfig, OmegaConf\n",
    "from pytorch_lightning.callbacks import ModelCheckpoint\n",
    "from pytorch_lightning.loggers import TensorBoardLogger\n",
    "from torch.utils.data import random_split\n",
    "from torch_geometric.data import DataLoader\n",
    "\n",
    "from spatial.merfish_dataset import FilteredMerfishDataset, MerfishDataset\n",
    "from spatial.models.monet_ae import MonetAutoencoder2D, TrivialAutoencoder\n",
    "from spatial.train import train\n",
    "from spatial.predict import test"
   ]
  },
  {
   "cell_type": "code",
   "execution_count": 6,
   "id": "republican-neighborhood",
   "metadata": {
    "scrolled": true
   },
   "outputs": [
    {
     "name": "stderr",
     "output_type": "stream",
     "text": [
      "/home/roko/.cache/pypoetry/virtualenvs/spatial-G_n0JvVf-py3.8/lib/python3.8/site-packages/hydra/experimental/initialize.py:35: UserWarning: hydra.experimental.initialize() is no longer experimental. Use hydra.initialize()\n",
      "  deprecation_warning(\n",
      "/home/roko/.cache/pypoetry/virtualenvs/spatial-G_n0JvVf-py3.8/lib/python3.8/site-packages/hydra/experimental/compose.py:18: UserWarning: hydra.experimental.compose() is no longer experimental. Use hydra.compose()\n",
      "  deprecation_warning(\n",
      "/home/roko/.cache/pypoetry/virtualenvs/spatial-G_n0JvVf-py3.8/lib/python3.8/site-packages/hydra/_internal/defaults_list.py:251: UserWarning: In 'config': Defaults list is missing `_self_`. See https://hydra.cc/docs/upgrades/1.0_to_1.1/default_composition_order for more information\n",
      "  warnings.warn(msg, UserWarning)\n",
      "/home/roko/.cache/pypoetry/virtualenvs/spatial-G_n0JvVf-py3.8/lib/python3.8/site-packages/hydra/core/default_element.py:122: UserWarning: In 'predict/default': Usage of deprecated keyword in package header '# @package _group_'.\n",
      "See https://hydra.cc/docs/next/upgrades/1.0_to_1.1/changes_to_package_header for more information\n",
      "  deprecation_warning(\n",
      "/home/roko/.cache/pypoetry/virtualenvs/spatial-G_n0JvVf-py3.8/lib/python3.8/site-packages/hydra/core/default_element.py:122: UserWarning: In 'training/default': Usage of deprecated keyword in package header '# @package _group_'.\n",
      "See https://hydra.cc/docs/next/upgrades/1.0_to_1.1/changes_to_package_header for more information\n",
      "  deprecation_warning(\n",
      "/home/roko/.cache/pypoetry/virtualenvs/spatial-G_n0JvVf-py3.8/lib/python3.8/site-packages/hydra/core/default_element.py:122: UserWarning: In 'model/MonetAutoencoder2D': Usage of deprecated keyword in package header '# @package _group_'.\n",
      "See https://hydra.cc/docs/next/upgrades/1.0_to_1.1/changes_to_package_header for more information\n",
      "  deprecation_warning(\n",
      "/home/roko/.cache/pypoetry/virtualenvs/spatial-G_n0JvVf-py3.8/lib/python3.8/site-packages/hydra/core/default_element.py:122: UserWarning: In 'datasets/FilteredMerfishDataset': Usage of deprecated keyword in package header '# @package _group_'.\n",
      "See https://hydra.cc/docs/next/upgrades/1.0_to_1.1/changes_to_package_header for more information\n",
      "  deprecation_warning(\n",
      "/home/roko/.cache/pypoetry/virtualenvs/spatial-G_n0JvVf-py3.8/lib/python3.8/site-packages/hydra/core/default_element.py:122: UserWarning: In 'optimizer/sgd': Usage of deprecated keyword in package header '# @package _group_'.\n",
      "See https://hydra.cc/docs/next/upgrades/1.0_to_1.1/changes_to_package_header for more information\n",
      "  deprecation_warning(\n"
     ]
    },
    {
     "name": "stdout",
     "output_type": "stream",
     "text": [
      "Original Data (1027848, 170)\n",
      "Filtered Data (205348, 170)\n",
      "/home/roko/spatial/data/raw/merfish_messi.hdf5\n"
     ]
    },
    {
     "name": "stderr",
     "output_type": "stream",
     "text": [
      "/home/roko/.cache/pypoetry/virtualenvs/spatial-G_n0JvVf-py3.8/lib/python3.8/site-packages/pytorch_lightning/utilities/distributed.py:50: UserWarning: Checkpoint directory /home/roko/spatial//output/lightning_logs/checkpoints/MonetAutoencoder2D exists and is not empty.\n",
      "  warnings.warn(*args, **kwargs)\n"
     ]
    },
    {
     "ename": "FileNotFoundError",
     "evalue": "[Errno 2] No such file or directory: \"/home/roko/spatial/examples/MonetAutoencoder2D__160__[200, 200]__160__3__['Female']__['Naive']__0.001__comparison_to_MESSI\"",
     "output_type": "error",
     "traceback": [
      "\u001b[0;31m---------------------------------------------------------------------------\u001b[0m",
      "\u001b[0;31mFileNotFoundError\u001b[0m                         Traceback (most recent call last)",
      "\u001b[0;32m<ipython-input-6-a07a52bc5154>\u001b[0m in \u001b[0;36m<module>\u001b[0;34m\u001b[0m\n\u001b[1;32m      7\u001b[0m     \u001b[0mcfg_from_terminal\u001b[0m \u001b[0;34m=\u001b[0m \u001b[0mcompose\u001b[0m\u001b[0;34m(\u001b[0m\u001b[0mconfig_name\u001b[0m\u001b[0;34m=\u001b[0m\u001b[0;34m\"config\"\u001b[0m\u001b[0;34m)\u001b[0m\u001b[0;34m\u001b[0m\u001b[0;34m\u001b[0m\u001b[0m\n\u001b[1;32m      8\u001b[0m     \u001b[0;31m# for now just to keep the code running\u001b[0m\u001b[0;34m\u001b[0m\u001b[0;34m\u001b[0m\u001b[0;34m\u001b[0m\u001b[0m\n\u001b[0;32m----> 9\u001b[0;31m     \u001b[0moutput\u001b[0m \u001b[0;34m=\u001b[0m \u001b[0mtest\u001b[0m\u001b[0;34m(\u001b[0m\u001b[0mcfg_from_terminal\u001b[0m\u001b[0;34m)\u001b[0m\u001b[0;34m\u001b[0m\u001b[0;34m\u001b[0m\u001b[0m\n\u001b[0m",
      "\u001b[0;32m~/spatial/spatial/predict.py\u001b[0m in \u001b[0;36mtest\u001b[0;34m(cfg, data)\u001b[0m\n\u001b[1;32m     75\u001b[0m         model = MonetAutoencoder2D.load_from_checkpoint(\n\u001b[1;32m     76\u001b[0m             \u001b[0mcheckpoint_path\u001b[0m\u001b[0;34m=\u001b[0m\u001b[0mcheckpoint_path\u001b[0m\u001b[0;34m,\u001b[0m\u001b[0;34m\u001b[0m\u001b[0;34m\u001b[0m\u001b[0m\n\u001b[0;32m---> 77\u001b[0;31m             \u001b[0;34m**\u001b[0m\u001b[0mcfg\u001b[0m\u001b[0;34m.\u001b[0m\u001b[0mmodel\u001b[0m\u001b[0;34m.\u001b[0m\u001b[0mkwargs\u001b[0m\u001b[0;34m,\u001b[0m\u001b[0;34m\u001b[0m\u001b[0;34m\u001b[0m\u001b[0m\n\u001b[0m\u001b[1;32m     78\u001b[0m         )\n\u001b[1;32m     79\u001b[0m     \u001b[0;32mif\u001b[0m \u001b[0mcfg\u001b[0m\u001b[0;34m.\u001b[0m\u001b[0mmodel\u001b[0m\u001b[0;34m.\u001b[0m\u001b[0mname\u001b[0m \u001b[0;34m==\u001b[0m \u001b[0;34m\"MeanExpressionNN\"\u001b[0m\u001b[0;34m:\u001b[0m\u001b[0;34m\u001b[0m\u001b[0;34m\u001b[0m\u001b[0m\n",
      "\u001b[0;32m~/.cache/pypoetry/virtualenvs/spatial-G_n0JvVf-py3.8/lib/python3.8/site-packages/pytorch_lightning/core/saving.py\u001b[0m in \u001b[0;36mload_from_checkpoint\u001b[0;34m(cls, checkpoint_path, map_location, hparams_file, strict, **kwargs)\u001b[0m\n\u001b[1;32m    132\u001b[0m             \u001b[0mcheckpoint\u001b[0m \u001b[0;34m=\u001b[0m \u001b[0mpl_load\u001b[0m\u001b[0;34m(\u001b[0m\u001b[0mcheckpoint_path\u001b[0m\u001b[0;34m,\u001b[0m \u001b[0mmap_location\u001b[0m\u001b[0;34m=\u001b[0m\u001b[0mmap_location\u001b[0m\u001b[0;34m)\u001b[0m\u001b[0;34m\u001b[0m\u001b[0;34m\u001b[0m\u001b[0m\n\u001b[1;32m    133\u001b[0m         \u001b[0;32melse\u001b[0m\u001b[0;34m:\u001b[0m\u001b[0;34m\u001b[0m\u001b[0;34m\u001b[0m\u001b[0m\n\u001b[0;32m--> 134\u001b[0;31m             \u001b[0mcheckpoint\u001b[0m \u001b[0;34m=\u001b[0m \u001b[0mpl_load\u001b[0m\u001b[0;34m(\u001b[0m\u001b[0mcheckpoint_path\u001b[0m\u001b[0;34m,\u001b[0m \u001b[0mmap_location\u001b[0m\u001b[0;34m=\u001b[0m\u001b[0;32mlambda\u001b[0m \u001b[0mstorage\u001b[0m\u001b[0;34m,\u001b[0m \u001b[0mloc\u001b[0m\u001b[0;34m:\u001b[0m \u001b[0mstorage\u001b[0m\u001b[0;34m)\u001b[0m\u001b[0;34m\u001b[0m\u001b[0;34m\u001b[0m\u001b[0m\n\u001b[0m\u001b[1;32m    135\u001b[0m \u001b[0;34m\u001b[0m\u001b[0m\n\u001b[1;32m    136\u001b[0m         \u001b[0;32mif\u001b[0m \u001b[0mhparams_file\u001b[0m \u001b[0;32mis\u001b[0m \u001b[0;32mnot\u001b[0m \u001b[0;32mNone\u001b[0m\u001b[0;34m:\u001b[0m\u001b[0;34m\u001b[0m\u001b[0;34m\u001b[0m\u001b[0m\n",
      "\u001b[0;32m~/.cache/pypoetry/virtualenvs/spatial-G_n0JvVf-py3.8/lib/python3.8/site-packages/pytorch_lightning/utilities/cloud_io.py\u001b[0m in \u001b[0;36mload\u001b[0;34m(path_or_url, map_location)\u001b[0m\n\u001b[1;32m     29\u001b[0m         \u001b[0;32mreturn\u001b[0m \u001b[0mtorch\u001b[0m\u001b[0;34m.\u001b[0m\u001b[0mhub\u001b[0m\u001b[0;34m.\u001b[0m\u001b[0mload_state_dict_from_url\u001b[0m\u001b[0;34m(\u001b[0m\u001b[0mstr\u001b[0m\u001b[0;34m(\u001b[0m\u001b[0mpath_or_url\u001b[0m\u001b[0;34m)\u001b[0m\u001b[0;34m,\u001b[0m \u001b[0mmap_location\u001b[0m\u001b[0;34m=\u001b[0m\u001b[0mmap_location\u001b[0m\u001b[0;34m)\u001b[0m\u001b[0;34m\u001b[0m\u001b[0;34m\u001b[0m\u001b[0m\n\u001b[1;32m     30\u001b[0m     \u001b[0mfs\u001b[0m \u001b[0;34m=\u001b[0m \u001b[0mget_filesystem\u001b[0m\u001b[0;34m(\u001b[0m\u001b[0mpath_or_url\u001b[0m\u001b[0;34m)\u001b[0m\u001b[0;34m\u001b[0m\u001b[0;34m\u001b[0m\u001b[0m\n\u001b[0;32m---> 31\u001b[0;31m     \u001b[0;32mwith\u001b[0m \u001b[0mfs\u001b[0m\u001b[0;34m.\u001b[0m\u001b[0mopen\u001b[0m\u001b[0;34m(\u001b[0m\u001b[0mpath_or_url\u001b[0m\u001b[0;34m,\u001b[0m \u001b[0;34m\"rb\"\u001b[0m\u001b[0;34m)\u001b[0m \u001b[0;32mas\u001b[0m \u001b[0mf\u001b[0m\u001b[0;34m:\u001b[0m\u001b[0;34m\u001b[0m\u001b[0;34m\u001b[0m\u001b[0m\n\u001b[0m\u001b[1;32m     32\u001b[0m         \u001b[0;32mreturn\u001b[0m \u001b[0mtorch\u001b[0m\u001b[0;34m.\u001b[0m\u001b[0mload\u001b[0m\u001b[0;34m(\u001b[0m\u001b[0mf\u001b[0m\u001b[0;34m,\u001b[0m \u001b[0mmap_location\u001b[0m\u001b[0;34m=\u001b[0m\u001b[0mmap_location\u001b[0m\u001b[0;34m)\u001b[0m\u001b[0;34m\u001b[0m\u001b[0;34m\u001b[0m\u001b[0m\n\u001b[1;32m     33\u001b[0m \u001b[0;34m\u001b[0m\u001b[0m\n",
      "\u001b[0;32m~/.cache/pypoetry/virtualenvs/spatial-G_n0JvVf-py3.8/lib/python3.8/site-packages/fsspec/spec.py\u001b[0m in \u001b[0;36mopen\u001b[0;34m(self, path, mode, block_size, cache_options, **kwargs)\u001b[0m\n\u001b[1;32m    974\u001b[0m         \u001b[0;32melse\u001b[0m\u001b[0;34m:\u001b[0m\u001b[0;34m\u001b[0m\u001b[0;34m\u001b[0m\u001b[0m\n\u001b[1;32m    975\u001b[0m             \u001b[0mac\u001b[0m \u001b[0;34m=\u001b[0m \u001b[0mkwargs\u001b[0m\u001b[0;34m.\u001b[0m\u001b[0mpop\u001b[0m\u001b[0;34m(\u001b[0m\u001b[0;34m\"autocommit\"\u001b[0m\u001b[0;34m,\u001b[0m \u001b[0;32mnot\u001b[0m \u001b[0mself\u001b[0m\u001b[0;34m.\u001b[0m\u001b[0m_intrans\u001b[0m\u001b[0;34m)\u001b[0m\u001b[0;34m\u001b[0m\u001b[0;34m\u001b[0m\u001b[0m\n\u001b[0;32m--> 976\u001b[0;31m             f = self._open(\n\u001b[0m\u001b[1;32m    977\u001b[0m                 \u001b[0mpath\u001b[0m\u001b[0;34m,\u001b[0m\u001b[0;34m\u001b[0m\u001b[0;34m\u001b[0m\u001b[0m\n\u001b[1;32m    978\u001b[0m                 \u001b[0mmode\u001b[0m\u001b[0;34m=\u001b[0m\u001b[0mmode\u001b[0m\u001b[0;34m,\u001b[0m\u001b[0;34m\u001b[0m\u001b[0;34m\u001b[0m\u001b[0m\n",
      "\u001b[0;32m~/.cache/pypoetry/virtualenvs/spatial-G_n0JvVf-py3.8/lib/python3.8/site-packages/fsspec/implementations/local.py\u001b[0m in \u001b[0;36m_open\u001b[0;34m(self, path, mode, block_size, **kwargs)\u001b[0m\n\u001b[1;32m    143\u001b[0m         \u001b[0;32mif\u001b[0m \u001b[0mself\u001b[0m\u001b[0;34m.\u001b[0m\u001b[0mauto_mkdir\u001b[0m \u001b[0;32mand\u001b[0m \u001b[0;34m\"w\"\u001b[0m \u001b[0;32min\u001b[0m \u001b[0mmode\u001b[0m\u001b[0;34m:\u001b[0m\u001b[0;34m\u001b[0m\u001b[0;34m\u001b[0m\u001b[0m\n\u001b[1;32m    144\u001b[0m             \u001b[0mself\u001b[0m\u001b[0;34m.\u001b[0m\u001b[0mmakedirs\u001b[0m\u001b[0;34m(\u001b[0m\u001b[0mself\u001b[0m\u001b[0;34m.\u001b[0m\u001b[0m_parent\u001b[0m\u001b[0;34m(\u001b[0m\u001b[0mpath\u001b[0m\u001b[0;34m)\u001b[0m\u001b[0;34m,\u001b[0m \u001b[0mexist_ok\u001b[0m\u001b[0;34m=\u001b[0m\u001b[0;32mTrue\u001b[0m\u001b[0;34m)\u001b[0m\u001b[0;34m\u001b[0m\u001b[0;34m\u001b[0m\u001b[0m\n\u001b[0;32m--> 145\u001b[0;31m         \u001b[0;32mreturn\u001b[0m \u001b[0mLocalFileOpener\u001b[0m\u001b[0;34m(\u001b[0m\u001b[0mpath\u001b[0m\u001b[0;34m,\u001b[0m \u001b[0mmode\u001b[0m\u001b[0;34m,\u001b[0m \u001b[0mfs\u001b[0m\u001b[0;34m=\u001b[0m\u001b[0mself\u001b[0m\u001b[0;34m,\u001b[0m \u001b[0;34m**\u001b[0m\u001b[0mkwargs\u001b[0m\u001b[0;34m)\u001b[0m\u001b[0;34m\u001b[0m\u001b[0;34m\u001b[0m\u001b[0m\n\u001b[0m\u001b[1;32m    146\u001b[0m \u001b[0;34m\u001b[0m\u001b[0m\n\u001b[1;32m    147\u001b[0m     \u001b[0;32mdef\u001b[0m \u001b[0mtouch\u001b[0m\u001b[0;34m(\u001b[0m\u001b[0mself\u001b[0m\u001b[0;34m,\u001b[0m \u001b[0mpath\u001b[0m\u001b[0;34m,\u001b[0m \u001b[0;34m**\u001b[0m\u001b[0mkwargs\u001b[0m\u001b[0;34m)\u001b[0m\u001b[0;34m:\u001b[0m\u001b[0;34m\u001b[0m\u001b[0;34m\u001b[0m\u001b[0m\n",
      "\u001b[0;32m~/.cache/pypoetry/virtualenvs/spatial-G_n0JvVf-py3.8/lib/python3.8/site-packages/fsspec/implementations/local.py\u001b[0m in \u001b[0;36m__init__\u001b[0;34m(self, path, mode, autocommit, fs, compression, **kwargs)\u001b[0m\n\u001b[1;32m    234\u001b[0m         \u001b[0mself\u001b[0m\u001b[0;34m.\u001b[0m\u001b[0mcompression\u001b[0m \u001b[0;34m=\u001b[0m \u001b[0mget_compression\u001b[0m\u001b[0;34m(\u001b[0m\u001b[0mpath\u001b[0m\u001b[0;34m,\u001b[0m \u001b[0mcompression\u001b[0m\u001b[0;34m)\u001b[0m\u001b[0;34m\u001b[0m\u001b[0;34m\u001b[0m\u001b[0m\n\u001b[1;32m    235\u001b[0m         \u001b[0mself\u001b[0m\u001b[0;34m.\u001b[0m\u001b[0mblocksize\u001b[0m \u001b[0;34m=\u001b[0m \u001b[0mio\u001b[0m\u001b[0;34m.\u001b[0m\u001b[0mDEFAULT_BUFFER_SIZE\u001b[0m\u001b[0;34m\u001b[0m\u001b[0;34m\u001b[0m\u001b[0m\n\u001b[0;32m--> 236\u001b[0;31m         \u001b[0mself\u001b[0m\u001b[0;34m.\u001b[0m\u001b[0m_open\u001b[0m\u001b[0;34m(\u001b[0m\u001b[0;34m)\u001b[0m\u001b[0;34m\u001b[0m\u001b[0;34m\u001b[0m\u001b[0m\n\u001b[0m\u001b[1;32m    237\u001b[0m \u001b[0;34m\u001b[0m\u001b[0m\n\u001b[1;32m    238\u001b[0m     \u001b[0;32mdef\u001b[0m \u001b[0m_open\u001b[0m\u001b[0;34m(\u001b[0m\u001b[0mself\u001b[0m\u001b[0;34m)\u001b[0m\u001b[0;34m:\u001b[0m\u001b[0;34m\u001b[0m\u001b[0;34m\u001b[0m\u001b[0m\n",
      "\u001b[0;32m~/.cache/pypoetry/virtualenvs/spatial-G_n0JvVf-py3.8/lib/python3.8/site-packages/fsspec/implementations/local.py\u001b[0m in \u001b[0;36m_open\u001b[0;34m(self)\u001b[0m\n\u001b[1;32m    239\u001b[0m         \u001b[0;32mif\u001b[0m \u001b[0mself\u001b[0m\u001b[0;34m.\u001b[0m\u001b[0mf\u001b[0m \u001b[0;32mis\u001b[0m \u001b[0;32mNone\u001b[0m \u001b[0;32mor\u001b[0m \u001b[0mself\u001b[0m\u001b[0;34m.\u001b[0m\u001b[0mf\u001b[0m\u001b[0;34m.\u001b[0m\u001b[0mclosed\u001b[0m\u001b[0;34m:\u001b[0m\u001b[0;34m\u001b[0m\u001b[0;34m\u001b[0m\u001b[0m\n\u001b[1;32m    240\u001b[0m             \u001b[0;32mif\u001b[0m \u001b[0mself\u001b[0m\u001b[0;34m.\u001b[0m\u001b[0mautocommit\u001b[0m \u001b[0;32mor\u001b[0m \u001b[0;34m\"w\"\u001b[0m \u001b[0;32mnot\u001b[0m \u001b[0;32min\u001b[0m \u001b[0mself\u001b[0m\u001b[0;34m.\u001b[0m\u001b[0mmode\u001b[0m\u001b[0;34m:\u001b[0m\u001b[0;34m\u001b[0m\u001b[0;34m\u001b[0m\u001b[0m\n\u001b[0;32m--> 241\u001b[0;31m                 \u001b[0mself\u001b[0m\u001b[0;34m.\u001b[0m\u001b[0mf\u001b[0m \u001b[0;34m=\u001b[0m \u001b[0mopen\u001b[0m\u001b[0;34m(\u001b[0m\u001b[0mself\u001b[0m\u001b[0;34m.\u001b[0m\u001b[0mpath\u001b[0m\u001b[0;34m,\u001b[0m \u001b[0mmode\u001b[0m\u001b[0;34m=\u001b[0m\u001b[0mself\u001b[0m\u001b[0;34m.\u001b[0m\u001b[0mmode\u001b[0m\u001b[0;34m)\u001b[0m\u001b[0;34m\u001b[0m\u001b[0;34m\u001b[0m\u001b[0m\n\u001b[0m\u001b[1;32m    242\u001b[0m                 \u001b[0;32mif\u001b[0m \u001b[0mself\u001b[0m\u001b[0;34m.\u001b[0m\u001b[0mcompression\u001b[0m\u001b[0;34m:\u001b[0m\u001b[0;34m\u001b[0m\u001b[0;34m\u001b[0m\u001b[0m\n\u001b[1;32m    243\u001b[0m                     \u001b[0mcompress\u001b[0m \u001b[0;34m=\u001b[0m \u001b[0mcompr\u001b[0m\u001b[0;34m[\u001b[0m\u001b[0mself\u001b[0m\u001b[0;34m.\u001b[0m\u001b[0mcompression\u001b[0m\u001b[0;34m]\u001b[0m\u001b[0;34m\u001b[0m\u001b[0;34m\u001b[0m\u001b[0m\n",
      "\u001b[0;31mFileNotFoundError\u001b[0m: [Errno 2] No such file or directory: \"/home/roko/spatial/examples/MonetAutoencoder2D__160__[200, 200]__160__3__['Female']__['Naive']__0.001__comparison_to_MESSI\""
     ]
    }
   ],
   "source": [
    "# equivalent to spatial\n",
    "\n",
    "import hydra\n",
    "from hydra.experimental import compose, initialize\n",
    "\n",
    "with initialize(config_path=\"../config\"):\n",
    "    cfg_from_terminal = compose(config_name=\"config\")\n",
    "    # for now just to keep the code running\n",
    "    output = test(cfg_from_terminal)"
   ]
  },
  {
   "cell_type": "markdown",
   "id": "detected-parts",
   "metadata": {},
   "source": [
    "# MAE Imaging"
   ]
  },
  {
   "cell_type": "code",
   "execution_count": 5,
   "id": "sunrise-duration",
   "metadata": {
    "scrolled": true
   },
   "outputs": [],
   "source": [
    "import matplotlib.pyplot as plt\n",
    "\n",
    "trainer, l1_losses, inputs, gene_expressions, celltypes = output"
   ]
  },
  {
   "cell_type": "code",
   "execution_count": 30,
   "id": "reliable-funds",
   "metadata": {
    "scrolled": true
   },
   "outputs": [
    {
     "data": {
      "text/plain": [
       "tensor([    6,    17,    18,  ..., 21869, 21914, 21919])"
      ]
     },
     "execution_count": 30,
     "metadata": {},
     "output_type": "execute_result"
    }
   ],
   "source": [
    "(celltypes == 6).nonzero(as_tuple=True)[0]"
   ]
  },
  {
   "cell_type": "code",
   "execution_count": 10,
   "id": "hungry-championship",
   "metadata": {},
   "outputs": [],
   "source": [
    "trial = FilteredMerfishDataset('../data', train=False)"
   ]
  },
  {
   "cell_type": "code",
   "execution_count": 15,
   "id": "vocational-major",
   "metadata": {},
   "outputs": [
    {
     "data": {
      "text/plain": [
       "Data(edge_index=[2, 17133], pos=[5711, 2], x=[5711, 160], y=[5711, 2])"
      ]
     },
     "execution_count": 15,
     "metadata": {},
     "output_type": "execute_result"
    }
   ],
   "source": [
    "trial[0]"
   ]
  },
  {
   "cell_type": "markdown",
   "id": "gothic-riding",
   "metadata": {},
   "source": [
    "We can see in the source code that the cell types are listed as follows:\n",
    "\n",
    "    cell_types = [\n",
    "        \"Ambiguous\",\n",
    "        \"Astrocyte\",\n",
    "        \"Endothelial 1\",\n",
    "        \"Endothelial 2\",\n",
    "        \"Endothelial 3\",\n",
    "        \"Ependymal\",\n",
    "        \"Excitatory\",\n",
    "        \"Inhibitory\",\n",
    "        \"Microglia\",\n",
    "        \"OD Immature 1\",\n",
    "        \"OD Immature 2\",\n",
    "        \"OD Mature 1\",\n",
    "        \"OD Mature 2\",\n",
    "        \"OD Mature 3\",\n",
    "        \"OD Mature 4\",\n",
    "        \"Pericytes\",\n",
    "    ]\n",
    "    \n",
    "So, we can keep only the cell types the MESSI uses to evaluate their performance. These would be [1, 2, 6, 7, 8, 9, 10, 11]"
   ]
  },
  {
   "cell_type": "markdown",
   "id": "verbal-ordinary",
   "metadata": {},
   "source": [
    "#### For a single sample.\n",
    "\n",
    "# FIX THIS TO BE BOXPLOT OVER ALL EXPRESSIONS"
   ]
  },
  {
   "cell_type": "markdown",
   "id": "preceding-bangkok",
   "metadata": {},
   "source": [
    "The code below simply identifies the response and non-response genes."
   ]
  },
  {
   "cell_type": "code",
   "execution_count": null,
   "id": "funded-bankruptcy",
   "metadata": {
    "scrolled": true
   },
   "outputs": [],
   "source": [
    "# read in merfish dataset and get columns names\n",
    "import pandas as pd\n",
    "\n",
    "# get relevant data stuff\n",
    "df_file = pd.ExcelFile(\"~/spatial/data/messi.xlsx\")\n",
    "messi_df = pd.read_excel(df_file, \"All.Pairs\")\n",
    "merfish_df = pd.read_csv(\"~/spatial/data/raw/merfish.csv\")\n",
    "\n",
    "# these are the 13 ligands or receptors found in MESSI\n",
    "non_response_genes = ['Cbln1', 'Cxcl14', 'Crhbp', 'Gabra1', 'Cbln2', 'Gpr165', \n",
    "                      'Glra3', 'Gabrg1', 'Adora2a', 'Vgf', 'Scg2', 'Cartpt',\n",
    "                      'Tac2']\n",
    "# this list stores the control genes aka \"Blank_{int}\"\n",
    "blank_genes = []\n",
    "\n",
    "# we will populate all of the non-response genes as being in one or the other\n",
    "# the ones already filled in come from the existing 13 L/R genes above\n",
    "ligands = [\"Cbln1\", \"Cxcl14\", \"Cbln2\", \"Vgf\", \"Scg2\", \"Cartpt\", \"Tac2\"]\n",
    "receptors = [\"Crhbp\", \"Gabra1\", \"Gpr165\", \"Glra3\", \"Gabrg1\", \"Adora2a\"]\n",
    "\n",
    "# ligands and receptor indexes in MERFISH\n",
    "non_response_indeces = [list(merfish_df.columns).index(gene)-10 for gene in non_response_genes]\n",
    "ligand_indeces = [list(merfish_df.columns).index(gene)-10 for gene in ligands]\n",
    "receptor_indeces = [list(merfish_df.columns).index(gene)-10 for gene in receptors]\n",
    "all_pairs_columns = [\n",
    "    \"Ligand.ApprovedSymbol\",\n",
    "    \"Receptor.ApprovedSymbol\",\n",
    "]\n",
    "\n",
    "\n",
    "# for column name in the column names above\n",
    "for column in all_pairs_columns:\n",
    "    for gene in merfish_df.columns:\n",
    "        if (\n",
    "            gene.upper() in list(messi_df[column])\n",
    "            and gene.upper() not in non_response_genes\n",
    "        ):\n",
    "            non_response_genes.append(gene)\n",
    "            non_response_indeces.append(list(merfish_df.columns).index(gene)-10)\n",
    "            if column[0] == \"L\":\n",
    "                ligands.append(list(merfish_df.columns).index(gene)-10)\n",
    "                ligand_indeces.append(list(merfish_df.columns).index(gene)-10)\n",
    "            else:\n",
    "                receptors.append(list(merfish_df.columns).index(gene)-10)\n",
    "                receptor_indeces.append(list(merfish_df.columns).index(gene)-10)\n",
    "        if gene[:5] == \"Blank\" and gene not in blank_genes:\n",
    "            blank_genes.append(gene)\n",
    "            non_response_indeces.append(list(merfish_df.columns).index(gene)-10)\n",
    "\n",
    "print(non_response_genes)\n",
    "print(\n",
    "    \"There are \"\n",
    "    + str(len(non_response_genes))\n",
    "    + \" genes recognized as either ligands or receptors (including new ones).\"\n",
    ")\n",
    "\n",
    "print(\n",
    "    \"There are \"\n",
    "    + str(len(blank_genes))\n",
    "    + \" blank genes.\"\n",
    ")\n",
    "\n",
    "print(\n",
    "    \"There are \"\n",
    "    + str(160 - len(blank_genes) - len(non_response_genes))\n",
    "    + \" genes that are treated as response variables.\"\n",
    ")\n",
    "\n",
    "print(\n",
    "    \"There are \"\n",
    "    + str(len(ligands))\n",
    "    + \" ligands.\"\n",
    ")\n",
    "\n",
    "print(\n",
    "    \"There are \"\n",
    "    + str(len(receptors))\n",
    "    + \" receptors.\"\n",
    ")"
   ]
  },
  {
   "cell_type": "markdown",
   "id": "stable-robertson",
   "metadata": {},
   "source": [
    "The code below generates some MAE values separated by response status."
   ]
  },
  {
   "cell_type": "code",
   "execution_count": null,
   "id": "western-awareness",
   "metadata": {},
   "outputs": [],
   "source": [
    "import torch\n",
    "from torch.nn import functional as F\n",
    "import matplotlib.pyplot as plt\n",
    "\n",
    "print(len(inputs), len(gene_expressions))\n",
    "\n",
    "non_response_inputs = torch.index_select(inputs, 1, torch.tensor(non_response_indeces))\n",
    "response_inputs = torch.index_select(inputs, 1, torch.tensor(list(set(range(160)) - set(non_response_indeces))))\n",
    "print(\"Initial Response Expression Mean: \" + str(response_inputs.mean().item()))\n",
    "print(\"Initial Non-Response Expression Mean: \" + str(non_response_inputs.mean().item()))\n",
    "\n",
    "non_response_expressions =  torch.index_select(gene_expressions, 1, torch.tensor(non_response_indeces))\n",
    "response_expressions = torch.index_select(gene_expressions, 1, torch.tensor(list(set(range(160)) - set(non_response_indeces))))\n",
    "print(\"AE Response Expression Mean: \" + str(response_expressions.mean().item()))\n",
    "print(\"AE Non-Response Expression Mean: \" + str(non_response_expressions.mean().item()))\n",
    "\n",
    "mean_MAE_L1 = F.l1_loss(inputs.mean(axis=0), gene_expressions.mean(axis=0)).item()\n",
    "\n",
    "print(\"Average L1 Loss for Mean \" + str(mean_MAE_L1))\n",
    "\n",
    "### L1 Losses \n",
    "# response_gene_boxplot = abs(inputs.mean(axis=0) - gene_expressions.mean(axis=0))\n",
    "# print(pd.DataFrame(response_gene_boxplot).describe())\n",
    "# plt.boxplot(response_gene_boxplot.reshape(1,-1))\n",
    "# _ = plt.show()\n",
    "\n",
    "mean_MAE_response_L1 = F.l1_loss(response_inputs.mean(axis=0), response_expressions.mean(axis=0))\n",
    "print(\"Average L1 Loss for Mean among Response Genes: \" + str(mean_MAE_response_L1.item()))\n",
    "\n",
    "mean_MAE_non_response_L1 = F.l1_loss(non_response_inputs.mean(axis=0), non_response_expressions.mean(axis=0))\n",
    "print(\"Average L1 Loss for Mean among Non-Response Genes: \" + str(mean_MAE_non_response_L1.item()))"
   ]
  },
  {
   "cell_type": "markdown",
   "id": "dress-venue",
   "metadata": {},
   "source": [
    "Now, we need to do the same thing, but separate the celltypes we care about."
   ]
  },
  {
   "cell_type": "code",
   "execution_count": null,
   "id": "covered-paintball",
   "metadata": {},
   "outputs": [],
   "source": [
    "import numpy as np\n",
    "np.unique(celltypes[:,0])"
   ]
  },
  {
   "cell_type": "code",
   "execution_count": null,
   "id": "short-future",
   "metadata": {},
   "outputs": [],
   "source": [
    "animals = [animal for animal, animal_id in enumerate(celltypes[:,0]) if animal_id in [3,4,5]]\n",
    "cells = [cell for cell, celltype in enumerate(celltypes[:,1]) if celltype in [1, 2, 6, 7, 8, 9, 10, 11]]\n",
    "print(len(animals), len(cells))"
   ]
  },
  {
   "cell_type": "code",
   "execution_count": null,
   "id": "fantastic-hearing",
   "metadata": {
    "scrolled": true
   },
   "outputs": [],
   "source": [
    "import torch\n",
    "from torch.nn import functional as F\n",
    "import matplotlib.pyplot as plt\n",
    "\n",
    "# filtering the inputs this time\n",
    "filtered_inputs = torch.index_select(inputs, 0, torch.tensor(list(set(cells) | set(animals))))\n",
    "filtered_gene_expressions = torch.index_select(gene_expressions, 0, torch.tensor(list(set(cells) | set(animals))))\n",
    "\n",
    "non_response_inputs = torch.index_select(filtered_inputs, 1, torch.tensor(non_response_indeces))\n",
    "response_inputs = torch.index_select(filtered_inputs, 1, torch.tensor(list(set(range(160)) - set(non_response_indeces))))\n",
    "print(\"Initial Response Expression Mean: \" + str(response_inputs.mean().item()))\n",
    "print(\"Initial Non-Response Expression Mean: \" + str(non_response_inputs.mean().item()))\n",
    "\n",
    "non_response_expressions =  torch.index_select(filtered_gene_expressions, 1, torch.tensor(non_response_indeces))\n",
    "response_expressions = torch.index_select(filtered_gene_expressions, 1, torch.tensor(list(set(range(160)) - set(non_response_indeces))))\n",
    "print(\"AE Response Expression Mean: \" + str(response_expressions.mean().item()))\n",
    "print(\"AE Non-Response Expression Mean: \" + str(non_response_expressions.mean().item()))\n",
    "\n",
    "mean_MAE_L1 = F.l1_loss(filtered_inputs.mean(axis=0), filtered_gene_expressions.mean(axis=0)).item()\n",
    "\n",
    "print(\"Average L1 Loss for Mean \" + str(mean_MAE_L1))\n",
    "\n",
    "# response_gene_boxplot = abs(filtered_inputs.mean(axis=0) - filtered_gene_expressions.mean(axis=0))\n",
    "# print(pd.DataFrame(response_gene_boxplot).describe())\n",
    "# plt.boxplot(response_gene_boxplot.reshape(1,-1))\n",
    "# _ = plt.show()\n",
    "\n",
    "mean_MAE_response_L1 = F.l1_loss(response_inputs.mean(axis=0), response_expressions.mean(axis=0))\n",
    "print(\"Average L1 Loss for Mean among Response Genes: \" + str(mean_MAE_response_L1.item()))\n",
    "\n",
    "mean_MAE_non_response_L1 = F.l1_loss(non_response_inputs.mean(axis=0), non_response_expressions.mean(axis=0))\n",
    "print(\"Average L1 Loss for Mean among Non-Response Genes: \" + str(mean_MAE_non_response_L1.item()))"
   ]
  },
  {
   "cell_type": "markdown",
   "id": "daily-amino",
   "metadata": {},
   "source": [
    "# Checklist of Things To Do:\n",
    "\n",
    "- [x] Compare runs on tensorboard.\n",
    "- [x] Ensure that outputs for every test example get saved (i.e. we should have a list of 31 tensors.) <b>No need. The tensor gets concatenated. We could create a tensor of tensors, but idk how helpful that is.</b>\n",
    "- [x] Understand which anid, bregma correspond to which mouse and figure out how MESSI dealt with this. <b>Most animals have multiples bregmas and MESSI uses several animals (16-19) in their demo. </b>\n",
    "- [x] Filter out outputs based on their respective celltype values (y).\n",
    "- [x] Implement XGBoost on the 8 celltypes with pip install xgboost.\n",
    "- [x] Make batch size hydra parameter.\n",
    "- [x] Try multi-batch run with appropriate batch size and n_neighbors.\n",
    "- [x] Change logger to only log MAE.\n",
    "- [x] Add nbstripout to poetry.\n",
    "- [x] Figure out how to label tensorboard folders.\n",
    "- [x] Fix CUDA_VISIBLE_DEVICES <b>This is \"fixed\" but setting visible devices to more than 1 makes it \"used\" as a process even if a process doesn't get set to a GPU. Does being visible open up a process?</b>\n",
    "- [x] Code up a basic NN that learns a single mean expression level for all genes.\n",
    "- [ ] Hold out exact animals in testing batches.\n",
    "- [x] Run the actual MESSI Notebook\n",
    "- [ ] Explore different neighborhood methodologies.\n",
    "    - [ ] Nearest Neighbor Graph\n",
    "    - [ ] Dulaney Trinagulation\n",
    "    - [ ] Gabriel Graph\n",
    "    - [ ] Urquhart Graph (this will be a very good comparison to Dulaney Triangulation) <b>Not a priority, because more training should take care of this.</b> \n",
    "- [ ] Edge weights for MONET based on cell distances."
   ]
  },
  {
   "cell_type": "markdown",
   "id": "provincial-religion",
   "metadata": {},
   "source": [
    "#### Now, let's add some regression into the mix!"
   ]
  },
  {
   "cell_type": "code",
   "execution_count": null,
   "id": "adult-injection",
   "metadata": {},
   "outputs": [],
   "source": [
    "import xgboost as xgb"
   ]
  },
  {
   "cell_type": "markdown",
   "id": "acquired-manhattan",
   "metadata": {},
   "source": [
    "This showcases the sizes of our data."
   ]
  },
  {
   "cell_type": "code",
   "execution_count": null,
   "id": "retained-savage",
   "metadata": {},
   "outputs": [],
   "source": [
    "inputs.numpy().shape"
   ]
  },
  {
   "cell_type": "code",
   "execution_count": null,
   "id": "dirty-performance",
   "metadata": {},
   "outputs": [],
   "source": [
    "celltypes.shape"
   ]
  },
  {
   "cell_type": "code",
   "execution_count": null,
   "id": "piano-coffee",
   "metadata": {},
   "outputs": [],
   "source": [
    "response_indeces = list(set(range(160)) - set(non_response_indeces))\n",
    "len(response_indeces)"
   ]
  },
  {
   "cell_type": "markdown",
   "id": "handed-banks",
   "metadata": {},
   "source": [
    "# Ideas"
   ]
  },
  {
   "cell_type": "markdown",
   "id": "treated-culture",
   "metadata": {},
   "source": [
    "- [x] Try a more approximate solution."
   ]
  },
  {
   "cell_type": "markdown",
   "id": "crucial-spice",
   "metadata": {},
   "source": [
    "# Replicating MESSI Results w/ XGBoost"
   ]
  },
  {
   "cell_type": "markdown",
   "id": "short-sphere",
   "metadata": {},
   "source": [
    "- [x] Access the edge matrix so I can identify neighbors.\n",
    "- [x] Get proportions (or counts) of celltypes for each neighbors.\n",
    "- [x] Create ligand and receptor genes.\n",
    "- [x] Get ligand expression of neighboring cells (AND SEE HOW MESSI STORES THIS DATA).\n",
    "- [x] Include position coordinates.\n",
    "- [ ] Figure out how XGBoost standardizes (SEE IF MESSI DOES)\n",
    "\n",
    "See 1.2.4 in Supplementary Materials (defer to this for anything really), for more details."
   ]
  },
  {
   "cell_type": "code",
   "execution_count": null,
   "id": "located-atmosphere",
   "metadata": {},
   "outputs": [],
   "source": [
    "def get_neighbors(batch_obj):\n",
    "    return [batch_obj.edge_index[:, batch_obj.edge_index[0] == i][1] for i in range(batch_obj.x.shape[0])]"
   ]
  },
  {
   "cell_type": "code",
   "execution_count": null,
   "id": "operating-multimedia",
   "metadata": {},
   "outputs": [],
   "source": [
    "def get_ligand_sum(data, neighbors_tensor, ligand_indeces):\n",
    "    return torch.tensor([torch.sum(data.index_select(0, neighbors).index_select(1, torch.tensor(ligand_indeces))).item() for neighbors in neighbors_tensor]).unsqueeze(1)"
   ]
  },
  {
   "cell_type": "code",
   "execution_count": null,
   "id": "inside-documentary",
   "metadata": {},
   "outputs": [],
   "source": [
    "import torch.nn.functional as F\n",
    "\n",
    "def get_celltypes(cell_behavior_tensor, neighbors_tensor):\n",
    "    print(f\"There are {(num_classes := cell_behavior_tensor.max() + 1)} different cell types.\")\n",
    "    return [F.one_hot(cell_behavior_tensor.index_select(0, neighbors), num_classes=num_classes) for neighbors in neighbors_tensor] "
   ]
  },
  {
   "cell_type": "code",
   "execution_count": null,
   "id": "suitable-turning",
   "metadata": {},
   "outputs": [],
   "source": [
    "def get_celltype_simplex(cell_behavior_tensor, neighbors_tensor):\n",
    "    print(f\"There are {(num_classes := cell_behavior_tensor.max() + 1)} different cell types.\")\n",
    "    return torch.cat([(torch.mean(1.0*F.one_hot(cell_behavior_tensor.index_select(0, neighbors), num_classes=num_classes), dim=0)).unsqueeze(0) for neighbors in neighbors_tensor], dim=0)"
   ]
  },
  {
   "cell_type": "code",
   "execution_count": null,
   "id": "czech-there",
   "metadata": {},
   "outputs": [],
   "source": [
    "trial_run = MerfishDataset('data')"
   ]
  },
  {
   "cell_type": "code",
   "execution_count": null,
   "id": "designed-handling",
   "metadata": {
    "scrolled": false
   },
   "outputs": [],
   "source": [
    "datalist = trial_run.construct_graphs(3, True)"
   ]
  },
  {
   "cell_type": "code",
   "execution_count": null,
   "id": "mineral-lunch",
   "metadata": {},
   "outputs": [],
   "source": [
    "X = datalist[0].x"
   ]
  },
  {
   "cell_type": "code",
   "execution_count": null,
   "id": "banner-truck",
   "metadata": {},
   "outputs": [],
   "source": [
    "behavior_and_cell_type = datalist[0].y"
   ]
  },
  {
   "cell_type": "code",
   "execution_count": null,
   "id": "fatty-empty",
   "metadata": {},
   "outputs": [],
   "source": [
    "pos = datalist[0].pos"
   ]
  },
  {
   "cell_type": "code",
   "execution_count": null,
   "id": "healthy-affairs",
   "metadata": {},
   "outputs": [],
   "source": [
    "data = torch.cat((X, pos, behavior_and_cell_type), dim=1)"
   ]
  },
  {
   "cell_type": "code",
   "execution_count": null,
   "id": "possible-retirement",
   "metadata": {},
   "outputs": [],
   "source": [
    "neighbors = get_neighbors(datalist[0])"
   ]
  },
  {
   "cell_type": "code",
   "execution_count": null,
   "id": "invalid-toronto",
   "metadata": {
    "scrolled": true
   },
   "outputs": [],
   "source": [
    "get_ligand_sum(data, neighbors, ligand_indeces)"
   ]
  },
  {
   "cell_type": "code",
   "execution_count": null,
   "id": "received-visitor",
   "metadata": {},
   "outputs": [],
   "source": [
    "get_celltypes(behavior_and_cell_type[:, 1], neighbors)"
   ]
  },
  {
   "cell_type": "code",
   "execution_count": null,
   "id": "actual-edmonton",
   "metadata": {
    "scrolled": true
   },
   "outputs": [],
   "source": [
    "get_celltype_simplex(behavior_and_cell_type[:, 1], neighbors)"
   ]
  },
  {
   "cell_type": "code",
   "execution_count": null,
   "id": "temporal-duration",
   "metadata": {
    "scrolled": false
   },
   "outputs": [],
   "source": [
    "import time\n",
    "\n",
    "from sklearn.model_selection import cross_val_score\n",
    "from sklearn.model_selection import RepeatedKFold\n",
    "from sklearn.preprocessing import StandardScaler\n",
    "\n",
    "scores_list = []\n",
    "\n",
    "start = time.time()\n",
    "for batch in datalist[:2]:\n",
    "    # gene expressions of cell i\n",
    "    x = batch.x\n",
    "    # position coordinate of gene i\n",
    "    pos = batch.pos\n",
    "    # behavior and cell_type\n",
    "    behavior_and_cell_type = batch.y\n",
    "    \n",
    "    # get the neighbors of the current batch\n",
    "    neighbors = get_neighbors(batch)\n",
    "    \n",
    "    # get the sum of the ligand expressions for each cell in the current batch\n",
    "    total_ligands = get_ligand_sum(x, neighbors, ligand_indeces)\n",
    "    \n",
    "    # get the proportion of celltypes as one-hot encoded vectors\n",
    "    celltype_proportions = get_celltype_simplex(behavior_and_cell_type[:, 1], neighbors)\n",
    "    \n",
    "    # combine all the data\n",
    "    X = torch.cat((torch.log1p(x[:, non_response_indeces]), pos, behavior_and_cell_type, total_ligands, celltype_proportions), dim=1)\n",
    "    scaler = StandardScaler().fit(X)\n",
    "    X = scaler.transform(X)\n",
    "    for i in response_indeces:\n",
    "        \n",
    "        y = torch.log1p(x[:, i])\n",
    "        model = xgb.XGBRegressor(tree_method=\"approx\", nthread=1)\n",
    "\n",
    "\n",
    "        # define model evaluation method\n",
    "        cv = RepeatedKFold(n_splits=5, n_repeats=1, random_state=128)\n",
    "        # the scores here stores the score (loss) for every CV fold and every repeat, so each one represents \n",
    "        # a single score.\n",
    "        scores = cross_val_score(model, np.array(X), np.array(y), scoring='neg_mean_absolute_error', cv=cv, n_jobs=1, verbose=0, pre_dispatch=1)\n",
    "        scores_list.append(scores)\n",
    "        # force scores to be positive\n",
    "        # scores = absolute(scores)\n",
    "        print(f\"Batch: {datalist.index(batch)+1}/{len(datalist)} Response Gene: {response_indeces.index(i)+1}/{len(response_indeces)}\")\n",
    "\n",
    "end = time.time()\n",
    "print(end-start)"
   ]
  },
  {
   "cell_type": "markdown",
   "id": "intended-lafayette",
   "metadata": {},
   "source": [
    "- [ ] Perhaps filter the data set to only include the animals that MESSI used.\n",
    "- [x] Log1p transformation.\n",
    "- [x] Use the transformation function from MESSI.\n"
   ]
  },
  {
   "cell_type": "code",
   "execution_count": null,
   "id": "through-operations",
   "metadata": {},
   "outputs": [],
   "source": [
    "from data_processing import *"
   ]
  },
  {
   "cell_type": "code",
   "execution_count": null,
   "id": "governing-valve",
   "metadata": {},
   "outputs": [],
   "source": [
    "-np.mean(scores_list)"
   ]
  },
  {
   "cell_type": "code",
   "execution_count": null,
   "id": "bulgarian-tomato",
   "metadata": {},
   "outputs": [],
   "source": [
    "pd.DataFrame(-np.array(scores_list).reshape(-1)).boxplot()"
   ]
  },
  {
   "cell_type": "markdown",
   "id": "floppy-smile",
   "metadata": {},
   "source": [
    "# Testing XGBoost"
   ]
  },
  {
   "cell_type": "markdown",
   "id": "comic-counter",
   "metadata": {},
   "source": [
    "## Training on Full Dataset"
   ]
  },
  {
   "cell_type": "markdown",
   "id": "fixed-delight",
   "metadata": {},
   "source": [
    "#### To Do\n",
    "\n",
    "- [ ] Clean up notebook and better annotate it.\n",
    "- [ ] Maybe turn for loop into a function that can be parallelized so that data doesn't take 2.5 minutes just to concatenate. Parallelize -> Just ONE torch.cat call on a list of tensors.\n",
    "- [ ] Pickle Models (Mainly for Roman to practice serializing).\n",
    "- [ ] What is num_workers?\n",
    "- [ ] How to use multiple GPUs for hydra multirun?"
   ]
  },
  {
   "cell_type": "code",
   "execution_count": null,
   "id": "objective-trinidad",
   "metadata": {},
   "outputs": [],
   "source": [
    "trial_run = MerfishDataset('data')"
   ]
  },
  {
   "cell_type": "code",
   "execution_count": null,
   "id": "european-surrey",
   "metadata": {},
   "outputs": [],
   "source": [
    "datalist = trial_run.construct_graphs(3, True)"
   ]
  },
  {
   "cell_type": "code",
   "execution_count": null,

   "id": "stainless-toner",
   "metadata": {
    "scrolled": true
   },
   "outputs": [],
   "source": [
    "import time\n",
    "\n",
    "from sklearn.model_selection import cross_val_score\n",
    "from sklearn.model_selection import RepeatedKFold\n",
    "from sklearn.preprocessing import StandardScaler\n",
    "\n",
    "scores_list = []\n",
    "\n",
    "start = time.time()\n",
    "\n",
    "train_dataset = None\n",
    "\n",
    "for batch in datalist:\n",
    "    # gene expressions of cell i\n",
    "    x = batch.x\n",
    "    # position coordinate of gene i\n",
    "    pos = batch.pos\n",
    "    # behavior and cell_type\n",
    "    behavior_and_cell_type = batch.y\n",
    "    \n",
    "    # get the neighbors of the current batch\n",
    "    neighbors = get_neighbors(batch)\n",
    "    \n",
    "    # get the sum of the ligand expressions for each cell in the current batch\n",
    "    total_ligands = get_ligand_sum(x, neighbors, ligand_indeces)\n",
    "    \n",
    "    # get the proportion of celltypes as one-hot encoded vectors\n",
    "    celltype_proportions = get_celltype_simplex(behavior_and_cell_type[:, 1], neighbors)\n",
    "    \n",
    "    # combine all the data\n",
    "    X = torch.cat((torch.log1p(x[:, non_response_indeces]), pos, behavior_and_cell_type, total_ligands, celltype_proportions), dim=1)\n",
    "    scaler = StandardScaler().fit(X)\n",
    "    X = torch.tensor(scaler.transform(X))\n",
    "    \n",
    "    if train_dataset is None:\n",
    "        train_dataset = X\n",
    "        train_Y = torch.log1p(x[:, response_indeces])\n",
    "    else:\n",
    "        train_dataset = torch.cat((train_dataset, X), dim=0)\n",
    "        train_Y = torch.cat((train_Y, torch.log1p(x[:, response_indeces])), dim=0)\n",
    "        \n",
    "    print(f\"Batch: {datalist.index(batch)+1}/{len(datalist)}\")"
   ]
  },
  {
   "cell_type": "code",
   "execution_count": null,
   "id": "heavy-rugby",
   "metadata": {},
   "outputs": [],
   "source": [
    "assert train_dataset.shape[0] == train_Y.shape[0]"
   ]
  },
  {
   "cell_type": "code",
   "execution_count": null,
   "id": "artificial-provider",
   "metadata": {},
   "outputs": [],
   "source": [
    "test_datalist = trial_run.construct_graphs(3, False)"
   ]
  },
  {
   "cell_type": "code",
   "execution_count": null,
   "id": "following-restoration",
   "metadata": {
    "scrolled": true
   },
   "outputs": [],
   "source": [
    "scores_list = []\n",
    "\n",
    "test_dataset = None\n",
    "\n",
    "for batch in test_datalist:\n",
    "    # gene expressions of cell i\n",
    "    test_x = batch.x\n",
    "    # position coordinate of gene i\n",
    "    pos = batch.pos\n",
    "    # behavior and cell_type\n",
    "    behavior_and_cell_type = batch.y\n",
    "    \n",
    "    # get the neighbors of the current batch\n",
    "    neighbors = get_neighbors(batch)\n",
    "    \n",
    "    # get the sum of the ligand expressions for each cell in the current batch\n",
    "    total_ligands = get_ligand_sum(test_x, neighbors, ligand_indeces)\n",
    "    \n",
    "    # get the proportion of celltypes as one-hot encoded vectors\n",
    "    celltype_proportions = get_celltype_simplex(behavior_and_cell_type[:, 1], neighbors)\n",
    "    \n",
    "    # combine all the data\n",
    "    test_X = torch.cat((torch.log1p(test_x[:, non_response_indeces]), pos, behavior_and_cell_type, total_ligands, celltype_proportions), dim=1)\n",
    "    \n",
    "    # standardize the data using TRAINING mean and sd.\n",
    "    test_X = torch.tensor(scaler.transform(test_X))\n",
    "    \n",
    "    if test_dataset is None:\n",
    "        test_dataset = test_X\n",
    "        test_Y = torch.log1p(test_x[:, response_indeces])\n",
    "        print(test_dataset.shape[0], test_Y.shape[0])\n",
    "    else:\n",
    "        test_dataset = torch.cat((test_dataset, test_X), dim=0)\n",
    "        test_Y = torch.cat((test_Y, torch.log1p(test_x[:, response_indeces])), dim=0)\n",
    "        \n",
    "    print(f\"Batch: {test_datalist.index(batch)+1}/{len(test_datalist)}\")"
   ]
  },
  {
   "cell_type": "code",
   "execution_count": null,
   "id": "expired-sense",
   "metadata": {
    "scrolled": true
   },
   "outputs": [],
   "source": [
    "assert test_dataset.shape[0] == test_Y.shape[0]"
   ]
  },
  {
   "cell_type": "code",
   "execution_count": null,
   "id": "pregnant-jewelry",
   "metadata": {},
   "outputs": [],
   "source": [
    "model_list = []\n",
    "MAE_list = []\n",
    "\n",
    "# for each response gene in our response matrix....\n",
    "for i in range(train_Y.shape[1]):\n",
    "    \n",
    "    # create response gene variables\n",
    "    y_i_train = train_Y[:, i]\n",
    "    y_i_test = test_Y[:, i]\n",
    "    \n",
    "    # create XGBoost Regression Model\n",
    "    model = xgb.XGBRegressor(tree_method=\"approx\", nthread=1)\n",
    "\n",
    "    # fit the regression model and add it to model list\n",
    "    # print(train_dataset.shape, y_i_train.shape)\n",
    "    model.fit(np.array(train_dataset), np.array(y_i_train))\n",
    "    model_list.append((f\"Gene {i}\", model_list))\n",
    "\n",
    "    # run the testing data through the model\n",
    "    test_output = torch.tensor(model.predict(np.array(test_dataset)))\n",
    "    \n",
    "    # collect its MAE\n",
    "    MAE_list.append(F.l1_loss(test_output, y_i_test))\n",
    "    print(MAE_list[-1])\n",
    "    \n",
    "    print(f\"Response Gene: {i+1}/{train_Y.shape[1]}\")\n",
    "\n",
    "end = time.time()\n",
    "print(end-start)"
   ]
  }
 ],
 "metadata": {
  "kernelspec": {
   "display_name": "Python 3",
   "language": "python",
   "name": "python3"
  },
  "language_info": {
   "codemirror_mode": {
    "name": "ipython",
    "version": 3
   },
   "file_extension": ".py",
   "mimetype": "text/x-python",
   "name": "python",
   "nbconvert_exporter": "python",
   "pygments_lexer": "ipython3",
   "version": "3.8.10"
  }
 },
 "nbformat": 4,
 "nbformat_minor": 5
}
