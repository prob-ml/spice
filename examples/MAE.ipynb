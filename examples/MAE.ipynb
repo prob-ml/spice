{
 "cells": [
  {
   "cell_type": "markdown",
   "id": "upper-partner",
   "metadata": {},
   "source": [
    "# NOTE THIS NOTEBOOK HAS NOW BEEN RE-RUN ON MODEL TRAINED ON MAE LOSS INSTEAD OF MSE LOSS"
   ]
  },
  {
   "cell_type": "markdown",
   "id": "acute-laundry",
   "metadata": {},
   "source": [
    "### Relevant Imports"
   ]
  },
  {
   "cell_type": "code",
   "execution_count": 1,
   "id": "going-danish",
   "metadata": {},
   "outputs": [],
   "source": [
    "import os\n",
    "import sys\n",
    "\n",
    "import pytorch_lightning as pl\n",
    "from omegaconf import DictConfig, OmegaConf\n",
    "from pytorch_lightning.callbacks import ModelCheckpoint\n",
    "from pytorch_lightning.loggers import TensorBoardLogger\n",
    "from torch.utils.data import random_split\n",
    "from torch_geometric.data import DataLoader\n",
    "\n",
    "from spatial.merfish_dataset import MerfishDataset\n",
    "from spatial.models.monet_ae import MonetAutoencoder2D, TrivialAutoencoder\n",
    "from spatial.train import train\n",
    "from spatial.predict import test"
   ]
  },
  {
   "cell_type": "code",
   "execution_count": 2,
   "id": "republican-neighborhood",
   "metadata": {},
   "outputs": [
    {
     "name": "stderr",
     "output_type": "stream",
     "text": [
      "/home/roko/.cache/pypoetry/virtualenvs/spatial-1lQwL2nz-py3.8/lib/python3.8/site-packages/pytorch_lightning/utilities/distributed.py:50: UserWarning: Checkpoint directory /home/roko/spatial-main//output/lightning_logs/checkpoints/MonetAutoencoder2D exists and is not empty.\n",
      "  warnings.warn(*args, **kwargs)\n",
      "GPU available: True, used: True\n",
      "TPU available: None, using: 0 TPU cores\n",
      "/home/roko/.cache/pypoetry/virtualenvs/spatial-1lQwL2nz-py3.8/lib/python3.8/site-packages/pytorch_lightning/utilities/distributed.py:50: UserWarning: The dataloader, test dataloader 0, does not have many workers which may be a bottleneck. Consider increasing the value of the `num_workers` argument` (try 64 which is the number of cpus on this machine) in the `DataLoader` init to improve performance.\n",
      "  warnings.warn(*args, **kwargs)\n"
     ]
    },
    {
     "data": {
      "application/vnd.jupyter.widget-view+json": {
       "model_id": "fd80fbec94594d0e897bf1e5bb7a46d4",
       "version_major": 2,
       "version_minor": 0
      },
      "text/plain": [
       "Testing: 0it [00:00, ?it/s]"
      ]
     },
     "metadata": {},
     "output_type": "display_data"
    },
    {
     "name": "stdout",
     "output_type": "stream",
     "text": [
      "--------------------------------------------------------------------------------\n",
      "DATALOADER:0 TEST RESULTS\n",
      "{'test_loss': 0.9060461521148682}\n",
      "--------------------------------------------------------------------------------\n"
     ]
    }
   ],
   "source": [
    "# equivalent to spatial\n",
    "\n",
    "import hydra\n",
    "from hydra.experimental import compose, initialize\n",
    "\n",
    "with initialize(config_path=\"../config\"):\n",
    "    cfg_from_terminal = compose(config_name=\"config\")\n",
    "    output = test(cfg_from_terminal)"
   ]
  },
  {
   "cell_type": "markdown",
   "id": "detected-parts",
   "metadata": {},
   "source": [
    "# MAE Imaging"
   ]
  },
  {
   "cell_type": "code",
   "execution_count": 3,
   "id": "sunrise-duration",
   "metadata": {},
   "outputs": [],
   "source": [
    "import matplotlib.pyplot as plt\n",
    "\n",
    "trainer, l1_losses, inputs, gene_expressions = output"
   ]
  },
  {
   "cell_type": "code",
   "execution_count": 4,
   "id": "induced-passage",
   "metadata": {},
   "outputs": [
    {
     "name": "stdout",
     "output_type": "stream",
     "text": [
      "torch.Size([173509, 160])\n",
      "tensor(0.9072)\n",
      "tensor([[1.7426e-03, 9.5490e-04, 7.6199e-01,  ..., 2.3717e-04, 7.2252e-04,\n",
      "         1.1640e+00],\n",
      "        [2.0232e-03, 1.6102e-04, 1.1052e+00,  ..., 1.2074e-02, 2.5227e-03,\n",
      "         7.4367e-05],\n",
      "        [2.1792e-03, 1.4550e-03, 2.6436e-01,  ..., 1.1994e-03, 8.0184e-03,\n",
      "         1.3908e-03],\n",
      "        ...,\n",
      "        [2.5906e-03, 1.0919e-03, 5.0679e-02,  ..., 2.1174e-02, 5.4465e-03,\n",
      "         1.2162e-04],\n",
      "        [2.5370e-03, 1.2609e-03, 1.1951e-01,  ..., 1.8989e-02, 7.2698e-03,\n",
      "         1.3143e-04],\n",
      "        [1.4355e+00, 9.4894e-04, 1.0463e-02,  ..., 6.5755e-03, 4.3535e-03,\n",
      "         1.0200e-04]])\n"
     ]
    }
   ],
   "source": [
    "print(l1_losses.shape)\n",
    "print(l1_losses.mean())\n",
    "print(l1_losses)"
   ]
  },
  {
   "cell_type": "markdown",
   "id": "verbal-ordinary",
   "metadata": {},
   "source": [
    "#### For a single sample."
   ]
  },
  {
   "cell_type": "code",
   "execution_count": 5,
   "id": "cleared-subscription",
   "metadata": {},
   "outputs": [
    {
     "data": {
      "text/plain": [
       "{'whiskers': [<matplotlib.lines.Line2D at 0x7f74abf8aca0>,\n",
       "  <matplotlib.lines.Line2D at 0x7f74abf81b20>],\n",
       " 'caps': [<matplotlib.lines.Line2D at 0x7f74abf25fd0>,\n",
       "  <matplotlib.lines.Line2D at 0x7f74abf7e6a0>],\n",
       " 'boxes': [<matplotlib.lines.Line2D at 0x7f74abf8aee0>],\n",
       " 'medians': [<matplotlib.lines.Line2D at 0x7f74abf7eb80>],\n",
       " 'fliers': [<matplotlib.lines.Line2D at 0x7f74abf71b20>],\n",
       " 'means': []}"
      ]
     },
     "execution_count": 5,
     "metadata": {},
     "output_type": "execute_result"
    },
    {
     "data": {
      "image/png": "[encoded data removed]",
      "text/plain": [
       "<Figure size 432x288 with 1 Axes>"
      ]
     },
     "metadata": {
      "needs_background": "light"
     },
     "output_type": "display_data"
    }
   ],
   "source": [
    "plt.boxplot(l1_losses.reshape(1,-1))"
   ]
  },
  {
   "cell_type": "code",
   "execution_count": 6,
   "id": "cosmetic-syracuse",
   "metadata": {},
   "outputs": [
    {
     "data": {
      "text/plain": [
       "{'whiskers': [<matplotlib.lines.Line2D at 0x7f763a8de670>,\n",
       "  <matplotlib.lines.Line2D at 0x7f763a8de9d0>],\n",
       " 'caps': [<matplotlib.lines.Line2D at 0x7f763a8ded30>,\n",
       "  <matplotlib.lines.Line2D at 0x7f763a8ea0d0>],\n",
       " 'boxes': [<matplotlib.lines.Line2D at 0x7f763a8de310>],\n",
       " 'medians': [<matplotlib.lines.Line2D at 0x7f763a8ea430>],\n",
       " 'fliers': [<matplotlib.lines.Line2D at 0x7f763a8ea790>],\n",
       " 'means': []}"
      ]
     },
     "execution_count": 6,
     "metadata": {},
     "output_type": "execute_result"
    },
    {
     "data": {
      "image/png": "[encoded data removed]",
      "text/plain": [
       "<Figure size 432x288 with 1 Axes>"
      ]
     },
     "metadata": {
      "needs_background": "light"
     },
     "output_type": "display_data"
    }
   ],
   "source": [
    "plt.boxplot(l1_losses.reshape(1,-1)[:,:])"
   ]
  },
  {
   "cell_type": "code",
   "execution_count": 7,
   "id": "muslim-tutorial",
   "metadata": {},
   "outputs": [
    {
     "name": "stderr",
     "output_type": "stream",
     "text": [
      "/home/roko/.cache/pypoetry/virtualenvs/spatial-1lQwL2nz-py3.8/lib/python3.8/site-packages/openpyxl/worksheet/_reader.py:312: UserWarning: Unknown extension is not supported and will be removed\n",
      "  warn(msg)\n"
     ]
    },
    {
     "name": "stdout",
     "output_type": "stream",
     "text": [
      "['Cbln1', 'Cxcl14', 'Crhbp', 'Gabra1', 'Cbln2', 'Gpr165', 'Glra3', 'Gabrg1', 'Adora2a', 'Vgf', 'Scg2', 'Cartpt', 'Tac2', 'Bdnf', 'Bmp7', 'Cyr61', 'Fn1', 'Fst', 'Gad1', 'Ntng1', 'Pnoc', 'Selplg', 'Sema3c', 'Sema4d', 'Serpine1', 'Adcyap1', 'Cck', 'Crh', 'Gal', 'Gnrh1', 'Nts', 'Oxt', 'Penk', 'Sst', 'Tac1', 'Trh', 'Ucn3', 'Avpr1a', 'Avpr2', 'Brs3', 'Calcr', 'Cckar', 'Cckbr', 'Crhr1', 'Crhr2', 'Galr1', 'Galr2', 'Grpr', 'Htr2c', 'Igf1r', 'Igf2r', 'Kiss1r', 'Lepr', 'Lpar1', 'Mc4r', 'Npy1r', 'Npy2r', 'Ntsr1', 'Oprd1', 'Oprk1', 'Oprl1', 'Oxtr', 'Pdgfra', 'Prlr', 'Ramp3', 'Rxfp1', 'Slc17a7', 'Slc18a2', 'Tacr1', 'Tacr3', 'Trhr']\n",
      "There are 71 genes recognized as either ligands or receptors (including new ones).\n"
     ]
    }
   ],
   "source": [
    "import pandas as pd\n",
    "\n",
    "# get relevant data stuff\n",
    "df_file = pd.ExcelFile(\"~/spatial-main/data/messi.xlsx\")\n",
    "messi_df = pd.read_excel(df_file, \"All.Pairs\")\n",
    "merfish_df = pd.read_csv(\"~/spatial-main/data/merfish.csv\")\n",
    "\n",
    "\n",
    "# these are the 13 ligands or receptors found in MESSI\n",
    "non_response_genes = ['Cbln1', 'Cxcl14', 'Crhbp', 'Gabra1', 'Cbln2', 'Gpr165', \n",
    "                      'Glra3', 'Gabrg1', 'Adora2a', 'Vgf', 'Scg2', 'Cartpt',\n",
    "                      'Tac2']\n",
    "# this list stores the control genes aka \"Blank_{int}\"\n",
    "blank_genes = []\n",
    "# ligands and receptor indexes in MERFISH\n",
    "non_response_indeces = [list(merfish_df.columns).index(gene)-10 for gene in non_response_genes]\n",
    "all_pairs_columns = [\n",
    "    \"Ligand.ApprovedSymbol\",\n",
    "    \"Receptor.ApprovedSymbol\",\n",
    "]\n",
    "\n",
    "# for column name in the column names above\n",
    "for column in all_pairs_columns:\n",
    "    for gene in merfish_df.columns:\n",
    "        if (\n",
    "            gene.upper() in list(messi_df[column])\n",
    "            and gene.upper() not in non_response_genes\n",
    "        ):\n",
    "            non_response_genes.append(gene)\n",
    "            non_response_indeces.append(list(merfish_df.columns).index(gene)-10)\n",
    "        if gene[:5] == \"Blank\" and gene not in blank_genes:\n",
    "            blank_genes.append(gene)\n",
    "            non_response_indeces.append(list(merfish_df.columns).index(gene)-10)\n",
    "print(non_response_genes)\n",
    "print(\n",
    "    \"There are \"\n",
    "    + str(len(non_response_genes))\n",
    "    + \" genes recognized as either ligands or receptors (including new ones).\"\n",
    ")"
   ]
  },
  {
   "cell_type": "code",
   "execution_count": 8,
   "id": "overall-politics",
   "metadata": {},
   "outputs": [
    {
     "data": {
      "text/plain": [
       "tensor([3.2387e-01, 2.9961e-01, 3.0229e+00, 1.5792e+00, 4.4137e-01, 4.9569e+00,\n",
       "        3.4527e+00, 2.2754e+00, 3.6645e-01, 2.8887e-01, 9.9600e-01, 8.6463e-01,\n",
       "        2.2534e-01, 1.7905e-01, 1.9609e-01, 1.3896e-01, 5.0392e-01, 6.5318e-01,\n",
       "        4.4651e-01, 6.2347e-01, 8.6101e-01, 9.6052e+00, 1.6350e+00, 5.4654e-01,\n",
       "        9.4241e-01, 2.1755e+00, 1.2680e+00, 5.9079e-01, 6.9673e-01, 4.7572e-01,\n",
       "        1.2076e+00, 3.7874e-01, 7.8100e-01, 1.3590e+00, 2.7162e-01, 4.3763e-01,\n",
       "        4.0710e-01, 5.3421e+00, 4.3155e+00, 4.2989e-01, 1.4223e-01, 9.0313e-01,\n",
       "        2.9800e+00, 9.1395e-01, 3.4507e-01, 8.1374e+00, 6.4894e-01, 7.9419e-01,\n",
       "        1.9998e-01, 4.5092e-01, 1.9462e+00, 9.3675e-01, 5.0619e+00, 1.2119e+00,\n",
       "        1.1131e+01, 5.1745e-01, 6.4372e-01, 2.1097e-01, 2.9809e+00, 3.3619e-01,\n",
       "        3.2514e+00, 2.7524e+00, 4.6187e+00, 5.2362e-01, 5.6481e-01, 2.2756e+00,\n",
       "        3.3924e+00, 7.3716e-01, 6.9037e+00, 4.6608e-01, 5.7801e-01, 8.5759e-01,\n",
       "        3.0088e-01, 2.8208e-01, 3.6981e-01, 2.2549e+00, 1.8747e+00, 4.6772e-01,\n",
       "        3.0402e-01, 3.6621e+00, 1.2378e+00, 6.3645e-01, 1.1675e+01, 2.7314e+00,\n",
       "        2.2307e+00, 4.6561e-01, 1.3014e+00, 2.3112e+00, 5.1088e-01, 4.5484e-01,\n",
       "        2.4792e-01, 1.0650e+00, 1.4291e+00, 1.1185e+00, 7.7721e-01, 8.1492e-01,\n",
       "        2.6080e+00, 3.7689e-01, 1.5699e+01, 1.8167e+00, 1.4642e+00, 7.8096e-01,\n",
       "        1.1501e+00, 1.2150e+00, 1.5404e+00, 2.4897e+00, 3.3783e-01, 1.5878e+00,\n",
       "        4.8581e+00, 1.6911e+00, 4.1380e-01, 5.1308e-01, 1.6427e+00, 2.1712e+00,\n",
       "        2.7263e+00, 4.3796e-01, 3.9190e-01, 8.4062e+00, 2.9668e-01, 4.8329e+00,\n",
       "        2.8114e-01, 2.0316e-01, 5.5772e-01, 3.5875e+00, 2.6885e+00, 1.3616e+00,\n",
       "        1.8380e+00, 3.4362e-01, 1.0942e+00, 1.1327e+00, 3.3220e+00, 1.1227e+00,\n",
       "        1.3340e+00, 1.2244e+00, 1.5411e+00, 1.4264e+00, 7.4405e-01, 6.6763e-01,\n",
       "        2.4276e-01, 2.7146e+00, 3.7839e-02, 1.8201e-02, 1.7566e-02, 2.8913e-02,\n",
       "        3.7827e-02, 1.6548e-02, 3.9611e-01, 6.2486e-02, 3.5671e-02, 4.1210e-02,\n",
       "        6.2408e-02, 1.0277e-01, 1.8440e-01, 2.8656e-02, 3.1860e-02, 3.0232e-02,\n",
       "        8.2540e-02, 3.4212e-02, 1.1517e-02, 1.2095e-01])"
      ]
     },
     "execution_count": 8,
     "metadata": {},
     "output_type": "execute_result"
    }
   ],
   "source": [
    "inputs.mean(axis=0)"
   ]
  },
  {
   "cell_type": "code",
   "execution_count": 9,
   "id": "personalized-interaction",
   "metadata": {},
   "outputs": [
    {
     "name": "stdout",
     "output_type": "stream",
     "text": [
      "Initial Response Expression Mean: 1.9034157991409302\n",
      "Initial Non-Response Expression Mean: 1.1825134754180908\n",
      "AE Response Expression Mean: 1.2257163524627686\n",
      "AE Non-Response Expression Mean: 0.6699910163879395\n",
      "Average L1 Loss: 0.907152533531189\n",
      "Average L1 Loss for Mean 0.6307252645492554\n",
      "                0\n",
      "count  160.000000\n",
      "mean     0.630725\n",
      "std      0.616160\n",
      "min      0.008643\n",
      "25%      0.258202\n",
      "50%      0.455086\n",
      "75%      0.812926\n",
      "max      4.434734\n"
     ]
    },
    {
     "data": {
      "image/png": "[encoded data removed]",
      "text/plain": [
       "<Figure size 432x288 with 1 Axes>"
      ]
     },
     "metadata": {
      "needs_background": "light"
     },
     "output_type": "display_data"
    },
    {
     "name": "stdout",
     "output_type": "stream",
     "text": [
      "Average L1 Loss for Mean among Response Genes: 0.7376704216003418\n",
      "Average L1 Loss for Mean among Non-Response Genes: 0.5125225186347961\n"
     ]
    }
   ],
   "source": [
    "import torch\n",
    "from torch.nn import functional as F\n",
    "import matplotlib.pyplot as plt\n",
    "\n",
    "non_response_inputs = torch.index_select(inputs, 1, torch.tensor(non_response_indeces))\n",
    "response_inputs = torch.index_select(inputs, 1, torch.tensor(list(set(range(160)) - set(non_response_indeces))))\n",
    "print(\"Initial Response Expression Mean: \" + str(response_inputs.mean().item()))\n",
    "print(\"Initial Non-Response Expression Mean: \" + str(non_response_inputs.mean().item()))\n",
    "\n",
    "non_response_expressions =  torch.index_select(gene_expressions, 1, torch.tensor(non_response_indeces))\n",
    "response_expressions = torch.index_select(gene_expressions, 1, torch.tensor(list(set(range(160)) - set(non_response_indeces))))\n",
    "print(\"AE Response Expression Mean: \" + str(response_expressions.mean().item()))\n",
    "print(\"AE Non-Response Expression Mean: \" + str(non_response_expressions.mean().item()))\n",
    "\n",
    "print(\"Average L1 Loss: \" + str(l1_losses.mean().item()))\n",
    "\n",
    "mean_MAE_L1 = F.l1_loss(inputs.mean(axis=0), gene_expressions.mean(axis=0)).item()\n",
    "\n",
    "print(\"Average L1 Loss for Mean \" + str(mean_MAE_L1))\n",
    "\n",
    "response_gene_boxplot = abs(inputs.mean(axis=0) - gene_expressions.mean(axis=0))\n",
    "print(pd.DataFrame(response_gene_boxplot).describe())\n",
    "plt.boxplot(response_gene_boxplot.reshape(1,-1))\n",
    "_ = plt.show()\n",
    "\n",
    "mean_MAE_response_L1 = F.l1_loss(response_inputs.mean(axis=0), response_expressions.mean(axis=0))\n",
    "print(\"Average L1 Loss for Mean among Response Genes: \" + str(mean_MAE_response_L1.item()))\n",
    "\n",
    "mean_MAE_non_response_L1 = F.l1_loss(non_response_inputs.mean(axis=0), non_response_expressions.mean(axis=0))\n",
    "print(\"Average L1 Loss for Mean among Non-Response Genes: \" + str(mean_MAE_non_response_L1.item()))"
   ]
  },
  {
   "cell_type": "code",
   "execution_count": 10,
   "id": "protected-garden",
   "metadata": {},
   "outputs": [
    {
     "data": {
      "text/plain": [
       "tensor([ 0.3239,  3.0229,  1.5792,  0.4414,  4.9569,  3.4527,  2.2754,  0.9960,\n",
       "         0.9424,  2.1755,  1.2680,  0.5908,  0.6967,  0.4757,  1.2076,  0.3787,\n",
       "         0.7810,  1.3590,  5.3421,  0.4299,  0.1422,  2.9800,  0.9139,  0.3451,\n",
       "         8.1374,  0.6489,  0.7942,  0.2000,  0.4509,  0.2110,  2.9809,  0.3362,\n",
       "         3.2514,  0.5236,  6.9037,  0.4661,  0.8576,  0.3009,  0.3698,  1.8747,\n",
       "         0.3040,  3.6621,  1.2378,  0.6364, 11.6746,  2.7314,  2.2307,  0.4656,\n",
       "         0.2479,  1.0650,  1.4291,  1.1185, 15.6989,  1.8167,  0.7810,  1.1501,\n",
       "         1.5404,  1.5878,  4.8581,  1.6911,  0.5131,  0.4380,  8.4062,  0.2967,\n",
       "         4.8329,  0.2032,  3.5875,  2.6885,  1.3616,  1.8380,  0.3436,  1.0942,\n",
       "         1.1327,  3.3220,  1.1227,  1.5411,  1.4264,  0.7440,  0.2428,  2.7146,\n",
       "         0.3961,  0.0625,  0.1844,  0.0825])"
      ]
     },
     "execution_count": 10,
     "metadata": {},
     "output_type": "execute_result"
    }
   ],
   "source": [
    "response_inputs.mean(axis=0)"
   ]
  },
  {
   "cell_type": "code",
   "execution_count": 11,
   "id": "opponent-valve",
   "metadata": {},
   "outputs": [
    {
     "data": {
      "text/plain": [
       "tensor([ 6.3138e-02,  2.3921e+00,  7.9798e-01, -6.8328e-05,  3.9088e+00,\n",
       "         1.8355e+00,  6.2800e-01,  7.4539e-01,  2.3026e-01,  3.7165e-01,\n",
       "         1.7657e-01,  2.6947e-04,  2.3797e-01, -2.7430e-05,  6.6038e-01,\n",
       "         2.0578e-05,  5.5260e-01,  4.0107e-01,  5.2468e+00, -6.5897e-05,\n",
       "         1.2217e-04,  2.6442e+00, -1.8052e-04, -2.0059e-05,  3.7026e+00,\n",
       "         3.0086e-01,  5.7074e-02, -1.2390e-04, -2.5082e-06, -1.4063e-04,\n",
       "         1.9038e+00,  2.8513e-04,  2.8450e+00,  3.3529e-04,  5.7639e+00,\n",
       "         5.2585e-03,  2.7591e-01, -5.1766e-05,  1.0129e-01,  3.3190e-01,\n",
       "        -2.0126e-04,  4.3960e+00,  9.5754e-01, -9.8759e-05,  1.2017e+01,\n",
       "         5.9060e-01,  1.2017e+00,  7.7867e-06, -1.9967e-06,  3.8617e-01,\n",
       "         3.2867e-01,  6.6704e-01,  1.2382e+01,  8.5001e-01,  4.6430e-01,\n",
       "         4.3313e-01,  4.4768e-01,  5.5042e-01,  4.4248e+00,  5.5431e-01,\n",
       "         4.2988e-04,  1.3513e-03,  6.2512e+00,  9.8100e-05,  3.0641e+00,\n",
       "         1.1476e-05,  3.1425e+00,  1.2557e+00,  1.0751e+00,  1.4515e+00,\n",
       "         2.9883e-03,  6.8835e-02,  4.5186e-01,  3.3669e+00,  1.7368e-03,\n",
       "         4.0453e-01,  9.6754e-01,  2.3642e-01,  4.5557e-05,  4.1121e+00,\n",
       "         1.9344e-01,  1.5306e-02,  6.3814e-02,  1.1362e-03])"
      ]
     },
     "execution_count": 11,
     "metadata": {},
     "output_type": "execute_result"
    }
   ],
   "source": [
    "response_expressions.mean(axis=0)"
   ]
  },
  {
   "cell_type": "markdown",
   "id": "alone-valve",
   "metadata": {},
   "source": [
    "It looks like that our autoencoder is underguessing on HIGHLY expressed genes. Which to be fair is a rare occurrence.\n",
    "\n",
    "Looking at response gene 52, we can see that it is consistently very highly expressed... "
   ]
  },
  {
   "cell_type": "code",
   "execution_count": 12,
   "id": "raised-popularity",
   "metadata": {},
   "outputs": [
    {
     "data": {
      "text/html": [
       "<div>\n",
       "<style scoped>\n",
       "    .dataframe tbody tr th:only-of-type {\n",
       "        vertical-align: middle;\n",
       "    }\n",
       "\n",
       "    .dataframe tbody tr th {\n",
       "        vertical-align: top;\n",
       "    }\n",
       "\n",
       "    .dataframe thead th {\n",
       "        text-align: right;\n",
       "    }\n",
       "</style>\n",
       "<table border=\"1\" class=\"dataframe\">\n",
       "  <thead>\n",
       "    <tr style=\"text-align: right;\">\n",
       "      <th></th>\n",
       "      <th>0</th>\n",
       "    </tr>\n",
       "  </thead>\n",
       "  <tbody>\n",
       "    <tr>\n",
       "      <th>count</th>\n",
       "      <td>173509.000000</td>\n",
       "    </tr>\n",
       "    <tr>\n",
       "      <th>mean</th>\n",
       "      <td>15.698905</td>\n",
       "    </tr>\n",
       "    <tr>\n",
       "      <th>std</th>\n",
       "      <td>17.255470</td>\n",
       "    </tr>\n",
       "    <tr>\n",
       "      <th>min</th>\n",
       "      <td>0.000000</td>\n",
       "    </tr>\n",
       "    <tr>\n",
       "      <th>25%</th>\n",
       "      <td>1.480469</td>\n",
       "    </tr>\n",
       "    <tr>\n",
       "      <th>50%</th>\n",
       "      <td>10.085938</td>\n",
       "    </tr>\n",
       "    <tr>\n",
       "      <th>75%</th>\n",
       "      <td>25.406250</td>\n",
       "    </tr>\n",
       "    <tr>\n",
       "      <th>max</th>\n",
       "      <td>426.750000</td>\n",
       "    </tr>\n",
       "  </tbody>\n",
       "</table>\n",
       "</div>"
      ],
      "text/plain": [
       "                   0\n",
       "count  173509.000000\n",
       "mean       15.698905\n",
       "std        17.255470\n",
       "min         0.000000\n",
       "25%         1.480469\n",
       "50%        10.085938\n",
       "75%        25.406250\n",
       "max       426.750000"
      ]
     },
     "execution_count": 12,
     "metadata": {},
     "output_type": "execute_result"
    }
   ],
   "source": [
    "pd.DataFrame(response_inputs[:,52]).describe()"
   ]
  },
  {
   "cell_type": "markdown",
   "id": "bigger-investing",
   "metadata": {},
   "source": [
    "but the AE predicts fairly low. This is ofc without masking."
   ]
  },
  {
   "cell_type": "code",
   "execution_count": 13,
   "id": "going-failing",
   "metadata": {},
   "outputs": [
    {
     "data": {
      "text/html": [
       "<div>\n",
       "<style scoped>\n",
       "    .dataframe tbody tr th:only-of-type {\n",
       "        vertical-align: middle;\n",
       "    }\n",
       "\n",
       "    .dataframe tbody tr th {\n",
       "        vertical-align: top;\n",
       "    }\n",
       "\n",
       "    .dataframe thead th {\n",
       "        text-align: right;\n",
       "    }\n",
       "</style>\n",
       "<table border=\"1\" class=\"dataframe\">\n",
       "  <thead>\n",
       "    <tr style=\"text-align: right;\">\n",
       "      <th></th>\n",
       "      <th>0</th>\n",
       "    </tr>\n",
       "  </thead>\n",
       "  <tbody>\n",
       "    <tr>\n",
       "      <th>count</th>\n",
       "      <td>173509.000000</td>\n",
       "    </tr>\n",
       "    <tr>\n",
       "      <th>mean</th>\n",
       "      <td>12.382073</td>\n",
       "    </tr>\n",
       "    <tr>\n",
       "      <th>std</th>\n",
       "      <td>11.692189</td>\n",
       "    </tr>\n",
       "    <tr>\n",
       "      <th>min</th>\n",
       "      <td>-35.725933</td>\n",
       "    </tr>\n",
       "    <tr>\n",
       "      <th>25%</th>\n",
       "      <td>2.810833</td>\n",
       "    </tr>\n",
       "    <tr>\n",
       "      <th>50%</th>\n",
       "      <td>7.861497</td>\n",
       "    </tr>\n",
       "    <tr>\n",
       "      <th>75%</th>\n",
       "      <td>19.754047</td>\n",
       "    </tr>\n",
       "    <tr>\n",
       "      <th>max</th>\n",
       "      <td>479.852600</td>\n",
       "    </tr>\n",
       "  </tbody>\n",
       "</table>\n",
       "</div>"
      ],
      "text/plain": [
       "                   0\n",
       "count  173509.000000\n",
       "mean       12.382073\n",
       "std        11.692189\n",
       "min       -35.725933\n",
       "25%         2.810833\n",
       "50%         7.861497\n",
       "75%        19.754047\n",
       "max       479.852600"
      ]
     },
     "execution_count": 13,
     "metadata": {},
     "output_type": "execute_result"
    }
   ],
   "source": [
    "pd.DataFrame(response_expressions[:,52]).describe()"
   ]
  },
  {
   "cell_type": "markdown",
   "id": "aware-ticket",
   "metadata": {},
   "source": [
    "The negative predictions are a bit annoying, but really do not influence mean prediction too much and still largely underpredicts the mean expression value."
   ]
  },
  {
   "cell_type": "code",
   "execution_count": 14,
   "id": "talented-better",
   "metadata": {
    "scrolled": true
   },
   "outputs": [
    {
     "data": {
      "text/html": [
       "<div>\n",
       "<style scoped>\n",
       "    .dataframe tbody tr th:only-of-type {\n",
       "        vertical-align: middle;\n",
       "    }\n",
       "\n",
       "    .dataframe tbody tr th {\n",
       "        vertical-align: top;\n",
       "    }\n",
       "\n",
       "    .dataframe thead th {\n",
       "        text-align: right;\n",
       "    }\n",
       "</style>\n",
       "<table border=\"1\" class=\"dataframe\">\n",
       "  <thead>\n",
       "    <tr style=\"text-align: right;\">\n",
       "      <th></th>\n",
       "      <th>0</th>\n",
       "    </tr>\n",
       "  </thead>\n",
       "  <tbody>\n",
       "    <tr>\n",
       "      <th>count</th>\n",
       "      <td>173509.000000</td>\n",
       "    </tr>\n",
       "    <tr>\n",
       "      <th>mean</th>\n",
       "      <td>12.383664</td>\n",
       "    </tr>\n",
       "    <tr>\n",
       "      <th>std</th>\n",
       "      <td>11.689078</td>\n",
       "    </tr>\n",
       "    <tr>\n",
       "      <th>min</th>\n",
       "      <td>0.000000</td>\n",
       "    </tr>\n",
       "    <tr>\n",
       "      <th>25%</th>\n",
       "      <td>2.810833</td>\n",
       "    </tr>\n",
       "    <tr>\n",
       "      <th>50%</th>\n",
       "      <td>7.861497</td>\n",
       "    </tr>\n",
       "    <tr>\n",
       "      <th>75%</th>\n",
       "      <td>19.754047</td>\n",
       "    </tr>\n",
       "    <tr>\n",
       "      <th>max</th>\n",
       "      <td>479.852600</td>\n",
       "    </tr>\n",
       "  </tbody>\n",
       "</table>\n",
       "</div>"
      ],
      "text/plain": [
       "                   0\n",
       "count  173509.000000\n",
       "mean       12.383664\n",
       "std        11.689078\n",
       "min         0.000000\n",
       "25%         2.810833\n",
       "50%         7.861497\n",
       "75%        19.754047\n",
       "max       479.852600"
      ]
     },
     "execution_count": 14,
     "metadata": {},
     "output_type": "execute_result"
    }
   ],
   "source": [
    "proj_response_expressions = response_expressions\n",
    "proj_response_expressions[proj_response_expressions < 0] = 0\n",
    "pd.DataFrame(proj_response_expressions[:,52]).describe()"
   ]
  },
  {
   "cell_type": "code",
   "execution_count": 15,
   "id": "expanded-teddy",
   "metadata": {},
   "outputs": [
    {
     "data": {
      "text/plain": [
       "True"
      ]
     },
     "execution_count": 15,
     "metadata": {},
     "output_type": "execute_result"
    }
   ],
   "source": [
    "52 in non_response_indeces"
   ]
  },
  {
   "cell_type": "code",
   "execution_count": 16,
   "id": "worse-master",
   "metadata": {},
   "outputs": [
    {
     "data": {
      "text/plain": [
       "array(['Astrocyte', 'Inhibitory', 'OD Mature 2', 'Endothelial 1',\n",
       "       'Ambiguous', 'Pericytes', 'Endothelial 2', 'OD Mature 1',\n",
       "       'OD Immature 1', 'Excitatory', 'Microglia', 'Endothelial 3',\n",
       "       'OD Mature 4', 'OD Immature 2', 'OD Mature 3', 'Ependymal'],\n",
       "      dtype=object)"
      ]
     },
     "execution_count": 16,
     "metadata": {},
     "output_type": "execute_result"
    }
   ],
   "source": [
    "merfish_df['Cell_class'].unique()"
   ]
  },
  {
   "cell_type": "markdown",
   "id": "intellectual-pointer",
   "metadata": {},
   "source": [
    "The 8 cell types that were used to create the MAE graph in MESSI were..."
   ]
  },
  {
   "cell_type": "code",
   "execution_count": 17,
   "id": "metric-group",
   "metadata": {},
   "outputs": [],
   "source": [
    "MAE_cell_types =['Astrocyte', 'Inhibitory', 'OD Mature 2', 'Endothelial 1',\n",
    "       'OD Mature 1', 'OD Immature 1', 'Excitatory', 'Microglia', ]"
   ]
  },
  {
   "cell_type": "code",
   "execution_count": 18,
   "id": "structural-savings",
   "metadata": {},
   "outputs": [
    {
     "data": {
      "text/plain": [
       "(1027848, 170)"
      ]
     },
     "execution_count": 18,
     "metadata": {},
     "output_type": "execute_result"
    }
   ],
   "source": [
    "merfish_df.shape"
   ]
  },
  {
   "cell_type": "code",
   "execution_count": 21,
   "id": "dental-murray",
   "metadata": {},
   "outputs": [
    {
     "data": {
      "text/plain": [
       "torch.Size([160])"
      ]
     },
     "execution_count": 21,
     "metadata": {},
     "output_type": "execute_result"
    }
   ],
   "source": [
    "inputs[0].shape"
   ]
  },
  {
   "cell_type": "markdown",
   "id": "greek-institute",
   "metadata": {},
   "source": [
    "# Checklist of Things To Do:\n",
    "\n",
    "- [x] Compare runs on tensorboard.\n",
    "- [ ] Ensure that outputs for every test example get saved (i.e. we should have a list of 31 tensors.)\n",
    "- [ ] Filter out outputs based on their respective celltype values (y).\n",
    "- [ ] Implement XGBoost on the 8 celltypes with pip install xgboost.\n",
    "- [ ] Make batch size hydra parameter.\n",
    "- [ ] Try multi-batch run with appropriate batch size and n_neighbors.\n",
    "- [ ] Change logger to only log MAE.\n",
    "- [ ] Add nbstripout to poetry.\n",
    "- [ ] Figure out how to label tensorboard folders."
   ]
  },
  {
   "cell_type": "code",
   "execution_count": null,
   "id": "specialized-muscle",
   "metadata": {},
   "outputs": [],
   "source": []
  }
 ],
 "metadata": {
  "kernelspec": {
   "display_name": "Python 3",
   "language": "python",
   "name": "python3"
  },
  "language_info": {
   "codemirror_mode": {
    "name": "ipython",
    "version": 3
   },
   "file_extension": ".py",
   "mimetype": "text/x-python",
   "name": "python",
   "nbconvert_exporter": "python",
   "pygments_lexer": "ipython3",
   "version": "3.8.5"
  }
 },
 "nbformat": 4,
 "nbformat_minor": 5
}
