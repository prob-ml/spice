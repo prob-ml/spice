{
 "cells": [
  {
   "cell_type": "code",
   "execution_count": 1,
   "id": "going-danish",
   "metadata": {},
   "outputs": [],
   "source": [
    "import os\n",
    "import sys\n",
    "\n",
    "import pytorch_lightning as pl\n",
    "from omegaconf import DictConfig, OmegaConf\n",
    "from pytorch_lightning.callbacks import ModelCheckpoint\n",
    "from pytorch_lightning.loggers import TensorBoardLogger\n",
    "from torch.utils.data import random_split\n",
    "from torch_geometric.data import DataLoader\n",
    "\n",
    "from spatial.merfish_dataset import MerfishDataset\n",
    "from spatial.models.monet_ae import MonetAutoencoder2D, TrivialAutoencoder\n",
    "from spatial.train import train\n",
    "from spatial.predict import test"
   ]
  },
  {
   "cell_type": "code",
   "execution_count": 2,
   "id": "republican-neighborhood",
   "metadata": {},
   "outputs": [
    {
     "name": "stderr",
     "output_type": "stream",
     "text": [
      "/home/roko/.cache/pypoetry/virtualenvs/spatial-G_n0JvVf-py3.8/lib/python3.8/site-packages/pytorch_lightning/utilities/distributed.py:50: UserWarning: Checkpoint directory /home/roko/spatial//output/lightning_logs/checkpoints/MonetAutoencoder2D exists and is not empty.\n",
      "  warnings.warn(*args, **kwargs)\n",
      "GPU available: True, used: True\n",
      "TPU available: None, using: 0 TPU cores\n",
      "/home/roko/.cache/pypoetry/virtualenvs/spatial-G_n0JvVf-py3.8/lib/python3.8/site-packages/pytorch_lightning/utilities/distributed.py:50: UserWarning: The dataloader, test dataloader 0, does not have many workers which may be a bottleneck. Consider increasing the value of the `num_workers` argument` (try 64 which is the number of cpus on this machine) in the `DataLoader` init to improve performance.\n",
      "  warnings.warn(*args, **kwargs)\n"
     ]
    },
    {
     "data": {
      "application/vnd.jupyter.widget-view+json": {
       "model_id": "9dd3be8a00084816902d277f46d64b71",
       "version_major": 2,
       "version_minor": 0
      },
      "text/plain": [
       "Testing: 0it [00:00, ?it/s]"
      ]
     },
     "metadata": {},
     "output_type": "display_data"
    },
    {
     "name": "stdout",
     "output_type": "stream",
     "text": [
      "--------------------------------------------------------------------------------\n",
      "DATALOADER:0 TEST RESULTS\n",
      "{'test_loss': 1.4626601934432983}\n",
      "--------------------------------------------------------------------------------\n"
     ]
    }
   ],
   "source": [
    "# equivalent to spatial\n",
    "\n",
    "import hydra\n",
    "from hydra.experimental import compose, initialize\n",
    "\n",
    "with initialize(config_path=\"../config\"):\n",
    "    cfg_from_terminal = compose(config_name=\"config\")\n",
    "    output = test(cfg_from_terminal)"
   ]
  },
  {
   "cell_type": "markdown",
   "id": "detected-parts",
   "metadata": {},
   "source": [
    "# MAE Imaging"
   ]
  },
  {
   "cell_type": "code",
   "execution_count": 3,
   "id": "sunrise-duration",
   "metadata": {
    "scrolled": true
   },
   "outputs": [],
   "source": [
    "import matplotlib.pyplot as plt\n",
    "\n",
    "trainer, l1_losses, inputs, gene_expressions, celltypes = output"
   ]
  },
  {
   "cell_type": "markdown",
   "id": "gothic-riding",
   "metadata": {},
   "source": [
    "We can see in the source code that the cell types are listed as follows:\n",
    "\n",
    "    cell_types = [\n",
    "        \"Ambiguous\",\n",
    "        \"Astrocyte\",\n",
    "        \"Endothelial 1\",\n",
    "        \"Endothelial 2\",\n",
    "        \"Endothelial 3\",\n",
    "        \"Ependymal\",\n",
    "        \"Excitatory\",\n",
    "        \"Inhibitory\",\n",
    "        \"Microglia\",\n",
    "        \"OD Immature 1\",\n",
    "        \"OD Immature 2\",\n",
    "        \"OD Mature 1\",\n",
    "        \"OD Mature 2\",\n",
    "        \"OD Mature 3\",\n",
    "        \"OD Mature 4\",\n",
    "        \"Pericytes\",\n",
    "    ]\n",
    "    \n",
    "So, we can keep only the cell types the MESSI uses to evaluate their performance. These would be [1, 2, 6, 7, 8, 9, 10, 11]"
   ]
  },
  {
   "cell_type": "markdown",
   "id": "verbal-ordinary",
   "metadata": {},
   "source": [
    "#### For a single sample.\n",
    "\n",
    "# FIX THIS TO BE BOXPLOT OVER ALL EXPRESSIONS"
   ]
  },
  {
   "cell_type": "code",
   "execution_count": 4,
   "id": "cleared-subscription",
   "metadata": {},
   "outputs": [],
   "source": [
    "# plt.boxplot(L1_losses.reshape(1,-1))"
   ]
  },
  {
   "cell_type": "code",
   "execution_count": 5,
   "id": "cosmetic-syracuse",
   "metadata": {},
   "outputs": [],
   "source": [
    "# plt.boxplot(L1_losses.reshape(1,-1)[:,:])"
   ]
  },
  {
   "cell_type": "markdown",
   "id": "preceding-bangkok",
   "metadata": {},
   "source": [
    "The code below simply identifies the response and non-response genes."
   ]
  },
  {
   "cell_type": "code",
   "execution_count": 6,
   "id": "funded-bankruptcy",
   "metadata": {
    "scrolled": true
   },
   "outputs": [
    {
     "name": "stderr",
     "output_type": "stream",
     "text": [
      "/home/roko/.cache/pypoetry/virtualenvs/spatial-G_n0JvVf-py3.8/lib/python3.8/site-packages/openpyxl/worksheet/_reader.py:312: UserWarning: Unknown extension is not supported and will be removed\n",
      "  warn(msg)\n"
     ]
    },
    {
     "name": "stdout",
     "output_type": "stream",
     "text": [
      "['Cbln1', 'Cxcl14', 'Crhbp', 'Gabra1', 'Cbln2', 'Gpr165', 'Glra3', 'Gabrg1', 'Adora2a', 'Vgf', 'Scg2', 'Cartpt', 'Tac2', 'Bdnf', 'Bmp7', 'Cyr61', 'Fn1', 'Fst', 'Gad1', 'Ntng1', 'Pnoc', 'Selplg', 'Sema3c', 'Sema4d', 'Serpine1', 'Adcyap1', 'Cck', 'Crh', 'Gal', 'Gnrh1', 'Nts', 'Oxt', 'Penk', 'Sst', 'Tac1', 'Trh', 'Ucn3', 'Avpr1a', 'Avpr2', 'Brs3', 'Calcr', 'Cckar', 'Cckbr', 'Crhr1', 'Crhr2', 'Galr1', 'Galr2', 'Grpr', 'Htr2c', 'Igf1r', 'Igf2r', 'Kiss1r', 'Lepr', 'Lpar1', 'Mc4r', 'Npy1r', 'Npy2r', 'Ntsr1', 'Oprd1', 'Oprk1', 'Oprl1', 'Oxtr', 'Pdgfra', 'Prlr', 'Ramp3', 'Rxfp1', 'Slc17a7', 'Slc18a2', 'Tacr1', 'Tacr3', 'Trhr']\n",
      "There are 71 genes recognized as either ligands or receptors (including new ones).\n",
      "There are 5 blank genes.\n",
      "There are 84 genes that are treated as response variables.\n"
     ]
    }
   ],
   "source": [
    "# read in merfish dataset and get columns names\n",
    "import pandas as pd\n",
    "\n",
    "# get relevant data stuff\n",
    "df_file = pd.ExcelFile(\"~/spatial/data/messi.xlsx\")\n",
    "messi_df = pd.read_excel(df_file, \"All.Pairs\")\n",
    "merfish_df = pd.read_csv(\"~/spatial/data/raw/merfish.csv\")\n",
    "\n",
    "# these are the 13 ligands or receptors found in MESSI\n",
    "non_response_genes = ['Cbln1', 'Cxcl14', 'Crhbp', 'Gabra1', 'Cbln2', 'Gpr165', \n",
    "                      'Glra3', 'Gabrg1', 'Adora2a', 'Vgf', 'Scg2', 'Cartpt',\n",
    "                      'Tac2']\n",
    "# this list stores the control genes aka \"Blank_{int}\"\n",
    "blank_genes = []\n",
    "# ligands and receptor indexes in MERFISH\n",
    "non_response_indeces = [list(merfish_df.columns).index(gene)-10 for gene in non_response_genes]\n",
    "all_pairs_columns = [\n",
    "    \"Ligand.ApprovedSymbol\",\n",
    "    \"Receptor.ApprovedSymbol\",\n",
    "]\n",
    "\n",
    "# for column name in the column names above\n",
    "for column in all_pairs_columns:\n",
    "    for gene in merfish_df.columns:\n",
    "        if (\n",
    "            gene.upper() in list(messi_df[column])\n",
    "            and gene.upper() not in non_response_genes\n",
    "        ):\n",
    "            non_response_genes.append(gene)\n",
    "            non_response_indeces.append(list(merfish_df.columns).index(gene)-10)\n",
    "        if gene[:5] == \"Blank\" and gene not in blank_genes:\n",
    "            blank_genes.append(gene)\n",
    "            non_response_indeces.append(list(merfish_df.columns).index(gene)-10)\n",
    "print(non_response_genes)\n",
    "print(\n",
    "    \"There are \"\n",
    "    + str(len(non_response_genes))\n",
    "    + \" genes recognized as either ligands or receptors (including new ones).\"\n",
    ")\n",
    "\n",
    "print(\n",
    "    \"There are \"\n",
    "    + str(len(blank_genes))\n",
    "    + \" blank genes.\"\n",
    ")\n",
    "\n",
    "print(\n",
    "    \"There are \"\n",
    "    + str(160 - len(blank_genes) - len(non_response_genes)) # -5 is because of the blanks\n",
    "    + \" genes that are treated as response variables.\"\n",
    ")"
   ]
  },
  {
   "cell_type": "markdown",
   "id": "stable-robertson",
   "metadata": {},
   "source": [
    "The code below generates some MAE values separated by response status."
   ]
  },
  {
   "cell_type": "code",
   "execution_count": 7,
   "id": "western-awareness",
   "metadata": {},
   "outputs": [
    {
     "name": "stdout",
     "output_type": "stream",
     "text": [
      "Initial Response Expression Mean: 1.7898054122924805\n",
      "Initial Non-Response Expression Mean: 1.3080828189849854\n",
      "AE Response Expression Mean: 0.1979086995124817\n",
      "AE Non-Response Expression Mean: 0.1586369425058365\n",
      "Average L1 Loss for Mean 1.3821319341659546\n",
      "Average L1 Loss for Mean among Response Genes: 1.5918967723846436\n",
      "Average L1 Loss for Mean among Non-Response Genes: 1.1502866744995117\n"
     ]
    }
   ],
   "source": [
    "import torch\n",
    "from torch.nn import functional as F\n",
    "import matplotlib.pyplot as plt\n",
    "\n",
    "non_response_inputs = torch.index_select(inputs, 1, torch.tensor(non_response_indeces))\n",
    "response_inputs = torch.index_select(inputs, 1, torch.tensor(list(set(range(160)) - set(non_response_indeces))))\n",
    "print(\"Initial Response Expression Mean: \" + str(response_inputs.mean().item()))\n",
    "print(\"Initial Non-Response Expression Mean: \" + str(non_response_inputs.mean().item()))\n",
    "\n",
    "non_response_expressions =  torch.index_select(gene_expressions, 1, torch.tensor(non_response_indeces))\n",
    "response_expressions = torch.index_select(gene_expressions, 1, torch.tensor(list(set(range(160)) - set(non_response_indeces))))\n",
    "print(\"AE Response Expression Mean: \" + str(response_expressions.mean().item()))\n",
    "print(\"AE Non-Response Expression Mean: \" + str(non_response_expressions.mean().item()))\n",
    "\n",
    "mean_MAE_L1 = F.l1_loss(inputs.mean(axis=0), gene_expressions.mean(axis=0)).item()\n",
    "\n",
    "print(\"Average L1 Loss for Mean \" + str(mean_MAE_L1))\n",
    "\n",
    "### L1 Losses \n",
    "# response_gene_boxplot = abs(inputs.mean(axis=0) - gene_expressions.mean(axis=0))\n",
    "# print(pd.DataFrame(response_gene_boxplot).describe())\n",
    "# plt.boxplot(response_gene_boxplot.reshape(1,-1))\n",
    "# _ = plt.show()\n",
    "\n",
    "mean_MAE_response_L1 = F.l1_loss(response_inputs.mean(axis=0), response_expressions.mean(axis=0))\n",
    "print(\"Average L1 Loss for Mean among Response Genes: \" + str(mean_MAE_response_L1.item()))\n",
    "\n",
    "mean_MAE_non_response_L1 = F.l1_loss(non_response_inputs.mean(axis=0), non_response_expressions.mean(axis=0))\n",
    "print(\"Average L1 Loss for Mean among Non-Response Genes: \" + str(mean_MAE_non_response_L1.item()))"
   ]
  },
  {
   "cell_type": "markdown",
   "id": "dress-venue",
   "metadata": {},
   "source": [
    "Now, we need to do the same thing, but separate the celltypes we care about."
   ]
  },
  {
   "cell_type": "code",
   "execution_count": 11,
   "id": "short-future",
   "metadata": {},
   "outputs": [],
   "source": [
    "cells = [cell for cell, celltype in enumerate(celltypes[:,1]) if celltype in [1, 2, 6, 7, 8, 9, 10, 11]]"
   ]
  },
  {
   "cell_type": "code",
   "execution_count": 9,
   "id": "fantastic-hearing",
   "metadata": {
    "scrolled": true
   },
   "outputs": [
    {
     "name": "stdout",
     "output_type": "stream",
     "text": [
      "Initial Response Expression Mean: 1.6762956380844116\n",
      "Initial Non-Response Expression Mean: 1.413140892982483\n",
      "AE Response Expression Mean: 0.20724879205226898\n",
      "AE Non-Response Expression Mean: 0.17563262581825256\n",
      "Average L1 Loss for Mean 1.3590658903121948\n",
      "Average L1 Loss for Mean among Response Genes: 1.469046711921692\n",
      "Average L1 Loss for Mean among Non-Response Genes: 1.2375082969665527\n"
     ]
    }
   ],
   "source": [
    "import torch\n",
    "from torch.nn import functional as F\n",
    "import matplotlib.pyplot as plt\n",
    "\n",
    "# filtering the inputs this time\n",
    "filtered_inputs = torch.index_select(inputs, 0, torch.tensor(cells))\n",
    "filtered_gene_expressions = torch.index_select(gene_expressions, 0, torch.tensor(cells))\n",
    "\n",
    "non_response_inputs = torch.index_select(filtered_inputs, 1, torch.tensor(non_response_indeces))\n",
    "response_inputs = torch.index_select(filtered_inputs, 1, torch.tensor(list(set(range(160)) - set(non_response_indeces))))\n",
    "print(\"Initial Response Expression Mean: \" + str(response_inputs.mean().item()))\n",
    "print(\"Initial Non-Response Expression Mean: \" + str(non_response_inputs.mean().item()))\n",
    "\n",
    "non_response_expressions =  torch.index_select(filtered_gene_expressions, 1, torch.tensor(non_response_indeces))\n",
    "response_expressions = torch.index_select(filtered_gene_expressions, 1, torch.tensor(list(set(range(160)) - set(non_response_indeces))))\n",
    "print(\"AE Response Expression Mean: \" + str(response_expressions.mean().item()))\n",
    "print(\"AE Non-Response Expression Mean: \" + str(non_response_expressions.mean().item()))\n",
    "\n",
    "mean_MAE_L1 = F.l1_loss(filtered_inputs.mean(axis=0), filtered_gene_expressions.mean(axis=0)).item()\n",
    "\n",
    "print(\"Average L1 Loss for Mean \" + str(mean_MAE_L1))\n",
    "\n",
    "# response_gene_boxplot = abs(filtered_inputs.mean(axis=0) - filtered_gene_expressions.mean(axis=0))\n",
    "# print(pd.DataFrame(response_gene_boxplot).describe())\n",
    "# plt.boxplot(response_gene_boxplot.reshape(1,-1))\n",
    "# _ = plt.show()\n",
    "\n",
    "mean_MAE_response_L1 = F.l1_loss(response_inputs.mean(axis=0), response_expressions.mean(axis=0))\n",
    "print(\"Average L1 Loss for Mean among Response Genes: \" + str(mean_MAE_response_L1.item()))\n",
    "\n",
    "mean_MAE_non_response_L1 = F.l1_loss(non_response_inputs.mean(axis=0), non_response_expressions.mean(axis=0))\n",
    "print(\"Average L1 Loss for Mean among Non-Response Genes: \" + str(mean_MAE_non_response_L1.item()))"
   ]
  },
  {
   "cell_type": "markdown",
   "id": "daily-amino",
   "metadata": {},
   "source": [
    "# Checklist of Things To Do:\n",
    "\n",
    "- [x] Compare runs on tensorboard.\n",
    "- [x] Ensure that outputs for every test example get saved (i.e. we should have a list of 31 tensors.) <b>No need. The tensor gets concatenated. We could create a tensor of tensors, but idk how helpful that is.</b>\n",
    "- [x] Understand which anid, bregma correspond to which mouse and figure out how MESSI dealt with this. <b>Most animals have multiples bregmas and MESSI uses several animals (16-19) in their demo. </b>\n",
    "- [x] Filter out outputs based on their respective celltype values (y).\n",
    "- [ ] Implement XGBoost on the 8 celltypes with pip install xgboost.\n",
    "- [x] Make batch size hydra parameter.\n",
    "- [ ] Try multi-batch run with appropriate batch size and n_neighbors.\n",
    "- [x] Change logger to only log MAE.\n",
    "- [x] Add nbstripout to poetry.\n",
    "- [x] Figure out how to label tensorboard folders.\n",
    "- [x] Fix CUDA_VISIBLE_DEVICES <b>This is \"fixed\" but setting visible devices to more than 1 makes it \"used\" as a process even if a process doesn't get set to a GPU. Does being visible open up a process?</b>\n",
    "- [ ] Explore different neighborhood methodologies.\n",
    "    - [ ] Nearest Neighbor Graph\n",
    "    - [ ] Dulaney Trinagulation\n",
    "    - [ ] Gabriel Graph\n",
    "    - [ ] Urquhart Graph (this will be a very good comparison to Dulaney Triangulation"
   ]
  }
 ],
 "metadata": {
  "kernelspec": {
   "display_name": "Python 3",
   "language": "python",
   "name": "python3"
  },
  "language_info": {
   "codemirror_mode": {
    "name": "ipython",
    "version": 3
   },
   "file_extension": ".py",
   "mimetype": "text/x-python",
   "name": "python",
   "nbconvert_exporter": "python",
   "pygments_lexer": "ipython3",
   "version": "3.8.5"
  }
 },
 "nbformat": 4,
 "nbformat_minor": 5
}
