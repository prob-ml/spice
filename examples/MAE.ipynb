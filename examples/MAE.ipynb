{
 "cells": [
  {
   "cell_type": "code",
   "execution_count": 25,
   "id": "religious-sweet",
   "metadata": {},
   "outputs": [],
   "source": [
    "# MAKE SURE THAT YOU FIND A WAY TO RETURN THE LOSSES IN TEST FOR THIS NOTEBOOK"
   ]
  },
  {
   "cell_type": "code",
   "execution_count": 1,
   "id": "going-danish",
   "metadata": {},
   "outputs": [],
   "source": [
    "import os\n",
    "import sys\n",
    "\n",
    "import pytorch_lightning as pl\n",
    "from omegaconf import DictConfig, OmegaConf\n",
    "from pytorch_lightning.callbacks import ModelCheckpoint\n",
    "from pytorch_lightning.loggers import TensorBoardLogger\n",
    "from torch.utils.data import random_split\n",
    "from torch_geometric.data import DataLoader\n",
    "\n",
    "from spatial.merfish_dataset import MerfishDataset\n",
    "from spatial.models.monet_ae import MonetAutoencoder2D, TrivialAutoencoder\n",
    "from spatial.train import train\n",
    "from spatial.predict import test"
   ]
  },
  {
   "cell_type": "code",
   "execution_count": 2,
   "id": "republican-neighborhood",
   "metadata": {},
   "outputs": [
    {
     "name": "stderr",
     "output_type": "stream",
     "text": [
      "/home/roko/.cache/pypoetry/virtualenvs/spatial-1lQwL2nz-py3.8/lib/python3.8/site-packages/pytorch_lightning/utilities/distributed.py:50: UserWarning: Checkpoint directory /home/roko/spatial-main//output/lightning_logs/checkpoints/MonetAutoencoder2D exists and is not empty.\n",
      "  warnings.warn(*args, **kwargs)\n",
      "GPU available: True, used: True\n",
      "TPU available: None, using: 0 TPU cores\n",
      "/home/roko/.cache/pypoetry/virtualenvs/spatial-1lQwL2nz-py3.8/lib/python3.8/site-packages/pytorch_lightning/utilities/distributed.py:50: UserWarning: The dataloader, test dataloader 0, does not have many workers which may be a bottleneck. Consider increasing the value of the `num_workers` argument` (try 64 which is the number of cpus on this machine) in the `DataLoader` init to improve performance.\n",
      "  warnings.warn(*args, **kwargs)\n"
     ]
    },
    {
     "data": {
      "application/vnd.jupyter.widget-view+json": {
       "model_id": "e68852d6360f4b0aaaa48ab47a3b7f1b",
       "version_major": 2,
       "version_minor": 0
      },
      "text/plain": [
       "Testing: 0it [00:00, ?it/s]"
      ]
     },
     "metadata": {},
     "output_type": "display_data"
    },
    {
     "name": "stdout",
     "output_type": "stream",
     "text": [
      "--------------------------------------------------------------------------------\n",
      "DATALOADER:0 TEST RESULTS\n",
      "{'test_loss': 9649879.0}\n",
      "--------------------------------------------------------------------------------\n"
     ]
    }
   ],
   "source": [
    "# equivalent to spatial\n",
    "\n",
    "import hydra\n",
    "from hydra.experimental import compose, initialize\n",
    "\n",
    "with initialize(config_path=\"../config\"):\n",
    "    cfg_from_terminal = compose(config_name=\"config\")\n",
    "    L1_losses = test(cfg_from_terminal)"
   ]
  },
  {
   "cell_type": "markdown",
   "id": "detected-parts",
   "metadata": {},
   "source": [
    "# MAE Imaging"
   ]
  },
  {
   "cell_type": "code",
   "execution_count": 3,
   "id": "sunrise-duration",
   "metadata": {},
   "outputs": [
    {
     "ename": "TypeError",
     "evalue": "'Trainer' object is not subscriptable",
     "output_type": "error",
     "traceback": [
      "\u001b[0;31m---------------------------------------------------------------------------\u001b[0m",
      "\u001b[0;31mTypeError\u001b[0m                                 Traceback (most recent call last)",
      "\u001b[0;32m<ipython-input-3-e571ef0f0ecb>\u001b[0m in \u001b[0;36m<module>\u001b[0;34m\u001b[0m\n\u001b[1;32m      1\u001b[0m \u001b[0;32mimport\u001b[0m \u001b[0mmatplotlib\u001b[0m\u001b[0;34m.\u001b[0m\u001b[0mpyplot\u001b[0m \u001b[0;32mas\u001b[0m \u001b[0mplt\u001b[0m\u001b[0;34m\u001b[0m\u001b[0;34m\u001b[0m\u001b[0m\n\u001b[1;32m      2\u001b[0m \u001b[0;34m\u001b[0m\u001b[0m\n\u001b[0;32m----> 3\u001b[0;31m \u001b[0mL1_losses\u001b[0m\u001b[0;34m[\u001b[0m\u001b[0;34m:\u001b[0m\u001b[0;34m,\u001b[0m\u001b[0;36m0\u001b[0m\u001b[0;34m]\u001b[0m\u001b[0;34m\u001b[0m\u001b[0;34m\u001b[0m\u001b[0m\n\u001b[0m",
      "\u001b[0;31mTypeError\u001b[0m: 'Trainer' object is not subscriptable"
     ]
    }
   ],
   "source": [
    "import matplotlib.pyplot as plt\n",
    "\n",
    "L1_losses[:,0]"
   ]
  },
  {
   "cell_type": "markdown",
   "id": "verbal-ordinary",
   "metadata": {},
   "source": [
    "#### For a single sample."
   ]
  },
  {
   "cell_type": "code",
   "execution_count": 6,
   "id": "cleared-subscription",
   "metadata": {},
   "outputs": [
    {
     "data": {
      "text/plain": [
       "{'whiskers': [<matplotlib.lines.Line2D at 0x7ff5b39b2520>,\n",
       "  <matplotlib.lines.Line2D at 0x7ff5b3951790>],\n",
       " 'caps': [<matplotlib.lines.Line2D at 0x7ff5b3951a30>,\n",
       "  <matplotlib.lines.Line2D at 0x7ff5b394f3a0>],\n",
       " 'boxes': [<matplotlib.lines.Line2D at 0x7ff5b39580d0>],\n",
       " 'medians': [<matplotlib.lines.Line2D at 0x7ff741fa44f0>],\n",
       " 'fliers': [<matplotlib.lines.Line2D at 0x7ff741fa4850>],\n",
       " 'means': []}"
      ]
     },
     "execution_count": 6,
     "metadata": {},
     "output_type": "execute_result"
    },
    {
     "data": {
      "image/png": "[encoded data removed]",
      "text/plain": [
       "<Figure size 432x288 with 1 Axes>"
      ]
     },
     "metadata": {
      "needs_background": "light"
     },
     "output_type": "display_data"
    }
   ],
   "source": [
    "plt.boxplot(L1_losses.reshape(1,-1))"
   ]
  },
  {
   "cell_type": "code",
   "execution_count": 20,
   "id": "cosmetic-syracuse",
   "metadata": {},
   "outputs": [
    {
     "data": {
      "text/plain": [
       "{'whiskers': [<matplotlib.lines.Line2D at 0x7ff72384d9d0>,\n",
       "  <matplotlib.lines.Line2D at 0x7ff72384dd30>],\n",
       " 'caps': [<matplotlib.lines.Line2D at 0x7ff7239b70d0>,\n",
       "  <matplotlib.lines.Line2D at 0x7ff7239b7430>],\n",
       " 'boxes': [<matplotlib.lines.Line2D at 0x7ff72384d670>],\n",
       " 'medians': [<matplotlib.lines.Line2D at 0x7ff7239b7790>],\n",
       " 'fliers': [<matplotlib.lines.Line2D at 0x7ff7239b7af0>],\n",
       " 'means': []}"
      ]
     },
     "execution_count": 20,
     "metadata": {},
     "output_type": "execute_result"
    },
    {
     "data": {
      "image/png": "[encoded data removed]",
      "text/plain": [
       "<Figure size 432x288 with 1 Axes>"
      ]
     },
     "metadata": {
      "needs_background": "light"
     },
     "output_type": "display_data"
    }
   ],
   "source": [
    "plt.boxplot(L1_losses.reshape(1,-1)[:,:])"
   ]
  },
  {
   "cell_type": "code",
   "execution_count": 19,
   "id": "possible-debut",
   "metadata": {},
   "outputs": [
    {
     "data": {
      "text/plain": [
       "1.2980286"
      ]
     },
     "execution_count": 19,
     "metadata": {},
     "output_type": "execute_result"
    }
   ],
   "source": [
    "import numpy as np\n",
    "\n",
    "np.mean(L1_losses.numpy())"
   ]
  },
  {
   "cell_type": "code",
   "execution_count": 21,
   "id": "muslim-tutorial",
   "metadata": {},
   "outputs": [],
   "source": [
    "# Losses for Genes in L/R List"
   ]
  },
  {
   "cell_type": "code",
   "execution_count": null,
   "id": "overall-politics",
   "metadata": {},
   "outputs": [],
   "source": [
    "# Losses for Genes\n",
    "# 71 mean values 1 for each gene?"
   ]
  },
  {
   "cell_type": "code",
   "execution_count": 24,
   "id": "serious-logistics",
   "metadata": {},
   "outputs": [
    {
     "data": {
      "text/plain": [
       "tensor([0.5060, 0.5678, 1.9442, 1.5974, 0.6862, 3.0322, 2.2338, 1.5983, 0.5494,\n",
       "        0.4280, 1.6139, 1.1170, 0.3794, 0.2922, 0.3147, 0.2372, 0.6588, 1.0788,\n",
       "        0.7413, 1.1305, 1.3543, 3.0416, 1.6116, 0.8487, 1.2961, 2.0827, 1.5092,\n",
       "        0.7859, 0.8046, 0.7952, 1.0610, 0.5739, 1.4383, 1.3903, 0.4339, 0.6621,\n",
       "        0.6297, 2.9643, 2.3007, 0.6289, 0.2437, 1.0841, 1.9579, 0.8784, 0.6032,\n",
       "        5.2654, 1.3384, 1.1522, 0.3562, 0.6971, 1.8015, 1.0175, 2.5321, 1.3247,\n",
       "        7.5027, 0.7608, 0.8017, 0.3834, 1.5291, 0.5354, 1.8421, 2.4506, 1.8730,\n",
       "        0.9141, 0.7427, 1.5195, 2.4203, 1.2558, 3.1484, 0.6517, 0.7931, 0.8076,\n",
       "        0.4693, 0.4736, 0.4988, 1.5466, 1.9514, 0.7112, 0.4609, 2.5930, 1.1476,\n",
       "        0.8599, 7.3645, 1.3966, 1.6306, 0.8241, 1.4742, 2.2985, 0.7080, 0.8341,\n",
       "        0.3863, 1.2023, 1.6006, 1.3442, 1.0129, 1.0244, 2.3809, 0.5909, 8.7857,\n",
       "        1.9511, 1.4216, 1.0561, 1.3719, 1.2436, 1.5701, 2.2202, 0.5750, 1.4699,\n",
       "        4.3138, 1.6749, 0.6161, 0.6983, 1.7471, 2.2251, 2.1765, 0.6479, 0.5829,\n",
       "        5.7815, 0.4519, 2.2704, 0.4670, 0.3360, 0.8998, 2.8258, 2.3263, 1.5127,\n",
       "        1.5683, 0.5193, 1.3889, 1.2703, 2.1280, 1.3201, 1.7309, 1.3795, 1.5736,\n",
       "        1.5022, 0.9901, 0.8233, 0.3924, 2.2071, 0.0521, 0.0284, 0.0180, 0.0431,\n",
       "        0.0538, 0.0221, 0.2804, 0.0689, 0.0567, 0.1032, 0.1051, 0.1129, 0.3010,\n",
       "        0.0476, 0.0541, 0.0480, 0.1172, 0.0744, 0.0153, 0.1792])"
      ]
     },
     "execution_count": 24,
     "metadata": {},
     "output_type": "execute_result"
    }
   ],
   "source": [
    "L1_losses.mean(axis=0)"
   ]
  },
  {
   "cell_type": "markdown",
   "id": "preceding-bangkok",
   "metadata": {},
   "source": [
    "The code listed below simply generated the response and non-response genes."
   ]
  },
  {
   "cell_type": "code",
   "execution_count": 4,
   "id": "funded-bankruptcy",
   "metadata": {},
   "outputs": [],
   "source": [
    "# l1_losses = abs(model.inputs - model.gene_expressions)\n",
    "\n",
    "    # import pandas as pd\n",
    "\n",
    "    # maxes = {}\n",
    "    # for i in range(160):\n",
    "    #     stuff = pd.Series(L1_losses[:,i])\n",
    "    #     print(round(stuff.describe()[-5:], 3))\n",
    "    #     stuff = stuff.drop(stuff.idxmax())\n",
    "    #     try:\n",
    "    #         maxes[stuff.idxmax()] += 1\n",
    "    #     except:\n",
    "    #         maxes[stuff.idxmax()] = 1\n",
    "    # print(maxes)\n",
    "    # print(\"MESSI: \" + str([0.37, 0.38, 0.387, 0.389, 0.392]))\n",
    "    # return trainer\n",
    "    # non_response_genes = []\n",
    "    # all_pairs_columns = [\n",
    "    #     \"Ligand.ApprovedSymbol\",\n",
    "    #     \"Receptor.ApprovedSymbol\",\n",
    "    # ]\n",
    "    # df_file = pd.ExcelFile(\"~/spatial-main/data/messi.xlsx\")\n",
    "    # messi_df = pd.read_excel(df_file, \"All.Pairs\")\n",
    "    # merfish_df = pd.read_csv(\"~/spatial-main/data/merfish.csv\")\n",
    "    # print(messi_df[\"Ligand.ApprovedSymbol\"])\n",
    "    # for column in all_pairs_columns:\n",
    "    #     for gene in merfish_df.columns:\n",
    "    #         if (\n",
    "    #             gene.upper() in list(messi_df[column])\n",
    "    #             and gene.upper() not in non_response_genes\n",
    "    #         ):\n",
    "    #             non_response_genes.append(gene)\n",
    "    # print(non_response_genes)\n",
    "    # print(\n",
    "    #     \"There are \"\n",
    "    #     + str(len(non_response_genes))\n",
    "    #     + \" genes recognized as either ligands or receptors.\"\n",
    "    # )"
   ]
  }
 ],
 "metadata": {
  "kernelspec": {
   "display_name": "Python 3",
   "language": "python",
   "name": "python3"
  },
  "language_info": {
   "codemirror_mode": {
    "name": "ipython",
    "version": 3
   },
   "file_extension": ".py",
   "mimetype": "text/x-python",
   "name": "python",
   "nbconvert_exporter": "python",
   "pygments_lexer": "ipython3",
   "version": "3.8.5"
  }
 },
 "nbformat": 4,
 "nbformat_minor": 5
}
