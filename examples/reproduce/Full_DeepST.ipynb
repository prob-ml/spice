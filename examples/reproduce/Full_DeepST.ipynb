{
 "cells": [
  {
   "cell_type": "code",
   "execution_count": 1,
   "id": "c7fcdb50",
   "metadata": {},
   "outputs": [],
   "source": [
    "import os\n",
    "import torch\n",
    "\n",
    "os.environ[\"MKL_NUM_THREADS\"]=\"1\"\n",
    "os.environ[\"NUMEXPR_NUM_THREADS\"]=\"1\"\n",
    "os.environ[\"OMP_NUM_THREADS\"]=\"1\"\n",
    "os.environ[\"CUDA_VISIBLE_DEVICES\"] = \"5,6\"\n",
    "\n",
    "import sys\n",
    "\n",
    "import pytorch_lightning as pl\n",
    "from omegaconf import DictConfig, OmegaConf\n",
    "from pytorch_lightning.callbacks import ModelCheckpoint\n",
    "from pytorch_lightning.loggers import TensorBoardLogger\n",
    "from torch.utils.data import random_split\n",
    "from torch_geometric.data import DataLoader\n",
    "\n",
    "from spatial.merfish_dataset import FilteredMerfishDataset, MerfishDataset, SyntheticNonlinear, SyntheticDataset0, SyntheticDataset1, SyntheticDataset2, SyntheticDataset3\n",
    "from spatial.models.monet_ae import MonetAutoencoder2D, TrivialAutoencoder, MonetDense\n",
    "from spatial.train import train\n",
    "from spatial.predict import test\n",
    "\n",
    "import warnings\n",
    "warnings.filterwarnings(\"ignore\")"
   ]
  },
  {
   "cell_type": "code",
   "execution_count": null,
   "id": "086b8857",
   "metadata": {},
   "outputs": [],
   "source": [
    "import hydra\n",
    "from hydra.experimental import compose, initialize\n",
    "\n",
    "test_loss_rad_dict = {}\n",
    "\n",
    "for rad in range(0,65,5):\n",
    "    with initialize(config_path=\"../../config\"):\n",
    "        cfg_from_terminal = compose(config_name=\"config\")\n",
    "        OmegaConf.update(cfg_from_terminal, \"model.kwargs.observables_dimension\", 71)\n",
    "        OmegaConf.update(cfg_from_terminal, \"model.kwargs.hidden_dimensions\", [128, 128, 128, 128, 128, 128])\n",
    "        OmegaConf.update(cfg_from_terminal, \"model.kwargs.output_dimension\", 84)\n",
    "        OmegaConf.update(cfg_from_terminal, \"optimizer.name\", \"Adam\")\n",
    "        OmegaConf.update(cfg_from_terminal, \"training.logger_name\", \"table2\")\n",
    "        OmegaConf.update(cfg_from_terminal, \"radius\", rad)\n",
    "        OmegaConf.update(cfg_from_terminal, \"gpus\", [1])\n",
    "        output = test(cfg_from_terminal)\n",
    "        trainer, l1_losses, inputs, gene_expressions, celltypes, test_results = output\n",
    "        test_loss_rad_dict[rad] = test_results[0]['test_loss']"
   ]
  },
  {
   "cell_type": "code",
   "execution_count": 5,
   "id": "c94b6a98",
   "metadata": {},
   "outputs": [
    {
     "data": {
      "text/plain": [
       "{0: 0.3588748872280121,\n",
       " 5: 0.3607430160045624,\n",
       " 10: 0.3593329191207886,\n",
       " 15: 0.3552498519420624,\n",
       " 20: 0.3512137532234192,\n",
       " 25: 0.3464793562889099,\n",
       " 30: 0.34612327814102173,\n",
       " 35: 0.344502717256546,\n",
       " 40: 0.3439866602420807,\n",
       " 45: 0.34136509895324707,\n",
       " 50: 0.3419921398162842,\n",
       " 55: 0.3422633111476898,\n",
       " 60: 0.3429867625236511}"
      ]
     },
     "execution_count": 5,
     "metadata": {},
     "output_type": "execute_result"
    }
   ],
   "source": [
    "test_loss_rad_dict"
   ]
  },
  {
   "cell_type": "code",
   "execution_count": null,
   "id": "b8a486f9",
   "metadata": {},
   "outputs": [],
   "source": [
    "import hydra\n",
    "from hydra.experimental import compose, initialize\n",
    "\n",
    "test_loss_rad_dict = {}\n",
    "\n",
    "for rad in range(0,65,5):\n",
    "    with initialize(config_path=\"../../config\"):\n",
    "        cfg_from_terminal = compose(config_name=\"config\")\n",
    "        OmegaConf.update(cfg_from_terminal, \"model.kwargs.observables_dimension\", 71)\n",
    "        OmegaConf.update(cfg_from_terminal, \"model.kwargs.hidden_dimensions\", [128, 128, 128])\n",
    "        OmegaConf.update(cfg_from_terminal, \"model.kwargs.output_dimension\", 84)\n",
    "        OmegaConf.update(cfg_from_terminal, \"optimizer.name\", \"Adam\")\n",
    "        OmegaConf.update(cfg_from_terminal, \"training.logger_name\", \"table2\")\n",
    "        OmegaConf.update(cfg_from_terminal, \"radius\", rad)\n",
    "        OmegaConf.update(cfg_from_terminal, \"gpus\", [1])\n",
    "        output = test(cfg_from_terminal)\n",
    "        trainer, l1_losses, inputs, gene_expressions, celltypes, test_results = output\n",
    "        test_loss_rad_dict[rad] = test_results[0]['test_loss']"
   ]
  },
  {
   "cell_type": "code",
   "execution_count": 7,
   "id": "b5ce47c1",
   "metadata": {},
   "outputs": [
    {
     "data": {
      "text/plain": [
       "{0: 0.3607679605484009,\n",
       " 5: 0.361431360244751,\n",
       " 10: 0.35861819982528687,\n",
       " 15: 0.3567284345626831,\n",
       " 20: 0.35149186849594116,\n",
       " 25: 0.3494611382484436,\n",
       " 30: 0.3479204475879669,\n",
       " 35: 0.3460465371608734,\n",
       " 40: 0.3463684916496277,\n",
       " 45: 0.34449049830436707,\n",
       " 50: 0.3450043499469757,\n",
       " 55: 0.3447670042514801,\n",
       " 60: 0.34389978647232056}"
      ]
     },
     "execution_count": 7,
     "metadata": {},
     "output_type": "execute_result"
    }
   ],
   "source": [
    "test_loss_rad_dict"
   ]
  },
  {
   "cell_type": "code",
   "execution_count": null,
   "id": "1324bb89",
   "metadata": {},
   "outputs": [],
   "source": []
  }
 ],
 "metadata": {
  "kernelspec": {
   "display_name": "Python 3 (ipykernel)",
   "language": "python",
   "name": "python3"
  },
  "language_info": {
   "codemirror_mode": {
    "name": "ipython",
    "version": 3
   },
   "file_extension": ".py",
   "mimetype": "text/x-python",
   "name": "python",
   "nbconvert_exporter": "python",
   "pygments_lexer": "ipython3",
   "version": "3.10.6"
  }
 },
 "nbformat": 4,
 "nbformat_minor": 5
}
