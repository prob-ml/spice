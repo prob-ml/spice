{
 "cells": [
  {
   "cell_type": "code",
   "execution_count": 8,
   "id": "2cdfc8cd-6c83-4b61-b4f0-554054ccfd25",
   "metadata": {},
   "outputs": [],
   "source": [
    "import os\n",
    "import torch\n",
    "import json\n",
    "\n",
    "os.environ[\"MKL_NUM_THREADS\"]=\"1\"\n",
    "os.environ[\"NUMEXPR_NUM_THREADS\"]=\"1\"\n",
    "os.environ[\"OMP_NUM_THREADS\"]=\"1\"\n",
    "os.environ[\"CUDA_VISIBLE_DEVICES\"] = \"5,6,7\"\n",
    "\n",
    "import sys\n",
    "\n",
    "import pytorch_lightning as pl\n",
    "from omegaconf import DictConfig, OmegaConf\n",
    "from pytorch_lightning.callbacks import ModelCheckpoint\n",
    "from pytorch_lightning.loggers import TensorBoardLogger\n",
    "from torch.utils.data import random_split\n",
    "from torch_geometric.data import DataLoader\n",
    "\n",
    "from spatial.merfish_dataset import FilteredMerfishDataset, MerfishDataset, SyntheticNonlinear, SyntheticDataset0, SyntheticDataset1, SyntheticDataset2, SyntheticDataset3\n",
    "from spatial.models.monet_ae import MonetAutoencoder2D, TrivialAutoencoder, MonetDense\n",
    "from spatial.train import train\n",
    "from spatial.predict import test\n",
    "\n",
    "import warnings\n",
    "warnings.filterwarnings(\"ignore\")"
   ]
  },
  {
   "cell_type": "code",
   "execution_count": 14,
   "id": "aadf59ed-6fec-43a4-aa39-fd0b6a59f250",
   "metadata": {},
   "outputs": [
    {
     "name": "stdout",
     "output_type": "stream",
     "text": [
      "MonetDense__[512, 512, 512, 512, 512, 512]__15__KFOLD_test__Adam\n"
     ]
    },
    {
     "name": "stderr",
     "output_type": "stream",
     "text": [
      "100%|██████████████████████████████████████████████████████████████████████████████████████████| 24/24 [00:20<00:00,  1.16it/s]\n",
      "GPU available: True (cuda), used: True\n",
      "TPU available: False, using: 0 TPU cores\n",
      "IPU available: False, using: 0 IPUs\n",
      "HPU available: False, using: 0 HPUs\n",
      "`Trainer(limit_train_batches=1.0)` was configured so 100% of the batches per epoch will be used..\n",
      "`Trainer(limit_val_batches=1.0)` was configured so 100% of the batches will be used..\n",
      "LOCAL_RANK: 0 - CUDA_VISIBLE_DEVICES: [5,6,7]\n"
     ]
    },
    {
     "data": {
      "application/vnd.jupyter.widget-view+json": {
       "model_id": "ff4bd9a13b0647229b27263ccebd2963",
       "version_major": 2,
       "version_minor": 0
      },
      "text/plain": [
       "Testing: |                                                                                               | 0/?…"
      ]
     },
     "metadata": {},
     "output_type": "display_data"
    },
    {
     "data": {
      "text/html": [
       "<pre style=\"white-space:pre;overflow-x:auto;line-height:normal;font-family:Menlo,'DejaVu Sans Mono',consolas,'Courier New',monospace\">┏━━━━━━━━━━━━━━━━━━━━━━━━━━━┳━━━━━━━━━━━━━━━━━━━━━━━━━━━┓\n",
       "┃<span style=\"font-weight: bold\">        Test metric        </span>┃<span style=\"font-weight: bold\">       DataLoader 0        </span>┃\n",
       "┡━━━━━━━━━━━━━━━━━━━━━━━━━━━╇━━━━━━━━━━━━━━━━━━━━━━━━━━━┩\n",
       "│<span style=\"color: #008080; text-decoration-color: #008080\">         test_loss         </span>│<span style=\"color: #800080; text-decoration-color: #800080\">    0.4102255403995514     </span>│\n",
       "│<span style=\"color: #008080; text-decoration-color: #008080\">       test_loss_mse       </span>│<span style=\"color: #800080; text-decoration-color: #800080\">    0.4102255403995514     </span>│\n",
       "└───────────────────────────┴───────────────────────────┘\n",
       "</pre>\n"
      ],
      "text/plain": [
       "┏━━━━━━━━━━━━━━━━━━━━━━━━━━━┳━━━━━━━━━━━━━━━━━━━━━━━━━━━┓\n",
       "┃\u001b[1m \u001b[0m\u001b[1m       Test metric       \u001b[0m\u001b[1m \u001b[0m┃\u001b[1m \u001b[0m\u001b[1m      DataLoader 0       \u001b[0m\u001b[1m \u001b[0m┃\n",
       "┡━━━━━━━━━━━━━━━━━━━━━━━━━━━╇━━━━━━━━━━━━━━━━━━━━━━━━━━━┩\n",
       "│\u001b[36m \u001b[0m\u001b[36m        test_loss        \u001b[0m\u001b[36m \u001b[0m│\u001b[35m \u001b[0m\u001b[35m   0.4102255403995514    \u001b[0m\u001b[35m \u001b[0m│\n",
       "│\u001b[36m \u001b[0m\u001b[36m      test_loss_mse      \u001b[0m\u001b[36m \u001b[0m│\u001b[35m \u001b[0m\u001b[35m   0.4102255403995514    \u001b[0m\u001b[35m \u001b[0m│\n",
       "└───────────────────────────┴───────────────────────────┘\n"
      ]
     },
     "metadata": {},
     "output_type": "display_data"
    },
    {
     "name": "stderr",
     "output_type": "stream",
     "text": [
      "TEST Profiler Report\n",
      "\n",
      "--------------------------------------------------------------------------------------------------------------------------------------------------------------------------------------------------------------------------------------------------------------------------\n",
      "|  Action                                                                                                                                                         \t|  Mean duration (s)\t|  Num calls      \t|  Total time (s) \t|  Percentage %   \t|\n",
      "--------------------------------------------------------------------------------------------------------------------------------------------------------------------------------------------------------------------------------------------------------------------------\n",
      "|  Total                                                                                                                                                          \t|  -              \t|  366            \t|  23.182         \t|  100 %          \t|\n",
      "--------------------------------------------------------------------------------------------------------------------------------------------------------------------------------------------------------------------------------------------------------------------------\n",
      "|  [Strategy]SingleDeviceStrategy.test_step                                                                                                                       \t|  0.74325        \t|  24             \t|  17.838         \t|  76.948         \t|\n",
      "|  [_EvaluationLoop].test_next                                                                                                                                    \t|  0.082722       \t|  24             \t|  1.9853         \t|  8.5642         \t|\n",
      "|  [Callback]TQDMProgressBar.on_test_batch_end                                                                                                                    \t|  0.030592       \t|  24             \t|  0.73421        \t|  3.1672         \t|\n",
      "|  [Strategy]SingleDeviceStrategy.batch_to_device                                                                                                                 \t|  0.023309       \t|  24             \t|  0.5594         \t|  2.4131         \t|\n",
      "|  [LightningModule]MonetDense.transfer_batch_to_device                                                                                                           \t|  0.023148       \t|  24             \t|  0.55556        \t|  2.3965         \t|\n",
      "|  [Callback]TQDMProgressBar.on_test_start                                                                                                                        \t|  0.036395       \t|  1              \t|  0.036395       \t|  0.157          \t|\n",
      "|  [Callback]TQDMProgressBar.on_test_batch_start                                                                                                                  \t|  7.9876e-05     \t|  24             \t|  0.001917       \t|  0.0082695      \t|\n",
      "|  [LightningModule]MonetDense.on_test_model_eval                                                                                                                 \t|  0.0010865      \t|  1              \t|  0.0010865      \t|  0.0046868      \t|\n",
      "|  [Callback]TQDMProgressBar.on_test_end                                                                                                                          \t|  0.0010606      \t|  1              \t|  0.0010606      \t|  0.0045751      \t|\n",
      "|  [LightningModule]MonetDense.on_test_model_train                                                                                                                \t|  0.00049306     \t|  1              \t|  0.00049306     \t|  0.0021269      \t|\n",
      "|  [Callback]ModelSummary.on_test_batch_end                                                                                                                       \t|  1.7347e-05     \t|  24             \t|  0.00041634     \t|  0.001796       \t|\n",
      "|  [LightningModule]MonetDense.on_before_batch_transfer                                                                                                           \t|  7.6828e-06     \t|  24             \t|  0.00018439     \t|  0.00079539     \t|\n",
      "|  [LightningModule]MonetDense.on_after_batch_transfer                                                                                                            \t|  6.8858e-06     \t|  24             \t|  0.00016526     \t|  0.00071288     \t|\n",
      "|  [LightningModule]MonetDense.on_test_batch_end                                                                                                                  \t|  5.8059e-06     \t|  24             \t|  0.00013934     \t|  0.00060108     \t|\n",
      "|  [Callback]ModelSummary.on_test_batch_start                                                                                                                     \t|  4.8476e-06     \t|  24             \t|  0.00011634     \t|  0.00050187     \t|\n",
      "|  [Callback]ModelCheckpoint{'monitor': 'val_loss', 'mode': 'min', 'every_n_train_steps': 0, 'every_n_epochs': 1, 'train_time_interval': None}.on_test_batch_end  \t|  4.8039e-06     \t|  24             \t|  0.00011529     \t|  0.00049735     \t|\n",
      "|  [Callback]ModelCheckpoint{'monitor': 'val_loss', 'mode': 'min', 'every_n_train_steps': 0, 'every_n_epochs': 1, 'train_time_interval': None}.on_test_batch_start\t|  3.8792e-06     \t|  24             \t|  9.31e-05       \t|  0.00040161     \t|\n",
      "|  [Callback]ModelCheckpoint{'monitor': 'val_loss', 'mode': 'min', 'every_n_train_steps': 0, 'every_n_epochs': 1, 'train_time_interval': None}.setup              \t|  8.2373e-05     \t|  1              \t|  8.2373e-05     \t|  0.00035533     \t|\n",
      "|  [LightningModule]MonetDense.on_test_batch_start                                                                                                                \t|  2.9838e-06     \t|  24             \t|  7.1612e-05     \t|  0.00030891     \t|\n",
      "|  [Callback]ModelSummary.on_test_start                                                                                                                           \t|  1.8921e-05     \t|  1              \t|  1.8921e-05     \t|  8.162e-05      \t|\n",
      "|  [LightningModule]MonetDense.on_test_epoch_end                                                                                                                  \t|  1.0643e-05     \t|  1              \t|  1.0643e-05     \t|  4.5911e-05     \t|\n",
      "|  [Strategy]SingleDeviceStrategy.on_test_start                                                                                                                   \t|  9.0851e-06     \t|  1              \t|  9.0851e-06     \t|  3.919e-05      \t|\n",
      "|  [Callback]TQDMProgressBar.on_test_epoch_end                                                                                                                    \t|  7.34e-06       \t|  1              \t|  7.34e-06       \t|  3.1663e-05     \t|\n",
      "|  [Callback]ModelSummary.on_test_end                                                                                                                             \t|  7.1491e-06     \t|  1              \t|  7.1491e-06     \t|  3.0839e-05     \t|\n",
      "|  [Strategy]SingleDeviceStrategy.on_test_end                                                                                                                     \t|  7.089e-06      \t|  1              \t|  7.089e-06      \t|  3.058e-05      \t|\n",
      "|  [Callback]TQDMProgressBar.setup                                                                                                                                \t|  6.704e-06      \t|  1              \t|  6.704e-06      \t|  2.8919e-05     \t|\n",
      "|  [Callback]TQDMProgressBar.teardown                                                                                                                             \t|  5.557e-06      \t|  1              \t|  5.557e-06      \t|  2.3971e-05     \t|\n",
      "|  [Callback]ModelCheckpoint{'monitor': 'val_loss', 'mode': 'min', 'every_n_train_steps': 0, 'every_n_epochs': 1, 'train_time_interval': None}.on_test_end        \t|  4.368e-06      \t|  1              \t|  4.368e-06      \t|  1.8842e-05     \t|\n",
      "|  [Callback]ModelSummary.on_test_epoch_end                                                                                                                       \t|  4.111e-06      \t|  1              \t|  4.111e-06      \t|  1.7734e-05     \t|\n",
      "|  [Callback]ModelCheckpoint{'monitor': 'val_loss', 'mode': 'min', 'every_n_train_steps': 0, 'every_n_epochs': 1, 'train_time_interval': None}.on_test_epoch_end  \t|  3.958e-06      \t|  1              \t|  3.958e-06      \t|  1.7074e-05     \t|\n",
      "|  [Callback]TQDMProgressBar.on_test_epoch_start                                                                                                                  \t|  3.944e-06      \t|  1              \t|  3.944e-06      \t|  1.7013e-05     \t|\n",
      "|  [Callback]ModelCheckpoint{'monitor': 'val_loss', 'mode': 'min', 'every_n_train_steps': 0, 'every_n_epochs': 1, 'train_time_interval': None}.on_test_start      \t|  3.838e-06      \t|  1              \t|  3.838e-06      \t|  1.6556e-05     \t|\n",
      "|  [LightningModule]MonetDense.on_test_start                                                                                                                      \t|  3.4251e-06     \t|  1              \t|  3.4251e-06     \t|  1.4775e-05     \t|\n",
      "|  [LightningModule]MonetDense.on_test_end                                                                                                                        \t|  3.21e-06       \t|  1              \t|  3.21e-06       \t|  1.3847e-05     \t|\n",
      "|  [LightningModule]MonetDense.configure_callbacks                                                                                                                \t|  3.053e-06      \t|  1              \t|  3.053e-06      \t|  1.317e-05      \t|\n",
      "|  [Callback]ModelCheckpoint{'monitor': 'val_loss', 'mode': 'min', 'every_n_train_steps': 0, 'every_n_epochs': 1, 'train_time_interval': None}.on_test_epoch_start\t|  2.878e-06      \t|  1              \t|  2.878e-06      \t|  1.2415e-05     \t|\n",
      "|  [LightningModule]MonetDense.on_test_epoch_start                                                                                                                \t|  2.7249e-06     \t|  1              \t|  2.7249e-06     \t|  1.1755e-05     \t|\n",
      "|  [Callback]ModelSummary.on_test_epoch_start                                                                                                                     \t|  2.615e-06      \t|  1              \t|  2.615e-06      \t|  1.1281e-05     \t|\n",
      "|  [Callback]ModelSummary.setup                                                                                                                                   \t|  2.5401e-06     \t|  1              \t|  2.5401e-06     \t|  1.0957e-05     \t|\n",
      "|  [LightningModule]MonetDense.setup                                                                                                                              \t|  2.536e-06      \t|  1              \t|  2.536e-06      \t|  1.094e-05      \t|\n",
      "|  [LightningModule]MonetDense.teardown                                                                                                                           \t|  1.8841e-06     \t|  1              \t|  1.8841e-06     \t|  8.1273e-06     \t|\n",
      "|  [Callback]ModelSummary.teardown                                                                                                                                \t|  1.734e-06      \t|  1              \t|  1.734e-06      \t|  7.48e-06       \t|\n",
      "|  [Callback]ModelCheckpoint{'monitor': 'val_loss', 'mode': 'min', 'every_n_train_steps': 0, 'every_n_epochs': 1, 'train_time_interval': None}.teardown           \t|  1.7181e-06     \t|  1              \t|  1.7181e-06     \t|  7.4112e-06     \t|\n",
      "|  [LightningModule]MonetDense.prepare_data                                                                                                                       \t|  1.5569e-06     \t|  1              \t|  1.5569e-06     \t|  6.7162e-06     \t|\n",
      "--------------------------------------------------------------------------------------------------------------------------------------------------------------------------------------------------------------------------------------------------------------------------\n",
      "\n"
     ]
    }
   ],
   "source": [
    "import hydra\n",
    "from hydra.experimental import compose, initialize\n",
    "\n",
    "test_loss_rad_dict = {}\n",
    "\n",
    "for rad in [15]:\n",
    "    with initialize(config_path=\"../config\"):\n",
    "        cfg_from_terminal = compose(config_name=\"config\")\n",
    "        OmegaConf.update(cfg_from_terminal, \"model.kwargs.observables_dimension\", 71)\n",
    "        OmegaConf.update(cfg_from_terminal, \"model.kwargs.hidden_dimensions\", [512, 512, 512, 512, 512, 512])\n",
    "        OmegaConf.update(cfg_from_terminal, \"model.kwargs.output_dimension\", 84)\n",
    "        OmegaConf.update(cfg_from_terminal, \"optimizer.name\", \"Adam\")\n",
    "        OmegaConf.update(cfg_from_terminal, \"training.logger_name\", \"KFOLD_test\")\n",
    "        OmegaConf.update(cfg_from_terminal, \"datasets.dataset.include_celltypes\", False)\n",
    "        OmegaConf.update(cfg_from_terminal, \"model.kwargs.include_skip_connections\", True)\n",
    "        OmegaConf.update(cfg_from_terminal, \"radius\", rad)\n",
    "        OmegaConf.update(cfg_from_terminal, \"training.trainer.strategy\", \"auto\")\n",
    "        # OmegaConf.update(cfg_from_terminal, \"gpus\", [2])\n",
    "        OmegaConf.update(cfg_from_terminal, \"training.filepath\", cfg_from_terminal.training.filepath)\n",
    "        print(cfg_from_terminal.training.filepath)\n",
    "        output = test(cfg_from_terminal)\n",
    "        trainer, l1_losses, inputs, gene_expressions, celltypes, test_results = output\n",
    "        test_loss_rad_dict[rad] = test_results[0]['test_loss']"
   ]
  },
  {
   "cell_type": "code",
   "execution_count": null,
   "id": "95659a6f-b99b-448e-b9f0-8e89b78ec3ad",
   "metadata": {},
   "outputs": [],
   "source": []
  }
 ],
 "metadata": {
  "kernelspec": {
   "display_name": "Python 3 (ipykernel)",
   "language": "python",
   "name": "python3"
  },
  "language_info": {
   "codemirror_mode": {
    "name": "ipython",
    "version": 3
   },
   "file_extension": ".py",
   "mimetype": "text/x-python",
   "name": "python",
   "nbconvert_exporter": "python",
   "pygments_lexer": "ipython3",
   "version": "3.10.12"
  }
 },
 "nbformat": 4,
 "nbformat_minor": 5
}
