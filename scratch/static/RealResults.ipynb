{
 "cells": [
  {
   "cell_type": "code",
   "execution_count": 1,
   "id": "7f77c044-b257-4fc9-b5e0-1b72d06b4360",
   "metadata": {},
   "outputs": [],
   "source": [
    "import os\n",
    "import torch\n",
    "import json\n",
    "import requests\n",
    "import h5py\n",
    "import numpy as np\n",
    "import pandas as pd\n",
    "import seaborn as sns\n",
    "import matplotlib.pyplot as plt\n",
    "\n",
    "os.environ[\"MKL_NUM_THREADS\"]=\"1\"\n",
    "os.environ[\"NUMEXPR_NUM_THREADS\"]=\"1\"\n",
    "os.environ[\"OMP_NUM_THREADS\"]=\"1\"\n",
    "# os.environ[\"CUDA_VISIBLE_DEVICES\"] = \"4,5,6\"\n",
    "\n",
    "import sys\n",
    "\n",
    "import pytorch_lightning as pl\n",
    "from omegaconf import DictConfig, OmegaConf\n",
    "from pytorch_lightning.callbacks import ModelCheckpoint\n",
    "from pytorch_lightning.loggers import TensorBoardLogger\n",
    "from torch.utils.data import random_split\n",
    "from torch_geometric.data import DataLoader\n",
    "\n",
    "from spatial.merfish_dataset import FilteredMerfishDataset, MerfishDataset, SyntheticNonlinear, SyntheticDataset0, SyntheticDataset1, SyntheticDataset2, SyntheticDataset3\n",
    "from spatial.models.monet_ae import MonetAutoencoder2D, TrivialAutoencoder, MonetDense\n",
    "from spatial.train import train\n",
    "from spatial.predict import test\n",
    "\n",
    "import hydra\n",
    "from hydra.experimental import compose, initialize\n",
    "\n",
    "import warnings\n",
    "warnings.filterwarnings(\"ignore\")"
   ]
  },
  {
   "cell_type": "code",
   "execution_count": 2,
   "id": "8f70f617-8822-436f-ad5e-97784a373bdb",
   "metadata": {},
   "outputs": [],
   "source": [
    "response_indexes = [0,2,3,4,5,6,7,10,19,20,21,22,23,24,25,26,27,28,32,34,35,37,38,39,40,41,42,43,44,52,53,54,55,58,63,64,66,67,69,71,73,74,75,76,77,78,79,80,85,86,87,88,93,94,96,97,99,102,103,104,106,110,112,113,114,116,118,119,120,121,122,123,124,125,126,129,130,131,133,134,141,142,147,151]"
   ]
  },
  {
   "cell_type": "code",
   "execution_count": 5,
   "id": "369c8803-c4a6-42cc-b3bf-ad5db5324933",
   "metadata": {},
   "outputs": [
    {
     "name": "stdout",
     "output_type": "stream",
     "text": [
      "MonetDense__[512, 512, 512, 512, 512, 512]__0__table2_FULL_no_celltypes__Adam\n"
     ]
    },
    {
     "name": "stderr",
     "output_type": "stream",
     "text": [
      "100%|███████████████████████████████████████████████████████████████████████████████████████████████████████████| 24/24 [00:21<00:00,  1.11it/s]\n",
      "Lightning automatically upgraded your loaded checkpoint from v1.8.6 to v2.1.2. To apply the upgrade to your files permanently, run `python -m pytorch_lightning.utilities.upgrade_checkpoint ../../output/lightning_logs/checkpoints/MonetDense/MonetDense__[512, 512, 512, 512, 512, 512]__0__table2_FULL_no_celltypes__Adam.ckpt`\n"
     ]
    },
    {
     "name": "stdout",
     "output_type": "stream",
     "text": [
      "MonetDense__[256, 256, 256, 256, 256, 256]__0__table2_FULL_no_celltypes__Adam\n"
     ]
    },
    {
     "name": "stderr",
     "output_type": "stream",
     "text": [
      "100%|███████████████████████████████████████████████████████████████████████████████████████████████████████████| 24/24 [00:22<00:00,  1.07it/s]\n",
      "Lightning automatically upgraded your loaded checkpoint from v1.8.6 to v2.1.2. To apply the upgrade to your files permanently, run `python -m pytorch_lightning.utilities.upgrade_checkpoint ../../output/lightning_logs/checkpoints/MonetDense/MonetDense__[256, 256, 256, 256, 256, 256]__0__table2_FULL_no_celltypes__Adam.ckpt`\n"
     ]
    },
    {
     "name": "stdout",
     "output_type": "stream",
     "text": [
      "Model with radius of 0 micrometers doesn't exist :(\n",
      "MonetDense__[512, 512, 512, 512, 512, 512]__25__table2_FULL_no_celltypes__Adam\n"
     ]
    },
    {
     "name": "stderr",
     "output_type": "stream",
     "text": [
      "100%|███████████████████████████████████████████████████████████████████████████████████████████████████████████| 24/24 [00:21<00:00,  1.13it/s]\n",
      "Lightning automatically upgraded your loaded checkpoint from v1.8.6 to v2.1.2. To apply the upgrade to your files permanently, run `python -m pytorch_lightning.utilities.upgrade_checkpoint ../../output/lightning_logs/checkpoints/MonetDense/MonetDense__[512, 512, 512, 512, 512, 512]__25__table2_FULL_no_celltypes__Adam.ckpt`\n"
     ]
    },
    {
     "name": "stdout",
     "output_type": "stream",
     "text": [
      "MonetDense__[256, 256, 256, 256, 256, 256]__25__table2_FULL_no_celltypes__Adam\n"
     ]
    },
    {
     "name": "stderr",
     "output_type": "stream",
     "text": [
      "100%|███████████████████████████████████████████████████████████████████████████████████████████████████████████| 24/24 [00:22<00:00,  1.06it/s]\n",
      "Lightning automatically upgraded your loaded checkpoint from v1.8.6 to v2.1.2. To apply the upgrade to your files permanently, run `python -m pytorch_lightning.utilities.upgrade_checkpoint ../../output/lightning_logs/checkpoints/MonetDense/MonetDense__[256, 256, 256, 256, 256, 256]__25__table2_FULL_no_celltypes__Adam.ckpt`\n"
     ]
    },
    {
     "name": "stdout",
     "output_type": "stream",
     "text": [
      "Model with radius of 25 micrometers doesn't exist :(\n"
     ]
    }
   ],
   "source": [
    "import hydra\n",
    "from hydra.experimental import compose, initialize\n",
    "\n",
    "test_loss_rad_dict = {}\n",
    "r2_loss_rad_dict = {}\n",
    "\n",
    "for rad in [0,25]:\n",
    "    with initialize(config_path=\"../../config\"):\n",
    "        try:\n",
    "            cfg_from_terminal = compose(config_name=\"config\")\n",
    "            OmegaConf.update(cfg_from_terminal, \"model.kwargs.observables_dimension\", 71)\n",
    "            OmegaConf.update(cfg_from_terminal, \"model.kwargs.hidden_dimensions\", [512, 512, 512, 512, 512, 512])\n",
    "            OmegaConf.update(cfg_from_terminal, \"model.kwargs.output_dimension\", 84)\n",
    "            OmegaConf.update(cfg_from_terminal, \"optimizer.name\", \"Adam\")\n",
    "            OmegaConf.update(cfg_from_terminal, \"training.logger_name\", \"table2_FULL_no_celltypes\")\n",
    "            OmegaConf.update(cfg_from_terminal, \"training.trainer.strategy\", \"auto\")\n",
    "            OmegaConf.update(cfg_from_terminal, \"datasets.dataset.include_celltypes\", False)\n",
    "            OmegaConf.update(cfg_from_terminal, \"model.kwargs.include_skip_connections\", True)\n",
    "            OmegaConf.update(cfg_from_terminal, \"radius\", rad)\n",
    "            OmegaConf.update(cfg_from_terminal, \"gpus\", [2])\n",
    "            print(cfg_from_terminal.training.filepath)\n",
    "            output = test(cfg_from_terminal)\n",
    "            trainer, l1_losses, inputs, gene_expressions, celltypes, test_results = output\n",
    "            test_loss_rad_dict[rad] = test_results[0]['test_loss']\n",
    "            r2_loss_rad_dict[rad] = np.corrcoef(inputs[: response_indexes], gene_expressions) ** 2\n",
    "        except:\n",
    "            try:\n",
    "                OmegaConf.update(cfg_from_terminal, \"model.kwargs.hidden_dimensions\", [256, 256, 256, 256, 256, 256])\n",
    "                print(cfg_from_terminal.training.filepath)\n",
    "                output = test(cfg_from_terminal)\n",
    "                trainer, l1_losses, inputs, gene_expressions, celltypes, test_results = output\n",
    "                test_loss_rad_dict[rad] = test_results[0]['test_loss']\n",
    "                r2_loss_rad_dict[rad] = np.corrcoef(inputs[: response_indexes], gene_expressions) ** 2\n",
    "            except:\n",
    "                print(f\"Model with radius of {rad} micrometers doesn't exist :(\")"
   ]
  },
  {
   "cell_type": "code",
   "execution_count": null,
   "id": "6104e1f6-12b6-4002-b13c-6f22a8270b75",
   "metadata": {},
   "outputs": [],
   "source": []
  }
 ],
 "metadata": {
  "kernelspec": {
   "display_name": "Python 3 (ipykernel)",
   "language": "python",
   "name": "python3"
  },
  "language_info": {
   "codemirror_mode": {
    "name": "ipython",
    "version": 3
   },
   "file_extension": ".py",
   "mimetype": "text/x-python",
   "name": "python",
   "nbconvert_exporter": "python",
   "pygments_lexer": "ipython3",
   "version": "3.10.12"
  }
 },
 "nbformat": 4,
 "nbformat_minor": 5
}
