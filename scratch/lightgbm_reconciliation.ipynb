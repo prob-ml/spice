{
 "cells": [
  {
   "cell_type": "code",
   "execution_count": 1,
   "id": "364eebea",
   "metadata": {},
   "outputs": [],
   "source": [
    "import os\n",
    "os.environ['CUDA_VISIBLE_DEVICES']=\"4\"\n",
    "os.environ['OMP_NUM_THREADS']=\"4\"\n",
    "os.environ['NUMBA_NUM_THREADS']=\"4\"\n",
    "os.environ['MKL_NUM_THREADS']=\"4\""
   ]
  },
  {
   "cell_type": "code",
   "execution_count": 2,
   "id": "f3da7530",
   "metadata": {},
   "outputs": [],
   "source": [
    "%load_ext autoreload\n",
    "%autoreload 2 \n",
    "import pandas as pd; import anndata; import numpy as np; import gzip; import io; import h5py\n",
    "import collections; import matplotlib.pyplot as plt; import time; import sys; import tqdm.notebook\n",
    "import pickle; import scipy as sp; import scipy.sparse; import scipy.stats; rng=np.random.default_rng()\n",
    "import PIL; PIL.Image.MAX_IMAGE_PIXELS = None; import matplotlib\n",
    "%matplotlib inline\n",
    "plt.rcParams.update({\n",
    "    \"figure.facecolor\":  (1.0, 1.0, 1.0, 1.0),\n",
    "    \"axes.facecolor\":    (1.0, 1.0, 1.0, 1.0),\n",
    "    \"savefig.facecolor\": (1.0, 1.0, 1.0, 1.0),\n",
    "    \"text.usetex\": True,\n",
    "})\n",
    "%config InlineBackend.print_figure_kwargs = {'bbox_inches':None}"
   ]
  },
  {
   "cell_type": "code",
   "execution_count": 3,
   "id": "3579a67b",
   "metadata": {},
   "outputs": [],
   "source": [
    "import sklearn.neighbors\n",
    "import sklearn.ensemble\n",
    "import torch_geometric\n",
    "import pytorch_lightning as pl\n",
    "import torch\n",
    "import os\n",
    "import shutil"
   ]
  },
  {
   "cell_type": "markdown",
   "id": "9d7034b2",
   "metadata": {},
   "source": [
    "# load"
   ]
  },
  {
   "cell_type": "code",
   "execution_count": 4,
   "id": "7e8a4e78",
   "metadata": {},
   "outputs": [],
   "source": [
    "def process(fn):\n",
    "    with h5py.File(fn,'r') as f:\n",
    "        dct={}\n",
    "        for x in ['Animal_ID', 'Animal_sex', 'Behavior', 'Bregma', 'Cell_ID', 'Cell_class', \n",
    "                  'Centroid_X', 'Centroid_Y', 'Neuron_cluster_ID']:\n",
    "            dct[x]=f[x][:]\n",
    "            if dct[x].dtype.kind=='S':\n",
    "                dct[x]=dct[x].astype(\"U\")\n",
    "        for x in ['Animal_ID', 'Animal_sex', 'Behavior', 'Bregma', 'Cell_class', 'Neuron_cluster_ID']:\n",
    "            dct[x]=pd.Categorical(dct[x])\n",
    "        X=f['expression'][:]\n",
    "        var=pd.DataFrame(index=f['gene_names'][:].astype('U'))\n",
    "    ad=anndata.AnnData(X=X,var=var,obs=pd.DataFrame(data=dct))\n",
    "    ad.obs['tissue_id']=pd.Categorical(ad.obs.Animal_ID.astype(str).str.cat(ad.obs.Bregma.astype(str),sep='_'))\n",
    "   \n",
    "    dct=collections.defaultdict(list)\n",
    "    for x in ad.obs.tissue_id.cat.categories:\n",
    "        idx=np.where(ad.obs.tissue_id==x)[0][0]\n",
    "        for nm in ['Animal_ID','Animal_sex','Behavior','Bregma']:\n",
    "            dct[nm].append(ad.obs.iloc[idx][nm])\n",
    "        dct['tissue_id'].append(x)\n",
    "    df=pd.DataFrame(dct,index=dct['tissue_id'])\n",
    "    df['split']=np.where(df['Animal_ID'].values>30,'test','train')\n",
    "    ad.uns['tissueinfo']=df\n",
    "\n",
    "    return ad"
   ]
  },
  {
   "cell_type": "code",
   "execution_count": 5,
   "id": "1c564ab8",
   "metadata": {},
   "outputs": [
    {
     "name": "stderr",
     "output_type": "stream",
     "text": [
      "/tmp/ipykernel_947989/3917128869.py:13: FutureWarning: X.dtype being converted to np.float32 from float64. In the next version of anndata (0.9) conversion will not be automatic. Pass dtype explicitly to avoid this warning. Pass `AnnData(X, dtype=X.dtype, ...)` to get the future behavour.\n",
      "  ad=anndata.AnnData(X=X,var=var,obs=pd.DataFrame(data=dct))\n",
      "/home/roko/.cache/pypoetry/virtualenvs/spatial-G_n0JvVf-py3.10/lib/python3.10/site-packages/anndata/_core/anndata.py:121: ImplicitModificationWarning: Transforming to str index.\n",
      "  warnings.warn(\"Transforming to str index.\", ImplicitModificationWarning)\n"
     ]
    }
   ],
   "source": [
    "basefn='/data/spatial/deepst_synthetic/'\n",
    "ad=process(basefn+\"synth0.hdf5\")"
   ]
  },
  {
   "cell_type": "raw",
   "id": "199258d1",
   "metadata": {},
   "source": [
    "with h5py.File(\"/data/spatial/deepst_synthetic/synth0.hdf5\",'r') as h5f:\n",
    "    expression=h5f[\"expression\"][:]\n",
    "    print(type(expression[0,0]))"
   ]
  },
  {
   "cell_type": "markdown",
   "id": "86ba7bfb",
   "metadata": {},
   "source": [
    "# construct edges"
   ]
  },
  {
   "cell_type": "code",
   "execution_count": 6,
   "id": "22a59fc9",
   "metadata": {},
   "outputs": [
    {
     "data": {
      "application/vnd.jupyter.widget-view+json": {
       "model_id": "5031779cc89d43e8a632abe138d7d0a9",
       "version_major": 2,
       "version_minor": 0
      },
      "text/plain": [
       "  0%|          | 0/181 [00:00<?, ?it/s]"
      ]
     },
     "metadata": {},
     "output_type": "display_data"
    }
   ],
   "source": [
    "radius=30\n",
    "loc=ad.obs[['Centroid_X','Centroid_Y']].values\n",
    "rows=[]\n",
    "cols=[]\n",
    "for nm in tqdm.notebook.tqdm(ad.obs.tissue_id.cat.categories):\n",
    "    indicator=ad.obs.tissue_id==nm\n",
    "    adjacency=sklearn.neighbors.radius_neighbors_graph(loc[indicator],radius).tocoo()\n",
    "    rows.extend(np.where(indicator)[0][adjacency.row])\n",
    "    cols.extend(np.where(indicator)[0][adjacency.col])\n",
    "adjacency=sp.sparse.coo_matrix((np.ones(len(rows)),(rows,cols)),shape=(len(ad),len(ad))).tocsr()"
   ]
  },
  {
   "cell_type": "code",
   "execution_count": 7,
   "id": "34b44b5c",
   "metadata": {},
   "outputs": [
    {
     "name": "stdout",
     "output_type": "stream",
     "text": [
      "MSE 1.1481997792842072e-15\n"
     ]
    }
   ],
   "source": [
    "X1sum=(adjacency@ad.X[:,1]+ad.X[:,1])\n",
    "X0=ad.X[:,0]\n",
    "\n",
    "print(\"MSE\",np.mean((np.where(X1sum>1,X1sum,0)-X0)**2))"
   ]
  },
  {
   "cell_type": "code",
   "execution_count": 8,
   "id": "3540978c",
   "metadata": {},
   "outputs": [
    {
     "data": {
      "text/plain": [
       "Text(0, 0.5, 'What X0 actually is')"
      ]
     },
     "execution_count": 8,
     "metadata": {},
     "output_type": "execute_result"
    },
    {
     "data": {
      "image/png": "[encoded data removed]",
      "text/plain": [
       "<Figure size 640x480 with 1 Axes>"
      ]
     },
     "metadata": {},
     "output_type": "display_data"
    }
   ],
   "source": [
    "plt.scatter(np.where(X1sum>1,X1sum,0),X0)\n",
    "plt.xlabel(\"What formula says X0 should be\")\n",
    "plt.ylabel(\"What X0 actually is\")"
   ]
  },
  {
   "cell_type": "code",
   "execution_count": 9,
   "id": "d3eb01af",
   "metadata": {},
   "outputs": [
    {
     "data": {
      "text/plain": [
       "(array([3.53210e+04, 2.18765e+05, 3.75109e+05, 2.65193e+05, 1.00511e+05,\n",
       "        2.63880e+04, 5.53200e+03, 8.97000e+02, 1.23000e+02, 9.00000e+00]),\n",
       " array([ 0. ,  1.9,  3.8,  5.7,  7.6,  9.5, 11.4, 13.3, 15.2, 17.1, 19. ]),\n",
       " <BarContainer object of 10 artists>)"
      ]
     },
     "execution_count": 9,
     "metadata": {},
     "output_type": "execute_result"
    },
    {
     "data": {
      "image/png": "[encoded data removed]",
      "text/plain": [
       "<Figure size 640x480 with 1 Axes>"
      ]
     },
     "metadata": {},
     "output_type": "display_data"
    }
   ],
   "source": [
    "plt.hist(np.array(np.sum(adjacency,axis=0)).ravel())"
   ]
  },
  {
   "cell_type": "markdown",
   "id": "75b183f2",
   "metadata": {},
   "source": [
    "# construct nefarious edges"
   ]
  },
  {
   "cell_type": "code",
   "execution_count": 10,
   "id": "ce46ee24",
   "metadata": {},
   "outputs": [
    {
     "data": {
      "application/vnd.jupyter.widget-view+json": {
       "model_id": "c2ca05f78da04289908d7ecc1bd84867",
       "version_major": 2,
       "version_minor": 0
      },
      "text/plain": [
       "  0%|          | 0/181 [00:00<?, ?it/s]"
      ]
     },
     "metadata": {},
     "output_type": "display_data"
    }
   ],
   "source": [
    "nefarious_radius=10 # can set this to something besides 30 to stress-test the network\n",
    "loc=ad.obs[['Centroid_X','Centroid_Y']].values\n",
    "rows=[]\n",
    "cols=[]\n",
    "for nm in tqdm.notebook.tqdm(ad.obs.tissue_id.cat.categories):\n",
    "    indicator=ad.obs.tissue_id==nm\n",
    "    adjacency=sklearn.neighbors.radius_neighbors_graph(loc[indicator],nefarious_radius).tocoo()\n",
    "    rows.extend(np.where(indicator)[0][adjacency.row])\n",
    "    cols.extend(np.where(indicator)[0][adjacency.col])\n",
    "nefarious_adjacency=sp.sparse.coo_matrix((np.ones(len(rows)),(rows,cols)),shape=(len(ad),len(ad))).tocsr()"
   ]
  },
  {
   "cell_type": "markdown",
   "id": "e4145ad5",
   "metadata": {},
   "source": [
    "# formulate dataset for use with pytorch geometric"
   ]
  },
  {
   "cell_type": "code",
   "execution_count": 11,
   "id": "7c76b71a",
   "metadata": {},
   "outputs": [
    {
     "data": {
      "application/vnd.jupyter.widget-view+json": {
       "model_id": "897ee3e0bdd74f988b61ea9a01459536",
       "version_major": 2,
       "version_minor": 0
      },
      "text/plain": [
       "  0%|          | 0/181 [00:00<?, ?it/s]"
      ]
     },
     "metadata": {},
     "output_type": "display_data"
    }
   ],
   "source": [
    "def calc_pseudo(edge_index, pos):\n",
    "    coord1 = pos[edge_index[0]]\n",
    "    coord2 = pos[edge_index[1]]\n",
    "    edge_dir = coord2 - coord1\n",
    "    rho = torch.sqrt(edge_dir[:, 0] ** 2 + edge_dir[:, 1] ** 2).unsqueeze(-1)\n",
    "    return rho\n",
    "\n",
    "X=ad.X[:,1:].astype(np.float32)\n",
    "Y=ad.X[:,[0]].astype(np.float32)\n",
    "loc=ad.obs[['Centroid_X','Centroid_Y']].values\n",
    "\n",
    "datalist_train=[]\n",
    "datalist_test=[]\n",
    "for tid in tqdm.notebook.tqdm(ad.obs.tissue_id.cat.categories):\n",
    "    indicator=ad.obs.tissue_id==tid\n",
    "    subadj=nefarious_adjacency[indicator][:,indicator].tocoo()\n",
    "    subpos= torch.tensor(loc[indicator].astype(np.float32))\n",
    "    ei=torch.tensor(np.stack([subadj.row,subadj.col]).astype(int))\n",
    "    pseudo=calc_pseudo(ei,subpos)/nefarious_radius # number between 0 and 1\n",
    "    batch=torch_geometric.data.Data(\n",
    "        x=torch.tensor(np.log1p(X[indicator])), # log transform performed here\n",
    "        y=torch.tensor(np.log1p(Y[indicator])),\n",
    "        edge_index=ei,\n",
    "        edge_attr=pseudo,\n",
    "    )\n",
    "    if ad.uns['tissueinfo'].loc[tid].Animal_ID>30:\n",
    "        datalist_test.append(batch)\n",
    "    else:\n",
    "        datalist_train.append(batch)\n",
    "    \n",
    "\n",
    "dl_train=torch_geometric.loader.DataLoader(datalist_train,shuffle=True)\n",
    "dl_test=torch_geometric.loader.DataLoader(datalist_test)"
   ]
  },
  {
   "cell_type": "markdown",
   "id": "0b4b32d9",
   "metadata": {},
   "source": [
    "# check out formulae"
   ]
  },
  {
   "cell_type": "code",
   "execution_count": 12,
   "id": "ad32c287",
   "metadata": {},
   "outputs": [
    {
     "name": "stdout",
     "output_type": "stream",
     "text": [
      "1.28355097691387\n",
      "1.6664983245381269\n"
     ]
    },
    {
     "data": {
      "image/png": "[encoded data removed]",
      "text/plain": [
       "<Figure size 640x480 with 1 Axes>"
      ]
     },
     "metadata": {},
     "output_type": "display_data"
    }
   ],
   "source": [
    "for batch in dl_test:\n",
    "    break\n",
    "\n",
    "ei=batch.edge_index.detach().cpu().numpy()\n",
    "subadj=sp.sparse.coo_matrix((np.ones(ei.shape[1]),ei),shape=(batch.x.shape[0],batch.x.shape[0]))\n",
    "x=batch.x.detach().cpu().numpy()\n",
    "y=batch.y.detach().cpu().numpy()\n",
    "\n",
    "x1s=np.exp(x[:,0])-1\n",
    "x1sums=subadj@x1s+x1s\n",
    "x0s=np.exp(y[:,0])-1\n",
    "plt.scatter(x1sums,x0s)\n",
    "\n",
    "x1sums_clipped=np.where(x1sums>.997,x1sums,0)\n",
    "\n",
    "print(np.mean((x1sums-x0s)**2))\n",
    "print(np.mean((x1sums_clipped-x0s)**2))"
   ]
  },
  {
   "cell_type": "markdown",
   "id": "5012cb06",
   "metadata": {},
   "source": [
    "# try to learn with GMMconv"
   ]
  },
  {
   "cell_type": "code",
   "execution_count": 13,
   "id": "ce6c9d9b",
   "metadata": {},
   "outputs": [],
   "source": [
    "class DenseReluGMMConvNetwork(torch.nn.Module):\n",
    "    def __init__(\n",
    "        self,\n",
    "        sizes,\n",
    "        edge_dim,\n",
    "        n_kernels,\n",
    "        **gmmargs\n",
    "    ):\n",
    "        super().__init__()\n",
    "\n",
    "        lst = []\n",
    "        for i in range(len(sizes) - 1):\n",
    "            gmmc = torch_geometric.nn.GMMConv(\n",
    "                sizes[i], sizes[i + 1], dim=edge_dim,kernel_size=n_kernels,\n",
    "                aggr='mean'\n",
    "            )\n",
    "            lst.append(gmmc)\n",
    "            \n",
    "        self.gmms = torch.nn.ModuleList(lst)\n",
    "\n",
    "    def forward(self, vals, edges, pseudo):\n",
    "        orig_vals = vals\n",
    "        for i, gmmlayer in enumerate(self.gmms):\n",
    "            old_vals = vals\n",
    "            new_vals = gmmlayer(old_vals, edges, pseudo)\n",
    "            \n",
    "            if (i != len(self.gmms) - 1):\n",
    "                new_vals = torch.relu(new_vals)\n",
    "                \n",
    "            vals = new_vals\n",
    "\n",
    "        return vals\n",
    "\n",
    "class MSEPredictor(pl.LightningModule):\n",
    "    def __init__(self,n,lr=1e-3):\n",
    "        super().__init__()\n",
    "        self.save_hyperparameters()\n",
    "        \n",
    "        self.net=DenseReluGMMConvNetwork([n,128,128,128,1],edge_dim=1,n_kernels=5)\n",
    "        \n",
    "    def calc_lossinfo(self,batch):\n",
    "        guess=self.net(batch.x,batch.edge_index,batch.edge_attr)\n",
    "        loss=torch.mean((guess-batch.y)**2)\n",
    "        return dict(\n",
    "            loss=loss\n",
    "        )\n",
    "        \n",
    "    def training_step(self, batch, batch_idx):\n",
    "        info=self.calc_lossinfo(batch)\n",
    "        self.log('train_loss',info['loss'],prog_bar=True,batch_size=1)\n",
    "        return info['loss']\n",
    "    \n",
    "    def validation_step(self, batch, batch_idx):\n",
    "        info=self.calc_lossinfo(batch)\n",
    "        self.log('val_loss',info['loss'],prog_bar=True,batch_size=1)\n",
    "        return info['loss']\n",
    "    \n",
    "    def configure_optimizers(self):\n",
    "        optimizer = torch.optim.Adam(self.parameters(), lr=self.hparams.lr)\n",
    "        return optimizer"
   ]
  },
  {
   "cell_type": "code",
   "execution_count": 14,
   "id": "256c15a8",
   "metadata": {},
   "outputs": [
    {
     "name": "stderr",
     "output_type": "stream",
     "text": [
      "GPU available: True (cuda), used: True\n",
      "TPU available: False, using: 0 TPU cores\n",
      "IPU available: False, using: 0 IPUs\n",
      "HPU available: False, using: 0 HPUs\n",
      "LOCAL_RANK: 0 - CUDA_VISIBLE_DEVICES: [4]\n",
      "\n",
      "  | Name | Type                    | Params\n",
      "-------------------------------------------------\n",
      "0 | net  | DenseReluGMMConvNetwork | 320 K \n",
      "-------------------------------------------------\n",
      "320 K     Trainable params\n",
      "0         Non-trainable params\n",
      "320 K     Total params\n",
      "1.283     Total estimated model params size (MB)\n"
     ]
    },
    {
     "data": {
      "application/vnd.jupyter.widget-view+json": {
       "model_id": "",
       "version_major": 2,
       "version_minor": 0
      },
      "text/plain": [
       "Sanity Checking: 0it [00:00, ?it/s]"
      ]
     },
     "metadata": {},
     "output_type": "display_data"
    },
    {
     "name": "stderr",
     "output_type": "stream",
     "text": [
      "/home/roko/.cache/pypoetry/virtualenvs/spatial-G_n0JvVf-py3.10/lib/python3.10/site-packages/pytorch_lightning/trainer/connectors/data_connector.py:224: PossibleUserWarning: The dataloader, val_dataloader 0, does not have many workers which may be a bottleneck. Consider increasing the value of the `num_workers` argument` (try 64 which is the number of cpus on this machine) in the `DataLoader` init to improve performance.\n",
      "  rank_zero_warn(\n",
      "/home/roko/.cache/pypoetry/virtualenvs/spatial-G_n0JvVf-py3.10/lib/python3.10/site-packages/pytorch_lightning/trainer/connectors/data_connector.py:224: PossibleUserWarning: The dataloader, train_dataloader, does not have many workers which may be a bottleneck. Consider increasing the value of the `num_workers` argument` (try 64 which is the number of cpus on this machine) in the `DataLoader` init to improve performance.\n",
      "  rank_zero_warn(\n"
     ]
    },
    {
     "data": {
      "application/vnd.jupyter.widget-view+json": {
       "model_id": "4f762f05c66a4a8ea37823464ac5e2b1",
       "version_major": 2,
       "version_minor": 0
      },
      "text/plain": [
       "Training: 0it [00:00, ?it/s]"
      ]
     },
     "metadata": {},
     "output_type": "display_data"
    },
    {
     "data": {
      "application/vnd.jupyter.widget-view+json": {
       "model_id": "",
       "version_major": 2,
       "version_minor": 0
      },
      "text/plain": [
       "Validation: 0it [00:00, ?it/s]"
      ]
     },
     "metadata": {},
     "output_type": "display_data"
    },
    {
     "data": {
      "application/vnd.jupyter.widget-view+json": {
       "model_id": "",
       "version_major": 2,
       "version_minor": 0
      },
      "text/plain": [
       "Validation: 0it [00:00, ?it/s]"
      ]
     },
     "metadata": {},
     "output_type": "display_data"
    },
    {
     "data": {
      "application/vnd.jupyter.widget-view+json": {
       "model_id": "",
       "version_major": 2,
       "version_minor": 0
      },
      "text/plain": [
       "Validation: 0it [00:00, ?it/s]"
      ]
     },
     "metadata": {},
     "output_type": "display_data"
    },
    {
     "data": {
      "application/vnd.jupyter.widget-view+json": {
       "model_id": "",
       "version_major": 2,
       "version_minor": 0
      },
      "text/plain": [
       "Validation: 0it [00:00, ?it/s]"
      ]
     },
     "metadata": {},
     "output_type": "display_data"
    },
    {
     "data": {
      "application/vnd.jupyter.widget-view+json": {
       "model_id": "",
       "version_major": 2,
       "version_minor": 0
      },
      "text/plain": [
       "Validation: 0it [00:00, ?it/s]"
      ]
     },
     "metadata": {},
     "output_type": "display_data"
    },
    {
     "data": {
      "application/vnd.jupyter.widget-view+json": {
       "model_id": "",
       "version_major": 2,
       "version_minor": 0
      },
      "text/plain": [
       "Validation: 0it [00:00, ?it/s]"
      ]
     },
     "metadata": {},
     "output_type": "display_data"
    },
    {
     "data": {
      "application/vnd.jupyter.widget-view+json": {
       "model_id": "",
       "version_major": 2,
       "version_minor": 0
      },
      "text/plain": [
       "Validation: 0it [00:00, ?it/s]"
      ]
     },
     "metadata": {},
     "output_type": "display_data"
    },
    {
     "data": {
      "application/vnd.jupyter.widget-view+json": {
       "model_id": "",
       "version_major": 2,
       "version_minor": 0
      },
      "text/plain": [
       "Validation: 0it [00:00, ?it/s]"
      ]
     },
     "metadata": {},
     "output_type": "display_data"
    },
    {
     "data": {
      "application/vnd.jupyter.widget-view+json": {
       "model_id": "",
       "version_major": 2,
       "version_minor": 0
      },
      "text/plain": [
       "Validation: 0it [00:00, ?it/s]"
      ]
     },
     "metadata": {},
     "output_type": "display_data"
    },
    {
     "data": {
      "application/vnd.jupyter.widget-view+json": {
       "model_id": "",
       "version_major": 2,
       "version_minor": 0
      },
      "text/plain": [
       "Validation: 0it [00:00, ?it/s]"
      ]
     },
     "metadata": {},
     "output_type": "display_data"
    },
    {
     "name": "stderr",
     "output_type": "stream",
     "text": [
      "`Trainer.fit` stopped: `max_epochs=10` reached.\n"
     ]
    }
   ],
   "source": [
    "if os.path.exists('lightning_logs/version_0'):\n",
    "    shutil.rmtree('lightning_logs/version_0')\n",
    "\n",
    "logger=pl.loggers.CSVLogger('.',version=0)\n",
    "trainer = pl.Trainer(\n",
    "    max_epochs=10,accelerator='gpu',\n",
    "    devices=1,logger=logger,log_every_n_steps=1,\n",
    ")\n",
    "\n",
    "model=MSEPredictor(ad.shape[1]-1,lr=1e-3)\n",
    "\n",
    "trainer.fit(model,train_dataloaders=dl_train,val_dataloaders=dl_test)\n"
   ]
  },
  {
   "cell_type": "code",
   "execution_count": 15,
   "id": "18c973f6",
   "metadata": {},
   "outputs": [
    {
     "data": {
      "text/plain": [
       "[<matplotlib.lines.Line2D at 0x7efc6ca26440>]"
      ]
     },
     "execution_count": 15,
     "metadata": {},
     "output_type": "execute_result"
    },
    {
     "data": {
      "image/png": "[encoded data removed]",
      "text/plain": [
       "<Figure size 640x480 with 2 Axes>"
      ]
     },
     "metadata": {},
     "output_type": "display_data"
    }
   ],
   "source": [
    "df=pd.read_csv('lightning_logs/version_0/metrics.csv')\n",
    "n=len(df)\n",
    "\n",
    "plt.subplot(1,2,1)\n",
    "plt.plot(df['train_loss'].dropna().index,df['train_loss'].dropna(),'.')\n",
    "plt.plot(df['val_loss'].dropna().index,df['val_loss'].dropna(),'rx')\n",
    "\n",
    "plt.subplot(1,2,2)\n",
    "df2=df.iloc[n//2:]\n",
    "plt.plot(df2['train_loss'].dropna().index,df2['train_loss'].dropna(),'.')\n",
    "plt.plot(df2['val_loss'].dropna().index,df2['val_loss'].dropna(),'rx')\n",
    "\n",
    "# plt.xlim(250,None)\n",
    "# plt.ylim(1e6,1.5e6)"
   ]
  },
  {
   "cell_type": "markdown",
   "id": "7b83f5bd",
   "metadata": {},
   "source": [
    "$\\uparrow$ that's not converged.  Needs more epochs.  But anyway, it doesn't run out of RAM."
   ]
  },
  {
   "cell_type": "code",
   "execution_count": 16,
   "id": "464f3a33",
   "metadata": {},
   "outputs": [
    {
     "data": {
      "application/vnd.jupyter.widget-view+json": {
       "model_id": "525119904a884041bde000836eaaa79a",
       "version_major": 2,
       "version_minor": 0
      },
      "text/plain": [
       "  0%|          | 0/24 [00:00<?, ?it/s]"
      ]
     },
     "metadata": {},
     "output_type": "display_data"
    },
    {
     "data": {
      "text/plain": [
       "(array([4., 1., 3., 3., 2., 5., 3., 1., 0., 2.]),\n",
       " array([0.21678354, 0.21853208, 0.22028062, 0.22202917, 0.22377771,\n",
       "        0.22552625, 0.22727479, 0.22902334, 0.23077188, 0.23252042,\n",
       "        0.23426896]),\n",
       " <BarContainer object of 10 artists>)"
      ]
     },
     "execution_count": 16,
     "metadata": {},
     "output_type": "execute_result"
    },
    {
     "data": {
      "image/png": "[encoded data removed]",
      "text/plain": [
       "<Figure size 640x480 with 1 Axes>"
      ]
     },
     "metadata": {},
     "output_type": "display_data"
    }
   ],
   "source": [
    "# get final losses for each validation tissue\n",
    "losses=[]\n",
    "for batch in tqdm.notebook.tqdm(dl_test):\n",
    "    losses.append(float(model.calc_lossinfo(batch)['loss'].detach().cpu().numpy()) )\n",
    "plt.hist(losses)"
   ]
  },
  {
   "cell_type": "code",
   "execution_count": 17,
   "id": "cc41867b",
   "metadata": {},
   "outputs": [
    {
     "data": {
      "application/vnd.jupyter.widget-view+json": {
       "model_id": "2389c5ca74e248759353eefd52d27fed",
       "version_major": 2,
       "version_minor": 0
      },
      "text/plain": [
       "  0%|          | 0/24 [00:00<?, ?it/s]"
      ]
     },
     "metadata": {},
     "output_type": "display_data"
    },
    {
     "data": {
      "text/plain": [
       "Text(0.5, 1.0, 'GCN \\nMSE 0.22453051805496216')"
      ]
     },
     "execution_count": 17,
     "metadata": {},
     "output_type": "execute_result"
    },
    {
     "data": {
      "image/png": "[encoded data removed]",
      "text/plain": [
       "<Figure size 640x480 with 1 Axes>"
      ]
     },
     "metadata": {},
     "output_type": "display_data"
    }
   ],
   "source": [
    "# get final losses across all cells\n",
    "preds=[]\n",
    "truths=[]\n",
    "for batch in tqdm.notebook.tqdm(dl_test):\n",
    "    preds.append(model.net(batch.x,batch.edge_index,batch.edge_attr).detach().cpu().numpy().ravel())\n",
    "    truths.append(batch.y.detach().cpu().numpy().ravel())\n",
    "preds=np.concatenate(preds)\n",
    "truths=np.concatenate(truths)\n",
    "\n",
    "plt.scatter(truths,preds,s=1,alpha=.1)\n",
    "np.mean((preds-truths)**2)\n",
    "\n",
    "plt.ylabel(\"prediction\")\n",
    "plt.xlabel(\"truth\")\n",
    "plt.title(f\"GCN \\nMSE {np.mean((preds-truths)**2)}\")"
   ]
  },
  {
   "cell_type": "code",
   "execution_count": 18,
   "id": "c0418ec1",
   "metadata": {},
   "outputs": [
    {
     "data": {
      "image/png": "[encoded data removed]",
      "text/plain": [
       "<Figure size 640x480 with 4 Axes>"
      ]
     },
     "metadata": {},
     "output_type": "display_data"
    }
   ],
   "source": [
    "# plot kernels at each layer\n",
    "xs=np.r_[0:1:100j]\n",
    "for i,gmm in enumerate(model.net.gmms):\n",
    "    plt.subplot(3,2,i+1)\n",
    "    for mu,sig in zip(gmm.mu.detach().cpu().numpy().ravel(),gmm.sigma.detach().cpu().numpy().ravel()):\n",
    "        sig=np.abs(sig)\n",
    "        plt.plot(xs,sp.stats.norm.pdf(xs,loc=mu,scale=sig),color='black')"
   ]
  },
  {
   "cell_type": "code",
   "execution_count": 19,
   "id": "583cc1c4",
   "metadata": {},
   "outputs": [
    {
     "data": {
      "application/vnd.jupyter.widget-view+json": {
       "model_id": "1615fcae0a3d4d0dba8f31a61de2f12a",
       "version_major": 2,
       "version_minor": 0
      },
      "text/plain": [
       "  0%|          | 0/181 [00:00<?, ?it/s]"
      ]
     },
     "metadata": {},
     "output_type": "display_data"
    }
   ],
   "source": [
    "nefarious_radius=30 # can set this to something besides 30 to stress-test the network\n",
    "loc=ad.obs[['Centroid_X','Centroid_Y']].values\n",
    "rows=[]\n",
    "cols=[]\n",
    "for nm in tqdm.notebook.tqdm(ad.obs.tissue_id.cat.categories):\n",
    "    indicator=ad.obs.tissue_id==nm\n",
    "    adjacency=sklearn.neighbors.radius_neighbors_graph(loc[indicator],nefarious_radius).tocoo()\n",
    "    rows.extend(np.where(indicator)[0][adjacency.row])\n",
    "    cols.extend(np.where(indicator)[0][adjacency.col])\n",
    "nefarious_adjacency=sp.sparse.coo_matrix((np.ones(len(rows)),(rows,cols)),shape=(len(ad),len(ad))).tocsr()"
   ]
  },
  {
   "cell_type": "code",
   "execution_count": 20,
   "id": "475feeda",
   "metadata": {},
   "outputs": [],
   "source": [
    "with h5py.File(\"../data/raw/synth0.hdf5\", \"r\") as h5f:\n",
    "    expression = h5f[\"expression\"][:]"
   ]
  },
  {
   "cell_type": "code",
   "execution_count": 21,
   "id": "1f6aa463",
   "metadata": {},
   "outputs": [
    {
     "data": {
      "application/vnd.jupyter.widget-view+json": {
       "model_id": "6a3c0b26018643598a9d08a7359515a3",
       "version_major": 2,
       "version_minor": 0
      },
      "text/plain": [
       "  0%|          | 0/181 [00:00<?, ?it/s]"
      ]
     },
     "metadata": {},
     "output_type": "display_data"
    }
   ],
   "source": [
    "def calc_pseudo(edge_index, pos):\n",
    "    coord1 = pos[edge_index[0]]\n",
    "    coord2 = pos[edge_index[1]]\n",
    "    edge_dir = coord2 - coord1\n",
    "    rho = torch.sqrt(edge_dir[:, 0] ** 2 + edge_dir[:, 1] ** 2).unsqueeze(-1)\n",
    "    return rho\n",
    "\n",
    "X=expression[:,1:].astype(np.float32)\n",
    "Y=expression[:,[0]].astype(np.float32)\n",
    "loc=ad.obs[['Centroid_X','Centroid_Y']].values\n",
    "\n",
    "datalist_train=[]\n",
    "datalist_test=[]\n",
    "for tid in tqdm.notebook.tqdm(ad.obs.tissue_id.cat.categories):\n",
    "    indicator=ad.obs.tissue_id==tid\n",
    "    subadj=nefarious_adjacency[indicator][:,indicator].tocoo()\n",
    "    subpos= torch.tensor(loc[indicator].astype(np.float32))\n",
    "    ei=torch.tensor(np.stack([subadj.row,subadj.col]).astype(int))\n",
    "    pseudo=calc_pseudo(ei,subpos)/nefarious_radius # number between 0 and 1\n",
    "    batch=torch_geometric.data.Data(\n",
    "        x=torch.tensor(np.log1p(X[indicator])), # log transform performed here\n",
    "        y=torch.tensor(np.log1p(Y[indicator])),\n",
    "        edge_index=ei,\n",
    "        edge_attr=pseudo,\n",
    "    )\n",
    "    if ad.uns['tissueinfo'].loc[tid].Animal_ID>30:\n",
    "        datalist_test.append(batch)\n",
    "    else:\n",
    "        datalist_train.append(batch)\n",
    "    \n",
    "\n",
    "dl_train=torch_geometric.loader.DataLoader(datalist_train,shuffle=True)\n",
    "dl_test=torch_geometric.loader.DataLoader(datalist_test)"
   ]
  },
  {
   "cell_type": "markdown",
   "id": "9fb1da66",
   "metadata": {},
   "source": [
    "# try to learn with lightgbm"
   ]
  },
  {
   "cell_type": "code",
   "execution_count": 22,
   "id": "55dd6bba",
   "metadata": {},
   "outputs": [
    {
     "data": {
      "application/vnd.jupyter.widget-view+json": {
       "model_id": "4e0db6b6931e4398b64de48a6577d90e",
       "version_major": 2,
       "version_minor": 0
      },
      "text/plain": [
       "  0%|          | 0/157 [00:00<?, ?it/s]"
      ]
     },
     "metadata": {},
     "output_type": "display_data"
    },
    {
     "name": "stdout",
     "output_type": "stream",
     "text": [
      "(5620, 160) (5620,)\n",
      "(6051, 160) (6051,)\n",
      "(5986, 160) (5986,)\n",
      "(5584, 160) (5584,)\n",
      "(5381, 160) (5381,)\n",
      "(5434, 160) (5434,)\n",
      "(6011, 160) (6011,)\n",
      "(5696, 160) (5696,)\n",
      "(5799, 160) (5799,)\n",
      "(5765, 160) (5765,)\n",
      "(5280, 160) (5280,)\n",
      "(5819, 160) (5819,)\n",
      "(5261, 160) (5261,)\n",
      "(5556, 160) (5556,)\n",
      "(5511, 160) (5511,)\n",
      "(5790, 160) (5790,)\n",
      "(5653, 160) (5653,)\n",
      "(5392, 160) (5392,)\n",
      "(5862, 160) (5862,)\n",
      "(5970, 160) (5970,)\n",
      "(5329, 160) (5329,)\n",
      "(5492, 160) (5492,)\n",
      "(5727, 160) (5727,)\n",
      "(6105, 160) (6105,)\n",
      "(5956, 160) (5956,)\n",
      "(5452, 160) (5452,)\n",
      "(5451, 160) (5451,)\n",
      "(5619, 160) (5619,)\n",
      "(6200, 160) (6200,)\n",
      "(5711, 160) (5711,)\n",
      "(5141, 160) (5141,)\n",
      "(5504, 160) (5504,)\n",
      "(5223, 160) (5223,)\n",
      "(5403, 160) (5403,)\n",
      "(6144, 160) (6144,)\n",
      "(5961, 160) (5961,)\n",
      "(4877, 160) (4877,)\n",
      "(6135, 160) (6135,)\n",
      "(4828, 160) (4828,)\n",
      "(5951, 160) (5951,)\n",
      "(5770, 160) (5770,)\n",
      "(5857, 160) (5857,)\n",
      "(5555, 160) (5555,)\n",
      "(5676, 160) (5676,)\n",
      "(4807, 160) (4807,)\n",
      "(5880, 160) (5880,)\n",
      "(6398, 160) (6398,)\n",
      "(6000, 160) (6000,)\n",
      "(6342, 160) (6342,)\n",
      "(6417, 160) (6417,)\n",
      "(6605, 160) (6605,)\n",
      "(5824, 160) (5824,)\n",
      "(5373, 160) (5373,)\n",
      "(5361, 160) (5361,)\n",
      "(5939, 160) (5939,)\n",
      "(5284, 160) (5284,)\n",
      "(6328, 160) (6328,)\n",
      "(6067, 160) (6067,)\n",
      "(5491, 160) (5491,)\n",
      "(5769, 160) (5769,)\n",
      "(6509, 160) (6509,)\n",
      "(5429, 160) (5429,)\n",
      "(5434, 160) (5434,)\n",
      "(5228, 160) (5228,)\n",
      "(6263, 160) (6263,)\n",
      "(5811, 160) (5811,)\n",
      "(5912, 160) (5912,)\n",
      "(5624, 160) (5624,)\n",
      "(5563, 160) (5563,)\n",
      "(5726, 160) (5726,)\n",
      "(5694, 160) (5694,)\n",
      "(5476, 160) (5476,)\n",
      "(6026, 160) (6026,)\n",
      "(5665, 160) (5665,)\n",
      "(5693, 160) (5693,)\n",
      "(4689, 160) (4689,)\n",
      "(6176, 160) (6176,)\n",
      "(6036, 160) (6036,)\n",
      "(5669, 160) (5669,)\n",
      "(5508, 160) (5508,)\n",
      "(5381, 160) (5381,)\n",
      "(4661, 160) (4661,)\n",
      "(5889, 160) (5889,)\n",
      "(5606, 160) (5606,)\n",
      "(5967, 160) (5967,)\n",
      "(6154, 160) (6154,)\n",
      "(5710, 160) (5710,)\n",
      "(5017, 160) (5017,)\n",
      "(5905, 160) (5905,)\n",
      "(6231, 160) (6231,)\n",
      "(6175, 160) (6175,)\n",
      "(5410, 160) (5410,)\n",
      "(5283, 160) (5283,)\n",
      "(5603, 160) (5603,)\n",
      "(5839, 160) (5839,)\n",
      "(6058, 160) (6058,)\n",
      "(5779, 160) (5779,)\n",
      "(5787, 160) (5787,)\n",
      "(6091, 160) (6091,)\n",
      "(5194, 160) (5194,)\n",
      "(5844, 160) (5844,)\n",
      "(5722, 160) (5722,)\n",
      "(5212, 160) (5212,)\n",
      "(5331, 160) (5331,)\n",
      "(4905, 160) (4905,)\n",
      "(5533, 160) (5533,)\n",
      "(5881, 160) (5881,)\n",
      "(5468, 160) (5468,)\n",
      "(5150, 160) (5150,)\n",
      "(5361, 160) (5361,)\n",
      "(6185, 160) (6185,)\n",
      "(5887, 160) (5887,)\n",
      "(5425, 160) (5425,)\n",
      "(5677, 160) (5677,)\n",
      "(5660, 160) (5660,)\n",
      "(5815, 160) (5815,)\n",
      "(5736, 160) (5736,)\n",
      "(6101, 160) (6101,)\n",
      "(5190, 160) (5190,)\n",
      "(5881, 160) (5881,)\n",
      "(5444, 160) (5444,)\n",
      "(5754, 160) (5754,)\n",
      "(5423, 160) (5423,)\n",
      "(6215, 160) (6215,)\n",
      "(6483, 160) (6483,)\n",
      "(5323, 160) (5323,)\n",
      "(5417, 160) (5417,)\n",
      "(5555, 160) (5555,)\n",
      "(6236, 160) (6236,)\n",
      "(5143, 160) (5143,)\n",
      "(5939, 160) (5939,)\n",
      "(5384, 160) (5384,)\n",
      "(5882, 160) (5882,)\n",
      "(5394, 160) (5394,)\n",
      "(5129, 160) (5129,)\n",
      "(6507, 160) (6507,)\n",
      "(5334, 160) (5334,)\n",
      "(5457, 160) (5457,)\n",
      "(5983, 160) (5983,)\n",
      "(5877, 160) (5877,)\n",
      "(5285, 160) (5285,)\n",
      "(5578, 160) (5578,)\n",
      "(5954, 160) (5954,)\n",
      "(5599, 160) (5599,)\n",
      "(5780, 160) (5780,)\n",
      "(5994, 160) (5994,)\n",
      "(6412, 160) (6412,)\n",
      "(5206, 160) (5206,)\n",
      "(5775, 160) (5775,)\n",
      "(5368, 160) (5368,)\n",
      "(5652, 160) (5652,)\n",
      "(6111, 160) (6111,)\n",
      "(5449, 160) (5449,)\n",
      "(5862, 160) (5862,)\n",
      "(5391, 160) (5391,)\n",
      "(6105, 160) (6105,)\n",
      "(5848, 160) (5848,)\n"
     ]
    },
    {
     "data": {
      "application/vnd.jupyter.widget-view+json": {
       "model_id": "ca124c4e7c7248b195c09e9ecd7c31dc",
       "version_major": 2,
       "version_minor": 0
      },
      "text/plain": [
       "  0%|          | 0/24 [00:00<?, ?it/s]"
      ]
     },
     "metadata": {},
     "output_type": "display_data"
    }
   ],
   "source": [
    "# extract data back OUT of the torch datastructures\n",
    " \n",
    "def extract_from_pyg(batch):\n",
    "    subx=batch.x.cpu().detach().numpy()\n",
    "    suby=batch.y.cpu().detach().numpy()\n",
    "    \n",
    "    ei=batch.edge_index.cpu().detach().numpy()\n",
    "    subadj=sp.sparse.coo_matrix((np.ones(ei.shape[1]),(ei[0],ei[1])),shape=(subx.shape[0],subx.shape[0]))\n",
    "    \n",
    "    covariates=(subadj@subx) + subx \n",
    "    covariates=np.concatenate((subx, subadj@subx), axis=1)\n",
    "    covariates=subx\n",
    "    \n",
    "    return covariates,suby.ravel()\n",
    "\n",
    "lightgbm_X=[]\n",
    "lightgbm_Y=[]\n",
    "for batch in tqdm.notebook.tqdm(dl_train):\n",
    "    covariates,suby=extract_from_pyg(batch)\n",
    "    print(covariates.shape, suby.shape)\n",
    "    lightgbm_X.append(covariates)\n",
    "    lightgbm_Y.append(suby)\n",
    "lightgbm_X_train=np.concatenate(lightgbm_X,axis=0)\n",
    "lightgbm_Y_train=np.concatenate(lightgbm_Y,axis=0)\n",
    "\n",
    "lightgbm_X=[]\n",
    "lightgbm_Y=[]\n",
    "for batch in tqdm.notebook.tqdm(dl_test):\n",
    "    covariates,suby=extract_from_pyg(batch)\n",
    "    lightgbm_X.append(covariates)\n",
    "    lightgbm_Y.append(suby)\n",
    "    \n",
    "lightgbm_X_test=np.concatenate(lightgbm_X,axis=0)\n",
    "lightgbm_Y_test=np.concatenate(lightgbm_Y,axis=0)"
   ]
  },
  {
   "cell_type": "code",
   "execution_count": 23,
   "id": "65ccc5f2",
   "metadata": {},
   "outputs": [
    {
     "name": "stdout",
     "output_type": "stream",
     "text": [
      "Binning 1.029 GB of training data: 3.258 s\n",
      "Binning 0.114 GB of validation data: 0.149 s\n",
      "Fitting gradient boosted rounds:\n",
      "[1/100] 1 tree, 31 leaves, max depth = 8, train loss: 0.12793, val loss: 0.12823, in 0.135s\n",
      "[2/100] 1 tree, 31 leaves, max depth = 11, train loss: 0.12584, val loss: 0.12609, in 0.137s\n",
      "[3/100] 1 tree, 31 leaves, max depth = 9, train loss: 0.12415, val loss: 0.12435, in 0.130s\n",
      "[4/100] 1 tree, 31 leaves, max depth = 12, train loss: 0.12278, val loss: 0.12294, in 0.117s\n",
      "[5/100] 1 tree, 31 leaves, max depth = 9, train loss: 0.12167, val loss: 0.12179, in 0.128s\n",
      "[6/100] 1 tree, 31 leaves, max depth = 14, train loss: 0.12077, val loss: 0.12086, in 0.122s\n",
      "[7/100] 1 tree, 31 leaves, max depth = 13, train loss: 0.12003, val loss: 0.12010, in 0.136s\n",
      "[8/100] 1 tree, 31 leaves, max depth = 12, train loss: 0.11944, val loss: 0.11949, in 0.116s\n",
      "[9/100] 1 tree, 31 leaves, max depth = 9, train loss: 0.11896, val loss: 0.11899, in 0.110s\n",
      "[10/100] 1 tree, 31 leaves, max depth = 8, train loss: 0.11856, val loss: 0.11858, in 0.111s\n",
      "[11/100] 1 tree, 31 leaves, max depth = 11, train loss: 0.11824, val loss: 0.11825, in 0.126s\n",
      "[12/100] 1 tree, 31 leaves, max depth = 10, train loss: 0.11798, val loss: 0.11798, in 0.123s\n",
      "[13/100] 1 tree, 31 leaves, max depth = 10, train loss: 0.11777, val loss: 0.11775, in 0.109s\n",
      "[14/100] 1 tree, 31 leaves, max depth = 13, train loss: 0.11760, val loss: 0.11757, in 0.117s\n",
      "[15/100] 1 tree, 31 leaves, max depth = 12, train loss: 0.11746, val loss: 0.11743, in 0.120s\n",
      "[16/100] 1 tree, 31 leaves, max depth = 14, train loss: 0.11734, val loss: 0.11730, in 0.111s\n",
      "[17/100] 1 tree, 31 leaves, max depth = 13, train loss: 0.11725, val loss: 0.11721, in 0.105s\n",
      "[18/100] 1 tree, 31 leaves, max depth = 11, train loss: 0.11717, val loss: 0.11713, in 0.136s\n",
      "[19/100] 1 tree, 31 leaves, max depth = 10, train loss: 0.11710, val loss: 0.11706, in 0.110s\n",
      "[20/100] 1 tree, 31 leaves, max depth = 13, train loss: 0.11705, val loss: 0.11701, in 0.104s\n",
      "[21/100] 1 tree, 31 leaves, max depth = 13, train loss: 0.11700, val loss: 0.11696, in 0.128s\n",
      "[22/100] 1 tree, 31 leaves, max depth = 10, train loss: 0.11697, val loss: 0.11693, in 0.107s\n",
      "[23/100] 1 tree, 31 leaves, max depth = 11, train loss: 0.11693, val loss: 0.11690, in 0.108s\n",
      "[24/100] 1 tree, 31 leaves, max depth = 13, train loss: 0.11691, val loss: 0.11687, in 0.101s\n",
      "[25/100] 1 tree, 31 leaves, max depth = 11, train loss: 0.11688, val loss: 0.11686, in 0.122s\n",
      "[26/100] 1 tree, 31 leaves, max depth = 10, train loss: 0.11686, val loss: 0.11684, in 0.108s\n",
      "[27/100] 1 tree, 31 leaves, max depth = 11, train loss: 0.11684, val loss: 0.11682, in 0.119s\n",
      "[28/100] 1 tree, 31 leaves, max depth = 13, train loss: 0.11683, val loss: 0.11681, in 0.114s\n",
      "[29/100] 1 tree, 31 leaves, max depth = 11, train loss: 0.11681, val loss: 0.11680, in 0.111s\n",
      "[30/100] 1 tree, 31 leaves, max depth = 13, train loss: 0.11680, val loss: 0.11679, in 0.098s\n",
      "[31/100] 1 tree, 31 leaves, max depth = 10, train loss: 0.11679, val loss: 0.11678, in 0.106s\n",
      "[32/100] 1 tree, 31 leaves, max depth = 11, train loss: 0.11678, val loss: 0.11678, in 0.112s\n",
      "[33/100] 1 tree, 31 leaves, max depth = 11, train loss: 0.11677, val loss: 0.11678, in 0.101s\n",
      "[34/100] 1 tree, 31 leaves, max depth = 13, train loss: 0.11676, val loss: 0.11677, in 0.112s\n",
      "[35/100] 1 tree, 31 leaves, max depth = 14, train loss: 0.11675, val loss: 0.11677, in 0.108s\n",
      "[36/100] 1 tree, 31 leaves, max depth = 11, train loss: 0.11673, val loss: 0.11677, in 0.114s\n",
      "[37/100] 1 tree, 31 leaves, max depth = 13, train loss: 0.11672, val loss: 0.11677, in 0.085s\n",
      "[38/100] 1 tree, 31 leaves, max depth = 14, train loss: 0.11671, val loss: 0.11677, in 0.077s\n",
      "[39/100] 1 tree, 31 leaves, max depth = 10, train loss: 0.11670, val loss: 0.11677, in 0.083s\n",
      "[40/100] 1 tree, 31 leaves, max depth = 10, train loss: 0.11670, val loss: 0.11677, in 0.091s\n",
      "[41/100] 1 tree, 31 leaves, max depth = 15, train loss: 0.11669, val loss: 0.11677, in 0.086s\n",
      "[42/100] 1 tree, 31 leaves, max depth = 14, train loss: 0.11668, val loss: 0.11677, in 0.118s\n",
      "[43/100] 1 tree, 31 leaves, max depth = 15, train loss: 0.11667, val loss: 0.11677, in 0.086s\n",
      "[44/100] 1 tree, 31 leaves, max depth = 11, train loss: 0.11666, val loss: 0.11677, in 0.092s\n",
      "[45/100] 1 tree, 31 leaves, max depth = 11, train loss: 0.11665, val loss: 0.11677, in 0.094s\n",
      "[46/100] 1 tree, 31 leaves, max depth = 10, train loss: 0.11664, val loss: 0.11677, in 0.142s\n",
      "[47/100] 1 tree, 31 leaves, max depth = 10, train loss: 0.11663, val loss: 0.11677, in 0.108s\n",
      "[48/100] 1 tree, 31 leaves, max depth = 17, train loss: 0.11662, val loss: 0.11677, in 0.076s\n",
      "[49/100] 1 tree, 31 leaves, max depth = 12, train loss: 0.11661, val loss: 0.11677, in 0.078s\n",
      "[50/100] 1 tree, 31 leaves, max depth = 9, train loss: 0.11660, val loss: 0.11677, in 0.072s\n",
      "Fit 50 trees in 9.789 s, (1550 total leaves)\n",
      "Time spent computing histograms: 4.878s\n",
      "Time spent finding best splits:  0.045s\n",
      "Time spent applying splits:      0.203s\n",
      "Time spent predicting:           0.063s\n"
     ]
    },
    {
     "data": {
      "text/html": [
       "<style>#sk-container-id-1 {color: black;background-color: white;}#sk-container-id-1 pre{padding: 0;}#sk-container-id-1 div.sk-toggleable {background-color: white;}#sk-container-id-1 label.sk-toggleable__label {cursor: pointer;display: block;width: 100%;margin-bottom: 0;padding: 0.3em;box-sizing: border-box;text-align: center;}#sk-container-id-1 label.sk-toggleable__label-arrow:before {content: \"▸\";float: left;margin-right: 0.25em;color: #696969;}#sk-container-id-1 label.sk-toggleable__label-arrow:hover:before {color: black;}#sk-container-id-1 div.sk-estimator:hover label.sk-toggleable__label-arrow:before {color: black;}#sk-container-id-1 div.sk-toggleable__content {max-height: 0;max-width: 0;overflow: hidden;text-align: left;background-color: #f0f8ff;}#sk-container-id-1 div.sk-toggleable__content pre {margin: 0.2em;color: black;border-radius: 0.25em;background-color: #f0f8ff;}#sk-container-id-1 input.sk-toggleable__control:checked~div.sk-toggleable__content {max-height: 200px;max-width: 100%;overflow: auto;}#sk-container-id-1 input.sk-toggleable__control:checked~label.sk-toggleable__label-arrow:before {content: \"▾\";}#sk-container-id-1 div.sk-estimator input.sk-toggleable__control:checked~label.sk-toggleable__label {background-color: #d4ebff;}#sk-container-id-1 div.sk-label input.sk-toggleable__control:checked~label.sk-toggleable__label {background-color: #d4ebff;}#sk-container-id-1 input.sk-hidden--visually {border: 0;clip: rect(1px 1px 1px 1px);clip: rect(1px, 1px, 1px, 1px);height: 1px;margin: -1px;overflow: hidden;padding: 0;position: absolute;width: 1px;}#sk-container-id-1 div.sk-estimator {font-family: monospace;background-color: #f0f8ff;border: 1px dotted black;border-radius: 0.25em;box-sizing: border-box;margin-bottom: 0.5em;}#sk-container-id-1 div.sk-estimator:hover {background-color: #d4ebff;}#sk-container-id-1 div.sk-parallel-item::after {content: \"\";width: 100%;border-bottom: 1px solid gray;flex-grow: 1;}#sk-container-id-1 div.sk-label:hover label.sk-toggleable__label {background-color: #d4ebff;}#sk-container-id-1 div.sk-serial::before {content: \"\";position: absolute;border-left: 1px solid gray;box-sizing: border-box;top: 0;bottom: 0;left: 50%;z-index: 0;}#sk-container-id-1 div.sk-serial {display: flex;flex-direction: column;align-items: center;background-color: white;padding-right: 0.2em;padding-left: 0.2em;position: relative;}#sk-container-id-1 div.sk-item {position: relative;z-index: 1;}#sk-container-id-1 div.sk-parallel {display: flex;align-items: stretch;justify-content: center;background-color: white;position: relative;}#sk-container-id-1 div.sk-item::before, #sk-container-id-1 div.sk-parallel-item::before {content: \"\";position: absolute;border-left: 1px solid gray;box-sizing: border-box;top: 0;bottom: 0;left: 50%;z-index: -1;}#sk-container-id-1 div.sk-parallel-item {display: flex;flex-direction: column;z-index: 1;position: relative;background-color: white;}#sk-container-id-1 div.sk-parallel-item:first-child::after {align-self: flex-end;width: 50%;}#sk-container-id-1 div.sk-parallel-item:last-child::after {align-self: flex-start;width: 50%;}#sk-container-id-1 div.sk-parallel-item:only-child::after {width: 0;}#sk-container-id-1 div.sk-dashed-wrapped {border: 1px dashed gray;margin: 0 0.4em 0.5em 0.4em;box-sizing: border-box;padding-bottom: 0.4em;background-color: white;}#sk-container-id-1 div.sk-label label {font-family: monospace;font-weight: bold;display: inline-block;line-height: 1.2em;}#sk-container-id-1 div.sk-label-container {text-align: center;}#sk-container-id-1 div.sk-container {/* jupyter's `normalize.less` sets `[hidden] { display: none; }` but bootstrap.min.css set `[hidden] { display: none !important; }` so we also need the `!important` here to be able to override the default hidden behavior on the sphinx rendered scikit-learn.org. See: https://github.com/scikit-learn/scikit-learn/issues/21755 */display: inline-block !important;position: relative;}#sk-container-id-1 div.sk-text-repr-fallback {display: none;}</style><div id=\"sk-container-id-1\" class=\"sk-top-container\"><div class=\"sk-text-repr-fallback\"><pre>HistGradientBoostingRegressor(verbose=1)</pre><b>In a Jupyter environment, please rerun this cell to show the HTML representation or trust the notebook. <br />On GitHub, the HTML representation is unable to render, please try loading this page with nbviewer.org.</b></div><div class=\"sk-container\" hidden><div class=\"sk-item\"><div class=\"sk-estimator sk-toggleable\"><input class=\"sk-toggleable__control sk-hidden--visually\" id=\"sk-estimator-id-1\" type=\"checkbox\" checked><label for=\"sk-estimator-id-1\" class=\"sk-toggleable__label sk-toggleable__label-arrow\">HistGradientBoostingRegressor</label><div class=\"sk-toggleable__content\"><pre>HistGradientBoostingRegressor(verbose=1)</pre></div></div></div></div></div>"
      ],
      "text/plain": [
       "HistGradientBoostingRegressor(verbose=1)"
      ]
     },
     "execution_count": 23,
     "metadata": {},
     "output_type": "execute_result"
    }
   ],
   "source": [
    "from sklearn.preprocessing import StandardScaler\n",
    "scaler = StandardScaler().fit(lightgbm_X_train)\n",
    "lightgbm_X_train = scaler.transform(lightgbm_X_train)\n",
    "lightgbm_X_test = scaler.transform(lightgbm_X_test)\n",
    "gbm=sklearn.ensemble.HistGradientBoostingRegressor(verbose=1)\n",
    "gbm.fit(lightgbm_X_train,lightgbm_Y_train)"
   ]
  },
  {
   "cell_type": "code",
   "execution_count": 24,
   "id": "22fca332",
   "metadata": {},
   "outputs": [
    {
     "name": "stdout",
     "output_type": "stream",
     "text": [
      "Binning 1.029 GB of training data: 3.323 s\n",
      "Binning 0.114 GB of validation data: 0.151 s\n",
      "Fitting gradient boosted rounds:\n",
      "[1/100] 1 tree, 31 leaves, max depth = 10, train loss: 0.12793, val loss: 0.12824, in 0.145s\n",
      "[2/100] 1 tree, 31 leaves, max depth = 9, train loss: 0.12583, val loss: 0.12614, in 0.124s\n",
      "[3/100] 1 tree, 31 leaves, max depth = 11, train loss: 0.12413, val loss: 0.12444, in 0.113s\n",
      "[4/100] 1 tree, 31 leaves, max depth = 11, train loss: 0.12276, val loss: 0.12306, in 0.122s\n",
      "[5/100] 1 tree, 31 leaves, max depth = 7, train loss: 0.12164, val loss: 0.12194, in 0.118s\n",
      "[6/100] 1 tree, 31 leaves, max depth = 9, train loss: 0.12073, val loss: 0.12103, in 0.130s\n",
      "[7/100] 1 tree, 31 leaves, max depth = 11, train loss: 0.12000, val loss: 0.12029, in 0.121s\n",
      "[8/100] 1 tree, 31 leaves, max depth = 15, train loss: 0.11940, val loss: 0.11970, in 0.128s\n",
      "[9/100] 1 tree, 31 leaves, max depth = 11, train loss: 0.11892, val loss: 0.11922, in 0.117s\n",
      "[10/100] 1 tree, 31 leaves, max depth = 13, train loss: 0.11852, val loss: 0.11883, in 0.118s\n",
      "[11/100] 1 tree, 31 leaves, max depth = 12, train loss: 0.11820, val loss: 0.11851, in 0.133s\n",
      "[12/100] 1 tree, 31 leaves, max depth = 12, train loss: 0.11794, val loss: 0.11825, in 0.110s\n",
      "[13/100] 1 tree, 31 leaves, max depth = 11, train loss: 0.11773, val loss: 0.11804, in 0.113s\n",
      "[14/100] 1 tree, 31 leaves, max depth = 11, train loss: 0.11756, val loss: 0.11787, in 0.113s\n",
      "[15/100] 1 tree, 31 leaves, max depth = 10, train loss: 0.11741, val loss: 0.11774, in 0.109s\n",
      "[16/100] 1 tree, 31 leaves, max depth = 11, train loss: 0.11730, val loss: 0.11763, in 0.122s\n",
      "[17/100] 1 tree, 31 leaves, max depth = 12, train loss: 0.11720, val loss: 0.11754, in 0.115s\n",
      "[18/100] 1 tree, 31 leaves, max depth = 14, train loss: 0.11712, val loss: 0.11746, in 0.115s\n",
      "[19/100] 1 tree, 31 leaves, max depth = 10, train loss: 0.11706, val loss: 0.11740, in 0.129s\n",
      "[20/100] 1 tree, 31 leaves, max depth = 13, train loss: 0.11700, val loss: 0.11735, in 0.104s\n",
      "[21/100] 1 tree, 31 leaves, max depth = 12, train loss: 0.11696, val loss: 0.11732, in 0.111s\n",
      "[22/100] 1 tree, 31 leaves, max depth = 13, train loss: 0.11692, val loss: 0.11729, in 0.115s\n",
      "[23/100] 1 tree, 31 leaves, max depth = 12, train loss: 0.11689, val loss: 0.11726, in 0.137s\n",
      "[24/100] 1 tree, 31 leaves, max depth = 13, train loss: 0.11686, val loss: 0.11724, in 0.111s\n",
      "[25/100] 1 tree, 31 leaves, max depth = 13, train loss: 0.11683, val loss: 0.11722, in 0.102s\n",
      "[26/100] 1 tree, 31 leaves, max depth = 9, train loss: 0.11681, val loss: 0.11720, in 0.111s\n",
      "[27/100] 1 tree, 31 leaves, max depth = 9, train loss: 0.11679, val loss: 0.11719, in 0.114s\n",
      "[28/100] 1 tree, 31 leaves, max depth = 12, train loss: 0.11678, val loss: 0.11718, in 0.110s\n",
      "[29/100] 1 tree, 31 leaves, max depth = 14, train loss: 0.11676, val loss: 0.11718, in 0.097s\n",
      "[30/100] 1 tree, 31 leaves, max depth = 11, train loss: 0.11675, val loss: 0.11717, in 0.106s\n",
      "[31/100] 1 tree, 31 leaves, max depth = 11, train loss: 0.11674, val loss: 0.11716, in 0.108s\n",
      "[32/100] 1 tree, 31 leaves, max depth = 15, train loss: 0.11673, val loss: 0.11716, in 0.098s\n",
      "[33/100] 1 tree, 31 leaves, max depth = 13, train loss: 0.11672, val loss: 0.11716, in 0.093s\n",
      "[34/100] 1 tree, 31 leaves, max depth = 12, train loss: 0.11670, val loss: 0.11716, in 0.115s\n",
      "[35/100] 1 tree, 31 leaves, max depth = 11, train loss: 0.11670, val loss: 0.11716, in 0.090s\n",
      "[36/100] 1 tree, 31 leaves, max depth = 13, train loss: 0.11669, val loss: 0.11716, in 0.108s\n",
      "[37/100] 1 tree, 31 leaves, max depth = 15, train loss: 0.11667, val loss: 0.11716, in 0.108s\n",
      "[38/100] 1 tree, 31 leaves, max depth = 11, train loss: 0.11666, val loss: 0.11716, in 0.095s\n",
      "[39/100] 1 tree, 31 leaves, max depth = 11, train loss: 0.11665, val loss: 0.11716, in 0.115s\n",
      "[40/100] 1 tree, 31 leaves, max depth = 12, train loss: 0.11665, val loss: 0.11716, in 0.082s\n",
      "[41/100] 1 tree, 31 leaves, max depth = 14, train loss: 0.11664, val loss: 0.11716, in 0.129s\n",
      "[42/100] 1 tree, 31 leaves, max depth = 11, train loss: 0.11663, val loss: 0.11716, in 0.096s\n",
      "[43/100] 1 tree, 31 leaves, max depth = 13, train loss: 0.11662, val loss: 0.11716, in 0.072s\n",
      "[44/100] 1 tree, 31 leaves, max depth = 15, train loss: 0.11661, val loss: 0.11716, in 0.117s\n",
      "[45/100] 1 tree, 31 leaves, max depth = 16, train loss: 0.11660, val loss: 0.11716, in 0.080s\n",
      "[46/100] 1 tree, 31 leaves, max depth = 11, train loss: 0.11659, val loss: 0.11716, in 0.100s\n",
      "[47/100] 1 tree, 31 leaves, max depth = 11, train loss: 0.11658, val loss: 0.11716, in 0.085s\n",
      "[48/100] 1 tree, 31 leaves, max depth = 12, train loss: 0.11657, val loss: 0.11716, in 0.105s\n",
      "[49/100] 1 tree, 31 leaves, max depth = 12, train loss: 0.11656, val loss: 0.11716, in 0.124s\n",
      "[50/100] 1 tree, 31 leaves, max depth = 10, train loss: 0.11655, val loss: 0.11716, in 0.122s\n",
      "[51/100] 1 tree, 31 leaves, max depth = 13, train loss: 0.11655, val loss: 0.11716, in 0.093s\n",
      "[52/100] 1 tree, 31 leaves, max depth = 12, train loss: 0.11654, val loss: 0.11717, in 0.068s\n",
      "Fit 52 trees in 10.151 s, (1612 total leaves)\n",
      "Time spent computing histograms: 5.081s\n",
      "Time spent finding best splits:  0.047s\n",
      "Time spent applying splits:      0.216s\n",
      "Time spent predicting:           0.064s\n"
     ]
    },
    {
     "data": {
      "text/html": [
       "<style>#sk-container-id-2 {color: black;background-color: white;}#sk-container-id-2 pre{padding: 0;}#sk-container-id-2 div.sk-toggleable {background-color: white;}#sk-container-id-2 label.sk-toggleable__label {cursor: pointer;display: block;width: 100%;margin-bottom: 0;padding: 0.3em;box-sizing: border-box;text-align: center;}#sk-container-id-2 label.sk-toggleable__label-arrow:before {content: \"▸\";float: left;margin-right: 0.25em;color: #696969;}#sk-container-id-2 label.sk-toggleable__label-arrow:hover:before {color: black;}#sk-container-id-2 div.sk-estimator:hover label.sk-toggleable__label-arrow:before {color: black;}#sk-container-id-2 div.sk-toggleable__content {max-height: 0;max-width: 0;overflow: hidden;text-align: left;background-color: #f0f8ff;}#sk-container-id-2 div.sk-toggleable__content pre {margin: 0.2em;color: black;border-radius: 0.25em;background-color: #f0f8ff;}#sk-container-id-2 input.sk-toggleable__control:checked~div.sk-toggleable__content {max-height: 200px;max-width: 100%;overflow: auto;}#sk-container-id-2 input.sk-toggleable__control:checked~label.sk-toggleable__label-arrow:before {content: \"▾\";}#sk-container-id-2 div.sk-estimator input.sk-toggleable__control:checked~label.sk-toggleable__label {background-color: #d4ebff;}#sk-container-id-2 div.sk-label input.sk-toggleable__control:checked~label.sk-toggleable__label {background-color: #d4ebff;}#sk-container-id-2 input.sk-hidden--visually {border: 0;clip: rect(1px 1px 1px 1px);clip: rect(1px, 1px, 1px, 1px);height: 1px;margin: -1px;overflow: hidden;padding: 0;position: absolute;width: 1px;}#sk-container-id-2 div.sk-estimator {font-family: monospace;background-color: #f0f8ff;border: 1px dotted black;border-radius: 0.25em;box-sizing: border-box;margin-bottom: 0.5em;}#sk-container-id-2 div.sk-estimator:hover {background-color: #d4ebff;}#sk-container-id-2 div.sk-parallel-item::after {content: \"\";width: 100%;border-bottom: 1px solid gray;flex-grow: 1;}#sk-container-id-2 div.sk-label:hover label.sk-toggleable__label {background-color: #d4ebff;}#sk-container-id-2 div.sk-serial::before {content: \"\";position: absolute;border-left: 1px solid gray;box-sizing: border-box;top: 0;bottom: 0;left: 50%;z-index: 0;}#sk-container-id-2 div.sk-serial {display: flex;flex-direction: column;align-items: center;background-color: white;padding-right: 0.2em;padding-left: 0.2em;position: relative;}#sk-container-id-2 div.sk-item {position: relative;z-index: 1;}#sk-container-id-2 div.sk-parallel {display: flex;align-items: stretch;justify-content: center;background-color: white;position: relative;}#sk-container-id-2 div.sk-item::before, #sk-container-id-2 div.sk-parallel-item::before {content: \"\";position: absolute;border-left: 1px solid gray;box-sizing: border-box;top: 0;bottom: 0;left: 50%;z-index: -1;}#sk-container-id-2 div.sk-parallel-item {display: flex;flex-direction: column;z-index: 1;position: relative;background-color: white;}#sk-container-id-2 div.sk-parallel-item:first-child::after {align-self: flex-end;width: 50%;}#sk-container-id-2 div.sk-parallel-item:last-child::after {align-self: flex-start;width: 50%;}#sk-container-id-2 div.sk-parallel-item:only-child::after {width: 0;}#sk-container-id-2 div.sk-dashed-wrapped {border: 1px dashed gray;margin: 0 0.4em 0.5em 0.4em;box-sizing: border-box;padding-bottom: 0.4em;background-color: white;}#sk-container-id-2 div.sk-label label {font-family: monospace;font-weight: bold;display: inline-block;line-height: 1.2em;}#sk-container-id-2 div.sk-label-container {text-align: center;}#sk-container-id-2 div.sk-container {/* jupyter's `normalize.less` sets `[hidden] { display: none; }` but bootstrap.min.css set `[hidden] { display: none !important; }` so we also need the `!important` here to be able to override the default hidden behavior on the sphinx rendered scikit-learn.org. See: https://github.com/scikit-learn/scikit-learn/issues/21755 */display: inline-block !important;position: relative;}#sk-container-id-2 div.sk-text-repr-fallback {display: none;}</style><div id=\"sk-container-id-2\" class=\"sk-top-container\"><div class=\"sk-text-repr-fallback\"><pre>HistGradientBoostingRegressor(verbose=1)</pre><b>In a Jupyter environment, please rerun this cell to show the HTML representation or trust the notebook. <br />On GitHub, the HTML representation is unable to render, please try loading this page with nbviewer.org.</b></div><div class=\"sk-container\" hidden><div class=\"sk-item\"><div class=\"sk-estimator sk-toggleable\"><input class=\"sk-toggleable__control sk-hidden--visually\" id=\"sk-estimator-id-2\" type=\"checkbox\" checked><label for=\"sk-estimator-id-2\" class=\"sk-toggleable__label sk-toggleable__label-arrow\">HistGradientBoostingRegressor</label><div class=\"sk-toggleable__content\"><pre>HistGradientBoostingRegressor(verbose=1)</pre></div></div></div></div></div>"
      ],
      "text/plain": [
       "HistGradientBoostingRegressor(verbose=1)"
      ]
     },
     "execution_count": 24,
     "metadata": {},
     "output_type": "execute_result"
    }
   ],
   "source": [
    "gbm=sklearn.ensemble.HistGradientBoostingRegressor(verbose=1)\n",
    "gbm.fit(lightgbm_X_train,lightgbm_Y_train)"
   ]
  },
  {
   "cell_type": "code",
   "execution_count": 25,
   "id": "852c1edf",
   "metadata": {},
   "outputs": [],
   "source": [
    "lightgbm_preds=gbm.predict(lightgbm_X_test)"
   ]
  },
  {
   "cell_type": "code",
   "execution_count": 26,
   "id": "8a4bc7ef",
   "metadata": {},
   "outputs": [
    {
     "data": {
      "text/plain": [
       "Text(0.5, 1.0, 'lightgbm\\nMSE 0.23403468713851064')"
      ]
     },
     "execution_count": 26,
     "metadata": {},
     "output_type": "execute_result"
    },
    {
     "data": {
      "image/png": "[encoded data removed]",
      "text/plain": [
       "<Figure size 640x480 with 1 Axes>"
      ]
     },
     "metadata": {},
     "output_type": "display_data"
    }
   ],
   "source": [
    "plt.scatter(lightgbm_Y_test,lightgbm_preds,s=1,alpha=.1)\n",
    "\n",
    "plt.plot([0,1],[0,1],'r-')\n",
    "\n",
    "plt.ylabel(\"prediction\")\n",
    "plt.xlabel(\"truth\")\n",
    "plt.title(f\"lightgbm\\nMSE {np.mean((lightgbm_preds-lightgbm_Y_test)**2)}\")"
   ]
  },
  {
   "cell_type": "code",
   "execution_count": 27,
   "id": "f34742a4",
   "metadata": {},
   "outputs": [],
   "source": [
    "# pylint: disable=invalid-name, too-many-branches, too-many-statements, unspecified-encoding, R0801\n",
    "import pickle\n",
    "import json\n",
    "import shap\n",
    "import anndata\n",
    "import numpy as np\n",
    "import pandas as pd\n",
    "import matplotlib.pyplot as plt\n",
    "import scipy as sp\n",
    "import scipy.sparse.linalg\n",
    "from scipy.spatial import cKDTree\n",
    "import torch\n",
    "import h5py\n",
    "import tqdm.notebook\n",
    "import sklearn.neighbors\n",
    "from sklearn.ensemble import HistGradientBoostingRegressor\n",
    "from sklearn.preprocessing import StandardScaler\n",
    "from sklearn.model_selection import GridSearchCV\n",
    "\n",
    "\n",
    "rng = np.random.default_rng()\n",
    "\n",
    "\n",
    "original_url = \"https://datadryad.org/stash/downloads/file_stream/67671\"\n",
    "csv_location = \"data/spatial/moffit_merfish/original_file.csv\"\n",
    "h5ad_location = \"data/spatial/moffit_merfish/original_file.h5ad\"\n",
    "connectivity_matrix_template = \"data/spatial/moffit_merfish/connectivity_%d%s.h5ad\"\n",
    "genetypes_location = \"data/spatial/moffit_merfish/genetypes.pkl\""
   ]
  },
  {
   "cell_type": "code",
   "execution_count": 36,
   "id": "ab102af9",
   "metadata": {},
   "outputs": [
    {
     "name": "stderr",
     "output_type": "stream",
     "text": [
      "X.dtype being converted to np.float32 from float64. In the next version of anndata (0.9) conversion will not be automatic. Pass dtype explicitly to avoid this warning. Pass `AnnData(X, dtype=X.dtype, ...)` to get the future behavour.\n",
      "X.dtype being converted to np.float32 from float64. In the next version of anndata (0.9) conversion will not be automatic. Pass dtype explicitly to avoid this warning. Pass `AnnData(X, dtype=X.dtype, ...)` to get the future behavour.\n"
     ]
    },
    {
     "data": {
      "application/vnd.jupyter.widget-view+json": {
       "model_id": "81aa38c586504aa29e847cc50921e5d6",
       "version_major": 2,
       "version_minor": 0
      },
      "text/plain": [
       "  0%|          | 0/181 [00:00<?, ?it/s]"
      ]
     },
     "metadata": {},
     "output_type": "display_data"
    },
    {
     "name": "stderr",
     "output_type": "stream",
     "text": [
      "X.dtype being converted to np.float32 from float64. In the next version of anndata (0.9) conversion will not be automatic. Pass dtype explicitly to avoid this warning. Pass `AnnData(X, dtype=X.dtype, ...)` to get the future behavour.\n"
     ]
    }
   ],
   "source": [
    "dataframe = pd.read_csv(csv_location)\n",
    "\n",
    "dct = {}\n",
    "for colnm, dtype in zip(dataframe.keys()[:9], dataframe.dtypes[:9]):\n",
    "    if dtype.kind == \"O\":\n",
    "        dct[colnm] = np.require(dataframe[colnm], dtype=\"U36\")\n",
    "    else:\n",
    "        dct[colnm] = np.require(dataframe[colnm])\n",
    "# change expression here to make it synthetic\n",
    "expression = np.array(dataframe[dataframe.keys()[9:]]).astype(np.float64)\n",
    "gene_names = np.array(dataframe.keys()[9:], dtype=\"U80\")\n",
    "cellid = dct.pop(\"Cell_ID\")\n",
    "\n",
    "ad = anndata.AnnData(\n",
    "    X=expression,\n",
    "    var=pd.DataFrame(index=gene_names),\n",
    "    obs=pd.DataFrame(dct, index=cellid),\n",
    ")\n",
    "\n",
    "ad.write_h5ad(h5ad_location)\n",
    "\n",
    "ligands = np.array(\n",
    "    [\n",
    "        \"Cbln1\",\n",
    "        \"Cxcl14\",\n",
    "        \"Cbln2\",\n",
    "        \"Vgf\",\n",
    "        \"Scg2\",\n",
    "        \"Cartpt\",\n",
    "        \"Tac2\",\n",
    "        \"Bdnf\",\n",
    "        \"Bmp7\",\n",
    "        \"Cyr61\",\n",
    "        \"Fn1\",\n",
    "        \"Fst\",\n",
    "        \"Gad1\",\n",
    "        \"Ntng1\",\n",
    "        \"Pnoc\",\n",
    "        \"Selplg\",\n",
    "        \"Sema3c\",\n",
    "        \"Sema4d\",\n",
    "        \"Serpine1\",\n",
    "        \"Adcyap1\",\n",
    "        \"Cck\",\n",
    "        \"Crh\",\n",
    "        \"Gal\",\n",
    "        \"Gnrh1\",\n",
    "        \"Nts\",\n",
    "        \"Oxt\",\n",
    "        \"Penk\",\n",
    "        \"Sst\",\n",
    "        \"Tac1\",\n",
    "        \"Trh\",\n",
    "        \"Ucn3\",\n",
    "    ]\n",
    ")\n",
    "\n",
    "receptors = np.array(\n",
    "    [\n",
    "        \"Crhbp\",\n",
    "        \"Gabra1\",\n",
    "        \"Gpr165\",\n",
    "        \"Glra3\",\n",
    "        \"Gabrg1\",\n",
    "        \"Adora2a\",\n",
    "        \"Avpr1a\",\n",
    "        \"Avpr2\",\n",
    "        \"Brs3\",\n",
    "        \"Calcr\",\n",
    "        \"Cckar\",\n",
    "        \"Cckbr\",\n",
    "        \"Crhr1\",\n",
    "        \"Crhr2\",\n",
    "        \"Galr1\",\n",
    "        \"Galr2\",\n",
    "        \"Grpr\",\n",
    "        \"Htr2c\",\n",
    "        \"Igf1r\",\n",
    "        \"Igf2r\",\n",
    "        \"Kiss1r\",\n",
    "        \"Lepr\",\n",
    "        \"Lpar1\",\n",
    "        \"Mc4r\",\n",
    "        \"Npy1r\",\n",
    "        \"Npy2r\",\n",
    "        \"Ntsr1\",\n",
    "        \"Oprd1\",\n",
    "        \"Oprk1\",\n",
    "        \"Oprl1\",\n",
    "        \"Oxtr\",\n",
    "        \"Pdgfra\",\n",
    "        \"Prlr\",\n",
    "        \"Ramp3\",\n",
    "        \"Rxfp1\",\n",
    "        \"Slc17a7\",\n",
    "        \"Slc18a2\",\n",
    "        \"Tacr1\",\n",
    "        \"Tacr3\",\n",
    "        \"Trhr\",\n",
    "    ]\n",
    ")\n",
    "\n",
    "response_genes = np.array(\n",
    "    [\n",
    "        \"Ace2\",\n",
    "        \"Aldh1l1\",\n",
    "        \"Amigo2\",\n",
    "        \"Ano3\",\n",
    "        \"Aqp4\",\n",
    "        \"Ar\",\n",
    "        \"Arhgap36\",\n",
    "        \"Baiap2\",\n",
    "        \"Ccnd2\",\n",
    "        \"Cd24a\",\n",
    "        \"Cdkn1a\",\n",
    "        \"Cenpe\",\n",
    "        \"Chat\",\n",
    "        \"Coch\",\n",
    "        \"Col25a1\",\n",
    "        \"Cplx3\",\n",
    "        \"Cpne5\",\n",
    "        \"Creb3l1\",\n",
    "        \"Cspg5\",\n",
    "        \"Cyp19a1\",\n",
    "        \"Cyp26a1\",\n",
    "        \"Dgkk\",\n",
    "        \"Ebf3\",\n",
    "        \"Egr2\",\n",
    "        \"Ermn\",\n",
    "        \"Esr1\",\n",
    "        \"Etv1\",\n",
    "        \"Fbxw13\",\n",
    "        \"Fezf1\",\n",
    "        \"Gbx2\",\n",
    "        \"Gda\",\n",
    "        \"Gem\",\n",
    "        \"Gjc3\",\n",
    "        \"Greb1\",\n",
    "        \"Irs4\",\n",
    "        \"Isl1\",\n",
    "        \"Klf4\",\n",
    "        \"Krt90\",\n",
    "        \"Lmod1\",\n",
    "        \"Man1a\",\n",
    "        \"Mbp\",\n",
    "        \"Mki67\",\n",
    "        \"Mlc1\",\n",
    "        \"Myh11\",\n",
    "        \"Ndnf\",\n",
    "        \"Ndrg1\",\n",
    "        \"Necab1\",\n",
    "        \"Nnat\",\n",
    "        \"Nos1\",\n",
    "        \"Npas1\",\n",
    "        \"Nup62cl\",\n",
    "        \"Omp\",\n",
    "        \"Onecut2\",\n",
    "        \"Opalin\",\n",
    "        \"Pak3\",\n",
    "        \"Pcdh11x\",\n",
    "        \"Pgr\",\n",
    "        \"Plin3\",\n",
    "        \"Pou3f2\",\n",
    "        \"Rgs2\",\n",
    "        \"Rgs5\",\n",
    "        \"Rnd3\",\n",
    "        \"Scgn\",\n",
    "        \"Serpinb1b\",\n",
    "        \"Sgk1\",\n",
    "        \"Slc15a3\",\n",
    "        \"Slc17a6\",\n",
    "        \"Slc17a8\",\n",
    "        \"Slco1a4\",\n",
    "        \"Sln\",\n",
    "        \"Sox4\",\n",
    "        \"Sox6\",\n",
    "        \"Sox8\",\n",
    "        \"Sp9\",\n",
    "        \"Synpr\",\n",
    "        \"Syt2\",\n",
    "        \"Syt4\",\n",
    "        \"Sytl4\",\n",
    "        \"Th\",\n",
    "        \"Tiparp\",\n",
    "        \"Tmem108\",\n",
    "        \"Traf4\",\n",
    "        \"Ttn\",\n",
    "        \"Ttyh2\",\n",
    "    ]\n",
    ")\n",
    "cell_types = [\n",
    "    \"Ambiguous\",\n",
    "    \"Astrocyte\",\n",
    "    \"Endothelial 1\",\n",
    "    \"Endothelial 2\",\n",
    "    \"Endothelial 3\",\n",
    "    \"Ependymal\",\n",
    "    \"Excitatory\",\n",
    "    \"Inhibitory\",\n",
    "    \"Microglia\",\n",
    "    \"OD Immature 1\",\n",
    "    \"OD Immature 2\",\n",
    "    \"OD Mature 1\",\n",
    "    \"OD Mature 2\",\n",
    "    \"OD Mature 3\",\n",
    "    \"OD Mature 4\",\n",
    "    \"Pericytes\",\n",
    "]\n",
    "\n",
    "with open(genetypes_location, \"rb\") as f:\n",
    "    genetypes = pickle.load(f)\n",
    "\n",
    "neighset = genetypes[\"ligands\"]\n",
    "oset = np.r_[genetypes[\"ligands\"], genetypes[\"receptors\"]]\n",
    "# oset=neighset\n",
    "\n",
    "# onehot encode cell classes\n",
    "def oh_encode(lst):\n",
    "    lst = np.array(lst)\n",
    "    group_names = np.unique(lst)\n",
    "    group_indexes = np.zeros((len(lst), len(group_names)), dtype=bool)\n",
    "    for i, nm in enumerate(group_names):\n",
    "        group_indexes[lst == nm, i] = True\n",
    "    return group_names, group_indexes\n",
    "\n",
    "\n",
    "cell_classes, cell_class_onehots = oh_encode(ad.obs[\"Cell_class\"])\n",
    "\n",
    "# a function to construct a prediction problem for a subset of cells\n",
    "\n",
    "\n",
    "def construct_problem(\n",
    "    mask,\n",
    "    target_gene,\n",
    "    neighbor_genes,\n",
    "    self_genes,\n",
    "    filter_excitatory=False,\n",
    "    synthetic_mode=0,\n",
    "):\n",
    "    \"\"\"\n",
    "    mask -- set of cells\n",
    "    target_gene -- gene to predict\n",
    "    neighbor_genes -- names of genes which will be read from neighbors\n",
    "    self_genes -- names of genes which will be read from target cell\n",
    "    \"\"\"\n",
    "\n",
    "    collected_feature_names = []\n",
    "\n",
    "    # load subset of data relevant to mask\n",
    "    local_edges = connectivity_matrix[mask][:, mask]  # get edges for subset\n",
    "    local_pos = ad.obs[mask][['Centroid_X','Centroid_Y']]\n",
    "\n",
    "    true_local_edges = true_connectivity_matrix[mask][:, mask]  # get edges for subset\n",
    "    pos = cKDTree(local_pos)\n",
    "    true_local_distances = pos.sparse_distance_matrix(cKDTree(local_pos), true_radius)\n",
    "    selfset_idxs = [\n",
    "        gene_lookup[x] for x in self_genes\n",
    "    ]  # collect the column indexes associated with them\n",
    "\n",
    "    with h5py.File(f\"{basefn}/synth{synthetic_mode}.hdf5\", \"r\") as data:\n",
    "        local_processed_expression = data[\"expression\"][:].astype(\"float64\")[mask]\n",
    "    selfset_exprs = local_processed_expression[\n",
    "        :, selfset_idxs\n",
    "    ]  # collect ligand and receptor expressions\n",
    "    local_processed_expression = np.log1p(local_processed_expression)\n",
    "    selfset_exprs = np.log1p(selfset_exprs)\n",
    "    collected_feature_names += list(self_genes)\n",
    "\n",
    "    neighborset_idxs = [1] + [\n",
    "        gene_lookup[x] for x in neighbor_genes\n",
    "    ]  # collect the column indexes associated with them\n",
    "    neighset_exprs = local_processed_expression[\n",
    "        :, neighborset_idxs\n",
    "    ] # collect ligand and receptor expressions\n",
    "\n",
    "    collected_feature_names += [x + \" from Neighbors\" for x in neighbor_genes]\n",
    "\n",
    "    n_neighs = local_edges @ np.ones(local_edges.shape[0])\n",
    "    # SANITY CHECK REMOVES DIVISION\n",
    "    neigh_avgs = (local_edges @ neighset_exprs)# / n_neighs[\n",
    "#         :, None\n",
    "#     ]  # average ligand/receptor for neighbors\n",
    "    print(neighset_exprs)\n",
    "    print(neighborset_idxs)\n",
    "    print(neigh_avgs)\n",
    "    print(np.max(local_edges))\n",
    "\n",
    "    neigh_cellclass_avgs = (local_edges @ cell_class_onehots[mask]) / n_neighs[\n",
    "        :, None\n",
    "    ]  # celltype simplex\n",
    "\n",
    "    collected_feature_names += [f\"Cell Class {cell_types[x]}\" for x in range(16)]\n",
    "\n",
    "    positions = np.array(ad.obs[[\"Centroid_X\", \"Centroid_Y\", \"Bregma\"]])[\n",
    "        mask\n",
    "    ]  # get positions\n",
    "\n",
    "    collected_feature_names += [\"Centroid_X\", \"Centroid_Y\", \"Bregma\"]\n",
    "\n",
    "    covariates = np.c_[\n",
    "        local_processed_expression[:, 1:], neigh_avgs, neigh_cellclass_avgs, positions\n",
    "    ]  # collect all covariates\n",
    "    covariates = np.c_[\n",
    "        local_processed_expression[:, 1:], neigh_avgs#, neigh_avgs, neigh_cellclass_avgs, positions\n",
    "    ]  # collect all covariates\n",
    "    predict = local_processed_expression[\n",
    "        :, gene_lookup[target_gene]\n",
    "    ]  # collect what we're supposed to predict\n",
    "\n",
    "    if filter_excitatory:\n",
    "\n",
    "        excites = (ad.obs[\"Cell_class\"] == \"Excitatory\")[\n",
    "            mask\n",
    "        ]  # get the subset of these cells which are excitatory\n",
    "        covariates = covariates[excites]  # subset to excites\n",
    "        predict = predict[excites]  # subset to excites\n",
    "\n",
    "    return covariates, predict, collected_feature_names\n",
    "\n",
    "\n",
    "dataframe = pd.read_csv(csv_location)\n",
    "\n",
    "dct = {}\n",
    "for colnm, dtype in zip(dataframe.keys()[:9], dataframe.dtypes[:9]):\n",
    "    if dtype.kind == \"O\":\n",
    "        dct[colnm] = np.require(dataframe[colnm], dtype=\"U36\")\n",
    "    else:\n",
    "        dct[colnm] = np.require(dataframe[colnm])\n",
    "expression = np.array(dataframe[dataframe.keys()[9:]]).astype(np.float64)\n",
    "gene_names = np.array(dataframe.keys()[9:], dtype=\"U80\")\n",
    "cellid = dct.pop(\"Cell_ID\")\n",
    "\n",
    "ad = anndata.AnnData(\n",
    "    X=expression,\n",
    "    var=pd.DataFrame(index=gene_names),\n",
    "    obs=pd.DataFrame(dct, index=cellid),\n",
    ")\n",
    "\n",
    "ad.write_h5ad(h5ad_location)\n",
    "\n",
    "ad = anndata.read_h5ad(h5ad_location)\n",
    "animal_ids = np.unique(ad.obs[\"Animal_ID\"])\n",
    "bregmas = np.unique(ad.obs[\"Bregma\"])\n",
    "tissue_id = np.zeros(len(ad), dtype=int)\n",
    "n_tissues = 0\n",
    "\n",
    "for aid in animal_ids:\n",
    "    for bregma in bregmas:\n",
    "        good = (ad.obs[\"Animal_ID\"] == aid) & (ad.obs[\"Bregma\"] == bregma)\n",
    "        if np.sum(good) > 0:\n",
    "            tissue_id[good] = n_tissues\n",
    "            n_tissues += 1\n",
    "ad.obs[\"Tissue_ID\"] = tissue_id\n",
    "ad.write_h5ad(h5ad_location)\n",
    "\n",
    "# Building Radius 30 Graph (Ground Truth)\n",
    "ad = anndata.read_h5ad(h5ad_location)\n",
    "row = np.zeros(0, dtype=int)\n",
    "col = np.zeros(0, dtype=int)\n",
    "true_radius = 30\n",
    "\n",
    "for tid in tqdm.notebook.tqdm(np.unique(ad.obs[\"Tissue_ID\"])):\n",
    "    good = ad.obs[\"Tissue_ID\"] == tid\n",
    "    pos = np.array(ad.obs[good][[\"Centroid_X\", \"Centroid_Y\"]])\n",
    "    idxs = np.where(good)[0]\n",
    "    p = sklearn.neighbors.KDTree(pos)\n",
    "    true_edges, true_distances = p.query_radius(\n",
    "        pos, r=true_radius, return_distance=True\n",
    "    )\n",
    "    true_distances = np.concatenate(\n",
    "        [\n",
    "            np.c_[\n",
    "                np.repeat(i, len(true_distances[i])),\n",
    "                list(true_distances[i]),\n",
    "            ]\n",
    "            for i in range(len(true_distances))\n",
    "        ],\n",
    "        axis=0,\n",
    "    )\n",
    "    true_edges = np.concatenate(\n",
    "        [\n",
    "            np.c_[\n",
    "                np.repeat(i, len(true_edges[i])),\n",
    "                list(true_edges[i]),\n",
    "            ]\n",
    "            for i in range(len(true_edges))\n",
    "        ],\n",
    "        axis=0,\n",
    "    )\n",
    "    col = np.r_[\n",
    "        col,\n",
    "        idxs[[y for (x, y) in true_edges]]\n",
    "    ]\n",
    "    row = np.r_[\n",
    "        row,\n",
    "        idxs[[x for (x, y) in true_edges]]\n",
    "    ]\n",
    "\n",
    "E = (\n",
    "    sp.sparse.coo_matrix((np.ones(len(col)), (row, col)), shape=(len(ad), len(ad)))\n",
    ").tocsr()\n",
    "\n",
    "anndata.AnnData(E).write_h5ad(connectivity_matrix_template % (true_radius, \"rad\"))\n",
    "\n",
    "# load data\n",
    "# These are set above. You can change these here if you want though.\n",
    "# radius=60\n",
    "# mode=\"rad\"\n",
    "ad = anndata.read_h5ad(h5ad_location)\n",
    "true_connectivity_matrix = anndata.read_h5ad(\n",
    "    connectivity_matrix_template % (true_radius, \"rad\")\n",
    ").X\n",
    "gene_lookup = {x: i for (i, x) in enumerate(ad.var.index)}\n",
    "\n",
    "results_dict = {}\n",
    "\n",
    "response_gene = \"Ace2\"  # make the response gene the first response"
   ]
  },
  {
   "cell_type": "code",
   "execution_count": 37,
   "id": "6d732616",
   "metadata": {},
   "outputs": [
    {
     "data": {
      "application/vnd.jupyter.widget-view+json": {
       "model_id": "90fdc3c7a7864683a48a845503ed6b16",
       "version_major": 2,
       "version_minor": 0
      },
      "text/plain": [
       "  0%|          | 0/181 [00:00<?, ?it/s]"
      ]
     },
     "metadata": {},
     "output_type": "display_data"
    },
    {
     "name": "stderr",
     "output_type": "stream",
     "text": [
      "X.dtype being converted to np.float32 from float64. In the next version of anndata (0.9) conversion will not be automatic. Pass dtype explicitly to avoid this warning. Pass `AnnData(X, dtype=X.dtype, ...)` to get the future behavour.\n"
     ]
    }
   ],
   "source": [
    "synth_experiment=0\n",
    "radius_value=30\n",
    "\n",
    "# Build the Current Radius Graph\n",
    "ad = anndata.read_h5ad(h5ad_location)\n",
    "row = np.zeros(0, dtype=int)\n",
    "col = np.zeros(0, dtype=int)\n",
    "radius = radius_value\n",
    "\n",
    "for tid in tqdm.notebook.tqdm(np.unique(ad.obs[\"Tissue_ID\"])):\n",
    "    good = ad.obs[\"Tissue_ID\"] == tid\n",
    "    pos = np.array(ad.obs[good][[\"Centroid_X\", \"Centroid_Y\"]])\n",
    "    idxs = np.where(good)[0]\n",
    "    p = sklearn.neighbors.KDTree(pos)\n",
    "    # E=p.query_ball_point(pos, r=radius, return_sorted=False)\n",
    "    edges, distances = p.query_radius(pos, r=radius, return_distance=True)\n",
    "    distances = np.concatenate(\n",
    "        [\n",
    "            np.c_[\n",
    "                np.repeat(i, len(distances[i])),\n",
    "                list(distances[i]),\n",
    "            ]\n",
    "            for i in range(len(distances))\n",
    "        ],\n",
    "        axis=0,\n",
    "    )\n",
    "    edges = np.concatenate(\n",
    "        [\n",
    "            np.c_[\n",
    "                np.repeat(i, len(edges[i])),\n",
    "                list(edges[i]),\n",
    "            ]\n",
    "            for i in range(len(edges))\n",
    "        ],\n",
    "        axis=0,\n",
    "    )\n",
    "    col = np.r_[\n",
    "        col,\n",
    "        idxs[[y for (x, y) in edges]]\n",
    "    ]\n",
    "    row = np.r_[\n",
    "        row,\n",
    "        idxs[[x for (x, y) in edges]]\n",
    "    ]\n",
    "\n",
    "E = (\n",
    "    sp.sparse.coo_matrix(\n",
    "        (np.ones(len(col)), (row, col)), shape=(len(ad), len(ad))\n",
    "    )\n",
    ").tocsr()\n",
    "\n",
    "anndata.AnnData(E).write_h5ad(connectivity_matrix_template % (radius, \"rad\"))\n",
    "\n",
    "ad = anndata.read_h5ad(h5ad_location)\n",
    "connectivity_matrix = anndata.read_h5ad(\n",
    "    connectivity_matrix_template % (radius, \"rad\")\n",
    ").X\n",
    "gene_lookup = {x: i for (i, x) in enumerate(ad.var.index)}"
   ]
  },
  {
   "cell_type": "code",
   "execution_count": 38,
   "id": "cf5604df",
   "metadata": {},
   "outputs": [
    {
     "name": "stdout",
     "output_type": "stream",
     "text": [
      "[[0.18232156 0.         0.         ... 0.18232156 0.         0.        ]\n",
      " [0.69314718 0.18232156 0.58778667 ... 0.         0.18232156 0.        ]\n",
      " [0.18232156 0.         0.18232156 ... 0.         0.         0.        ]\n",
      " ...\n",
      " [0.         0.58778667 0.18232156 ... 0.         0.18232156 0.18232156]\n",
      " [0.18232156 0.         0.         ... 0.         0.33647224 0.18232156]\n",
      " [0.47000364 0.18232156 0.         ... 0.33647224 0.         0.        ]]\n",
      "[1, 20, 38, 21, 160, 152, 141, 156, 11, 17, 41, 50, 51, 54, 88, 103, 112, 113, 114, 116, 140, 142, 143, 145, 146, 149, 150, 151, 154, 155, 158, 159]\n",
      "[[1.0577903  0.70111536 0.77010823 ... 2.06939123 0.36464312 0.18232156]\n",
      " [1.0577903  0.70111536 0.77010823 ... 2.06939123 0.36464312 0.18232156]\n",
      " [1.39426254 0.70111536 0.95242979 ... 2.58818503 0.36464312 0.18232156]\n",
      " ...\n",
      " [0.67294448 0.92425891 0.36464312 ... 0.36464312 0.54696468 1.30465041]\n",
      " [0.18232156 0.         0.18232156 ... 0.78845738 0.33647224 0.18232156]\n",
      " [0.47000364 0.18232156 0.18232156 ... 0.5187938  0.47000364 0.33647224]]\n",
      "1.0\n",
      "[[0.         0.         0.18232156 ... 0.18232156 0.18232156 0.18232156]\n",
      " [0.         0.         0.         ... 0.18232156 0.47000364 0.18232156]\n",
      " [0.18232156 0.33647224 0.18232156 ... 0.33647224 0.         0.47000364]\n",
      " ...\n",
      " [0.47000364 0.18232156 0.         ... 0.         0.18232156 0.        ]\n",
      " [0.18232156 0.47000364 0.18232156 ... 0.         0.47000364 0.33647224]\n",
      " [0.78845738 0.78845738 0.18232156 ... 0.         0.         0.        ]]\n",
      "[1, 20, 38, 21, 160, 152, 141, 156, 11, 17, 41, 50, 51, 54, 88, 103, 112, 113, 114, 116, 140, 142, 143, 145, 146, 149, 150, 151, 154, 155, 158, 159]\n",
      "[[0.18232156 0.33647224 0.36464312 ... 0.70111536 0.6523252  0.83464676]\n",
      " [0.18232156 0.33647224 0.36464312 ... 0.70111536 0.6523252  0.83464676]\n",
      " [0.18232156 0.33647224 0.36464312 ... 0.70111536 0.6523252  0.83464676]\n",
      " ...\n",
      " [0.6523252  0.54696468 0.85526604 ... 0.54696468 0.54696468 0.5187938 ]\n",
      " [0.18232156 1.24011187 0.70111536 ... 1.28890203 1.77725483 0.70111536]\n",
      " [0.78845738 0.78845738 0.5187938  ... 0.18232156 0.         0.        ]]\n",
      "1.0\n",
      "(893456, 192) (893456,)\n",
      "(134392, 192) (134392,)\n",
      "Binning 1.235 GB of training data: 4.399 s\n",
      "Binning 0.137 GB of validation data: 0.243 s\n",
      "Fitting gradient boosted rounds:\n",
      "[1/10000] 1 tree, 31 leaves, max depth = 7, train loss: 0.10583, val loss: 0.10587, in 0.212s\n",
      "[2/10000] 1 tree, 31 leaves, max depth = 8, train loss: 0.08581, val loss: 0.08584, in 0.206s\n",
      "[3/10000] 1 tree, 31 leaves, max depth = 8, train loss: 0.06959, val loss: 0.06962, in 0.207s\n",
      "[4/10000] 1 tree, 31 leaves, max depth = 9, train loss: 0.05646, val loss: 0.05648, in 0.201s\n",
      "[5/10000] 1 tree, 31 leaves, max depth = 8, train loss: 0.04582, val loss: 0.04584, in 0.199s\n",
      "[6/10000] 1 tree, 31 leaves, max depth = 9, train loss: 0.03720, val loss: 0.03721, in 0.198s\n",
      "[7/10000] 1 tree, 31 leaves, max depth = 8, train loss: 0.03021, val loss: 0.03023, in 0.200s\n",
      "[8/10000] 1 tree, 31 leaves, max depth = 10, train loss: 0.02455, val loss: 0.02457, in 0.191s\n",
      "[9/10000] 1 tree, 31 leaves, max depth = 9, train loss: 0.01997, val loss: 0.01998, in 0.204s\n",
      "[10/10000] 1 tree, 31 leaves, max depth = 7, train loss: 0.01625, val loss: 0.01626, in 0.201s\n",
      "[11/10000] 1 tree, 31 leaves, max depth = 9, train loss: 0.01324, val loss: 0.01325, in 0.205s\n",
      "[12/10000] 1 tree, 31 leaves, max depth = 9, train loss: 0.01080, val loss: 0.01081, in 0.195s\n",
      "[13/10000] 1 tree, 31 leaves, max depth = 9, train loss: 0.00882, val loss: 0.00883, in 0.201s\n",
      "[14/10000] 1 tree, 31 leaves, max depth = 9, train loss: 0.00722, val loss: 0.00723, in 0.199s\n",
      "[15/10000] 1 tree, 31 leaves, max depth = 9, train loss: 0.00592, val loss: 0.00593, in 0.203s\n",
      "[16/10000] 1 tree, 31 leaves, max depth = 8, train loss: 0.00487, val loss: 0.00488, in 0.203s\n",
      "[17/10000] 1 tree, 31 leaves, max depth = 8, train loss: 0.00402, val loss: 0.00403, in 0.199s\n",
      "[18/10000] 1 tree, 31 leaves, max depth = 9, train loss: 0.00332, val loss: 0.00333, in 0.201s\n",
      "[19/10000] 1 tree, 31 leaves, max depth = 10, train loss: 0.00276, val loss: 0.00277, in 0.199s\n",
      "[20/10000] 1 tree, 31 leaves, max depth = 9, train loss: 0.00231, val loss: 0.00232, in 0.205s\n",
      "[21/10000] 1 tree, 31 leaves, max depth = 12, train loss: 0.00194, val loss: 0.00195, in 0.198s\n",
      "[22/10000] 1 tree, 31 leaves, max depth = 11, train loss: 0.00164, val loss: 0.00164, in 0.197s\n",
      "[23/10000] 1 tree, 31 leaves, max depth = 12, train loss: 0.00139, val loss: 0.00140, in 0.192s\n",
      "[24/10000] 1 tree, 31 leaves, max depth = 8, train loss: 0.00119, val loss: 0.00120, in 0.206s\n",
      "[25/10000] 1 tree, 31 leaves, max depth = 7, train loss: 0.00103, val loss: 0.00104, in 0.211s\n",
      "[26/10000] 1 tree, 31 leaves, max depth = 8, train loss: 0.00090, val loss: 0.00091, in 0.206s\n",
      "[27/10000] 1 tree, 31 leaves, max depth = 8, train loss: 0.00079, val loss: 0.00080, in 0.196s\n",
      "[28/10000] 1 tree, 31 leaves, max depth = 7, train loss: 0.00070, val loss: 0.00071, in 0.213s\n",
      "[29/10000] 1 tree, 31 leaves, max depth = 9, train loss: 0.00063, val loss: 0.00064, in 0.200s\n",
      "[30/10000] 1 tree, 31 leaves, max depth = 9, train loss: 0.00058, val loss: 0.00058, in 0.216s\n",
      "[31/10000] 1 tree, 31 leaves, max depth = 7, train loss: 0.00053, val loss: 0.00054, in 0.204s\n",
      "[32/10000] 1 tree, 31 leaves, max depth = 8, train loss: 0.00049, val loss: 0.00050, in 0.203s\n",
      "[33/10000] 1 tree, 31 leaves, max depth = 10, train loss: 0.00046, val loss: 0.00047, in 0.197s\n",
      "[34/10000] 1 tree, 31 leaves, max depth = 9, train loss: 0.00043, val loss: 0.00044, in 0.208s\n",
      "[35/10000] 1 tree, 31 leaves, max depth = 9, train loss: 0.00041, val loss: 0.00042, in 0.200s\n",
      "[36/10000] 1 tree, 31 leaves, max depth = 9, train loss: 0.00039, val loss: 0.00040, in 0.198s\n",
      "[37/10000] 1 tree, 31 leaves, max depth = 7, train loss: 0.00038, val loss: 0.00039, in 0.204s\n",
      "[38/10000] 1 tree, 31 leaves, max depth = 8, train loss: 0.00036, val loss: 0.00037, in 0.200s\n",
      "[39/10000] 1 tree, 31 leaves, max depth = 9, train loss: 0.00035, val loss: 0.00036, in 0.197s\n",
      "[40/10000] 1 tree, 31 leaves, max depth = 8, train loss: 0.00035, val loss: 0.00035, in 0.201s\n",
      "[41/10000] 1 tree, 31 leaves, max depth = 8, train loss: 0.00034, val loss: 0.00035, in 0.191s\n",
      "[42/10000] 1 tree, 31 leaves, max depth = 9, train loss: 0.00033, val loss: 0.00034, in 0.196s\n",
      "[43/10000] 1 tree, 31 leaves, max depth = 9, train loss: 0.00033, val loss: 0.00034, in 0.200s\n",
      "[44/10000] 1 tree, 31 leaves, max depth = 9, train loss: 0.00032, val loss: 0.00033, in 0.190s\n",
      "[45/10000] 1 tree, 31 leaves, max depth = 9, train loss: 0.00032, val loss: 0.00033, in 0.200s\n",
      "[46/10000] 1 tree, 31 leaves, max depth = 9, train loss: 0.00031, val loss: 0.00032, in 0.201s\n",
      "[47/10000] 1 tree, 31 leaves, max depth = 9, train loss: 0.00031, val loss: 0.00032, in 0.195s\n",
      "[48/10000] 1 tree, 31 leaves, max depth = 10, train loss: 0.00031, val loss: 0.00032, in 0.197s\n",
      "[49/10000] 1 tree, 31 leaves, max depth = 14, train loss: 0.00031, val loss: 0.00032, in 0.188s\n",
      "[50/10000] 1 tree, 31 leaves, max depth = 13, train loss: 0.00030, val loss: 0.00031, in 0.185s\n",
      "[51/10000] 1 tree, 31 leaves, max depth = 9, train loss: 0.00030, val loss: 0.00031, in 0.190s\n",
      "[52/10000] 1 tree, 31 leaves, max depth = 12, train loss: 0.00030, val loss: 0.00031, in 0.188s\n",
      "[53/10000] 1 tree, 31 leaves, max depth = 11, train loss: 0.00030, val loss: 0.00031, in 0.193s\n",
      "[54/10000] 1 tree, 31 leaves, max depth = 12, train loss: 0.00030, val loss: 0.00031, in 0.189s\n",
      "[55/10000] 1 tree, 31 leaves, max depth = 11, train loss: 0.00030, val loss: 0.00031, in 0.190s\n",
      "[56/10000] 1 tree, 31 leaves, max depth = 10, train loss: 0.00029, val loss: 0.00030, in 0.176s\n",
      "[57/10000] 1 tree, 31 leaves, max depth = 12, train loss: 0.00029, val loss: 0.00030, in 0.196s\n",
      "[58/10000] 1 tree, 31 leaves, max depth = 14, train loss: 0.00029, val loss: 0.00030, in 0.177s\n",
      "[59/10000] 1 tree, 31 leaves, max depth = 10, train loss: 0.00029, val loss: 0.00030, in 0.177s\n",
      "[60/10000] 1 tree, 31 leaves, max depth = 9, train loss: 0.00029, val loss: 0.00030, in 0.180s\n",
      "[61/10000] 1 tree, 31 leaves, max depth = 16, train loss: 0.00029, val loss: 0.00030, in 0.147s\n",
      "[62/10000] 1 tree, 31 leaves, max depth = 11, train loss: 0.00029, val loss: 0.00030, in 0.167s\n",
      "[63/10000] 1 tree, 31 leaves, max depth = 10, train loss: 0.00029, val loss: 0.00030, in 0.183s\n"
     ]
    },
    {
     "name": "stdout",
     "output_type": "stream",
     "text": [
      "[64/10000] 1 tree, 31 leaves, max depth = 12, train loss: 0.00029, val loss: 0.00029, in 0.164s\n",
      "[65/10000] 1 tree, 31 leaves, max depth = 11, train loss: 0.00028, val loss: 0.00029, in 0.155s\n",
      "[66/10000] 1 tree, 31 leaves, max depth = 12, train loss: 0.00028, val loss: 0.00029, in 0.160s\n",
      "[67/10000] 1 tree, 31 leaves, max depth = 14, train loss: 0.00028, val loss: 0.00029, in 0.147s\n",
      "[68/10000] 1 tree, 31 leaves, max depth = 14, train loss: 0.00028, val loss: 0.00029, in 0.140s\n",
      "[69/10000] 1 tree, 31 leaves, max depth = 8, train loss: 0.00028, val loss: 0.00029, in 0.141s\n",
      "[70/10000] 1 tree, 31 leaves, max depth = 9, train loss: 0.00028, val loss: 0.00029, in 0.117s\n",
      "[71/10000] 1 tree, 31 leaves, max depth = 11, train loss: 0.00028, val loss: 0.00029, in 0.175s\n",
      "[72/10000] 1 tree, 31 leaves, max depth = 10, train loss: 0.00028, val loss: 0.00029, in 0.160s\n",
      "[73/10000] 1 tree, 31 leaves, max depth = 14, train loss: 0.00028, val loss: 0.00029, in 0.148s\n",
      "[74/10000] 1 tree, 31 leaves, max depth = 12, train loss: 0.00028, val loss: 0.00029, in 0.155s\n",
      "[75/10000] 1 tree, 31 leaves, max depth = 14, train loss: 0.00028, val loss: 0.00029, in 0.151s\n",
      "[76/10000] 1 tree, 31 leaves, max depth = 12, train loss: 0.00028, val loss: 0.00029, in 0.175s\n",
      "[77/10000] 1 tree, 31 leaves, max depth = 15, train loss: 0.00028, val loss: 0.00028, in 0.132s\n",
      "[78/10000] 1 tree, 31 leaves, max depth = 11, train loss: 0.00027, val loss: 0.00028, in 0.119s\n",
      "[79/10000] 1 tree, 31 leaves, max depth = 14, train loss: 0.00027, val loss: 0.00028, in 0.160s\n",
      "[80/10000] 1 tree, 31 leaves, max depth = 9, train loss: 0.00027, val loss: 0.00028, in 0.120s\n",
      "[81/10000] 1 tree, 31 leaves, max depth = 10, train loss: 0.00027, val loss: 0.00028, in 0.125s\n",
      "[82/10000] 1 tree, 31 leaves, max depth = 13, train loss: 0.00027, val loss: 0.00028, in 0.164s\n",
      "[83/10000] 1 tree, 31 leaves, max depth = 10, train loss: 0.00027, val loss: 0.00028, in 0.080s\n",
      "[84/10000] 1 tree, 31 leaves, max depth = 14, train loss: 0.00027, val loss: 0.00028, in 0.130s\n",
      "[85/10000] 1 tree, 31 leaves, max depth = 13, train loss: 0.00027, val loss: 0.00028, in 0.081s\n",
      "[86/10000] 1 tree, 31 leaves, max depth = 11, train loss: 0.00027, val loss: 0.00028, in 0.102s\n",
      "[87/10000] 1 tree, 31 leaves, max depth = 9, train loss: 0.00027, val loss: 0.00028, in 0.120s\n",
      "[88/10000] 1 tree, 31 leaves, max depth = 9, train loss: 0.00027, val loss: 0.00028, in 0.121s\n",
      "[89/10000] 1 tree, 31 leaves, max depth = 10, train loss: 0.00027, val loss: 0.00028, in 0.126s\n",
      "[90/10000] 1 tree, 31 leaves, max depth = 12, train loss: 0.00027, val loss: 0.00028, in 0.080s\n",
      "[91/10000] 1 tree, 31 leaves, max depth = 10, train loss: 0.00027, val loss: 0.00028, in 0.103s\n",
      "[92/10000] 1 tree, 31 leaves, max depth = 8, train loss: 0.00027, val loss: 0.00028, in 0.118s\n",
      "[93/10000] 1 tree, 31 leaves, max depth = 10, train loss: 0.00027, val loss: 0.00028, in 0.105s\n",
      "[94/10000] 1 tree, 31 leaves, max depth = 10, train loss: 0.00027, val loss: 0.00028, in 0.083s\n",
      "[95/10000] 1 tree, 31 leaves, max depth = 10, train loss: 0.00027, val loss: 0.00028, in 0.163s\n",
      "[96/10000] 1 tree, 31 leaves, max depth = 10, train loss: 0.00027, val loss: 0.00028, in 0.144s\n",
      "[97/10000] 1 tree, 31 leaves, max depth = 11, train loss: 0.00027, val loss: 0.00028, in 0.117s\n",
      "[98/10000] 1 tree, 31 leaves, max depth = 13, train loss: 0.00027, val loss: 0.00028, in 0.130s\n",
      "[99/10000] 1 tree, 31 leaves, max depth = 15, train loss: 0.00027, val loss: 0.00028, in 0.104s\n",
      "[100/10000] 1 tree, 31 leaves, max depth = 12, train loss: 0.00027, val loss: 0.00028, in 0.096s\n",
      "[101/10000] 1 tree, 31 leaves, max depth = 12, train loss: 0.00027, val loss: 0.00028, in 0.103s\n",
      "[102/10000] 1 tree, 31 leaves, max depth = 10, train loss: 0.00027, val loss: 0.00028, in 0.107s\n",
      "[103/10000] 1 tree, 31 leaves, max depth = 10, train loss: 0.00027, val loss: 0.00028, in 0.078s\n",
      "[104/10000] 1 tree, 31 leaves, max depth = 10, train loss: 0.00027, val loss: 0.00028, in 0.116s\n",
      "[105/10000] 1 tree, 31 leaves, max depth = 13, train loss: 0.00027, val loss: 0.00028, in 0.095s\n",
      "[106/10000] 1 tree, 31 leaves, max depth = 12, train loss: 0.00027, val loss: 0.00028, in 0.140s\n",
      "[107/10000] 1 tree, 31 leaves, max depth = 11, train loss: 0.00027, val loss: 0.00028, in 0.095s\n",
      "[108/10000] 1 tree, 31 leaves, max depth = 12, train loss: 0.00026, val loss: 0.00028, in 0.130s\n",
      "[109/10000] 1 tree, 31 leaves, max depth = 12, train loss: 0.00026, val loss: 0.00028, in 0.105s\n",
      "[110/10000] 1 tree, 31 leaves, max depth = 12, train loss: 0.00026, val loss: 0.00028, in 0.100s\n",
      "[111/10000] 1 tree, 31 leaves, max depth = 10, train loss: 0.00026, val loss: 0.00028, in 0.112s\n",
      "[112/10000] 1 tree, 31 leaves, max depth = 8, train loss: 0.00026, val loss: 0.00028, in 0.138s\n",
      "[113/10000] 1 tree, 31 leaves, max depth = 12, train loss: 0.00026, val loss: 0.00028, in 0.076s\n",
      "[114/10000] 1 tree, 31 leaves, max depth = 11, train loss: 0.00026, val loss: 0.00028, in 0.085s\n",
      "[115/10000] 1 tree, 31 leaves, max depth = 14, train loss: 0.00026, val loss: 0.00028, in 0.102s\n",
      "[116/10000] 1 tree, 31 leaves, max depth = 13, train loss: 0.00026, val loss: 0.00028, in 0.110s\n",
      "[117/10000] 1 tree, 31 leaves, max depth = 12, train loss: 0.00026, val loss: 0.00028, in 0.094s\n",
      "[118/10000] 1 tree, 31 leaves, max depth = 10, train loss: 0.00026, val loss: 0.00028, in 0.100s\n",
      "[119/10000] 1 tree, 31 leaves, max depth = 13, train loss: 0.00026, val loss: 0.00028, in 0.105s\n",
      "[120/10000] 1 tree, 31 leaves, max depth = 13, train loss: 0.00026, val loss: 0.00028, in 0.080s\n",
      "[121/10000] 1 tree, 31 leaves, max depth = 11, train loss: 0.00026, val loss: 0.00028, in 0.095s\n",
      "[122/10000] 1 tree, 31 leaves, max depth = 10, train loss: 0.00026, val loss: 0.00028, in 0.139s\n",
      "[123/10000] 1 tree, 31 leaves, max depth = 9, train loss: 0.00026, val loss: 0.00028, in 0.147s\n",
      "[124/10000] 1 tree, 31 leaves, max depth = 12, train loss: 0.00026, val loss: 0.00028, in 0.099s\n",
      "[125/10000] 1 tree, 31 leaves, max depth = 11, train loss: 0.00026, val loss: 0.00028, in 0.077s\n",
      "[126/10000] 1 tree, 31 leaves, max depth = 12, train loss: 0.00026, val loss: 0.00028, in 0.077s\n",
      "[127/10000] 1 tree, 31 leaves, max depth = 12, train loss: 0.00026, val loss: 0.00028, in 0.112s\n",
      "[128/10000] 1 tree, 31 leaves, max depth = 9, train loss: 0.00026, val loss: 0.00028, in 0.086s\n",
      "[129/10000] 1 tree, 31 leaves, max depth = 13, train loss: 0.00026, val loss: 0.00028, in 0.128s\n",
      "[130/10000] 1 tree, 31 leaves, max depth = 13, train loss: 0.00026, val loss: 0.00028, in 0.082s\n",
      "[131/10000] 1 tree, 31 leaves, max depth = 14, train loss: 0.00026, val loss: 0.00028, in 0.109s\n",
      "[132/10000] 1 tree, 31 leaves, max depth = 11, train loss: 0.00026, val loss: 0.00028, in 0.092s\n",
      "[133/10000] 1 tree, 31 leaves, max depth = 12, train loss: 0.00026, val loss: 0.00028, in 0.085s\n",
      "[134/10000] 1 tree, 31 leaves, max depth = 11, train loss: 0.00026, val loss: 0.00028, in 0.110s\n",
      "[135/10000] 1 tree, 31 leaves, max depth = 12, train loss: 0.00026, val loss: 0.00028, in 0.122s\n",
      "[136/10000] 1 tree, 31 leaves, max depth = 9, train loss: 0.00026, val loss: 0.00028, in 0.125s\n",
      "[137/10000] 1 tree, 31 leaves, max depth = 13, train loss: 0.00026, val loss: 0.00027, in 0.116s\n",
      "[138/10000] 1 tree, 31 leaves, max depth = 11, train loss: 0.00026, val loss: 0.00027, in 0.104s\n",
      "[139/10000] 1 tree, 31 leaves, max depth = 9, train loss: 0.00026, val loss: 0.00027, in 0.123s\n",
      "[140/10000] 1 tree, 31 leaves, max depth = 13, train loss: 0.00026, val loss: 0.00027, in 0.089s\n",
      "[141/10000] 1 tree, 31 leaves, max depth = 16, train loss: 0.00026, val loss: 0.00027, in 0.112s\n",
      "[142/10000] 1 tree, 31 leaves, max depth = 13, train loss: 0.00026, val loss: 0.00027, in 0.143s\n",
      "[143/10000] 1 tree, 31 leaves, max depth = 13, train loss: 0.00026, val loss: 0.00027, in 0.110s\n",
      "[144/10000] 1 tree, 31 leaves, max depth = 11, train loss: 0.00026, val loss: 0.00027, in 0.135s\n",
      "[145/10000] 1 tree, 31 leaves, max depth = 14, train loss: 0.00026, val loss: 0.00027, in 0.146s\n",
      "[146/10000] 1 tree, 31 leaves, max depth = 11, train loss: 0.00026, val loss: 0.00027, in 0.094s\n",
      "[147/10000] 1 tree, 31 leaves, max depth = 9, train loss: 0.00026, val loss: 0.00027, in 0.134s\n",
      "[148/10000] 1 tree, 31 leaves, max depth = 10, train loss: 0.00026, val loss: 0.00027, in 0.085s\n"
     ]
    },
    {
     "name": "stdout",
     "output_type": "stream",
     "text": [
      "[149/10000] 1 tree, 31 leaves, max depth = 12, train loss: 0.00026, val loss: 0.00027, in 0.104s\n",
      "[150/10000] 1 tree, 31 leaves, max depth = 16, train loss: 0.00026, val loss: 0.00027, in 0.081s\n",
      "[151/10000] 1 tree, 31 leaves, max depth = 13, train loss: 0.00026, val loss: 0.00027, in 0.119s\n",
      "[152/10000] 1 tree, 31 leaves, max depth = 14, train loss: 0.00026, val loss: 0.00027, in 0.102s\n",
      "[153/10000] 1 tree, 31 leaves, max depth = 10, train loss: 0.00026, val loss: 0.00027, in 0.129s\n",
      "[154/10000] 1 tree, 31 leaves, max depth = 12, train loss: 0.00026, val loss: 0.00027, in 0.129s\n",
      "[155/10000] 1 tree, 31 leaves, max depth = 14, train loss: 0.00026, val loss: 0.00027, in 0.108s\n",
      "[156/10000] 1 tree, 31 leaves, max depth = 12, train loss: 0.00026, val loss: 0.00027, in 0.133s\n",
      "[157/10000] 1 tree, 31 leaves, max depth = 12, train loss: 0.00026, val loss: 0.00027, in 0.097s\n",
      "[158/10000] 1 tree, 31 leaves, max depth = 12, train loss: 0.00026, val loss: 0.00027, in 0.092s\n",
      "[159/10000] 1 tree, 31 leaves, max depth = 15, train loss: 0.00026, val loss: 0.00027, in 0.102s\n",
      "[160/10000] 1 tree, 31 leaves, max depth = 16, train loss: 0.00025, val loss: 0.00027, in 0.104s\n",
      "[161/10000] 1 tree, 31 leaves, max depth = 12, train loss: 0.00025, val loss: 0.00027, in 0.088s\n",
      "[162/10000] 1 tree, 31 leaves, max depth = 11, train loss: 0.00025, val loss: 0.00027, in 0.106s\n",
      "[163/10000] 1 tree, 31 leaves, max depth = 13, train loss: 0.00025, val loss: 0.00027, in 0.102s\n",
      "[164/10000] 1 tree, 31 leaves, max depth = 16, train loss: 0.00025, val loss: 0.00027, in 0.125s\n",
      "[165/10000] 1 tree, 31 leaves, max depth = 14, train loss: 0.00025, val loss: 0.00027, in 0.149s\n",
      "[166/10000] 1 tree, 31 leaves, max depth = 12, train loss: 0.00025, val loss: 0.00027, in 0.082s\n",
      "[167/10000] 1 tree, 31 leaves, max depth = 13, train loss: 0.00025, val loss: 0.00027, in 0.100s\n",
      "[168/10000] 1 tree, 31 leaves, max depth = 11, train loss: 0.00025, val loss: 0.00027, in 0.103s\n",
      "[169/10000] 1 tree, 31 leaves, max depth = 11, train loss: 0.00025, val loss: 0.00027, in 0.144s\n",
      "[170/10000] 1 tree, 31 leaves, max depth = 12, train loss: 0.00025, val loss: 0.00027, in 0.086s\n",
      "[171/10000] 1 tree, 31 leaves, max depth = 13, train loss: 0.00025, val loss: 0.00027, in 0.087s\n",
      "[172/10000] 1 tree, 31 leaves, max depth = 13, train loss: 0.00025, val loss: 0.00027, in 0.114s\n",
      "[173/10000] 1 tree, 31 leaves, max depth = 9, train loss: 0.00025, val loss: 0.00027, in 0.105s\n",
      "[174/10000] 1 tree, 31 leaves, max depth = 13, train loss: 0.00025, val loss: 0.00027, in 0.093s\n",
      "[175/10000] 1 tree, 31 leaves, max depth = 12, train loss: 0.00025, val loss: 0.00027, in 0.088s\n",
      "[176/10000] 1 tree, 31 leaves, max depth = 9, train loss: 0.00025, val loss: 0.00027, in 0.121s\n",
      "[177/10000] 1 tree, 31 leaves, max depth = 10, train loss: 0.00025, val loss: 0.00027, in 0.100s\n",
      "[178/10000] 1 tree, 31 leaves, max depth = 9, train loss: 0.00025, val loss: 0.00027, in 0.125s\n",
      "[179/10000] 1 tree, 31 leaves, max depth = 12, train loss: 0.00025, val loss: 0.00027, in 0.089s\n",
      "[180/10000] 1 tree, 31 leaves, max depth = 15, train loss: 0.00025, val loss: 0.00027, in 0.133s\n",
      "[181/10000] 1 tree, 31 leaves, max depth = 12, train loss: 0.00025, val loss: 0.00027, in 0.120s\n",
      "[182/10000] 1 tree, 31 leaves, max depth = 12, train loss: 0.00025, val loss: 0.00027, in 0.100s\n",
      "[183/10000] 1 tree, 31 leaves, max depth = 13, train loss: 0.00025, val loss: 0.00027, in 0.133s\n",
      "[184/10000] 1 tree, 31 leaves, max depth = 13, train loss: 0.00025, val loss: 0.00027, in 0.121s\n",
      "[185/10000] 1 tree, 31 leaves, max depth = 13, train loss: 0.00025, val loss: 0.00027, in 0.091s\n",
      "[186/10000] 1 tree, 31 leaves, max depth = 10, train loss: 0.00025, val loss: 0.00027, in 0.091s\n",
      "[187/10000] 1 tree, 31 leaves, max depth = 13, train loss: 0.00025, val loss: 0.00027, in 0.105s\n",
      "[188/10000] 1 tree, 31 leaves, max depth = 14, train loss: 0.00025, val loss: 0.00027, in 0.143s\n",
      "[189/10000] 1 tree, 31 leaves, max depth = 12, train loss: 0.00025, val loss: 0.00027, in 0.141s\n",
      "[190/10000] 1 tree, 31 leaves, max depth = 14, train loss: 0.00025, val loss: 0.00027, in 0.107s\n",
      "[191/10000] 1 tree, 31 leaves, max depth = 8, train loss: 0.00025, val loss: 0.00027, in 0.086s\n",
      "[192/10000] 1 tree, 31 leaves, max depth = 15, train loss: 0.00025, val loss: 0.00027, in 0.128s\n",
      "[193/10000] 1 tree, 31 leaves, max depth = 18, train loss: 0.00025, val loss: 0.00027, in 0.121s\n",
      "[194/10000] 1 tree, 31 leaves, max depth = 13, train loss: 0.00025, val loss: 0.00027, in 0.122s\n",
      "[195/10000] 1 tree, 31 leaves, max depth = 12, train loss: 0.00025, val loss: 0.00027, in 0.099s\n",
      "[196/10000] 1 tree, 31 leaves, max depth = 14, train loss: 0.00025, val loss: 0.00027, in 0.086s\n",
      "[197/10000] 1 tree, 31 leaves, max depth = 10, train loss: 0.00025, val loss: 0.00027, in 0.142s\n",
      "[198/10000] 1 tree, 31 leaves, max depth = 12, train loss: 0.00025, val loss: 0.00027, in 0.133s\n",
      "[199/10000] 1 tree, 31 leaves, max depth = 15, train loss: 0.00025, val loss: 0.00027, in 0.086s\n",
      "[200/10000] 1 tree, 31 leaves, max depth = 10, train loss: 0.00025, val loss: 0.00027, in 0.090s\n",
      "[201/10000] 1 tree, 31 leaves, max depth = 15, train loss: 0.00025, val loss: 0.00027, in 0.082s\n",
      "[202/10000] 1 tree, 31 leaves, max depth = 11, train loss: 0.00025, val loss: 0.00027, in 0.135s\n",
      "[203/10000] 1 tree, 31 leaves, max depth = 11, train loss: 0.00025, val loss: 0.00027, in 0.135s\n",
      "[204/10000] 1 tree, 31 leaves, max depth = 12, train loss: 0.00025, val loss: 0.00027, in 0.115s\n",
      "[205/10000] 1 tree, 31 leaves, max depth = 12, train loss: 0.00025, val loss: 0.00027, in 0.090s\n",
      "[206/10000] 1 tree, 31 leaves, max depth = 14, train loss: 0.00025, val loss: 0.00027, in 0.100s\n",
      "[207/10000] 1 tree, 31 leaves, max depth = 11, train loss: 0.00025, val loss: 0.00027, in 0.082s\n",
      "[208/10000] 1 tree, 31 leaves, max depth = 13, train loss: 0.00025, val loss: 0.00027, in 0.091s\n",
      "[209/10000] 1 tree, 31 leaves, max depth = 12, train loss: 0.00025, val loss: 0.00027, in 0.120s\n",
      "[210/10000] 1 tree, 31 leaves, max depth = 11, train loss: 0.00025, val loss: 0.00027, in 0.097s\n",
      "[211/10000] 1 tree, 31 leaves, max depth = 13, train loss: 0.00025, val loss: 0.00027, in 0.090s\n",
      "[212/10000] 1 tree, 31 leaves, max depth = 12, train loss: 0.00025, val loss: 0.00027, in 0.149s\n",
      "[213/10000] 1 tree, 31 leaves, max depth = 13, train loss: 0.00025, val loss: 0.00027, in 0.132s\n",
      "[214/10000] 1 tree, 31 leaves, max depth = 11, train loss: 0.00025, val loss: 0.00027, in 0.095s\n",
      "[215/10000] 1 tree, 31 leaves, max depth = 12, train loss: 0.00025, val loss: 0.00027, in 0.081s\n",
      "[216/10000] 1 tree, 31 leaves, max depth = 11, train loss: 0.00025, val loss: 0.00027, in 0.103s\n",
      "[217/10000] 1 tree, 31 leaves, max depth = 9, train loss: 0.00025, val loss: 0.00027, in 0.091s\n",
      "[218/10000] 1 tree, 31 leaves, max depth = 14, train loss: 0.00025, val loss: 0.00027, in 0.128s\n",
      "[219/10000] 1 tree, 31 leaves, max depth = 11, train loss: 0.00025, val loss: 0.00027, in 0.119s\n",
      "[220/10000] 1 tree, 31 leaves, max depth = 14, train loss: 0.00025, val loss: 0.00027, in 0.086s\n",
      "[221/10000] 1 tree, 31 leaves, max depth = 11, train loss: 0.00025, val loss: 0.00027, in 0.084s\n",
      "[222/10000] 1 tree, 31 leaves, max depth = 11, train loss: 0.00025, val loss: 0.00027, in 0.095s\n",
      "[223/10000] 1 tree, 31 leaves, max depth = 11, train loss: 0.00025, val loss: 0.00027, in 0.078s\n",
      "[224/10000] 1 tree, 31 leaves, max depth = 17, train loss: 0.00025, val loss: 0.00027, in 0.120s\n",
      "[225/10000] 1 tree, 31 leaves, max depth = 11, train loss: 0.00025, val loss: 0.00027, in 0.099s\n",
      "[226/10000] 1 tree, 31 leaves, max depth = 12, train loss: 0.00025, val loss: 0.00027, in 0.135s\n",
      "[227/10000] 1 tree, 31 leaves, max depth = 12, train loss: 0.00025, val loss: 0.00027, in 0.123s\n",
      "[228/10000] 1 tree, 31 leaves, max depth = 14, train loss: 0.00025, val loss: 0.00027, in 0.123s\n",
      "[229/10000] 1 tree, 31 leaves, max depth = 13, train loss: 0.00025, val loss: 0.00027, in 0.117s\n",
      "[230/10000] 1 tree, 31 leaves, max depth = 15, train loss: 0.00025, val loss: 0.00027, in 0.100s\n",
      "[231/10000] 1 tree, 31 leaves, max depth = 12, train loss: 0.00025, val loss: 0.00027, in 0.131s\n",
      "[232/10000] 1 tree, 31 leaves, max depth = 12, train loss: 0.00025, val loss: 0.00027, in 0.104s\n",
      "[233/10000] 1 tree, 31 leaves, max depth = 13, train loss: 0.00025, val loss: 0.00027, in 0.088s\n"
     ]
    },
    {
     "name": "stdout",
     "output_type": "stream",
     "text": [
      "[234/10000] 1 tree, 31 leaves, max depth = 14, train loss: 0.00025, val loss: 0.00027, in 0.082s\n",
      "[235/10000] 1 tree, 31 leaves, max depth = 11, train loss: 0.00025, val loss: 0.00027, in 0.115s\n",
      "[236/10000] 1 tree, 31 leaves, max depth = 11, train loss: 0.00025, val loss: 0.00027, in 0.087s\n",
      "[237/10000] 1 tree, 31 leaves, max depth = 11, train loss: 0.00025, val loss: 0.00027, in 0.084s\n",
      "[238/10000] 1 tree, 31 leaves, max depth = 12, train loss: 0.00024, val loss: 0.00027, in 0.124s\n",
      "[239/10000] 1 tree, 31 leaves, max depth = 10, train loss: 0.00024, val loss: 0.00027, in 0.093s\n",
      "[240/10000] 1 tree, 31 leaves, max depth = 14, train loss: 0.00024, val loss: 0.00027, in 0.103s\n",
      "[241/10000] 1 tree, 31 leaves, max depth = 12, train loss: 0.00024, val loss: 0.00027, in 0.085s\n",
      "[242/10000] 1 tree, 31 leaves, max depth = 17, train loss: 0.00024, val loss: 0.00027, in 0.135s\n",
      "[243/10000] 1 tree, 31 leaves, max depth = 13, train loss: 0.00024, val loss: 0.00027, in 0.127s\n",
      "[244/10000] 1 tree, 31 leaves, max depth = 11, train loss: 0.00024, val loss: 0.00027, in 0.119s\n",
      "[245/10000] 1 tree, 31 leaves, max depth = 13, train loss: 0.00024, val loss: 0.00027, in 0.102s\n",
      "[246/10000] 1 tree, 31 leaves, max depth = 16, train loss: 0.00024, val loss: 0.00027, in 0.083s\n",
      "[247/10000] 1 tree, 31 leaves, max depth = 13, train loss: 0.00024, val loss: 0.00027, in 0.133s\n",
      "[248/10000] 1 tree, 31 leaves, max depth = 11, train loss: 0.00024, val loss: 0.00027, in 0.110s\n",
      "[249/10000] 1 tree, 31 leaves, max depth = 15, train loss: 0.00024, val loss: 0.00027, in 0.103s\n",
      "[250/10000] 1 tree, 31 leaves, max depth = 11, train loss: 0.00024, val loss: 0.00027, in 0.146s\n",
      "[251/10000] 1 tree, 31 leaves, max depth = 9, train loss: 0.00024, val loss: 0.00027, in 0.087s\n",
      "[252/10000] 1 tree, 31 leaves, max depth = 12, train loss: 0.00024, val loss: 0.00027, in 0.096s\n",
      "[253/10000] 1 tree, 31 leaves, max depth = 13, train loss: 0.00024, val loss: 0.00027, in 0.100s\n",
      "[254/10000] 1 tree, 31 leaves, max depth = 14, train loss: 0.00024, val loss: 0.00027, in 0.098s\n",
      "[255/10000] 1 tree, 31 leaves, max depth = 13, train loss: 0.00024, val loss: 0.00027, in 0.070s\n",
      "[256/10000] 1 tree, 31 leaves, max depth = 9, train loss: 0.00024, val loss: 0.00027, in 0.090s\n",
      "[257/10000] 1 tree, 31 leaves, max depth = 13, train loss: 0.00024, val loss: 0.00027, in 0.084s\n",
      "[258/10000] 1 tree, 31 leaves, max depth = 10, train loss: 0.00024, val loss: 0.00027, in 0.127s\n",
      "[259/10000] 1 tree, 31 leaves, max depth = 12, train loss: 0.00024, val loss: 0.00027, in 0.102s\n",
      "[260/10000] 1 tree, 31 leaves, max depth = 12, train loss: 0.00024, val loss: 0.00027, in 0.081s\n",
      "[261/10000] 1 tree, 31 leaves, max depth = 16, train loss: 0.00024, val loss: 0.00027, in 0.130s\n",
      "[262/10000] 1 tree, 31 leaves, max depth = 18, train loss: 0.00024, val loss: 0.00027, in 0.135s\n",
      "[263/10000] 1 tree, 31 leaves, max depth = 13, train loss: 0.00024, val loss: 0.00027, in 0.109s\n",
      "[264/10000] 1 tree, 31 leaves, max depth = 9, train loss: 0.00024, val loss: 0.00027, in 0.089s\n",
      "[265/10000] 1 tree, 31 leaves, max depth = 12, train loss: 0.00024, val loss: 0.00027, in 0.125s\n",
      "[266/10000] 1 tree, 31 leaves, max depth = 10, train loss: 0.00024, val loss: 0.00027, in 0.108s\n",
      "[267/10000] 1 tree, 31 leaves, max depth = 11, train loss: 0.00024, val loss: 0.00027, in 0.137s\n",
      "[268/10000] 1 tree, 31 leaves, max depth = 10, train loss: 0.00024, val loss: 0.00027, in 0.098s\n",
      "[269/10000] 1 tree, 31 leaves, max depth = 13, train loss: 0.00024, val loss: 0.00027, in 0.122s\n",
      "[270/10000] 1 tree, 31 leaves, max depth = 11, train loss: 0.00024, val loss: 0.00027, in 0.124s\n",
      "[271/10000] 1 tree, 31 leaves, max depth = 11, train loss: 0.00024, val loss: 0.00027, in 0.134s\n",
      "[272/10000] 1 tree, 31 leaves, max depth = 10, train loss: 0.00024, val loss: 0.00027, in 0.107s\n",
      "[273/10000] 1 tree, 31 leaves, max depth = 15, train loss: 0.00024, val loss: 0.00027, in 0.123s\n",
      "[274/10000] 1 tree, 31 leaves, max depth = 14, train loss: 0.00024, val loss: 0.00027, in 0.103s\n",
      "[275/10000] 1 tree, 31 leaves, max depth = 12, train loss: 0.00024, val loss: 0.00027, in 0.120s\n",
      "[276/10000] 1 tree, 31 leaves, max depth = 13, train loss: 0.00024, val loss: 0.00027, in 0.097s\n",
      "[277/10000] 1 tree, 31 leaves, max depth = 12, train loss: 0.00024, val loss: 0.00027, in 0.075s\n",
      "[278/10000] 1 tree, 31 leaves, max depth = 15, train loss: 0.00024, val loss: 0.00027, in 0.083s\n",
      "[279/10000] 1 tree, 31 leaves, max depth = 11, train loss: 0.00024, val loss: 0.00027, in 0.123s\n",
      "[280/10000] 1 tree, 31 leaves, max depth = 10, train loss: 0.00024, val loss: 0.00027, in 0.107s\n",
      "[281/10000] 1 tree, 31 leaves, max depth = 11, train loss: 0.00024, val loss: 0.00027, in 0.135s\n",
      "[282/10000] 1 tree, 31 leaves, max depth = 11, train loss: 0.00024, val loss: 0.00027, in 0.125s\n",
      "[283/10000] 1 tree, 31 leaves, max depth = 12, train loss: 0.00024, val loss: 0.00027, in 0.145s\n",
      "[284/10000] 1 tree, 31 leaves, max depth = 12, train loss: 0.00024, val loss: 0.00027, in 0.071s\n",
      "[285/10000] 1 tree, 31 leaves, max depth = 10, train loss: 0.00024, val loss: 0.00027, in 0.090s\n",
      "[286/10000] 1 tree, 31 leaves, max depth = 17, train loss: 0.00024, val loss: 0.00027, in 0.090s\n",
      "[287/10000] 1 tree, 31 leaves, max depth = 12, train loss: 0.00024, val loss: 0.00027, in 0.147s\n",
      "[288/10000] 1 tree, 31 leaves, max depth = 11, train loss: 0.00024, val loss: 0.00027, in 0.122s\n",
      "[289/10000] 1 tree, 31 leaves, max depth = 12, train loss: 0.00024, val loss: 0.00027, in 0.139s\n",
      "[290/10000] 1 tree, 31 leaves, max depth = 12, train loss: 0.00024, val loss: 0.00027, in 0.127s\n",
      "[291/10000] 1 tree, 31 leaves, max depth = 14, train loss: 0.00024, val loss: 0.00027, in 0.115s\n",
      "[292/10000] 1 tree, 31 leaves, max depth = 10, train loss: 0.00024, val loss: 0.00027, in 0.077s\n",
      "[293/10000] 1 tree, 31 leaves, max depth = 15, train loss: 0.00024, val loss: 0.00027, in 0.103s\n",
      "[294/10000] 1 tree, 31 leaves, max depth = 16, train loss: 0.00024, val loss: 0.00027, in 0.092s\n",
      "[295/10000] 1 tree, 31 leaves, max depth = 11, train loss: 0.00024, val loss: 0.00027, in 0.083s\n",
      "[296/10000] 1 tree, 31 leaves, max depth = 11, train loss: 0.00024, val loss: 0.00027, in 0.111s\n",
      "[297/10000] 1 tree, 31 leaves, max depth = 14, train loss: 0.00024, val loss: 0.00027, in 0.118s\n",
      "[298/10000] 1 tree, 31 leaves, max depth = 9, train loss: 0.00024, val loss: 0.00027, in 0.119s\n",
      "[299/10000] 1 tree, 31 leaves, max depth = 11, train loss: 0.00024, val loss: 0.00027, in 0.120s\n",
      "[300/10000] 1 tree, 31 leaves, max depth = 10, train loss: 0.00024, val loss: 0.00027, in 0.091s\n",
      "[301/10000] 1 tree, 31 leaves, max depth = 11, train loss: 0.00024, val loss: 0.00027, in 0.074s\n",
      "[302/10000] 1 tree, 31 leaves, max depth = 11, train loss: 0.00024, val loss: 0.00027, in 0.118s\n",
      "[303/10000] 1 tree, 31 leaves, max depth = 13, train loss: 0.00024, val loss: 0.00027, in 0.099s\n",
      "[304/10000] 1 tree, 31 leaves, max depth = 13, train loss: 0.00024, val loss: 0.00027, in 0.084s\n",
      "[305/10000] 1 tree, 31 leaves, max depth = 11, train loss: 0.00024, val loss: 0.00027, in 0.079s\n",
      "[306/10000] 1 tree, 31 leaves, max depth = 13, train loss: 0.00024, val loss: 0.00027, in 0.131s\n",
      "[307/10000] 1 tree, 31 leaves, max depth = 14, train loss: 0.00024, val loss: 0.00027, in 0.088s\n",
      "[308/10000] 1 tree, 31 leaves, max depth = 14, train loss: 0.00024, val loss: 0.00027, in 0.115s\n",
      "[309/10000] 1 tree, 31 leaves, max depth = 12, train loss: 0.00024, val loss: 0.00027, in 0.070s\n",
      "[310/10000] 1 tree, 31 leaves, max depth = 16, train loss: 0.00024, val loss: 0.00027, in 0.107s\n",
      "[311/10000] 1 tree, 31 leaves, max depth = 15, train loss: 0.00024, val loss: 0.00027, in 0.097s\n",
      "[312/10000] 1 tree, 31 leaves, max depth = 14, train loss: 0.00024, val loss: 0.00027, in 0.074s\n",
      "[313/10000] 1 tree, 31 leaves, max depth = 9, train loss: 0.00024, val loss: 0.00027, in 0.077s\n",
      "[314/10000] 1 tree, 31 leaves, max depth = 14, train loss: 0.00024, val loss: 0.00027, in 0.136s\n",
      "[315/10000] 1 tree, 31 leaves, max depth = 15, train loss: 0.00024, val loss: 0.00027, in 0.112s\n",
      "[316/10000] 1 tree, 31 leaves, max depth = 13, train loss: 0.00024, val loss: 0.00027, in 0.087s\n",
      "[317/10000] 1 tree, 31 leaves, max depth = 12, train loss: 0.00024, val loss: 0.00027, in 0.078s\n",
      "[318/10000] 1 tree, 31 leaves, max depth = 15, train loss: 0.00024, val loss: 0.00027, in 0.137s\n"
     ]
    },
    {
     "name": "stdout",
     "output_type": "stream",
     "text": [
      "[319/10000] 1 tree, 31 leaves, max depth = 13, train loss: 0.00024, val loss: 0.00027, in 0.090s\n",
      "[320/10000] 1 tree, 31 leaves, max depth = 14, train loss: 0.00024, val loss: 0.00027, in 0.114s\n",
      "[321/10000] 1 tree, 31 leaves, max depth = 13, train loss: 0.00024, val loss: 0.00027, in 0.121s\n",
      "[322/10000] 1 tree, 31 leaves, max depth = 14, train loss: 0.00024, val loss: 0.00027, in 0.124s\n",
      "[323/10000] 1 tree, 31 leaves, max depth = 10, train loss: 0.00024, val loss: 0.00027, in 0.119s\n",
      "[324/10000] 1 tree, 31 leaves, max depth = 15, train loss: 0.00024, val loss: 0.00027, in 0.082s\n",
      "[325/10000] 1 tree, 31 leaves, max depth = 12, train loss: 0.00024, val loss: 0.00027, in 0.106s\n",
      "[326/10000] 1 tree, 31 leaves, max depth = 13, train loss: 0.00024, val loss: 0.00027, in 0.122s\n",
      "[327/10000] 1 tree, 31 leaves, max depth = 13, train loss: 0.00024, val loss: 0.00027, in 0.132s\n",
      "[328/10000] 1 tree, 31 leaves, max depth = 12, train loss: 0.00024, val loss: 0.00027, in 0.096s\n",
      "[329/10000] 1 tree, 31 leaves, max depth = 12, train loss: 0.00024, val loss: 0.00027, in 0.123s\n",
      "[330/10000] 1 tree, 31 leaves, max depth = 12, train loss: 0.00024, val loss: 0.00027, in 0.103s\n",
      "[331/10000] 1 tree, 31 leaves, max depth = 12, train loss: 0.00023, val loss: 0.00027, in 0.137s\n",
      "[332/10000] 1 tree, 31 leaves, max depth = 11, train loss: 0.00023, val loss: 0.00026, in 0.122s\n",
      "[333/10000] 1 tree, 31 leaves, max depth = 11, train loss: 0.00023, val loss: 0.00026, in 0.099s\n",
      "[334/10000] 1 tree, 31 leaves, max depth = 13, train loss: 0.00023, val loss: 0.00026, in 0.134s\n",
      "[335/10000] 1 tree, 31 leaves, max depth = 15, train loss: 0.00023, val loss: 0.00026, in 0.100s\n",
      "[336/10000] 1 tree, 31 leaves, max depth = 15, train loss: 0.00023, val loss: 0.00026, in 0.101s\n",
      "[337/10000] 1 tree, 31 leaves, max depth = 14, train loss: 0.00023, val loss: 0.00026, in 0.081s\n",
      "[338/10000] 1 tree, 31 leaves, max depth = 18, train loss: 0.00023, val loss: 0.00026, in 0.126s\n",
      "[339/10000] 1 tree, 31 leaves, max depth = 15, train loss: 0.00023, val loss: 0.00026, in 0.125s\n",
      "[340/10000] 1 tree, 31 leaves, max depth = 12, train loss: 0.00023, val loss: 0.00026, in 0.129s\n",
      "[341/10000] 1 tree, 31 leaves, max depth = 13, train loss: 0.00023, val loss: 0.00026, in 0.127s\n",
      "[342/10000] 1 tree, 31 leaves, max depth = 13, train loss: 0.00023, val loss: 0.00026, in 0.086s\n",
      "[343/10000] 1 tree, 31 leaves, max depth = 11, train loss: 0.00023, val loss: 0.00026, in 0.100s\n",
      "[344/10000] 1 tree, 31 leaves, max depth = 12, train loss: 0.00023, val loss: 0.00026, in 0.126s\n",
      "[345/10000] 1 tree, 31 leaves, max depth = 12, train loss: 0.00023, val loss: 0.00026, in 0.127s\n",
      "[346/10000] 1 tree, 31 leaves, max depth = 11, train loss: 0.00023, val loss: 0.00026, in 0.140s\n",
      "[347/10000] 1 tree, 31 leaves, max depth = 11, train loss: 0.00023, val loss: 0.00026, in 0.130s\n",
      "[348/10000] 1 tree, 31 leaves, max depth = 10, train loss: 0.00023, val loss: 0.00026, in 0.100s\n",
      "[349/10000] 1 tree, 31 leaves, max depth = 14, train loss: 0.00023, val loss: 0.00026, in 0.084s\n",
      "[350/10000] 1 tree, 31 leaves, max depth = 12, train loss: 0.00023, val loss: 0.00026, in 0.112s\n",
      "[351/10000] 1 tree, 31 leaves, max depth = 11, train loss: 0.00023, val loss: 0.00026, in 0.117s\n",
      "[352/10000] 1 tree, 31 leaves, max depth = 16, train loss: 0.00023, val loss: 0.00026, in 0.116s\n",
      "[353/10000] 1 tree, 31 leaves, max depth = 12, train loss: 0.00023, val loss: 0.00026, in 0.074s\n",
      "[354/10000] 1 tree, 31 leaves, max depth = 11, train loss: 0.00023, val loss: 0.00026, in 0.080s\n",
      "[355/10000] 1 tree, 31 leaves, max depth = 13, train loss: 0.00023, val loss: 0.00026, in 0.073s\n",
      "[356/10000] 1 tree, 31 leaves, max depth = 12, train loss: 0.00023, val loss: 0.00026, in 0.079s\n",
      "[357/10000] 1 tree, 31 leaves, max depth = 14, train loss: 0.00023, val loss: 0.00026, in 0.134s\n",
      "[358/10000] 1 tree, 31 leaves, max depth = 15, train loss: 0.00023, val loss: 0.00026, in 0.097s\n",
      "[359/10000] 1 tree, 31 leaves, max depth = 15, train loss: 0.00023, val loss: 0.00026, in 0.098s\n",
      "[360/10000] 1 tree, 31 leaves, max depth = 16, train loss: 0.00023, val loss: 0.00026, in 0.133s\n",
      "[361/10000] 1 tree, 31 leaves, max depth = 11, train loss: 0.00023, val loss: 0.00026, in 0.118s\n",
      "[362/10000] 1 tree, 31 leaves, max depth = 17, train loss: 0.00023, val loss: 0.00026, in 0.121s\n",
      "[363/10000] 1 tree, 31 leaves, max depth = 15, train loss: 0.00023, val loss: 0.00026, in 0.072s\n",
      "[364/10000] 1 tree, 31 leaves, max depth = 15, train loss: 0.00023, val loss: 0.00026, in 0.075s\n",
      "[365/10000] 1 tree, 31 leaves, max depth = 11, train loss: 0.00023, val loss: 0.00026, in 0.098s\n",
      "[366/10000] 1 tree, 31 leaves, max depth = 10, train loss: 0.00023, val loss: 0.00026, in 0.087s\n",
      "[367/10000] 1 tree, 31 leaves, max depth = 9, train loss: 0.00023, val loss: 0.00026, in 0.098s\n",
      "[368/10000] 1 tree, 31 leaves, max depth = 13, train loss: 0.00023, val loss: 0.00026, in 0.079s\n",
      "[369/10000] 1 tree, 31 leaves, max depth = 12, train loss: 0.00023, val loss: 0.00026, in 0.128s\n",
      "[370/10000] 1 tree, 31 leaves, max depth = 10, train loss: 0.00023, val loss: 0.00026, in 0.100s\n",
      "[371/10000] 1 tree, 31 leaves, max depth = 13, train loss: 0.00023, val loss: 0.00026, in 0.100s\n",
      "[372/10000] 1 tree, 31 leaves, max depth = 13, train loss: 0.00023, val loss: 0.00026, in 0.120s\n",
      "[373/10000] 1 tree, 31 leaves, max depth = 10, train loss: 0.00023, val loss: 0.00026, in 0.082s\n",
      "[374/10000] 1 tree, 31 leaves, max depth = 11, train loss: 0.00023, val loss: 0.00026, in 0.103s\n",
      "[375/10000] 1 tree, 31 leaves, max depth = 14, train loss: 0.00023, val loss: 0.00026, in 0.082s\n",
      "Fit 375 trees in 51.930 s, (11625 total leaves)\n",
      "Time spent computing histograms: 41.426s\n",
      "Time spent finding best splits:  0.989s\n",
      "Time spent applying splits:      1.329s\n",
      "Time spent predicting:           0.470s\n"
     ]
    },
    {
     "data": {
      "text/html": [
       "<style>#sk-container-id-5 {color: black;background-color: white;}#sk-container-id-5 pre{padding: 0;}#sk-container-id-5 div.sk-toggleable {background-color: white;}#sk-container-id-5 label.sk-toggleable__label {cursor: pointer;display: block;width: 100%;margin-bottom: 0;padding: 0.3em;box-sizing: border-box;text-align: center;}#sk-container-id-5 label.sk-toggleable__label-arrow:before {content: \"▸\";float: left;margin-right: 0.25em;color: #696969;}#sk-container-id-5 label.sk-toggleable__label-arrow:hover:before {color: black;}#sk-container-id-5 div.sk-estimator:hover label.sk-toggleable__label-arrow:before {color: black;}#sk-container-id-5 div.sk-toggleable__content {max-height: 0;max-width: 0;overflow: hidden;text-align: left;background-color: #f0f8ff;}#sk-container-id-5 div.sk-toggleable__content pre {margin: 0.2em;color: black;border-radius: 0.25em;background-color: #f0f8ff;}#sk-container-id-5 input.sk-toggleable__control:checked~div.sk-toggleable__content {max-height: 200px;max-width: 100%;overflow: auto;}#sk-container-id-5 input.sk-toggleable__control:checked~label.sk-toggleable__label-arrow:before {content: \"▾\";}#sk-container-id-5 div.sk-estimator input.sk-toggleable__control:checked~label.sk-toggleable__label {background-color: #d4ebff;}#sk-container-id-5 div.sk-label input.sk-toggleable__control:checked~label.sk-toggleable__label {background-color: #d4ebff;}#sk-container-id-5 input.sk-hidden--visually {border: 0;clip: rect(1px 1px 1px 1px);clip: rect(1px, 1px, 1px, 1px);height: 1px;margin: -1px;overflow: hidden;padding: 0;position: absolute;width: 1px;}#sk-container-id-5 div.sk-estimator {font-family: monospace;background-color: #f0f8ff;border: 1px dotted black;border-radius: 0.25em;box-sizing: border-box;margin-bottom: 0.5em;}#sk-container-id-5 div.sk-estimator:hover {background-color: #d4ebff;}#sk-container-id-5 div.sk-parallel-item::after {content: \"\";width: 100%;border-bottom: 1px solid gray;flex-grow: 1;}#sk-container-id-5 div.sk-label:hover label.sk-toggleable__label {background-color: #d4ebff;}#sk-container-id-5 div.sk-serial::before {content: \"\";position: absolute;border-left: 1px solid gray;box-sizing: border-box;top: 0;bottom: 0;left: 50%;z-index: 0;}#sk-container-id-5 div.sk-serial {display: flex;flex-direction: column;align-items: center;background-color: white;padding-right: 0.2em;padding-left: 0.2em;position: relative;}#sk-container-id-5 div.sk-item {position: relative;z-index: 1;}#sk-container-id-5 div.sk-parallel {display: flex;align-items: stretch;justify-content: center;background-color: white;position: relative;}#sk-container-id-5 div.sk-item::before, #sk-container-id-5 div.sk-parallel-item::before {content: \"\";position: absolute;border-left: 1px solid gray;box-sizing: border-box;top: 0;bottom: 0;left: 50%;z-index: -1;}#sk-container-id-5 div.sk-parallel-item {display: flex;flex-direction: column;z-index: 1;position: relative;background-color: white;}#sk-container-id-5 div.sk-parallel-item:first-child::after {align-self: flex-end;width: 50%;}#sk-container-id-5 div.sk-parallel-item:last-child::after {align-self: flex-start;width: 50%;}#sk-container-id-5 div.sk-parallel-item:only-child::after {width: 0;}#sk-container-id-5 div.sk-dashed-wrapped {border: 1px dashed gray;margin: 0 0.4em 0.5em 0.4em;box-sizing: border-box;padding-bottom: 0.4em;background-color: white;}#sk-container-id-5 div.sk-label label {font-family: monospace;font-weight: bold;display: inline-block;line-height: 1.2em;}#sk-container-id-5 div.sk-label-container {text-align: center;}#sk-container-id-5 div.sk-container {/* jupyter's `normalize.less` sets `[hidden] { display: none; }` but bootstrap.min.css set `[hidden] { display: none !important; }` so we also need the `!important` here to be able to override the default hidden behavior on the sphinx rendered scikit-learn.org. See: https://github.com/scikit-learn/scikit-learn/issues/21755 */display: inline-block !important;position: relative;}#sk-container-id-5 div.sk-text-repr-fallback {display: none;}</style><div id=\"sk-container-id-5\" class=\"sk-top-container\"><div class=\"sk-text-repr-fallback\"><pre>HistGradientBoostingRegressor(max_iter=10000, verbose=1)</pre><b>In a Jupyter environment, please rerun this cell to show the HTML representation or trust the notebook. <br />On GitHub, the HTML representation is unable to render, please try loading this page with nbviewer.org.</b></div><div class=\"sk-container\" hidden><div class=\"sk-item\"><div class=\"sk-estimator sk-toggleable\"><input class=\"sk-toggleable__control sk-hidden--visually\" id=\"sk-estimator-id-5\" type=\"checkbox\" checked><label for=\"sk-estimator-id-5\" class=\"sk-toggleable__label sk-toggleable__label-arrow\">HistGradientBoostingRegressor</label><div class=\"sk-toggleable__content\"><pre>HistGradientBoostingRegressor(max_iter=10000, verbose=1)</pre></div></div></div></div></div>"
      ],
      "text/plain": [
       "HistGradientBoostingRegressor(max_iter=10000, verbose=1)"
      ]
     },
     "execution_count": 38,
     "metadata": {},
     "output_type": "execute_result"
    }
   ],
   "source": [
    "trainX, trainY, feature_names = construct_problem(\n",
    "    (ad.obs[\"Animal_ID\"] <= 30),\n",
    "    response_gene,\n",
    "    neighset,\n",
    "    oset,\n",
    "    synthetic_mode=synth_experiment,\n",
    ")\n",
    "testX, testY, feature_names = construct_problem(\n",
    "    (ad.obs[\"Animal_ID\"] > 30),\n",
    "    response_gene,\n",
    "    neighset,\n",
    "    oset,\n",
    "    synthetic_mode=synth_experiment,\n",
    ")\n",
    "print(trainX.shape, trainY.shape)\n",
    "print(testX.shape, testY.shape)\n",
    "\n",
    "# df = pd.DataFrame(testX, columns=feature_names)\n",
    "df = pd.DataFrame(testX)\n",
    "\n",
    "#         scaler = StandardScaler().fit(trainX)\n",
    "#         trainX = scaler.transform(trainX)\n",
    "#         testX = scaler.transform(testX)\n",
    "\n",
    "model = HistGradientBoostingRegressor(verbose=1, max_iter=10000)\n",
    "model.fit(trainX, trainY)"
   ]
  },
  {
   "cell_type": "code",
   "execution_count": 39,
   "id": "3633617d",
   "metadata": {},
   "outputs": [
    {
     "data": {
      "text/plain": [
       "(134392, 192)"
      ]
     },
     "execution_count": 39,
     "metadata": {},
     "output_type": "execute_result"
    }
   ],
   "source": [
    "testX.shape"
   ]
  },
  {
   "cell_type": "code",
   "execution_count": 40,
   "id": "6b12dd70",
   "metadata": {},
   "outputs": [
    {
     "data": {
      "text/plain": [
       "(134392, 160)"
      ]
     },
     "execution_count": 40,
     "metadata": {},
     "output_type": "execute_result"
    }
   ],
   "source": [
    "lightgbm_X_test.shape"
   ]
  },
  {
   "cell_type": "code",
   "execution_count": 33,
   "id": "b39ae0dc",
   "metadata": {},
   "outputs": [
    {
     "name": "stdout",
     "output_type": "stream",
     "text": [
      "Binning 1.235 GB of training data: 3.755 s\n",
      "Binning 0.137 GB of validation data: 0.242 s\n",
      "Fitting gradient boosted rounds:\n",
      "[1/100] 1 tree, 31 leaves, max depth = 12, train loss: 0.12798, val loss: 0.12777, in 0.148s\n",
      "[2/100] 1 tree, 31 leaves, max depth = 11, train loss: 0.12588, val loss: 0.12567, in 0.168s\n",
      "[3/100] 1 tree, 31 leaves, max depth = 11, train loss: 0.12418, val loss: 0.12398, in 0.147s\n",
      "[4/100] 1 tree, 31 leaves, max depth = 11, train loss: 0.12280, val loss: 0.12260, in 0.133s\n",
      "[5/100] 1 tree, 31 leaves, max depth = 10, train loss: 0.12169, val loss: 0.12149, in 0.135s\n",
      "[6/100] 1 tree, 31 leaves, max depth = 11, train loss: 0.12078, val loss: 0.12058, in 0.165s\n",
      "[7/100] 1 tree, 31 leaves, max depth = 9, train loss: 0.12005, val loss: 0.11985, in 0.139s\n",
      "[8/100] 1 tree, 31 leaves, max depth = 12, train loss: 0.11945, val loss: 0.11926, in 0.140s\n",
      "[9/100] 1 tree, 31 leaves, max depth = 10, train loss: 0.11897, val loss: 0.11878, in 0.126s\n",
      "[10/100] 1 tree, 31 leaves, max depth = 13, train loss: 0.11857, val loss: 0.11839, in 0.150s\n",
      "[11/100] 1 tree, 31 leaves, max depth = 12, train loss: 0.11825, val loss: 0.11808, in 0.128s\n",
      "[12/100] 1 tree, 31 leaves, max depth = 10, train loss: 0.11799, val loss: 0.11782, in 0.138s\n",
      "[13/100] 1 tree, 31 leaves, max depth = 11, train loss: 0.11778, val loss: 0.11762, in 0.125s\n",
      "[14/100] 1 tree, 31 leaves, max depth = 10, train loss: 0.11760, val loss: 0.11745, in 0.129s\n",
      "[15/100] 1 tree, 31 leaves, max depth = 11, train loss: 0.11746, val loss: 0.11731, in 0.125s\n",
      "[16/100] 1 tree, 31 leaves, max depth = 10, train loss: 0.11735, val loss: 0.11720, in 0.134s\n",
      "[17/100] 1 tree, 31 leaves, max depth = 14, train loss: 0.11725, val loss: 0.11712, in 0.136s\n",
      "[18/100] 1 tree, 31 leaves, max depth = 11, train loss: 0.11717, val loss: 0.11704, in 0.146s\n",
      "[19/100] 1 tree, 31 leaves, max depth = 14, train loss: 0.11711, val loss: 0.11699, in 0.118s\n",
      "[20/100] 1 tree, 31 leaves, max depth = 11, train loss: 0.11705, val loss: 0.11694, in 0.127s\n",
      "[21/100] 1 tree, 31 leaves, max depth = 15, train loss: 0.11701, val loss: 0.11690, in 0.128s\n",
      "[22/100] 1 tree, 31 leaves, max depth = 11, train loss: 0.11697, val loss: 0.11687, in 0.133s\n",
      "[23/100] 1 tree, 31 leaves, max depth = 12, train loss: 0.11694, val loss: 0.11684, in 0.136s\n",
      "[24/100] 1 tree, 31 leaves, max depth = 14, train loss: 0.11691, val loss: 0.11682, in 0.161s\n",
      "[25/100] 1 tree, 31 leaves, max depth = 11, train loss: 0.11688, val loss: 0.11681, in 0.147s\n",
      "[26/100] 1 tree, 31 leaves, max depth = 13, train loss: 0.11686, val loss: 0.11679, in 0.122s\n",
      "[27/100] 1 tree, 31 leaves, max depth = 16, train loss: 0.11685, val loss: 0.11678, in 0.129s\n",
      "[28/100] 1 tree, 31 leaves, max depth = 13, train loss: 0.11683, val loss: 0.11677, in 0.135s\n",
      "[29/100] 1 tree, 31 leaves, max depth = 11, train loss: 0.11682, val loss: 0.11677, in 0.122s\n",
      "[30/100] 1 tree, 31 leaves, max depth = 13, train loss: 0.11680, val loss: 0.11676, in 0.141s\n",
      "[31/100] 1 tree, 31 leaves, max depth = 14, train loss: 0.11679, val loss: 0.11676, in 0.112s\n",
      "[32/100] 1 tree, 31 leaves, max depth = 13, train loss: 0.11678, val loss: 0.11675, in 0.116s\n",
      "[33/100] 1 tree, 31 leaves, max depth = 9, train loss: 0.11677, val loss: 0.11675, in 0.150s\n",
      "[34/100] 1 tree, 31 leaves, max depth = 12, train loss: 0.11676, val loss: 0.11675, in 0.138s\n",
      "[35/100] 1 tree, 31 leaves, max depth = 12, train loss: 0.11675, val loss: 0.11675, in 0.098s\n",
      "[36/100] 1 tree, 31 leaves, max depth = 13, train loss: 0.11674, val loss: 0.11675, in 0.106s\n",
      "[37/100] 1 tree, 31 leaves, max depth = 10, train loss: 0.11673, val loss: 0.11675, in 0.151s\n",
      "[38/100] 1 tree, 31 leaves, max depth = 9, train loss: 0.11672, val loss: 0.11674, in 0.129s\n",
      "[39/100] 1 tree, 31 leaves, max depth = 12, train loss: 0.11671, val loss: 0.11674, in 0.131s\n",
      "[40/100] 1 tree, 31 leaves, max depth = 12, train loss: 0.11670, val loss: 0.11674, in 0.140s\n",
      "[41/100] 1 tree, 31 leaves, max depth = 11, train loss: 0.11669, val loss: 0.11674, in 0.117s\n",
      "[42/100] 1 tree, 31 leaves, max depth = 13, train loss: 0.11668, val loss: 0.11675, in 0.094s\n",
      "[43/100] 1 tree, 31 leaves, max depth = 11, train loss: 0.11667, val loss: 0.11675, in 0.140s\n",
      "[44/100] 1 tree, 31 leaves, max depth = 14, train loss: 0.11666, val loss: 0.11675, in 0.145s\n",
      "[45/100] 1 tree, 31 leaves, max depth = 11, train loss: 0.11665, val loss: 0.11675, in 0.088s\n",
      "[46/100] 1 tree, 31 leaves, max depth = 11, train loss: 0.11664, val loss: 0.11675, in 0.139s\n",
      "[47/100] 1 tree, 31 leaves, max depth = 14, train loss: 0.11663, val loss: 0.11674, in 0.086s\n",
      "[48/100] 1 tree, 31 leaves, max depth = 10, train loss: 0.11663, val loss: 0.11674, in 0.078s\n",
      "[49/100] 1 tree, 31 leaves, max depth = 11, train loss: 0.11662, val loss: 0.11674, in 0.121s\n",
      "[50/100] 1 tree, 31 leaves, max depth = 12, train loss: 0.11661, val loss: 0.11674, in 0.076s\n",
      "[51/100] 1 tree, 31 leaves, max depth = 10, train loss: 0.11660, val loss: 0.11674, in 0.110s\n",
      "[52/100] 1 tree, 31 leaves, max depth = 11, train loss: 0.11659, val loss: 0.11674, in 0.099s\n",
      "[53/100] 1 tree, 31 leaves, max depth = 12, train loss: 0.11658, val loss: 0.11674, in 0.114s\n",
      "[54/100] 1 tree, 31 leaves, max depth = 9, train loss: 0.11658, val loss: 0.11674, in 0.080s\n",
      "[55/100] 1 tree, 31 leaves, max depth = 10, train loss: 0.11657, val loss: 0.11674, in 0.113s\n",
      "[56/100] 1 tree, 31 leaves, max depth = 16, train loss: 0.11656, val loss: 0.11674, in 0.078s\n",
      "[57/100] 1 tree, 31 leaves, max depth = 15, train loss: 0.11655, val loss: 0.11674, in 0.079s\n",
      "[58/100] 1 tree, 31 leaves, max depth = 14, train loss: 0.11654, val loss: 0.11675, in 0.113s\n",
      "[59/100] 1 tree, 31 leaves, max depth = 10, train loss: 0.11653, val loss: 0.11675, in 0.135s\n",
      "[60/100] 1 tree, 31 leaves, max depth = 9, train loss: 0.11653, val loss: 0.11675, in 0.130s\n",
      "[61/100] 1 tree, 31 leaves, max depth = 13, train loss: 0.11652, val loss: 0.11675, in 0.077s\n",
      "[62/100] 1 tree, 31 leaves, max depth = 12, train loss: 0.11651, val loss: 0.11675, in 0.113s\n",
      "[63/100] 1 tree, 31 leaves, max depth = 13, train loss: 0.11650, val loss: 0.11675, in 0.080s\n",
      "Fit 63 trees in 12.479 s, (1953 total leaves)\n",
      "Time spent computing histograms: 7.017s\n",
      "Time spent finding best splits:  0.061s\n",
      "Time spent applying splits:      0.263s\n",
      "Time spent predicting:           0.083s\n"
     ]
    },
    {
     "data": {
      "text/html": [
       "<style>#sk-container-id-4 {color: black;background-color: white;}#sk-container-id-4 pre{padding: 0;}#sk-container-id-4 div.sk-toggleable {background-color: white;}#sk-container-id-4 label.sk-toggleable__label {cursor: pointer;display: block;width: 100%;margin-bottom: 0;padding: 0.3em;box-sizing: border-box;text-align: center;}#sk-container-id-4 label.sk-toggleable__label-arrow:before {content: \"▸\";float: left;margin-right: 0.25em;color: #696969;}#sk-container-id-4 label.sk-toggleable__label-arrow:hover:before {color: black;}#sk-container-id-4 div.sk-estimator:hover label.sk-toggleable__label-arrow:before {color: black;}#sk-container-id-4 div.sk-toggleable__content {max-height: 0;max-width: 0;overflow: hidden;text-align: left;background-color: #f0f8ff;}#sk-container-id-4 div.sk-toggleable__content pre {margin: 0.2em;color: black;border-radius: 0.25em;background-color: #f0f8ff;}#sk-container-id-4 input.sk-toggleable__control:checked~div.sk-toggleable__content {max-height: 200px;max-width: 100%;overflow: auto;}#sk-container-id-4 input.sk-toggleable__control:checked~label.sk-toggleable__label-arrow:before {content: \"▾\";}#sk-container-id-4 div.sk-estimator input.sk-toggleable__control:checked~label.sk-toggleable__label {background-color: #d4ebff;}#sk-container-id-4 div.sk-label input.sk-toggleable__control:checked~label.sk-toggleable__label {background-color: #d4ebff;}#sk-container-id-4 input.sk-hidden--visually {border: 0;clip: rect(1px 1px 1px 1px);clip: rect(1px, 1px, 1px, 1px);height: 1px;margin: -1px;overflow: hidden;padding: 0;position: absolute;width: 1px;}#sk-container-id-4 div.sk-estimator {font-family: monospace;background-color: #f0f8ff;border: 1px dotted black;border-radius: 0.25em;box-sizing: border-box;margin-bottom: 0.5em;}#sk-container-id-4 div.sk-estimator:hover {background-color: #d4ebff;}#sk-container-id-4 div.sk-parallel-item::after {content: \"\";width: 100%;border-bottom: 1px solid gray;flex-grow: 1;}#sk-container-id-4 div.sk-label:hover label.sk-toggleable__label {background-color: #d4ebff;}#sk-container-id-4 div.sk-serial::before {content: \"\";position: absolute;border-left: 1px solid gray;box-sizing: border-box;top: 0;bottom: 0;left: 50%;z-index: 0;}#sk-container-id-4 div.sk-serial {display: flex;flex-direction: column;align-items: center;background-color: white;padding-right: 0.2em;padding-left: 0.2em;position: relative;}#sk-container-id-4 div.sk-item {position: relative;z-index: 1;}#sk-container-id-4 div.sk-parallel {display: flex;align-items: stretch;justify-content: center;background-color: white;position: relative;}#sk-container-id-4 div.sk-item::before, #sk-container-id-4 div.sk-parallel-item::before {content: \"\";position: absolute;border-left: 1px solid gray;box-sizing: border-box;top: 0;bottom: 0;left: 50%;z-index: -1;}#sk-container-id-4 div.sk-parallel-item {display: flex;flex-direction: column;z-index: 1;position: relative;background-color: white;}#sk-container-id-4 div.sk-parallel-item:first-child::after {align-self: flex-end;width: 50%;}#sk-container-id-4 div.sk-parallel-item:last-child::after {align-self: flex-start;width: 50%;}#sk-container-id-4 div.sk-parallel-item:only-child::after {width: 0;}#sk-container-id-4 div.sk-dashed-wrapped {border: 1px dashed gray;margin: 0 0.4em 0.5em 0.4em;box-sizing: border-box;padding-bottom: 0.4em;background-color: white;}#sk-container-id-4 div.sk-label label {font-family: monospace;font-weight: bold;display: inline-block;line-height: 1.2em;}#sk-container-id-4 div.sk-label-container {text-align: center;}#sk-container-id-4 div.sk-container {/* jupyter's `normalize.less` sets `[hidden] { display: none; }` but bootstrap.min.css set `[hidden] { display: none !important; }` so we also need the `!important` here to be able to override the default hidden behavior on the sphinx rendered scikit-learn.org. See: https://github.com/scikit-learn/scikit-learn/issues/21755 */display: inline-block !important;position: relative;}#sk-container-id-4 div.sk-text-repr-fallback {display: none;}</style><div id=\"sk-container-id-4\" class=\"sk-top-container\"><div class=\"sk-text-repr-fallback\"><pre>HistGradientBoostingRegressor(verbose=1)</pre><b>In a Jupyter environment, please rerun this cell to show the HTML representation or trust the notebook. <br />On GitHub, the HTML representation is unable to render, please try loading this page with nbviewer.org.</b></div><div class=\"sk-container\" hidden><div class=\"sk-item\"><div class=\"sk-estimator sk-toggleable\"><input class=\"sk-toggleable__control sk-hidden--visually\" id=\"sk-estimator-id-4\" type=\"checkbox\" checked><label for=\"sk-estimator-id-4\" class=\"sk-toggleable__label sk-toggleable__label-arrow\">HistGradientBoostingRegressor</label><div class=\"sk-toggleable__content\"><pre>HistGradientBoostingRegressor(verbose=1)</pre></div></div></div></div></div>"
      ],
      "text/plain": [
       "HistGradientBoostingRegressor(verbose=1)"
      ]
     },
     "execution_count": 33,
     "metadata": {},
     "output_type": "execute_result"
    }
   ],
   "source": [
    "from sklearn.preprocessing import StandardScaler\n",
    "scaler = StandardScaler().fit(trainX)\n",
    "trainX = scaler.transform(trainX)\n",
    "testX = scaler.transform(testX)\n",
    "gbm=sklearn.ensemble.HistGradientBoostingRegressor(verbose=1)\n",
    "gbm.fit(trainX,trainY)"
   ]
  },
  {
   "cell_type": "code",
   "execution_count": 34,
   "id": "aa8c740d",
   "metadata": {
    "scrolled": true
   },
   "outputs": [
    {
     "data": {
      "text/plain": [
       "(array([[-0.78897324, -0.78821318, -0.78916325, ...,  0.1099232 ,\n",
       "          0.1120555 ,  0.11014345],\n",
       "        [-0.78897324,  0.11209303,  0.87389259, ...,  0.1099232 ,\n",
       "          1.53357   ,  0.11014345],\n",
       "        [ 0.11240141, -0.78821318,  0.1119837 , ...,  0.87108777,\n",
       "         -0.78884433,  1.5289018 ],\n",
       "        ...,\n",
       "        [ 1.53466512,  0.11209303, -0.78916325, ..., -0.79034341,\n",
       "          0.1120555 , -0.78900964],\n",
       "        [ 0.11240141, -0.78821318, -0.78916325, ..., -0.79034341,\n",
       "          1.53357   ,  0.87036655],\n",
       "        [ 3.10905997,  0.87329107, -0.78916325, ..., -0.79034341,\n",
       "         -0.78884433, -0.78900964]]),\n",
       " array([[-0.7889732 ,  0.8732909 ,  2.636803  , ..., -0.78884435,\n",
       "          0.11014347, -0.7898543 ],\n",
       "        [-0.7889732 ,  0.11209305, -0.78916323, ..., -0.78884435,\n",
       "          0.87036645, -0.7898543 ],\n",
       "        [ 1.5346652 , -0.7882132 ,  0.8738925 , ...,  0.11205552,\n",
       "         -0.78900963, -0.7898543 ],\n",
       "        ...,\n",
       "        [ 0.8745027 ,  0.11209305, -0.78916323, ..., -0.78884435,\n",
       "          0.11014347, -0.7898543 ],\n",
       "        [ 3.10906   ,  0.8732909 ,  1.5338882 , ...,  0.11205552,\n",
       "         -0.78900963, -0.7898543 ],\n",
       "        [ 0.11240143, -0.7882132 , -0.78916323, ...,  0.87375534,\n",
       "         -0.78900963,  0.10994212]], dtype=float32))"
      ]
     },
     "execution_count": 34,
     "metadata": {},
     "output_type": "execute_result"
    }
   ],
   "source": [
    "testX, lightgbm_X_test"
   ]
  },
  {
   "cell_type": "code",
   "execution_count": 35,
   "id": "c35c15b9",
   "metadata": {},
   "outputs": [
    {
     "ename": "ValueError",
     "evalue": "X has 160 features, but StandardScaler is expecting 192 features as input.",
     "output_type": "error",
     "traceback": [
      "\u001b[0;31m---------------------------------------------------------------------------\u001b[0m",
      "\u001b[0;31mValueError\u001b[0m                                Traceback (most recent call last)",
      "Cell \u001b[0;32mIn[35], line 3\u001b[0m\n\u001b[1;32m      1\u001b[0m \u001b[38;5;28;01mfrom\u001b[39;00m \u001b[38;5;21;01msklearn\u001b[39;00m\u001b[38;5;21;01m.\u001b[39;00m\u001b[38;5;21;01mpreprocessing\u001b[39;00m \u001b[38;5;28;01mimport\u001b[39;00m StandardScaler\n\u001b[1;32m      2\u001b[0m light_gbm_scaler \u001b[38;5;241m=\u001b[39m StandardScaler()\u001b[38;5;241m.\u001b[39mfit(lightgbm_X_train)\n\u001b[0;32m----> 3\u001b[0m lightgbm_X_train \u001b[38;5;241m=\u001b[39m \u001b[43mscaler\u001b[49m\u001b[38;5;241;43m.\u001b[39;49m\u001b[43mtransform\u001b[49m\u001b[43m(\u001b[49m\u001b[43mlightgbm_X_train\u001b[49m\u001b[43m)\u001b[49m\n\u001b[1;32m      4\u001b[0m lightgbm_X_test \u001b[38;5;241m=\u001b[39m scaler\u001b[38;5;241m.\u001b[39mtransform(lightgbm_X_test)\n\u001b[1;32m      5\u001b[0m gbm\u001b[38;5;241m=\u001b[39msklearn\u001b[38;5;241m.\u001b[39mensemble\u001b[38;5;241m.\u001b[39mHistGradientBoostingRegressor(verbose\u001b[38;5;241m=\u001b[39m\u001b[38;5;241m1\u001b[39m)\n",
      "File \u001b[0;32m~/.cache/pypoetry/virtualenvs/spatial-G_n0JvVf-py3.10/lib/python3.10/site-packages/sklearn/utils/_set_output.py:142\u001b[0m, in \u001b[0;36m_wrap_method_output.<locals>.wrapped\u001b[0;34m(self, X, *args, **kwargs)\u001b[0m\n\u001b[1;32m    140\u001b[0m \u001b[38;5;129m@wraps\u001b[39m(f)\n\u001b[1;32m    141\u001b[0m \u001b[38;5;28;01mdef\u001b[39;00m \u001b[38;5;21mwrapped\u001b[39m(\u001b[38;5;28mself\u001b[39m, X, \u001b[38;5;241m*\u001b[39margs, \u001b[38;5;241m*\u001b[39m\u001b[38;5;241m*\u001b[39mkwargs):\n\u001b[0;32m--> 142\u001b[0m     data_to_wrap \u001b[38;5;241m=\u001b[39m \u001b[43mf\u001b[49m\u001b[43m(\u001b[49m\u001b[38;5;28;43mself\u001b[39;49m\u001b[43m,\u001b[49m\u001b[43m \u001b[49m\u001b[43mX\u001b[49m\u001b[43m,\u001b[49m\u001b[43m \u001b[49m\u001b[38;5;241;43m*\u001b[39;49m\u001b[43margs\u001b[49m\u001b[43m,\u001b[49m\u001b[43m \u001b[49m\u001b[38;5;241;43m*\u001b[39;49m\u001b[38;5;241;43m*\u001b[39;49m\u001b[43mkwargs\u001b[49m\u001b[43m)\u001b[49m\n\u001b[1;32m    143\u001b[0m     \u001b[38;5;28;01mif\u001b[39;00m \u001b[38;5;28misinstance\u001b[39m(data_to_wrap, \u001b[38;5;28mtuple\u001b[39m):\n\u001b[1;32m    144\u001b[0m         \u001b[38;5;66;03m# only wrap the first output for cross decomposition\u001b[39;00m\n\u001b[1;32m    145\u001b[0m         \u001b[38;5;28;01mreturn\u001b[39;00m (\n\u001b[1;32m    146\u001b[0m             _wrap_data_with_container(method, data_to_wrap[\u001b[38;5;241m0\u001b[39m], X, \u001b[38;5;28mself\u001b[39m),\n\u001b[1;32m    147\u001b[0m             \u001b[38;5;241m*\u001b[39mdata_to_wrap[\u001b[38;5;241m1\u001b[39m:],\n\u001b[1;32m    148\u001b[0m         )\n",
      "File \u001b[0;32m~/.cache/pypoetry/virtualenvs/spatial-G_n0JvVf-py3.10/lib/python3.10/site-packages/sklearn/preprocessing/_data.py:992\u001b[0m, in \u001b[0;36mStandardScaler.transform\u001b[0;34m(self, X, copy)\u001b[0m\n\u001b[1;32m    989\u001b[0m check_is_fitted(\u001b[38;5;28mself\u001b[39m)\n\u001b[1;32m    991\u001b[0m copy \u001b[38;5;241m=\u001b[39m copy \u001b[38;5;28;01mif\u001b[39;00m copy \u001b[38;5;129;01mis\u001b[39;00m \u001b[38;5;129;01mnot\u001b[39;00m \u001b[38;5;28;01mNone\u001b[39;00m \u001b[38;5;28;01melse\u001b[39;00m \u001b[38;5;28mself\u001b[39m\u001b[38;5;241m.\u001b[39mcopy\n\u001b[0;32m--> 992\u001b[0m X \u001b[38;5;241m=\u001b[39m \u001b[38;5;28;43mself\u001b[39;49m\u001b[38;5;241;43m.\u001b[39;49m\u001b[43m_validate_data\u001b[49m\u001b[43m(\u001b[49m\n\u001b[1;32m    993\u001b[0m \u001b[43m    \u001b[49m\u001b[43mX\u001b[49m\u001b[43m,\u001b[49m\n\u001b[1;32m    994\u001b[0m \u001b[43m    \u001b[49m\u001b[43mreset\u001b[49m\u001b[38;5;241;43m=\u001b[39;49m\u001b[38;5;28;43;01mFalse\u001b[39;49;00m\u001b[43m,\u001b[49m\n\u001b[1;32m    995\u001b[0m \u001b[43m    \u001b[49m\u001b[43maccept_sparse\u001b[49m\u001b[38;5;241;43m=\u001b[39;49m\u001b[38;5;124;43m\"\u001b[39;49m\u001b[38;5;124;43mcsr\u001b[39;49m\u001b[38;5;124;43m\"\u001b[39;49m\u001b[43m,\u001b[49m\n\u001b[1;32m    996\u001b[0m \u001b[43m    \u001b[49m\u001b[43mcopy\u001b[49m\u001b[38;5;241;43m=\u001b[39;49m\u001b[43mcopy\u001b[49m\u001b[43m,\u001b[49m\n\u001b[1;32m    997\u001b[0m \u001b[43m    \u001b[49m\u001b[43mdtype\u001b[49m\u001b[38;5;241;43m=\u001b[39;49m\u001b[43mFLOAT_DTYPES\u001b[49m\u001b[43m,\u001b[49m\n\u001b[1;32m    998\u001b[0m \u001b[43m    \u001b[49m\u001b[43mforce_all_finite\u001b[49m\u001b[38;5;241;43m=\u001b[39;49m\u001b[38;5;124;43m\"\u001b[39;49m\u001b[38;5;124;43mallow-nan\u001b[39;49m\u001b[38;5;124;43m\"\u001b[39;49m\u001b[43m,\u001b[49m\n\u001b[1;32m    999\u001b[0m \u001b[43m\u001b[49m\u001b[43m)\u001b[49m\n\u001b[1;32m   1001\u001b[0m \u001b[38;5;28;01mif\u001b[39;00m sparse\u001b[38;5;241m.\u001b[39missparse(X):\n\u001b[1;32m   1002\u001b[0m     \u001b[38;5;28;01mif\u001b[39;00m \u001b[38;5;28mself\u001b[39m\u001b[38;5;241m.\u001b[39mwith_mean:\n",
      "File \u001b[0;32m~/.cache/pypoetry/virtualenvs/spatial-G_n0JvVf-py3.10/lib/python3.10/site-packages/sklearn/base.py:558\u001b[0m, in \u001b[0;36mBaseEstimator._validate_data\u001b[0;34m(self, X, y, reset, validate_separately, **check_params)\u001b[0m\n\u001b[1;32m    555\u001b[0m     out \u001b[38;5;241m=\u001b[39m X, y\n\u001b[1;32m    557\u001b[0m \u001b[38;5;28;01mif\u001b[39;00m \u001b[38;5;129;01mnot\u001b[39;00m no_val_X \u001b[38;5;129;01mand\u001b[39;00m check_params\u001b[38;5;241m.\u001b[39mget(\u001b[38;5;124m\"\u001b[39m\u001b[38;5;124mensure_2d\u001b[39m\u001b[38;5;124m\"\u001b[39m, \u001b[38;5;28;01mTrue\u001b[39;00m):\n\u001b[0;32m--> 558\u001b[0m     \u001b[38;5;28;43mself\u001b[39;49m\u001b[38;5;241;43m.\u001b[39;49m\u001b[43m_check_n_features\u001b[49m\u001b[43m(\u001b[49m\u001b[43mX\u001b[49m\u001b[43m,\u001b[49m\u001b[43m \u001b[49m\u001b[43mreset\u001b[49m\u001b[38;5;241;43m=\u001b[39;49m\u001b[43mreset\u001b[49m\u001b[43m)\u001b[49m\n\u001b[1;32m    560\u001b[0m \u001b[38;5;28;01mreturn\u001b[39;00m out\n",
      "File \u001b[0;32m~/.cache/pypoetry/virtualenvs/spatial-G_n0JvVf-py3.10/lib/python3.10/site-packages/sklearn/base.py:359\u001b[0m, in \u001b[0;36mBaseEstimator._check_n_features\u001b[0;34m(self, X, reset)\u001b[0m\n\u001b[1;32m    356\u001b[0m     \u001b[38;5;28;01mreturn\u001b[39;00m\n\u001b[1;32m    358\u001b[0m \u001b[38;5;28;01mif\u001b[39;00m n_features \u001b[38;5;241m!=\u001b[39m \u001b[38;5;28mself\u001b[39m\u001b[38;5;241m.\u001b[39mn_features_in_:\n\u001b[0;32m--> 359\u001b[0m     \u001b[38;5;28;01mraise\u001b[39;00m \u001b[38;5;167;01mValueError\u001b[39;00m(\n\u001b[1;32m    360\u001b[0m         \u001b[38;5;124mf\u001b[39m\u001b[38;5;124m\"\u001b[39m\u001b[38;5;124mX has \u001b[39m\u001b[38;5;132;01m{\u001b[39;00mn_features\u001b[38;5;132;01m}\u001b[39;00m\u001b[38;5;124m features, but \u001b[39m\u001b[38;5;132;01m{\u001b[39;00m\u001b[38;5;28mself\u001b[39m\u001b[38;5;241m.\u001b[39m\u001b[38;5;18m__class__\u001b[39m\u001b[38;5;241m.\u001b[39m\u001b[38;5;18m__name__\u001b[39m\u001b[38;5;132;01m}\u001b[39;00m\u001b[38;5;124m \u001b[39m\u001b[38;5;124m\"\u001b[39m\n\u001b[1;32m    361\u001b[0m         \u001b[38;5;124mf\u001b[39m\u001b[38;5;124m\"\u001b[39m\u001b[38;5;124mis expecting \u001b[39m\u001b[38;5;132;01m{\u001b[39;00m\u001b[38;5;28mself\u001b[39m\u001b[38;5;241m.\u001b[39mn_features_in_\u001b[38;5;132;01m}\u001b[39;00m\u001b[38;5;124m features as input.\u001b[39m\u001b[38;5;124m\"\u001b[39m\n\u001b[1;32m    362\u001b[0m     )\n",
      "\u001b[0;31mValueError\u001b[0m: X has 160 features, but StandardScaler is expecting 192 features as input."
     ]
    }
   ],
   "source": [
    "from sklearn.preprocessing import StandardScaler\n",
    "light_gbm_scaler = StandardScaler().fit(lightgbm_X_train)\n",
    "lightgbm_X_train = scaler.transform(lightgbm_X_train)\n",
    "lightgbm_X_test = scaler.transform(lightgbm_X_test)\n",
    "gbm=sklearn.ensemble.HistGradientBoostingRegressor(verbose=1)\n",
    "gbm.fit(lightgbm_X_train,lightgbm_Y_train)"
   ]
  },
  {
   "cell_type": "code",
   "execution_count": null,
   "id": "2e222a1b",
   "metadata": {},
   "outputs": [],
   "source": [
    "testY"
   ]
  },
  {
   "cell_type": "code",
   "execution_count": null,
   "id": "f60fc9b2",
   "metadata": {},
   "outputs": [],
   "source": [
    "lightgbm_Y_test"
   ]
  },
  {
   "cell_type": "code",
   "execution_count": null,
   "id": "a0159174",
   "metadata": {},
   "outputs": [],
   "source": []
  }
 ],
 "metadata": {
  "kernelspec": {
   "display_name": "Python 3 (ipykernel)",
   "language": "python",
   "name": "python3"
  },
  "language_info": {
   "codemirror_mode": {
    "name": "ipython",
    "version": 3
   },
   "file_extension": ".py",
   "mimetype": "text/x-python",
   "name": "python",
   "nbconvert_exporter": "python",
   "pygments_lexer": "ipython3",
   "version": "3.10.6"
  }
 },
 "nbformat": 4,
 "nbformat_minor": 5
}
