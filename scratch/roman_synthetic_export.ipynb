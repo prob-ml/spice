{
 "cells": [
  {
   "cell_type": "code",
   "execution_count": 1,
   "id": "364eebea",
   "metadata": {},
   "outputs": [],
   "source": [
    "import os\n",
    "os.environ['CUDA_VISIBLE_DEVICES']=\"\"\n",
    "os.environ['OMP_NUM_THREADS']=\"4\"\n",
    "os.environ['NUMBA_NUM_THREADS']=\"4\"\n",
    "os.environ['MKL_NUM_THREADS']=\"4\""
   ]
  },
  {
   "cell_type": "code",
   "execution_count": 2,
   "id": "f3da7530",
   "metadata": {},
   "outputs": [],
   "source": [
    "%load_ext autoreload\n",
    "%autoreload 2 \n",
    "import pandas as pd; import anndata; import numpy as np; import gzip; import io; import h5py\n",
    "import collections; import matplotlib.pyplot as plt; import time; import sys; import tqdm.notebook\n",
    "import pickle; import scipy as sp; import scipy.sparse; import scipy.stats; rng=np.random.default_rng()\n",
    "import PIL; PIL.Image.MAX_IMAGE_PIXELS = None; import matplotlib\n",
    "%matplotlib inline\n",
    "plt.rcParams.update({\n",
    "    \"figure.facecolor\":  (1.0, 1.0, 1.0, 1.0),\n",
    "    \"axes.facecolor\":    (1.0, 1.0, 1.0, 1.0),\n",
    "    \"savefig.facecolor\": (1.0, 1.0, 1.0, 1.0),\n",
    "    \"text.usetex\": True,\n",
    "})\n",
    "%config InlineBackend.print_figure_kwargs = {'bbox_inches':None}"
   ]
  },
  {
   "cell_type": "code",
   "execution_count": 3,
   "id": "264600e2",
   "metadata": {},
   "outputs": [],
   "source": [
    "def process(fn):\n",
    "    with h5py.File(fn,'r') as f:\n",
    "        dct={}\n",
    "        for x in ['Animal_ID', 'Animal_sex', 'Behavior', 'Bregma', 'Cell_ID', 'Cell_class', \n",
    "                  'Centroid_X', 'Centroid_Y', 'Neuron_cluster_ID']:\n",
    "            dct[x]=f[x][:]\n",
    "            if dct[x].dtype.kind=='S':\n",
    "                dct[x]=dct[x].astype(\"U\")\n",
    "        for x in ['Animal_ID', 'Animal_sex', 'Behavior', 'Bregma', 'Cell_class', 'Neuron_cluster_ID']:\n",
    "            dct[x]=pd.Categorical(dct[x])\n",
    "        X=f['expression'][:]\n",
    "        var=pd.DataFrame(index=f['gene_names'][:].astype('U'))\n",
    "    ad=anndata.AnnData(X=X,var=var,obs=pd.DataFrame(data=dct),dtype=np.float32) # <-- stored as float16 (!)\n",
    "    ad.obs['tissue_id']=pd.Categorical(ad.obs.Animal_ID.astype(str).str.cat(ad.obs.Bregma.astype(str),sep='_'))\n",
    "   \n",
    "    dct=collections.defaultdict(list)\n",
    "    for x in ad.obs.tissue_id.cat.categories:\n",
    "        idx=np.where(ad.obs.tissue_id==x)[0][0]\n",
    "        for nm in ['Animal_ID','Animal_sex','Behavior','Bregma']:\n",
    "            dct[nm].append(ad.obs.iloc[idx][nm])\n",
    "        dct['tissue_id'].append(x)\n",
    "    df=pd.DataFrame(dct,index=dct['tissue_id'])\n",
    "    df['split']=np.where(df['Animal_ID'].values>30,'test','train')\n",
    "    ad.uns['tissueinfo']=df\n",
    "\n",
    "    return ad\n",
    "\n",
    "import sklearn.neighbors\n",
    "basefn='/data/spatial/deepst_synthetic/'"
   ]
  },
  {
   "cell_type": "markdown",
   "id": "9d7034b2",
   "metadata": {},
   "source": [
    "# load"
   ]
  },
  {
   "cell_type": "code",
   "execution_count": 8,
   "id": "1c564ab8",
   "metadata": {},
   "outputs": [
    {
     "name": "stderr",
     "output_type": "stream",
     "text": [
      "/home/roko/.cache/pypoetry/virtualenvs/spatial-G_n0JvVf-py3.10/lib/python3.10/site-packages/anndata/_core/anndata.py:121: ImplicitModificationWarning: Transforming to str index.\n",
      "  warnings.warn(\"Transforming to str index.\", ImplicitModificationWarning)\n"
     ]
    }
   ],
   "source": [
    "ad=process(basefn+\"synth8.hdf5\")"
   ]
  },
  {
   "cell_type": "markdown",
   "id": "86ba7bfb",
   "metadata": {},
   "source": [
    "# construct edges"
   ]
  },
  {
   "cell_type": "code",
   "execution_count": 9,
   "id": "22a59fc9",
   "metadata": {},
   "outputs": [
    {
     "data": {
      "application/vnd.jupyter.widget-view+json": {
       "model_id": "cc17c2fb4e184dd3961dca6baf5f217d",
       "version_major": 2,
       "version_minor": 0
      },
      "text/plain": [
       "  0%|          | 0/181 [00:00<?, ?it/s]"
      ]
     },
     "metadata": {},
     "output_type": "display_data"
    }
   ],
   "source": [
    "radius=30\n",
    "loc=ad.obs[['Centroid_X','Centroid_Y']].values\n",
    "rows=[]\n",
    "cols=[]\n",
    "for nm in tqdm.notebook.tqdm(ad.obs.tissue_id.cat.categories):\n",
    "    indicator=ad.obs.tissue_id==nm\n",
    "    adjacency=sklearn.neighbors.radius_neighbors_graph(loc[indicator],radius).tocoo()\n",
    "    rows.extend(np.where(indicator)[0][adjacency.row])\n",
    "    cols.extend(np.where(indicator)[0][adjacency.col])\n",
    "adjacency=sp.sparse.coo_matrix((np.ones(len(rows)),(rows,cols)),shape=(len(ad),len(ad))).tocsr()"
   ]
  },
  {
   "cell_type": "code",
   "execution_count": 10,
   "id": "34b44b5c",
   "metadata": {},
   "outputs": [
    {
     "name": "stdout",
     "output_type": "stream",
     "text": [
      "MSE 0.0023150182148342466\n",
      "MSE 0.0030067547361875987\n",
      "MSE 0.0024559966978635705\n"
     ]
    }
   ],
   "source": [
    "X1sum=(adjacency@ad.X[:,1]+ad.X[:,1])\n",
    "X0=ad.X[:,0]\n",
    "\n",
    "print(\"MSE\",np.mean((np.where(X1sum>1,X1sum,0)-X0)**2))\n",
    "print(\"MSE\",np.mean((np.where(X1sum>=1,X1sum,0)-X0)**2))\n",
    "print(\"MSE\",np.mean((np.where(X1sum>.997,X1sum,0)-X0)**2))"
   ]
  },
  {
   "cell_type": "code",
   "execution_count": 33,
   "id": "99699bb6",
   "metadata": {},
   "outputs": [
    {
     "name": "stdout",
     "output_type": "stream",
     "text": [
      "[1.63342285 2.0333252  2.48327637 0.9666748  1.83337402 1.01672363\n",
      " 1.25       1.9666748  1.26660156 1.3001709  2.51647949 1.56665039\n",
      " 1.33325195 1.64990234 2.76660156 1.25012207 3.13317871 2.93322754\n",
      " 1.13342285 2.39978027 2.0333252  1.68347168 3.48327637 2.63342285\n",
      " 3.29980469 1.79992676 1.24975586 2.13330078 2.49987793 1.9666748\n",
      " 2.01660156 1.78320312 1.99987793 1.24975586 1.23327637 1.65014648\n",
      " 1.41662598 1.61657715 2.06652832 2.55004883 0.36657715 2.34985352\n",
      " 0.91662598 0.94995117 3.41674805 2.61657715 2.2166748  1.93322754\n",
      " 1.40014648 1.98364258 0.5        1.         1.63317871 2.08312988\n",
      " 2.2833252  0.99987793 1.85009766 2.09985352 1.51647949 2.74987793\n",
      " 2.2833252  2.31677246 2.20019531 2.48339844 1.88354492 1.26660156\n",
      " 3.11657715 3.08337402 2.06665039 1.84985352 2.45019531 1.73327637\n",
      " 0.94995117 1.43334961 1.93322754 2.18347168 1.63342285 1.24975586\n",
      " 1.39978027 1.14978027 1.96630859 1.58300781 1.09985352 0.46661377\n",
      " 2.1496582  1.03344727 2.21655273 1.51635742 0.73339844 2.06689453\n",
      " 0.91674805 0.64990234 1.38354492 1.51660156 1.25       0.96655273\n",
      " 0.55004883 2.19995117 1.30004883 2.01635742]\n"
     ]
    },
    {
     "data": {
      "text/plain": [
       "0.0"
      ]
     },
     "execution_count": 33,
     "metadata": {},
     "output_type": "execute_result"
    }
   ],
   "source": [
    "floating_issues = np.where(X1sum>1,X1sum,0)\n",
    "# print(floating_issues[:100])\n",
    "print(X1sum[:100])\n",
    "sum(floating_issues[X1sum == 1])"
   ]
  },
  {
   "cell_type": "code",
   "execution_count": 11,
   "id": "5c2051f2",
   "metadata": {
    "scrolled": true
   },
   "outputs": [
    {
     "data": {
      "text/plain": [
       "Text(0, 0.5, 'What X0 actually is')"
      ]
     },
     "execution_count": 11,
     "metadata": {},
     "output_type": "execute_result"
    },
    {
     "data": {
      "image/png": "[encoded data removed]",
      "text/plain": [
       "<Figure size 640x480 with 1 Axes>"
      ]
     },
     "metadata": {},
     "output_type": "display_data"
    }
   ],
   "source": [
    "plt.scatter(np.where(X1sum>1,X1sum,0),X0)\n",
    "plt.xlabel(\"What formula says X0 should be\")\n",
    "plt.ylabel(\"What X0 actually is\")"
   ]
  },
  {
   "cell_type": "code",
   "execution_count": 50,
   "id": "ee4f87b3",
   "metadata": {},
   "outputs": [
    {
     "data": {
      "text/plain": [
       "1"
      ]
     },
     "execution_count": 50,
     "metadata": {},
     "output_type": "execute_result"
    }
   ],
   "source": [
    "np.sum(np.dot(X1sum>=1, X0==0)) + np.dot((X1sum<1 * X0>=1))"
   ]
  },
  {
   "cell_type": "code",
   "execution_count": 58,
   "id": "88013c0c",
   "metadata": {},
   "outputs": [
    {
     "data": {
      "text/plain": [
       "array([1.00012207, 1.00012207, 1.00012207, 1.00024414, 1.00012207,\n",
       "       1.00012207, 1.00012207, 1.00012207, 1.00012207, 1.00012207,\n",
       "       1.00012207, 1.00012207, 1.00024414, 1.00012207, 1.00012207,\n",
       "       1.00024414, 1.00012207, 1.00012207, 1.00012207, 1.00012207,\n",
       "       1.00018311, 1.00024414, 1.00006104, 1.00012207, 1.00012207,\n",
       "       1.00024414, 1.00012207, 1.00024414, 1.00024414, 1.00024414,\n",
       "       1.00024414, 1.00012207, 1.00012207, 1.00012207, 1.00024414,\n",
       "       1.00006104, 1.00012207, 1.00012207, 1.00012207, 1.00012207,\n",
       "       1.00012207, 1.00012207, 1.00012207, 1.00012207, 1.00012207,\n",
       "       1.00018311, 1.00024414, 1.00012207, 1.00024414, 1.00024414,\n",
       "       1.00024414, 1.00024414, 1.00024414, 1.00006104, 1.00024414,\n",
       "       1.00024414, 1.00024414, 1.00006104, 1.00024414, 1.00012207,\n",
       "       1.00024414, 1.00012207, 1.00012207, 1.00012207, 1.00024414,\n",
       "       1.00012207, 1.00012207, 1.00012207, 1.00024414, 1.00012207,\n",
       "       1.00012207, 1.00024414, 1.00012207, 1.00012207, 1.00024414,\n",
       "       1.00012207, 1.00012207, 1.00012207, 1.00024414, 1.00024414,\n",
       "       1.00006104, 1.00012207, 1.00012207, 1.00024414, 1.00024414,\n",
       "       1.00024414, 1.00024414, 1.00024414, 1.00024414, 1.00012207,\n",
       "       1.00024414, 1.00024414, 1.00012207, 1.00012207, 1.00012207,\n",
       "       1.00024414, 1.00024414, 1.00012207, 1.00012207, 1.00024414,\n",
       "       1.00012207, 1.00012207, 1.00024414, 1.00024414, 1.00012207,\n",
       "       1.00024414, 1.00024414, 1.00012207, 1.00018311, 1.00024414,\n",
       "       1.00024414, 1.00024414, 1.00012207, 1.00012207, 1.00024414,\n",
       "       1.00012207, 1.00012207, 1.00012207, 1.00012207, 1.00012207,\n",
       "       1.00024414, 1.00024414, 1.00024414, 1.00024414, 1.00024414,\n",
       "       1.00024414, 1.00024414, 1.00024414, 1.00024414, 1.00012207,\n",
       "       1.00012207, 1.00012207, 1.00024414, 1.00024414, 1.00024414,\n",
       "       1.00024414, 1.00018311, 1.00012207, 1.00012207, 1.00012207,\n",
       "       1.00012207, 1.00012207, 1.00024414, 1.00024414, 1.00024414,\n",
       "       1.00012207, 1.00024414, 1.00012207, 1.00012207, 1.00012207,\n",
       "       1.00024414, 1.00012207, 1.00024414, 1.00024414, 1.00012207,\n",
       "       1.00024414, 1.00012207, 1.00024414, 1.00012207, 1.00012207,\n",
       "       1.00012207, 1.00024414, 1.00024414, 1.00024414, 1.00012207,\n",
       "       1.00024414, 1.00024414, 1.00036621, 1.00012207, 1.00012207,\n",
       "       1.00012207, 1.00024414, 1.00012207, 1.00024414, 1.00012207,\n",
       "       1.00012207, 1.00012207, 1.00024414, 1.00024414, 1.00012207,\n",
       "       1.00024414, 1.00012207, 1.00024414, 1.00012207, 1.00024414,\n",
       "       1.00024414, 1.00012207, 1.00024414, 1.00024414, 1.00012207,\n",
       "       1.00012207, 1.00012207, 1.00024414, 1.00024414, 1.00024414,\n",
       "       1.00012207, 1.00024414, 1.00012207, 1.00012207, 1.00012207,\n",
       "       1.00024414, 1.00012207, 1.00012207, 1.00024414, 1.00024414,\n",
       "       1.00024414, 1.00024414, 1.00024414, 1.00024414, 1.00012207,\n",
       "       1.00012207, 1.00012207, 1.00012207, 1.00012207, 1.00012207,\n",
       "       1.00012207, 1.00024414, 1.00012207, 1.00024414, 1.00024414,\n",
       "       1.00024414, 1.00012207, 1.00012207, 1.00012207, 1.00024414,\n",
       "       1.00012207, 1.00012207, 1.00024414, 1.00012207, 1.00012207,\n",
       "       1.00024414, 1.00012207, 1.00012207, 1.00012207, 1.00012207,\n",
       "       1.00024414, 1.00012207, 1.00024414, 1.00012207, 1.00024414,\n",
       "       1.00024414, 1.00012207, 1.00012207, 1.00012207, 1.00024414,\n",
       "       1.00024414, 1.00012207, 1.00024414, 1.00012207, 1.00012207,\n",
       "       1.00024414, 1.00024414, 1.00012207, 1.00024414, 1.00012207,\n",
       "       1.00024414, 1.00012207, 1.00024414, 1.00012207, 1.00012207,\n",
       "       1.00024414, 1.00024414, 1.00012207, 1.00012207, 1.00024414,\n",
       "       1.00012207, 1.00024414, 1.00024414, 1.00012207, 1.00024414,\n",
       "       1.00024414, 1.00024414, 1.00012207, 1.00006104, 1.00012207,\n",
       "       1.00012207, 1.00024414, 1.00024414, 1.00018311, 1.00012207,\n",
       "       1.00012207, 1.00012207, 1.00024414, 1.00024414, 1.00024414,\n",
       "       1.00024414, 1.00024414, 1.00024414, 1.00024414, 1.00024414,\n",
       "       1.00012207, 1.00012207, 1.00024414, 1.00012207, 1.00012207,\n",
       "       1.00012207, 1.00012207, 1.00012207, 1.00012207, 1.00012207,\n",
       "       1.00012207, 1.00024414, 1.00012207, 1.00024414, 1.00012207,\n",
       "       1.00012207, 1.00024414, 1.00012207, 1.00024414, 1.00024414,\n",
       "       1.00024414, 1.00012207, 1.00012207, 1.00012207, 1.00024414,\n",
       "       1.00012207, 1.00012207, 1.00012207, 1.00012207, 1.00024414,\n",
       "       1.00024414, 1.00012207, 1.00024414, 1.00024414, 1.00024414,\n",
       "       1.00012207, 1.00024414, 1.00024414, 1.00024414, 1.00024414,\n",
       "       1.00006104, 1.00024414, 1.00006104, 1.00012207, 1.00024414,\n",
       "       1.00012207, 1.00012207, 1.00012207, 1.00018311, 1.00012207,\n",
       "       1.00006104, 1.00006104, 1.00024414, 1.00012207, 1.00024414,\n",
       "       1.00024414, 1.00012207, 1.00012207, 1.00012207, 1.00012207,\n",
       "       1.00024414, 1.00024414, 1.00024414, 1.00012207, 1.00024414,\n",
       "       1.00024414, 1.00024414, 1.00024414, 1.00012207, 1.00024414,\n",
       "       1.00012207, 1.00024414, 1.00024414, 1.00006104, 1.00024414,\n",
       "       1.00024414, 1.00012207, 1.00024414, 1.00012207, 1.00024414,\n",
       "       1.00012207, 1.00024414, 1.00024414, 1.00024414, 1.00012207,\n",
       "       1.00024414, 1.00024414, 1.00024414, 1.00012207, 1.00012207,\n",
       "       1.00012207, 1.00012207, 1.00024414, 1.00012207, 1.00012207,\n",
       "       1.00012207, 1.00006104, 1.00012207, 1.00012207, 1.00024414,\n",
       "       1.00012207, 1.00024414, 1.00024414, 1.00024414, 1.00012207,\n",
       "       1.00018311, 1.00012207, 1.00012207, 1.00012207, 1.00012207,\n",
       "       1.00012207, 1.00024414, 1.00012207, 1.00012207, 1.00012207,\n",
       "       1.00024414, 1.00012207, 1.00024414, 1.00024414, 1.00012207,\n",
       "       1.00024414, 1.00024414, 1.00024414, 1.00024414, 1.00024414,\n",
       "       1.00024414, 1.00024414, 1.00012207, 1.00024414, 1.00012207,\n",
       "       1.00012207, 1.00024414, 1.00012207, 1.00024414, 1.00012207,\n",
       "       1.00024414, 1.00012207, 1.00012207, 1.00024414, 1.00024414,\n",
       "       1.00024414, 1.00024414, 1.00024414, 1.00012207, 1.00024414,\n",
       "       1.00012207, 1.00012207, 1.00024414, 1.00012207, 1.00006104,\n",
       "       1.00024414, 1.00024414, 1.00012207, 1.00012207, 1.00006104,\n",
       "       1.00012207, 1.00024414, 1.00024414, 1.00024414, 1.00012207,\n",
       "       1.00012207, 1.00024414, 1.00012207, 1.00036621, 1.00024414,\n",
       "       1.00024414, 1.00024414, 1.00024414, 1.00024414, 1.00024414,\n",
       "       1.00024414, 1.00012207, 1.00012207, 1.00024414, 1.00024414,\n",
       "       1.00012207, 1.00012207, 1.00012207, 1.00024414, 1.00024414,\n",
       "       1.00024414, 1.00012207, 1.00012207, 1.00024414, 1.00012207,\n",
       "       1.00012207, 1.00012207, 1.00012207, 1.00012207, 1.00012207,\n",
       "       1.00012207, 1.00024414, 1.00012207, 1.00012207, 1.00012207,\n",
       "       1.00024414, 1.00024414, 1.00012207, 1.00012207, 1.00024414,\n",
       "       1.00012207, 1.00024414, 1.00024414, 1.00012207, 1.00012207,\n",
       "       1.00012207, 1.00012207, 1.00012207, 1.00024414, 1.00012207,\n",
       "       1.00012207, 1.00030518, 1.00012207, 1.00024414, 1.00024414,\n",
       "       1.00024414, 1.00024414, 1.00012207, 1.00012207, 1.00012207,\n",
       "       1.00024414, 1.00012207, 1.00024414, 1.00024414, 1.00024414,\n",
       "       1.00012207, 1.00012207, 1.00012207, 1.00024414, 1.00006104,\n",
       "       1.00024414, 1.00024414, 1.00006104, 1.00012207, 1.00024414,\n",
       "       1.00012207, 1.00024414, 1.00012207, 1.00018311, 1.00012207,\n",
       "       1.00024414, 1.00024414, 1.00012207, 1.00024414, 1.00024414,\n",
       "       1.00012207, 1.00012207, 1.00024414, 1.00024414, 1.00012207,\n",
       "       1.00024414, 1.00012207, 1.00012207, 1.00012207, 1.00012207,\n",
       "       1.00012207, 1.00024414, 1.00024414, 1.00012207, 1.00012207,\n",
       "       1.00012207, 1.00012207, 1.00012207, 1.00024414, 1.00012207,\n",
       "       1.00024414, 1.00012207, 1.00012207, 1.00024414, 1.00012207,\n",
       "       1.00012207, 1.00024414, 1.00024414, 1.00012207, 1.00012207,\n",
       "       1.00012207, 1.00012207, 1.00012207, 1.00012207, 1.00012207,\n",
       "       1.00024414, 1.00024414, 1.00024414, 1.00012207, 1.00024414,\n",
       "       1.00012207, 1.00012207, 1.00024414, 1.00012207, 1.00012207,\n",
       "       1.00024414, 1.00012207, 1.00024414, 1.00012207, 1.00024414,\n",
       "       1.00024414, 1.00024414, 1.00012207, 1.00012207, 1.00024414,\n",
       "       1.00012207, 1.00012207, 1.00024414, 1.00012207, 1.00012207,\n",
       "       1.00024414, 1.00024414, 1.00024414, 1.00012207, 1.00006104,\n",
       "       1.00024414, 1.00024414, 1.00012207, 1.00012207, 1.00012207,\n",
       "       1.00012207, 1.00024414, 1.00024414, 1.00012207, 1.00018311,\n",
       "       1.00012207, 1.00024414, 1.00012207, 1.00024414, 1.00024414,\n",
       "       1.00012207, 1.00024414, 1.00024414, 1.00024414, 1.00024414,\n",
       "       1.00012207, 1.00012207, 1.00018311, 1.00024414, 1.00012207,\n",
       "       1.00024414, 1.00024414, 1.00024414, 1.00024414, 1.00024414,\n",
       "       1.00024414, 1.00012207, 1.00018311, 1.00024414, 1.00012207,\n",
       "       1.00024414, 1.00024414, 1.00012207, 1.00024414, 1.00012207,\n",
       "       1.00012207, 1.00024414, 1.00024414, 1.00024414, 1.00012207,\n",
       "       1.00012207, 1.00012207, 1.00012207, 1.00012207, 1.00012207,\n",
       "       1.00024414, 1.00024414, 1.00024414, 1.00018311, 1.00012207,\n",
       "       1.00012207, 1.00012207, 1.00012207, 1.00012207, 1.00012207,\n",
       "       1.00012207, 1.00024414, 1.00012207, 1.00024414, 1.00024414,\n",
       "       1.00024414, 1.00024414, 1.00024414, 1.00012207, 1.00012207,\n",
       "       1.00024414, 1.00024414, 1.00012207, 1.00012207, 1.00012207,\n",
       "       1.00012207, 1.00012207, 1.00024414, 1.00012207, 1.00024414,\n",
       "       1.00024414, 1.00012207, 1.00012207, 1.00012207, 1.00012207,\n",
       "       1.00012207, 1.00012207, 1.00012207, 1.00012207, 1.00012207,\n",
       "       1.00024414, 1.00012207, 1.00012207, 1.00024414, 1.00012207,\n",
       "       1.00024414, 1.00024414, 1.00024414, 1.00006104, 1.00024414,\n",
       "       1.00006104, 1.00012207, 1.00024414, 1.00024414, 1.00024414,\n",
       "       1.00012207, 1.00012207, 1.00012207, 1.00012207, 1.00024414,\n",
       "       1.00012207])"
      ]
     },
     "execution_count": 58,
     "metadata": {},
     "output_type": "execute_result"
    }
   ],
   "source": [
    "X1sum[(X1sum>1) & (X0==0)]"
   ]
  },
  {
   "cell_type": "code",
   "execution_count": 59,
   "id": "b8f0ae3c",
   "metadata": {},
   "outputs": [
    {
     "data": {
      "text/plain": [
       "array([0.99987793, 0.99975586, 0.99987793, 0.99975586, 0.99975586,\n",
       "       0.99993896, 0.99975586, 0.99975586, 0.99987793, 0.99987793,\n",
       "       0.99987793, 0.99975586, 0.99975586, 0.99987793, 0.99987793,\n",
       "       0.99987793, 0.99987793, 0.99987793, 0.99987793, 0.99993896,\n",
       "       0.99975586, 0.99975586, 0.99987793, 0.99975586, 0.99975586,\n",
       "       0.99975586, 0.99993896, 0.99987793, 0.99987793, 0.99987793,\n",
       "       0.99987793, 0.99993896, 0.99987793, 0.99975586, 0.99975586,\n",
       "       0.99987793, 0.99975586, 0.99987793, 0.99987793, 0.99975586,\n",
       "       0.99987793, 0.99987793, 0.99993896, 0.99993896, 0.99975586,\n",
       "       0.99993896, 0.99987793, 0.99987793, 0.99987793, 0.99975586,\n",
       "       0.99987793, 0.99975586, 0.99975586, 0.99993896, 0.99975586,\n",
       "       0.99987793, 0.99987793, 0.99975586, 0.99987793, 0.99975586,\n",
       "       0.99987793, 0.99987793, 0.99987793, 0.99987793, 0.99975586,\n",
       "       0.99987793, 0.99987793, 0.99987793, 0.99987793, 0.99987793,\n",
       "       0.99993896, 0.99993896, 0.99993896, 0.99987793, 0.99987793,\n",
       "       0.99987793, 0.99981689, 0.99987793, 0.99987793, 0.99987793,\n",
       "       0.99987793, 0.99987793, 0.99987793, 0.99987793, 0.99987793,\n",
       "       0.99987793, 0.99975586, 0.99987793, 0.99975586, 0.99993896,\n",
       "       0.99987793, 0.99987793, 0.99987793, 0.99987793, 0.99987793,\n",
       "       0.99987793, 0.99987793, 0.99975586, 0.99975586, 0.99987793,\n",
       "       0.99987793, 0.99993896, 0.99987793, 0.99987793, 0.99987793,\n",
       "       0.99993896, 0.99993896, 0.99987793, 0.99975586, 0.99993896,\n",
       "       0.99987793, 0.99987793, 0.99987793, 0.99987793, 0.99975586,\n",
       "       0.99975586, 0.99987793, 0.99987793, 0.99987793, 0.99987793,\n",
       "       0.99993896, 0.99993896, 0.99987793, 0.99975586, 0.99975586,\n",
       "       0.99975586, 0.99987793, 0.99987793, 0.99993896, 0.99987793,\n",
       "       0.99987793, 0.99975586, 0.99987793, 0.99987793, 0.99987793,\n",
       "       0.99975586, 0.99987793, 0.99981689, 0.99987793, 0.99987793,\n",
       "       0.99987793, 0.99987793, 0.99981689, 0.99993896, 0.99975586,\n",
       "       0.99987793, 0.99987793, 0.99987793, 0.99975586, 0.99987793,\n",
       "       0.99987793, 0.99987793, 0.99975586, 0.99987793, 0.99987793,\n",
       "       0.99975586, 0.99987793, 0.99987793, 0.99987793, 0.99987793,\n",
       "       0.99987793, 0.99987793, 0.99981689, 0.99987793, 0.99987793,\n",
       "       0.99975586, 0.99987793, 0.99975586, 0.99987793, 0.99975586,\n",
       "       0.99987793, 0.99981689, 0.99987793, 0.99987793, 0.99987793,\n",
       "       0.99987793, 0.99975586, 0.99987793, 0.99987793, 0.99975586,\n",
       "       0.99993896, 0.99987793, 0.99993896, 0.99987793, 0.99987793,\n",
       "       0.99975586, 0.99975586, 0.99987793, 0.99975586, 0.99987793,\n",
       "       0.99987793, 0.99987793, 0.99993896, 0.99975586, 0.99987793,\n",
       "       0.99987793, 0.99987793, 0.99993896, 0.99987793, 0.99987793,\n",
       "       0.99975586, 0.99987793, 0.99987793, 0.99993896, 0.99975586,\n",
       "       0.99987793, 0.99975586, 0.99975586, 0.99987793, 0.99975586,\n",
       "       0.99987793, 0.99987793, 0.99987793, 0.99987793, 0.99975586,\n",
       "       0.99987793, 0.99987793, 0.99987793, 0.99987793, 0.99975586,\n",
       "       0.99987793, 0.99993896, 0.99975586, 0.99975586, 0.99975586,\n",
       "       0.99987793, 0.99975586, 0.99981689, 0.99975586, 0.99975586,\n",
       "       0.99975586, 0.99987793, 0.99975586, 0.99987793, 0.99987793,\n",
       "       0.99975586, 0.99987793, 0.99987793, 0.99975586, 0.99975586,\n",
       "       0.99975586, 0.99987793, 0.99975586, 0.99987793, 0.99987793,\n",
       "       0.99987793, 0.99987793, 0.99987793, 0.99987793, 0.99987793,\n",
       "       0.99981689, 0.99975586, 0.99987793, 0.99975586, 0.99975586,\n",
       "       0.99987793, 0.99987793, 0.99987793, 0.99987793, 0.99987793,\n",
       "       0.99987793, 0.99987793, 0.99975586, 0.99987793, 0.99987793,\n",
       "       0.99987793, 0.99987793, 0.99987793, 0.99987793, 0.99981689,\n",
       "       0.99981689, 0.99975586, 0.99981689, 0.99987793, 0.99987793,\n",
       "       0.99987793, 0.99987793, 0.99975586, 0.99987793, 0.99987793,\n",
       "       0.99975586, 0.99975586, 0.99987793, 0.99975586, 0.99987793,\n",
       "       0.99987793, 0.99975586, 0.99975586, 0.99987793, 0.99987793,\n",
       "       0.99987793, 0.99993896, 0.99987793, 0.99987793, 0.99975586,\n",
       "       0.99993896, 0.99975586, 0.99987793, 0.99987793, 0.99987793,\n",
       "       0.99987793, 0.99987793, 0.99987793, 0.99987793, 0.99975586,\n",
       "       0.99993896, 0.99975586, 0.99987793, 0.99987793, 0.99987793,\n",
       "       0.99987793, 0.99987793, 0.99993896, 0.99987793, 0.99993896,\n",
       "       0.99975586, 0.99975586, 0.99975586, 0.99987793, 0.99987793,\n",
       "       0.99975586, 0.99975586, 0.99987793, 0.99987793, 0.99987793,\n",
       "       0.99987793, 0.99975586, 0.99987793, 0.99987793, 0.99987793,\n",
       "       0.99981689, 0.99981689, 0.99987793, 0.99975586, 0.99975586,\n",
       "       0.99975586, 0.99975586, 0.99987793, 0.99987793, 0.99975586,\n",
       "       0.99987793, 0.99987793, 0.99987793, 0.99987793, 0.99987793,\n",
       "       0.99975586, 0.99987793, 0.99981689, 0.99975586, 0.99987793,\n",
       "       0.99987793, 0.99987793, 0.99981689, 0.99987793, 0.99975586,\n",
       "       0.99975586, 0.99987793, 0.99981689, 0.99987793, 0.99987793,\n",
       "       0.99987793, 0.99987793, 0.99987793, 0.99981689, 0.99975586,\n",
       "       0.99987793, 0.99987793, 0.99993896, 0.99987793, 0.99987793,\n",
       "       0.99975586, 0.99987793, 0.99987793, 0.99987793, 0.99975586,\n",
       "       0.99987793, 0.99975586, 0.99987793, 0.99987793, 0.99987793,\n",
       "       0.99987793, 0.99987793, 0.99975586, 0.99987793, 0.99987793,\n",
       "       0.99987793, 0.99975586, 0.99987793, 0.99987793, 0.99987793,\n",
       "       0.99987793, 0.99975586, 0.99975586, 0.99987793, 0.99975586,\n",
       "       0.99993896, 0.99987793, 0.99975586, 0.99987793, 0.99975586,\n",
       "       0.99975586, 0.99975586, 0.99975586, 0.99987793, 0.99975586,\n",
       "       0.99975586, 0.99987793, 0.99993896, 0.99987793, 0.99987793,\n",
       "       0.99987793, 0.99987793, 0.99987793, 0.99987793, 0.99987793,\n",
       "       0.99987793, 0.99987793, 0.99975586, 0.99987793, 0.99987793,\n",
       "       0.99987793, 0.99987793, 0.99981689, 0.99987793, 0.99987793,\n",
       "       0.99987793, 0.99987793, 0.99987793, 0.99987793, 0.99975586,\n",
       "       0.99987793, 0.99975586, 0.99975586, 0.99981689, 0.99975586,\n",
       "       0.99987793, 0.99987793, 0.99987793, 0.99993896, 0.99975586,\n",
       "       0.99975586, 0.99975586, 0.99975586, 0.99987793, 0.99975586,\n",
       "       0.99987793, 0.99975586, 0.99987793, 0.99987793, 0.99975586,\n",
       "       0.99975586, 0.99975586, 0.99987793, 0.99981689, 0.99987793,\n",
       "       0.99987793, 0.99975586, 0.99975586, 0.99975586, 0.99987793,\n",
       "       0.99975586, 0.99987793, 0.99987793, 0.99987793, 0.99975586,\n",
       "       0.99987793, 0.99987793, 0.99987793, 0.99987793, 0.99987793,\n",
       "       0.99981689, 0.99987793, 0.99987793, 0.99987793, 0.99987793,\n",
       "       0.99987793, 0.99987793, 0.99987793, 0.99987793, 0.99987793,\n",
       "       0.99987793, 0.99987793, 0.99987793, 0.99987793, 0.99987793,\n",
       "       0.99975586, 0.99981689, 0.99975586, 0.99987793, 0.99987793,\n",
       "       0.99987793, 0.99993896, 0.99993896, 0.99975586, 0.99975586,\n",
       "       0.99987793, 0.99987793, 0.99987793, 0.99987793, 0.99975586,\n",
       "       0.99987793, 0.99987793, 0.99987793, 0.99975586, 0.99993896,\n",
       "       0.99975586, 0.99975586, 0.99975586, 0.99987793, 0.99987793,\n",
       "       0.99987793, 0.99987793, 0.99987793, 0.99975586, 0.99975586,\n",
       "       0.99975586, 0.99993896, 0.99987793, 0.99975586, 0.99975586,\n",
       "       0.99975586, 0.99987793, 0.99975586, 0.99993896, 0.99981689,\n",
       "       0.99987793, 0.99987793, 0.99987793, 0.99987793, 0.99987793,\n",
       "       0.99975586, 0.99987793, 0.99987793, 0.99987793, 0.99975586,\n",
       "       0.99975586, 0.99987793, 0.99975586, 0.99981689, 0.99993896,\n",
       "       0.99987793, 0.99987793, 0.99987793, 0.99987793, 0.99987793,\n",
       "       0.99975586, 0.99975586, 0.99987793, 0.99987793, 0.99975586,\n",
       "       0.99987793, 0.99987793, 0.99987793, 0.99975586, 0.99975586,\n",
       "       0.99987793, 0.99975586, 0.99987793, 0.99987793, 0.99975586,\n",
       "       0.99987793, 0.99987793, 0.99987793, 0.99987793, 0.99975586,\n",
       "       0.99987793, 0.99987793, 0.99993896, 0.99987793, 0.99975586,\n",
       "       0.99987793, 0.99975586, 0.99987793, 0.99987793, 0.99975586,\n",
       "       0.99987793, 0.99987793, 0.99975586, 0.99987793, 0.99975586,\n",
       "       0.99987793, 0.99975586, 0.99993896, 0.99993896, 0.99987793,\n",
       "       0.99981689, 0.99993896, 0.99975586, 0.99987793, 0.99987793,\n",
       "       0.99987793, 0.99987793, 0.99987793, 0.99975586, 0.99975586,\n",
       "       0.99987793, 0.99987793, 0.99993896, 0.99987793, 0.99987793,\n",
       "       0.99987793, 0.99987793, 0.99975586, 0.99975586, 0.99975586,\n",
       "       0.99987793, 0.99987793, 0.99975586, 0.99987793, 0.99987793,\n",
       "       0.99987793, 0.99987793, 0.99975586, 0.99987793, 0.99975586,\n",
       "       0.99987793, 0.99981689, 0.99987793, 0.99975586, 0.99975586,\n",
       "       0.99993896, 0.99975586, 0.99975586, 0.99975586, 0.99987793,\n",
       "       0.99987793, 0.99987793, 0.99975586, 0.99975586, 0.99975586,\n",
       "       0.99987793, 0.99975586, 0.99975586, 0.99987793, 0.99975586,\n",
       "       0.99975586, 0.99975586, 0.99987793, 0.99987793, 0.99993896,\n",
       "       0.99993896, 0.99993896, 0.99987793, 0.99987793, 0.99993896,\n",
       "       0.99987793, 0.99975586, 0.99987793, 0.99987793, 0.99975586,\n",
       "       0.99987793, 0.99987793, 0.99987793, 0.99987793, 0.99987793,\n",
       "       0.99987793, 0.99987793, 0.99981689, 0.99987793, 0.99987793,\n",
       "       0.99987793, 0.99975586, 0.99987793, 0.99975586, 0.99987793,\n",
       "       0.99975586, 0.99993896, 0.99975586, 0.99975586, 0.99993896,\n",
       "       0.99975586, 0.99987793, 0.99987793, 0.99987793, 0.99987793,\n",
       "       0.99987793, 0.99987793, 0.99987793, 0.99975586, 0.99987793,\n",
       "       0.99987793, 0.99975586, 0.99993896, 0.99987793, 0.99987793,\n",
       "       0.99987793, 0.99987793, 0.99987793, 0.99975586, 0.99981689,\n",
       "       0.99993896, 0.99987793, 0.99987793, 0.99987793, 0.99987793,\n",
       "       0.99987793, 0.99987793, 0.99993896, 0.99987793, 0.99975586,\n",
       "       0.99987793, 0.99987793, 0.99975586, 0.99987793, 0.99975586,\n",
       "       0.99987793, 0.99987793, 0.99981689, 0.99975586, 0.99981689,\n",
       "       0.99987793, 0.99987793, 0.99975586, 0.99987793, 0.99987793,\n",
       "       0.99993896, 0.99987793, 0.99987793, 0.99987793, 0.99987793,\n",
       "       0.99975586, 0.99987793, 0.99975586, 0.99993896, 0.99987793,\n",
       "       0.99987793, 0.99981689, 0.99987793, 0.99987793, 0.99975586,\n",
       "       0.99993896, 0.99987793, 0.99987793, 0.99975586, 0.99975586,\n",
       "       0.99993896, 0.99975586, 0.99987793, 0.99975586, 0.99987793,\n",
       "       0.99975586, 0.99987793, 0.99981689, 0.99987793, 0.99975586,\n",
       "       0.99987793, 0.99987793, 0.99987793, 0.99987793, 0.99987793,\n",
       "       0.99987793, 0.99987793, 0.99987793, 0.99987793, 0.99993896,\n",
       "       0.99993896, 0.99987793, 0.99975586, 0.99987793, 0.99987793,\n",
       "       0.99975586, 0.99993896, 0.99987793, 0.99987793, 0.99975586,\n",
       "       0.99975586, 0.99975586, 0.99975586, 0.99987793, 0.99987793,\n",
       "       0.99975586, 0.99987793, 0.99975586, 0.99975586, 0.99987793,\n",
       "       0.99987793, 0.99987793, 0.99975586, 0.99975586, 0.99987793,\n",
       "       0.99975586, 0.99975586, 0.99987793, 0.99993896, 0.99993896,\n",
       "       0.99987793, 0.99987793, 0.99975586, 0.99975586, 0.99987793,\n",
       "       0.99975586, 0.99987793, 0.99987793, 0.99987793, 0.99975586,\n",
       "       0.99975586, 0.99987793, 0.99975586, 0.99987793, 0.99987793,\n",
       "       0.99987793, 0.99975586, 0.99975586, 0.99975586, 0.99987793,\n",
       "       0.99987793, 0.99987793, 0.99987793, 0.99987793, 0.99981689,\n",
       "       0.99987793, 0.99975586, 0.99987793, 0.99987793, 0.99987793,\n",
       "       0.99987793, 0.99975586, 0.99975586, 0.99975586, 0.99987793,\n",
       "       0.99987793, 0.99987793, 0.99987793, 0.99987793, 0.99987793,\n",
       "       0.99993896, 0.99975586, 0.99975586, 0.99987793, 0.99987793,\n",
       "       0.99987793, 0.99981689, 0.99975586, 0.99975586, 0.99987793,\n",
       "       0.99987793, 0.99987793, 0.99987793, 0.99987793, 0.99987793,\n",
       "       0.99975586, 0.99975586, 0.99975586, 0.99975586, 0.99975586,\n",
       "       0.99987793, 0.99987793, 0.99987793, 0.99987793, 0.99987793,\n",
       "       0.99987793, 0.99987793, 0.99975586, 0.99975586, 0.99975586,\n",
       "       0.99987793, 0.99981689, 0.99975586, 0.99975586, 0.99975586,\n",
       "       0.99987793, 0.99975586, 0.99987793, 0.99975586, 0.99975586,\n",
       "       0.99987793, 0.99993896, 0.99987793, 0.99975586, 0.99993896,\n",
       "       0.99987793, 0.99975586, 0.99975586, 0.99975586, 0.99987793,\n",
       "       0.99987793, 0.99987793, 0.99987793, 0.99987793, 0.99987793,\n",
       "       0.99987793, 0.99987793, 0.99987793, 0.99987793, 0.99993896,\n",
       "       0.99975586, 0.99975586, 0.99987793, 0.99987793, 0.99987793,\n",
       "       0.99975586, 0.99975586, 0.99975586, 0.99987793, 0.99987793,\n",
       "       0.99987793, 0.99987793, 0.99987793, 0.99987793, 0.99987793,\n",
       "       0.99993896, 0.99987793, 0.99987793, 0.99987793, 0.99987793,\n",
       "       0.99987793, 0.99993896, 0.99975586, 0.99975586, 0.99987793,\n",
       "       0.99975586, 0.99987793, 0.99975586, 0.99987793, 0.99987793,\n",
       "       0.99987793, 0.99975586, 0.99975586, 0.99987793, 0.99987793,\n",
       "       0.99975586, 0.99987793, 0.99987793, 0.99975586, 0.99975586,\n",
       "       0.99987793, 0.99975586, 0.99987793, 0.99987793, 0.99981689,\n",
       "       0.99987793, 0.99987793, 0.99975586, 0.99987793, 0.99987793,\n",
       "       0.99987793, 0.99987793, 0.99987793, 0.99993896])"
      ]
     },
     "execution_count": 59,
     "metadata": {},
     "output_type": "execute_result"
    }
   ],
   "source": [
    "X1sum[(X1sum<1) & (X0>=1)]"
   ]
  },
  {
   "cell_type": "code",
   "execution_count": null,
   "id": "5c6c1c0a",
   "metadata": {},
   "outputs": [],
   "source": []
  }
 ],
 "metadata": {
  "kernelspec": {
   "display_name": "Python 3 (ipykernel)",
   "language": "python",
   "name": "python3"
  },
  "language_info": {
   "codemirror_mode": {
    "name": "ipython",
    "version": 3
   },
   "file_extension": ".py",
   "mimetype": "text/x-python",
   "name": "python",
   "nbconvert_exporter": "python",
   "pygments_lexer": "ipython3",
   "version": "3.10.6"
  }
 },
 "nbformat": 4,
 "nbformat_minor": 5
}
