{
 "cells": [
  {
   "cell_type": "code",
   "execution_count": 28,
   "id": "c3c02aec-3335-4dd0-82d8-71dbabd60f73",
   "metadata": {},
   "outputs": [],
   "source": [
    "import os\n",
    "import torch\n",
    "import json\n",
    "\n",
    "os.environ[\"MKL_NUM_THREADS\"]=\"1\"\n",
    "os.environ[\"NUMEXPR_NUM_THREADS\"]=\"1\"\n",
    "os.environ[\"OMP_NUM_THREADS\"]=\"1\"\n",
    "os.environ[\"CUDA_VISIBLE_DEVICES\"] = \"5,6,7\"\n",
    "\n",
    "import sys\n",
    "\n",
    "import pytorch_lightning as pl\n",
    "from omegaconf import DictConfig, OmegaConf\n",
    "from pytorch_lightning.callbacks import ModelCheckpoint\n",
    "from pytorch_lightning.loggers import TensorBoardLogger\n",
    "from torch.utils.data import random_split\n",
    "from torch_geometric.data import DataLoader\n",
    "\n",
    "from spatial.merfish_dataset import FilteredMerfishDataset, MerfishDataset, SyntheticNonlinear, SyntheticDataset0, SyntheticDataset1, SyntheticDataset2, SyntheticDataset3\n",
    "from spatial.models.monet_ae import MonetAutoencoder2D, TrivialAutoencoder, MonetDense\n",
    "from spatial.train import train\n",
    "from spatial.predict import test\n",
    "\n",
    "import warnings\n",
    "warnings.filterwarnings(\"ignore\")"
   ]
  },
  {
   "cell_type": "code",
   "execution_count": null,
   "id": "6c854c09-876c-4faa-ab6b-111eb6eb4a7e",
   "metadata": {},
   "outputs": [],
   "source": [
    "import hydra\n",
    "from hydra.experimental import compose, initialize\n",
    "\n",
    "test_loss_rad_dict = {}\n",
    "\n",
    "for rad in range(0, 30, 5):\n",
    "    for fold in range(10):\n",
    "        with initialize(config_path=\"../config\"):\n",
    "            cfg_from_terminal = compose(config_name=\"config\")\n",
    "            test_loss_rad_dict[rad] = np.array([])\n",
    "            OmegaConf.update(cfg_from_terminal, \"model.kwargs.observables_dimension\", 71)\n",
    "            OmegaConf.update(cfg_from_terminal, \"model.kwargs.hidden_dimensions\", [512, 512, 512, 512, 512, 512])\n",
    "            OmegaConf.update(cfg_from_terminal, \"model.kwargs.output_dimension\", 84)\n",
    "            OmegaConf.update(cfg_from_terminal, \"optimizer.name\", \"Adam\")\n",
    "            OmegaConf.update(cfg_from_terminal, \"training.logger_name\", \"KFOLD_test\")\n",
    "            OmegaConf.update(cfg_from_terminal, \"datasets.dataset.include_celltypes\", False)\n",
    "            OmegaConf.update(cfg_from_terminal, \"model.kwargs.include_skip_connections\", True)\n",
    "            OmegaConf.update(cfg_from_terminal, \"radius\", rad)\n",
    "            OmegaConf.update(cfg_from_terminal, \"training.trainer.strategy\", \"auto\")\n",
    "            OmegaConf.update(cfg_from_terminal, \"gpus\", [2])\n",
    "            OmegaConf.update(cfg_from_terminal, \"training.filepath\", cfg_from_terminal.training.filepath + f\"__FOLD={fold}\")\n",
    "            print(cfg_from_terminal.training.filepath)\n",
    "            output = test(cfg_from_terminal)\n",
    "            trainer, l1_losses, inputs, gene_expressions, celltypes, test_results = output\n",
    "            test_loss_rad_dict[rad] = np.append(test_loss_rad_dict[rad], test_results[0]['test_loss'])"
   ]
  },
  {
   "cell_type": "code",
   "execution_count": null,
   "id": "9fd568cb-6291-4d92-b129-ed5ef3817dd5",
   "metadata": {},
   "outputs": [],
   "source": [
    "for rad in test_loss_rad_dict:\n",
    "    print(rad, test_loss_rad_dict[rad].mean())"
   ]
  }
 ],
 "metadata": {
  "kernelspec": {
   "display_name": "Python 3 (ipykernel)",
   "language": "python",
   "name": "python3"
  },
  "language_info": {
   "codemirror_mode": {
    "name": "ipython",
    "version": 3
   },
   "file_extension": ".py",
   "mimetype": "text/x-python",
   "name": "python",
   "nbconvert_exporter": "python",
   "pygments_lexer": "ipython3",
   "version": "3.10.12"
  }
 },
 "nbformat": 4,
 "nbformat_minor": 5
}
