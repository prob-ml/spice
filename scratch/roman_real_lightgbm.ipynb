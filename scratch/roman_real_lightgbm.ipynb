{
 "cells": [
  {
   "cell_type": "code",
   "execution_count": 51,
   "id": "50fb6359",
   "metadata": {},
   "outputs": [],
   "source": [
    "import os\n",
    "os.environ['CUDA_VISIBLE_DEVICES']=\"\"\n",
    "os.environ['OMP_NUM_THREADS']=\"4\"\n",
    "os.environ['NUMBA_NUM_THREADS']=\"4\"\n",
    "os.environ['MKL_NUM_THREADS']=\"4\""
   ]
  },
  {
   "cell_type": "code",
   "execution_count": 52,
   "id": "b7a176a1",
   "metadata": {},
   "outputs": [
    {
     "name": "stdout",
     "output_type": "stream",
     "text": [
      "The autoreload extension is already loaded. To reload it, use:\n",
      "  %reload_ext autoreload\n"
     ]
    }
   ],
   "source": [
    "%load_ext autoreload\n",
    "%autoreload 2 \n",
    "import pandas as pd; import anndata; import numpy as np; import gzip; import io; import h5py\n",
    "import collections; import matplotlib.pyplot as plt; import time; import sys; import tqdm.notebook\n",
    "import pickle; import scipy as sp; import scipy.sparse; import scipy.stats; rng=np.random.default_rng()\n",
    "import PIL; PIL.Image.MAX_IMAGE_PIXELS = None; import matplotlib\n",
    "%matplotlib inline\n",
    "plt.rcParams.update({\n",
    "    \"figure.facecolor\":  (1.0, 1.0, 1.0, 1.0),\n",
    "    \"axes.facecolor\":    (1.0, 1.0, 1.0, 1.0),\n",
    "    \"savefig.facecolor\": (1.0, 1.0, 1.0, 1.0),\n",
    "    \"text.usetex\": True,\n",
    "})\n",
    "%config InlineBackend.print_figure_kwargs = {'bbox_inches':None}\n"
   ]
  },
  {
   "cell_type": "code",
   "execution_count": 53,
   "id": "cc7da94f",
   "metadata": {},
   "outputs": [],
   "source": [
    "\n",
    "import json\n",
    "import sklearn.neighbors\n",
    "import sklearn.ensemble"
   ]
  },
  {
   "cell_type": "markdown",
   "id": "4a18873c",
   "metadata": {},
   "source": [
    "# load data"
   ]
  },
  {
   "cell_type": "code",
   "execution_count": 54,
   "id": "94e34262",
   "metadata": {},
   "outputs": [],
   "source": [
    "with open('gene_divisions.json','r') as f:\n",
    "    gene_divisions=json.load(f)"
   ]
  },
  {
   "cell_type": "code",
   "execution_count": 55,
   "id": "5226bed0",
   "metadata": {},
   "outputs": [],
   "source": [
    "ad=anndata.read_h5ad('/data/spatial/moffit_merfish/original_file.h5ad')"
   ]
  },
  {
   "cell_type": "code",
   "execution_count": 56,
   "id": "7c514cdc",
   "metadata": {},
   "outputs": [],
   "source": [
    "gl={x:i for (i,x) in enumerate(ad.var.index)}\n",
    "covar_genes=np.array([gl[x] for x in (list(gene_divisions['ligands'])+list(gene_divisions['receptors']))])\n",
    "targ_genes=np.array([gl[x] for x in gene_divisions['response_genes']])"
   ]
  },
  {
   "cell_type": "code",
   "execution_count": 57,
   "id": "948d3e36",
   "metadata": {},
   "outputs": [],
   "source": [
    "cell_classes,cell_class_onehots=oh_encode(ad.obs['Cell_class'])"
   ]
  },
  {
   "cell_type": "code",
   "execution_count": 58,
   "id": "3a392731",
   "metadata": {},
   "outputs": [],
   "source": [
    "cell_classes=ad.obs['Cell_class'].cat.categories\n",
    "cell_class_onehots=pd.get_dummies(ad.obs['Cell_class']).values.astype(bool)"
   ]
  },
  {
   "cell_type": "markdown",
   "id": "4c85ec60",
   "metadata": {},
   "source": [
    "# construct network"
   ]
  },
  {
   "cell_type": "code",
   "execution_count": 59,
   "id": "18cf48dd",
   "metadata": {},
   "outputs": [
    {
     "data": {
      "application/vnd.jupyter.widget-view+json": {
       "model_id": "7c30fed3d1f247719fd6ee9ede4ac69a",
       "version_major": 2,
       "version_minor": 0
      },
      "text/plain": [
       "  0%|          | 0/181 [00:00<?, ?it/s]"
      ]
     },
     "metadata": {},
     "output_type": "display_data"
    },
    {
     "data": {
      "text/plain": [
       "Text(0.5, 0, 'neighbors per node')"
      ]
     },
     "execution_count": 59,
     "metadata": {},
     "output_type": "execute_result"
    },
    {
     "data": {
      "image/png": "[encoded data removed]",
      "text/plain": [
       "<Figure size 640x480 with 1 Axes>"
      ]
     },
     "metadata": {},
     "output_type": "display_data"
    }
   ],
   "source": [
    "row=np.zeros(0,dtype=int)\n",
    "col=np.zeros(0,dtype=int)\n",
    "\n",
    "thresh=60\n",
    "tissue_ids=np.unique(ad.obs['Tissue_ID'])\n",
    "\n",
    "for tid in tqdm.notebook.tqdm(tissue_ids):\n",
    "    good=ad.obs['Tissue_ID']==tid\n",
    "    pos=np.array(ad.obs[good][['Centroid_X','Centroid_Y']])\n",
    "    p=sklearn.neighbors.BallTree(pos)\n",
    "    E=sklearn.neighbors.radius_neighbors_graph(pos,thresh,mode='connectivity', include_self=True)\n",
    "    idxs=np.where(good)[0]\n",
    "    col=np.r_[col,idxs[E.tocoo().col]]\n",
    "    row=np.r_[row,idxs[E.tocoo().row]]\n",
    "    \n",
    "connectivity_matrix=sp.sparse.coo_matrix((np.ones(len(col)),(row,col)),shape=(ad.X.shape[0],ad.X.shape[0])).tocsr()\n",
    "plt.hist(np.array(np.sum(connectivity_matrix,axis=1)).ravel())\n",
    "plt.xlabel(\"neighbors per node\")"
   ]
  },
  {
   "cell_type": "markdown",
   "id": "9493d42e",
   "metadata": {},
   "source": [
    "# featurization"
   ]
  },
  {
   "cell_type": "code",
   "execution_count": 60,
   "id": "c560d1a6",
   "metadata": {},
   "outputs": [],
   "source": [
    "self_gene_features=np.log1p(ad.X[:,covar_genes])\n",
    "self_ct_features = cell_class_onehots*1.0"
   ]
  },
  {
   "cell_type": "code",
   "execution_count": 61,
   "id": "c8e37a9e",
   "metadata": {},
   "outputs": [],
   "source": [
    "neighbor_ct_features = connectivity_matrix @ cell_class_onehots\n",
    "nneigh = (1e-9+np.sum(neighbor_ct_features,axis=1,keepdims=True))\n",
    "neighbor_ct_features = neighbor_ct_features / nneigh\n",
    "neighbor_gene_features = (connectivity_matrix @ np.log1p(ad.X[:,covar_genes])) / nneigh"
   ]
  },
  {
   "cell_type": "code",
   "execution_count": 62,
   "id": "afa6b472",
   "metadata": {},
   "outputs": [],
   "source": [
    "targets=np.log1p(ad.X[:,targ_genes])"
   ]
  },
  {
   "cell_type": "markdown",
   "id": "e4547369",
   "metadata": {},
   "source": [
    "# ttsplit"
   ]
  },
  {
   "cell_type": "code",
   "execution_count": 63,
   "id": "c48baadd",
   "metadata": {},
   "outputs": [],
   "source": [
    "trainset=(ad.obs['Animal_ID']<=30)\n",
    "testset=ad.obs['Animal_ID']>30\n",
    "\n",
    "trainX_withneigh=np.c_[\n",
    "    self_gene_features[trainset],\n",
    "    self_ct_features[trainset],\n",
    "    neighbor_gene_features[trainset],\n",
    "    neighbor_ct_features[trainset],\n",
    "]\n",
    "trainX_withoutneigh=np.c_[\n",
    "    self_gene_features[trainset],\n",
    "    self_ct_features[trainset],\n",
    "]\n",
    "trainY=targets[trainset]\n",
    "\n",
    "testX_withneigh=np.c_[\n",
    "    self_gene_features[testset],\n",
    "    self_ct_features[testset],\n",
    "    neighbor_gene_features[testset],\n",
    "    neighbor_ct_features[testset],\n",
    "]\n",
    "testX_withoutneigh=np.c_[\n",
    "    self_gene_features[testset],\n",
    "    self_ct_features[testset],\n",
    "]\n",
    "testY=targets[testset]"
   ]
  },
  {
   "cell_type": "markdown",
   "id": "925ff753",
   "metadata": {},
   "source": [
    "# fit"
   ]
  },
  {
   "cell_type": "code",
   "execution_count": 69,
   "id": "0e4c4b39",
   "metadata": {},
   "outputs": [
    {
     "name": "stdout",
     "output_type": "stream",
     "text": [
      "(893456, 174)\n"
     ]
    }
   ],
   "source": [
    "print(trainX_withneigh.shape)"
   ]
  },
  {
   "cell_type": "code",
   "execution_count": 64,
   "id": "bf0c10de",
   "metadata": {},
   "outputs": [
    {
     "data": {
      "application/vnd.jupyter.widget-view+json": {
       "model_id": "df531aaed7af42f99c073ed50a0f06ce",
       "version_major": 2,
       "version_minor": 0
      },
      "text/plain": [
       "  0%|          | 0/84 [00:00<?, ?it/s]"
      ]
     },
     "metadata": {},
     "output_type": "display_data"
    },
    {
     "name": "stdout",
     "output_type": "stream",
     "text": [
      "Ace2 0.12758923246494513 0.12692094792719097\n"
     ]
    },
    {
     "ename": "KeyboardInterrupt",
     "evalue": "",
     "output_type": "error",
     "traceback": [
      "\u001b[0;31m---------------------------------------------------------------------------\u001b[0m",
      "\u001b[0;31mKeyboardInterrupt\u001b[0m                         Traceback (most recent call last)",
      "Cell \u001b[0;32mIn[64], line 9\u001b[0m\n\u001b[1;32m      6\u001b[0m errs_withneigh\u001b[38;5;241m.\u001b[39mappend(np\u001b[38;5;241m.\u001b[39mmean((model\u001b[38;5;241m.\u001b[39mpredict(testX_withneigh)\u001b[38;5;241m-\u001b[39mtestY[:,i])\u001b[38;5;241m*\u001b[39m\u001b[38;5;241m*\u001b[39m\u001b[38;5;241m2\u001b[39m))\n\u001b[1;32m      8\u001b[0m model\u001b[38;5;241m=\u001b[39msklearn\u001b[38;5;241m.\u001b[39mensemble\u001b[38;5;241m.\u001b[39mHistGradientBoostingRegressor()\n\u001b[0;32m----> 9\u001b[0m \u001b[43mmodel\u001b[49m\u001b[38;5;241;43m.\u001b[39;49m\u001b[43mfit\u001b[49m\u001b[43m(\u001b[49m\u001b[43mtrainX_withoutneigh\u001b[49m\u001b[43m,\u001b[49m\u001b[43mtrainY\u001b[49m\u001b[43m[\u001b[49m\u001b[43m:\u001b[49m\u001b[43m,\u001b[49m\u001b[43mi\u001b[49m\u001b[43m]\u001b[49m\u001b[43m)\u001b[49m\n\u001b[1;32m     10\u001b[0m errs_withoutneigh\u001b[38;5;241m.\u001b[39mappend(np\u001b[38;5;241m.\u001b[39mmean((model\u001b[38;5;241m.\u001b[39mpredict(testX_withoutneigh)\u001b[38;5;241m-\u001b[39mtestY[:,i])\u001b[38;5;241m*\u001b[39m\u001b[38;5;241m*\u001b[39m\u001b[38;5;241m2\u001b[39m))\n\u001b[1;32m     12\u001b[0m \u001b[38;5;28mprint\u001b[39m(gene_divisions[\u001b[38;5;124m'\u001b[39m\u001b[38;5;124mresponse_genes\u001b[39m\u001b[38;5;124m'\u001b[39m][i],errs_withoutneigh[\u001b[38;5;241m-\u001b[39m\u001b[38;5;241m1\u001b[39m],errs_withneigh[\u001b[38;5;241m-\u001b[39m\u001b[38;5;241m1\u001b[39m])\n",
      "File \u001b[0;32m~/.cache/pypoetry/virtualenvs/spatial-G_n0JvVf-py3.10/lib/python3.10/site-packages/sklearn/ensemble/_hist_gradient_boosting/gradient_boosting.py:670\u001b[0m, in \u001b[0;36mBaseHistGradientBoosting.fit\u001b[0;34m(self, X, y, sample_weight)\u001b[0m\n\u001b[1;32m    668\u001b[0m \u001b[38;5;66;03m# Build `n_trees_per_iteration` trees.\u001b[39;00m\n\u001b[1;32m    669\u001b[0m \u001b[38;5;28;01mfor\u001b[39;00m k \u001b[38;5;129;01min\u001b[39;00m \u001b[38;5;28mrange\u001b[39m(\u001b[38;5;28mself\u001b[39m\u001b[38;5;241m.\u001b[39mn_trees_per_iteration_):\n\u001b[0;32m--> 670\u001b[0m     grower \u001b[38;5;241m=\u001b[39m \u001b[43mTreeGrower\u001b[49m\u001b[43m(\u001b[49m\n\u001b[1;32m    671\u001b[0m \u001b[43m        \u001b[49m\u001b[43mX_binned\u001b[49m\u001b[38;5;241;43m=\u001b[39;49m\u001b[43mX_binned_train\u001b[49m\u001b[43m,\u001b[49m\n\u001b[1;32m    672\u001b[0m \u001b[43m        \u001b[49m\u001b[43mgradients\u001b[49m\u001b[38;5;241;43m=\u001b[39;49m\u001b[43mg_view\u001b[49m\u001b[43m[\u001b[49m\u001b[43m:\u001b[49m\u001b[43m,\u001b[49m\u001b[43m \u001b[49m\u001b[43mk\u001b[49m\u001b[43m]\u001b[49m\u001b[43m,\u001b[49m\n\u001b[1;32m    673\u001b[0m \u001b[43m        \u001b[49m\u001b[43mhessians\u001b[49m\u001b[38;5;241;43m=\u001b[39;49m\u001b[43mh_view\u001b[49m\u001b[43m[\u001b[49m\u001b[43m:\u001b[49m\u001b[43m,\u001b[49m\u001b[43m \u001b[49m\u001b[43mk\u001b[49m\u001b[43m]\u001b[49m\u001b[43m,\u001b[49m\n\u001b[1;32m    674\u001b[0m \u001b[43m        \u001b[49m\u001b[43mn_bins\u001b[49m\u001b[38;5;241;43m=\u001b[39;49m\u001b[43mn_bins\u001b[49m\u001b[43m,\u001b[49m\n\u001b[1;32m    675\u001b[0m \u001b[43m        \u001b[49m\u001b[43mn_bins_non_missing\u001b[49m\u001b[38;5;241;43m=\u001b[39;49m\u001b[38;5;28;43mself\u001b[39;49m\u001b[38;5;241;43m.\u001b[39;49m\u001b[43m_bin_mapper\u001b[49m\u001b[38;5;241;43m.\u001b[39;49m\u001b[43mn_bins_non_missing_\u001b[49m\u001b[43m,\u001b[49m\n\u001b[1;32m    676\u001b[0m \u001b[43m        \u001b[49m\u001b[43mhas_missing_values\u001b[49m\u001b[38;5;241;43m=\u001b[39;49m\u001b[43mhas_missing_values\u001b[49m\u001b[43m,\u001b[49m\n\u001b[1;32m    677\u001b[0m \u001b[43m        \u001b[49m\u001b[43mis_categorical\u001b[49m\u001b[38;5;241;43m=\u001b[39;49m\u001b[38;5;28;43mself\u001b[39;49m\u001b[38;5;241;43m.\u001b[39;49m\u001b[43mis_categorical_\u001b[49m\u001b[43m,\u001b[49m\n\u001b[1;32m    678\u001b[0m \u001b[43m        \u001b[49m\u001b[43mmonotonic_cst\u001b[49m\u001b[38;5;241;43m=\u001b[39;49m\u001b[43mmonotonic_cst\u001b[49m\u001b[43m,\u001b[49m\n\u001b[1;32m    679\u001b[0m \u001b[43m        \u001b[49m\u001b[43minteraction_cst\u001b[49m\u001b[38;5;241;43m=\u001b[39;49m\u001b[43minteraction_cst\u001b[49m\u001b[43m,\u001b[49m\n\u001b[1;32m    680\u001b[0m \u001b[43m        \u001b[49m\u001b[43mmax_leaf_nodes\u001b[49m\u001b[38;5;241;43m=\u001b[39;49m\u001b[38;5;28;43mself\u001b[39;49m\u001b[38;5;241;43m.\u001b[39;49m\u001b[43mmax_leaf_nodes\u001b[49m\u001b[43m,\u001b[49m\n\u001b[1;32m    681\u001b[0m \u001b[43m        \u001b[49m\u001b[43mmax_depth\u001b[49m\u001b[38;5;241;43m=\u001b[39;49m\u001b[38;5;28;43mself\u001b[39;49m\u001b[38;5;241;43m.\u001b[39;49m\u001b[43mmax_depth\u001b[49m\u001b[43m,\u001b[49m\n\u001b[1;32m    682\u001b[0m \u001b[43m        \u001b[49m\u001b[43mmin_samples_leaf\u001b[49m\u001b[38;5;241;43m=\u001b[39;49m\u001b[38;5;28;43mself\u001b[39;49m\u001b[38;5;241;43m.\u001b[39;49m\u001b[43mmin_samples_leaf\u001b[49m\u001b[43m,\u001b[49m\n\u001b[1;32m    683\u001b[0m \u001b[43m        \u001b[49m\u001b[43ml2_regularization\u001b[49m\u001b[38;5;241;43m=\u001b[39;49m\u001b[38;5;28;43mself\u001b[39;49m\u001b[38;5;241;43m.\u001b[39;49m\u001b[43ml2_regularization\u001b[49m\u001b[43m,\u001b[49m\n\u001b[1;32m    684\u001b[0m \u001b[43m        \u001b[49m\u001b[43mshrinkage\u001b[49m\u001b[38;5;241;43m=\u001b[39;49m\u001b[38;5;28;43mself\u001b[39;49m\u001b[38;5;241;43m.\u001b[39;49m\u001b[43mlearning_rate\u001b[49m\u001b[43m,\u001b[49m\n\u001b[1;32m    685\u001b[0m \u001b[43m        \u001b[49m\u001b[43mn_threads\u001b[49m\u001b[38;5;241;43m=\u001b[39;49m\u001b[43mn_threads\u001b[49m\u001b[43m,\u001b[49m\n\u001b[1;32m    686\u001b[0m \u001b[43m    \u001b[49m\u001b[43m)\u001b[49m\n\u001b[1;32m    687\u001b[0m     grower\u001b[38;5;241m.\u001b[39mgrow()\n\u001b[1;32m    689\u001b[0m     acc_apply_split_time \u001b[38;5;241m+\u001b[39m\u001b[38;5;241m=\u001b[39m grower\u001b[38;5;241m.\u001b[39mtotal_apply_split_time\n",
      "File \u001b[0;32m~/.cache/pypoetry/virtualenvs/spatial-G_n0JvVf-py3.10/lib/python3.10/site-packages/sklearn/ensemble/_hist_gradient_boosting/grower.py:332\u001b[0m, in \u001b[0;36mTreeGrower.__init__\u001b[0;34m(self, X_binned, gradients, hessians, max_leaf_nodes, max_depth, min_samples_leaf, min_gain_to_split, n_bins, n_bins_non_missing, has_missing_values, is_categorical, monotonic_cst, interaction_cst, l2_regularization, min_hessian_to_split, shrinkage, n_threads)\u001b[0m\n\u001b[1;32m    330\u001b[0m \u001b[38;5;28mself\u001b[39m\u001b[38;5;241m.\u001b[39mtotal_apply_split_time \u001b[38;5;241m=\u001b[39m \u001b[38;5;241m0.0\u001b[39m  \u001b[38;5;66;03m# time spent splitting nodes\u001b[39;00m\n\u001b[1;32m    331\u001b[0m \u001b[38;5;28mself\u001b[39m\u001b[38;5;241m.\u001b[39mn_categorical_splits \u001b[38;5;241m=\u001b[39m \u001b[38;5;241m0\u001b[39m\n\u001b[0;32m--> 332\u001b[0m \u001b[38;5;28;43mself\u001b[39;49m\u001b[38;5;241;43m.\u001b[39;49m\u001b[43m_intilialize_root\u001b[49m\u001b[43m(\u001b[49m\u001b[43mgradients\u001b[49m\u001b[43m,\u001b[49m\u001b[43m \u001b[49m\u001b[43mhessians\u001b[49m\u001b[43m,\u001b[49m\u001b[43m \u001b[49m\u001b[43mhessians_are_constant\u001b[49m\u001b[43m)\u001b[49m\n\u001b[1;32m    333\u001b[0m \u001b[38;5;28mself\u001b[39m\u001b[38;5;241m.\u001b[39mn_nodes \u001b[38;5;241m=\u001b[39m \u001b[38;5;241m1\u001b[39m\n",
      "File \u001b[0;32m~/.cache/pypoetry/virtualenvs/spatial-G_n0JvVf-py3.10/lib/python3.10/site-packages/sklearn/ensemble/_hist_gradient_boosting/grower.py:416\u001b[0m, in \u001b[0;36mTreeGrower._intilialize_root\u001b[0;34m(self, gradients, hessians, hessians_are_constant)\u001b[0m\n\u001b[1;32m    411\u001b[0m     \u001b[38;5;28mself\u001b[39m\u001b[38;5;241m.\u001b[39mroot\u001b[38;5;241m.\u001b[39mallowed_features \u001b[38;5;241m=\u001b[39m np\u001b[38;5;241m.\u001b[39mfromiter(\n\u001b[1;32m    412\u001b[0m         allowed_features, dtype\u001b[38;5;241m=\u001b[39mnp\u001b[38;5;241m.\u001b[39muint32, count\u001b[38;5;241m=\u001b[39m\u001b[38;5;28mlen\u001b[39m(allowed_features)\n\u001b[1;32m    413\u001b[0m     )\n\u001b[1;32m    415\u001b[0m tic \u001b[38;5;241m=\u001b[39m time()\n\u001b[0;32m--> 416\u001b[0m \u001b[38;5;28mself\u001b[39m\u001b[38;5;241m.\u001b[39mroot\u001b[38;5;241m.\u001b[39mhistograms \u001b[38;5;241m=\u001b[39m \u001b[38;5;28;43mself\u001b[39;49m\u001b[38;5;241;43m.\u001b[39;49m\u001b[43mhistogram_builder\u001b[49m\u001b[38;5;241;43m.\u001b[39;49m\u001b[43mcompute_histograms_brute\u001b[49m\u001b[43m(\u001b[49m\n\u001b[1;32m    417\u001b[0m \u001b[43m    \u001b[49m\u001b[38;5;28;43mself\u001b[39;49m\u001b[38;5;241;43m.\u001b[39;49m\u001b[43mroot\u001b[49m\u001b[38;5;241;43m.\u001b[39;49m\u001b[43msample_indices\u001b[49m\u001b[43m,\u001b[49m\u001b[43m \u001b[49m\u001b[38;5;28;43mself\u001b[39;49m\u001b[38;5;241;43m.\u001b[39;49m\u001b[43mroot\u001b[49m\u001b[38;5;241;43m.\u001b[39;49m\u001b[43mallowed_features\u001b[49m\n\u001b[1;32m    418\u001b[0m \u001b[43m\u001b[49m\u001b[43m)\u001b[49m\n\u001b[1;32m    419\u001b[0m \u001b[38;5;28mself\u001b[39m\u001b[38;5;241m.\u001b[39mtotal_compute_hist_time \u001b[38;5;241m+\u001b[39m\u001b[38;5;241m=\u001b[39m time() \u001b[38;5;241m-\u001b[39m tic\n\u001b[1;32m    421\u001b[0m tic \u001b[38;5;241m=\u001b[39m time()\n",
      "\u001b[0;31mKeyboardInterrupt\u001b[0m: "
     ]
    }
   ],
   "source": [
    "errs_withneigh=[]\n",
    "errs_withoutneigh=[]\n",
    "for i in tqdm.notebook.trange(targets.shape[1]):\n",
    "    model=sklearn.ensemble.HistGradientBoostingRegressor()\n",
    "    model.fit(trainX_withneigh,trainY[:,i])\n",
    "    errs_withneigh.append(np.mean((model.predict(testX_withneigh)-testY[:,i])**2))\n",
    "    \n",
    "    model=sklearn.ensemble.HistGradientBoostingRegressor()\n",
    "    model.fit(trainX_withoutneigh,trainY[:,i])\n",
    "    errs_withoutneigh.append(np.mean((model.predict(testX_withoutneigh)-testY[:,i])**2))\n",
    "    \n",
    "    print(gene_divisions['response_genes'][i],errs_withoutneigh[-1],errs_withneigh[-1])"
   ]
  },
  {
   "cell_type": "code",
   "execution_count": null,
   "id": "6520f0da",
   "metadata": {},
   "outputs": [],
   "source": [
    "testY"
   ]
  },
  {
   "cell_type": "code",
   "execution_count": null,
   "id": "7750a3cd",
   "metadata": {},
   "outputs": [],
   "source": []
  }
 ],
 "metadata": {
  "kernelspec": {
   "display_name": "Python 3 (ipykernel)",
   "language": "python",
   "name": "python3"
  },
  "language_info": {
   "codemirror_mode": {
    "name": "ipython",
    "version": 3
   },
   "file_extension": ".py",
   "mimetype": "text/x-python",
   "name": "python",
   "nbconvert_exporter": "python",
   "pygments_lexer": "ipython3",
   "version": "3.10.6"
  }
 },
 "nbformat": 4,
 "nbformat_minor": 5
}
