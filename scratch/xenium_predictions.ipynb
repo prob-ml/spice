{
 "cells": [
  {
   "cell_type": "code",
   "execution_count": 9,
   "metadata": {},
   "outputs": [],
   "source": [
    "import numpy as np\n",
    "import pandas as pd\n",
    "import os\n",
    "import json\n",
    "import matplotlib.pyplot as plt\n",
    "\n",
    "import os\n",
    "import torch\n",
    "\n",
    "import pytorch_lightning as pl\n",
    "from omegaconf import DictConfig, OmegaConf\n",
    "from pytorch_lightning.callbacks import ModelCheckpoint\n",
    "from pytorch_lightning.loggers import TensorBoardLogger\n",
    "from torch.utils.data import random_split\n",
    "from torch_geometric.data import DataLoader\n",
    "\n",
    "from spatial.models.monet_ae import MonetDense\n",
    "from spatial.predict_xenium import test\n",
    "\n",
    "import hydra\n",
    "from hydra.experimental import compose, initialize\n",
    "\n",
    "os.environ[\"MKL_NUM_THREADS\"]=\"1\"\n",
    "os.environ[\"NUMEXPR_NUM_THREADS\"]=\"1\"\n",
    "os.environ[\"OMP_NUM_THREADS\"]=\"1\"\n",
    "os.environ[\"CUDA_VISIBLE_DEVICES\"] = \"7\""
   ]
  },
  {
   "cell_type": "code",
   "execution_count": 10,
   "metadata": {},
   "outputs": [],
   "source": [
    "# Initialize an empty dictionary to store the results\n",
    "test_loss_rad_dict = {}"
   ]
  },
  {
   "cell_type": "code",
   "execution_count": null,
   "metadata": {},
   "outputs": [],
   "source": [
    "# ckpt_dir = \"/nfs/turbo/lsa-regier/scratch/roko/output/lightning_logs/checkpoints/MonetDenseXenium\"\n",
    "\n",
    "# # Iterate through all files in the directory\n",
    "# for filename in os.listdir(ckpt_dir):\n",
    "#     # Check if the file is a checkpoint file\n",
    "#     if filename.endswith('.ckpt'):\n",
    "#         model_name, hidden_layers, num_kernels, radius, run_name, optim, num_splits = filename.split(\"__\")\n",
    "#         num_splits = num_splits.removesuffix(\".ckpt\")\n",
    "#         num_splits = num_splits.removeprefix(\"NUM_SPLITS=\")\n",
    "#         fold = run_name[-1]\n",
    "#         if '[512, 512' not in hidden_layers or \"POLAR_AND_DEGREE\" not in run_name:\n",
    "#             continue\n",
    "#         with initialize(config_path=\"../config\"):\n",
    "#             # try:\n",
    "#                 try:\n",
    "#                     cfg_from_terminal = compose(config_name=\"configXenium\")\n",
    "#                     OmegaConf.update(cfg_from_terminal, \"paths.data\", \"../data\")\n",
    "#                     OmegaConf.update(cfg_from_terminal, \"paths.root\", \"/nfs/turbo/lsa-regier/scratch/roko\")\n",
    "#                     OmegaConf.update(cfg_from_terminal, \"model.kwargs.kernel_size\", int(num_kernels))\n",
    "#                     OmegaConf.update(cfg_from_terminal, \"model.kwargs.hidden_dimensions\", eval(hidden_layers))\n",
    "#                     OmegaConf.update(cfg_from_terminal, \"training.logger_name\", run_name)\n",
    "#                     OmegaConf.update(cfg_from_terminal, \"training.trainer.strategy\", \"auto\")\n",
    "#                     OmegaConf.update(cfg_from_terminal, \"radius\", int(radius))\n",
    "#                     OmegaConf.update(cfg_from_terminal, \"gpus\", [0])\n",
    "#                     OmegaConf.update(cfg_from_terminal, \"datasets.dataset.splits\", int(num_splits))\n",
    "#                     print(cfg_from_terminal.training.filepath)\n",
    "#                     # Check if the key already exists in the dictionary\n",
    "#                     if int(radius) in test_loss_rad_dict and int(num_kernels) in test_loss_rad_dict[int(radius)] and int(fold) in test_loss_rad_dict[int(radius)][int(num_kernels)]:\n",
    "#                         print(f\"Key ({int(radius)}, {int(num_kernels)}, {int(fold)}) already exists. Skipping test.\")\n",
    "#                         continue\n",
    "#                     output = test(cfg_from_terminal)\n",
    "#                     trainer, l1_losses, inputs_BASE, gene_expressions_BASE, celltypes, test_results_BASE = output\n",
    "#                     # Store the results over (radius, num_kernels) in a nested dict\n",
    "#                     if int(radius) not in test_loss_rad_dict:\n",
    "#                         test_loss_rad_dict[int(radius)] = {}\n",
    "#                     if int(num_kernels) not in test_loss_rad_dict[int(radius)]:\n",
    "#                         test_loss_rad_dict[int(radius)][int(num_kernels)] = {}\n",
    "#                     test_loss_rad_dict[int(radius)][int(num_kernels)][int(fold)] = test_results_BASE[0]['test_loss']\n",
    "#                 except Exception as e:\n",
    "#                     if \"CUDA out of memory\" in str(e):\n",
    "#                         OmegaConf.update(cfg_from_terminal, \"training.filepath\", \"${model.name}__${model.kwargs.kernel_size}__${radius}__${training.logger_name}__${optimizer.name}__NUM_SPLITS=\" + str(num_splits))\n",
    "#                         OmegaConf.update(cfg_from_terminal, \"datasets.dataset.splits\", 5)\n",
    "#                         print(\"Increasing splits to 5 due to OOM error.\")\n",
    "#                         output = test(cfg_from_terminal)\n",
    "#                         trainer, l1_losses, inputs_BASE, gene_expressions_BASE, celltypes, test_results_BASE = output\n",
    "#                         # Store the results over (radius, num_kernels) in a nested dict\n",
    "#                         if int(radius) not in test_loss_rad_dict:\n",
    "#                             test_loss_rad_dict[int(radius)] = {}\n",
    "#                         if int(num_kernels) not in test_loss_rad_dict[int(radius)]:\n",
    "#                             test_loss_rad_dict[int(radius)][int(num_kernels)] = {}\n",
    "#                         test_loss_rad_dict[int(radius)][int(num_kernels)][int(fold)] = test_results_BASE[0]['test_loss']\n",
    "#                     else:\n",
    "#                         raise e\n"
   ]
  },
  {
   "cell_type": "code",
   "execution_count": null,
   "metadata": {},
   "outputs": [],
   "source": [
    "# Sort the test_loss_rad_dict by radius and then by fold\n",
    "sorted_test_loss_rad_dict = {k: v for k, v in sorted(test_loss_rad_dict.items(), key=lambda item: item[0])}\n",
    "for radius in sorted_test_loss_rad_dict:\n",
    "    sorted_test_loss_rad_dict[radius] = {k: v for k, v in sorted(sorted_test_loss_rad_dict[radius][10].items(), key=lambda item: item[0])}\n",
    "sorted_test_loss_rad_dict"
   ]
  },
  {
   "cell_type": "code",
   "execution_count": null,
   "metadata": {},
   "outputs": [],
   "source": [
    "# # Calculate the mean and standard deviation of test losses over folds for each radius, sorted by radius\n",
    "# mean_std_over_folds = {}\n",
    "# # First, sort the radius keys from lowest to highest\n",
    "# sorted_radius_keys = sorted(test_loss_rad_dict.keys())\n",
    "# for radius in sorted_radius_keys:\n",
    "#     kernel_losses = test_loss_rad_dict[radius]\n",
    "#     for kernel, fold_losses in kernel_losses.items():\n",
    "#         mean_loss = np.mean(list(fold_losses.values()))\n",
    "#         std_loss = np.std(list(fold_losses.values()))\n",
    "#         if radius not in mean_std_over_folds:\n",
    "#             mean_std_over_folds[radius] = {}\n",
    "#         mean_std_over_folds[radius] = {\"mean\": mean_loss, \"std\": std_loss}\n",
    "# mean_std_over_folds"
   ]
  },
  {
   "cell_type": "code",
   "execution_count": 2,
   "metadata": {},
   "outputs": [],
   "source": [
    "NON_RESPONSE_FILE = \"../spatial/non_response_blank_removed_xenium.txt\"\n",
    "with open(NON_RESPONSE_FILE, \"r\", encoding=\"utf-8\") as f:\n",
    "    non_response_genes = f.read().split(',')\n",
    "\n",
    "non_response_genes = [int(x) for x in non_response_genes]"
   ]
  },
  {
   "cell_type": "code",
   "execution_count": null,
   "metadata": {},
   "outputs": [],
   "source": [
    "non_response_genes_set = set(non_response_genes)\n",
    "response_genes_indexes = [i for i in range(len(inputs_BASE[0])) if i not in non_response_genes_set]\n",
    "((inputs_BASE[:, response_genes_indexes] - gene_expressions_BASE) ** 2).mean()"
   ]
  },
  {
   "cell_type": "code",
   "execution_count": null,
   "metadata": {},
   "outputs": [],
   "source": [
    "inputs_BASE[:, response_genes_indexes].mean(axis=1), gene_expressions_BASE.mean(axis=1)"
   ]
  },
  {
   "cell_type": "code",
   "execution_count": null,
   "metadata": {},
   "outputs": [],
   "source": [
    "import matplotlib.pyplot as plt\n",
    "\n",
    "# Initialize a dictionary to store the losses for each kernel value\n",
    "kernel_losses = {}\n",
    "\n",
    "# Iterate through the test_loss_rad_dict to populate kernel_losses\n",
    "for radius, radius_losses in sorted(test_loss_rad_dict.items()):\n",
    "    for kernel, loss in radius_losses.items():\n",
    "        if kernel not in kernel_losses:\n",
    "            kernel_losses[kernel] = []\n",
    "        kernel_losses[kernel].append((radius, loss))\n",
    "\n",
    "# Plot the losses for each kernel value\n",
    "for kernel, losses in kernel_losses.items():\n",
    "    radii, losses = zip(*losses)  # Unpack the list of tuples into two separate tuples\n",
    "    plt.plot(radii, losses, label=f\"Kernel: {kernel}\", marker='o')\n",
    "\n",
    "plt.xlabel(\"Radius\")\n",
    "plt.ylabel(\"Test Loss\")\n",
    "plt.title(\"Test Loss for Different Kernel Values and Radius\")\n",
    "plt.xticks(range(0, 41, 5))  # Adjust x-axis tick marks to be less frequent\n",
    "plt.legend()\n",
    "plt.tight_layout()"
   ]
  },
  {
   "cell_type": "code",
   "execution_count": null,
   "metadata": {},
   "outputs": [],
   "source": [
    "losses"
   ]
  },
  {
   "cell_type": "code",
   "execution_count": null,
   "metadata": {},
   "outputs": [
    {
     "name": "stdout",
     "output_type": "stream",
     "text": [
      "MonetDense__[512, 512, 512]__10__10__POLAR_AND_DEGREE__Adam__NUM_SPLITS=3\n",
      "There are 64 graph splits for the Xenium Dataset.\n"
     ]
    },
    {
     "name": "stderr",
     "output_type": "stream",
     "text": [
      "GPU available: True (cuda), used: True\n",
      "TPU available: False, using: 0 TPU cores\n",
      "HPU available: False, using: 0 HPUs\n",
      "`Trainer(limit_train_batches=1.0)` was configured so 100% of the batches per epoch will be used..\n",
      "`Trainer(limit_val_batches=1.0)` was configured so 100% of the batches will be used..\n",
      "LOCAL_RANK: 0 - CUDA_VISIBLE_DEVICES: [7]\n"
     ]
    },
    {
     "name": "stdout",
     "output_type": "stream",
     "text": [
      "The number of parameters for radius 10 is 7817172\n"
     ]
    },
    {
     "data": {
      "application/vnd.jupyter.widget-view+json": {
       "model_id": "94408d9e2b354b68a39e862cc3ea254f",
       "version_major": 2,
       "version_minor": 0
      },
      "text/plain": [
       "Testing: |          | 0/? [00:00<?, ?it/s]"
      ]
     },
     "metadata": {},
     "output_type": "display_data"
    },
    {
     "data": {
      "text/html": [
       "<pre style=\"white-space:pre;overflow-x:auto;line-height:normal;font-family:Menlo,'DejaVu Sans Mono',consolas,'Courier New',monospace\">┏━━━━━━━━━━━━━━━━━━━━━━━━━━━┳━━━━━━━━━━━━━━━━━━━━━━━━━━━┓\n",
       "┃<span style=\"font-weight: bold\">        Test metric        </span>┃<span style=\"font-weight: bold\">       DataLoader 0        </span>┃\n",
       "┡━━━━━━━━━━━━━━━━━━━━━━━━━━━╇━━━━━━━━━━━━━━━━━━━━━━━━━━━┩\n",
       "│<span style=\"color: #008080; text-decoration-color: #008080\">         test_loss         </span>│<span style=\"color: #800080; text-decoration-color: #800080\">    0.17578071355819702    </span>│\n",
       "└───────────────────────────┴───────────────────────────┘\n",
       "</pre>\n"
      ],
      "text/plain": [
       "┏━━━━━━━━━━━━━━━━━━━━━━━━━━━┳━━━━━━━━━━━━━━━━━━━━━━━━━━━┓\n",
       "┃\u001b[1m \u001b[0m\u001b[1m       Test metric       \u001b[0m\u001b[1m \u001b[0m┃\u001b[1m \u001b[0m\u001b[1m      DataLoader 0       \u001b[0m\u001b[1m \u001b[0m┃\n",
       "┡━━━━━━━━━━━━━━━━━━━━━━━━━━━╇━━━━━━━━━━━━━━━━━━━━━━━━━━━┩\n",
       "│\u001b[36m \u001b[0m\u001b[36m        test_loss        \u001b[0m\u001b[36m \u001b[0m│\u001b[35m \u001b[0m\u001b[35m   0.17578071355819702   \u001b[0m\u001b[35m \u001b[0m│\n",
       "└───────────────────────────┴───────────────────────────┘\n"
      ]
     },
     "metadata": {},
     "output_type": "display_data"
    },
    {
     "name": "stderr",
     "output_type": "stream",
     "text": [
      "TEST Profiler Report\n",
      "\n",
      "--------------------------------------------------------------------------------------------------------------------------------------------------------------------------------------------------------------------------------------------------------------------------\n",
      "|  Action                                                                                                                                                         \t|  Mean duration (s)\t|  Num calls      \t|  Total time (s) \t|  Percentage %   \t|\n",
      "--------------------------------------------------------------------------------------------------------------------------------------------------------------------------------------------------------------------------------------------------------------------------\n",
      "|  Total                                                                                                                                                          \t|  -              \t|  252            \t|  1.2084         \t|  100 %          \t|\n",
      "--------------------------------------------------------------------------------------------------------------------------------------------------------------------------------------------------------------------------------------------------------------------------\n",
      "|  [Strategy]SingleDeviceStrategy.test_step                                                                                                                       \t|  0.038089       \t|  16             \t|  0.60942        \t|  50.433         \t|\n",
      "|  [_EvaluationLoop].test_next                                                                                                                                    \t|  0.0044138      \t|  16             \t|  0.070621       \t|  5.8443         \t|\n",
      "|  [Strategy]SingleDeviceStrategy.batch_to_device                                                                                                                 \t|  0.0016291      \t|  16             \t|  0.026065       \t|  2.157          \t|\n",
      "|  [LightningModule]MonetDense.transfer_batch_to_device                                                                                                           \t|  0.0015741      \t|  16             \t|  0.025185       \t|  2.0842         \t|\n",
      "|  [Callback]TQDMProgressBar.on_test_start                                                                                                                        \t|  0.020714       \t|  1              \t|  0.020714       \t|  1.7142         \t|\n",
      "|  [Callback]TQDMProgressBar.on_test_batch_end                                                                                                                    \t|  0.00081052     \t|  16             \t|  0.012968       \t|  1.0732         \t|\n",
      "|  [Callback]TQDMProgressBar.on_test_batch_start                                                                                                                  \t|  6.2073e-05     \t|  16             \t|  0.00099316     \t|  0.082189       \t|\n",
      "|  [Callback]TQDMProgressBar.on_test_end                                                                                                                          \t|  0.00059172     \t|  1              \t|  0.00059172     \t|  0.048968       \t|\n",
      "|  [LightningModule]MonetDense.on_test_model_eval                                                                                                                 \t|  0.00052854     \t|  1              \t|  0.00052854     \t|  0.043739       \t|\n",
      "|  [Callback]ModelCheckpoint{'monitor': 'val_loss', 'mode': 'min', 'every_n_train_steps': 0, 'every_n_epochs': 1, 'train_time_interval': None}.setup              \t|  9.2187e-05     \t|  1              \t|  9.2187e-05     \t|  0.0076289      \t|\n",
      "|  [Callback]ModelSummary.on_test_batch_end                                                                                                                       \t|  4.4425e-06     \t|  16             \t|  7.108e-05      \t|  0.0058822      \t|\n",
      "|  [LightningModule]MonetDense.on_before_batch_transfer                                                                                                           \t|  2.421e-06      \t|  16             \t|  3.8736e-05     \t|  0.0032056      \t|\n",
      "|  [Callback]ModelCheckpoint{'monitor': 'val_loss', 'mode': 'min', 'every_n_train_steps': 0, 'every_n_epochs': 1, 'train_time_interval': None}.on_test_batch_end  \t|  1.9903e-06     \t|  16             \t|  3.1844e-05     \t|  0.0026353      \t|\n",
      "|  [LightningModule]MonetDense.on_test_batch_end                                                                                                                  \t|  1.8903e-06     \t|  16             \t|  3.0244e-05     \t|  0.0025028      \t|\n",
      "|  [Callback]ModelSummary.on_test_batch_start                                                                                                                     \t|  1.8181e-06     \t|  16             \t|  2.909e-05      \t|  0.0024074      \t|\n",
      "|  [LightningModule]MonetDense.on_after_batch_transfer                                                                                                            \t|  1.4534e-06     \t|  16             \t|  2.3255e-05     \t|  0.0019245      \t|\n",
      "|  [Callback]TQDMProgressBar.on_test_epoch_end                                                                                                                    \t|  2.0138e-05     \t|  1              \t|  2.0138e-05     \t|  0.0016665      \t|\n",
      "|  [Callback]ModelCheckpoint{'monitor': 'val_loss', 'mode': 'min', 'every_n_train_steps': 0, 'every_n_epochs': 1, 'train_time_interval': None}.on_test_batch_start\t|  1.1766e-06     \t|  16             \t|  1.8825e-05     \t|  0.0015579      \t|\n",
      "|  [LightningModule]MonetDense.on_test_batch_start                                                                                                                \t|  1.1221e-06     \t|  16             \t|  1.7953e-05     \t|  0.0014857      \t|\n",
      "|  [Callback]ModelSummary.on_test_start                                                                                                                           \t|  1.7584e-05     \t|  1              \t|  1.7584e-05     \t|  0.0014552      \t|\n",
      "|  [LightningModule]MonetDense.on_test_epoch_end                                                                                                                  \t|  1.1649e-05     \t|  1              \t|  1.1649e-05     \t|  0.00096402     \t|\n",
      "|  [Callback]TQDMProgressBar.setup                                                                                                                                \t|  1.1401e-05     \t|  1              \t|  1.1401e-05     \t|  0.00094349     \t|\n",
      "|  [Strategy]SingleDeviceStrategy.on_test_start                                                                                                                   \t|  9.838e-06      \t|  1              \t|  9.838e-06      \t|  0.00081415     \t|\n",
      "|  [LightningModule]MonetDense.configure_callbacks                                                                                                                \t|  6.73e-06       \t|  1              \t|  6.73e-06       \t|  0.00055694     \t|\n",
      "|  [LightningModule]MonetDense.on_test_epoch_start                                                                                                                \t|  6.726e-06      \t|  1              \t|  6.726e-06      \t|  0.00055661     \t|\n",
      "|  [Callback]TQDMProgressBar.teardown                                                                                                                             \t|  5.025e-06      \t|  1              \t|  5.025e-06      \t|  0.00041584     \t|\n",
      "|  [Callback]ModelSummary.on_test_end                                                                                                                             \t|  3.707e-06      \t|  1              \t|  3.707e-06      \t|  0.00030677     \t|\n",
      "|  [Callback]ModelCheckpoint{'monitor': 'val_loss', 'mode': 'min', 'every_n_train_steps': 0, 'every_n_epochs': 1, 'train_time_interval': None}.on_test_start      \t|  3.48e-06       \t|  1              \t|  3.48e-06       \t|  0.00028799     \t|\n",
      "|  [Callback]TQDMProgressBar.on_test_epoch_start                                                                                                                  \t|  2.83e-06       \t|  1              \t|  2.83e-06       \t|  0.0002342      \t|\n",
      "|  [Callback]ModelSummary.setup                                                                                                                                   \t|  2.12e-06       \t|  1              \t|  2.12e-06       \t|  0.00017544     \t|\n",
      "|  [Callback]ModelCheckpoint{'monitor': 'val_loss', 'mode': 'min', 'every_n_train_steps': 0, 'every_n_epochs': 1, 'train_time_interval': None}.on_test_end        \t|  2.061e-06      \t|  1              \t|  2.061e-06      \t|  0.00017056     \t|\n",
      "|  [LightningModule]MonetDense.on_test_start                                                                                                                      \t|  2.037e-06      \t|  1              \t|  2.037e-06      \t|  0.00016857     \t|\n",
      "|  [Callback]ModelSummary.on_test_epoch_start                                                                                                                     \t|  1.832e-06      \t|  1              \t|  1.832e-06      \t|  0.00015161     \t|\n",
      "|  [Callback]ModelCheckpoint{'monitor': 'val_loss', 'mode': 'min', 'every_n_train_steps': 0, 'every_n_epochs': 1, 'train_time_interval': None}.on_test_epoch_start\t|  1.799e-06      \t|  1              \t|  1.799e-06      \t|  0.00014888     \t|\n",
      "|  [Callback]ModelSummary.teardown                                                                                                                                \t|  1.743e-06      \t|  1              \t|  1.743e-06      \t|  0.00014424     \t|\n",
      "|  [LightningModule]MonetDense.setup                                                                                                                              \t|  1.67e-06       \t|  1              \t|  1.67e-06       \t|  0.0001382      \t|\n",
      "|  [LightningModule]MonetDense.teardown                                                                                                                           \t|  1.619e-06      \t|  1              \t|  1.619e-06      \t|  0.00013398     \t|\n",
      "|  [Strategy]SingleDeviceStrategy.on_test_end                                                                                                                     \t|  1.566e-06      \t|  1              \t|  1.566e-06      \t|  0.00012959     \t|\n",
      "|  [Callback]ModelCheckpoint{'monitor': 'val_loss', 'mode': 'min', 'every_n_train_steps': 0, 'every_n_epochs': 1, 'train_time_interval': None}.teardown           \t|  1.476e-06      \t|  1              \t|  1.476e-06      \t|  0.00012215     \t|\n",
      "|  [LightningModule]MonetDense.on_test_end                                                                                                                        \t|  1.47e-06       \t|  1              \t|  1.47e-06       \t|  0.00012165     \t|\n",
      "|  [Callback]ModelSummary.on_test_epoch_end                                                                                                                       \t|  1.371e-06      \t|  1              \t|  1.371e-06      \t|  0.00011346     \t|\n",
      "|  [Callback]ModelCheckpoint{'monitor': 'val_loss', 'mode': 'min', 'every_n_train_steps': 0, 'every_n_epochs': 1, 'train_time_interval': None}.on_test_epoch_end  \t|  1.182e-06      \t|  1              \t|  1.182e-06      \t|  9.7817e-05     \t|\n",
      "--------------------------------------------------------------------------------------------------------------------------------------------------------------------------------------------------------------------------------------------------------------------------\n",
      "\n"
     ]
    },
    {
     "name": "stdout",
     "output_type": "stream",
     "text": [
      "MonetDense__[512, 512, 512]__10__0__POLAR_AND_DEGREE__Adam__NUM_SPLITS=3\n",
      "There are 64 graph splits for the Xenium Dataset.\n"
     ]
    },
    {
     "name": "stderr",
     "output_type": "stream",
     "text": [
      "GPU available: True (cuda), used: True\n",
      "TPU available: False, using: 0 TPU cores\n",
      "HPU available: False, using: 0 HPUs\n",
      "`Trainer(limit_train_batches=1.0)` was configured so 100% of the batches per epoch will be used..\n",
      "`Trainer(limit_val_batches=1.0)` was configured so 100% of the batches will be used..\n",
      "LOCAL_RANK: 0 - CUDA_VISIBLE_DEVICES: [7]\n"
     ]
    },
    {
     "name": "stdout",
     "output_type": "stream",
     "text": [
      "The number of parameters for radius 0 is 7817172\n"
     ]
    },
    {
     "data": {
      "application/vnd.jupyter.widget-view+json": {
       "model_id": "cea59841344c4a449da5ff0eacb35aea",
       "version_major": 2,
       "version_minor": 0
      },
      "text/plain": [
       "Testing: |          | 0/? [00:00<?, ?it/s]"
      ]
     },
     "metadata": {},
     "output_type": "display_data"
    },
    {
     "data": {
      "text/html": [
       "<pre style=\"white-space:pre;overflow-x:auto;line-height:normal;font-family:Menlo,'DejaVu Sans Mono',consolas,'Courier New',monospace\">┏━━━━━━━━━━━━━━━━━━━━━━━━━━━┳━━━━━━━━━━━━━━━━━━━━━━━━━━━┓\n",
       "┃<span style=\"font-weight: bold\">        Test metric        </span>┃<span style=\"font-weight: bold\">       DataLoader 0        </span>┃\n",
       "┡━━━━━━━━━━━━━━━━━━━━━━━━━━━╇━━━━━━━━━━━━━━━━━━━━━━━━━━━┩\n",
       "│<span style=\"color: #008080; text-decoration-color: #008080\">         test_loss         </span>│<span style=\"color: #800080; text-decoration-color: #800080\">    0.17534232139587402    </span>│\n",
       "└───────────────────────────┴───────────────────────────┘\n",
       "</pre>\n"
      ],
      "text/plain": [
       "┏━━━━━━━━━━━━━━━━━━━━━━━━━━━┳━━━━━━━━━━━━━━━━━━━━━━━━━━━┓\n",
       "┃\u001b[1m \u001b[0m\u001b[1m       Test metric       \u001b[0m\u001b[1m \u001b[0m┃\u001b[1m \u001b[0m\u001b[1m      DataLoader 0       \u001b[0m\u001b[1m \u001b[0m┃\n",
       "┡━━━━━━━━━━━━━━━━━━━━━━━━━━━╇━━━━━━━━━━━━━━━━━━━━━━━━━━━┩\n",
       "│\u001b[36m \u001b[0m\u001b[36m        test_loss        \u001b[0m\u001b[36m \u001b[0m│\u001b[35m \u001b[0m\u001b[35m   0.17534232139587402   \u001b[0m\u001b[35m \u001b[0m│\n",
       "└───────────────────────────┴───────────────────────────┘\n"
      ]
     },
     "metadata": {},
     "output_type": "display_data"
    },
    {
     "name": "stderr",
     "output_type": "stream",
     "text": [
      "TEST Profiler Report\n",
      "\n",
      "--------------------------------------------------------------------------------------------------------------------------------------------------------------------------------------------------------------------------------------------------------------------------\n",
      "|  Action                                                                                                                                                         \t|  Mean duration (s)\t|  Num calls      \t|  Total time (s) \t|  Percentage %   \t|\n",
      "--------------------------------------------------------------------------------------------------------------------------------------------------------------------------------------------------------------------------------------------------------------------------\n",
      "|  Total                                                                                                                                                          \t|  -              \t|  252            \t|  1.2784         \t|  100 %          \t|\n",
      "--------------------------------------------------------------------------------------------------------------------------------------------------------------------------------------------------------------------------------------------------------------------------\n",
      "|  [Strategy]SingleDeviceStrategy.test_step                                                                                                                       \t|  0.03973        \t|  16             \t|  0.63569        \t|  49.726         \t|\n",
      "|  [_EvaluationLoop].test_next                                                                                                                                    \t|  0.0044912      \t|  16             \t|  0.071859       \t|  5.6211         \t|\n",
      "|  [Strategy]SingleDeviceStrategy.batch_to_device                                                                                                                 \t|  0.0016101      \t|  16             \t|  0.025762       \t|  2.0152         \t|\n",
      "|  [LightningModule]MonetDense.transfer_batch_to_device                                                                                                           \t|  0.0015544      \t|  16             \t|  0.024871       \t|  1.9455         \t|\n",
      "|  [Callback]TQDMProgressBar.on_test_start                                                                                                                        \t|  0.020497       \t|  1              \t|  0.020497       \t|  1.6033         \t|\n",
      "|  [Callback]TQDMProgressBar.on_test_batch_end                                                                                                                    \t|  0.00080258     \t|  16             \t|  0.012841       \t|  1.0045         \t|\n",
      "|  [Callback]TQDMProgressBar.on_test_batch_start                                                                                                                  \t|  7.151e-05      \t|  16             \t|  0.0011442      \t|  0.0895         \t|\n",
      "|  [Callback]TQDMProgressBar.on_test_end                                                                                                                          \t|  0.00056508     \t|  1              \t|  0.00056508     \t|  0.044202       \t|\n",
      "|  [LightningModule]MonetDense.on_test_model_eval                                                                                                                 \t|  0.00049298     \t|  1              \t|  0.00049298     \t|  0.038563       \t|\n",
      "|  [Callback]ModelCheckpoint{'monitor': 'val_loss', 'mode': 'min', 'every_n_train_steps': 0, 'every_n_epochs': 1, 'train_time_interval': None}.setup              \t|  7.0934e-05     \t|  1              \t|  7.0934e-05     \t|  0.0055487      \t|\n",
      "|  [Callback]ModelSummary.on_test_batch_end                                                                                                                       \t|  4.2757e-06     \t|  16             \t|  6.8411e-05     \t|  0.0053513      \t|\n",
      "|  [LightningModule]MonetDense.on_before_batch_transfer                                                                                                           \t|  2.1141e-06     \t|  16             \t|  3.3826e-05     \t|  0.002646       \t|\n",
      "|  [LightningModule]MonetDense.on_test_batch_end                                                                                                                  \t|  1.8373e-06     \t|  16             \t|  2.9397e-05     \t|  0.0022995      \t|\n",
      "|  [Callback]ModelSummary.on_test_batch_start                                                                                                                     \t|  1.7503e-06     \t|  16             \t|  2.8005e-05     \t|  0.0021906      \t|\n",
      "|  [Callback]ModelCheckpoint{'monitor': 'val_loss', 'mode': 'min', 'every_n_train_steps': 0, 'every_n_epochs': 1, 'train_time_interval': None}.on_test_batch_end  \t|  1.4744e-06     \t|  16             \t|  2.3591e-05     \t|  0.0018454      \t|\n",
      "|  [LightningModule]MonetDense.on_after_batch_transfer                                                                                                            \t|  1.4352e-06     \t|  16             \t|  2.2963e-05     \t|  0.0017962      \t|\n",
      "|  [Callback]ModelCheckpoint{'monitor': 'val_loss', 'mode': 'min', 'every_n_train_steps': 0, 'every_n_epochs': 1, 'train_time_interval': None}.on_test_batch_start\t|  1.1238e-06     \t|  16             \t|  1.7981e-05     \t|  0.0014065      \t|\n",
      "|  [LightningModule]MonetDense.on_test_batch_start                                                                                                                \t|  1.0812e-06     \t|  16             \t|  1.73e-05       \t|  0.0013533      \t|\n",
      "|  [Callback]TQDMProgressBar.on_test_epoch_end                                                                                                                    \t|  1.2863e-05     \t|  1              \t|  1.2863e-05     \t|  0.0010062      \t|\n",
      "|  [Callback]ModelSummary.on_test_start                                                                                                                           \t|  1.273e-05      \t|  1              \t|  1.273e-05      \t|  0.00099578     \t|\n",
      "|  [Strategy]SingleDeviceStrategy.on_test_start                                                                                                                   \t|  1.118e-05      \t|  1              \t|  1.118e-05      \t|  0.00087454     \t|\n",
      "|  [Callback]TQDMProgressBar.setup                                                                                                                                \t|  9.66e-06       \t|  1              \t|  9.66e-06       \t|  0.00075564     \t|\n",
      "|  [LightningModule]MonetDense.on_test_epoch_start                                                                                                                \t|  7.706e-06      \t|  1              \t|  7.706e-06      \t|  0.00060279     \t|\n",
      "|  [LightningModule]MonetDense.configure_callbacks                                                                                                                \t|  6.648e-06      \t|  1              \t|  6.648e-06      \t|  0.00052003     \t|\n",
      "|  [LightningModule]MonetDense.on_test_epoch_end                                                                                                                  \t|  5.943e-06      \t|  1              \t|  5.943e-06      \t|  0.00046488     \t|\n",
      "|  [Callback]TQDMProgressBar.teardown                                                                                                                             \t|  5.656e-06      \t|  1              \t|  5.656e-06      \t|  0.00044243     \t|\n",
      "|  [Callback]ModelSummary.on_test_end                                                                                                                             \t|  3.28e-06       \t|  1              \t|  3.28e-06       \t|  0.00025657     \t|\n",
      "|  [Callback]ModelCheckpoint{'monitor': 'val_loss', 'mode': 'min', 'every_n_train_steps': 0, 'every_n_epochs': 1, 'train_time_interval': None}.on_test_epoch_start\t|  3.255e-06      \t|  1              \t|  3.255e-06      \t|  0.00025462     \t|\n",
      "|  [Callback]TQDMProgressBar.on_test_epoch_start                                                                                                                  \t|  3.153e-06      \t|  1              \t|  3.153e-06      \t|  0.00024664     \t|\n",
      "|  [Callback]ModelSummary.teardown                                                                                                                                \t|  2.683e-06      \t|  1              \t|  2.683e-06      \t|  0.00020987     \t|\n",
      "|  [Callback]ModelSummary.on_test_epoch_start                                                                                                                     \t|  2.6e-06        \t|  1              \t|  2.6e-06        \t|  0.00020338     \t|\n",
      "|  [Callback]ModelCheckpoint{'monitor': 'val_loss', 'mode': 'min', 'every_n_train_steps': 0, 'every_n_epochs': 1, 'train_time_interval': None}.teardown           \t|  2.525e-06      \t|  1              \t|  2.525e-06      \t|  0.00019751     \t|\n",
      "|  [Strategy]SingleDeviceStrategy.on_test_end                                                                                                                     \t|  2.472e-06      \t|  1              \t|  2.472e-06      \t|  0.00019337     \t|\n",
      "|  [LightningModule]MonetDense.on_test_start                                                                                                                      \t|  2.196e-06      \t|  1              \t|  2.196e-06      \t|  0.00017178     \t|\n",
      "|  [Callback]ModelCheckpoint{'monitor': 'val_loss', 'mode': 'min', 'every_n_train_steps': 0, 'every_n_epochs': 1, 'train_time_interval': None}.on_test_start      \t|  2.129e-06      \t|  1              \t|  2.129e-06      \t|  0.00016654     \t|\n",
      "|  [LightningModule]MonetDense.teardown                                                                                                                           \t|  2.101e-06      \t|  1              \t|  2.101e-06      \t|  0.00016435     \t|\n",
      "|  [Callback]ModelSummary.setup                                                                                                                                   \t|  1.929e-06      \t|  1              \t|  1.929e-06      \t|  0.00015089     \t|\n",
      "|  [LightningModule]MonetDense.setup                                                                                                                              \t|  1.576e-06      \t|  1              \t|  1.576e-06      \t|  0.00012328     \t|\n",
      "|  [Callback]ModelCheckpoint{'monitor': 'val_loss', 'mode': 'min', 'every_n_train_steps': 0, 'every_n_epochs': 1, 'train_time_interval': None}.on_test_end        \t|  1.276e-06      \t|  1              \t|  1.276e-06      \t|  9.9813e-05     \t|\n",
      "|  [Callback]ModelSummary.on_test_epoch_end                                                                                                                       \t|  1.256e-06      \t|  1              \t|  1.256e-06      \t|  9.8249e-05     \t|\n",
      "|  [Callback]ModelCheckpoint{'monitor': 'val_loss', 'mode': 'min', 'every_n_train_steps': 0, 'every_n_epochs': 1, 'train_time_interval': None}.on_test_epoch_end  \t|  1.029e-06      \t|  1              \t|  1.029e-06      \t|  8.0492e-05     \t|\n",
      "|  [LightningModule]MonetDense.on_test_end                                                                                                                        \t|  9.55e-07       \t|  1              \t|  9.55e-07       \t|  7.4703e-05     \t|\n",
      "--------------------------------------------------------------------------------------------------------------------------------------------------------------------------------------------------------------------------------------------------------------------------\n",
      "\n"
     ]
    },
    {
     "name": "stdout",
     "output_type": "stream",
     "text": [
      "MonetDense__[512, 512, 512]__10__5__POLAR_AND_DEGREE__Adam__NUM_SPLITS=3\n",
      "There are 64 graph splits for the Xenium Dataset.\n"
     ]
    },
    {
     "name": "stderr",
     "output_type": "stream",
     "text": [
      "GPU available: True (cuda), used: True\n",
      "TPU available: False, using: 0 TPU cores\n",
      "HPU available: False, using: 0 HPUs\n",
      "`Trainer(limit_train_batches=1.0)` was configured so 100% of the batches per epoch will be used..\n",
      "`Trainer(limit_val_batches=1.0)` was configured so 100% of the batches will be used..\n",
      "LOCAL_RANK: 0 - CUDA_VISIBLE_DEVICES: [7]\n"
     ]
    },
    {
     "name": "stdout",
     "output_type": "stream",
     "text": [
      "The number of parameters for radius 5 is 7817172\n"
     ]
    },
    {
     "data": {
      "application/vnd.jupyter.widget-view+json": {
       "model_id": "cca2654e18564fc0ac25facc188353b4",
       "version_major": 2,
       "version_minor": 0
      },
      "text/plain": [
       "Testing: |          | 0/? [00:00<?, ?it/s]"
      ]
     },
     "metadata": {},
     "output_type": "display_data"
    },
    {
     "data": {
      "text/html": [
       "<pre style=\"white-space:pre;overflow-x:auto;line-height:normal;font-family:Menlo,'DejaVu Sans Mono',consolas,'Courier New',monospace\">┏━━━━━━━━━━━━━━━━━━━━━━━━━━━┳━━━━━━━━━━━━━━━━━━━━━━━━━━━┓\n",
       "┃<span style=\"font-weight: bold\">        Test metric        </span>┃<span style=\"font-weight: bold\">       DataLoader 0        </span>┃\n",
       "┡━━━━━━━━━━━━━━━━━━━━━━━━━━━╇━━━━━━━━━━━━━━━━━━━━━━━━━━━┩\n",
       "│<span style=\"color: #008080; text-decoration-color: #008080\">         test_loss         </span>│<span style=\"color: #800080; text-decoration-color: #800080\">    0.17492608726024628    </span>│\n",
       "└───────────────────────────┴───────────────────────────┘\n",
       "</pre>\n"
      ],
      "text/plain": [
       "┏━━━━━━━━━━━━━━━━━━━━━━━━━━━┳━━━━━━━━━━━━━━━━━━━━━━━━━━━┓\n",
       "┃\u001b[1m \u001b[0m\u001b[1m       Test metric       \u001b[0m\u001b[1m \u001b[0m┃\u001b[1m \u001b[0m\u001b[1m      DataLoader 0       \u001b[0m\u001b[1m \u001b[0m┃\n",
       "┡━━━━━━━━━━━━━━━━━━━━━━━━━━━╇━━━━━━━━━━━━━━━━━━━━━━━━━━━┩\n",
       "│\u001b[36m \u001b[0m\u001b[36m        test_loss        \u001b[0m\u001b[36m \u001b[0m│\u001b[35m \u001b[0m\u001b[35m   0.17492608726024628   \u001b[0m\u001b[35m \u001b[0m│\n",
       "└───────────────────────────┴───────────────────────────┘\n"
      ]
     },
     "metadata": {},
     "output_type": "display_data"
    },
    {
     "name": "stderr",
     "output_type": "stream",
     "text": [
      "TEST Profiler Report\n",
      "\n",
      "--------------------------------------------------------------------------------------------------------------------------------------------------------------------------------------------------------------------------------------------------------------------------\n",
      "|  Action                                                                                                                                                         \t|  Mean duration (s)\t|  Num calls      \t|  Total time (s) \t|  Percentage %   \t|\n",
      "--------------------------------------------------------------------------------------------------------------------------------------------------------------------------------------------------------------------------------------------------------------------------\n",
      "|  Total                                                                                                                                                          \t|  -              \t|  252            \t|  1.2848         \t|  100 %          \t|\n",
      "--------------------------------------------------------------------------------------------------------------------------------------------------------------------------------------------------------------------------------------------------------------------------\n",
      "|  [Strategy]SingleDeviceStrategy.test_step                                                                                                                       \t|  0.037433       \t|  16             \t|  0.59892        \t|  46.616         \t|\n",
      "|  [_EvaluationLoop].test_next                                                                                                                                    \t|  0.0042676      \t|  16             \t|  0.068282       \t|  5.3146         \t|\n",
      "|  [Callback]TQDMProgressBar.on_test_start                                                                                                                        \t|  0.028022       \t|  1              \t|  0.028022       \t|  2.1811         \t|\n",
      "|  [Strategy]SingleDeviceStrategy.batch_to_device                                                                                                                 \t|  0.0017043      \t|  16             \t|  0.027269       \t|  2.1224         \t|\n",
      "|  [LightningModule]MonetDense.transfer_batch_to_device                                                                                                           \t|  0.0016502      \t|  16             \t|  0.026403       \t|  2.055          \t|\n",
      "|  [Callback]TQDMProgressBar.on_test_batch_end                                                                                                                    \t|  0.0007316      \t|  16             \t|  0.011706       \t|  0.91108        \t|\n",
      "|  [Callback]TQDMProgressBar.on_test_batch_start                                                                                                                  \t|  6.7829e-05     \t|  16             \t|  0.0010853      \t|  0.08447        \t|\n",
      "|  [Callback]TQDMProgressBar.on_test_end                                                                                                                          \t|  0.0005297      \t|  1              \t|  0.0005297      \t|  0.041228       \t|\n",
      "|  [LightningModule]MonetDense.on_test_model_eval                                                                                                                 \t|  0.00036313     \t|  1              \t|  0.00036313     \t|  0.028263       \t|\n",
      "|  [Callback]ModelCheckpoint{'monitor': 'val_loss', 'mode': 'min', 'every_n_train_steps': 0, 'every_n_epochs': 1, 'train_time_interval': None}.setup              \t|  0.00013825     \t|  1              \t|  0.00013825     \t|  0.01076        \t|\n",
      "|  [Callback]ModelSummary.on_test_batch_end                                                                                                                       \t|  3.9992e-06     \t|  16             \t|  6.3988e-05     \t|  0.0049804      \t|\n",
      "|  [LightningModule]MonetDense.on_before_batch_transfer                                                                                                           \t|  2.1339e-06     \t|  16             \t|  3.4142e-05     \t|  0.0026574      \t|\n",
      "|  [LightningModule]MonetDense.on_test_batch_end                                                                                                                  \t|  1.7621e-06     \t|  16             \t|  2.8193e-05     \t|  0.0021943      \t|\n",
      "|  [Callback]ModelSummary.on_test_batch_start                                                                                                                     \t|  1.7212e-06     \t|  16             \t|  2.7539e-05     \t|  0.0021434      \t|\n",
      "|  [Callback]TQDMProgressBar.on_test_epoch_end                                                                                                                    \t|  2.7371e-05     \t|  1              \t|  2.7371e-05     \t|  0.0021304      \t|\n",
      "|  [Callback]ModelCheckpoint{'monitor': 'val_loss', 'mode': 'min', 'every_n_train_steps': 0, 'every_n_epochs': 1, 'train_time_interval': None}.on_test_batch_end  \t|  1.5468e-06     \t|  16             \t|  2.4749e-05     \t|  0.0019263      \t|\n",
      "|  [LightningModule]MonetDense.on_after_batch_transfer                                                                                                            \t|  1.4884e-06     \t|  16             \t|  2.3814e-05     \t|  0.0018535      \t|\n",
      "|  [Callback]ModelCheckpoint{'monitor': 'val_loss', 'mode': 'min', 'every_n_train_steps': 0, 'every_n_epochs': 1, 'train_time_interval': None}.on_test_batch_start\t|  1.1588e-06     \t|  16             \t|  1.8541e-05     \t|  0.0014431      \t|\n",
      "|  [LightningModule]MonetDense.on_test_batch_start                                                                                                                \t|  1.0811e-06     \t|  16             \t|  1.7298e-05     \t|  0.0013464      \t|\n",
      "|  [Callback]ModelSummary.on_test_start                                                                                                                           \t|  1.2148e-05     \t|  1              \t|  1.2148e-05     \t|  0.00094551     \t|\n",
      "|  [LightningModule]MonetDense.configure_callbacks                                                                                                                \t|  1.0832e-05     \t|  1              \t|  1.0832e-05     \t|  0.00084308     \t|\n",
      "|  [Callback]TQDMProgressBar.setup                                                                                                                                \t|  9.873e-06      \t|  1              \t|  9.873e-06      \t|  0.00076844     \t|\n",
      "|  [Strategy]SingleDeviceStrategy.on_test_start                                                                                                                   \t|  7.924e-06      \t|  1              \t|  7.924e-06      \t|  0.00061675     \t|\n",
      "|  [LightningModule]MonetDense.on_test_epoch_end                                                                                                                  \t|  6.148e-06      \t|  1              \t|  6.148e-06      \t|  0.00047852     \t|\n",
      "|  [LightningModule]MonetDense.on_test_epoch_start                                                                                                                \t|  4.852e-06      \t|  1              \t|  4.852e-06      \t|  0.00037764     \t|\n",
      "|  [Callback]TQDMProgressBar.teardown                                                                                                                             \t|  4.179e-06      \t|  1              \t|  4.179e-06      \t|  0.00032526     \t|\n",
      "|  [Callback]ModelSummary.on_test_end                                                                                                                             \t|  2.754e-06      \t|  1              \t|  2.754e-06      \t|  0.00021435     \t|\n",
      "|  [Callback]TQDMProgressBar.on_test_epoch_start                                                                                                                  \t|  1.937e-06      \t|  1              \t|  1.937e-06      \t|  0.00015076     \t|\n",
      "|  [Callback]ModelSummary.setup                                                                                                                                   \t|  1.734e-06      \t|  1              \t|  1.734e-06      \t|  0.00013496     \t|\n",
      "|  [Callback]ModelCheckpoint{'monitor': 'val_loss', 'mode': 'min', 'every_n_train_steps': 0, 'every_n_epochs': 1, 'train_time_interval': None}.on_test_start      \t|  1.726e-06      \t|  1              \t|  1.726e-06      \t|  0.00013434     \t|\n",
      "|  [LightningModule]MonetDense.setup                                                                                                                              \t|  1.638e-06      \t|  1              \t|  1.638e-06      \t|  0.00012749     \t|\n",
      "|  [LightningModule]MonetDense.teardown                                                                                                                           \t|  1.577e-06      \t|  1              \t|  1.577e-06      \t|  0.00012274     \t|\n",
      "|  [LightningModule]MonetDense.on_test_start                                                                                                                      \t|  1.338e-06      \t|  1              \t|  1.338e-06      \t|  0.00010414     \t|\n",
      "|  [Callback]ModelSummary.teardown                                                                                                                                \t|  1.331e-06      \t|  1              \t|  1.331e-06      \t|  0.0001036      \t|\n",
      "|  [Callback]ModelSummary.on_test_epoch_end                                                                                                                       \t|  1.33e-06       \t|  1              \t|  1.33e-06       \t|  0.00010352     \t|\n",
      "|  [Callback]ModelCheckpoint{'monitor': 'val_loss', 'mode': 'min', 'every_n_train_steps': 0, 'every_n_epochs': 1, 'train_time_interval': None}.teardown           \t|  1.33e-06       \t|  1              \t|  1.33e-06       \t|  0.00010352     \t|\n",
      "|  [Callback]ModelSummary.on_test_epoch_start                                                                                                                     \t|  1.275e-06      \t|  1              \t|  1.275e-06      \t|  9.9237e-05     \t|\n",
      "|  [Callback]ModelCheckpoint{'monitor': 'val_loss', 'mode': 'min', 'every_n_train_steps': 0, 'every_n_epochs': 1, 'train_time_interval': None}.on_test_epoch_start\t|  1.262e-06      \t|  1              \t|  1.262e-06      \t|  9.8225e-05     \t|\n",
      "|  [Callback]ModelCheckpoint{'monitor': 'val_loss', 'mode': 'min', 'every_n_train_steps': 0, 'every_n_epochs': 1, 'train_time_interval': None}.on_test_end        \t|  1.227e-06      \t|  1              \t|  1.227e-06      \t|  9.55e-05       \t|\n",
      "|  [Strategy]SingleDeviceStrategy.on_test_end                                                                                                                     \t|  1.221e-06      \t|  1              \t|  1.221e-06      \t|  9.5034e-05     \t|\n",
      "|  [LightningModule]MonetDense.on_test_end                                                                                                                        \t|  1.147e-06      \t|  1              \t|  1.147e-06      \t|  8.9274e-05     \t|\n",
      "|  [Callback]ModelCheckpoint{'monitor': 'val_loss', 'mode': 'min', 'every_n_train_steps': 0, 'every_n_epochs': 1, 'train_time_interval': None}.on_test_epoch_end  \t|  1.128e-06      \t|  1              \t|  1.128e-06      \t|  8.7795e-05     \t|\n",
      "--------------------------------------------------------------------------------------------------------------------------------------------------------------------------------------------------------------------------------------------------------------------------\n",
      "\n"
     ]
    },
    {
     "name": "stdout",
     "output_type": "stream",
     "text": [
      "MonetDense__[512, 512, 512]__10__20__POLAR_AND_DEGREE__Adam__NUM_SPLITS=3\n",
      "There are 64 graph splits for the Xenium Dataset.\n"
     ]
    },
    {
     "name": "stderr",
     "output_type": "stream",
     "text": [
      "GPU available: True (cuda), used: True\n",
      "TPU available: False, using: 0 TPU cores\n",
      "HPU available: False, using: 0 HPUs\n",
      "`Trainer(limit_train_batches=1.0)` was configured so 100% of the batches per epoch will be used..\n",
      "`Trainer(limit_val_batches=1.0)` was configured so 100% of the batches will be used..\n",
      "LOCAL_RANK: 0 - CUDA_VISIBLE_DEVICES: [7]\n"
     ]
    },
    {
     "name": "stdout",
     "output_type": "stream",
     "text": [
      "The number of parameters for radius 20 is 7817172\n"
     ]
    },
    {
     "data": {
      "application/vnd.jupyter.widget-view+json": {
       "model_id": "bf1143d9faa146afbd51c8dbb7c0fbc6",
       "version_major": 2,
       "version_minor": 0
      },
      "text/plain": [
       "Testing: |          | 0/? [00:00<?, ?it/s]"
      ]
     },
     "metadata": {},
     "output_type": "display_data"
    },
    {
     "data": {
      "text/html": [
       "<pre style=\"white-space:pre;overflow-x:auto;line-height:normal;font-family:Menlo,'DejaVu Sans Mono',consolas,'Courier New',monospace\">┏━━━━━━━━━━━━━━━━━━━━━━━━━━━┳━━━━━━━━━━━━━━━━━━━━━━━━━━━┓\n",
       "┃<span style=\"font-weight: bold\">        Test metric        </span>┃<span style=\"font-weight: bold\">       DataLoader 0        </span>┃\n",
       "┡━━━━━━━━━━━━━━━━━━━━━━━━━━━╇━━━━━━━━━━━━━━━━━━━━━━━━━━━┩\n",
       "│<span style=\"color: #008080; text-decoration-color: #008080\">         test_loss         </span>│<span style=\"color: #800080; text-decoration-color: #800080\">    0.16879001259803772    </span>│\n",
       "└───────────────────────────┴───────────────────────────┘\n",
       "</pre>\n"
      ],
      "text/plain": [
       "┏━━━━━━━━━━━━━━━━━━━━━━━━━━━┳━━━━━━━━━━━━━━━━━━━━━━━━━━━┓\n",
       "┃\u001b[1m \u001b[0m\u001b[1m       Test metric       \u001b[0m\u001b[1m \u001b[0m┃\u001b[1m \u001b[0m\u001b[1m      DataLoader 0       \u001b[0m\u001b[1m \u001b[0m┃\n",
       "┡━━━━━━━━━━━━━━━━━━━━━━━━━━━╇━━━━━━━━━━━━━━━━━━━━━━━━━━━┩\n",
       "│\u001b[36m \u001b[0m\u001b[36m        test_loss        \u001b[0m\u001b[36m \u001b[0m│\u001b[35m \u001b[0m\u001b[35m   0.16879001259803772   \u001b[0m\u001b[35m \u001b[0m│\n",
       "└───────────────────────────┴───────────────────────────┘\n"
      ]
     },
     "metadata": {},
     "output_type": "display_data"
    },
    {
     "name": "stderr",
     "output_type": "stream",
     "text": [
      "TEST Profiler Report\n",
      "\n",
      "--------------------------------------------------------------------------------------------------------------------------------------------------------------------------------------------------------------------------------------------------------------------------\n",
      "|  Action                                                                                                                                                         \t|  Mean duration (s)\t|  Num calls      \t|  Total time (s) \t|  Percentage %   \t|\n",
      "--------------------------------------------------------------------------------------------------------------------------------------------------------------------------------------------------------------------------------------------------------------------------\n",
      "|  Total                                                                                                                                                          \t|  -              \t|  252            \t|  1.7625         \t|  100 %          \t|\n",
      "--------------------------------------------------------------------------------------------------------------------------------------------------------------------------------------------------------------------------------------------------------------------------\n",
      "|  [Strategy]SingleDeviceStrategy.test_step                                                                                                                       \t|  0.057457       \t|  16             \t|  0.91931        \t|  52.159         \t|\n",
      "|  [_EvaluationLoop].test_next                                                                                                                                    \t|  0.0046195      \t|  16             \t|  0.073912       \t|  4.1935         \t|\n",
      "|  [Callback]TQDMProgressBar.on_test_start                                                                                                                        \t|  0.039774       \t|  1              \t|  0.039774       \t|  2.2567         \t|\n",
      "|  [Strategy]SingleDeviceStrategy.batch_to_device                                                                                                                 \t|  0.0017437      \t|  16             \t|  0.027898       \t|  1.5829         \t|\n",
      "|  [LightningModule]MonetDense.transfer_batch_to_device                                                                                                           \t|  0.0016877      \t|  16             \t|  0.027004       \t|  1.5321         \t|\n",
      "|  [Callback]TQDMProgressBar.on_test_batch_end                                                                                                                    \t|  0.00084179     \t|  16             \t|  0.013469       \t|  0.76417        \t|\n",
      "|  [Callback]TQDMProgressBar.on_test_batch_start                                                                                                                  \t|  6.6381e-05     \t|  16             \t|  0.0010621      \t|  0.06026        \t|\n",
      "|  [Callback]TQDMProgressBar.on_test_end                                                                                                                          \t|  0.00058939     \t|  1              \t|  0.00058939     \t|  0.03344        \t|\n",
      "|  [LightningModule]MonetDense.on_test_model_eval                                                                                                                 \t|  0.00037544     \t|  1              \t|  0.00037544     \t|  0.021302       \t|\n",
      "|  [Callback]ModelCheckpoint{'monitor': 'val_loss', 'mode': 'min', 'every_n_train_steps': 0, 'every_n_epochs': 1, 'train_time_interval': None}.setup              \t|  7.3114e-05     \t|  1              \t|  7.3114e-05     \t|  0.0041483      \t|\n",
      "|  [Callback]ModelSummary.on_test_batch_end                                                                                                                       \t|  4.3798e-06     \t|  16             \t|  7.0077e-05     \t|  0.003976       \t|\n",
      "|  [LightningModule]MonetDense.on_before_batch_transfer                                                                                                           \t|  2.0234e-06     \t|  16             \t|  3.2374e-05     \t|  0.0018368      \t|\n",
      "|  [Callback]TQDMProgressBar.on_test_epoch_end                                                                                                                    \t|  2.8599e-05     \t|  1              \t|  2.8599e-05     \t|  0.0016226      \t|\n",
      "|  [LightningModule]MonetDense.on_test_batch_end                                                                                                                  \t|  1.7374e-06     \t|  16             \t|  2.7799e-05     \t|  0.0015772      \t|\n",
      "|  [Callback]ModelSummary.on_test_batch_start                                                                                                                     \t|  1.6981e-06     \t|  16             \t|  2.7169e-05     \t|  0.0015415      \t|\n",
      "|  [Callback]ModelCheckpoint{'monitor': 'val_loss', 'mode': 'min', 'every_n_train_steps': 0, 'every_n_epochs': 1, 'train_time_interval': None}.on_test_batch_end  \t|  1.464e-06      \t|  16             \t|  2.3424e-05     \t|  0.001329       \t|\n",
      "|  [LightningModule]MonetDense.on_after_batch_transfer                                                                                                            \t|  1.4298e-06     \t|  16             \t|  2.2877e-05     \t|  0.001298       \t|\n",
      "|  [Callback]ModelCheckpoint{'monitor': 'val_loss', 'mode': 'min', 'every_n_train_steps': 0, 'every_n_epochs': 1, 'train_time_interval': None}.on_test_batch_start\t|  1.0753e-06     \t|  16             \t|  1.7204e-05     \t|  0.00097611     \t|\n",
      "|  [LightningModule]MonetDense.on_test_batch_start                                                                                                                \t|  1.0054e-06     \t|  16             \t|  1.6087e-05     \t|  0.00091273     \t|\n",
      "|  [Callback]ModelSummary.on_test_start                                                                                                                           \t|  1.277e-05      \t|  1              \t|  1.277e-05      \t|  0.00072453     \t|\n",
      "|  [Callback]TQDMProgressBar.setup                                                                                                                                \t|  1.0267e-05     \t|  1              \t|  1.0267e-05     \t|  0.00058252     \t|\n",
      "|  [Strategy]SingleDeviceStrategy.on_test_start                                                                                                                   \t|  1.0142e-05     \t|  1              \t|  1.0142e-05     \t|  0.00057543     \t|\n",
      "|  [LightningModule]MonetDense.on_test_epoch_start                                                                                                                \t|  7.958e-06      \t|  1              \t|  7.958e-06      \t|  0.00045152     \t|\n",
      "|  [Callback]TQDMProgressBar.teardown                                                                                                                             \t|  5.682e-06      \t|  1              \t|  5.682e-06      \t|  0.00032238     \t|\n",
      "|  [LightningModule]MonetDense.on_test_epoch_end                                                                                                                  \t|  5.475e-06      \t|  1              \t|  5.475e-06      \t|  0.00031064     \t|\n",
      "|  [LightningModule]MonetDense.configure_callbacks                                                                                                                \t|  5.187e-06      \t|  1              \t|  5.187e-06      \t|  0.0002943      \t|\n",
      "|  [Callback]ModelSummary.on_test_end                                                                                                                             \t|  2.727e-06      \t|  1              \t|  2.727e-06      \t|  0.00015472     \t|\n",
      "|  [Strategy]SingleDeviceStrategy.on_test_end                                                                                                                     \t|  2.397e-06      \t|  1              \t|  2.397e-06      \t|  0.000136       \t|\n",
      "|  [Callback]ModelSummary.setup                                                                                                                                   \t|  2.317e-06      \t|  1              \t|  2.317e-06      \t|  0.00013146     \t|\n",
      "|  [Callback]TQDMProgressBar.on_test_epoch_start                                                                                                                  \t|  2.056e-06      \t|  1              \t|  2.056e-06      \t|  0.00011665     \t|\n",
      "|  [Callback]ModelCheckpoint{'monitor': 'val_loss', 'mode': 'min', 'every_n_train_steps': 0, 'every_n_epochs': 1, 'train_time_interval': None}.on_test_start      \t|  2.043e-06      \t|  1              \t|  2.043e-06      \t|  0.00011591     \t|\n",
      "|  [LightningModule]MonetDense.setup                                                                                                                              \t|  1.743e-06      \t|  1              \t|  1.743e-06      \t|  9.8893e-05     \t|\n",
      "|  [LightningModule]MonetDense.teardown                                                                                                                           \t|  1.732e-06      \t|  1              \t|  1.732e-06      \t|  9.8269e-05     \t|\n",
      "|  [LightningModule]MonetDense.on_test_start                                                                                                                      \t|  1.635e-06      \t|  1              \t|  1.635e-06      \t|  9.2765e-05     \t|\n",
      "|  [Callback]ModelSummary.teardown                                                                                                                                \t|  1.626e-06      \t|  1              \t|  1.626e-06      \t|  9.2255e-05     \t|\n",
      "|  [Callback]ModelSummary.on_test_epoch_start                                                                                                                     \t|  1.545e-06      \t|  1              \t|  1.545e-06      \t|  8.7659e-05     \t|\n",
      "|  [Callback]ModelCheckpoint{'monitor': 'val_loss', 'mode': 'min', 'every_n_train_steps': 0, 'every_n_epochs': 1, 'train_time_interval': None}.on_test_epoch_start\t|  1.461e-06      \t|  1              \t|  1.461e-06      \t|  8.2893e-05     \t|\n",
      "|  [Callback]ModelCheckpoint{'monitor': 'val_loss', 'mode': 'min', 'every_n_train_steps': 0, 'every_n_epochs': 1, 'train_time_interval': None}.on_test_end        \t|  1.3e-06        \t|  1              \t|  1.3e-06        \t|  7.3759e-05     \t|\n",
      "|  [Callback]ModelSummary.on_test_epoch_end                                                                                                                       \t|  1.289e-06      \t|  1              \t|  1.289e-06      \t|  7.3134e-05     \t|\n",
      "|  [Callback]ModelCheckpoint{'monitor': 'val_loss', 'mode': 'min', 'every_n_train_steps': 0, 'every_n_epochs': 1, 'train_time_interval': None}.teardown           \t|  1.274e-06      \t|  1              \t|  1.274e-06      \t|  7.2283e-05     \t|\n",
      "|  [Callback]ModelCheckpoint{'monitor': 'val_loss', 'mode': 'min', 'every_n_train_steps': 0, 'every_n_epochs': 1, 'train_time_interval': None}.on_test_epoch_end  \t|  1.086e-06      \t|  1              \t|  1.086e-06      \t|  6.1617e-05     \t|\n",
      "|  [LightningModule]MonetDense.on_test_end                                                                                                                        \t|  1.035e-06      \t|  1              \t|  1.035e-06      \t|  5.8723e-05     \t|\n",
      "--------------------------------------------------------------------------------------------------------------------------------------------------------------------------------------------------------------------------------------------------------------------------\n",
      "\n"
     ]
    },
    {
     "name": "stdout",
     "output_type": "stream",
     "text": [
      "MonetDense__[512, 512, 512]__10__25__POLAR_AND_DEGREE__Adam__NUM_SPLITS=3\n",
      "There are 64 graph splits for the Xenium Dataset.\n"
     ]
    },
    {
     "name": "stderr",
     "output_type": "stream",
     "text": [
      "GPU available: True (cuda), used: True\n",
      "TPU available: False, using: 0 TPU cores\n",
      "HPU available: False, using: 0 HPUs\n",
      "`Trainer(limit_train_batches=1.0)` was configured so 100% of the batches per epoch will be used..\n",
      "`Trainer(limit_val_batches=1.0)` was configured so 100% of the batches will be used..\n",
      "LOCAL_RANK: 0 - CUDA_VISIBLE_DEVICES: [7]\n"
     ]
    },
    {
     "name": "stdout",
     "output_type": "stream",
     "text": [
      "The number of parameters for radius 25 is 7817172\n"
     ]
    },
    {
     "data": {
      "application/vnd.jupyter.widget-view+json": {
       "model_id": "a4d87e6b9ba44b99b984fc65b9a60935",
       "version_major": 2,
       "version_minor": 0
      },
      "text/plain": [
       "Testing: |          | 0/? [00:00<?, ?it/s]"
      ]
     },
     "metadata": {},
     "output_type": "display_data"
    },
    {
     "data": {
      "text/html": [
       "<pre style=\"white-space:pre;overflow-x:auto;line-height:normal;font-family:Menlo,'DejaVu Sans Mono',consolas,'Courier New',monospace\">┏━━━━━━━━━━━━━━━━━━━━━━━━━━━┳━━━━━━━━━━━━━━━━━━━━━━━━━━━┓\n",
       "┃<span style=\"font-weight: bold\">        Test metric        </span>┃<span style=\"font-weight: bold\">       DataLoader 0        </span>┃\n",
       "┡━━━━━━━━━━━━━━━━━━━━━━━━━━━╇━━━━━━━━━━━━━━━━━━━━━━━━━━━┩\n",
       "│<span style=\"color: #008080; text-decoration-color: #008080\">         test_loss         </span>│<span style=\"color: #800080; text-decoration-color: #800080\">    0.16646255552768707    </span>│\n",
       "└───────────────────────────┴───────────────────────────┘\n",
       "</pre>\n"
      ],
      "text/plain": [
       "┏━━━━━━━━━━━━━━━━━━━━━━━━━━━┳━━━━━━━━━━━━━━━━━━━━━━━━━━━┓\n",
       "┃\u001b[1m \u001b[0m\u001b[1m       Test metric       \u001b[0m\u001b[1m \u001b[0m┃\u001b[1m \u001b[0m\u001b[1m      DataLoader 0       \u001b[0m\u001b[1m \u001b[0m┃\n",
       "┡━━━━━━━━━━━━━━━━━━━━━━━━━━━╇━━━━━━━━━━━━━━━━━━━━━━━━━━━┩\n",
       "│\u001b[36m \u001b[0m\u001b[36m        test_loss        \u001b[0m\u001b[36m \u001b[0m│\u001b[35m \u001b[0m\u001b[35m   0.16646255552768707   \u001b[0m\u001b[35m \u001b[0m│\n",
       "└───────────────────────────┴───────────────────────────┘\n"
      ]
     },
     "metadata": {},
     "output_type": "display_data"
    },
    {
     "name": "stderr",
     "output_type": "stream",
     "text": [
      "TEST Profiler Report\n",
      "\n",
      "--------------------------------------------------------------------------------------------------------------------------------------------------------------------------------------------------------------------------------------------------------------------------\n",
      "|  Action                                                                                                                                                         \t|  Mean duration (s)\t|  Num calls      \t|  Total time (s) \t|  Percentage %   \t|\n",
      "--------------------------------------------------------------------------------------------------------------------------------------------------------------------------------------------------------------------------------------------------------------------------\n",
      "|  Total                                                                                                                                                          \t|  -              \t|  252            \t|  2.0638         \t|  100 %          \t|\n",
      "--------------------------------------------------------------------------------------------------------------------------------------------------------------------------------------------------------------------------------------------------------------------------\n",
      "|  [Strategy]SingleDeviceStrategy.test_step                                                                                                                       \t|  0.075414       \t|  16             \t|  1.2066         \t|  58.465         \t|\n",
      "|  [_EvaluationLoop].test_next                                                                                                                                    \t|  0.0053236      \t|  16             \t|  0.085177       \t|  4.1271         \t|\n",
      "|  [Strategy]SingleDeviceStrategy.batch_to_device                                                                                                                 \t|  0.0019074      \t|  16             \t|  0.030518       \t|  1.4787         \t|\n",
      "|  [LightningModule]MonetDense.transfer_batch_to_device                                                                                                           \t|  0.0018461      \t|  16             \t|  0.029538       \t|  1.4312         \t|\n",
      "|  [Callback]TQDMProgressBar.on_test_start                                                                                                                        \t|  0.016087       \t|  1              \t|  0.016087       \t|  0.77945        \t|\n",
      "|  [Callback]TQDMProgressBar.on_test_batch_end                                                                                                                    \t|  0.00080632     \t|  16             \t|  0.012901       \t|  0.6251         \t|\n",
      "|  [Callback]TQDMProgressBar.on_test_batch_start                                                                                                                  \t|  0.00016654     \t|  16             \t|  0.0026647      \t|  0.12911        \t|\n",
      "|  [Callback]TQDMProgressBar.on_test_end                                                                                                                          \t|  0.00056018     \t|  1              \t|  0.00056018     \t|  0.027143       \t|\n",
      "|  [LightningModule]MonetDense.on_test_model_eval                                                                                                                 \t|  0.00032493     \t|  1              \t|  0.00032493     \t|  0.015744       \t|\n",
      "|  [Callback]ModelCheckpoint{'monitor': 'val_loss', 'mode': 'min', 'every_n_train_steps': 0, 'every_n_epochs': 1, 'train_time_interval': None}.setup              \t|  9.4074e-05     \t|  1              \t|  9.4074e-05     \t|  0.0045582      \t|\n",
      "|  [Callback]ModelSummary.on_test_batch_end                                                                                                                       \t|  4.2802e-06     \t|  16             \t|  6.8484e-05     \t|  0.0033183      \t|\n",
      "|  [LightningModule]MonetDense.on_before_batch_transfer                                                                                                           \t|  2.2731e-06     \t|  16             \t|  3.637e-05      \t|  0.0017622      \t|\n",
      "|  [Callback]ModelSummary.on_test_batch_start                                                                                                                     \t|  1.8965e-06     \t|  16             \t|  3.0344e-05     \t|  0.0014703      \t|\n",
      "|  [Callback]ModelCheckpoint{'monitor': 'val_loss', 'mode': 'min', 'every_n_train_steps': 0, 'every_n_epochs': 1, 'train_time_interval': None}.on_test_batch_end  \t|  1.6806e-06     \t|  16             \t|  2.6889e-05     \t|  0.0013029      \t|\n",
      "|  [LightningModule]MonetDense.on_test_batch_end                                                                                                                  \t|  1.6134e-06     \t|  16             \t|  2.5815e-05     \t|  0.0012508      \t|\n",
      "|  [LightningModule]MonetDense.on_after_batch_transfer                                                                                                            \t|  1.5418e-06     \t|  16             \t|  2.4669e-05     \t|  0.0011953      \t|\n",
      "|  [Callback]ModelCheckpoint{'monitor': 'val_loss', 'mode': 'min', 'every_n_train_steps': 0, 'every_n_epochs': 1, 'train_time_interval': None}.on_test_batch_start\t|  1.2948e-06     \t|  16             \t|  2.0717e-05     \t|  0.0010038      \t|\n",
      "|  [LightningModule]MonetDense.on_test_batch_start                                                                                                                \t|  1.155e-06      \t|  16             \t|  1.848e-05      \t|  0.00089541     \t|\n",
      "|  [Callback]ModelSummary.on_test_start                                                                                                                           \t|  1.7544e-05     \t|  1              \t|  1.7544e-05     \t|  0.00085006     \t|\n",
      "|  [Callback]TQDMProgressBar.setup                                                                                                                                \t|  1.2031e-05     \t|  1              \t|  1.2031e-05     \t|  0.00058294     \t|\n",
      "|  [Strategy]SingleDeviceStrategy.on_test_start                                                                                                                   \t|  1.1336e-05     \t|  1              \t|  1.1336e-05     \t|  0.00054926     \t|\n",
      "|  [LightningModule]MonetDense.on_test_epoch_start                                                                                                                \t|  7.79e-06       \t|  1              \t|  7.79e-06       \t|  0.00037745     \t|\n",
      "|  [Callback]TQDMProgressBar.on_test_epoch_end                                                                                                                    \t|  7.467e-06      \t|  1              \t|  7.467e-06      \t|  0.0003618      \t|\n",
      "|  [LightningModule]MonetDense.on_test_epoch_end                                                                                                                  \t|  5.878e-06      \t|  1              \t|  5.878e-06      \t|  0.00028481     \t|\n",
      "|  [Callback]TQDMProgressBar.teardown                                                                                                                             \t|  4.954e-06      \t|  1              \t|  4.954e-06      \t|  0.00024004     \t|\n",
      "|  [Callback]ModelCheckpoint{'monitor': 'val_loss', 'mode': 'min', 'every_n_train_steps': 0, 'every_n_epochs': 1, 'train_time_interval': None}.on_test_start      \t|  3.684e-06      \t|  1              \t|  3.684e-06      \t|  0.0001785      \t|\n",
      "|  [Callback]TQDMProgressBar.on_test_epoch_start                                                                                                                  \t|  3.56e-06       \t|  1              \t|  3.56e-06       \t|  0.00017249     \t|\n",
      "|  [Callback]ModelSummary.on_test_epoch_start                                                                                                                     \t|  3.332e-06      \t|  1              \t|  3.332e-06      \t|  0.00016145     \t|\n",
      "|  [LightningModule]MonetDense.configure_callbacks                                                                                                                \t|  3.204e-06      \t|  1              \t|  3.204e-06      \t|  0.00015524     \t|\n",
      "|  [Callback]ModelCheckpoint{'monitor': 'val_loss', 'mode': 'min', 'every_n_train_steps': 0, 'every_n_epochs': 1, 'train_time_interval': None}.on_test_epoch_start\t|  2.749e-06      \t|  1              \t|  2.749e-06      \t|  0.0001332      \t|\n",
      "|  [Callback]ModelSummary.setup                                                                                                                                   \t|  2.714e-06      \t|  1              \t|  2.714e-06      \t|  0.0001315      \t|\n",
      "|  [LightningModule]MonetDense.setup                                                                                                                              \t|  2.658e-06      \t|  1              \t|  2.658e-06      \t|  0.00012879     \t|\n",
      "|  [Callback]ModelSummary.on_test_end                                                                                                                             \t|  2.49e-06       \t|  1              \t|  2.49e-06       \t|  0.00012065     \t|\n",
      "|  [Strategy]SingleDeviceStrategy.on_test_end                                                                                                                     \t|  2.426e-06      \t|  1              \t|  2.426e-06      \t|  0.00011755     \t|\n",
      "|  [LightningModule]MonetDense.on_test_start                                                                                                                      \t|  2.387e-06      \t|  1              \t|  2.387e-06      \t|  0.00011566     \t|\n",
      "|  [Callback]ModelSummary.teardown                                                                                                                                \t|  1.965e-06      \t|  1              \t|  1.965e-06      \t|  9.521e-05      \t|\n",
      "|  [Callback]ModelCheckpoint{'monitor': 'val_loss', 'mode': 'min', 'every_n_train_steps': 0, 'every_n_epochs': 1, 'train_time_interval': None}.teardown           \t|  1.626e-06      \t|  1              \t|  1.626e-06      \t|  7.8785e-05     \t|\n",
      "|  [LightningModule]MonetDense.teardown                                                                                                                           \t|  1.617e-06      \t|  1              \t|  1.617e-06      \t|  7.8349e-05     \t|\n",
      "|  [Callback]ModelCheckpoint{'monitor': 'val_loss', 'mode': 'min', 'every_n_train_steps': 0, 'every_n_epochs': 1, 'train_time_interval': None}.on_test_end        \t|  1.36e-06       \t|  1              \t|  1.36e-06       \t|  6.5896e-05     \t|\n",
      "|  [Callback]ModelSummary.on_test_epoch_end                                                                                                                       \t|  1.354e-06      \t|  1              \t|  1.354e-06      \t|  6.5605e-05     \t|\n",
      "|  [Callback]ModelCheckpoint{'monitor': 'val_loss', 'mode': 'min', 'every_n_train_steps': 0, 'every_n_epochs': 1, 'train_time_interval': None}.on_test_epoch_end  \t|  1.125e-06      \t|  1              \t|  1.125e-06      \t|  5.451e-05      \t|\n",
      "|  [LightningModule]MonetDense.on_test_end                                                                                                                        \t|  1.048e-06      \t|  1              \t|  1.048e-06      \t|  5.0779e-05     \t|\n",
      "--------------------------------------------------------------------------------------------------------------------------------------------------------------------------------------------------------------------------------------------------------------------------\n",
      "\n"
     ]
    },
    {
     "name": "stdout",
     "output_type": "stream",
     "text": [
      "MonetDense__[512, 512, 512]__10__30__POLAR_AND_DEGREE__Adam__NUM_SPLITS=3\n",
      "There are 64 graph splits for the Xenium Dataset.\n"
     ]
    },
    {
     "name": "stderr",
     "output_type": "stream",
     "text": [
      "GPU available: True (cuda), used: True\n",
      "TPU available: False, using: 0 TPU cores\n",
      "HPU available: False, using: 0 HPUs\n",
      "`Trainer(limit_train_batches=1.0)` was configured so 100% of the batches per epoch will be used..\n",
      "`Trainer(limit_val_batches=1.0)` was configured so 100% of the batches will be used..\n",
      "LOCAL_RANK: 0 - CUDA_VISIBLE_DEVICES: [7]\n"
     ]
    },
    {
     "name": "stdout",
     "output_type": "stream",
     "text": [
      "The number of parameters for radius 30 is 7817172\n"
     ]
    },
    {
     "data": {
      "application/vnd.jupyter.widget-view+json": {
       "model_id": "256e62b8887e418c98b872c1e73680a9",
       "version_major": 2,
       "version_minor": 0
      },
      "text/plain": [
       "Testing: |          | 0/? [00:00<?, ?it/s]"
      ]
     },
     "metadata": {},
     "output_type": "display_data"
    },
    {
     "data": {
      "text/html": [
       "<pre style=\"white-space:pre;overflow-x:auto;line-height:normal;font-family:Menlo,'DejaVu Sans Mono',consolas,'Courier New',monospace\">┏━━━━━━━━━━━━━━━━━━━━━━━━━━━┳━━━━━━━━━━━━━━━━━━━━━━━━━━━┓\n",
       "┃<span style=\"font-weight: bold\">        Test metric        </span>┃<span style=\"font-weight: bold\">       DataLoader 0        </span>┃\n",
       "┡━━━━━━━━━━━━━━━━━━━━━━━━━━━╇━━━━━━━━━━━━━━━━━━━━━━━━━━━┩\n",
       "│<span style=\"color: #008080; text-decoration-color: #008080\">         test_loss         </span>│<span style=\"color: #800080; text-decoration-color: #800080\">    0.16553328931331635    </span>│\n",
       "└───────────────────────────┴───────────────────────────┘\n",
       "</pre>\n"
      ],
      "text/plain": [
       "┏━━━━━━━━━━━━━━━━━━━━━━━━━━━┳━━━━━━━━━━━━━━━━━━━━━━━━━━━┓\n",
       "┃\u001b[1m \u001b[0m\u001b[1m       Test metric       \u001b[0m\u001b[1m \u001b[0m┃\u001b[1m \u001b[0m\u001b[1m      DataLoader 0       \u001b[0m\u001b[1m \u001b[0m┃\n",
       "┡━━━━━━━━━━━━━━━━━━━━━━━━━━━╇━━━━━━━━━━━━━━━━━━━━━━━━━━━┩\n",
       "│\u001b[36m \u001b[0m\u001b[36m        test_loss        \u001b[0m\u001b[36m \u001b[0m│\u001b[35m \u001b[0m\u001b[35m   0.16553328931331635   \u001b[0m\u001b[35m \u001b[0m│\n",
       "└───────────────────────────┴───────────────────────────┘\n"
      ]
     },
     "metadata": {},
     "output_type": "display_data"
    },
    {
     "name": "stderr",
     "output_type": "stream",
     "text": [
      "TEST Profiler Report\n",
      "\n",
      "--------------------------------------------------------------------------------------------------------------------------------------------------------------------------------------------------------------------------------------------------------------------------\n",
      "|  Action                                                                                                                                                         \t|  Mean duration (s)\t|  Num calls      \t|  Total time (s) \t|  Percentage %   \t|\n",
      "--------------------------------------------------------------------------------------------------------------------------------------------------------------------------------------------------------------------------------------------------------------------------\n",
      "|  Total                                                                                                                                                          \t|  -              \t|  252            \t|  2.3282         \t|  100 %          \t|\n",
      "--------------------------------------------------------------------------------------------------------------------------------------------------------------------------------------------------------------------------------------------------------------------------\n",
      "|  [Strategy]SingleDeviceStrategy.test_step                                                                                                                       \t|  0.099512       \t|  16             \t|  1.5922         \t|  68.388         \t|\n",
      "|  [_EvaluationLoop].test_next                                                                                                                                    \t|  0.0047542      \t|  16             \t|  0.076068       \t|  3.2673         \t|\n",
      "|  [Strategy]SingleDeviceStrategy.batch_to_device                                                                                                                 \t|  0.0019274      \t|  16             \t|  0.030838       \t|  1.3245         \t|\n",
      "|  [LightningModule]MonetDense.transfer_batch_to_device                                                                                                           \t|  0.0018664      \t|  16             \t|  0.029862       \t|  1.2826         \t|\n",
      "|  [Callback]TQDMProgressBar.on_test_start                                                                                                                        \t|  0.018531       \t|  1              \t|  0.018531       \t|  0.79595        \t|\n",
      "|  [Callback]TQDMProgressBar.on_test_batch_end                                                                                                                    \t|  0.00084393     \t|  16             \t|  0.013503       \t|  0.57998        \t|\n",
      "|  [Callback]TQDMProgressBar.on_test_batch_start                                                                                                                  \t|  8.3487e-05     \t|  16             \t|  0.0013358      \t|  0.057375       \t|\n",
      "|  [Callback]TQDMProgressBar.on_test_end                                                                                                                          \t|  0.00052646     \t|  1              \t|  0.00052646     \t|  0.022613       \t|\n",
      "|  [LightningModule]MonetDense.on_test_model_eval                                                                                                                 \t|  0.00035786     \t|  1              \t|  0.00035786     \t|  0.015371       \t|\n",
      "|  [Callback]ModelSummary.on_test_batch_end                                                                                                                       \t|  4.9171e-06     \t|  16             \t|  7.8674e-05     \t|  0.0033792      \t|\n",
      "|  [Callback]ModelCheckpoint{'monitor': 'val_loss', 'mode': 'min', 'every_n_train_steps': 0, 'every_n_epochs': 1, 'train_time_interval': None}.setup              \t|  7.3653e-05     \t|  1              \t|  7.3653e-05     \t|  0.0031635      \t|\n",
      "|  [Callback]ModelSummary.on_test_batch_start                                                                                                                     \t|  3.47e-06       \t|  16             \t|  5.552e-05      \t|  0.0023847      \t|\n",
      "|  [LightningModule]MonetDense.on_before_batch_transfer                                                                                                           \t|  2.3063e-06     \t|  16             \t|  3.69e-05       \t|  0.0015849      \t|\n",
      "|  [LightningModule]MonetDense.on_test_batch_end                                                                                                                  \t|  1.8965e-06     \t|  16             \t|  3.0344e-05     \t|  0.0013033      \t|\n",
      "|  [Callback]ModelCheckpoint{'monitor': 'val_loss', 'mode': 'min', 'every_n_train_steps': 0, 'every_n_epochs': 1, 'train_time_interval': None}.on_test_batch_end  \t|  1.6268e-06     \t|  16             \t|  2.6029e-05     \t|  0.001118       \t|\n",
      "|  [LightningModule]MonetDense.on_after_batch_transfer                                                                                                            \t|  1.5383e-06     \t|  16             \t|  2.4613e-05     \t|  0.0010572      \t|\n",
      "|  [Callback]ModelCheckpoint{'monitor': 'val_loss', 'mode': 'min', 'every_n_train_steps': 0, 'every_n_epochs': 1, 'train_time_interval': None}.on_test_batch_start\t|  1.2748e-06     \t|  16             \t|  2.0396e-05     \t|  0.00087605     \t|\n",
      "|  [LightningModule]MonetDense.on_test_batch_start                                                                                                                \t|  1.1544e-06     \t|  16             \t|  1.847e-05      \t|  0.00079333     \t|\n",
      "|  [Callback]ModelSummary.on_test_start                                                                                                                           \t|  1.0761e-05     \t|  1              \t|  1.0761e-05     \t|  0.00046221     \t|\n",
      "|  [Callback]TQDMProgressBar.on_test_epoch_end                                                                                                                    \t|  8.643e-06      \t|  1              \t|  8.643e-06      \t|  0.00037123     \t|\n",
      "|  [Callback]TQDMProgressBar.setup                                                                                                                                \t|  8.255e-06      \t|  1              \t|  8.255e-06      \t|  0.00035457     \t|\n",
      "|  [Strategy]SingleDeviceStrategy.on_test_start                                                                                                                   \t|  6.082e-06      \t|  1              \t|  6.082e-06      \t|  0.00026123     \t|\n",
      "|  [Callback]TQDMProgressBar.teardown                                                                                                                             \t|  4.735e-06      \t|  1              \t|  4.735e-06      \t|  0.00020338     \t|\n",
      "|  [LightningModule]MonetDense.on_test_epoch_end                                                                                                                  \t|  4.556e-06      \t|  1              \t|  4.556e-06      \t|  0.00019569     \t|\n",
      "|  [LightningModule]MonetDense.on_test_epoch_start                                                                                                                \t|  4.267e-06      \t|  1              \t|  4.267e-06      \t|  0.00018328     \t|\n",
      "|  [LightningModule]MonetDense.configure_callbacks                                                                                                                \t|  3.014e-06      \t|  1              \t|  3.014e-06      \t|  0.00012946     \t|\n",
      "|  [Callback]ModelSummary.on_test_end                                                                                                                             \t|  2.481e-06      \t|  1              \t|  2.481e-06      \t|  0.00010656     \t|\n",
      "|  [Callback]ModelSummary.setup                                                                                                                                   \t|  1.868e-06      \t|  1              \t|  1.868e-06      \t|  8.0234e-05     \t|\n",
      "|  [LightningModule]MonetDense.teardown                                                                                                                           \t|  1.736e-06      \t|  1              \t|  1.736e-06      \t|  7.4565e-05     \t|\n",
      "|  [Callback]TQDMProgressBar.on_test_epoch_start                                                                                                                  \t|  1.647e-06      \t|  1              \t|  1.647e-06      \t|  7.0742e-05     \t|\n",
      "|  [Callback]ModelSummary.teardown                                                                                                                                \t|  1.613e-06      \t|  1              \t|  1.613e-06      \t|  6.9282e-05     \t|\n",
      "|  [Callback]ModelCheckpoint{'monitor': 'val_loss', 'mode': 'min', 'every_n_train_steps': 0, 'every_n_epochs': 1, 'train_time_interval': None}.teardown           \t|  1.582e-06      \t|  1              \t|  1.582e-06      \t|  6.795e-05      \t|\n",
      "|  [LightningModule]MonetDense.setup                                                                                                                              \t|  1.578e-06      \t|  1              \t|  1.578e-06      \t|  6.7778e-05     \t|\n",
      "|  [Callback]ModelCheckpoint{'monitor': 'val_loss', 'mode': 'min', 'every_n_train_steps': 0, 'every_n_epochs': 1, 'train_time_interval': None}.on_test_start      \t|  1.485e-06      \t|  1              \t|  1.485e-06      \t|  6.3784e-05     \t|\n",
      "|  [LightningModule]MonetDense.on_test_start                                                                                                                      \t|  1.463e-06      \t|  1              \t|  1.463e-06      \t|  6.2839e-05     \t|\n",
      "|  [Callback]ModelSummary.on_test_epoch_end                                                                                                                       \t|  1.41e-06       \t|  1              \t|  1.41e-06       \t|  6.0562e-05     \t|\n",
      "|  [Strategy]SingleDeviceStrategy.on_test_end                                                                                                                     \t|  1.277e-06      \t|  1              \t|  1.277e-06      \t|  5.485e-05      \t|\n",
      "|  [Callback]ModelCheckpoint{'monitor': 'val_loss', 'mode': 'min', 'every_n_train_steps': 0, 'every_n_epochs': 1, 'train_time_interval': None}.on_test_end        \t|  1.182e-06      \t|  1              \t|  1.182e-06      \t|  5.0769e-05     \t|\n",
      "|  [Callback]ModelCheckpoint{'monitor': 'val_loss', 'mode': 'min', 'every_n_train_steps': 0, 'every_n_epochs': 1, 'train_time_interval': None}.on_test_epoch_start\t|  1.128e-06      \t|  1              \t|  1.128e-06      \t|  4.845e-05      \t|\n",
      "|  [LightningModule]MonetDense.on_test_end                                                                                                                        \t|  1.117e-06      \t|  1              \t|  1.117e-06      \t|  4.7978e-05     \t|\n",
      "|  [Callback]ModelSummary.on_test_epoch_start                                                                                                                     \t|  1.101e-06      \t|  1              \t|  1.101e-06      \t|  4.729e-05      \t|\n",
      "|  [Callback]ModelCheckpoint{'monitor': 'val_loss', 'mode': 'min', 'every_n_train_steps': 0, 'every_n_epochs': 1, 'train_time_interval': None}.on_test_epoch_end  \t|  1.086e-06      \t|  1              \t|  1.086e-06      \t|  4.6646e-05     \t|\n",
      "--------------------------------------------------------------------------------------------------------------------------------------------------------------------------------------------------------------------------------------------------------------------------\n",
      "\n"
     ]
    },
    {
     "name": "stdout",
     "output_type": "stream",
     "text": [
      "MonetDense__[512, 512, 512]__10__15__POLAR_AND_DEGREE__Adam__NUM_SPLITS=3\n",
      "There are 64 graph splits for the Xenium Dataset.\n"
     ]
    },
    {
     "name": "stderr",
     "output_type": "stream",
     "text": [
      "GPU available: True (cuda), used: True\n",
      "TPU available: False, using: 0 TPU cores\n",
      "HPU available: False, using: 0 HPUs\n",
      "`Trainer(limit_train_batches=1.0)` was configured so 100% of the batches per epoch will be used..\n",
      "`Trainer(limit_val_batches=1.0)` was configured so 100% of the batches will be used..\n",
      "LOCAL_RANK: 0 - CUDA_VISIBLE_DEVICES: [7]\n"
     ]
    },
    {
     "name": "stdout",
     "output_type": "stream",
     "text": [
      "The number of parameters for radius 15 is 7817172\n"
     ]
    },
    {
     "data": {
      "application/vnd.jupyter.widget-view+json": {
       "model_id": "071eaee36545482daa525f085a6d48c5",
       "version_major": 2,
       "version_minor": 0
      },
      "text/plain": [
       "Testing: |          | 0/? [00:00<?, ?it/s]"
      ]
     },
     "metadata": {},
     "output_type": "display_data"
    },
    {
     "data": {
      "text/html": [
       "<pre style=\"white-space:pre;overflow-x:auto;line-height:normal;font-family:Menlo,'DejaVu Sans Mono',consolas,'Courier New',monospace\">┏━━━━━━━━━━━━━━━━━━━━━━━━━━━┳━━━━━━━━━━━━━━━━━━━━━━━━━━━┓\n",
       "┃<span style=\"font-weight: bold\">        Test metric        </span>┃<span style=\"font-weight: bold\">       DataLoader 0        </span>┃\n",
       "┡━━━━━━━━━━━━━━━━━━━━━━━━━━━╇━━━━━━━━━━━━━━━━━━━━━━━━━━━┩\n",
       "│<span style=\"color: #008080; text-decoration-color: #008080\">         test_loss         </span>│<span style=\"color: #800080; text-decoration-color: #800080\">    0.17384971678256989    </span>│\n",
       "└───────────────────────────┴───────────────────────────┘\n",
       "</pre>\n"
      ],
      "text/plain": [
       "┏━━━━━━━━━━━━━━━━━━━━━━━━━━━┳━━━━━━━━━━━━━━━━━━━━━━━━━━━┓\n",
       "┃\u001b[1m \u001b[0m\u001b[1m       Test metric       \u001b[0m\u001b[1m \u001b[0m┃\u001b[1m \u001b[0m\u001b[1m      DataLoader 0       \u001b[0m\u001b[1m \u001b[0m┃\n",
       "┡━━━━━━━━━━━━━━━━━━━━━━━━━━━╇━━━━━━━━━━━━━━━━━━━━━━━━━━━┩\n",
       "│\u001b[36m \u001b[0m\u001b[36m        test_loss        \u001b[0m\u001b[36m \u001b[0m│\u001b[35m \u001b[0m\u001b[35m   0.17384971678256989   \u001b[0m\u001b[35m \u001b[0m│\n",
       "└───────────────────────────┴───────────────────────────┘\n"
      ]
     },
     "metadata": {},
     "output_type": "display_data"
    },
    {
     "name": "stderr",
     "output_type": "stream",
     "text": [
      "TEST Profiler Report\n",
      "\n",
      "--------------------------------------------------------------------------------------------------------------------------------------------------------------------------------------------------------------------------------------------------------------------------\n",
      "|  Action                                                                                                                                                         \t|  Mean duration (s)\t|  Num calls      \t|  Total time (s) \t|  Percentage %   \t|\n",
      "--------------------------------------------------------------------------------------------------------------------------------------------------------------------------------------------------------------------------------------------------------------------------\n",
      "|  Total                                                                                                                                                          \t|  -              \t|  252            \t|  1.4706         \t|  100 %          \t|\n",
      "--------------------------------------------------------------------------------------------------------------------------------------------------------------------------------------------------------------------------------------------------------------------------\n",
      "|  [Strategy]SingleDeviceStrategy.test_step                                                                                                                       \t|  0.049834       \t|  16             \t|  0.79735        \t|  54.22          \t|\n",
      "|  [_EvaluationLoop].test_next                                                                                                                                    \t|  0.0043794      \t|  16             \t|  0.07007        \t|  4.7648         \t|\n",
      "|  [Strategy]SingleDeviceStrategy.batch_to_device                                                                                                                 \t|  0.0018357      \t|  16             \t|  0.029372       \t|  1.9973         \t|\n",
      "|  [LightningModule]MonetDense.transfer_batch_to_device                                                                                                           \t|  0.0017775      \t|  16             \t|  0.02844        \t|  1.9339         \t|\n",
      "|  [Callback]TQDMProgressBar.on_test_start                                                                                                                        \t|  0.022288       \t|  1              \t|  0.022288       \t|  1.5156         \t|\n",
      "|  [Callback]TQDMProgressBar.on_test_batch_end                                                                                                                    \t|  0.00080611     \t|  16             \t|  0.012898       \t|  0.87705        \t|\n",
      "|  [Callback]TQDMProgressBar.on_test_batch_start                                                                                                                  \t|  6.8105e-05     \t|  16             \t|  0.0010897      \t|  0.074098       \t|\n",
      "|  [Callback]TQDMProgressBar.on_test_end                                                                                                                          \t|  0.00059203     \t|  1              \t|  0.00059203     \t|  0.040258       \t|\n",
      "|  [LightningModule]MonetDense.on_test_model_eval                                                                                                                 \t|  0.00036071     \t|  1              \t|  0.00036071     \t|  0.024529       \t|\n",
      "|  [Callback]ModelCheckpoint{'monitor': 'val_loss', 'mode': 'min', 'every_n_train_steps': 0, 'every_n_epochs': 1, 'train_time_interval': None}.setup              \t|  0.00017036     \t|  1              \t|  0.00017036     \t|  0.011584       \t|\n",
      "|  [Callback]ModelSummary.on_test_batch_end                                                                                                                       \t|  4.0908e-06     \t|  16             \t|  6.5453e-05     \t|  0.0044508      \t|\n",
      "|  [LightningModule]MonetDense.on_before_batch_transfer                                                                                                           \t|  2.0929e-06     \t|  16             \t|  3.3486e-05     \t|  0.002277       \t|\n",
      "|  [LightningModule]MonetDense.on_test_batch_end                                                                                                                  \t|  1.9039e-06     \t|  16             \t|  3.0462e-05     \t|  0.0020714      \t|\n",
      "|  [Callback]ModelSummary.on_test_batch_start                                                                                                                     \t|  1.7019e-06     \t|  16             \t|  2.723e-05      \t|  0.0018516      \t|\n",
      "|  [Callback]TQDMProgressBar.on_test_epoch_end                                                                                                                    \t|  2.5463e-05     \t|  1              \t|  2.5463e-05     \t|  0.0017315      \t|\n",
      "|  [Callback]ModelCheckpoint{'monitor': 'val_loss', 'mode': 'min', 'every_n_train_steps': 0, 'every_n_epochs': 1, 'train_time_interval': None}.on_test_batch_end  \t|  1.5095e-06     \t|  16             \t|  2.4152e-05     \t|  0.0016423      \t|\n",
      "|  [LightningModule]MonetDense.on_after_batch_transfer                                                                                                            \t|  1.4539e-06     \t|  16             \t|  2.3263e-05     \t|  0.0015819      \t|\n",
      "|  [Callback]ModelCheckpoint{'monitor': 'val_loss', 'mode': 'min', 'every_n_train_steps': 0, 'every_n_epochs': 1, 'train_time_interval': None}.on_test_batch_start\t|  1.1429e-06     \t|  16             \t|  1.8287e-05     \t|  0.0012435      \t|\n",
      "|  [LightningModule]MonetDense.on_test_batch_start                                                                                                                \t|  1.1011e-06     \t|  16             \t|  1.7618e-05     \t|  0.001198       \t|\n",
      "|  [Callback]ModelSummary.on_test_start                                                                                                                           \t|  1.1562e-05     \t|  1              \t|  1.1562e-05     \t|  0.00078622     \t|\n",
      "|  [LightningModule]MonetDense.configure_callbacks                                                                                                                \t|  9.88e-06       \t|  1              \t|  9.88e-06       \t|  0.00067184     \t|\n",
      "|  [Callback]TQDMProgressBar.setup                                                                                                                                \t|  9.834e-06      \t|  1              \t|  9.834e-06      \t|  0.00066871     \t|\n",
      "|  [Strategy]SingleDeviceStrategy.on_test_start                                                                                                                   \t|  8.656e-06      \t|  1              \t|  8.656e-06      \t|  0.00058861     \t|\n",
      "|  [LightningModule]MonetDense.on_test_epoch_end                                                                                                                  \t|  6.617e-06      \t|  1              \t|  6.617e-06      \t|  0.00044996     \t|\n",
      "|  [Callback]TQDMProgressBar.teardown                                                                                                                             \t|  5.056e-06      \t|  1              \t|  5.056e-06      \t|  0.00034381     \t|\n",
      "|  [LightningModule]MonetDense.on_test_epoch_start                                                                                                                \t|  4.716e-06      \t|  1              \t|  4.716e-06      \t|  0.00032069     \t|\n",
      "|  [Callback]ModelSummary.on_test_end                                                                                                                             \t|  2.67e-06       \t|  1              \t|  2.67e-06       \t|  0.00018156     \t|\n",
      "|  [Callback]ModelSummary.setup                                                                                                                                   \t|  2.041e-06      \t|  1              \t|  2.041e-06      \t|  0.00013879     \t|\n",
      "|  [LightningModule]MonetDense.setup                                                                                                                              \t|  1.607e-06      \t|  1              \t|  1.607e-06      \t|  0.00010928     \t|\n",
      "|  [Callback]ModelCheckpoint{'monitor': 'val_loss', 'mode': 'min', 'every_n_train_steps': 0, 'every_n_epochs': 1, 'train_time_interval': None}.on_test_start      \t|  1.529e-06      \t|  1              \t|  1.529e-06      \t|  0.00010397     \t|\n",
      "|  [LightningModule]MonetDense.teardown                                                                                                                           \t|  1.521e-06      \t|  1              \t|  1.521e-06      \t|  0.00010343     \t|\n",
      "|  [Callback]TQDMProgressBar.on_test_epoch_start                                                                                                                  \t|  1.437e-06      \t|  1              \t|  1.437e-06      \t|  9.7716e-05     \t|\n",
      "|  [Callback]ModelSummary.teardown                                                                                                                                \t|  1.423e-06      \t|  1              \t|  1.423e-06      \t|  9.6764e-05     \t|\n",
      "|  [Callback]ModelSummary.on_test_epoch_end                                                                                                                       \t|  1.373e-06      \t|  1              \t|  1.373e-06      \t|  9.3364e-05     \t|\n",
      "|  [Callback]ModelCheckpoint{'monitor': 'val_loss', 'mode': 'min', 'every_n_train_steps': 0, 'every_n_epochs': 1, 'train_time_interval': None}.teardown           \t|  1.248e-06      \t|  1              \t|  1.248e-06      \t|  8.4864e-05     \t|\n",
      "|  [LightningModule]MonetDense.on_test_start                                                                                                                      \t|  1.245e-06      \t|  1              \t|  1.245e-06      \t|  8.466e-05      \t|\n",
      "|  [Callback]ModelCheckpoint{'monitor': 'val_loss', 'mode': 'min', 'every_n_train_steps': 0, 'every_n_epochs': 1, 'train_time_interval': None}.on_test_epoch_end  \t|  1.184e-06      \t|  1              \t|  1.184e-06      \t|  8.0512e-05     \t|\n",
      "|  [Callback]ModelCheckpoint{'monitor': 'val_loss', 'mode': 'min', 'every_n_train_steps': 0, 'every_n_epochs': 1, 'train_time_interval': None}.on_test_end        \t|  1.175e-06      \t|  1              \t|  1.175e-06      \t|  7.99e-05       \t|\n",
      "|  [LightningModule]MonetDense.on_test_end                                                                                                                        \t|  1.174e-06      \t|  1              \t|  1.174e-06      \t|  7.9832e-05     \t|\n",
      "|  [Strategy]SingleDeviceStrategy.on_test_end                                                                                                                     \t|  1.143e-06      \t|  1              \t|  1.143e-06      \t|  7.7724e-05     \t|\n",
      "|  [Callback]ModelCheckpoint{'monitor': 'val_loss', 'mode': 'min', 'every_n_train_steps': 0, 'every_n_epochs': 1, 'train_time_interval': None}.on_test_epoch_start\t|  1.055e-06      \t|  1              \t|  1.055e-06      \t|  7.174e-05      \t|\n",
      "|  [Callback]ModelSummary.on_test_epoch_start                                                                                                                     \t|  1.024e-06      \t|  1              \t|  1.024e-06      \t|  6.9632e-05     \t|\n",
      "--------------------------------------------------------------------------------------------------------------------------------------------------------------------------------------------------------------------------------------------------------------------------\n",
      "\n"
     ]
    }
   ],
   "source": [
    "test_loss_rad_dict = {}\n",
    "\n",
    "ckpt_dir = \"/nfs/turbo/lsa-regier/scratch/roko/output/lightning_logs/checkpoints/MonetDenseXenium\"\n",
    "\n",
    "# Iterate through all files in the directory\n",
    "for filename in os.listdir(ckpt_dir):\n",
    "    # Check if the file is a checkpoint file\n",
    "    if filename.endswith('.ckpt'):\n",
    "        model_name, hidden_layers, num_kernels, radius, run_name, optim, num_splits = filename.split(\"__\")\n",
    "        num_splits = num_splits.removesuffix(\".ckpt\")\n",
    "        num_splits = num_splits.removeprefix(\"NUM_SPLITS=\")\n",
    "        if \"[512, 512, 512]\" not in hidden_layers or \"POLAR_AND_DEGREE\" != run_name or int(radius) != 0 or int(num_kernels) != 10:\n",
    "            continue\n",
    "        with initialize(config_path=\"../config\"):\n",
    "            # try:\n",
    "                try:\n",
    "                    cfg_from_terminal = compose(config_name=\"configXenium\")\n",
    "                    OmegaConf.update(cfg_from_terminal, \"paths.data\", \"../data\")\n",
    "                    OmegaConf.update(cfg_from_terminal, \"paths.root\", \"/nfs/turbo/lsa-regier/scratch/roko\")\n",
    "                    OmegaConf.update(cfg_from_terminal, \"model.kwargs.kernel_size\", int(num_kernels))\n",
    "                    OmegaConf.update(cfg_from_terminal, \"model.kwargs.hidden_dimensions\", eval(hidden_layers))\n",
    "                    OmegaConf.update(cfg_from_terminal, \"training.logger_name\", run_name)\n",
    "                    OmegaConf.update(cfg_from_terminal, \"training.trainer.strategy\", \"auto\")\n",
    "                    OmegaConf.update(cfg_from_terminal, \"radius\", int(radius))\n",
    "                    OmegaConf.update(cfg_from_terminal, \"gpus\", [1])\n",
    "                    OmegaConf.update(cfg_from_terminal, \"datasets.dataset.splits\", int(num_splits))\n",
    "                    print(cfg_from_terminal.training.filepath)\n",
    "                    # Check if the key already exists in the dictionary\n",
    "                    if int(radius) in test_loss_rad_dict and int(num_kernels) in test_loss_rad_dict[int(radius)]:\n",
    "                        print(f\"Key ({int(radius)}, {int(num_kernels)}) already exists. Skipping test.\")\n",
    "                        continue\n",
    "                    output = test(cfg_from_terminal)\n",
    "                    trainer, l1_losses, inputs_BASE, gene_expressions_BASE, celltypes, test_results_BASE = output\n",
    "                    # Store the results over (radius, num_kernels) in a nested dict\n",
    "                    if int(radius) not in test_loss_rad_dict:\n",
    "                        test_loss_rad_dict[int(radius)] = {}\n",
    "                    test_loss_rad_dict[int(radius)][int(num_kernels)] = test_results_BASE[0]['test_loss']\n",
    "                except Exception as e:\n",
    "                    if \"CUDA out of memory\" in str(e):\n",
    "                        OmegaConf.update(cfg_from_terminal, \"training.filepath\", \"${model.name}__${model.kwargs.kernel_size}__${radius}__${training.logger_name}__${optimizer.name}__NUM_SPLITS=\" + str(num_splits))\n",
    "                        OmegaConf.update(cfg_from_terminal, \"datasets.dataset.splits\", 5)\n",
    "                        print(\"Increasing splits to 5 due to OOM error.\")\n",
    "                        output = test(cfg_from_terminal)\n",
    "                        trainer, l1_losses, inputs_BASE, gene_expressions_BASE, celltypes, test_results_BASE = output\n",
    "                        # Store the results over (radius, num_kernels) in a nested dict\n",
    "                        if int(radius) not in test_loss_rad_dict:\n",
    "                            test_loss_rad_dict[int(radius)] = {}\n",
    "                        test_loss_rad_dict[int(radius)][int(num_kernels)] = test_results_BASE[0]['test_loss']\n",
    "                    else:\n",
    "                        raise e\n"
   ]
  },
  {
   "cell_type": "code",
   "execution_count": null,
   "metadata": {},
   "outputs": [],
   "source": [
    "test_loss_rad_dict = {}\n",
    "\n",
    "ckpt_dir = \"/nfs/turbo/lsa-regier/scratch/roko/output/lightning_logs/checkpoints/MonetDenseXenium\"\n",
    "\n",
    "# Iterate through all files in the directory\n",
    "for filename in os.listdir(ckpt_dir):\n",
    "    # Check if the file is a checkpoint file\n",
    "    if filename.endswith('.ckpt'):\n",
    "        model_name, hidden_layers, num_kernels, radius, run_name, optim, num_splits = filename.split(\"__\")\n",
    "        num_splits = num_splits.removesuffix(\".ckpt\")\n",
    "        num_splits = num_splits.removeprefix(\"NUM_SPLITS=\")\n",
    "        if \"[512, 512, 512]\" not in hidden_layers or \"POLAR_AND_DEGREE\" != run_name or int(radius) != 30 or int(num_kernels) != 10:\n",
    "            continue\n",
    "        with initialize(config_path=\"../config\"):\n",
    "            # try:\n",
    "                try:\n",
    "                    cfg_from_terminal = compose(config_name=\"configXenium\")\n",
    "                    OmegaConf.update(cfg_from_terminal, \"paths.data\", \"../data\")\n",
    "                    OmegaConf.update(cfg_from_terminal, \"paths.root\", \"/nfs/turbo/lsa-regier/scratch/roko\")\n",
    "                    OmegaConf.update(cfg_from_terminal, \"model.kwargs.kernel_size\", int(num_kernels))\n",
    "                    OmegaConf.update(cfg_from_terminal, \"model.kwargs.hidden_dimensions\", eval(hidden_layers))\n",
    "                    OmegaConf.update(cfg_from_terminal, \"training.logger_name\", run_name)\n",
    "                    OmegaConf.update(cfg_from_terminal, \"training.trainer.strategy\", \"auto\")\n",
    "                    OmegaConf.update(cfg_from_terminal, \"radius\", int(radius))\n",
    "                    OmegaConf.update(cfg_from_terminal, \"gpus\", [0])\n",
    "                    OmegaConf.update(cfg_from_terminal, \"datasets.dataset.splits\", int(num_splits))\n",
    "                    print(cfg_from_terminal.training.filepath)\n",
    "                    # Check if the key already exists in the dictionary\n",
    "                    if int(radius) in test_loss_rad_dict and int(num_kernels) in test_loss_rad_dict[int(radius)]:\n",
    "                        print(f\"Key ({int(radius)}, {int(num_kernels)}) already exists. Skipping test.\")\n",
    "                        continue\n",
    "                    output = test(cfg_from_terminal)\n",
    "                    trainer, l1_losses, inputs_SPATIAL, gene_expressions_SPATIAL, celltypes, test_results_SPATIAL = output\n",
    "                    # Store the results over (radius, num_kernels) in a nested dict\n",
    "                    if int(radius) not in test_loss_rad_dict:\n",
    "                        test_loss_rad_dict[int(radius)] = {}\n",
    "                    test_loss_rad_dict[int(radius)][int(num_kernels)] = test_results_SPATIAL[0]['test_loss']\n",
    "                except Exception as e:\n",
    "                    if \"CUDA out of memory\" in str(e):\n",
    "                        OmegaConf.update(cfg_from_terminal, \"training.filepath\", \"${model.name}__${model.kwargs.kernel_size}__${radius}__${training.logger_name}__${optimizer.name}__NUM_SPLITS=\" + str(num_splits))\n",
    "                        OmegaConf.update(cfg_from_terminal, \"datasets.dataset.splits\", 5)\n",
    "                        print(\"Increasing splits to 5 due to OOM error.\")\n",
    "                        output = test(cfg_from_terminal)\n",
    "                        trainer, l1_losses, inputs_SPATIAL, gene_expressions_SPATIAL, celltypes, test_results_SPATIAL = output\n",
    "                        # Store the results over (radius, num_kernels) in a nested dict\n",
    "                        if int(radius) not in test_loss_rad_dict:\n",
    "                            test_loss_rad_dict[int(radius)] = {}\n",
    "                        test_loss_rad_dict[int(radius)][int(num_kernels)] = test_results_SPATIAL[0]['test_loss']\n",
    "                    else:\n",
    "                        raise e\n"
   ]
  },
  {
   "cell_type": "code",
   "execution_count": null,
   "metadata": {},
   "outputs": [],
   "source": [
    "NON_RESPONSE_FILE = \"../spatial/non_response_blank_removed_xenium.txt\"\n",
    "with open(NON_RESPONSE_FILE, \"r\", encoding=\"utf-8\") as f:\n",
    "    non_response_genes = f.read().split(',')\n",
    "\n",
    "non_response_genes = [int(x) for x in non_response_genes]\n",
    "\n",
    "xenium_df = pd.read_csv(\"../data/raw/xenium.csv\", index_col=\"cell_id\")\n",
    " \n",
    "location_names = [\"x_location\", \"y_location\", \"z_location\", \"qv\"]\n",
    "\n",
    "non_response_gene_names = xenium_df.columns[non_response_genes]\n",
    "# First, combine non_response_gene_names and location_names into a single list\n",
    "response_gene_names = xenium_df.columns[~xenium_df.columns.isin(non_response_gene_names | location_names)]\n",
    "combined_names = list(non_response_gene_names) + location_names\n",
    "# Then, use the ~ operator to get the indexes of columns that are not in the combined list\n",
    "response_gene_indexes = (~xenium_df.columns.isin(combined_names)).nonzero()[0]\n"
   ]
  },
  {
   "cell_type": "code",
   "execution_count": 4,
   "metadata": {},
   "outputs": [],
   "source": [
    "assert ','.join(xenium_df.columns[response_gene_indexes]) == ','.join(response_gene_names), \"Response genes don't line up\""
   ]
  },
  {
   "cell_type": "code",
   "execution_count": null,
   "metadata": {},
   "outputs": [],
   "source": [
    "rad = 30\n",
    "loss_dict = {rad: {}}\n",
    "for i, gene in enumerate(response_gene_names):\n",
    "    inputs_SPATIAL_responses = inputs_SPATIAL[:, response_gene_indexes]\n",
    "    loss_dict[rad][gene] = {\"base\": torch.mean( (inputs_SPATIAL_responses[:, i] - gene_expressions_BASE[:, i]) ** 2 ).item(), \"spatial\": torch.mean( (inputs_SPATIAL_responses[:, i] - gene_expressions_SPATIAL[:, i]) ** 2 ).item()}\n",
    "    loss_dict[rad][gene][\"diff\"] = loss_dict[rad][gene][\"spatial\"] - loss_dict[rad][gene][\"base\"]\n",
    "    loss_dict[rad][gene][\"percent_diff\"] = (loss_dict[rad][gene][\"diff\"]/loss_dict[rad][gene][\"base\"]) * 100.0\n",
    "    loss_dict[rad][gene][\"sparsity\"] = (inputs_SPATIAL_responses[:, i] == 0).float().mean()"
   ]
  },
  {
   "cell_type": "code",
   "execution_count": null,
   "metadata": {},
   "outputs": [],
   "source": [
    "import matplotlib.pyplot as plt\n",
    "import matplotlib as mpl\n",
    "import numpy as np\n",
    "\n",
    "# ICML-style font + layout with bold title and axes\n",
    "mpl.rcParams.update({\n",
    "    \"font.family\": \"serif\",\n",
    "    \"font.serif\": [\"Times New Roman\"],\n",
    "    \"axes.labelsize\": 14,\n",
    "    \"axes.titlesize\": 16,\n",
    "    \"xtick.labelsize\": 12,\n",
    "    \"ytick.labelsize\": 12,\n",
    "    \"legend.fontsize\": 12,\n",
    "    \"axes.linewidth\": 1.0,\n",
    "    \"figure.dpi\": 300  # High DPI for high-quality output\n",
    "})\n",
    "\n",
    "# Data prep\n",
    "percent_differences = np.array([-loss_dict[30][x][\"percent_diff\"] for x in loss_dict[30]])\n",
    "\n",
    "# Define bin edges\n",
    "bin_width = 1\n",
    "bins = np.arange(np.floor(percent_differences.min()), np.ceil(percent_differences.max()) + bin_width, bin_width)\n",
    "\n",
    "# Split bins <0 and >=0\n",
    "neg_values = percent_differences[percent_differences < 0]\n",
    "pos_values = percent_differences[percent_differences >= 0]\n",
    "\n",
    "# Plot\n",
    "fig, ax = plt.subplots(figsize=(8, 5.2))\n",
    "\n",
    "# Colorblind-safe colors\n",
    "color_neg = \"#0072B2\"  # blue\n",
    "color_pos = \"#E69F00\"  # orange\n",
    "\n",
    "# Histograms\n",
    "ax.hist(neg_values, bins=bins, color=color_neg, alpha=0.85, label=\"No Gain\")\n",
    "ax.hist(pos_values, bins=bins, color=color_pos, alpha=0.85, label=\"Spatial Gain\")\n",
    "\n",
    "# Vertical line at 0%\n",
    "ax.axvline(0, color='red', linestyle='--', linewidth=1.6, label=\"No Gain Threshold\")\n",
    "\n",
    "# Labels and legend\n",
    "ax.set_title(\"Percent Loss Reduction: Spatial vs Baseline\", pad=10, fontweight='bold')  # Bold title\n",
    "ax.set_xlabel(\"Percent Reduction in Test Loss\", labelpad=8, fontweight='bold')  # Bold x-axis label\n",
    "ax.set_ylabel(\"Number of Genes\", labelpad=8, fontweight='bold')  # Bold y-axis label\n",
    "ax.legend(loc=\"upper right\", frameon=False)  # Bold legend\n",
    "\n",
    "# Grid + layout\n",
    "ax.grid(True, linestyle='--', linewidth=0.5, alpha=0.5)\n",
    "fig.tight_layout(pad=1.2)\n",
    "\n",
    "# Optional save\n",
    "fig.savefig(\"xenium_spatial_vs_baseline.png\", bbox_inches='tight', dpi=300)  # High DPI for high-quality output\n",
    "\n",
    "plt.show()\n"
   ]
  },
  {
   "cell_type": "code",
   "execution_count": null,
   "metadata": {},
   "outputs": [],
   "source": [
    "# Rank genes based on their percent decrease and save in a dictionary\n",
    "# First, let's create a dictionary with gene names as keys and their percent differences as values\n",
    "gene_percent_diffs = {x: -loss_dict[30][x][\"percent_diff\"] for x in loss_dict[30]}\n",
    "\n",
    "# Now, let's sort the genes based on their percent differences in descending order (largest decrease first)\n",
    "sorted_genes = sorted(gene_percent_diffs, key=gene_percent_diffs.get, reverse=True)\n",
    "\n",
    "# Print the top 10 genes with the largest percent decrease\n",
    "print(\"Top 10 genes with the largest percent decrease:\")\n",
    "for gene in sorted_genes[:10]:\n",
    "    print(f\"{gene}: {gene_percent_diffs[gene]}% decrease\")\n"
   ]
  },
  {
   "cell_type": "code",
   "execution_count": null,
   "metadata": {},
   "outputs": [],
   "source": [
    "positive_decrease_genes = sum(1 for gene in gene_percent_diffs if gene_percent_diffs[gene] > 0)\n",
    "total_genes = len(gene_percent_diffs)\n",
    "percentage_positive_decrease = (positive_decrease_genes / total_genes) * 100\n",
    "\n",
    "print(f\"Percentage of genes with a positive decrease: {percentage_positive_decrease:.2f}%\")"
   ]
  },
  {
   "cell_type": "code",
   "execution_count": null,
   "metadata": {},
   "outputs": [],
   "source": [
    "# First, let's sort the genes based on their percent differences in descending order (largest decrease first)\n",
    "sorted_genes = sorted(loss_dict[30], key=lambda gene: -loss_dict[30][gene][\"percent_diff\"], reverse=True)\n",
    "\n",
    "# Now, iterate through each gene in the sorted order\n",
    "for gene in sorted_genes:\n",
    "    # Extract percent difference and sparsity for each gene\n",
    "    percent_diff = loss_dict[30][gene][\"percent_diff\"]\n",
    "    sparsity = loss_dict[30][gene][\"sparsity\"]\n",
    "    \n",
    "    # Print the gene name, percent difference, and sparsity in descending order of percent difference\n",
    "    print(f\"Gene Name: {gene}, Percent Difference: {percent_diff}%, Sparsity: {sparsity}\")\n"
   ]
  },
  {
   "cell_type": "code",
   "execution_count": null,
   "metadata": {},
   "outputs": [],
   "source": [
    "loss_dict"
   ]
  },
  {
   "cell_type": "code",
   "execution_count": null,
   "metadata": {},
   "outputs": [],
   "source": [
    "import matplotlib.pyplot as plt\n",
    "import seaborn as sns\n",
    "import numpy as np\n",
    "from scipy.stats import pearsonr\n",
    "\n",
    "# Extract percent differences and sparsity for each gene\n",
    "percent_diffs = np.array([-loss_dict[30][gene][\"percent_diff\"] for gene in sorted_genes])\n",
    "sparsities = np.array([loss_dict[30][gene][\"sparsity\"] for gene in sorted_genes])\n",
    "\n",
    "# Compute Pearson correlation\n",
    "corr, pval = pearsonr(percent_diffs, sparsities)\n",
    "\n",
    "# Create plot\n",
    "sns.set(style=\"whitegrid\", font_scale=1.2)\n",
    "fig, ax = plt.subplots(figsize=(5.5, 3.5))\n",
    "scatter = ax.scatter(percent_diffs, sparsities, alpha=0.6, edgecolor='k', linewidth=0.3, s=30)\n",
    "\n",
    "# Axis labels and title\n",
    "ax.set_title(\"Predictive Gain for Genes by Sparsity\", fontsize=12)\n",
    "ax.set_xlabel(\"Percent MSE Reduction from Spatial Information\", fontsize=11)\n",
    "ax.set_ylabel(\"Gene Sparsity\", fontsize=11)\n",
    "\n",
    "# Add horizontal line at y=0.5\n",
    "ax.axhline(y=0.5, color='r', linestyle='--')\n",
    "\n",
    "# Add caption for the horizontal line\n",
    "ax.text(10, 0.55, \">50% of Expression Reads are 0\", fontsize=10, color='r', verticalalignment='top')\n",
    "\n",
    "# Add correlation in a box\n",
    "bbox_props = dict(boxstyle=\"round,pad=0.3\", edgecolor='black', facecolor='white', alpha=0.8)\n",
    "ax.text(0.95, 0.95,\n",
    "        f\"Pearson r = {corr:.2f}\\np = {pval:.1e}\",\n",
    "        transform=ax.transAxes,\n",
    "        fontsize=10,\n",
    "        verticalalignment='top',\n",
    "        horizontalalignment='right',\n",
    "        bbox=bbox_props)\n",
    "\n",
    "plt.tight_layout()\n",
    "plt.savefig('sparsity_scatter_Xenium.png')\n",
    "plt.show()\n"
   ]
  },
  {
   "cell_type": "code",
   "execution_count": null,
   "metadata": {},
   "outputs": [],
   "source": [
    "test_loss_rad_dict = {}\n",
    "loss_dict = {}\n",
    "\n",
    "ckpt_dir = \"/nfs/turbo/lsa-regier/scratch/roko/output/lightning_logs/checkpoints/MonetDenseXenium\"\n",
    "\n",
    "# Iterate through all files in the directory\n",
    "for filename in os.listdir(ckpt_dir):\n",
    "    # Check if the file is a checkpoint file\n",
    "    if filename.endswith('.ckpt'):\n",
    "        model_name, hidden_layers, num_kernels, radius, run_name, optim, num_splits = filename.split(\"__\")\n",
    "        num_splits = num_splits.removesuffix(\".ckpt\")\n",
    "        num_splits = num_splits.removeprefix(\"NUM_SPLITS=\")\n",
    "        if \"[512, 512, 512]\" not in hidden_layers or \"POLAR_AND\" not in run_name or int(num_kernels) != 10:\n",
    "            continue\n",
    "        with initialize(config_path=\"../config\"):\n",
    "            # try:\n",
    "                try:\n",
    "                    cfg_from_terminal = compose(config_name=\"configXenium\")\n",
    "                    OmegaConf.update(cfg_from_terminal, \"paths.data\", \"../data\")\n",
    "                    OmegaConf.update(cfg_from_terminal, \"paths.root\", \"/nfs/turbo/lsa-regier/scratch/roko\")\n",
    "                    OmegaConf.update(cfg_from_terminal, \"model.kwargs.kernel_size\", int(num_kernels))\n",
    "                    OmegaConf.update(cfg_from_terminal, \"model.kwargs.hidden_dimensions\", eval(hidden_layers))\n",
    "                    OmegaConf.update(cfg_from_terminal, \"training.logger_name\", run_name)\n",
    "                    OmegaConf.update(cfg_from_terminal, \"training.trainer.strategy\", \"auto\")\n",
    "                    OmegaConf.update(cfg_from_terminal, \"radius\", int(radius))\n",
    "                    OmegaConf.update(cfg_from_terminal, \"gpus\", [1])\n",
    "                    OmegaConf.update(cfg_from_terminal, \"datasets.dataset.splits\", int(num_splits))\n",
    "                    print(cfg_from_terminal.training.filepath)\n",
    "                    # Check if the key already exists in the dictionary\n",
    "                    if int(radius) in test_loss_rad_dict:\n",
    "                        print(f\"Key ({int(radius)}, {int(num_kernels)}) already exists. Skipping test.\")\n",
    "                        continue\n",
    "                    output = test(cfg_from_terminal)\n",
    "                    trainer, l1_losses, inputs_SPATIAL, gene_expressions_SPATIAL, celltypes, test_results_SPATIAL = output\n",
    "                    # Store the results over (radius, num_kernels) in a nested dict\n",
    "                    if int(radius) not in test_loss_rad_dict:\n",
    "                        test_loss_rad_dict[int(radius)] = {}\n",
    "                    test_loss_rad_dict[int(radius)] = test_results_SPATIAL[0]['test_loss']\n",
    "                except Exception as e:\n",
    "                    if \"CUDA out of memory\" in str(e):\n",
    "                        OmegaConf.update(cfg_from_terminal, \"training.filepath\", \"${model.name}__${model.kwargs.kernel_size}__${radius}__${training.logger_name}__${optimizer.name}__NUM_SPLITS=\" + str(num_splits))\n",
    "                        OmegaConf.update(cfg_from_terminal, \"datasets.dataset.splits\", 5)\n",
    "                        print(\"Increasing splits to 5 due to OOM error.\")\n",
    "                        output = test(cfg_from_terminal)\n",
    "                        trainer, l1_losses, inputs_SPATIAL, gene_expressions_SPATIAL, celltypes, test_results_SPATIAL = output\n",
    "                        # Store the results over (radius, num_kernels) in a nested dict\n",
    "                        if int(radius) not in test_loss_rad_dict:\n",
    "                            test_loss_rad_dict[int(radius)] = {}\n",
    "                        test_loss_rad_dict[int(radius)] = test_results_SPATIAL[0]['test_loss']\n",
    "                    else:\n",
    "                        raise e\n",
    "    loss_dict[radius] = {}\n",
    "    for i, gene in enumerate(response_gene_names):\n",
    "        inputs_SPATIAL_responses = inputs_SPATIAL[:, response_gene_indexes]\n",
    "        loss_dict[radius][gene] = {\"base\": torch.mean( (inputs_SPATIAL_responses[:, i] - gene_expressions_BASE[:, i]) ** 2 ).item(), \"spatial\": torch.mean( (inputs_SPATIAL_responses[:, i] - gene_expressions_SPATIAL[:, i]) ** 2 ).item()}\n",
    "        loss_dict[radius][gene][\"diff\"] = loss_dict[radius][gene][\"spatial\"] - loss_dict[radius][gene][\"base\"]\n",
    "        loss_dict[radius][gene][\"percent_diff\"] = (loss_dict[radius][gene][\"diff\"]/loss_dict[radius][gene][\"base\"]) * 100.0\n"
   ]
  },
  {
   "cell_type": "code",
   "execution_count": null,
   "metadata": {},
   "outputs": [],
   "source": [
    "loss_dict"
   ]
  },
  {
   "cell_type": "code",
   "execution_count": null,
   "metadata": {},
   "outputs": [],
   "source": [
    "import numpy as np\n",
    "import matplotlib.pyplot as plt\n",
    "import json\n",
    "\n",
    "\n",
    "plt.style.use('default')\n",
    "\n",
    "# Assuming these variables are defined elsewhere in your code\n",
    "# radius_values, genes, data, response_indexes\n",
    "\n",
    "fig, axes = plt.subplots(2, 3, figsize=(24, 28))\n",
    "\n",
    "quarter = 0\n",
    "\n",
    "# Initialize an empty array to store the full loss data\n",
    "full_loss_array = np.array([])\n",
    "\n",
    "for ax in axes.ravel():\n",
    "    \n",
    "    quarter += 1\n",
    "    radius_values = list(range(0, 31, 5))\n",
    "    n = len(response_gene_indexes)\n",
    "    genes = response_gene_names[n * (quarter - 1) // 6 : n * quarter // 6]\n",
    "    \n",
    "    # Initialize an empty array to store the loss data for the current quarter\n",
    "    loss_array = np.array([])\n",
    "    \n",
    "    # Loop through each gene and radius to build the loss array\n",
    "    for gene in genes:\n",
    "        for rad in radius_values:\n",
    "            # Extract the percent difference for the current gene and radius\n",
    "            percent_diff = loss_dict[str(rad)][gene][\"percent_diff\"]\n",
    "            # Append the negative of the percent difference to the loss array\n",
    "            loss_array = np.append(loss_array, -percent_diff)\n",
    "    \n",
    "    # Reshape the loss array to match the dimensions of the genes and radius values\n",
    "    loss_array = loss_array.reshape(len(genes), len(radius_values))\n",
    "    \n",
    "    # If this is the first quarter, initialize the full_loss_array\n",
    "    if full_loss_array.size == 0:\n",
    "        full_loss_array = loss_array.T\n",
    "    else:\n",
    "        # Append the current loss array to the full loss array\n",
    "        full_loss_array = np.append(full_loss_array, loss_array.T, axis=1)\n",
    "    \n",
    "    # Plotting the loss array\n",
    "    im = ax.imshow(loss_array, cmap='seismic', \n",
    "                   vmin=-np.max(np.abs(full_loss_array)), \n",
    "                   vmax=np.max(np.abs(full_loss_array)))\n",
    "    \n",
    "    # Adjusting the aspect ratio to make cells wider horizontally\n",
    "    ax.set_aspect(0.8)\n",
    "    \n",
    "    # Setting x-axis ticks and labels with a label size of 10\n",
    "    ax.set_xticks(np.arange(len(radius_values)))\n",
    "    ax.set_xticklabels(list(radius_values), fontsize=14)\n",
    "    \n",
    "    # Setting y-axis ticks and labels with a custom font dict\n",
    "    gene_font = {'fontsize': 14, 'fontweight': 'bold', 'color': 'navy'}  # Increased font size for gene names\n",
    "    ax.set_yticks(np.arange(len(genes)))\n",
    "    ax.set_yticklabels(genes, fontdict=gene_font)\n",
    "    \n",
    "    # Adjusting tick font sizes for both axes\n",
    "    ax.tick_params(axis='both', which='major')\n",
    "    plt.setp(ax.get_xticklabels(), rotation=45, ha=\"right\", rotation_mode=\"anchor\")\n",
    "    \n",
    "    # Dynamically adjusting text color and font weight based on cell value\n",
    "    for i in range(len(genes)):\n",
    "        for j in range(len(radius_values)):\n",
    "            text_color = 'red' if loss_array[i, j] < 0 else 'black'\n",
    "            # Making text bold if the loss is greater than 10 (adjust the condition as needed)\n",
    "            fontweight = 'bold' if loss_array[i, j] > 10 else 'normal'\n",
    "            ax.text(j, i, f\"{loss_array[i, j]:.2f}\",\n",
    "                    ha=\"center\", va=\"center\", color=text_color,\n",
    "                    fontsize=15, fontweight=fontweight)\n",
    "\n",
    "fig.tight_layout(w_pad=0.5)  # Adjusting the width padding to move columns closer together\n",
    "plt.savefig(\"spatial_vertical_full_Xenium.png\", dpi=200)\n",
    "plt.show()"
   ]
  },
  {
   "cell_type": "code",
   "execution_count": null,
   "metadata": {},
   "outputs": [],
   "source": []
  }
 ],
 "metadata": {
  "kernelspec": {
   "display_name": "spatial-G_n0JvVf-py3.10",
   "language": "python",
   "name": "python3"
  },
  "language_info": {
   "codemirror_mode": {
    "name": "ipython",
    "version": 3
   },
   "file_extension": ".py",
   "mimetype": "text/x-python",
   "name": "python",
   "nbconvert_exporter": "python",
   "pygments_lexer": "ipython3",
   "version": "3.10.12"
  }
 },
 "nbformat": 4,
 "nbformat_minor": 2
}
