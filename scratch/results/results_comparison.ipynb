{
 "cells": [
  {
   "cell_type": "code",
   "execution_count": 1,
   "id": "productive-provincial",
   "metadata": {},
   "outputs": [],
   "source": [
    "import pandas as pd"
   ]
  },
  {
   "cell_type": "code",
   "execution_count": 2,
   "id": "conservative-priest",
   "metadata": {},
   "outputs": [],
   "source": [
    "inputs = pd.read_csv('inputs.csv')\n",
    "deepST = pd.read_csv('deepST_outputs.csv')\n",
    "messi = pd.read_csv('messi_outputs.csv')"
   ]
  },
  {
   "cell_type": "code",
   "execution_count": 3,
   "id": "figured-london",
   "metadata": {},
   "outputs": [
    {
     "data": {
      "text/plain": [
       "True"
      ]
     },
     "execution_count": 3,
     "metadata": {},
     "output_type": "execute_result"
    }
   ],
   "source": [
    "inputs.shape == messi.shape"
   ]
  },
  {
   "cell_type": "code",
   "execution_count": 4,
   "id": "realistic-chorus",
   "metadata": {},
   "outputs": [
    {
     "data": {
      "text/plain": [
       "(2677, 84)"
      ]
     },
     "execution_count": 4,
     "metadata": {},
     "output_type": "execute_result"
    }
   ],
   "source": [
    "messi.shape"
   ]
  },
  {
   "cell_type": "markdown",
   "id": "moral-apparatus",
   "metadata": {},
   "source": [
    "This will eventually be removed."
   ]
  },
  {
   "cell_type": "code",
   "execution_count": 5,
   "id": "million-relay",
   "metadata": {},
   "outputs": [],
   "source": [
    "m,n = messi.shape"
   ]
  },
  {
   "cell_type": "code",
   "execution_count": 6,
   "id": "pediatric-friendship",
   "metadata": {},
   "outputs": [],
   "source": [
    "import numpy as np\n",
    "\n",
    "concatenation_list = []\n",
    "for i in range(n):\n",
    "    gene_lists = []\n",
    "    for data in [inputs, messi, deepST]:\n",
    "        if data is inputs:\n",
    "            gene_lists.append(data.iloc[:, i].rename(f\"Gene {i}/ Masked Inputs\"))\n",
    "        elif data is messi:\n",
    "            gene_lists.append(data.iloc[:, i].rename(f\"Gene {i}/ MESSI\"))\n",
    "        else:\n",
    "            gene_lists.append(data.iloc[:, i].rename(f\"Gene {i}/ deepST\"))\n",
    "    concatenation_list += (gene_lists + [pd.Series(data=[None]*m)])\n",
    "    \n",
    "dataset = pd.concat(concatenation_list, axis = 1)"
   ]
  },
  {
   "cell_type": "code",
   "execution_count": 7,
   "id": "interpreted-purchase",
   "metadata": {},
   "outputs": [],
   "source": [
    "dataset.to_csv('comparison.csv')"
   ]
  },
  {
   "cell_type": "code",
   "execution_count": null,
   "id": "fitting-habitat",
   "metadata": {},
   "outputs": [],
   "source": []
  }
 ],
 "metadata": {
  "kernelspec": {
   "display_name": "Python 3",
   "language": "python",
   "name": "python3"
  },
  "language_info": {
   "codemirror_mode": {
    "name": "ipython",
    "version": 3
   },
   "file_extension": ".py",
   "mimetype": "text/x-python",
   "name": "python",
   "nbconvert_exporter": "python",
   "pygments_lexer": "ipython3",
   "version": "3.8.10"
  }
 },
 "nbformat": 4,
 "nbformat_minor": 5
}
