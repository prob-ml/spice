{
 "cells": [
  {
   "cell_type": "markdown",
   "id": "7d5a0a00",
   "metadata": {},
   "source": [
    "# Workflow"
   ]
  },
  {
   "cell_type": "markdown",
   "id": "cb453cc3",
   "metadata": {},
   "source": [
    "OR Write a single script that starts with call to FilteredMerfishDataset, extract animals with that behavior and sex, and then run a CV."
   ]
  },
  {
   "cell_type": "code",
   "execution_count": 3,
   "id": "1a061577",
   "metadata": {},
   "outputs": [],
   "source": [
    "import pandas as pd\n",
    "import json\n",
    "import time\n",
    "\n",
    "import pytorch_lightning as pl\n",
    "from omegaconf import DictConfig, OmegaConf\n",
    "from pytorch_lightning.callbacks import ModelCheckpoint\n",
    "from pytorch_lightning.loggers import TensorBoardLogger\n",
    "from torch.utils.data import random_split\n",
    "from torch_geometric.data import DataLoader\n",
    "\n",
    "from spatial.merfish_dataset import FilteredMerfishDataset, MerfishDataset\n",
    "from spatial.models.monet_ae import MonetAutoencoder2D, TrivialAutoencoder\n",
    "from spatial.train import train\n",
    "from spatial.predict import test\n",
    "\n",
    "import torch\n",
    "\n",
    "import hydra\n",
    "from hydra.experimental import compose, initialize"
   ]
  },
  {
   "cell_type": "code",
   "execution_count": 4,
   "id": "c90ad5af",
   "metadata": {},
   "outputs": [
    {
     "name": "stderr",
     "output_type": "stream",
     "text": [
      "/home/roko/.cache/pypoetry/virtualenvs/spatial-G_n0JvVf-py3.8/lib/python3.8/site-packages/hydra/experimental/initialize.py:35: UserWarning: hydra.experimental.initialize() is no longer experimental. Use hydra.initialize()\n",
      "  deprecation_warning(\n",
      "/home/roko/.cache/pypoetry/virtualenvs/spatial-G_n0JvVf-py3.8/lib/python3.8/site-packages/hydra/experimental/compose.py:18: UserWarning: hydra.experimental.compose() is no longer experimental. Use hydra.compose()\n",
      "  deprecation_warning(\n"
     ]
    },
    {
     "name": "stdout",
     "output_type": "stream",
     "text": [
      "Filtered Data (309415, 170)\n",
      "/home/roko/spatial/data/raw/merfish_messi.hdf5\n"
     ]
    },
    {
     "name": "stderr",
     "output_type": "stream",
     "text": [
      "GPU available: True, used: True\n",
      "TPU available: False, using: 0 TPU cores\n",
      "IPU available: False, using: 0 IPUs\n",
      "LOCAL_RANK: 0 - CUDA_VISIBLE_DEVICES: [0,1,2,3,4,5,6,7]\n",
      "\n",
      "  | Name          | Type                    | Params\n",
      "----------------------------------------------------------\n",
      "0 | dense_network | DenseReluGMMConvNetwork | 1.5 M \n",
      "----------------------------------------------------------\n",
      "1.5 M     Trainable params\n",
      "0         Non-trainable params\n",
      "1.5 M     Total params\n",
      "6.060     Total estimated model params size (MB)\n",
      "/home/roko/.cache/pypoetry/virtualenvs/spatial-G_n0JvVf-py3.8/lib/python3.8/site-packages/pytorch_lightning/callbacks/model_checkpoint.py:631: UserWarning: Checkpoint directory /home/roko/spatial/output/lightning_logs/checkpoints/MonetDense exists and is not empty.\n",
      "  rank_zero_warn(f\"Checkpoint directory {dirpath} exists and is not empty.\")\n"
     ]
    },
    {
     "data": {
      "application/vnd.jupyter.widget-view+json": {
       "model_id": "",
       "version_major": 2,
       "version_minor": 0
      },
      "text/plain": [
       "Validation sanity check: 0it [00:00, ?it/s]"
      ]
     },
     "metadata": {},
     "output_type": "display_data"
    },
    {
     "name": "stderr",
     "output_type": "stream",
     "text": [
      "/home/roko/.cache/pypoetry/virtualenvs/spatial-G_n0JvVf-py3.8/lib/python3.8/site-packages/pytorch_lightning/trainer/data_loading.py:132: UserWarning: The dataloader, val_dataloader 0, does not have many workers which may be a bottleneck. Consider increasing the value of the `num_workers` argument` (try 64 which is the number of cpus on this machine) in the `DataLoader` init to improve performance.\n",
      "  rank_zero_warn(\n",
      "/home/roko/spatial/spatial/models/monet_ae.py:188: UserWarning: To copy construct from a tensor, it is recommended to use sourceTensor.clone().detach() or sourceTensor.clone().detach().requires_grad_(True), rather than torch.tensor(sourceTensor).\n",
      "  new_batch_obj.x *= torch.tensor(responses)\n",
      "/home/roko/.cache/pypoetry/virtualenvs/spatial-G_n0JvVf-py3.8/lib/python3.8/site-packages/pytorch_lightning/utilities/data.py:59: UserWarning: Trying to infer the `batch_size` from an ambiguous collection. The batch size we found is 4. To avoid any miscalculations, use `self.log(..., batch_size=batch_size)`.\n",
      "  warning_cache.warn(\n",
      "/home/roko/.cache/pypoetry/virtualenvs/spatial-G_n0JvVf-py3.8/lib/python3.8/site-packages/pytorch_lightning/trainer/data_loading.py:132: UserWarning: The dataloader, train_dataloader, does not have many workers which may be a bottleneck. Consider increasing the value of the `num_workers` argument` (try 64 which is the number of cpus on this machine) in the `DataLoader` init to improve performance.\n",
      "  rank_zero_warn(\n"
     ]
    },
    {
     "data": {
      "application/vnd.jupyter.widget-view+json": {
       "model_id": "519697035f1f47e2b1c50af27902cf7b",
       "version_major": 2,
       "version_minor": 0
      },
      "text/plain": [
       "Training: 0it [00:00, ?it/s]"
      ]
     },
     "metadata": {},
     "output_type": "display_data"
    },
    {
     "data": {
      "application/vnd.jupyter.widget-view+json": {
       "model_id": "",
       "version_major": 2,
       "version_minor": 0
      },
      "text/plain": [
       "Validating: 0it [00:00, ?it/s]"
      ]
     },
     "metadata": {},
     "output_type": "display_data"
    },
    {
     "name": "stderr",
     "output_type": "stream",
     "text": [
      "Epoch 9, global step 1759: val_loss reached 0.34360 (best 0.34360), saving model to \"/home/roko/spatial/output/lightning_logs/checkpoints/MonetDense/MonetDense__[128, 128]__None__4__table2_5CV-v3.ckpt\" as top True\n"
     ]
    },
    {
     "data": {
      "application/vnd.jupyter.widget-view+json": {
       "model_id": "",
       "version_major": 2,
       "version_minor": 0
      },
      "text/plain": [
       "Validating: 0it [00:00, ?it/s]"
      ]
     },
     "metadata": {},
     "output_type": "display_data"
    },
    {
     "name": "stderr",
     "output_type": "stream",
     "text": [
      "Epoch 19, global step 3519: val_loss reached 0.33585 (best 0.33585), saving model to \"/home/roko/spatial/output/lightning_logs/checkpoints/MonetDense/MonetDense__[128, 128]__None__4__table2_5CV-v3.ckpt\" as top True\n"
     ]
    },
    {
     "data": {
      "application/vnd.jupyter.widget-view+json": {
       "model_id": "",
       "version_major": 2,
       "version_minor": 0
      },
      "text/plain": [
       "Validating: 0it [00:00, ?it/s]"
      ]
     },
     "metadata": {},
     "output_type": "display_data"
    },
    {
     "name": "stderr",
     "output_type": "stream",
     "text": [
      "Epoch 29, global step 5279: val_loss reached 0.33334 (best 0.33334), saving model to \"/home/roko/spatial/output/lightning_logs/checkpoints/MonetDense/MonetDense__[128, 128]__None__4__table2_5CV-v3.ckpt\" as top True\n"
     ]
    },
    {
     "data": {
      "application/vnd.jupyter.widget-view+json": {
       "model_id": "",
       "version_major": 2,
       "version_minor": 0
      },
      "text/plain": [
       "Validating: 0it [00:00, ?it/s]"
      ]
     },
     "metadata": {},
     "output_type": "display_data"
    },
    {
     "name": "stderr",
     "output_type": "stream",
     "text": [
      "Epoch 39, global step 7039: val_loss reached 0.33214 (best 0.33214), saving model to \"/home/roko/spatial/output/lightning_logs/checkpoints/MonetDense/MonetDense__[128, 128]__None__4__table2_5CV-v3.ckpt\" as top True\n"
     ]
    },
    {
     "data": {
      "application/vnd.jupyter.widget-view+json": {
       "model_id": "",
       "version_major": 2,
       "version_minor": 0
      },
      "text/plain": [
       "Validating: 0it [00:00, ?it/s]"
      ]
     },
     "metadata": {},
     "output_type": "display_data"
    },
    {
     "name": "stderr",
     "output_type": "stream",
     "text": [
      "Epoch 49, global step 8799: val_loss reached 0.33143 (best 0.33143), saving model to \"/home/roko/spatial/output/lightning_logs/checkpoints/MonetDense/MonetDense__[128, 128]__None__4__table2_5CV-v3.ckpt\" as top True\n"
     ]
    },
    {
     "data": {
      "application/vnd.jupyter.widget-view+json": {
       "model_id": "",
       "version_major": 2,
       "version_minor": 0
      },
      "text/plain": [
       "Validating: 0it [00:00, ?it/s]"
      ]
     },
     "metadata": {},
     "output_type": "display_data"
    },
    {
     "name": "stderr",
     "output_type": "stream",
     "text": [
      "Epoch 59, global step 10559: val_loss reached 0.33098 (best 0.33098), saving model to \"/home/roko/spatial/output/lightning_logs/checkpoints/MonetDense/MonetDense__[128, 128]__None__4__table2_5CV-v3.ckpt\" as top True\n"
     ]
    },
    {
     "data": {
      "application/vnd.jupyter.widget-view+json": {
       "model_id": "",
       "version_major": 2,
       "version_minor": 0
      },
      "text/plain": [
       "Validating: 0it [00:00, ?it/s]"
      ]
     },
     "metadata": {},
     "output_type": "display_data"
    },
    {
     "name": "stderr",
     "output_type": "stream",
     "text": [
      "Epoch 69, global step 12319: val_loss reached 0.33037 (best 0.33037), saving model to \"/home/roko/spatial/output/lightning_logs/checkpoints/MonetDense/MonetDense__[128, 128]__None__4__table2_5CV-v3.ckpt\" as top True\n"
     ]
    },
    {
     "data": {
      "application/vnd.jupyter.widget-view+json": {
       "model_id": "",
       "version_major": 2,
       "version_minor": 0
      },
      "text/plain": [
       "Validating: 0it [00:00, ?it/s]"
      ]
     },
     "metadata": {},
     "output_type": "display_data"
    },
    {
     "name": "stderr",
     "output_type": "stream",
     "text": [
      "Epoch 79, global step 14079: val_loss reached 0.33004 (best 0.33004), saving model to \"/home/roko/spatial/output/lightning_logs/checkpoints/MonetDense/MonetDense__[128, 128]__None__4__table2_5CV-v3.ckpt\" as top True\n"
     ]
    },
    {
     "data": {
      "application/vnd.jupyter.widget-view+json": {
       "model_id": "",
       "version_major": 2,
       "version_minor": 0
      },
      "text/plain": [
       "Validating: 0it [00:00, ?it/s]"
      ]
     },
     "metadata": {},
     "output_type": "display_data"
    },
    {
     "name": "stderr",
     "output_type": "stream",
     "text": [
      "Epoch 89, global step 15839: val_loss reached 0.32970 (best 0.32970), saving model to \"/home/roko/spatial/output/lightning_logs/checkpoints/MonetDense/MonetDense__[128, 128]__None__4__table2_5CV-v3.ckpt\" as top True\n"
     ]
    },
    {
     "data": {
      "application/vnd.jupyter.widget-view+json": {
       "model_id": "",
       "version_major": 2,
       "version_minor": 0
      },
      "text/plain": [
       "Validating: 0it [00:00, ?it/s]"
      ]
     },
     "metadata": {},
     "output_type": "display_data"
    },
    {
     "name": "stderr",
     "output_type": "stream",
     "text": [
      "Epoch 99, global step 17599: val_loss reached 0.32965 (best 0.32965), saving model to \"/home/roko/spatial/output/lightning_logs/checkpoints/MonetDense/MonetDense__[128, 128]__None__4__table2_5CV-v3.ckpt\" as top True\n"
     ]
    },
    {
     "data": {
      "application/vnd.jupyter.widget-view+json": {
       "model_id": "",
       "version_major": 2,
       "version_minor": 0
      },
      "text/plain": [
       "Validating: 0it [00:00, ?it/s]"
      ]
     },
     "metadata": {},
     "output_type": "display_data"
    },
    {
     "name": "stderr",
     "output_type": "stream",
     "text": [
      "Epoch 109, global step 19359: val_loss reached 0.32910 (best 0.32910), saving model to \"/home/roko/spatial/output/lightning_logs/checkpoints/MonetDense/MonetDense__[128, 128]__None__4__table2_5CV-v3.ckpt\" as top True\n"
     ]
    },
    {
     "data": {
      "application/vnd.jupyter.widget-view+json": {
       "model_id": "",
       "version_major": 2,
       "version_minor": 0
      },
      "text/plain": [
       "Validating: 0it [00:00, ?it/s]"
      ]
     },
     "metadata": {},
     "output_type": "display_data"
    },
    {
     "name": "stderr",
     "output_type": "stream",
     "text": [
      "Epoch 119, global step 21119: val_loss reached 0.32892 (best 0.32892), saving model to \"/home/roko/spatial/output/lightning_logs/checkpoints/MonetDense/MonetDense__[128, 128]__None__4__table2_5CV-v3.ckpt\" as top True\n"
     ]
    },
    {
     "data": {
      "application/vnd.jupyter.widget-view+json": {
       "model_id": "",
       "version_major": 2,
       "version_minor": 0
      },
      "text/plain": [
       "Validating: 0it [00:00, ?it/s]"
      ]
     },
     "metadata": {},
     "output_type": "display_data"
    },
    {
     "name": "stderr",
     "output_type": "stream",
     "text": [
      "Epoch 129, global step 22879: val_loss reached 0.32876 (best 0.32876), saving model to \"/home/roko/spatial/output/lightning_logs/checkpoints/MonetDense/MonetDense__[128, 128]__None__4__table2_5CV-v3.ckpt\" as top True\n"
     ]
    },
    {
     "data": {
      "application/vnd.jupyter.widget-view+json": {
       "model_id": "",
       "version_major": 2,
       "version_minor": 0
      },
      "text/plain": [
       "Validating: 0it [00:00, ?it/s]"
      ]
     },
     "metadata": {},
     "output_type": "display_data"
    },
    {
     "name": "stderr",
     "output_type": "stream",
     "text": [
      "Epoch 139, global step 24639: val_loss reached 0.32863 (best 0.32863), saving model to \"/home/roko/spatial/output/lightning_logs/checkpoints/MonetDense/MonetDense__[128, 128]__None__4__table2_5CV-v3.ckpt\" as top True\n"
     ]
    },
    {
     "data": {
      "application/vnd.jupyter.widget-view+json": {
       "model_id": "",
       "version_major": 2,
       "version_minor": 0
      },
      "text/plain": [
       "Validating: 0it [00:00, ?it/s]"
      ]
     },
     "metadata": {},
     "output_type": "display_data"
    },
    {
     "name": "stderr",
     "output_type": "stream",
     "text": [
      "Epoch 149, global step 26399: val_loss reached 0.32853 (best 0.32853), saving model to \"/home/roko/spatial/output/lightning_logs/checkpoints/MonetDense/MonetDense__[128, 128]__None__4__table2_5CV-v3.ckpt\" as top True\n"
     ]
    },
    {
     "data": {
      "application/vnd.jupyter.widget-view+json": {
       "model_id": "",
       "version_major": 2,
       "version_minor": 0
      },
      "text/plain": [
       "Validating: 0it [00:00, ?it/s]"
      ]
     },
     "metadata": {},
     "output_type": "display_data"
    },
    {
     "name": "stderr",
     "output_type": "stream",
     "text": [
      "Epoch 159, global step 28159: val_loss reached 0.32839 (best 0.32839), saving model to \"/home/roko/spatial/output/lightning_logs/checkpoints/MonetDense/MonetDense__[128, 128]__None__4__table2_5CV-v3.ckpt\" as top True\n"
     ]
    },
    {
     "data": {
      "application/vnd.jupyter.widget-view+json": {
       "model_id": "",
       "version_major": 2,
       "version_minor": 0
      },
      "text/plain": [
       "Validating: 0it [00:00, ?it/s]"
      ]
     },
     "metadata": {},
     "output_type": "display_data"
    },
    {
     "name": "stderr",
     "output_type": "stream",
     "text": [
      "Epoch 169, global step 29919: val_loss reached 0.32830 (best 0.32830), saving model to \"/home/roko/spatial/output/lightning_logs/checkpoints/MonetDense/MonetDense__[128, 128]__None__4__table2_5CV-v3.ckpt\" as top True\n"
     ]
    },
    {
     "data": {
      "application/vnd.jupyter.widget-view+json": {
       "model_id": "",
       "version_major": 2,
       "version_minor": 0
      },
      "text/plain": [
       "Validating: 0it [00:00, ?it/s]"
      ]
     },
     "metadata": {},
     "output_type": "display_data"
    },
    {
     "name": "stderr",
     "output_type": "stream",
     "text": [
      "Epoch 179, global step 31679: val_loss reached 0.32827 (best 0.32827), saving model to \"/home/roko/spatial/output/lightning_logs/checkpoints/MonetDense/MonetDense__[128, 128]__None__4__table2_5CV-v3.ckpt\" as top True\n"
     ]
    },
    {
     "data": {
      "application/vnd.jupyter.widget-view+json": {
       "model_id": "",
       "version_major": 2,
       "version_minor": 0
      },
      "text/plain": [
       "Validating: 0it [00:00, ?it/s]"
      ]
     },
     "metadata": {},
     "output_type": "display_data"
    },
    {
     "name": "stderr",
     "output_type": "stream",
     "text": [
      "Epoch 189, global step 33439: val_loss reached 0.32813 (best 0.32813), saving model to \"/home/roko/spatial/output/lightning_logs/checkpoints/MonetDense/MonetDense__[128, 128]__None__4__table2_5CV-v3.ckpt\" as top True\n"
     ]
    },
    {
     "data": {
      "application/vnd.jupyter.widget-view+json": {
       "model_id": "",
       "version_major": 2,
       "version_minor": 0
      },
      "text/plain": [
       "Validating: 0it [00:00, ?it/s]"
      ]
     },
     "metadata": {},
     "output_type": "display_data"
    },
    {
     "name": "stderr",
     "output_type": "stream",
     "text": [
      "Epoch 199, global step 35199: val_loss reached 0.32788 (best 0.32788), saving model to \"/home/roko/spatial/output/lightning_logs/checkpoints/MonetDense/MonetDense__[128, 128]__None__4__table2_5CV-v3.ckpt\" as top True\n"
     ]
    },
    {
     "data": {
      "application/vnd.jupyter.widget-view+json": {
       "model_id": "",
       "version_major": 2,
       "version_minor": 0
      },
      "text/plain": [
       "Validating: 0it [00:00, ?it/s]"
      ]
     },
     "metadata": {},
     "output_type": "display_data"
    },
    {
     "name": "stderr",
     "output_type": "stream",
     "text": [
      "Epoch 209, global step 36959: val_loss reached 0.32773 (best 0.32773), saving model to \"/home/roko/spatial/output/lightning_logs/checkpoints/MonetDense/MonetDense__[128, 128]__None__4__table2_5CV-v3.ckpt\" as top True\n"
     ]
    },
    {
     "data": {
      "application/vnd.jupyter.widget-view+json": {
       "model_id": "",
       "version_major": 2,
       "version_minor": 0
      },
      "text/plain": [
       "Validating: 0it [00:00, ?it/s]"
      ]
     },
     "metadata": {},
     "output_type": "display_data"
    },
    {
     "name": "stderr",
     "output_type": "stream",
     "text": [
      "Epoch 219, global step 38719: val_loss reached 0.32749 (best 0.32749), saving model to \"/home/roko/spatial/output/lightning_logs/checkpoints/MonetDense/MonetDense__[128, 128]__None__4__table2_5CV-v3.ckpt\" as top True\n"
     ]
    },
    {
     "data": {
      "application/vnd.jupyter.widget-view+json": {
       "model_id": "",
       "version_major": 2,
       "version_minor": 0
      },
      "text/plain": [
       "Validating: 0it [00:00, ?it/s]"
      ]
     },
     "metadata": {},
     "output_type": "display_data"
    },
    {
     "name": "stderr",
     "output_type": "stream",
     "text": [
      "Epoch 229, global step 40479: val_loss reached 0.32719 (best 0.32719), saving model to \"/home/roko/spatial/output/lightning_logs/checkpoints/MonetDense/MonetDense__[128, 128]__None__4__table2_5CV-v3.ckpt\" as top True\n"
     ]
    },
    {
     "data": {
      "application/vnd.jupyter.widget-view+json": {
       "model_id": "",
       "version_major": 2,
       "version_minor": 0
      },
      "text/plain": [
       "Validating: 0it [00:00, ?it/s]"
      ]
     },
     "metadata": {},
     "output_type": "display_data"
    },
    {
     "name": "stderr",
     "output_type": "stream",
     "text": [
      "Epoch 239, global step 42239: val_loss reached 0.32699 (best 0.32699), saving model to \"/home/roko/spatial/output/lightning_logs/checkpoints/MonetDense/MonetDense__[128, 128]__None__4__table2_5CV-v3.ckpt\" as top True\n"
     ]
    },
    {
     "data": {
      "application/vnd.jupyter.widget-view+json": {
       "model_id": "",
       "version_major": 2,
       "version_minor": 0
      },
      "text/plain": [
       "Validating: 0it [00:00, ?it/s]"
      ]
     },
     "metadata": {},
     "output_type": "display_data"
    },
    {
     "name": "stderr",
     "output_type": "stream",
     "text": [
      "Epoch 249, global step 43999: val_loss was not in top True\n"
     ]
    },
    {
     "data": {
      "application/vnd.jupyter.widget-view+json": {
       "model_id": "",
       "version_major": 2,
       "version_minor": 0
      },
      "text/plain": [
       "Validating: 0it [00:00, ?it/s]"
      ]
     },
     "metadata": {},
     "output_type": "display_data"
    },
    {
     "name": "stderr",
     "output_type": "stream",
     "text": [
      "Epoch 259, global step 45759: val_loss reached 0.32676 (best 0.32676), saving model to \"/home/roko/spatial/output/lightning_logs/checkpoints/MonetDense/MonetDense__[128, 128]__None__4__table2_5CV-v3.ckpt\" as top True\n"
     ]
    },
    {
     "data": {
      "application/vnd.jupyter.widget-view+json": {
       "model_id": "",
       "version_major": 2,
       "version_minor": 0
      },
      "text/plain": [
       "Validating: 0it [00:00, ?it/s]"
      ]
     },
     "metadata": {},
     "output_type": "display_data"
    },
    {
     "name": "stderr",
     "output_type": "stream",
     "text": [
      "Epoch 269, global step 47519: val_loss reached 0.32660 (best 0.32660), saving model to \"/home/roko/spatial/output/lightning_logs/checkpoints/MonetDense/MonetDense__[128, 128]__None__4__table2_5CV-v3.ckpt\" as top True\n"
     ]
    },
    {
     "data": {
      "application/vnd.jupyter.widget-view+json": {
       "model_id": "",
       "version_major": 2,
       "version_minor": 0
      },
      "text/plain": [
       "Validating: 0it [00:00, ?it/s]"
      ]
     },
     "metadata": {},
     "output_type": "display_data"
    },
    {
     "name": "stderr",
     "output_type": "stream",
     "text": [
      "Epoch 279, global step 49279: val_loss reached 0.32643 (best 0.32643), saving model to \"/home/roko/spatial/output/lightning_logs/checkpoints/MonetDense/MonetDense__[128, 128]__None__4__table2_5CV-v3.ckpt\" as top True\n"
     ]
    },
    {
     "data": {
      "application/vnd.jupyter.widget-view+json": {
       "model_id": "",
       "version_major": 2,
       "version_minor": 0
      },
      "text/plain": [
       "Validating: 0it [00:00, ?it/s]"
      ]
     },
     "metadata": {},
     "output_type": "display_data"
    },
    {
     "name": "stderr",
     "output_type": "stream",
     "text": [
      "Epoch 289, global step 51039: val_loss reached 0.32629 (best 0.32629), saving model to \"/home/roko/spatial/output/lightning_logs/checkpoints/MonetDense/MonetDense__[128, 128]__None__4__table2_5CV-v3.ckpt\" as top True\n"
     ]
    },
    {
     "data": {
      "application/vnd.jupyter.widget-view+json": {
       "model_id": "",
       "version_major": 2,
       "version_minor": 0
      },
      "text/plain": [
       "Validating: 0it [00:00, ?it/s]"
      ]
     },
     "metadata": {},
     "output_type": "display_data"
    },
    {
     "name": "stderr",
     "output_type": "stream",
     "text": [
      "Epoch 299, global step 52799: val_loss reached 0.32619 (best 0.32619), saving model to \"/home/roko/spatial/output/lightning_logs/checkpoints/MonetDense/MonetDense__[128, 128]__None__4__table2_5CV-v3.ckpt\" as top True\n"
     ]
    },
    {
     "data": {
      "application/vnd.jupyter.widget-view+json": {
       "model_id": "",
       "version_major": 2,
       "version_minor": 0
      },
      "text/plain": [
       "Validating: 0it [00:00, ?it/s]"
      ]
     },
     "metadata": {},
     "output_type": "display_data"
    },
    {
     "name": "stderr",
     "output_type": "stream",
     "text": [
      "Epoch 309, global step 54559: val_loss reached 0.32616 (best 0.32616), saving model to \"/home/roko/spatial/output/lightning_logs/checkpoints/MonetDense/MonetDense__[128, 128]__None__4__table2_5CV-v3.ckpt\" as top True\n"
     ]
    },
    {
     "data": {
      "application/vnd.jupyter.widget-view+json": {
       "model_id": "",
       "version_major": 2,
       "version_minor": 0
      },
      "text/plain": [
       "Validating: 0it [00:00, ?it/s]"
      ]
     },
     "metadata": {},
     "output_type": "display_data"
    },
    {
     "name": "stderr",
     "output_type": "stream",
     "text": [
      "Epoch 319, global step 56319: val_loss reached 0.32609 (best 0.32609), saving model to \"/home/roko/spatial/output/lightning_logs/checkpoints/MonetDense/MonetDense__[128, 128]__None__4__table2_5CV-v3.ckpt\" as top True\n"
     ]
    },
    {
     "data": {
      "application/vnd.jupyter.widget-view+json": {
       "model_id": "",
       "version_major": 2,
       "version_minor": 0
      },
      "text/plain": [
       "Validating: 0it [00:00, ?it/s]"
      ]
     },
     "metadata": {},
     "output_type": "display_data"
    },
    {
     "name": "stderr",
     "output_type": "stream",
     "text": [
      "Epoch 329, global step 58079: val_loss was not in top True\n"
     ]
    },
    {
     "data": {
      "application/vnd.jupyter.widget-view+json": {
       "model_id": "",
       "version_major": 2,
       "version_minor": 0
      },
      "text/plain": [
       "Validating: 0it [00:00, ?it/s]"
      ]
     },
     "metadata": {},
     "output_type": "display_data"
    },
    {
     "name": "stderr",
     "output_type": "stream",
     "text": [
      "Epoch 339, global step 59839: val_loss reached 0.32604 (best 0.32604), saving model to \"/home/roko/spatial/output/lightning_logs/checkpoints/MonetDense/MonetDense__[128, 128]__None__4__table2_5CV-v3.ckpt\" as top True\n"
     ]
    },
    {
     "data": {
      "application/vnd.jupyter.widget-view+json": {
       "model_id": "",
       "version_major": 2,
       "version_minor": 0
      },
      "text/plain": [
       "Validating: 0it [00:00, ?it/s]"
      ]
     },
     "metadata": {},
     "output_type": "display_data"
    },
    {
     "name": "stderr",
     "output_type": "stream",
     "text": [
      "Epoch 349, global step 61599: val_loss reached 0.32600 (best 0.32600), saving model to \"/home/roko/spatial/output/lightning_logs/checkpoints/MonetDense/MonetDense__[128, 128]__None__4__table2_5CV-v3.ckpt\" as top True\n"
     ]
    },
    {
     "data": {
      "application/vnd.jupyter.widget-view+json": {
       "model_id": "",
       "version_major": 2,
       "version_minor": 0
      },
      "text/plain": [
       "Validating: 0it [00:00, ?it/s]"
      ]
     },
     "metadata": {},
     "output_type": "display_data"
    },
    {
     "name": "stderr",
     "output_type": "stream",
     "text": [
      "Epoch 359, global step 63359: val_loss was not in top True\n"
     ]
    },
    {
     "data": {
      "application/vnd.jupyter.widget-view+json": {
       "model_id": "",
       "version_major": 2,
       "version_minor": 0
      },
      "text/plain": [
       "Validating: 0it [00:00, ?it/s]"
      ]
     },
     "metadata": {},
     "output_type": "display_data"
    },
    {
     "name": "stderr",
     "output_type": "stream",
     "text": [
      "Epoch 369, global step 65119: val_loss reached 0.32592 (best 0.32592), saving model to \"/home/roko/spatial/output/lightning_logs/checkpoints/MonetDense/MonetDense__[128, 128]__None__4__table2_5CV-v3.ckpt\" as top True\n"
     ]
    },
    {
     "data": {
      "application/vnd.jupyter.widget-view+json": {
       "model_id": "",
       "version_major": 2,
       "version_minor": 0
      },
      "text/plain": [
       "Validating: 0it [00:00, ?it/s]"
      ]
     },
     "metadata": {},
     "output_type": "display_data"
    },
    {
     "name": "stderr",
     "output_type": "stream",
     "text": [
      "Epoch 379, global step 66879: val_loss reached 0.32588 (best 0.32588), saving model to \"/home/roko/spatial/output/lightning_logs/checkpoints/MonetDense/MonetDense__[128, 128]__None__4__table2_5CV-v3.ckpt\" as top True\n"
     ]
    },
    {
     "data": {
      "application/vnd.jupyter.widget-view+json": {
       "model_id": "",
       "version_major": 2,
       "version_minor": 0
      },
      "text/plain": [
       "Validating: 0it [00:00, ?it/s]"
      ]
     },
     "metadata": {},
     "output_type": "display_data"
    },
    {
     "name": "stderr",
     "output_type": "stream",
     "text": [
      "Epoch 389, global step 68639: val_loss reached 0.32586 (best 0.32586), saving model to \"/home/roko/spatial/output/lightning_logs/checkpoints/MonetDense/MonetDense__[128, 128]__None__4__table2_5CV-v3.ckpt\" as top True\n"
     ]
    },
    {
     "data": {
      "application/vnd.jupyter.widget-view+json": {
       "model_id": "",
       "version_major": 2,
       "version_minor": 0
      },
      "text/plain": [
       "Validating: 0it [00:00, ?it/s]"
      ]
     },
     "metadata": {},
     "output_type": "display_data"
    },
    {
     "name": "stderr",
     "output_type": "stream",
     "text": [
      "Epoch 399, global step 70399: val_loss was not in top True\n"
     ]
    },
    {
     "data": {
      "application/vnd.jupyter.widget-view+json": {
       "model_id": "",
       "version_major": 2,
       "version_minor": 0
      },
      "text/plain": [
       "Validating: 0it [00:00, ?it/s]"
      ]
     },
     "metadata": {},
     "output_type": "display_data"
    },
    {
     "name": "stderr",
     "output_type": "stream",
     "text": [
      "Epoch 409, global step 72159: val_loss reached 0.32583 (best 0.32583), saving model to \"/home/roko/spatial/output/lightning_logs/checkpoints/MonetDense/MonetDense__[128, 128]__None__4__table2_5CV-v3.ckpt\" as top True\n"
     ]
    },
    {
     "data": {
      "application/vnd.jupyter.widget-view+json": {
       "model_id": "",
       "version_major": 2,
       "version_minor": 0
      },
      "text/plain": [
       "Validating: 0it [00:00, ?it/s]"
      ]
     },
     "metadata": {},
     "output_type": "display_data"
    },
    {
     "name": "stderr",
     "output_type": "stream",
     "text": [
      "Epoch 419, global step 73919: val_loss reached 0.32580 (best 0.32580), saving model to \"/home/roko/spatial/output/lightning_logs/checkpoints/MonetDense/MonetDense__[128, 128]__None__4__table2_5CV-v3.ckpt\" as top True\n"
     ]
    },
    {
     "data": {
      "application/vnd.jupyter.widget-view+json": {
       "model_id": "",
       "version_major": 2,
       "version_minor": 0
      },
      "text/plain": [
       "Validating: 0it [00:00, ?it/s]"
      ]
     },
     "metadata": {},
     "output_type": "display_data"
    },
    {
     "name": "stderr",
     "output_type": "stream",
     "text": [
      "Epoch 429, global step 75679: val_loss was not in top True\n"
     ]
    },
    {
     "data": {
      "application/vnd.jupyter.widget-view+json": {
       "model_id": "",
       "version_major": 2,
       "version_minor": 0
      },
      "text/plain": [
       "Validating: 0it [00:00, ?it/s]"
      ]
     },
     "metadata": {},
     "output_type": "display_data"
    },
    {
     "name": "stderr",
     "output_type": "stream",
     "text": [
      "Epoch 439, global step 77439: val_loss was not in top True\n"
     ]
    },
    {
     "data": {
      "application/vnd.jupyter.widget-view+json": {
       "model_id": "",
       "version_major": 2,
       "version_minor": 0
      },
      "text/plain": [
       "Validating: 0it [00:00, ?it/s]"
      ]
     },
     "metadata": {},
     "output_type": "display_data"
    },
    {
     "name": "stderr",
     "output_type": "stream",
     "text": [
      "Epoch 449, global step 79199: val_loss was not in top True\n"
     ]
    },
    {
     "data": {
      "application/vnd.jupyter.widget-view+json": {
       "model_id": "",
       "version_major": 2,
       "version_minor": 0
      },
      "text/plain": [
       "Validating: 0it [00:00, ?it/s]"
      ]
     },
     "metadata": {},
     "output_type": "display_data"
    },
    {
     "name": "stderr",
     "output_type": "stream",
     "text": [
      "Epoch 459, global step 80959: val_loss was not in top True\n"
     ]
    },
    {
     "data": {
      "application/vnd.jupyter.widget-view+json": {
       "model_id": "",
       "version_major": 2,
       "version_minor": 0
      },
      "text/plain": [
       "Validating: 0it [00:00, ?it/s]"
      ]
     },
     "metadata": {},
     "output_type": "display_data"
    },
    {
     "name": "stderr",
     "output_type": "stream",
     "text": [
      "Epoch 469, global step 82719: val_loss reached 0.32574 (best 0.32574), saving model to \"/home/roko/spatial/output/lightning_logs/checkpoints/MonetDense/MonetDense__[128, 128]__None__4__table2_5CV-v3.ckpt\" as top True\n"
     ]
    },
    {
     "data": {
      "application/vnd.jupyter.widget-view+json": {
       "model_id": "",
       "version_major": 2,
       "version_minor": 0
      },
      "text/plain": [
       "Validating: 0it [00:00, ?it/s]"
      ]
     },
     "metadata": {},
     "output_type": "display_data"
    },
    {
     "name": "stderr",
     "output_type": "stream",
     "text": [
      "Epoch 479, global step 84479: val_loss was not in top True\n"
     ]
    },
    {
     "data": {
      "application/vnd.jupyter.widget-view+json": {
       "model_id": "",
       "version_major": 2,
       "version_minor": 0
      },
      "text/plain": [
       "Validating: 0it [00:00, ?it/s]"
      ]
     },
     "metadata": {},
     "output_type": "display_data"
    },
    {
     "name": "stderr",
     "output_type": "stream",
     "text": [
      "Epoch 489, global step 86239: val_loss reached 0.32571 (best 0.32571), saving model to \"/home/roko/spatial/output/lightning_logs/checkpoints/MonetDense/MonetDense__[128, 128]__None__4__table2_5CV-v3.ckpt\" as top True\n"
     ]
    },
    {
     "data": {
      "application/vnd.jupyter.widget-view+json": {
       "model_id": "",
       "version_major": 2,
       "version_minor": 0
      },
      "text/plain": [
       "Validating: 0it [00:00, ?it/s]"
      ]
     },
     "metadata": {},
     "output_type": "display_data"
    },
    {
     "name": "stderr",
     "output_type": "stream",
     "text": [
      "Epoch 499, global step 87999: val_loss was not in top True\n"
     ]
    },
    {
     "data": {
      "application/vnd.jupyter.widget-view+json": {
       "model_id": "",
       "version_major": 2,
       "version_minor": 0
      },
      "text/plain": [
       "Validating: 0it [00:00, ?it/s]"
      ]
     },
     "metadata": {},
     "output_type": "display_data"
    },
    {
     "name": "stderr",
     "output_type": "stream",
     "text": [
      "Epoch 509, global step 89759: val_loss was not in top True\n"
     ]
    },
    {
     "data": {
      "application/vnd.jupyter.widget-view+json": {
       "model_id": "",
       "version_major": 2,
       "version_minor": 0
      },
      "text/plain": [
       "Validating: 0it [00:00, ?it/s]"
      ]
     },
     "metadata": {},
     "output_type": "display_data"
    },
    {
     "name": "stderr",
     "output_type": "stream",
     "text": [
      "Epoch 519, global step 91519: val_loss was not in top True\n"
     ]
    },
    {
     "data": {
      "application/vnd.jupyter.widget-view+json": {
       "model_id": "",
       "version_major": 2,
       "version_minor": 0
      },
      "text/plain": [
       "Validating: 0it [00:00, ?it/s]"
      ]
     },
     "metadata": {},
     "output_type": "display_data"
    },
    {
     "name": "stderr",
     "output_type": "stream",
     "text": [
      "Epoch 529, global step 93279: val_loss was not in top True\n"
     ]
    },
    {
     "data": {
      "application/vnd.jupyter.widget-view+json": {
       "model_id": "",
       "version_major": 2,
       "version_minor": 0
      },
      "text/plain": [
       "Validating: 0it [00:00, ?it/s]"
      ]
     },
     "metadata": {},
     "output_type": "display_data"
    },
    {
     "name": "stderr",
     "output_type": "stream",
     "text": [
      "Epoch 539, global step 95039: val_loss was not in top True\n"
     ]
    },
    {
     "data": {
      "application/vnd.jupyter.widget-view+json": {
       "model_id": "",
       "version_major": 2,
       "version_minor": 0
      },
      "text/plain": [
       "Validating: 0it [00:00, ?it/s]"
      ]
     },
     "metadata": {},
     "output_type": "display_data"
    },
    {
     "name": "stderr",
     "output_type": "stream",
     "text": [
      "Epoch 549, global step 96799: val_loss reached 0.32570 (best 0.32570), saving model to \"/home/roko/spatial/output/lightning_logs/checkpoints/MonetDense/MonetDense__[128, 128]__None__4__table2_5CV-v3.ckpt\" as top True\n"
     ]
    },
    {
     "data": {
      "application/vnd.jupyter.widget-view+json": {
       "model_id": "",
       "version_major": 2,
       "version_minor": 0
      },
      "text/plain": [
       "Validating: 0it [00:00, ?it/s]"
      ]
     },
     "metadata": {},
     "output_type": "display_data"
    },
    {
     "name": "stderr",
     "output_type": "stream",
     "text": [
      "Epoch 559, global step 98559: val_loss reached 0.32551 (best 0.32551), saving model to \"/home/roko/spatial/output/lightning_logs/checkpoints/MonetDense/MonetDense__[128, 128]__None__4__table2_5CV-v3.ckpt\" as top True\n"
     ]
    },
    {
     "data": {
      "application/vnd.jupyter.widget-view+json": {
       "model_id": "",
       "version_major": 2,
       "version_minor": 0
      },
      "text/plain": [
       "Validating: 0it [00:00, ?it/s]"
      ]
     },
     "metadata": {},
     "output_type": "display_data"
    },
    {
     "name": "stderr",
     "output_type": "stream",
     "text": [
      "Epoch 569, global step 100319: val_loss was not in top True\n"
     ]
    },
    {
     "data": {
      "application/vnd.jupyter.widget-view+json": {
       "model_id": "",
       "version_major": 2,
       "version_minor": 0
      },
      "text/plain": [
       "Validating: 0it [00:00, ?it/s]"
      ]
     },
     "metadata": {},
     "output_type": "display_data"
    },
    {
     "name": "stderr",
     "output_type": "stream",
     "text": [
      "Epoch 579, global step 102079: val_loss reached 0.32542 (best 0.32542), saving model to \"/home/roko/spatial/output/lightning_logs/checkpoints/MonetDense/MonetDense__[128, 128]__None__4__table2_5CV-v3.ckpt\" as top True\n"
     ]
    },
    {
     "data": {
      "application/vnd.jupyter.widget-view+json": {
       "model_id": "",
       "version_major": 2,
       "version_minor": 0
      },
      "text/plain": [
       "Validating: 0it [00:00, ?it/s]"
      ]
     },
     "metadata": {},
     "output_type": "display_data"
    },
    {
     "name": "stderr",
     "output_type": "stream",
     "text": [
      "Epoch 589, global step 103839: val_loss reached 0.32538 (best 0.32538), saving model to \"/home/roko/spatial/output/lightning_logs/checkpoints/MonetDense/MonetDense__[128, 128]__None__4__table2_5CV-v3.ckpt\" as top True\n"
     ]
    },
    {
     "data": {
      "application/vnd.jupyter.widget-view+json": {
       "model_id": "",
       "version_major": 2,
       "version_minor": 0
      },
      "text/plain": [
       "Validating: 0it [00:00, ?it/s]"
      ]
     },
     "metadata": {},
     "output_type": "display_data"
    },
    {
     "name": "stderr",
     "output_type": "stream",
     "text": [
      "Epoch 599, global step 105599: val_loss was not in top True\n",
      "FIT Profiler Report\n",
      "\n",
      "Action                             \t|  Mean duration (s)\t|Num calls      \t|  Total time (s) \t|  Percentage %   \t|\n",
      "--------------------------------------------------------------------------------------------------------------------------------------\n",
      "Total                              \t|  -              \t|_              \t|  4802.6         \t|  100 %          \t|\n",
      "--------------------------------------------------------------------------------------------------------------------------------------\n",
      "run_training_epoch                 \t|  7.9968         \t|600            \t|  4798.1         \t|  99.906         \t|\n",
      "run_training_batch                 \t|  0.032937       \t|105600         \t|  3478.2         \t|  72.423         \t|\n",
      "optimizer_step_with_closure_0      \t|  0.032074       \t|105600         \t|  3387.0         \t|  70.526         \t|\n",
      "training_step_and_backward         \t|  0.030173       \t|105600         \t|  3186.2         \t|  66.344         \t|\n",
      "model_forward                      \t|  0.024509       \t|105600         \t|  2588.2         \t|  53.892         \t|\n",
      "training_step                      \t|  0.024368       \t|105600         \t|  2573.3         \t|  53.581         \t|\n",
      "get_train_batch                    \t|  0.0067996      \t|106200         \t|  722.11         \t|  15.036         \t|\n",
      "fetch_next_train_batch             \t|  0.0067797      \t|106200         \t|  720.0          \t|  14.992         \t|\n",
      "backward                           \t|  0.0053438      \t|105600         \t|  564.3          \t|  11.75          \t|\n",
      "on_train_batch_end                 \t|  0.0017047      \t|105600         \t|  180.01         \t|  3.7483         \t|\n",
      "training_batch_to_device           \t|  0.0012136      \t|105600         \t|  128.15         \t|  2.6684         \t|\n",
      "zero_grad                          \t|  0.00029805     \t|105600         \t|  31.474         \t|  0.65536        \t|\n",
      "evaluation_step_and_end            \t|  0.025158       \t|962            \t|  24.202         \t|  0.50394        \t|\n",
      "validation_step                    \t|  0.025099       \t|962            \t|  24.146         \t|  0.50276        \t|\n",
      "get_validate_batch                 \t|  0.015312       \t|1020           \t|  15.618         \t|  0.32521        \t|\n",
      "fetch_next_validate_batch          \t|  0.015288       \t|1020           \t|  15.594         \t|  0.3247         \t|\n",
      "on_train_batch_start               \t|  0.00014445     \t|105600         \t|  15.254         \t|  0.31761        \t|\n",
      "on_validation_end                  \t|  0.046258       \t|61             \t|  2.8218         \t|  0.058755       \t|\n",
      "on_batch_start                     \t|  2.2103e-05     \t|105600         \t|  2.3341         \t|  0.048602       \t|\n",
      "on_batch_end                       \t|  1.4155e-05     \t|105600         \t|  1.4947         \t|  0.031124       \t|\n",
      "on_validation_start                \t|  0.021991       \t|61             \t|  1.3414         \t|  0.027932       \t|\n",
      "on_before_zero_grad                \t|  1.2422e-05     \t|105600         \t|  1.3117         \t|  0.027313       \t|\n",
      "evaluation_batch_to_device         \t|  0.0013482      \t|962            \t|  1.2969         \t|  0.027005       \t|\n",
      "on_after_backward                  \t|  1.0905e-05     \t|105600         \t|  1.1516         \t|  0.023978       \t|\n",
      "on_before_backward                 \t|  9.4561e-06     \t|105600         \t|  0.99857        \t|  0.020792       \t|\n",
      "on_train_epoch_start               \t|  0.0016415      \t|600            \t|  0.98487        \t|  0.020507       \t|\n",
      "on_before_optimizer_step           \t|  9.241e-06      \t|105600         \t|  0.97585        \t|  0.020319       \t|\n",
      "on_validation_batch_end            \t|  0.00077351     \t|962            \t|  0.74411        \t|  0.015494       \t|\n",
      "training_step_end                  \t|  5.5318e-06     \t|105600         \t|  0.58416        \t|  0.012163       \t|\n",
      "on_train_epoch_end                 \t|  0.00059708     \t|600            \t|  0.35825        \t|  0.0074595      \t|\n",
      "get_sanity_check_batch             \t|  0.035408       \t|3              \t|  0.10622        \t|  0.0022118      \t|\n",
      "fetch_next_sanity_check_batch      \t|  0.035374       \t|3              \t|  0.10612        \t|  0.0022097      \t|\n",
      "on_train_start                     \t|  0.028975       \t|1              \t|  0.028975       \t|  0.00060332     \t|\n",
      "on_sanity_check_start              \t|  0.023862       \t|1              \t|  0.023862       \t|  0.00049686     \t|\n",
      "on_validation_batch_start          \t|  1.7295e-05     \t|962            \t|  0.016638       \t|  0.00034644     \t|\n",
      "on_epoch_start                     \t|  1.2342e-05     \t|661            \t|  0.0081578      \t|  0.00016986     \t|\n",
      "on_epoch_end                       \t|  1.1102e-05     \t|661            \t|  0.0073382      \t|  0.0001528      \t|\n",
      "validation_step_end                \t|  7.1769e-06     \t|962            \t|  0.0069042      \t|  0.00014376     \t|\n",
      "on_pretrain_routine_start          \t|  0.0067499      \t|1              \t|  0.0067499      \t|  0.00014055     \t|\n",
      "on_validation_model_eval           \t|  9.0822e-05     \t|61             \t|  0.0055402      \t|  0.00011536     \t|\n",
      "on_validation_epoch_end            \t|  2.1757e-05     \t|61             \t|  0.0013272      \t|  2.7635e-05     \t|\n",
      "on_validation_epoch_start          \t|  1.2197e-05     \t|61             \t|  0.00074402     \t|  1.5492e-05     \t|\n",
      "configure_optimizers               \t|  0.00054061     \t|1              \t|  0.00054061     \t|  1.1257e-05     \t|\n",
      "on_train_end                       \t|  0.00039403     \t|1              \t|  0.00039403     \t|  8.2046e-06     \t|\n",
      "on_fit_start                       \t|  0.00020812     \t|1              \t|  0.00020812     \t|  4.3335e-06     \t|\n",
      "on_fit_end                         \t|  4.9796e-05     \t|1              \t|  4.9796e-05     \t|  1.0369e-06     \t|\n",
      "setup                              \t|  4.944e-05      \t|1              \t|  4.944e-05      \t|  1.0295e-06     \t|\n",
      "on_configure_sharded_model         \t|  4.6913e-05     \t|1              \t|  4.6913e-05     \t|  9.7682e-07     \t|\n",
      "teardown                           \t|  3.2816e-05     \t|1              \t|  3.2816e-05     \t|  6.833e-07      \t|\n",
      "on_sanity_check_end                \t|  2.8335e-05     \t|1              \t|  2.8335e-05     \t|  5.8999e-07     \t|\n",
      "on_pretrain_routine_end            \t|  1.6076e-05     \t|1              \t|  1.6076e-05     \t|  3.3475e-07     \t|\n",
      "configure_sharded_model            \t|  1.586e-05      \t|1              \t|  1.586e-05      \t|  3.3025e-07     \t|\n",
      "on_val_dataloader                  \t|  1.5756e-05     \t|1              \t|  1.5756e-05     \t|  3.2808e-07     \t|\n",
      "on_before_accelerator_backend_setup\t|  1.5533e-05     \t|1              \t|  1.5533e-05     \t|  3.2342e-07     \t|\n",
      "configure_callbacks                \t|  1.1148e-05     \t|1              \t|  1.1148e-05     \t|  2.3212e-07     \t|\n",
      "on_train_dataloader                \t|  5.6215e-06     \t|1              \t|  5.6215e-06     \t|  1.1705e-07     \t|\n",
      "prepare_data                       \t|  5.2452e-06     \t|1              \t|  5.2452e-06     \t|  1.0922e-07     \t|\n",
      "\n"
     ]
    },
    {
     "data": {
      "text/plain": [
       "4857.994031190872"
      ]
     },
     "execution_count": 4,
     "metadata": {},
     "output_type": "execute_result"
    }
   ],
   "source": [
    "loss_dict = {}\n",
    "time_dict = {}\n",
    "loss_excitatory_dict = {}\n",
    "loss_inhibitory_dict = {}\n",
    "\n",
    "start = time.time()\n",
    "with initialize(config_path=\"../config\"):\n",
    "    overrides_train = {\n",
    "        \"datasets\": \"FilteredMerfishDataset\",\n",
    "        \"gpus\": \"[4]\"\n",
    "    }\n",
    "    overrides_train_list = [f\"{k}={v}\" for k, v in overrides_train.items()]\n",
    "    cfg_from_terminal = compose(config_name=\"config\", overrides=overrides_train_list)\n",
    "    # update the behavior to get the model of interest\n",
    "    OmegaConf.update(cfg_from_terminal, \"datasets.dataset.animals\", [1,2,3,4,5,7])\n",
    "    OmegaConf.update(cfg_from_terminal, \"datasets.dataset.test_animal\", 4)\n",
    "    model = train(cfg_from_terminal)\n",
    "end = time.time()\n",
    "end-start"
   ]
  },
  {
   "cell_type": "markdown",
   "id": "d9a5f7b2",
   "metadata": {},
   "source": [
    "## Graph Organized by Animal ID Verification"
   ]
  },
  {
   "cell_type": "markdown",
   "id": "043c8b02",
   "metadata": {},
   "source": [
    "In order for a specific animal to be held out for testing, we need to understand how exactly the slices get stored before graph construction. We can accomplish this by putting a break point in unique_slices, and observing what happens and assuring it's not random. We have tried fixing unique slices, BUT CONFIRMATION IS NEEDED."
   ]
  },
  {
   "cell_type": "code",
   "execution_count": 2,
   "id": "279b72a8",
   "metadata": {},
   "outputs": [
    {
     "name": "stdout",
     "output_type": "stream",
     "text": [
      "Filtered Data (309415, 170)\n",
      "../data/raw/merfish_messi.hdf5\n"
     ]
    },
    {
     "data": {
      "text/plain": [
       "FilteredMerfishDataset(48)"
      ]
     },
     "execution_count": 2,
     "metadata": {},
     "output_type": "execute_result"
    }
   ],
   "source": [
    "FilteredMerfishDataset('../data', animals=[1,2,3,4,5,7], test_animal=4)"
   ]
  },
  {
   "cell_type": "code",
   "execution_count": 3,
   "id": "dc5f9810",
   "metadata": {},
   "outputs": [
    {
     "name": "stdout",
     "output_type": "stream",
     "text": [
      "Filtered Data (241557, 170)\n",
      "../data/raw/merfish_messi.hdf5\n"
     ]
    },
    {
     "data": {
      "text/plain": [
       "FilteredMerfishDataset(36)"
      ]
     },
     "execution_count": 3,
     "metadata": {},
     "output_type": "execute_result"
    }
   ],
   "source": [
    "FilteredMerfishDataset('../data', animals=[1,2,4,7], test_animal=4)"
   ]
  },
  {
   "cell_type": "code",
   "execution_count": 4,
   "id": "8eac3079",
   "metadata": {},
   "outputs": [
    {
     "name": "stdout",
     "output_type": "stream",
     "text": [
      "Filtered Data (171059, 170)\n",
      "../data/raw/merfish_messi.hdf5\n"
     ]
    },
    {
     "data": {
      "text/plain": [
       "FilteredMerfishDataset(24)"
      ]
     },
     "execution_count": 4,
     "metadata": {},
     "output_type": "execute_result"
    }
   ],
   "source": [
    "FilteredMerfishDataset('../data', animals=[1,2,4], test_animal=4)"
   ]
  },
  {
   "cell_type": "code",
   "execution_count": null,
   "id": "804c3e89",
   "metadata": {},
   "outputs": [],
   "source": []
  }
 ],
 "metadata": {
  "kernelspec": {
   "display_name": "Python 3 (ipykernel)",
   "language": "python",
   "name": "python3"
  },
  "language_info": {
   "codemirror_mode": {
    "name": "ipython",
    "version": 3
   },
   "file_extension": ".py",
   "mimetype": "text/x-python",
   "name": "python",
   "nbconvert_exporter": "python",
   "pygments_lexer": "ipython3",
   "version": "3.8.10"
  }
 },
 "nbformat": 4,
 "nbformat_minor": 5
}
